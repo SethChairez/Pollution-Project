{
 "cells": [
  {
   "cell_type": "code",
   "execution_count": 2,
   "id": "9891ebf4-5ea2-4145-a864-db62e3e5c0c3",
   "metadata": {},
   "outputs": [],
   "source": [
    "import numpy as np\n",
    "import pandas as pd\n",
    "\n",
    "import matplotlib.pyplot as plt\n",
    "import plotly.express as px\n",
    "from plotly.subplots import make_subplots\n",
    "import plotly.io as pio\n",
    "pio.renderers.defaule = 'colab'\n",
    "\n",
    "from itables import show"
   ]
  },
  {
   "cell_type": "markdown",
   "id": "a6f1820c-abb5-4fcc-bec4-933978054171",
   "metadata": {},
   "source": [
    "---"
   ]
  },
  {
   "cell_type": "markdown",
   "id": "5ac2e0bf-20d6-424f-98ea-1af320a52f39",
   "metadata": {},
   "source": [
    "# Algal Blooms in Alaska\n",
    "\n",
    "#### By: Seth Chairez and Sophia Magcale"
   ]
  },
  {
   "cell_type": "markdown",
   "id": "a8eb2f09-3528-48ef-8599-ac8e139417fc",
   "metadata": {},
   "source": [
    "------"
   ]
  },
  {
   "cell_type": "markdown",
   "id": "fc21b97e-8e75-46db-9acf-1d169908a820",
   "metadata": {},
   "source": [
    "## Abstract\n",
    "\n",
    "Our project explores algal blooms and its potential dangers. We specifically focus on the algae Alexandrium Catenella in the oceans surrounding northern Alaska. We first analyze the concentrations of the algae, in their cyst and cell forms, and how factors like temperature and salinity may affect these numbers. We then take these findings and consider how it may affect the food web/chain, considering how the algae may accumulate in sea life which is then consumed as seafood."
   ]
  },
  {
   "cell_type": "markdown",
   "id": "867918b4-a248-472e-902a-8c5c21f0dfe0",
   "metadata": {},
   "source": [
    "---"
   ]
  },
  {
   "cell_type": "markdown",
   "id": "5d3e4dfb-d62f-473e-99d9-89f9f7694c0c",
   "metadata": {},
   "source": [
    "## Introduction and Background\n",
    "\n",
    "In our initial proposal, we were aiming to study the concentrations of different man-made chemicals in various areas of the ocean surrounding the United States, and how these could possible contribute to the health of marine life and the nearby human population. After doing some exploratory analysis in our initial dataset, we found that the three chemicals/compounds that researchers took the most samples of were organic carbon, pentachlorobuphenyl, and phosphated pesticides.\n",
    "\n",
    "We did some further research in how each of these three substances can affect human/marine life and we were mostly interested in the effects of phosphated pesticides. Algae feeds off of phosphorus, so when phosphorus enters the marine ecosystem then the algae population increases rapidly. Phosphorus is commonly used in pesticides, and \"phosphated pesticides\" tend to enter the ocean through runoff pollution. This leads into what is known as an algal bloom. \n",
    "\n",
    "We found a dataset that contained information specifically about the algae called Alexandrium Catenella, but it did not have any data pertaining to phosphated pesticides or any other chemicals. We were still very interested in the topic of algal blooms, so our questions shifted to reflect this new dataset. We now wanted to explore if there was a certain set of environmental conditions that allowed Alexandrium Catenella to thrive, if there are certain areas that seem to be at risk for an algal bloom, and how this could potentially affect marine and human life. \n",
    "\n",
    "We found two datasets, one with samples that collected Alexandrium cells and one with samples that collected Alexandrium cysts. To understand the difference between the two, it is important to have a sense of the life cycle of Alexandrium Catenella. The algae begins as a cyst that can remain in a dormant stage for a long period of time, meaning that it can survive despite unfavorable environmental conditions or starvation. Once environmental conditions are good, the cyst becomes an \"active cell\" that can asexually reproduce by repeatedly splitting in half. If conditions become unfavorable again, the cells fuse to become dormant cysts.\n",
    "\n",
    "Alexandrium Catenella produces the compound saxitoxin, or STX for short. STXs are known for bioaccumulating in fish and shellfish, meaning that its concentration within these organisms builds up over a period of time. This is because the compound metabolizes/breaks down slower than it accumulates. Although STXs may not immediately kill the fish/shellfish that they accumulate in, they can cause serious harm to humans who consume seafood. Specifically, STXs are known to cause PSP, short for Paralytic Shellfish Poisoning. Symptoms can develop within minutes or it can take up to a few hours. Symptoms include tingling in the fingers and toes, fever, abdominal pain, nausea, vomitting, and numbness/paralysis of the limbs. Muscles in the chest and abdomen may also be paralyzed which can cause death because of inability to breathe. \n",
    "\n",
    "To draw connections between these algal blooms and its impact on humans, we found a third dataset with information about seafood sales in Alaska. Alaska is known for being a big source of seafood so it is worth knowing how much seafood it produces and sells, but also specifically what kind of seafood it produces and sells. We are most interested in shellfish, but STXs can accumulate in other fish as well which increases the risk of PSP."
   ]
  },
  {
   "cell_type": "markdown",
   "id": "8001b13d-3d1a-4e84-83c1-0895662585d3",
   "metadata": {},
   "source": [
    "---"
   ]
  },
  {
   "cell_type": "markdown",
   "id": "bfdd59e1-2523-4f0f-91e2-ea966afe88b6",
   "metadata": {},
   "source": [
    "## Data Used\n",
    "\n",
    "Our Alexandrium Catenella datasets were taken from the Arctic Data Center on: \n",
    "\n",
    "https://arcticdata.io/catalog/view/doi:10.18739/A2RF5KG8J\n",
    "\n",
    "https://arcticdata.io/catalog/view/doi%3A10.18739%2FA2N87313M\n",
    "\n",
    "\n",
    "The data was collected and organized by The Woods Hole Oceanographic Institution, Northwest Fisheries Science Center, Chesapeake Biological Laboratory, and Hokkaido University, and published by the NSF Arctic Data Center. Samples were collected in the Northern Bering Sea, Chukchi Shelf, and Beaufort Shelf, the ocean surrounding the northwestern coast of Alaska. Cruises would sail out to a variety of sites across these oceans, which allowed a wider range of the ocean to be covered. For the cells, researchers would collect 2-liter samples. For the cysts, researchers would collect sediment samples. These samples were processed in a laboratory and analyzed for cell/cyst abundance.\n",
    "\n",
    "\n",
    "\n",
    "The Commercial Fishery Seafood Products dataset was taken from the Alaska Commercial Operator's Annual Reports on:\n",
    "\n",
    "https://knb.ecoinformatics.org/view/doi%3A10.5063%2FF1T43RB0#urn%3Auuid%3A24f17557-ec07-466b-9003-1977d27f819d\n",
    "\n",
    "The dataset was created by the Alasks Department of Fish and Game, Commercial Fisheries Entry Commission. The data covers the entire state of Alaska. An annual report is required to be filed, which includes purchasing and processing activities. The report is filed by the first buyer of raw fish, the people who catch and process the fish, the people who get the fish caught and processed by another business, and the first exporter of a fishery resource. "
   ]
  },
  {
   "cell_type": "markdown",
   "id": "fcec599e-70d0-4be0-8bee-c0e4c489b587",
   "metadata": {},
   "source": [
    "### Cell Dataset"
   ]
  },
  {
   "cell_type": "code",
   "execution_count": 12,
   "id": "308716ce-bd34-42be-ade7-04124e11de94",
   "metadata": {},
   "outputs": [],
   "source": [
    "# Cell dataset"
   ]
  },
  {
   "cell_type": "code",
   "execution_count": 13,
   "id": "4ff1d335-2ce1-4643-b59d-e07487f77726",
   "metadata": {},
   "outputs": [],
   "source": [
    "# cell.shape for number of observations and variables"
   ]
  },
  {
   "cell_type": "code",
   "execution_count": 14,
   "id": "288533ce-a007-4f34-8f39-c7a87794cb97",
   "metadata": {},
   "outputs": [],
   "source": [
    "# cell.keys for variable names\n",
    "# description for each variable"
   ]
  },
  {
   "cell_type": "code",
   "execution_count": 15,
   "id": "1cca8ade-5394-4694-a60f-943a17d3c17d",
   "metadata": {},
   "outputs": [],
   "source": [
    "# cell dataset with columns that matter"
   ]
  },
  {
   "cell_type": "code",
   "execution_count": 16,
   "id": "17f30217-3919-4543-ae4c-5ab6a9e7fcd0",
   "metadata": {},
   "outputs": [],
   "source": [
    "# cell.describe for statistics"
   ]
  },
  {
   "cell_type": "code",
   "execution_count": 17,
   "id": "2fcbb2e0-faee-405e-bc5e-6f03d1f8b026",
   "metadata": {},
   "outputs": [],
   "source": [
    "# any other descriptive analysis for the cell dataset"
   ]
  },
  {
   "cell_type": "code",
   "execution_count": 24,
   "id": "96bace37-6845-40ee-97cc-eb6c1b672a9c",
   "metadata": {},
   "outputs": [
    {
     "ename": "FileNotFoundError",
     "evalue": "[Errno 2] No such file or directory: 'cysts.csv'",
     "output_type": "error",
     "traceback": [
      "\u001b[0;31m---------------------------------------------------------------------------\u001b[0m",
      "\u001b[0;31mFileNotFoundError\u001b[0m                         Traceback (most recent call last)",
      "Cell \u001b[0;32mIn[24], line 2\u001b[0m\n\u001b[1;32m      1\u001b[0m \u001b[38;5;66;03m# This is the dataset specifically for the Alexandrium cysts.\u001b[39;00m\n\u001b[0;32m----> 2\u001b[0m DFcystsraw \u001b[38;5;241m=\u001b[39m pd\u001b[38;5;241m.\u001b[39mread_csv(\u001b[38;5;124m'\u001b[39m\u001b[38;5;124mcysts.csv\u001b[39m\u001b[38;5;124m'\u001b[39m)\n\u001b[1;32m      3\u001b[0m show(DFcystsraw)\n",
      "File \u001b[0;32m~/anaconda3/lib/python3.12/site-packages/pandas/io/parsers/readers.py:1026\u001b[0m, in \u001b[0;36mread_csv\u001b[0;34m(filepath_or_buffer, sep, delimiter, header, names, index_col, usecols, dtype, engine, converters, true_values, false_values, skipinitialspace, skiprows, skipfooter, nrows, na_values, keep_default_na, na_filter, verbose, skip_blank_lines, parse_dates, infer_datetime_format, keep_date_col, date_parser, date_format, dayfirst, cache_dates, iterator, chunksize, compression, thousands, decimal, lineterminator, quotechar, quoting, doublequote, escapechar, comment, encoding, encoding_errors, dialect, on_bad_lines, delim_whitespace, low_memory, memory_map, float_precision, storage_options, dtype_backend)\u001b[0m\n\u001b[1;32m   1013\u001b[0m kwds_defaults \u001b[38;5;241m=\u001b[39m _refine_defaults_read(\n\u001b[1;32m   1014\u001b[0m     dialect,\n\u001b[1;32m   1015\u001b[0m     delimiter,\n\u001b[0;32m   (...)\u001b[0m\n\u001b[1;32m   1022\u001b[0m     dtype_backend\u001b[38;5;241m=\u001b[39mdtype_backend,\n\u001b[1;32m   1023\u001b[0m )\n\u001b[1;32m   1024\u001b[0m kwds\u001b[38;5;241m.\u001b[39mupdate(kwds_defaults)\n\u001b[0;32m-> 1026\u001b[0m \u001b[38;5;28;01mreturn\u001b[39;00m _read(filepath_or_buffer, kwds)\n",
      "File \u001b[0;32m~/anaconda3/lib/python3.12/site-packages/pandas/io/parsers/readers.py:620\u001b[0m, in \u001b[0;36m_read\u001b[0;34m(filepath_or_buffer, kwds)\u001b[0m\n\u001b[1;32m    617\u001b[0m _validate_names(kwds\u001b[38;5;241m.\u001b[39mget(\u001b[38;5;124m\"\u001b[39m\u001b[38;5;124mnames\u001b[39m\u001b[38;5;124m\"\u001b[39m, \u001b[38;5;28;01mNone\u001b[39;00m))\n\u001b[1;32m    619\u001b[0m \u001b[38;5;66;03m# Create the parser.\u001b[39;00m\n\u001b[0;32m--> 620\u001b[0m parser \u001b[38;5;241m=\u001b[39m TextFileReader(filepath_or_buffer, \u001b[38;5;241m*\u001b[39m\u001b[38;5;241m*\u001b[39mkwds)\n\u001b[1;32m    622\u001b[0m \u001b[38;5;28;01mif\u001b[39;00m chunksize \u001b[38;5;129;01mor\u001b[39;00m iterator:\n\u001b[1;32m    623\u001b[0m     \u001b[38;5;28;01mreturn\u001b[39;00m parser\n",
      "File \u001b[0;32m~/anaconda3/lib/python3.12/site-packages/pandas/io/parsers/readers.py:1620\u001b[0m, in \u001b[0;36mTextFileReader.__init__\u001b[0;34m(self, f, engine, **kwds)\u001b[0m\n\u001b[1;32m   1617\u001b[0m     \u001b[38;5;28mself\u001b[39m\u001b[38;5;241m.\u001b[39moptions[\u001b[38;5;124m\"\u001b[39m\u001b[38;5;124mhas_index_names\u001b[39m\u001b[38;5;124m\"\u001b[39m] \u001b[38;5;241m=\u001b[39m kwds[\u001b[38;5;124m\"\u001b[39m\u001b[38;5;124mhas_index_names\u001b[39m\u001b[38;5;124m\"\u001b[39m]\n\u001b[1;32m   1619\u001b[0m \u001b[38;5;28mself\u001b[39m\u001b[38;5;241m.\u001b[39mhandles: IOHandles \u001b[38;5;241m|\u001b[39m \u001b[38;5;28;01mNone\u001b[39;00m \u001b[38;5;241m=\u001b[39m \u001b[38;5;28;01mNone\u001b[39;00m\n\u001b[0;32m-> 1620\u001b[0m \u001b[38;5;28mself\u001b[39m\u001b[38;5;241m.\u001b[39m_engine \u001b[38;5;241m=\u001b[39m \u001b[38;5;28mself\u001b[39m\u001b[38;5;241m.\u001b[39m_make_engine(f, \u001b[38;5;28mself\u001b[39m\u001b[38;5;241m.\u001b[39mengine)\n",
      "File \u001b[0;32m~/anaconda3/lib/python3.12/site-packages/pandas/io/parsers/readers.py:1880\u001b[0m, in \u001b[0;36mTextFileReader._make_engine\u001b[0;34m(self, f, engine)\u001b[0m\n\u001b[1;32m   1878\u001b[0m     \u001b[38;5;28;01mif\u001b[39;00m \u001b[38;5;124m\"\u001b[39m\u001b[38;5;124mb\u001b[39m\u001b[38;5;124m\"\u001b[39m \u001b[38;5;129;01mnot\u001b[39;00m \u001b[38;5;129;01min\u001b[39;00m mode:\n\u001b[1;32m   1879\u001b[0m         mode \u001b[38;5;241m+\u001b[39m\u001b[38;5;241m=\u001b[39m \u001b[38;5;124m\"\u001b[39m\u001b[38;5;124mb\u001b[39m\u001b[38;5;124m\"\u001b[39m\n\u001b[0;32m-> 1880\u001b[0m \u001b[38;5;28mself\u001b[39m\u001b[38;5;241m.\u001b[39mhandles \u001b[38;5;241m=\u001b[39m get_handle(\n\u001b[1;32m   1881\u001b[0m     f,\n\u001b[1;32m   1882\u001b[0m     mode,\n\u001b[1;32m   1883\u001b[0m     encoding\u001b[38;5;241m=\u001b[39m\u001b[38;5;28mself\u001b[39m\u001b[38;5;241m.\u001b[39moptions\u001b[38;5;241m.\u001b[39mget(\u001b[38;5;124m\"\u001b[39m\u001b[38;5;124mencoding\u001b[39m\u001b[38;5;124m\"\u001b[39m, \u001b[38;5;28;01mNone\u001b[39;00m),\n\u001b[1;32m   1884\u001b[0m     compression\u001b[38;5;241m=\u001b[39m\u001b[38;5;28mself\u001b[39m\u001b[38;5;241m.\u001b[39moptions\u001b[38;5;241m.\u001b[39mget(\u001b[38;5;124m\"\u001b[39m\u001b[38;5;124mcompression\u001b[39m\u001b[38;5;124m\"\u001b[39m, \u001b[38;5;28;01mNone\u001b[39;00m),\n\u001b[1;32m   1885\u001b[0m     memory_map\u001b[38;5;241m=\u001b[39m\u001b[38;5;28mself\u001b[39m\u001b[38;5;241m.\u001b[39moptions\u001b[38;5;241m.\u001b[39mget(\u001b[38;5;124m\"\u001b[39m\u001b[38;5;124mmemory_map\u001b[39m\u001b[38;5;124m\"\u001b[39m, \u001b[38;5;28;01mFalse\u001b[39;00m),\n\u001b[1;32m   1886\u001b[0m     is_text\u001b[38;5;241m=\u001b[39mis_text,\n\u001b[1;32m   1887\u001b[0m     errors\u001b[38;5;241m=\u001b[39m\u001b[38;5;28mself\u001b[39m\u001b[38;5;241m.\u001b[39moptions\u001b[38;5;241m.\u001b[39mget(\u001b[38;5;124m\"\u001b[39m\u001b[38;5;124mencoding_errors\u001b[39m\u001b[38;5;124m\"\u001b[39m, \u001b[38;5;124m\"\u001b[39m\u001b[38;5;124mstrict\u001b[39m\u001b[38;5;124m\"\u001b[39m),\n\u001b[1;32m   1888\u001b[0m     storage_options\u001b[38;5;241m=\u001b[39m\u001b[38;5;28mself\u001b[39m\u001b[38;5;241m.\u001b[39moptions\u001b[38;5;241m.\u001b[39mget(\u001b[38;5;124m\"\u001b[39m\u001b[38;5;124mstorage_options\u001b[39m\u001b[38;5;124m\"\u001b[39m, \u001b[38;5;28;01mNone\u001b[39;00m),\n\u001b[1;32m   1889\u001b[0m )\n\u001b[1;32m   1890\u001b[0m \u001b[38;5;28;01massert\u001b[39;00m \u001b[38;5;28mself\u001b[39m\u001b[38;5;241m.\u001b[39mhandles \u001b[38;5;129;01mis\u001b[39;00m \u001b[38;5;129;01mnot\u001b[39;00m \u001b[38;5;28;01mNone\u001b[39;00m\n\u001b[1;32m   1891\u001b[0m f \u001b[38;5;241m=\u001b[39m \u001b[38;5;28mself\u001b[39m\u001b[38;5;241m.\u001b[39mhandles\u001b[38;5;241m.\u001b[39mhandle\n",
      "File \u001b[0;32m~/anaconda3/lib/python3.12/site-packages/pandas/io/common.py:873\u001b[0m, in \u001b[0;36mget_handle\u001b[0;34m(path_or_buf, mode, encoding, compression, memory_map, is_text, errors, storage_options)\u001b[0m\n\u001b[1;32m    868\u001b[0m \u001b[38;5;28;01melif\u001b[39;00m \u001b[38;5;28misinstance\u001b[39m(handle, \u001b[38;5;28mstr\u001b[39m):\n\u001b[1;32m    869\u001b[0m     \u001b[38;5;66;03m# Check whether the filename is to be opened in binary mode.\u001b[39;00m\n\u001b[1;32m    870\u001b[0m     \u001b[38;5;66;03m# Binary mode does not support 'encoding' and 'newline'.\u001b[39;00m\n\u001b[1;32m    871\u001b[0m     \u001b[38;5;28;01mif\u001b[39;00m ioargs\u001b[38;5;241m.\u001b[39mencoding \u001b[38;5;129;01mand\u001b[39;00m \u001b[38;5;124m\"\u001b[39m\u001b[38;5;124mb\u001b[39m\u001b[38;5;124m\"\u001b[39m \u001b[38;5;129;01mnot\u001b[39;00m \u001b[38;5;129;01min\u001b[39;00m ioargs\u001b[38;5;241m.\u001b[39mmode:\n\u001b[1;32m    872\u001b[0m         \u001b[38;5;66;03m# Encoding\u001b[39;00m\n\u001b[0;32m--> 873\u001b[0m         handle \u001b[38;5;241m=\u001b[39m \u001b[38;5;28mopen\u001b[39m(\n\u001b[1;32m    874\u001b[0m             handle,\n\u001b[1;32m    875\u001b[0m             ioargs\u001b[38;5;241m.\u001b[39mmode,\n\u001b[1;32m    876\u001b[0m             encoding\u001b[38;5;241m=\u001b[39mioargs\u001b[38;5;241m.\u001b[39mencoding,\n\u001b[1;32m    877\u001b[0m             errors\u001b[38;5;241m=\u001b[39merrors,\n\u001b[1;32m    878\u001b[0m             newline\u001b[38;5;241m=\u001b[39m\u001b[38;5;124m\"\u001b[39m\u001b[38;5;124m\"\u001b[39m,\n\u001b[1;32m    879\u001b[0m         )\n\u001b[1;32m    880\u001b[0m     \u001b[38;5;28;01melse\u001b[39;00m:\n\u001b[1;32m    881\u001b[0m         \u001b[38;5;66;03m# Binary mode\u001b[39;00m\n\u001b[1;32m    882\u001b[0m         handle \u001b[38;5;241m=\u001b[39m \u001b[38;5;28mopen\u001b[39m(handle, ioargs\u001b[38;5;241m.\u001b[39mmode)\n",
      "\u001b[0;31mFileNotFoundError\u001b[0m: [Errno 2] No such file or directory: 'cysts.csv'"
     ]
    }
   ],
   "source": [
    "# This is the dataset specifically for the Alexandrium cysts.\n",
    "DFcystsraw = pd.read_csv('cysts.csv')\n",
    "show(DFcystsraw)"
   ]
  },
  {
   "cell_type": "markdown",
   "id": "b4907718-7edd-4379-867c-8fafd733d03f",
   "metadata": {},
   "source": [
    "### Cysts Dataset"
   ]
  },
  {
   "cell_type": "code",
   "execution_count": null,
   "id": "2bda257b-ed59-4c4a-9bd1-db5fc458ebf9",
   "metadata": {},
   "outputs": [],
   "source": [
    "# There are 185 observations and 9 variables for the cysts dataset.\n",
    "DFcystsraw.shape"
   ]
  },
  {
   "cell_type": "code",
   "execution_count": null,
   "id": "9814388e-904d-4c8a-965f-ff9ab1a66c4a",
   "metadata": {},
   "outputs": [],
   "source": [
    "# The variable names are listed below. \n",
    "DFcystsraw.keys()"
   ]
  },
  {
   "cell_type": "markdown",
   "id": "29ca03a5-bf3c-43d4-aaa8-051d0bae6435",
   "metadata": {},
   "source": [
    "'CRUISE' is the identification code for the cruise ships that traveled out into the ocean.\n",
    "\n",
    "'STATION_ID' is the station identification, the site at which samples were collected.\n",
    "\n",
    "'LAYER_CM' is the depth (in centimeters) of the sediment that was collected for the sample. 0-3 means that the top 3 centimeters of sediment were collected\n",
    "\n",
    "'DATE' is the date when the sample was collected\n",
    "\n",
    "'LAT' is the latitude in decimal degrees of the sample that was collected\n",
    "\n",
    "'LON' is the longitude in decimal degrees of the sample that was collected\n",
    "\n",
    "'ALEXANDRIUM_CYSTS_CC' is the concentration of Alexandrium catenella in units of cysts per cubic centimeter\n",
    "\n",
    "'PDALEI_CYSTS_CC' is the concentration of Pentapharsodinium dalei in units of cysts per cubic centimeter\n",
    "\n",
    "'SCRIPPS_CYSTS_CC' is the concentration of Scrippsiella in units of cysts per cubic centimeter"
   ]
  },
  {
   "cell_type": "code",
   "execution_count": null,
   "id": "9f91bbff-da82-4311-a2fe-39cdc050f62b",
   "metadata": {},
   "outputs": [],
   "source": [
    "# Show a dataframe with the most important columns\n",
    "# I only included the Alexandrium column because we are not analyzing Pdalei or Scripps\n",
    "cystscolumns = ['CRUISE','DATE','LAT','LON','ALEXANDRIUM_CYSTS_CC']\n",
    "DFcysts = DFcystsraw[cystscolumns]\n",
    "show(DFcysts)"
   ]
  },
  {
   "cell_type": "code",
   "execution_count": null,
   "id": "09819dbf-275a-4ab0-8612-da7854272680",
   "metadata": {},
   "outputs": [],
   "source": [
    "# Do some descriptive analysis and talk about the results\n",
    "DFcysts.describe()"
   ]
  },
  {
   "cell_type": "markdown",
   "id": "7389f163-2772-4566-bd36-3bf43bf3babe",
   "metadata": {},
   "source": [
    "The ALEXANDRIUM_CYSTS_CC column is the one with the most meaningful statistics. The minimum abundance of cysts observed was 0 cysts. The maximum abundance was 17602 cysts per cubic centimenter. "
   ]
  },
  {
   "cell_type": "code",
   "execution_count": null,
   "id": "088bc660-326c-45b4-86fd-4c6a8a0a2c16",
   "metadata": {},
   "outputs": [],
   "source": [
    "DFcysts.groupby(by=['CRUISE']).count()"
   ]
  },
  {
   "cell_type": "markdown",
   "id": "ec3b6f5d-d769-4526-8c94-aec5325d934b",
   "metadata": {},
   "source": [
    "In order of most to least samples taken:\n",
    "\n",
    "The HLY1901 cruise took 56 samples, the HLY1801 cruise took 48 samples, the OS19-01 took 38 samples, the HLY1803 cruise took 26 samples, and the NBS2019 cruise took 17 samples."
   ]
  },
  {
   "cell_type": "code",
   "execution_count": null,
   "id": "45cfe33a-9871-4052-9466-3df07be09955",
   "metadata": {},
   "outputs": [],
   "source": []
  },
  {
   "cell_type": "markdown",
   "id": "2b4145f5-1387-4ebf-b1fe-e3ba8bbdf74a",
   "metadata": {},
   "source": [
    "### Seafood Dataset"
   ]
  },
  {
   "cell_type": "code",
   "execution_count": null,
   "id": "aea321f6-b9a2-4222-882b-e70772dea631",
   "metadata": {},
   "outputs": [],
   "source": [
    "# This is the dataset specifically for the commercial fishery seafood products.\n",
    "DFseafoodraw = pd.read_csv('Total_wholesale.csv')\n",
    "show(DFseafoodraw)"
   ]
  },
  {
   "cell_type": "code",
   "execution_count": null,
   "id": "6185db7c-52c4-4f71-8602-cfc7926130a6",
   "metadata": {},
   "outputs": [],
   "source": [
    "# There are 7190 observations and 9 variables for the seafood dataset.\n",
    "DFseafoodraw.shape"
   ]
  },
  {
   "cell_type": "code",
   "execution_count": null,
   "id": "cbda31ff-3d9b-4e77-b06b-0173cd66ebb8",
   "metadata": {},
   "outputs": [],
   "source": [
    "# The variable names are listed below. \n",
    "DFseafoodraw.keys()"
   ]
  },
  {
   "cell_type": "markdown",
   "id": "3e3b5981-0d65-4a2e-b380-238cceeb4553",
   "metadata": {},
   "source": [
    "'SpeciesGroup' is the general name for the species recorded.\n",
    "\n",
    "'SpeciesName' is the specific name for the species recorded.\n",
    "\n",
    "'OperationYear' is year the fishery caught the species.\n",
    "\n",
    "'AreaName' is the area in Alaska where production and purchasing occured.\n",
    "\n",
    "'SpeciesCode' is the code for the species recorded.\n",
    "\n",
    "'CompanyCount_taxID' is the amount of companies that processed the species in that specific area and specific year \n",
    "\n",
    "'TotalNetWeight' is the total net weight in pounds of the seafood\n",
    "\n",
    "'TotalWholesaleValue' is the total U.S. wholesale dollar of the seafood\n",
    "\n",
    "'WholesalePricePerlb' is the average wholesale U.S. dollar per pound of the seafood"
   ]
  },
  {
   "cell_type": "code",
   "execution_count": null,
   "id": "b8e4ada8-d3cd-40f2-8a07-73a4ec4abda2",
   "metadata": {},
   "outputs": [],
   "source": [
    "# Show a dataframe with the most important columns\n",
    "seafoodcolumns = ['SpeciesGroup','OperationYear','AreaName','TotalNetWeight','TotalWholesaleValue','WholesalePricePerlb']\n",
    "DFseafood = DFseafoodraw[seafoodcolumns]\n",
    "show(DFseafood)"
   ]
  },
  {
   "cell_type": "code",
   "execution_count": null,
   "id": "a7c2c218-313e-48a9-9882-64244a957497",
   "metadata": {},
   "outputs": [],
   "source": [
    "# Do some descriptive analysis and talk about the results\n",
    "DFseafood.describe()"
   ]
  },
  {
   "cell_type": "markdown",
   "id": "a6ad13f4-513d-4c8c-a8c1-b83c39b76727",
   "metadata": {},
   "source": [
    "The data was collected in between the years 1984 and 2016. The minimum total net weight recorded was 10 pounds, and the greatest total net weight recorded was 621,241,100 pounds. The minimum total wholesale value recorded was 4 dollars, and the greatest total wholesale value recorded was 809,525,600 dollars. The minimum wholesale price per pound was 0 dollars, and the greatest wholesale price per pound was 20.89 dollars."
   ]
  },
  {
   "cell_type": "code",
   "execution_count": null,
   "id": "787dfbed-f7b3-491b-8298-232e007599bc",
   "metadata": {},
   "outputs": [],
   "source": [
    "DFseafood.groupby(by=['SpeciesGroup']).sum()"
   ]
  },
  {
   "cell_type": "markdown",
   "id": "3b99a006-9420-4f90-9539-47cb070b12f4",
   "metadata": {},
   "source": [
    "In this analysis, the columns that give us the most important information is the sums for Total Net Weight and Total Wholesale Value. It is grouped by species, so we see the total weight and total wholesale value with respect to each species. "
   ]
  },
  {
   "cell_type": "markdown",
   "id": "4386784b-ddbc-4a80-9880-dc3b9f050396",
   "metadata": {},
   "source": [
    "### Planktonic data set"
   ]
  },
  {
   "cell_type": "code",
   "execution_count": null,
   "id": "c5b423d6-af80-489d-97e5-d9db7a8e5d7f",
   "metadata": {},
   "outputs": [],
   "source": [
    "DFproject = pd.read_csv('AlexandriumAlaskanArctic_WholeCell_2018_2019.csv')\n",
    "show(DFproject)"
   ]
  },
  {
   "cell_type": "code",
   "execution_count": null,
   "id": "ae98124d-9a27-4b96-a1b9-9c8a1f932c49",
   "metadata": {},
   "outputs": [],
   "source": [
    "DFproject.shape"
   ]
  },
  {
   "cell_type": "code",
   "execution_count": null,
   "id": "dff7a68f-8518-4370-b40a-386827ce3977",
   "metadata": {},
   "outputs": [],
   "source": [
    "DFproject.keys()"
   ]
  },
  {
   "cell_type": "markdown",
   "id": "5fee104f-7196-4722-aa98-7fdc86b2bfb7",
   "metadata": {},
   "source": [
    "\"CRUISE\" represents the cruise identification number of boats that went to take the levels of these pesticides. \n",
    "\n",
    "\n",
    "'STATION_ID' represents the identification of the station that the ships went to. \n",
    "\n",
    "\n",
    "'CAST' represents the conductivity, temperature, and depth defined by the cruise. \n",
    "\n",
    "\n",
    "'LAT' is the latitude in decimal degrees.\n",
    "\n",
    "\n",
    "'LON' is the Longitude in the decimal degrees\n",
    "\n",
    "\n",
    "'DATE_TIME' is the date and time of collection\n",
    "\n",
    "\n",
    "'TARGET_DEPTH' this is the specific depth that is being target by conductivity, temperature, and depth(CTD) collection\n",
    "\n",
    "\n",
    "'bottle' CTD is the bottle number that the samples were collected from\n",
    "\n",
    "\n",
    "'CELLS_L' this is the concentration of Alexandrium Catenella in units per cubic feet. \n",
    "\n",
    "\n",
    "'TEMP' the water temperature in measured in degrees Celsius \n",
    "\n",
    "\n",
    "'SAL' this is the salinity in practical salinity units\n",
    "\n",
    "\n",
    "'PRESSURE' the pressure in units of decibar"
   ]
  },
  {
   "cell_type": "code",
   "execution_count": null,
   "id": "f5cd59d1-fc97-4c8f-9d16-b471ef0eab8b",
   "metadata": {},
   "outputs": [],
   "source": [
    "#This is the data frame with the most important data columns. \n",
    "mask = ['CELLS_L', 'SAL', 'TEMP', 'PRESSURE', 'DATE_TIME', 'LON', 'LAT'] \n",
    "DFproject_mask = DFproject[mask]\n",
    "DFproject_mask "
   ]
  },
  {
   "cell_type": "code",
   "execution_count": null,
   "id": "548042ef-64fd-47e9-bb49-06118351afa4",
   "metadata": {},
   "outputs": [],
   "source": [
    "DFproject_mask.describe()"
   ]
  },
  {
   "cell_type": "markdown",
   "id": "50212deb-c385-4550-9614-4139aabaa338",
   "metadata": {},
   "source": [
    "Out focus lies on the Planktonic cells(CELLS_L) where a minimum of zero was found in areas. The most that were found in one area was around 8,222. The average amount of these cells found was 372."
   ]
  },
  {
   "cell_type": "code",
   "execution_count": null,
   "id": "97c2d420-8f96-4700-844e-a2b70bf1da6c",
   "metadata": {},
   "outputs": [],
   "source": [
    "#For this part, we are taking the data and seperating it by the year. This is done so the data is ascending. \n",
    "DFproject_mask['years'] = DFproject_mask['DATE_TIME'].apply(lambda x: x.split('-')[0])\n",
    "DFproject_mask"
   ]
  },
  {
   "cell_type": "code",
   "execution_count": null,
   "id": "9369763e-9e01-41b5-9714-dfd9484a9c31",
   "metadata": {},
   "outputs": [],
   "source": [
    "#After dividing the data by the year, we want to do the same for the month.\n",
    "DFproject_mask['month'] = DFproject_mask['DATE_TIME'].apply(lambda x: x.split('-')[1])\n",
    "DFproject_mask"
   ]
  },
  {
   "cell_type": "code",
   "execution_count": null,
   "id": "19577aa2-e396-4d7a-9706-cc010b03bf22",
   "metadata": {},
   "outputs": [],
   "source": [
    "#Because we have seperated the data into the months, I decided that I wanted to take a closer look into the month of August. \n",
    "august_mask = (DFproject_mask['month'] == '08')\n",
    "DF_masked_august = DFproject_mask[august_mask]\n",
    "show(DF_masked_august)"
   ]
  },
  {
   "cell_type": "markdown",
   "id": "803306d0-3b2c-484e-90ec-5bc86805d315",
   "metadata": {},
   "source": [
    "## Exploratory Data Analysis\n",
    "\n",
    "Show a few plots or some data tables that help your reader understand your data better. What are some initial questions that you were able to quickly answer? How do those questions lead you to a deeper analysis?\n",
    "\n",
    "This section will have some code. Make sure to use Markdown cells to explain what the code is demonstrating"
   ]
  },
  {
   "cell_type": "markdown",
   "id": "a5bb2ed9-2171-4c4e-ab3e-21d18526705b",
   "metadata": {},
   "source": [
    "### Alexandrium Cells"
   ]
  },
  {
   "cell_type": "code",
   "execution_count": null,
   "id": "02d5191e-cc3a-43d9-8585-2ab6bd2fc9bd",
   "metadata": {},
   "outputs": [],
   "source": [
    "# exploratory data analysis for cells"
   ]
  },
  {
   "cell_type": "markdown",
   "id": "c6d0fc5f-f841-40af-aec2-517bcd6801f8",
   "metadata": {},
   "source": [
    "### Alexandrium Cysts"
   ]
  },
  {
   "cell_type": "code",
   "execution_count": null,
   "id": "4e0c2148-2b7e-47f5-a726-beab4641ed99",
   "metadata": {},
   "outputs": [],
   "source": [
    "# Using a box plot to show the distribution of Alexandrium cysts abundance\n",
    "\n",
    "fig = px.box(DFcysts, \n",
    "             x=\"ALEXANDRIUM_CYSTS_CC\")\n",
    "\n",
    "fig.update_layout(title='Observed Abundance of Alexandrium Cysts',\n",
    "                  title_x=0.5,\n",
    "                  xaxis_title = 'Alexandrium Cysts (cubic cm)',\n",
    "                  template = 'ggplot2',\n",
    "                autosize=True)\n",
    "\n",
    "fig.update_traces(marker=dict(color='forestgreen'))\n",
    "\n",
    "fig.show()"
   ]
  },
  {
   "cell_type": "markdown",
   "id": "932128e3-071e-473c-b35a-7859cf0ddb51",
   "metadata": {},
   "source": [
    "The box plot above shows that most of the data lies in a range between 0-1505 cysts. However, it also shows noteworthy outliers. There are some points clustered between 1733-2684 cysts and more points ranging anywhere between 5k-17.602k cysts. It is worth looking more into these outliers like where they are geographically located and what environmental conditions may lead to an algal bloom in these areas. "
   ]
  },
  {
   "cell_type": "markdown",
   "id": "ddf4cd84-c44a-45c3-a1ef-6c75a1efc9b6",
   "metadata": {},
   "source": [
    "### Seafood Production and Sales"
   ]
  },
  {
   "cell_type": "code",
   "execution_count": null,
   "id": "e83d63ab-dc4a-46eb-ad9b-34be081eea6d",
   "metadata": {},
   "outputs": [],
   "source": [
    "show(DFseafood)"
   ]
  },
  {
   "cell_type": "code",
   "execution_count": null,
   "id": "a903b175-8c7f-4991-8670-290b03bf8687",
   "metadata": {},
   "outputs": [],
   "source": [
    "# Masking for year 2000 and later \n",
    "mask1 = (DFseafood['OperationYear']>=2010)\n",
    "DFseafoodmasked1 = DFseafood[mask1]\n",
    "show(DFseafoodmasked1)"
   ]
  },
  {
   "cell_type": "code",
   "execution_count": null,
   "id": "ba71b83e-eb33-40d3-95d8-694eef5426d9",
   "metadata": {},
   "outputs": [],
   "source": [
    "# Doing a value counts to see which species has the most observations in years 2000 and later\n",
    "DFspeciescount = DFseafoodmasked1['SpeciesGroup'].value_counts()\n",
    "show(DFspeciescount)"
   ]
  },
  {
   "cell_type": "markdown",
   "id": "18c7fbf6-1701-44f9-82f0-df5e20a9eae8",
   "metadata": {},
   "source": [
    "This data table shows that rockfish, salmon, crab, sole, halibut, cod, sablefish (blackcod), shrimp, skate, and lingcod are the 10 most observed species. Because we also care about shellfish other than crab, it is also worth considering clams and scallops. "
   ]
  },
  {
   "cell_type": "code",
   "execution_count": null,
   "id": "1405d41f-fb61-4dcc-9d1d-73a8a1cff7fc",
   "metadata": {},
   "outputs": [],
   "source": [
    "# Doing a value counts to see which areas has the most observations in years 2000 and later\n",
    "DFareacount = DFseafoodmasked1['AreaName'].value_counts()\n",
    "show(DFareacount)"
   ]
  },
  {
   "cell_type": "markdown",
   "id": "15873754-3c59-413e-8c57-934848920212",
   "metadata": {},
   "source": [
    "This data table shows that Kodiak, EEZ, Sitka/Pelican, Juneau/Yakutat, Ketchikan/Craig, Cook Inlet, Petersburg/Wrangell, Prince William Sound, Dutch Harbor, and Alaska Peninsula are the top 10 areas with the most observations. \n",
    "\n",
    "Because the Alexandrium cyst and cell data were collected near the Bering Sea, it is also worth considering the Bering Sea in later analysis.\n",
    "\n",
    "In later analysis, we will mask out EEZ, Yukon, Chignik, Norton Sound, and Kuskokwim. EEZ covers all the areas near Alaska waters, so if it was included it would throw off the data and graphs. Since we are throwing out EEZ, we will include Bristol Bay which was the 11th most observed area. The other areas don't have enough observations to be worth visualizing "
   ]
  },
  {
   "cell_type": "markdown",
   "id": "76c24b49-5844-4a4c-8118-a5c4a6362bab",
   "metadata": {},
   "source": [
    "---"
   ]
  },
  {
   "cell_type": "markdown",
   "id": "2d913164-9c71-4c13-8625-4207f7ddf306",
   "metadata": {},
   "source": [
    "## Proposed Questions\n",
    "\n",
    "What specific questions are you going to explore and present in the rest of the paper? Give a very brief overview of what you are going to do to answer those questions. Imagine this as a road map so your reader knows what to expect.\n",
    "\n",
    "- How are Alexandrium cells geographically distributed throughout the sample sites? How are the cysts distributed? Are there some places with more cells/cysts than other?\n",
    "- Are there certain environmental conditions that clearly lead to an Alexandrium algal bloom?\n",
    "- How much shellfish is circulating through the seafood industry? Is it a considerable amount compared to the top 10 species of seafood that were identified earlier? Based on these findings, is PSP a big risk to humans who eat seafood?"
   ]
  },
  {
   "cell_type": "markdown",
   "id": "ed934a6e-1604-4709-94b3-775d4c3a6ff4",
   "metadata": {},
   "source": [
    "---"
   ]
  },
  {
   "cell_type": "markdown",
   "id": "b9b1c853-158b-4d86-8821-3bd0d35a606c",
   "metadata": {},
   "source": [
    "## Analysis and Results\n",
    "\n",
    "Here is where you show your code and results (plots, tables, predictions, etc) that help to explore and answer your questions. There should be code here that can be run to reproduce your results and conclusions. After each plot/table/final number, you should add a Markdown cell where you explain to the reader what the result means and how/why it answers the question.\n",
    "\n",
    "This section will have Lots of code. Make sure to use Markdown cells to explain what the code is demonstrating"
   ]
  },
  {
   "cell_type": "markdown",
   "id": "1b8340cf-4fb8-41e5-a7d2-75beb84f74b0",
   "metadata": {},
   "source": [
    "### How are Alexandrium cells geographically distributed throughout the sample sites?"
   ]
  },
  {
   "cell_type": "code",
   "execution_count": null,
   "id": "67bed49d-adb6-42a9-a24c-abb37bd7c319",
   "metadata": {},
   "outputs": [],
   "source": [
    "# Cells map"
   ]
  },
  {
   "cell_type": "code",
   "execution_count": null,
   "id": "04d94e9f-2e39-4b65-b4e4-057c9c85383c",
   "metadata": {},
   "outputs": [],
   "source": [
    "# Explanation"
   ]
  },
  {
   "cell_type": "markdown",
   "id": "b843e47c-cf2b-48b2-ac76-44437b8e2160",
   "metadata": {},
   "source": [
    "### How are Alexandrium cysts geographically distributed throughout the sample sites?"
   ]
  },
  {
   "cell_type": "code",
   "execution_count": null,
   "id": "c2aa026e-e739-4e96-a2f2-8b7970299a86",
   "metadata": {},
   "outputs": [],
   "source": [
    "fig = px.scatter_map(DFcysts, \n",
    "                     lat=\"LAT\", \n",
    "                     lon=\"LON\",    \n",
    "                     color=\"ALEXANDRIUM_CYSTS_CC\", #colors based on the magnitude of number of cysts\n",
    "                     size=\"ALEXANDRIUM_CYSTS_CC\", #sets the size of a point based on the magnitude of number of cysts\n",
    "                  color_continuous_scale= 'speed', #sets the color scheme\n",
    "                     size_max=15, #sets the max size a point can get\n",
    "                     zoom=3.5, #sets how zoomed in the map is\n",
    "                     range_color=[100,7000], #anything below 100cc is light yellow, anything above 7000 is dark green, any values in between are a hue between light yellow and dark green\n",
    "                     height=500)\n",
    "fig.update_layout(map_style=\"light\",\n",
    "                 map_center_lon=-162, #sets the center of the map at longitude -162\n",
    "                 title='Concentration of Alexandrium Cysts (Cubic Cm) in Northwestern Alaska')\n",
    "fig.show()"
   ]
  },
  {
   "cell_type": "markdown",
   "id": "352dab85-0c9f-4366-9736-5b1997ba18b8",
   "metadata": {},
   "source": [
    "This map shows the concentration of Alexandrium cysts in the oceans surrounding the northwestern parts of Alaska. The darker the green and the bigger the point, the more Alexandrium cysts are in that particular area. With this, we can infer that these areas are at the greatest risk for algal blooms."
   ]
  },
  {
   "cell_type": "markdown",
   "id": "de0d6722-bfef-4170-9e90-48cc0c6a2c47",
   "metadata": {},
   "source": [
    "### Are there certain environmental conditions that lead to an Alexandrium bloom?"
   ]
  },
  {
   "cell_type": "code",
   "execution_count": null,
   "id": "2c036b22-4968-40b2-9820-fd8b80e06fbd",
   "metadata": {},
   "outputs": [],
   "source": [
    "# graph about temperature and salinity"
   ]
  },
  {
   "cell_type": "code",
   "execution_count": null,
   "id": "6457a8cd-646f-4028-941f-1ab8d722e291",
   "metadata": {},
   "outputs": [],
   "source": [
    "# explanation"
   ]
  },
  {
   "cell_type": "markdown",
   "id": "ab69f5e5-6b16-4856-af09-57bb2efe1d52",
   "metadata": {},
   "source": [
    "### How much shellfish is circulating through the seafood industry in Alaska?"
   ]
  },
  {
   "cell_type": "code",
   "execution_count": null,
   "id": "80231984-c6eb-4c7a-95a6-e306ef6a49c7",
   "metadata": {},
   "outputs": [],
   "source": [
    "# Masking for certain species\n",
    "maskspecies = (DFseafoodmasked1['SpeciesGroup']=='rockfish') | (DFseafoodmasked1['SpeciesGroup']=='salmon') | (DFseafoodmasked1['SpeciesGroup']=='crab') | (DFseafoodmasked1['SpeciesGroup']=='sole') | (DFseafoodmasked1['SpeciesGroup']=='halibut') | (DFseafoodmasked1['SpeciesGroup']=='cod') | (DFseafoodmasked1['SpeciesGroup']=='sablefish (blackcod)') | (DFseafoodmasked1['SpeciesGroup']=='shrimp') | (DFseafoodmasked1['SpeciesGroup']=='skate') | (DFseafoodmasked1['SpeciesGroup']=='lingcod') | (DFseafoodmasked1['SpeciesGroup']=='clam') | (DFseafoodmasked1['SpeciesGroup']=='scallop')\n",
    "DFseafoodmasked = DFseafoodmasked1[maskspecies]\n",
    "# Masking for top 10 areas as described in the explanatory analysis\n",
    "maskarea = (DFseafoodmasked['AreaName']=='Kodiak') | (DFseafoodmasked['AreaName']=='Bristol Bay') | (DFseafoodmasked['AreaName']=='Sitka/Pelican') | (DFseafoodmasked['AreaName']=='Juneau/Yakutat') | (DFseafoodmasked['AreaName']=='Ketchikan/Craig') | (DFseafoodmasked['AreaName']=='Cook Inlet') | (DFseafoodmasked['AreaName']=='Petersburg/Wrangell') | (DFseafoodmasked['AreaName']=='Prince William Sound') | (DFseafoodmasked['AreaName']=='Dutch Harbor') | (DFseafoodmasked['AreaName']=='Alaska Peninsula') | (DFseafoodmasked['AreaName']=='Bering Sea')\n",
    "DFseafoodmaskedfinal = DFseafoodmasked[maskarea]\n",
    "show(DFseafoodmaskedfinal)"
   ]
  },
  {
   "cell_type": "code",
   "execution_count": null,
   "id": "f05b0c39-fc85-4c7b-bdfc-67dc9e4f868d",
   "metadata": {},
   "outputs": [],
   "source": [
    "fig = px.histogram(DFseafoodmaskedfinal,\n",
    "                y = 'AreaName',\n",
    "                   x = 'TotalNetWeight',\n",
    "                  color = 'SpeciesGroup',\n",
    "                  color_discrete_map = {'rockfish':'#fff7f3',\n",
    "                                        'salmon':'#c51b7d',\n",
    "                                       'cod':'#de77ae',\n",
    "                                       'halibut':'#f1b6da',\n",
    "                                       'sablefish (blackcod)':'#fde0ef',\n",
    "                                        'sole':'#67001f',\n",
    "                                       'crab':'#4d9221',\n",
    "                                       'shrimp':'#b8e186',\n",
    "                                       'clam':'#7fbc41',\n",
    "                                       'scallop':'#d9f0a3',\n",
    "                                       'skate':'#810f7c',\n",
    "                                       'lingcod':'#fde0dd'},\n",
    "                  category_orders={'SpeciesGroup' : ['sole', \n",
    "                                                     'skate',\n",
    "                                                     'salmon',\n",
    "                                                     'cod', \n",
    "                                                     'halibut', \n",
    "                                                     'sablefish (blackcod)',\n",
    "                                                     'rockfish',\n",
    "                                                    'lingcod',\n",
    "                                                    'crab',\n",
    "                                                    'clam',\n",
    "                                                    'shrimp',\n",
    "                                                     'scallop']})\n",
    "\n",
    "\n",
    "fig.update_layout(title='Total Net Weight (lbs) of Seafood per Alaskan Region (2010-2016)',\n",
    "                  xaxis_title=\"Weight (lbs)\",\n",
    "                  yaxis_title = ' ',\n",
    "                  template='plotly_dark',\n",
    "                  legend_title='Species Name',\n",
    "                  bargap = 0.4,\n",
    "                  autosize=False,\n",
    "                  width=800,\n",
    "                  height=600)\n",
    "\n",
    "fig.show()"
   ]
  },
  {
   "cell_type": "markdown",
   "id": "c1447f92-6898-4547-942e-20f4b017892b",
   "metadata": {},
   "source": [
    "The histogram above shows the total weight of seafood production that was reported by each Alaskan region. Prince William Sound produced the most seafood (in terms of weight) while the Bering Sea produced the least. \n",
    "\n",
    "The histogram is colored by SpeciesName to show the specific species that each area is producing. For most areas, except the Bering Sea and the Dutch Harbor, salmon was mainly produced. The Bering Sea mainly produced crab and the Dutch Harbor produced mainly cod with a considerable amount of crab. "
   ]
  },
  {
   "cell_type": "code",
   "execution_count": null,
   "id": "4eef0763-7936-4138-b147-f55a895489d0",
   "metadata": {},
   "outputs": [],
   "source": [
    "fig = px.histogram(DFseafoodmaskedfinal,\n",
    "                y = 'AreaName',\n",
    "                   x = 'TotalWholesaleValue',\n",
    "                  color = 'SpeciesGroup',\n",
    "                  color_discrete_map = {'rockfish':'#fff7f3',\n",
    "                                        'salmon':'#c51b7d',\n",
    "                                       'cod':'#de77ae',\n",
    "                                       'halibut':'#f1b6da',\n",
    "                                       'sablefish (blackcod)':'#fde0ef',\n",
    "                                        'sole':'#67001f',\n",
    "                                       'crab':'#4d9221',\n",
    "                                       'shrimp':'#b8e186',\n",
    "                                       'clam':'#7fbc41',\n",
    "                                       'scallop':'#d9f0a3',\n",
    "                                       'skate':'#810f7c',\n",
    "                                       'lingcod':'#fde0dd'},\n",
    "                  category_orders={'SpeciesGroup' : ['sole', \n",
    "                                                     'skate',\n",
    "                                                     'salmon',\n",
    "                                                     'cod', \n",
    "                                                     'halibut', \n",
    "                                                     'sablefish (blackcod)',\n",
    "                                                     'rockfish',\n",
    "                                                    'lingcod',\n",
    "                                                    'crab',\n",
    "                                                    'clam',\n",
    "                                                    'shrimp',\n",
    "                                                     'scallop']})\n",
    "\n",
    "\n",
    "fig.update_layout(title='Total Wholesale Value of Seafood per Alaskan Region (2010-2016)',\n",
    "                  xaxis_title=\"Dollars\",\n",
    "                  yaxis_title = ' ',\n",
    "                  template='plotly_dark',\n",
    "                  legend_title='Species Name',\n",
    "                  bargap = 0.4,\n",
    "                  autosize=False,\n",
    "                  width=800,\n",
    "                  height=600)\n",
    "fig.show()"
   ]
  },
  {
   "cell_type": "markdown",
   "id": "2850249c-ba55-4aa5-8752-35b10651cfc6",
   "metadata": {},
   "source": [
    "The histogram above shows the total wholesale value that each Alaskan region produced from seafood. Bristol Bay reported the most money while the Bering Sea reported the least.\n",
    "\n",
    "The histogram is again colored by SpeciesName to show which specific species each region is making money off of. It appears that the Bering Sea and the Dutch Harbor are making a considerable amount of money off of crab. Other places like Petersburg/Wrangell, Ketchikan/Craig, the Alaska Peninsula, Kodiak, and Juneau/Yakutat also make some money off of crab and other shellfish."
   ]
  },
  {
   "cell_type": "code",
   "execution_count": null,
   "id": "fe3feb7e-5e25-4a84-a6a9-97b5b7912fb5",
   "metadata": {},
   "outputs": [],
   "source": [
    "# line plot that plots total net weight vs. total wholesale value, colored by species"
   ]
  },
  {
   "cell_type": "code",
   "execution_count": null,
   "id": "d4865a1e-066c-47ce-ae60-60b89461b82e",
   "metadata": {},
   "outputs": [],
   "source": [
    "# Making a scatter plot that shows Total Net Weight vs. Totale Wholesale Value\n",
    "# Coloring by Species Group\n",
    "\n",
    "fig = px.scatter(DFseafoodmaskedfinal,\n",
    "                 x='TotalNetWeight',\n",
    "                 y=\"TotalWholesaleValue\",\n",
    "                 color= 'SpeciesGroup',\n",
    "                 color_discrete_map = {'rockfish':'#fff7f3',\n",
    "                                        'salmon':'#c51b7d',\n",
    "                                       'cod':'#de77ae',\n",
    "                                       'halibut':'#f1b6da',\n",
    "                                       'sablefish (blackcod)':'#fde0ef',\n",
    "                                        'sole':'#67001f',\n",
    "                                       'crab':'#4d9221',\n",
    "                                       'shrimp':'#b8e186',\n",
    "                                       'clam':'#7fbc41',\n",
    "                                       'scallop':'#d9f0a3',\n",
    "                                       'skate':'#810f7c',\n",
    "                                       'lingcod':'#fde0dd'},\n",
    "                trendline='ols',\n",
    "                trendline_scope='overall',\n",
    "                trendline_color_override='#fe9929',\n",
    "                opacity = 0.5)\n",
    "\n",
    "fig.show()"
   ]
  },
  {
   "cell_type": "markdown",
   "id": "72e52cc3-810d-46b0-b1d5-9d847e1763b4",
   "metadata": {},
   "source": [
    "The trendline shows the general trend that as the total net weight increases, total wholesale value also increases. \n",
    "\n",
    "It is important to consider this pattern because it likely motivates fisheries to produce more seafood in order to gain more money. The more fish/shellfish they catch, the heavier their catch, which means the more money they make. "
   ]
  },
  {
   "cell_type": "code",
   "execution_count": null,
   "id": "4d7646f0-064f-41d5-a59c-5ef339576705",
   "metadata": {},
   "outputs": [],
   "source": [
    "# Making a dataframe specifically for shellfish\n",
    "maskshellfish = (DFseafoodmasked['SpeciesGroup']=='crab') | (DFseafoodmasked['SpeciesGroup']=='shrimp') | (DFseafoodmasked['SpeciesGroup']=='scallop') | (DFseafoodmasked['SpeciesGroup']=='clam')\n",
    "DFshellfish = DFseafoodmasked[maskshellfish]\n",
    "maskBeringDutch = (DFshellfish['AreaName']=='Bering Sea') | (DFshellfish['AreaName']=='Dutch Harbor')\n",
    "DFshellfishBeringDutch = DFshellfish[maskBeringDutch]\n",
    "show(DFshellfishBeringDutch)"
   ]
  },
  {
   "cell_type": "code",
   "execution_count": null,
   "id": "7b49c394-7479-4aa8-a06c-815171191e3c",
   "metadata": {},
   "outputs": [],
   "source": [
    "# Below I wanted to see if there were any other species recorded besides crab. Crab is the only species recorded.\n",
    "\n",
    "list(DFshellfishBeringDutch['SpeciesGroup'].value_counts().keys())"
   ]
  },
  {
   "cell_type": "code",
   "execution_count": null,
   "id": "2f4e03b7-b521-461d-8170-9671009b054c",
   "metadata": {},
   "outputs": [],
   "source": [
    "# Below I make sure that the data types are as expected to be\n",
    "\n",
    "DFshellfishBeringDutch.dtypes"
   ]
  },
  {
   "cell_type": "code",
   "execution_count": null,
   "id": "fbd97307-aa61-4774-96f9-33be4b70a600",
   "metadata": {},
   "outputs": [],
   "source": [
    "# I changed Operation Year from an integer into an object. This makes it so I'm plotting categorical data on the x-axis in the histogram below\n",
    "\n",
    "DFshellfishBering['OperationYear'] = DFshellfishBering['OperationYear'].apply(lambda x: str(x))"
   ]
  },
  {
   "cell_type": "code",
   "execution_count": null,
   "id": "62afba08-2edf-41d6-87de-5c3437edecdf",
   "metadata": {},
   "outputs": [],
   "source": [
    "# Making a scatter plot to show the change in total net weight produced over the years\n",
    "\n",
    "fig = px.histogram(DFshellfishBering,\n",
    "                 x='OperationYear',\n",
    "                 y=\"TotalNetWeight\",\n",
    "                 color= 'SpeciesGroup')\n",
    "\n",
    "fig.update_layout(bargap=0.3,\n",
    "                  title=' ',\n",
    "                  autosize=False,\n",
    "                  width=800,\n",
    "                  height=600)\n",
    "\n",
    "fig.show()"
   ]
  },
  {
   "cell_type": "code",
   "execution_count": null,
   "id": "fc7774cb-b5a5-4d9a-b1d4-f5e93193be17",
   "metadata": {},
   "outputs": [],
   "source": []
  },
  {
   "cell_type": "markdown",
   "id": "d074a41f-3b11-4ddc-9292-dc4233db947e",
   "metadata": {},
   "source": [
    "## Conclusion\n",
    "\n",
    "Give a brief statement about what you achieved in your analysis, what issues or limitations your analysis contains, a conversation of any ethical concerns with the data or analysis, and some possible future directions (if you had more time an money to keep going)."
   ]
  }
 ],
 "metadata": {
  "kernelspec": {
   "display_name": "Python 3 (ipykernel)",
   "language": "python",
   "name": "python3"
  },
  "language_info": {
   "codemirror_mode": {
    "name": "ipython",
    "version": 3
   },
   "file_extension": ".py",
   "mimetype": "text/x-python",
   "name": "python",
   "nbconvert_exporter": "python",
   "pygments_lexer": "ipython3",
   "version": "3.12.2"
  }
 },
 "nbformat": 4,
 "nbformat_minor": 5
}
