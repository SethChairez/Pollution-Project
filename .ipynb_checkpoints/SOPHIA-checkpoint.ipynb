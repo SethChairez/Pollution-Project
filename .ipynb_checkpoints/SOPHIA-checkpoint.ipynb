{
 "cells": [
  {
   "cell_type": "code",
   "execution_count": 540,
   "id": "f0c58e49-b3ca-4e66-90b5-634353d7e199",
   "metadata": {},
   "outputs": [],
   "source": [
    "import numpy as np\n",
    "import pandas as pd\n",
    "\n",
    "import matplotlib.pyplot as plt\n",
    "import plotly.express as px\n",
    "from plotly.subplots import make_subplots\n",
    "import plotly.io as pio\n",
    "pio.renderers.defaule = 'colab'\n",
    "\n",
    "from itables import show"
   ]
  },
  {
   "cell_type": "code",
   "execution_count": 541,
   "id": "c4009ad6-357b-46c1-88ab-426f4310d769",
   "metadata": {},
   "outputs": [
    {
     "data": {
      "text/html": [
       "<table id=\"itables_cf7d3396_424e_407c_8d27_ae6d5d01b974\" class=\"display nowrap\" data-quarto-disable-processing=\"true\" style=\"table-layout:auto;width:auto;margin:auto;caption-side:bottom\">\n",
       "<thead>\n",
       "    <tr style=\"text-align: right;\">\n",
       "      \n",
       "      <th>OrganizationIdentifier</th>\n",
       "      <th>OrganizationFormalName</th>\n",
       "      <th>ActivityIdentifier</th>\n",
       "      <th>ActivityTypeCode</th>\n",
       "      <th>ActivityMediaName</th>\n",
       "      <th>ActivityMediaSubdivisionName</th>\n",
       "      <th>ActivityStartDate</th>\n",
       "      <th>ActivityStartTime/Time</th>\n",
       "      <th>ActivityStartTime/TimeZoneCode</th>\n",
       "      <th>ActivityEndDate</th>\n",
       "      <th>ActivityEndTime/Time</th>\n",
       "      <th>ActivityEndTime/TimeZoneCode</th>\n",
       "      <th>ActivityRelativeDepthName</th>\n",
       "      <th>ActivityDepthHeightMeasure/MeasureValue</th>\n",
       "      <th>ActivityDepthHeightMeasure/MeasureUnitCode</th>\n",
       "      <th>ActivityDepthAltitudeReferencePointText</th>\n",
       "      <th>ActivityTopDepthHeightMeasure/MeasureValue</th>\n",
       "      <th>ActivityTopDepthHeightMeasure/MeasureUnitCode</th>\n",
       "      <th>ActivityBottomDepthHeightMeasure/MeasureValue</th>\n",
       "      <th>ActivityBottomDepthHeightMeasure/MeasureUnitCode</th>\n",
       "      <th>ProjectIdentifier</th>\n",
       "      <th>ProjectName</th>\n",
       "      <th>ActivityConductingOrganizationText</th>\n",
       "      <th>MonitoringLocationIdentifier</th>\n",
       "      <th>MonitoringLocationName</th>\n",
       "      <th>ActivityCommentText</th>\n",
       "      <th>SampleAquifer</th>\n",
       "      <th>HydrologicCondition</th>\n",
       "      <th>HydrologicEvent</th>\n",
       "      <th>ActivityLocation/LatitudeMeasure</th>\n",
       "      <th>ActivityLocation/LongitudeMeasure</th>\n",
       "      <th>SampleCollectionMethod/MethodIdentifier</th>\n",
       "      <th>SampleCollectionMethod/MethodIdentifierContext</th>\n",
       "      <th>SampleCollectionMethod/MethodName</th>\n",
       "      <th>SampleCollectionMethod/MethodDescriptionText</th>\n",
       "      <th>SampleCollectionEquipmentName</th>\n",
       "      <th>ResultIdentifier</th>\n",
       "      <th>ResultDetectionConditionText</th>\n",
       "      <th>MethodSpeciationName</th>\n",
       "      <th>CharacteristicName</th>\n",
       "      <th>ResultSampleFractionText</th>\n",
       "      <th>ResultMeasureValue</th>\n",
       "      <th>ResultMeasure/MeasureUnitCode</th>\n",
       "      <th>MeasureQualifierCode</th>\n",
       "      <th>ResultStatusIdentifier</th>\n",
       "      <th>StatisticalBaseCode</th>\n",
       "      <th>ResultValueTypeName</th>\n",
       "      <th>ResultWeightBasisText</th>\n",
       "      <th>ResultTimeBasisText</th>\n",
       "      <th>ResultTemperatureBasisText</th>\n",
       "      <th>ResultParticleSizeBasisText</th>\n",
       "      <th>DataQuality/PrecisionValue</th>\n",
       "      <th>DataQuality/BiasValue</th>\n",
       "      <th>DataQuality/ConfidenceIntervalValue</th>\n",
       "      <th>DataQuality/UpperConfidenceLimitValue</th>\n",
       "      <th>DataQuality/LowerConfidenceLimitValue</th>\n",
       "      <th>ResultCommentText</th>\n",
       "      <th>USGSPCode</th>\n",
       "      <th>ResultDepthHeightMeasure/MeasureValue</th>\n",
       "      <th>ResultDepthHeightMeasure/MeasureUnitCode</th>\n",
       "      <th>ResultDepthAltitudeReferencePointText</th>\n",
       "      <th>SubjectTaxonomicName</th>\n",
       "      <th>SampleTissueAnatomyName</th>\n",
       "      <th>BinaryObjectFileName</th>\n",
       "      <th>BinaryObjectFileTypeCode</th>\n",
       "      <th>ResultFileUrl</th>\n",
       "      <th>ResultAnalyticalMethod/MethodIdentifier</th>\n",
       "      <th>ResultAnalyticalMethod/MethodIdentifierContext</th>\n",
       "      <th>ResultAnalyticalMethod/MethodName</th>\n",
       "      <th>ResultAnalyticalMethod/MethodUrl</th>\n",
       "      <th>ResultAnalyticalMethod/MethodDescriptionText</th>\n",
       "      <th>LaboratoryName</th>\n",
       "      <th>AnalysisStartDate</th>\n",
       "      <th>ResultLaboratoryCommentText</th>\n",
       "      <th>ResultDetectionQuantitationLimitUrl</th>\n",
       "      <th>DetectionQuantitationLimitTypeName</th>\n",
       "      <th>DetectionQuantitationLimitMeasure/MeasureValue</th>\n",
       "      <th>DetectionQuantitationLimitMeasure/MeasureUnitCode</th>\n",
       "      <th>LabSamplePreparationUrl</th>\n",
       "      <th>LastUpdated</th>\n",
       "      <th>ProviderName</th>\n",
       "    </tr>\n",
       "  </thead><tbody><tr>\n",
       "<td style=\"vertical-align:middle; text-align:left\">\n",
       "<div style=\"float:left; margin-right: 10px;\">\n",
       "<a href=https://mwouts.github.io/itables/><svg class=\"main-svg\" xmlns=\"http://www.w3.org/2000/svg\" xmlns:xlink=\"http://www.w3.org/1999/xlink\"\n",
       "width=\"64\" viewBox=\"0 0 500 400\" style=\"font-family: 'Droid Sans', sans-serif;\">\n",
       "    <g style=\"fill:#d9d7fc\">\n",
       "        <path d=\"M100,400H500V357H100Z\" />\n",
       "        <path d=\"M100,300H400V257H100Z\" />\n",
       "        <path d=\"M0,200H400V157H0Z\" />\n",
       "        <path d=\"M100,100H500V57H100Z\" />\n",
       "        <path d=\"M100,350H500V307H100Z\" />\n",
       "        <path d=\"M100,250H400V207H100Z\" />\n",
       "        <path d=\"M0,150H400V107H0Z\" />\n",
       "        <path d=\"M100,50H500V7H100Z\" />\n",
       "    </g>\n",
       "    <g style=\"fill:#1a1366;stroke:#1a1366;\">\n",
       "   <rect x=\"100\" y=\"7\" width=\"400\" height=\"43\">\n",
       "    <animate\n",
       "      attributeName=\"width\"\n",
       "      values=\"0;400;0\"\n",
       "      dur=\"5s\"\n",
       "      repeatCount=\"indefinite\" />\n",
       "      <animate\n",
       "      attributeName=\"x\"\n",
       "      values=\"100;100;500\"\n",
       "      dur=\"5s\"\n",
       "      repeatCount=\"indefinite\" />\n",
       "  </rect>\n",
       "        <rect x=\"0\" y=\"107\" width=\"400\" height=\"43\">\n",
       "    <animate\n",
       "      attributeName=\"width\"\n",
       "      values=\"0;400;0\"\n",
       "      dur=\"3.5s\"\n",
       "      repeatCount=\"indefinite\" />\n",
       "    <animate\n",
       "      attributeName=\"x\"\n",
       "      values=\"0;0;400\"\n",
       "      dur=\"3.5s\"\n",
       "      repeatCount=\"indefinite\" />\n",
       "  </rect>\n",
       "        <rect x=\"100\" y=\"207\" width=\"300\" height=\"43\">\n",
       "    <animate\n",
       "      attributeName=\"width\"\n",
       "      values=\"0;300;0\"\n",
       "      dur=\"3s\"\n",
       "      repeatCount=\"indefinite\" />\n",
       "    <animate\n",
       "      attributeName=\"x\"\n",
       "      values=\"100;100;400\"\n",
       "      dur=\"3s\"\n",
       "      repeatCount=\"indefinite\" />\n",
       "  </rect>\n",
       "        <rect x=\"100\" y=\"307\" width=\"400\" height=\"43\">\n",
       "    <animate\n",
       "      attributeName=\"width\"\n",
       "      values=\"0;400;0\"\n",
       "      dur=\"4s\"\n",
       "      repeatCount=\"indefinite\" />\n",
       "      <animate\n",
       "      attributeName=\"x\"\n",
       "      values=\"100;100;500\"\n",
       "      dur=\"4s\"\n",
       "      repeatCount=\"indefinite\" />\n",
       "  </rect>\n",
       "        <g style=\"fill:transparent;stroke-width:8; stroke-linejoin:round\" rx=\"5\">\n",
       "            <g transform=\"translate(45 50) rotate(-45)\">\n",
       "                <circle r=\"33\" cx=\"0\" cy=\"0\" />\n",
       "                <rect x=\"-8\" y=\"32\" width=\"16\" height=\"30\" />\n",
       "            </g>\n",
       "\n",
       "            <g transform=\"translate(450 152)\">\n",
       "                <polyline points=\"-15,-20 -35,-20 -35,40 25,40 25,20\" />\n",
       "                <rect x=\"-15\" y=\"-40\" width=\"60\" height=\"60\" />\n",
       "            </g>\n",
       "\n",
       "            <g transform=\"translate(50 352)\">\n",
       "                <polygon points=\"-35,-5 0,-40 35,-5\" />\n",
       "                <polygon points=\"-35,10 0,45 35,10\" />\n",
       "            </g>\n",
       "\n",
       "            <g transform=\"translate(75 250)\">\n",
       "                <polyline points=\"-30,30 -60,0 -30,-30\" />\n",
       "                <polyline points=\"0,30 -30,0 0,-30\" />\n",
       "            </g>\n",
       "\n",
       "            <g transform=\"translate(425 250) rotate(180)\">\n",
       "                <polyline points=\"-30,30 -60,0 -30,-30\" />\n",
       "                <polyline points=\"0,30 -30,0 0,-30\" />\n",
       "            </g>\n",
       "        </g>\n",
       "    </g>\n",
       "</svg>\n",
       "</a>\n",
       "</div>\n",
       "<div>\n",
       "Loading ITables v2.1.4 from the internet...\n",
       "(need <a href=https://mwouts.github.io/itables/troubleshooting.html>help</a>?)</td>\n",
       "</div>\n",
       "</tr></tbody>\n",
       "\n",
       "</table>\n",
       "<link href=\"https://www.unpkg.com/dt_for_itables@2.0.11/dt_bundle.css\" rel=\"stylesheet\">\n",
       "<script type=\"module\">\n",
       "    import {DataTable, jQuery as $} from 'https://www.unpkg.com/dt_for_itables@2.0.11/dt_bundle.js';\n",
       "\n",
       "    document.querySelectorAll(\"#itables_cf7d3396_424e_407c_8d27_ae6d5d01b974:not(.dataTable)\").forEach(table => {\n",
       "        // Define the table data\n",
       "        const data = [[\"LADEQWPD_WQX\", \"LDEQ/Water Planning and Assessment (Louisiana)\", \"LADEQWPD_WQX-0962-07162020-1115-Lab\", \"Sample-Routine\", \"Water\", \"NaN\", \"2020-07-16\", \"11:15:00\", \"CST\", \"NaN\", \"NaN\", \"NaN\", \"NaN\", 1.0, \"m\", \"NaN\", NaN, \"NaN\", NaN, \"NaN\", \"WQ1958001\", \"Statewide Water Quality Monitoring Network\", \"NaN\", \"LADEQWPD_WQX-0962\", \"Gulf of Mexico South of Wine Island Pass, Louisiana\", NaN, NaN, NaN, NaN, 29.058571, -90.633424, \"LADEQ QAPP\", \"LADEQWPD_WQX\", \"Quality Assurance Project Plan for the Ambient Water Quality Monitoring Network\", \"NaN\", \"Water Bottle\", \"STORET-959667579\", \"Not Detected\", \"NaN\", \"p-Dichlorobenzene\", \"Total\", \"NaN\", \"NaN\", \"NaN\", \"Final\", NaN, \"Actual\", NaN, NaN, NaN, NaN, NaN, NaN, NaN, NaN, NaN, \"NaN\", NaN, NaN, \"NaN\", NaN, NaN, NaN, NaN, NaN, NaN, \"624\", \"USEPA\", \"Purgeable Organics in Wastewater\", NaN, \"https://www.nemi.gov/methods/method_summary/5249/\", \"NaN\", \"2020-07-18\", NaN, \"https://www.waterqualitydata.us/data/providers/STORET/organizations/LADEQWPD_WQX/activities/LADEQWPD_WQX-0962-07162020-1115-Lab/results/959667579/resdetectqntlmts\", \"Lower Reporting Limit\", 0.5, \"ug/L\", NaN, \"2022-12-19T11:39:26\", \"STORET\"], [\"LADEQWPD_WQX\", \"LDEQ/Water Planning and Assessment (Louisiana)\", \"LADEQWPD_WQX-0962-01302020-0945-Lab\", \"Sample-Routine\", \"Water\", \"NaN\", \"2020-01-30\", \"09:45:00\", \"CST\", \"NaN\", \"NaN\", \"NaN\", \"NaN\", NaN, \"NaN\", \"NaN\", NaN, \"NaN\", NaN, \"NaN\", \"WQ1958001\", \"Statewide Water Quality Monitoring Network\", \"NaN\", \"LADEQWPD_WQX-0962\", \"Gulf of Mexico South of Wine Island Pass, Louisiana\", NaN, NaN, NaN, NaN, 29.058571, -90.633424, \"LADEQ QAPP\", \"LADEQWPD_WQX\", \"Quality Assurance Project Plan for the Ambient Water Quality Monitoring Network\", \"NaN\", \"Water Bottle\", \"STORET-959687224\", \"Not Detected\", \"NaN\", \"1,1,2-Trichloroethane\", \"Total\", \"NaN\", \"NaN\", \"NaN\", \"Final\", NaN, \"Actual\", NaN, NaN, NaN, NaN, NaN, NaN, NaN, NaN, NaN, \"NaN\", NaN, NaN, \"NaN\", NaN, NaN, NaN, NaN, NaN, NaN, \"624\", \"USEPA\", \"Purgeable Organics in Wastewater\", NaN, \"https://www.nemi.gov/methods/method_summary/5249/\", \"NaN\", \"2020-02-05\", NaN, \"https://www.waterqualitydata.us/data/providers/STORET/organizations/LADEQWPD_WQX/activities/LADEQWPD_WQX-0962-01302020-0945-Lab/results/959687224/resdetectqntlmts\", \"Lower Reporting Limit\", 0.5, \"ug/L\", NaN, \"2022-12-19T11:43:18\", \"STORET\"], [\"21MSWQ_WQX\", \"MISSISSIPPI DEPARTMENT OF ENVIRONMENTAL QUALITY\", \"21MSWQ_WQX-157931-625\", \"Sample-Routine\", \"Water\", \"NaN\", \"2020-02-11\", \"10:40:00\", \"CDT\", \"NaN\", \"NaN\", \"NaN\", \"NaN\", 0.5, \"ft\", \"NaN\", NaN, \"NaN\", NaN, \"NaN\", \"BCH20;EPABEACH;MS356172\", \"BEACH MONITORING 2020;BEACH MONITORING 2024;BAY ST LOUIS BEACH\", \"MISSISSIPPI DEPARTMENT OF ENVIRONMENTAL QUALITY\", \"21MSWQ_WQX-640MSDB03\", \"BAY ST LOUIS BEACH\", NaN, NaN, NaN, NaN, 30.300222, -89.332639, \"Grab-DTSC\", \"21MSWQ_WQX\", \"Grab-Direct to Sample Container\", \"The collection of a sample utilizing no collection gear. The sample is collected directly into the sample container.\", \"Water Bottle\", \"STORET-882159955\", \"NaN\", \"NaN\", \"Organic carbon\", \"Total\", \"4\", \"mg/L\", \"NaN\", \"Accepted\", NaN, \"Actual\", NaN, NaN, NaN, NaN, NaN, NaN, NaN, NaN, NaN, \"NaN\", NaN, 0.5, \"ft\", NaN, NaN, NaN, NaN, NaN, NaN, \"5310-B\", \"APHA\", \"5310 B ~ Total Organic Carbon by Combustion-Infrared Method\", NaN, \"https://www.nemi.gov/methods/method_summary/5717/\", \"NaN\", \"NaN\", NaN, \"NaN\", \"NaN\", NaN, \"NaN\", NaN, \"2021-03-24T18:13:34\", \"STORET\"], [\"21FLFWC_WQX\", \"FLORIDA FISH AND WILDLIFE CONSERVATION COMMISSION\", \"21FLFWC_WQX-KEYS101_K500S_FS\", \"Sample-Routine\", \"Water\", \"Surface Water\", \"2020-09-11\", \"12:51:00\", \"EST\", \"NaN\", \"NaN\", \"NaN\", \"NaN\", 0.69, \"m\", \"NaN\", NaN, \"NaN\", NaN, \"NaN\", \"WQMP\", \"Water Quality Monitoring Program\", \"FLORIDA INTERNATIONAL UNIVERSITY\", \"21FLFWC_WQX-500-W\", \"Lake Largo Canal\", NaN, NaN, NaN, NaN, 25.08535, -80.43346, \"Direct Grab\", \"21FLFWC_WQX\", \"Direct Grab\", \"An individual sample collected at one time period, generally not exceeding 15 minutes.  Grab samples represent the conditions that exist at the moment the sample is collected.  Use sample container to directly collect the sample.  For Aqueous matrices, all sample containers for individual analytes or analyte groups must be filled from the sampling location or source within the 15-minute window.\", \"Water Bottle\", \"STORET-928952250\", \"NaN\", \"NaN\", \"Organic carbon\", \"Total\", \"1.549\", \"ppm\", \"NaN\", \"Final\", NaN, \"Actual\", NaN, NaN, NaN, NaN, NaN, NaN, NaN, NaN, NaN, \"NaN\", NaN, NaN, \"NaN\", NaN, NaN, NaN, NaN, NaN, NaN, \"FIU-TOC\", \"21FLFWC_WQX\", \"FIU-TOC\", NaN, \"NaN\", \"E76930\", \"2020-10-01\", NaN, \"https://www.waterqualitydata.us/data/providers/STORET/organizations/21FLFWC_WQX/activities/21FLFWC_WQX-KEYS101_K500S_FS/results/928952250/resdetectqntlmts\", \"Practical Quantitation Limit\", 0.5, \"ppm\", NaN, \"2022-01-27T11:34:46\", \"STORET\"], [\"21FLFWC_WQX\", \"FLORIDA FISH AND WILDLIFE CONSERVATION COMMISSION\", \"21FLFWC_WQX-KEYS102_K332B_FS\", \"Sample-Routine\", \"Water\", \"Surface Water\", \"2020-12-15\", \"10:59:00\", \"EST\", \"NaN\", \"NaN\", \"NaN\", \"NaN\", 9.56, \"m\", \"NaN\", NaN, \"NaN\", NaN, \"NaN\", \"WQMP\", \"Water Quality Monitoring Program\", \"FLORIDA INTERNATIONAL UNIVERSITY\", \"21FLFWC_WQX-332-W\", \"S Quicksands\", NaN, NaN, NaN, NaN, 24.5355, -82.36733, \"Direct Grab\", \"21FLFWC_WQX\", \"Direct Grab\", \"An individual sample collected at one time period, generally not exceeding 15 minutes.  Grab samples represent the conditions that exist at the moment the sample is collected.  Use sample container to directly collect the sample.  For Aqueous matrices, all sample containers for individual analytes or analyte groups must be filled from the sampling location or source within the 15-minute window.\", \"Water Bottle\", \"STORET-928954814\", \"NaN\", \"NaN\", \"Organic carbon\", \"Total\", \"1.185\", \"ppm\", \"NaN\", \"Final\", NaN, \"Actual\", NaN, NaN, NaN, NaN, NaN, NaN, NaN, NaN, NaN, \"**J**The analyte was detected at or above the method detection limit in an analytical laboratory blank other than the method blank (such as a calibration blank) and, the blank value is greater than 10% of the associated sample value\", NaN, NaN, \"NaN\", NaN, NaN, NaN, NaN, NaN, NaN, \"FIU-TOC\", \"21FLFWC_WQX\", \"FIU-TOC\", NaN, \"NaN\", \"E76930\", \"2020-12-30\", NaN, \"https://www.waterqualitydata.us/data/providers/STORET/organizations/21FLFWC_WQX/activities/21FLFWC_WQX-KEYS102_K332B_FS/results/928954814/resdetectqntlmts\", \"Practical Quantitation Limit\", 0.5, \"ppm\", NaN, \"2022-01-27T11:35:03\", \"STORET\"], [\"LADEQWPD_WQX\", \"LDEQ/Water Planning and Assessment (Louisiana)\", \"LADEQWPD_WQX-1204-06032020-1038-Field\", \"Field Msr/Obs\", \"Water\", \"NaN\", \"2020-06-03\", \"10:38:00\", \"CST\", \"NaN\", \"NaN\", \"NaN\", \"NaN\", 1.0, \"m\", \"NaN\", NaN, \"NaN\", NaN, \"NaN\", \"WQ1958001\", \"Statewide Water Quality Monitoring Network\", \"NaN\", \"LADEQWPD_WQX-1204\", \"Atchafalaya Bay Southwest of Burns, Louisiana\", NaN, NaN, NaN, NaN, 29.50184, -91.563639, \"LADEQ QAPP\", \"LADEQWPD_WQX\", \"Quality Assurance Project Plan for the Ambient Water Quality Monitoring Network\", \"NaN\", \"Water Bottle\", \"STORET-959735865\", \"NaN\", \"NaN\", \"Oil and Grease surface slick/sheen (Y/N) (choice list)\", \"NaN\", \"N\", \"NaN\", \"NaN\", \"Final\", NaN, \"Actual\", NaN, NaN, NaN, NaN, NaN, NaN, NaN, NaN, NaN, \"NaN\", NaN, NaN, \"NaN\", NaN, NaN, NaN, NaN, NaN, NaN, \"NaN\", \"NaN\", \"NaN\", NaN, \"NaN\", \"NaN\", \"NaN\", NaN, \"NaN\", \"NaN\", NaN, \"NaN\", NaN, \"2022-12-19T11:52:02\", \"STORET\"], [\"WTGHA\", \"Wompanoag Tribe of Gay Head Aquinnah (Tribal)\", \"WTGHA-P1:20200219:SR:B\", \"Sample-Routine\", \"Water\", \"NaN\", \"2020-02-19\", \"NaN\", \"NaN\", \"NaN\", \"NaN\", \"NaN\", \"NaN\", NaN, \"NaN\", \"NaN\", NaN, \"NaN\", NaN, \"NaN\", \"WTGHA\", \"The Wampanoag Tribe of Gay Head Aquinnah\", \"NaN\", \"WTGHA-P1\", \"P1 | Menemsha Perimenter | Lobsterville Beach\", NaN, NaN, NaN, NaN, 41.349306, -70.788056, \"NaN\", \"NaN\", \"NaN\", \"NaN\", \"Bucket\", \"STORET-1041358794\", \"NaN\", \"as P\", \"Phosphated pesticides\", \"Total\", \"0.13\", \"mg/L\", \"NaN\", \"Final\", NaN, \"Actual\", NaN, NaN, NaN, NaN, NaN, NaN, NaN, NaN, NaN, \"NaN\", NaN, NaN, \"NaN\", NaN, NaN, NaN, NaN, NaN, NaN, \"8048\", \"HACH\", \"Reactive Phosphorus in Water\", NaN, \"https://www.nemi.gov/methods/method_summary/4828/\", \"NaN\", \"NaN\", NaN, \"NaN\", \"NaN\", NaN, \"NaN\", NaN, \"2024-09-19T09:12:48\", \"STORET\"], [\"CEDEN\", \"California State Water Resources Control Board\", \"CEDEN--2144650495\", \"Sample-Routine\", \"Water\", \"NaN\", \"2020-07-30\", \"10:04:00\", \"PST\", \"NaN\", \"NaN\", \"NaN\", \"NaN\", NaN, \"NaN\", \"NaN\", NaN, \"NaN\", NaN, \"NaN\", \"BBM\", \"Beach Bacteria Monitoring\", \"NaN\", \"CEDEN-Main-B\", \"Main Beach Site B\", NaN, NaN, NaN, NaN, 36.9621, -122.022, \"Water_Grab\", \"CEDEN\", \"Water_Grab\", \"Method for generic water collection that was either grab or integrated\", \"Miscellaneous (Other)\", \"STORET-973286446\", \"NaN\", \"NaN\", \"2,3,3',4,5'-Pentachlorobiphenyl\", \"NaN\", \"30\", \"cfu/100mL\", \"NaN\", \"Final\", NaN, \"Actual\", NaN, NaN, NaN, NaN, NaN, NaN, NaN, NaN, NaN, \"1; AB15110\", NaN, NaN, \"NaN\", NaN, NaN, NaN, NaN, NaN, NaN, \"1343\", \"CEDEN\", \"SM 9230 C\", NaN, \"NaN\", \"NaN\", \"2020-07-30\", NaN, \"NaN\", \"NaN\", NaN, \"NaN\", NaN, \"2023-04-20T15:03:25\", \"STORET\"], [\"21FLFWC_WQX\", \"FLORIDA FISH AND WILDLIFE CONSERVATION COMMISSION\", \"21FLFWC_WQX-KEYS98_K250S_SS\", \"Sample-Routine\", \"Water\", \"Surface Water\", \"2020-01-07\", \"11:14:00\", \"EST\", \"NaN\", \"NaN\", \"NaN\", \"NaN\", 0.869, \"m\", \"NaN\", NaN, \"NaN\", NaN, \"NaN\", \"WQMP\", \"Water Quality Monitoring Program\", \"FLORIDA INTERNATIONAL UNIVERSITY\", \"21FLFWC_WQX-250-W\", \"Seven Mile Bridge\", NaN, NaN, NaN, NaN, 24.69193, -81.18245, \"Direct Grab\", \"21FLFWC_WQX\", \"Direct Grab\", \"An individual sample collected at one time period, generally not exceeding 15 minutes.  Grab samples represent the conditions that exist at the moment the sample is collected.  Use sample container to directly collect the sample.  For Aqueous matrices, all sample containers for individual analytes or analyte groups must be filled from the sampling location or source within the 15-minute window.\", \"Water Bottle\", \"STORET-963832232\", \"NaN\", \"NaN\", \"Organic carbon\", \"Total\", \"2.693\", \"ppm\", \"NaN\", \"Final\", NaN, \"Actual\", NaN, NaN, NaN, NaN, NaN, NaN, NaN, NaN, NaN, \"NaN\", NaN, NaN, \"NaN\", NaN, NaN, NaN, NaN, NaN, NaN, \"FIU-TOC\", \"21FLFWC_WQX\", \"FIU-TOC\", NaN, \"NaN\", \"E76930\", \"2020-02-01\", NaN, \"https://www.waterqualitydata.us/data/providers/STORET/organizations/21FLFWC_WQX/activities/21FLFWC_WQX-KEYS98_K250S_SS/results/963832232/resdetectqntlmts\", \"Practical Quantitation Limit\", 0.5, \"ppm\", NaN, \"2023-01-17T09:37:12\", \"STORET\"], [\"21FLFWC_WQX\", \"FLORIDA FISH AND WILDLIFE CONSERVATION COMMISSION\", \"21FLFWC_WQX-KEYS99_K243B_FS\", \"Sample-Routine\", \"Water\", \"Surface Water\", \"2020-03-30\", \"15:56:00\", \"EST\", \"NaN\", \"NaN\", \"NaN\", \"NaN\", 7.47, \"m\", \"NaN\", NaN, \"NaN\", NaN, \"NaN\", \"WQMP\", \"Water Quality Monitoring Program\", \"FLORIDA INTERNATIONAL UNIVERSITY\", \"21FLFWC_WQX-243-W\", \"Tennessee Reef\", NaN, NaN, NaN, NaN, 24.745, -80.78333, \"Direct Grab\", \"21FLFWC_WQX\", \"Direct Grab\", \"An individual sample collected at one time period, generally not exceeding 15 minutes.  Grab samples represent the conditions that exist at the moment the sample is collected.  Use sample container to directly collect the sample.  For Aqueous matrices, all sample containers for individual analytes or analyte groups must be filled from the sampling location or source within the 15-minute window.\", \"Water Bottle\", \"STORET-963860125\", \"NaN\", \"NaN\", \"Organic carbon\", \"Total\", \"0.9115\", \"ppm\", \"NaN\", \"Final\", NaN, \"Actual\", NaN, NaN, NaN, NaN, NaN, NaN, NaN, NaN, NaN, \"NaN\", NaN, NaN, \"NaN\", NaN, NaN, NaN, NaN, NaN, NaN, \"FIU-TOC\", \"21FLFWC_WQX\", \"FIU-TOC\", NaN, \"NaN\", \"E76930\", \"2020-04-14\", NaN, \"https://www.waterqualitydata.us/data/providers/STORET/organizations/21FLFWC_WQX/activities/21FLFWC_WQX-KEYS99_K243B_FS/results/963860125/resdetectqntlmts\", \"Practical Quantitation Limit\", 0.5, \"ppm\", NaN, \"2023-01-17T09:39:46\", \"STORET\"], [\"21FLFWC_WQX\", \"FLORIDA FISH AND WILDLIFE CONSERVATION COMMISSION\", \"21FLFWC_WQX-KEYS99_K244B_FS\", \"Sample-Routine\", \"Water\", \"Surface Water\", \"2020-03-30\", \"18:15:00\", \"EST\", \"NaN\", \"NaN\", \"NaN\", \"NaN\", 327.0, \"m\", \"NaN\", NaN, \"NaN\", NaN, \"NaN\", \"WQMP\", \"Water Quality Monitoring Program\", \"FLORIDA INTERNATIONAL UNIVERSITY\", \"21FLFWC_WQX-244-W\", \"Long Key Pass Inshore\", NaN, NaN, NaN, NaN, 24.79333, -80.86333, \"Direct Grab\", \"21FLFWC_WQX\", \"Direct Grab\", \"An individual sample collected at one time period, generally not exceeding 15 minutes.  Grab samples represent the conditions that exist at the moment the sample is collected.  Use sample container to directly collect the sample.  For Aqueous matrices, all sample containers for individual analytes or analyte groups must be filled from the sampling location or source within the 15-minute window.\", \"Water Bottle\", \"STORET-963841349\", \"NaN\", \"NaN\", \"Organic carbon\", \"Total\", \"1.036\", \"ppm\", \"NaN\", \"Final\", NaN, \"Actual\", NaN, NaN, NaN, NaN, NaN, NaN, NaN, NaN, NaN, \"NaN\", NaN, NaN, \"NaN\", NaN, NaN, NaN, NaN, NaN, NaN, \"FIU-TOC\", \"21FLFWC_WQX\", \"FIU-TOC\", NaN, \"NaN\", \"E76930\", \"2020-04-14\", NaN, \"https://www.waterqualitydata.us/data/providers/STORET/organizations/21FLFWC_WQX/activities/21FLFWC_WQX-KEYS99_K244B_FS/results/963841349/resdetectqntlmts\", \"Practical Quantitation Limit\", 0.5, \"ppm\", NaN, \"2023-01-17T09:38:05\", \"STORET\"], [\"21FLFWC_WQX\", \"FLORIDA FISH AND WILDLIFE CONSERVATION COMMISSION\", \"21FLFWC_WQX-KEYS100_K212B_FS\", \"Sample-Routine\", \"Water\", \"Surface Water\", \"2020-07-14\", \"11:33:00\", \"EST\", \"NaN\", \"NaN\", \"NaN\", \"NaN\", 5.22, \"m\", \"NaN\", NaN, \"NaN\", NaN, \"NaN\", \"WQMP\", \"Water Quality Monitoring Program\", \"FLORIDA INTERNATIONAL UNIVERSITY\", \"21FLFWC_WQX-212-W\", \"Turtle Harbor\", NaN, NaN, NaN, NaN, 25.29452, -80.24542, \"Direct Grab\", \"21FLFWC_WQX\", \"Direct Grab\", \"An individual sample collected at one time period, generally not exceeding 15 minutes.  Grab samples represent the conditions that exist at the moment the sample is collected.  Use sample container to directly collect the sample.  For Aqueous matrices, all sample containers for individual analytes or analyte groups must be filled from the sampling location or source within the 15-minute window.\", \"Water Bottle\", \"STORET-928938064\", \"NaN\", \"NaN\", \"Organic carbon\", \"Total\", \"1.234\", \"ppm\", \"NaN\", \"Final\", NaN, \"Actual\", NaN, NaN, NaN, NaN, NaN, NaN, NaN, NaN, NaN, \"NaN\", NaN, NaN, \"NaN\", NaN, NaN, NaN, NaN, NaN, NaN, \"FIU-TOC\", \"21FLFWC_WQX\", \"FIU-TOC\", NaN, \"NaN\", \"E76930\", \"2020-07-29\", NaN, \"https://www.waterqualitydata.us/data/providers/STORET/organizations/21FLFWC_WQX/activities/21FLFWC_WQX-KEYS100_K212B_FS/results/928938064/resdetectqntlmts\", \"Practical Quantitation Limit\", 0.5, \"ppm\", NaN, \"2022-01-27T11:33:04\", \"STORET\"], [\"21FLFWC_WQX\", \"FLORIDA FISH AND WILDLIFE CONSERVATION COMMISSION\", \"21FLFWC_WQX-KEYS100_K211S_FS\", \"Sample-Routine\", \"Water\", \"Surface Water\", \"2020-07-14\", \"11:43:00\", \"EST\", \"NaN\", \"NaN\", \"NaN\", \"NaN\", 0.79, \"m\", \"NaN\", NaN, \"NaN\", NaN, \"NaN\", \"WQMP\", \"Water Quality Monitoring Program\", \"FLORIDA INTERNATIONAL UNIVERSITY\", \"21FLFWC_WQX-211-W\", \"Pennikamp G27\", NaN, NaN, NaN, NaN, 25.30788, -80.26165, \"Direct Grab\", \"21FLFWC_WQX\", \"Direct Grab\", \"An individual sample collected at one time period, generally not exceeding 15 minutes.  Grab samples represent the conditions that exist at the moment the sample is collected.  Use sample container to directly collect the sample.  For Aqueous matrices, all sample containers for individual analytes or analyte groups must be filled from the sampling location or source within the 15-minute window.\", \"Water Bottle\", \"STORET-928947021\", \"NaN\", \"NaN\", \"Organic carbon\", \"Total\", \"1.507\", \"ppm\", \"NaN\", \"Final\", NaN, \"Actual\", NaN, NaN, NaN, NaN, NaN, NaN, NaN, NaN, NaN, \"NaN\", NaN, NaN, \"NaN\", NaN, NaN, NaN, NaN, NaN, NaN, \"FIU-TOC\", \"21FLFWC_WQX\", \"FIU-TOC\", NaN, \"NaN\", \"E76930\", \"2020-07-29\", NaN, \"https://www.waterqualitydata.us/data/providers/STORET/organizations/21FLFWC_WQX/activities/21FLFWC_WQX-KEYS100_K211S_FS/results/928947021/resdetectqntlmts\", \"Practical Quantitation Limit\", 0.5, \"ppm\", NaN, \"2022-01-27T11:34:11\", \"STORET\"], [\"21FLFWC_WQX\", \"FLORIDA FISH AND WILDLIFE CONSERVATION COMMISSION\", \"21FLFWC_WQX-KEYS100_K259B_DUP_FR\", \"Quality Control Sample-Field Replicate\", \"Water\", \"Surface Water\", \"2020-07-09\", \"13:01:00\", \"EST\", \"NaN\", \"NaN\", \"NaN\", \"NaN\", 8.78, \"m\", \"NaN\", NaN, \"NaN\", NaN, \"NaN\", \"WQMP\", \"Water Quality Monitoring Program\", \"FLORIDA INTERNATIONAL UNIVERSITY\", \"21FLFWC_WQX-259-W\", \"Big Pine Shoal\", NaN, NaN, NaN, NaN, 24.57037, -81.32167, \"Direct Grab\", \"21FLFWC_WQX\", \"Direct Grab\", \"An individual sample collected at one time period, generally not exceeding 15 minutes.  Grab samples represent the conditions that exist at the moment the sample is collected.  Use sample container to directly collect the sample.  For Aqueous matrices, all sample containers for individual analytes or analyte groups must be filled from the sampling location or source within the 15-minute window.\", \"Water Bottle\", \"STORET-928942271\", \"NaN\", \"NaN\", \"Organic carbon\", \"Total\", \"1.378\", \"ppm\", \"NaN\", \"Final\", NaN, \"Actual\", NaN, NaN, NaN, NaN, NaN, NaN, NaN, NaN, NaN, \"NaN\", NaN, NaN, \"NaN\", NaN, NaN, NaN, NaN, NaN, NaN, \"FIU-TOC\", \"21FLFWC_WQX\", \"FIU-TOC\", NaN, \"NaN\", \"E76930\", \"2020-07-25\", NaN, \"https://www.waterqualitydata.us/data/providers/STORET/organizations/21FLFWC_WQX/activities/21FLFWC_WQX-KEYS100_K259B_DUP_FR/results/928942271/resdetectqntlmts\", \"Practical Quantitation Limit\", 0.5, \"ppm\", NaN, \"2022-01-27T11:33:35\", \"STORET\"], [\"21MSWQ_WQX\", \"MISSISSIPPI DEPARTMENT OF ENVIRONMENTAL QUALITY\", \"21MSWQ_WQX-157935-625\", \"Sample-Routine\", \"Water\", \"NaN\", \"2020-02-11\", \"11:45:00\", \"CDT\", \"NaN\", \"NaN\", \"NaN\", \"NaN\", 0.5, \"ft\", \"NaN\", NaN, \"NaN\", NaN, \"NaN\", \"BCH20;EPABEACH;MS951039\", \"BEACH MONITORING 2020;BEACH MONITORING 2024;LONG BEACH\", \"MISSISSIPPI DEPARTMENT OF ENVIRONMENTAL QUALITY\", \"21MSWQ_WQX-640MSDB07\", \"LONG BEACH\", NaN, NaN, NaN, NaN, 30.339944, -89.159722, \"Grab-DTSC\", \"21MSWQ_WQX\", \"Grab-Direct to Sample Container\", \"The collection of a sample utilizing no collection gear. The sample is collected directly into the sample container.\", \"Water Bottle\", \"STORET-882161868\", \"NaN\", \"NaN\", \"Organic carbon\", \"Total\", \"5\", \"mg/L\", \"NaN\", \"Accepted\", NaN, \"Actual\", NaN, NaN, NaN, NaN, NaN, NaN, NaN, NaN, NaN, \"NaN\", NaN, 0.5, \"ft\", NaN, NaN, NaN, NaN, NaN, NaN, \"5310-B\", \"APHA\", \"5310 B ~ Total Organic Carbon by Combustion-Infrared Method\", NaN, \"https://www.nemi.gov/methods/method_summary/5717/\", \"NaN\", \"NaN\", NaN, \"NaN\", \"NaN\", NaN, \"NaN\", NaN, \"2021-03-24T18:13:55\", \"STORET\"], [\"21FLFWC_WQX\", \"FLORIDA FISH AND WILDLIFE CONSERVATION COMMISSION\", \"21FLFWC_WQX-KEYS100_K259S_FS\", \"Sample-Routine\", \"Water\", \"Surface Water\", \"2020-07-09\", \"13:01:00\", \"EST\", \"NaN\", \"NaN\", \"NaN\", \"NaN\", 0.87, \"m\", \"NaN\", NaN, \"NaN\", NaN, \"NaN\", \"WQMP\", \"Water Quality Monitoring Program\", \"FLORIDA INTERNATIONAL UNIVERSITY\", \"21FLFWC_WQX-259-W\", \"Big Pine Shoal\", NaN, NaN, NaN, NaN, 24.57037, -81.32167, \"Direct Grab\", \"21FLFWC_WQX\", \"Direct Grab\", \"An individual sample collected at one time period, generally not exceeding 15 minutes.  Grab samples represent the conditions that exist at the moment the sample is collected.  Use sample container to directly collect the sample.  For Aqueous matrices, all sample containers for individual analytes or analyte groups must be filled from the sampling location or source within the 15-minute window.\", \"Water Bottle\", \"STORET-928952273\", \"NaN\", \"NaN\", \"Organic carbon\", \"Total\", \"1.514\", \"ppm\", \"NaN\", \"Final\", NaN, \"Actual\", NaN, NaN, NaN, NaN, NaN, NaN, NaN, NaN, NaN, \"NaN\", NaN, NaN, \"NaN\", NaN, NaN, NaN, NaN, NaN, NaN, \"FIU-TOC\", \"21FLFWC_WQX\", \"FIU-TOC\", NaN, \"NaN\", \"E76930\", \"2020-07-25\", NaN, \"https://www.waterqualitydata.us/data/providers/STORET/organizations/21FLFWC_WQX/activities/21FLFWC_WQX-KEYS100_K259S_FS/results/928952273/resdetectqntlmts\", \"Practical Quantitation Limit\", 0.5, \"ppm\", NaN, \"2022-01-27T11:34:46\", \"STORET\"], [\"LADEQWPD_WQX\", \"LDEQ/Water Planning and Assessment (Louisiana)\", \"LADEQWPD_WQX-0962-06182020-0920-Field\", \"Field Msr/Obs\", \"Water\", \"NaN\", \"2020-06-18\", \"09:20:00\", \"CST\", \"NaN\", \"NaN\", \"NaN\", \"NaN\", 1.0, \"m\", \"NaN\", NaN, \"NaN\", NaN, \"NaN\", \"WQ1958001\", \"Statewide Water Quality Monitoring Network\", \"NaN\", \"LADEQWPD_WQX-0962\", \"Gulf of Mexico South of Wine Island Pass, Louisiana\", NaN, NaN, NaN, NaN, 29.058571, -90.633424, \"LADEQ QAPP\", \"LADEQWPD_WQX\", \"Quality Assurance Project Plan for the Ambient Water Quality Monitoring Network\", \"NaN\", \"Water Bottle\", \"STORET-959671298\", \"NaN\", \"NaN\", \"Oil and Grease surface slick/sheen (Y/N) (choice list)\", \"NaN\", \"N\", \"NaN\", \"NaN\", \"Final\", NaN, \"Actual\", NaN, NaN, NaN, NaN, NaN, NaN, NaN, NaN, NaN, \"NaN\", NaN, NaN, \"NaN\", NaN, NaN, NaN, NaN, NaN, NaN, \"NaN\", \"NaN\", \"NaN\", NaN, \"NaN\", \"NaN\", \"NaN\", NaN, \"NaN\", \"NaN\", NaN, \"NaN\", NaN, \"2022-12-19T11:40:06\", \"STORET\"], [\"21FLFWC_WQX\", \"FLORIDA FISH AND WILDLIFE CONSERVATION COMMISSION\", \"21FLFWC_WQX-KEYS100_K307S_FS\", \"Sample-Routine\", \"Water\", \"Surface Water\", \"2020-07-15\", \"13:35:00\", \"EST\", \"NaN\", \"NaN\", \"NaN\", \"NaN\", 0.74, \"m\", \"NaN\", NaN, \"NaN\", NaN, \"NaN\", \"WQMP\", \"Water Quality Monitoring Program\", \"FLORIDA INTERNATIONAL UNIVERSITY\", \"21FLFWC_WQX-307-W\", \"Tarpon Belly Keys\", NaN, NaN, NaN, NaN, 24.72503, -81.52052, \"Direct Grab\", \"21FLFWC_WQX\", \"Direct Grab\", \"An individual sample collected at one time period, generally not exceeding 15 minutes.  Grab samples represent the conditions that exist at the moment the sample is collected.  Use sample container to directly collect the sample.  For Aqueous matrices, all sample containers for individual analytes or analyte groups must be filled from the sampling location or source within the 15-minute window.\", \"Water Bottle\", \"STORET-928940014\", \"NaN\", \"NaN\", \"Organic carbon\", \"Total\", \"1.898\", \"ppm\", \"NaN\", \"Final\", NaN, \"Actual\", NaN, NaN, NaN, NaN, NaN, NaN, NaN, NaN, NaN, \"NaN\", NaN, NaN, \"NaN\", NaN, NaN, NaN, NaN, NaN, NaN, \"FIU-TOC\", \"21FLFWC_WQX\", \"FIU-TOC\", NaN, \"NaN\", \"E76930\", \"2020-07-30\", NaN, \"https://www.waterqualitydata.us/data/providers/STORET/organizations/21FLFWC_WQX/activities/21FLFWC_WQX-KEYS100_K307S_FS/results/928940014/resdetectqntlmts\", \"Practical Quantitation Limit\", 0.5, \"ppm\", NaN, \"2022-01-27T11:33:20\", \"STORET\"], [\"WTGHA\", \"Wompanoag Tribe of Gay Head Aquinnah (Tribal)\", \"WTGHA-P1:20200106:SR:B\", \"Sample-Routine\", \"Water\", \"NaN\", \"2020-01-06\", \"NaN\", \"NaN\", \"NaN\", \"NaN\", \"NaN\", \"NaN\", NaN, \"NaN\", \"NaN\", NaN, \"NaN\", NaN, \"NaN\", \"WTGHA\", \"The Wampanoag Tribe of Gay Head Aquinnah\", \"NaN\", \"WTGHA-P1\", \"P1 | Menemsha Perimenter | Lobsterville Beach\", NaN, NaN, NaN, NaN, 41.349306, -70.788056, \"NaN\", \"NaN\", \"NaN\", \"NaN\", \"Bucket\", \"STORET-1041358423\", \"NaN\", \"as P\", \"Phosphated pesticides\", \"Total\", \"0.09\", \"mg/L\", \"NaN\", \"Final\", NaN, \"Actual\", NaN, NaN, NaN, NaN, NaN, NaN, NaN, NaN, NaN, \"NaN\", NaN, NaN, \"NaN\", NaN, NaN, NaN, NaN, NaN, NaN, \"8048\", \"HACH\", \"Reactive Phosphorus in Water\", NaN, \"https://www.nemi.gov/methods/method_summary/4828/\", \"NaN\", \"NaN\", NaN, \"NaN\", \"NaN\", NaN, \"NaN\", NaN, \"2024-09-19T09:12:46\", \"STORET\"], [\"LADEQWPD_WQX\", \"LDEQ/Water Planning and Assessment (Louisiana)\", \"LADEQWPD_WQX-0962-01302020-0945-Lab\", \"Sample-Routine\", \"Water\", \"NaN\", \"2020-01-30\", \"09:45:00\", \"CST\", \"NaN\", \"NaN\", \"NaN\", \"NaN\", NaN, \"NaN\", \"NaN\", NaN, \"NaN\", NaN, \"NaN\", \"WQ1958001\", \"Statewide Water Quality Monitoring Network\", \"NaN\", \"LADEQWPD_WQX-0962\", \"Gulf of Mexico South of Wine Island Pass, Louisiana\", NaN, NaN, NaN, NaN, 29.058571, -90.633424, \"LADEQ QAPP\", \"LADEQWPD_WQX\", \"Quality Assurance Project Plan for the Ambient Water Quality Monitoring Network\", \"NaN\", \"Water Bottle\", \"STORET-959687213\", \"Not Detected\", \"NaN\", \"Tetrachloroethylene\", \"Total\", \"NaN\", \"NaN\", \"NaN\", \"Final\", NaN, \"Actual\", NaN, NaN, NaN, NaN, NaN, NaN, NaN, NaN, NaN, \"NaN\", NaN, NaN, \"NaN\", NaN, NaN, NaN, NaN, NaN, NaN, \"624\", \"USEPA\", \"Purgeable Organics in Wastewater\", NaN, \"https://www.nemi.gov/methods/method_summary/5249/\", \"NaN\", \"2020-02-05\", NaN, \"https://www.waterqualitydata.us/data/providers/STORET/organizations/LADEQWPD_WQX/activities/LADEQWPD_WQX-0962-01302020-0945-Lab/results/959687213/resdetectqntlmts\", \"Lower Reporting Limit\", 0.5, \"ug/L\", NaN, \"2022-12-19T11:43:18\", \"STORET\"], [\"WTGHA\", \"Wompanoag Tribe of Gay Head Aquinnah (Tribal)\", \"WTGHA-P1:20200114:SR:B\", \"Sample-Routine\", \"Water\", \"NaN\", \"2020-01-14\", \"NaN\", \"NaN\", \"NaN\", \"NaN\", \"NaN\", \"NaN\", NaN, \"NaN\", \"NaN\", NaN, \"NaN\", NaN, \"NaN\", \"WTGHA\", \"The Wampanoag Tribe of Gay Head Aquinnah\", \"NaN\", \"WTGHA-P1\", \"P1 | Menemsha Perimenter | Lobsterville Beach\", NaN, NaN, NaN, NaN, 41.349306, -70.788056, \"NaN\", \"NaN\", \"NaN\", \"NaN\", \"Bucket\", \"STORET-1041358486\", \"NaN\", \"as P\", \"Phosphated pesticides\", \"Total\", \"0.13\", \"mg/L\", \"NaN\", \"Final\", NaN, \"Actual\", NaN, NaN, NaN, NaN, NaN, NaN, NaN, NaN, NaN, \"NaN\", NaN, NaN, \"NaN\", NaN, NaN, NaN, NaN, NaN, NaN, \"8048\", \"HACH\", \"Reactive Phosphorus in Water\", NaN, \"https://www.nemi.gov/methods/method_summary/4828/\", \"NaN\", \"NaN\", NaN, \"NaN\", \"NaN\", NaN, \"NaN\", NaN, \"2024-09-19T09:12:47\", \"STORET\"], [\"21FLFWC_WQX\", \"FLORIDA FISH AND WILDLIFE CONSERVATION COMMISSION\", \"21FLFWC_WQX-KEYS100_K242B_FS\", \"Sample-Routine\", \"Water\", \"Surface Water\", \"2020-06-15\", \"12:29:00\", \"EST\", \"NaN\", \"NaN\", \"NaN\", \"NaN\", 4.69, \"m\", \"NaN\", NaN, \"NaN\", NaN, \"NaN\", \"WQMP\", \"Water Quality Monitoring Program\", \"FLORIDA INTERNATIONAL UNIVERSITY\", \"21FLFWC_WQX-242-W\", \"Long Key Channel\", NaN, NaN, NaN, NaN, 24.7915, -80.81225, \"Direct Grab\", \"21FLFWC_WQX\", \"Direct Grab\", \"An individual sample collected at one time period, generally not exceeding 15 minutes.  Grab samples represent the conditions that exist at the moment the sample is collected.  Use sample container to directly collect the sample.  For Aqueous matrices, all sample containers for individual analytes or analyte groups must be filled from the sampling location or source within the 15-minute window.\", \"Water Bottle\", \"STORET-928955519\", \"NaN\", \"NaN\", \"Organic carbon\", \"Total\", \"1.11\", \"ppm\", \"NaN\", \"Final\", NaN, \"Actual\", NaN, NaN, NaN, NaN, NaN, NaN, NaN, NaN, NaN, \"NaN\", NaN, NaN, \"NaN\", NaN, NaN, NaN, NaN, NaN, NaN, \"FIU-TOC\", \"21FLFWC_WQX\", \"FIU-TOC\", NaN, \"NaN\", \"E76930\", \"2020-07-01\", NaN, \"https://www.waterqualitydata.us/data/providers/STORET/organizations/21FLFWC_WQX/activities/21FLFWC_WQX-KEYS100_K242B_FS/results/928955519/resdetectqntlmts\", \"Practical Quantitation Limit\", 0.5, \"ppm\", NaN, \"2022-01-27T11:35:08\", \"STORET\"], [\"TCEQMAIN\", \"Texas Commission on Environmental Quality\", \"TCEQMAIN-14794388\", \"Field Msr/Obs\", \"Water\", \"NaN\", \"2020-02-05\", \"NaN\", \"NaN\", \"NaN\", \"NaN\", \"NaN\", \"NaN\", NaN, \"NaN\", \"NaN\", NaN, \"NaN\", NaN, \"NaN\", \"1469\", \"SWQM Routine Monitoring FY20\", \"NaN\", \"TCEQMAIN-13463\", \"GULF OF MEXICO AT COUNTY LINE\", NaN, NaN, NaN, NaN, 29.5583, -94.3542, \"NaN\", \"NaN\", \"NaN\", \"NaN\", \"NaN\", \"STORET-920454166\", \"NaN\", \"NaN\", \"Organic carbon\", \"Total\", \"2\", \"mg/L\", \"NaN\", \"Final\", NaN, \"Actual\", NaN, NaN, NaN, NaN, NaN, NaN, NaN, NaN, NaN, \"NaN\", NaN, NaN, \"NaN\", NaN, NaN, NaN, NaN, NaN, NaN, \"N/A Calculation\", \"TCEQMAIN\", \"N/A Calculation\", NaN, \"NaN\", \"NaN\", \"NaN\", NaN, \"NaN\", \"NaN\", NaN, \"NaN\", NaN, \"2021-12-02T11:16:39\", \"STORET\"], [\"21FLFWC_WQX\", \"FLORIDA FISH AND WILDLIFE CONSERVATION COMMISSION\", \"21FLFWC_WQX-KEYS102_K310S_DUP_FR\", \"Quality Control Sample-Field Replicate\", \"Water\", \"Surface Water\", \"2020-12-16\", \"13:35:00\", \"EST\", \"NaN\", \"NaN\", \"NaN\", \"NaN\", 0.69, \"m\", \"NaN\", NaN, \"NaN\", NaN, \"NaN\", \"WQMP\", \"Water Quality Monitoring Program\", \"FLORIDA INTERNATIONAL UNIVERSITY\", \"21FLFWC_WQX-310-W\", \"Snipe Keys\", NaN, NaN, NaN, NaN, 24.65752, -81.63265, \"Direct Grab\", \"21FLFWC_WQX\", \"Direct Grab\", \"An individual sample collected at one time period, generally not exceeding 15 minutes.  Grab samples represent the conditions that exist at the moment the sample is collected.  Use sample container to directly collect the sample.  For Aqueous matrices, all sample containers for individual analytes or analyte groups must be filled from the sampling location or source within the 15-minute window.\", \"Water Bottle\", \"STORET-928951726\", \"NaN\", \"NaN\", \"Organic carbon\", \"Total\", \"2.616\", \"ppm\", \"NaN\", \"Final\", NaN, \"Actual\", NaN, NaN, NaN, NaN, NaN, NaN, NaN, NaN, NaN, \"NaN\", NaN, NaN, \"NaN\", NaN, NaN, NaN, NaN, NaN, NaN, \"FIU-TOC\", \"21FLFWC_WQX\", \"FIU-TOC\", NaN, \"NaN\", \"E76930\", \"2020-12-29\", NaN, \"https://www.waterqualitydata.us/data/providers/STORET/organizations/21FLFWC_WQX/activities/21FLFWC_WQX-KEYS102_K310S_DUP_FR/results/928951726/resdetectqntlmts\", \"Practical Quantitation Limit\", 0.5, \"ppm\", NaN, \"2022-01-27T11:34:42\", \"STORET\"], [\"21FLCRCP_WQX\", \"CORAL REEF CONSERVATION PROGRAM\", \"21FLCRCP_WQX-HIL058 S 6/5/2020 13:00\", \"Sample-Routine\", \"Water\", \"Surface Water\", \"2020-06-05\", \"13:00:00\", \"EST\", \"NaN\", \"NaN\", \"NaN\", \"NaN\", 0.5, \"m\", \"NaN\", NaN, \"NaN\", NaN, \"NaN\", \"FRTWQA\", \"Florida Reef Tract Nutrient Water Quality Assessment\", \"CORAL REEF CONSERVATION PROGRAM\", \"21FLCRCP_WQX-HIL058\", \"HIL058\", NaN, NaN, NaN, NaN, 26.19612, -80.091, \"Intermediate Grab\", \"21FLCRCP_WQX\", \"Intermediate Grab\", \"An individual sample collected at one time period, generally not exceeding 15 minutes.  Grab samples represent the conditions that exist at the moment the sample is collected.  An intermediate device, vessel or another sample container is used to collect the intermediate grab sample. The sample is then transferred to the sample container and sent to the lab.\", \"Water Bottle\", \"STORET-968340318\", \"NaN\", \"NaN\", \"Organic carbon\", \"Total\", \"1.58\", \"mg/L\", \"NaN\", \"Final\", NaN, \"Actual\", NaN, NaN, NaN, NaN, NaN, NaN, NaN, NaN, NaN, \"**I**\", NaN, NaN, \"NaN\", NaN, NaN, NaN, NaN, NaN, NaN, \"5310-B\", \"APHA\", \"5310 B ~ Total Organic Carbon by Combustion-Infrared Method\", NaN, \"https://www.nemi.gov/methods/method_summary/5717/\", \"E56441\", \"2020-06-10\", NaN, \"https://www.waterqualitydata.us/data/providers/STORET/organizations/21FLCRCP_WQX/activities/21FLCRCP_WQX-HIL058%20S%206%2F5%2F2020%2013%3A00/results/968340318/resdetectqntlmts\", \"Practical Quantitation Limit\", 2.48, \"mg/L\", NaN, \"2023-02-24T11:33:48\", \"STORET\"], [\"21AWIC\", \"ALABAMA DEPT. OF ENVIRONMENTAL MANAGEMENT - WATER QUALITY DATA\", \"21AWIC-291705_154595_173\", \"Sample-Integrated Vertical Profile\", \"Water\", \"NaN\", \"2020-05-21\", \"07:05:00\", \"CST\", \"NaN\", \"NaN\", \"NaN\", \"NaN\", NaN, \"NaN\", \"SURFACE\", 0.1, \"ft\", 11.54, \"m\", \"863\", \"CY2020_COASTAL_WATERS_MONITORING_PROGRAM_MOBILE_BAY\", \"21AWIC\", \"21AWIC-1092\", \"MB-2A\", NaN, NaN, NaN, NaN, 30.1718, -88.04895, \"5\", \"21AWIC\", \"ADEM SOPs-2000 Series-Surface Water\", \"NaN\", \"Water Sampler (Other)\", \"STORET-859716901\", \"Not Detected\", \"NaN\", \"Organic carbon\", \"Dissolved\", \"NaN\", \"NaN\", \"NaN\", \"Final\", NaN, \"Actual\", NaN, NaN, NaN, NaN, NaN, NaN, NaN, NaN, NaN, \"NaN\", NaN, NaN, \"NaN\", NaN, NaN, NaN, NaN, NaN, NaN, \"5310-C\", \"APHA\", \"5310 C ~ Total Organic Carbon in Water- Ultraviolet Oxidation Method\", NaN, \"https://www.nemi.gov/methods/method_summary/5718/\", \"ADEM - CENTRAL LAB\", \"2020-06-03\", NaN, \"https://www.waterqualitydata.us/data/providers/STORET/organizations/21AWIC/activities/21AWIC-291705_154595_173/results/859716901/resdetectqntlmts\", \"Method Detection Level\", 458.0, \"mg/L\", NaN, \"2020-10-08T17:23:25\", \"STORET\"], [\"21FLCRCP_WQX\", \"CORAL REEF CONSERVATION PROGRAM\", \"21FLCRCP_WQX-BOC082 S 5/20/2020 10:25\", \"Sample-Routine\", \"Water\", \"Surface Water\", \"2020-05-20\", \"10:25:00\", \"EST\", \"NaN\", \"NaN\", \"NaN\", \"NaN\", 0.5, \"m\", \"NaN\", NaN, \"NaN\", NaN, \"NaN\", \"FRTWQA\", \"Florida Reef Tract Nutrient Water Quality Assessment\", \"CORAL REEF CONSERVATION PROGRAM\", \"21FLCRCP_WQX-BOC082\", \"BOC082\", NaN, NaN, NaN, NaN, 26.35451, -80.05444, \"Intermediate Grab\", \"21FLCRCP_WQX\", \"Intermediate Grab\", \"An individual sample collected at one time period, generally not exceeding 15 minutes.  Grab samples represent the conditions that exist at the moment the sample is collected.  An intermediate device, vessel or another sample container is used to collect the intermediate grab sample. The sample is then transferred to the sample container and sent to the lab.\", \"Water Bottle\", \"STORET-968394666\", \"NaN\", \"NaN\", \"Organic carbon\", \"Total\", \"1.01\", \"mg/L\", \"NaN\", \"Final\", NaN, \"Actual\", NaN, NaN, NaN, NaN, NaN, NaN, NaN, NaN, NaN, \"**I**\", NaN, NaN, \"NaN\", NaN, NaN, NaN, NaN, NaN, NaN, \"5310-B\", \"APHA\", \"5310 B ~ Total Organic Carbon by Combustion-Infrared Method\", NaN, \"https://www.nemi.gov/methods/method_summary/5717/\", \"E56441\", \"2020-05-28\", NaN, \"https://www.waterqualitydata.us/data/providers/STORET/organizations/21FLCRCP_WQX/activities/21FLCRCP_WQX-BOC082%20S%205%2F20%2F2020%2010%3A25/results/968394666/resdetectqntlmts\", \"Practical Quantitation Limit\", 2.48, \"mg/L\", NaN, \"2023-02-24T11:41:59\", \"STORET\"], [\"21FLCRCP_WQX\", \"CORAL REEF CONSERVATION PROGRAM\", \"21FLCRCP_WQX-BOY090 B 6/8/2020 10:55\", \"Sample-Routine\", \"Water\", \"Surface Water\", \"2020-06-08\", \"10:55:00\", \"EST\", \"NaN\", \"NaN\", \"NaN\", \"NaN\", 4.1, \"m\", \"NaN\", NaN, \"NaN\", NaN, \"NaN\", \"FRTWQA\", \"Florida Reef Tract Nutrient Water Quality Assessment\", \"CORAL REEF CONSERVATION PROGRAM\", \"21FLCRCP_WQX-BOY090\", \"BOY090\", NaN, NaN, NaN, NaN, 26.54417, -80.04057, \"Intermediate Grab\", \"21FLCRCP_WQX\", \"Intermediate Grab\", \"An individual sample collected at one time period, generally not exceeding 15 minutes.  Grab samples represent the conditions that exist at the moment the sample is collected.  An intermediate device, vessel or another sample container is used to collect the intermediate grab sample. The sample is then transferred to the sample container and sent to the lab.\", \"Niskin Bottle\", \"STORET-968337264\", \"NaN\", \"NaN\", \"Organic carbon\", \"Total\", \"1.08\", \"mg/L\", \"NaN\", \"Final\", NaN, \"Actual\", NaN, NaN, NaN, NaN, NaN, NaN, NaN, NaN, NaN, \"**I**\", NaN, NaN, \"NaN\", NaN, NaN, NaN, NaN, NaN, NaN, \"5310-B\", \"APHA\", \"5310 B ~ Total Organic Carbon by Combustion-Infrared Method\", NaN, \"https://www.nemi.gov/methods/method_summary/5717/\", \"E56441\", \"2020-06-10\", NaN, \"https://www.waterqualitydata.us/data/providers/STORET/organizations/21FLCRCP_WQX/activities/21FLCRCP_WQX-BOY090%20B%206%2F8%2F2020%2010%3A55/results/968337264/resdetectqntlmts\", \"Practical Quantitation Limit\", 2.48, \"mg/L\", NaN, \"2023-02-24T11:33:15\", \"STORET\"], [\"21FLCRCP_WQX\", \"CORAL REEF CONSERVATION PROGRAM\", \"21FLCRCP_WQX-PEV041 B 6/9/2020 15:10\", \"Sample-Routine\", \"Water\", \"Surface Water\", \"2020-06-09\", \"15:10:00\", \"EST\", \"NaN\", \"NaN\", \"NaN\", \"NaN\", 5.6, \"m\", \"NaN\", NaN, \"NaN\", NaN, \"NaN\", \"FRTWQA\", \"Florida Reef Tract Nutrient Water Quality Assessment\", \"CORAL REEF CONSERVATION PROGRAM\", \"21FLCRCP_WQX-PEV041\", \"PEV041\", NaN, NaN, NaN, NaN, 26.09752, -80.097333, \"Intermediate Grab\", \"21FLCRCP_WQX\", \"Intermediate Grab\", \"An individual sample collected at one time period, generally not exceeding 15 minutes.  Grab samples represent the conditions that exist at the moment the sample is collected.  An intermediate device, vessel or another sample container is used to collect the intermediate grab sample. The sample is then transferred to the sample container and sent to the lab.\", \"Niskin Bottle\", \"STORET-968394302\", \"NaN\", \"NaN\", \"Organic carbon\", \"Total\", \"1.13\", \"mg/L\", \"NaN\", \"Final\", NaN, \"Actual\", NaN, NaN, NaN, NaN, NaN, NaN, NaN, NaN, NaN, \"**I**\", NaN, NaN, \"NaN\", NaN, NaN, NaN, NaN, NaN, NaN, \"5310-B\", \"APHA\", \"5310 B ~ Total Organic Carbon by Combustion-Infrared Method\", NaN, \"https://www.nemi.gov/methods/method_summary/5717/\", \"E56441\", \"2020-06-15\", NaN, \"https://www.waterqualitydata.us/data/providers/STORET/organizations/21FLCRCP_WQX/activities/21FLCRCP_WQX-PEV041%20B%206%2F9%2F2020%2015%3A10/results/968394302/resdetectqntlmts\", \"Practical Quantitation Limit\", 2.48, \"mg/L\", NaN, \"2023-02-24T11:41:56\", \"STORET\"], [\"21FLFWC_WQX\", \"FLORIDA FISH AND WILDLIFE CONSERVATION COMMISSION\", \"21FLFWC_WQX-KEYS101_K259B_DUP_FR\", \"Quality Control Sample-Field Replicate\", \"Water\", \"Surface Water\", \"2020-10-11\", \"10:29:00\", \"EST\", \"NaN\", \"NaN\", \"NaN\", \"NaN\", 7.11, \"m\", \"NaN\", NaN, \"NaN\", NaN, \"NaN\", \"WQMP\", \"Water Quality Monitoring Program\", \"FLORIDA INTERNATIONAL UNIVERSITY\", \"21FLFWC_WQX-259-W\", \"Big Pine Shoal\", NaN, NaN, NaN, NaN, 24.57037, -81.32167, \"Direct Grab\", \"21FLFWC_WQX\", \"Direct Grab\", \"An individual sample collected at one time period, generally not exceeding 15 minutes.  Grab samples represent the conditions that exist at the moment the sample is collected.  Use sample container to directly collect the sample.  For Aqueous matrices, all sample containers for individual analytes or analyte groups must be filled from the sampling location or source within the 15-minute window.\", \"Water Bottle\", \"STORET-928946895\", \"NaN\", \"NaN\", \"Organic carbon\", \"Total\", \"0.8827\", \"ppm\", \"NaN\", \"Final\", NaN, \"Actual\", NaN, NaN, NaN, NaN, NaN, NaN, NaN, NaN, NaN, \"NaN\", NaN, NaN, \"NaN\", NaN, NaN, NaN, NaN, NaN, NaN, \"FIU-TOC\", \"21FLFWC_WQX\", \"FIU-TOC\", NaN, \"NaN\", \"E76930\", \"2020-10-22\", NaN, \"https://www.waterqualitydata.us/data/providers/STORET/organizations/21FLFWC_WQX/activities/21FLFWC_WQX-KEYS101_K259B_DUP_FR/results/928946895/resdetectqntlmts\", \"Practical Quantitation Limit\", 0.5, \"ppm\", NaN, \"2022-01-27T11:34:10\", \"STORET\"], [\"21FLCRCP_WQX\", \"CORAL REEF CONSERVATION PROGRAM\", \"21FLCRCP_WQX-PEV044 B 6/9/2020 15:55\", \"Sample-Routine\", \"Water\", \"Surface Water\", \"2020-06-09\", \"15:55:00\", \"EST\", \"NaN\", \"NaN\", \"NaN\", \"NaN\", 0.7, \"m\", \"NaN\", NaN, \"NaN\", NaN, \"NaN\", \"FRTWQA\", \"Florida Reef Tract Nutrient Water Quality Assessment\", \"CORAL REEF CONSERVATION PROGRAM\", \"21FLCRCP_WQX-PEV044\", \"PEV044\", NaN, NaN, NaN, NaN, 26.159983, -80.090283, \"Intermediate Grab\", \"21FLCRCP_WQX\", \"Intermediate Grab\", \"An individual sample collected at one time period, generally not exceeding 15 minutes.  Grab samples represent the conditions that exist at the moment the sample is collected.  An intermediate device, vessel or another sample container is used to collect the intermediate grab sample. The sample is then transferred to the sample container and sent to the lab.\", \"Niskin Bottle\", \"STORET-968345011\", \"NaN\", \"NaN\", \"Organic carbon\", \"Total\", \"1.33\", \"mg/L\", \"NaN\", \"Final\", NaN, \"Actual\", NaN, NaN, NaN, NaN, NaN, NaN, NaN, NaN, NaN, \"**I**\", NaN, NaN, \"NaN\", NaN, NaN, NaN, NaN, NaN, NaN, \"5310-B\", \"APHA\", \"5310 B ~ Total Organic Carbon by Combustion-Infrared Method\", NaN, \"https://www.nemi.gov/methods/method_summary/5717/\", \"E56441\", \"2020-06-15\", NaN, \"https://www.waterqualitydata.us/data/providers/STORET/organizations/21FLCRCP_WQX/activities/21FLCRCP_WQX-PEV044%20B%206%2F9%2F2020%2015%3A55/results/968345011/resdetectqntlmts\", \"Practical Quantitation Limit\", 2.48, \"mg/L\", NaN, \"2023-02-24T11:34:35\", \"STORET\"], [\"LADEQWPD_WQX\", \"LDEQ/Water Planning and Assessment (Louisiana)\", \"LADEQWPD_WQX-0962-05212020-0923-Lab\", \"Sample-Routine\", \"Water\", \"NaN\", \"2020-05-21\", \"09:23:00\", \"CST\", \"NaN\", \"NaN\", \"NaN\", \"NaN\", 1.0, \"m\", \"NaN\", NaN, \"NaN\", NaN, \"NaN\", \"WQ1958001\", \"Statewide Water Quality Monitoring Network\", \"NaN\", \"LADEQWPD_WQX-0962\", \"Gulf of Mexico South of Wine Island Pass, Louisiana\", NaN, NaN, NaN, NaN, 29.058571, -90.633424, \"LADEQ QAPP\", \"LADEQWPD_WQX\", \"Quality Assurance Project Plan for the Ambient Water Quality Monitoring Network\", \"NaN\", \"Water Bottle\", \"STORET-959660339\", \"Not Detected\", \"NaN\", \"Toluene\", \"Total\", \"NaN\", \"NaN\", \"NaN\", \"Final\", NaN, \"Actual\", NaN, NaN, NaN, NaN, NaN, NaN, NaN, NaN, NaN, \"NaN\", NaN, NaN, \"NaN\", NaN, NaN, NaN, NaN, NaN, NaN, \"624\", \"USEPA\", \"Purgeable Organics in Wastewater\", NaN, \"https://www.nemi.gov/methods/method_summary/5249/\", \"NaN\", \"2020-05-26\", NaN, \"https://www.waterqualitydata.us/data/providers/STORET/organizations/LADEQWPD_WQX/activities/LADEQWPD_WQX-0962-05212020-0923-Lab/results/959660339/resdetectqntlmts\", \"Lower Reporting Limit\", 0.5, \"ug/L\", NaN, \"2022-12-19T11:37:46\", \"STORET\"], [\"21FLCRCP_WQX\", \"CORAL REEF CONSERVATION PROGRAM\", \"21FLCRCP_WQX-BOC071 S 5/20/2020 11:05\", \"Sample-Routine\", \"Water\", \"Surface Water\", \"2020-05-20\", \"11:05:00\", \"EST\", \"NaN\", \"NaN\", \"NaN\", \"NaN\", 0.5, \"m\", \"NaN\", NaN, \"NaN\", NaN, \"NaN\", \"FRTWQA\", \"Florida Reef Tract Nutrient Water Quality Assessment\", \"CORAL REEF CONSERVATION PROGRAM\", \"21FLCRCP_WQX-BOC071\", \"BOC071\", NaN, NaN, NaN, NaN, 26.34027, -80.069389, \"Intermediate Grab\", \"21FLCRCP_WQX\", \"Intermediate Grab\", \"An individual sample collected at one time period, generally not exceeding 15 minutes.  Grab samples represent the conditions that exist at the moment the sample is collected.  An intermediate device, vessel or another sample container is used to collect the intermediate grab sample. The sample is then transferred to the sample container and sent to the lab.\", \"Water Bottle\", \"STORET-968388278\", \"NaN\", \"NaN\", \"Organic carbon\", \"Total\", \"0.994\", \"mg/L\", \"NaN\", \"Final\", NaN, \"Actual\", NaN, NaN, NaN, NaN, NaN, NaN, NaN, NaN, NaN, \"**I**\", NaN, NaN, \"NaN\", NaN, NaN, NaN, NaN, NaN, NaN, \"5310-B\", \"APHA\", \"5310 B ~ Total Organic Carbon by Combustion-Infrared Method\", NaN, \"https://www.nemi.gov/methods/method_summary/5717/\", \"E56441\", \"2020-05-28\", NaN, \"https://www.waterqualitydata.us/data/providers/STORET/organizations/21FLCRCP_WQX/activities/21FLCRCP_WQX-BOC071%20S%205%2F20%2F2020%2011%3A05/results/968388278/resdetectqntlmts\", \"Practical Quantitation Limit\", 2.48, \"mg/L\", NaN, \"2023-02-24T11:41:00\", \"STORET\"], [\"21FLCRCP_WQX\", \"CORAL REEF CONSERVATION PROGRAM\", \"21FLCRCP_WQX-BOC075 S 5/20/2020 12:45\", \"Sample-Routine\", \"Water\", \"Surface Water\", \"2020-05-20\", \"12:45:00\", \"EST\", \"NaN\", \"NaN\", \"NaN\", \"NaN\", 0.5, \"m\", \"NaN\", NaN, \"NaN\", NaN, \"NaN\", \"FRTWQA\", \"Florida Reef Tract Nutrient Water Quality Assessment\", \"CORAL REEF CONSERVATION PROGRAM\", \"21FLCRCP_WQX-BOC075\", \"BOC075\", NaN, NaN, NaN, NaN, 26.2986, -80.074683, \"Intermediate Grab\", \"21FLCRCP_WQX\", \"Intermediate Grab\", \"An individual sample collected at one time period, generally not exceeding 15 minutes.  Grab samples represent the conditions that exist at the moment the sample is collected.  An intermediate device, vessel or another sample container is used to collect the intermediate grab sample. The sample is then transferred to the sample container and sent to the lab.\", \"Water Bottle\", \"STORET-968394595\", \"NaN\", \"NaN\", \"Organic carbon\", \"Total\", \"1.06\", \"mg/L\", \"NaN\", \"Final\", NaN, \"Actual\", NaN, NaN, NaN, NaN, NaN, NaN, NaN, NaN, NaN, \"**I**\", NaN, NaN, \"NaN\", NaN, NaN, NaN, NaN, NaN, NaN, \"5310-B\", \"APHA\", \"5310 B ~ Total Organic Carbon by Combustion-Infrared Method\", NaN, \"https://www.nemi.gov/methods/method_summary/5717/\", \"E56441\", \"2020-05-28\", NaN, \"https://www.waterqualitydata.us/data/providers/STORET/organizations/21FLCRCP_WQX/activities/21FLCRCP_WQX-BOC075%20S%205%2F20%2F2020%2012%3A45/results/968394595/resdetectqntlmts\", \"Practical Quantitation Limit\", 2.48, \"mg/L\", NaN, \"2023-02-24T11:41:59\", \"STORET\"], [\"CEDEN\", \"California State Water Resources Control Board\", \"CEDEN--2144788955\", \"Sample-Routine\", \"Water\", \"NaN\", \"2020-01-06\", \"09:40:00\", \"PST\", \"NaN\", \"NaN\", \"NaN\", \"Surface\", NaN, \"NaN\", \"NaN\", NaN, \"NaN\", NaN, \"NaN\", \"BBM\", \"Beach Bacteria Monitoring\", \"NaN\", \"CEDEN-Wharf-East\", \"Santa Cruz Municipal Wharf-East at Cowell Beach\", NaN, NaN, NaN, NaN, 36.962, -122.022, \"Water_Grab\", \"CEDEN\", \"Water_Grab\", \"Method for generic water collection that was either grab or integrated\", \"Miscellaneous (Other)\", \"STORET-973291457\", \"NaN\", \"NaN\", \"2,3,3',4,5'-Pentachlorobiphenyl\", \"NaN\", \"10\", \"cfu/100mL\", \"NaN\", \"Final\", NaN, \"Actual\", NaN, NaN, NaN, NaN, NaN, NaN, NaN, NaN, NaN, \"1; AB08407\", NaN, NaN, \"NaN\", NaN, NaN, NaN, NaN, NaN, NaN, \"1343\", \"CEDEN\", \"SM 9230 C\", NaN, \"NaN\", \"NaN\", \"2020-01-06\", NaN, \"NaN\", \"NaN\", NaN, \"NaN\", NaN, \"2023-04-20T15:27:40\", \"STORET\"], [\"CEDEN\", \"California State Water Resources Control Board\", \"CEDEN--2144237809\", \"Sample-Routine\", \"Water\", \"NaN\", \"2020-10-06\", \"12:05:00\", \"PST\", \"NaN\", \"NaN\", \"NaN\", \"NaN\", NaN, \"NaN\", \"NaN\", NaN, \"NaN\", NaN, \"NaN\", \"CitySD_BacteriaTMDL\", \"City of San Diego Bacteria TMDL\", \"NaN\", \"CEDEN-CSD-031\", \"WindanSea at Palomar\", NaN, NaN, NaN, NaN, 32.8261, -117.28, \"Water_Grab\", \"CEDEN\", \"Water_Grab\", \"Method for generic water collection that was either grab or integrated\", \"Miscellaneous (Other)\", \"STORET-973130148\", \"NaN\", \"NaN\", \"2,3,3',4,5'-Pentachlorobiphenyl\", \"NaN\", \"4\", \"cfu/100mL\", \"J\", \"Final\", NaN, \"Actual\", NaN, NaN, NaN, NaN, NaN, NaN, NaN, NaN, NaN, \"1; CSD-031-RW-G-01\", NaN, NaN, \"NaN\", NaN, NaN, NaN, NaN, NaN, NaN, \"4069\", \"CEDEN\", \"EPA 1600\", NaN, \"NaN\", \"NaN\", \"2020-10-06\", NaN, \"NaN\", \"NaN\", NaN, \"NaN\", NaN, \"2023-04-13T14:46:25\", \"STORET\"], [\"21FLFWC_WQX\", \"FLORIDA FISH AND WILDLIFE CONSERVATION COMMISSION\", \"21FLFWC_WQX-KEYS102_K271B_FS\", \"Sample-Routine\", \"Water\", \"Surface Water\", \"2020-12-14\", \"13:35:00\", \"EST\", \"NaN\", \"NaN\", \"NaN\", \"NaN\", 7.69, \"m\", \"NaN\", NaN, \"NaN\", NaN, \"NaN\", \"WQMP\", \"Water Quality Monitoring Program\", \"FLORIDA INTERNATIONAL UNIVERSITY\", \"21FLFWC_WQX-271-W\", \"Boca Chica Key\", NaN, NaN, NaN, NaN, 24.55667, -81.66667, \"Direct Grab\", \"21FLFWC_WQX\", \"Direct Grab\", \"An individual sample collected at one time period, generally not exceeding 15 minutes.  Grab samples represent the conditions that exist at the moment the sample is collected.  Use sample container to directly collect the sample.  For Aqueous matrices, all sample containers for individual analytes or analyte groups must be filled from the sampling location or source within the 15-minute window.\", \"Water Bottle\", \"STORET-928945953\", \"NaN\", \"NaN\", \"Organic carbon\", \"Total\", \"2.323\", \"ppm\", \"NaN\", \"Final\", NaN, \"Actual\", NaN, NaN, NaN, NaN, NaN, NaN, NaN, NaN, NaN, \"NaN\", NaN, NaN, \"NaN\", NaN, NaN, NaN, NaN, NaN, NaN, \"FIU-TOC\", \"21FLFWC_WQX\", \"FIU-TOC\", NaN, \"NaN\", \"E76930\", \"2021-01-03\", NaN, \"https://www.waterqualitydata.us/data/providers/STORET/organizations/21FLFWC_WQX/activities/21FLFWC_WQX-KEYS102_K271B_FS/results/928945953/resdetectqntlmts\", \"Practical Quantitation Limit\", 0.5, \"ppm\", NaN, \"2022-01-27T11:34:04\", \"STORET\"], [\"USEPAREGION9\", \"USEPA Region 9\", \"USEPAREGION9-Tumon_GS-02:20200730:1201:SR:WB:\", \"Sample-Routine\", \"Water\", \"NaN\", \"2020-07-30\", \"12:01:00\", \"MST\", \"NaN\", \"NaN\", \"NaN\", \"NaN\", NaN, \"NaN\", \"NaN\", NaN, \"NaN\", NaN, \"NaN\", \"Tumon_Bay_TMDL_2020_2021\", \"Tumon Bay TMDL\", \"NaN\", \"USEPAREGION9-Tumon_GS-02\", \"Tumon_GS-02\", NaN, NaN, NaN, NaN, 13.52345, 144.802014, \"TumanQAPPGrab\", \"USEPAREGION9\", \"QAPP Standard Grab Sample Method\", \"Grab Sample\", \"Water Bottle\", \"STORET-883583848\", \"Not Detected\", \"NaN\", \"Tetrachloroethylene\", \"Total\", \"NaN\", \"NaN\", \"NaN\", \"Final\", NaN, \"Actual\", NaN, NaN, NaN, NaN, NaN, NaN, NaN, NaN, NaN, \"NaN\", NaN, NaN, \"NaN\", NaN, NaN, NaN, NaN, NaN, NaN, \"8260C\", \"USEPA\", \"8260 C ~ Volatile Organic Compounds by GC/MS\", NaN, \"NaN\", \"NaN\", \"2020-08-11\", NaN, \"https://www.waterqualitydata.us/data/providers/STORET/organizations/USEPAREGION9/activities/USEPAREGION9-Tumon_GS-02%3A20200730%3A1201%3ASR%3AWB%3A/results/883583848/resdetectqntlmts\", \"Method Detection Level\", 2.0, \"ug/L\", NaN, \"2021-03-31T18:27:17\", \"STORET\"], [\"LADEQWPD_WQX\", \"LDEQ/Water Planning and Assessment (Louisiana)\", \"LADEQWPD_WQX-0962-02192020-0140-Field\", \"Field Msr/Obs\", \"Water\", \"NaN\", \"2020-02-19\", \"01:40:00\", \"CST\", \"NaN\", \"NaN\", \"NaN\", \"NaN\", 1.0, \"m\", \"NaN\", NaN, \"NaN\", NaN, \"NaN\", \"WQ1958001\", \"Statewide Water Quality Monitoring Network\", \"NaN\", \"LADEQWPD_WQX-0962\", \"Gulf of Mexico South of Wine Island Pass, Louisiana\", NaN, NaN, NaN, NaN, 29.058571, -90.633424, \"LADEQ QAPP\", \"LADEQWPD_WQX\", \"Quality Assurance Project Plan for the Ambient Water Quality Monitoring Network\", \"NaN\", \"Water Bottle\", \"STORET-959671330\", \"NaN\", \"NaN\", \"Oil and Grease surface slick/sheen (Y/N) (choice list)\", \"NaN\", \"N\", \"NaN\", \"NaN\", \"Final\", NaN, \"Actual\", NaN, NaN, NaN, NaN, NaN, NaN, NaN, NaN, NaN, \"NaN\", NaN, NaN, \"NaN\", NaN, NaN, NaN, NaN, NaN, NaN, \"NaN\", \"NaN\", \"NaN\", NaN, \"NaN\", \"NaN\", \"NaN\", NaN, \"NaN\", \"NaN\", NaN, \"NaN\", NaN, \"2022-12-19T11:40:06\", \"STORET\"], [\"LADEQWPD_WQX\", \"LDEQ/Water Planning and Assessment (Louisiana)\", \"LADEQWPD_WQX-1204-01082020-1040-Lab\", \"Sample-Routine\", \"Water\", \"NaN\", \"2020-01-08\", \"10:40:00\", \"CST\", \"NaN\", \"NaN\", \"NaN\", \"NaN\", NaN, \"NaN\", \"NaN\", NaN, \"NaN\", NaN, \"NaN\", \"WQ1958001\", \"Statewide Water Quality Monitoring Network\", \"NaN\", \"LADEQWPD_WQX-1204\", \"Atchafalaya Bay Southwest of Burns, Louisiana\", NaN, NaN, NaN, NaN, 29.50184, -91.563639, \"LADEQ QAPP\", \"LADEQWPD_WQX\", \"Quality Assurance Project Plan for the Ambient Water Quality Monitoring Network\", \"NaN\", \"Water Bottle\", \"STORET-959650243\", \"Not Detected\", \"NaN\", \"Chlorobenzene\", \"Total\", \"NaN\", \"NaN\", \"NaN\", \"Final\", NaN, \"Actual\", NaN, NaN, NaN, NaN, NaN, NaN, NaN, NaN, NaN, \"NaN\", NaN, NaN, \"NaN\", NaN, NaN, NaN, NaN, NaN, NaN, \"624.1\", \"USEPA\", \"Purgeables by GC/MS\", NaN, \"NaN\", \"NaN\", \"2020-01-10\", NaN, \"https://www.waterqualitydata.us/data/providers/STORET/organizations/LADEQWPD_WQX/activities/LADEQWPD_WQX-1204-01082020-1040-Lab/results/959650243/resdetectqntlmts\", \"Lower Reporting Limit\", 0.5, \"ug/L\", NaN, \"2022-12-19T11:34:59\", \"STORET\"], [\"21FLFWC_WQX\", \"FLORIDA FISH AND WILDLIFE CONSERVATION COMMISSION\", \"21FLFWC_WQX-KEYS102_K211S_FS\", \"Sample-Routine\", \"Water\", \"Surface Water\", \"2020-11-13\", \"10:19:00\", \"EST\", \"NaN\", \"NaN\", \"NaN\", \"NaN\", 0.69, \"m\", \"NaN\", NaN, \"NaN\", NaN, \"NaN\", \"WQMP\", \"Water Quality Monitoring Program\", \"FLORIDA INTERNATIONAL UNIVERSITY\", \"21FLFWC_WQX-211-W\", \"Pennikamp G27\", NaN, NaN, NaN, NaN, 25.30788, -80.26165, \"Direct Grab\", \"21FLFWC_WQX\", \"Direct Grab\", \"An individual sample collected at one time period, generally not exceeding 15 minutes.  Grab samples represent the conditions that exist at the moment the sample is collected.  Use sample container to directly collect the sample.  For Aqueous matrices, all sample containers for individual analytes or analyte groups must be filled from the sampling location or source within the 15-minute window.\", \"Water Bottle\", \"STORET-928950449\", \"NaN\", \"NaN\", \"Organic carbon\", \"Total\", \"1.37\", \"ppm\", \"NaN\", \"Final\", NaN, \"Actual\", NaN, NaN, NaN, NaN, NaN, NaN, NaN, NaN, NaN, \"NaN\", NaN, NaN, \"NaN\", NaN, NaN, NaN, NaN, NaN, NaN, \"FIU-TOC\", \"21FLFWC_WQX\", \"FIU-TOC\", NaN, \"NaN\", \"E76930\", \"2020-12-04\", NaN, \"https://www.waterqualitydata.us/data/providers/STORET/organizations/21FLFWC_WQX/activities/21FLFWC_WQX-KEYS102_K211S_FS/results/928950449/resdetectqntlmts\", \"Practical Quantitation Limit\", 0.5, \"ppm\", NaN, \"2022-01-27T11:34:34\", \"STORET\"], [\"21FLCRCP_WQX\", \"CORAL REEF CONSERVATION PROGRAM\", \"21FLCRCP_WQX-HIL056 B 6/5/2020 12:35\", \"Sample-Routine\", \"Water\", \"Surface Water\", \"2020-06-05\", \"12:35:00\", \"EST\", \"NaN\", \"NaN\", \"NaN\", \"NaN\", 1.9, \"m\", \"NaN\", NaN, \"NaN\", NaN, \"NaN\", \"FRTWQA\", \"Florida Reef Tract Nutrient Water Quality Assessment\", \"CORAL REEF CONSERVATION PROGRAM\", \"21FLCRCP_WQX-HIL056\", \"HIL056\", NaN, NaN, NaN, NaN, 26.228683, -80.083817, \"Intermediate Grab\", \"21FLCRCP_WQX\", \"Intermediate Grab\", \"An individual sample collected at one time period, generally not exceeding 15 minutes.  Grab samples represent the conditions that exist at the moment the sample is collected.  An intermediate device, vessel or another sample container is used to collect the intermediate grab sample. The sample is then transferred to the sample container and sent to the lab.\", \"Niskin Bottle\", \"STORET-968430713\", \"NaN\", \"NaN\", \"Organic carbon\", \"Total\", \"1.16\", \"mg/L\", \"NaN\", \"Final\", NaN, \"Actual\", NaN, NaN, NaN, NaN, NaN, NaN, NaN, NaN, NaN, \"**I**\", NaN, NaN, \"NaN\", NaN, NaN, NaN, NaN, NaN, NaN, \"5310-B\", \"APHA\", \"5310 B ~ Total Organic Carbon by Combustion-Infrared Method\", NaN, \"https://www.nemi.gov/methods/method_summary/5717/\", \"E56441\", \"2020-06-10\", NaN, \"https://www.waterqualitydata.us/data/providers/STORET/organizations/21FLCRCP_WQX/activities/21FLCRCP_WQX-HIL056%20B%206%2F5%2F2020%2012%3A35/results/968430713/resdetectqntlmts\", \"Practical Quantitation Limit\", 2.48, \"mg/L\", NaN, \"2023-02-24T11:47:53\", \"STORET\"], [\"21FLCRCP_WQX\", \"CORAL REEF CONSERVATION PROGRAM\", \"21FLCRCP_WQX-HIL058 S 5/7/2020 12:35\", \"Sample-Routine\", \"Water\", \"Surface Water\", \"2020-05-07\", \"12:35:00\", \"EST\", \"NaN\", \"NaN\", \"NaN\", \"NaN\", 0.5, \"m\", \"NaN\", NaN, \"NaN\", NaN, \"NaN\", \"FRTWQA\", \"Florida Reef Tract Nutrient Water Quality Assessment\", \"CORAL REEF CONSERVATION PROGRAM\", \"21FLCRCP_WQX-HIL058\", \"HIL058\", NaN, NaN, NaN, NaN, 26.19612, -80.091, \"Intermediate Grab\", \"21FLCRCP_WQX\", \"Intermediate Grab\", \"An individual sample collected at one time period, generally not exceeding 15 minutes.  Grab samples represent the conditions that exist at the moment the sample is collected.  An intermediate device, vessel or another sample container is used to collect the intermediate grab sample. The sample is then transferred to the sample container and sent to the lab.\", \"Water Bottle\", \"STORET-968418605\", \"NaN\", \"NaN\", \"Organic carbon\", \"Total\", \"0.943\", \"mg/L\", \"NaN\", \"Final\", NaN, \"Actual\", NaN, NaN, NaN, NaN, NaN, NaN, NaN, NaN, NaN, \"**I**\", NaN, NaN, \"NaN\", NaN, NaN, NaN, NaN, NaN, NaN, \"5310-B\", \"APHA\", \"5310 B ~ Total Organic Carbon by Combustion-Infrared Method\", NaN, \"https://www.nemi.gov/methods/method_summary/5717/\", \"E56441\", \"2020-05-15\", NaN, \"https://www.waterqualitydata.us/data/providers/STORET/organizations/21FLCRCP_WQX/activities/21FLCRCP_WQX-HIL058%20S%205%2F7%2F2020%2012%3A35/results/968418605/resdetectqntlmts\", \"Practical Quantitation Limit\", 2.48, \"mg/L\", NaN, \"2023-02-24T11:46:02\", \"STORET\"], [\"21FLCRCP_WQX\", \"CORAL REEF CONSERVATION PROGRAM\", \"21FLCRCP_WQX-HIL061 S 6/5/2020 10:35\", \"Sample-Routine\", \"Water\", \"Surface Water\", \"2020-06-05\", \"10:35:00\", \"EST\", \"NaN\", \"NaN\", \"NaN\", \"NaN\", 0.5, \"m\", \"NaN\", NaN, \"NaN\", NaN, \"NaN\", \"FRTWQA\", \"Florida Reef Tract Nutrient Water Quality Assessment\", \"CORAL REEF CONSERVATION PROGRAM\", \"21FLCRCP_WQX-HIL061\", \"HIL061\", NaN, NaN, NaN, NaN, 26.25851, -80.0621, \"Intermediate Grab\", \"21FLCRCP_WQX\", \"Intermediate Grab\", \"An individual sample collected at one time period, generally not exceeding 15 minutes.  Grab samples represent the conditions that exist at the moment the sample is collected.  An intermediate device, vessel or another sample container is used to collect the intermediate grab sample. The sample is then transferred to the sample container and sent to the lab.\", \"Water Bottle\", \"STORET-968373693\", \"NaN\", \"NaN\", \"Organic carbon\", \"Total\", \"1.12\", \"mg/L\", \"NaN\", \"Final\", NaN, \"Actual\", NaN, NaN, NaN, NaN, NaN, NaN, NaN, NaN, NaN, \"**I**\", NaN, NaN, \"NaN\", NaN, NaN, NaN, NaN, NaN, NaN, \"5310-B\", \"APHA\", \"5310 B ~ Total Organic Carbon by Combustion-Infrared Method\", NaN, \"https://www.nemi.gov/methods/method_summary/5717/\", \"E56441\", \"2020-06-10\", NaN, \"https://www.waterqualitydata.us/data/providers/STORET/organizations/21FLCRCP_WQX/activities/21FLCRCP_WQX-HIL061%20S%206%2F5%2F2020%2010%3A35/results/968373693/resdetectqntlmts\", \"Practical Quantitation Limit\", 2.48, \"mg/L\", NaN, \"2023-02-24T11:39:02\", \"STORET\"], [\"LADEQWPD_WQX\", \"LDEQ/Water Planning and Assessment (Louisiana)\", \"LADEQWPD_WQX-1204-07152020-1030-Lab\", \"Sample-Routine\", \"Water\", \"NaN\", \"2020-07-15\", \"10:30:00\", \"CST\", \"NaN\", \"NaN\", \"NaN\", \"NaN\", NaN, \"NaN\", \"NaN\", NaN, \"NaN\", NaN, \"NaN\", \"WQ1958001\", \"Statewide Water Quality Monitoring Network\", \"NaN\", \"LADEQWPD_WQX-1204\", \"Atchafalaya Bay Southwest of Burns, Louisiana\", NaN, NaN, NaN, NaN, 29.50184, -91.563639, \"LADEQ QAPP\", \"LADEQWPD_WQX\", \"Quality Assurance Project Plan for the Ambient Water Quality Monitoring Network\", \"NaN\", \"Water Bottle\", \"STORET-959679321\", \"Not Detected\", \"NaN\", \"Chloromethane\", \"Total\", \"NaN\", \"NaN\", \"NaN\", \"Final\", NaN, \"Actual\", NaN, NaN, NaN, NaN, NaN, NaN, NaN, NaN, NaN, \"NaN\", NaN, NaN, \"NaN\", NaN, NaN, NaN, NaN, NaN, NaN, \"624.1\", \"USEPA\", \"Purgeables by GC/MS\", NaN, \"NaN\", \"NaN\", \"2020-07-16\", NaN, \"https://www.waterqualitydata.us/data/providers/STORET/organizations/LADEQWPD_WQX/activities/LADEQWPD_WQX-1204-07152020-1030-Lab/results/959679321/resdetectqntlmts\", \"Lower Reporting Limit\", 1.0, \"ug/L\", NaN, \"2022-12-19T11:41:35\", \"STORET\"], [\"21FLFWC_WQX\", \"FLORIDA FISH AND WILDLIFE CONSERVATION COMMISSION\", \"21FLFWC_WQX-KEYS101_K223B_FS\", \"Sample-Routine\", \"Water\", \"Surface Water\", \"2020-09-11\", \"13:00:00\", \"EST\", \"NaN\", \"NaN\", \"NaN\", \"NaN\", 3.6, \"m\", \"NaN\", NaN, \"NaN\", NaN, \"NaN\", \"WQMP\", \"Water Quality Monitoring Program\", \"FLORIDA INTERNATIONAL UNIVERSITY\", \"21FLFWC_WQX-223-W\", \"Mosquito Bank\", NaN, NaN, NaN, NaN, 25.06018, -80.42312, \"Direct Grab\", \"21FLFWC_WQX\", \"Direct Grab\", \"An individual sample collected at one time period, generally not exceeding 15 minutes.  Grab samples represent the conditions that exist at the moment the sample is collected.  Use sample container to directly collect the sample.  For Aqueous matrices, all sample containers for individual analytes or analyte groups must be filled from the sampling location or source within the 15-minute window.\", \"Water Bottle\", \"STORET-928937252\", \"NaN\", \"NaN\", \"Organic carbon\", \"Total\", \"1.04\", \"ppm\", \"NaN\", \"Final\", NaN, \"Actual\", NaN, NaN, NaN, NaN, NaN, NaN, NaN, NaN, NaN, \"NaN\", NaN, NaN, \"NaN\", NaN, NaN, NaN, NaN, NaN, NaN, \"FIU-TOC\", \"21FLFWC_WQX\", \"FIU-TOC\", NaN, \"NaN\", \"E76930\", \"2020-09-26\", NaN, \"https://www.waterqualitydata.us/data/providers/STORET/organizations/21FLFWC_WQX/activities/21FLFWC_WQX-KEYS101_K223B_FS/results/928937252/resdetectqntlmts\", \"Practical Quantitation Limit\", 0.5, \"ppm\", NaN, \"2022-01-27T11:32:57\", \"STORET\"], [\"21FLFWC_WQX\", \"FLORIDA FISH AND WILDLIFE CONSERVATION COMMISSION\", \"21FLFWC_WQX-KEYS100_K328B_FS\", \"Sample-Routine\", \"Water\", \"Surface Water\", \"2020-07-10\", \"18:14:00\", \"EST\", \"NaN\", \"NaN\", \"NaN\", \"NaN\", 14.56, \"m\", \"NaN\", NaN, \"NaN\", NaN, \"NaN\", \"WQMP\", \"Water Quality Monitoring Program\", \"FLORIDA INTERNATIONAL UNIVERSITY\", \"21FLFWC_WQX-328-W\", \"Marquesas Rock\", NaN, NaN, NaN, NaN, 24.454, -82.224, \"Direct Grab\", \"21FLFWC_WQX\", \"Direct Grab\", \"An individual sample collected at one time period, generally not exceeding 15 minutes.  Grab samples represent the conditions that exist at the moment the sample is collected.  Use sample container to directly collect the sample.  For Aqueous matrices, all sample containers for individual analytes or analyte groups must be filled from the sampling location or source within the 15-minute window.\", \"Water Bottle\", \"STORET-928938044\", \"NaN\", \"NaN\", \"Organic carbon\", \"Total\", \"0.8687\", \"ppm\", \"NaN\", \"Final\", NaN, \"Actual\", NaN, NaN, NaN, NaN, NaN, NaN, NaN, NaN, NaN, \"NaN\", NaN, NaN, \"NaN\", NaN, NaN, NaN, NaN, NaN, NaN, \"FIU-TOC\", \"21FLFWC_WQX\", \"FIU-TOC\", NaN, \"NaN\", \"E76930\", \"2020-07-29\", NaN, \"https://www.waterqualitydata.us/data/providers/STORET/organizations/21FLFWC_WQX/activities/21FLFWC_WQX-KEYS100_K328B_FS/results/928938044/resdetectqntlmts\", \"Practical Quantitation Limit\", 0.5, \"ppm\", NaN, \"2022-01-27T11:33:04\", \"STORET\"], [\"LADEQWPD_WQX\", \"LDEQ/Water Planning and Assessment (Louisiana)\", \"LADEQWPD_WQX-1204-07152020-1030-Lab\", \"Sample-Routine\", \"Water\", \"NaN\", \"2020-07-15\", \"10:30:00\", \"CST\", \"NaN\", \"NaN\", \"NaN\", \"NaN\", NaN, \"NaN\", \"NaN\", NaN, \"NaN\", NaN, \"NaN\", \"WQ1958001\", \"Statewide Water Quality Monitoring Network\", \"NaN\", \"LADEQWPD_WQX-1204\", \"Atchafalaya Bay Southwest of Burns, Louisiana\", NaN, NaN, NaN, NaN, 29.50184, -91.563639, \"LADEQ QAPP\", \"LADEQWPD_WQX\", \"Quality Assurance Project Plan for the Ambient Water Quality Monitoring Network\", \"NaN\", \"Water Bottle\", \"STORET-959679302\", \"Not Detected\", \"NaN\", \"Trichloroethylene\", \"Total\", \"NaN\", \"NaN\", \"NaN\", \"Final\", NaN, \"Actual\", NaN, NaN, NaN, NaN, NaN, NaN, NaN, NaN, NaN, \"NaN\", NaN, NaN, \"NaN\", NaN, NaN, NaN, NaN, NaN, NaN, \"624.1\", \"USEPA\", \"Purgeables by GC/MS\", NaN, \"NaN\", \"NaN\", \"2020-07-16\", NaN, \"https://www.waterqualitydata.us/data/providers/STORET/organizations/LADEQWPD_WQX/activities/LADEQWPD_WQX-1204-07152020-1030-Lab/results/959679302/resdetectqntlmts\", \"Lower Reporting Limit\", 0.5, \"ug/L\", NaN, \"2022-12-19T11:41:35\", \"STORET\"], [\"LADEQWPD_WQX\", \"LDEQ/Water Planning and Assessment (Louisiana)\", \"LADEQWPD_WQX-1204-07152020-1030-Lab\", \"Sample-Routine\", \"Water\", \"NaN\", \"2020-07-15\", \"10:30:00\", \"CST\", \"NaN\", \"NaN\", \"NaN\", \"NaN\", NaN, \"NaN\", \"NaN\", NaN, \"NaN\", NaN, \"NaN\", \"WQ1958001\", \"Statewide Water Quality Monitoring Network\", \"NaN\", \"LADEQWPD_WQX-1204\", \"Atchafalaya Bay Southwest of Burns, Louisiana\", NaN, NaN, NaN, NaN, 29.50184, -91.563639, \"LADEQ QAPP\", \"LADEQWPD_WQX\", \"Quality Assurance Project Plan for the Ambient Water Quality Monitoring Network\", \"NaN\", \"Water Bottle\", \"STORET-959679337\", \"Not Detected\", \"NaN\", \"trans-1,3-Dichloropropene\", \"Total\", \"NaN\", \"NaN\", \"NaN\", \"Final\", NaN, \"Actual\", NaN, NaN, NaN, NaN, NaN, NaN, NaN, NaN, NaN, \"NaN\", NaN, NaN, \"NaN\", NaN, NaN, NaN, NaN, NaN, NaN, \"624.1\", \"USEPA\", \"Purgeables by GC/MS\", NaN, \"NaN\", \"NaN\", \"2020-07-16\", NaN, \"https://www.waterqualitydata.us/data/providers/STORET/organizations/LADEQWPD_WQX/activities/LADEQWPD_WQX-1204-07152020-1030-Lab/results/959679337/resdetectqntlmts\", \"Lower Reporting Limit\", 1.0, \"ug/L\", NaN, \"2022-12-19T11:41:36\", \"STORET\"], [\"CEDEN\", \"California State Water Resources Control Board\", \"CEDEN--2144630949\", \"Sample-Routine\", \"Water\", \"NaN\", \"2020-09-21\", \"08:57:00\", \"PST\", \"NaN\", \"NaN\", \"NaN\", \"NaN\", NaN, \"NaN\", \"NaN\", NaN, \"NaN\", NaN, \"NaN\", \"BBM\", \"Beach Bacteria Monitoring\", \"NaN\", \"CEDEN-Wharf\", \"Santa Cruz Municipal Wharf-West at Cowell Beach\", NaN, NaN, NaN, NaN, 36.962, -122.023, \"Water_Grab\", \"CEDEN\", \"Water_Grab\", \"Method for generic water collection that was either grab or integrated\", \"Miscellaneous (Other)\", \"STORET-973278449\", \"NaN\", \"NaN\", \"2,3,3',4,5'-Pentachlorobiphenyl\", \"NaN\", \"62\", \"cfu/100mL\", \"NaN\", \"Final\", NaN, \"Actual\", NaN, NaN, NaN, NaN, NaN, NaN, NaN, NaN, NaN, \"2; AB16547\", NaN, NaN, \"NaN\", NaN, NaN, NaN, NaN, NaN, NaN, \"1343\", \"CEDEN\", \"SM 9230 C\", NaN, \"NaN\", \"NaN\", \"2020-09-21\", NaN, \"NaN\", \"NaN\", NaN, \"NaN\", NaN, \"2023-04-20T14:42:54\", \"STORET\"], [\"21FLCRCP_WQX\", \"CORAL REEF CONSERVATION PROGRAM\", \"21FLCRCP_WQX-BOY094 S 5/18/2020 10:30\", \"Sample-Routine\", \"Water\", \"Surface Water\", \"2020-05-18\", \"10:30:00\", \"EST\", \"NaN\", \"NaN\", \"NaN\", \"NaN\", 0.5, \"m\", \"NaN\", NaN, \"NaN\", NaN, \"NaN\", \"FRTWQA\", \"Florida Reef Tract Nutrient Water Quality Assessment\", \"CORAL REEF CONSERVATION PROGRAM\", \"21FLCRCP_WQX-BOY094\", \"BOY094\", NaN, NaN, NaN, NaN, 26.56462, -80.028333, \"Intermediate Grab\", \"21FLCRCP_WQX\", \"Intermediate Grab\", \"An individual sample collected at one time period, generally not exceeding 15 minutes.  Grab samples represent the conditions that exist at the moment the sample is collected.  An intermediate device, vessel or another sample container is used to collect the intermediate grab sample. The sample is then transferred to the sample container and sent to the lab.\", \"Water Bottle\", \"STORET-968370195\", \"NaN\", \"NaN\", \"Organic carbon\", \"Total\", \"1.09\", \"mg/L\", \"NaN\", \"Final\", NaN, \"Actual\", NaN, NaN, NaN, NaN, NaN, NaN, NaN, NaN, NaN, \"**I**\", NaN, NaN, \"NaN\", NaN, NaN, NaN, NaN, NaN, NaN, \"5310-B\", \"APHA\", \"5310 B ~ Total Organic Carbon by Combustion-Infrared Method\", NaN, \"https://www.nemi.gov/methods/method_summary/5717/\", \"E56441\", \"2020-05-27\", NaN, \"https://www.waterqualitydata.us/data/providers/STORET/organizations/21FLCRCP_WQX/activities/21FLCRCP_WQX-BOY094%20S%205%2F18%2F2020%2010%3A30/results/968370195/resdetectqntlmts\", \"Practical Quantitation Limit\", 2.48, \"mg/L\", NaN, \"2023-02-24T11:38:33\", \"STORET\"], [\"21MSWQ_WQX\", \"MISSISSIPPI DEPARTMENT OF ENVIRONMENTAL QUALITY\", \"21MSWQ_WQX-200908-625\", \"Sample-Routine\", \"Water\", \"NaN\", \"2024-06-11\", \"08:34:00\", \"CDT\", \"NaN\", \"NaN\", \"NaN\", \"NaN\", 0.5, \"ft\", \"NaN\", NaN, \"NaN\", NaN, \"NaN\", \"BCH24;EPABEACH;MS665298\", \"BEACH MONITORING 2024;BEACH MONITORING 2024;COURTHOUSE ROAD BEACH\", \"MISSISSIPPI DEPARTMENT OF ENVIRONMENTAL QUALITY\", \"21MSWQ_WQX-640MSDB10B\", \"COURTHOUSE ROAD BEACH\", NaN, NaN, NaN, NaN, 30.3772, -89.043308, \"Grab-DTSC\", \"21MSWQ_WQX\", \"Grab-Direct to Sample Container\", \"The collection of a sample utilizing no collection gear. The sample is collected directly into the sample container.\", \"Water Bottle\", \"STORET-1046371383\", \"NaN\", \"as C\", \"Organic carbon\", \"Total\", \"2.56\", \"mg/L\", \"NaN\", \"Accepted\", NaN, \"Actual\", NaN, NaN, NaN, NaN, NaN, NaN, NaN, NaN, NaN, \"NaN\", NaN, 0.5, \"ft\", NaN, NaN, NaN, NaN, NaN, NaN, \"5310-B\", \"APHA\", \"5310 B ~ Total Organic Carbon by Combustion-Infrared Method\", NaN, \"https://www.nemi.gov/methods/method_summary/5717/\", \"NaN\", \"NaN\", NaN, \"NaN\", \"NaN\", NaN, \"NaN\", NaN, \"2024-10-29T10:40:32\", \"STORET\"], [\"21FLNWFD_WQX\", \"Northwest  Florida Water Management District\", \"21FLNWFD_WQX-S4-061824\", \"Sample-Routine\", \"Water\", \"Surface Water\", \"2024-06-18\", \"12:10:00\", \"EST\", \"2024-06-18\", \"12:10:00\", \"EST\", \"NaN\", 1.64, \"ft\", \"NaN\", NaN, \"NaN\", NaN, \"NaN\", \"NWF-SJB2MSWQS\", \"SJB and Second Magnitude Springs Water Quality Sampling\", \"JIM STIDHAM AND ASSOCIATES, INC.\", \"21FLNWFD_WQX-SJB12\", \"St. Joseph Bay 12\", NaN, NaN, NaN, NaN, 29.679094, -85.364111, \"Intermediate Grab\", \"21FLNWFD_WQX\", \"Intermediate Grab\", \"An individual sample collected at one time period, generally not exceeding 15 minutes.  Grab samples represent the conditions that exist at the moment the sample is collected.  An intermediate device, vessel or another sample container is used to collect the intermediate grab sample. The sample is then transferred to the sample container and sent to the lab.\", \"Pump/Submersible\", \"STORET-1046448453\", \"NaN\", \"NaN\", \"Organic carbon\", \"Total\", \"5.7\", \"mg/L\", \"NaN\", \"Final\", NaN, \"Actual\", NaN, NaN, NaN, NaN, NaN, NaN, NaN, NaN, NaN, \"NaN\", NaN, NaN, \"NaN\", NaN, NaN, NaN, NaN, NaN, NaN, \"5310-B\", \"APHA\", \"5310 B ~ Total Organic Carbon by Combustion-Infrared Method\", NaN, \"https://www.nemi.gov/methods/method_summary/5717/\", \"E82001\", \"2024-06-24\", NaN, \"https://www.waterqualitydata.us/data/providers/STORET/organizations/21FLNWFD_WQX/activities/21FLNWFD_WQX-S4-061824/results/1046448453/resdetectqntlmts\", \"Practical Quantitation Limit\", 2.0, \"mg/L\", NaN, \"2024-10-30T13:32:14\", \"STORET\"], [\"21MSWQ_WQX\", \"MISSISSIPPI DEPARTMENT OF ENVIRONMENTAL QUALITY\", \"21MSWQ_WQX-200900-625\", \"Sample-Routine\", \"Water\", \"NaN\", \"2024-06-10\", \"09:55:00\", \"CDT\", \"NaN\", \"NaN\", \"NaN\", \"NaN\", 0.5, \"ft\", \"NaN\", NaN, \"NaN\", NaN, \"NaN\", \"BCH24;EPABEACH;MS356172\", \"BEACH MONITORING 2024;BEACH MONITORING 2024;BAY ST LOUIS BEACH\", \"MISSISSIPPI DEPARTMENT OF ENVIRONMENTAL QUALITY\", \"21MSWQ_WQX-640MSDB03\", \"BAY ST LOUIS BEACH\", NaN, NaN, NaN, NaN, 30.300222, -89.332639, \"Grab-DTSC\", \"21MSWQ_WQX\", \"Grab-Direct to Sample Container\", \"The collection of a sample utilizing no collection gear. The sample is collected directly into the sample container.\", \"Water Bottle\", \"STORET-1046374288\", \"NaN\", \"as C\", \"Organic carbon\", \"Total\", \"2.44\", \"mg/L\", \"NaN\", \"Accepted\", NaN, \"Actual\", NaN, NaN, NaN, NaN, NaN, NaN, NaN, NaN, NaN, \"NaN\", NaN, 0.5, \"ft\", NaN, NaN, NaN, NaN, NaN, NaN, \"5310-B\", \"APHA\", \"5310 B ~ Total Organic Carbon by Combustion-Infrared Method\", NaN, \"https://www.nemi.gov/methods/method_summary/5717/\", \"NaN\", \"NaN\", NaN, \"NaN\", \"NaN\", NaN, \"NaN\", NaN, \"2024-10-29T10:46:01\", \"STORET\"], [\"TCEQMAIN\", \"Texas Commission on Environmental Quality\", \"TCEQMAIN-15032356\", \"Field Msr/Obs\", \"Water\", \"NaN\", \"2024-05-15\", \"NaN\", \"NaN\", \"NaN\", \"NaN\", \"NaN\", \"NaN\", NaN, \"NaN\", \"NaN\", NaN, \"NaN\", NaN, \"NaN\", \"1786\", \"SWQM Routine Monitoring FY24\", \"NaN\", \"TCEQMAIN-13462\", \"GULF OF MEXICO AT SEARIM PARK\", NaN, NaN, NaN, NaN, 29.6667, -94.0708, \"NaN\", \"NaN\", \"NaN\", \"NaN\", \"NaN\", \"STORET-1040635630\", \"NaN\", \"NaN\", \"Organic carbon\", \"Total\", \"6\", \"mg/L\", \"NaN\", \"Final\", NaN, \"Actual\", NaN, NaN, NaN, NaN, NaN, NaN, NaN, NaN, NaN, \"NaN\", NaN, NaN, \"NaN\", NaN, NaN, NaN, NaN, NaN, NaN, \"N/A Calculation\", \"TCEQMAIN\", \"N/A Calculation\", NaN, \"NaN\", \"NaN\", \"NaN\", NaN, \"NaN\", \"NaN\", NaN, \"NaN\", NaN, \"2024-09-05T13:26:15\", \"STORET\"], [\"21MSWQ_WQX\", \"MISSISSIPPI DEPARTMENT OF ENVIRONMENTAL QUALITY\", \"21MSWQ_WQX-200764-625\", \"Sample-Routine\", \"Water\", \"NaN\", \"2024-05-14\", \"09:53:00\", \"CDT\", \"NaN\", \"NaN\", \"NaN\", \"NaN\", 0.5, \"ft\", \"NaN\", NaN, \"NaN\", NaN, \"NaN\", \"BCH24;EPABEACH;MS464589\", \"BEACH MONITORING 2024;BEACH MONITORING 2024;SHEARWATER BEACH\", \"MISSISSIPPI DEPARTMENT OF ENVIRONMENTAL QUALITY\", \"21MSWQ_WQX-640BBYB02\", \"SHEARWATER BEACH\", NaN, NaN, NaN, NaN, 30.393889, -88.810278, \"Grab-DTSC\", \"21MSWQ_WQX\", \"Grab-Direct to Sample Container\", \"The collection of a sample utilizing no collection gear. The sample is collected directly into the sample container.\", \"Water Bottle\", \"STORET-1046370681\", \"NaN\", \"as C\", \"Organic carbon\", \"Total\", \"2.92\", \"mg/L\", \"NaN\", \"Accepted\", NaN, \"Actual\", NaN, NaN, NaN, NaN, NaN, NaN, NaN, NaN, NaN, \"NaN\", NaN, 0.5, \"ft\", NaN, NaN, NaN, NaN, NaN, NaN, \"5310-B\", \"APHA\", \"5310 B ~ Total Organic Carbon by Combustion-Infrared Method\", NaN, \"https://www.nemi.gov/methods/method_summary/5717/\", \"NaN\", \"NaN\", NaN, \"NaN\", \"NaN\", NaN, \"NaN\", NaN, \"2024-10-29T10:39:18\", \"STORET\"], [\"21MSWQ_WQX\", \"MISSISSIPPI DEPARTMENT OF ENVIRONMENTAL QUALITY\", \"21MSWQ_WQX-200559-625\", \"Sample-Routine\", \"Water\", \"NaN\", \"2024-04-17\", \"10:12:00\", \"CDT\", \"NaN\", \"NaN\", \"NaN\", \"NaN\", 0.5, \"ft\", \"NaN\", NaN, \"NaN\", NaN, \"NaN\", \"BCH24;EPABEACH;MS501920\", \"BEACH MONITORING 2024;BEACH MONITORING 2024;GULFPORT EAST BEACH\", \"MISSISSIPPI DEPARTMENT OF ENVIRONMENTAL QUALITY\", \"21MSWQ_WQX-640MSDB11\", \"GULFPORT EAST BEACH\", NaN, NaN, NaN, NaN, 30.380917, -89.026639, \"Grab-DTSC\", \"21MSWQ_WQX\", \"Grab-Direct to Sample Container\", \"The collection of a sample utilizing no collection gear. The sample is collected directly into the sample container.\", \"Water Bottle\", \"STORET-1046377896\", \"NaN\", \"as C\", \"Organic carbon\", \"Total\", \"4.78\", \"mg/L\", \"NaN\", \"Accepted\", NaN, \"Actual\", NaN, NaN, NaN, NaN, NaN, NaN, NaN, NaN, NaN, \"NaN\", NaN, 0.5, \"ft\", NaN, NaN, NaN, NaN, NaN, NaN, \"5310-B\", \"APHA\", \"5310 B ~ Total Organic Carbon by Combustion-Infrared Method\", NaN, \"https://www.nemi.gov/methods/method_summary/5717/\", \"NaN\", \"NaN\", NaN, \"NaN\", \"NaN\", NaN, \"NaN\", NaN, \"2024-10-29T10:48:12\", \"STORET\"], [\"21MSWQ_WQX\", \"MISSISSIPPI DEPARTMENT OF ENVIRONMENTAL QUALITY\", \"21MSWQ_WQX-200564-625\", \"Sample-Routine\", \"Water\", \"NaN\", \"2024-04-17\", \"11:30:00\", \"CDT\", \"NaN\", \"NaN\", \"NaN\", \"NaN\", 0.5, \"ft\", \"NaN\", NaN, \"NaN\", NaN, \"NaN\", \"BCH24;EPABEACH;MS464589\", \"BEACH MONITORING 2024;BEACH MONITORING 2024;SHEARWATER BEACH\", \"MISSISSIPPI DEPARTMENT OF ENVIRONMENTAL QUALITY\", \"21MSWQ_WQX-640BBYB02\", \"SHEARWATER BEACH\", NaN, NaN, NaN, NaN, 30.393889, -88.810278, \"Grab-DTSC\", \"21MSWQ_WQX\", \"Grab-Direct to Sample Container\", \"The collection of a sample utilizing no collection gear. The sample is collected directly into the sample container.\", \"Water Bottle\", \"STORET-1046378959\", \"NaN\", \"as C\", \"Organic carbon\", \"Total\", \"3.75\", \"mg/L\", \"NaN\", \"Accepted\", NaN, \"Actual\", NaN, NaN, NaN, NaN, NaN, NaN, NaN, NaN, NaN, \"NaN\", NaN, 0.5, \"ft\", NaN, NaN, NaN, NaN, NaN, NaN, \"5310-B\", \"APHA\", \"5310 B ~ Total Organic Carbon by Combustion-Infrared Method\", NaN, \"https://www.nemi.gov/methods/method_summary/5717/\", \"NaN\", \"NaN\", NaN, \"NaN\", \"NaN\", NaN, \"NaN\", NaN, \"2024-10-29T10:49:34\", \"STORET\"], [\"21MSWQ_WQX\", \"MISSISSIPPI DEPARTMENT OF ENVIRONMENTAL QUALITY\", \"21MSWQ_WQX-200547-625\", \"Sample-Routine\", \"Water\", \"NaN\", \"2024-04-15\", \"11:07:00\", \"CDT\", \"NaN\", \"NaN\", \"NaN\", \"NaN\", 0.5, \"ft\", \"NaN\", NaN, \"NaN\", NaN, \"NaN\", \"BCH24;EPABEACH;MS315015\", \"BEACH MONITORING 2024;BEACH MONITORING 2024;GULFPORT WEST BEACH\", \"MISSISSIPPI DEPARTMENT OF ENVIRONMENTAL QUALITY\", \"21MSWQ_WQX-640MSDB08\", \"GULFPORT WEST BEACH\", NaN, NaN, NaN, NaN, 30.355167, -89.114583, \"Grab-DTSC\", \"21MSWQ_WQX\", \"Grab-Direct to Sample Container\", \"The collection of a sample utilizing no collection gear. The sample is collected directly into the sample container.\", \"Water Bottle\", \"STORET-1046380112\", \"NaN\", \"as C\", \"Organic carbon\", \"Total\", \"2.9\", \"mg/L\", \"NaN\", \"Accepted\", NaN, \"Actual\", NaN, NaN, NaN, NaN, NaN, NaN, NaN, NaN, NaN, \"NaN\", NaN, 0.5, \"ft\", NaN, NaN, NaN, NaN, NaN, NaN, \"5310-B\", \"APHA\", \"5310 B ~ Total Organic Carbon by Combustion-Infrared Method\", NaN, \"https://www.nemi.gov/methods/method_summary/5717/\", \"NaN\", \"NaN\", NaN, \"NaN\", \"NaN\", NaN, \"NaN\", NaN, \"2024-10-29T10:51:44\", \"STORET\"], [\"TCEQMAIN\", \"Texas Commission on Environmental Quality\", \"TCEQMAIN-15032338\", \"Field Msr/Obs\", \"Water\", \"NaN\", \"2024-05-16\", \"NaN\", \"NaN\", \"NaN\", \"NaN\", \"NaN\", \"NaN\", NaN, \"NaN\", \"NaN\", NaN, \"NaN\", NaN, \"NaN\", \"1786\", \"SWQM Routine Monitoring FY24\", \"NaN\", \"TCEQMAIN-13461\", \"GULF OF MEXICO SABINE PASS\", NaN, NaN, NaN, NaN, 29.6636, -93.8292, \"NaN\", \"NaN\", \"NaN\", \"NaN\", \"NaN\", \"STORET-1040635610\", \"NaN\", \"NaN\", \"Organic carbon\", \"Total\", \"14\", \"mg/L\", \"NaN\", \"Final\", NaN, \"Actual\", NaN, NaN, NaN, NaN, NaN, NaN, NaN, NaN, NaN, \"NaN\", NaN, NaN, \"NaN\", NaN, NaN, NaN, NaN, NaN, NaN, \"N/A Calculation\", \"TCEQMAIN\", \"N/A Calculation\", NaN, \"NaN\", \"NaN\", \"NaN\", NaN, \"NaN\", \"NaN\", NaN, \"NaN\", NaN, \"2024-09-05T13:26:13\", \"STORET\"], [\"21MSWQ_WQX\", \"MISSISSIPPI DEPARTMENT OF ENVIRONMENTAL QUALITY\", \"21MSWQ_WQX-200749-625\", \"Sample-Routine\", \"Water\", \"NaN\", \"2024-05-13\", \"11:06:00\", \"CDT\", \"NaN\", \"NaN\", \"NaN\", \"NaN\", 0.5, \"ft\", \"NaN\", NaN, \"NaN\", NaN, \"NaN\", \"BCH24;EPABEACH;MS268175\", \"BEACH MONITORING 2024;BEACH MONITORING 2024;PASS CHRISTIAN CENTRAL BEACH\", \"MISSISSIPPI DEPARTMENT OF ENVIRONMENTAL QUALITY\", \"21MSWQ_WQX-640MSDB05\", \"PASS CHRISTIAN CENTRAL BEACH\", NaN, NaN, NaN, NaN, 30.309, -89.254694, \"Grab-DTSC\", \"21MSWQ_WQX\", \"Grab-Direct to Sample Container\", \"The collection of a sample utilizing no collection gear. The sample is collected directly into the sample container.\", \"Water Bottle\", \"STORET-1046371327\", \"NaN\", \"as C\", \"Organic carbon\", \"Total\", \"2.85\", \"mg/L\", \"NaN\", \"Accepted\", NaN, \"Actual\", NaN, NaN, NaN, NaN, NaN, NaN, NaN, NaN, NaN, \"NaN\", NaN, 0.5, \"ft\", NaN, NaN, NaN, NaN, NaN, NaN, \"5310-B\", \"APHA\", \"5310 B ~ Total Organic Carbon by Combustion-Infrared Method\", NaN, \"https://www.nemi.gov/methods/method_summary/5717/\", \"NaN\", \"NaN\", NaN, \"NaN\", \"NaN\", NaN, \"NaN\", NaN, \"2024-10-29T10:40:26\", \"STORET\"], [\"21MSWQ_WQX\", \"MISSISSIPPI DEPARTMENT OF ENVIRONMENTAL QUALITY\", \"21MSWQ_WQX-200566-625\", \"Sample-Routine\", \"Water\", \"NaN\", \"2024-04-17\", \"12:29:00\", \"CDT\", \"NaN\", \"NaN\", \"NaN\", \"NaN\", 0.5, \"ft\", \"NaN\", NaN, \"NaN\", NaN, \"NaN\", \"BCH24;EPABEACH;MS743032\", \"BEACH MONITORING 2024;BEACH MONITORING 2024;PASCAGOULA BEACH EAST\", \"MISSISSIPPI DEPARTMENT OF ENVIRONMENTAL QUALITY\", \"21MSWQ_WQX-640MSDB18\", \"PASCAGOULA BEACH EAST\", NaN, NaN, NaN, NaN, 30.341778, -88.527778, \"Grab-DTSC\", \"21MSWQ_WQX\", \"Grab-Direct to Sample Container\", \"The collection of a sample utilizing no collection gear. The sample is collected directly into the sample container.\", \"Water Bottle\", \"STORET-1046372974\", \"NaN\", \"as C\", \"Organic carbon\", \"Total\", \"3.08\", \"mg/L\", \"NaN\", \"Accepted\", NaN, \"Actual\", NaN, NaN, NaN, NaN, NaN, NaN, NaN, NaN, NaN, \"NaN\", NaN, 0.5, \"ft\", NaN, NaN, NaN, NaN, NaN, NaN, \"5310-B\", \"APHA\", \"5310 B ~ Total Organic Carbon by Combustion-Infrared Method\", NaN, \"https://www.nemi.gov/methods/method_summary/5717/\", \"NaN\", \"NaN\", NaN, \"NaN\", \"NaN\", NaN, \"NaN\", NaN, \"2024-10-29T10:43:29\", \"STORET\"], [\"21MSWQ_WQX\", \"MISSISSIPPI DEPARTMENT OF ENVIRONMENTAL QUALITY\", \"21MSWQ_WQX-200918-625\", \"Sample-Routine\", \"Water\", \"NaN\", \"2024-06-11\", \"10:32:00\", \"CDT\", \"NaN\", \"NaN\", \"NaN\", \"NaN\", 0.5, \"ft\", \"NaN\", NaN, \"NaN\", NaN, \"NaN\", \"BCH24;EPABEACH;MS091756\", \"BEACH MONITORING 2024;BEACH MONITORING 2024;PASCAGOULA BEACH WEST\", \"MISSISSIPPI DEPARTMENT OF ENVIRONMENTAL QUALITY\", \"21MSWQ_WQX-640MSDB17\", \"PASCAGOULA BEACH WEST\", NaN, NaN, NaN, NaN, 30.342639, -88.535417, \"Grab-DTSC\", \"21MSWQ_WQX\", \"Grab-Direct to Sample Container\", \"The collection of a sample utilizing no collection gear. The sample is collected directly into the sample container.\", \"Water Bottle\", \"STORET-1046379680\", \"NaN\", \"as C\", \"Organic carbon\", \"Total\", \"2.72\", \"mg/L\", \"NaN\", \"Accepted\", NaN, \"Actual\", NaN, NaN, NaN, NaN, NaN, NaN, NaN, NaN, NaN, \"NaN\", NaN, 0.5, \"ft\", NaN, NaN, NaN, NaN, NaN, NaN, \"5310-B\", \"APHA\", \"5310 B ~ Total Organic Carbon by Combustion-Infrared Method\", NaN, \"https://www.nemi.gov/methods/method_summary/5717/\", \"NaN\", \"NaN\", NaN, \"NaN\", \"NaN\", NaN, \"NaN\", NaN, \"2024-10-29T10:50:51\", \"STORET\"], [\"21MSWQ_WQX\", \"MISSISSIPPI DEPARTMENT OF ENVIRONMENTAL QUALITY\", \"21MSWQ_WQX-200752-625\", \"Sample-Routine\", \"Water\", \"NaN\", \"2024-05-13\", \"11:35:00\", \"CDT\", \"NaN\", \"NaN\", \"NaN\", \"NaN\", 0.5, \"ft\", \"NaN\", NaN, \"NaN\", NaN, \"NaN\", \"BCH24;EPABEACH;MS315015\", \"BEACH MONITORING 2024;BEACH MONITORING 2024;GULFPORT WEST BEACH\", \"MISSISSIPPI DEPARTMENT OF ENVIRONMENTAL QUALITY\", \"21MSWQ_WQX-640MSDB08\", \"GULFPORT WEST BEACH\", NaN, NaN, NaN, NaN, 30.355167, -89.114583, \"Grab-DTSC\", \"21MSWQ_WQX\", \"Grab-Direct to Sample Container\", \"The collection of a sample utilizing no collection gear. The sample is collected directly into the sample container.\", \"Water Bottle\", \"STORET-1046374677\", \"NaN\", \"as C\", \"Organic carbon\", \"Total\", \"2.48\", \"mg/L\", \"NaN\", \"Accepted\", NaN, \"Actual\", NaN, NaN, NaN, NaN, NaN, NaN, NaN, NaN, NaN, \"NaN\", NaN, 0.5, \"ft\", NaN, NaN, NaN, NaN, NaN, NaN, \"5310-B\", \"APHA\", \"5310 B ~ Total Organic Carbon by Combustion-Infrared Method\", NaN, \"https://www.nemi.gov/methods/method_summary/5717/\", \"NaN\", \"NaN\", NaN, \"NaN\", \"NaN\", NaN, \"NaN\", NaN, \"2024-10-29T10:46:29\", \"STORET\"], [\"TCEQMAIN\", \"Texas Commission on Environmental Quality\", \"TCEQMAIN-15032290\", \"Field Msr/Obs\", \"Water\", \"NaN\", \"2024-05-07\", \"NaN\", \"NaN\", \"NaN\", \"NaN\", \"NaN\", \"NaN\", NaN, \"NaN\", \"NaN\", NaN, \"NaN\", NaN, \"NaN\", \"0\", \"TCEQ Data\", \"NaN\", \"TCEQMAIN-13463\", \"GULF OF MEXICO AT COUNTY LINE\", NaN, NaN, NaN, NaN, 29.5583, -94.3542, \"NaN\", \"NaN\", \"NaN\", \"NaN\", \"NaN\", \"STORET-1038282728\", \"NaN\", \"NaN\", \"Precipitation\", \"NaN\", \"2\", \"days\", \"NaN\", \"Final\", NaN, \"Actual\", NaN, NaN, NaN, NaN, NaN, NaN, NaN, NaN, NaN, \"NaN\", NaN, NaN, \"NaN\", NaN, NaN, NaN, NaN, NaN, NaN, \"N/A Calculation\", \"TCEQMAIN\", \"N/A Calculation\", NaN, \"NaN\", \"NaN\", \"NaN\", NaN, \"NaN\", \"NaN\", NaN, \"NaN\", NaN, \"2024-08-06T13:24:01\", \"STORET\"], [\"21MSWQ_WQX\", \"MISSISSIPPI DEPARTMENT OF ENVIRONMENTAL QUALITY\", \"21MSWQ_WQX-200745-625\", \"Sample-Routine\", \"Water\", \"NaN\", \"2024-05-13\", \"10:07:00\", \"CDT\", \"NaN\", \"NaN\", \"NaN\", \"NaN\", 0.5, \"ft\", \"NaN\", NaN, \"NaN\", NaN, \"NaN\", \"BCH24;EPABEACH;MS999656\", \"BEACH MONITORING 2024;BEACH MONITORING 2024;BUCCANEER STATE PARK BEACH\", \"MISSISSIPPI DEPARTMENT OF ENVIRONMENTAL QUALITY\", \"21MSWQ_WQX-640MSDB01\", \"BUCCANEER STATE PARK BEACH\", NaN, NaN, NaN, NaN, 30.259528, -89.4065, \"Grab-DTSC\", \"21MSWQ_WQX\", \"Grab-Direct to Sample Container\", \"The collection of a sample utilizing no collection gear. The sample is collected directly into the sample container.\", \"Water Bottle\", \"STORET-1046374667\", \"NaN\", \"as C\", \"Organic carbon\", \"Total\", \"2.69\", \"mg/L\", \"NaN\", \"Accepted\", NaN, \"Actual\", NaN, NaN, NaN, NaN, NaN, NaN, NaN, NaN, NaN, \"NaN\", NaN, 0.5, \"ft\", NaN, NaN, NaN, NaN, NaN, NaN, \"5310-B\", \"APHA\", \"5310 B ~ Total Organic Carbon by Combustion-Infrared Method\", NaN, \"https://www.nemi.gov/methods/method_summary/5717/\", \"NaN\", \"NaN\", NaN, \"NaN\", \"NaN\", NaN, \"NaN\", NaN, \"2024-10-29T10:46:28\", \"STORET\"], [\"21MSWQ_WQX\", \"MISSISSIPPI DEPARTMENT OF ENVIRONMENTAL QUALITY\", \"21MSWQ_WQX-200562-625\", \"Sample-Routine\", \"Water\", \"NaN\", \"2024-04-17\", \"11:01:00\", \"CDT\", \"NaN\", \"NaN\", \"NaN\", \"NaN\", 0.5, \"ft\", \"NaN\", NaN, \"NaN\", NaN, \"NaN\", \"BCH24;EPABEACH;MS335067\", \"BEACH MONITORING 2024;BEACH MONITORING 2024;BILOXI EAST BEACH\", \"MISSISSIPPI DEPARTMENT OF ENVIRONMENTAL QUALITY\", \"21MSWQ_WQX-640MSDB14\", \"BILOXI EAST BEACH\", NaN, NaN, NaN, NaN, 30.39225, -88.876361, \"Grab-DTSC\", \"21MSWQ_WQX\", \"Grab-Direct to Sample Container\", \"The collection of a sample utilizing no collection gear. The sample is collected directly into the sample container.\", \"Water Bottle\", \"STORET-1046373736\", \"NaN\", \"as C\", \"Organic carbon\", \"Total\", \"3.44\", \"mg/L\", \"NaN\", \"Accepted\", NaN, \"Actual\", NaN, NaN, NaN, NaN, NaN, NaN, NaN, NaN, NaN, \"NaN\", NaN, 0.5, \"ft\", NaN, NaN, NaN, NaN, NaN, NaN, \"5310-B\", \"APHA\", \"5310 B ~ Total Organic Carbon by Combustion-Infrared Method\", NaN, \"https://www.nemi.gov/methods/method_summary/5717/\", \"NaN\", \"NaN\", NaN, \"NaN\", \"NaN\", NaN, \"NaN\", NaN, \"2024-10-29T10:44:56\", \"STORET\"], [\"21FLNWFD_WQX\", \"Northwest  Florida Water Management District\", \"21FLNWFD_WQX-S2-061824\", \"Sample-Routine\", \"Water\", \"Surface Water\", \"2024-06-18\", \"11:00:00\", \"EST\", \"2024-06-18\", \"11:00:00\", \"EST\", \"NaN\", 1.64, \"ft\", \"NaN\", NaN, \"NaN\", NaN, \"NaN\", \"NWF-SJB2MSWQS\", \"SJB and Second Magnitude Springs Water Quality Sampling\", \"JIM STIDHAM AND ASSOCIATES, INC.\", \"21FLNWFD_WQX-SJB14\", \"St. Joseph Bay 14\", NaN, NaN, NaN, NaN, 29.728256, -85.387486, \"Intermediate Grab\", \"21FLNWFD_WQX\", \"Intermediate Grab\", \"An individual sample collected at one time period, generally not exceeding 15 minutes.  Grab samples represent the conditions that exist at the moment the sample is collected.  An intermediate device, vessel or another sample container is used to collect the intermediate grab sample. The sample is then transferred to the sample container and sent to the lab.\", \"Pump/Submersible\", \"STORET-1046447730\", \"NaN\", \"NaN\", \"Organic carbon\", \"Total\", \"7.1\", \"mg/L\", \"NaN\", \"Final\", NaN, \"Actual\", NaN, NaN, NaN, NaN, NaN, NaN, NaN, NaN, NaN, \"NaN\", NaN, NaN, \"NaN\", NaN, NaN, NaN, NaN, NaN, NaN, \"5310-B\", \"APHA\", \"5310 B ~ Total Organic Carbon by Combustion-Infrared Method\", NaN, \"https://www.nemi.gov/methods/method_summary/5717/\", \"E82001\", \"2024-06-24\", NaN, \"https://www.waterqualitydata.us/data/providers/STORET/organizations/21FLNWFD_WQX/activities/21FLNWFD_WQX-S2-061824/results/1046447730/resdetectqntlmts\", \"Practical Quantitation Limit\", 2.0, \"mg/L\", NaN, \"2024-10-30T13:32:01\", \"STORET\"], [\"21MSWQ_WQX\", \"MISSISSIPPI DEPARTMENT OF ENVIRONMENTAL QUALITY\", \"21MSWQ_WQX-200570-625\", \"Sample-Routine\", \"Water\", \"NaN\", \"2024-04-17\", \"10:24:00\", \"CDT\", \"NaN\", \"NaN\", \"NaN\", \"NaN\", 0.5, \"ft\", \"NaN\", NaN, \"NaN\", NaN, \"NaN\", \"BCH24;EPABEACH;MS424283\", \"BEACH MONITORING 2024;BEACH MONITORING 2024;EDGEWATER BEACH\", \"MISSISSIPPI DEPARTMENT OF ENVIRONMENTAL QUALITY\", \"21MSWQ_WQX-640MSDB11A\", \"EDGEWATER BEACH\", NaN, NaN, NaN, NaN, 30.388222, -88.991528, \"Grab-DTSC\", \"21MSWQ_WQX\", \"Grab-Direct to Sample Container\", \"The collection of a sample utilizing no collection gear. The sample is collected directly into the sample container.\", \"Water Bottle\", \"STORET-1046380119\", \"NaN\", \"as C\", \"Organic carbon\", \"Total\", \"2.62\", \"mg/L\", \"NaN\", \"Accepted\", NaN, \"Actual\", NaN, NaN, NaN, NaN, NaN, NaN, NaN, NaN, NaN, \"NaN\", NaN, 0.5, \"ft\", NaN, NaN, NaN, NaN, NaN, NaN, \"5310-B\", \"APHA\", \"5310 B ~ Total Organic Carbon by Combustion-Infrared Method\", NaN, \"https://www.nemi.gov/methods/method_summary/5717/\", \"NaN\", \"NaN\", NaN, \"NaN\", \"NaN\", NaN, \"NaN\", NaN, \"2024-10-29T10:51:44\", \"STORET\"], [\"21MSWQ_WQX\", \"MISSISSIPPI DEPARTMENT OF ENVIRONMENTAL QUALITY\", \"21MSWQ_WQX-200549-625\", \"Sample-Routine\", \"Water\", \"NaN\", \"2024-04-15\", \"11:33:00\", \"CDT\", \"NaN\", \"NaN\", \"NaN\", \"NaN\", 0.5, \"ft\", \"NaN\", NaN, \"NaN\", NaN, \"NaN\", \"BCH24;EPABEACH;MS984335\", \"BEACH MONITORING 2024;BEACH MONITORING 2024;GULFPORT CENTRAL BEACH\", \"MISSISSIPPI DEPARTMENT OF ENVIRONMENTAL QUALITY\", \"21MSWQ_WQX-640MSDB10\", \"GULFPORT CENTRAL BEACH\", NaN, NaN, NaN, NaN, 30.375, -89.053917, \"Grab-DTSC\", \"21MSWQ_WQX\", \"Grab-Direct to Sample Container\", \"The collection of a sample utilizing no collection gear. The sample is collected directly into the sample container.\", \"Water Bottle\", \"STORET-1046372863\", \"NaN\", \"as C\", \"Organic carbon\", \"Total\", \"3.1\", \"mg/L\", \"NaN\", \"Accepted\", NaN, \"Actual\", NaN, NaN, NaN, NaN, NaN, NaN, NaN, NaN, NaN, \"NaN\", NaN, 0.5, \"ft\", NaN, NaN, NaN, NaN, NaN, NaN, \"5310-B\", \"APHA\", \"5310 B ~ Total Organic Carbon by Combustion-Infrared Method\", NaN, \"https://www.nemi.gov/methods/method_summary/5717/\", \"NaN\", \"NaN\", NaN, \"NaN\", \"NaN\", NaN, \"NaN\", NaN, \"2024-10-29T10:43:14\", \"STORET\"], [\"21MSWQ_WQX\", \"MISSISSIPPI DEPARTMENT OF ENVIRONMENTAL QUALITY\", \"21MSWQ_WQX-200902-625\", \"Sample-Routine\", \"Water\", \"NaN\", \"2024-06-10\", \"10:14:00\", \"CDT\", \"NaN\", \"NaN\", \"NaN\", \"NaN\", 0.5, \"ft\", \"NaN\", NaN, \"NaN\", NaN, \"NaN\", \"BCH24;EPABEACH;MS268175\", \"BEACH MONITORING 2024;BEACH MONITORING 2024;PASS CHRISTIAN CENTRAL BEACH\", \"MISSISSIPPI DEPARTMENT OF ENVIRONMENTAL QUALITY\", \"21MSWQ_WQX-640MSDB05\", \"PASS CHRISTIAN CENTRAL BEACH\", NaN, NaN, NaN, NaN, 30.309, -89.254694, \"Grab-DTSC\", \"21MSWQ_WQX\", \"Grab-Direct to Sample Container\", \"The collection of a sample utilizing no collection gear. The sample is collected directly into the sample container.\", \"Water Bottle\", \"STORET-1046370700\", \"NaN\", \"as C\", \"Organic carbon\", \"Total\", \"3.26\", \"mg/L\", \"NaN\", \"Accepted\", NaN, \"Actual\", NaN, NaN, NaN, NaN, NaN, NaN, NaN, NaN, NaN, \"NaN\", NaN, 0.5, \"ft\", NaN, NaN, NaN, NaN, NaN, NaN, \"5310-B\", \"APHA\", \"5310 B ~ Total Organic Carbon by Combustion-Infrared Method\", NaN, \"https://www.nemi.gov/methods/method_summary/5717/\", \"NaN\", \"NaN\", NaN, \"NaN\", \"NaN\", NaN, \"NaN\", NaN, \"2024-10-29T10:39:23\", \"STORET\"], [\"21MSWQ_WQX\", \"MISSISSIPPI DEPARTMENT OF ENVIRONMENTAL QUALITY\", \"21MSWQ_WQX-200563-625\", \"Sample-Routine\", \"Water\", \"NaN\", \"2024-04-17\", \"11:15:00\", \"CDT\", \"NaN\", \"NaN\", \"NaN\", \"NaN\", 0.5, \"ft\", \"NaN\", NaN, \"NaN\", NaN, \"NaN\", \"BCH24;EPABEACH;MS334678\", \"BEACH MONITORING 2024;BEACH MONITORING 2024;FRONT BEACH\", \"MISSISSIPPI DEPARTMENT OF ENVIRONMENTAL QUALITY\", \"21MSWQ_WQX-640BBYB01\", \"FRONT BEACH\", NaN, NaN, NaN, NaN, 30.406389, -88.833333, \"Grab-DTSC\", \"21MSWQ_WQX\", \"Grab-Direct to Sample Container\", \"The collection of a sample utilizing no collection gear. The sample is collected directly into the sample container.\", \"Water Bottle\", \"STORET-1046370620\", \"NaN\", \"as C\", \"Organic carbon\", \"Total\", \"3.48\", \"mg/L\", \"NaN\", \"Accepted\", NaN, \"Actual\", NaN, NaN, NaN, NaN, NaN, NaN, NaN, NaN, NaN, \"NaN\", NaN, 0.5, \"ft\", NaN, NaN, NaN, NaN, NaN, NaN, \"5310-B\", \"APHA\", \"5310 B ~ Total Organic Carbon by Combustion-Infrared Method\", NaN, \"https://www.nemi.gov/methods/method_summary/5717/\", \"NaN\", \"NaN\", NaN, \"NaN\", \"NaN\", NaN, \"NaN\", NaN, \"2024-10-29T10:39:09\", \"STORET\"], [\"21MSWQ_WQX\", \"MISSISSIPPI DEPARTMENT OF ENVIRONMENTAL QUALITY\", \"21MSWQ_WQX-200901-625\", \"Sample-Routine\", \"Water\", \"NaN\", \"2024-06-10\", \"10:08:00\", \"CDT\", \"NaN\", \"NaN\", \"NaN\", \"NaN\", 0.5, \"ft\", \"NaN\", NaN, \"NaN\", NaN, \"NaN\", \"BCH24;EPABEACH;MS183900\", \"BEACH MONITORING 2024;BEACH MONITORING 2024;PASS CHRISTIAN WEST BEACH\", \"MISSISSIPPI DEPARTMENT OF ENVIRONMENTAL QUALITY\", \"21MSWQ_WQX-640MSDB04\", \"PASS CHRISTIAN WEST BEACH\", NaN, NaN, NaN, NaN, 30.3035, -89.281694, \"Grab-DTSC\", \"21MSWQ_WQX\", \"Grab-Direct to Sample Container\", \"The collection of a sample utilizing no collection gear. The sample is collected directly into the sample container.\", \"Water Bottle\", \"STORET-1046371367\", \"NaN\", \"as C\", \"Organic carbon\", \"Total\", \"3.1\", \"mg/L\", \"NaN\", \"Accepted\", NaN, \"Actual\", NaN, NaN, NaN, NaN, NaN, NaN, NaN, NaN, NaN, \"NaN\", NaN, 0.5, \"ft\", NaN, NaN, NaN, NaN, NaN, NaN, \"5310-B\", \"APHA\", \"5310 B ~ Total Organic Carbon by Combustion-Infrared Method\", NaN, \"https://www.nemi.gov/methods/method_summary/5717/\", \"NaN\", \"NaN\", NaN, \"NaN\", \"NaN\", NaN, \"NaN\", NaN, \"2024-10-29T10:40:32\", \"STORET\"], [\"21MSWQ_WQX\", \"MISSISSIPPI DEPARTMENT OF ENVIRONMENTAL QUALITY\", \"21MSWQ_WQX-200548-625\", \"Sample-Routine\", \"Water\", \"NaN\", \"2024-04-15\", \"11:20:00\", \"CDT\", \"NaN\", \"NaN\", \"NaN\", \"NaN\", 0.5, \"ft\", \"NaN\", NaN, \"NaN\", NaN, \"NaN\", \"BCH24;EPABEACH;MS837600\", \"BEACH MONITORING 2024;BEACH MONITORING 2024;GULFPORT HARBOR BEACH\", \"MISSISSIPPI DEPARTMENT OF ENVIRONMENTAL QUALITY\", \"21MSWQ_WQX-640MSDB09\", \"GULFPORT HARBOR BEACH\", NaN, NaN, NaN, NaN, 30.367361, -89.079722, \"Grab-DTSC\", \"21MSWQ_WQX\", \"Grab-Direct to Sample Container\", \"The collection of a sample utilizing no collection gear. The sample is collected directly into the sample container.\", \"Water Bottle\", \"STORET-1046372498\", \"NaN\", \"as C\", \"Organic carbon\", \"Total\", \"2.58\", \"mg/L\", \"NaN\", \"Accepted\", NaN, \"Actual\", NaN, NaN, NaN, NaN, NaN, NaN, NaN, NaN, NaN, \"NaN\", NaN, 0.5, \"ft\", NaN, NaN, NaN, NaN, NaN, NaN, \"5310-B\", \"APHA\", \"5310 B ~ Total Organic Carbon by Combustion-Infrared Method\", NaN, \"https://www.nemi.gov/methods/method_summary/5717/\", \"NaN\", \"NaN\", NaN, \"NaN\", \"NaN\", NaN, \"NaN\", NaN, \"2024-10-29T10:42:22\", \"STORET\"], [\"21MSWQ_WQX\", \"MISSISSIPPI DEPARTMENT OF ENVIRONMENTAL QUALITY\", \"21MSWQ_WQX-200754-625\", \"Sample-Routine\", \"Water\", \"NaN\", \"2024-05-13\", \"11:55:00\", \"CDT\", \"NaN\", \"NaN\", \"NaN\", \"NaN\", 0.5, \"ft\", \"NaN\", NaN, \"NaN\", NaN, \"NaN\", \"BCH24;EPABEACH;MS984335\", \"BEACH MONITORING 2024;BEACH MONITORING 2024;GULFPORT CENTRAL BEACH\", \"MISSISSIPPI DEPARTMENT OF ENVIRONMENTAL QUALITY\", \"21MSWQ_WQX-640MSDB10\", \"GULFPORT CENTRAL BEACH\", NaN, NaN, NaN, NaN, 30.375, -89.053917, \"Grab-DTSC\", \"21MSWQ_WQX\", \"Grab-Direct to Sample Container\", \"The collection of a sample utilizing no collection gear. The sample is collected directly into the sample container.\", \"Water Bottle\", \"STORET-1046370667\", \"NaN\", \"as C\", \"Organic carbon\", \"Total\", \"2.62\", \"mg/L\", \"NaN\", \"Accepted\", NaN, \"Actual\", NaN, NaN, NaN, NaN, NaN, NaN, NaN, NaN, NaN, \"NaN\", NaN, 0.5, \"ft\", NaN, NaN, NaN, NaN, NaN, NaN, \"5310-B\", \"APHA\", \"5310 B ~ Total Organic Carbon by Combustion-Infrared Method\", NaN, \"https://www.nemi.gov/methods/method_summary/5717/\", \"NaN\", \"NaN\", NaN, \"NaN\", \"NaN\", NaN, \"NaN\", NaN, \"2024-10-29T10:39:17\", \"STORET\"], [\"21FLTPA_WQX\", \"FL Dept. Environmental Protection, Southwest District\", \"21FLTPA_WQX-G5SW0061-06/17/24\", \"Sample-Routine\", \"Water\", \"Surface Water\", \"2024-06-17\", \"11:10:00\", \"EST\", \"2024-06-17\", \"11:10:00\", \"EST\", \"NaN\", 0.3, \"m\", \"NaN\", NaN, \"NaN\", NaN, \"NaN\", \"SMP\", \"Strategic Monitoring Plan\", \"FDEP SOUTHWEST REGIONAL OPERATIONS CENTER\", \"21FLTPA_WQX-G5SW0061\", \"Gulf of Mexico (Port Richey) SE\", NaN, NaN, NaN, NaN, 28.27, -82.75, \"Direct Grab\", \"21FLTPA_WQX\", \"Direct Grab\", \"An individual sample collected at one time period, generally not exceeding 15 minutes.  Grab samples represent the conditions that exist at the moment the sample is collected.  Use sample container to directly collect the sample.  For Aqueous matrices, all sample containers for individual analytes or analyte groups must be filled from the sampling location or source within the 15-minute window.\", \"Water Bottle\", \"STORET-1043713744\", \"NaN\", \"NaN\", \"Organic carbon\", \"Total\", \"6.9\", \"mg/L\", \"NaN\", \"Final\", NaN, \"Actual\", NaN, NaN, NaN, NaN, NaN, NaN, NaN, NaN, NaN, \"NaN\", NaN, NaN, \"NaN\", NaN, NaN, NaN, NaN, NaN, NaN, \"5310-B\", \"APHA\", \"5310 B ~ Total Organic Carbon by Combustion-Infrared Method\", NaN, \"https://www.nemi.gov/methods/method_summary/5717/\", \"E31780\", \"2024-06-25\", NaN, \"https://www.waterqualitydata.us/data/providers/STORET/organizations/21FLTPA_WQX/activities/21FLTPA_WQX-G5SW0061-06%2F17%2F24/results/1043713744/resdetectqntlmts\", \"Practical Quantitation Limit\", 4.0, \"mg/L\", NaN, \"2024-10-08T15:06:23\", \"STORET\"], [\"21MSWQ_WQX\", \"MISSISSIPPI DEPARTMENT OF ENVIRONMENTAL QUALITY\", \"21MSWQ_WQX-200763-625\", \"Sample-Routine\", \"Water\", \"NaN\", \"2024-05-14\", \"09:40:00\", \"CDT\", \"NaN\", \"NaN\", \"NaN\", \"NaN\", 0.5, \"ft\", \"NaN\", NaN, \"NaN\", NaN, \"NaN\", \"BCH24;EPABEACH;MS334678\", \"BEACH MONITORING 2024;BEACH MONITORING 2024;FRONT BEACH\", \"MISSISSIPPI DEPARTMENT OF ENVIRONMENTAL QUALITY\", \"21MSWQ_WQX-640BBYB01\", \"FRONT BEACH\", NaN, NaN, NaN, NaN, 30.406389, -88.833333, \"Grab-DTSC\", \"21MSWQ_WQX\", \"Grab-Direct to Sample Container\", \"The collection of a sample utilizing no collection gear. The sample is collected directly into the sample container.\", \"Water Bottle\", \"STORET-1046374695\", \"NaN\", \"as C\", \"Organic carbon\", \"Total\", \"3.02\", \"mg/L\", \"NaN\", \"Accepted\", NaN, \"Actual\", NaN, NaN, NaN, NaN, NaN, NaN, NaN, NaN, NaN, \"NaN\", NaN, 0.5, \"ft\", NaN, NaN, NaN, NaN, NaN, NaN, \"5310-B\", \"APHA\", \"5310 B ~ Total Organic Carbon by Combustion-Infrared Method\", NaN, \"https://www.nemi.gov/methods/method_summary/5717/\", \"NaN\", \"NaN\", NaN, \"NaN\", \"NaN\", NaN, \"NaN\", NaN, \"2024-10-29T10:46:30\", \"STORET\"], [\"21MSWQ_WQX\", \"MISSISSIPPI DEPARTMENT OF ENVIRONMENTAL QUALITY\", \"21MSWQ_WQX-200544-625\", \"Sample-Routine\", \"Water\", \"NaN\", \"2024-04-15\", \"10:31:00\", \"CDT\", \"NaN\", \"NaN\", \"NaN\", \"NaN\", 0.5, \"ft\", \"NaN\", NaN, \"NaN\", NaN, \"NaN\", \"BCH24;EPABEACH;MS268175\", \"BEACH MONITORING 2024;BEACH MONITORING 2024;PASS CHRISTIAN CENTRAL BEACH\", \"MISSISSIPPI DEPARTMENT OF ENVIRONMENTAL QUALITY\", \"21MSWQ_WQX-640MSDB05\", \"PASS CHRISTIAN CENTRAL BEACH\", NaN, NaN, NaN, NaN, 30.309, -89.254694, \"Grab-DTSC\", \"21MSWQ_WQX\", \"Grab-Direct to Sample Container\", \"The collection of a sample utilizing no collection gear. The sample is collected directly into the sample container.\", \"Water Bottle\", \"STORET-1046370611\", \"NaN\", \"as C\", \"Organic carbon\", \"Total\", \"4.39\", \"mg/L\", \"NaN\", \"Accepted\", NaN, \"Actual\", NaN, NaN, NaN, NaN, NaN, NaN, NaN, NaN, NaN, \"NaN\", NaN, 0.5, \"ft\", NaN, NaN, NaN, NaN, NaN, NaN, \"5310-B\", \"APHA\", \"5310 B ~ Total Organic Carbon by Combustion-Infrared Method\", NaN, \"https://www.nemi.gov/methods/method_summary/5717/\", \"NaN\", \"NaN\", NaN, \"NaN\", \"NaN\", NaN, \"NaN\", NaN, \"2024-10-29T10:39:08\", \"STORET\"], [\"21FLNWFD_WQX\", \"Northwest  Florida Water Management District\", \"21FLNWFD_WQX-S5-061324\", \"Sample-Routine\", \"Water\", \"Surface Water\", \"2024-06-13\", \"12:30:00\", \"EST\", \"2024-06-13\", \"12:30:00\", \"EST\", \"NaN\", 1.64, \"ft\", \"NaN\", NaN, \"NaN\", NaN, \"NaN\", \"NWF-SJB2MSWQS\", \"SJB and Second Magnitude Springs Water Quality Sampling\", \"JIM STIDHAM AND ASSOCIATES, INC.\", \"21FLNWFD_WQX-SJB7\", \"St. Joseph Bay 7\", NaN, NaN, NaN, NaN, 29.756329, -85.303458, \"Intermediate Grab\", \"21FLNWFD_WQX\", \"Intermediate Grab\", \"An individual sample collected at one time period, generally not exceeding 15 minutes.  Grab samples represent the conditions that exist at the moment the sample is collected.  An intermediate device, vessel or another sample container is used to collect the intermediate grab sample. The sample is then transferred to the sample container and sent to the lab.\", \"Pump/Submersible\", \"STORET-1046447753\", \"NaN\", \"NaN\", \"Organic carbon\", \"Total\", \"9.9\", \"mg/L\", \"NaN\", \"Final\", NaN, \"Actual\", NaN, NaN, NaN, NaN, NaN, NaN, NaN, NaN, NaN, \"NaN\", NaN, NaN, \"NaN\", NaN, NaN, NaN, NaN, NaN, NaN, \"5310-B\", \"APHA\", \"5310 B ~ Total Organic Carbon by Combustion-Infrared Method\", NaN, \"https://www.nemi.gov/methods/method_summary/5717/\", \"E82001\", \"2024-06-20\", NaN, \"https://www.waterqualitydata.us/data/providers/STORET/organizations/21FLNWFD_WQX/activities/21FLNWFD_WQX-S5-061324/results/1046447753/resdetectqntlmts\", \"Practical Quantitation Limit\", 2.0, \"mg/L\", NaN, \"2024-10-30T13:32:01\", \"STORET\"], [\"21MSWQ_WQX\", \"MISSISSIPPI DEPARTMENT OF ENVIRONMENTAL QUALITY\", \"21MSWQ_WQX-200917-625\", \"Sample-Routine\", \"Water\", \"NaN\", \"2024-06-11\", \"09:47:00\", \"CDT\", \"NaN\", \"NaN\", \"NaN\", \"NaN\", 0.5, \"ft\", \"NaN\", NaN, \"NaN\", NaN, \"NaN\", \"BCH24;EPABEACH;MS464589\", \"BEACH MONITORING 2024;BEACH MONITORING 2024;SHEARWATER BEACH\", \"MISSISSIPPI DEPARTMENT OF ENVIRONMENTAL QUALITY\", \"21MSWQ_WQX-640BBYB02\", \"SHEARWATER BEACH\", NaN, NaN, NaN, NaN, 30.393889, -88.810278, \"Grab-DTSC\", \"21MSWQ_WQX\", \"Grab-Direct to Sample Container\", \"The collection of a sample utilizing no collection gear. The sample is collected directly into the sample container.\", \"Water Bottle\", \"STORET-1046372774\", \"NaN\", \"as C\", \"Organic carbon\", \"Total\", \"3.46\", \"mg/L\", \"NaN\", \"Accepted\", NaN, \"Actual\", NaN, NaN, NaN, NaN, NaN, NaN, NaN, NaN, NaN, \"NaN\", NaN, 0.5, \"ft\", NaN, NaN, NaN, NaN, NaN, NaN, \"5310-B\", \"APHA\", \"5310 B ~ Total Organic Carbon by Combustion-Infrared Method\", NaN, \"https://www.nemi.gov/methods/method_summary/5717/\", \"NaN\", \"NaN\", NaN, \"NaN\", \"NaN\", NaN, \"NaN\", NaN, \"2024-10-29T10:43:02\", \"STORET\"], [\"21MSWQ_WQX\", \"MISSISSIPPI DEPARTMENT OF ENVIRONMENTAL QUALITY\", \"21MSWQ_WQX-200543-625\", \"Sample-Routine\", \"Water\", \"NaN\", \"2024-04-15\", \"10:20:00\", \"CDT\", \"NaN\", \"NaN\", \"NaN\", \"NaN\", 0.5, \"ft\", \"NaN\", NaN, \"NaN\", NaN, \"NaN\", \"BCH24;EPABEACH;MS183900\", \"BEACH MONITORING 2024;BEACH MONITORING 2024;PASS CHRISTIAN WEST BEACH\", \"MISSISSIPPI DEPARTMENT OF ENVIRONMENTAL QUALITY\", \"21MSWQ_WQX-640MSDB04\", \"PASS CHRISTIAN WEST BEACH\", NaN, NaN, NaN, NaN, 30.3035, -89.281694, \"Grab-DTSC\", \"21MSWQ_WQX\", \"Grab-Direct to Sample Container\", \"The collection of a sample utilizing no collection gear. The sample is collected directly into the sample container.\", \"Water Bottle\", \"STORET-1046372489\", \"NaN\", \"as C\", \"Organic carbon\", \"Total\", \"3.17\", \"mg/L\", \"NaN\", \"Accepted\", NaN, \"Actual\", NaN, NaN, NaN, NaN, NaN, NaN, NaN, NaN, NaN, \"NaN\", NaN, 0.5, \"ft\", NaN, NaN, NaN, NaN, NaN, NaN, \"5310-B\", \"APHA\", \"5310 B ~ Total Organic Carbon by Combustion-Infrared Method\", NaN, \"https://www.nemi.gov/methods/method_summary/5717/\", \"NaN\", \"NaN\", NaN, \"NaN\", \"NaN\", NaN, \"NaN\", NaN, \"2024-10-29T10:42:22\", \"STORET\"], [\"21MSWQ_WQX\", \"MISSISSIPPI DEPARTMENT OF ENVIRONMENTAL QUALITY\", \"21MSWQ_WQX-200904-625\", \"Sample-Routine\", \"Water\", \"NaN\", \"2024-06-10\", \"10:33:00\", \"CDT\", \"NaN\", \"NaN\", \"NaN\", \"NaN\", 0.5, \"ft\", \"NaN\", NaN, \"NaN\", NaN, \"NaN\", \"BCH24;EPABEACH;MS951039\", \"BEACH MONITORING 2024;BEACH MONITORING 2024;LONG BEACH\", \"MISSISSIPPI DEPARTMENT OF ENVIRONMENTAL QUALITY\", \"21MSWQ_WQX-640MSDB07\", \"LONG BEACH\", NaN, NaN, NaN, NaN, 30.339944, -89.159722, \"Grab-DTSC\", \"21MSWQ_WQX\", \"Grab-Direct to Sample Container\", \"The collection of a sample utilizing no collection gear. The sample is collected directly into the sample container.\", \"Water Bottle\", \"STORET-1046378116\", \"NaN\", \"as C\", \"Organic carbon\", \"Total\", \"3.05\", \"mg/L\", \"NaN\", \"Accepted\", NaN, \"Actual\", NaN, NaN, NaN, NaN, NaN, NaN, NaN, NaN, NaN, \"NaN\", NaN, 0.5, \"ft\", NaN, NaN, NaN, NaN, NaN, NaN, \"5310-B\", \"APHA\", \"5310 B ~ Total Organic Carbon by Combustion-Infrared Method\", NaN, \"https://www.nemi.gov/methods/method_summary/5717/\", \"NaN\", \"NaN\", NaN, \"NaN\", \"NaN\", NaN, \"NaN\", NaN, \"2024-10-29T10:48:16\", \"STORET\"], [\"21MSWQ_WQX\", \"MISSISSIPPI DEPARTMENT OF ENVIRONMENTAL QUALITY\", \"21MSWQ_WQX-200911-625\", \"Sample-Routine\", \"Water\", \"NaN\", \"2024-06-11\", \"08:46:00\", \"CDT\", \"NaN\", \"NaN\", \"NaN\", \"NaN\", 0.5, \"ft\", \"NaN\", NaN, \"NaN\", NaN, \"NaN\", \"BCH24;EPABEACH;MS501920\", \"BEACH MONITORING 2024;BEACH MONITORING 2024;GULFPORT EAST BEACH\", \"MISSISSIPPI DEPARTMENT OF ENVIRONMENTAL QUALITY\", \"21MSWQ_WQX-640MSDB11\", \"GULFPORT EAST BEACH\", NaN, NaN, NaN, NaN, 30.380917, -89.026639, \"Grab-DTSC\", \"21MSWQ_WQX\", \"Grab-Direct to Sample Container\", \"The collection of a sample utilizing no collection gear. The sample is collected directly into the sample container.\", \"Water Bottle\", \"STORET-1046372764\", \"NaN\", \"as C\", \"Organic carbon\", \"Total\", \"2.72\", \"mg/L\", \"NaN\", \"Accepted\", NaN, \"Actual\", NaN, NaN, NaN, NaN, NaN, NaN, NaN, NaN, NaN, \"NaN\", NaN, 0.5, \"ft\", NaN, NaN, NaN, NaN, NaN, NaN, \"5310-B\", \"APHA\", \"5310 B ~ Total Organic Carbon by Combustion-Infrared Method\", NaN, \"https://www.nemi.gov/methods/method_summary/5717/\", \"NaN\", \"NaN\", NaN, \"NaN\", \"NaN\", NaN, \"NaN\", NaN, \"2024-10-29T10:43:01\", \"STORET\"], [\"21MSWQ_WQX\", \"MISSISSIPPI DEPARTMENT OF ENVIRONMENTAL QUALITY\", \"21MSWQ_WQX-200542-625\", \"Sample-Routine\", \"Water\", \"NaN\", \"2024-04-15\", \"10:04:00\", \"CDT\", \"NaN\", \"NaN\", \"NaN\", \"NaN\", 0.5, \"ft\", \"NaN\", NaN, \"NaN\", NaN, \"NaN\", \"BCH24;EPABEACH;MS356172\", \"BEACH MONITORING 2024;BEACH MONITORING 2024;BAY ST LOUIS BEACH\", \"MISSISSIPPI DEPARTMENT OF ENVIRONMENTAL QUALITY\", \"21MSWQ_WQX-640MSDB03\", \"BAY ST LOUIS BEACH\", NaN, NaN, NaN, NaN, 30.300222, -89.332639, \"Grab-DTSC\", \"21MSWQ_WQX\", \"Grab-Direct to Sample Container\", \"The collection of a sample utilizing no collection gear. The sample is collected directly into the sample container.\", \"Water Bottle\", \"STORET-1046372855\", \"NaN\", \"as C\", \"Organic carbon\", \"Total\", \"3.35\", \"mg/L\", \"NaN\", \"Accepted\", NaN, \"Actual\", NaN, NaN, NaN, NaN, NaN, NaN, NaN, NaN, NaN, \"NaN\", NaN, 0.5, \"ft\", NaN, NaN, NaN, NaN, NaN, NaN, \"5310-B\", \"APHA\", \"5310 B ~ Total Organic Carbon by Combustion-Infrared Method\", NaN, \"https://www.nemi.gov/methods/method_summary/5717/\", \"NaN\", \"NaN\", NaN, \"NaN\", \"NaN\", NaN, \"NaN\", NaN, \"2024-10-29T10:43:13\", \"STORET\"], [\"21MSWQ_WQX\", \"MISSISSIPPI DEPARTMENT OF ENVIRONMENTAL QUALITY\", \"21MSWQ_WQX-200912-625\", \"Sample-Routine\", \"Water\", \"NaN\", \"2024-06-11\", \"08:53:00\", \"CDT\", \"NaN\", \"NaN\", \"NaN\", \"NaN\", 0.5, \"ft\", \"NaN\", NaN, \"NaN\", NaN, \"NaN\", \"BCH24;EPABEACH;MS424283\", \"BEACH MONITORING 2024;BEACH MONITORING 2024;EDGEWATER BEACH\", \"MISSISSIPPI DEPARTMENT OF ENVIRONMENTAL QUALITY\", \"21MSWQ_WQX-640MSDB11A\", \"EDGEWATER BEACH\", NaN, NaN, NaN, NaN, 30.388222, -88.991528, \"Grab-DTSC\", \"21MSWQ_WQX\", \"Grab-Direct to Sample Container\", \"The collection of a sample utilizing no collection gear. The sample is collected directly into the sample container.\", \"Water Bottle\", \"STORET-1046378173\", \"NaN\", \"as C\", \"Organic carbon\", \"Total\", \"2.97\", \"mg/L\", \"NaN\", \"Accepted\", NaN, \"Actual\", NaN, NaN, NaN, NaN, NaN, NaN, NaN, NaN, NaN, \"NaN\", NaN, 0.5, \"ft\", NaN, NaN, NaN, NaN, NaN, NaN, \"5310-B\", \"APHA\", \"5310 B ~ Total Organic Carbon by Combustion-Infrared Method\", NaN, \"https://www.nemi.gov/methods/method_summary/5717/\", \"NaN\", \"NaN\", NaN, \"NaN\", \"NaN\", NaN, \"NaN\", NaN, \"2024-10-29T10:48:17\", \"STORET\"], [\"21FLNWFD_WQX\", \"Northwest  Florida Water Management District\", \"21FLNWFD_WQX-S4-061324\", \"Sample-Routine\", \"Water\", \"Surface Water\", \"2024-06-13\", \"12:10:00\", \"EST\", \"2024-06-13\", \"12:10:00\", \"EST\", \"NaN\", 1.64, \"ft\", \"NaN\", NaN, \"NaN\", NaN, \"NaN\", \"NWF-SJB2MSWQS\", \"SJB and Second Magnitude Springs Water Quality Sampling\", \"JIM STIDHAM AND ASSOCIATES, INC.\", \"21FLNWFD_WQX-SJB10\", \"St. Joseph Bay 10\", NaN, NaN, NaN, NaN, 29.717877, -85.304622, \"Intermediate Grab\", \"21FLNWFD_WQX\", \"Intermediate Grab\", \"An individual sample collected at one time period, generally not exceeding 15 minutes.  Grab samples represent the conditions that exist at the moment the sample is collected.  An intermediate device, vessel or another sample container is used to collect the intermediate grab sample. The sample is then transferred to the sample container and sent to the lab.\", \"Pump/Submersible\", \"STORET-1046447563\", \"NaN\", \"NaN\", \"Organic carbon\", \"Total\", \"7.6\", \"mg/L\", \"NaN\", \"Final\", NaN, \"Actual\", NaN, NaN, NaN, NaN, NaN, NaN, NaN, NaN, NaN, \"NaN\", NaN, NaN, \"NaN\", NaN, NaN, NaN, NaN, NaN, NaN, \"5310-B\", \"APHA\", \"5310 B ~ Total Organic Carbon by Combustion-Infrared Method\", NaN, \"https://www.nemi.gov/methods/method_summary/5717/\", \"E82001\", \"2024-06-20\", NaN, \"https://www.waterqualitydata.us/data/providers/STORET/organizations/21FLNWFD_WQX/activities/21FLNWFD_WQX-S4-061324/results/1046447563/resdetectqntlmts\", \"Practical Quantitation Limit\", 2.0, \"mg/L\", NaN, \"2024-10-30T13:31:59\", \"STORET\"], [\"21MSWQ_WQX\", \"MISSISSIPPI DEPARTMENT OF ENVIRONMENTAL QUALITY\", \"21MSWQ_WQX-200751-625\", \"Sample-Routine\", \"Water\", \"NaN\", \"2024-05-13\", \"11:25:00\", \"CDT\", \"NaN\", \"NaN\", \"NaN\", \"NaN\", 0.5, \"ft\", \"NaN\", NaN, \"NaN\", NaN, \"NaN\", \"BCH24;EPABEACH;MS951039\", \"BEACH MONITORING 2024;BEACH MONITORING 2024;LONG BEACH\", \"MISSISSIPPI DEPARTMENT OF ENVIRONMENTAL QUALITY\", \"21MSWQ_WQX-640MSDB07\", \"LONG BEACH\", NaN, NaN, NaN, NaN, 30.339944, -89.159722, \"Grab-DTSC\", \"21MSWQ_WQX\", \"Grab-Direct to Sample Container\", \"The collection of a sample utilizing no collection gear. The sample is collected directly into the sample container.\", \"Water Bottle\", \"STORET-1046380421\", \"NaN\", \"as C\", \"Organic carbon\", \"Total\", \"2.58\", \"mg/L\", \"NaN\", \"Accepted\", NaN, \"Actual\", NaN, NaN, NaN, NaN, NaN, NaN, NaN, NaN, NaN, \"NaN\", NaN, 0.5, \"ft\", NaN, NaN, NaN, NaN, NaN, NaN, \"5310-B\", \"APHA\", \"5310 B ~ Total Organic Carbon by Combustion-Infrared Method\", NaN, \"https://www.nemi.gov/methods/method_summary/5717/\", \"NaN\", \"NaN\", NaN, \"NaN\", \"NaN\", NaN, \"NaN\", NaN, \"2024-10-29T10:52:21\", \"STORET\"], [\"21MSWQ_WQX\", \"MISSISSIPPI DEPARTMENT OF ENVIRONMENTAL QUALITY\", \"21MSWQ_WQX-200755-625\", \"Sample-Routine\", \"Water\", \"NaN\", \"2024-05-14\", \"08:38:00\", \"CDT\", \"NaN\", \"NaN\", \"NaN\", \"NaN\", 0.5, \"ft\", \"NaN\", NaN, \"NaN\", NaN, \"NaN\", \"BCH24;EPABEACH;MS665298\", \"BEACH MONITORING 2024;BEACH MONITORING 2024;COURTHOUSE ROAD BEACH\", \"MISSISSIPPI DEPARTMENT OF ENVIRONMENTAL QUALITY\", \"21MSWQ_WQX-640MSDB10B\", \"COURTHOUSE ROAD BEACH\", NaN, NaN, NaN, NaN, 30.3772, -89.043308, \"Grab-DTSC\", \"21MSWQ_WQX\", \"Grab-Direct to Sample Container\", \"The collection of a sample utilizing no collection gear. The sample is collected directly into the sample container.\", \"Water Bottle\", \"STORET-1046374688\", \"NaN\", \"as C\", \"Organic carbon\", \"Total\", \"2.41\", \"mg/L\", \"NaN\", \"Accepted\", NaN, \"Actual\", NaN, NaN, NaN, NaN, NaN, NaN, NaN, NaN, NaN, \"NaN\", NaN, 0.5, \"ft\", NaN, NaN, NaN, NaN, NaN, NaN, \"5310-B\", \"APHA\", \"5310 B ~ Total Organic Carbon by Combustion-Infrared Method\", NaN, \"https://www.nemi.gov/methods/method_summary/5717/\", \"NaN\", \"NaN\", NaN, \"NaN\", \"NaN\", NaN, \"NaN\", NaN, \"2024-10-29T10:46:29\", \"STORET\"], [\"21MSWQ_WQX\", \"MISSISSIPPI DEPARTMENT OF ENVIRONMENTAL QUALITY\", \"21MSWQ_WQX-200919-625\", \"Sample-Routine\", \"Water\", \"NaN\", \"2024-06-11\", \"10:39:00\", \"CDT\", \"NaN\", \"NaN\", \"NaN\", \"NaN\", 0.5, \"ft\", \"NaN\", NaN, \"NaN\", NaN, \"NaN\", \"BCH24;EPABEACH;MS743032\", \"BEACH MONITORING 2024;BEACH MONITORING 2024;PASCAGOULA BEACH EAST\", \"MISSISSIPPI DEPARTMENT OF ENVIRONMENTAL QUALITY\", \"21MSWQ_WQX-640MSDB18\", \"PASCAGOULA BEACH EAST\", NaN, NaN, NaN, NaN, 30.341778, -88.527778, \"Grab-DTSC\", \"21MSWQ_WQX\", \"Grab-Direct to Sample Container\", \"The collection of a sample utilizing no collection gear. The sample is collected directly into the sample container.\", \"Water Bottle\", \"STORET-1046374304\", \"NaN\", \"as C\", \"Organic carbon\", \"Total\", \"2.43\", \"mg/L\", \"NaN\", \"Accepted\", NaN, \"Actual\", NaN, NaN, NaN, NaN, NaN, NaN, NaN, NaN, NaN, \"NaN\", NaN, 0.5, \"ft\", NaN, NaN, NaN, NaN, NaN, NaN, \"5310-B\", \"APHA\", \"5310 B ~ Total Organic Carbon by Combustion-Infrared Method\", NaN, \"https://www.nemi.gov/methods/method_summary/5717/\", \"NaN\", \"NaN\", NaN, \"NaN\", \"NaN\", NaN, \"NaN\", NaN, \"2024-10-29T10:46:02\", \"STORET\"], [\"21MSWQ_WQX\", \"MISSISSIPPI DEPARTMENT OF ENVIRONMENTAL QUALITY\", \"21MSWQ_WQX-200914-625\", \"Sample-Routine\", \"Water\", \"NaN\", \"2024-06-11\", \"09:13:00\", \"CDT\", \"NaN\", \"NaN\", \"NaN\", \"NaN\", 0.5, \"ft\", \"NaN\", NaN, \"NaN\", NaN, \"NaN\", \"BCH24;EPABEACH;MS444095\", \"BEACH MONITORING 2024;BEACH MONITORING 2024;BILOXI EAST CENTRAL BEACH\", \"MISSISSIPPI DEPARTMENT OF ENVIRONMENTAL QUALITY\", \"21MSWQ_WQX-640MSDB20\", \"BILOXI EAST CENTRAL BEACH\", NaN, NaN, NaN, NaN, 30.393347, -88.901558, \"Grab-DTSC\", \"21MSWQ_WQX\", \"Grab-Direct to Sample Container\", \"The collection of a sample utilizing no collection gear. The sample is collected directly into the sample container.\", \"Water Bottle\", \"STORET-1046374296\", \"NaN\", \"as C\", \"Organic carbon\", \"Total\", \"2.64\", \"mg/L\", \"NaN\", \"Accepted\", NaN, \"Actual\", NaN, NaN, NaN, NaN, NaN, NaN, NaN, NaN, NaN, \"NaN\", NaN, 0.5, \"ft\", NaN, NaN, NaN, NaN, NaN, NaN, \"5310-B\", \"APHA\", \"5310 B ~ Total Organic Carbon by Combustion-Infrared Method\", NaN, \"https://www.nemi.gov/methods/method_summary/5717/\", \"NaN\", \"NaN\", NaN, \"NaN\", \"NaN\", NaN, \"NaN\", NaN, \"2024-10-29T10:46:01\", \"STORET\"], [\"TCEQMAIN\", \"Texas Commission on Environmental Quality\", \"TCEQMAIN-15032355\", \"Field Msr/Obs\", \"Water\", \"NaN\", \"2024-05-15\", \"NaN\", \"NaN\", \"NaN\", \"NaN\", \"NaN\", \"NaN\", NaN, \"NaN\", \"NaN\", NaN, \"NaN\", NaN, \"NaN\", \"0\", \"TCEQ Data\", \"NaN\", \"TCEQMAIN-13462\", \"GULF OF MEXICO AT SEARIM PARK\", NaN, NaN, NaN, NaN, 29.6667, -94.0708, \"NaN\", \"NaN\", \"NaN\", \"NaN\", \"NaN\", \"STORET-1038283017\", \"NaN\", \"NaN\", \"Precipitation\", \"NaN\", \"2\", \"days\", \"NaN\", \"Final\", NaN, \"Actual\", NaN, NaN, NaN, NaN, NaN, NaN, NaN, NaN, NaN, \"NaN\", NaN, NaN, \"NaN\", NaN, NaN, NaN, NaN, NaN, NaN, \"N/A Calculation\", \"TCEQMAIN\", \"N/A Calculation\", NaN, \"NaN\", \"NaN\", \"NaN\", NaN, \"NaN\", \"NaN\", NaN, \"NaN\", NaN, \"2024-08-06T13:24:53\", \"STORET\"], [\"21MSWQ_WQX\", \"MISSISSIPPI DEPARTMENT OF ENVIRONMENTAL QUALITY\", \"21MSWQ_WQX-200913-625\", \"Sample-Routine\", \"Water\", \"NaN\", \"2024-06-11\", \"09:04:00\", \"CDT\", \"NaN\", \"NaN\", \"NaN\", \"NaN\", 0.5, \"ft\", \"NaN\", NaN, \"NaN\", NaN, \"NaN\", \"BCH24;EPABEACH;MS589107\", \"BEACH MONITORING 2024;BEACH MONITORING 2024;BILOXI WEST CENTRAL BEACH\", \"MISSISSIPPI DEPARTMENT OF ENVIRONMENTAL QUALITY\", \"21MSWQ_WQX-640MSDB12A\", \"BILOXI WEST CENTRAL BEACH\", NaN, NaN, NaN, NaN, 30.392028, -88.938194, \"Grab-DTSC\", \"21MSWQ_WQX\", \"Grab-Direct to Sample Container\", \"The collection of a sample utilizing no collection gear. The sample is collected directly into the sample container.\", \"Water Bottle\", \"STORET-1046370708\", \"NaN\", \"as C\", \"Organic carbon\", \"Total\", \"2.83\", \"mg/L\", \"NaN\", \"Accepted\", NaN, \"Actual\", NaN, NaN, NaN, NaN, NaN, NaN, NaN, NaN, NaN, \"NaN\", NaN, 0.5, \"ft\", NaN, NaN, NaN, NaN, NaN, NaN, \"5310-B\", \"APHA\", \"5310 B ~ Total Organic Carbon by Combustion-Infrared Method\", NaN, \"https://www.nemi.gov/methods/method_summary/5717/\", \"NaN\", \"NaN\", NaN, \"NaN\", \"NaN\", NaN, \"NaN\", NaN, \"2024-10-29T10:39:24\", \"STORET\"], [\"21MSWQ_WQX\", \"MISSISSIPPI DEPARTMENT OF ENVIRONMENTAL QUALITY\", \"21MSWQ_WQX-200760-625\", \"Sample-Routine\", \"Water\", \"NaN\", \"2024-05-14\", \"09:08:00\", \"CDT\", \"NaN\", \"NaN\", \"NaN\", \"NaN\", 0.5, \"ft\", \"NaN\", NaN, \"NaN\", NaN, \"NaN\", \"BCH24;EPABEACH;MS589107\", \"BEACH MONITORING 2024;BEACH MONITORING 2024;BILOXI WEST CENTRAL BEACH\", \"MISSISSIPPI DEPARTMENT OF ENVIRONMENTAL QUALITY\", \"21MSWQ_WQX-640MSDB12A\", \"BILOXI WEST CENTRAL BEACH\", NaN, NaN, NaN, NaN, 30.392028, -88.938194, \"Grab-DTSC\", \"21MSWQ_WQX\", \"Grab-Direct to Sample Container\", \"The collection of a sample utilizing no collection gear. The sample is collected directly into the sample container.\", \"Water Bottle\", \"STORET-1046372626\", \"NaN\", \"as C\", \"Organic carbon\", \"Total\", \"2.4\", \"mg/L\", \"NaN\", \"Accepted\", NaN, \"Actual\", NaN, NaN, NaN, NaN, NaN, NaN, NaN, NaN, NaN, \"NaN\", NaN, 0.5, \"ft\", NaN, NaN, NaN, NaN, NaN, NaN, \"5310-B\", \"APHA\", \"5310 B ~ Total Organic Carbon by Combustion-Infrared Method\", NaN, \"https://www.nemi.gov/methods/method_summary/5717/\", \"NaN\", \"NaN\", NaN, \"NaN\", \"NaN\", NaN, \"NaN\", NaN, \"2024-10-29T10:42:41\", \"STORET\"], [\"21MSWQ_WQX\", \"MISSISSIPPI DEPARTMENT OF ENVIRONMENTAL QUALITY\", \"21MSWQ_WQX-200565-625\", \"Sample-Routine\", \"Water\", \"NaN\", \"2024-04-17\", \"12:18:00\", \"CDT\", \"NaN\", \"NaN\", \"NaN\", \"NaN\", 0.5, \"ft\", \"NaN\", NaN, \"NaN\", NaN, \"NaN\", \"BCH24;EPABEACH;MS091756\", \"BEACH MONITORING 2024;BEACH MONITORING 2024;PASCAGOULA BEACH WEST\", \"MISSISSIPPI DEPARTMENT OF ENVIRONMENTAL QUALITY\", \"21MSWQ_WQX-640MSDB17\", \"PASCAGOULA BEACH WEST\", NaN, NaN, NaN, NaN, 30.342639, -88.535417, \"Grab-DTSC\", \"21MSWQ_WQX\", \"Grab-Direct to Sample Container\", \"The collection of a sample utilizing no collection gear. The sample is collected directly into the sample container.\", \"Water Bottle\", \"STORET-1046378846\", \"NaN\", \"as C\", \"Organic carbon\", \"Total\", \"3.35\", \"mg/L\", \"NaN\", \"Accepted\", NaN, \"Actual\", NaN, NaN, NaN, NaN, NaN, NaN, NaN, NaN, NaN, \"NaN\", NaN, 0.5, \"ft\", NaN, NaN, NaN, NaN, NaN, NaN, \"5310-B\", \"APHA\", \"5310 B ~ Total Organic Carbon by Combustion-Infrared Method\", NaN, \"https://www.nemi.gov/methods/method_summary/5717/\", \"NaN\", \"NaN\", NaN, \"NaN\", \"NaN\", NaN, \"NaN\", NaN, \"2024-10-29T10:49:18\", \"STORET\"], [\"21MSWQ_WQX\", \"MISSISSIPPI DEPARTMENT OF ENVIRONMENTAL QUALITY\", \"21MSWQ_WQX-200561-625\", \"Sample-Routine\", \"Water\", \"NaN\", \"2024-04-17\", \"10:48:00\", \"CDT\", \"NaN\", \"NaN\", \"NaN\", \"NaN\", 0.5, \"ft\", \"NaN\", NaN, \"NaN\", NaN, \"NaN\", \"BCH24;EPABEACH;MS444095\", \"BEACH MONITORING 2024;BEACH MONITORING 2024;BILOXI EAST CENTRAL BEACH\", \"MISSISSIPPI DEPARTMENT OF ENVIRONMENTAL QUALITY\", \"21MSWQ_WQX-640MSDB20\", \"BILOXI EAST CENTRAL BEACH\", NaN, NaN, NaN, NaN, 30.393347, -88.901558, \"Grab-DTSC\", \"21MSWQ_WQX\", \"Grab-Direct to Sample Container\", \"The collection of a sample utilizing no collection gear. The sample is collected directly into the sample container.\", \"Water Bottle\", \"STORET-1046377917\", \"NaN\", \"as C\", \"Organic carbon\", \"Total\", \"3.05\", \"mg/L\", \"NaN\", \"Accepted\", NaN, \"Actual\", NaN, NaN, NaN, NaN, NaN, NaN, NaN, NaN, NaN, \"NaN\", NaN, 0.5, \"ft\", NaN, NaN, NaN, NaN, NaN, NaN, \"5310-B\", \"APHA\", \"5310 B ~ Total Organic Carbon by Combustion-Infrared Method\", NaN, \"https://www.nemi.gov/methods/method_summary/5717/\", \"NaN\", \"NaN\", NaN, \"NaN\", \"NaN\", NaN, \"NaN\", NaN, \"2024-10-29T10:48:12\", \"STORET\"], [\"21MSWQ_WQX\", \"MISSISSIPPI DEPARTMENT OF ENVIRONMENTAL QUALITY\", \"21MSWQ_WQX-200765-625\", \"Sample-Routine\", \"Water\", \"NaN\", \"2024-05-14\", \"10:34:00\", \"CDT\", \"NaN\", \"NaN\", \"NaN\", \"NaN\", 0.5, \"ft\", \"NaN\", NaN, \"NaN\", NaN, \"NaN\", \"BCH24;EPABEACH;MS091756\", \"BEACH MONITORING 2024;BEACH MONITORING 2024;PASCAGOULA BEACH WEST\", \"MISSISSIPPI DEPARTMENT OF ENVIRONMENTAL QUALITY\", \"21MSWQ_WQX-640MSDB17\", \"PASCAGOULA BEACH WEST\", NaN, NaN, NaN, NaN, 30.342639, -88.535417, \"Grab-DTSC\", \"21MSWQ_WQX\", \"Grab-Direct to Sample Container\", \"The collection of a sample utilizing no collection gear. The sample is collected directly into the sample container.\", \"Water Bottle\", \"STORET-1046378449\", \"NaN\", \"as C\", \"Organic carbon\", \"Total\", \"2.19\", \"mg/L\", \"NaN\", \"Accepted\", NaN, \"Actual\", NaN, NaN, NaN, NaN, NaN, NaN, NaN, NaN, NaN, \"NaN\", NaN, 0.5, \"ft\", NaN, NaN, NaN, NaN, NaN, NaN, \"5310-B\", \"APHA\", \"5310 B ~ Total Organic Carbon by Combustion-Infrared Method\", NaN, \"https://www.nemi.gov/methods/method_summary/5717/\", \"NaN\", \"NaN\", NaN, \"NaN\", \"NaN\", NaN, \"NaN\", NaN, \"2024-10-29T10:48:37\", \"STORET\"], [\"21MSWQ_WQX\", \"MISSISSIPPI DEPARTMENT OF ENVIRONMENTAL QUALITY\", \"21MSWQ_WQX-200541-625\", \"Sample-Routine\", \"Water\", \"NaN\", \"2024-04-15\", \"09:50:00\", \"CDT\", \"NaN\", \"NaN\", \"NaN\", \"NaN\", 0.5, \"ft\", \"NaN\", NaN, \"NaN\", NaN, \"NaN\", \"BCH24;EPABEACH;MS594393\", \"BEACH MONITORING 2024;BEACH MONITORING 2024;WAVELAND BEACH\", \"MISSISSIPPI DEPARTMENT OF ENVIRONMENTAL QUALITY\", \"21MSWQ_WQX-640MSDB02\", \"WAVELAND BEACH\", NaN, NaN, NaN, NaN, 30.276139, -89.373611, \"Grab-DTSC\", \"21MSWQ_WQX\", \"Grab-Direct to Sample Container\", \"The collection of a sample utilizing no collection gear. The sample is collected directly into the sample container.\", \"Water Bottle\", \"STORET-1046380104\", \"NaN\", \"as C\", \"Organic carbon\", \"Total\", \"3.5\", \"mg/L\", \"NaN\", \"Accepted\", NaN, \"Actual\", NaN, NaN, NaN, NaN, NaN, NaN, NaN, NaN, NaN, \"NaN\", NaN, 0.5, \"ft\", NaN, NaN, NaN, NaN, NaN, NaN, \"5310-B\", \"APHA\", \"5310 B ~ Total Organic Carbon by Combustion-Infrared Method\", NaN, \"https://www.nemi.gov/methods/method_summary/5717/\", \"NaN\", \"NaN\", NaN, \"NaN\", \"NaN\", NaN, \"NaN\", NaN, \"2024-10-29T10:51:43\", \"STORET\"], [\"21MSWQ_WQX\", \"MISSISSIPPI DEPARTMENT OF ENVIRONMENTAL QUALITY\", \"21MSWQ_WQX-200546-625\", \"Sample-Routine\", \"Water\", \"NaN\", \"2024-04-15\", \"10:56:00\", \"CDT\", \"NaN\", \"NaN\", \"NaN\", \"NaN\", 0.5, \"ft\", \"NaN\", NaN, \"NaN\", NaN, \"NaN\", \"BCH24;EPABEACH;MS951039\", \"BEACH MONITORING 2024;BEACH MONITORING 2024;LONG BEACH\", \"MISSISSIPPI DEPARTMENT OF ENVIRONMENTAL QUALITY\", \"21MSWQ_WQX-640MSDB07\", \"LONG BEACH\", NaN, NaN, NaN, NaN, 30.339944, -89.159722, \"Grab-DTSC\", \"21MSWQ_WQX\", \"Grab-Direct to Sample Container\", \"The collection of a sample utilizing no collection gear. The sample is collected directly into the sample container.\", \"Water Bottle\", \"STORET-1046373717\", \"NaN\", \"as C\", \"Organic carbon\", \"Total\", \"3.83\", \"mg/L\", \"NaN\", \"Accepted\", NaN, \"Actual\", NaN, NaN, NaN, NaN, NaN, NaN, NaN, NaN, NaN, \"NaN\", NaN, 0.5, \"ft\", NaN, NaN, NaN, NaN, NaN, NaN, \"5310-B\", \"APHA\", \"5310 B ~ Total Organic Carbon by Combustion-Infrared Method\", NaN, \"https://www.nemi.gov/methods/method_summary/5717/\", \"NaN\", \"NaN\", NaN, \"NaN\", \"NaN\", NaN, \"NaN\", NaN, \"2024-10-29T10:44:54\", \"STORET\"], [\"21MSWQ_WQX\", \"MISSISSIPPI DEPARTMENT OF ENVIRONMENTAL QUALITY\", \"21MSWQ_WQX-200746-625\", \"Sample-Routine\", \"Water\", \"NaN\", \"2024-05-13\", \"10:18:00\", \"CDT\", \"NaN\", \"NaN\", \"NaN\", \"NaN\", 0.5, \"ft\", \"NaN\", NaN, \"NaN\", NaN, \"NaN\", \"BCH24;EPABEACH;MS594393\", \"BEACH MONITORING 2024;BEACH MONITORING 2024;WAVELAND BEACH\", \"MISSISSIPPI DEPARTMENT OF ENVIRONMENTAL QUALITY\", \"21MSWQ_WQX-640MSDB02\", \"WAVELAND BEACH\", NaN, NaN, NaN, NaN, 30.276139, -89.373611, \"Grab-DTSC\", \"21MSWQ_WQX\", \"Grab-Direct to Sample Container\", \"The collection of a sample utilizing no collection gear. The sample is collected directly into the sample container.\", \"Water Bottle\", \"STORET-1046372617\", \"NaN\", \"as C\", \"Organic carbon\", \"Total\", \"2.59\", \"mg/L\", \"NaN\", \"Accepted\", NaN, \"Actual\", NaN, NaN, NaN, NaN, NaN, NaN, NaN, NaN, NaN, \"NaN\", NaN, 0.5, \"ft\", NaN, NaN, NaN, NaN, NaN, NaN, \"5310-B\", \"APHA\", \"5310 B ~ Total Organic Carbon by Combustion-Infrared Method\", NaN, \"https://www.nemi.gov/methods/method_summary/5717/\", \"NaN\", \"NaN\", NaN, \"NaN\", \"NaN\", NaN, \"NaN\", NaN, \"2024-10-29T10:42:41\", \"STORET\"], [\"21MSWQ_WQX\", \"MISSISSIPPI DEPARTMENT OF ENVIRONMENTAL QUALITY\", \"21MSWQ_WQX-200753-625\", \"Sample-Routine\", \"Water\", \"NaN\", \"2024-05-13\", \"11:47:00\", \"CDT\", \"NaN\", \"NaN\", \"NaN\", \"NaN\", 0.5, \"ft\", \"NaN\", NaN, \"NaN\", NaN, \"NaN\", \"BCH24;EPABEACH;MS837600\", \"BEACH MONITORING 2024;BEACH MONITORING 2024;GULFPORT HARBOR BEACH\", \"MISSISSIPPI DEPARTMENT OF ENVIRONMENTAL QUALITY\", \"21MSWQ_WQX-640MSDB09\", \"GULFPORT HARBOR BEACH\", NaN, NaN, NaN, NaN, 30.367361, -89.079722, \"Grab-DTSC\", \"21MSWQ_WQX\", \"Grab-Direct to Sample Container\", \"The collection of a sample utilizing no collection gear. The sample is collected directly into the sample container.\", \"Water Bottle\", \"STORET-1046371334\", \"NaN\", \"as C\", \"Organic carbon\", \"Total\", \"3.39\", \"mg/L\", \"NaN\", \"Accepted\", NaN, \"Actual\", NaN, NaN, NaN, NaN, NaN, NaN, NaN, NaN, NaN, \"NaN\", NaN, 0.5, \"ft\", NaN, NaN, NaN, NaN, NaN, NaN, \"5310-B\", \"APHA\", \"5310 B ~ Total Organic Carbon by Combustion-Infrared Method\", NaN, \"https://www.nemi.gov/methods/method_summary/5717/\", \"NaN\", \"NaN\", NaN, \"NaN\", \"NaN\", NaN, \"NaN\", NaN, \"2024-10-29T10:40:26\", \"STORET\"], [\"TCEQMAIN\", \"Texas Commission on Environmental Quality\", \"TCEQMAIN-15032325\", \"Field Msr/Obs\", \"Water\", \"NaN\", \"2024-05-16\", \"NaN\", \"NaN\", \"NaN\", \"NaN\", \"NaN\", \"NaN\", NaN, \"NaN\", \"NaN\", NaN, \"NaN\", NaN, \"NaN\", \"0\", \"TCEQ Data\", \"NaN\", \"TCEQMAIN-13461\", \"GULF OF MEXICO SABINE PASS\", NaN, NaN, NaN, NaN, 29.6636, -93.8292, \"NaN\", \"NaN\", \"NaN\", \"NaN\", \"NaN\", \"STORET-1038282879\", \"NaN\", \"NaN\", \"Precipitation\", \"NaN\", \"3\", \"days\", \"NaN\", \"Final\", NaN, \"Actual\", NaN, NaN, NaN, NaN, NaN, NaN, NaN, NaN, NaN, \"NaN\", NaN, NaN, \"NaN\", NaN, NaN, NaN, NaN, NaN, NaN, \"N/A Calculation\", \"TCEQMAIN\", \"N/A Calculation\", NaN, \"NaN\", \"NaN\", \"NaN\", NaN, \"NaN\", \"NaN\", NaN, \"NaN\", NaN, \"2024-08-06T13:24:28\", \"STORET\"]];\n",
       "\n",
       "        // Define the dt_args\n",
       "        let dt_args = {\"layout\": {\"topStart\": \"pageLength\", \"topEnd\": \"search\", \"bottomStart\": \"info\", \"bottomEnd\": \"paging\"}, \"order\": [], \"fnInfoCallback\": function (oSettings, iStart, iEnd, iMax, iTotal, sPre) { return sPre + ' (<a href=\"https://mwouts.github.io/itables/downsampling.html\">downsampled</a> from 5,901x81 to 101x81 as maxBytes=64KB)'; }};\n",
       "        dt_args[\"data\"] = data;\n",
       "\n",
       "        \n",
       "        new DataTable(table, dt_args);\n",
       "    });\n",
       "</script>\n"
      ],
      "text/plain": [
       "<IPython.core.display.HTML object>"
      ]
     },
     "metadata": {},
     "output_type": "display_data"
    }
   ],
   "source": [
    "DFproject = pd.read_csv('resultphyschem.csv')\n",
    "show(DFproject)"
   ]
  },
  {
   "cell_type": "code",
   "execution_count": 542,
   "id": "380e09e1-ab93-4e4a-8adf-889b8dfb53c3",
   "metadata": {},
   "outputs": [
    {
     "data": {
      "text/html": [
       "<table id=\"itables_8b6bfd4e_513a_48ca_aa2f_5cfe26ec63b7\" class=\"display nowrap\" data-quarto-disable-processing=\"true\" style=\"table-layout:auto;width:auto;margin:auto;caption-side:bottom\">\n",
       "<thead>\n",
       "    <tr style=\"text-align: right;\">\n",
       "      <th></th>\n",
       "      <th>count</th>\n",
       "    </tr>\n",
       "    <tr>\n",
       "      <th>CharacteristicName</th>\n",
       "      <th></th>\n",
       "    </tr>\n",
       "  </thead><tbody><tr>\n",
       "<td style=\"vertical-align:middle; text-align:left\">\n",
       "<div style=\"float:left; margin-right: 10px;\">\n",
       "<a href=https://mwouts.github.io/itables/><svg class=\"main-svg\" xmlns=\"http://www.w3.org/2000/svg\" xmlns:xlink=\"http://www.w3.org/1999/xlink\"\n",
       "width=\"64\" viewBox=\"0 0 500 400\" style=\"font-family: 'Droid Sans', sans-serif;\">\n",
       "    <g style=\"fill:#d9d7fc\">\n",
       "        <path d=\"M100,400H500V357H100Z\" />\n",
       "        <path d=\"M100,300H400V257H100Z\" />\n",
       "        <path d=\"M0,200H400V157H0Z\" />\n",
       "        <path d=\"M100,100H500V57H100Z\" />\n",
       "        <path d=\"M100,350H500V307H100Z\" />\n",
       "        <path d=\"M100,250H400V207H100Z\" />\n",
       "        <path d=\"M0,150H400V107H0Z\" />\n",
       "        <path d=\"M100,50H500V7H100Z\" />\n",
       "    </g>\n",
       "    <g style=\"fill:#1a1366;stroke:#1a1366;\">\n",
       "   <rect x=\"100\" y=\"7\" width=\"400\" height=\"43\">\n",
       "    <animate\n",
       "      attributeName=\"width\"\n",
       "      values=\"0;400;0\"\n",
       "      dur=\"5s\"\n",
       "      repeatCount=\"indefinite\" />\n",
       "      <animate\n",
       "      attributeName=\"x\"\n",
       "      values=\"100;100;500\"\n",
       "      dur=\"5s\"\n",
       "      repeatCount=\"indefinite\" />\n",
       "  </rect>\n",
       "        <rect x=\"0\" y=\"107\" width=\"400\" height=\"43\">\n",
       "    <animate\n",
       "      attributeName=\"width\"\n",
       "      values=\"0;400;0\"\n",
       "      dur=\"3.5s\"\n",
       "      repeatCount=\"indefinite\" />\n",
       "    <animate\n",
       "      attributeName=\"x\"\n",
       "      values=\"0;0;400\"\n",
       "      dur=\"3.5s\"\n",
       "      repeatCount=\"indefinite\" />\n",
       "  </rect>\n",
       "        <rect x=\"100\" y=\"207\" width=\"300\" height=\"43\">\n",
       "    <animate\n",
       "      attributeName=\"width\"\n",
       "      values=\"0;300;0\"\n",
       "      dur=\"3s\"\n",
       "      repeatCount=\"indefinite\" />\n",
       "    <animate\n",
       "      attributeName=\"x\"\n",
       "      values=\"100;100;400\"\n",
       "      dur=\"3s\"\n",
       "      repeatCount=\"indefinite\" />\n",
       "  </rect>\n",
       "        <rect x=\"100\" y=\"307\" width=\"400\" height=\"43\">\n",
       "    <animate\n",
       "      attributeName=\"width\"\n",
       "      values=\"0;400;0\"\n",
       "      dur=\"4s\"\n",
       "      repeatCount=\"indefinite\" />\n",
       "      <animate\n",
       "      attributeName=\"x\"\n",
       "      values=\"100;100;500\"\n",
       "      dur=\"4s\"\n",
       "      repeatCount=\"indefinite\" />\n",
       "  </rect>\n",
       "        <g style=\"fill:transparent;stroke-width:8; stroke-linejoin:round\" rx=\"5\">\n",
       "            <g transform=\"translate(45 50) rotate(-45)\">\n",
       "                <circle r=\"33\" cx=\"0\" cy=\"0\" />\n",
       "                <rect x=\"-8\" y=\"32\" width=\"16\" height=\"30\" />\n",
       "            </g>\n",
       "\n",
       "            <g transform=\"translate(450 152)\">\n",
       "                <polyline points=\"-15,-20 -35,-20 -35,40 25,40 25,20\" />\n",
       "                <rect x=\"-15\" y=\"-40\" width=\"60\" height=\"60\" />\n",
       "            </g>\n",
       "\n",
       "            <g transform=\"translate(50 352)\">\n",
       "                <polygon points=\"-35,-5 0,-40 35,-5\" />\n",
       "                <polygon points=\"-35,10 0,45 35,10\" />\n",
       "            </g>\n",
       "\n",
       "            <g transform=\"translate(75 250)\">\n",
       "                <polyline points=\"-30,30 -60,0 -30,-30\" />\n",
       "                <polyline points=\"0,30 -30,0 0,-30\" />\n",
       "            </g>\n",
       "\n",
       "            <g transform=\"translate(425 250) rotate(180)\">\n",
       "                <polyline points=\"-30,30 -60,0 -30,-30\" />\n",
       "                <polyline points=\"0,30 -30,0 0,-30\" />\n",
       "            </g>\n",
       "        </g>\n",
       "    </g>\n",
       "</svg>\n",
       "</a>\n",
       "</div>\n",
       "<div>\n",
       "Loading ITables v2.1.4 from the internet...\n",
       "(need <a href=https://mwouts.github.io/itables/troubleshooting.html>help</a>?)</td>\n",
       "</div>\n",
       "</tr></tbody>\n",
       "\n",
       "</table>\n",
       "<link href=\"https://www.unpkg.com/dt_for_itables@2.0.11/dt_bundle.css\" rel=\"stylesheet\">\n",
       "<script type=\"module\">\n",
       "    import {DataTable, jQuery as $} from 'https://www.unpkg.com/dt_for_itables@2.0.11/dt_bundle.js';\n",
       "\n",
       "    document.querySelectorAll(\"#itables_8b6bfd4e_513a_48ca_aa2f_5cfe26ec63b7:not(.dataTable)\").forEach(table => {\n",
       "        // Define the table data\n",
       "        const data = [[\"Organic carbon\", 4387], [\"2,3,3',4,5'-Pentachlorobiphenyl\", 402], [\"Phosphated pesticides\", 130], [\"Oil and Grease surface slick/sheen (Y/N) (choice list)\", 76], [\"Precipitation\", 42], [\"Decachlorobiphenyl\", 34], [\"Tetrachloroethylene\", 34], [\"Trichloroethylene\", 34], [\"Chlordane, technical\", 25], [\"Dieldrin\", 25], [\"Oil and Grease\", 24], [\"1,2-Dichloroethane-d4\", 19], [\"Toluene-d8\", 19], [\"Diesel range organics\", 14], [\"1,1,2-Trichloroethane\", 7], [\"1,1-Dichloroethylene\", 7], [\"1,2-Dichloroethane\", 7], [\"Methylene chloride\", 7], [\"1,2-Dichloropropane\", 7], [\"m-Dichlorobenzene\", 7], [\"Vinyl chloride\", 7], [\"Dichlorobromomethane\", 7], [\"Chloroform\", 7], [\"1,1,1-Trichloroethane\", 7], [\"Ethylbenzene\", 7], [\"p-Dichlorobenzene\", 7], [\"Chloroethane\", 7], [\"Tribromomethane\", 7], [\"Toluene\", 7], [\"Chloromethane\", 7], [\"Carbon tetrachloride\", 7], [\"Chlorobenzene\", 7], [\"1,1-Dichloroethane\", 7], [\"CFC-11\", 7], [\"Methyl bromide\", 7], [\"trans-1,3-Dichloropropene\", 7], [\"1,1,2,2-Tetrachloroethane\", 7], [\"cis-1,3-Dichloropropene\", 7], [\"trans-1,2-Dichloroethylene\", 7], [\"Methyl tert-butyl ether\", 7], [\"Benzene\", 7], [\"Demeton\", 5], [\"Pyridaben\", 5], [\"Coumaphos\", 5], [\"Myclobutanil\", 5], [\"Chlorpyrifos-methyl\", 5], [\"Metribuzin\", 5], [\"Azinphos-methyl\", 5], [\"Carfentrazone-ethyl\", 5], [\"Pendimethalin\", 5], [\"Caffeine\", 5], [\"Flutolanil\", 5], [\"Oxyfluorfen\", 5], [\"Iprodione\", 5], [\"Cyprodinil\", 5], [\"Fipronil Sulfone\", 5], [\"BDE-099\", 5], [\"Phorate\", 5], [\"Sulfentrazone\", 5], [\"Terbuthylazine\", 5], [\"Malathion\", 5], [\"Octinoxate\", 5], [\"2-Chloro-4-isopropylamino-6-amino-s-triazine\", 5], [\"Napropamide\", 5], [\"Acetochlor\", 5], [\"2,2',4,4'-tetrabrominated diphenyl ether\", 5], [\"Naled\", 5], [\"Propargite\", 5], [\"Methyl parathion\", 5], [\"Disulfoton\", 5], [\"Hexazinone\", 5], [\"Molinate\", 5], [\"Chlorpyrifos\", 5], [\"Simazine\", 5], [\"Tetrachlorvinphos\", 5], [\"Atrazine\", 5], [\"Tebuconazole\", 5], [\"Difenoconazole\", 5], [\"Etridiazole\", 5], [\"Ethoprop\", 5], [\"Pyriproxyfen\", 5], [\"Propiconazole\", 5], [\"Flumioxazin\", 5], [\"Azoxystrobin\", 5], [\"Ethion\", 5], [\"Fluazifop-P-butyl\", 5], [\"Mevinphos\", 5], [\"Metolachlor\", 5], [\"Metalaxyl\", 5], [\"Fipronil Desulfinyl\", 5], [\"Pronamide\", 5], [\"Alachlor\", 5], [\"Dimethenamid\", 5], [\"Parathion\", 5], [\"Cyanazine\", 5], [\"2-Hydroxy-4-methoxybenzophenone\", 5], [\"Prometon\", 5], [\"Butylate\", 5], [\"Bromacil\", 5], [\"Fipronil\", 5], [\"Oxadiazon\", 5], [\"Diazinon\", 5], [\"Terbufos\", 5], [\"Carbophenothion\", 5], [\"Ametryn\", 5], [\"Thiobencarb\", 5], [\"Fludioxonil\", 5], [\"Dimethomorph\", 5], [\"Pyraflufen-ethyl\", 5], [\"Phenytoin\", 5], [\"Fenbuconazole\", 5], [\"S-Ethyl dipropylthiocarbamate\", 5], [\"Fenamiphos\", 5], [\"Fluxapyroxad\", 5], [\"Triadimefon\", 5], [\"Propanil\", 5], [\"Fipronil Sulfide\", 5], [\"Norflurazon\", 5], [\"Loratadine\", 5], [\"Imazalil\", 5], [\"Fonofos\", 5], [\"Chlorfenapyr\", 5], [\"Prometryn\", 5], [\"1,2,3-Trichlorobenzene\", 4], [\"Naproxen\", 2], [\"Acetaminophen\", 2], [\"Carbamazepine\", 2], [\"Benzeneacetic acid, .alpha.-methyl-4-(2-methylpropyl)-\", 2], [\"Acesulfame\", 2], [\"Primidone\", 2], [\"Clothianidin\", 1], [\"Linuron\", 1], [\"Imidacloprid\", 1], [\"Dinotefuran\", 1], [\"Bentazon\", 1], [\"Mecoprop\", 1], [\"Glyphosate\", 1], [\"Fenuron\", 1], [\"Thiamethoxam\", 1], [\"Pyraclostrobin\", 1], [\"Diuron\", 1], [\"Aminomethylphosphonic acid\", 1], [\"Triclopyr\", 1], [\"Mandestrobin\", 1], [\"Endothall\", 1], [\"Fluridone\", 1], [\"Benzovindiflupyr\", 1], [\"Imazapyr\", 1], [\"2,4-D\", 1], [\"Tolfenpyrad\", 1], [\"Acetamiprid\", 1]];\n",
       "\n",
       "        // Define the dt_args\n",
       "        let dt_args = {\"layout\": {\"topStart\": \"pageLength\", \"topEnd\": \"search\", \"bottomStart\": \"info\", \"bottomEnd\": \"paging\"}, \"order\": []};\n",
       "        dt_args[\"data\"] = data;\n",
       "\n",
       "        \n",
       "        new DataTable(table, dt_args);\n",
       "    });\n",
       "</script>\n"
      ],
      "text/plain": [
       "<IPython.core.display.HTML object>"
      ]
     },
     "metadata": {},
     "output_type": "display_data"
    }
   ],
   "source": [
    "show(DFproject['CharacteristicName'].value_counts())"
   ]
  },
  {
   "cell_type": "markdown",
   "id": "113b3ef0-8acb-455f-bd88-d3487329ec91",
   "metadata": {},
   "source": [
    "- Each sample is tested for only one specific chemical\n",
    "- Most samples are taken from the Gulf of Mexico\n",
    "- Analyzing the three most tested chemicals in the dataset. Based on these concentrations, trying to dive deeper and think about how this affects marine life, and how this may impact humans like through bioaccumulation and recreational activities.\n",
    "- Should we do three separate analysis for each chemical, or go in depth with just one?\n",
    "\n",
    "- Organic carbon: Most samples tested for organic carbon. Compare ppm concentration across the Gulf of Mexico. High carbon levels can lead to ocean acidification. Based on this, see if it correlates with fish/animal populations, especially shellfish. Try to find pH data to see if the data agrees, if carbon ppm is low but pH is acidic, then maybe something else is causing the acidification.\n",
    "- 2,3,3',4,5'-Pentachlorobiphenyl: Samples of pentachlorobiphenyl were taken around San Diego/Mexico. It is a manmade chemical used as an oil additive and in building materials. So we could find something like fishing or recreational data to show the frequency of human activity in/near these sample sites. Or the abundance of wildlife in/near these sample sites. \n",
    "- Phosphated pesticides: These samples were collected along the coast in Massachusetts. Phosphorus can lead to algae blooms, so we could find algae data and compare it to the sites in Massachusetts. We could compare marine life population with other nearby sites, or see if this has an impact on fishing activity"
   ]
  },
  {
   "cell_type": "code",
   "execution_count": 544,
   "id": "be14bcfd-ec49-44a6-bbe9-1ef82c94347d",
   "metadata": {},
   "outputs": [
    {
     "data": {
      "text/html": [
       "<table id=\"itables_da9dd143_9b70_4eb9_a3ed_36a5d6dd9a74\" class=\"display nowrap\" data-quarto-disable-processing=\"true\" style=\"table-layout:auto;width:auto;margin:auto;caption-side:bottom\">\n",
       "<thead>\n",
       "    <tr style=\"text-align: right;\">\n",
       "      <th></th>\n",
       "      <th>OrganizationIdentifier</th>\n",
       "      <th>OrganizationFormalName</th>\n",
       "      <th>ActivityIdentifier</th>\n",
       "      <th>ActivityTypeCode</th>\n",
       "      <th>ActivityMediaName</th>\n",
       "      <th>ActivityMediaSubdivisionName</th>\n",
       "      <th>ActivityStartDate</th>\n",
       "      <th>ActivityStartTime/Time</th>\n",
       "      <th>ActivityStartTime/TimeZoneCode</th>\n",
       "      <th>ActivityEndDate</th>\n",
       "      <th>ActivityEndTime/Time</th>\n",
       "      <th>ActivityEndTime/TimeZoneCode</th>\n",
       "      <th>ActivityRelativeDepthName</th>\n",
       "      <th>ActivityDepthHeightMeasure/MeasureValue</th>\n",
       "      <th>ActivityDepthHeightMeasure/MeasureUnitCode</th>\n",
       "      <th>ActivityDepthAltitudeReferencePointText</th>\n",
       "      <th>ActivityTopDepthHeightMeasure/MeasureValue</th>\n",
       "      <th>ActivityTopDepthHeightMeasure/MeasureUnitCode</th>\n",
       "      <th>ActivityBottomDepthHeightMeasure/MeasureValue</th>\n",
       "      <th>ActivityBottomDepthHeightMeasure/MeasureUnitCode</th>\n",
       "      <th>ProjectIdentifier</th>\n",
       "      <th>ProjectName</th>\n",
       "      <th>ActivityConductingOrganizationText</th>\n",
       "      <th>MonitoringLocationIdentifier</th>\n",
       "      <th>MonitoringLocationName</th>\n",
       "      <th>ActivityCommentText</th>\n",
       "      <th>SampleAquifer</th>\n",
       "      <th>HydrologicCondition</th>\n",
       "      <th>HydrologicEvent</th>\n",
       "      <th>ActivityLocation/LatitudeMeasure</th>\n",
       "      <th>ActivityLocation/LongitudeMeasure</th>\n",
       "      <th>SampleCollectionMethod/MethodIdentifier</th>\n",
       "      <th>SampleCollectionMethod/MethodIdentifierContext</th>\n",
       "      <th>SampleCollectionMethod/MethodName</th>\n",
       "      <th>SampleCollectionMethod/MethodDescriptionText</th>\n",
       "      <th>SampleCollectionEquipmentName</th>\n",
       "      <th>ResultIdentifier</th>\n",
       "      <th>ResultDetectionConditionText</th>\n",
       "      <th>MethodSpeciationName</th>\n",
       "      <th>CharacteristicName</th>\n",
       "      <th>ResultSampleFractionText</th>\n",
       "      <th>ResultMeasureValue</th>\n",
       "      <th>ResultMeasure/MeasureUnitCode</th>\n",
       "      <th>MeasureQualifierCode</th>\n",
       "      <th>ResultStatusIdentifier</th>\n",
       "      <th>StatisticalBaseCode</th>\n",
       "      <th>ResultValueTypeName</th>\n",
       "      <th>ResultWeightBasisText</th>\n",
       "      <th>ResultTimeBasisText</th>\n",
       "      <th>ResultTemperatureBasisText</th>\n",
       "      <th>ResultParticleSizeBasisText</th>\n",
       "      <th>DataQuality/PrecisionValue</th>\n",
       "      <th>DataQuality/BiasValue</th>\n",
       "      <th>DataQuality/ConfidenceIntervalValue</th>\n",
       "      <th>DataQuality/UpperConfidenceLimitValue</th>\n",
       "      <th>DataQuality/LowerConfidenceLimitValue</th>\n",
       "      <th>ResultCommentText</th>\n",
       "      <th>USGSPCode</th>\n",
       "      <th>ResultDepthHeightMeasure/MeasureValue</th>\n",
       "      <th>ResultDepthHeightMeasure/MeasureUnitCode</th>\n",
       "      <th>ResultDepthAltitudeReferencePointText</th>\n",
       "      <th>SubjectTaxonomicName</th>\n",
       "      <th>SampleTissueAnatomyName</th>\n",
       "      <th>BinaryObjectFileName</th>\n",
       "      <th>BinaryObjectFileTypeCode</th>\n",
       "      <th>ResultFileUrl</th>\n",
       "      <th>ResultAnalyticalMethod/MethodIdentifier</th>\n",
       "      <th>ResultAnalyticalMethod/MethodIdentifierContext</th>\n",
       "      <th>ResultAnalyticalMethod/MethodName</th>\n",
       "      <th>ResultAnalyticalMethod/MethodUrl</th>\n",
       "      <th>ResultAnalyticalMethod/MethodDescriptionText</th>\n",
       "      <th>LaboratoryName</th>\n",
       "      <th>AnalysisStartDate</th>\n",
       "      <th>ResultLaboratoryCommentText</th>\n",
       "      <th>ResultDetectionQuantitationLimitUrl</th>\n",
       "      <th>DetectionQuantitationLimitTypeName</th>\n",
       "      <th>DetectionQuantitationLimitMeasure/MeasureValue</th>\n",
       "      <th>DetectionQuantitationLimitMeasure/MeasureUnitCode</th>\n",
       "      <th>LabSamplePreparationUrl</th>\n",
       "      <th>LastUpdated</th>\n",
       "      <th>ProviderName</th>\n",
       "    </tr>\n",
       "  </thead><tbody><tr>\n",
       "<td style=\"vertical-align:middle; text-align:left\">\n",
       "<div style=\"float:left; margin-right: 10px;\">\n",
       "<a href=https://mwouts.github.io/itables/><svg class=\"main-svg\" xmlns=\"http://www.w3.org/2000/svg\" xmlns:xlink=\"http://www.w3.org/1999/xlink\"\n",
       "width=\"64\" viewBox=\"0 0 500 400\" style=\"font-family: 'Droid Sans', sans-serif;\">\n",
       "    <g style=\"fill:#d9d7fc\">\n",
       "        <path d=\"M100,400H500V357H100Z\" />\n",
       "        <path d=\"M100,300H400V257H100Z\" />\n",
       "        <path d=\"M0,200H400V157H0Z\" />\n",
       "        <path d=\"M100,100H500V57H100Z\" />\n",
       "        <path d=\"M100,350H500V307H100Z\" />\n",
       "        <path d=\"M100,250H400V207H100Z\" />\n",
       "        <path d=\"M0,150H400V107H0Z\" />\n",
       "        <path d=\"M100,50H500V7H100Z\" />\n",
       "    </g>\n",
       "    <g style=\"fill:#1a1366;stroke:#1a1366;\">\n",
       "   <rect x=\"100\" y=\"7\" width=\"400\" height=\"43\">\n",
       "    <animate\n",
       "      attributeName=\"width\"\n",
       "      values=\"0;400;0\"\n",
       "      dur=\"5s\"\n",
       "      repeatCount=\"indefinite\" />\n",
       "      <animate\n",
       "      attributeName=\"x\"\n",
       "      values=\"100;100;500\"\n",
       "      dur=\"5s\"\n",
       "      repeatCount=\"indefinite\" />\n",
       "  </rect>\n",
       "        <rect x=\"0\" y=\"107\" width=\"400\" height=\"43\">\n",
       "    <animate\n",
       "      attributeName=\"width\"\n",
       "      values=\"0;400;0\"\n",
       "      dur=\"3.5s\"\n",
       "      repeatCount=\"indefinite\" />\n",
       "    <animate\n",
       "      attributeName=\"x\"\n",
       "      values=\"0;0;400\"\n",
       "      dur=\"3.5s\"\n",
       "      repeatCount=\"indefinite\" />\n",
       "  </rect>\n",
       "        <rect x=\"100\" y=\"207\" width=\"300\" height=\"43\">\n",
       "    <animate\n",
       "      attributeName=\"width\"\n",
       "      values=\"0;300;0\"\n",
       "      dur=\"3s\"\n",
       "      repeatCount=\"indefinite\" />\n",
       "    <animate\n",
       "      attributeName=\"x\"\n",
       "      values=\"100;100;400\"\n",
       "      dur=\"3s\"\n",
       "      repeatCount=\"indefinite\" />\n",
       "  </rect>\n",
       "        <rect x=\"100\" y=\"307\" width=\"400\" height=\"43\">\n",
       "    <animate\n",
       "      attributeName=\"width\"\n",
       "      values=\"0;400;0\"\n",
       "      dur=\"4s\"\n",
       "      repeatCount=\"indefinite\" />\n",
       "      <animate\n",
       "      attributeName=\"x\"\n",
       "      values=\"100;100;500\"\n",
       "      dur=\"4s\"\n",
       "      repeatCount=\"indefinite\" />\n",
       "  </rect>\n",
       "        <g style=\"fill:transparent;stroke-width:8; stroke-linejoin:round\" rx=\"5\">\n",
       "            <g transform=\"translate(45 50) rotate(-45)\">\n",
       "                <circle r=\"33\" cx=\"0\" cy=\"0\" />\n",
       "                <rect x=\"-8\" y=\"32\" width=\"16\" height=\"30\" />\n",
       "            </g>\n",
       "\n",
       "            <g transform=\"translate(450 152)\">\n",
       "                <polyline points=\"-15,-20 -35,-20 -35,40 25,40 25,20\" />\n",
       "                <rect x=\"-15\" y=\"-40\" width=\"60\" height=\"60\" />\n",
       "            </g>\n",
       "\n",
       "            <g transform=\"translate(50 352)\">\n",
       "                <polygon points=\"-35,-5 0,-40 35,-5\" />\n",
       "                <polygon points=\"-35,10 0,45 35,10\" />\n",
       "            </g>\n",
       "\n",
       "            <g transform=\"translate(75 250)\">\n",
       "                <polyline points=\"-30,30 -60,0 -30,-30\" />\n",
       "                <polyline points=\"0,30 -30,0 0,-30\" />\n",
       "            </g>\n",
       "\n",
       "            <g transform=\"translate(425 250) rotate(180)\">\n",
       "                <polyline points=\"-30,30 -60,0 -30,-30\" />\n",
       "                <polyline points=\"0,30 -30,0 0,-30\" />\n",
       "            </g>\n",
       "        </g>\n",
       "    </g>\n",
       "</svg>\n",
       "</a>\n",
       "</div>\n",
       "<div>\n",
       "Loading ITables v2.1.4 from the internet...\n",
       "(need <a href=https://mwouts.github.io/itables/troubleshooting.html>help</a>?)</td>\n",
       "</div>\n",
       "</tr></tbody>\n",
       "\n",
       "</table>\n",
       "<link href=\"https://www.unpkg.com/dt_for_itables@2.0.11/dt_bundle.css\" rel=\"stylesheet\">\n",
       "<script type=\"module\">\n",
       "    import {DataTable, jQuery as $} from 'https://www.unpkg.com/dt_for_itables@2.0.11/dt_bundle.js';\n",
       "\n",
       "    document.querySelectorAll(\"#itables_da9dd143_9b70_4eb9_a3ed_36a5d6dd9a74:not(.dataTable)\").forEach(table => {\n",
       "        // Define the table data\n",
       "        const data = [[6, \"WTGHA\", \"Wompanoag Tribe of Gay Head Aquinnah (Tribal)\", \"WTGHA-P1:20200219:SR:B\", \"Sample-Routine\", \"Water\", \"NaN\", \"2020-02-19\", \"NaN\", \"NaN\", \"NaN\", \"NaN\", \"NaN\", \"NaN\", NaN, \"NaN\", \"NaN\", NaN, \"NaN\", NaN, \"NaN\", \"WTGHA\", \"The Wampanoag Tribe of Gay Head Aquinnah\", \"NaN\", \"WTGHA-P1\", \"P1 | Menemsha Perimenter | Lobsterville Beach\", NaN, NaN, NaN, NaN, 41.349306, -70.788056, \"NaN\", \"NaN\", \"NaN\", \"NaN\", \"Bucket\", \"STORET-1041358794\", \"NaN\", \"as P\", \"Phosphated pesticides\", \"Total\", \"0.13\", \"mg/L\", \"NaN\", \"Final\", NaN, \"Actual\", NaN, NaN, NaN, NaN, NaN, NaN, NaN, NaN, NaN, \"NaN\", NaN, NaN, \"NaN\", NaN, NaN, NaN, NaN, NaN, NaN, \"8048\", \"HACH\", \"Reactive Phosphorus in Water\", NaN, \"https://www.nemi.gov/methods/method_summary/4828/\", \"NaN\", \"NaN\", NaN, \"NaN\", \"NaN\", NaN, \"NaN\", NaN, \"2024-09-19T09:12:48\", \"STORET\"], [18, \"WTGHA\", \"Wompanoag Tribe of Gay Head Aquinnah (Tribal)\", \"WTGHA-P1:20200106:SR:B\", \"Sample-Routine\", \"Water\", \"NaN\", \"2020-01-06\", \"NaN\", \"NaN\", \"NaN\", \"NaN\", \"NaN\", \"NaN\", NaN, \"NaN\", \"NaN\", NaN, \"NaN\", NaN, \"NaN\", \"WTGHA\", \"The Wampanoag Tribe of Gay Head Aquinnah\", \"NaN\", \"WTGHA-P1\", \"P1 | Menemsha Perimenter | Lobsterville Beach\", NaN, NaN, NaN, NaN, 41.349306, -70.788056, \"NaN\", \"NaN\", \"NaN\", \"NaN\", \"Bucket\", \"STORET-1041358423\", \"NaN\", \"as P\", \"Phosphated pesticides\", \"Total\", \"0.09\", \"mg/L\", \"NaN\", \"Final\", NaN, \"Actual\", NaN, NaN, NaN, NaN, NaN, NaN, NaN, NaN, NaN, \"NaN\", NaN, NaN, \"NaN\", NaN, NaN, NaN, NaN, NaN, NaN, \"8048\", \"HACH\", \"Reactive Phosphorus in Water\", NaN, \"https://www.nemi.gov/methods/method_summary/4828/\", \"NaN\", \"NaN\", NaN, \"NaN\", \"NaN\", NaN, \"NaN\", NaN, \"2024-09-19T09:12:46\", \"STORET\"], [20, \"WTGHA\", \"Wompanoag Tribe of Gay Head Aquinnah (Tribal)\", \"WTGHA-P1:20200114:SR:B\", \"Sample-Routine\", \"Water\", \"NaN\", \"2020-01-14\", \"NaN\", \"NaN\", \"NaN\", \"NaN\", \"NaN\", \"NaN\", NaN, \"NaN\", \"NaN\", NaN, \"NaN\", NaN, \"NaN\", \"WTGHA\", \"The Wampanoag Tribe of Gay Head Aquinnah\", \"NaN\", \"WTGHA-P1\", \"P1 | Menemsha Perimenter | Lobsterville Beach\", NaN, NaN, NaN, NaN, 41.349306, -70.788056, \"NaN\", \"NaN\", \"NaN\", \"NaN\", \"Bucket\", \"STORET-1041358486\", \"NaN\", \"as P\", \"Phosphated pesticides\", \"Total\", \"0.13\", \"mg/L\", \"NaN\", \"Final\", NaN, \"Actual\", NaN, NaN, NaN, NaN, NaN, NaN, NaN, NaN, NaN, \"NaN\", NaN, NaN, \"NaN\", NaN, NaN, NaN, NaN, NaN, NaN, \"8048\", \"HACH\", \"Reactive Phosphorus in Water\", NaN, \"https://www.nemi.gov/methods/method_summary/4828/\", \"NaN\", \"NaN\", NaN, \"NaN\", \"NaN\", NaN, \"NaN\", NaN, \"2024-09-19T09:12:47\", \"STORET\"], [87, \"WTGHA\", \"Wompanoag Tribe of Gay Head Aquinnah (Tribal)\", \"WTGHA-P1:20200603:SR:B\", \"Sample-Routine\", \"Water\", \"NaN\", \"2020-06-03\", \"NaN\", \"NaN\", \"NaN\", \"NaN\", \"NaN\", \"NaN\", NaN, \"NaN\", \"NaN\", NaN, \"NaN\", NaN, \"NaN\", \"WTGHA\", \"The Wampanoag Tribe of Gay Head Aquinnah\", \"NaN\", \"WTGHA-P1\", \"P1 | Menemsha Perimenter | Lobsterville Beach\", NaN, NaN, NaN, NaN, 41.349306, -70.788056, \"NaN\", \"NaN\", \"NaN\", \"NaN\", \"Bucket\", \"STORET-1041359460\", \"NaN\", \"as P\", \"Phosphated pesticides\", \"Total\", \"0.09\", \"mg/L\", \"NaN\", \"Final\", NaN, \"Actual\", NaN, NaN, NaN, NaN, NaN, NaN, NaN, NaN, NaN, \"NaN\", NaN, NaN, \"NaN\", NaN, NaN, NaN, NaN, NaN, NaN, \"8048\", \"HACH\", \"Reactive Phosphorus in Water\", NaN, \"https://www.nemi.gov/methods/method_summary/4828/\", \"NaN\", \"NaN\", NaN, \"NaN\", \"NaN\", NaN, \"NaN\", NaN, \"2024-09-19T09:12:51\", \"STORET\"], [88, \"WTGHA\", \"Wompanoag Tribe of Gay Head Aquinnah (Tribal)\", \"WTGHA-P1:20201103:SR:B\", \"Sample-Routine\", \"Water\", \"NaN\", \"2020-11-03\", \"NaN\", \"NaN\", \"NaN\", \"NaN\", \"NaN\", \"NaN\", NaN, \"NaN\", \"NaN\", NaN, \"NaN\", NaN, \"NaN\", \"WTGHA\", \"The Wampanoag Tribe of Gay Head Aquinnah\", \"NaN\", \"WTGHA-P1\", \"P1 | Menemsha Perimenter | Lobsterville Beach\", NaN, NaN, NaN, NaN, 41.349306, -70.788056, \"NaN\", \"NaN\", \"NaN\", \"NaN\", \"Bucket\", \"STORET-1041360546\", \"NaN\", \"as P\", \"Phosphated pesticides\", \"Total\", \"0.17\", \"mg/L\", \"NaN\", \"Final\", NaN, \"Actual\", NaN, NaN, NaN, NaN, NaN, NaN, NaN, NaN, NaN, \"NaN\", NaN, NaN, \"NaN\", NaN, NaN, NaN, NaN, NaN, NaN, \"8048\", \"HACH\", \"Reactive Phosphorus in Water\", NaN, \"https://www.nemi.gov/methods/method_summary/4828/\", \"NaN\", \"NaN\", NaN, \"NaN\", \"NaN\", NaN, \"NaN\", NaN, \"2024-09-19T09:12:56\", \"STORET\"], [117, \"WTGHA\", \"Wompanoag Tribe of Gay Head Aquinnah (Tribal)\", \"WTGHA-P2:20201007:SR:B\", \"Sample-Routine\", \"Water\", \"NaN\", \"2020-10-07\", \"NaN\", \"NaN\", \"NaN\", \"NaN\", \"NaN\", \"NaN\", NaN, \"NaN\", \"NaN\", NaN, \"NaN\", NaN, \"NaN\", \"WTGHA\", \"The Wampanoag Tribe of Gay Head Aquinnah\", \"NaN\", \"WTGHA-P2\", \"P2 | Menemsha Perimenter | Menemsha Beach\", NaN, NaN, NaN, NaN, 41.355139, -70.767083, \"NaN\", \"NaN\", \"NaN\", \"NaN\", \"Bucket\", \"STORET-1041360390\", \"NaN\", \"as P\", \"Phosphated pesticides\", \"Total\", \"0.11\", \"mg/L\", \"NaN\", \"Final\", NaN, \"Actual\", NaN, NaN, NaN, NaN, NaN, NaN, NaN, NaN, NaN, \"NaN\", NaN, NaN, \"NaN\", NaN, NaN, NaN, NaN, NaN, NaN, \"8048\", \"HACH\", \"Reactive Phosphorus in Water\", NaN, \"https://www.nemi.gov/methods/method_summary/4828/\", \"NaN\", \"NaN\", NaN, \"NaN\", \"NaN\", NaN, \"NaN\", NaN, \"2024-09-19T09:12:55\", \"STORET\"], [126, \"WTGHA\", \"Wompanoag Tribe of Gay Head Aquinnah (Tribal)\", \"WTGHA-P1:20200528:SR:B\", \"Sample-Routine\", \"Water\", \"NaN\", \"2020-05-28\", \"NaN\", \"NaN\", \"NaN\", \"NaN\", \"NaN\", \"NaN\", NaN, \"NaN\", \"NaN\", NaN, \"NaN\", NaN, \"NaN\", \"WTGHA\", \"The Wampanoag Tribe of Gay Head Aquinnah\", \"NaN\", \"WTGHA-P1\", \"P1 | Menemsha Perimenter | Lobsterville Beach\", NaN, NaN, NaN, NaN, 41.349306, -70.788056, \"NaN\", \"NaN\", \"NaN\", \"NaN\", \"Bucket\", \"STORET-1041359400\", \"NaN\", \"as P\", \"Phosphated pesticides\", \"Total\", \"0.07\", \"mg/L\", \"NaN\", \"Final\", NaN, \"Actual\", NaN, NaN, NaN, NaN, NaN, NaN, NaN, NaN, NaN, \"NaN\", NaN, NaN, \"NaN\", NaN, NaN, NaN, NaN, NaN, NaN, \"8048\", \"HACH\", \"Reactive Phosphorus in Water\", NaN, \"https://www.nemi.gov/methods/method_summary/4828/\", \"NaN\", \"NaN\", NaN, \"NaN\", \"NaN\", NaN, \"NaN\", NaN, \"2024-09-19T09:12:51\", \"STORET\"], [140, \"WTGHA\", \"Wompanoag Tribe of Gay Head Aquinnah (Tribal)\", \"WTGHA-P1:20201015:SR:B\", \"Sample-Routine\", \"Water\", \"NaN\", \"2020-10-15\", \"NaN\", \"NaN\", \"NaN\", \"NaN\", \"NaN\", \"NaN\", NaN, \"NaN\", \"NaN\", NaN, \"NaN\", NaN, \"NaN\", \"WTGHA\", \"The Wampanoag Tribe of Gay Head Aquinnah\", \"NaN\", \"WTGHA-P1\", \"P1 | Menemsha Perimenter | Lobsterville Beach\", NaN, NaN, NaN, NaN, 41.349306, -70.788056, \"NaN\", \"NaN\", \"NaN\", \"NaN\", \"Bucket\", \"STORET-1041360444\", \"NaN\", \"as P\", \"Phosphated pesticides\", \"Total\", \"0.12\", \"mg/L\", \"NaN\", \"Final\", NaN, \"Actual\", NaN, NaN, NaN, NaN, NaN, NaN, NaN, NaN, NaN, \"NaN\", NaN, NaN, \"NaN\", NaN, NaN, NaN, NaN, NaN, NaN, \"8048\", \"HACH\", \"Reactive Phosphorus in Water\", NaN, \"https://www.nemi.gov/methods/method_summary/4828/\", \"NaN\", \"NaN\", NaN, \"NaN\", \"NaN\", NaN, \"NaN\", NaN, \"2024-09-19T09:12:55\", \"STORET\"], [144, \"WTGHA\", \"Wompanoag Tribe of Gay Head Aquinnah (Tribal)\", \"WTGHA-P2:20201109:SR:B\", \"Sample-Routine\", \"Water\", \"NaN\", \"2020-11-09\", \"NaN\", \"NaN\", \"NaN\", \"NaN\", \"NaN\", \"NaN\", NaN, \"NaN\", \"NaN\", NaN, \"NaN\", NaN, \"NaN\", \"WTGHA\", \"The Wampanoag Tribe of Gay Head Aquinnah\", \"NaN\", \"WTGHA-P2\", \"P2 | Menemsha Perimenter | Menemsha Beach\", NaN, NaN, NaN, NaN, 41.355139, -70.767083, \"NaN\", \"NaN\", \"NaN\", \"NaN\", \"Bucket\", \"STORET-1041360606\", \"NaN\", \"as P\", \"Phosphated pesticides\", \"Total\", \"0.14\", \"mg/L\", \"NaN\", \"Final\", NaN, \"Actual\", NaN, NaN, NaN, NaN, NaN, NaN, NaN, NaN, NaN, \"NaN\", NaN, NaN, \"NaN\", NaN, NaN, NaN, NaN, NaN, NaN, \"8048\", \"HACH\", \"Reactive Phosphorus in Water\", NaN, \"https://www.nemi.gov/methods/method_summary/4828/\", \"NaN\", \"NaN\", NaN, \"NaN\", \"NaN\", NaN, \"NaN\", NaN, \"2024-09-19T09:12:56\", \"STORET\"], [159, \"WTGHA\", \"Wompanoag Tribe of Gay Head Aquinnah (Tribal)\", \"WTGHA-P2:20200429:SR:B\", \"Sample-Routine\", \"Water\", \"NaN\", \"2020-04-29\", \"NaN\", \"NaN\", \"NaN\", \"NaN\", \"NaN\", \"NaN\", NaN, \"NaN\", \"NaN\", NaN, \"NaN\", NaN, \"NaN\", \"WTGHA\", \"The Wampanoag Tribe of Gay Head Aquinnah\", \"NaN\", \"WTGHA-P2\", \"P2 | Menemsha Perimenter | Menemsha Beach\", NaN, NaN, NaN, NaN, 41.355139, -70.767083, \"NaN\", \"NaN\", \"NaN\", \"NaN\", \"Bucket\", \"STORET-1041359190\", \"NaN\", \"as P\", \"Phosphated pesticides\", \"Total\", \"0.06\", \"mg/L\", \"NaN\", \"Final\", NaN, \"Actual\", NaN, NaN, NaN, NaN, NaN, NaN, NaN, NaN, NaN, \"NaN\", NaN, NaN, \"NaN\", NaN, NaN, NaN, NaN, NaN, NaN, \"8048\", \"HACH\", \"Reactive Phosphorus in Water\", NaN, \"https://www.nemi.gov/methods/method_summary/4828/\", \"NaN\", \"NaN\", NaN, \"NaN\", \"NaN\", NaN, \"NaN\", NaN, \"2024-09-19T09:12:50\", \"STORET\"], [160, \"WTGHA\", \"Wompanoag Tribe of Gay Head Aquinnah (Tribal)\", \"WTGHA-P1:20200204:SR:B\", \"Sample-Routine\", \"Water\", \"NaN\", \"2020-02-04\", \"NaN\", \"NaN\", \"NaN\", \"NaN\", \"NaN\", \"NaN\", NaN, \"NaN\", \"NaN\", NaN, \"NaN\", NaN, \"NaN\", \"WTGHA\", \"The Wampanoag Tribe of Gay Head Aquinnah\", \"NaN\", \"WTGHA-P1\", \"P1 | Menemsha Perimenter | Lobsterville Beach\", NaN, NaN, NaN, NaN, 41.349306, -70.788056, \"NaN\", \"NaN\", \"NaN\", \"NaN\", \"Bucket\", \"STORET-1041358675\", \"NaN\", \"as P\", \"Phosphated pesticides\", \"Total\", \"0.11\", \"mg/L\", \"NaN\", \"Final\", NaN, \"Actual\", NaN, NaN, NaN, NaN, NaN, NaN, NaN, NaN, NaN, \"NaN\", NaN, NaN, \"NaN\", NaN, NaN, NaN, NaN, NaN, NaN, \"8048\", \"HACH\", \"Reactive Phosphorus in Water\", NaN, \"https://www.nemi.gov/methods/method_summary/4828/\", \"NaN\", \"NaN\", NaN, \"NaN\", \"NaN\", NaN, \"NaN\", NaN, \"2024-09-19T09:12:47\", \"STORET\"], [165, \"WTGHA\", \"Wompanoag Tribe of Gay Head Aquinnah (Tribal)\", \"WTGHA-P2:20200709:SR:B\", \"Sample-Routine\", \"Water\", \"NaN\", \"2020-07-09\", \"NaN\", \"NaN\", \"NaN\", \"NaN\", \"NaN\", \"NaN\", NaN, \"NaN\", \"NaN\", NaN, \"NaN\", NaN, \"NaN\", \"WTGHA\", \"The Wampanoag Tribe of Gay Head Aquinnah\", \"NaN\", \"WTGHA-P2\", \"P2 | Menemsha Perimenter | Menemsha Beach\", NaN, NaN, NaN, NaN, 41.355139, -70.767083, \"NaN\", \"NaN\", \"NaN\", \"NaN\", \"Bucket\", \"STORET-1041359724\", \"NaN\", \"as P\", \"Phosphated pesticides\", \"Total\", \"0.61\", \"mg/L\", \"NaN\", \"Final\", NaN, \"Actual\", NaN, NaN, NaN, NaN, NaN, NaN, NaN, NaN, NaN, \"NaN\", NaN, NaN, \"NaN\", NaN, NaN, NaN, NaN, NaN, NaN, \"8048\", \"HACH\", \"Reactive Phosphorus in Water\", NaN, \"https://www.nemi.gov/methods/method_summary/4828/\", \"NaN\", \"NaN\", NaN, \"NaN\", \"NaN\", NaN, \"NaN\", NaN, \"2024-09-19T09:12:52\", \"STORET\"], [197, \"WTGHA\", \"Wompanoag Tribe of Gay Head Aquinnah (Tribal)\", \"WTGHA-P2:20200505:SR:B\", \"Sample-Routine\", \"Water\", \"NaN\", \"2020-05-05\", \"NaN\", \"NaN\", \"NaN\", \"NaN\", \"NaN\", \"NaN\", NaN, \"NaN\", \"NaN\", NaN, \"NaN\", NaN, \"NaN\", \"WTGHA\", \"The Wampanoag Tribe of Gay Head Aquinnah\", \"NaN\", \"WTGHA-P2\", \"P2 | Menemsha Perimenter | Menemsha Beach\", NaN, NaN, NaN, NaN, 41.355139, -70.767083, \"NaN\", \"NaN\", \"NaN\", \"NaN\", \"Bucket\", \"STORET-1041359244\", \"NaN\", \"as P\", \"Phosphated pesticides\", \"Total\", \"0.08\", \"mg/L\", \"NaN\", \"Final\", NaN, \"Actual\", NaN, NaN, NaN, NaN, NaN, NaN, NaN, NaN, NaN, \"NaN\", NaN, NaN, \"NaN\", NaN, NaN, NaN, NaN, NaN, NaN, \"8048\", \"HACH\", \"Reactive Phosphorus in Water\", NaN, \"https://www.nemi.gov/methods/method_summary/4828/\", \"NaN\", \"NaN\", NaN, \"NaN\", \"NaN\", NaN, \"NaN\", NaN, \"2024-09-19T09:12:50\", \"STORET\"], [244, \"WTGHA\", \"Wompanoag Tribe of Gay Head Aquinnah (Tribal)\", \"WTGHA-P2:20200406:SR:B\", \"Sample-Routine\", \"Water\", \"NaN\", \"2020-04-06\", \"NaN\", \"NaN\", \"NaN\", \"NaN\", \"NaN\", \"NaN\", NaN, \"NaN\", \"NaN\", NaN, \"NaN\", NaN, \"NaN\", \"WTGHA\", \"The Wampanoag Tribe of Gay Head Aquinnah\", \"NaN\", \"WTGHA-P2\", \"P2 | Menemsha Perimenter | Menemsha Beach\", NaN, NaN, NaN, NaN, 41.355139, -70.767083, \"NaN\", \"NaN\", \"NaN\", \"NaN\", \"Bucket\", \"STORET-1041359088\", \"NaN\", \"as P\", \"Phosphated pesticides\", \"Total\", \"0.09\", \"mg/L\", \"NaN\", \"Final\", NaN, \"Actual\", NaN, NaN, NaN, NaN, NaN, NaN, NaN, NaN, NaN, \"NaN\", NaN, NaN, \"NaN\", NaN, NaN, NaN, NaN, NaN, NaN, \"8048\", \"HACH\", \"Reactive Phosphorus in Water\", NaN, \"https://www.nemi.gov/methods/method_summary/4828/\", \"NaN\", \"NaN\", NaN, \"NaN\", \"NaN\", NaN, \"NaN\", NaN, \"2024-09-19T09:12:49\", \"STORET\"], [254, \"WTGHA\", \"Wompanoag Tribe of Gay Head Aquinnah (Tribal)\", \"WTGHA-P2:20200219:SR:B\", \"Sample-Routine\", \"Water\", \"NaN\", \"2020-02-19\", \"NaN\", \"NaN\", \"NaN\", \"NaN\", \"NaN\", \"NaN\", NaN, \"NaN\", \"NaN\", NaN, \"NaN\", NaN, \"NaN\", \"WTGHA\", \"The Wampanoag Tribe of Gay Head Aquinnah\", \"NaN\", \"WTGHA-P2\", \"P2 | Menemsha Perimenter | Menemsha Beach\", NaN, NaN, NaN, NaN, 41.355139, -70.767083, \"NaN\", \"NaN\", \"NaN\", \"NaN\", \"Bucket\", \"STORET-1041358800\", \"NaN\", \"as P\", \"Phosphated pesticides\", \"Total\", \"0.11\", \"mg/L\", \"NaN\", \"Final\", NaN, \"Actual\", NaN, NaN, NaN, NaN, NaN, NaN, NaN, NaN, NaN, \"NaN\", NaN, NaN, \"NaN\", NaN, NaN, NaN, NaN, NaN, NaN, \"8048\", \"HACH\", \"Reactive Phosphorus in Water\", NaN, \"https://www.nemi.gov/methods/method_summary/4828/\", \"NaN\", \"NaN\", NaN, \"NaN\", \"NaN\", NaN, \"NaN\", NaN, \"2024-09-19T09:12:48\", \"STORET\"], [267, \"WTGHA\", \"Wompanoag Tribe of Gay Head Aquinnah (Tribal)\", \"WTGHA-P1:20201203:SR:B\", \"Sample-Routine\", \"Water\", \"NaN\", \"2020-12-03\", \"NaN\", \"NaN\", \"NaN\", \"NaN\", \"NaN\", \"NaN\", NaN, \"NaN\", \"NaN\", NaN, \"NaN\", NaN, \"NaN\", \"WTGHA\", \"The Wampanoag Tribe of Gay Head Aquinnah\", \"NaN\", \"WTGHA-P1\", \"P1 | Menemsha Perimenter | Lobsterville Beach\", NaN, NaN, NaN, NaN, 41.349306, -70.788056, \"NaN\", \"NaN\", \"NaN\", \"NaN\", \"Bucket\", \"STORET-1041360702\", \"NaN\", \"as P\", \"Phosphated pesticides\", \"Total\", \"0.16\", \"mg/L\", \"NaN\", \"Final\", NaN, \"Actual\", NaN, NaN, NaN, NaN, NaN, NaN, NaN, NaN, NaN, \"NaN\", NaN, NaN, \"NaN\", NaN, NaN, NaN, NaN, NaN, NaN, \"8048\", \"HACH\", \"Reactive Phosphorus in Water\", NaN, \"https://www.nemi.gov/methods/method_summary/4828/\", \"NaN\", \"NaN\", NaN, \"NaN\", \"NaN\", NaN, \"NaN\", NaN, \"2024-09-19T09:12:56\", \"STORET\"], [311, \"WTGHA\", \"Wompanoag Tribe of Gay Head Aquinnah (Tribal)\", \"WTGHA-P2:20200727:SR:B\", \"Sample-Routine\", \"Water\", \"NaN\", \"2020-07-27\", \"NaN\", \"NaN\", \"NaN\", \"NaN\", \"NaN\", \"NaN\", NaN, \"NaN\", \"NaN\", NaN, \"NaN\", NaN, \"NaN\", \"WTGHA\", \"The Wampanoag Tribe of Gay Head Aquinnah\", \"NaN\", \"WTGHA-P2\", \"P2 | Menemsha Perimenter | Menemsha Beach\", NaN, NaN, NaN, NaN, 41.355139, -70.767083, \"NaN\", \"NaN\", \"NaN\", \"NaN\", \"Bucket\", \"STORET-1041359873\", \"NaN\", \"as P\", \"Phosphated pesticides\", \"Total\", \"0.54\", \"mg/L\", \"NaN\", \"Final\", NaN, \"Actual\", NaN, NaN, NaN, NaN, NaN, NaN, NaN, NaN, NaN, \"NaN\", NaN, NaN, \"NaN\", NaN, NaN, NaN, NaN, NaN, NaN, \"8048\", \"HACH\", \"Reactive Phosphorus in Water\", NaN, \"https://www.nemi.gov/methods/method_summary/4828/\", \"NaN\", \"NaN\", NaN, \"NaN\", \"NaN\", NaN, \"NaN\", NaN, \"2024-09-19T09:12:52\", \"STORET\"], [317, \"WTGHA\", \"Wompanoag Tribe of Gay Head Aquinnah (Tribal)\", \"WTGHA-P1:20200914:SR:B\", \"Sample-Routine\", \"Water\", \"NaN\", \"2020-09-14\", \"NaN\", \"NaN\", \"NaN\", \"NaN\", \"NaN\", \"NaN\", NaN, \"NaN\", \"NaN\", NaN, \"NaN\", NaN, \"NaN\", \"WTGHA\", \"The Wampanoag Tribe of Gay Head Aquinnah\", \"NaN\", \"WTGHA-P1\", \"P1 | Menemsha Perimenter | Lobsterville Beach\", NaN, NaN, NaN, NaN, 41.349306, -70.788056, \"NaN\", \"NaN\", \"NaN\", \"NaN\", \"Bucket\", \"STORET-1041360231\", \"NaN\", \"as P\", \"Phosphated pesticides\", \"Total\", \"0.1\", \"mg/L\", \"NaN\", \"Final\", NaN, \"Actual\", NaN, NaN, NaN, NaN, NaN, NaN, NaN, NaN, NaN, \"NaN\", NaN, NaN, \"NaN\", NaN, NaN, NaN, NaN, NaN, NaN, \"8048\", \"HACH\", \"Reactive Phosphorus in Water\", NaN, \"https://www.nemi.gov/methods/method_summary/4828/\", \"NaN\", \"NaN\", NaN, \"NaN\", \"NaN\", NaN, \"NaN\", NaN, \"2024-09-19T09:12:54\", \"STORET\"], [319, \"WTGHA\", \"Wompanoag Tribe of Gay Head Aquinnah (Tribal)\", \"WTGHA-P1:20200505:SR:B\", \"Sample-Routine\", \"Water\", \"NaN\", \"2020-05-05\", \"NaN\", \"NaN\", \"NaN\", \"NaN\", \"NaN\", \"NaN\", NaN, \"NaN\", \"NaN\", NaN, \"NaN\", NaN, \"NaN\", \"WTGHA\", \"The Wampanoag Tribe of Gay Head Aquinnah\", \"NaN\", \"WTGHA-P1\", \"P1 | Menemsha Perimenter | Lobsterville Beach\", NaN, NaN, NaN, NaN, 41.349306, -70.788056, \"NaN\", \"NaN\", \"NaN\", \"NaN\", \"Bucket\", \"STORET-1041359238\", \"NaN\", \"as P\", \"Phosphated pesticides\", \"Total\", \"0.12\", \"mg/L\", \"NaN\", \"Final\", NaN, \"Actual\", NaN, NaN, NaN, NaN, NaN, NaN, NaN, NaN, NaN, \"NaN\", NaN, NaN, \"NaN\", NaN, NaN, NaN, NaN, NaN, NaN, \"8048\", \"HACH\", \"Reactive Phosphorus in Water\", NaN, \"https://www.nemi.gov/methods/method_summary/4828/\", \"NaN\", \"NaN\", NaN, \"NaN\", \"NaN\", NaN, \"NaN\", NaN, \"2024-09-19T09:12:50\", \"STORET\"], [330, \"WTGHA\", \"Wompanoag Tribe of Gay Head Aquinnah (Tribal)\", \"WTGHA-P2:20200630:SR:B\", \"Sample-Routine\", \"Water\", \"NaN\", \"2020-06-30\", \"NaN\", \"NaN\", \"NaN\", \"NaN\", \"NaN\", \"NaN\", NaN, \"NaN\", \"NaN\", NaN, \"NaN\", NaN, \"NaN\", \"WTGHA\", \"The Wampanoag Tribe of Gay Head Aquinnah\", \"NaN\", \"WTGHA-P2\", \"P2 | Menemsha Perimenter | Menemsha Beach\", NaN, NaN, NaN, NaN, 41.355139, -70.767083, \"NaN\", \"NaN\", \"NaN\", \"NaN\", \"Bucket\", \"STORET-1041359670\", \"NaN\", \"as P\", \"Phosphated pesticides\", \"Total\", \"0.11\", \"mg/L\", \"NaN\", \"Final\", NaN, \"Actual\", NaN, NaN, NaN, NaN, NaN, NaN, NaN, NaN, NaN, \"NaN\", NaN, NaN, \"NaN\", NaN, NaN, NaN, NaN, NaN, NaN, \"8048\", \"HACH\", \"Reactive Phosphorus in Water\", NaN, \"https://www.nemi.gov/methods/method_summary/4828/\", \"NaN\", \"NaN\", NaN, \"NaN\", \"NaN\", NaN, \"NaN\", NaN, \"2024-09-19T09:12:52\", \"STORET\"], [332, \"WTGHA\", \"Wompanoag Tribe of Gay Head Aquinnah (Tribal)\", \"WTGHA-P2:20200825:SR:B\", \"Sample-Routine\", \"Water\", \"NaN\", \"2020-08-25\", \"NaN\", \"NaN\", \"NaN\", \"NaN\", \"NaN\", \"NaN\", NaN, \"NaN\", \"NaN\", NaN, \"NaN\", NaN, \"NaN\", \"WTGHA\", \"The Wampanoag Tribe of Gay Head Aquinnah\", \"NaN\", \"WTGHA-P2\", \"P2 | Menemsha Perimenter | Menemsha Beach\", NaN, NaN, NaN, NaN, 41.355139, -70.767083, \"NaN\", \"NaN\", \"NaN\", \"NaN\", \"Bucket\", \"STORET-1041360081\", \"NaN\", \"as P\", \"Phosphated pesticides\", \"Total\", \"0.07\", \"mg/L\", \"NaN\", \"Final\", NaN, \"Actual\", NaN, NaN, NaN, NaN, NaN, NaN, NaN, NaN, NaN, \"NaN\", NaN, NaN, \"NaN\", NaN, NaN, NaN, NaN, NaN, NaN, \"8048\", \"HACH\", \"Reactive Phosphorus in Water\", NaN, \"https://www.nemi.gov/methods/method_summary/4828/\", \"NaN\", \"NaN\", NaN, \"NaN\", \"NaN\", NaN, \"NaN\", NaN, \"2024-09-19T09:12:53\", \"STORET\"], [352, \"WTGHA\", \"Wompanoag Tribe of Gay Head Aquinnah (Tribal)\", \"WTGHA-P2:20200603:SR:B\", \"Sample-Routine\", \"Water\", \"NaN\", \"2020-06-03\", \"NaN\", \"NaN\", \"NaN\", \"NaN\", \"NaN\", \"NaN\", NaN, \"NaN\", \"NaN\", NaN, \"NaN\", NaN, \"NaN\", \"WTGHA\", \"The Wampanoag Tribe of Gay Head Aquinnah\", \"NaN\", \"WTGHA-P2\", \"P2 | Menemsha Perimenter | Menemsha Beach\", NaN, NaN, NaN, NaN, 41.355139, -70.767083, \"NaN\", \"NaN\", \"NaN\", \"NaN\", \"Bucket\", \"STORET-1041359466\", \"NaN\", \"as P\", \"Phosphated pesticides\", \"Total\", \"0.12\", \"mg/L\", \"NaN\", \"Final\", NaN, \"Actual\", NaN, NaN, NaN, NaN, NaN, NaN, NaN, NaN, NaN, \"NaN\", NaN, NaN, \"NaN\", NaN, NaN, NaN, NaN, NaN, NaN, \"8048\", \"HACH\", \"Reactive Phosphorus in Water\", NaN, \"https://www.nemi.gov/methods/method_summary/4828/\", \"NaN\", \"NaN\", NaN, \"NaN\", \"NaN\", NaN, \"NaN\", NaN, \"2024-09-19T09:12:51\", \"STORET\"], [360, \"WTGHA\", \"Wompanoag Tribe of Gay Head Aquinnah (Tribal)\", \"WTGHA-P2:20200226:SR:B\", \"Sample-Routine\", \"Water\", \"NaN\", \"2020-02-26\", \"NaN\", \"NaN\", \"NaN\", \"NaN\", \"NaN\", \"NaN\", NaN, \"NaN\", \"NaN\", NaN, \"NaN\", NaN, \"NaN\", \"WTGHA\", \"The Wampanoag Tribe of Gay Head Aquinnah\", \"NaN\", \"WTGHA-P2\", \"P2 | Menemsha Perimenter | Menemsha Beach\", NaN, NaN, NaN, NaN, 41.355139, -70.767083, \"NaN\", \"NaN\", \"NaN\", \"NaN\", \"Bucket\", \"STORET-1041358848\", \"NaN\", \"as P\", \"Phosphated pesticides\", \"Total\", \"0.1\", \"mg/L\", \"NaN\", \"Final\", NaN, \"Actual\", NaN, NaN, NaN, NaN, NaN, NaN, NaN, NaN, NaN, \"NaN\", NaN, NaN, \"NaN\", NaN, NaN, NaN, NaN, NaN, NaN, \"8048\", \"HACH\", \"Reactive Phosphorus in Water\", NaN, \"https://www.nemi.gov/methods/method_summary/4828/\", \"NaN\", \"NaN\", NaN, \"NaN\", \"NaN\", NaN, \"NaN\", NaN, \"2024-09-19T09:12:48\", \"STORET\"], [364, \"WTGHA\", \"Wompanoag Tribe of Gay Head Aquinnah (Tribal)\", \"WTGHA-P2:20201022:SR:B\", \"Sample-Routine\", \"Water\", \"NaN\", \"2020-10-22\", \"NaN\", \"NaN\", \"NaN\", \"NaN\", \"NaN\", \"NaN\", NaN, \"NaN\", \"NaN\", NaN, \"NaN\", NaN, \"NaN\", \"WTGHA\", \"The Wampanoag Tribe of Gay Head Aquinnah\", \"NaN\", \"WTGHA-P2\", \"P2 | Menemsha Perimenter | Menemsha Beach\", NaN, NaN, NaN, NaN, 41.355139, -70.767083, \"NaN\", \"NaN\", \"NaN\", \"NaN\", \"Bucket\", \"STORET-1041360498\", \"NaN\", \"as P\", \"Phosphated pesticides\", \"Total\", \"0.12\", \"mg/L\", \"NaN\", \"Final\", NaN, \"Actual\", NaN, NaN, NaN, NaN, NaN, NaN, NaN, NaN, NaN, \"NaN\", NaN, NaN, \"NaN\", NaN, NaN, NaN, NaN, NaN, NaN, \"8048\", \"HACH\", \"Reactive Phosphorus in Water\", NaN, \"https://www.nemi.gov/methods/method_summary/4828/\", \"NaN\", \"NaN\", NaN, \"NaN\", \"NaN\", NaN, \"NaN\", NaN, \"2024-09-19T09:12:55\", \"STORET\"], [371, \"WTGHA\", \"Wompanoag Tribe of Gay Head Aquinnah (Tribal)\", \"WTGHA-P2:20200312:SR:B\", \"Sample-Routine\", \"Water\", \"NaN\", \"2020-03-12\", \"NaN\", \"NaN\", \"NaN\", \"NaN\", \"NaN\", \"NaN\", NaN, \"NaN\", \"NaN\", NaN, \"NaN\", NaN, \"NaN\", \"WTGHA\", \"The Wampanoag Tribe of Gay Head Aquinnah\", \"NaN\", \"WTGHA-P2\", \"P2 | Menemsha Perimenter | Menemsha Beach\", NaN, NaN, NaN, NaN, 41.355139, -70.767083, \"NaN\", \"NaN\", \"NaN\", \"NaN\", \"Bucket\", \"STORET-1041358956\", \"NaN\", \"as P\", \"Phosphated pesticides\", \"Total\", \"0.1\", \"mg/L\", \"NaN\", \"Final\", NaN, \"Actual\", NaN, NaN, NaN, NaN, NaN, NaN, NaN, NaN, NaN, \"NaN\", NaN, NaN, \"NaN\", NaN, NaN, NaN, NaN, NaN, NaN, \"8048\", \"HACH\", \"Reactive Phosphorus in Water\", NaN, \"https://www.nemi.gov/methods/method_summary/4828/\", \"NaN\", \"NaN\", NaN, \"NaN\", \"NaN\", NaN, \"NaN\", NaN, \"2024-09-19T09:12:49\", \"STORET\"], [373, \"WTGHA\", \"Wompanoag Tribe of Gay Head Aquinnah (Tribal)\", \"WTGHA-P1:20201118:SR:B\", \"Sample-Routine\", \"Water\", \"NaN\", \"2020-11-18\", \"NaN\", \"NaN\", \"NaN\", \"NaN\", \"NaN\", \"NaN\", NaN, \"NaN\", \"NaN\", NaN, \"NaN\", NaN, \"NaN\", \"WTGHA\", \"The Wampanoag Tribe of Gay Head Aquinnah\", \"NaN\", \"WTGHA-P1\", \"P1 | Menemsha Perimenter | Lobsterville Beach\", NaN, NaN, NaN, NaN, 41.349306, -70.788056, \"NaN\", \"NaN\", \"NaN\", \"NaN\", \"Bucket\", \"STORET-1041360648\", \"NaN\", \"as P\", \"Phosphated pesticides\", \"Total\", \"0.16\", \"mg/L\", \"NaN\", \"Final\", NaN, \"Actual\", NaN, NaN, NaN, NaN, NaN, NaN, NaN, NaN, NaN, \"NaN\", NaN, NaN, \"NaN\", NaN, NaN, NaN, NaN, NaN, NaN, \"8048\", \"HACH\", \"Reactive Phosphorus in Water\", NaN, \"https://www.nemi.gov/methods/method_summary/4828/\", \"NaN\", \"NaN\", NaN, \"NaN\", \"NaN\", NaN, \"NaN\", NaN, \"2024-09-19T09:12:56\", \"STORET\"], [376, \"WTGHA\", \"Wompanoag Tribe of Gay Head Aquinnah (Tribal)\", \"WTGHA-P2:20200929:SR:B\", \"Sample-Routine\", \"Water\", \"NaN\", \"2020-09-29\", \"NaN\", \"NaN\", \"NaN\", \"NaN\", \"NaN\", \"NaN\", NaN, \"NaN\", \"NaN\", NaN, \"NaN\", NaN, \"NaN\", \"WTGHA\", \"The Wampanoag Tribe of Gay Head Aquinnah\", \"NaN\", \"WTGHA-P2\", \"P2 | Menemsha Perimenter | Menemsha Beach\", NaN, NaN, NaN, NaN, 41.355139, -70.767083, \"NaN\", \"NaN\", \"NaN\", \"NaN\", \"Bucket\", \"STORET-1041360336\", \"NaN\", \"as P\", \"Phosphated pesticides\", \"Total\", \"0.14\", \"mg/L\", \"NaN\", \"Final\", NaN, \"Actual\", NaN, NaN, NaN, NaN, NaN, NaN, NaN, NaN, NaN, \"NaN\", NaN, NaN, \"NaN\", NaN, NaN, NaN, NaN, NaN, NaN, \"8048\", \"HACH\", \"Reactive Phosphorus in Water\", NaN, \"https://www.nemi.gov/methods/method_summary/4828/\", \"NaN\", \"NaN\", NaN, \"NaN\", \"NaN\", NaN, \"NaN\", NaN, \"2024-09-19T09:12:55\", \"STORET\"], [381, \"WTGHA\", \"Wompanoag Tribe of Gay Head Aquinnah (Tribal)\", \"WTGHA-P1:20200615:SR:B\", \"Sample-Routine\", \"Water\", \"NaN\", \"2020-06-15\", \"NaN\", \"NaN\", \"NaN\", \"NaN\", \"NaN\", \"NaN\", NaN, \"NaN\", \"NaN\", NaN, \"NaN\", NaN, \"NaN\", \"WTGHA\", \"The Wampanoag Tribe of Gay Head Aquinnah\", \"NaN\", \"WTGHA-P1\", \"P1 | Menemsha Perimenter | Lobsterville Beach\", NaN, NaN, NaN, NaN, 41.349306, -70.788056, \"NaN\", \"NaN\", \"NaN\", \"NaN\", \"Bucket\", \"STORET-1041359562\", \"NaN\", \"as P\", \"Phosphated pesticides\", \"Total\", \"0.09\", \"mg/L\", \"NaN\", \"Final\", NaN, \"Actual\", NaN, NaN, NaN, NaN, NaN, NaN, NaN, NaN, NaN, \"NaN\", NaN, NaN, \"NaN\", NaN, NaN, NaN, NaN, NaN, NaN, \"8048\", \"HACH\", \"Reactive Phosphorus in Water\", NaN, \"https://www.nemi.gov/methods/method_summary/4828/\", \"NaN\", \"NaN\", NaN, \"NaN\", \"NaN\", NaN, \"NaN\", NaN, \"2024-09-19T09:12:51\", \"STORET\"], [441, \"WTGHA\", \"Wompanoag Tribe of Gay Head Aquinnah (Tribal)\", \"WTGHA-P1:20200121:SR:B\", \"Sample-Routine\", \"Water\", \"NaN\", \"2020-01-21\", \"NaN\", \"NaN\", \"NaN\", \"NaN\", \"NaN\", \"NaN\", NaN, \"NaN\", \"NaN\", NaN, \"NaN\", NaN, \"NaN\", \"WTGHA\", \"The Wampanoag Tribe of Gay Head Aquinnah\", \"NaN\", \"WTGHA-P1\", \"P1 | Menemsha Perimenter | Lobsterville Beach\", NaN, NaN, NaN, NaN, 41.349306, -70.788056, \"NaN\", \"NaN\", \"NaN\", \"NaN\", \"Bucket\", \"STORET-1041358549\", \"NaN\", \"as P\", \"Phosphated pesticides\", \"Total\", \"0.18\", \"mg/L\", \"NaN\", \"Final\", NaN, \"Actual\", NaN, NaN, NaN, NaN, NaN, NaN, NaN, NaN, NaN, \"NaN\", NaN, NaN, \"NaN\", NaN, NaN, NaN, NaN, NaN, NaN, \"8048\", \"HACH\", \"Reactive Phosphorus in Water\", NaN, \"https://www.nemi.gov/methods/method_summary/4828/\", \"NaN\", \"NaN\", NaN, \"NaN\", \"NaN\", NaN, \"NaN\", NaN, \"2024-09-19T09:12:47\", \"STORET\"], [472, \"WTGHA\", \"Wompanoag Tribe of Gay Head Aquinnah (Tribal)\", \"WTGHA-P1:20201022:SR:B\", \"Sample-Routine\", \"Water\", \"NaN\", \"2020-10-22\", \"NaN\", \"NaN\", \"NaN\", \"NaN\", \"NaN\", \"NaN\", NaN, \"NaN\", \"NaN\", NaN, \"NaN\", NaN, \"NaN\", \"WTGHA\", \"The Wampanoag Tribe of Gay Head Aquinnah\", \"NaN\", \"WTGHA-P1\", \"P1 | Menemsha Perimenter | Lobsterville Beach\", NaN, NaN, NaN, NaN, 41.349306, -70.788056, \"NaN\", \"NaN\", \"NaN\", \"NaN\", \"Bucket\", \"STORET-1041360492\", \"NaN\", \"as P\", \"Phosphated pesticides\", \"Total\", \"0.1\", \"mg/L\", \"NaN\", \"Final\", NaN, \"Actual\", NaN, NaN, NaN, NaN, NaN, NaN, NaN, NaN, NaN, \"NaN\", NaN, NaN, \"NaN\", NaN, NaN, NaN, NaN, NaN, NaN, \"8048\", \"HACH\", \"Reactive Phosphorus in Water\", NaN, \"https://www.nemi.gov/methods/method_summary/4828/\", \"NaN\", \"NaN\", NaN, \"NaN\", \"NaN\", NaN, \"NaN\", NaN, \"2024-09-19T09:12:55\", \"STORET\"], [473, \"WTGHA\", \"Wompanoag Tribe of Gay Head Aquinnah (Tribal)\", \"WTGHA-P1:20200402:SR:B\", \"Sample-Routine\", \"Water\", \"NaN\", \"2020-04-02\", \"NaN\", \"NaN\", \"NaN\", \"NaN\", \"NaN\", \"NaN\", NaN, \"NaN\", \"NaN\", NaN, \"NaN\", NaN, \"NaN\", \"WTGHA\", \"The Wampanoag Tribe of Gay Head Aquinnah\", \"NaN\", \"WTGHA-P1\", \"P1 | Menemsha Perimenter | Lobsterville Beach\", NaN, NaN, NaN, NaN, 41.349306, -70.788056, \"NaN\", \"NaN\", \"NaN\", \"NaN\", \"Bucket\", \"STORET-1041359052\", \"NaN\", \"as P\", \"Phosphated pesticides\", \"Total\", \"0.13\", \"mg/L\", \"NaN\", \"Final\", NaN, \"Actual\", NaN, NaN, NaN, NaN, NaN, NaN, NaN, NaN, NaN, \"NaN\", NaN, NaN, \"NaN\", NaN, NaN, NaN, NaN, NaN, NaN, \"8048\", \"HACH\", \"Reactive Phosphorus in Water\", NaN, \"https://www.nemi.gov/methods/method_summary/4828/\", \"NaN\", \"NaN\", NaN, \"NaN\", \"NaN\", NaN, \"NaN\", NaN, \"2024-09-19T09:12:49\", \"STORET\"], [491, \"WTGHA\", \"Wompanoag Tribe of Gay Head Aquinnah (Tribal)\", \"WTGHA-P1:20200810:SR:B\", \"Sample-Routine\", \"Water\", \"NaN\", \"2020-08-10\", \"NaN\", \"NaN\", \"NaN\", \"NaN\", \"NaN\", \"NaN\", NaN, \"NaN\", \"NaN\", NaN, \"NaN\", NaN, \"NaN\", \"WTGHA\", \"The Wampanoag Tribe of Gay Head Aquinnah\", \"NaN\", \"WTGHA-P1\", \"P1 | Menemsha Perimenter | Lobsterville Beach\", NaN, NaN, NaN, NaN, 41.349306, -70.788056, \"NaN\", \"NaN\", \"NaN\", \"NaN\", \"Bucket\", \"STORET-1041359967\", \"NaN\", \"as P\", \"Phosphated pesticides\", \"Total\", \"0.04\", \"mg/L\", \"NaN\", \"Final\", NaN, \"Actual\", NaN, NaN, NaN, NaN, NaN, NaN, NaN, NaN, NaN, \"NaN\", NaN, NaN, \"NaN\", NaN, NaN, NaN, NaN, NaN, NaN, \"8048\", \"HACH\", \"Reactive Phosphorus in Water\", NaN, \"https://www.nemi.gov/methods/method_summary/4828/\", \"NaN\", \"NaN\", NaN, \"NaN\", \"NaN\", NaN, \"NaN\", NaN, \"2024-09-19T09:12:53\", \"STORET\"], [523, \"WTGHA\", \"Wompanoag Tribe of Gay Head Aquinnah (Tribal)\", \"WTGHA-P2:20200608:SR:B\", \"Sample-Routine\", \"Water\", \"NaN\", \"2020-06-08\", \"NaN\", \"NaN\", \"NaN\", \"NaN\", \"NaN\", \"NaN\", NaN, \"NaN\", \"NaN\", NaN, \"NaN\", NaN, \"NaN\", \"WTGHA\", \"The Wampanoag Tribe of Gay Head Aquinnah\", \"NaN\", \"WTGHA-P2\", \"P2 | Menemsha Perimenter | Menemsha Beach\", NaN, NaN, NaN, NaN, 41.355139, -70.767083, \"NaN\", \"NaN\", \"NaN\", \"NaN\", \"Bucket\", \"STORET-1041359520\", \"NaN\", \"as P\", \"Phosphated pesticides\", \"Total\", \"0.07\", \"mg/L\", \"NaN\", \"Final\", NaN, \"Actual\", NaN, NaN, NaN, NaN, NaN, NaN, NaN, NaN, NaN, \"NaN\", NaN, NaN, \"NaN\", NaN, NaN, NaN, NaN, NaN, NaN, \"8048\", \"HACH\", \"Reactive Phosphorus in Water\", NaN, \"https://www.nemi.gov/methods/method_summary/4828/\", \"NaN\", \"NaN\", NaN, \"NaN\", \"NaN\", NaN, \"NaN\", NaN, \"2024-09-19T09:12:51\", \"STORET\"], [617, \"WTGHA\", \"Wompanoag Tribe of Gay Head Aquinnah (Tribal)\", \"WTGHA-P2:20200129:SR:B\", \"Sample-Routine\", \"Water\", \"NaN\", \"2020-01-29\", \"NaN\", \"NaN\", \"NaN\", \"NaN\", \"NaN\", \"NaN\", NaN, \"NaN\", \"NaN\", NaN, \"NaN\", NaN, \"NaN\", \"WTGHA\", \"The Wampanoag Tribe of Gay Head Aquinnah\", \"NaN\", \"WTGHA-P2\", \"P2 | Menemsha Perimenter | Menemsha Beach\", NaN, NaN, NaN, NaN, 41.355139, -70.767083, \"NaN\", \"NaN\", \"NaN\", \"NaN\", \"Bucket\", \"STORET-1041358619\", \"NaN\", \"as P\", \"Phosphated pesticides\", \"Total\", \"0.07\", \"mg/L\", \"NaN\", \"Final\", NaN, \"Actual\", NaN, NaN, NaN, NaN, NaN, NaN, NaN, NaN, NaN, \"NaN\", NaN, NaN, \"NaN\", NaN, NaN, NaN, NaN, NaN, NaN, \"8048\", \"HACH\", \"Reactive Phosphorus in Water\", NaN, \"https://www.nemi.gov/methods/method_summary/4828/\", \"NaN\", \"NaN\", NaN, \"NaN\", \"NaN\", NaN, \"NaN\", NaN, \"2024-09-19T09:12:47\", \"STORET\"], [624, \"WTGHA\", \"Wompanoag Tribe of Gay Head Aquinnah (Tribal)\", \"WTGHA-P2:20200908:SR:B\", \"Sample-Routine\", \"Water\", \"NaN\", \"2020-09-08\", \"NaN\", \"NaN\", \"NaN\", \"NaN\", \"NaN\", \"NaN\", NaN, \"NaN\", \"NaN\", NaN, \"NaN\", NaN, \"NaN\", \"WTGHA\", \"The Wampanoag Tribe of Gay Head Aquinnah\", \"NaN\", \"WTGHA-P2\", \"P2 | Menemsha Perimenter | Menemsha Beach\", NaN, NaN, NaN, NaN, 41.355139, -70.767083, \"NaN\", \"NaN\", \"NaN\", \"NaN\", \"Bucket\", \"STORET-1041360183\", \"NaN\", \"as P\", \"Phosphated pesticides\", \"Total\", \"0.13\", \"mg/L\", \"NaN\", \"Final\", NaN, \"Actual\", NaN, NaN, NaN, NaN, NaN, NaN, NaN, NaN, NaN, \"NaN\", NaN, NaN, \"NaN\", NaN, NaN, NaN, NaN, NaN, NaN, \"8048\", \"HACH\", \"Reactive Phosphorus in Water\", NaN, \"https://www.nemi.gov/methods/method_summary/4828/\", \"NaN\", \"NaN\", NaN, \"NaN\", \"NaN\", NaN, \"NaN\", NaN, \"2024-09-19T09:12:54\", \"STORET\"], [645, \"WTGHA\", \"Wompanoag Tribe of Gay Head Aquinnah (Tribal)\", \"WTGHA-P1:20201007:SR:B\", \"Sample-Routine\", \"Water\", \"NaN\", \"2020-10-07\", \"NaN\", \"NaN\", \"NaN\", \"NaN\", \"NaN\", \"NaN\", NaN, \"NaN\", \"NaN\", NaN, \"NaN\", NaN, \"NaN\", \"WTGHA\", \"The Wampanoag Tribe of Gay Head Aquinnah\", \"NaN\", \"WTGHA-P1\", \"P1 | Menemsha Perimenter | Lobsterville Beach\", NaN, NaN, NaN, NaN, 41.349306, -70.788056, \"NaN\", \"NaN\", \"NaN\", \"NaN\", \"Bucket\", \"STORET-1041360384\", \"NaN\", \"as P\", \"Phosphated pesticides\", \"Total\", \"0.11\", \"mg/L\", \"NaN\", \"Final\", NaN, \"Actual\", NaN, NaN, NaN, NaN, NaN, NaN, NaN, NaN, NaN, \"NaN\", NaN, NaN, \"NaN\", NaN, NaN, NaN, NaN, NaN, NaN, \"8048\", \"HACH\", \"Reactive Phosphorus in Water\", NaN, \"https://www.nemi.gov/methods/method_summary/4828/\", \"NaN\", \"NaN\", NaN, \"NaN\", \"NaN\", NaN, \"NaN\", NaN, \"2024-09-19T09:12:55\", \"STORET\"], [650, \"WTGHA\", \"Wompanoag Tribe of Gay Head Aquinnah (Tribal)\", \"WTGHA-P1:20200429:SR:B\", \"Sample-Routine\", \"Water\", \"NaN\", \"2020-04-29\", \"NaN\", \"NaN\", \"NaN\", \"NaN\", \"NaN\", \"NaN\", NaN, \"NaN\", \"NaN\", NaN, \"NaN\", NaN, \"NaN\", \"WTGHA\", \"The Wampanoag Tribe of Gay Head Aquinnah\", \"NaN\", \"WTGHA-P1\", \"P1 | Menemsha Perimenter | Lobsterville Beach\", NaN, NaN, NaN, NaN, 41.349306, -70.788056, \"NaN\", \"NaN\", \"NaN\", \"NaN\", \"Bucket\", \"STORET-1041359184\", \"NaN\", \"as P\", \"Phosphated pesticides\", \"Total\", \"0.08\", \"mg/L\", \"NaN\", \"Final\", NaN, \"Actual\", NaN, NaN, NaN, NaN, NaN, NaN, NaN, NaN, NaN, \"NaN\", NaN, NaN, \"NaN\", NaN, NaN, NaN, NaN, NaN, NaN, \"8048\", \"HACH\", \"Reactive Phosphorus in Water\", NaN, \"https://www.nemi.gov/methods/method_summary/4828/\", \"NaN\", \"NaN\", NaN, \"NaN\", \"NaN\", NaN, \"NaN\", NaN, \"2024-09-19T09:12:50\", \"STORET\"], [710, \"WTGHA\", \"Wompanoag Tribe of Gay Head Aquinnah (Tribal)\", \"WTGHA-P1:20200713:SR:B\", \"Sample-Routine\", \"Water\", \"NaN\", \"2020-07-13\", \"NaN\", \"NaN\", \"NaN\", \"NaN\", \"NaN\", \"NaN\", NaN, \"NaN\", \"NaN\", NaN, \"NaN\", NaN, \"NaN\", \"WTGHA\", \"The Wampanoag Tribe of Gay Head Aquinnah\", \"NaN\", \"WTGHA-P1\", \"P1 | Menemsha Perimenter | Lobsterville Beach\", NaN, NaN, NaN, NaN, 41.349306, -70.788056, \"NaN\", \"NaN\", \"NaN\", \"NaN\", \"Bucket\", \"STORET-1041359766\", \"NaN\", \"as P\", \"Phosphated pesticides\", \"Total\", \"0.1\", \"mg/L\", \"NaN\", \"Final\", NaN, \"Actual\", NaN, NaN, NaN, NaN, NaN, NaN, NaN, NaN, NaN, \"NaN\", NaN, NaN, \"NaN\", NaN, NaN, NaN, NaN, NaN, NaN, \"8048\", \"HACH\", \"Reactive Phosphorus in Water\", NaN, \"https://www.nemi.gov/methods/method_summary/4828/\", \"NaN\", \"NaN\", NaN, \"NaN\", \"NaN\", NaN, \"NaN\", NaN, \"2024-09-19T09:12:52\", \"STORET\"], [756, \"WTGHA\", \"Wompanoag Tribe of Gay Head Aquinnah (Tribal)\", \"WTGHA-P2:20200622:SR:B\", \"Sample-Routine\", \"Water\", \"NaN\", \"2020-06-22\", \"NaN\", \"NaN\", \"NaN\", \"NaN\", \"NaN\", \"NaN\", NaN, \"NaN\", \"NaN\", NaN, \"NaN\", NaN, \"NaN\", \"WTGHA\", \"The Wampanoag Tribe of Gay Head Aquinnah\", \"NaN\", \"WTGHA-P2\", \"P2 | Menemsha Perimenter | Menemsha Beach\", NaN, NaN, NaN, NaN, 41.355139, -70.767083, \"NaN\", \"NaN\", \"NaN\", \"NaN\", \"Bucket\", \"STORET-1041359622\", \"NaN\", \"as P\", \"Phosphated pesticides\", \"Total\", \"0.09\", \"mg/L\", \"NaN\", \"Final\", NaN, \"Actual\", NaN, NaN, NaN, NaN, NaN, NaN, NaN, NaN, NaN, \"NaN\", NaN, NaN, \"NaN\", NaN, NaN, NaN, NaN, NaN, NaN, \"8048\", \"HACH\", \"Reactive Phosphorus in Water\", NaN, \"https://www.nemi.gov/methods/method_summary/4828/\", \"NaN\", \"NaN\", NaN, \"NaN\", \"NaN\", NaN, \"NaN\", NaN, \"2024-09-19T09:12:51\", \"STORET\"], [795, \"WTGHA\", \"Wompanoag Tribe of Gay Head Aquinnah (Tribal)\", \"WTGHA-P1:20200226:SR:B\", \"Sample-Routine\", \"Water\", \"NaN\", \"2020-02-26\", \"NaN\", \"NaN\", \"NaN\", \"NaN\", \"NaN\", \"NaN\", NaN, \"NaN\", \"NaN\", NaN, \"NaN\", NaN, \"NaN\", \"WTGHA\", \"The Wampanoag Tribe of Gay Head Aquinnah\", \"NaN\", \"WTGHA-P1\", \"P1 | Menemsha Perimenter | Lobsterville Beach\", NaN, NaN, NaN, NaN, 41.349306, -70.788056, \"NaN\", \"NaN\", \"NaN\", \"NaN\", \"Bucket\", \"STORET-1041358842\", \"NaN\", \"as P\", \"Phosphated pesticides\", \"Total\", \"0.1\", \"mg/L\", \"NaN\", \"Final\", NaN, \"Actual\", NaN, NaN, NaN, NaN, NaN, NaN, NaN, NaN, NaN, \"NaN\", NaN, NaN, \"NaN\", NaN, NaN, NaN, NaN, NaN, NaN, \"8048\", \"HACH\", \"Reactive Phosphorus in Water\", NaN, \"https://www.nemi.gov/methods/method_summary/4828/\", \"NaN\", \"NaN\", NaN, \"NaN\", \"NaN\", NaN, \"NaN\", NaN, \"2024-09-19T09:12:48\", \"STORET\"], [816, \"WTGHA\", \"Wompanoag Tribe of Gay Head Aquinnah (Tribal)\", \"WTGHA-P1:20200316:SR:B\", \"Sample-Routine\", \"Water\", \"NaN\", \"2020-03-16\", \"NaN\", \"NaN\", \"NaN\", \"NaN\", \"NaN\", \"NaN\", NaN, \"NaN\", \"NaN\", NaN, \"NaN\", NaN, \"NaN\", \"WTGHA\", \"The Wampanoag Tribe of Gay Head Aquinnah\", \"NaN\", \"WTGHA-P1\", \"P1 | Menemsha Perimenter | Lobsterville Beach\", NaN, NaN, NaN, NaN, 41.349306, -70.788056, \"NaN\", \"NaN\", \"NaN\", \"NaN\", \"Bucket\", \"STORET-1041358998\", \"NaN\", \"as P\", \"Phosphated pesticides\", \"Total\", \"0.18\", \"mg/L\", \"NaN\", \"Final\", NaN, \"Actual\", NaN, NaN, NaN, NaN, NaN, NaN, NaN, NaN, NaN, \"NaN\", NaN, NaN, \"NaN\", NaN, NaN, NaN, NaN, NaN, NaN, \"8048\", \"HACH\", \"Reactive Phosphorus in Water\", NaN, \"https://www.nemi.gov/methods/method_summary/4828/\", \"NaN\", \"NaN\", NaN, \"NaN\", \"NaN\", NaN, \"NaN\", NaN, \"2024-09-19T09:12:49\", \"STORET\"], [817, \"WTGHA\", \"Wompanoag Tribe of Gay Head Aquinnah (Tribal)\", \"WTGHA-P1:20200415:SR:B\", \"Sample-Routine\", \"Water\", \"NaN\", \"2020-04-15\", \"NaN\", \"NaN\", \"NaN\", \"NaN\", \"NaN\", \"NaN\", NaN, \"NaN\", \"NaN\", NaN, \"NaN\", NaN, \"NaN\", \"WTGHA\", \"The Wampanoag Tribe of Gay Head Aquinnah\", \"NaN\", \"WTGHA-P1\", \"P1 | Menemsha Perimenter | Lobsterville Beach\", NaN, NaN, NaN, NaN, 41.349306, -70.788056, \"NaN\", \"NaN\", \"NaN\", \"NaN\", \"Bucket\", \"STORET-1041359130\", \"NaN\", \"as P\", \"Phosphated pesticides\", \"Total\", \"0.09\", \"mg/L\", \"NaN\", \"Final\", NaN, \"Actual\", NaN, NaN, NaN, NaN, NaN, NaN, NaN, NaN, NaN, \"NaN\", NaN, NaN, \"NaN\", NaN, NaN, NaN, NaN, NaN, NaN, \"8048\", \"HACH\", \"Reactive Phosphorus in Water\", NaN, \"https://www.nemi.gov/methods/method_summary/4828/\", \"NaN\", \"NaN\", NaN, \"NaN\", \"NaN\", NaN, \"NaN\", NaN, \"2024-09-19T09:12:49\", \"STORET\"], [818, \"WTGHA\", \"Wompanoag Tribe of Gay Head Aquinnah (Tribal)\", \"WTGHA-P1:20200520:SR:B\", \"Sample-Routine\", \"Water\", \"NaN\", \"2020-05-20\", \"NaN\", \"NaN\", \"NaN\", \"NaN\", \"NaN\", \"NaN\", NaN, \"NaN\", \"NaN\", NaN, \"NaN\", NaN, \"NaN\", \"WTGHA\", \"The Wampanoag Tribe of Gay Head Aquinnah\", \"NaN\", \"WTGHA-P1\", \"P1 | Menemsha Perimenter | Lobsterville Beach\", NaN, NaN, NaN, NaN, 41.349306, -70.788056, \"NaN\", \"NaN\", \"NaN\", \"NaN\", \"Bucket\", \"STORET-1041359346\", \"NaN\", \"as P\", \"Phosphated pesticides\", \"Total\", \"0.11\", \"mg/L\", \"NaN\", \"Final\", NaN, \"Actual\", NaN, NaN, NaN, NaN, NaN, NaN, NaN, NaN, NaN, \"NaN\", NaN, NaN, \"NaN\", NaN, NaN, NaN, NaN, NaN, NaN, \"8048\", \"HACH\", \"Reactive Phosphorus in Water\", NaN, \"https://www.nemi.gov/methods/method_summary/4828/\", \"NaN\", \"NaN\", NaN, \"NaN\", \"NaN\", NaN, \"NaN\", NaN, \"2024-09-19T09:12:50\", \"STORET\"], [827, \"WTGHA\", \"Wompanoag Tribe of Gay Head Aquinnah (Tribal)\", \"WTGHA-P2:20200806:SR:B\", \"Sample-Routine\", \"Water\", \"NaN\", \"2020-08-06\", \"NaN\", \"NaN\", \"NaN\", \"NaN\", \"NaN\", \"NaN\", NaN, \"NaN\", \"NaN\", NaN, \"NaN\", NaN, \"NaN\", \"WTGHA\", \"The Wampanoag Tribe of Gay Head Aquinnah\", \"NaN\", \"WTGHA-P2\", \"P2 | Menemsha Perimenter | Menemsha Beach\", NaN, NaN, NaN, NaN, 41.355139, -70.767083, \"NaN\", \"NaN\", \"NaN\", \"NaN\", \"Bucket\", \"STORET-1041359925\", \"NaN\", \"as P\", \"Phosphated pesticides\", \"Total\", \"0.09\", \"mg/L\", \"NaN\", \"Final\", NaN, \"Actual\", NaN, NaN, NaN, NaN, NaN, NaN, NaN, NaN, NaN, \"NaN\", NaN, NaN, \"NaN\", NaN, NaN, NaN, NaN, NaN, NaN, \"8048\", \"HACH\", \"Reactive Phosphorus in Water\", NaN, \"https://www.nemi.gov/methods/method_summary/4828/\", \"NaN\", \"NaN\", NaN, \"NaN\", \"NaN\", NaN, \"NaN\", NaN, \"2024-09-19T09:12:53\", \"STORET\"], [845, \"WTGHA\", \"Wompanoag Tribe of Gay Head Aquinnah (Tribal)\", \"WTGHA-P2:20200204:SR:B\", \"Sample-Routine\", \"Water\", \"NaN\", \"2020-02-04\", \"NaN\", \"NaN\", \"NaN\", \"NaN\", \"NaN\", \"NaN\", NaN, \"NaN\", \"NaN\", NaN, \"NaN\", NaN, \"NaN\", \"WTGHA\", \"The Wampanoag Tribe of Gay Head Aquinnah\", \"NaN\", \"WTGHA-P2\", \"P2 | Menemsha Perimenter | Menemsha Beach\", NaN, NaN, NaN, NaN, 41.355139, -70.767083, \"NaN\", \"NaN\", \"NaN\", \"NaN\", \"Bucket\", \"STORET-1041358682\", \"NaN\", \"as P\", \"Phosphated pesticides\", \"Total\", \"0.1\", \"mg/L\", \"NaN\", \"Final\", NaN, \"Actual\", NaN, NaN, NaN, NaN, NaN, NaN, NaN, NaN, NaN, \"NaN\", NaN, NaN, \"NaN\", NaN, NaN, NaN, NaN, NaN, NaN, \"8048\", \"HACH\", \"Reactive Phosphorus in Water\", NaN, \"https://www.nemi.gov/methods/method_summary/4828/\", \"NaN\", \"NaN\", NaN, \"NaN\", \"NaN\", NaN, \"NaN\", NaN, \"2024-09-19T09:12:47\", \"STORET\"], [892, \"WTGHA\", \"Wompanoag Tribe of Gay Head Aquinnah (Tribal)\", \"WTGHA-P1:20200210:SR:B\", \"Sample-Routine\", \"Water\", \"NaN\", \"2020-02-10\", \"NaN\", \"NaN\", \"NaN\", \"NaN\", \"NaN\", \"NaN\", NaN, \"NaN\", \"NaN\", NaN, \"NaN\", NaN, \"NaN\", \"WTGHA\", \"The Wampanoag Tribe of Gay Head Aquinnah\", \"NaN\", \"WTGHA-P1\", \"P1 | Menemsha Perimenter | Lobsterville Beach\", NaN, NaN, NaN, NaN, 41.349306, -70.788056, \"NaN\", \"NaN\", \"NaN\", \"NaN\", \"Bucket\", \"STORET-1041358738\", \"NaN\", \"as P\", \"Phosphated pesticides\", \"Total\", \"0.08\", \"mg/L\", \"NaN\", \"Final\", NaN, \"Actual\", NaN, NaN, NaN, NaN, NaN, NaN, NaN, NaN, NaN, \"NaN\", NaN, NaN, \"NaN\", NaN, NaN, NaN, NaN, NaN, NaN, \"8048\", \"HACH\", \"Reactive Phosphorus in Water\", NaN, \"https://www.nemi.gov/methods/method_summary/4828/\", \"NaN\", \"NaN\", NaN, \"NaN\", \"NaN\", NaN, \"NaN\", NaN, \"2024-09-19T09:12:48\", \"STORET\"], [899, \"WTGHA\", \"Wompanoag Tribe of Gay Head Aquinnah (Tribal)\", \"WTGHA-P1:20200901:SR:B\", \"Sample-Routine\", \"Water\", \"NaN\", \"2020-09-01\", \"NaN\", \"NaN\", \"NaN\", \"NaN\", \"NaN\", \"NaN\", NaN, \"NaN\", \"NaN\", NaN, \"NaN\", NaN, \"NaN\", \"WTGHA\", \"The Wampanoag Tribe of Gay Head Aquinnah\", \"NaN\", \"WTGHA-P1\", \"P1 | Menemsha Perimenter | Lobsterville Beach\", NaN, NaN, NaN, NaN, 41.349306, -70.788056, \"NaN\", \"NaN\", \"NaN\", \"NaN\", \"Bucket\", \"STORET-1041360123\", \"NaN\", \"as P\", \"Phosphated pesticides\", \"Total\", \"0.09\", \"mg/L\", \"NaN\", \"Final\", NaN, \"Actual\", NaN, NaN, NaN, NaN, NaN, NaN, NaN, NaN, NaN, \"NaN\", NaN, NaN, \"NaN\", NaN, NaN, NaN, NaN, NaN, NaN, \"8048\", \"HACH\", \"Reactive Phosphorus in Water\", NaN, \"https://www.nemi.gov/methods/method_summary/4828/\", \"NaN\", \"NaN\", NaN, \"NaN\", \"NaN\", NaN, \"NaN\", NaN, \"2024-09-19T09:12:54\", \"STORET\"], [975, \"WTGHA\", \"Wompanoag Tribe of Gay Head Aquinnah (Tribal)\", \"WTGHA-P1:20200806:SR:B\", \"Sample-Routine\", \"Water\", \"NaN\", \"2020-08-06\", \"NaN\", \"NaN\", \"NaN\", \"NaN\", \"NaN\", \"NaN\", NaN, \"NaN\", \"NaN\", NaN, \"NaN\", NaN, \"NaN\", \"WTGHA\", \"The Wampanoag Tribe of Gay Head Aquinnah\", \"NaN\", \"WTGHA-P1\", \"P1 | Menemsha Perimenter | Lobsterville Beach\", NaN, NaN, NaN, NaN, 41.349306, -70.788056, \"NaN\", \"NaN\", \"NaN\", \"NaN\", \"Bucket\", \"STORET-1041359913\", \"NaN\", \"as P\", \"Phosphated pesticides\", \"Total\", \"0.57\", \"mg/L\", \"NaN\", \"Final\", NaN, \"Actual\", NaN, NaN, NaN, NaN, NaN, NaN, NaN, NaN, NaN, \"NaN\", NaN, NaN, \"NaN\", NaN, NaN, NaN, NaN, NaN, NaN, \"8048\", \"HACH\", \"Reactive Phosphorus in Water\", NaN, \"https://www.nemi.gov/methods/method_summary/4828/\", \"NaN\", \"NaN\", NaN, \"NaN\", \"NaN\", NaN, \"NaN\", NaN, \"2024-09-19T09:12:53\", \"STORET\"], [996, \"WTGHA\", \"Wompanoag Tribe of Gay Head Aquinnah (Tribal)\", \"WTGHA-P2:20201015:SR:B\", \"Sample-Routine\", \"Water\", \"NaN\", \"2020-10-15\", \"NaN\", \"NaN\", \"NaN\", \"NaN\", \"NaN\", \"NaN\", NaN, \"NaN\", \"NaN\", NaN, \"NaN\", NaN, \"NaN\", \"WTGHA\", \"The Wampanoag Tribe of Gay Head Aquinnah\", \"NaN\", \"WTGHA-P2\", \"P2 | Menemsha Perimenter | Menemsha Beach\", NaN, NaN, NaN, NaN, 41.355139, -70.767083, \"NaN\", \"NaN\", \"NaN\", \"NaN\", \"Bucket\", \"STORET-1041360450\", \"NaN\", \"as P\", \"Phosphated pesticides\", \"Total\", \"0.1\", \"mg/L\", \"NaN\", \"Final\", NaN, \"Actual\", NaN, NaN, NaN, NaN, NaN, NaN, NaN, NaN, NaN, \"NaN\", NaN, NaN, \"NaN\", NaN, NaN, NaN, NaN, NaN, NaN, \"8048\", \"HACH\", \"Reactive Phosphorus in Water\", NaN, \"https://www.nemi.gov/methods/method_summary/4828/\", \"NaN\", \"NaN\", NaN, \"NaN\", \"NaN\", NaN, \"NaN\", NaN, \"2024-09-19T09:12:55\", \"STORET\"], [998, \"WTGHA\", \"Wompanoag Tribe of Gay Head Aquinnah (Tribal)\", \"WTGHA-P2:20201118:SR:B\", \"Sample-Routine\", \"Water\", \"NaN\", \"2020-11-18\", \"NaN\", \"NaN\", \"NaN\", \"NaN\", \"NaN\", \"NaN\", NaN, \"NaN\", \"NaN\", NaN, \"NaN\", NaN, \"NaN\", \"WTGHA\", \"The Wampanoag Tribe of Gay Head Aquinnah\", \"NaN\", \"WTGHA-P2\", \"P2 | Menemsha Perimenter | Menemsha Beach\", NaN, NaN, NaN, NaN, 41.355139, -70.767083, \"NaN\", \"NaN\", \"NaN\", \"NaN\", \"Bucket\", \"STORET-1041360654\", \"NaN\", \"as P\", \"Phosphated pesticides\", \"Total\", \"0.11\", \"mg/L\", \"NaN\", \"Final\", NaN, \"Actual\", NaN, NaN, NaN, NaN, NaN, NaN, NaN, NaN, NaN, \"NaN\", NaN, NaN, \"NaN\", NaN, NaN, NaN, NaN, NaN, NaN, \"8048\", \"HACH\", \"Reactive Phosphorus in Water\", NaN, \"https://www.nemi.gov/methods/method_summary/4828/\", \"NaN\", \"NaN\", NaN, \"NaN\", \"NaN\", NaN, \"NaN\", NaN, \"2024-09-19T09:12:56\", \"STORET\"], [1007, \"WTGHA\", \"Wompanoag Tribe of Gay Head Aquinnah (Tribal)\", \"WTGHA-P2:20200615:SR:B\", \"Sample-Routine\", \"Water\", \"NaN\", \"2020-06-15\", \"NaN\", \"NaN\", \"NaN\", \"NaN\", \"NaN\", \"NaN\", NaN, \"NaN\", \"NaN\", NaN, \"NaN\", NaN, \"NaN\", \"WTGHA\", \"The Wampanoag Tribe of Gay Head Aquinnah\", \"NaN\", \"WTGHA-P2\", \"P2 | Menemsha Perimenter | Menemsha Beach\", NaN, NaN, NaN, NaN, 41.355139, -70.767083, \"NaN\", \"NaN\", \"NaN\", \"NaN\", \"Bucket\", \"STORET-1041359568\", \"NaN\", \"as P\", \"Phosphated pesticides\", \"Total\", \"0.07\", \"mg/L\", \"NaN\", \"Final\", NaN, \"Actual\", NaN, NaN, NaN, NaN, NaN, NaN, NaN, NaN, NaN, \"NaN\", NaN, NaN, \"NaN\", NaN, NaN, NaN, NaN, NaN, NaN, \"8048\", \"HACH\", \"Reactive Phosphorus in Water\", NaN, \"https://www.nemi.gov/methods/method_summary/4828/\", \"NaN\", \"NaN\", NaN, \"NaN\", \"NaN\", NaN, \"NaN\", NaN, \"2024-09-19T09:12:51\", \"STORET\"], [1679, \"WTGHA\", \"Wompanoag Tribe of Gay Head Aquinnah (Tribal)\", \"WTGHA-P2:20200316:SR:B\", \"Sample-Routine\", \"Water\", \"NaN\", \"2020-03-16\", \"NaN\", \"NaN\", \"NaN\", \"NaN\", \"NaN\", \"NaN\", NaN, \"NaN\", \"NaN\", NaN, \"NaN\", NaN, \"NaN\", \"WTGHA\", \"The Wampanoag Tribe of Gay Head Aquinnah\", \"NaN\", \"WTGHA-P2\", \"P2 | Menemsha Perimenter | Menemsha Beach\", NaN, NaN, NaN, NaN, 41.355139, -70.767083, \"NaN\", \"NaN\", \"NaN\", \"NaN\", \"Bucket\", \"STORET-1041359004\", \"NaN\", \"as P\", \"Phosphated pesticides\", \"Total\", \"0.08\", \"mg/L\", \"NaN\", \"Final\", NaN, \"Actual\", NaN, NaN, NaN, NaN, NaN, NaN, NaN, NaN, NaN, \"NaN\", NaN, NaN, \"NaN\", NaN, NaN, NaN, NaN, NaN, NaN, \"8048\", \"HACH\", \"Reactive Phosphorus in Water\", NaN, \"https://www.nemi.gov/methods/method_summary/4828/\", \"NaN\", \"NaN\", NaN, \"NaN\", \"NaN\", NaN, \"NaN\", NaN, \"2024-09-19T09:12:49\", \"STORET\"], [1709, \"WTGHA\", \"Wompanoag Tribe of Gay Head Aquinnah (Tribal)\", \"WTGHA-P2:20200520:SR:B\", \"Sample-Routine\", \"Water\", \"NaN\", \"2020-05-20\", \"NaN\", \"NaN\", \"NaN\", \"NaN\", \"NaN\", \"NaN\", NaN, \"NaN\", \"NaN\", NaN, \"NaN\", NaN, \"NaN\", \"WTGHA\", \"The Wampanoag Tribe of Gay Head Aquinnah\", \"NaN\", \"WTGHA-P2\", \"P2 | Menemsha Perimenter | Menemsha Beach\", NaN, NaN, NaN, NaN, 41.355139, -70.767083, \"NaN\", \"NaN\", \"NaN\", \"NaN\", \"Bucket\", \"STORET-1041359352\", \"NaN\", \"as P\", \"Phosphated pesticides\", \"Total\", \"0.05\", \"mg/L\", \"NaN\", \"Final\", NaN, \"Actual\", NaN, NaN, NaN, NaN, NaN, NaN, NaN, NaN, NaN, \"NaN\", NaN, NaN, \"NaN\", NaN, NaN, NaN, NaN, NaN, NaN, \"8048\", \"HACH\", \"Reactive Phosphorus in Water\", NaN, \"https://www.nemi.gov/methods/method_summary/4828/\", \"NaN\", \"NaN\", NaN, \"NaN\", \"NaN\", NaN, \"NaN\", NaN, \"2024-09-19T09:12:50\", \"STORET\"], [1718, \"WTGHA\", \"Wompanoag Tribe of Gay Head Aquinnah (Tribal)\", \"WTGHA-P2:20200921:SR:B\", \"Sample-Routine\", \"Water\", \"NaN\", \"2020-09-21\", \"NaN\", \"NaN\", \"NaN\", \"NaN\", \"NaN\", \"NaN\", NaN, \"NaN\", \"NaN\", NaN, \"NaN\", NaN, \"NaN\", \"WTGHA\", \"The Wampanoag Tribe of Gay Head Aquinnah\", \"NaN\", \"WTGHA-P2\", \"P2 | Menemsha Perimenter | Menemsha Beach\", NaN, NaN, NaN, NaN, 41.355139, -70.767083, \"NaN\", \"NaN\", \"NaN\", \"NaN\", \"Bucket\", \"STORET-1041360290\", \"NaN\", \"as P\", \"Phosphated pesticides\", \"Total\", \"0.19\", \"mg/L\", \"NaN\", \"Final\", NaN, \"Actual\", NaN, NaN, NaN, NaN, NaN, NaN, NaN, NaN, NaN, \"NaN\", NaN, NaN, \"NaN\", NaN, NaN, NaN, NaN, NaN, NaN, \"8048\", \"HACH\", \"Reactive Phosphorus in Water\", NaN, \"https://www.nemi.gov/methods/method_summary/4828/\", \"NaN\", \"NaN\", NaN, \"NaN\", \"NaN\", NaN, \"NaN\", NaN, \"2024-09-19T09:12:54\", \"STORET\"], [1734, \"WTGHA\", \"Wompanoag Tribe of Gay Head Aquinnah (Tribal)\", \"WTGHA-P2:20200114:SR:B\", \"Sample-Routine\", \"Water\", \"NaN\", \"2020-01-14\", \"NaN\", \"NaN\", \"NaN\", \"NaN\", \"NaN\", \"NaN\", NaN, \"NaN\", \"NaN\", NaN, \"NaN\", NaN, \"NaN\", \"WTGHA\", \"The Wampanoag Tribe of Gay Head Aquinnah\", \"NaN\", \"WTGHA-P2\", \"P2 | Menemsha Perimenter | Menemsha Beach\", NaN, NaN, NaN, NaN, 41.355139, -70.767083, \"NaN\", \"NaN\", \"NaN\", \"NaN\", \"Bucket\", \"STORET-1041358493\", \"NaN\", \"as P\", \"Phosphated pesticides\", \"Total\", \"0.1\", \"mg/L\", \"NaN\", \"Final\", NaN, \"Actual\", NaN, NaN, NaN, NaN, NaN, NaN, NaN, NaN, NaN, \"NaN\", NaN, NaN, \"NaN\", NaN, NaN, NaN, NaN, NaN, NaN, \"8048\", \"HACH\", \"Reactive Phosphorus in Water\", NaN, \"https://www.nemi.gov/methods/method_summary/4828/\", \"NaN\", \"NaN\", NaN, \"NaN\", \"NaN\", NaN, \"NaN\", NaN, \"2024-09-19T09:12:47\", \"STORET\"], [1740, \"WTGHA\", \"Wompanoag Tribe of Gay Head Aquinnah (Tribal)\", \"WTGHA-P2:20201103:SR:B\", \"Sample-Routine\", \"Water\", \"NaN\", \"2020-11-03\", \"NaN\", \"NaN\", \"NaN\", \"NaN\", \"NaN\", \"NaN\", NaN, \"NaN\", \"NaN\", NaN, \"NaN\", NaN, \"NaN\", \"WTGHA\", \"The Wampanoag Tribe of Gay Head Aquinnah\", \"NaN\", \"WTGHA-P2\", \"P2 | Menemsha Perimenter | Menemsha Beach\", NaN, NaN, NaN, NaN, 41.355139, -70.767083, \"NaN\", \"NaN\", \"NaN\", \"NaN\", \"Bucket\", \"STORET-1041360552\", \"NaN\", \"as P\", \"Phosphated pesticides\", \"Total\", \"0.12\", \"mg/L\", \"NaN\", \"Final\", NaN, \"Actual\", NaN, NaN, NaN, NaN, NaN, NaN, NaN, NaN, NaN, \"NaN\", NaN, NaN, \"NaN\", NaN, NaN, NaN, NaN, NaN, NaN, \"8048\", \"HACH\", \"Reactive Phosphorus in Water\", NaN, \"https://www.nemi.gov/methods/method_summary/4828/\", \"NaN\", \"NaN\", NaN, \"NaN\", \"NaN\", NaN, \"NaN\", NaN, \"2024-09-19T09:12:56\", \"STORET\"], [1806, \"WTGHA\", \"Wompanoag Tribe of Gay Head Aquinnah (Tribal)\", \"WTGHA-P1:20200312:SR:B\", \"Sample-Routine\", \"Water\", \"NaN\", \"2020-03-12\", \"NaN\", \"NaN\", \"NaN\", \"NaN\", \"NaN\", \"NaN\", NaN, \"NaN\", \"NaN\", NaN, \"NaN\", NaN, \"NaN\", \"WTGHA\", \"The Wampanoag Tribe of Gay Head Aquinnah\", \"NaN\", \"WTGHA-P1\", \"P1 | Menemsha Perimenter | Lobsterville Beach\", NaN, NaN, NaN, NaN, 41.349306, -70.788056, \"NaN\", \"NaN\", \"NaN\", \"NaN\", \"Bucket\", \"STORET-1041358950\", \"NaN\", \"as P\", \"Phosphated pesticides\", \"Total\", \"0.1\", \"mg/L\", \"NaN\", \"Final\", NaN, \"Actual\", NaN, NaN, NaN, NaN, NaN, NaN, NaN, NaN, NaN, \"NaN\", NaN, NaN, \"NaN\", NaN, NaN, NaN, NaN, NaN, NaN, \"8048\", \"HACH\", \"Reactive Phosphorus in Water\", NaN, \"https://www.nemi.gov/methods/method_summary/4828/\", \"NaN\", \"NaN\", NaN, \"NaN\", \"NaN\", NaN, \"NaN\", NaN, \"2024-09-19T09:12:49\", \"STORET\"], [1808, \"WTGHA\", \"Wompanoag Tribe of Gay Head Aquinnah (Tribal)\", \"WTGHA-P2:20200713:SR:B\", \"Sample-Routine\", \"Water\", \"NaN\", \"2020-07-13\", \"NaN\", \"NaN\", \"NaN\", \"NaN\", \"NaN\", \"NaN\", NaN, \"NaN\", \"NaN\", NaN, \"NaN\", NaN, \"NaN\", \"WTGHA\", \"The Wampanoag Tribe of Gay Head Aquinnah\", \"NaN\", \"WTGHA-P2\", \"P2 | Menemsha Perimenter | Menemsha Beach\", NaN, NaN, NaN, NaN, 41.355139, -70.767083, \"NaN\", \"NaN\", \"NaN\", \"NaN\", \"Bucket\", \"STORET-1041359772\", \"NaN\", \"as P\", \"Phosphated pesticides\", \"Total\", \"0.07\", \"mg/L\", \"NaN\", \"Final\", NaN, \"Actual\", NaN, NaN, NaN, NaN, NaN, NaN, NaN, NaN, NaN, \"NaN\", NaN, NaN, \"NaN\", NaN, NaN, NaN, NaN, NaN, NaN, \"8048\", \"HACH\", \"Reactive Phosphorus in Water\", NaN, \"https://www.nemi.gov/methods/method_summary/4828/\", \"NaN\", \"NaN\", NaN, \"NaN\", \"NaN\", NaN, \"NaN\", NaN, \"2024-09-19T09:12:52\", \"STORET\"], [1813, \"WTGHA\", \"Wompanoag Tribe of Gay Head Aquinnah (Tribal)\", \"WTGHA-P1:20201109:SR:B\", \"Sample-Routine\", \"Water\", \"NaN\", \"2020-11-09\", \"NaN\", \"NaN\", \"NaN\", \"NaN\", \"NaN\", \"NaN\", NaN, \"NaN\", \"NaN\", NaN, \"NaN\", NaN, \"NaN\", \"WTGHA\", \"The Wampanoag Tribe of Gay Head Aquinnah\", \"NaN\", \"WTGHA-P1\", \"P1 | Menemsha Perimenter | Lobsterville Beach\", NaN, NaN, NaN, NaN, 41.349306, -70.788056, \"NaN\", \"NaN\", \"NaN\", \"NaN\", \"Bucket\", \"STORET-1041360600\", \"NaN\", \"as P\", \"Phosphated pesticides\", \"Total\", \"0.13\", \"mg/L\", \"NaN\", \"Final\", NaN, \"Actual\", NaN, NaN, NaN, NaN, NaN, NaN, NaN, NaN, NaN, \"NaN\", NaN, NaN, \"NaN\", NaN, NaN, NaN, NaN, NaN, NaN, \"8048\", \"HACH\", \"Reactive Phosphorus in Water\", NaN, \"https://www.nemi.gov/methods/method_summary/4828/\", \"NaN\", \"NaN\", NaN, \"NaN\", \"NaN\", NaN, \"NaN\", NaN, \"2024-09-19T09:12:56\", \"STORET\"], [1820, \"WTGHA\", \"Wompanoag Tribe of Gay Head Aquinnah (Tribal)\", \"WTGHA-P1:20200921:SR:B\", \"Sample-Routine\", \"Water\", \"NaN\", \"2020-09-21\", \"NaN\", \"NaN\", \"NaN\", \"NaN\", \"NaN\", \"NaN\", NaN, \"NaN\", \"NaN\", NaN, \"NaN\", NaN, \"NaN\", \"WTGHA\", \"The Wampanoag Tribe of Gay Head Aquinnah\", \"NaN\", \"WTGHA-P1\", \"P1 | Menemsha Perimenter | Lobsterville Beach\", NaN, NaN, NaN, NaN, 41.349306, -70.788056, \"NaN\", \"NaN\", \"NaN\", \"NaN\", \"Bucket\", \"STORET-1041360285\", \"NaN\", \"as P\", \"Phosphated pesticides\", \"Total\", \"0.03\", \"mg/L\", \"NaN\", \"Final\", NaN, \"Actual\", NaN, NaN, NaN, NaN, NaN, NaN, NaN, NaN, NaN, \"NaN\", NaN, NaN, \"NaN\", NaN, NaN, NaN, NaN, NaN, NaN, \"8048\", \"HACH\", \"Reactive Phosphorus in Water\", NaN, \"https://www.nemi.gov/methods/method_summary/4828/\", \"NaN\", \"NaN\", NaN, \"NaN\", \"NaN\", NaN, \"NaN\", NaN, \"2024-09-19T09:12:54\", \"STORET\"], [1854, \"WTGHA\", \"Wompanoag Tribe of Gay Head Aquinnah (Tribal)\", \"WTGHA-P2:20200528:SR:B\", \"Sample-Routine\", \"Water\", \"NaN\", \"2020-05-28\", \"NaN\", \"NaN\", \"NaN\", \"NaN\", \"NaN\", \"NaN\", NaN, \"NaN\", \"NaN\", NaN, \"NaN\", NaN, \"NaN\", \"WTGHA\", \"The Wampanoag Tribe of Gay Head Aquinnah\", \"NaN\", \"WTGHA-P2\", \"P2 | Menemsha Perimenter | Menemsha Beach\", NaN, NaN, NaN, NaN, 41.355139, -70.767083, \"NaN\", \"NaN\", \"NaN\", \"NaN\", \"Bucket\", \"STORET-1041359406\", \"NaN\", \"as P\", \"Phosphated pesticides\", \"Total\", \"0.06\", \"mg/L\", \"NaN\", \"Final\", NaN, \"Actual\", NaN, NaN, NaN, NaN, NaN, NaN, NaN, NaN, NaN, \"NaN\", NaN, NaN, \"NaN\", NaN, NaN, NaN, NaN, NaN, NaN, \"8048\", \"HACH\", \"Reactive Phosphorus in Water\", NaN, \"https://www.nemi.gov/methods/method_summary/4828/\", \"NaN\", \"NaN\", NaN, \"NaN\", \"NaN\", NaN, \"NaN\", NaN, \"2024-09-19T09:12:51\", \"STORET\"], [1891, \"WTGHA\", \"Wompanoag Tribe of Gay Head Aquinnah (Tribal)\", \"WTGHA-P2:20200901:SR:B\", \"Sample-Routine\", \"Water\", \"NaN\", \"2020-09-01\", \"NaN\", \"NaN\", \"NaN\", \"NaN\", \"NaN\", \"NaN\", NaN, \"NaN\", \"NaN\", NaN, \"NaN\", NaN, \"NaN\", \"WTGHA\", \"The Wampanoag Tribe of Gay Head Aquinnah\", \"NaN\", \"WTGHA-P2\", \"P2 | Menemsha Perimenter | Menemsha Beach\", NaN, NaN, NaN, NaN, 41.355139, -70.767083, \"NaN\", \"NaN\", \"NaN\", \"NaN\", \"Bucket\", \"STORET-1041360129\", \"NaN\", \"as P\", \"Phosphated pesticides\", \"Total\", \"0.08\", \"mg/L\", \"NaN\", \"Final\", NaN, \"Actual\", NaN, NaN, NaN, NaN, NaN, NaN, NaN, NaN, NaN, \"NaN\", NaN, NaN, \"NaN\", NaN, NaN, NaN, NaN, NaN, NaN, \"8048\", \"HACH\", \"Reactive Phosphorus in Water\", NaN, \"https://www.nemi.gov/methods/method_summary/4828/\", \"NaN\", \"NaN\", NaN, \"NaN\", \"NaN\", NaN, \"NaN\", NaN, \"2024-09-19T09:12:54\", \"STORET\"], [1917, \"WTGHA\", \"Wompanoag Tribe of Gay Head Aquinnah (Tribal)\", \"WTGHA-P1:20200129:SR:B\", \"Sample-Routine\", \"Water\", \"NaN\", \"2020-01-29\", \"NaN\", \"NaN\", \"NaN\", \"NaN\", \"NaN\", \"NaN\", NaN, \"NaN\", \"NaN\", NaN, \"NaN\", NaN, \"NaN\", \"WTGHA\", \"The Wampanoag Tribe of Gay Head Aquinnah\", \"NaN\", \"WTGHA-P1\", \"P1 | Menemsha Perimenter | Lobsterville Beach\", NaN, NaN, NaN, NaN, 41.349306, -70.788056, \"NaN\", \"NaN\", \"NaN\", \"NaN\", \"Bucket\", \"STORET-1041358612\", \"NaN\", \"as P\", \"Phosphated pesticides\", \"Total\", \"0.12\", \"mg/L\", \"NaN\", \"Final\", NaN, \"Actual\", NaN, NaN, NaN, NaN, NaN, NaN, NaN, NaN, NaN, \"NaN\", NaN, NaN, \"NaN\", NaN, NaN, NaN, NaN, NaN, NaN, \"8048\", \"HACH\", \"Reactive Phosphorus in Water\", NaN, \"https://www.nemi.gov/methods/method_summary/4828/\", \"NaN\", \"NaN\", NaN, \"NaN\", \"NaN\", NaN, \"NaN\", NaN, \"2024-09-19T09:12:47\", \"STORET\"], [2208, \"WTGHA\", \"Wompanoag Tribe of Gay Head Aquinnah (Tribal)\", \"WTGHA-P2:20210217:SR:B\", \"Sample-Routine\", \"Water\", \"NaN\", \"2021-02-17\", \"NaN\", \"NaN\", \"NaN\", \"NaN\", \"NaN\", \"NaN\", NaN, \"NaN\", \"NaN\", NaN, \"NaN\", NaN, \"NaN\", \"WTGHA\", \"The Wampanoag Tribe of Gay Head Aquinnah\", \"NaN\", \"WTGHA-P2\", \"P2 | Menemsha Perimenter | Menemsha Beach\", NaN, NaN, NaN, NaN, 41.355139, -70.767083, \"NaN\", \"NaN\", \"NaN\", \"NaN\", \"Bucket\", \"STORET-1041360816\", \"NaN\", \"as P\", \"Phosphated pesticides\", \"Total\", \"0.11\", \"mg/L\", \"NaN\", \"Final\", NaN, \"Actual\", NaN, NaN, NaN, NaN, NaN, NaN, NaN, NaN, NaN, \"NaN\", NaN, NaN, \"NaN\", NaN, NaN, NaN, NaN, NaN, NaN, \"8048\", \"HACH\", \"Reactive Phosphorus in Water\", NaN, \"https://www.nemi.gov/methods/method_summary/4828/\", \"NaN\", \"NaN\", NaN, \"NaN\", \"NaN\", NaN, \"NaN\", NaN, \"2024-09-19T09:12:57\", \"STORET\"], [2323, \"WTGHA\", \"Wompanoag Tribe of Gay Head Aquinnah (Tribal)\", \"WTGHA-P2:20210624:SR:B\", \"Sample-Routine\", \"Water\", \"NaN\", \"2021-06-24\", \"NaN\", \"NaN\", \"NaN\", \"NaN\", \"NaN\", \"NaN\", NaN, \"NaN\", \"NaN\", NaN, \"NaN\", NaN, \"NaN\", \"WTGHA\", \"The Wampanoag Tribe of Gay Head Aquinnah\", \"NaN\", \"WTGHA-P2\", \"P2 | Menemsha Perimenter | Menemsha Beach\", NaN, NaN, NaN, NaN, 41.355139, -70.767083, \"NaN\", \"NaN\", \"NaN\", \"NaN\", \"Bucket\", \"STORET-1041360994\", \"NaN\", \"as P\", \"Phosphated pesticides\", \"Total\", \"0.06\", \"mg/L\", \"NaN\", \"Final\", NaN, \"Actual\", NaN, NaN, NaN, NaN, NaN, NaN, NaN, NaN, NaN, \"NaN\", NaN, NaN, \"NaN\", NaN, NaN, NaN, NaN, NaN, NaN, \"8048\", \"HACH\", \"Reactive Phosphorus in Water\", NaN, \"https://www.nemi.gov/methods/method_summary/4828/\", \"NaN\", \"NaN\", NaN, \"NaN\", \"NaN\", NaN, \"NaN\", NaN, \"2024-09-19T09:12:58\", \"STORET\"], [2388, \"WTGHA\", \"Wompanoag Tribe of Gay Head Aquinnah (Tribal)\", \"WTGHA-P1:20210914:SR:B\", \"Sample-Routine\", \"Water\", \"NaN\", \"2021-09-14\", \"NaN\", \"NaN\", \"NaN\", \"NaN\", \"NaN\", \"NaN\", NaN, \"NaN\", \"NaN\", NaN, \"NaN\", NaN, \"NaN\", \"WTGHA\", \"The Wampanoag Tribe of Gay Head Aquinnah\", \"NaN\", \"WTGHA-P1\", \"P1 | Menemsha Perimenter | Lobsterville Beach\", NaN, NaN, NaN, NaN, 41.349306, -70.788056, \"NaN\", \"NaN\", \"NaN\", \"NaN\", \"Bucket\", \"STORET-1041361179\", \"NaN\", \"as P\", \"Phosphated pesticides\", \"Total\", \"0.1\", \"mg/L\", \"NaN\", \"Final\", NaN, \"Actual\", NaN, NaN, NaN, NaN, NaN, NaN, NaN, NaN, NaN, \"NaN\", NaN, NaN, \"NaN\", NaN, NaN, NaN, NaN, NaN, NaN, \"8048\", \"HACH\", \"Reactive Phosphorus in Water\", NaN, \"https://www.nemi.gov/methods/method_summary/4828/\", \"NaN\", \"NaN\", NaN, \"NaN\", \"NaN\", NaN, \"NaN\", NaN, \"2024-09-19T09:12:59\", \"STORET\"], [2396, \"WTGHA\", \"Wompanoag Tribe of Gay Head Aquinnah (Tribal)\", \"WTGHA-P2:20210914:SR:B\", \"Sample-Routine\", \"Water\", \"NaN\", \"2021-09-14\", \"NaN\", \"NaN\", \"NaN\", \"NaN\", \"NaN\", \"NaN\", NaN, \"NaN\", \"NaN\", NaN, \"NaN\", NaN, \"NaN\", \"WTGHA\", \"The Wampanoag Tribe of Gay Head Aquinnah\", \"NaN\", \"WTGHA-P2\", \"P2 | Menemsha Perimenter | Menemsha Beach\", NaN, NaN, NaN, NaN, 41.355139, -70.767083, \"NaN\", \"NaN\", \"NaN\", \"NaN\", \"Bucket\", \"STORET-1041361184\", \"NaN\", \"as P\", \"Phosphated pesticides\", \"Total\", \"0.11\", \"mg/L\", \"NaN\", \"Final\", NaN, \"Actual\", NaN, NaN, NaN, NaN, NaN, NaN, NaN, NaN, NaN, \"NaN\", NaN, NaN, \"NaN\", NaN, NaN, NaN, NaN, NaN, NaN, \"8048\", \"HACH\", \"Reactive Phosphorus in Water\", NaN, \"https://www.nemi.gov/methods/method_summary/4828/\", \"NaN\", \"NaN\", NaN, \"NaN\", \"NaN\", NaN, \"NaN\", NaN, \"2024-09-19T09:12:59\", \"STORET\"], [2462, \"WTGHA\", \"Wompanoag Tribe of Gay Head Aquinnah (Tribal)\", \"WTGHA-P1:20210624:SR:B\", \"Sample-Routine\", \"Water\", \"NaN\", \"2021-06-24\", \"NaN\", \"NaN\", \"NaN\", \"NaN\", \"NaN\", \"NaN\", NaN, \"NaN\", \"NaN\", NaN, \"NaN\", NaN, \"NaN\", \"WTGHA\", \"The Wampanoag Tribe of Gay Head Aquinnah\", \"NaN\", \"WTGHA-P1\", \"P1 | Menemsha Perimenter | Lobsterville Beach\", NaN, NaN, NaN, NaN, 41.349306, -70.788056, \"NaN\", \"NaN\", \"NaN\", \"NaN\", \"Bucket\", \"STORET-1041360989\", \"NaN\", \"as P\", \"Phosphated pesticides\", \"Total\", \"0.11\", \"mg/L\", \"NaN\", \"Final\", NaN, \"Actual\", NaN, NaN, NaN, NaN, NaN, NaN, NaN, NaN, NaN, \"NaN\", NaN, NaN, \"NaN\", NaN, NaN, NaN, NaN, NaN, NaN, \"8048\", \"HACH\", \"Reactive Phosphorus in Water\", NaN, \"https://www.nemi.gov/methods/method_summary/4828/\", \"NaN\", \"NaN\", NaN, \"NaN\", \"NaN\", NaN, \"NaN\", NaN, \"2024-09-19T09:12:58\", \"STORET\"], [2466, \"WTGHA\", \"Wompanoag Tribe of Gay Head Aquinnah (Tribal)\", \"WTGHA-P2:20210119:SR:B\", \"Sample-Routine\", \"Water\", \"NaN\", \"2021-01-19\", \"NaN\", \"NaN\", \"NaN\", \"NaN\", \"NaN\", \"NaN\", NaN, \"NaN\", \"NaN\", NaN, \"NaN\", NaN, \"NaN\", \"WTGHA\", \"The Wampanoag Tribe of Gay Head Aquinnah\", \"NaN\", \"WTGHA-P2\", \"P2 | Menemsha Perimenter | Menemsha Beach\", NaN, NaN, NaN, NaN, 41.355139, -70.767083, \"NaN\", \"NaN\", \"NaN\", \"NaN\", \"Bucket\", \"STORET-1041360762\", \"NaN\", \"as P\", \"Phosphated pesticides\", \"Total\", \"0.09\", \"mg/L\", \"NaN\", \"Final\", NaN, \"Actual\", NaN, NaN, NaN, NaN, NaN, NaN, NaN, NaN, NaN, \"NaN\", NaN, NaN, \"NaN\", NaN, NaN, NaN, NaN, NaN, NaN, \"8048\", \"HACH\", \"Reactive Phosphorus in Water\", NaN, \"https://www.nemi.gov/methods/method_summary/4828/\", \"NaN\", \"NaN\", NaN, \"NaN\", \"NaN\", NaN, \"NaN\", NaN, \"2024-09-19T09:12:57\", \"STORET\"], [2485, \"WTGHA\", \"Wompanoag Tribe of Gay Head Aquinnah (Tribal)\", \"WTGHA-P2:20210426:SR:B\", \"Sample-Routine\", \"Water\", \"NaN\", \"2021-04-26\", \"NaN\", \"NaN\", \"NaN\", \"NaN\", \"NaN\", \"NaN\", NaN, \"NaN\", \"NaN\", NaN, \"NaN\", NaN, \"NaN\", \"WTGHA\", \"The Wampanoag Tribe of Gay Head Aquinnah\", \"NaN\", \"WTGHA-P2\", \"P2 | Menemsha Perimenter | Menemsha Beach\", NaN, NaN, NaN, NaN, 41.355139, -70.767083, \"NaN\", \"NaN\", \"NaN\", \"NaN\", \"Bucket\", \"STORET-1041360897\", \"NaN\", \"as P\", \"Phosphated pesticides\", \"Total\", \"0.06\", \"mg/L\", \"NaN\", \"Final\", NaN, \"Actual\", NaN, NaN, NaN, NaN, NaN, NaN, NaN, NaN, NaN, \"NaN\", NaN, NaN, \"NaN\", NaN, NaN, NaN, NaN, NaN, NaN, \"8048\", \"HACH\", \"Reactive Phosphorus in Water\", NaN, \"https://www.nemi.gov/methods/method_summary/4828/\", \"NaN\", \"NaN\", NaN, \"NaN\", \"NaN\", NaN, \"NaN\", NaN, \"2024-09-19T09:12:57\", \"STORET\"], [2719, \"WTGHA\", \"Wompanoag Tribe of Gay Head Aquinnah (Tribal)\", \"WTGHA-P1:20210524:SR:B\", \"Sample-Routine\", \"Water\", \"NaN\", \"2021-05-24\", \"NaN\", \"NaN\", \"NaN\", \"NaN\", \"NaN\", \"NaN\", NaN, \"NaN\", \"NaN\", NaN, \"NaN\", NaN, \"NaN\", \"WTGHA\", \"The Wampanoag Tribe of Gay Head Aquinnah\", \"NaN\", \"WTGHA-P1\", \"P1 | Menemsha Perimenter | Lobsterville Beach\", NaN, NaN, NaN, NaN, 41.349306, -70.788056, \"NaN\", \"NaN\", \"NaN\", \"NaN\", \"Bucket\", \"STORET-1041360944\", \"NaN\", \"as P\", \"Phosphated pesticides\", \"Total\", \"0.22\", \"mg/L\", \"NaN\", \"Final\", NaN, \"Actual\", NaN, NaN, NaN, NaN, NaN, NaN, NaN, NaN, NaN, \"NaN\", NaN, NaN, \"NaN\", NaN, NaN, NaN, NaN, NaN, NaN, \"8048\", \"HACH\", \"Reactive Phosphorus in Water\", NaN, \"https://www.nemi.gov/methods/method_summary/4828/\", \"NaN\", \"NaN\", NaN, \"NaN\", \"NaN\", NaN, \"NaN\", NaN, \"2024-09-19T09:12:57\", \"STORET\"], [2872, \"WTGHA\", \"Wompanoag Tribe of Gay Head Aquinnah (Tribal)\", \"WTGHA-P1:20210809:SR:B\", \"Sample-Routine\", \"Water\", \"NaN\", \"2021-08-09\", \"NaN\", \"NaN\", \"NaN\", \"NaN\", \"NaN\", \"NaN\", NaN, \"NaN\", \"NaN\", NaN, \"NaN\", NaN, \"NaN\", \"WTGHA\", \"The Wampanoag Tribe of Gay Head Aquinnah\", \"NaN\", \"WTGHA-P1\", \"P1 | Menemsha Perimenter | Lobsterville Beach\", NaN, NaN, NaN, NaN, 41.349306, -70.788056, \"NaN\", \"NaN\", \"NaN\", \"NaN\", \"Bucket\", \"STORET-1041361134\", \"NaN\", \"as P\", \"Phosphated pesticides\", \"Total\", \"0.11\", \"mg/L\", \"NaN\", \"Final\", NaN, \"Actual\", NaN, NaN, NaN, NaN, NaN, NaN, NaN, NaN, NaN, \"NaN\", NaN, NaN, \"NaN\", NaN, NaN, NaN, NaN, NaN, NaN, \"8048\", \"HACH\", \"Reactive Phosphorus in Water\", NaN, \"https://www.nemi.gov/methods/method_summary/4828/\", \"NaN\", \"NaN\", NaN, \"NaN\", \"NaN\", NaN, \"NaN\", NaN, \"2024-09-19T09:12:58\", \"STORET\"], [3039, \"WTGHA\", \"Wompanoag Tribe of Gay Head Aquinnah (Tribal)\", \"WTGHA-P1:20210217:SR:B\", \"Sample-Routine\", \"Water\", \"NaN\", \"2021-02-17\", \"NaN\", \"NaN\", \"NaN\", \"NaN\", \"NaN\", \"NaN\", NaN, \"NaN\", \"NaN\", NaN, \"NaN\", NaN, \"NaN\", \"WTGHA\", \"The Wampanoag Tribe of Gay Head Aquinnah\", \"NaN\", \"WTGHA-P1\", \"P1 | Menemsha Perimenter | Lobsterville Beach\", NaN, NaN, NaN, NaN, 41.349306, -70.788056, \"NaN\", \"NaN\", \"NaN\", \"NaN\", \"Bucket\", \"STORET-1041360810\", \"NaN\", \"as P\", \"Phosphated pesticides\", \"Total\", \"0.13\", \"mg/L\", \"NaN\", \"Final\", NaN, \"Actual\", NaN, NaN, NaN, NaN, NaN, NaN, NaN, NaN, NaN, \"NaN\", NaN, NaN, \"NaN\", NaN, NaN, NaN, NaN, NaN, NaN, \"8048\", \"HACH\", \"Reactive Phosphorus in Water\", NaN, \"https://www.nemi.gov/methods/method_summary/4828/\", \"NaN\", \"NaN\", NaN, \"NaN\", \"NaN\", NaN, \"NaN\", NaN, \"2024-09-19T09:12:57\", \"STORET\"], [3063, \"WTGHA\", \"Wompanoag Tribe of Gay Head Aquinnah (Tribal)\", \"WTGHA-P1:20210426:SR:B\", \"Sample-Routine\", \"Water\", \"NaN\", \"2021-04-26\", \"NaN\", \"NaN\", \"NaN\", \"NaN\", \"NaN\", \"NaN\", NaN, \"NaN\", \"NaN\", NaN, \"NaN\", NaN, \"NaN\", \"WTGHA\", \"The Wampanoag Tribe of Gay Head Aquinnah\", \"NaN\", \"WTGHA-P1\", \"P1 | Menemsha Perimenter | Lobsterville Beach\", NaN, NaN, NaN, NaN, 41.349306, -70.788056, \"NaN\", \"NaN\", \"NaN\", \"NaN\", \"Bucket\", \"STORET-1041360891\", \"NaN\", \"as P\", \"Phosphated pesticides\", \"Total\", \"0.18\", \"mg/L\", \"NaN\", \"Final\", NaN, \"Actual\", NaN, NaN, NaN, NaN, NaN, NaN, NaN, NaN, NaN, \"NaN\", NaN, NaN, \"NaN\", NaN, NaN, NaN, NaN, NaN, NaN, \"8048\", \"HACH\", \"Reactive Phosphorus in Water\", NaN, \"https://www.nemi.gov/methods/method_summary/4828/\", \"NaN\", \"NaN\", NaN, \"NaN\", \"NaN\", NaN, \"NaN\", NaN, \"2024-09-19T09:12:57\", \"STORET\"], [3117, \"WTGHA\", \"Wompanoag Tribe of Gay Head Aquinnah (Tribal)\", \"WTGHA-P1:20210119:SR:B\", \"Sample-Routine\", \"Water\", \"NaN\", \"2021-01-19\", \"NaN\", \"NaN\", \"NaN\", \"NaN\", \"NaN\", \"NaN\", NaN, \"NaN\", \"NaN\", NaN, \"NaN\", NaN, \"NaN\", \"WTGHA\", \"The Wampanoag Tribe of Gay Head Aquinnah\", \"NaN\", \"WTGHA-P1\", \"P1 | Menemsha Perimenter | Lobsterville Beach\", NaN, NaN, NaN, NaN, 41.349306, -70.788056, \"NaN\", \"NaN\", \"NaN\", \"NaN\", \"Bucket\", \"STORET-1041360756\", \"NaN\", \"as P\", \"Phosphated pesticides\", \"Total\", \"0.22\", \"mg/L\", \"NaN\", \"Final\", NaN, \"Actual\", NaN, NaN, NaN, NaN, NaN, NaN, NaN, NaN, NaN, \"NaN\", NaN, NaN, \"NaN\", NaN, NaN, NaN, NaN, NaN, NaN, \"8048\", \"HACH\", \"Reactive Phosphorus in Water\", NaN, \"https://www.nemi.gov/methods/method_summary/4828/\", \"NaN\", \"NaN\", NaN, \"NaN\", \"NaN\", NaN, \"NaN\", NaN, \"2024-09-19T09:12:57\", \"STORET\"], [3297, \"WTGHA\", \"Wompanoag Tribe of Gay Head Aquinnah (Tribal)\", \"WTGHA-P2:20210524:SR:B\", \"Sample-Routine\", \"Water\", \"NaN\", \"2021-05-24\", \"NaN\", \"NaN\", \"NaN\", \"NaN\", \"NaN\", \"NaN\", NaN, \"NaN\", \"NaN\", NaN, \"NaN\", NaN, \"NaN\", \"WTGHA\", \"The Wampanoag Tribe of Gay Head Aquinnah\", \"NaN\", \"WTGHA-P2\", \"P2 | Menemsha Perimenter | Menemsha Beach\", NaN, NaN, NaN, NaN, 41.355139, -70.767083, \"NaN\", \"NaN\", \"NaN\", \"NaN\", \"Bucket\", \"STORET-1041360949\", \"NaN\", \"as P\", \"Phosphated pesticides\", \"Total\", \"0.07\", \"mg/L\", \"NaN\", \"Final\", NaN, \"Actual\", NaN, NaN, NaN, NaN, NaN, NaN, NaN, NaN, NaN, \"NaN\", NaN, NaN, \"NaN\", NaN, NaN, NaN, NaN, NaN, NaN, \"8048\", \"HACH\", \"Reactive Phosphorus in Water\", NaN, \"https://www.nemi.gov/methods/method_summary/4828/\", \"NaN\", \"NaN\", NaN, \"NaN\", \"NaN\", NaN, \"NaN\", NaN, \"2024-09-19T09:12:57\", \"STORET\"], [3326, \"WTGHA\", \"Wompanoag Tribe of Gay Head Aquinnah (Tribal)\", \"WTGHA-P2:20210809:SR:B\", \"Sample-Routine\", \"Water\", \"NaN\", \"2021-08-09\", \"NaN\", \"NaN\", \"NaN\", \"NaN\", \"NaN\", \"NaN\", NaN, \"NaN\", \"NaN\", NaN, \"NaN\", NaN, \"NaN\", \"WTGHA\", \"The Wampanoag Tribe of Gay Head Aquinnah\", \"NaN\", \"WTGHA-P2\", \"P2 | Menemsha Perimenter | Menemsha Beach\", NaN, NaN, NaN, NaN, 41.355139, -70.767083, \"NaN\", \"NaN\", \"NaN\", \"NaN\", \"Bucket\", \"STORET-1041361139\", \"NaN\", \"as P\", \"Phosphated pesticides\", \"Total\", \"0.12\", \"mg/L\", \"NaN\", \"Final\", NaN, \"Actual\", NaN, NaN, NaN, NaN, NaN, NaN, NaN, NaN, NaN, \"NaN\", NaN, NaN, \"NaN\", NaN, NaN, NaN, NaN, NaN, NaN, \"8048\", \"HACH\", \"Reactive Phosphorus in Water\", NaN, \"https://www.nemi.gov/methods/method_summary/4828/\", \"NaN\", \"NaN\", NaN, \"NaN\", \"NaN\", NaN, \"NaN\", NaN, \"2024-09-19T09:12:58\", \"STORET\"], [3466, \"WTGHA\", \"Wompanoag Tribe of Gay Head Aquinnah (Tribal)\", \"WTGHA-P2:20220222:SR:B\", \"Sample-Routine\", \"Water\", \"NaN\", \"2022-02-22\", \"NaN\", \"NaN\", \"NaN\", \"NaN\", \"NaN\", \"NaN\", NaN, \"NaN\", \"NaN\", NaN, \"NaN\", NaN, \"NaN\", \"WTGHA\", \"The Wampanoag Tribe of Gay Head Aquinnah\", \"NaN\", \"WTGHA-P2\", \"P2 | Menemsha Perimenter | Menemsha Beach\", NaN, NaN, NaN, NaN, 41.355139, -70.767083, \"NaN\", \"NaN\", \"NaN\", \"NaN\", \"Bucket\", \"STORET-1041361341\", \"NaN\", \"as P\", \"Phosphated pesticides\", \"Total\", \"0.13\", \"mg/L\", \"NaN\", \"Final\", NaN, \"Actual\", NaN, NaN, NaN, NaN, NaN, NaN, NaN, NaN, NaN, \"NaN\", NaN, NaN, \"NaN\", NaN, NaN, NaN, NaN, NaN, NaN, \"8048\", \"HACH\", \"Reactive Phosphorus in Water\", NaN, \"https://www.nemi.gov/methods/method_summary/4828/\", \"NaN\", \"NaN\", NaN, \"NaN\", \"NaN\", NaN, \"NaN\", NaN, \"2024-09-19T09:12:59\", \"STORET\"], [3477, \"WTGHA\", \"Wompanoag Tribe of Gay Head Aquinnah (Tribal)\", \"WTGHA-P1:20220613:SR:B\", \"Sample-Routine\", \"Water\", \"NaN\", \"2022-06-13\", \"NaN\", \"NaN\", \"NaN\", \"NaN\", \"NaN\", \"NaN\", NaN, \"NaN\", \"NaN\", NaN, \"NaN\", NaN, \"NaN\", \"WTGHA\", \"The Wampanoag Tribe of Gay Head Aquinnah\", \"NaN\", \"WTGHA-P1\", \"P1 | Menemsha Perimenter | Lobsterville Beach\", NaN, NaN, NaN, NaN, 41.349306, -70.788056, \"NaN\", \"NaN\", \"NaN\", \"NaN\", \"Bucket\", \"STORET-1041361426\", \"NaN\", \"as P\", \"Phosphated pesticides\", \"Total\", \"0.11\", \"mg/L\", \"NaN\", \"Final\", NaN, \"Actual\", NaN, NaN, NaN, NaN, NaN, NaN, NaN, NaN, NaN, \"NaN\", NaN, NaN, \"NaN\", NaN, NaN, NaN, NaN, NaN, NaN, \"8048\", \"HACH\", \"Reactive Phosphorus in Water\", NaN, \"https://www.nemi.gov/methods/method_summary/4828/\", \"NaN\", \"NaN\", NaN, \"NaN\", \"NaN\", NaN, \"NaN\", NaN, \"2024-09-19T09:13:00\", \"STORET\"], [3905, \"WTGHA\", \"Wompanoag Tribe of Gay Head Aquinnah (Tribal)\", \"WTGHA-P2:20220801:SR:B\", \"Sample-Routine\", \"Water\", \"NaN\", \"2022-08-01\", \"NaN\", \"NaN\", \"NaN\", \"NaN\", \"NaN\", \"NaN\", NaN, \"NaN\", \"NaN\", NaN, \"NaN\", NaN, \"NaN\", \"WTGHA\", \"The Wampanoag Tribe of Gay Head Aquinnah\", \"NaN\", \"WTGHA-P2\", \"P2 | Menemsha Perimenter | Menemsha Beach\", NaN, NaN, NaN, NaN, 41.355139, -70.767083, \"NaN\", \"NaN\", \"NaN\", \"NaN\", \"Bucket\", \"STORET-1041361662\", \"NaN\", \"as P\", \"Phosphated pesticides\", \"Total\", \"0.09\", \"mg/L\", \"NaN\", \"Final\", NaN, \"Actual\", NaN, NaN, NaN, NaN, NaN, NaN, NaN, NaN, NaN, \"NaN\", NaN, NaN, \"NaN\", NaN, NaN, NaN, NaN, NaN, NaN, \"8048\", \"HACH\", \"Reactive Phosphorus in Water\", NaN, \"https://www.nemi.gov/methods/method_summary/4828/\", \"NaN\", \"NaN\", NaN, \"NaN\", \"NaN\", NaN, \"NaN\", NaN, \"2024-09-19T09:13:01\", \"STORET\"], [4080, \"WTGHA\", \"Wompanoag Tribe of Gay Head Aquinnah (Tribal)\", \"WTGHA-P1:20220801:SR:B\", \"Sample-Routine\", \"Water\", \"NaN\", \"2022-08-01\", \"NaN\", \"NaN\", \"NaN\", \"NaN\", \"NaN\", \"NaN\", NaN, \"NaN\", \"NaN\", NaN, \"NaN\", NaN, \"NaN\", \"WTGHA\", \"The Wampanoag Tribe of Gay Head Aquinnah\", \"NaN\", \"WTGHA-P1\", \"P1 | Menemsha Perimenter | Lobsterville Beach\", NaN, NaN, NaN, NaN, 41.349306, -70.788056, \"NaN\", \"NaN\", \"NaN\", \"NaN\", \"Bucket\", \"STORET-1041361658\", \"NaN\", \"as P\", \"Phosphated pesticides\", \"Total\", \"0.1\", \"mg/L\", \"NaN\", \"Final\", NaN, \"Actual\", NaN, NaN, NaN, NaN, NaN, NaN, NaN, NaN, NaN, \"NaN\", NaN, NaN, \"NaN\", NaN, NaN, NaN, NaN, NaN, NaN, \"8048\", \"HACH\", \"Reactive Phosphorus in Water\", NaN, \"https://www.nemi.gov/methods/method_summary/4828/\", \"NaN\", \"NaN\", NaN, \"NaN\", \"NaN\", NaN, \"NaN\", NaN, \"2024-09-19T09:13:01\", \"STORET\"], [4234, \"WTGHA\", \"Wompanoag Tribe of Gay Head Aquinnah (Tribal)\", \"WTGHA-P2:20220613:SR:B\", \"Sample-Routine\", \"Water\", \"NaN\", \"2022-06-13\", \"NaN\", \"NaN\", \"NaN\", \"NaN\", \"NaN\", \"NaN\", NaN, \"NaN\", \"NaN\", NaN, \"NaN\", NaN, \"NaN\", \"WTGHA\", \"The Wampanoag Tribe of Gay Head Aquinnah\", \"NaN\", \"WTGHA-P2\", \"P2 | Menemsha Perimenter | Menemsha Beach\", NaN, NaN, NaN, NaN, 41.355139, -70.767083, \"NaN\", \"NaN\", \"NaN\", \"NaN\", \"Bucket\", \"STORET-1041361431\", \"NaN\", \"as P\", \"Phosphated pesticides\", \"Total\", \"0.18\", \"mg/L\", \"NaN\", \"Final\", NaN, \"Actual\", NaN, NaN, NaN, NaN, NaN, NaN, NaN, NaN, NaN, \"NaN\", NaN, NaN, \"NaN\", NaN, NaN, NaN, NaN, NaN, NaN, \"8048\", \"HACH\", \"Reactive Phosphorus in Water\", NaN, \"https://www.nemi.gov/methods/method_summary/4828/\", \"NaN\", \"NaN\", NaN, \"NaN\", \"NaN\", NaN, \"NaN\", NaN, \"2024-09-19T09:13:00\", \"STORET\"], [4247, \"WTGHA\", \"Wompanoag Tribe of Gay Head Aquinnah (Tribal)\", \"WTGHA-P2:20220705:SR:B\", \"Sample-Routine\", \"Water\", \"NaN\", \"2022-07-05\", \"NaN\", \"NaN\", \"NaN\", \"NaN\", \"NaN\", \"NaN\", NaN, \"NaN\", \"NaN\", NaN, \"NaN\", NaN, \"NaN\", \"WTGHA\", \"The Wampanoag Tribe of Gay Head Aquinnah\", \"NaN\", \"WTGHA-P2\", \"P2 | Menemsha Perimenter | Menemsha Beach\", NaN, NaN, NaN, NaN, 41.355139, -70.767083, \"NaN\", \"NaN\", \"NaN\", \"NaN\", \"Bucket\", \"STORET-1041361538\", \"NaN\", \"as P\", \"Phosphated pesticides\", \"Total\", \"0.07\", \"mg/L\", \"NaN\", \"Final\", NaN, \"Actual\", NaN, NaN, NaN, NaN, NaN, NaN, NaN, NaN, NaN, \"NaN\", NaN, NaN, \"NaN\", NaN, NaN, NaN, NaN, NaN, NaN, \"8048\", \"HACH\", \"Reactive Phosphorus in Water\", NaN, \"https://www.nemi.gov/methods/method_summary/4828/\", \"NaN\", \"NaN\", NaN, \"NaN\", \"NaN\", NaN, \"NaN\", NaN, \"2024-09-19T09:13:01\", \"STORET\"], [4293, \"WTGHA\", \"Wompanoag Tribe of Gay Head Aquinnah (Tribal)\", \"WTGHA-P1:20220105:SR:B\", \"Sample-Routine\", \"Water\", \"NaN\", \"2022-01-05\", \"NaN\", \"NaN\", \"NaN\", \"NaN\", \"NaN\", \"NaN\", NaN, \"NaN\", \"NaN\", NaN, \"NaN\", NaN, \"NaN\", \"WTGHA\", \"The Wampanoag Tribe of Gay Head Aquinnah\", \"NaN\", \"WTGHA-P1\", \"P1 | Menemsha Perimenter | Lobsterville Beach\", NaN, NaN, NaN, NaN, 41.349306, -70.788056, \"NaN\", \"NaN\", \"NaN\", \"NaN\", \"Bucket\", \"STORET-1041361294\", \"NaN\", \"as P\", \"Phosphated pesticides\", \"Total\", \"0.12\", \"mg/L\", \"NaN\", \"Final\", NaN, \"Actual\", NaN, NaN, NaN, NaN, NaN, NaN, NaN, NaN, NaN, \"NaN\", NaN, NaN, \"NaN\", NaN, NaN, NaN, NaN, NaN, NaN, \"8048\", \"HACH\", \"Reactive Phosphorus in Water\", NaN, \"https://www.nemi.gov/methods/method_summary/4828/\", \"NaN\", \"NaN\", NaN, \"NaN\", \"NaN\", NaN, \"NaN\", NaN, \"2024-09-19T09:12:59\", \"STORET\"], [4590, \"WTGHA\", \"Wompanoag Tribe of Gay Head Aquinnah (Tribal)\", \"WTGHA-P2:20220412:SR:B\", \"Sample-Routine\", \"Water\", \"NaN\", \"2022-04-12\", \"NaN\", \"NaN\", \"NaN\", \"NaN\", \"NaN\", \"NaN\", NaN, \"NaN\", \"NaN\", NaN, \"NaN\", NaN, \"NaN\", \"WTGHA\", \"The Wampanoag Tribe of Gay Head Aquinnah\", \"NaN\", \"WTGHA-P2\", \"P2 | Menemsha Perimenter | Menemsha Beach\", NaN, NaN, NaN, NaN, 41.355139, -70.767083, \"NaN\", \"NaN\", \"NaN\", \"NaN\", \"Bucket\", \"STORET-1041361394\", \"NaN\", \"as P\", \"Phosphated pesticides\", \"Total\", \"0.07\", \"mg/L\", \"NaN\", \"Final\", NaN, \"Actual\", NaN, NaN, NaN, NaN, NaN, NaN, NaN, NaN, NaN, \"NaN\", NaN, NaN, \"NaN\", NaN, NaN, NaN, NaN, NaN, NaN, \"8048\", \"HACH\", \"Reactive Phosphorus in Water\", NaN, \"https://www.nemi.gov/methods/method_summary/4828/\", \"NaN\", \"NaN\", NaN, \"NaN\", \"NaN\", NaN, \"NaN\", NaN, \"2024-09-19T09:13:00\", \"STORET\"], [4637, \"WTGHA\", \"Wompanoag Tribe of Gay Head Aquinnah (Tribal)\", \"WTGHA-P1:20220412:SR:B\", \"Sample-Routine\", \"Water\", \"NaN\", \"2022-04-12\", \"NaN\", \"NaN\", \"NaN\", \"NaN\", \"NaN\", \"NaN\", NaN, \"NaN\", \"NaN\", NaN, \"NaN\", NaN, \"NaN\", \"WTGHA\", \"The Wampanoag Tribe of Gay Head Aquinnah\", \"NaN\", \"WTGHA-P1\", \"P1 | Menemsha Perimenter | Lobsterville Beach\", NaN, NaN, NaN, NaN, 41.349306, -70.788056, \"NaN\", \"NaN\", \"NaN\", \"NaN\", \"Bucket\", \"STORET-1041361390\", \"NaN\", \"as P\", \"Phosphated pesticides\", \"Total\", \"0.08\", \"mg/L\", \"NaN\", \"Final\", NaN, \"Actual\", NaN, NaN, NaN, NaN, NaN, NaN, NaN, NaN, NaN, \"NaN\", NaN, NaN, \"NaN\", NaN, NaN, NaN, NaN, NaN, NaN, \"8048\", \"HACH\", \"Reactive Phosphorus in Water\", NaN, \"https://www.nemi.gov/methods/method_summary/4828/\", \"NaN\", \"NaN\", NaN, \"NaN\", \"NaN\", NaN, \"NaN\", NaN, \"2024-09-19T09:13:00\", \"STORET\"], [4777, \"WTGHA\", \"Wompanoag Tribe of Gay Head Aquinnah (Tribal)\", \"WTGHA-P1:20220705:SR:B\", \"Sample-Routine\", \"Water\", \"NaN\", \"2022-07-05\", \"NaN\", \"NaN\", \"NaN\", \"NaN\", \"NaN\", \"NaN\", NaN, \"NaN\", \"NaN\", NaN, \"NaN\", NaN, \"NaN\", \"WTGHA\", \"The Wampanoag Tribe of Gay Head Aquinnah\", \"NaN\", \"WTGHA-P1\", \"P1 | Menemsha Perimenter | Lobsterville Beach\", NaN, NaN, NaN, NaN, 41.349306, -70.788056, \"NaN\", \"NaN\", \"NaN\", \"NaN\", \"Bucket\", \"STORET-1041361534\", \"NaN\", \"as P\", \"Phosphated pesticides\", \"Total\", \"0.05\", \"mg/L\", \"NaN\", \"Final\", NaN, \"Actual\", NaN, NaN, NaN, NaN, NaN, NaN, NaN, NaN, NaN, \"NaN\", NaN, NaN, \"NaN\", NaN, NaN, NaN, NaN, NaN, NaN, \"8048\", \"HACH\", \"Reactive Phosphorus in Water\", NaN, \"https://www.nemi.gov/methods/method_summary/4828/\", \"NaN\", \"NaN\", NaN, \"NaN\", \"NaN\", NaN, \"NaN\", NaN, \"2024-09-19T09:13:01\", \"STORET\"], [4857, \"WTGHA\", \"Wompanoag Tribe of Gay Head Aquinnah (Tribal)\", \"WTGHA-P2:20220105:SR:B\", \"Sample-Routine\", \"Water\", \"NaN\", \"2022-01-05\", \"NaN\", \"NaN\", \"NaN\", \"NaN\", \"NaN\", \"NaN\", NaN, \"NaN\", \"NaN\", NaN, \"NaN\", NaN, \"NaN\", \"WTGHA\", \"The Wampanoag Tribe of Gay Head Aquinnah\", \"NaN\", \"WTGHA-P2\", \"P2 | Menemsha Perimenter | Menemsha Beach\", NaN, NaN, NaN, NaN, 41.355139, -70.767083, \"NaN\", \"NaN\", \"NaN\", \"NaN\", \"Bucket\", \"STORET-1041361299\", \"NaN\", \"as P\", \"Phosphated pesticides\", \"Total\", \"0.14\", \"mg/L\", \"NaN\", \"Final\", NaN, \"Actual\", NaN, NaN, NaN, NaN, NaN, NaN, NaN, NaN, NaN, \"NaN\", NaN, NaN, \"NaN\", NaN, NaN, NaN, NaN, NaN, NaN, \"8048\", \"HACH\", \"Reactive Phosphorus in Water\", NaN, \"https://www.nemi.gov/methods/method_summary/4828/\", \"NaN\", \"NaN\", NaN, \"NaN\", \"NaN\", NaN, \"NaN\", NaN, \"2024-09-19T09:12:59\", \"STORET\"], [4902, \"WTGHA\", \"Wompanoag Tribe of Gay Head Aquinnah (Tribal)\", \"WTGHA-P1:20220222:SR:B\", \"Sample-Routine\", \"Water\", \"NaN\", \"2022-02-22\", \"NaN\", \"NaN\", \"NaN\", \"NaN\", \"NaN\", \"NaN\", NaN, \"NaN\", \"NaN\", NaN, \"NaN\", NaN, \"NaN\", \"WTGHA\", \"The Wampanoag Tribe of Gay Head Aquinnah\", \"NaN\", \"WTGHA-P1\", \"P1 | Menemsha Perimenter | Lobsterville Beach\", NaN, NaN, NaN, NaN, 41.349306, -70.788056, \"NaN\", \"NaN\", \"NaN\", \"NaN\", \"Bucket\", \"STORET-1041361338\", \"NaN\", \"as P\", \"Phosphated pesticides\", \"Total\", \"0.08\", \"mg/L\", \"NaN\", \"Final\", NaN, \"Actual\", NaN, NaN, NaN, NaN, NaN, NaN, NaN, NaN, NaN, \"NaN\", NaN, NaN, \"NaN\", NaN, NaN, NaN, NaN, NaN, NaN, \"8048\", \"HACH\", \"Reactive Phosphorus in Water\", NaN, \"https://www.nemi.gov/methods/method_summary/4828/\", \"NaN\", \"NaN\", NaN, \"NaN\", \"NaN\", NaN, \"NaN\", NaN, \"2024-09-19T09:12:59\", \"STORET\"], [5198, \"WTGHA\", \"Wompanoag Tribe of Gay Head Aquinnah (Tribal)\", \"WTGHA-P1:20230110:SR:B\", \"Sample-Routine\", \"Water\", \"NaN\", \"2023-01-10\", \"NaN\", \"NaN\", \"NaN\", \"NaN\", \"NaN\", \"NaN\", NaN, \"NaN\", \"NaN\", NaN, \"NaN\", NaN, \"NaN\", \"WTGHA\", \"The Wampanoag Tribe of Gay Head Aquinnah\", \"NaN\", \"WTGHA-P1\", \"P1 | Menemsha Perimenter | Lobsterville Beach\", NaN, NaN, NaN, NaN, 41.349306, -70.788056, \"NaN\", \"NaN\", \"NaN\", \"NaN\", \"Bucket\", \"STORET-1041361690\", \"NaN\", \"as P\", \"Phosphated pesticides\", \"Total\", \"0.32\", \"mg/L\", \"NaN\", \"Final\", NaN, \"Actual\", NaN, NaN, NaN, NaN, NaN, NaN, NaN, NaN, NaN, \"NaN\", NaN, NaN, \"NaN\", NaN, NaN, NaN, NaN, NaN, NaN, \"8048\", \"HACH\", \"Reactive Phosphorus in Water\", NaN, \"https://www.nemi.gov/methods/method_summary/4828/\", \"NaN\", \"NaN\", NaN, \"NaN\", \"NaN\", NaN, \"NaN\", NaN, \"2024-09-19T09:13:01\", \"STORET\"], [5289, \"WTGHA\", \"Wompanoag Tribe of Gay Head Aquinnah (Tribal)\", \"WTGHA-P2:20230110:SR:B\", \"Sample-Routine\", \"Water\", \"NaN\", \"2023-01-10\", \"NaN\", \"NaN\", \"NaN\", \"NaN\", \"NaN\", \"NaN\", NaN, \"NaN\", \"NaN\", NaN, \"NaN\", NaN, \"NaN\", \"WTGHA\", \"The Wampanoag Tribe of Gay Head Aquinnah\", \"NaN\", \"WTGHA-P2\", \"P2 | Menemsha Perimenter | Menemsha Beach\", NaN, NaN, NaN, NaN, 41.355139, -70.767083, \"NaN\", \"NaN\", \"NaN\", \"NaN\", \"Bucket\", \"STORET-1041361695\", \"NaN\", \"as P\", \"Phosphated pesticides\", \"Total\", \"0.1\", \"mg/L\", \"NaN\", \"Final\", NaN, \"Actual\", NaN, NaN, NaN, NaN, NaN, NaN, NaN, NaN, NaN, \"NaN\", NaN, NaN, \"NaN\", NaN, NaN, NaN, NaN, NaN, NaN, \"8048\", \"HACH\", \"Reactive Phosphorus in Water\", NaN, \"https://www.nemi.gov/methods/method_summary/4828/\", \"NaN\", \"NaN\", NaN, \"NaN\", \"NaN\", NaN, \"NaN\", NaN, \"2024-09-19T09:13:01\", \"STORET\"], [5506, \"WTGHA\", \"Wompanoag Tribe of Gay Head Aquinnah (Tribal)\", \"WTGHA-P2:20230605:SR:B\", \"Sample-Routine\", \"Water\", \"NaN\", \"2023-06-05\", \"NaN\", \"NaN\", \"NaN\", \"NaN\", \"NaN\", \"NaN\", NaN, \"NaN\", \"NaN\", NaN, \"NaN\", NaN, \"NaN\", \"WTGHA\", \"The Wampanoag Tribe of Gay Head Aquinnah\", \"NaN\", \"WTGHA-P2\", \"P2 | Menemsha Perimenter | Menemsha Beach\", NaN, NaN, NaN, NaN, 41.355139, -70.767083, \"NaN\", \"NaN\", \"NaN\", \"NaN\", \"Bucket\", \"STORET-1041361735\", \"NaN\", \"as P\", \"Phosphated pesticides\", \"Total\", \"0.1\", \"mg/L\", \"NaN\", \"Final\", NaN, \"Actual\", NaN, NaN, NaN, NaN, NaN, NaN, NaN, NaN, NaN, \"NaN\", NaN, NaN, \"NaN\", NaN, NaN, NaN, NaN, NaN, NaN, \"8048\", \"HACH\", \"Reactive Phosphorus in Water\", NaN, \"https://www.nemi.gov/methods/method_summary/4828/\", \"NaN\", \"NaN\", NaN, \"NaN\", \"NaN\", NaN, \"NaN\", NaN, \"2024-09-19T09:13:02\", \"STORET\"], [5588, \"WTGHA\", \"Wompanoag Tribe of Gay Head Aquinnah (Tribal)\", \"WTGHA-P1:20230605:SR:B\", \"Sample-Routine\", \"Water\", \"NaN\", \"2023-06-05\", \"NaN\", \"NaN\", \"NaN\", \"NaN\", \"NaN\", \"NaN\", NaN, \"NaN\", \"NaN\", NaN, \"NaN\", NaN, \"NaN\", \"WTGHA\", \"The Wampanoag Tribe of Gay Head Aquinnah\", \"NaN\", \"WTGHA-P1\", \"P1 | Menemsha Perimenter | Lobsterville Beach\", NaN, NaN, NaN, NaN, 41.349306, -70.788056, \"NaN\", \"NaN\", \"NaN\", \"NaN\", \"Bucket\", \"STORET-1041361730\", \"NaN\", \"as P\", \"Phosphated pesticides\", \"Total\", \"0.97\", \"mg/L\", \"NaN\", \"Final\", NaN, \"Actual\", NaN, NaN, NaN, NaN, NaN, NaN, NaN, NaN, NaN, \"NaN\", NaN, NaN, \"NaN\", NaN, NaN, NaN, NaN, NaN, NaN, \"8048\", \"HACH\", \"Reactive Phosphorus in Water\", NaN, \"https://www.nemi.gov/methods/method_summary/4828/\", \"NaN\", \"NaN\", NaN, \"NaN\", \"NaN\", NaN, \"NaN\", NaN, \"2024-09-19T09:13:02\", \"STORET\"], [5656, \"WTGHA\", \"Wompanoag Tribe of Gay Head Aquinnah (Tribal)\", \"WTGHA-P2:20230705:SR:B\", \"Sample-Routine\", \"Water\", \"NaN\", \"2023-07-05\", \"NaN\", \"NaN\", \"NaN\", \"NaN\", \"NaN\", \"NaN\", NaN, \"NaN\", \"NaN\", NaN, \"NaN\", NaN, \"NaN\", \"WTGHA\", \"The Wampanoag Tribe of Gay Head Aquinnah\", \"NaN\", \"WTGHA-P2\", \"P2 | Menemsha Perimenter | Menemsha Beach\", NaN, NaN, NaN, NaN, 41.355139, -70.767083, \"NaN\", \"NaN\", \"NaN\", \"NaN\", \"Bucket\", \"STORET-1041361805\", \"NaN\", \"as P\", \"Phosphated pesticides\", \"Total\", \"0.07\", \"mg/L\", \"NaN\", \"Final\", NaN, \"Actual\", NaN, NaN, NaN, NaN, NaN, NaN, NaN, NaN, NaN, \"NaN\", NaN, NaN, \"NaN\", NaN, NaN, NaN, NaN, NaN, NaN, \"8048\", \"HACH\", \"Reactive Phosphorus in Water\", NaN, \"https://www.nemi.gov/methods/method_summary/4828/\", \"NaN\", \"NaN\", NaN, \"NaN\", \"NaN\", NaN, \"NaN\", NaN, \"2024-09-19T09:13:02\", \"STORET\"], [5668, \"WTGHA\", \"Wompanoag Tribe of Gay Head Aquinnah (Tribal)\", \"WTGHA-P2:20230731:SR:B\", \"Sample-Routine\", \"Water\", \"NaN\", \"2023-07-31\", \"NaN\", \"NaN\", \"NaN\", \"NaN\", \"NaN\", \"NaN\", NaN, \"NaN\", \"NaN\", NaN, \"NaN\", NaN, \"NaN\", \"WTGHA\", \"The Wampanoag Tribe of Gay Head Aquinnah\", \"NaN\", \"WTGHA-P2\", \"P2 | Menemsha Perimenter | Menemsha Beach\", NaN, NaN, NaN, NaN, 41.355139, -70.767083, \"NaN\", \"NaN\", \"NaN\", \"NaN\", \"Bucket\", \"STORET-1041361875\", \"NaN\", \"as P\", \"Phosphated pesticides\", \"Total\", \"0.19\", \"mg/L\", \"NaN\", \"Final\", NaN, \"Actual\", NaN, NaN, NaN, NaN, NaN, NaN, NaN, NaN, NaN, \"NaN\", NaN, NaN, \"NaN\", NaN, NaN, NaN, NaN, NaN, NaN, \"8048\", \"HACH\", \"Reactive Phosphorus in Water\", NaN, \"https://www.nemi.gov/methods/method_summary/4828/\", \"NaN\", \"NaN\", NaN, \"NaN\", \"NaN\", NaN, \"NaN\", NaN, \"2024-09-19T09:13:02\", \"STORET\"], [5676, \"WTGHA\", \"Wompanoag Tribe of Gay Head Aquinnah (Tribal)\", \"WTGHA-P2:20230905:SR:B\", \"Sample-Routine\", \"Water\", \"NaN\", \"2023-09-05\", \"NaN\", \"NaN\", \"NaN\", \"NaN\", \"NaN\", \"NaN\", NaN, \"NaN\", \"NaN\", NaN, \"NaN\", NaN, \"NaN\", \"WTGHA\", \"The Wampanoag Tribe of Gay Head Aquinnah\", \"NaN\", \"WTGHA-P2\", \"P2 | Menemsha Perimenter | Menemsha Beach\", NaN, NaN, NaN, NaN, 41.355139, -70.767083, \"NaN\", \"NaN\", \"NaN\", \"NaN\", \"Bucket\", \"STORET-1041361991\", \"NaN\", \"as P\", \"Phosphated pesticides\", \"Total\", \"0.15\", \"mg/L\", \"NaN\", \"Final\", NaN, \"Actual\", NaN, NaN, NaN, NaN, NaN, NaN, NaN, NaN, NaN, \"NaN\", NaN, NaN, \"NaN\", NaN, NaN, NaN, NaN, NaN, NaN, \"8048\", \"HACH\", \"Reactive Phosphorus in Water\", NaN, \"https://www.nemi.gov/methods/method_summary/4828/\", \"NaN\", \"NaN\", NaN, \"NaN\", \"NaN\", NaN, \"NaN\", NaN, \"2024-09-19T09:13:03\", \"STORET\"], [5677, \"WTGHA\", \"Wompanoag Tribe of Gay Head Aquinnah (Tribal)\", \"WTGHA-P1:20230705:SR:B\", \"Sample-Routine\", \"Water\", \"NaN\", \"2023-07-05\", \"NaN\", \"NaN\", \"NaN\", \"NaN\", \"NaN\", \"NaN\", NaN, \"NaN\", \"NaN\", NaN, \"NaN\", NaN, \"NaN\", \"WTGHA\", \"The Wampanoag Tribe of Gay Head Aquinnah\", \"NaN\", \"WTGHA-P1\", \"P1 | Menemsha Perimenter | Lobsterville Beach\", NaN, NaN, NaN, NaN, 41.349306, -70.788056, \"NaN\", \"NaN\", \"NaN\", \"NaN\", \"Bucket\", \"STORET-1041361800\", \"NaN\", \"as P\", \"Phosphated pesticides\", \"Total\", \"0.1\", \"mg/L\", \"NaN\", \"Final\", NaN, \"Actual\", NaN, NaN, NaN, NaN, NaN, NaN, NaN, NaN, NaN, \"NaN\", NaN, NaN, \"NaN\", NaN, NaN, NaN, NaN, NaN, NaN, \"8048\", \"HACH\", \"Reactive Phosphorus in Water\", NaN, \"https://www.nemi.gov/methods/method_summary/4828/\", \"NaN\", \"NaN\", NaN, \"NaN\", \"NaN\", NaN, \"NaN\", NaN, \"2024-09-19T09:13:02\", \"STORET\"], [5680, \"WTGHA\", \"Wompanoag Tribe of Gay Head Aquinnah (Tribal)\", \"WTGHA-P1:20230905:SR:B\", \"Sample-Routine\", \"Water\", \"NaN\", \"2023-09-05\", \"NaN\", \"NaN\", \"NaN\", \"NaN\", \"NaN\", \"NaN\", NaN, \"NaN\", \"NaN\", NaN, \"NaN\", NaN, \"NaN\", \"WTGHA\", \"The Wampanoag Tribe of Gay Head Aquinnah\", \"NaN\", \"WTGHA-P1\", \"P1 | Menemsha Perimenter | Lobsterville Beach\", NaN, NaN, NaN, NaN, 41.349306, -70.788056, \"NaN\", \"NaN\", \"NaN\", \"NaN\", \"Bucket\", \"STORET-1041361987\", \"NaN\", \"as P\", \"Phosphated pesticides\", \"Total\", \"0.13\", \"mg/L\", \"NaN\", \"Final\", NaN, \"Actual\", NaN, NaN, NaN, NaN, NaN, NaN, NaN, NaN, NaN, \"NaN\", NaN, NaN, \"NaN\", NaN, NaN, NaN, NaN, NaN, NaN, \"8048\", \"HACH\", \"Reactive Phosphorus in Water\", NaN, \"https://www.nemi.gov/methods/method_summary/4828/\", \"NaN\", \"NaN\", NaN, \"NaN\", \"NaN\", NaN, \"NaN\", NaN, \"2024-09-19T09:13:03\", \"STORET\"], [5698, \"WTGHA\", \"Wompanoag Tribe of Gay Head Aquinnah (Tribal)\", \"WTGHA-P1:20230731:SR:B\", \"Sample-Routine\", \"Water\", \"NaN\", \"2023-07-31\", \"NaN\", \"NaN\", \"NaN\", \"NaN\", \"NaN\", \"NaN\", NaN, \"NaN\", \"NaN\", NaN, \"NaN\", NaN, \"NaN\", \"WTGHA\", \"The Wampanoag Tribe of Gay Head Aquinnah\", \"NaN\", \"WTGHA-P1\", \"P1 | Menemsha Perimenter | Lobsterville Beach\", NaN, NaN, NaN, NaN, 41.349306, -70.788056, \"NaN\", \"NaN\", \"NaN\", \"NaN\", \"Bucket\", \"STORET-1041361870\", \"NaN\", \"as P\", \"Phosphated pesticides\", \"Total\", \"0.07\", \"mg/L\", \"NaN\", \"Final\", NaN, \"Actual\", NaN, NaN, NaN, NaN, NaN, NaN, NaN, NaN, NaN, \"NaN\", NaN, NaN, \"NaN\", NaN, NaN, NaN, NaN, NaN, NaN, \"8048\", \"HACH\", \"Reactive Phosphorus in Water\", NaN, \"https://www.nemi.gov/methods/method_summary/4828/\", \"NaN\", \"NaN\", NaN, \"NaN\", \"NaN\", NaN, \"NaN\", NaN, \"2024-09-19T09:13:02\", \"STORET\"], [5712, \"WTGHA\", \"Wompanoag Tribe of Gay Head Aquinnah (Tribal)\", \"WTGHA-P1:20231003:SR:B\", \"Sample-Routine\", \"Water\", \"NaN\", \"2023-10-03\", \"NaN\", \"NaN\", \"NaN\", \"NaN\", \"NaN\", \"NaN\", NaN, \"NaN\", \"NaN\", NaN, \"NaN\", NaN, \"NaN\", \"WTGHA\", \"The Wampanoag Tribe of Gay Head Aquinnah\", \"NaN\", \"WTGHA-P1\", \"P1 | Menemsha Perimenter | Lobsterville Beach\", NaN, NaN, NaN, NaN, 41.349306, -70.788056, \"NaN\", \"NaN\", \"NaN\", \"NaN\", \"Bucket\", \"STORET-1041362048\", \"NaN\", \"as P\", \"Phosphated pesticides\", \"Total\", \"0.11\", \"mg/L\", \"NaN\", \"Final\", NaN, \"Actual\", NaN, NaN, NaN, NaN, NaN, NaN, NaN, NaN, NaN, \"NaN\", NaN, NaN, \"NaN\", NaN, NaN, NaN, NaN, NaN, NaN, \"8048\", \"HACH\", \"Reactive Phosphorus in Water\", NaN, \"https://www.nemi.gov/methods/method_summary/4828/\", \"NaN\", \"NaN\", NaN, \"NaN\", \"NaN\", NaN, \"NaN\", NaN, \"2024-09-19T09:13:03\", \"STORET\"], [5743, \"WTGHA\", \"Wompanoag Tribe of Gay Head Aquinnah (Tribal)\", \"WTGHA-P2:20231003:SR:B\", \"Sample-Routine\", \"Water\", \"NaN\", \"2023-10-03\", \"NaN\", \"NaN\", \"NaN\", \"NaN\", \"NaN\", \"NaN\", NaN, \"NaN\", \"NaN\", NaN, \"NaN\", NaN, \"NaN\", \"WTGHA\", \"The Wampanoag Tribe of Gay Head Aquinnah\", \"NaN\", \"WTGHA-P2\", \"P2 | Menemsha Perimenter | Menemsha Beach\", NaN, NaN, NaN, NaN, 41.355139, -70.767083, \"NaN\", \"NaN\", \"NaN\", \"NaN\", \"Bucket\", \"STORET-1041362051\", \"NaN\", \"as P\", \"Phosphated pesticides\", \"Total\", \"0.11\", \"mg/L\", \"NaN\", \"Final\", NaN, \"Actual\", NaN, NaN, NaN, NaN, NaN, NaN, NaN, NaN, NaN, \"NaN\", NaN, NaN, \"NaN\", NaN, NaN, NaN, NaN, NaN, NaN, \"8048\", \"HACH\", \"Reactive Phosphorus in Water\", NaN, \"https://www.nemi.gov/methods/method_summary/4828/\", \"NaN\", \"NaN\", NaN, \"NaN\", \"NaN\", NaN, \"NaN\", NaN, \"2024-09-19T09:13:03\", \"STORET\"]];\n",
       "\n",
       "        // Define the dt_args\n",
       "        let dt_args = {\"layout\": {\"topStart\": \"pageLength\", \"topEnd\": \"search\", \"bottomStart\": \"info\", \"bottomEnd\": \"paging\"}, \"order\": [], \"fnInfoCallback\": function (oSettings, iStart, iEnd, iMax, iTotal, sPre) { return sPre + ' (<a href=\"https://mwouts.github.io/itables/downsampling.html\">downsampled</a> from 130x81 to 101x81 as maxBytes=64KB)'; }};\n",
       "        dt_args[\"data\"] = data;\n",
       "\n",
       "        \n",
       "        new DataTable(table, dt_args);\n",
       "    });\n",
       "</script>\n"
      ],
      "text/plain": [
       "<IPython.core.display.HTML object>"
      ]
     },
     "metadata": {},
     "output_type": "display_data"
    }
   ],
   "source": [
    "maskphos = (DFproject['CharacteristicName'] == 'Phosphated pesticides')\n",
    "DFphos = DFproject[maskphos]\n",
    "show(DFphos)"
   ]
  },
  {
   "cell_type": "code",
   "execution_count": 545,
   "id": "a57a22ae-5c09-401b-8b99-c2795364b5d0",
   "metadata": {
    "scrolled": true
   },
   "outputs": [
    {
     "data": {
      "text/html": [
       "<table id=\"itables_fb37342a_4eaf_453f_9092_a9140dfa5526\" class=\"display nowrap\" data-quarto-disable-processing=\"true\" style=\"table-layout:auto;width:auto;margin:auto;caption-side:bottom\">\n",
       "<thead>\n",
       "    <tr style=\"text-align: right;\">\n",
       "      <th></th>\n",
       "      <th>count</th>\n",
       "    </tr>\n",
       "    <tr>\n",
       "      <th>MonitoringLocationName</th>\n",
       "      <th></th>\n",
       "    </tr>\n",
       "  </thead><tbody><tr>\n",
       "<td style=\"vertical-align:middle; text-align:left\">\n",
       "<div style=\"float:left; margin-right: 10px;\">\n",
       "<a href=https://mwouts.github.io/itables/><svg class=\"main-svg\" xmlns=\"http://www.w3.org/2000/svg\" xmlns:xlink=\"http://www.w3.org/1999/xlink\"\n",
       "width=\"64\" viewBox=\"0 0 500 400\" style=\"font-family: 'Droid Sans', sans-serif;\">\n",
       "    <g style=\"fill:#d9d7fc\">\n",
       "        <path d=\"M100,400H500V357H100Z\" />\n",
       "        <path d=\"M100,300H400V257H100Z\" />\n",
       "        <path d=\"M0,200H400V157H0Z\" />\n",
       "        <path d=\"M100,100H500V57H100Z\" />\n",
       "        <path d=\"M100,350H500V307H100Z\" />\n",
       "        <path d=\"M100,250H400V207H100Z\" />\n",
       "        <path d=\"M0,150H400V107H0Z\" />\n",
       "        <path d=\"M100,50H500V7H100Z\" />\n",
       "    </g>\n",
       "    <g style=\"fill:#1a1366;stroke:#1a1366;\">\n",
       "   <rect x=\"100\" y=\"7\" width=\"400\" height=\"43\">\n",
       "    <animate\n",
       "      attributeName=\"width\"\n",
       "      values=\"0;400;0\"\n",
       "      dur=\"5s\"\n",
       "      repeatCount=\"indefinite\" />\n",
       "      <animate\n",
       "      attributeName=\"x\"\n",
       "      values=\"100;100;500\"\n",
       "      dur=\"5s\"\n",
       "      repeatCount=\"indefinite\" />\n",
       "  </rect>\n",
       "        <rect x=\"0\" y=\"107\" width=\"400\" height=\"43\">\n",
       "    <animate\n",
       "      attributeName=\"width\"\n",
       "      values=\"0;400;0\"\n",
       "      dur=\"3.5s\"\n",
       "      repeatCount=\"indefinite\" />\n",
       "    <animate\n",
       "      attributeName=\"x\"\n",
       "      values=\"0;0;400\"\n",
       "      dur=\"3.5s\"\n",
       "      repeatCount=\"indefinite\" />\n",
       "  </rect>\n",
       "        <rect x=\"100\" y=\"207\" width=\"300\" height=\"43\">\n",
       "    <animate\n",
       "      attributeName=\"width\"\n",
       "      values=\"0;300;0\"\n",
       "      dur=\"3s\"\n",
       "      repeatCount=\"indefinite\" />\n",
       "    <animate\n",
       "      attributeName=\"x\"\n",
       "      values=\"100;100;400\"\n",
       "      dur=\"3s\"\n",
       "      repeatCount=\"indefinite\" />\n",
       "  </rect>\n",
       "        <rect x=\"100\" y=\"307\" width=\"400\" height=\"43\">\n",
       "    <animate\n",
       "      attributeName=\"width\"\n",
       "      values=\"0;400;0\"\n",
       "      dur=\"4s\"\n",
       "      repeatCount=\"indefinite\" />\n",
       "      <animate\n",
       "      attributeName=\"x\"\n",
       "      values=\"100;100;500\"\n",
       "      dur=\"4s\"\n",
       "      repeatCount=\"indefinite\" />\n",
       "  </rect>\n",
       "        <g style=\"fill:transparent;stroke-width:8; stroke-linejoin:round\" rx=\"5\">\n",
       "            <g transform=\"translate(45 50) rotate(-45)\">\n",
       "                <circle r=\"33\" cx=\"0\" cy=\"0\" />\n",
       "                <rect x=\"-8\" y=\"32\" width=\"16\" height=\"30\" />\n",
       "            </g>\n",
       "\n",
       "            <g transform=\"translate(450 152)\">\n",
       "                <polyline points=\"-15,-20 -35,-20 -35,40 25,40 25,20\" />\n",
       "                <rect x=\"-15\" y=\"-40\" width=\"60\" height=\"60\" />\n",
       "            </g>\n",
       "\n",
       "            <g transform=\"translate(50 352)\">\n",
       "                <polygon points=\"-35,-5 0,-40 35,-5\" />\n",
       "                <polygon points=\"-35,10 0,45 35,10\" />\n",
       "            </g>\n",
       "\n",
       "            <g transform=\"translate(75 250)\">\n",
       "                <polyline points=\"-30,30 -60,0 -30,-30\" />\n",
       "                <polyline points=\"0,30 -30,0 0,-30\" />\n",
       "            </g>\n",
       "\n",
       "            <g transform=\"translate(425 250) rotate(180)\">\n",
       "                <polyline points=\"-30,30 -60,0 -30,-30\" />\n",
       "                <polyline points=\"0,30 -30,0 0,-30\" />\n",
       "            </g>\n",
       "        </g>\n",
       "    </g>\n",
       "</svg>\n",
       "</a>\n",
       "</div>\n",
       "<div>\n",
       "Loading ITables v2.1.4 from the internet...\n",
       "(need <a href=https://mwouts.github.io/itables/troubleshooting.html>help</a>?)</td>\n",
       "</div>\n",
       "</tr></tbody>\n",
       "\n",
       "</table>\n",
       "<link href=\"https://www.unpkg.com/dt_for_itables@2.0.11/dt_bundle.css\" rel=\"stylesheet\">\n",
       "<script type=\"module\">\n",
       "    import {DataTable, jQuery as $} from 'https://www.unpkg.com/dt_for_itables@2.0.11/dt_bundle.js';\n",
       "\n",
       "    document.querySelectorAll(\"#itables_fb37342a_4eaf_453f_9092_a9140dfa5526:not(.dataTable)\").forEach(table => {\n",
       "        // Define the table data\n",
       "        const data = [[\"P1 | Menemsha Perimenter | Lobsterville Beach\", 67], [\"P2 | Menemsha Perimenter | Menemsha Beach\", 63]];\n",
       "\n",
       "        // Define the dt_args\n",
       "        let dt_args = {\"layout\": {\"topStart\": null, \"topEnd\": null, \"bottomStart\": null, \"bottomEnd\": null}, \"order\": []};\n",
       "        dt_args[\"data\"] = data;\n",
       "\n",
       "        \n",
       "        new DataTable(table, dt_args);\n",
       "    });\n",
       "</script>\n"
      ],
      "text/plain": [
       "<IPython.core.display.HTML object>"
      ]
     },
     "metadata": {},
     "output_type": "display_data"
    }
   ],
   "source": [
    "show(DFphos['MonitoringLocationName'].value_counts())"
   ]
  },
  {
   "cell_type": "code",
   "execution_count": 546,
   "id": "726021b4-69f3-4cd3-92ba-09fb13c21f74",
   "metadata": {},
   "outputs": [
    {
     "name": "stderr",
     "output_type": "stream",
     "text": [
      "/var/folders/3p/1bz4xmy96wj0vhl_qhqj52t80000gp/T/ipykernel_53555/3422650483.py:1: DtypeWarning:\n",
      "\n",
      "Columns (12) have mixed types. Specify dtype option on import or set low_memory=False.\n",
      "\n"
     ]
    },
    {
     "data": {
      "text/html": [
       "<table id=\"itables_f8dc1219_6edd_453c_a1e7_66f83ccdfe84\" class=\"display nowrap\" data-quarto-disable-processing=\"true\" style=\"table-layout:auto;width:auto;margin:auto;caption-side:bottom\">\n",
       "<thead>\n",
       "    <tr style=\"text-align: right;\">\n",
       "      \n",
       "      <th>objectid</th>\n",
       "      <th>monitoring_location_identifier</th>\n",
       "      <th>organization_name</th>\n",
       "      <th>monitoring_location_name</th>\n",
       "      <th>latitude</th>\n",
       "      <th>longitude</th>\n",
       "      <th>start_date</th>\n",
       "      <th>start_time</th>\n",
       "      <th>start_timezone</th>\n",
       "      <th>depth</th>\n",
       "      <th>depth_height_unit</th>\n",
       "      <th>characteristic</th>\n",
       "      <th>sample_fraction</th>\n",
       "      <th>sea_water_ph_reported_on_total_scale</th>\n",
       "      <th>uom</th>\n",
       "      <th>note</th>\n",
       "      <th>x</th>\n",
       "      <th>y</th>\n",
       "    </tr>\n",
       "  </thead><tbody><tr>\n",
       "<td style=\"vertical-align:middle; text-align:left\">\n",
       "<div style=\"float:left; margin-right: 10px;\">\n",
       "<a href=https://mwouts.github.io/itables/><svg class=\"main-svg\" xmlns=\"http://www.w3.org/2000/svg\" xmlns:xlink=\"http://www.w3.org/1999/xlink\"\n",
       "width=\"64\" viewBox=\"0 0 500 400\" style=\"font-family: 'Droid Sans', sans-serif;\">\n",
       "    <g style=\"fill:#d9d7fc\">\n",
       "        <path d=\"M100,400H500V357H100Z\" />\n",
       "        <path d=\"M100,300H400V257H100Z\" />\n",
       "        <path d=\"M0,200H400V157H0Z\" />\n",
       "        <path d=\"M100,100H500V57H100Z\" />\n",
       "        <path d=\"M100,350H500V307H100Z\" />\n",
       "        <path d=\"M100,250H400V207H100Z\" />\n",
       "        <path d=\"M0,150H400V107H0Z\" />\n",
       "        <path d=\"M100,50H500V7H100Z\" />\n",
       "    </g>\n",
       "    <g style=\"fill:#1a1366;stroke:#1a1366;\">\n",
       "   <rect x=\"100\" y=\"7\" width=\"400\" height=\"43\">\n",
       "    <animate\n",
       "      attributeName=\"width\"\n",
       "      values=\"0;400;0\"\n",
       "      dur=\"5s\"\n",
       "      repeatCount=\"indefinite\" />\n",
       "      <animate\n",
       "      attributeName=\"x\"\n",
       "      values=\"100;100;500\"\n",
       "      dur=\"5s\"\n",
       "      repeatCount=\"indefinite\" />\n",
       "  </rect>\n",
       "        <rect x=\"0\" y=\"107\" width=\"400\" height=\"43\">\n",
       "    <animate\n",
       "      attributeName=\"width\"\n",
       "      values=\"0;400;0\"\n",
       "      dur=\"3.5s\"\n",
       "      repeatCount=\"indefinite\" />\n",
       "    <animate\n",
       "      attributeName=\"x\"\n",
       "      values=\"0;0;400\"\n",
       "      dur=\"3.5s\"\n",
       "      repeatCount=\"indefinite\" />\n",
       "  </rect>\n",
       "        <rect x=\"100\" y=\"207\" width=\"300\" height=\"43\">\n",
       "    <animate\n",
       "      attributeName=\"width\"\n",
       "      values=\"0;300;0\"\n",
       "      dur=\"3s\"\n",
       "      repeatCount=\"indefinite\" />\n",
       "    <animate\n",
       "      attributeName=\"x\"\n",
       "      values=\"100;100;400\"\n",
       "      dur=\"3s\"\n",
       "      repeatCount=\"indefinite\" />\n",
       "  </rect>\n",
       "        <rect x=\"100\" y=\"307\" width=\"400\" height=\"43\">\n",
       "    <animate\n",
       "      attributeName=\"width\"\n",
       "      values=\"0;400;0\"\n",
       "      dur=\"4s\"\n",
       "      repeatCount=\"indefinite\" />\n",
       "      <animate\n",
       "      attributeName=\"x\"\n",
       "      values=\"100;100;500\"\n",
       "      dur=\"4s\"\n",
       "      repeatCount=\"indefinite\" />\n",
       "  </rect>\n",
       "        <g style=\"fill:transparent;stroke-width:8; stroke-linejoin:round\" rx=\"5\">\n",
       "            <g transform=\"translate(45 50) rotate(-45)\">\n",
       "                <circle r=\"33\" cx=\"0\" cy=\"0\" />\n",
       "                <rect x=\"-8\" y=\"32\" width=\"16\" height=\"30\" />\n",
       "            </g>\n",
       "\n",
       "            <g transform=\"translate(450 152)\">\n",
       "                <polyline points=\"-15,-20 -35,-20 -35,40 25,40 25,20\" />\n",
       "                <rect x=\"-15\" y=\"-40\" width=\"60\" height=\"60\" />\n",
       "            </g>\n",
       "\n",
       "            <g transform=\"translate(50 352)\">\n",
       "                <polygon points=\"-35,-5 0,-40 35,-5\" />\n",
       "                <polygon points=\"-35,10 0,45 35,10\" />\n",
       "            </g>\n",
       "\n",
       "            <g transform=\"translate(75 250)\">\n",
       "                <polyline points=\"-30,30 -60,0 -30,-30\" />\n",
       "                <polyline points=\"0,30 -30,0 0,-30\" />\n",
       "            </g>\n",
       "\n",
       "            <g transform=\"translate(425 250) rotate(180)\">\n",
       "                <polyline points=\"-30,30 -60,0 -30,-30\" />\n",
       "                <polyline points=\"0,30 -30,0 0,-30\" />\n",
       "            </g>\n",
       "        </g>\n",
       "    </g>\n",
       "</svg>\n",
       "</a>\n",
       "</div>\n",
       "<div>\n",
       "Loading ITables v2.1.4 from the internet...\n",
       "(need <a href=https://mwouts.github.io/itables/troubleshooting.html>help</a>?)</td>\n",
       "</div>\n",
       "</tr></tbody>\n",
       "\n",
       "</table>\n",
       "<link href=\"https://www.unpkg.com/dt_for_itables@2.0.11/dt_bundle.css\" rel=\"stylesheet\">\n",
       "<script type=\"module\">\n",
       "    import {DataTable, jQuery as $} from 'https://www.unpkg.com/dt_for_itables@2.0.11/dt_bundle.js';\n",
       "\n",
       "    document.querySelectorAll(\"#itables_f8dc1219_6edd_453c_a1e7_66f83ccdfe84:not(.dataTable)\").forEach(table => {\n",
       "        // Define the table data\n",
       "        const data = [[1, \"USGS-0237817725\", \"USGS Alabama Water Science Center\", \"WOLF BAY AT ORANGE BEACH AL.\", 30.3044, -87.5647, \"9/14/1994 12:00:00 AM\", \"18:00:00\", \"UTC\", NaN, \"m\", \"pH\", \"Total\", 5.4, \"std units\", NaN, NaN, NaN], [2, \"USGS-02378178\", \"USGS Alabama Water Science Center\", \"SHELBY LAKE AT DOCK NR GULF SHORES AL.\", 30.2538, -87.6655, \"10/14/1992 12:00:00 AM\", \"20:30:00\", \"UTC\", NaN, \"m\", \"pH\", \"Total\", 7.4, \"std units\", NaN, NaN, NaN], [3, \"USGS-02378180\", \"USGS Alabama Water Science Center\", \"LITTLE LAGOON (SITE 1) NR LAGOON CH NR GULF SHORES\", 30.2535, -87.7222, \"10/14/1992 12:00:00 AM\", \"14:00:00\", \"UTC\", NaN, \"m\", \"pH\", \"Total\", 7.8, \"std units\", NaN, NaN, NaN], [4, \"USGS-02378181\", \"USGS Alabama Water Science Center\", \"LITTLE LAGOON (SITE 3) AT OLD INLET NR GULF SHORES\", 30.2438, -87.7375, \"10/14/1992 12:00:00 AM\", \"18:00:00\", \"UTC\", NaN, \"m\", \"pH\", \"Total\", 7.9, \"std units\", NaN, NaN, NaN], [5, \"USGS-02378182\", \"USGS Alabama Water Science Center\", \"LITTLE LAGOON (SITE 4) NR CHILDRESS PT NR GULF SHO\", 30.2433, -87.7847, \"10/14/1992 12:00:00 AM\", \"15:30:00\", \"UTC\", NaN, \"m\", \"pH\", \"Total\", 7.8, \"std units\", NaN, NaN, NaN], [6, \"USGS-02378183\", \"USGS Alabama Water Science Center\", \"LITTLE LAGOON (SITE 5) AT EUGENE PT NR PINE BEACH\", 30.2405, -87.8042, \"10/14/1992 12:00:00 AM\", \"16:15:00\", \"UTC\", NaN, \"m\", \"pH\", \"Total\", 7.4, \"std units\", NaN, NaN, NaN], [7, \"USGS-02378330\", \"USGS Alabama Water Science Center\", \"MAGNOLIA RIVER AT MOUTH AT WEEKS BAY AL.\", 30.3863, -87.8139, \"9/15/1994 12:00:00 AM\", \"14:15:00\", \"UTC\", NaN, \"m\", \"pH\", \"Total\", 7.4, \"std units\", NaN, NaN, NaN], [8, \"USGS-02378550\", \"USGS Alabama Water Science Center\", \"FISH RIVER NEAR MAGNOLIA SPRINGS AL.\", 30.4155, -87.8244, \"8/11/2004 12:00:00 AM\", \"17:40:00\", \"UTC\", NaN, \"m\", \"pH\", \"Total\", 6.5, \"std units\", NaN, NaN, NaN], [9, \"USGS-02378550\", \"USGS Alabama Water Science Center\", \"FISH RIVER NEAR MAGNOLIA SPRINGS AL.\", 30.4155, -87.8244, \"7/10/2006 12:00:00 AM\", \"19:15:00\", \"UTC\", 0.3, \"m\", \"pH\", \"Total\", 8.0, \"std units\", NaN, -9776568.0, 3557071.8065], [10, \"USGS-02378550\", \"USGS Alabama Water Science Center\", \"FISH RIVER NEAR MAGNOLIA SPRINGS AL.\", 30.4155, -87.8244, \"7/10/2006 12:00:00 AM\", \"19:20:00\", \"UTC\", 1.52, \"m\", \"pH\", \"Total\", 8.1, \"std units\", NaN, -9776568.0, 3557071.8065], [11, \"USGS-02378550\", \"USGS Alabama Water Science Center\", \"FISH RIVER NEAR MAGNOLIA SPRINGS AL.\", 30.4155, -87.8244, \"7/10/2006 12:00:00 AM\", \"19:21:00\", \"UTC\", 3.05, \"m\", \"pH\", \"Total\", 7.9, \"std units\", NaN, -9776568.0, 3557071.8065], [12, \"USGS-02378546\", \"USGS Alabama Water Science Center\", \"Fish River @ Marlow AL.\", 30.4602, -87.8039, \"8/11/2004 12:00:00 AM\", \"17:15:00\", \"UTC\", NaN, \"m\", \"pH\", \"Total\", 6.0, \"std units\", NaN, NaN, NaN], [13, \"USGS-02378548\", \"USGS Alabama Water Science Center\", \"Waterhole Branch near Magnolia Springs\", 30.4366, -87.8233, \"8/11/2004 12:00:00 AM\", \"16:50:00\", \"UTC\", NaN, \"m\", \"pH\", \"Total\", 6.8, \"std units\", NaN, NaN, NaN], [14, \"USGS-02378548\", \"USGS Alabama Water Science Center\", \"Waterhole Branch near Magnolia Springs\", 30.4366, -87.8233, \"8/9/2005 12:00:00 AM\", \"16:30:00\", \"UTC\", NaN, \"m\", \"pH\", \"Total\", 5.9, \"std units\", NaN, NaN, NaN], [15, \"USGS-02378548\", \"USGS Alabama Water Science Center\", \"Waterhole Branch near Magnolia Springs\", 30.4366, -87.8233, \"6/28/2006 12:00:00 AM\", \"14:00:00\", \"UTC\", NaN, \"m\", \"pH\", \"Total\", 6.5, \"std units\", NaN, NaN, NaN], [16, \"USGS-02378548\", \"USGS Alabama Water Science Center\", \"Waterhole Branch near Magnolia Springs\", 30.4366, -87.8233, \"6/28/2006 12:00:00 AM\", \"14:01:00\", \"UTC\", NaN, \"m\", \"pH\", \"Total\", 6.5, \"std units\", NaN, NaN, NaN], [17, \"USGS-02378548\", \"USGS Alabama Water Science Center\", \"Waterhole Branch near Magnolia Springs\", 30.4366, -87.8233, \"6/28/2006 12:00:00 AM\", \"14:02:00\", \"UTC\", NaN, \"m\", \"pH\", \"Total\", 6.5, \"std units\", NaN, NaN, NaN], [18, \"USGS-02378549\", \"USGS Alabama Water Science Center\", \"TURKEY BRANCH NR. MAGNOLIA SPRINGS\", 30.4291, -87.8317, \"8/11/2004 12:00:00 AM\", \"18:55:00\", \"UTC\", NaN, \"m\", \"pH\", \"Total\", 6.2, \"std units\", NaN, NaN, NaN], [19, \"USGS-02378549\", \"USGS Alabama Water Science Center\", \"TURKEY BRANCH NR. MAGNOLIA SPRINGS\", 30.4291, -87.8317, \"12/13/2004 12:00:00 AM\", \"19:30:00\", \"UTC\", NaN, \"m\", \"pH\", \"Total\", 6.0, \"std units\", NaN, NaN, NaN], [20, \"USGS-02378325\", \"USGS Alabama Water Science Center\", \"Magnolia R. above Weeks Creek\", 30.3947, -87.7778, \"7/10/2006 12:00:00 AM\", \"20:00:00\", \"UTC\", 0.3, \"m\", \"pH\", \"Total\", 7.3, \"std units\", NaN, -9771381.0, 3554387.1338], [21, \"USGS-02378325\", \"USGS Alabama Water Science Center\", \"Magnolia R. above Weeks Creek\", 30.3947, -87.7778, \"7/10/2006 12:00:00 AM\", \"20:01:00\", \"UTC\", 1.52, \"m\", \"pH\", \"Total\", 7.3, \"std units\", NaN, -9771381.0, 3554387.1338], [22, \"USGS-02378325\", \"USGS Alabama Water Science Center\", \"Magnolia R. above Weeks Creek\", 30.3947, -87.7778, \"7/10/2006 12:00:00 AM\", \"20:02:00\", \"UTC\", 3.05, \"m\", \"pH\", \"Total\", 7.2, \"std units\", NaN, -9771381.0, 3554387.1338], [23, \"USGS-302234087501201\", \"USGS Alabama Water Science Center\", \"Mouth of Weeks Bay at Fish River Point\", 30.3761, -87.8367, \"7/10/2006 12:00:00 AM\", \"20:51:00\", \"UTC\", 0.3, \"m\", \"pH\", \"Total\", 8.3, \"std units\", NaN, -9777937.0, 3551986.9007], [24, \"USGS-302234087501201\", \"USGS Alabama Water Science Center\", \"Mouth of Weeks Bay at Fish River Point\", 30.3761, -87.8367, \"7/10/2006 12:00:00 AM\", \"20:52:00\", \"UTC\", 1.52, \"m\", \"pH\", \"Total\", 8.3, \"std units\", NaN, -9777937.0, 3551986.9007], [25, \"USGS-302234087501201\", \"USGS Alabama Water Science Center\", \"Mouth of Weeks Bay at Fish River Point\", 30.3761, -87.8367, \"7/10/2006 12:00:00 AM\", \"20:53:00\", \"UTC\", 3.05, \"m\", \"pH\", \"Total\", 8.3, \"std units\", NaN, -9777937.0, 3551986.9007], [26, \"USGS-302234087501201\", \"USGS Alabama Water Science Center\", \"Mouth of Weeks Bay at Fish River Point\", 30.3761, -87.8367, \"7/10/2006 12:00:00 AM\", \"20:54:00\", \"UTC\", 4.57, \"m\", \"pH\", \"Total\", 8.3, \"std units\", NaN, -9777937.0, 3551986.9007], [27, \"USGS-302234087501201\", \"USGS Alabama Water Science Center\", \"Mouth of Weeks Bay at Fish River Point\", 30.3761, -87.8367, \"7/10/2006 12:00:00 AM\", \"20:55:00\", \"UTC\", 6.1, \"m\", \"pH\", \"Total\", 8.2, \"std units\", NaN, -9777937.0, 3551986.9007], [28, \"USGS-301354088015101\", \"USGS Alabama Water Science Center\", \"Mobile Bay mouth at Ft. Morgan\", 30.2317, -88.0308, \"7/11/2006 12:00:00 AM\", \"14:46:00\", \"UTC\", 0.3, \"m\", \"pH\", \"Total\", 8.1, \"std units\", NaN, -9799544.0, 3533368.3356], [29, \"USGS-301354088015101\", \"USGS Alabama Water Science Center\", \"Mobile Bay mouth at Ft. Morgan\", 30.2317, -88.0308, \"7/11/2006 12:00:00 AM\", \"14:47:00\", \"UTC\", 1.52, \"m\", \"pH\", \"Total\", 8.2, \"std units\", NaN, -9799544.0, 3533368.3356], [30, \"USGS-301354088015101\", \"USGS Alabama Water Science Center\", \"Mobile Bay mouth at Ft. Morgan\", 30.2317, -88.0308, \"7/11/2006 12:00:00 AM\", \"14:48:00\", \"UTC\", 3.05, \"m\", \"pH\", \"Total\", 8.2, \"std units\", NaN, -9799544.0, 3533368.3356], [31, \"USGS-301354088015101\", \"USGS Alabama Water Science Center\", \"Mobile Bay mouth at Ft. Morgan\", 30.2317, -88.0308, \"7/11/2006 12:00:00 AM\", \"14:49:00\", \"UTC\", 4.57, \"m\", \"pH\", \"Total\", 8.2, \"std units\", NaN, -9799544.0, 3533368.3356], [32, \"USGS-301354088015101\", \"USGS Alabama Water Science Center\", \"Mobile Bay mouth at Ft. Morgan\", 30.2317, -88.0308, \"7/11/2006 12:00:00 AM\", \"14:50:00\", \"UTC\", 6.1, \"m\", \"pH\", \"Total\", 8.2, \"std units\", NaN, -9799544.0, 3533368.3356], [33, \"USGS-301354088015101\", \"USGS Alabama Water Science Center\", \"Mobile Bay mouth at Ft. Morgan\", 30.2317, -88.0308, \"7/11/2006 12:00:00 AM\", \"14:51:00\", \"UTC\", 7.62, \"m\", \"pH\", \"Total\", 8.2, \"std units\", NaN, -9799544.0, 3533368.3356], [34, \"USGS-301354088015101\", \"USGS Alabama Water Science Center\", \"Mobile Bay mouth at Ft. Morgan\", 30.2317, -88.0308, \"7/11/2006 12:00:00 AM\", \"14:52:00\", \"UTC\", 9.14, \"m\", \"pH\", \"Total\", 8.2, \"std units\", NaN, -9799544.0, 3533368.3356], [35, \"USGS-301847087560901\", \"USGS Alabama Water Science Center\", \"Bon Secour Bay between Weeks Bay and Ft. Morgan\", 30.3131, -87.9358, \"7/11/2006 12:00:00 AM\", \"16:21:00\", \"UTC\", 0.3, \"m\", \"pH\", \"Total\", 8.2, \"std units\", NaN, -9788969.0, 3543860.4696], [36, \"USGS-301847087560901\", \"USGS Alabama Water Science Center\", \"Bon Secour Bay between Weeks Bay and Ft. Morgan\", 30.3131, -87.9358, \"7/11/2006 12:00:00 AM\", \"16:22:00\", \"UTC\", 1.52, \"m\", \"pH\", \"Total\", 8.2, \"std units\", NaN, -9788969.0, 3543860.4696], [37, \"USGS-301847087560901\", \"USGS Alabama Water Science Center\", \"Bon Secour Bay between Weeks Bay and Ft. Morgan\", 30.3131, -87.9358, \"7/11/2006 12:00:00 AM\", \"16:23:00\", \"UTC\", 3.05, \"m\", \"pH\", \"Total\", 8.2, \"std units\", NaN, -9788969.0, 3543860.4696], [38, \"USGS-301329088003000\", \"USGS Alabama Water Science Center\", \"DWH GOM Oil Spill Fort Morgan AL-4\", 30.2249, -88.0083, \"5/8/2010 12:00:00 AM\", \"21:45:00\", \"UTC\", 0.15, \"m\", \"pH\", \"Total\", 8.0, \"std units\", NaN, -9797040.0, 3532492.2365], [39, \"USGS-301329088003000\", \"USGS Alabama Water Science Center\", \"DWH GOM Oil Spill Fort Morgan AL-4\", 30.2249, -88.0083, \"10/12/2010 12:00:00 AM\", \"15:20:00\", \"UTC\", 0.15, \"m\", \"pH\", \"Total\", 8.1, \"std units\", NaN, -9797040.0, 3532492.2365], [40, \"USGS-301329088003000\", \"USGS Alabama Water Science Center\", \"DWH GOM Oil Spill Fort Morgan AL-4\", 30.2249, -88.0083, \"10/12/2010 12:00:00 AM\", \"15:21:00\", \"UTC\", NaN, \"m\", \"pH\", \"Total\", 8.1, \"std units\", NaN, NaN, NaN], [41, \"USGS-301428087434900\", \"USGS Alabama Water Science Center\", \"DWH GOM Oil Spill Gulf Shores AL-6\", 30.2413, -87.7303, \"5/8/2010 12:00:00 AM\", \"17:45:00\", \"UTC\", 0.3, \"m\", \"pH\", \"Total\", 8.0, \"std units\", NaN, -9766093.0, 3534605.2861], [42, \"USGS-301428087434900\", \"USGS Alabama Water Science Center\", \"DWH GOM Oil Spill Gulf Shores AL-6\", 30.2413, -87.7303, \"10/14/2010 12:00:00 AM\", \"18:30:00\", \"UTC\", 0.3, \"m\", \"pH\", \"Total\", 8.1, \"std units\", NaN, -9766093.0, 3534605.2861], [43, \"USGS-301349087541600\", \"USGS Alabama Water Science Center\", \"DWH GOM Oil Spill Fort Morgan AL-5\", 30.2305, -87.9044, \"5/8/2010 12:00:00 AM\", \"20:00:00\", \"UTC\", 0.15, \"m\", \"pH\", \"Total\", 8.0, \"std units\", NaN, -9785474.0, 3533213.726], [44, \"USGS-301349087541600\", \"USGS Alabama Water Science Center\", \"DWH GOM Oil Spill Fort Morgan AL-5\", 30.2305, -87.9044, \"10/13/2010 12:00:00 AM\", \"18:35:00\", \"UTC\", 0.15, \"m\", \"pH\", \"Total\", 8.1, \"std units\", NaN, -9785474.0, 3533213.726], [45, \"USGS-301608087345400\", \"USGS Alabama Water Science Center\", \"DWH GOM Oil Spill Orange Beach AL-7\", 30.2691, -87.5816, \"5/8/2010 12:00:00 AM\", \"14:45:00\", \"UTC\", 0.3, \"m\", \"pH\", \"Total\", 7.9, \"std units\", NaN, -9749540.0, 3538187.9671], [46, \"USGS-301608087345400\", \"USGS Alabama Water Science Center\", \"DWH GOM Oil Spill Orange Beach AL-7\", 30.2691, -87.5816, \"10/14/2010 12:00:00 AM\", \"15:00:00\", \"UTC\", 0.46, \"m\", \"pH\", \"Total\", 7.8, \"std units\", NaN, -9749540.0, 3538187.9671], [47, \"USGS-301343087520200\", \"USGS Alabama Water Science Center\", \"DWH GOM Oil Spill BLM-2\", 30.2288, -87.8672, \"5/24/2010 12:00:00 AM\", \"20:00:00\", \"UTC\", 0.3, \"m\", \"pH\", \"Total\", 8.0, \"std units\", NaN, -9781333.0, 3532994.6983], [48, \"USGS-301343087520200\", \"USGS Alabama Water Science Center\", \"DWH GOM Oil Spill BLM-2\", 30.2288, -87.8672, \"10/14/2010 12:00:00 AM\", \"18:25:00\", \"UTC\", 0.15, \"m\", \"pH\", \"Total\", 8.1, \"std units\", NaN, -9781333.0, 3532994.6983], [49, \"USGS-301353087561600\", \"USGS Alabama Water Science Center\", \"DHW GOM Oil Spill BLM-1\", 30.2316, -87.9378, \"5/24/2010 12:00:00 AM\", \"18:00:00\", \"UTC\", 0.3, \"m\", \"pH\", \"Total\", 8.1, \"std units\", NaN, -9789192.0, 3533355.4518], [50, \"USGS-301353087561600\", \"USGS Alabama Water Science Center\", \"DHW GOM Oil Spill BLM-1\", 30.2316, -87.9378, \"10/13/2010 12:00:00 AM\", \"15:15:00\", \"UTC\", 0.15, \"m\", \"pH\", \"Total\", 8.0, \"std units\", NaN, -9789192.0, 3533355.4518], [51, \"USGS-301341087495200\", \"USGS Alabama Water Science Center\", \"DWH GOM Oil Spill Fort Morgan BLM-3\", 30.2283, -87.8311, \"5/24/2010 12:00:00 AM\", \"21:30:00\", \"UTC\", 0.15, \"m\", \"pH\", \"Total\", 8.1, \"std units\", NaN, -9777314.0, 3532930.2793], [52, \"USGS-301341087495200\", \"USGS Alabama Water Science Center\", \"DWH GOM Oil Spill Fort Morgan BLM-3\", 30.2283, -87.8311, \"10/14/2010 12:00:00 AM\", \"15:30:00\", \"UTC\", 0.46, \"m\", \"pH\", \"Total\", 8.1, \"std units\", NaN, -9777314.0, 3532930.2793], [53, \"11NPSWRD-GUIS_ADEM_ALPT\", \"National Park Service Water Resources Division\", \"Alabama Point Public Beach Gulf of Mexico\", 30.2796, -87.5417, \"10/4/1999 12:00:00 AM\", \"00:00:00\", \"UTC\", NaN, \"m\", \"pH\", \"NaN\", 7.99, \"std units\", NaN, NaN, NaN], [54, \"11NPSWRD-GUIS_ADEM_ALPT\", \"National Park Service Water Resources Division\", \"Alabama Point Public Beach Gulf of Mexico\", 30.2796, -87.5417, \"11/1/1999 12:00:00 AM\", \"00:00:00\", \"UTC\", NaN, \"m\", \"pH\", \"NaN\", 8.0, \"std units\", NaN, NaN, NaN], [55, \"11NPSWRD-GUIS_ADEM_ALPT\", \"National Park Service Water Resources Division\", \"Alabama Point Public Beach Gulf of Mexico\", 30.2796, -87.5417, \"12/6/1999 12:00:00 AM\", \"00:00:00\", \"UTC\", NaN, \"m\", \"pH\", \"NaN\", 8.1, \"std units\", NaN, NaN, NaN], [56, \"11NPSWRD-GUIS_ADEM_ALPT\", \"National Park Service Water Resources Division\", \"Alabama Point Public Beach Gulf of Mexico\", 30.2796, -87.5417, \"1/10/2000 12:00:00 AM\", \"00:00:00\", \"UTC\", NaN, \"m\", \"pH\", \"NaN\", 8.05, \"std units\", NaN, NaN, NaN], [57, \"11NPSWRD-GUIS_ADEM_ALPT\", \"National Park Service Water Resources Division\", \"Alabama Point Public Beach Gulf of Mexico\", 30.2796, -87.5417, \"2/7/2000 12:00:00 AM\", \"00:00:00\", \"UTC\", NaN, \"m\", \"pH\", \"NaN\", 8.0, \"std units\", NaN, NaN, NaN], [58, \"11NPSWRD-GUIS_ADEM_ALPT\", \"National Park Service Water Resources Division\", \"Alabama Point Public Beach Gulf of Mexico\", 30.2796, -87.5417, \"3/8/2000 12:00:00 AM\", \"00:00:00\", \"UTC\", NaN, \"m\", \"pH\", \"NaN\", 8.1, \"std units\", NaN, NaN, NaN], [59, \"11NPSWRD-GUIS_ADEM_ALPT\", \"National Park Service Water Resources Division\", \"Alabama Point Public Beach Gulf of Mexico\", 30.2796, -87.5417, \"4/3/2000 12:00:00 AM\", \"00:00:00\", \"UTC\", NaN, \"m\", \"pH\", \"NaN\", 8.1, \"std units\", NaN, NaN, NaN], [60, \"11NPSWRD-GUIS_ADEM_ALPT\", \"National Park Service Water Resources Division\", \"Alabama Point Public Beach Gulf of Mexico\", 30.2796, -87.5417, \"5/1/2000 12:00:00 AM\", \"00:00:00\", \"UTC\", NaN, \"m\", \"pH\", \"NaN\", 8.0, \"std units\", NaN, NaN, NaN], [61, \"11NPSWRD-GUIS_ADEM_ALPT\", \"National Park Service Water Resources Division\", \"Alabama Point Public Beach Gulf of Mexico\", 30.2796, -87.5417, \"5/15/2000 12:00:00 AM\", \"00:00:00\", \"UTC\", NaN, \"m\", \"pH\", \"NaN\", 8.06, \"std units\", NaN, NaN, NaN], [62, \"11NPSWRD-GUIS_ADEM_ALPT\", \"National Park Service Water Resources Division\", \"Alabama Point Public Beach Gulf of Mexico\", 30.2796, -87.5417, \"5/18/2000 12:00:00 AM\", \"00:00:00\", \"UTC\", NaN, \"m\", \"pH\", \"NaN\", 8.0, \"std units\", NaN, NaN, NaN], [63, \"11NPSWRD-GUIS_ADEM_ALPT\", \"National Park Service Water Resources Division\", \"Alabama Point Public Beach Gulf of Mexico\", 30.2796, -87.5417, \"5/22/2000 12:00:00 AM\", \"00:00:00\", \"UTC\", NaN, \"m\", \"pH\", \"NaN\", 8.0, \"std units\", NaN, NaN, NaN], [64, \"11NPSWRD-GUIS_ADEM_ALPT\", \"National Park Service Water Resources Division\", \"Alabama Point Public Beach Gulf of Mexico\", 30.2796, -87.5417, \"5/25/2000 12:00:00 AM\", \"00:00:00\", \"UTC\", NaN, \"m\", \"pH\", \"NaN\", 8.28, \"std units\", NaN, NaN, NaN], [65, \"11NPSWRD-GUIS_ADEM_ALPT\", \"National Park Service Water Resources Division\", \"Alabama Point Public Beach Gulf of Mexico\", 30.2796, -87.5417, \"5/30/2000 12:00:00 AM\", \"00:00:00\", \"UTC\", NaN, \"m\", \"pH\", \"NaN\", 8.31, \"std units\", NaN, NaN, NaN], [66, \"11NPSWRD-GUIS_ADEM_ALPT\", \"National Park Service Water Resources Division\", \"Alabama Point Public Beach Gulf of Mexico\", 30.2796, -87.5417, \"6/1/2000 12:00:00 AM\", \"00:00:00\", \"UTC\", NaN, \"m\", \"pH\", \"NaN\", 7.96, \"std units\", NaN, NaN, NaN], [67, \"11NPSWRD-GUIS_ADEM_ALPT\", \"National Park Service Water Resources Division\", \"Alabama Point Public Beach Gulf of Mexico\", 30.2796, -87.5417, \"6/6/2000 12:00:00 AM\", \"00:00:00\", \"UTC\", NaN, \"m\", \"pH\", \"NaN\", 8.01, \"std units\", NaN, NaN, NaN], [68, \"11NPSWRD-GUIS_ADEM_ALPT\", \"National Park Service Water Resources Division\", \"Alabama Point Public Beach Gulf of Mexico\", 30.2796, -87.5417, \"6/8/2000 12:00:00 AM\", \"00:00:00\", \"UTC\", NaN, \"m\", \"pH\", \"NaN\", 8.0, \"std units\", NaN, NaN, NaN], [69, \"11NPSWRD-GUIS_ADEM_ALPT\", \"National Park Service Water Resources Division\", \"Alabama Point Public Beach Gulf of Mexico\", 30.2796, -87.5417, \"6/15/2000 12:00:00 AM\", \"00:00:00\", \"UTC\", NaN, \"m\", \"pH\", \"NaN\", 8.07, \"std units\", NaN, NaN, NaN], [70, \"11NPSWRD-GUIS_ADEM_ALPT\", \"National Park Service Water Resources Division\", \"Alabama Point Public Beach Gulf of Mexico\", 30.2796, -87.5417, \"6/19/2000 12:00:00 AM\", \"00:00:00\", \"UTC\", NaN, \"m\", \"pH\", \"NaN\", 8.07, \"std units\", NaN, NaN, NaN], [71, \"11NPSWRD-GUIS_ADEM_ALPT\", \"National Park Service Water Resources Division\", \"Alabama Point Public Beach Gulf of Mexico\", 30.2796, -87.5417, \"6/22/2000 12:00:00 AM\", \"00:00:00\", \"UTC\", NaN, \"m\", \"pH\", \"NaN\", 8.09, \"std units\", NaN, NaN, NaN], [72, \"11NPSWRD-GUIS_ADEM_ALPT\", \"National Park Service Water Resources Division\", \"Alabama Point Public Beach Gulf of Mexico\", 30.2796, -87.5417, \"6/26/2000 12:00:00 AM\", \"00:00:00\", \"UTC\", NaN, \"m\", \"pH\", \"NaN\", 8.11, \"std units\", NaN, NaN, NaN], [73, \"11NPSWRD-GUIS_ADEM_ALPT\", \"National Park Service Water Resources Division\", \"Alabama Point Public Beach Gulf of Mexico\", 30.2796, -87.5417, \"6/29/2000 12:00:00 AM\", \"00:00:00\", \"UTC\", NaN, \"m\", \"pH\", \"NaN\", 8.1, \"std units\", NaN, NaN, NaN], [74, \"11NPSWRD-GUIS_ADEM_ALPT\", \"National Park Service Water Resources Division\", \"Alabama Point Public Beach Gulf of Mexico\", 30.2796, -87.5417, \"7/6/2000 12:00:00 AM\", \"00:00:00\", \"UTC\", NaN, \"m\", \"pH\", \"NaN\", 8.05, \"std units\", NaN, NaN, NaN], [75, \"11NPSWRD-GUIS_ADEM_ALPT\", \"National Park Service Water Resources Division\", \"Alabama Point Public Beach Gulf of Mexico\", 30.2796, -87.5417, \"7/10/2000 12:00:00 AM\", \"00:00:00\", \"UTC\", NaN, \"m\", \"pH\", \"NaN\", 7.88, \"std units\", NaN, NaN, NaN], [76, \"11NPSWRD-GUIS_ADEM_ALPT\", \"National Park Service Water Resources Division\", \"Alabama Point Public Beach Gulf of Mexico\", 30.2796, -87.5417, \"7/17/2000 12:00:00 AM\", \"00:00:00\", \"UTC\", NaN, \"m\", \"pH\", \"NaN\", 7.63, \"std units\", NaN, NaN, NaN], [77, \"11NPSWRD-GUIS_ADEM_ALPT\", \"National Park Service Water Resources Division\", \"Alabama Point Public Beach Gulf of Mexico\", 30.2796, -87.5417, \"7/20/2000 12:00:00 AM\", \"00:00:00\", \"UTC\", NaN, \"m\", \"pH\", \"NaN\", 7.79, \"std units\", NaN, NaN, NaN], [78, \"11NPSWRD-GUIS_ADEM_ALPT\", \"National Park Service Water Resources Division\", \"Alabama Point Public Beach Gulf of Mexico\", 30.2796, -87.5417, \"7/24/2000 12:00:00 AM\", \"00:00:00\", \"UTC\", NaN, \"m\", \"pH\", \"NaN\", 7.5, \"std units\", NaN, NaN, NaN], [79, \"11NPSWRD-GUIS_ADEM_ALPT\", \"National Park Service Water Resources Division\", \"Alabama Point Public Beach Gulf of Mexico\", 30.2796, -87.5417, \"7/27/2000 12:00:00 AM\", \"00:00:00\", \"UTC\", NaN, \"m\", \"pH\", \"NaN\", 7.32, \"std units\", NaN, NaN, NaN], [80, \"11NPSWRD-GUIS_ADEM_ALPT\", \"National Park Service Water Resources Division\", \"Alabama Point Public Beach Gulf of Mexico\", 30.2796, -87.5417, \"7/31/2000 12:00:00 AM\", \"00:00:00\", \"UTC\", NaN, \"m\", \"pH\", \"NaN\", 7.98, \"std units\", NaN, NaN, NaN], [81, \"11NPSWRD-GUIS_ADEM_ALPT\", \"National Park Service Water Resources Division\", \"Alabama Point Public Beach Gulf of Mexico\", 30.2796, -87.5417, \"8/3/2000 12:00:00 AM\", \"00:00:00\", \"UTC\", NaN, \"m\", \"pH\", \"NaN\", 7.94, \"std units\", NaN, NaN, NaN], [82, \"11NPSWRD-GUIS_ADEM_GSP\", \"National Park Service Water Resources Division\", \"Gulf State Park Pavillion Gulf Of Mexico\", 30.2547, -87.6433, \"10/4/1999 12:00:00 AM\", \"00:00:00\", \"UTC\", NaN, \"m\", \"pH\", \"NaN\", 8.03, \"std units\", NaN, NaN, NaN], [83, \"11NPSWRD-GUIS_ADEM_GSP\", \"National Park Service Water Resources Division\", \"Gulf State Park Pavillion Gulf Of Mexico\", 30.2547, -87.6433, \"11/1/1999 12:00:00 AM\", \"00:00:00\", \"UTC\", NaN, \"m\", \"pH\", \"NaN\", 8.1, \"std units\", NaN, NaN, NaN], [84, \"11NPSWRD-GUIS_ADEM_GSP\", \"National Park Service Water Resources Division\", \"Gulf State Park Pavillion Gulf Of Mexico\", 30.2547, -87.6433, \"12/6/1999 12:00:00 AM\", \"00:00:00\", \"UTC\", NaN, \"m\", \"pH\", \"NaN\", 8.1, \"std units\", NaN, NaN, NaN], [85, \"11NPSWRD-GUIS_ADEM_GSP\", \"National Park Service Water Resources Division\", \"Gulf State Park Pavillion Gulf Of Mexico\", 30.2547, -87.6433, \"1/10/2000 12:00:00 AM\", \"00:00:00\", \"UTC\", NaN, \"m\", \"pH\", \"NaN\", 8.02, \"std units\", NaN, NaN, NaN], [86, \"11NPSWRD-GUIS_ADEM_GSP\", \"National Park Service Water Resources Division\", \"Gulf State Park Pavillion Gulf Of Mexico\", 30.2547, -87.6433, \"2/7/2000 12:00:00 AM\", \"00:00:00\", \"UTC\", NaN, \"m\", \"pH\", \"NaN\", 8.0, \"std units\", NaN, NaN, NaN], [87, \"11NPSWRD-GUIS_ADEM_GSP\", \"National Park Service Water Resources Division\", \"Gulf State Park Pavillion Gulf Of Mexico\", 30.2547, -87.6433, \"3/8/2000 12:00:00 AM\", \"00:00:00\", \"UTC\", NaN, \"m\", \"pH\", \"NaN\", 8.1, \"std units\", NaN, NaN, NaN], [88, \"11NPSWRD-GUIS_ADEM_GSP\", \"National Park Service Water Resources Division\", \"Gulf State Park Pavillion Gulf Of Mexico\", 30.2547, -87.6433, \"4/3/2000 12:00:00 AM\", \"00:00:00\", \"UTC\", NaN, \"m\", \"pH\", \"NaN\", 8.0, \"std units\", NaN, NaN, NaN], [89, \"11NPSWRD-GUIS_ADEM_GSP\", \"National Park Service Water Resources Division\", \"Gulf State Park Pavillion Gulf Of Mexico\", 30.2547, -87.6433, \"5/1/2000 12:00:00 AM\", \"00:00:00\", \"UTC\", NaN, \"m\", \"pH\", \"NaN\", 8.1, \"std units\", NaN, NaN, NaN], [90, \"11NPSWRD-GUIS_ADEM_GSP\", \"National Park Service Water Resources Division\", \"Gulf State Park Pavillion Gulf Of Mexico\", 30.2547, -87.6433, \"5/15/2000 12:00:00 AM\", \"00:00:00\", \"UTC\", NaN, \"m\", \"pH\", \"NaN\", 8.13, \"std units\", NaN, NaN, NaN], [91, \"11NPSWRD-GUIS_ADEM_GSP\", \"National Park Service Water Resources Division\", \"Gulf State Park Pavillion Gulf Of Mexico\", 30.2547, -87.6433, \"5/18/2000 12:00:00 AM\", \"00:00:00\", \"UTC\", NaN, \"m\", \"pH\", \"NaN\", 8.0, \"std units\", NaN, NaN, NaN], [92, \"11NPSWRD-GUIS_ADEM_GSP\", \"National Park Service Water Resources Division\", \"Gulf State Park Pavillion Gulf Of Mexico\", 30.2547, -87.6433, \"5/22/2000 12:00:00 AM\", \"00:00:00\", \"UTC\", NaN, \"m\", \"pH\", \"NaN\", 8.0, \"std units\", NaN, NaN, NaN], [93, \"11NPSWRD-GUIS_ADEM_GSP\", \"National Park Service Water Resources Division\", \"Gulf State Park Pavillion Gulf Of Mexico\", 30.2547, -87.6433, \"5/25/2000 12:00:00 AM\", \"00:00:00\", \"UTC\", NaN, \"m\", \"pH\", \"NaN\", 8.17, \"std units\", NaN, NaN, NaN], [94, \"11NPSWRD-GUIS_ADEM_GSP\", \"National Park Service Water Resources Division\", \"Gulf State Park Pavillion Gulf Of Mexico\", 30.2547, -87.6433, \"6/1/2000 12:00:00 AM\", \"00:00:00\", \"UTC\", NaN, \"m\", \"pH\", \"NaN\", 7.95, \"std units\", NaN, NaN, NaN], [95, \"11NPSWRD-GUIS_ADEM_GSP\", \"National Park Service Water Resources Division\", \"Gulf State Park Pavillion Gulf Of Mexico\", 30.2547, -87.6433, \"6/6/2000 12:00:00 AM\", \"00:00:00\", \"UTC\", NaN, \"m\", \"pH\", \"NaN\", 7.98, \"std units\", NaN, NaN, NaN], [96, \"11NPSWRD-GUIS_ADEM_GSP\", \"National Park Service Water Resources Division\", \"Gulf State Park Pavillion Gulf Of Mexico\", 30.2547, -87.6433, \"6/8/2000 12:00:00 AM\", \"00:00:00\", \"UTC\", NaN, \"m\", \"pH\", \"NaN\", 8.0, \"std units\", NaN, NaN, NaN], [97, \"11NPSWRD-GUIS_ADEM_GSP\", \"National Park Service Water Resources Division\", \"Gulf State Park Pavillion Gulf Of Mexico\", 30.2547, -87.6433, \"6/15/2000 12:00:00 AM\", \"00:00:00\", \"UTC\", NaN, \"m\", \"pH\", \"NaN\", 8.02, \"std units\", NaN, NaN, NaN], [98, \"11NPSWRD-GUIS_ADEM_GSP\", \"National Park Service Water Resources Division\", \"Gulf State Park Pavillion Gulf Of Mexico\", 30.2547, -87.6433, \"6/19/2000 12:00:00 AM\", \"00:00:00\", \"UTC\", NaN, \"m\", \"pH\", \"NaN\", 8.14, \"std units\", NaN, NaN, NaN], [99, \"11NPSWRD-GUIS_ADEM_GSP\", \"National Park Service Water Resources Division\", \"Gulf State Park Pavillion Gulf Of Mexico\", 30.2547, -87.6433, \"6/22/2000 12:00:00 AM\", \"00:00:00\", \"UTC\", NaN, \"m\", \"pH\", \"NaN\", 8.01, \"std units\", NaN, NaN, NaN], [100, \"11NPSWRD-GUIS_ADEM_GSP\", \"National Park Service Water Resources Division\", \"Gulf State Park Pavillion Gulf Of Mexico\", 30.2547, -87.6433, \"6/26/2000 12:00:00 AM\", \"00:00:00\", \"UTC\", NaN, \"m\", \"pH\", \"NaN\", 7.98, \"std units\", NaN, NaN, NaN], [101, \"11NPSWRD-GUIS_ADEM_GSP\", \"National Park Service Water Resources Division\", \"Gulf State Park Pavillion Gulf Of Mexico\", 30.2547, -87.6433, \"6/29/2000 12:00:00 AM\", \"00:00:00\", \"UTC\", NaN, \"m\", \"pH\", \"NaN\", 8.1, \"std units\", NaN, NaN, NaN], [102, \"11NPSWRD-GUIS_ADEM_GSP\", \"National Park Service Water Resources Division\", \"Gulf State Park Pavillion Gulf Of Mexico\", 30.2547, -87.6433, \"7/6/2000 12:00:00 AM\", \"00:00:00\", \"UTC\", NaN, \"m\", \"pH\", \"NaN\", 8.04, \"std units\", NaN, NaN, NaN], [103, \"11NPSWRD-GUIS_ADEM_GSP\", \"National Park Service Water Resources Division\", \"Gulf State Park Pavillion Gulf Of Mexico\", 30.2547, -87.6433, \"7/10/2000 12:00:00 AM\", \"00:00:00\", \"UTC\", NaN, \"m\", \"pH\", \"NaN\", 7.86, \"std units\", NaN, NaN, NaN], [104, \"11NPSWRD-GUIS_ADEM_GSP\", \"National Park Service Water Resources Division\", \"Gulf State Park Pavillion Gulf Of Mexico\", 30.2547, -87.6433, \"7/17/2000 12:00:00 AM\", \"00:00:00\", \"UTC\", NaN, \"m\", \"pH\", \"NaN\", 7.7, \"std units\", NaN, NaN, NaN], [105, \"11NPSWRD-GUIS_ADEM_GSP\", \"National Park Service Water Resources Division\", \"Gulf State Park Pavillion Gulf Of Mexico\", 30.2547, -87.6433, \"7/20/2000 12:00:00 AM\", \"00:00:00\", \"UTC\", NaN, \"m\", \"pH\", \"NaN\", 7.87, \"std units\", NaN, NaN, NaN], [106, \"11NPSWRD-GUIS_ADEM_GSP\", \"National Park Service Water Resources Division\", \"Gulf State Park Pavillion Gulf Of Mexico\", 30.2547, -87.6433, \"7/24/2000 12:00:00 AM\", \"00:00:00\", \"UTC\", NaN, \"m\", \"pH\", \"NaN\", 7.62, \"std units\", NaN, NaN, NaN], [107, \"11NPSWRD-GUIS_ADEM_GSP\", \"National Park Service Water Resources Division\", \"Gulf State Park Pavillion Gulf Of Mexico\", 30.2547, -87.6433, \"7/27/2000 12:00:00 AM\", \"00:00:00\", \"UTC\", NaN, \"m\", \"pH\", \"NaN\", 7.56, \"std units\", NaN, NaN, NaN], [108, \"11NPSWRD-GUIS_ADEM_GSP\", \"National Park Service Water Resources Division\", \"Gulf State Park Pavillion Gulf Of Mexico\", 30.2547, -87.6433, \"7/31/2000 12:00:00 AM\", \"00:00:00\", \"UTC\", NaN, \"m\", \"pH\", \"NaN\", 7.93, \"std units\", NaN, NaN, NaN], [109, \"11NPSWRD-GUIS_ADEM_GSP\", \"National Park Service Water Resources Division\", \"Gulf State Park Pavillion Gulf Of Mexico\", 30.2547, -87.6433, \"8/3/2000 12:00:00 AM\", \"00:00:00\", \"UTC\", NaN, \"m\", \"pH\", \"NaN\", 7.94, \"std units\", NaN, NaN, NaN], [110, \"21AWIC-1283\", \"ALABAMA DEPT. OF ENVIRONMENTAL MANAGEMENT - WATER QUALITY DATA\", \"MGRB-7\", 30.3898, -87.8013, \"4/23/2008 12:00:00 AM\", \"16:00:00\", \"UTC\", 0.0, \"m\", \"pH\", \"NaN\", 6.94, \"std units\", NaN, -9773997.0, 3553754.77], [111, \"21AWIC-1283\", \"ALABAMA DEPT. OF ENVIRONMENTAL MANAGEMENT - WATER QUALITY DATA\", \"MGRB-7\", 30.3898, -87.8013, \"4/23/2008 12:00:00 AM\", \"16:00:00\", \"UTC\", 0.0, \"m\", \"pH\", \"NaN\", 6.99, \"std units\", NaN, -9773997.0, 3553754.77], [112, \"21AWIC-1283\", \"ALABAMA DEPT. OF ENVIRONMENTAL MANAGEMENT - WATER QUALITY DATA\", \"MGRB-7\", 30.3898, -87.8013, \"4/23/2008 12:00:00 AM\", \"16:00:00\", \"UTC\", 0.0, \"m\", \"pH\", \"NaN\", 7.02, \"std units\", NaN, -9773997.0, 3553754.77], [113, \"21AWIC-1283\", \"ALABAMA DEPT. OF ENVIRONMENTAL MANAGEMENT - WATER QUALITY DATA\", \"MGRB-7\", 30.3898, -87.8013, \"5/20/2008 12:00:00 AM\", \"16:26:00\", \"UTC\", 0.0, \"m\", \"pH\", \"NaN\", 7.11, \"std units\", NaN, -9773997.0, 3553754.77], [114, \"21AWIC-1283\", \"ALABAMA DEPT. OF ENVIRONMENTAL MANAGEMENT - WATER QUALITY DATA\", \"MGRB-7\", 30.3898, -87.8013, \"6/12/2008 12:00:00 AM\", \"16:46:00\", \"UTC\", 0.0, \"m\", \"pH\", \"NaN\", 6.652, \"std units\", NaN, -9773997.0, 3553754.77], [115, \"21AWIC-1283\", \"ALABAMA DEPT. OF ENVIRONMENTAL MANAGEMENT - WATER QUALITY DATA\", \"MGRB-7\", 30.3898, -87.8013, \"6/23/2008 12:00:00 AM\", \"15:50:00\", \"UTC\", 0.0, \"m\", \"pH\", \"NaN\", 6.828, \"std units\", NaN, -9773997.0, 3553754.77], [116, \"21AWIC-1283\", \"ALABAMA DEPT. OF ENVIRONMENTAL MANAGEMENT - WATER QUALITY DATA\", \"MGRB-7\", 30.3898, -87.8013, \"6/30/2008 12:00:00 AM\", \"16:25:00\", \"UTC\", 0.0, \"m\", \"pH\", \"NaN\", 7.078, \"std units\", NaN, -9773997.0, 3553754.77], [117, \"21AWIC-1283\", \"ALABAMA DEPT. OF ENVIRONMENTAL MANAGEMENT - WATER QUALITY DATA\", \"MGRB-7\", 30.3898, -87.8013, \"7/7/2008 12:00:00 AM\", \"18:50:00\", \"UTC\", 0.0, \"m\", \"pH\", \"NaN\", 7.165, \"std units\", NaN, -9773997.0, 3553754.77], [118, \"21AWIC-1283\", \"ALABAMA DEPT. OF ENVIRONMENTAL MANAGEMENT - WATER QUALITY DATA\", \"MGRB-7\", 30.3898, -87.8013, \"7/10/2008 12:00:00 AM\", \"16:34:00\", \"UTC\", 0.0, \"m\", \"pH\", \"NaN\", 7.355, \"std units\", NaN, -9773997.0, 3553754.77], [119, \"21AWIC-1283\", \"ALABAMA DEPT. OF ENVIRONMENTAL MANAGEMENT - WATER QUALITY DATA\", \"MGRB-7\", 30.3898, -87.8013, \"7/14/2008 12:00:00 AM\", \"16:38:00\", \"UTC\", 0.0, \"m\", \"pH\", \"NaN\", 6.855, \"std units\", NaN, -9773997.0, 3553754.77], [120, \"21AWIC-1283\", \"ALABAMA DEPT. OF ENVIRONMENTAL MANAGEMENT - WATER QUALITY DATA\", \"MGRB-7\", 30.3898, -87.8013, \"8/14/2008 12:00:00 AM\", \"16:15:00\", \"UTC\", 0.0, \"m\", \"pH\", \"NaN\", 6.662, \"std units\", NaN, -9773997.0, 3553754.77], [121, \"21AWIC-1283\", \"ALABAMA DEPT. OF ENVIRONMENTAL MANAGEMENT - WATER QUALITY DATA\", \"MGRB-7\", 30.3898, -87.8013, \"8/18/2008 12:00:00 AM\", \"16:31:00\", \"UTC\", 0.0, \"m\", \"pH\", \"NaN\", 6.815, \"std units\", NaN, -9773997.0, 3553754.77], [122, \"21AWIC-1283\", \"ALABAMA DEPT. OF ENVIRONMENTAL MANAGEMENT - WATER QUALITY DATA\", \"MGRB-7\", 30.3898, -87.8013, \"8/18/2008 12:00:00 AM\", \"16:31:00\", \"UTC\", 0.0, \"m\", \"pH\", \"NaN\", 6.77, \"std units\", NaN, -9773997.0, 3553754.77], [123, \"21AWIC-1283\", \"ALABAMA DEPT. OF ENVIRONMENTAL MANAGEMENT - WATER QUALITY DATA\", \"MGRB-7\", 30.3898, -87.8013, \"9/4/2008 12:00:00 AM\", \"16:25:00\", \"UTC\", 0.0, \"m\", \"pH\", \"NaN\", 6.662, \"std units\", NaN, -9773997.0, 3553754.77], [124, \"21AWIC-1283\", \"ALABAMA DEPT. OF ENVIRONMENTAL MANAGEMENT - WATER QUALITY DATA\", \"MGRB-7\", 30.3898, -87.8013, \"9/8/2008 12:00:00 AM\", \"16:35:00\", \"UTC\", 0.0, \"m\", \"pH\", \"NaN\", 6.82, \"std units\", NaN, -9773997.0, 3553754.77], [125, \"21AWIC-1283\", \"ALABAMA DEPT. OF ENVIRONMENTAL MANAGEMENT - WATER QUALITY DATA\", \"MGRB-7\", 30.3898, -87.8013, \"9/10/2008 12:00:00 AM\", \"18:05:00\", \"UTC\", 0.0, \"m\", \"pH\", \"NaN\", 6.985, \"std units\", NaN, -9773997.0, 3553754.77], [126, \"21AWIC-1283\", \"ALABAMA DEPT. OF ENVIRONMENTAL MANAGEMENT - WATER QUALITY DATA\", \"MGRB-7\", 30.3898, -87.8013, \"9/15/2008 12:00:00 AM\", \"16:41:00\", \"UTC\", 0.0, \"m\", \"pH\", \"NaN\", 6.575, \"std units\", NaN, -9773997.0, 3553754.77], [127, \"21AWIC-1283\", \"ALABAMA DEPT. OF ENVIRONMENTAL MANAGEMENT - WATER QUALITY DATA\", \"MGRB-7\", 30.3898, -87.8013, \"10/15/2008 12:00:00 AM\", \"16:23:00\", \"UTC\", 0.0, \"m\", \"pH\", \"NaN\", 6.97, \"std units\", NaN, -9773997.0, 3553754.77], [128, \"21AWIC-1283\", \"ALABAMA DEPT. OF ENVIRONMENTAL MANAGEMENT - WATER QUALITY DATA\", \"MGRB-7\", 30.3898, -87.8013, \"11/12/2008 12:00:00 AM\", \"16:41:00\", \"UTC\", 0.0, \"m\", \"pH\", \"NaN\", 6.627, \"std units\", NaN, -9773997.0, 3553754.77], [129, \"21AWIC-1063\", \"ALABAMA DEPT. OF ENVIRONMENTAL MANAGEMENT - WATER QUALITY DATA\", \"IC-1A\", 30.2793, -87.687, \"4/22/2004 12:00:00 AM\", \"00:00:00\", \"UTC\", 0.0, \"m\", \"pH\", \"NaN\", 7.481, \"std units\", NaN, -9761273.0, 3539502.7297], [130, \"21AWIC-1063\", \"ALABAMA DEPT. OF ENVIRONMENTAL MANAGEMENT - WATER QUALITY DATA\", \"IC-1A\", 30.2793, -87.687, \"5/25/2004 12:00:00 AM\", \"00:00:00\", \"UTC\", 0.0, \"m\", \"pH\", \"NaN\", 7.771, \"std units\", NaN, -9761273.0, 3539502.7297], [131, \"21AWIC-1063\", \"ALABAMA DEPT. OF ENVIRONMENTAL MANAGEMENT - WATER QUALITY DATA\", \"IC-1A\", 30.2793, -87.687, \"6/22/2004 12:00:00 AM\", \"00:00:00\", \"UTC\", 0.0, \"m\", \"pH\", \"NaN\", 7.523, \"std units\", NaN, -9761273.0, 3539502.7297], [132, \"21AWIC-1063\", \"ALABAMA DEPT. OF ENVIRONMENTAL MANAGEMENT - WATER QUALITY DATA\", \"IC-1A\", 30.2793, -87.687, \"6/22/2004 12:00:00 AM\", \"00:00:00\", \"UTC\", 0.0, \"m\", \"pH\", \"NaN\", 7.777, \"std units\", NaN, -9761273.0, 3539502.7297], [133, \"21AWIC-1063\", \"ALABAMA DEPT. OF ENVIRONMENTAL MANAGEMENT - WATER QUALITY DATA\", \"IC-1A\", 30.2793, -87.687, \"7/22/2004 12:00:00 AM\", \"00:00:00\", \"UTC\", 0.0, \"m\", \"pH\", \"NaN\", 6.732, \"std units\", NaN, -9761273.0, 3539502.7297], [134, \"21AWIC-1063\", \"ALABAMA DEPT. OF ENVIRONMENTAL MANAGEMENT - WATER QUALITY DATA\", \"IC-1A\", 30.2793, -87.687, \"8/18/2004 12:00:00 AM\", \"00:00:00\", \"UTC\", 0.0, \"m\", \"pH\", \"NaN\", 7.651, \"std units\", NaN, -9761273.0, 3539502.7297], [135, \"21AWIC-1063\", \"ALABAMA DEPT. OF ENVIRONMENTAL MANAGEMENT - WATER QUALITY DATA\", \"IC-1A\", 30.2793, -87.687, \"8/18/2004 12:00:00 AM\", \"00:00:00\", \"UTC\", 0.0, \"m\", \"pH\", \"NaN\", 7.63, \"std units\", NaN, -9761273.0, 3539502.7297], [136, \"21AWIC-1063\", \"ALABAMA DEPT. OF ENVIRONMENTAL MANAGEMENT - WATER QUALITY DATA\", \"IC-1A\", 30.2793, -87.687, \"10/5/2004 12:00:00 AM\", \"00:00:00\", \"UTC\", 0.0, \"m\", \"pH\", \"NaN\", 6.132, \"std units\", NaN, -9761273.0, 3539502.7297], [137, \"21AWIC-1063\", \"ALABAMA DEPT. OF ENVIRONMENTAL MANAGEMENT - WATER QUALITY DATA\", \"IC-1A\", 30.2793, -87.687, \"10/14/2004 12:00:00 AM\", \"00:00:00\", \"UTC\", 0.0, \"m\", \"pH\", \"NaN\", 6.663, \"std units\", NaN, -9761273.0, 3539502.7297], [138, \"21AWIC-1063\", \"ALABAMA DEPT. OF ENVIRONMENTAL MANAGEMENT - WATER QUALITY DATA\", \"IC-1A\", 30.2793, -87.687, \"3/11/2005 12:00:00 AM\", \"18:20:00\", \"UTC\", 0.0, \"m\", \"pH\", \"NaN\", 8.23, \"std units\", NaN, -9761273.0, 3539502.7297], [139, \"21AWIC-1063\", \"ALABAMA DEPT. OF ENVIRONMENTAL MANAGEMENT - WATER QUALITY DATA\", \"IC-1A\", 30.2793, -87.687, \"3/11/2005 12:00:00 AM\", \"18:20:00\", \"UTC\", 0.0, \"m\", \"pH\", \"NaN\", 8.241, \"std units\", NaN, -9761273.0, 3539502.7297], [140, \"21AWIC-1063\", \"ALABAMA DEPT. OF ENVIRONMENTAL MANAGEMENT - WATER QUALITY DATA\", \"IC-1A\", 30.2793, -87.687, \"4/5/2005 12:00:00 AM\", \"16:45:00\", \"UTC\", 0.0, \"m\", \"pH\", \"NaN\", 7.255, \"std units\", NaN, -9761273.0, 3539502.7297], [141, \"21AWIC-1063\", \"ALABAMA DEPT. OF ENVIRONMENTAL MANAGEMENT - WATER QUALITY DATA\", \"IC-1A\", 30.2793, -87.687, \"4/5/2005 12:00:00 AM\", \"16:45:00\", \"UTC\", 0.0, \"m\", \"pH\", \"NaN\", 6.879, \"std units\", NaN, -9761273.0, 3539502.7297], [142, \"21AWIC-1063\", \"ALABAMA DEPT. OF ENVIRONMENTAL MANAGEMENT - WATER QUALITY DATA\", \"IC-1A\", 30.2793, -87.687, \"6/21/2005 12:00:00 AM\", \"16:10:00\", \"UTC\", 0.0, \"m\", \"pH\", \"NaN\", 7.448, \"std units\", NaN, -9761273.0, 3539502.7297], [143, \"21AWIC-1063\", \"ALABAMA DEPT. OF ENVIRONMENTAL MANAGEMENT - WATER QUALITY DATA\", \"IC-1A\", 30.2793, -87.687, \"6/21/2005 12:00:00 AM\", \"16:10:00\", \"UTC\", 0.0, \"m\", \"pH\", \"NaN\", 7.46, \"std units\", NaN, -9761273.0, 3539502.7297], [144, \"21AWIC-1063\", \"ALABAMA DEPT. OF ENVIRONMENTAL MANAGEMENT - WATER QUALITY DATA\", \"IC-1A\", 30.2793, -87.687, \"7/19/2005 12:00:00 AM\", \"16:15:00\", \"UTC\", 0.0, \"m\", \"pH\", \"NaN\", 6.939, \"std units\", NaN, -9761273.0, 3539502.7297], [145, \"21AWIC-1063\", \"ALABAMA DEPT. OF ENVIRONMENTAL MANAGEMENT - WATER QUALITY DATA\", \"IC-1A\", 30.2793, -87.687, \"8/8/2005 12:00:00 AM\", \"16:05:00\", \"UTC\", 0.0, \"m\", \"pH\", \"NaN\", 7.338, \"std units\", NaN, -9761273.0, 3539502.7297], [146, \"21AWIC-1063\", \"ALABAMA DEPT. OF ENVIRONMENTAL MANAGEMENT - WATER QUALITY DATA\", \"IC-1A\", 30.2793, -87.687, \"9/14/2005 12:00:00 AM\", \"17:20:00\", \"UTC\", 0.0, \"m\", \"pH\", \"NaN\", 6.533, \"std units\", NaN, -9761273.0, 3539502.7297], [147, \"21AWIC-1063\", \"ALABAMA DEPT. OF ENVIRONMENTAL MANAGEMENT - WATER QUALITY DATA\", \"IC-1A\", 30.2793, -87.687, \"9/14/2005 12:00:00 AM\", \"17:20:00\", \"UTC\", 0.0, \"m\", \"pH\", \"NaN\", 7.328, \"std units\", NaN, -9761273.0, 3539502.7297], [148, \"21AWIC-1063\", \"ALABAMA DEPT. OF ENVIRONMENTAL MANAGEMENT - WATER QUALITY DATA\", \"IC-1A\", 30.2793, -87.687, \"10/26/2005 12:00:00 AM\", \"16:45:00\", \"UTC\", 0.0, \"m\", \"pH\", \"NaN\", 7.822, \"std units\", NaN, -9761273.0, 3539502.7297], [149, \"21AWIC-1063\", \"ALABAMA DEPT. OF ENVIRONMENTAL MANAGEMENT - WATER QUALITY DATA\", \"IC-1A\", 30.2793, -87.687, \"11/3/2005 12:00:00 AM\", \"17:05:00\", \"UTC\", 0.0, \"m\", \"pH\", \"NaN\", 7.95, \"std units\", NaN, -9761273.0, 3539502.7297], [150, \"21AWIC-1063\", \"ALABAMA DEPT. OF ENVIRONMENTAL MANAGEMENT - WATER QUALITY DATA\", \"IC-1A\", 30.2793, -87.687, \"12/8/2005 12:00:00 AM\", \"17:00:00\", \"UTC\", 0.0, \"m\", \"pH\", \"NaN\", 8.114, \"std units\", NaN, -9761273.0, 3539502.7297], [151, \"21AWIC-1063\", \"ALABAMA DEPT. OF ENVIRONMENTAL MANAGEMENT - WATER QUALITY DATA\", \"IC-1A\", 30.2793, -87.687, \"12/8/2005 12:00:00 AM\", \"17:00:00\", \"UTC\", 0.0, \"m\", \"pH\", \"NaN\", 8.134, \"std units\", NaN, -9761273.0, 3539502.7297], [152, \"21AWIC-1063\", \"ALABAMA DEPT. OF ENVIRONMENTAL MANAGEMENT - WATER QUALITY DATA\", \"IC-1A\", 30.2793, -87.687, \"1/19/2006 12:00:00 AM\", \"17:40:00\", \"UTC\", 0.0, \"m\", \"pH\", \"NaN\", 8.032, \"std units\", NaN, -9761273.0, 3539502.7297], [153, \"21AWIC-1063\", \"ALABAMA DEPT. OF ENVIRONMENTAL MANAGEMENT - WATER QUALITY DATA\", \"IC-1A\", 30.2793, -87.687, \"1/19/2006 12:00:00 AM\", \"17:40:00\", \"UTC\", 0.0, \"m\", \"pH\", \"NaN\", 8.047, \"std units\", NaN, -9761273.0, 3539502.7297], [154, \"21AWIC-1063\", \"ALABAMA DEPT. OF ENVIRONMENTAL MANAGEMENT - WATER QUALITY DATA\", \"IC-1A\", 30.2793, -87.687, \"3/21/2006 12:00:00 AM\", \"18:00:00\", \"UTC\", 0.0, \"m\", \"pH\", \"NaN\", 7.672, \"std units\", NaN, -9761273.0, 3539502.7297], [155, \"21AWIC-1063\", \"ALABAMA DEPT. OF ENVIRONMENTAL MANAGEMENT - WATER QUALITY DATA\", \"IC-1A\", 30.2793, -87.687, \"4/27/2006 12:00:00 AM\", \"18:10:00\", \"UTC\", 0.0, \"m\", \"pH\", \"NaN\", 7.516, \"std units\", NaN, -9761273.0, 3539502.7297], [156, \"21AWIC-1063\", \"ALABAMA DEPT. OF ENVIRONMENTAL MANAGEMENT - WATER QUALITY DATA\", \"IC-1A\", 30.2793, -87.687, \"5/16/2006 12:00:00 AM\", \"18:15:00\", \"UTC\", 0.0, \"m\", \"pH\", \"NaN\", 7.669, \"std units\", NaN, -9761273.0, 3539502.7297], [157, \"21AWIC-1063\", \"ALABAMA DEPT. OF ENVIRONMENTAL MANAGEMENT - WATER QUALITY DATA\", \"IC-1A\", 30.2793, -87.687, \"6/20/2006 12:00:00 AM\", \"17:00:00\", \"UTC\", 0.0, \"m\", \"pH\", \"NaN\", 7.85, \"std units\", NaN, -9761273.0, 3539502.7297], [158, \"21AWIC-1063\", \"ALABAMA DEPT. OF ENVIRONMENTAL MANAGEMENT - WATER QUALITY DATA\", \"IC-1A\", 30.2793, -87.687, \"6/20/2006 12:00:00 AM\", \"17:00:00\", \"UTC\", 0.0, \"m\", \"pH\", \"NaN\", 7.93, \"std units\", NaN, -9761273.0, 3539502.7297], [159, \"21AWIC-1063\", \"ALABAMA DEPT. OF ENVIRONMENTAL MANAGEMENT - WATER QUALITY DATA\", \"IC-1A\", 30.2793, -87.687, \"7/13/2006 12:00:00 AM\", \"16:15:00\", \"UTC\", 0.0, \"m\", \"pH\", \"NaN\", 7.927, \"std units\", NaN, -9761273.0, 3539502.7297], [160, \"21AWIC-1063\", \"ALABAMA DEPT. OF ENVIRONMENTAL MANAGEMENT - WATER QUALITY DATA\", \"IC-1A\", 30.2793, -87.687, \"8/14/2006 12:00:00 AM\", \"17:40:00\", \"UTC\", 0.0, \"m\", \"pH\", \"NaN\", 7.919, \"std units\", NaN, -9761273.0, 3539502.7297], [161, \"21AWIC-1063\", \"ALABAMA DEPT. OF ENVIRONMENTAL MANAGEMENT - WATER QUALITY DATA\", \"IC-1A\", 30.2793, -87.687, \"9/19/2006 12:00:00 AM\", \"16:30:00\", \"UTC\", 0.0, \"m\", \"pH\", \"NaN\", 7.681, \"std units\", NaN, -9761273.0, 3539502.7297], [162, \"21AWIC-1063\", \"ALABAMA DEPT. OF ENVIRONMENTAL MANAGEMENT - WATER QUALITY DATA\", \"IC-1A\", 30.2793, -87.687, \"9/19/2006 12:00:00 AM\", \"16:30:00\", \"UTC\", 0.0, \"m\", \"pH\", \"NaN\", 7.827, \"std units\", NaN, -9761273.0, 3539502.7297], [163, \"21AWIC-1063\", \"ALABAMA DEPT. OF ENVIRONMENTAL MANAGEMENT - WATER QUALITY DATA\", \"IC-1A\", 30.2793, -87.687, \"10/30/2006 12:00:00 AM\", \"17:45:00\", \"UTC\", 0.0, \"m\", \"pH\", \"NaN\", 7.945, \"std units\", NaN, -9761273.0, 3539502.7297], [164, \"21AWIC-1063\", \"ALABAMA DEPT. OF ENVIRONMENTAL MANAGEMENT - WATER QUALITY DATA\", \"IC-1A\", 30.2793, -87.687, \"2/6/2007 12:00:00 AM\", \"17:20:00\", \"UTC\", 0.0, \"m\", \"pH\", \"NaN\", 7.917, \"std units\", NaN, -9761273.0, 3539502.7297], [165, \"21AWIC-1063\", \"ALABAMA DEPT. OF ENVIRONMENTAL MANAGEMENT - WATER QUALITY DATA\", \"IC-1A\", 30.2793, -87.687, \"3/21/2007 12:00:00 AM\", \"16:00:00\", \"UTC\", 0.0, \"m\", \"pH\", \"NaN\", 6.463, \"std units\", NaN, -9761273.0, 3539502.7297], [166, \"21AWIC-1063\", \"ALABAMA DEPT. OF ENVIRONMENTAL MANAGEMENT - WATER QUALITY DATA\", \"IC-1A\", 30.2793, -87.687, \"3/21/2007 12:00:00 AM\", \"16:00:00\", \"UTC\", 0.0, \"m\", \"pH\", \"NaN\", 6.745, \"std units\", NaN, -9761273.0, 3539502.7297], [167, \"21AWIC-1063\", \"ALABAMA DEPT. OF ENVIRONMENTAL MANAGEMENT - WATER QUALITY DATA\", \"IC-1A\", 30.2793, -87.687, \"4/30/2007 12:00:00 AM\", \"16:00:00\", \"UTC\", 0.0, \"m\", \"pH\", \"NaN\", 6.5, \"std units\", NaN, -9761273.0, 3539502.7297], [168, \"21AWIC-1063\", \"ALABAMA DEPT. OF ENVIRONMENTAL MANAGEMENT - WATER QUALITY DATA\", \"IC-1A\", 30.2793, -87.687, \"5/15/2007 12:00:00 AM\", \"16:40:00\", \"UTC\", 0.0, \"m\", \"pH\", \"NaN\", 7.66, \"std units\", NaN, -9761273.0, 3539502.7297], [169, \"21AWIC-1063\", \"ALABAMA DEPT. OF ENVIRONMENTAL MANAGEMENT - WATER QUALITY DATA\", \"IC-1A\", 30.2793, -87.687, \"6/20/2007 12:00:00 AM\", \"15:40:00\", \"UTC\", 0.0, \"m\", \"pH\", \"NaN\", 6.963, \"std units\", NaN, -9761273.0, 3539502.7297], [170, \"21AWIC-1063\", \"ALABAMA DEPT. OF ENVIRONMENTAL MANAGEMENT - WATER QUALITY DATA\", \"IC-1A\", 30.2793, -87.687, \"7/25/2007 12:00:00 AM\", \"16:10:00\", \"UTC\", 0.0, \"m\", \"pH\", \"NaN\", 7.825, \"std units\", NaN, -9761273.0, 3539502.7297], [171, \"21AWIC-1063\", \"ALABAMA DEPT. OF ENVIRONMENTAL MANAGEMENT - WATER QUALITY DATA\", \"IC-1A\", 30.2793, -87.687, \"8/7/2007 12:00:00 AM\", \"16:15:00\", \"UTC\", 0.0, \"m\", \"pH\", \"NaN\", 7.88, \"std units\", NaN, -9761273.0, 3539502.7297], [172, \"21AWIC-1063\", \"ALABAMA DEPT. OF ENVIRONMENTAL MANAGEMENT - WATER QUALITY DATA\", \"IC-1A\", 30.2793, -87.687, \"9/24/2007 12:00:00 AM\", \"18:00:00\", \"UTC\", 0.0, \"m\", \"pH\", \"NaN\", 7.718, \"std units\", NaN, -9761273.0, 3539502.7297], [173, \"21AWIC-1063\", \"ALABAMA DEPT. OF ENVIRONMENTAL MANAGEMENT - WATER QUALITY DATA\", \"IC-1A\", 30.2793, -87.687, \"10/11/2007 12:00:00 AM\", \"18:30:00\", \"UTC\", 0.0, \"m\", \"pH\", \"NaN\", 7.763, \"std units\", NaN, -9761273.0, 3539502.7297], [174, \"21AWIC-1063\", \"ALABAMA DEPT. OF ENVIRONMENTAL MANAGEMENT - WATER QUALITY DATA\", \"IC-1A\", 30.2793, -87.687, \"10/11/2007 12:00:00 AM\", \"18:30:00\", \"UTC\", 0.0, \"m\", \"pH\", \"NaN\", 7.71, \"std units\", NaN, -9761273.0, 3539502.7297], [175, \"21AWIC-1063\", \"ALABAMA DEPT. OF ENVIRONMENTAL MANAGEMENT - WATER QUALITY DATA\", \"IC-1A\", 30.2793, -87.687, \"11/1/2007 12:00:00 AM\", \"15:30:00\", \"UTC\", 0.0, \"m\", \"pH\", \"NaN\", 7.876, \"std units\", NaN, -9761273.0, 3539502.7297], [176, \"21AWIC-1063\", \"ALABAMA DEPT. OF ENVIRONMENTAL MANAGEMENT - WATER QUALITY DATA\", \"IC-1A\", 30.2793, -87.687, \"12/4/2007 12:00:00 AM\", \"17:50:00\", \"UTC\", 0.0, \"m\", \"pH\", \"NaN\", 7.729, \"std units\", NaN, -9761273.0, 3539502.7297], [177, \"21AWIC-1063\", \"ALABAMA DEPT. OF ENVIRONMENTAL MANAGEMENT - WATER QUALITY DATA\", \"IC-1A\", 30.2793, -87.687, \"1/17/2008 12:00:00 AM\", \"16:20:00\", \"UTC\", 0.0, \"m\", \"pH\", \"NaN\", 7.737, \"std units\", NaN, -9761273.0, 3539502.7297], [178, \"21AWIC-1063\", \"ALABAMA DEPT. OF ENVIRONMENTAL MANAGEMENT - WATER QUALITY DATA\", \"IC-1A\", 30.2793, -87.687, \"1/17/2008 12:00:00 AM\", \"16:20:00\", \"UTC\", 0.0, \"m\", \"pH\", \"NaN\", 7.841, \"std units\", NaN, -9761273.0, 3539502.7297], [179, \"21AWIC-1063\", \"ALABAMA DEPT. OF ENVIRONMENTAL MANAGEMENT - WATER QUALITY DATA\", \"IC-1A\", 30.2793, -87.687, \"2/25/2008 12:00:00 AM\", \"16:20:00\", \"UTC\", 0.0, \"m\", \"pH\", \"NaN\", 6.963, \"std units\", NaN, -9761273.0, 3539502.7297], [180, \"21AWIC-1063\", \"ALABAMA DEPT. OF ENVIRONMENTAL MANAGEMENT - WATER QUALITY DATA\", \"IC-1A\", 30.2793, -87.687, \"3/12/2008 12:00:00 AM\", \"18:05:00\", \"UTC\", 0.0, \"m\", \"pH\", \"NaN\", 7.537, \"std units\", NaN, -9761273.0, 3539502.7297], [181, \"21AWIC-1063\", \"ALABAMA DEPT. OF ENVIRONMENTAL MANAGEMENT - WATER QUALITY DATA\", \"IC-1A\", 30.2793, -87.687, \"5/8/2008 12:00:00 AM\", \"18:25:00\", \"UTC\", 0.0, \"m\", \"pH\", \"NaN\", 7.73, \"std units\", NaN, -9761273.0, 3539502.7297], [182, \"21AWIC-1063\", \"ALABAMA DEPT. OF ENVIRONMENTAL MANAGEMENT - WATER QUALITY DATA\", \"IC-1A\", 30.2793, -87.687, \"5/8/2008 12:00:00 AM\", \"18:25:00\", \"UTC\", 0.0, \"m\", \"pH\", \"NaN\", 7.848, \"std units\", NaN, -9761273.0, 3539502.7297], [183, \"21AWIC-1063\", \"ALABAMA DEPT. OF ENVIRONMENTAL MANAGEMENT - WATER QUALITY DATA\", \"IC-1A\", 30.2793, -87.687, \"6/30/2008 12:00:00 AM\", \"19:10:00\", \"UTC\", 0.0, \"m\", \"pH\", \"NaN\", 6.418, \"std units\", NaN, -9761273.0, 3539502.7297], [184, \"21AWIC-1063\", \"ALABAMA DEPT. OF ENVIRONMENTAL MANAGEMENT - WATER QUALITY DATA\", \"IC-1A\", 30.2793, -87.687, \"7/22/2008 12:00:00 AM\", \"18:30:00\", \"UTC\", 0.0, \"m\", \"pH\", \"NaN\", 7.923, \"std units\", NaN, -9761273.0, 3539502.7297], [185, \"21AWIC-1063\", \"ALABAMA DEPT. OF ENVIRONMENTAL MANAGEMENT - WATER QUALITY DATA\", \"IC-1A\", 30.2793, -87.687, \"8/27/2008 12:00:00 AM\", \"17:00:00\", \"UTC\", 0.0, \"m\", \"pH\", \"NaN\", 7.796, \"std units\", NaN, -9761273.0, 3539502.7297], [186, \"21AWIC-1063\", \"ALABAMA DEPT. OF ENVIRONMENTAL MANAGEMENT - WATER QUALITY DATA\", \"IC-1A\", 30.2793, -87.687, \"8/27/2008 12:00:00 AM\", \"17:00:00\", \"UTC\", 0.0, \"m\", \"pH\", \"NaN\", 7.847, \"std units\", NaN, -9761273.0, 3539502.7297], [187, \"21AWIC-1063\", \"ALABAMA DEPT. OF ENVIRONMENTAL MANAGEMENT - WATER QUALITY DATA\", \"IC-1A\", 30.2793, -87.687, \"9/16/2008 12:00:00 AM\", \"19:00:00\", \"UTC\", 0.0, \"m\", \"pH\", \"NaN\", 7.488, \"std units\", NaN, -9761273.0, 3539502.7297], [188, \"21AWIC-1063\", \"ALABAMA DEPT. OF ENVIRONMENTAL MANAGEMENT - WATER QUALITY DATA\", \"IC-1A\", 30.2793, -87.687, \"9/18/2008 12:00:00 AM\", \"16:15:00\", \"UTC\", 0.0, \"m\", \"pH\", \"NaN\", 6.504, \"std units\", NaN, -9761273.0, 3539502.7297], [189, \"21AWIC-1063\", \"ALABAMA DEPT. OF ENVIRONMENTAL MANAGEMENT - WATER QUALITY DATA\", \"IC-1A\", 30.2793, -87.687, \"10/29/2008 12:00:00 AM\", \"19:05:00\", \"UTC\", 0.0, \"m\", \"pH\", \"NaN\", 7.339, \"std units\", NaN, -9761273.0, 3539502.7297], [190, \"21AWIC-1063\", \"ALABAMA DEPT. OF ENVIRONMENTAL MANAGEMENT - WATER QUALITY DATA\", \"IC-1A\", 30.2793, -87.687, \"12/29/2008 12:00:00 AM\", \"17:40:00\", \"UTC\", 0.0, \"m\", \"pH\", \"NaN\", 7.973, \"std units\", NaN, -9761273.0, 3539502.7297], [191, \"21AWIC-1063\", \"ALABAMA DEPT. OF ENVIRONMENTAL MANAGEMENT - WATER QUALITY DATA\", \"IC-1A\", 30.2793, -87.687, \"1/12/2009 12:00:00 AM\", \"16:35:00\", \"UTC\", 0.0, \"m\", \"pH\", \"NaN\", 7.936, \"std units\", NaN, -9761273.0, 3539502.7297], [192, \"21AWIC-1063\", \"ALABAMA DEPT. OF ENVIRONMENTAL MANAGEMENT - WATER QUALITY DATA\", \"IC-1A\", 30.2793, -87.687, \"2/5/2009 12:00:00 AM\", \"16:20:00\", \"UTC\", 0.0, \"m\", \"pH\", \"NaN\", 8.218, \"std units\", NaN, -9761273.0, 3539502.7297], [193, \"21AWIC-1063\", \"ALABAMA DEPT. OF ENVIRONMENTAL MANAGEMENT - WATER QUALITY DATA\", \"IC-1A\", 30.2793, -87.687, \"2/5/2009 12:00:00 AM\", \"16:20:00\", \"UTC\", 0.0, \"m\", \"pH\", \"NaN\", 8.413, \"std units\", NaN, -9761273.0, 3539502.7297], [194, \"21AWIC-1063\", \"ALABAMA DEPT. OF ENVIRONMENTAL MANAGEMENT - WATER QUALITY DATA\", \"IC-1A\", 30.2793, -87.687, \"3/12/2009 12:00:00 AM\", \"16:35:00\", \"UTC\", 0.0, \"m\", \"pH\", \"NaN\", 7.901, \"std units\", NaN, -9761273.0, 3539502.7297], [195, \"21AWIC-1063\", \"ALABAMA DEPT. OF ENVIRONMENTAL MANAGEMENT - WATER QUALITY DATA\", \"IC-1A\", 30.2793, -87.687, \"4/16/2009 12:00:00 AM\", \"16:05:00\", \"UTC\", 0.0, \"m\", \"pH\", \"NaN\", 7.563, \"std units\", NaN, -9761273.0, 3539502.7297], [196, \"21AWIC-1063\", \"ALABAMA DEPT. OF ENVIRONMENTAL MANAGEMENT - WATER QUALITY DATA\", \"IC-1A\", 30.2793, -87.687, \"5/26/2009 12:00:00 AM\", \"16:30:00\", \"UTC\", 0.0, \"m\", \"pH\", \"NaN\", 7.003, \"std units\", NaN, -9761273.0, 3539502.7297], [197, \"21AWIC-1063\", \"ALABAMA DEPT. OF ENVIRONMENTAL MANAGEMENT - WATER QUALITY DATA\", \"IC-1A\", 30.2793, -87.687, \"6/17/2009 12:00:00 AM\", \"16:05:00\", \"UTC\", 0.0, \"m\", \"pH\", \"NaN\", 7.699, \"std units\", NaN, -9761273.0, 3539502.7297], [198, \"21AWIC-1063\", \"ALABAMA DEPT. OF ENVIRONMENTAL MANAGEMENT - WATER QUALITY DATA\", \"IC-1A\", 30.2793, -87.687, \"7/14/2009 12:00:00 AM\", \"16:20:00\", \"UTC\", 0.0, \"m\", \"pH\", \"NaN\", 7.73, \"std units\", NaN, -9761273.0, 3539502.7297], [199, \"21AWIC-1063\", \"ALABAMA DEPT. OF ENVIRONMENTAL MANAGEMENT - WATER QUALITY DATA\", \"IC-1A\", 30.2793, -87.687, \"8/18/2009 12:00:00 AM\", \"15:00:00\", \"UTC\", 0.0, \"m\", \"pH\", \"NaN\", 7.498, \"std units\", NaN, -9761273.0, 3539502.7297], [200, \"21AWIC-1063\", \"ALABAMA DEPT. OF ENVIRONMENTAL MANAGEMENT - WATER QUALITY DATA\", \"IC-1A\", 30.2793, -87.687, \"8/18/2009 12:00:00 AM\", \"15:00:00\", \"UTC\", 0.0, \"m\", \"pH\", \"NaN\", 7.436, \"std units\", NaN, -9761273.0, 3539502.7297], [201, \"21AWIC-1063\", \"ALABAMA DEPT. OF ENVIRONMENTAL MANAGEMENT - WATER QUALITY DATA\", \"IC-1A\", 30.2793, -87.687, \"9/23/2009 12:00:00 AM\", \"16:00:00\", \"UTC\", 0.0, \"m\", \"pH\", \"NaN\", 7.521, \"std units\", NaN, -9761273.0, 3539502.7297], [202, \"21AWIC-1063\", \"ALABAMA DEPT. OF ENVIRONMENTAL MANAGEMENT - WATER QUALITY DATA\", \"IC-1A\", 30.2793, -87.687, \"10/19/2009 12:00:00 AM\", \"16:30:00\", \"UTC\", 0.0, \"m\", \"pH\", \"NaN\", 7.072, \"std units\", NaN, -9761273.0, 3539502.7297], [203, \"21AWIC-1063\", \"ALABAMA DEPT. OF ENVIRONMENTAL MANAGEMENT - WATER QUALITY DATA\", \"IC-1A\", 30.2793, -87.687, \"11/3/2009 12:00:00 AM\", \"16:15:00\", \"UTC\", 0.0, \"m\", \"pH\", \"NaN\", 5.73, \"std units\", NaN, -9761273.0, 3539502.7297], [204, \"21AWIC-1063\", \"ALABAMA DEPT. OF ENVIRONMENTAL MANAGEMENT - WATER QUALITY DATA\", \"IC-1A\", 30.2793, -87.687, \"11/3/2009 12:00:00 AM\", \"16:15:00\", \"UTC\", 0.0, \"m\", \"pH\", \"NaN\", 6.516, \"std units\", NaN, -9761273.0, 3539502.7297], [205, \"21AWIC-1063\", \"ALABAMA DEPT. OF ENVIRONMENTAL MANAGEMENT - WATER QUALITY DATA\", \"IC-1A\", 30.2793, -87.687, \"12/9/2009 12:00:00 AM\", \"19:15:00\", \"UTC\", 0.0, \"m\", \"pH\", \"NaN\", 8.047, \"std units\", NaN, -9761273.0, 3539502.7297], [206, \"21AWIC-1063\", \"ALABAMA DEPT. OF ENVIRONMENTAL MANAGEMENT - WATER QUALITY DATA\", \"IC-1A\", 30.2793, -87.687, \"1/13/2010 12:00:00 AM\", \"15:55:00\", \"UTC\", 0.0, \"m\", \"pH\", \"NaN\", 7.639, \"std units\", NaN, -9761273.0, 3539502.7297], [207, \"21AWIC-1063\", \"ALABAMA DEPT. OF ENVIRONMENTAL MANAGEMENT - WATER QUALITY DATA\", \"IC-1A\", 30.2793, -87.687, \"2/24/2010 12:00:00 AM\", \"17:50:00\", \"UTC\", 0.0, \"m\", \"pH\", \"NaN\", 8.495, \"std units\", NaN, -9761273.0, 3539502.7297], [208, \"21AWIC-1063\", \"ALABAMA DEPT. OF ENVIRONMENTAL MANAGEMENT - WATER QUALITY DATA\", \"IC-1A\", 30.2793, -87.687, \"6/9/2010 12:00:00 AM\", \"17:11:00\", \"UTC\", 0.0, \"m\", \"pH\", \"NaN\", 7.443, \"std units\", NaN, -9761273.0, 3539502.7297], [209, \"21AWIC-1063\", \"ALABAMA DEPT. OF ENVIRONMENTAL MANAGEMENT - WATER QUALITY DATA\", \"IC-1A\", 30.2793, -87.687, \"8/11/2010 12:00:00 AM\", \"15:20:00\", \"UTC\", 0.0, \"m\", \"pH\", \"NaN\", 7.886, \"std units\", NaN, -9761273.0, 3539502.7297], [210, \"21AWIC-1063\", \"ALABAMA DEPT. OF ENVIRONMENTAL MANAGEMENT - WATER QUALITY DATA\", \"IC-1A\", 30.2793, -87.687, \"10/5/2010 12:00:00 AM\", \"16:30:00\", \"UTC\", 0.0, \"m\", \"pH\", \"NaN\", 7.813, \"std units\", NaN, -9761273.0, 3539502.7297], [211, \"21AWIC-1063\", \"ALABAMA DEPT. OF ENVIRONMENTAL MANAGEMENT - WATER QUALITY DATA\", \"IC-1A\", 30.2793, -87.687, \"6/28/2011 12:00:00 AM\", \"21:44:00\", \"UTC\", 0.0, \"m\", \"pH\", \"NaN\", 7.77, \"std units\", NaN, -9761273.0, 3539502.7297], [212, \"21AWIC-1063\", \"ALABAMA DEPT. OF ENVIRONMENTAL MANAGEMENT - WATER QUALITY DATA\", \"IC-1A\", 30.2793, -87.687, \"8/23/2011 12:00:00 AM\", \"21:15:00\", \"UTC\", 0.0, \"m\", \"pH\", \"NaN\", 8.118, \"std units\", NaN, -9761273.0, 3539502.7297], [213, \"21AWIC-1063\", \"ALABAMA DEPT. OF ENVIRONMENTAL MANAGEMENT - WATER QUALITY DATA\", \"IC-1A\", 30.2793, -87.687, \"10/24/2011 12:00:00 AM\", \"16:50:00\", \"UTC\", 0.0, \"m\", \"pH\", \"NaN\", 6.974, \"std units\", NaN, -9761273.0, 3539502.7297], [214, \"21AWIC-1063\", \"ALABAMA DEPT. OF ENVIRONMENTAL MANAGEMENT - WATER QUALITY DATA\", \"IC-1A\", 30.2793, -87.687, \"5/16/2012 12:00:00 AM\", \"17:50:00\", \"UTC\", 0.0, \"m\", \"pH\", \"NaN\", 7.661, \"std units\", NaN, -9761273.0, 3539502.7297], [215, \"21AWIC-1063\", \"ALABAMA DEPT. OF ENVIRONMENTAL MANAGEMENT - WATER QUALITY DATA\", \"IC-1A\", 30.2793, -87.687, \"7/24/2012 12:00:00 AM\", \"16:15:00\", \"UTC\", 0.0, \"m\", \"pH\", \"NaN\", 6.754, \"std units\", NaN, -9761273.0, 3539502.7297], [216, \"21AWIC-1063\", \"ALABAMA DEPT. OF ENVIRONMENTAL MANAGEMENT - WATER QUALITY DATA\", \"IC-1A\", 30.2793, -87.687, \"9/18/2012 12:00:00 AM\", \"15:55:00\", \"UTC\", 0.0, \"m\", \"pH\", \"NaN\", 6.678, \"std units\", NaN, -9761273.0, 3539502.7297], [217, \"21AWIC-1063\", \"ALABAMA DEPT. OF ENVIRONMENTAL MANAGEMENT - WATER QUALITY DATA\", \"IC-1A\", 30.2793, -87.687, \"5/9/2013 12:00:00 AM\", \"16:10:00\", \"UTC\", 0.0, \"m\", \"pH\", \"NaN\", 8.023, \"std units\", NaN, -9761273.0, 3539502.7297], [218, \"21AWIC-1063\", \"ALABAMA DEPT. OF ENVIRONMENTAL MANAGEMENT - WATER QUALITY DATA\", \"IC-1A\", 30.2793, -87.687, \"5/9/2013 12:00:00 AM\", \"16:10:00\", \"UTC\", 0.0, \"m\", \"pH\", \"NaN\", 8.018, \"std units\", NaN, -9761273.0, 3539502.7297], [219, \"21AWIC-1063\", \"ALABAMA DEPT. OF ENVIRONMENTAL MANAGEMENT - WATER QUALITY DATA\", \"IC-1A\", 30.2793, -87.687, \"7/9/2013 12:00:00 AM\", \"15:50:00\", \"UTC\", 0.0, \"m\", \"pH\", \"NaN\", 7.113, \"std units\", NaN, -9761273.0, 3539502.7297], [220, \"21AWIC-1063\", \"ALABAMA DEPT. OF ENVIRONMENTAL MANAGEMENT - WATER QUALITY DATA\", \"IC-1A\", 30.2793, -87.687, \"9/3/2013 12:00:00 AM\", \"15:55:00\", \"UTC\", 0.0, \"m\", \"pH\", \"NaN\", 6.919, \"std units\", NaN, -9761273.0, 3539502.7297], [221, \"21AWIC-1092\", \"ALABAMA DEPT. OF ENVIRONMENTAL MANAGEMENT - WATER QUALITY DATA\", \"MB-2A\", 30.1718, -88.049, \"4/28/2004 12:00:00 AM\", \"00:00:00\", \"UTC\", 0.0, \"m\", \"pH\", \"NaN\", 7.743, \"std units\", NaN, -9801570.0, 3525653.0136], [222, \"21AWIC-1092\", \"ALABAMA DEPT. OF ENVIRONMENTAL MANAGEMENT - WATER QUALITY DATA\", \"MB-2A\", 30.1718, -88.049, \"5/20/2004 12:00:00 AM\", \"00:00:00\", \"UTC\", 0.0, \"m\", \"pH\", \"NaN\", 7.983, \"std units\", NaN, -9801570.0, 3525653.0136], [223, \"21AWIC-1092\", \"ALABAMA DEPT. OF ENVIRONMENTAL MANAGEMENT - WATER QUALITY DATA\", \"MB-2A\", 30.1718, -88.049, \"6/21/2004 12:00:00 AM\", \"00:00:00\", \"UTC\", 0.0, \"m\", \"pH\", \"NaN\", 8.088, \"std units\", NaN, -9801570.0, 3525653.0136], [224, \"21AWIC-1092\", \"ALABAMA DEPT. OF ENVIRONMENTAL MANAGEMENT - WATER QUALITY DATA\", \"MB-2A\", 30.1718, -88.049, \"7/22/2004 12:00:00 AM\", \"00:00:00\", \"UTC\", 0.0, \"m\", \"pH\", \"NaN\", 7.806, \"std units\", NaN, -9801570.0, 3525653.0136], [225, \"21AWIC-1092\", \"ALABAMA DEPT. OF ENVIRONMENTAL MANAGEMENT - WATER QUALITY DATA\", \"MB-2A\", 30.1718, -88.049, \"7/22/2004 12:00:00 AM\", \"00:00:00\", \"UTC\", 0.0, \"m\", \"pH\", \"NaN\", 7.897, \"std units\", NaN, -9801570.0, 3525653.0136], [226, \"21AWIC-1092\", \"ALABAMA DEPT. OF ENVIRONMENTAL MANAGEMENT - WATER QUALITY DATA\", \"MB-2A\", 30.1718, -88.049, \"8/18/2004 12:00:00 AM\", \"00:00:00\", \"UTC\", 0.0, \"m\", \"pH\", \"NaN\", 8.051, \"std units\", NaN, -9801570.0, 3525653.0136], [227, \"21AWIC-1092\", \"ALABAMA DEPT. OF ENVIRONMENTAL MANAGEMENT - WATER QUALITY DATA\", \"MB-2A\", 30.1718, -88.049, \"8/18/2004 12:00:00 AM\", \"00:00:00\", \"UTC\", 0.0, \"m\", \"pH\", \"NaN\", 8.029, \"std units\", NaN, -9801570.0, 3525653.0136], [228, \"21AWIC-1092\", \"ALABAMA DEPT. OF ENVIRONMENTAL MANAGEMENT - WATER QUALITY DATA\", \"MB-2A\", 30.1718, -88.049, \"10/5/2004 12:00:00 AM\", \"00:00:00\", \"UTC\", 0.0, \"m\", \"pH\", \"NaN\", 7.992, \"std units\", NaN, -9801570.0, 3525653.0136], [1239772, \"apaeswq\", \"National Estuarine Research Reserve System\", \"Apalachicola Bay East Bay Surface\", 29.7858, -84.8752, \"11/5/2011 12:00:00 AM\", \"18:15:00\", \"UTC\", 0.72, \"m\", \"pH\", \"NaN\", 8.1, \"standard units\", NaN, -9448265.0, 3476046.7488], [1239773, \"apaeswq\", \"National Estuarine Research Reserve System\", \"Apalachicola Bay East Bay Surface\", 29.7858, -84.8752, \"11/5/2011 12:00:00 AM\", \"18:30:00\", \"UTC\", 0.72, \"m\", \"pH\", \"NaN\", 8.1, \"standard units\", NaN, -9448265.0, 3476046.7488], [1239774, \"apaeswq\", \"National Estuarine Research Reserve System\", \"Apalachicola Bay East Bay Surface\", 29.7858, -84.8752, \"11/5/2011 12:00:00 AM\", \"18:45:00\", \"UTC\", 0.72, \"m\", \"pH\", \"NaN\", 8.0, \"standard units\", NaN, -9448265.0, 3476046.7488], [1239775, \"apaeswq\", \"National Estuarine Research Reserve System\", \"Apalachicola Bay East Bay Surface\", 29.7858, -84.8752, \"11/5/2011 12:00:00 AM\", \"19:00:00\", \"UTC\", 0.71, \"m\", \"pH\", \"NaN\", 8.1, \"standard units\", NaN, -9448265.0, 3476046.7488], [1239776, \"apaeswq\", \"National Estuarine Research Reserve System\", \"Apalachicola Bay East Bay Surface\", 29.7858, -84.8752, \"11/5/2011 12:00:00 AM\", \"19:15:00\", \"UTC\", 0.72, \"m\", \"pH\", \"NaN\", 8.1, \"standard units\", NaN, -9448265.0, 3476046.7488], [1239777, \"apaeswq\", \"National Estuarine Research Reserve System\", \"Apalachicola Bay East Bay Surface\", 29.7858, -84.8752, \"11/5/2011 12:00:00 AM\", \"19:30:00\", \"UTC\", 0.71, \"m\", \"pH\", \"NaN\", 8.1, \"standard units\", NaN, -9448265.0, 3476046.7488], [1239778, \"apaeswq\", \"National Estuarine Research Reserve System\", \"Apalachicola Bay East Bay Surface\", 29.7858, -84.8752, \"11/5/2011 12:00:00 AM\", \"19:45:00\", \"UTC\", 0.71, \"m\", \"pH\", \"NaN\", 8.0, \"standard units\", NaN, -9448265.0, 3476046.7488], [1239779, \"apaeswq\", \"National Estuarine Research Reserve System\", \"Apalachicola Bay East Bay Surface\", 29.7858, -84.8752, \"11/5/2011 12:00:00 AM\", \"20:00:00\", \"UTC\", 0.71, \"m\", \"pH\", \"NaN\", 8.0, \"standard units\", NaN, -9448265.0, 3476046.7488], [1239780, \"apaeswq\", \"National Estuarine Research Reserve System\", \"Apalachicola Bay East Bay Surface\", 29.7858, -84.8752, \"11/5/2011 12:00:00 AM\", \"20:15:00\", \"UTC\", 0.71, \"m\", \"pH\", \"NaN\", 8.0, \"standard units\", NaN, -9448265.0, 3476046.7488], [1239781, \"apaeswq\", \"National Estuarine Research Reserve System\", \"Apalachicola Bay East Bay Surface\", 29.7858, -84.8752, \"11/5/2011 12:00:00 AM\", \"20:30:00\", \"UTC\", 0.72, \"m\", \"pH\", \"NaN\", 8.1, \"standard units\", NaN, -9448265.0, 3476046.7488], [1239782, \"apaeswq\", \"National Estuarine Research Reserve System\", \"Apalachicola Bay East Bay Surface\", 29.7858, -84.8752, \"11/5/2011 12:00:00 AM\", \"20:45:00\", \"UTC\", 0.73, \"m\", \"pH\", \"NaN\", 8.0, \"standard units\", NaN, -9448265.0, 3476046.7488], [1239783, \"apaeswq\", \"National Estuarine Research Reserve System\", \"Apalachicola Bay East Bay Surface\", 29.7858, -84.8752, \"11/5/2011 12:00:00 AM\", \"21:00:00\", \"UTC\", 0.73, \"m\", \"pH\", \"NaN\", 8.0, \"standard units\", NaN, -9448265.0, 3476046.7488], [1239784, \"apaeswq\", \"National Estuarine Research Reserve System\", \"Apalachicola Bay East Bay Surface\", 29.7858, -84.8752, \"11/5/2011 12:00:00 AM\", \"21:15:00\", \"UTC\", 0.73, \"m\", \"pH\", \"NaN\", 8.1, \"standard units\", NaN, -9448265.0, 3476046.7488], [1239785, \"apaeswq\", \"National Estuarine Research Reserve System\", \"Apalachicola Bay East Bay Surface\", 29.7858, -84.8752, \"11/5/2011 12:00:00 AM\", \"21:30:00\", \"UTC\", 0.73, \"m\", \"pH\", \"NaN\", 8.1, \"standard units\", NaN, -9448265.0, 3476046.7488], [1239786, \"apaeswq\", \"National Estuarine Research Reserve System\", \"Apalachicola Bay East Bay Surface\", 29.7858, -84.8752, \"11/5/2011 12:00:00 AM\", \"21:45:00\", \"UTC\", 0.74, \"m\", \"pH\", \"NaN\", 8.0, \"standard units\", NaN, -9448265.0, 3476046.7488], [1239787, \"apaeswq\", \"National Estuarine Research Reserve System\", \"Apalachicola Bay East Bay Surface\", 29.7858, -84.8752, \"11/5/2011 12:00:00 AM\", \"22:00:00\", \"UTC\", 0.74, \"m\", \"pH\", \"NaN\", 8.0, \"standard units\", NaN, -9448265.0, 3476046.7488], [1239788, \"apaeswq\", \"National Estuarine Research Reserve System\", \"Apalachicola Bay East Bay Surface\", 29.7858, -84.8752, \"11/5/2011 12:00:00 AM\", \"22:15:00\", \"UTC\", 0.75, \"m\", \"pH\", \"NaN\", 7.9, \"standard units\", NaN, -9448265.0, 3476046.7488], [1239789, \"apaeswq\", \"National Estuarine Research Reserve System\", \"Apalachicola Bay East Bay Surface\", 29.7858, -84.8752, \"11/5/2011 12:00:00 AM\", \"22:30:00\", \"UTC\", 0.76, \"m\", \"pH\", \"NaN\", 7.9, \"standard units\", NaN, -9448265.0, 3476046.7488], [1239790, \"apaeswq\", \"National Estuarine Research Reserve System\", \"Apalachicola Bay East Bay Surface\", 29.7858, -84.8752, \"11/5/2011 12:00:00 AM\", \"22:45:00\", \"UTC\", 0.75, \"m\", \"pH\", \"NaN\", 7.9, \"standard units\", NaN, -9448265.0, 3476046.7488], [1239791, \"apaeswq\", \"National Estuarine Research Reserve System\", \"Apalachicola Bay East Bay Surface\", 29.7858, -84.8752, \"11/5/2011 12:00:00 AM\", \"23:00:00\", \"UTC\", 0.75, \"m\", \"pH\", \"NaN\", 7.9, \"standard units\", NaN, -9448265.0, 3476046.7488], [1239792, \"apaeswq\", \"National Estuarine Research Reserve System\", \"Apalachicola Bay East Bay Surface\", 29.7858, -84.8752, \"11/5/2011 12:00:00 AM\", \"23:15:00\", \"UTC\", 0.74, \"m\", \"pH\", \"NaN\", 7.8, \"standard units\", NaN, -9448265.0, 3476046.7488], [1239793, \"apaeswq\", \"National Estuarine Research Reserve System\", \"Apalachicola Bay East Bay Surface\", 29.7858, -84.8752, \"11/5/2011 12:00:00 AM\", \"23:30:00\", \"UTC\", 0.74, \"m\", \"pH\", \"NaN\", 7.8, \"standard units\", NaN, -9448265.0, 3476046.7488], [1239794, \"apaeswq\", \"National Estuarine Research Reserve System\", \"Apalachicola Bay East Bay Surface\", 29.7858, -84.8752, \"11/5/2011 12:00:00 AM\", \"23:45:00\", \"UTC\", 0.73, \"m\", \"pH\", \"NaN\", 7.9, \"standard units\", NaN, -9448265.0, 3476046.7488], [1239795, \"apaeswq\", \"National Estuarine Research Reserve System\", \"Apalachicola Bay East Bay Surface\", 29.7858, -84.8752, \"11/6/2011 12:00:00 AM\", \"00:00:00\", \"UTC\", 0.72, \"m\", \"pH\", \"NaN\", 7.9, \"standard units\", NaN, -9448265.0, 3476046.7488], [1239796, \"apaeswq\", \"National Estuarine Research Reserve System\", \"Apalachicola Bay East Bay Surface\", 29.7858, -84.8752, \"11/6/2011 12:00:00 AM\", \"00:15:00\", \"UTC\", 0.72, \"m\", \"pH\", \"NaN\", 7.9, \"standard units\", NaN, -9448265.0, 3476046.7488], [1239797, \"apaeswq\", \"National Estuarine Research Reserve System\", \"Apalachicola Bay East Bay Surface\", 29.7858, -84.8752, \"11/6/2011 12:00:00 AM\", \"00:30:00\", \"UTC\", 0.72, \"m\", \"pH\", \"NaN\", 7.9, \"standard units\", NaN, -9448265.0, 3476046.7488], [1239798, \"apaeswq\", \"National Estuarine Research Reserve System\", \"Apalachicola Bay East Bay Surface\", 29.7858, -84.8752, \"11/6/2011 12:00:00 AM\", \"00:45:00\", \"UTC\", 0.72, \"m\", \"pH\", \"NaN\", 7.9, \"standard units\", NaN, -9448265.0, 3476046.7488], [1239799, \"apaeswq\", \"National Estuarine Research Reserve System\", \"Apalachicola Bay East Bay Surface\", 29.7858, -84.8752, \"11/6/2011 12:00:00 AM\", \"01:00:00\", \"UTC\", 0.72, \"m\", \"pH\", \"NaN\", 7.9, \"standard units\", NaN, -9448265.0, 3476046.7488], [1239800, \"apaeswq\", \"National Estuarine Research Reserve System\", \"Apalachicola Bay East Bay Surface\", 29.7858, -84.8752, \"11/6/2011 12:00:00 AM\", \"01:15:00\", \"UTC\", 0.72, \"m\", \"pH\", \"NaN\", 7.8, \"standard units\", NaN, -9448265.0, 3476046.7488], [1239801, \"apaeswq\", \"National Estuarine Research Reserve System\", \"Apalachicola Bay East Bay Surface\", 29.7858, -84.8752, \"11/6/2011 12:00:00 AM\", \"01:30:00\", \"UTC\", 0.72, \"m\", \"pH\", \"NaN\", 7.8, \"standard units\", NaN, -9448265.0, 3476046.7488], [1239802, \"apaeswq\", \"National Estuarine Research Reserve System\", \"Apalachicola Bay East Bay Surface\", 29.7858, -84.8752, \"11/6/2011 12:00:00 AM\", \"01:45:00\", \"UTC\", 0.73, \"m\", \"pH\", \"NaN\", 7.8, \"standard units\", NaN, -9448265.0, 3476046.7488], [1239803, \"apaeswq\", \"National Estuarine Research Reserve System\", \"Apalachicola Bay East Bay Surface\", 29.7858, -84.8752, \"11/6/2011 12:00:00 AM\", \"02:00:00\", \"UTC\", 0.73, \"m\", \"pH\", \"NaN\", 7.8, \"standard units\", NaN, -9448265.0, 3476046.7488], [1239804, \"apaeswq\", \"National Estuarine Research Reserve System\", \"Apalachicola Bay East Bay Surface\", 29.7858, -84.8752, \"11/6/2011 12:00:00 AM\", \"02:15:00\", \"UTC\", 0.74, \"m\", \"pH\", \"NaN\", 7.8, \"standard units\", NaN, -9448265.0, 3476046.7488], [1239805, \"apaeswq\", \"National Estuarine Research Reserve System\", \"Apalachicola Bay East Bay Surface\", 29.7858, -84.8752, \"11/6/2011 12:00:00 AM\", \"02:30:00\", \"UTC\", 0.75, \"m\", \"pH\", \"NaN\", 7.8, \"standard units\", NaN, -9448265.0, 3476046.7488], [1239806, \"apaeswq\", \"National Estuarine Research Reserve System\", \"Apalachicola Bay East Bay Surface\", 29.7858, -84.8752, \"11/6/2011 12:00:00 AM\", \"02:45:00\", \"UTC\", 0.77, \"m\", \"pH\", \"NaN\", 7.8, \"standard units\", NaN, -9448265.0, 3476046.7488], [1239807, \"apaeswq\", \"National Estuarine Research Reserve System\", \"Apalachicola Bay East Bay Surface\", 29.7858, -84.8752, \"11/6/2011 12:00:00 AM\", \"03:00:00\", \"UTC\", 0.78, \"m\", \"pH\", \"NaN\", 7.8, \"standard units\", NaN, -9448265.0, 3476046.7488], [1239808, \"apaeswq\", \"National Estuarine Research Reserve System\", \"Apalachicola Bay East Bay Surface\", 29.7858, -84.8752, \"11/6/2011 12:00:00 AM\", \"03:15:00\", \"UTC\", 0.79, \"m\", \"pH\", \"NaN\", 7.8, \"standard units\", NaN, -9448265.0, 3476046.7488], [1239809, \"apaeswq\", \"National Estuarine Research Reserve System\", \"Apalachicola Bay East Bay Surface\", 29.7858, -84.8752, \"11/6/2011 12:00:00 AM\", \"03:30:00\", \"UTC\", 0.8, \"m\", \"pH\", \"NaN\", 7.8, \"standard units\", NaN, -9448265.0, 3476046.7488], [1239810, \"apaeswq\", \"National Estuarine Research Reserve System\", \"Apalachicola Bay East Bay Surface\", 29.7858, -84.8752, \"11/6/2011 12:00:00 AM\", \"03:45:00\", \"UTC\", 0.8, \"m\", \"pH\", \"NaN\", 7.7, \"standard units\", NaN, -9448265.0, 3476046.7488], [1239811, \"apaeswq\", \"National Estuarine Research Reserve System\", \"Apalachicola Bay East Bay Surface\", 29.7858, -84.8752, \"11/6/2011 12:00:00 AM\", \"04:00:00\", \"UTC\", 0.8, \"m\", \"pH\", \"NaN\", 7.8, \"standard units\", NaN, -9448265.0, 3476046.7488], [1239812, \"apaeswq\", \"National Estuarine Research Reserve System\", \"Apalachicola Bay East Bay Surface\", 29.7858, -84.8752, \"11/6/2011 12:00:00 AM\", \"04:15:00\", \"UTC\", 0.81, \"m\", \"pH\", \"NaN\", 7.8, \"standard units\", NaN, -9448265.0, 3476046.7488], [1239813, \"apaeswq\", \"National Estuarine Research Reserve System\", \"Apalachicola Bay East Bay Surface\", 29.7858, -84.8752, \"11/6/2011 12:00:00 AM\", \"04:30:00\", \"UTC\", 0.81, \"m\", \"pH\", \"NaN\", 7.7, \"standard units\", NaN, -9448265.0, 3476046.7488], [1239814, \"apaeswq\", \"National Estuarine Research Reserve System\", \"Apalachicola Bay East Bay Surface\", 29.7858, -84.8752, \"11/6/2011 12:00:00 AM\", \"04:45:00\", \"UTC\", 0.82, \"m\", \"pH\", \"NaN\", 7.7, \"standard units\", NaN, -9448265.0, 3476046.7488], [1239815, \"apaeswq\", \"National Estuarine Research Reserve System\", \"Apalachicola Bay East Bay Surface\", 29.7858, -84.8752, \"11/6/2011 12:00:00 AM\", \"05:00:00\", \"UTC\", 0.82, \"m\", \"pH\", \"NaN\", 7.7, \"standard units\", NaN, -9448265.0, 3476046.7488], [1239816, \"apaeswq\", \"National Estuarine Research Reserve System\", \"Apalachicola Bay East Bay Surface\", 29.7858, -84.8752, \"11/6/2011 12:00:00 AM\", \"05:15:00\", \"UTC\", 0.82, \"m\", \"pH\", \"NaN\", 7.7, \"standard units\", NaN, -9448265.0, 3476046.7488], [1239817, \"apaeswq\", \"National Estuarine Research Reserve System\", \"Apalachicola Bay East Bay Surface\", 29.7858, -84.8752, \"11/6/2011 12:00:00 AM\", \"05:30:00\", \"UTC\", 0.83, \"m\", \"pH\", \"NaN\", 7.7, \"standard units\", NaN, -9448265.0, 3476046.7488], [1239818, \"apaeswq\", \"National Estuarine Research Reserve System\", \"Apalachicola Bay East Bay Surface\", 29.7858, -84.8752, \"11/6/2011 12:00:00 AM\", \"05:45:00\", \"UTC\", 0.84, \"m\", \"pH\", \"NaN\", 7.7, \"standard units\", NaN, -9448265.0, 3476046.7488], [1239819, \"apaeswq\", \"National Estuarine Research Reserve System\", \"Apalachicola Bay East Bay Surface\", 29.7858, -84.8752, \"11/6/2011 12:00:00 AM\", \"06:00:00\", \"UTC\", 0.84, \"m\", \"pH\", \"NaN\", 7.7, \"standard units\", NaN, -9448265.0, 3476046.7488], [1239820, \"apaeswq\", \"National Estuarine Research Reserve System\", \"Apalachicola Bay East Bay Surface\", 29.7858, -84.8752, \"11/6/2011 12:00:00 AM\", \"06:15:00\", \"UTC\", 0.84, \"m\", \"pH\", \"NaN\", 7.7, \"standard units\", NaN, -9448265.0, 3476046.7488], [1239821, \"apaeswq\", \"National Estuarine Research Reserve System\", \"Apalachicola Bay East Bay Surface\", 29.7858, -84.8752, \"11/6/2011 12:00:00 AM\", \"06:30:00\", \"UTC\", 0.84, \"m\", \"pH\", \"NaN\", 7.7, \"standard units\", NaN, -9448265.0, 3476046.7488], [1239822, \"apaeswq\", \"National Estuarine Research Reserve System\", \"Apalachicola Bay East Bay Surface\", 29.7858, -84.8752, \"11/6/2011 12:00:00 AM\", \"06:45:00\", \"UTC\", 0.84, \"m\", \"pH\", \"NaN\", 7.7, \"standard units\", NaN, -9448265.0, 3476046.7488], [1239823, \"apaeswq\", \"National Estuarine Research Reserve System\", \"Apalachicola Bay East Bay Surface\", 29.7858, -84.8752, \"11/6/2011 12:00:00 AM\", \"07:00:00\", \"UTC\", 0.84, \"m\", \"pH\", \"NaN\", 7.7, \"standard units\", NaN, -9448265.0, 3476046.7488], [1239824, \"apaeswq\", \"National Estuarine Research Reserve System\", \"Apalachicola Bay East Bay Surface\", 29.7858, -84.8752, \"11/6/2011 12:00:00 AM\", \"07:15:00\", \"UTC\", 0.84, \"m\", \"pH\", \"NaN\", 7.7, \"standard units\", NaN, -9448265.0, 3476046.7488], [1239825, \"apaeswq\", \"National Estuarine Research Reserve System\", \"Apalachicola Bay East Bay Surface\", 29.7858, -84.8752, \"11/6/2011 12:00:00 AM\", \"07:30:00\", \"UTC\", 0.83, \"m\", \"pH\", \"NaN\", 7.6, \"standard units\", NaN, -9448265.0, 3476046.7488], [1239826, \"apaeswq\", \"National Estuarine Research Reserve System\", \"Apalachicola Bay East Bay Surface\", 29.7858, -84.8752, \"11/6/2011 12:00:00 AM\", \"07:45:00\", \"UTC\", 0.82, \"m\", \"pH\", \"NaN\", 7.6, \"standard units\", NaN, -9448265.0, 3476046.7488], [1239827, \"apaeswq\", \"National Estuarine Research Reserve System\", \"Apalachicola Bay East Bay Surface\", 29.7858, -84.8752, \"11/6/2011 12:00:00 AM\", \"08:00:00\", \"UTC\", 0.82, \"m\", \"pH\", \"NaN\", 7.6, \"standard units\", NaN, -9448265.0, 3476046.7488], [1239828, \"apaeswq\", \"National Estuarine Research Reserve System\", \"Apalachicola Bay East Bay Surface\", 29.7858, -84.8752, \"11/6/2011 12:00:00 AM\", \"08:15:00\", \"UTC\", 0.81, \"m\", \"pH\", \"NaN\", 7.6, \"standard units\", NaN, -9448265.0, 3476046.7488], [1239829, \"apaeswq\", \"National Estuarine Research Reserve System\", \"Apalachicola Bay East Bay Surface\", 29.7858, -84.8752, \"11/6/2011 12:00:00 AM\", \"08:30:00\", \"UTC\", 0.79, \"m\", \"pH\", \"NaN\", 7.7, \"standard units\", NaN, -9448265.0, 3476046.7488], [1239830, \"apaeswq\", \"National Estuarine Research Reserve System\", \"Apalachicola Bay East Bay Surface\", 29.7858, -84.8752, \"11/6/2011 12:00:00 AM\", \"08:45:00\", \"UTC\", 0.77, \"m\", \"pH\", \"NaN\", 7.7, \"standard units\", NaN, -9448265.0, 3476046.7488], [1239831, \"apaeswq\", \"National Estuarine Research Reserve System\", \"Apalachicola Bay East Bay Surface\", 29.7858, -84.8752, \"11/6/2011 12:00:00 AM\", \"09:00:00\", \"UTC\", 0.76, \"m\", \"pH\", \"NaN\", 7.7, \"standard units\", NaN, -9448265.0, 3476046.7488], [1239832, \"apaeswq\", \"National Estuarine Research Reserve System\", \"Apalachicola Bay East Bay Surface\", 29.7858, -84.8752, \"11/6/2011 12:00:00 AM\", \"09:15:00\", \"UTC\", 0.74, \"m\", \"pH\", \"NaN\", 7.7, \"standard units\", NaN, -9448265.0, 3476046.7488], [1239833, \"apaeswq\", \"National Estuarine Research Reserve System\", \"Apalachicola Bay East Bay Surface\", 29.7858, -84.8752, \"11/6/2011 12:00:00 AM\", \"09:30:00\", \"UTC\", 0.73, \"m\", \"pH\", \"NaN\", 7.7, \"standard units\", NaN, -9448265.0, 3476046.7488], [1239834, \"apaeswq\", \"National Estuarine Research Reserve System\", \"Apalachicola Bay East Bay Surface\", 29.7858, -84.8752, \"11/6/2011 12:00:00 AM\", \"09:45:00\", \"UTC\", 0.72, \"m\", \"pH\", \"NaN\", 7.7, \"standard units\", NaN, -9448265.0, 3476046.7488], [1239835, \"apaeswq\", \"National Estuarine Research Reserve System\", \"Apalachicola Bay East Bay Surface\", 29.7858, -84.8752, \"11/6/2011 12:00:00 AM\", \"10:00:00\", \"UTC\", 0.71, \"m\", \"pH\", \"NaN\", 7.7, \"standard units\", NaN, -9448265.0, 3476046.7488], [1239836, \"apaeswq\", \"National Estuarine Research Reserve System\", \"Apalachicola Bay East Bay Surface\", 29.7858, -84.8752, \"11/6/2011 12:00:00 AM\", \"10:15:00\", \"UTC\", 0.7, \"m\", \"pH\", \"NaN\", 7.7, \"standard units\", NaN, -9448265.0, 3476046.7488], [1239837, \"apaeswq\", \"National Estuarine Research Reserve System\", \"Apalachicola Bay East Bay Surface\", 29.7858, -84.8752, \"11/6/2011 12:00:00 AM\", \"10:30:00\", \"UTC\", 0.7, \"m\", \"pH\", \"NaN\", 7.7, \"standard units\", NaN, -9448265.0, 3476046.7488], [1239838, \"apaeswq\", \"National Estuarine Research Reserve System\", \"Apalachicola Bay East Bay Surface\", 29.7858, -84.8752, \"11/6/2011 12:00:00 AM\", \"10:45:00\", \"UTC\", 0.69, \"m\", \"pH\", \"NaN\", 7.7, \"standard units\", NaN, -9448265.0, 3476046.7488], [1239839, \"apaeswq\", \"National Estuarine Research Reserve System\", \"Apalachicola Bay East Bay Surface\", 29.7858, -84.8752, \"11/6/2011 12:00:00 AM\", \"11:00:00\", \"UTC\", 0.69, \"m\", \"pH\", \"NaN\", 7.7, \"standard units\", NaN, -9448265.0, 3476046.7488], [1239840, \"apaeswq\", \"National Estuarine Research Reserve System\", \"Apalachicola Bay East Bay Surface\", 29.7858, -84.8752, \"11/6/2011 12:00:00 AM\", \"11:15:00\", \"UTC\", 0.7, \"m\", \"pH\", \"NaN\", 7.6, \"standard units\", NaN, -9448265.0, 3476046.7488], [1239841, \"apaeswq\", \"National Estuarine Research Reserve System\", \"Apalachicola Bay East Bay Surface\", 29.7858, -84.8752, \"11/6/2011 12:00:00 AM\", \"11:30:00\", \"UTC\", 0.69, \"m\", \"pH\", \"NaN\", 7.6, \"standard units\", NaN, -9448265.0, 3476046.7488], [1239842, \"apaeswq\", \"National Estuarine Research Reserve System\", \"Apalachicola Bay East Bay Surface\", 29.7858, -84.8752, \"11/6/2011 12:00:00 AM\", \"11:45:00\", \"UTC\", 0.69, \"m\", \"pH\", \"NaN\", 7.6, \"standard units\", NaN, -9448265.0, 3476046.7488], [1239843, \"apaeswq\", \"National Estuarine Research Reserve System\", \"Apalachicola Bay East Bay Surface\", 29.7858, -84.8752, \"11/6/2011 12:00:00 AM\", \"12:00:00\", \"UTC\", 0.69, \"m\", \"pH\", \"NaN\", 7.6, \"standard units\", NaN, -9448265.0, 3476046.7488], [1239844, \"apaeswq\", \"National Estuarine Research Reserve System\", \"Apalachicola Bay East Bay Surface\", 29.7858, -84.8752, \"11/6/2011 12:00:00 AM\", \"12:15:00\", \"UTC\", 0.69, \"m\", \"pH\", \"NaN\", 7.6, \"standard units\", NaN, -9448265.0, 3476046.7488], [1239845, \"apaeswq\", \"National Estuarine Research Reserve System\", \"Apalachicola Bay East Bay Surface\", 29.7858, -84.8752, \"11/6/2011 12:00:00 AM\", \"12:30:00\", \"UTC\", 0.69, \"m\", \"pH\", \"NaN\", 7.6, \"standard units\", NaN, -9448265.0, 3476046.7488], [1239846, \"apaeswq\", \"National Estuarine Research Reserve System\", \"Apalachicola Bay East Bay Surface\", 29.7858, -84.8752, \"11/6/2011 12:00:00 AM\", \"12:45:00\", \"UTC\", 0.7, \"m\", \"pH\", \"NaN\", 7.6, \"standard units\", NaN, -9448265.0, 3476046.7488], [1239847, \"apaeswq\", \"National Estuarine Research Reserve System\", \"Apalachicola Bay East Bay Surface\", 29.7858, -84.8752, \"11/6/2011 12:00:00 AM\", \"13:00:00\", \"UTC\", 0.71, \"m\", \"pH\", \"NaN\", 7.6, \"standard units\", NaN, -9448265.0, 3476046.7488], [1239848, \"apaeswq\", \"National Estuarine Research Reserve System\", \"Apalachicola Bay East Bay Surface\", 29.7858, -84.8752, \"11/6/2011 12:00:00 AM\", \"13:15:00\", \"UTC\", 0.72, \"m\", \"pH\", \"NaN\", 7.6, \"standard units\", NaN, -9448265.0, 3476046.7488], [1239849, \"apaeswq\", \"National Estuarine Research Reserve System\", \"Apalachicola Bay East Bay Surface\", 29.7858, -84.8752, \"11/6/2011 12:00:00 AM\", \"13:30:00\", \"UTC\", 0.73, \"m\", \"pH\", \"NaN\", 7.8, \"standard units\", NaN, -9448265.0, 3476046.7488], [1239850, \"apaeswq\", \"National Estuarine Research Reserve System\", \"Apalachicola Bay East Bay Surface\", 29.7858, -84.8752, \"11/6/2011 12:00:00 AM\", \"13:45:00\", \"UTC\", 0.75, \"m\", \"pH\", \"NaN\", 7.6, \"standard units\", NaN, -9448265.0, 3476046.7488], [1239851, \"apaeswq\", \"National Estuarine Research Reserve System\", \"Apalachicola Bay East Bay Surface\", 29.7858, -84.8752, \"11/6/2011 12:00:00 AM\", \"14:00:00\", \"UTC\", 0.76, \"m\", \"pH\", \"NaN\", 7.9, \"standard units\", NaN, -9448265.0, 3476046.7488], [1239852, \"apaeswq\", \"National Estuarine Research Reserve System\", \"Apalachicola Bay East Bay Surface\", 29.7858, -84.8752, \"11/6/2011 12:00:00 AM\", \"14:15:00\", \"UTC\", 0.78, \"m\", \"pH\", \"NaN\", 8.0, \"standard units\", NaN, -9448265.0, 3476046.7488], [1239853, \"apaeswq\", \"National Estuarine Research Reserve System\", \"Apalachicola Bay East Bay Surface\", 29.7858, -84.8752, \"11/6/2011 12:00:00 AM\", \"14:30:00\", \"UTC\", 0.8, \"m\", \"pH\", \"NaN\", 8.1, \"standard units\", NaN, -9448265.0, 3476046.7488], [1239854, \"apaeswq\", \"National Estuarine Research Reserve System\", \"Apalachicola Bay East Bay Surface\", 29.7858, -84.8752, \"11/6/2011 12:00:00 AM\", \"14:45:00\", \"UTC\", 0.81, \"m\", \"pH\", \"NaN\", 8.0, \"standard units\", NaN, -9448265.0, 3476046.7488], [1239855, \"apaeswq\", \"National Estuarine Research Reserve System\", \"Apalachicola Bay East Bay Surface\", 29.7858, -84.8752, \"11/6/2011 12:00:00 AM\", \"15:00:00\", \"UTC\", 0.83, \"m\", \"pH\", \"NaN\", 8.0, \"standard units\", NaN, -9448265.0, 3476046.7488], [1239856, \"apaeswq\", \"National Estuarine Research Reserve System\", \"Apalachicola Bay East Bay Surface\", 29.7858, -84.8752, \"11/6/2011 12:00:00 AM\", \"15:15:00\", \"UTC\", 0.84, \"m\", \"pH\", \"NaN\", 8.1, \"standard units\", NaN, -9448265.0, 3476046.7488], [1239857, \"apaeswq\", \"National Estuarine Research Reserve System\", \"Apalachicola Bay East Bay Surface\", 29.7858, -84.8752, \"11/6/2011 12:00:00 AM\", \"15:30:00\", \"UTC\", 0.84, \"m\", \"pH\", \"NaN\", 8.0, \"standard units\", NaN, -9448265.0, 3476046.7488], [1239858, \"apaeswq\", \"National Estuarine Research Reserve System\", \"Apalachicola Bay East Bay Surface\", 29.7858, -84.8752, \"11/6/2011 12:00:00 AM\", \"15:45:00\", \"UTC\", 0.85, \"m\", \"pH\", \"NaN\", 8.0, \"standard units\", NaN, -9448265.0, 3476046.7488], [1239859, \"apaeswq\", \"National Estuarine Research Reserve System\", \"Apalachicola Bay East Bay Surface\", 29.7858, -84.8752, \"11/6/2011 12:00:00 AM\", \"16:00:00\", \"UTC\", 0.86, \"m\", \"pH\", \"NaN\", 7.9, \"standard units\", NaN, -9448265.0, 3476046.7488], [1239860, \"apaeswq\", \"National Estuarine Research Reserve System\", \"Apalachicola Bay East Bay Surface\", 29.7858, -84.8752, \"11/6/2011 12:00:00 AM\", \"16:15:00\", \"UTC\", 0.88, \"m\", \"pH\", \"NaN\", 7.9, \"standard units\", NaN, -9448265.0, 3476046.7488], [1239861, \"apaeswq\", \"National Estuarine Research Reserve System\", \"Apalachicola Bay East Bay Surface\", 29.7858, -84.8752, \"11/6/2011 12:00:00 AM\", \"16:30:00\", \"UTC\", 0.88, \"m\", \"pH\", \"NaN\", 7.9, \"standard units\", NaN, -9448265.0, 3476046.7488], [1239862, \"apaeswq\", \"National Estuarine Research Reserve System\", \"Apalachicola Bay East Bay Surface\", 29.7858, -84.8752, \"11/6/2011 12:00:00 AM\", \"16:45:00\", \"UTC\", 0.88, \"m\", \"pH\", \"NaN\", 8.0, \"standard units\", NaN, -9448265.0, 3476046.7488], [1239863, \"apaeswq\", \"National Estuarine Research Reserve System\", \"Apalachicola Bay East Bay Surface\", 29.7858, -84.8752, \"11/6/2011 12:00:00 AM\", \"17:00:00\", \"UTC\", 0.89, \"m\", \"pH\", \"NaN\", 8.1, \"standard units\", NaN, -9448265.0, 3476046.7488], [1239864, \"apaeswq\", \"National Estuarine Research Reserve System\", \"Apalachicola Bay East Bay Surface\", 29.7858, -84.8752, \"11/6/2011 12:00:00 AM\", \"17:15:00\", \"UTC\", 0.9, \"m\", \"pH\", \"NaN\", 8.1, \"standard units\", NaN, -9448265.0, 3476046.7488], [1239865, \"apaeswq\", \"National Estuarine Research Reserve System\", \"Apalachicola Bay East Bay Surface\", 29.7858, -84.8752, \"11/6/2011 12:00:00 AM\", \"17:30:00\", \"UTC\", 0.9, \"m\", \"pH\", \"NaN\", 8.0, \"standard units\", NaN, -9448265.0, 3476046.7488], [1239866, \"apaeswq\", \"National Estuarine Research Reserve System\", \"Apalachicola Bay East Bay Surface\", 29.7858, -84.8752, \"11/6/2011 12:00:00 AM\", \"17:45:00\", \"UTC\", 0.9, \"m\", \"pH\", \"NaN\", 8.0, \"standard units\", NaN, -9448265.0, 3476046.7488], [1239867, \"apaeswq\", \"National Estuarine Research Reserve System\", \"Apalachicola Bay East Bay Surface\", 29.7858, -84.8752, \"11/6/2011 12:00:00 AM\", \"18:00:00\", \"UTC\", 0.9, \"m\", \"pH\", \"NaN\", 8.0, \"standard units\", NaN, -9448265.0, 3476046.7488], [1239868, \"apaeswq\", \"National Estuarine Research Reserve System\", \"Apalachicola Bay East Bay Surface\", 29.7858, -84.8752, \"11/6/2011 12:00:00 AM\", \"18:15:00\", \"UTC\", 0.9, \"m\", \"pH\", \"NaN\", 8.0, \"standard units\", NaN, -9448265.0, 3476046.7488], [1239869, \"apaeswq\", \"National Estuarine Research Reserve System\", \"Apalachicola Bay East Bay Surface\", 29.7858, -84.8752, \"11/6/2011 12:00:00 AM\", \"18:30:00\", \"UTC\", 0.9, \"m\", \"pH\", \"NaN\", 7.9, \"standard units\", NaN, -9448265.0, 3476046.7488], [1239870, \"apaeswq\", \"National Estuarine Research Reserve System\", \"Apalachicola Bay East Bay Surface\", 29.7858, -84.8752, \"11/6/2011 12:00:00 AM\", \"18:45:00\", \"UTC\", 0.9, \"m\", \"pH\", \"NaN\", 7.9, \"standard units\", NaN, -9448265.0, 3476046.7488], [1239871, \"apaeswq\", \"National Estuarine Research Reserve System\", \"Apalachicola Bay East Bay Surface\", 29.7858, -84.8752, \"11/6/2011 12:00:00 AM\", \"19:00:00\", \"UTC\", 0.89, \"m\", \"pH\", \"NaN\", 7.9, \"standard units\", NaN, -9448265.0, 3476046.7488], [1239872, \"apaeswq\", \"National Estuarine Research Reserve System\", \"Apalachicola Bay East Bay Surface\", 29.7858, -84.8752, \"11/6/2011 12:00:00 AM\", \"19:15:00\", \"UTC\", 0.88, \"m\", \"pH\", \"NaN\", 7.9, \"standard units\", NaN, -9448265.0, 3476046.7488], [1239873, \"apaeswq\", \"National Estuarine Research Reserve System\", \"Apalachicola Bay East Bay Surface\", 29.7858, -84.8752, \"11/6/2011 12:00:00 AM\", \"19:30:00\", \"UTC\", 0.87, \"m\", \"pH\", \"NaN\", 7.8, \"standard units\", NaN, -9448265.0, 3476046.7488], [1239874, \"apaeswq\", \"National Estuarine Research Reserve System\", \"Apalachicola Bay East Bay Surface\", 29.7858, -84.8752, \"11/6/2011 12:00:00 AM\", \"19:45:00\", \"UTC\", 0.87, \"m\", \"pH\", \"NaN\", 7.8, \"standard units\", NaN, -9448265.0, 3476046.7488], [1239875, \"apaeswq\", \"National Estuarine Research Reserve System\", \"Apalachicola Bay East Bay Surface\", 29.7858, -84.8752, \"11/6/2011 12:00:00 AM\", \"20:00:00\", \"UTC\", 0.87, \"m\", \"pH\", \"NaN\", 7.7, \"standard units\", NaN, -9448265.0, 3476046.7488], [1239876, \"apaeswq\", \"National Estuarine Research Reserve System\", \"Apalachicola Bay East Bay Surface\", 29.7858, -84.8752, \"11/6/2011 12:00:00 AM\", \"20:15:00\", \"UTC\", 0.86, \"m\", \"pH\", \"NaN\", 7.7, \"standard units\", NaN, -9448265.0, 3476046.7488], [1239877, \"apaeswq\", \"National Estuarine Research Reserve System\", \"Apalachicola Bay East Bay Surface\", 29.7858, -84.8752, \"11/6/2011 12:00:00 AM\", \"20:30:00\", \"UTC\", 0.85, \"m\", \"pH\", \"NaN\", 7.7, \"standard units\", NaN, -9448265.0, 3476046.7488], [1239878, \"apaeswq\", \"National Estuarine Research Reserve System\", \"Apalachicola Bay East Bay Surface\", 29.7858, -84.8752, \"11/6/2011 12:00:00 AM\", \"20:45:00\", \"UTC\", 0.84, \"m\", \"pH\", \"NaN\", 7.8, \"standard units\", NaN, -9448265.0, 3476046.7488], [1239879, \"apaeswq\", \"National Estuarine Research Reserve System\", \"Apalachicola Bay East Bay Surface\", 29.7858, -84.8752, \"11/6/2011 12:00:00 AM\", \"21:00:00\", \"UTC\", 0.83, \"m\", \"pH\", \"NaN\", 7.8, \"standard units\", NaN, -9448265.0, 3476046.7488], [1239880, \"apaeswq\", \"National Estuarine Research Reserve System\", \"Apalachicola Bay East Bay Surface\", 29.7858, -84.8752, \"11/6/2011 12:00:00 AM\", \"21:15:00\", \"UTC\", 0.82, \"m\", \"pH\", \"NaN\", 7.8, \"standard units\", NaN, -9448265.0, 3476046.7488], [1239881, \"apaeswq\", \"National Estuarine Research Reserve System\", \"Apalachicola Bay East Bay Surface\", 29.7858, -84.8752, \"11/6/2011 12:00:00 AM\", \"21:30:00\", \"UTC\", 0.82, \"m\", \"pH\", \"NaN\", 7.8, \"standard units\", NaN, -9448265.0, 3476046.7488], [1239882, \"apaeswq\", \"National Estuarine Research Reserve System\", \"Apalachicola Bay East Bay Surface\", 29.7858, -84.8752, \"11/6/2011 12:00:00 AM\", \"21:45:00\", \"UTC\", 0.82, \"m\", \"pH\", \"NaN\", 7.8, \"standard units\", NaN, -9448265.0, 3476046.7488], [1239883, \"apaeswq\", \"National Estuarine Research Reserve System\", \"Apalachicola Bay East Bay Surface\", 29.7858, -84.8752, \"11/6/2011 12:00:00 AM\", \"22:00:00\", \"UTC\", 0.81, \"m\", \"pH\", \"NaN\", 7.7, \"standard units\", NaN, -9448265.0, 3476046.7488], [1239884, \"apaeswq\", \"National Estuarine Research Reserve System\", \"Apalachicola Bay East Bay Surface\", 29.7858, -84.8752, \"11/6/2011 12:00:00 AM\", \"22:15:00\", \"UTC\", 0.8, \"m\", \"pH\", \"NaN\", 7.7, \"standard units\", NaN, -9448265.0, 3476046.7488], [1239885, \"apaeswq\", \"National Estuarine Research Reserve System\", \"Apalachicola Bay East Bay Surface\", 29.7858, -84.8752, \"11/6/2011 12:00:00 AM\", \"22:30:00\", \"UTC\", 0.8, \"m\", \"pH\", \"NaN\", 7.8, \"standard units\", NaN, -9448265.0, 3476046.7488], [1239886, \"apaeswq\", \"National Estuarine Research Reserve System\", \"Apalachicola Bay East Bay Surface\", 29.7858, -84.8752, \"11/6/2011 12:00:00 AM\", \"22:45:00\", \"UTC\", 0.79, \"m\", \"pH\", \"NaN\", 7.8, \"standard units\", NaN, -9448265.0, 3476046.7488], [1239887, \"apaeswq\", \"National Estuarine Research Reserve System\", \"Apalachicola Bay East Bay Surface\", 29.7858, -84.8752, \"11/6/2011 12:00:00 AM\", \"23:00:00\", \"UTC\", 0.8, \"m\", \"pH\", \"NaN\", 7.8, \"standard units\", NaN, -9448265.0, 3476046.7488], [1239888, \"apaeswq\", \"National Estuarine Research Reserve System\", \"Apalachicola Bay East Bay Surface\", 29.7858, -84.8752, \"11/6/2011 12:00:00 AM\", \"23:15:00\", \"UTC\", 0.8, \"m\", \"pH\", \"NaN\", 7.7, \"standard units\", NaN, -9448265.0, 3476046.7488], [1239889, \"apaeswq\", \"National Estuarine Research Reserve System\", \"Apalachicola Bay East Bay Surface\", 29.7858, -84.8752, \"11/6/2011 12:00:00 AM\", \"23:30:00\", \"UTC\", 0.81, \"m\", \"pH\", \"NaN\", 7.6, \"standard units\", NaN, -9448265.0, 3476046.7488], [1239890, \"apaeswq\", \"National Estuarine Research Reserve System\", \"Apalachicola Bay East Bay Surface\", 29.7858, -84.8752, \"11/6/2011 12:00:00 AM\", \"23:45:00\", \"UTC\", 0.81, \"m\", \"pH\", \"NaN\", 7.6, \"standard units\", NaN, -9448265.0, 3476046.7488], [1239891, \"apaeswq\", \"National Estuarine Research Reserve System\", \"Apalachicola Bay East Bay Surface\", 29.7858, -84.8752, \"11/7/2011 12:00:00 AM\", \"00:00:00\", \"UTC\", 0.81, \"m\", \"pH\", \"NaN\", 7.7, \"standard units\", NaN, -9448265.0, 3476046.7488], [1239892, \"apaeswq\", \"National Estuarine Research Reserve System\", \"Apalachicola Bay East Bay Surface\", 29.7858, -84.8752, \"11/7/2011 12:00:00 AM\", \"00:15:00\", \"UTC\", 0.81, \"m\", \"pH\", \"NaN\", 7.7, \"standard units\", NaN, -9448265.0, 3476046.7488], [1239893, \"apaeswq\", \"National Estuarine Research Reserve System\", \"Apalachicola Bay East Bay Surface\", 29.7858, -84.8752, \"11/7/2011 12:00:00 AM\", \"00:30:00\", \"UTC\", 0.81, \"m\", \"pH\", \"NaN\", 7.7, \"standard units\", NaN, -9448265.0, 3476046.7488], [1239894, \"apaeswq\", \"National Estuarine Research Reserve System\", \"Apalachicola Bay East Bay Surface\", 29.7858, -84.8752, \"11/7/2011 12:00:00 AM\", \"00:45:00\", \"UTC\", 0.82, \"m\", \"pH\", \"NaN\", 7.7, \"standard units\", NaN, -9448265.0, 3476046.7488], [1239895, \"apaeswq\", \"National Estuarine Research Reserve System\", \"Apalachicola Bay East Bay Surface\", 29.7858, -84.8752, \"11/7/2011 12:00:00 AM\", \"01:00:00\", \"UTC\", 0.83, \"m\", \"pH\", \"NaN\", 7.7, \"standard units\", NaN, -9448265.0, 3476046.7488], [1239896, \"apaeswq\", \"National Estuarine Research Reserve System\", \"Apalachicola Bay East Bay Surface\", 29.7858, -84.8752, \"11/7/2011 12:00:00 AM\", \"01:15:00\", \"UTC\", 0.83, \"m\", \"pH\", \"NaN\", 7.6, \"standard units\", NaN, -9448265.0, 3476046.7488], [1239897, \"apaeswq\", \"National Estuarine Research Reserve System\", \"Apalachicola Bay East Bay Surface\", 29.7858, -84.8752, \"11/7/2011 12:00:00 AM\", \"01:30:00\", \"UTC\", 0.83, \"m\", \"pH\", \"NaN\", 7.7, \"standard units\", NaN, -9448265.0, 3476046.7488], [1239898, \"apaeswq\", \"National Estuarine Research Reserve System\", \"Apalachicola Bay East Bay Surface\", 29.7858, -84.8752, \"11/7/2011 12:00:00 AM\", \"01:45:00\", \"UTC\", 0.84, \"m\", \"pH\", \"NaN\", 7.7, \"standard units\", NaN, -9448265.0, 3476046.7488], [1239899, \"apaeswq\", \"National Estuarine Research Reserve System\", \"Apalachicola Bay East Bay Surface\", 29.7858, -84.8752, \"11/7/2011 12:00:00 AM\", \"02:00:00\", \"UTC\", 0.85, \"m\", \"pH\", \"NaN\", 7.7, \"standard units\", NaN, -9448265.0, 3476046.7488], [1239900, \"apaeswq\", \"National Estuarine Research Reserve System\", \"Apalachicola Bay East Bay Surface\", 29.7858, -84.8752, \"11/7/2011 12:00:00 AM\", \"02:15:00\", \"UTC\", 0.86, \"m\", \"pH\", \"NaN\", 7.7, \"standard units\", NaN, -9448265.0, 3476046.7488], [1239901, \"apaeswq\", \"National Estuarine Research Reserve System\", \"Apalachicola Bay East Bay Surface\", 29.7858, -84.8752, \"11/7/2011 12:00:00 AM\", \"02:30:00\", \"UTC\", 0.87, \"m\", \"pH\", \"NaN\", 7.8, \"standard units\", NaN, -9448265.0, 3476046.7488], [1239902, \"apaeswq\", \"National Estuarine Research Reserve System\", \"Apalachicola Bay East Bay Surface\", 29.7858, -84.8752, \"11/7/2011 12:00:00 AM\", \"02:45:00\", \"UTC\", 0.89, \"m\", \"pH\", \"NaN\", 7.8, \"standard units\", NaN, -9448265.0, 3476046.7488], [1239903, \"apaeswq\", \"National Estuarine Research Reserve System\", \"Apalachicola Bay East Bay Surface\", 29.7858, -84.8752, \"11/7/2011 12:00:00 AM\", \"03:00:00\", \"UTC\", 0.91, \"m\", \"pH\", \"NaN\", 7.7, \"standard units\", NaN, -9448265.0, 3476046.7488], [1239904, \"apaeswq\", \"National Estuarine Research Reserve System\", \"Apalachicola Bay East Bay Surface\", 29.7858, -84.8752, \"11/7/2011 12:00:00 AM\", \"03:15:00\", \"UTC\", 0.92, \"m\", \"pH\", \"NaN\", 7.8, \"standard units\", NaN, -9448265.0, 3476046.7488], [1239905, \"apaeswq\", \"National Estuarine Research Reserve System\", \"Apalachicola Bay East Bay Surface\", 29.7858, -84.8752, \"11/7/2011 12:00:00 AM\", \"03:30:00\", \"UTC\", 0.94, \"m\", \"pH\", \"NaN\", 7.8, \"standard units\", NaN, -9448265.0, 3476046.7488], [1239906, \"apaeswq\", \"National Estuarine Research Reserve System\", \"Apalachicola Bay East Bay Surface\", 29.7858, -84.8752, \"11/7/2011 12:00:00 AM\", \"03:45:00\", \"UTC\", 0.95, \"m\", \"pH\", \"NaN\", 7.7, \"standard units\", NaN, -9448265.0, 3476046.7488], [1239907, \"apaeswq\", \"National Estuarine Research Reserve System\", \"Apalachicola Bay East Bay Surface\", 29.7858, -84.8752, \"11/7/2011 12:00:00 AM\", \"04:00:00\", \"UTC\", 0.96, \"m\", \"pH\", \"NaN\", 7.8, \"standard units\", NaN, -9448265.0, 3476046.7488], [1239908, \"apaeswq\", \"National Estuarine Research Reserve System\", \"Apalachicola Bay East Bay Surface\", 29.7858, -84.8752, \"11/7/2011 12:00:00 AM\", \"04:15:00\", \"UTC\", 0.97, \"m\", \"pH\", \"NaN\", 7.9, \"standard units\", NaN, -9448265.0, 3476046.7488], [1239909, \"apaeswq\", \"National Estuarine Research Reserve System\", \"Apalachicola Bay East Bay Surface\", 29.7858, -84.8752, \"11/7/2011 12:00:00 AM\", \"04:30:00\", \"UTC\", 0.97, \"m\", \"pH\", \"NaN\", 7.9, \"standard units\", NaN, -9448265.0, 3476046.7488], [1239910, \"apaeswq\", \"National Estuarine Research Reserve System\", \"Apalachicola Bay East Bay Surface\", 29.7858, -84.8752, \"11/7/2011 12:00:00 AM\", \"04:45:00\", \"UTC\", 0.97, \"m\", \"pH\", \"NaN\", 7.9, \"standard units\", NaN, -9448265.0, 3476046.7488], [1239911, \"apaeswq\", \"National Estuarine Research Reserve System\", \"Apalachicola Bay East Bay Surface\", 29.7858, -84.8752, \"11/7/2011 12:00:00 AM\", \"05:00:00\", \"UTC\", 0.97, \"m\", \"pH\", \"NaN\", 7.9, \"standard units\", NaN, -9448265.0, 3476046.7488], [1239912, \"apaeswq\", \"National Estuarine Research Reserve System\", \"Apalachicola Bay East Bay Surface\", 29.7858, -84.8752, \"11/7/2011 12:00:00 AM\", \"05:15:00\", \"UTC\", 0.97, \"m\", \"pH\", \"NaN\", 7.9, \"standard units\", NaN, -9448265.0, 3476046.7488], [1239913, \"apaeswq\", \"National Estuarine Research Reserve System\", \"Apalachicola Bay East Bay Surface\", 29.7858, -84.8752, \"11/7/2011 12:00:00 AM\", \"05:30:00\", \"UTC\", 0.97, \"m\", \"pH\", \"NaN\", 7.9, \"standard units\", NaN, -9448265.0, 3476046.7488], [1239914, \"apaeswq\", \"National Estuarine Research Reserve System\", \"Apalachicola Bay East Bay Surface\", 29.7858, -84.8752, \"11/7/2011 12:00:00 AM\", \"05:45:00\", \"UTC\", 0.96, \"m\", \"pH\", \"NaN\", 7.9, \"standard units\", NaN, -9448265.0, 3476046.7488], [1239915, \"apaeswq\", \"National Estuarine Research Reserve System\", \"Apalachicola Bay East Bay Surface\", 29.7858, -84.8752, \"11/7/2011 12:00:00 AM\", \"06:00:00\", \"UTC\", 0.95, \"m\", \"pH\", \"NaN\", 7.9, \"standard units\", NaN, -9448265.0, 3476046.7488], [1239916, \"apaeswq\", \"National Estuarine Research Reserve System\", \"Apalachicola Bay East Bay Surface\", 29.7858, -84.8752, \"11/7/2011 12:00:00 AM\", \"06:15:00\", \"UTC\", 0.93, \"m\", \"pH\", \"NaN\", 7.9, \"standard units\", NaN, -9448265.0, 3476046.7488], [1239917, \"apaeswq\", \"National Estuarine Research Reserve System\", \"Apalachicola Bay East Bay Surface\", 29.7858, -84.8752, \"11/7/2011 12:00:00 AM\", \"06:30:00\", \"UTC\", 0.92, \"m\", \"pH\", \"NaN\", 7.9, \"standard units\", NaN, -9448265.0, 3476046.7488], [1239918, \"apaeswq\", \"National Estuarine Research Reserve System\", \"Apalachicola Bay East Bay Surface\", 29.7858, -84.8752, \"11/7/2011 12:00:00 AM\", \"06:45:00\", \"UTC\", 0.89, \"m\", \"pH\", \"NaN\", 7.8, \"standard units\", NaN, -9448265.0, 3476046.7488], [1239919, \"apaeswq\", \"National Estuarine Research Reserve System\", \"Apalachicola Bay East Bay Surface\", 29.7858, -84.8752, \"11/7/2011 12:00:00 AM\", \"07:00:00\", \"UTC\", 0.86, \"m\", \"pH\", \"NaN\", 7.9, \"standard units\", NaN, -9448265.0, 3476046.7488], [1239920, \"apaeswq\", \"National Estuarine Research Reserve System\", \"Apalachicola Bay East Bay Surface\", 29.7858, -84.8752, \"11/7/2011 12:00:00 AM\", \"07:15:00\", \"UTC\", 0.84, \"m\", \"pH\", \"NaN\", 7.8, \"standard units\", NaN, -9448265.0, 3476046.7488], [1239921, \"apaeswq\", \"National Estuarine Research Reserve System\", \"Apalachicola Bay East Bay Surface\", 29.7858, -84.8752, \"11/7/2011 12:00:00 AM\", \"07:30:00\", \"UTC\", 0.82, \"m\", \"pH\", \"NaN\", 7.8, \"standard units\", NaN, -9448265.0, 3476046.7488], [1239922, \"apaeswq\", \"National Estuarine Research Reserve System\", \"Apalachicola Bay East Bay Surface\", 29.7858, -84.8752, \"11/7/2011 12:00:00 AM\", \"07:45:00\", \"UTC\", 0.79, \"m\", \"pH\", \"NaN\", 7.8, \"standard units\", NaN, -9448265.0, 3476046.7488], [1239923, \"apaeswq\", \"National Estuarine Research Reserve System\", \"Apalachicola Bay East Bay Surface\", 29.7858, -84.8752, \"11/7/2011 12:00:00 AM\", \"08:00:00\", \"UTC\", 0.77, \"m\", \"pH\", \"NaN\", 7.8, \"standard units\", NaN, -9448265.0, 3476046.7488], [1239924, \"apaeswq\", \"National Estuarine Research Reserve System\", \"Apalachicola Bay East Bay Surface\", 29.7858, -84.8752, \"11/7/2011 12:00:00 AM\", \"08:15:00\", \"UTC\", 0.75, \"m\", \"pH\", \"NaN\", 7.8, \"standard units\", NaN, -9448265.0, 3476046.7488], [1239925, \"apaeswq\", \"National Estuarine Research Reserve System\", \"Apalachicola Bay East Bay Surface\", 29.7858, -84.8752, \"11/7/2011 12:00:00 AM\", \"08:30:00\", \"UTC\", 0.74, \"m\", \"pH\", \"NaN\", 7.8, \"standard units\", NaN, -9448265.0, 3476046.7488], [1239926, \"apaeswq\", \"National Estuarine Research Reserve System\", \"Apalachicola Bay East Bay Surface\", 29.7858, -84.8752, \"11/7/2011 12:00:00 AM\", \"08:45:00\", \"UTC\", 0.73, \"m\", \"pH\", \"NaN\", 7.8, \"standard units\", NaN, -9448265.0, 3476046.7488], [1239927, \"apaeswq\", \"National Estuarine Research Reserve System\", \"Apalachicola Bay East Bay Surface\", 29.7858, -84.8752, \"11/7/2011 12:00:00 AM\", \"09:00:00\", \"UTC\", 0.71, \"m\", \"pH\", \"NaN\", 7.8, \"standard units\", NaN, -9448265.0, 3476046.7488], [1239928, \"apaeswq\", \"National Estuarine Research Reserve System\", \"Apalachicola Bay East Bay Surface\", 29.7858, -84.8752, \"11/7/2011 12:00:00 AM\", \"09:15:00\", \"UTC\", 0.7, \"m\", \"pH\", \"NaN\", 7.7, \"standard units\", NaN, -9448265.0, 3476046.7488], [1239929, \"apaeswq\", \"National Estuarine Research Reserve System\", \"Apalachicola Bay East Bay Surface\", 29.7858, -84.8752, \"11/7/2011 12:00:00 AM\", \"09:30:00\", \"UTC\", 0.68, \"m\", \"pH\", \"NaN\", 7.8, \"standard units\", NaN, -9448265.0, 3476046.7488], [1239930, \"apaeswq\", \"National Estuarine Research Reserve System\", \"Apalachicola Bay East Bay Surface\", 29.7858, -84.8752, \"11/7/2011 12:00:00 AM\", \"09:45:00\", \"UTC\", 0.66, \"m\", \"pH\", \"NaN\", 7.8, \"standard units\", NaN, -9448265.0, 3476046.7488], [1239931, \"apaeswq\", \"National Estuarine Research Reserve System\", \"Apalachicola Bay East Bay Surface\", 29.7858, -84.8752, \"11/7/2011 12:00:00 AM\", \"10:00:00\", \"UTC\", 0.65, \"m\", \"pH\", \"NaN\", 7.8, \"standard units\", NaN, -9448265.0, 3476046.7488], [1239932, \"apaeswq\", \"National Estuarine Research Reserve System\", \"Apalachicola Bay East Bay Surface\", 29.7858, -84.8752, \"11/7/2011 12:00:00 AM\", \"10:15:00\", \"UTC\", 0.63, \"m\", \"pH\", \"NaN\", 7.8, \"standard units\", NaN, -9448265.0, 3476046.7488], [1239933, \"apaeswq\", \"National Estuarine Research Reserve System\", \"Apalachicola Bay East Bay Surface\", 29.7858, -84.8752, \"11/7/2011 12:00:00 AM\", \"10:30:00\", \"UTC\", 0.61, \"m\", \"pH\", \"NaN\", 7.8, \"standard units\", NaN, -9448265.0, 3476046.7488], [1239934, \"apaeswq\", \"National Estuarine Research Reserve System\", \"Apalachicola Bay East Bay Surface\", 29.7858, -84.8752, \"11/7/2011 12:00:00 AM\", \"10:45:00\", \"UTC\", 0.59, \"m\", \"pH\", \"NaN\", 7.8, \"standard units\", NaN, -9448265.0, 3476046.7488], [1239935, \"apaeswq\", \"National Estuarine Research Reserve System\", \"Apalachicola Bay East Bay Surface\", 29.7858, -84.8752, \"11/7/2011 12:00:00 AM\", \"11:00:00\", \"UTC\", 0.58, \"m\", \"pH\", \"NaN\", 7.8, \"standard units\", NaN, -9448265.0, 3476046.7488], [1239936, \"apaeswq\", \"National Estuarine Research Reserve System\", \"Apalachicola Bay East Bay Surface\", 29.7858, -84.8752, \"11/7/2011 12:00:00 AM\", \"11:15:00\", \"UTC\", 0.56, \"m\", \"pH\", \"NaN\", 7.8, \"standard units\", NaN, -9448265.0, 3476046.7488], [1239937, \"apaeswq\", \"National Estuarine Research Reserve System\", \"Apalachicola Bay East Bay Surface\", 29.7858, -84.8752, \"11/7/2011 12:00:00 AM\", \"11:30:00\", \"UTC\", 0.56, \"m\", \"pH\", \"NaN\", 7.7, \"standard units\", NaN, -9448265.0, 3476046.7488], [1239938, \"apaeswq\", \"National Estuarine Research Reserve System\", \"Apalachicola Bay East Bay Surface\", 29.7858, -84.8752, \"11/7/2011 12:00:00 AM\", \"11:45:00\", \"UTC\", 0.55, \"m\", \"pH\", \"NaN\", 7.7, \"standard units\", NaN, -9448265.0, 3476046.7488], [1239939, \"apaeswq\", \"National Estuarine Research Reserve System\", \"Apalachicola Bay East Bay Surface\", 29.7858, -84.8752, \"11/7/2011 12:00:00 AM\", \"12:00:00\", \"UTC\", 0.54, \"m\", \"pH\", \"NaN\", 7.7, \"standard units\", NaN, -9448265.0, 3476046.7488], [1239940, \"apaeswq\", \"National Estuarine Research Reserve System\", \"Apalachicola Bay East Bay Surface\", 29.7858, -84.8752, \"11/7/2011 12:00:00 AM\", \"12:15:00\", \"UTC\", 0.54, \"m\", \"pH\", \"NaN\", 7.7, \"standard units\", NaN, -9448265.0, 3476046.7488], [1239941, \"apaeswq\", \"National Estuarine Research Reserve System\", \"Apalachicola Bay East Bay Surface\", 29.7858, -84.8752, \"11/7/2011 12:00:00 AM\", \"12:30:00\", \"UTC\", 0.54, \"m\", \"pH\", \"NaN\", 7.6, \"standard units\", NaN, -9448265.0, 3476046.7488], [1239942, \"apaeswq\", \"National Estuarine Research Reserve System\", \"Apalachicola Bay East Bay Surface\", 29.7858, -84.8752, \"11/7/2011 12:00:00 AM\", \"12:45:00\", \"UTC\", 0.55, \"m\", \"pH\", \"NaN\", 7.7, \"standard units\", NaN, -9448265.0, 3476046.7488], [1239943, \"apaeswq\", \"National Estuarine Research Reserve System\", \"Apalachicola Bay East Bay Surface\", 29.7858, -84.8752, \"11/7/2011 12:00:00 AM\", \"13:00:00\", \"UTC\", 0.56, \"m\", \"pH\", \"NaN\", 7.7, \"standard units\", NaN, -9448265.0, 3476046.7488], [1239944, \"apaeswq\", \"National Estuarine Research Reserve System\", \"Apalachicola Bay East Bay Surface\", 29.7858, -84.8752, \"11/7/2011 12:00:00 AM\", \"13:15:00\", \"UTC\", 0.58, \"m\", \"pH\", \"NaN\", 7.6, \"standard units\", NaN, -9448265.0, 3476046.7488], [1239945, \"apaeswq\", \"National Estuarine Research Reserve System\", \"Apalachicola Bay East Bay Surface\", 29.7858, -84.8752, \"11/7/2011 12:00:00 AM\", \"13:30:00\", \"UTC\", 0.6, \"m\", \"pH\", \"NaN\", 7.9, \"standard units\", NaN, -9448265.0, 3476046.7488], [1239946, \"apaeswq\", \"National Estuarine Research Reserve System\", \"Apalachicola Bay East Bay Surface\", 29.7858, -84.8752, \"11/7/2011 12:00:00 AM\", \"13:45:00\", \"UTC\", 0.62, \"m\", \"pH\", \"NaN\", 8.0, \"standard units\", NaN, -9448265.0, 3476046.7488], [1239947, \"apaeswq\", \"National Estuarine Research Reserve System\", \"Apalachicola Bay East Bay Surface\", 29.7858, -84.8752, \"11/7/2011 12:00:00 AM\", \"14:00:00\", \"UTC\", 0.66, \"m\", \"pH\", \"NaN\", 8.0, \"standard units\", NaN, -9448265.0, 3476046.7488], [1239948, \"apaeswq\", \"National Estuarine Research Reserve System\", \"Apalachicola Bay East Bay Surface\", 29.7858, -84.8752, \"11/7/2011 12:00:00 AM\", \"14:15:00\", \"UTC\", 0.69, \"m\", \"pH\", \"NaN\", 8.0, \"standard units\", NaN, -9448265.0, 3476046.7488], [1239949, \"apaeswq\", \"National Estuarine Research Reserve System\", \"Apalachicola Bay East Bay Surface\", 29.7858, -84.8752, \"11/7/2011 12:00:00 AM\", \"14:30:00\", \"UTC\", 0.71, \"m\", \"pH\", \"NaN\", 8.0, \"standard units\", NaN, -9448265.0, 3476046.7488], [1239950, \"apaeswq\", \"National Estuarine Research Reserve System\", \"Apalachicola Bay East Bay Surface\", 29.7858, -84.8752, \"11/7/2011 12:00:00 AM\", \"14:45:00\", \"UTC\", 0.74, \"m\", \"pH\", \"NaN\", 7.9, \"standard units\", NaN, -9448265.0, 3476046.7488], [1239951, \"apaeswq\", \"National Estuarine Research Reserve System\", \"Apalachicola Bay East Bay Surface\", 29.7858, -84.8752, \"11/7/2011 12:00:00 AM\", \"15:00:00\", \"UTC\", 0.77, \"m\", \"pH\", \"NaN\", 7.9, \"standard units\", NaN, -9448265.0, 3476046.7488], [1239952, \"apaeswq\", \"National Estuarine Research Reserve System\", \"Apalachicola Bay East Bay Surface\", 29.7858, -84.8752, \"11/7/2011 12:00:00 AM\", \"15:15:00\", \"UTC\", 0.79, \"m\", \"pH\", \"NaN\", 7.9, \"standard units\", NaN, -9448265.0, 3476046.7488], [1239953, \"apaeswq\", \"National Estuarine Research Reserve System\", \"Apalachicola Bay East Bay Surface\", 29.7858, -84.8752, \"11/7/2011 12:00:00 AM\", \"15:30:00\", \"UTC\", 0.8, \"m\", \"pH\", \"NaN\", 7.9, \"standard units\", NaN, -9448265.0, 3476046.7488], [1239954, \"apaeswq\", \"National Estuarine Research Reserve System\", \"Apalachicola Bay East Bay Surface\", 29.7858, -84.8752, \"11/7/2011 12:00:00 AM\", \"15:45:00\", \"UTC\", 0.82, \"m\", \"pH\", \"NaN\", 7.9, \"standard units\", NaN, -9448265.0, 3476046.7488], [1239955, \"apaeswq\", \"National Estuarine Research Reserve System\", \"Apalachicola Bay East Bay Surface\", 29.7858, -84.8752, \"11/7/2011 12:00:00 AM\", \"16:00:00\", \"UTC\", 0.83, \"m\", \"pH\", \"NaN\", 7.8, \"standard units\", NaN, -9448265.0, 3476046.7488], [1239956, \"apaeswq\", \"National Estuarine Research Reserve System\", \"Apalachicola Bay East Bay Surface\", 29.7858, -84.8752, \"11/7/2011 12:00:00 AM\", \"16:15:00\", \"UTC\", 0.86, \"m\", \"pH\", \"NaN\", 7.8, \"standard units\", NaN, -9448265.0, 3476046.7488], [1239957, \"apaeswq\", \"National Estuarine Research Reserve System\", \"Apalachicola Bay East Bay Surface\", 29.7858, -84.8752, \"11/7/2011 12:00:00 AM\", \"16:30:00\", \"UTC\", 0.88, \"m\", \"pH\", \"NaN\", 7.8, \"standard units\", NaN, -9448265.0, 3476046.7488], [1239958, \"apaeswq\", \"National Estuarine Research Reserve System\", \"Apalachicola Bay East Bay Surface\", 29.7858, -84.8752, \"11/7/2011 12:00:00 AM\", \"16:45:00\", \"UTC\", 0.9, \"m\", \"pH\", \"NaN\", 7.7, \"standard units\", NaN, -9448265.0, 3476046.7488], [1239959, \"apaeswq\", \"National Estuarine Research Reserve System\", \"Apalachicola Bay East Bay Surface\", 29.7858, -84.8752, \"11/7/2011 12:00:00 AM\", \"17:00:00\", \"UTC\", 0.92, \"m\", \"pH\", \"NaN\", 7.7, \"standard units\", NaN, -9448265.0, 3476046.7488], [1239960, \"apaeswq\", \"National Estuarine Research Reserve System\", \"Apalachicola Bay East Bay Surface\", 29.7858, -84.8752, \"11/7/2011 12:00:00 AM\", \"17:15:00\", \"UTC\", 0.94, \"m\", \"pH\", \"NaN\", 7.7, \"standard units\", NaN, -9448265.0, 3476046.7488], [1239961, \"apaeswq\", \"National Estuarine Research Reserve System\", \"Apalachicola Bay East Bay Surface\", 29.7858, -84.8752, \"11/7/2011 12:00:00 AM\", \"17:30:00\", \"UTC\", 0.96, \"m\", \"pH\", \"NaN\", 7.8, \"standard units\", NaN, -9448265.0, 3476046.7488], [1239962, \"apaeswq\", \"National Estuarine Research Reserve System\", \"Apalachicola Bay East Bay Surface\", 29.7858, -84.8752, \"11/7/2011 12:00:00 AM\", \"17:45:00\", \"UTC\", 0.97, \"m\", \"pH\", \"NaN\", 7.8, \"standard units\", NaN, -9448265.0, 3476046.7488], [1239963, \"apaeswq\", \"National Estuarine Research Reserve System\", \"Apalachicola Bay East Bay Surface\", 29.7858, -84.8752, \"11/7/2011 12:00:00 AM\", \"18:00:00\", \"UTC\", 0.99, \"m\", \"pH\", \"NaN\", 7.8, \"standard units\", NaN, -9448265.0, 3476046.7488], [1239964, \"apaeswq\", \"National Estuarine Research Reserve System\", \"Apalachicola Bay East Bay Surface\", 29.7858, -84.8752, \"11/7/2011 12:00:00 AM\", \"18:15:00\", \"UTC\", 1.0, \"m\", \"pH\", \"NaN\", 7.7, \"standard units\", NaN, -9448265.0, 3476046.7488], [1239965, \"apaeswq\", \"National Estuarine Research Reserve System\", \"Apalachicola Bay East Bay Surface\", 29.7858, -84.8752, \"11/7/2011 12:00:00 AM\", \"18:30:00\", \"UTC\", 0.99, \"m\", \"pH\", \"NaN\", 7.6, \"standard units\", NaN, -9448265.0, 3476046.7488], [1239966, \"apaeswq\", \"National Estuarine Research Reserve System\", \"Apalachicola Bay East Bay Surface\", 29.7858, -84.8752, \"11/7/2011 12:00:00 AM\", \"18:45:00\", \"UTC\", 0.99, \"m\", \"pH\", \"NaN\", 7.6, \"standard units\", NaN, -9448265.0, 3476046.7488], [1239967, \"apaeswq\", \"National Estuarine Research Reserve System\", \"Apalachicola Bay East Bay Surface\", 29.7858, -84.8752, \"11/7/2011 12:00:00 AM\", \"19:00:00\", \"UTC\", 0.98, \"m\", \"pH\", \"NaN\", 7.6, \"standard units\", NaN, -9448265.0, 3476046.7488], [1239968, \"apaeswq\", \"National Estuarine Research Reserve System\", \"Apalachicola Bay East Bay Surface\", 29.7858, -84.8752, \"11/7/2011 12:00:00 AM\", \"19:15:00\", \"UTC\", 0.98, \"m\", \"pH\", \"NaN\", 7.6, \"standard units\", NaN, -9448265.0, 3476046.7488], [1239969, \"apaeswq\", \"National Estuarine Research Reserve System\", \"Apalachicola Bay East Bay Surface\", 29.7858, -84.8752, \"11/7/2011 12:00:00 AM\", \"19:30:00\", \"UTC\", 0.97, \"m\", \"pH\", \"NaN\", 7.6, \"standard units\", NaN, -9448265.0, 3476046.7488], [1239970, \"apaeswq\", \"National Estuarine Research Reserve System\", \"Apalachicola Bay East Bay Surface\", 29.7858, -84.8752, \"11/7/2011 12:00:00 AM\", \"19:45:00\", \"UTC\", 0.97, \"m\", \"pH\", \"NaN\", 7.7, \"standard units\", NaN, -9448265.0, 3476046.7488], [1239971, \"apaeswq\", \"National Estuarine Research Reserve System\", \"Apalachicola Bay East Bay Surface\", 29.7858, -84.8752, \"11/7/2011 12:00:00 AM\", \"20:00:00\", \"UTC\", 0.96, \"m\", \"pH\", \"NaN\", 7.7, \"standard units\", NaN, -9448265.0, 3476046.7488], [1239972, \"apaeswq\", \"National Estuarine Research Reserve System\", \"Apalachicola Bay East Bay Surface\", 29.7858, -84.8752, \"11/7/2011 12:00:00 AM\", \"20:15:00\", \"UTC\", 0.96, \"m\", \"pH\", \"NaN\", 7.7, \"standard units\", NaN, -9448265.0, 3476046.7488], [1239973, \"apaeswq\", \"National Estuarine Research Reserve System\", \"Apalachicola Bay East Bay Surface\", 29.7858, -84.8752, \"11/7/2011 12:00:00 AM\", \"20:30:00\", \"UTC\", 0.96, \"m\", \"pH\", \"NaN\", 7.6, \"standard units\", NaN, -9448265.0, 3476046.7488], [1239974, \"apaeswq\", \"National Estuarine Research Reserve System\", \"Apalachicola Bay East Bay Surface\", 29.7858, -84.8752, \"11/7/2011 12:00:00 AM\", \"20:45:00\", \"UTC\", 0.96, \"m\", \"pH\", \"NaN\", 7.5, \"standard units\", NaN, -9448265.0, 3476046.7488], [1239975, \"apaeswq\", \"National Estuarine Research Reserve System\", \"Apalachicola Bay East Bay Surface\", 29.7858, -84.8752, \"11/7/2011 12:00:00 AM\", \"21:00:00\", \"UTC\", 0.96, \"m\", \"pH\", \"NaN\", 7.5, \"standard units\", NaN, -9448265.0, 3476046.7488], [1239976, \"apaeswq\", \"National Estuarine Research Reserve System\", \"Apalachicola Bay East Bay Surface\", 29.7858, -84.8752, \"11/7/2011 12:00:00 AM\", \"21:15:00\", \"UTC\", 0.96, \"m\", \"pH\", \"NaN\", 7.6, \"standard units\", NaN, -9448265.0, 3476046.7488], [1239977, \"apaeswq\", \"National Estuarine Research Reserve System\", \"Apalachicola Bay East Bay Surface\", 29.7858, -84.8752, \"11/7/2011 12:00:00 AM\", \"21:30:00\", \"UTC\", 0.97, \"m\", \"pH\", \"NaN\", 7.8, \"standard units\", NaN, -9448265.0, 3476046.7488], [1239978, \"apaeswq\", \"National Estuarine Research Reserve System\", \"Apalachicola Bay East Bay Surface\", 29.7858, -84.8752, \"11/7/2011 12:00:00 AM\", \"21:45:00\", \"UTC\", 0.96, \"m\", \"pH\", \"NaN\", 7.8, \"standard units\", NaN, -9448265.0, 3476046.7488], [1239979, \"apaeswq\", \"National Estuarine Research Reserve System\", \"Apalachicola Bay East Bay Surface\", 29.7858, -84.8752, \"11/7/2011 12:00:00 AM\", \"22:00:00\", \"UTC\", 0.95, \"m\", \"pH\", \"NaN\", 7.8, \"standard units\", NaN, -9448265.0, 3476046.7488], [1239980, \"apaeswq\", \"National Estuarine Research Reserve System\", \"Apalachicola Bay East Bay Surface\", 29.7858, -84.8752, \"11/7/2011 12:00:00 AM\", \"22:15:00\", \"UTC\", 0.95, \"m\", \"pH\", \"NaN\", 7.7, \"standard units\", NaN, -9448265.0, 3476046.7488], [1239981, \"apaeswq\", \"National Estuarine Research Reserve System\", \"Apalachicola Bay East Bay Surface\", 29.7858, -84.8752, \"11/7/2011 12:00:00 AM\", \"22:30:00\", \"UTC\", 0.94, \"m\", \"pH\", \"NaN\", 7.6, \"standard units\", NaN, -9448265.0, 3476046.7488], [1239982, \"apaeswq\", \"National Estuarine Research Reserve System\", \"Apalachicola Bay East Bay Surface\", 29.7858, -84.8752, \"11/7/2011 12:00:00 AM\", \"22:45:00\", \"UTC\", 0.94, \"m\", \"pH\", \"NaN\", 7.5, \"standard units\", NaN, -9448265.0, 3476046.7488], [1239983, \"apaeswq\", \"National Estuarine Research Reserve System\", \"Apalachicola Bay East Bay Surface\", 29.7858, -84.8752, \"11/7/2011 12:00:00 AM\", \"23:00:00\", \"UTC\", 0.93, \"m\", \"pH\", \"NaN\", 7.5, \"standard units\", NaN, -9448265.0, 3476046.7488], [1239984, \"apaeswq\", \"National Estuarine Research Reserve System\", \"Apalachicola Bay East Bay Surface\", 29.7858, -84.8752, \"11/7/2011 12:00:00 AM\", \"23:15:00\", \"UTC\", 0.91, \"m\", \"pH\", \"NaN\", 7.5, \"standard units\", NaN, -9448265.0, 3476046.7488], [1239985, \"apaeswq\", \"National Estuarine Research Reserve System\", \"Apalachicola Bay East Bay Surface\", 29.7858, -84.8752, \"11/7/2011 12:00:00 AM\", \"23:30:00\", \"UTC\", 0.89, \"m\", \"pH\", \"NaN\", 7.6, \"standard units\", NaN, -9448265.0, 3476046.7488], [1239986, \"apaeswq\", \"National Estuarine Research Reserve System\", \"Apalachicola Bay East Bay Surface\", 29.7858, -84.8752, \"11/7/2011 12:00:00 AM\", \"23:45:00\", \"UTC\", 0.89, \"m\", \"pH\", \"NaN\", 7.6, \"standard units\", NaN, -9448265.0, 3476046.7488], [1239987, \"apaeswq\", \"National Estuarine Research Reserve System\", \"Apalachicola Bay East Bay Surface\", 29.7858, -84.8752, \"11/8/2011 12:00:00 AM\", \"00:00:00\", \"UTC\", 0.89, \"m\", \"pH\", \"NaN\", 7.5, \"standard units\", NaN, -9448265.0, 3476046.7488], [1239988, \"apaeswq\", \"National Estuarine Research Reserve System\", \"Apalachicola Bay East Bay Surface\", 29.7858, -84.8752, \"11/8/2011 12:00:00 AM\", \"00:15:00\", \"UTC\", 0.9, \"m\", \"pH\", \"NaN\", 7.8, \"standard units\", NaN, -9448265.0, 3476046.7488], [1239989, \"apaeswq\", \"National Estuarine Research Reserve System\", \"Apalachicola Bay East Bay Surface\", 29.7858, -84.8752, \"11/8/2011 12:00:00 AM\", \"00:30:00\", \"UTC\", 0.9, \"m\", \"pH\", \"NaN\", 7.9, \"standard units\", NaN, -9448265.0, 3476046.7488], [1239990, \"apaeswq\", \"National Estuarine Research Reserve System\", \"Apalachicola Bay East Bay Surface\", 29.7858, -84.8752, \"11/8/2011 12:00:00 AM\", \"00:45:00\", \"UTC\", 0.91, \"m\", \"pH\", \"NaN\", 7.8, \"standard units\", NaN, -9448265.0, 3476046.7488], [1239991, \"apaeswq\", \"National Estuarine Research Reserve System\", \"Apalachicola Bay East Bay Surface\", 29.7858, -84.8752, \"11/8/2011 12:00:00 AM\", \"01:00:00\", \"UTC\", 0.91, \"m\", \"pH\", \"NaN\", 7.8, \"standard units\", NaN, -9448265.0, 3476046.7488], [1239992, \"apaeswq\", \"National Estuarine Research Reserve System\", \"Apalachicola Bay East Bay Surface\", 29.7858, -84.8752, \"11/8/2011 12:00:00 AM\", \"01:15:00\", \"UTC\", 0.91, \"m\", \"pH\", \"NaN\", 7.8, \"standard units\", NaN, -9448265.0, 3476046.7488], [1239993, \"apaeswq\", \"National Estuarine Research Reserve System\", \"Apalachicola Bay East Bay Surface\", 29.7858, -84.8752, \"11/8/2011 12:00:00 AM\", \"01:30:00\", \"UTC\", 0.92, \"m\", \"pH\", \"NaN\", 7.8, \"standard units\", NaN, -9448265.0, 3476046.7488], [1239994, \"apaeswq\", \"National Estuarine Research Reserve System\", \"Apalachicola Bay East Bay Surface\", 29.7858, -84.8752, \"11/8/2011 12:00:00 AM\", \"01:45:00\", \"UTC\", 0.92, \"m\", \"pH\", \"NaN\", 7.8, \"standard units\", NaN, -9448265.0, 3476046.7488], [1239995, \"apaeswq\", \"National Estuarine Research Reserve System\", \"Apalachicola Bay East Bay Surface\", 29.7858, -84.8752, \"11/8/2011 12:00:00 AM\", \"02:00:00\", \"UTC\", 0.93, \"m\", \"pH\", \"NaN\", 7.8, \"standard units\", NaN, -9448265.0, 3476046.7488], [1239996, \"apaeswq\", \"National Estuarine Research Reserve System\", \"Apalachicola Bay East Bay Surface\", 29.7858, -84.8752, \"11/8/2011 12:00:00 AM\", \"02:15:00\", \"UTC\", 0.93, \"m\", \"pH\", \"NaN\", 7.8, \"standard units\", NaN, -9448265.0, 3476046.7488], [1239997, \"apaeswq\", \"National Estuarine Research Reserve System\", \"Apalachicola Bay East Bay Surface\", 29.7858, -84.8752, \"11/8/2011 12:00:00 AM\", \"02:30:00\", \"UTC\", 0.94, \"m\", \"pH\", \"NaN\", 7.7, \"standard units\", NaN, -9448265.0, 3476046.7488], [1239998, \"apaeswq\", \"National Estuarine Research Reserve System\", \"Apalachicola Bay East Bay Surface\", 29.7858, -84.8752, \"11/8/2011 12:00:00 AM\", \"02:45:00\", \"UTC\", 0.94, \"m\", \"pH\", \"NaN\", 7.7, \"standard units\", NaN, -9448264.0, NaN]];\n",
       "\n",
       "        // Define the dt_args\n",
       "        let dt_args = {\"layout\": {\"topStart\": \"pageLength\", \"topEnd\": \"search\", \"bottomStart\": \"info\", \"bottomEnd\": \"paging\"}, \"order\": [], \"fnInfoCallback\": function (oSettings, iStart, iEnd, iMax, iTotal, sPre) { return sPre + ' (<a href=\"https://mwouts.github.io/itables/downsampling.html\">downsampled</a> from 1,239,998x18 to 455x18 as maxBytes=64KB)'; }};\n",
       "        dt_args[\"data\"] = data;\n",
       "\n",
       "        \n",
       "        new DataTable(table, dt_args);\n",
       "    });\n",
       "</script>\n"
      ],
      "text/plain": [
       "<IPython.core.display.HTML object>"
      ]
     },
     "metadata": {},
     "output_type": "display_data"
    }
   ],
   "source": [
    "DFpH = pd.read_csv('pH.csv')\n",
    "show(DFpH)"
   ]
  },
  {
   "cell_type": "code",
   "execution_count": 547,
   "id": "3eda4779-e8a8-4b8c-8ca6-a4cbda59b720",
   "metadata": {},
   "outputs": [
    {
     "data": {
      "text/html": [
       "<table id=\"itables_298cbf3e_e6c4_42b7_b900_8af9fe390eea\" class=\"display nowrap\" data-quarto-disable-processing=\"true\" style=\"table-layout:auto;width:auto;margin:auto;caption-side:bottom\">\n",
       "<thead>\n",
       "    <tr style=\"text-align: right;\">\n",
       "      \n",
       "      <th>CRUISE</th>\n",
       "      <th>STATION_ID</th>\n",
       "      <th>LAYER_CM</th>\n",
       "      <th>DATE</th>\n",
       "      <th>LAT</th>\n",
       "      <th>LON</th>\n",
       "      <th>ALEXANDRIUM_CYSTS_CC</th>\n",
       "      <th>PDALEI_CYSTS_CC</th>\n",
       "      <th>SCRIPPS_CYSTS_CC</th>\n",
       "    </tr>\n",
       "  </thead><tbody><tr>\n",
       "<td style=\"vertical-align:middle; text-align:left\">\n",
       "<div style=\"float:left; margin-right: 10px;\">\n",
       "<a href=https://mwouts.github.io/itables/><svg class=\"main-svg\" xmlns=\"http://www.w3.org/2000/svg\" xmlns:xlink=\"http://www.w3.org/1999/xlink\"\n",
       "width=\"64\" viewBox=\"0 0 500 400\" style=\"font-family: 'Droid Sans', sans-serif;\">\n",
       "    <g style=\"fill:#d9d7fc\">\n",
       "        <path d=\"M100,400H500V357H100Z\" />\n",
       "        <path d=\"M100,300H400V257H100Z\" />\n",
       "        <path d=\"M0,200H400V157H0Z\" />\n",
       "        <path d=\"M100,100H500V57H100Z\" />\n",
       "        <path d=\"M100,350H500V307H100Z\" />\n",
       "        <path d=\"M100,250H400V207H100Z\" />\n",
       "        <path d=\"M0,150H400V107H0Z\" />\n",
       "        <path d=\"M100,50H500V7H100Z\" />\n",
       "    </g>\n",
       "    <g style=\"fill:#1a1366;stroke:#1a1366;\">\n",
       "   <rect x=\"100\" y=\"7\" width=\"400\" height=\"43\">\n",
       "    <animate\n",
       "      attributeName=\"width\"\n",
       "      values=\"0;400;0\"\n",
       "      dur=\"5s\"\n",
       "      repeatCount=\"indefinite\" />\n",
       "      <animate\n",
       "      attributeName=\"x\"\n",
       "      values=\"100;100;500\"\n",
       "      dur=\"5s\"\n",
       "      repeatCount=\"indefinite\" />\n",
       "  </rect>\n",
       "        <rect x=\"0\" y=\"107\" width=\"400\" height=\"43\">\n",
       "    <animate\n",
       "      attributeName=\"width\"\n",
       "      values=\"0;400;0\"\n",
       "      dur=\"3.5s\"\n",
       "      repeatCount=\"indefinite\" />\n",
       "    <animate\n",
       "      attributeName=\"x\"\n",
       "      values=\"0;0;400\"\n",
       "      dur=\"3.5s\"\n",
       "      repeatCount=\"indefinite\" />\n",
       "  </rect>\n",
       "        <rect x=\"100\" y=\"207\" width=\"300\" height=\"43\">\n",
       "    <animate\n",
       "      attributeName=\"width\"\n",
       "      values=\"0;300;0\"\n",
       "      dur=\"3s\"\n",
       "      repeatCount=\"indefinite\" />\n",
       "    <animate\n",
       "      attributeName=\"x\"\n",
       "      values=\"100;100;400\"\n",
       "      dur=\"3s\"\n",
       "      repeatCount=\"indefinite\" />\n",
       "  </rect>\n",
       "        <rect x=\"100\" y=\"307\" width=\"400\" height=\"43\">\n",
       "    <animate\n",
       "      attributeName=\"width\"\n",
       "      values=\"0;400;0\"\n",
       "      dur=\"4s\"\n",
       "      repeatCount=\"indefinite\" />\n",
       "      <animate\n",
       "      attributeName=\"x\"\n",
       "      values=\"100;100;500\"\n",
       "      dur=\"4s\"\n",
       "      repeatCount=\"indefinite\" />\n",
       "  </rect>\n",
       "        <g style=\"fill:transparent;stroke-width:8; stroke-linejoin:round\" rx=\"5\">\n",
       "            <g transform=\"translate(45 50) rotate(-45)\">\n",
       "                <circle r=\"33\" cx=\"0\" cy=\"0\" />\n",
       "                <rect x=\"-8\" y=\"32\" width=\"16\" height=\"30\" />\n",
       "            </g>\n",
       "\n",
       "            <g transform=\"translate(450 152)\">\n",
       "                <polyline points=\"-15,-20 -35,-20 -35,40 25,40 25,20\" />\n",
       "                <rect x=\"-15\" y=\"-40\" width=\"60\" height=\"60\" />\n",
       "            </g>\n",
       "\n",
       "            <g transform=\"translate(50 352)\">\n",
       "                <polygon points=\"-35,-5 0,-40 35,-5\" />\n",
       "                <polygon points=\"-35,10 0,45 35,10\" />\n",
       "            </g>\n",
       "\n",
       "            <g transform=\"translate(75 250)\">\n",
       "                <polyline points=\"-30,30 -60,0 -30,-30\" />\n",
       "                <polyline points=\"0,30 -30,0 0,-30\" />\n",
       "            </g>\n",
       "\n",
       "            <g transform=\"translate(425 250) rotate(180)\">\n",
       "                <polyline points=\"-30,30 -60,0 -30,-30\" />\n",
       "                <polyline points=\"0,30 -30,0 0,-30\" />\n",
       "            </g>\n",
       "        </g>\n",
       "    </g>\n",
       "</svg>\n",
       "</a>\n",
       "</div>\n",
       "<div>\n",
       "Loading ITables v2.1.4 from the internet...\n",
       "(need <a href=https://mwouts.github.io/itables/troubleshooting.html>help</a>?)</td>\n",
       "</div>\n",
       "</tr></tbody>\n",
       "\n",
       "</table>\n",
       "<link href=\"https://www.unpkg.com/dt_for_itables@2.0.11/dt_bundle.css\" rel=\"stylesheet\">\n",
       "<script type=\"module\">\n",
       "    import {DataTable, jQuery as $} from 'https://www.unpkg.com/dt_for_itables@2.0.11/dt_bundle.js';\n",
       "\n",
       "    document.querySelectorAll(\"#itables_298cbf3e_e6c4_42b7_b900_8af9fe390eea:not(.dataTable)\").forEach(table => {\n",
       "        // Define the table data\n",
       "        const data = [[\"HLY1901\", \"BCE-1\", \"0-3\", \"2019-08-20\", 71.5357, -154.0313, 1272, NaN, NaN], [\"HLY1901\", \"BCE-3\", \"0-3\", \"2019-08-20\", 71.6498, -153.8398, 14852, NaN, NaN], [\"HLY1901\", \"BCE-5\", \"0-3\", \"2019-08-20\", 71.7815, -153.63, 2433, NaN, NaN], [\"HLY1901\", \"BCW-10\", \"0-3\", \"2019-08-19\", 71.9082, -156.1932, 515, NaN, NaN], [\"HLY1901\", \"BCW-6\", \"0-3\", \"2019-08-19\", 72.1557, -155.8478, 160, NaN, NaN], [\"HLY1901\", \"BCW-8\", \"0-3\", \"2019-08-19\", 72.0308, -156.028, 7767, NaN, NaN], [\"HLY1901\", \"DBO1-1\", \"0-3\", \"2019-08-06\", 62.0048, -175.0692, 34, NaN, NaN], [\"HLY1901\", \"DBO1-2\", \"0-3\", \"2019-08-06\", 62.0442, -175.2153, 41, NaN, NaN], [\"HLY1901\", \"DBO1-4\", \"0-3\", \"2019-08-06\", 62.392, -174.5642, 29, NaN, NaN], [\"HLY1901\", \"DBO1-6\", \"0-3\", \"2019-08-06\", 62.5528, -173.5547, 0, NaN, NaN], [\"HLY1901\", \"DBO1-8\", \"0-3\", \"2019-08-06\", 63.0345, -173.4617, 0, NaN, NaN], [\"HLY1901\", \"DBO2-0\", \"0-3\", \"2019-08-08\", 64.6718, -170.646, 777, NaN, NaN], [\"HLY1901\", \"DBO2-1\", \"0-3\", \"2019-08-08\", 64.6718, -169.9258, 354, NaN, NaN], [\"HLY1901\", \"DBO2-2\", \"0-3\", \"2019-08-08\", 64.68, -169.1002, 267, NaN, NaN], [\"HLY1901\", \"DBO2-3\", \"0-3\", \"2019-08-08\", 64.6705, -168.2342, 63, NaN, NaN], [\"HLY1901\", \"DBO2-4\", \"0-3\", \"2019-08-09\", 64.9598, -169.899, 359, NaN, NaN], [\"HLY1901\", \"DBO2-5\", \"0-3\", \"2019-08-09\", 64.9912, -169.146, 238, NaN, NaN], [\"HLY1901\", \"DBO2-7\", \"0-3\", \"2019-08-09\", 65.003, -168.221, 34, NaN, NaN], [\"HLY1901\", \"DBO2-B\", \"0-3\", \"2019-08-08\", 64.6728, -166.9555, 0, NaN, NaN], [\"HLY1901\", \"DBO2-D\", \"0-3\", \"2019-08-08\", 64.6695, -167.597, 0, NaN, NaN], [\"HLY1901\", \"DBO3-2\", \"0-3\", \"2019-08-10\", 68.2462, -167.1255, 1830, NaN, NaN], [\"HLY1901\", \"DBO3-3\", \"0-3\", \"2019-08-10\", 68.1902, -167.3027, 738, NaN, NaN], [\"HLY1901\", \"DBO3-4\", \"0-3\", \"2019-08-10\", 68.1357, -167.4915, 966, NaN, NaN], [\"HLY1901\", \"DBO3-5\", \"0-3\", \"2019-08-10\", 68.0153, -167.8798, 442, NaN, NaN], [\"HLY1901\", \"DBO3-6\", \"0-3\", \"2019-08-10\", 67.8968, -168.248, 177, NaN, NaN], [\"HLY1901\", \"DBO3-7\", \"0-3\", \"2019-08-10\", 67.7853, -168.601, 122, NaN, NaN], [\"HLY1901\", \"DBO3-8\", \"0-3\", \"2019-08-10\", 67.677, -168.9568, 82, NaN, NaN], [\"HLY1901\", \"DBO4-1\", \"0-3\", \"2019-08-11\", 71.09, -161.1928, 53, NaN, NaN], [\"HLY1901\", \"DBO4-2\", \"0-3\", \"2019-08-11\", 71.2238, -161.2893, 251, NaN, NaN], [\"HLY1901\", \"DBO4-3\", \"0-3\", \"2019-08-11\", 71.3507, -161.3958, 14, NaN, NaN], [\"HLY1901\", \"DBO4-4\", \"0-3\", \"2019-08-11\", 71.4805, -161.5048, 0, NaN, NaN], [\"HLY1901\", \"DBO4-5\", \"0-3\", \"2019-08-11\", 71.6103, -161.6152, 163, NaN, NaN], [\"HLY1901\", \"DBO4-6\", \"0-3\", \"2019-08-11\", 71.7755, -161.5865, 82, NaN, NaN], [\"HLY1901\", \"DBO5-1\", \"0-3\", \"2019-08-17\", 71.2468, -157.135, 621, NaN, NaN], [\"HLY1901\", \"DBO5-10\", \"0-3\", \"2019-08-16\", 71.6262, -157.9005, 353, NaN, NaN], [\"HLY1901\", \"DBO5-2\", \"0-3\", \"2019-08-17\", 71.2888, -157.2213, 519, NaN, NaN], [\"HLY1901\", \"DBO5-3\", \"0-3\", \"2019-08-17\", 71.3262, -157.3067, 534, NaN, NaN], [\"HLY1901\", \"DBO5-4\", \"0-3\", \"2019-08-17\", 71.3727, -157.3803, 422, NaN, NaN], [\"HLY1901\", \"DBO5-5\", \"0-3\", \"2019-08-17\", 71.4095, -157.4497, 503, NaN, NaN], [\"HLY1901\", \"DBO5-6\", \"0-3\", \"2019-08-17\", 71.4543, -157.5532, 618, NaN, NaN], [\"HLY1901\", \"DBO5-7\", \"0-3\", \"2019-08-16\", 71.4953, -157.6265, 437, NaN, NaN], [\"HLY1901\", \"DBO5-8\", \"0-3\", \"2019-08-16\", 71.5358, -157.7107, 95, NaN, NaN], [\"HLY1901\", \"DBO5-9\", \"0-3\", \"2019-08-16\", 71.5835, -157.8175, 155, NaN, NaN], [\"HLY1901\", \"LB-10\", \"0-3\", \"2019-08-22\", 69.9595, -167.2257, 925, NaN, NaN], [\"HLY1901\", \"LB-12\", \"0-3\", \"2019-08-22\", 70.1705, -168.1275, 2112, NaN, NaN], [\"HLY1901\", \"LB-6\", \"0-3\", \"2019-08-22\", 69.584, -165.7427, 17602, NaN, NaN], [\"HLY1901\", \"LB-8\", \"0-3\", \"2019-08-22\", 69.785, -166.452, 3340, NaN, NaN], [\"HLY1901\", \"NNE-11\", \"0-3\", \"2019-08-12\", 73.137, -160.4497, 34, NaN, NaN], [\"HLY1901\", \"NNE-7\", \"0-3\", \"2019-08-12\", 72.898, -160.8428, 102, NaN, NaN], [\"HLY1901\", \"NNE-9\", \"0-3\", \"2019-08-12\", 73.0177, -160.6458, 277, NaN, NaN], [\"HLY1901\", \"W-11\", \"0-3\", \"2019-08-15\", 74.2867, -165.0048, 97, NaN, NaN], [\"HLY1901\", \"W-13\", \"0-3\", \"2019-08-15\", 74.1573, -165.6782, 0, NaN, NaN], [\"HLY1901\", \"W-15\", \"0-3\", \"2019-08-15\", 73.9707, -166.0023, 19, NaN, NaN], [\"HLY1901\", \"W-17\", \"0-3\", \"2019-08-15\", 73.7435, -166.004, 150, NaN, NaN], [\"HLY1901\", \"W-19\", \"0-3\", \"2019-08-15\", 73.521, -166.0057, 534, NaN, NaN], [\"HLY1901\", \"W-9\", \"0-3\", \"2019-08-15\", 74.2202, -165.3528, 24, NaN, NaN], [\"HLY1801\", \"DBO2-1\", \"0-3\", \"2018-08-09\", 64.6718, -169.9258, 350, 56.0, 6.0], [\"HLY1801\", \"DBO2-2\", \"0-3\", \"2018-08-09\", 64.68, -169.1002, 44, NaN, NaN], [\"HLY1801\", \"DBO2-3\", \"0-3\", \"2018-08-08\", 64.6705, -168.2342, 44, 15.0, 0.0], [\"HLY1801\", \"DBO2-4\", \"0-3\", \"2018-08-09\", 64.9598, -169.899, 325, 15.0, 0.0], [\"HLY1801\", \"DBO2-5\", \"0-3\", \"2018-08-08\", 64.9912, -169.146, 63, NaN, NaN], [\"HLY1801\", \"DBO3-1\", \"0-3\", \"2018-08-10\", 68.3012, -166.9308, 1112, NaN, NaN], [\"HLY1801\", \"DBO3-2\", \"0-3\", \"2018-08-10\", 68.2462, -167.1255, 1233, NaN, NaN], [\"HLY1801\", \"DBO3-3\", \"0-3\", \"2018-08-10\", 68.1902, -167.3027, 879, NaN, NaN], [\"HLY1801\", \"DBO3-4\", \"0-3\", \"2018-08-10\", 68.1357, -167.4915, 1053, NaN, NaN], [\"HLY1801\", \"DBO3-5\", \"0-3\", \"2018-08-10\", 68.0153, -167.8798, 2684, NaN, NaN], [\"HLY1801\", \"DBO3-6\", \"0-3\", \"2018-08-10\", 67.8968, -168.248, 117, 27.0, 0.0], [\"HLY1801\", \"DBO3-7\", \"0-3\", \"2018-08-11\", 67.7853, -168.601, 49, 15.0, 5.0], [\"HLY1801\", \"DBO3-8\", \"0-3\", \"2018-08-11\", 67.677, -168.9568, 210, 47.0, 12.0], [\"HLY1801\", \"DBO4-1\", \"0-3\", \"2018-08-15\", 71.09, -161.1928, 107, 193.0, 11.0], [\"HLY1801\", \"DBO4-2\", \"0-3\", \"2018-08-15\", 71.2238, -161.2893, 175, NaN, NaN], [\"HLY1801\", \"DBO4-3\", \"0-3\", \"2018-08-15\", 71.3507, -161.3958, 35, NaN, NaN], [\"HLY1801\", \"DBO4-4\", \"0-3\", \"2018-08-15\", 71.4805, -161.5048, 112, 150.0, 14.0], [\"HLY1801\", \"DBO4-5\", \"0-3\", \"2018-08-15\", 71.6103, -161.6152, 12, 154.0, 9.0], [\"HLY1801\", \"DBO4-6\", \"0-3\", \"2018-08-15\", 71.7755, -161.5865, 44, NaN, NaN], [\"HLY1801\", \"DBO5-1\", \"0-3\", \"2018-08-17\", 71.2468, -157.135, 134, NaN, NaN], [\"HLY1801\", \"DBO5-10\", \"0-3\", \"2018-08-17\", 71.6262, -157.9005, 107, NaN, NaN], [\"HLY1801\", \"DBO5-2\", \"0-3\", \"2018-08-17\", 71.2888, -157.2213, 1159, NaN, NaN], [\"HLY1801\", \"DBO5-3\", \"0-3\", \"2018-08-17\", 71.3262, -157.3067, 1927, NaN, NaN], [\"HLY1801\", \"DBO5-4\", \"0-3\", \"2018-08-17\", 71.3727, -157.3803, 820, NaN, NaN], [\"HLY1801\", \"DBO5-5\", \"0-3\", \"2018-08-17\", 71.4095, -157.4497, 699, NaN, NaN], [\"HLY1801\", \"DBO5-6\", \"0-3\", \"2018-08-17\", 71.4543, -157.5532, 1432, NaN, NaN], [\"HLY1801\", \"DBO5-7\", \"0-3\", \"2018-08-17\", 71.4953, -157.6265, 820, NaN, NaN], [\"HLY1801\", \"DBO5-8\", \"0-3\", \"2018-08-17\", 71.5358, -157.7107, 126, NaN, NaN], [\"HLY1801\", \"DBO5-9\", \"0-3\", \"2018-08-17\", 71.5835, -157.8175, 257, 442.0, 68.0], [\"HLY1801\", \"IC-1\", \"0-3\", \"2018-08-12\", 71.8302, -165.9698, 693, 3283.0, 408.0], [\"HLY1801\", \"IC-10\", \"0-3\", \"2018-08-14\", 70.7172, -162.8565, 883, NaN, NaN], [\"HLY1801\", \"IC-11\", \"0-3\", \"2018-08-14\", 70.58, -162.4912, 209, 124.0, 25.0], [\"HLY1801\", \"IC-2\", \"0-3\", \"2018-08-12\", 71.7052, -165.6028, 384, NaN, NaN], [\"HLY1801\", \"IC-3\", \"0-3\", \"2018-08-13\", 71.6005, -165.3038, 131, 663.0, 51.0], [\"HLY1801\", \"IC-4\", \"0-3\", \"2018-08-13\", 71.4485, -164.919, 350, 449.0, 122.0], [\"HLY1801\", \"IC-5\", \"0-3\", \"2018-08-13\", 71.3367, -164.6127, 151, NaN, NaN], [\"HLY1801\", \"IC-6\", \"0-3\", \"2018-08-13\", 71.195, -164.2018, 250, NaN, NaN], [\"HLY1801\", \"IC-7\", \"0-3\", \"2018-08-13\", 71.0847, -163.8018, 192, NaN, NaN], [\"HLY1801\", \"IC-8\", \"0-3\", \"2018-08-14\", 70.9725, -163.5642, 383, 459.0, 68.0], [\"HLY1801\", \"IC-9\", \"0-3\", \"2018-08-14\", 70.849, -163.1872, 456, NaN, NaN], [\"HLY1801\", \"LB-11\", \"0-3\", \"2018-08-22\", 70.0578, -167.6565, 7063, 1070.0, 323.0], [\"HLY1801\", \"LB-13\", \"0-3\", \"2018-08-22\", 70.2598, -168.5445, 1733, NaN, NaN], [\"HLY1801\", \"LB-5\", \"0-3\", \"2018-08-23\", 69.4962, -165.3785, 1505, NaN, NaN], [\"HLY1801\", \"LB-7\", \"0-3\", \"2018-08-23\", 69.6832, -166.0928, 11313, 183.0, 122.0], [\"HLY1801\", \"LB-9\", \"0-3\", \"2018-08-23\", 69.879, -166.8215, 2534, 323.0, 34.0], [\"HLY1801\", \"OS1-9\", \"0-1\", \"2018-08-20\", 72.422, -156.5973, 68, NaN, NaN], [\"HLY1801\", \"T-1\", \"0-3\", \"2018-08-09\", 66.417, -168.6775, 92, 10.0, 0.0], [\"HLY1801\", \"T-2\", \"0-3\", \"2018-08-09\", 67.1642, -168.6635, 99, 17.0, 6.0], [\"HLY1803\", \"DBO3-1\", \"0-3\", \"2018-11-15\", 68.3012, -166.9308, 712, 374.0, 102.0], [\"HLY1803\", \"DBO3-5\", \"0-3\", \"2018-11-15\", 68.0153, -167.8798, 447, 39.0, 10.0], [\"HLY1803\", \"DBO3-8\", \"0-3\", \"2018-11-15\", 67.677, -168.9568, 122, NaN, NaN], [\"HLY1803\", \"DBO5-1\", \"0-3\", \"2018-11-14\", 71.2468, -157.135, 297, 333.0, 111.0], [\"HLY1803\", \"DBO5-3\", \"0-3\", \"2018-11-14\", 71.3262, -157.3067, 238, 680.0, 289.0], [\"HLY1803\", \"DBO5-5\", \"0-3\", \"2018-11-14\", 71.4095, -157.4497, 680, 493.0, 170.0], [\"HLY1803\", \"DBO5-7\", \"0-3\", \"2018-11-14\", 71.4953, -157.6265, 405, 408.0, 170.0], [\"HLY1803\", \"DBO5-9\", \"0-3\", \"2018-11-14\", 71.5835, -157.8175, 500, 189.0, 30.0], [\"HLY1803\", \"DBO6-1\", \"0-3\", \"2018-10-30\", 71.1643, -152.2553, 27, 168.0, 44.0], [\"HLY1803\", \"DBO6-3\", \"0-3\", \"2018-10-30\", 71.2483, -152.1717, 34, 340.0, 27.0], [\"HLY1803\", \"DBO6-5\", \"0-3\", \"2018-10-30\", 71.3357, -152.0955, 48, 211.0, 42.0], [\"HLY1803\", \"DBO6-7\", \"0-3\", \"2018-10-31\", 71.4203, -152.0388, 48, 159.0, 74.0], [\"HLY1803\", \"KTO-2\", \"0-3\", \"2018-11-05\", 70.2823, -143.931, 0, 19.0, 0.0], [\"HLY1803\", \"KTO-3\", \"0-3\", \"2018-11-05\", 70.3712, -143.7857, 0, 5.0, 5.0], [\"HLY1803\", \"KTO-5\", \"0-3\", \"2018-11-05\", 70.555, -143.6148, 5, 96.0, 0.0], [\"HLY1803\", \"MCK-1\", \"0-3\", \"2018-11-04\", 69.8165, -139.61, 0, 14.0, 0.0], [\"HLY1803\", \"MCK-2\", \"0-3\", \"2018-11-04\", 69.898, -139.4923, 0, 73.0, 0.0], [\"HLY1803\", \"MCK-3\", \"0-3\", \"2018-11-04\", 69.9393, -139.3863, 0, 49.0, 0.0], [\"HLY1803\", \"MCK-4\", \"0-3\", \"2018-11-04\", 69.9672, -139.2998, 0, 110.0, 0.0], [\"HLY1803\", \"PRB-1\", \"0-3\", \"2018-11-02\", 70.6915, -148.4433, 0, 34.0, 5.0], [\"HLY1803\", \"PRB-2\", \"0-3\", \"2018-11-02\", 70.7718, -148.3257, 5, 78.0, 5.0], [\"HLY1803\", \"PRB-4\", \"0-3\", \"2018-11-02\", 70.8975, -148.1432, 5, 24.0, 5.0], [\"HLY1803\", \"PRB-7\", \"0-3\", \"2018-11-02\", 71.0195, -147.976, 0, 48.0, 0.0], [\"HLY1803\", \"PRW-1\", \"0-3\", \"2018-11-07\", 70.679, -148.9078, 0, 58.0, 10.0], [\"HLY1803\", \"PRW-4\", \"0-3\", \"2018-11-07\", 70.8157, -148.8385, 0, 14.0, 7.0], [\"HLY1803\", \"PRW-7\", \"0-3\", \"2018-11-07\", 70.9452, -148.7758, 5, 39.0, 15.0], [\"OS19-01\", \"CHCD03\", \"0-3\", \"2019-08-29\", 72.5013, -161.9077, 517, NaN, NaN], [\"OS19-01\", \"CHNO67\", \"0-3\", \"2019-08-30\", 72.7685, -159.6353, 92, NaN, NaN], [\"OS19-01\", \"CHNO6\", \"0-3\", \"2019-08-30\", 72.8968, -159.3407, 58, NaN, NaN], [\"OS19-01\", \"CHK08\", \"0-3\", \"2019-09-02\", 71.0012, -157.8018, 211, NaN, NaN], [\"OS19-01\", \"CHK07\", \"0-3\", \"2019-09-02\", 71.0008, -159.293, 291, NaN, NaN], [\"OS19-01\", \"CHK06\", \"0-3\", \"2019-09-03\", 71.0013, -160.787, 24, NaN, NaN], [\"OS19-01\", \"CHK05\", \"0-3\", \"2019-09-03\", 70.9993, -162.3932, 350, NaN, NaN], [\"OS19-01\", \"CHK04\", \"0-3\", \"2019-09-04\", 70.0018, -163.9033, 502, NaN, NaN], [\"OS19-01\", \"CHK03\", \"0-3\", \"2019-09-04\", 72.0012, -165.4027, 257, NaN, NaN], [\"OS19-01\", \"CHK02\", \"0-3\", \"2019-09-05\", 71.0012, -167.0043, 670, NaN, NaN], [\"OS19-01\", \"CHLM01\", \"0-3\", \"2019-09-06\", 71.7542, -168.4888, 2335, NaN, NaN], [\"OS19-01\", \"CHLM02\", \"0-3\", \"2019-09-06\", 71.7513, -166.8912, 153, NaN, NaN], [\"OS19-01\", \"CHLM03\", \"0-3\", \"2019-09-07\", 71.7552, -165.3115, 58, NaN, NaN], [\"OS19-01\", \"CHLM04\", \"0-3\", \"2019-09-07\", 71.7498, -163.6947, 238, NaN, NaN], [\"OS19-01\", \"CHLM05\", \"0-3\", \"2019-09-08\", 71.7513, -161.9925, 141, NaN, NaN], [\"OS19-01\", \"CHLM06\", \"0-3\", \"2019-09-08\", 71.751, -160.4003, 83, NaN, NaN], [\"OS19-01\", \"CHLM07\", \"0-3\", \"2019-09-09\", 71.7527, -158.7978, 73, NaN, NaN], [\"OS19-01\", \"CHLM08\", \"0-3\", \"2019-09-09\", 71.751, -157.201, 668, NaN, NaN], [\"OS19-01\", \"CHIJ04\", \"0-3\", \"2019-09-10\", 70.2527, -164.0913, 524, NaN, NaN], [\"OS19-01\", \"CHIJ03\", \"0-3\", \"2019-09-10\", 70.2492, -165.489, 961, NaN, NaN], [\"OS19-01\", \"CHIJ02\", \"0-3\", \"2019-09-11\", 70.2483, -166.9972, 1262, NaN, NaN], [\"OS19-01\", \"CHIJ01\", \"0-3\", \"2019-09-12\", 70.2512, -168.4993, 299, NaN, NaN], [\"OS19-01\", \"CHH01\", \"0-3\", \"2019-09-17\", 69.498, -168.4648, 6068, NaN, NaN], [\"OS19-01\", \"CHH02\", \"0-3\", \"2019-09-17\", 69.4998, -167.0965, 9806, NaN, NaN], [\"OS19-01\", \"CHHO3\", \"0-3\", \"2019-09-18\", 69.4933, -165.7422, 9078, NaN, NaN], [\"OS19-01\", \"CHH04\", \"0-3\", \"2019-09-18\", 69.4988, -164.2078, 461, NaN, NaN], [\"OS19-01\", \"CHFG02\", \"0-3\", \"2019-09-19\", 68.762, -167.0882, 4951, NaN, NaN], [\"OS19-01\", \"CHFG01\", \"0-3\", \"2019-09-19\", 68.7507, -168.4953, 5680, NaN, NaN], [\"OS19-01\", \"CHE01\", \"0-3\", \"2019-09-20\", 68.0038, -168.531, 66, NaN, NaN], [\"OS19-01\", \"CHE02\", \"0-3\", \"2019-09-20\", 68.0037, -167.2093, 456, NaN, NaN], [\"OS19-01\", \"CHE03\", \"0-3\", \"2019-09-21\", 68.0032, -165.7928, 655, NaN, NaN], [\"OS19-01\", \"CHSF01\", \"0-3\", \"2019-09-22\", 67.626, -165.0023, 650, NaN, NaN], [\"OS19-01\", \"CHCD01\", \"0-3\", \"2019-09-22\", 67.2447, -168.4968, 22, NaN, NaN], [\"OS19-01\", \"CHCD02\", \"0-3\", \"2019-09-22\", 67.2512, -167.2085, 2301, NaN, NaN], [\"OS19-01\", \"CHCD04\", \"0-3\", \"2019-09-23\", 67.2512, -164.7093, 218, NaN, NaN], [\"OS19-01\", \"CHSF02\", \"0-3\", \"2019-09-24\", 66.8738, -164.9963, 961, NaN, NaN], [\"OS19-01\", \"CHB03\", \"0-3\", \"2019-09-24\", 66.4985, -166.02, 41, NaN, NaN], [\"OS19-01\", \"CHB02\", \"0-3\", \"2019-09-24\", 66.5017, -167.2448, 313, NaN, NaN], [\"NBS2019\", \"11\", \"0-3\", \"2019-09-22\", 61.0002, -168.0006, 0, NaN, NaN], [\"NBS2019\", \"20\", \"0-3\", \"2019-09-05\", 62.0012, -166.9988, 36, NaN, NaN], [\"NBS2019\", \"23\", \"0-3\", \"2019-09-06\", 62.0004, -170.0036, 36, NaN, NaN], [\"NBS2019\", \"24\", \"0-3\", \"2019-09-07\", 62.0009, -170.999, 7, NaN, NaN], [\"NBS2019\", \"26\", \"0-3\", \"2019-09-07\", 63.0009, -165.9978, 0, NaN, NaN], [\"NBS2019\", \"28\", \"0-3\", \"2019-09-09\", 63.5008, -166.9964, 7, NaN, NaN], [\"NBS2019\", \"30\", \"0-3\", \"2019-09-10\", 62.5002, -167.9981, 10, NaN, NaN], [\"NBS2019\", \"32\", \"0-3\", \"2019-09-10\", 62.4996, -170.0007, 5, NaN, NaN], [\"NBS2019\", \"37\", \"0-3\", \"2019-09-12\", 64.0017, -167.001, 240, NaN, NaN], [\"NBS2019\", \"39\", \"0-3\", \"2019-09-13\", 64.103, -162.5062, 0, NaN, NaN], [\"NBS2019\", \"40\", \"0-3\", \"2019-09-13\", 64.1001, -163.5003, 0, NaN, NaN], [\"NBS2019\", \"41\", \"0-3\", \"2019-09-14\", 64.1002, -164.5049, 0, NaN, NaN], [\"NBS2019\", \"43\", \"0-3\", \"2019-09-14\", 65.0024, -167.501, 5, NaN, NaN], [\"NBS2019\", \"44\", \"0-3\", \"2019-09-15\", 65.3998, -167.9989, 29, NaN, NaN], [\"NBS2019\", \"45\", \"0-3\", \"2019-09-15\", 66.6004, -165.8325, 19, NaN, NaN], [\"NBS2019\", \"46\", \"0-3\", \"2019-09-15\", 66.5847, -167.0013, 248, NaN, NaN], [\"NBS2019\", \"47\", \"0-3\", \"2019-09-16\", 66.0985, -167.4204, 36, NaN, NaN]];\n",
       "\n",
       "        // Define the dt_args\n",
       "        let dt_args = {\"layout\": {\"topStart\": \"pageLength\", \"topEnd\": \"search\", \"bottomStart\": \"info\", \"bottomEnd\": \"paging\"}, \"order\": []};\n",
       "        dt_args[\"data\"] = data;\n",
       "\n",
       "        \n",
       "        new DataTable(table, dt_args);\n",
       "    });\n",
       "</script>\n"
      ],
      "text/plain": [
       "<IPython.core.display.HTML object>"
      ]
     },
     "metadata": {},
     "output_type": "display_data"
    }
   ],
   "source": [
    "DFcysts = pd.read_csv('cysts.csv')\n",
    "show(DFcysts)"
   ]
  },
  {
   "cell_type": "code",
   "execution_count": 548,
   "id": "5cc944a3-3af1-49a4-9149-97faae8c56f1",
   "metadata": {},
   "outputs": [
    {
     "data": {
      "text/plain": [
       "(185, 9)"
      ]
     },
     "execution_count": 548,
     "metadata": {},
     "output_type": "execute_result"
    }
   ],
   "source": [
    "DFcysts.shape\n",
    "# There are 185 observations, meaning 185 samples were taken "
   ]
  },
  {
   "cell_type": "code",
   "execution_count": 549,
   "id": "9b64d367-2765-4219-8868-cf5e54c1ef29",
   "metadata": {},
   "outputs": [
    {
     "data": {
      "text/html": [
       "<div>\n",
       "<style scoped>\n",
       "    .dataframe tbody tr th:only-of-type {\n",
       "        vertical-align: middle;\n",
       "    }\n",
       "\n",
       "    .dataframe tbody tr th {\n",
       "        vertical-align: top;\n",
       "    }\n",
       "\n",
       "    .dataframe thead th {\n",
       "        text-align: right;\n",
       "    }\n",
       "</style>\n",
       "<table border=\"1\" class=\"dataframe\">\n",
       "  <thead>\n",
       "    <tr style=\"text-align: right;\">\n",
       "      <th></th>\n",
       "      <th>STATION_ID</th>\n",
       "      <th>LAYER_CM</th>\n",
       "      <th>DATE</th>\n",
       "      <th>LAT</th>\n",
       "      <th>LON</th>\n",
       "      <th>ALEXANDRIUM_CYSTS_CC</th>\n",
       "      <th>PDALEI_CYSTS_CC</th>\n",
       "      <th>SCRIPPS_CYSTS_CC</th>\n",
       "    </tr>\n",
       "    <tr>\n",
       "      <th>CRUISE</th>\n",
       "      <th></th>\n",
       "      <th></th>\n",
       "      <th></th>\n",
       "      <th></th>\n",
       "      <th></th>\n",
       "      <th></th>\n",
       "      <th></th>\n",
       "      <th></th>\n",
       "    </tr>\n",
       "  </thead>\n",
       "  <tbody>\n",
       "    <tr>\n",
       "      <th>HLY1801</th>\n",
       "      <td>48</td>\n",
       "      <td>48</td>\n",
       "      <td>48</td>\n",
       "      <td>48</td>\n",
       "      <td>48</td>\n",
       "      <td>48</td>\n",
       "      <td>20</td>\n",
       "      <td>20</td>\n",
       "    </tr>\n",
       "    <tr>\n",
       "      <th>HLY1803</th>\n",
       "      <td>26</td>\n",
       "      <td>26</td>\n",
       "      <td>26</td>\n",
       "      <td>26</td>\n",
       "      <td>26</td>\n",
       "      <td>26</td>\n",
       "      <td>25</td>\n",
       "      <td>25</td>\n",
       "    </tr>\n",
       "    <tr>\n",
       "      <th>HLY1901</th>\n",
       "      <td>56</td>\n",
       "      <td>56</td>\n",
       "      <td>56</td>\n",
       "      <td>56</td>\n",
       "      <td>56</td>\n",
       "      <td>56</td>\n",
       "      <td>0</td>\n",
       "      <td>0</td>\n",
       "    </tr>\n",
       "    <tr>\n",
       "      <th>NBS2019</th>\n",
       "      <td>17</td>\n",
       "      <td>17</td>\n",
       "      <td>17</td>\n",
       "      <td>17</td>\n",
       "      <td>17</td>\n",
       "      <td>17</td>\n",
       "      <td>0</td>\n",
       "      <td>0</td>\n",
       "    </tr>\n",
       "    <tr>\n",
       "      <th>OS19-01</th>\n",
       "      <td>38</td>\n",
       "      <td>38</td>\n",
       "      <td>38</td>\n",
       "      <td>38</td>\n",
       "      <td>38</td>\n",
       "      <td>38</td>\n",
       "      <td>0</td>\n",
       "      <td>0</td>\n",
       "    </tr>\n",
       "  </tbody>\n",
       "</table>\n",
       "</div>"
      ],
      "text/plain": [
       "         STATION_ID  LAYER_CM  DATE  LAT  LON  ALEXANDRIUM_CYSTS_CC  \\\n",
       "CRUISE                                                                \n",
       "HLY1801          48        48    48   48   48                    48   \n",
       "HLY1803          26        26    26   26   26                    26   \n",
       "HLY1901          56        56    56   56   56                    56   \n",
       "NBS2019          17        17    17   17   17                    17   \n",
       "OS19-01          38        38    38   38   38                    38   \n",
       "\n",
       "         PDALEI_CYSTS_CC  SCRIPPS_CYSTS_CC  \n",
       "CRUISE                                      \n",
       "HLY1801               20                20  \n",
       "HLY1803               25                25  \n",
       "HLY1901                0                 0  \n",
       "NBS2019                0                 0  \n",
       "OS19-01                0                 0  "
      ]
     },
     "execution_count": 549,
     "metadata": {},
     "output_type": "execute_result"
    }
   ],
   "source": [
    "DFcysts.groupby(by=['CRUISE']).count()\n",
    "# 48 samples were taken for cruise HLY1801 (Healy1801). \n",
    "# 26 samples were taken for cruise HLY1803 (Healy1803).\n",
    "# 56 samples were taken for cruise HLY1901 (Healy1901).\n",
    "# 17 samples were taken for cruise NBS2019 (North Bering Sea 2019).\n",
    "# 38 samples were taken for cruise OS19-01 (Arctic Integrated Ecosystem Survey 2019)."
   ]
  },
  {
   "cell_type": "code",
   "execution_count": 550,
   "id": "98a8f06d-b40b-44f2-bed6-76e2471a42de",
   "metadata": {},
   "outputs": [
    {
     "data": {
      "text/plain": [
       "count      185.000000\n",
       "mean       886.248649\n",
       "std       2311.572506\n",
       "min          0.000000\n",
       "25%         36.000000\n",
       "50%        209.000000\n",
       "75%        621.000000\n",
       "max      17602.000000\n",
       "Name: ALEXANDRIUM_CYSTS_CC, dtype: float64"
      ]
     },
     "execution_count": 550,
     "metadata": {},
     "output_type": "execute_result"
    }
   ],
   "source": [
    "DFcysts['ALEXANDRIUM_CYSTS_CC'].describe()\n",
    "# The minimum observed concentration of the alexandrium species was 0. The maximum observed concentration was 17602 cysts per cubic cm.\n",
    "# All 185 samples were tested for the alexandrium species"
   ]
  },
  {
   "cell_type": "code",
   "execution_count": 553,
   "id": "66ba6651-6a88-4f10-90c8-7e5daceb527f",
   "metadata": {},
   "outputs": [
    {
     "data": {
      "text/html": [
       "<table id=\"itables_a23539da_487b_4ad1_8495_b18546050db5\" class=\"display nowrap\" data-quarto-disable-processing=\"true\" style=\"table-layout:auto;width:auto;margin:auto;caption-side:bottom\">\n",
       "<thead>\n",
       "    <tr style=\"text-align: right;\">\n",
       "      <th></th>\n",
       "      <th>count</th>\n",
       "    </tr>\n",
       "    <tr>\n",
       "      <th>CRUISE</th>\n",
       "      <th></th>\n",
       "    </tr>\n",
       "  </thead><tbody><tr>\n",
       "<td style=\"vertical-align:middle; text-align:left\">\n",
       "<div style=\"float:left; margin-right: 10px;\">\n",
       "<a href=https://mwouts.github.io/itables/><svg class=\"main-svg\" xmlns=\"http://www.w3.org/2000/svg\" xmlns:xlink=\"http://www.w3.org/1999/xlink\"\n",
       "width=\"64\" viewBox=\"0 0 500 400\" style=\"font-family: 'Droid Sans', sans-serif;\">\n",
       "    <g style=\"fill:#d9d7fc\">\n",
       "        <path d=\"M100,400H500V357H100Z\" />\n",
       "        <path d=\"M100,300H400V257H100Z\" />\n",
       "        <path d=\"M0,200H400V157H0Z\" />\n",
       "        <path d=\"M100,100H500V57H100Z\" />\n",
       "        <path d=\"M100,350H500V307H100Z\" />\n",
       "        <path d=\"M100,250H400V207H100Z\" />\n",
       "        <path d=\"M0,150H400V107H0Z\" />\n",
       "        <path d=\"M100,50H500V7H100Z\" />\n",
       "    </g>\n",
       "    <g style=\"fill:#1a1366;stroke:#1a1366;\">\n",
       "   <rect x=\"100\" y=\"7\" width=\"400\" height=\"43\">\n",
       "    <animate\n",
       "      attributeName=\"width\"\n",
       "      values=\"0;400;0\"\n",
       "      dur=\"5s\"\n",
       "      repeatCount=\"indefinite\" />\n",
       "      <animate\n",
       "      attributeName=\"x\"\n",
       "      values=\"100;100;500\"\n",
       "      dur=\"5s\"\n",
       "      repeatCount=\"indefinite\" />\n",
       "  </rect>\n",
       "        <rect x=\"0\" y=\"107\" width=\"400\" height=\"43\">\n",
       "    <animate\n",
       "      attributeName=\"width\"\n",
       "      values=\"0;400;0\"\n",
       "      dur=\"3.5s\"\n",
       "      repeatCount=\"indefinite\" />\n",
       "    <animate\n",
       "      attributeName=\"x\"\n",
       "      values=\"0;0;400\"\n",
       "      dur=\"3.5s\"\n",
       "      repeatCount=\"indefinite\" />\n",
       "  </rect>\n",
       "        <rect x=\"100\" y=\"207\" width=\"300\" height=\"43\">\n",
       "    <animate\n",
       "      attributeName=\"width\"\n",
       "      values=\"0;300;0\"\n",
       "      dur=\"3s\"\n",
       "      repeatCount=\"indefinite\" />\n",
       "    <animate\n",
       "      attributeName=\"x\"\n",
       "      values=\"100;100;400\"\n",
       "      dur=\"3s\"\n",
       "      repeatCount=\"indefinite\" />\n",
       "  </rect>\n",
       "        <rect x=\"100\" y=\"307\" width=\"400\" height=\"43\">\n",
       "    <animate\n",
       "      attributeName=\"width\"\n",
       "      values=\"0;400;0\"\n",
       "      dur=\"4s\"\n",
       "      repeatCount=\"indefinite\" />\n",
       "      <animate\n",
       "      attributeName=\"x\"\n",
       "      values=\"100;100;500\"\n",
       "      dur=\"4s\"\n",
       "      repeatCount=\"indefinite\" />\n",
       "  </rect>\n",
       "        <g style=\"fill:transparent;stroke-width:8; stroke-linejoin:round\" rx=\"5\">\n",
       "            <g transform=\"translate(45 50) rotate(-45)\">\n",
       "                <circle r=\"33\" cx=\"0\" cy=\"0\" />\n",
       "                <rect x=\"-8\" y=\"32\" width=\"16\" height=\"30\" />\n",
       "            </g>\n",
       "\n",
       "            <g transform=\"translate(450 152)\">\n",
       "                <polyline points=\"-15,-20 -35,-20 -35,40 25,40 25,20\" />\n",
       "                <rect x=\"-15\" y=\"-40\" width=\"60\" height=\"60\" />\n",
       "            </g>\n",
       "\n",
       "            <g transform=\"translate(50 352)\">\n",
       "                <polygon points=\"-35,-5 0,-40 35,-5\" />\n",
       "                <polygon points=\"-35,10 0,45 35,10\" />\n",
       "            </g>\n",
       "\n",
       "            <g transform=\"translate(75 250)\">\n",
       "                <polyline points=\"-30,30 -60,0 -30,-30\" />\n",
       "                <polyline points=\"0,30 -30,0 0,-30\" />\n",
       "            </g>\n",
       "\n",
       "            <g transform=\"translate(425 250) rotate(180)\">\n",
       "                <polyline points=\"-30,30 -60,0 -30,-30\" />\n",
       "                <polyline points=\"0,30 -30,0 0,-30\" />\n",
       "            </g>\n",
       "        </g>\n",
       "    </g>\n",
       "</svg>\n",
       "</a>\n",
       "</div>\n",
       "<div>\n",
       "Loading ITables v2.1.4 from the internet...\n",
       "(need <a href=https://mwouts.github.io/itables/troubleshooting.html>help</a>?)</td>\n",
       "</div>\n",
       "</tr></tbody>\n",
       "\n",
       "</table>\n",
       "<link href=\"https://www.unpkg.com/dt_for_itables@2.0.11/dt_bundle.css\" rel=\"stylesheet\">\n",
       "<script type=\"module\">\n",
       "    import {DataTable, jQuery as $} from 'https://www.unpkg.com/dt_for_itables@2.0.11/dt_bundle.js';\n",
       "\n",
       "    document.querySelectorAll(\"#itables_a23539da_487b_4ad1_8495_b18546050db5:not(.dataTable)\").forEach(table => {\n",
       "        // Define the table data\n",
       "        const data = [[\"HLY1901\", 56], [\"HLY1801\", 48], [\"OS19-01\", 38], [\"HLY1803\", 26], [\"NBS2019\", 17]];\n",
       "\n",
       "        // Define the dt_args\n",
       "        let dt_args = {\"layout\": {\"topStart\": null, \"topEnd\": null, \"bottomStart\": null, \"bottomEnd\": null}, \"order\": []};\n",
       "        dt_args[\"data\"] = data;\n",
       "\n",
       "        \n",
       "        new DataTable(table, dt_args);\n",
       "    });\n",
       "</script>\n"
      ],
      "text/plain": [
       "<IPython.core.display.HTML object>"
      ]
     },
     "metadata": {},
     "output_type": "display_data"
    }
   ],
   "source": [
    "show(DFcysts['CRUISE'].value_counts())"
   ]
  },
  {
   "cell_type": "code",
   "execution_count": 560,
   "id": "39b0b54b-f29b-407e-9e1c-2ce35bb831bf",
   "metadata": {},
   "outputs": [
    {
     "data": {
      "text/html": [
       "<table id=\"itables_2e2228bf_6fce_47b0_8e6c_062ca570814f\" class=\"display nowrap\" data-quarto-disable-processing=\"true\" style=\"table-layout:auto;width:auto;margin:auto;caption-side:bottom\">\n",
       "<thead>\n",
       "    <tr style=\"text-align: right;\">\n",
       "      \n",
       "      <th>LAT</th>\n",
       "      <th>LON</th>\n",
       "      <th>ALEXANDRIUM_CYSTS_CC</th>\n",
       "      <th>DATE</th>\n",
       "      <th>STATION_ID</th>\n",
       "    </tr>\n",
       "  </thead><tbody><tr>\n",
       "<td style=\"vertical-align:middle; text-align:left\">\n",
       "<div style=\"float:left; margin-right: 10px;\">\n",
       "<a href=https://mwouts.github.io/itables/><svg class=\"main-svg\" xmlns=\"http://www.w3.org/2000/svg\" xmlns:xlink=\"http://www.w3.org/1999/xlink\"\n",
       "width=\"64\" viewBox=\"0 0 500 400\" style=\"font-family: 'Droid Sans', sans-serif;\">\n",
       "    <g style=\"fill:#d9d7fc\">\n",
       "        <path d=\"M100,400H500V357H100Z\" />\n",
       "        <path d=\"M100,300H400V257H100Z\" />\n",
       "        <path d=\"M0,200H400V157H0Z\" />\n",
       "        <path d=\"M100,100H500V57H100Z\" />\n",
       "        <path d=\"M100,350H500V307H100Z\" />\n",
       "        <path d=\"M100,250H400V207H100Z\" />\n",
       "        <path d=\"M0,150H400V107H0Z\" />\n",
       "        <path d=\"M100,50H500V7H100Z\" />\n",
       "    </g>\n",
       "    <g style=\"fill:#1a1366;stroke:#1a1366;\">\n",
       "   <rect x=\"100\" y=\"7\" width=\"400\" height=\"43\">\n",
       "    <animate\n",
       "      attributeName=\"width\"\n",
       "      values=\"0;400;0\"\n",
       "      dur=\"5s\"\n",
       "      repeatCount=\"indefinite\" />\n",
       "      <animate\n",
       "      attributeName=\"x\"\n",
       "      values=\"100;100;500\"\n",
       "      dur=\"5s\"\n",
       "      repeatCount=\"indefinite\" />\n",
       "  </rect>\n",
       "        <rect x=\"0\" y=\"107\" width=\"400\" height=\"43\">\n",
       "    <animate\n",
       "      attributeName=\"width\"\n",
       "      values=\"0;400;0\"\n",
       "      dur=\"3.5s\"\n",
       "      repeatCount=\"indefinite\" />\n",
       "    <animate\n",
       "      attributeName=\"x\"\n",
       "      values=\"0;0;400\"\n",
       "      dur=\"3.5s\"\n",
       "      repeatCount=\"indefinite\" />\n",
       "  </rect>\n",
       "        <rect x=\"100\" y=\"207\" width=\"300\" height=\"43\">\n",
       "    <animate\n",
       "      attributeName=\"width\"\n",
       "      values=\"0;300;0\"\n",
       "      dur=\"3s\"\n",
       "      repeatCount=\"indefinite\" />\n",
       "    <animate\n",
       "      attributeName=\"x\"\n",
       "      values=\"100;100;400\"\n",
       "      dur=\"3s\"\n",
       "      repeatCount=\"indefinite\" />\n",
       "  </rect>\n",
       "        <rect x=\"100\" y=\"307\" width=\"400\" height=\"43\">\n",
       "    <animate\n",
       "      attributeName=\"width\"\n",
       "      values=\"0;400;0\"\n",
       "      dur=\"4s\"\n",
       "      repeatCount=\"indefinite\" />\n",
       "      <animate\n",
       "      attributeName=\"x\"\n",
       "      values=\"100;100;500\"\n",
       "      dur=\"4s\"\n",
       "      repeatCount=\"indefinite\" />\n",
       "  </rect>\n",
       "        <g style=\"fill:transparent;stroke-width:8; stroke-linejoin:round\" rx=\"5\">\n",
       "            <g transform=\"translate(45 50) rotate(-45)\">\n",
       "                <circle r=\"33\" cx=\"0\" cy=\"0\" />\n",
       "                <rect x=\"-8\" y=\"32\" width=\"16\" height=\"30\" />\n",
       "            </g>\n",
       "\n",
       "            <g transform=\"translate(450 152)\">\n",
       "                <polyline points=\"-15,-20 -35,-20 -35,40 25,40 25,20\" />\n",
       "                <rect x=\"-15\" y=\"-40\" width=\"60\" height=\"60\" />\n",
       "            </g>\n",
       "\n",
       "            <g transform=\"translate(50 352)\">\n",
       "                <polygon points=\"-35,-5 0,-40 35,-5\" />\n",
       "                <polygon points=\"-35,10 0,45 35,10\" />\n",
       "            </g>\n",
       "\n",
       "            <g transform=\"translate(75 250)\">\n",
       "                <polyline points=\"-30,30 -60,0 -30,-30\" />\n",
       "                <polyline points=\"0,30 -30,0 0,-30\" />\n",
       "            </g>\n",
       "\n",
       "            <g transform=\"translate(425 250) rotate(180)\">\n",
       "                <polyline points=\"-30,30 -60,0 -30,-30\" />\n",
       "                <polyline points=\"0,30 -30,0 0,-30\" />\n",
       "            </g>\n",
       "        </g>\n",
       "    </g>\n",
       "</svg>\n",
       "</a>\n",
       "</div>\n",
       "<div>\n",
       "Loading ITables v2.1.4 from the internet...\n",
       "(need <a href=https://mwouts.github.io/itables/troubleshooting.html>help</a>?)</td>\n",
       "</div>\n",
       "</tr></tbody>\n",
       "\n",
       "</table>\n",
       "<link href=\"https://www.unpkg.com/dt_for_itables@2.0.11/dt_bundle.css\" rel=\"stylesheet\">\n",
       "<script type=\"module\">\n",
       "    import {DataTable, jQuery as $} from 'https://www.unpkg.com/dt_for_itables@2.0.11/dt_bundle.js';\n",
       "\n",
       "    document.querySelectorAll(\"#itables_2e2228bf_6fce_47b0_8e6c_062ca570814f:not(.dataTable)\").forEach(table => {\n",
       "        // Define the table data\n",
       "        const data = [[71.5357, -154.0313, 1272, \"2019-08-20\", \"BCE-1\"], [71.6498, -153.8398, 14852, \"2019-08-20\", \"BCE-3\"], [71.7815, -153.63, 2433, \"2019-08-20\", \"BCE-5\"], [71.9082, -156.1932, 515, \"2019-08-19\", \"BCW-10\"], [72.1557, -155.8478, 160, \"2019-08-19\", \"BCW-6\"], [72.0308, -156.028, 7767, \"2019-08-19\", \"BCW-8\"], [62.0048, -175.0692, 34, \"2019-08-06\", \"DBO1-1\"], [62.0442, -175.2153, 41, \"2019-08-06\", \"DBO1-2\"], [62.392, -174.5642, 29, \"2019-08-06\", \"DBO1-4\"], [62.5528, -173.5547, 0, \"2019-08-06\", \"DBO1-6\"], [63.0345, -173.4617, 0, \"2019-08-06\", \"DBO1-8\"], [64.6718, -170.646, 777, \"2019-08-08\", \"DBO2-0\"], [64.6718, -169.9258, 354, \"2019-08-08\", \"DBO2-1\"], [64.68, -169.1002, 267, \"2019-08-08\", \"DBO2-2\"], [64.6705, -168.2342, 63, \"2019-08-08\", \"DBO2-3\"], [64.9598, -169.899, 359, \"2019-08-09\", \"DBO2-4\"], [64.9912, -169.146, 238, \"2019-08-09\", \"DBO2-5\"], [65.003, -168.221, 34, \"2019-08-09\", \"DBO2-7\"], [64.6728, -166.9555, 0, \"2019-08-08\", \"DBO2-B\"], [64.6695, -167.597, 0, \"2019-08-08\", \"DBO2-D\"], [68.2462, -167.1255, 1830, \"2019-08-10\", \"DBO3-2\"], [68.1902, -167.3027, 738, \"2019-08-10\", \"DBO3-3\"], [68.1357, -167.4915, 966, \"2019-08-10\", \"DBO3-4\"], [68.0153, -167.8798, 442, \"2019-08-10\", \"DBO3-5\"], [67.8968, -168.248, 177, \"2019-08-10\", \"DBO3-6\"], [67.7853, -168.601, 122, \"2019-08-10\", \"DBO3-7\"], [67.677, -168.9568, 82, \"2019-08-10\", \"DBO3-8\"], [71.09, -161.1928, 53, \"2019-08-11\", \"DBO4-1\"], [71.2238, -161.2893, 251, \"2019-08-11\", \"DBO4-2\"], [71.3507, -161.3958, 14, \"2019-08-11\", \"DBO4-3\"], [71.4805, -161.5048, 0, \"2019-08-11\", \"DBO4-4\"], [71.6103, -161.6152, 163, \"2019-08-11\", \"DBO4-5\"], [71.7755, -161.5865, 82, \"2019-08-11\", \"DBO4-6\"], [71.2468, -157.135, 621, \"2019-08-17\", \"DBO5-1\"], [71.6262, -157.9005, 353, \"2019-08-16\", \"DBO5-10\"], [71.2888, -157.2213, 519, \"2019-08-17\", \"DBO5-2\"], [71.3262, -157.3067, 534, \"2019-08-17\", \"DBO5-3\"], [71.3727, -157.3803, 422, \"2019-08-17\", \"DBO5-4\"], [71.4095, -157.4497, 503, \"2019-08-17\", \"DBO5-5\"], [71.4543, -157.5532, 618, \"2019-08-17\", \"DBO5-6\"], [71.4953, -157.6265, 437, \"2019-08-16\", \"DBO5-7\"], [71.5358, -157.7107, 95, \"2019-08-16\", \"DBO5-8\"], [71.5835, -157.8175, 155, \"2019-08-16\", \"DBO5-9\"], [69.9595, -167.2257, 925, \"2019-08-22\", \"LB-10\"], [70.1705, -168.1275, 2112, \"2019-08-22\", \"LB-12\"], [69.584, -165.7427, 17602, \"2019-08-22\", \"LB-6\"], [69.785, -166.452, 3340, \"2019-08-22\", \"LB-8\"], [73.137, -160.4497, 34, \"2019-08-12\", \"NNE-11\"], [72.898, -160.8428, 102, \"2019-08-12\", \"NNE-7\"], [73.0177, -160.6458, 277, \"2019-08-12\", \"NNE-9\"], [74.2867, -165.0048, 97, \"2019-08-15\", \"W-11\"], [74.1573, -165.6782, 0, \"2019-08-15\", \"W-13\"], [73.9707, -166.0023, 19, \"2019-08-15\", \"W-15\"], [73.7435, -166.004, 150, \"2019-08-15\", \"W-17\"], [73.521, -166.0057, 534, \"2019-08-15\", \"W-19\"], [74.2202, -165.3528, 24, \"2019-08-15\", \"W-9\"], [64.6718, -169.9258, 350, \"2018-08-09\", \"DBO2-1\"], [64.68, -169.1002, 44, \"2018-08-09\", \"DBO2-2\"], [64.6705, -168.2342, 44, \"2018-08-08\", \"DBO2-3\"], [64.9598, -169.899, 325, \"2018-08-09\", \"DBO2-4\"], [64.9912, -169.146, 63, \"2018-08-08\", \"DBO2-5\"], [68.3012, -166.9308, 1112, \"2018-08-10\", \"DBO3-1\"], [68.2462, -167.1255, 1233, \"2018-08-10\", \"DBO3-2\"], [68.1902, -167.3027, 879, \"2018-08-10\", \"DBO3-3\"], [68.1357, -167.4915, 1053, \"2018-08-10\", \"DBO3-4\"], [68.0153, -167.8798, 2684, \"2018-08-10\", \"DBO3-5\"], [67.8968, -168.248, 117, \"2018-08-10\", \"DBO3-6\"], [67.7853, -168.601, 49, \"2018-08-11\", \"DBO3-7\"], [67.677, -168.9568, 210, \"2018-08-11\", \"DBO3-8\"], [71.09, -161.1928, 107, \"2018-08-15\", \"DBO4-1\"], [71.2238, -161.2893, 175, \"2018-08-15\", \"DBO4-2\"], [71.3507, -161.3958, 35, \"2018-08-15\", \"DBO4-3\"], [71.4805, -161.5048, 112, \"2018-08-15\", \"DBO4-4\"], [71.6103, -161.6152, 12, \"2018-08-15\", \"DBO4-5\"], [71.7755, -161.5865, 44, \"2018-08-15\", \"DBO4-6\"], [71.2468, -157.135, 134, \"2018-08-17\", \"DBO5-1\"], [71.6262, -157.9005, 107, \"2018-08-17\", \"DBO5-10\"], [71.2888, -157.2213, 1159, \"2018-08-17\", \"DBO5-2\"], [71.3262, -157.3067, 1927, \"2018-08-17\", \"DBO5-3\"], [71.3727, -157.3803, 820, \"2018-08-17\", \"DBO5-4\"], [71.4095, -157.4497, 699, \"2018-08-17\", \"DBO5-5\"], [71.4543, -157.5532, 1432, \"2018-08-17\", \"DBO5-6\"], [71.4953, -157.6265, 820, \"2018-08-17\", \"DBO5-7\"], [71.5358, -157.7107, 126, \"2018-08-17\", \"DBO5-8\"], [71.5835, -157.8175, 257, \"2018-08-17\", \"DBO5-9\"], [71.8302, -165.9698, 693, \"2018-08-12\", \"IC-1\"], [70.7172, -162.8565, 883, \"2018-08-14\", \"IC-10\"], [70.58, -162.4912, 209, \"2018-08-14\", \"IC-11\"], [71.7052, -165.6028, 384, \"2018-08-12\", \"IC-2\"], [71.6005, -165.3038, 131, \"2018-08-13\", \"IC-3\"], [71.4485, -164.919, 350, \"2018-08-13\", \"IC-4\"], [71.3367, -164.6127, 151, \"2018-08-13\", \"IC-5\"], [71.195, -164.2018, 250, \"2018-08-13\", \"IC-6\"], [71.0847, -163.8018, 192, \"2018-08-13\", \"IC-7\"], [70.9725, -163.5642, 383, \"2018-08-14\", \"IC-8\"], [70.849, -163.1872, 456, \"2018-08-14\", \"IC-9\"], [70.0578, -167.6565, 7063, \"2018-08-22\", \"LB-11\"], [70.2598, -168.5445, 1733, \"2018-08-22\", \"LB-13\"], [69.4962, -165.3785, 1505, \"2018-08-23\", \"LB-5\"], [69.6832, -166.0928, 11313, \"2018-08-23\", \"LB-7\"], [69.879, -166.8215, 2534, \"2018-08-23\", \"LB-9\"], [72.422, -156.5973, 68, \"2018-08-20\", \"OS1-9\"], [66.417, -168.6775, 92, \"2018-08-09\", \"T-1\"], [67.1642, -168.6635, 99, \"2018-08-09\", \"T-2\"], [68.3012, -166.9308, 712, \"2018-11-15\", \"DBO3-1\"], [68.0153, -167.8798, 447, \"2018-11-15\", \"DBO3-5\"], [67.677, -168.9568, 122, \"2018-11-15\", \"DBO3-8\"], [71.2468, -157.135, 297, \"2018-11-14\", \"DBO5-1\"], [71.3262, -157.3067, 238, \"2018-11-14\", \"DBO5-3\"], [71.4095, -157.4497, 680, \"2018-11-14\", \"DBO5-5\"], [71.4953, -157.6265, 405, \"2018-11-14\", \"DBO5-7\"], [71.5835, -157.8175, 500, \"2018-11-14\", \"DBO5-9\"], [71.1643, -152.2553, 27, \"2018-10-30\", \"DBO6-1\"], [71.2483, -152.1717, 34, \"2018-10-30\", \"DBO6-3\"], [71.3357, -152.0955, 48, \"2018-10-30\", \"DBO6-5\"], [71.4203, -152.0388, 48, \"2018-10-31\", \"DBO6-7\"], [70.2823, -143.931, 0, \"2018-11-05\", \"KTO-2\"], [70.3712, -143.7857, 0, \"2018-11-05\", \"KTO-3\"], [70.555, -143.6148, 5, \"2018-11-05\", \"KTO-5\"], [69.8165, -139.61, 0, \"2018-11-04\", \"MCK-1\"], [69.898, -139.4923, 0, \"2018-11-04\", \"MCK-2\"], [69.9393, -139.3863, 0, \"2018-11-04\", \"MCK-3\"], [69.9672, -139.2998, 0, \"2018-11-04\", \"MCK-4\"], [70.6915, -148.4433, 0, \"2018-11-02\", \"PRB-1\"], [70.7718, -148.3257, 5, \"2018-11-02\", \"PRB-2\"], [70.8975, -148.1432, 5, \"2018-11-02\", \"PRB-4\"], [71.0195, -147.976, 0, \"2018-11-02\", \"PRB-7\"], [70.679, -148.9078, 0, \"2018-11-07\", \"PRW-1\"], [70.8157, -148.8385, 0, \"2018-11-07\", \"PRW-4\"], [70.9452, -148.7758, 5, \"2018-11-07\", \"PRW-7\"], [72.5013, -161.9077, 517, \"2019-08-29\", \"CHCD03\"], [72.7685, -159.6353, 92, \"2019-08-30\", \"CHNO67\"], [72.8968, -159.3407, 58, \"2019-08-30\", \"CHNO6\"], [71.0012, -157.8018, 211, \"2019-09-02\", \"CHK08\"], [71.0008, -159.293, 291, \"2019-09-02\", \"CHK07\"], [71.0013, -160.787, 24, \"2019-09-03\", \"CHK06\"], [70.9993, -162.3932, 350, \"2019-09-03\", \"CHK05\"], [70.0018, -163.9033, 502, \"2019-09-04\", \"CHK04\"], [72.0012, -165.4027, 257, \"2019-09-04\", \"CHK03\"], [71.0012, -167.0043, 670, \"2019-09-05\", \"CHK02\"], [71.7542, -168.4888, 2335, \"2019-09-06\", \"CHLM01\"], [71.7513, -166.8912, 153, \"2019-09-06\", \"CHLM02\"], [71.7552, -165.3115, 58, \"2019-09-07\", \"CHLM03\"], [71.7498, -163.6947, 238, \"2019-09-07\", \"CHLM04\"], [71.7513, -161.9925, 141, \"2019-09-08\", \"CHLM05\"], [71.751, -160.4003, 83, \"2019-09-08\", \"CHLM06\"], [71.7527, -158.7978, 73, \"2019-09-09\", \"CHLM07\"], [71.751, -157.201, 668, \"2019-09-09\", \"CHLM08\"], [70.2527, -164.0913, 524, \"2019-09-10\", \"CHIJ04\"], [70.2492, -165.489, 961, \"2019-09-10\", \"CHIJ03\"], [70.2483, -166.9972, 1262, \"2019-09-11\", \"CHIJ02\"], [70.2512, -168.4993, 299, \"2019-09-12\", \"CHIJ01\"], [69.498, -168.4648, 6068, \"2019-09-17\", \"CHH01\"], [69.4998, -167.0965, 9806, \"2019-09-17\", \"CHH02\"], [69.4933, -165.7422, 9078, \"2019-09-18\", \"CHHO3\"], [69.4988, -164.2078, 461, \"2019-09-18\", \"CHH04\"], [68.762, -167.0882, 4951, \"2019-09-19\", \"CHFG02\"], [68.7507, -168.4953, 5680, \"2019-09-19\", \"CHFG01\"], [68.0038, -168.531, 66, \"2019-09-20\", \"CHE01\"], [68.0037, -167.2093, 456, \"2019-09-20\", \"CHE02\"], [68.0032, -165.7928, 655, \"2019-09-21\", \"CHE03\"], [67.626, -165.0023, 650, \"2019-09-22\", \"CHSF01\"], [67.2447, -168.4968, 22, \"2019-09-22\", \"CHCD01\"], [67.2512, -167.2085, 2301, \"2019-09-22\", \"CHCD02\"], [67.2512, -164.7093, 218, \"2019-09-23\", \"CHCD04\"], [66.8738, -164.9963, 961, \"2019-09-24\", \"CHSF02\"], [66.4985, -166.02, 41, \"2019-09-24\", \"CHB03\"], [66.5017, -167.2448, 313, \"2019-09-24\", \"CHB02\"], [61.0002, -168.0006, 0, \"2019-09-22\", \"11\"], [62.0012, -166.9988, 36, \"2019-09-05\", \"20\"], [62.0004, -170.0036, 36, \"2019-09-06\", \"23\"], [62.0009, -170.999, 7, \"2019-09-07\", \"24\"], [63.0009, -165.9978, 0, \"2019-09-07\", \"26\"], [63.5008, -166.9964, 7, \"2019-09-09\", \"28\"], [62.5002, -167.9981, 10, \"2019-09-10\", \"30\"], [62.4996, -170.0007, 5, \"2019-09-10\", \"32\"], [64.0017, -167.001, 240, \"2019-09-12\", \"37\"], [64.103, -162.5062, 0, \"2019-09-13\", \"39\"], [64.1001, -163.5003, 0, \"2019-09-13\", \"40\"], [64.1002, -164.5049, 0, \"2019-09-14\", \"41\"], [65.0024, -167.501, 5, \"2019-09-14\", \"43\"], [65.3998, -167.9989, 29, \"2019-09-15\", \"44\"], [66.6004, -165.8325, 19, \"2019-09-15\", \"45\"], [66.5847, -167.0013, 248, \"2019-09-15\", \"46\"], [66.0985, -167.4204, 36, \"2019-09-16\", \"47\"]];\n",
       "\n",
       "        // Define the dt_args\n",
       "        let dt_args = {\"layout\": {\"topStart\": \"pageLength\", \"topEnd\": \"search\", \"bottomStart\": \"info\", \"bottomEnd\": \"paging\"}, \"order\": []};\n",
       "        dt_args[\"data\"] = data;\n",
       "\n",
       "        \n",
       "        new DataTable(table, dt_args);\n",
       "    });\n",
       "</script>\n"
      ],
      "text/plain": [
       "<IPython.core.display.HTML object>"
      ]
     },
     "metadata": {},
     "output_type": "display_data"
    }
   ],
   "source": [
    "columnsAlex = ['LAT','LON','ALEXANDRIUM_CYSTS_CC','DATE','STATION_ID']\n",
    "DFAlex = DFcysts[columnsAlex]\n",
    "show(DFAlex)"
   ]
  },
  {
   "cell_type": "code",
   "execution_count": 561,
   "id": "f6768e40-0f95-4980-a739-a6ff63ef6674",
   "metadata": {},
   "outputs": [
    {
     "data": {
      "text/plain": [
       "count      185.000000\n",
       "mean       886.248649\n",
       "std       2311.572506\n",
       "min          0.000000\n",
       "25%         36.000000\n",
       "50%        209.000000\n",
       "75%        621.000000\n",
       "max      17602.000000\n",
       "Name: ALEXANDRIUM_CYSTS_CC, dtype: float64"
      ]
     },
     "execution_count": 561,
     "metadata": {},
     "output_type": "execute_result"
    }
   ],
   "source": [
    "DFAlex['ALEXANDRIUM_CYSTS_CC'].describe()"
   ]
  },
  {
   "cell_type": "code",
   "execution_count": 863,
   "id": "2f0d2530-4657-440a-aeae-d16a096f60b6",
   "metadata": {},
   "outputs": [
    {
     "data": {
      "text/plain": [
       "['2018-08-17',\n",
       " '2019-08-10',\n",
       " '2018-08-15',\n",
       " '2019-08-08',\n",
       " '2019-08-11',\n",
       " '2019-08-17',\n",
       " '2019-08-15',\n",
       " '2018-08-10',\n",
       " '2019-08-06',\n",
       " '2018-11-14',\n",
       " '2018-08-13',\n",
       " '2018-08-09',\n",
       " '2019-09-22',\n",
       " '2018-11-02',\n",
       " '2019-09-07',\n",
       " '2018-08-14',\n",
       " '2018-11-04',\n",
       " '2019-09-10',\n",
       " '2019-08-22',\n",
       " '2019-08-16',\n",
       " '2019-09-09',\n",
       " '2019-08-19',\n",
       " '2019-09-24',\n",
       " '2019-09-06',\n",
       " '2018-11-07',\n",
       " '2019-09-15',\n",
       " '2019-08-20',\n",
       " '2018-11-05',\n",
       " '2018-11-15',\n",
       " '2019-08-09',\n",
       " '2019-08-12',\n",
       " '2018-08-23',\n",
       " '2018-10-30',\n",
       " '2018-08-11',\n",
       " '2018-08-12',\n",
       " '2019-09-20',\n",
       " '2019-09-19',\n",
       " '2019-09-18',\n",
       " '2019-09-17',\n",
       " '2019-09-12',\n",
       " '2019-09-13',\n",
       " '2018-08-22',\n",
       " '2019-09-08',\n",
       " '2019-09-05',\n",
       " '2019-09-04',\n",
       " '2019-09-03',\n",
       " '2019-09-02',\n",
       " '2019-08-30',\n",
       " '2019-09-14',\n",
       " '2018-08-08',\n",
       " '2019-09-23',\n",
       " '2018-10-31',\n",
       " '2019-09-21',\n",
       " '2019-09-11',\n",
       " '2019-08-29',\n",
       " '2018-08-20',\n",
       " '2019-09-16']"
      ]
     },
     "execution_count": 863,
     "metadata": {},
     "output_type": "execute_result"
    }
   ],
   "source": [
    "list(DFAlex['DATE'].value_counts().keys())"
   ]
  },
  {
   "cell_type": "code",
   "execution_count": 861,
   "id": "8be0050f-cfbd-4e5c-8b0e-9f43d65eb6e8",
   "metadata": {},
   "outputs": [
    {
     "name": "stderr",
     "output_type": "stream",
     "text": [
      "/var/folders/3p/1bz4xmy96wj0vhl_qhqj52t80000gp/T/ipykernel_53555/3248831956.py:1: SettingWithCopyWarning:\n",
      "\n",
      "\n",
      "A value is trying to be set on a copy of a slice from a DataFrame.\n",
      "Try using .loc[row_indexer,col_indexer] = value instead\n",
      "\n",
      "See the caveats in the documentation: https://pandas.pydata.org/pandas-docs/stable/user_guide/indexing.html#returning-a-view-versus-a-copy\n",
      "\n"
     ]
    },
    {
     "data": {
      "text/html": [
       "<div>\n",
       "<style scoped>\n",
       "    .dataframe tbody tr th:only-of-type {\n",
       "        vertical-align: middle;\n",
       "    }\n",
       "\n",
       "    .dataframe tbody tr th {\n",
       "        vertical-align: top;\n",
       "    }\n",
       "\n",
       "    .dataframe thead th {\n",
       "        text-align: right;\n",
       "    }\n",
       "</style>\n",
       "<table border=\"1\" class=\"dataframe\">\n",
       "  <thead>\n",
       "    <tr style=\"text-align: right;\">\n",
       "      <th></th>\n",
       "      <th>LAT</th>\n",
       "      <th>LON</th>\n",
       "      <th>ALEXANDRIUM_CYSTS_CC</th>\n",
       "      <th>DATE</th>\n",
       "      <th>STATION_ID</th>\n",
       "      <th>year</th>\n",
       "      <th>month</th>\n",
       "      <th>day</th>\n",
       "    </tr>\n",
       "  </thead>\n",
       "  <tbody>\n",
       "    <tr>\n",
       "      <th>0</th>\n",
       "      <td>71.5357</td>\n",
       "      <td>-154.0313</td>\n",
       "      <td>1272</td>\n",
       "      <td>2019-08-20</td>\n",
       "      <td>BCE-1</td>\n",
       "      <td>2019</td>\n",
       "      <td>08</td>\n",
       "      <td>20</td>\n",
       "    </tr>\n",
       "    <tr>\n",
       "      <th>1</th>\n",
       "      <td>71.6498</td>\n",
       "      <td>-153.8398</td>\n",
       "      <td>14852</td>\n",
       "      <td>2019-08-20</td>\n",
       "      <td>BCE-3</td>\n",
       "      <td>2019</td>\n",
       "      <td>08</td>\n",
       "      <td>20</td>\n",
       "    </tr>\n",
       "    <tr>\n",
       "      <th>2</th>\n",
       "      <td>71.7815</td>\n",
       "      <td>-153.6300</td>\n",
       "      <td>2433</td>\n",
       "      <td>2019-08-20</td>\n",
       "      <td>BCE-5</td>\n",
       "      <td>2019</td>\n",
       "      <td>08</td>\n",
       "      <td>20</td>\n",
       "    </tr>\n",
       "    <tr>\n",
       "      <th>3</th>\n",
       "      <td>71.9082</td>\n",
       "      <td>-156.1932</td>\n",
       "      <td>515</td>\n",
       "      <td>2019-08-19</td>\n",
       "      <td>BCW-10</td>\n",
       "      <td>2019</td>\n",
       "      <td>08</td>\n",
       "      <td>19</td>\n",
       "    </tr>\n",
       "    <tr>\n",
       "      <th>4</th>\n",
       "      <td>72.1557</td>\n",
       "      <td>-155.8478</td>\n",
       "      <td>160</td>\n",
       "      <td>2019-08-19</td>\n",
       "      <td>BCW-6</td>\n",
       "      <td>2019</td>\n",
       "      <td>08</td>\n",
       "      <td>19</td>\n",
       "    </tr>\n",
       "    <tr>\n",
       "      <th>...</th>\n",
       "      <td>...</td>\n",
       "      <td>...</td>\n",
       "      <td>...</td>\n",
       "      <td>...</td>\n",
       "      <td>...</td>\n",
       "      <td>...</td>\n",
       "      <td>...</td>\n",
       "      <td>...</td>\n",
       "    </tr>\n",
       "    <tr>\n",
       "      <th>180</th>\n",
       "      <td>65.0024</td>\n",
       "      <td>-167.5010</td>\n",
       "      <td>5</td>\n",
       "      <td>2019-09-14</td>\n",
       "      <td>43</td>\n",
       "      <td>2019</td>\n",
       "      <td>09</td>\n",
       "      <td>14</td>\n",
       "    </tr>\n",
       "    <tr>\n",
       "      <th>181</th>\n",
       "      <td>65.3998</td>\n",
       "      <td>-167.9989</td>\n",
       "      <td>29</td>\n",
       "      <td>2019-09-15</td>\n",
       "      <td>44</td>\n",
       "      <td>2019</td>\n",
       "      <td>09</td>\n",
       "      <td>15</td>\n",
       "    </tr>\n",
       "    <tr>\n",
       "      <th>182</th>\n",
       "      <td>66.6004</td>\n",
       "      <td>-165.8325</td>\n",
       "      <td>19</td>\n",
       "      <td>2019-09-15</td>\n",
       "      <td>45</td>\n",
       "      <td>2019</td>\n",
       "      <td>09</td>\n",
       "      <td>15</td>\n",
       "    </tr>\n",
       "    <tr>\n",
       "      <th>183</th>\n",
       "      <td>66.5847</td>\n",
       "      <td>-167.0013</td>\n",
       "      <td>248</td>\n",
       "      <td>2019-09-15</td>\n",
       "      <td>46</td>\n",
       "      <td>2019</td>\n",
       "      <td>09</td>\n",
       "      <td>15</td>\n",
       "    </tr>\n",
       "    <tr>\n",
       "      <th>184</th>\n",
       "      <td>66.0985</td>\n",
       "      <td>-167.4204</td>\n",
       "      <td>36</td>\n",
       "      <td>2019-09-16</td>\n",
       "      <td>47</td>\n",
       "      <td>2019</td>\n",
       "      <td>09</td>\n",
       "      <td>16</td>\n",
       "    </tr>\n",
       "  </tbody>\n",
       "</table>\n",
       "<p>185 rows × 8 columns</p>\n",
       "</div>"
      ],
      "text/plain": [
       "         LAT       LON  ALEXANDRIUM_CYSTS_CC        DATE STATION_ID  year  \\\n",
       "0    71.5357 -154.0313                  1272  2019-08-20      BCE-1  2019   \n",
       "1    71.6498 -153.8398                 14852  2019-08-20      BCE-3  2019   \n",
       "2    71.7815 -153.6300                  2433  2019-08-20      BCE-5  2019   \n",
       "3    71.9082 -156.1932                   515  2019-08-19     BCW-10  2019   \n",
       "4    72.1557 -155.8478                   160  2019-08-19      BCW-6  2019   \n",
       "..       ...       ...                   ...         ...        ...   ...   \n",
       "180  65.0024 -167.5010                     5  2019-09-14         43  2019   \n",
       "181  65.3998 -167.9989                    29  2019-09-15         44  2019   \n",
       "182  66.6004 -165.8325                    19  2019-09-15         45  2019   \n",
       "183  66.5847 -167.0013                   248  2019-09-15         46  2019   \n",
       "184  66.0985 -167.4204                    36  2019-09-16         47  2019   \n",
       "\n",
       "    month day  \n",
       "0      08  20  \n",
       "1      08  20  \n",
       "2      08  20  \n",
       "3      08  19  \n",
       "4      08  19  \n",
       "..    ...  ..  \n",
       "180    09  14  \n",
       "181    09  15  \n",
       "182    09  15  \n",
       "183    09  15  \n",
       "184    09  16  \n",
       "\n",
       "[185 rows x 8 columns]"
      ]
     },
     "execution_count": 861,
     "metadata": {},
     "output_type": "execute_result"
    }
   ],
   "source": [
    "DFAlex['year'] = DFAlex['DATE'].apply(lambda x: x.split('-')[0]) \n",
    "DFAlex"
   ]
  },
  {
   "cell_type": "code",
   "execution_count": 564,
   "id": "e3a23dd5-c01c-4b62-9d03-4811818f7f4c",
   "metadata": {},
   "outputs": [
    {
     "name": "stderr",
     "output_type": "stream",
     "text": [
      "/var/folders/3p/1bz4xmy96wj0vhl_qhqj52t80000gp/T/ipykernel_53555/3443788667.py:1: SettingWithCopyWarning:\n",
      "\n",
      "\n",
      "A value is trying to be set on a copy of a slice from a DataFrame.\n",
      "Try using .loc[row_indexer,col_indexer] = value instead\n",
      "\n",
      "See the caveats in the documentation: https://pandas.pydata.org/pandas-docs/stable/user_guide/indexing.html#returning-a-view-versus-a-copy\n",
      "\n"
     ]
    },
    {
     "data": {
      "text/html": [
       "<div>\n",
       "<style scoped>\n",
       "    .dataframe tbody tr th:only-of-type {\n",
       "        vertical-align: middle;\n",
       "    }\n",
       "\n",
       "    .dataframe tbody tr th {\n",
       "        vertical-align: top;\n",
       "    }\n",
       "\n",
       "    .dataframe thead th {\n",
       "        text-align: right;\n",
       "    }\n",
       "</style>\n",
       "<table border=\"1\" class=\"dataframe\">\n",
       "  <thead>\n",
       "    <tr style=\"text-align: right;\">\n",
       "      <th></th>\n",
       "      <th>LAT</th>\n",
       "      <th>LON</th>\n",
       "      <th>ALEXANDRIUM_CYSTS_CC</th>\n",
       "      <th>DATE</th>\n",
       "      <th>STATION_ID</th>\n",
       "      <th>year</th>\n",
       "      <th>month</th>\n",
       "    </tr>\n",
       "  </thead>\n",
       "  <tbody>\n",
       "    <tr>\n",
       "      <th>0</th>\n",
       "      <td>71.5357</td>\n",
       "      <td>-154.0313</td>\n",
       "      <td>1272</td>\n",
       "      <td>2019-08-20</td>\n",
       "      <td>BCE-1</td>\n",
       "      <td>2019</td>\n",
       "      <td>08</td>\n",
       "    </tr>\n",
       "    <tr>\n",
       "      <th>1</th>\n",
       "      <td>71.6498</td>\n",
       "      <td>-153.8398</td>\n",
       "      <td>14852</td>\n",
       "      <td>2019-08-20</td>\n",
       "      <td>BCE-3</td>\n",
       "      <td>2019</td>\n",
       "      <td>08</td>\n",
       "    </tr>\n",
       "    <tr>\n",
       "      <th>2</th>\n",
       "      <td>71.7815</td>\n",
       "      <td>-153.6300</td>\n",
       "      <td>2433</td>\n",
       "      <td>2019-08-20</td>\n",
       "      <td>BCE-5</td>\n",
       "      <td>2019</td>\n",
       "      <td>08</td>\n",
       "    </tr>\n",
       "    <tr>\n",
       "      <th>3</th>\n",
       "      <td>71.9082</td>\n",
       "      <td>-156.1932</td>\n",
       "      <td>515</td>\n",
       "      <td>2019-08-19</td>\n",
       "      <td>BCW-10</td>\n",
       "      <td>2019</td>\n",
       "      <td>08</td>\n",
       "    </tr>\n",
       "    <tr>\n",
       "      <th>4</th>\n",
       "      <td>72.1557</td>\n",
       "      <td>-155.8478</td>\n",
       "      <td>160</td>\n",
       "      <td>2019-08-19</td>\n",
       "      <td>BCW-6</td>\n",
       "      <td>2019</td>\n",
       "      <td>08</td>\n",
       "    </tr>\n",
       "    <tr>\n",
       "      <th>...</th>\n",
       "      <td>...</td>\n",
       "      <td>...</td>\n",
       "      <td>...</td>\n",
       "      <td>...</td>\n",
       "      <td>...</td>\n",
       "      <td>...</td>\n",
       "      <td>...</td>\n",
       "    </tr>\n",
       "    <tr>\n",
       "      <th>180</th>\n",
       "      <td>65.0024</td>\n",
       "      <td>-167.5010</td>\n",
       "      <td>5</td>\n",
       "      <td>2019-09-14</td>\n",
       "      <td>43</td>\n",
       "      <td>2019</td>\n",
       "      <td>09</td>\n",
       "    </tr>\n",
       "    <tr>\n",
       "      <th>181</th>\n",
       "      <td>65.3998</td>\n",
       "      <td>-167.9989</td>\n",
       "      <td>29</td>\n",
       "      <td>2019-09-15</td>\n",
       "      <td>44</td>\n",
       "      <td>2019</td>\n",
       "      <td>09</td>\n",
       "    </tr>\n",
       "    <tr>\n",
       "      <th>182</th>\n",
       "      <td>66.6004</td>\n",
       "      <td>-165.8325</td>\n",
       "      <td>19</td>\n",
       "      <td>2019-09-15</td>\n",
       "      <td>45</td>\n",
       "      <td>2019</td>\n",
       "      <td>09</td>\n",
       "    </tr>\n",
       "    <tr>\n",
       "      <th>183</th>\n",
       "      <td>66.5847</td>\n",
       "      <td>-167.0013</td>\n",
       "      <td>248</td>\n",
       "      <td>2019-09-15</td>\n",
       "      <td>46</td>\n",
       "      <td>2019</td>\n",
       "      <td>09</td>\n",
       "    </tr>\n",
       "    <tr>\n",
       "      <th>184</th>\n",
       "      <td>66.0985</td>\n",
       "      <td>-167.4204</td>\n",
       "      <td>36</td>\n",
       "      <td>2019-09-16</td>\n",
       "      <td>47</td>\n",
       "      <td>2019</td>\n",
       "      <td>09</td>\n",
       "    </tr>\n",
       "  </tbody>\n",
       "</table>\n",
       "<p>185 rows × 7 columns</p>\n",
       "</div>"
      ],
      "text/plain": [
       "         LAT       LON  ALEXANDRIUM_CYSTS_CC        DATE STATION_ID  year  \\\n",
       "0    71.5357 -154.0313                  1272  2019-08-20      BCE-1  2019   \n",
       "1    71.6498 -153.8398                 14852  2019-08-20      BCE-3  2019   \n",
       "2    71.7815 -153.6300                  2433  2019-08-20      BCE-5  2019   \n",
       "3    71.9082 -156.1932                   515  2019-08-19     BCW-10  2019   \n",
       "4    72.1557 -155.8478                   160  2019-08-19      BCW-6  2019   \n",
       "..       ...       ...                   ...         ...        ...   ...   \n",
       "180  65.0024 -167.5010                     5  2019-09-14         43  2019   \n",
       "181  65.3998 -167.9989                    29  2019-09-15         44  2019   \n",
       "182  66.6004 -165.8325                    19  2019-09-15         45  2019   \n",
       "183  66.5847 -167.0013                   248  2019-09-15         46  2019   \n",
       "184  66.0985 -167.4204                    36  2019-09-16         47  2019   \n",
       "\n",
       "    month  \n",
       "0      08  \n",
       "1      08  \n",
       "2      08  \n",
       "3      08  \n",
       "4      08  \n",
       "..    ...  \n",
       "180    09  \n",
       "181    09  \n",
       "182    09  \n",
       "183    09  \n",
       "184    09  \n",
       "\n",
       "[185 rows x 7 columns]"
      ]
     },
     "execution_count": 564,
     "metadata": {},
     "output_type": "execute_result"
    }
   ],
   "source": [
    "DFAlex['month'] = DFAlex['DATE'].apply(lambda x: x.split('-')[1]) \n",
    "DFAlex"
   ]
  },
  {
   "cell_type": "code",
   "execution_count": 859,
   "id": "4e160908-b37a-4e38-a48d-fd992c9d4e7b",
   "metadata": {},
   "outputs": [
    {
     "name": "stderr",
     "output_type": "stream",
     "text": [
      "/var/folders/3p/1bz4xmy96wj0vhl_qhqj52t80000gp/T/ipykernel_53555/2054209540.py:1: SettingWithCopyWarning:\n",
      "\n",
      "\n",
      "A value is trying to be set on a copy of a slice from a DataFrame.\n",
      "Try using .loc[row_indexer,col_indexer] = value instead\n",
      "\n",
      "See the caveats in the documentation: https://pandas.pydata.org/pandas-docs/stable/user_guide/indexing.html#returning-a-view-versus-a-copy\n",
      "\n"
     ]
    },
    {
     "data": {
      "text/html": [
       "<div>\n",
       "<style scoped>\n",
       "    .dataframe tbody tr th:only-of-type {\n",
       "        vertical-align: middle;\n",
       "    }\n",
       "\n",
       "    .dataframe tbody tr th {\n",
       "        vertical-align: top;\n",
       "    }\n",
       "\n",
       "    .dataframe thead th {\n",
       "        text-align: right;\n",
       "    }\n",
       "</style>\n",
       "<table border=\"1\" class=\"dataframe\">\n",
       "  <thead>\n",
       "    <tr style=\"text-align: right;\">\n",
       "      <th></th>\n",
       "      <th>LAT</th>\n",
       "      <th>LON</th>\n",
       "      <th>ALEXANDRIUM_CYSTS_CC</th>\n",
       "      <th>DATE</th>\n",
       "      <th>STATION_ID</th>\n",
       "      <th>year</th>\n",
       "      <th>month</th>\n",
       "      <th>day</th>\n",
       "    </tr>\n",
       "  </thead>\n",
       "  <tbody>\n",
       "    <tr>\n",
       "      <th>0</th>\n",
       "      <td>71.5357</td>\n",
       "      <td>-154.0313</td>\n",
       "      <td>1272</td>\n",
       "      <td>2019-08-20</td>\n",
       "      <td>BCE-1</td>\n",
       "      <td>2019</td>\n",
       "      <td>08</td>\n",
       "      <td>20</td>\n",
       "    </tr>\n",
       "    <tr>\n",
       "      <th>1</th>\n",
       "      <td>71.6498</td>\n",
       "      <td>-153.8398</td>\n",
       "      <td>14852</td>\n",
       "      <td>2019-08-20</td>\n",
       "      <td>BCE-3</td>\n",
       "      <td>2019</td>\n",
       "      <td>08</td>\n",
       "      <td>20</td>\n",
       "    </tr>\n",
       "    <tr>\n",
       "      <th>2</th>\n",
       "      <td>71.7815</td>\n",
       "      <td>-153.6300</td>\n",
       "      <td>2433</td>\n",
       "      <td>2019-08-20</td>\n",
       "      <td>BCE-5</td>\n",
       "      <td>2019</td>\n",
       "      <td>08</td>\n",
       "      <td>20</td>\n",
       "    </tr>\n",
       "    <tr>\n",
       "      <th>3</th>\n",
       "      <td>71.9082</td>\n",
       "      <td>-156.1932</td>\n",
       "      <td>515</td>\n",
       "      <td>2019-08-19</td>\n",
       "      <td>BCW-10</td>\n",
       "      <td>2019</td>\n",
       "      <td>08</td>\n",
       "      <td>19</td>\n",
       "    </tr>\n",
       "    <tr>\n",
       "      <th>4</th>\n",
       "      <td>72.1557</td>\n",
       "      <td>-155.8478</td>\n",
       "      <td>160</td>\n",
       "      <td>2019-08-19</td>\n",
       "      <td>BCW-6</td>\n",
       "      <td>2019</td>\n",
       "      <td>08</td>\n",
       "      <td>19</td>\n",
       "    </tr>\n",
       "    <tr>\n",
       "      <th>...</th>\n",
       "      <td>...</td>\n",
       "      <td>...</td>\n",
       "      <td>...</td>\n",
       "      <td>...</td>\n",
       "      <td>...</td>\n",
       "      <td>...</td>\n",
       "      <td>...</td>\n",
       "      <td>...</td>\n",
       "    </tr>\n",
       "    <tr>\n",
       "      <th>180</th>\n",
       "      <td>65.0024</td>\n",
       "      <td>-167.5010</td>\n",
       "      <td>5</td>\n",
       "      <td>2019-09-14</td>\n",
       "      <td>43</td>\n",
       "      <td>2019</td>\n",
       "      <td>09</td>\n",
       "      <td>14</td>\n",
       "    </tr>\n",
       "    <tr>\n",
       "      <th>181</th>\n",
       "      <td>65.3998</td>\n",
       "      <td>-167.9989</td>\n",
       "      <td>29</td>\n",
       "      <td>2019-09-15</td>\n",
       "      <td>44</td>\n",
       "      <td>2019</td>\n",
       "      <td>09</td>\n",
       "      <td>15</td>\n",
       "    </tr>\n",
       "    <tr>\n",
       "      <th>182</th>\n",
       "      <td>66.6004</td>\n",
       "      <td>-165.8325</td>\n",
       "      <td>19</td>\n",
       "      <td>2019-09-15</td>\n",
       "      <td>45</td>\n",
       "      <td>2019</td>\n",
       "      <td>09</td>\n",
       "      <td>15</td>\n",
       "    </tr>\n",
       "    <tr>\n",
       "      <th>183</th>\n",
       "      <td>66.5847</td>\n",
       "      <td>-167.0013</td>\n",
       "      <td>248</td>\n",
       "      <td>2019-09-15</td>\n",
       "      <td>46</td>\n",
       "      <td>2019</td>\n",
       "      <td>09</td>\n",
       "      <td>15</td>\n",
       "    </tr>\n",
       "    <tr>\n",
       "      <th>184</th>\n",
       "      <td>66.0985</td>\n",
       "      <td>-167.4204</td>\n",
       "      <td>36</td>\n",
       "      <td>2019-09-16</td>\n",
       "      <td>47</td>\n",
       "      <td>2019</td>\n",
       "      <td>09</td>\n",
       "      <td>16</td>\n",
       "    </tr>\n",
       "  </tbody>\n",
       "</table>\n",
       "<p>185 rows × 8 columns</p>\n",
       "</div>"
      ],
      "text/plain": [
       "         LAT       LON  ALEXANDRIUM_CYSTS_CC        DATE STATION_ID  year  \\\n",
       "0    71.5357 -154.0313                  1272  2019-08-20      BCE-1  2019   \n",
       "1    71.6498 -153.8398                 14852  2019-08-20      BCE-3  2019   \n",
       "2    71.7815 -153.6300                  2433  2019-08-20      BCE-5  2019   \n",
       "3    71.9082 -156.1932                   515  2019-08-19     BCW-10  2019   \n",
       "4    72.1557 -155.8478                   160  2019-08-19      BCW-6  2019   \n",
       "..       ...       ...                   ...         ...        ...   ...   \n",
       "180  65.0024 -167.5010                     5  2019-09-14         43  2019   \n",
       "181  65.3998 -167.9989                    29  2019-09-15         44  2019   \n",
       "182  66.6004 -165.8325                    19  2019-09-15         45  2019   \n",
       "183  66.5847 -167.0013                   248  2019-09-15         46  2019   \n",
       "184  66.0985 -167.4204                    36  2019-09-16         47  2019   \n",
       "\n",
       "    month day  \n",
       "0      08  20  \n",
       "1      08  20  \n",
       "2      08  20  \n",
       "3      08  19  \n",
       "4      08  19  \n",
       "..    ...  ..  \n",
       "180    09  14  \n",
       "181    09  15  \n",
       "182    09  15  \n",
       "183    09  15  \n",
       "184    09  16  \n",
       "\n",
       "[185 rows x 8 columns]"
      ]
     },
     "execution_count": 859,
     "metadata": {},
     "output_type": "execute_result"
    }
   ],
   "source": [
    "DFAlex['day'] = DFAlex['DATE'].apply(lambda x: x.split('-')[2]) \n",
    "DFAlex"
   ]
  },
  {
   "cell_type": "code",
   "execution_count": 853,
   "id": "57107dbf-1613-4d69-8c05-409ab0606a8c",
   "metadata": {},
   "outputs": [
    {
     "data": {
      "text/plain": [
       "month\n",
       "08    107\n",
       "09     52\n",
       "11     22\n",
       "10      4\n",
       "Name: count, dtype: int64"
      ]
     },
     "execution_count": 853,
     "metadata": {},
     "output_type": "execute_result"
    }
   ],
   "source": [
    "DFAlex['month'].value_counts()"
   ]
  },
  {
   "cell_type": "code",
   "execution_count": 855,
   "id": "ed436297-6cd7-4ea6-8d3e-7b2575d69617",
   "metadata": {},
   "outputs": [
    {
     "data": {
      "text/html": [
       "<table id=\"itables_e5f04f22_3973_49b5_b9de_12ac60766a87\" class=\"display nowrap\" data-quarto-disable-processing=\"true\" style=\"table-layout:auto;width:auto;margin:auto;caption-side:bottom\">\n",
       "<thead>\n",
       "    <tr style=\"text-align: right;\">\n",
       "      <th></th>\n",
       "      <th>LAT</th>\n",
       "      <th>LON</th>\n",
       "      <th>ALEXANDRIUM_CYSTS_CC</th>\n",
       "      <th>DATE</th>\n",
       "      <th>STATION_ID</th>\n",
       "      <th>year</th>\n",
       "      <th>month</th>\n",
       "      <th>day</th>\n",
       "    </tr>\n",
       "  </thead><tbody><tr>\n",
       "<td style=\"vertical-align:middle; text-align:left\">\n",
       "<div style=\"float:left; margin-right: 10px;\">\n",
       "<a href=https://mwouts.github.io/itables/><svg class=\"main-svg\" xmlns=\"http://www.w3.org/2000/svg\" xmlns:xlink=\"http://www.w3.org/1999/xlink\"\n",
       "width=\"64\" viewBox=\"0 0 500 400\" style=\"font-family: 'Droid Sans', sans-serif;\">\n",
       "    <g style=\"fill:#d9d7fc\">\n",
       "        <path d=\"M100,400H500V357H100Z\" />\n",
       "        <path d=\"M100,300H400V257H100Z\" />\n",
       "        <path d=\"M0,200H400V157H0Z\" />\n",
       "        <path d=\"M100,100H500V57H100Z\" />\n",
       "        <path d=\"M100,350H500V307H100Z\" />\n",
       "        <path d=\"M100,250H400V207H100Z\" />\n",
       "        <path d=\"M0,150H400V107H0Z\" />\n",
       "        <path d=\"M100,50H500V7H100Z\" />\n",
       "    </g>\n",
       "    <g style=\"fill:#1a1366;stroke:#1a1366;\">\n",
       "   <rect x=\"100\" y=\"7\" width=\"400\" height=\"43\">\n",
       "    <animate\n",
       "      attributeName=\"width\"\n",
       "      values=\"0;400;0\"\n",
       "      dur=\"5s\"\n",
       "      repeatCount=\"indefinite\" />\n",
       "      <animate\n",
       "      attributeName=\"x\"\n",
       "      values=\"100;100;500\"\n",
       "      dur=\"5s\"\n",
       "      repeatCount=\"indefinite\" />\n",
       "  </rect>\n",
       "        <rect x=\"0\" y=\"107\" width=\"400\" height=\"43\">\n",
       "    <animate\n",
       "      attributeName=\"width\"\n",
       "      values=\"0;400;0\"\n",
       "      dur=\"3.5s\"\n",
       "      repeatCount=\"indefinite\" />\n",
       "    <animate\n",
       "      attributeName=\"x\"\n",
       "      values=\"0;0;400\"\n",
       "      dur=\"3.5s\"\n",
       "      repeatCount=\"indefinite\" />\n",
       "  </rect>\n",
       "        <rect x=\"100\" y=\"207\" width=\"300\" height=\"43\">\n",
       "    <animate\n",
       "      attributeName=\"width\"\n",
       "      values=\"0;300;0\"\n",
       "      dur=\"3s\"\n",
       "      repeatCount=\"indefinite\" />\n",
       "    <animate\n",
       "      attributeName=\"x\"\n",
       "      values=\"100;100;400\"\n",
       "      dur=\"3s\"\n",
       "      repeatCount=\"indefinite\" />\n",
       "  </rect>\n",
       "        <rect x=\"100\" y=\"307\" width=\"400\" height=\"43\">\n",
       "    <animate\n",
       "      attributeName=\"width\"\n",
       "      values=\"0;400;0\"\n",
       "      dur=\"4s\"\n",
       "      repeatCount=\"indefinite\" />\n",
       "      <animate\n",
       "      attributeName=\"x\"\n",
       "      values=\"100;100;500\"\n",
       "      dur=\"4s\"\n",
       "      repeatCount=\"indefinite\" />\n",
       "  </rect>\n",
       "        <g style=\"fill:transparent;stroke-width:8; stroke-linejoin:round\" rx=\"5\">\n",
       "            <g transform=\"translate(45 50) rotate(-45)\">\n",
       "                <circle r=\"33\" cx=\"0\" cy=\"0\" />\n",
       "                <rect x=\"-8\" y=\"32\" width=\"16\" height=\"30\" />\n",
       "            </g>\n",
       "\n",
       "            <g transform=\"translate(450 152)\">\n",
       "                <polyline points=\"-15,-20 -35,-20 -35,40 25,40 25,20\" />\n",
       "                <rect x=\"-15\" y=\"-40\" width=\"60\" height=\"60\" />\n",
       "            </g>\n",
       "\n",
       "            <g transform=\"translate(50 352)\">\n",
       "                <polygon points=\"-35,-5 0,-40 35,-5\" />\n",
       "                <polygon points=\"-35,10 0,45 35,10\" />\n",
       "            </g>\n",
       "\n",
       "            <g transform=\"translate(75 250)\">\n",
       "                <polyline points=\"-30,30 -60,0 -30,-30\" />\n",
       "                <polyline points=\"0,30 -30,0 0,-30\" />\n",
       "            </g>\n",
       "\n",
       "            <g transform=\"translate(425 250) rotate(180)\">\n",
       "                <polyline points=\"-30,30 -60,0 -30,-30\" />\n",
       "                <polyline points=\"0,30 -30,0 0,-30\" />\n",
       "            </g>\n",
       "        </g>\n",
       "    </g>\n",
       "</svg>\n",
       "</a>\n",
       "</div>\n",
       "<div>\n",
       "Loading ITables v2.1.4 from the internet...\n",
       "(need <a href=https://mwouts.github.io/itables/troubleshooting.html>help</a>?)</td>\n",
       "</div>\n",
       "</tr></tbody>\n",
       "\n",
       "</table>\n",
       "<link href=\"https://www.unpkg.com/dt_for_itables@2.0.11/dt_bundle.css\" rel=\"stylesheet\">\n",
       "<script type=\"module\">\n",
       "    import {DataTable, jQuery as $} from 'https://www.unpkg.com/dt_for_itables@2.0.11/dt_bundle.js';\n",
       "\n",
       "    document.querySelectorAll(\"#itables_e5f04f22_3973_49b5_b9de_12ac60766a87:not(.dataTable)\").forEach(table => {\n",
       "        // Define the table data\n",
       "        const data = [[0, 71.5357, -154.0313, 1272, \"2019-08-20\", \"BCE-1\", \"2019\", \"08\", \"20\"], [1, 71.6498, -153.8398, 14852, \"2019-08-20\", \"BCE-3\", \"2019\", \"08\", \"20\"], [2, 71.7815, -153.63, 2433, \"2019-08-20\", \"BCE-5\", \"2019\", \"08\", \"20\"], [3, 71.9082, -156.1932, 515, \"2019-08-19\", \"BCW-10\", \"2019\", \"08\", \"19\"], [4, 72.1557, -155.8478, 160, \"2019-08-19\", \"BCW-6\", \"2019\", \"08\", \"19\"], [5, 72.0308, -156.028, 7767, \"2019-08-19\", \"BCW-8\", \"2019\", \"08\", \"19\"], [6, 62.0048, -175.0692, 34, \"2019-08-06\", \"DBO1-1\", \"2019\", \"08\", \"06\"], [7, 62.0442, -175.2153, 41, \"2019-08-06\", \"DBO1-2\", \"2019\", \"08\", \"06\"], [8, 62.392, -174.5642, 29, \"2019-08-06\", \"DBO1-4\", \"2019\", \"08\", \"06\"], [9, 62.5528, -173.5547, 0, \"2019-08-06\", \"DBO1-6\", \"2019\", \"08\", \"06\"], [10, 63.0345, -173.4617, 0, \"2019-08-06\", \"DBO1-8\", \"2019\", \"08\", \"06\"], [11, 64.6718, -170.646, 777, \"2019-08-08\", \"DBO2-0\", \"2019\", \"08\", \"08\"], [12, 64.6718, -169.9258, 354, \"2019-08-08\", \"DBO2-1\", \"2019\", \"08\", \"08\"], [13, 64.68, -169.1002, 267, \"2019-08-08\", \"DBO2-2\", \"2019\", \"08\", \"08\"], [14, 64.6705, -168.2342, 63, \"2019-08-08\", \"DBO2-3\", \"2019\", \"08\", \"08\"], [15, 64.9598, -169.899, 359, \"2019-08-09\", \"DBO2-4\", \"2019\", \"08\", \"09\"], [16, 64.9912, -169.146, 238, \"2019-08-09\", \"DBO2-5\", \"2019\", \"08\", \"09\"], [17, 65.003, -168.221, 34, \"2019-08-09\", \"DBO2-7\", \"2019\", \"08\", \"09\"], [18, 64.6728, -166.9555, 0, \"2019-08-08\", \"DBO2-B\", \"2019\", \"08\", \"08\"], [19, 64.6695, -167.597, 0, \"2019-08-08\", \"DBO2-D\", \"2019\", \"08\", \"08\"], [20, 68.2462, -167.1255, 1830, \"2019-08-10\", \"DBO3-2\", \"2019\", \"08\", \"10\"], [21, 68.1902, -167.3027, 738, \"2019-08-10\", \"DBO3-3\", \"2019\", \"08\", \"10\"], [22, 68.1357, -167.4915, 966, \"2019-08-10\", \"DBO3-4\", \"2019\", \"08\", \"10\"], [23, 68.0153, -167.8798, 442, \"2019-08-10\", \"DBO3-5\", \"2019\", \"08\", \"10\"], [24, 67.8968, -168.248, 177, \"2019-08-10\", \"DBO3-6\", \"2019\", \"08\", \"10\"], [25, 67.7853, -168.601, 122, \"2019-08-10\", \"DBO3-7\", \"2019\", \"08\", \"10\"], [26, 67.677, -168.9568, 82, \"2019-08-10\", \"DBO3-8\", \"2019\", \"08\", \"10\"], [27, 71.09, -161.1928, 53, \"2019-08-11\", \"DBO4-1\", \"2019\", \"08\", \"11\"], [28, 71.2238, -161.2893, 251, \"2019-08-11\", \"DBO4-2\", \"2019\", \"08\", \"11\"], [29, 71.3507, -161.3958, 14, \"2019-08-11\", \"DBO4-3\", \"2019\", \"08\", \"11\"], [30, 71.4805, -161.5048, 0, \"2019-08-11\", \"DBO4-4\", \"2019\", \"08\", \"11\"], [31, 71.6103, -161.6152, 163, \"2019-08-11\", \"DBO4-5\", \"2019\", \"08\", \"11\"], [32, 71.7755, -161.5865, 82, \"2019-08-11\", \"DBO4-6\", \"2019\", \"08\", \"11\"], [33, 71.2468, -157.135, 621, \"2019-08-17\", \"DBO5-1\", \"2019\", \"08\", \"17\"], [34, 71.6262, -157.9005, 353, \"2019-08-16\", \"DBO5-10\", \"2019\", \"08\", \"16\"], [35, 71.2888, -157.2213, 519, \"2019-08-17\", \"DBO5-2\", \"2019\", \"08\", \"17\"], [36, 71.3262, -157.3067, 534, \"2019-08-17\", \"DBO5-3\", \"2019\", \"08\", \"17\"], [37, 71.3727, -157.3803, 422, \"2019-08-17\", \"DBO5-4\", \"2019\", \"08\", \"17\"], [38, 71.4095, -157.4497, 503, \"2019-08-17\", \"DBO5-5\", \"2019\", \"08\", \"17\"], [39, 71.4543, -157.5532, 618, \"2019-08-17\", \"DBO5-6\", \"2019\", \"08\", \"17\"], [40, 71.4953, -157.6265, 437, \"2019-08-16\", \"DBO5-7\", \"2019\", \"08\", \"16\"], [41, 71.5358, -157.7107, 95, \"2019-08-16\", \"DBO5-8\", \"2019\", \"08\", \"16\"], [42, 71.5835, -157.8175, 155, \"2019-08-16\", \"DBO5-9\", \"2019\", \"08\", \"16\"], [43, 69.9595, -167.2257, 925, \"2019-08-22\", \"LB-10\", \"2019\", \"08\", \"22\"], [44, 70.1705, -168.1275, 2112, \"2019-08-22\", \"LB-12\", \"2019\", \"08\", \"22\"], [45, 69.584, -165.7427, 17602, \"2019-08-22\", \"LB-6\", \"2019\", \"08\", \"22\"], [46, 69.785, -166.452, 3340, \"2019-08-22\", \"LB-8\", \"2019\", \"08\", \"22\"], [47, 73.137, -160.4497, 34, \"2019-08-12\", \"NNE-11\", \"2019\", \"08\", \"12\"], [48, 72.898, -160.8428, 102, \"2019-08-12\", \"NNE-7\", \"2019\", \"08\", \"12\"], [49, 73.0177, -160.6458, 277, \"2019-08-12\", \"NNE-9\", \"2019\", \"08\", \"12\"], [50, 74.2867, -165.0048, 97, \"2019-08-15\", \"W-11\", \"2019\", \"08\", \"15\"], [51, 74.1573, -165.6782, 0, \"2019-08-15\", \"W-13\", \"2019\", \"08\", \"15\"], [52, 73.9707, -166.0023, 19, \"2019-08-15\", \"W-15\", \"2019\", \"08\", \"15\"], [53, 73.7435, -166.004, 150, \"2019-08-15\", \"W-17\", \"2019\", \"08\", \"15\"], [54, 73.521, -166.0057, 534, \"2019-08-15\", \"W-19\", \"2019\", \"08\", \"15\"], [55, 74.2202, -165.3528, 24, \"2019-08-15\", \"W-9\", \"2019\", \"08\", \"15\"], [56, 64.6718, -169.9258, 350, \"2018-08-09\", \"DBO2-1\", \"2018\", \"08\", \"09\"], [57, 64.68, -169.1002, 44, \"2018-08-09\", \"DBO2-2\", \"2018\", \"08\", \"09\"], [58, 64.6705, -168.2342, 44, \"2018-08-08\", \"DBO2-3\", \"2018\", \"08\", \"08\"], [59, 64.9598, -169.899, 325, \"2018-08-09\", \"DBO2-4\", \"2018\", \"08\", \"09\"], [60, 64.9912, -169.146, 63, \"2018-08-08\", \"DBO2-5\", \"2018\", \"08\", \"08\"], [61, 68.3012, -166.9308, 1112, \"2018-08-10\", \"DBO3-1\", \"2018\", \"08\", \"10\"], [62, 68.2462, -167.1255, 1233, \"2018-08-10\", \"DBO3-2\", \"2018\", \"08\", \"10\"], [63, 68.1902, -167.3027, 879, \"2018-08-10\", \"DBO3-3\", \"2018\", \"08\", \"10\"], [64, 68.1357, -167.4915, 1053, \"2018-08-10\", \"DBO3-4\", \"2018\", \"08\", \"10\"], [65, 68.0153, -167.8798, 2684, \"2018-08-10\", \"DBO3-5\", \"2018\", \"08\", \"10\"], [66, 67.8968, -168.248, 117, \"2018-08-10\", \"DBO3-6\", \"2018\", \"08\", \"10\"], [67, 67.7853, -168.601, 49, \"2018-08-11\", \"DBO3-7\", \"2018\", \"08\", \"11\"], [68, 67.677, -168.9568, 210, \"2018-08-11\", \"DBO3-8\", \"2018\", \"08\", \"11\"], [69, 71.09, -161.1928, 107, \"2018-08-15\", \"DBO4-1\", \"2018\", \"08\", \"15\"], [70, 71.2238, -161.2893, 175, \"2018-08-15\", \"DBO4-2\", \"2018\", \"08\", \"15\"], [71, 71.3507, -161.3958, 35, \"2018-08-15\", \"DBO4-3\", \"2018\", \"08\", \"15\"], [72, 71.4805, -161.5048, 112, \"2018-08-15\", \"DBO4-4\", \"2018\", \"08\", \"15\"], [73, 71.6103, -161.6152, 12, \"2018-08-15\", \"DBO4-5\", \"2018\", \"08\", \"15\"], [74, 71.7755, -161.5865, 44, \"2018-08-15\", \"DBO4-6\", \"2018\", \"08\", \"15\"], [75, 71.2468, -157.135, 134, \"2018-08-17\", \"DBO5-1\", \"2018\", \"08\", \"17\"], [76, 71.6262, -157.9005, 107, \"2018-08-17\", \"DBO5-10\", \"2018\", \"08\", \"17\"], [77, 71.2888, -157.2213, 1159, \"2018-08-17\", \"DBO5-2\", \"2018\", \"08\", \"17\"], [78, 71.3262, -157.3067, 1927, \"2018-08-17\", \"DBO5-3\", \"2018\", \"08\", \"17\"], [79, 71.3727, -157.3803, 820, \"2018-08-17\", \"DBO5-4\", \"2018\", \"08\", \"17\"], [80, 71.4095, -157.4497, 699, \"2018-08-17\", \"DBO5-5\", \"2018\", \"08\", \"17\"], [81, 71.4543, -157.5532, 1432, \"2018-08-17\", \"DBO5-6\", \"2018\", \"08\", \"17\"], [82, 71.4953, -157.6265, 820, \"2018-08-17\", \"DBO5-7\", \"2018\", \"08\", \"17\"], [83, 71.5358, -157.7107, 126, \"2018-08-17\", \"DBO5-8\", \"2018\", \"08\", \"17\"], [84, 71.5835, -157.8175, 257, \"2018-08-17\", \"DBO5-9\", \"2018\", \"08\", \"17\"], [85, 71.8302, -165.9698, 693, \"2018-08-12\", \"IC-1\", \"2018\", \"08\", \"12\"], [86, 70.7172, -162.8565, 883, \"2018-08-14\", \"IC-10\", \"2018\", \"08\", \"14\"], [87, 70.58, -162.4912, 209, \"2018-08-14\", \"IC-11\", \"2018\", \"08\", \"14\"], [88, 71.7052, -165.6028, 384, \"2018-08-12\", \"IC-2\", \"2018\", \"08\", \"12\"], [89, 71.6005, -165.3038, 131, \"2018-08-13\", \"IC-3\", \"2018\", \"08\", \"13\"], [90, 71.4485, -164.919, 350, \"2018-08-13\", \"IC-4\", \"2018\", \"08\", \"13\"], [91, 71.3367, -164.6127, 151, \"2018-08-13\", \"IC-5\", \"2018\", \"08\", \"13\"], [92, 71.195, -164.2018, 250, \"2018-08-13\", \"IC-6\", \"2018\", \"08\", \"13\"], [93, 71.0847, -163.8018, 192, \"2018-08-13\", \"IC-7\", \"2018\", \"08\", \"13\"], [94, 70.9725, -163.5642, 383, \"2018-08-14\", \"IC-8\", \"2018\", \"08\", \"14\"], [95, 70.849, -163.1872, 456, \"2018-08-14\", \"IC-9\", \"2018\", \"08\", \"14\"], [96, 70.0578, -167.6565, 7063, \"2018-08-22\", \"LB-11\", \"2018\", \"08\", \"22\"], [97, 70.2598, -168.5445, 1733, \"2018-08-22\", \"LB-13\", \"2018\", \"08\", \"22\"], [98, 69.4962, -165.3785, 1505, \"2018-08-23\", \"LB-5\", \"2018\", \"08\", \"23\"], [99, 69.6832, -166.0928, 11313, \"2018-08-23\", \"LB-7\", \"2018\", \"08\", \"23\"], [100, 69.879, -166.8215, 2534, \"2018-08-23\", \"LB-9\", \"2018\", \"08\", \"23\"], [101, 72.422, -156.5973, 68, \"2018-08-20\", \"OS1-9\", \"2018\", \"08\", \"20\"], [102, 66.417, -168.6775, 92, \"2018-08-09\", \"T-1\", \"2018\", \"08\", \"09\"], [103, 67.1642, -168.6635, 99, \"2018-08-09\", \"T-2\", \"2018\", \"08\", \"09\"], [130, 72.5013, -161.9077, 517, \"2019-08-29\", \"CHCD03\", \"2019\", \"08\", \"29\"], [131, 72.7685, -159.6353, 92, \"2019-08-30\", \"CHNO67\", \"2019\", \"08\", \"30\"], [132, 72.8968, -159.3407, 58, \"2019-08-30\", \"CHNO6\", \"2019\", \"08\", \"30\"]];\n",
       "\n",
       "        // Define the dt_args\n",
       "        let dt_args = {\"layout\": {\"topStart\": \"pageLength\", \"topEnd\": \"search\", \"bottomStart\": \"info\", \"bottomEnd\": \"paging\"}, \"order\": []};\n",
       "        dt_args[\"data\"] = data;\n",
       "\n",
       "        \n",
       "        new DataTable(table, dt_args);\n",
       "    });\n",
       "</script>\n"
      ],
      "text/plain": [
       "<IPython.core.display.HTML object>"
      ]
     },
     "metadata": {},
     "output_type": "display_data"
    }
   ],
   "source": [
    "maskaugust = (DFAlex['month']=='08') #masked just for the month of August because it is the month with the most samples\n",
    "DFAlexaugust = DFAlex[maskaugust]\n",
    "show(DFAlexaugust)"
   ]
  },
  {
   "cell_type": "code",
   "execution_count": 851,
   "id": "d0db226c-e624-4ae4-8a11-d2a49e5f4344",
   "metadata": {},
   "outputs": [],
   "source": [
    "DFAlexaugust['year'] = DFAlexaugust['year'].apply(lambda x: int(x)) \n",
    "DFAlexaugust['day'] = DFAlexaugust['day'].apply(lambda x: int(x))\n",
    "# changed the year and day to integers so they would be ordered in the histogram"
   ]
  },
  {
   "cell_type": "code",
   "execution_count": 600,
   "id": "b6ab2d55-e7ef-4ef5-8d77-29206fa1a4ed",
   "metadata": {},
   "outputs": [
    {
     "data": {
      "text/plain": [
       "LAT                     float64\n",
       "LON                     float64\n",
       "ALEXANDRIUM_CYSTS_CC      int64\n",
       "DATE                     object\n",
       "STATION_ID               object\n",
       "year                      int64\n",
       "month                    object\n",
       "day                       int64\n",
       "dtype: object"
      ]
     },
     "execution_count": 600,
     "metadata": {},
     "output_type": "execute_result"
    }
   ],
   "source": [
    "DFAlexaugust.dtypes "
   ]
  },
  {
   "cell_type": "code",
   "execution_count": 849,
   "id": "149ce74e-8983-4c8f-82a3-dfbb6f87f2b5",
   "metadata": {},
   "outputs": [
    {
     "data": {
      "text/html": [
       "<table id=\"itables_aa0eddb2_9fe9_46f2_b536_e0e05e9069a9\" class=\"display nowrap\" data-quarto-disable-processing=\"true\" style=\"table-layout:auto;width:auto;margin:auto;caption-side:bottom\">\n",
       "<thead>\n",
       "    <tr style=\"text-align: right;\">\n",
       "      <th></th>\n",
       "      <th>LAT</th>\n",
       "      <th>LON</th>\n",
       "      <th>ALEXANDRIUM_CYSTS_CC</th>\n",
       "      <th>DATE</th>\n",
       "      <th>STATION_ID</th>\n",
       "      <th>year</th>\n",
       "      <th>month</th>\n",
       "      <th>day</th>\n",
       "    </tr>\n",
       "  </thead><tbody><tr>\n",
       "<td style=\"vertical-align:middle; text-align:left\">\n",
       "<div style=\"float:left; margin-right: 10px;\">\n",
       "<a href=https://mwouts.github.io/itables/><svg class=\"main-svg\" xmlns=\"http://www.w3.org/2000/svg\" xmlns:xlink=\"http://www.w3.org/1999/xlink\"\n",
       "width=\"64\" viewBox=\"0 0 500 400\" style=\"font-family: 'Droid Sans', sans-serif;\">\n",
       "    <g style=\"fill:#d9d7fc\">\n",
       "        <path d=\"M100,400H500V357H100Z\" />\n",
       "        <path d=\"M100,300H400V257H100Z\" />\n",
       "        <path d=\"M0,200H400V157H0Z\" />\n",
       "        <path d=\"M100,100H500V57H100Z\" />\n",
       "        <path d=\"M100,350H500V307H100Z\" />\n",
       "        <path d=\"M100,250H400V207H100Z\" />\n",
       "        <path d=\"M0,150H400V107H0Z\" />\n",
       "        <path d=\"M100,50H500V7H100Z\" />\n",
       "    </g>\n",
       "    <g style=\"fill:#1a1366;stroke:#1a1366;\">\n",
       "   <rect x=\"100\" y=\"7\" width=\"400\" height=\"43\">\n",
       "    <animate\n",
       "      attributeName=\"width\"\n",
       "      values=\"0;400;0\"\n",
       "      dur=\"5s\"\n",
       "      repeatCount=\"indefinite\" />\n",
       "      <animate\n",
       "      attributeName=\"x\"\n",
       "      values=\"100;100;500\"\n",
       "      dur=\"5s\"\n",
       "      repeatCount=\"indefinite\" />\n",
       "  </rect>\n",
       "        <rect x=\"0\" y=\"107\" width=\"400\" height=\"43\">\n",
       "    <animate\n",
       "      attributeName=\"width\"\n",
       "      values=\"0;400;0\"\n",
       "      dur=\"3.5s\"\n",
       "      repeatCount=\"indefinite\" />\n",
       "    <animate\n",
       "      attributeName=\"x\"\n",
       "      values=\"0;0;400\"\n",
       "      dur=\"3.5s\"\n",
       "      repeatCount=\"indefinite\" />\n",
       "  </rect>\n",
       "        <rect x=\"100\" y=\"207\" width=\"300\" height=\"43\">\n",
       "    <animate\n",
       "      attributeName=\"width\"\n",
       "      values=\"0;300;0\"\n",
       "      dur=\"3s\"\n",
       "      repeatCount=\"indefinite\" />\n",
       "    <animate\n",
       "      attributeName=\"x\"\n",
       "      values=\"100;100;400\"\n",
       "      dur=\"3s\"\n",
       "      repeatCount=\"indefinite\" />\n",
       "  </rect>\n",
       "        <rect x=\"100\" y=\"307\" width=\"400\" height=\"43\">\n",
       "    <animate\n",
       "      attributeName=\"width\"\n",
       "      values=\"0;400;0\"\n",
       "      dur=\"4s\"\n",
       "      repeatCount=\"indefinite\" />\n",
       "      <animate\n",
       "      attributeName=\"x\"\n",
       "      values=\"100;100;500\"\n",
       "      dur=\"4s\"\n",
       "      repeatCount=\"indefinite\" />\n",
       "  </rect>\n",
       "        <g style=\"fill:transparent;stroke-width:8; stroke-linejoin:round\" rx=\"5\">\n",
       "            <g transform=\"translate(45 50) rotate(-45)\">\n",
       "                <circle r=\"33\" cx=\"0\" cy=\"0\" />\n",
       "                <rect x=\"-8\" y=\"32\" width=\"16\" height=\"30\" />\n",
       "            </g>\n",
       "\n",
       "            <g transform=\"translate(450 152)\">\n",
       "                <polyline points=\"-15,-20 -35,-20 -35,40 25,40 25,20\" />\n",
       "                <rect x=\"-15\" y=\"-40\" width=\"60\" height=\"60\" />\n",
       "            </g>\n",
       "\n",
       "            <g transform=\"translate(50 352)\">\n",
       "                <polygon points=\"-35,-5 0,-40 35,-5\" />\n",
       "                <polygon points=\"-35,10 0,45 35,10\" />\n",
       "            </g>\n",
       "\n",
       "            <g transform=\"translate(75 250)\">\n",
       "                <polyline points=\"-30,30 -60,0 -30,-30\" />\n",
       "                <polyline points=\"0,30 -30,0 0,-30\" />\n",
       "            </g>\n",
       "\n",
       "            <g transform=\"translate(425 250) rotate(180)\">\n",
       "                <polyline points=\"-30,30 -60,0 -30,-30\" />\n",
       "                <polyline points=\"0,30 -30,0 0,-30\" />\n",
       "            </g>\n",
       "        </g>\n",
       "    </g>\n",
       "</svg>\n",
       "</a>\n",
       "</div>\n",
       "<div>\n",
       "Loading ITables v2.1.4 from the internet...\n",
       "(need <a href=https://mwouts.github.io/itables/troubleshooting.html>help</a>?)</td>\n",
       "</div>\n",
       "</tr></tbody>\n",
       "\n",
       "</table>\n",
       "<link href=\"https://www.unpkg.com/dt_for_itables@2.0.11/dt_bundle.css\" rel=\"stylesheet\">\n",
       "<script type=\"module\">\n",
       "    import {DataTable, jQuery as $} from 'https://www.unpkg.com/dt_for_itables@2.0.11/dt_bundle.js';\n",
       "\n",
       "    document.querySelectorAll(\"#itables_aa0eddb2_9fe9_46f2_b536_e0e05e9069a9:not(.dataTable)\").forEach(table => {\n",
       "        // Define the table data\n",
       "        const data = [[79, 71.3727, -157.3803, 820, \"2018-08-17\", \"DBO5-4\", 2018, \"08\", 17], [103, 67.1642, -168.6635, 99, \"2018-08-09\", \"T-2\", 2018, \"08\", 9], [102, 66.417, -168.6775, 92, \"2018-08-09\", \"T-1\", 2018, \"08\", 9], [101, 72.422, -156.5973, 68, \"2018-08-20\", \"OS1-9\", 2018, \"08\", 20], [100, 69.879, -166.8215, 2534, \"2018-08-23\", \"LB-9\", 2018, \"08\", 23], [99, 69.6832, -166.0928, 11313, \"2018-08-23\", \"LB-7\", 2018, \"08\", 23], [98, 69.4962, -165.3785, 1505, \"2018-08-23\", \"LB-5\", 2018, \"08\", 23], [97, 70.2598, -168.5445, 1733, \"2018-08-22\", \"LB-13\", 2018, \"08\", 22], [96, 70.0578, -167.6565, 7063, \"2018-08-22\", \"LB-11\", 2018, \"08\", 22], [95, 70.849, -163.1872, 456, \"2018-08-14\", \"IC-9\", 2018, \"08\", 14], [82, 71.4953, -157.6265, 820, \"2018-08-17\", \"DBO5-7\", 2018, \"08\", 17], [94, 70.9725, -163.5642, 383, \"2018-08-14\", \"IC-8\", 2018, \"08\", 14], [91, 71.3367, -164.6127, 151, \"2018-08-13\", \"IC-5\", 2018, \"08\", 13], [90, 71.4485, -164.919, 350, \"2018-08-13\", \"IC-4\", 2018, \"08\", 13], [89, 71.6005, -165.3038, 131, \"2018-08-13\", \"IC-3\", 2018, \"08\", 13], [88, 71.7052, -165.6028, 384, \"2018-08-12\", \"IC-2\", 2018, \"08\", 12], [87, 70.58, -162.4912, 209, \"2018-08-14\", \"IC-11\", 2018, \"08\", 14], [86, 70.7172, -162.8565, 883, \"2018-08-14\", \"IC-10\", 2018, \"08\", 14], [85, 71.8302, -165.9698, 693, \"2018-08-12\", \"IC-1\", 2018, \"08\", 12], [84, 71.5835, -157.8175, 257, \"2018-08-17\", \"DBO5-9\", 2018, \"08\", 17], [93, 71.0847, -163.8018, 192, \"2018-08-13\", \"IC-7\", 2018, \"08\", 13], [57, 64.68, -169.1002, 44, \"2018-08-09\", \"DBO2-2\", 2018, \"08\", 9], [83, 71.5358, -157.7107, 126, \"2018-08-17\", \"DBO5-8\", 2018, \"08\", 17], [81, 71.4543, -157.5532, 1432, \"2018-08-17\", \"DBO5-6\", 2018, \"08\", 17], [92, 71.195, -164.2018, 250, \"2018-08-13\", \"IC-6\", 2018, \"08\", 13], [80, 71.4095, -157.4497, 699, \"2018-08-17\", \"DBO5-5\", 2018, \"08\", 17], [58, 64.6705, -168.2342, 44, \"2018-08-08\", \"DBO2-3\", 2018, \"08\", 8], [56, 64.6718, -169.9258, 350, \"2018-08-09\", \"DBO2-1\", 2018, \"08\", 9], [78, 71.3262, -157.3067, 1927, \"2018-08-17\", \"DBO5-3\", 2018, \"08\", 17], [77, 71.2888, -157.2213, 1159, \"2018-08-17\", \"DBO5-2\", 2018, \"08\", 17], [76, 71.6262, -157.9005, 107, \"2018-08-17\", \"DBO5-10\", 2018, \"08\", 17], [75, 71.2468, -157.135, 134, \"2018-08-17\", \"DBO5-1\", 2018, \"08\", 17], [73, 71.6103, -161.6152, 12, \"2018-08-15\", \"DBO4-5\", 2018, \"08\", 15], [72, 71.4805, -161.5048, 112, \"2018-08-15\", \"DBO4-4\", 2018, \"08\", 15], [71, 71.3507, -161.3958, 35, \"2018-08-15\", \"DBO4-3\", 2018, \"08\", 15], [70, 71.2238, -161.2893, 175, \"2018-08-15\", \"DBO4-2\", 2018, \"08\", 15], [74, 71.7755, -161.5865, 44, \"2018-08-15\", \"DBO4-6\", 2018, \"08\", 15], [62, 68.2462, -167.1255, 1233, \"2018-08-10\", \"DBO3-2\", 2018, \"08\", 10], [68, 67.677, -168.9568, 210, \"2018-08-11\", \"DBO3-8\", 2018, \"08\", 11], [67, 67.7853, -168.601, 49, \"2018-08-11\", \"DBO3-7\", 2018, \"08\", 11], [66, 67.8968, -168.248, 117, \"2018-08-10\", \"DBO3-6\", 2018, \"08\", 10], [65, 68.0153, -167.8798, 2684, \"2018-08-10\", \"DBO3-5\", 2018, \"08\", 10], [64, 68.1357, -167.4915, 1053, \"2018-08-10\", \"DBO3-4\", 2018, \"08\", 10], [63, 68.1902, -167.3027, 879, \"2018-08-10\", \"DBO3-3\", 2018, \"08\", 10], [59, 64.9598, -169.899, 325, \"2018-08-09\", \"DBO2-4\", 2018, \"08\", 9], [61, 68.3012, -166.9308, 1112, \"2018-08-10\", \"DBO3-1\", 2018, \"08\", 10], [60, 64.9912, -169.146, 63, \"2018-08-08\", \"DBO2-5\", 2018, \"08\", 8], [69, 71.09, -161.1928, 107, \"2018-08-15\", \"DBO4-1\", 2018, \"08\", 15], [45, 69.584, -165.7427, 17602, \"2019-08-22\", \"LB-6\", 2019, \"08\", 22], [52, 73.9707, -166.0023, 19, \"2019-08-15\", \"W-15\", 2019, \"08\", 15], [46, 69.785, -166.452, 3340, \"2019-08-22\", \"LB-8\", 2019, \"08\", 22], [43, 69.9595, -167.2257, 925, \"2019-08-22\", \"LB-10\", 2019, \"08\", 22], [44, 70.1705, -168.1275, 2112, \"2019-08-22\", \"LB-12\", 2019, \"08\", 22], [47, 73.137, -160.4497, 34, \"2019-08-12\", \"NNE-11\", 2019, \"08\", 12], [25, 67.7853, -168.601, 122, \"2019-08-10\", \"DBO3-7\", 2019, \"08\", 10], [49, 73.0177, -160.6458, 277, \"2019-08-12\", \"NNE-9\", 2019, \"08\", 12], [50, 74.2867, -165.0048, 97, \"2019-08-15\", \"W-11\", 2019, \"08\", 15], [27, 71.09, -161.1928, 53, \"2019-08-11\", \"DBO4-1\", 2019, \"08\", 11], [42, 71.5835, -157.8175, 155, \"2019-08-16\", \"DBO5-9\", 2019, \"08\", 16], [48, 72.898, -160.8428, 102, \"2019-08-12\", \"NNE-7\", 2019, \"08\", 12], [41, 71.5358, -157.7107, 95, \"2019-08-16\", \"DBO5-8\", 2019, \"08\", 16], [30, 71.4805, -161.5048, 0, \"2019-08-11\", \"DBO4-4\", 2019, \"08\", 11], [39, 71.4543, -157.5532, 618, \"2019-08-17\", \"DBO5-6\", 2019, \"08\", 17], [38, 71.4095, -157.4497, 503, \"2019-08-17\", \"DBO5-5\", 2019, \"08\", 17], [37, 71.3727, -157.3803, 422, \"2019-08-17\", \"DBO5-4\", 2019, \"08\", 17], [36, 71.3262, -157.3067, 534, \"2019-08-17\", \"DBO5-3\", 2019, \"08\", 17], [35, 71.2888, -157.2213, 519, \"2019-08-17\", \"DBO5-2\", 2019, \"08\", 17], [34, 71.6262, -157.9005, 353, \"2019-08-16\", \"DBO5-10\", 2019, \"08\", 16], [33, 71.2468, -157.135, 621, \"2019-08-17\", \"DBO5-1\", 2019, \"08\", 17], [32, 71.7755, -161.5865, 82, \"2019-08-11\", \"DBO4-6\", 2019, \"08\", 11], [31, 71.6103, -161.6152, 163, \"2019-08-11\", \"DBO4-5\", 2019, \"08\", 11], [29, 71.3507, -161.3958, 14, \"2019-08-11\", \"DBO4-3\", 2019, \"08\", 11], [28, 71.2238, -161.2893, 251, \"2019-08-11\", \"DBO4-2\", 2019, \"08\", 11], [24, 67.8968, -168.248, 177, \"2019-08-10\", \"DBO3-6\", 2019, \"08\", 10], [40, 71.4953, -157.6265, 437, \"2019-08-16\", \"DBO5-7\", 2019, \"08\", 16], [1, 71.6498, -153.8398, 14852, \"2019-08-20\", \"BCE-3\", 2019, \"08\", 20], [53, 73.7435, -166.004, 150, \"2019-08-15\", \"W-17\", 2019, \"08\", 15], [3, 71.9082, -156.1932, 515, \"2019-08-19\", \"BCW-10\", 2019, \"08\", 19], [55, 74.2202, -165.3528, 24, \"2019-08-15\", \"W-9\", 2019, \"08\", 15], [0, 71.5357, -154.0313, 1272, \"2019-08-20\", \"BCE-1\", 2019, \"08\", 20], [130, 72.5013, -161.9077, 517, \"2019-08-29\", \"CHCD03\", 2019, \"08\", 29], [54, 73.521, -166.0057, 534, \"2019-08-15\", \"W-19\", 2019, \"08\", 15], [131, 72.7685, -159.6353, 92, \"2019-08-30\", \"CHNO67\", 2019, \"08\", 30], [26, 67.677, -168.9568, 82, \"2019-08-10\", \"DBO3-8\", 2019, \"08\", 10], [51, 74.1573, -165.6782, 0, \"2019-08-15\", \"W-13\", 2019, \"08\", 15], [23, 68.0153, -167.8798, 442, \"2019-08-10\", \"DBO3-5\", 2019, \"08\", 10], [22, 68.1357, -167.4915, 966, \"2019-08-10\", \"DBO3-4\", 2019, \"08\", 10], [21, 68.1902, -167.3027, 738, \"2019-08-10\", \"DBO3-3\", 2019, \"08\", 10], [20, 68.2462, -167.1255, 1830, \"2019-08-10\", \"DBO3-2\", 2019, \"08\", 10], [19, 64.6695, -167.597, 0, \"2019-08-08\", \"DBO2-D\", 2019, \"08\", 8], [18, 64.6728, -166.9555, 0, \"2019-08-08\", \"DBO2-B\", 2019, \"08\", 8], [17, 65.003, -168.221, 34, \"2019-08-09\", \"DBO2-7\", 2019, \"08\", 9], [16, 64.9912, -169.146, 238, \"2019-08-09\", \"DBO2-5\", 2019, \"08\", 9], [15, 64.9598, -169.899, 359, \"2019-08-09\", \"DBO2-4\", 2019, \"08\", 9], [14, 64.6705, -168.2342, 63, \"2019-08-08\", \"DBO2-3\", 2019, \"08\", 8], [13, 64.68, -169.1002, 267, \"2019-08-08\", \"DBO2-2\", 2019, \"08\", 8], [12, 64.6718, -169.9258, 354, \"2019-08-08\", \"DBO2-1\", 2019, \"08\", 8], [11, 64.6718, -170.646, 777, \"2019-08-08\", \"DBO2-0\", 2019, \"08\", 8], [10, 63.0345, -173.4617, 0, \"2019-08-06\", \"DBO1-8\", 2019, \"08\", 6], [9, 62.5528, -173.5547, 0, \"2019-08-06\", \"DBO1-6\", 2019, \"08\", 6], [8, 62.392, -174.5642, 29, \"2019-08-06\", \"DBO1-4\", 2019, \"08\", 6], [7, 62.0442, -175.2153, 41, \"2019-08-06\", \"DBO1-2\", 2019, \"08\", 6], [6, 62.0048, -175.0692, 34, \"2019-08-06\", \"DBO1-1\", 2019, \"08\", 6], [5, 72.0308, -156.028, 7767, \"2019-08-19\", \"BCW-8\", 2019, \"08\", 19], [4, 72.1557, -155.8478, 160, \"2019-08-19\", \"BCW-6\", 2019, \"08\", 19], [2, 71.7815, -153.63, 2433, \"2019-08-20\", \"BCE-5\", 2019, \"08\", 20], [132, 72.8968, -159.3407, 58, \"2019-08-30\", \"CHNO6\", 2019, \"08\", 30]];\n",
       "\n",
       "        // Define the dt_args\n",
       "        let dt_args = {\"layout\": {\"topStart\": \"pageLength\", \"topEnd\": \"search\", \"bottomStart\": \"info\", \"bottomEnd\": \"paging\"}, \"order\": []};\n",
       "        dt_args[\"data\"] = data;\n",
       "\n",
       "        \n",
       "        new DataTable(table, dt_args);\n",
       "    });\n",
       "</script>\n"
      ],
      "text/plain": [
       "<IPython.core.display.HTML object>"
      ]
     },
     "metadata": {},
     "output_type": "display_data"
    }
   ],
   "source": [
    "DFAlexaugust = DFAlexaugust.sort_values('year', ascending=True) #sorted the years so 2018 comes first, sorts it for the graph\n",
    "show(DFAlexaugust)"
   ]
  },
  {
   "cell_type": "code",
   "execution_count": 845,
   "id": "c6b1f49d-d84e-4f60-9028-cae94fb65248",
   "metadata": {},
   "outputs": [
    {
     "data": {
      "application/vnd.plotly.v1+json": {
       "config": {
        "plotlyServerURL": "https://plot.ly"
       },
       "data": [
        {
         "alignmentgroup": "True",
         "bingroup": "x",
         "histfunc": "sum",
         "hovertemplate": "year=2018<br>day=%{x}<br>sum of ALEXANDRIUM_CYSTS_CC=%{y}<extra></extra>",
         "legendgroup": "2018",
         "marker": {
          "color": "#80cdc1",
          "pattern": {
           "shape": ""
          }
         },
         "name": "2018",
         "nbinsx": 40,
         "offsetgroup": "2018",
         "orientation": "v",
         "showlegend": true,
         "type": "histogram",
         "x": [
          17,
          9,
          17,
          17,
          17,
          17,
          15,
          15,
          15,
          15,
          15,
          15,
          11,
          11,
          10,
          10,
          10,
          10,
          10,
          10,
          8,
          9,
          17,
          8,
          17,
          17,
          9,
          9,
          20,
          23,
          23,
          23,
          22,
          22,
          14,
          17,
          14,
          13,
          13,
          13,
          13,
          12,
          14,
          14,
          12,
          17,
          13,
          9
         ],
         "xaxis": "x",
         "y": [
          820,
          350,
          1927,
          1159,
          107,
          134,
          44,
          12,
          112,
          35,
          175,
          107,
          210,
          49,
          117,
          2684,
          1053,
          879,
          1233,
          1112,
          63,
          325,
          699,
          44,
          1432,
          126,
          99,
          92,
          68,
          2534,
          11313,
          1505,
          1733,
          7063,
          456,
          820,
          383,
          250,
          151,
          350,
          131,
          384,
          209,
          883,
          693,
          257,
          192,
          44
         ],
         "yaxis": "y"
        },
        {
         "alignmentgroup": "True",
         "bingroup": "x",
         "histfunc": "sum",
         "hovertemplate": "year=2019<br>day=%{x}<br>sum of ALEXANDRIUM_CYSTS_CC=%{y}<extra></extra>",
         "legendgroup": "2019",
         "marker": {
          "color": "#7fbc41",
          "pattern": {
           "shape": ""
          }
         },
         "name": "2019",
         "nbinsx": 40,
         "offsetgroup": "2019",
         "orientation": "v",
         "showlegend": true,
         "type": "histogram",
         "x": [
          15,
          20,
          29,
          15,
          30,
          15,
          15,
          10,
          10,
          10,
          10,
          8,
          8,
          9,
          9,
          9,
          8,
          8,
          8,
          8,
          6,
          6,
          6,
          6,
          6,
          19,
          19,
          19,
          20,
          20,
          10,
          15,
          10,
          11,
          15,
          12,
          12,
          12,
          22,
          22,
          22,
          22,
          16,
          16,
          16,
          17,
          17,
          17,
          17,
          17,
          16,
          17,
          11,
          11,
          11,
          11,
          11,
          10,
          30
         ],
         "xaxis": "x",
         "y": [
          24,
          1272,
          517,
          534,
          92,
          150,
          0,
          442,
          966,
          738,
          1830,
          0,
          0,
          34,
          238,
          359,
          63,
          267,
          354,
          777,
          0,
          0,
          29,
          41,
          34,
          7767,
          160,
          515,
          2433,
          14852,
          177,
          19,
          122,
          53,
          97,
          277,
          102,
          34,
          3340,
          17602,
          2112,
          925,
          155,
          95,
          437,
          618,
          503,
          422,
          534,
          519,
          353,
          621,
          82,
          163,
          0,
          14,
          251,
          82,
          58
         ],
         "yaxis": "y"
        }
       ],
       "layout": {
        "autosize": false,
        "barmode": "group",
        "height": 600,
        "legend": {
         "title": {
          "text": "Year"
         },
         "tracegroupgap": 0
        },
        "margin": {
         "t": 60
        },
        "template": {
         "data": {
          "bar": [
           {
            "error_x": {
             "color": "#2a3f5f"
            },
            "error_y": {
             "color": "#2a3f5f"
            },
            "marker": {
             "line": {
              "color": "white",
              "width": 0.5
             },
             "pattern": {
              "fillmode": "overlay",
              "size": 10,
              "solidity": 0.2
             }
            },
            "type": "bar"
           }
          ],
          "barpolar": [
           {
            "marker": {
             "line": {
              "color": "white",
              "width": 0.5
             },
             "pattern": {
              "fillmode": "overlay",
              "size": 10,
              "solidity": 0.2
             }
            },
            "type": "barpolar"
           }
          ],
          "carpet": [
           {
            "aaxis": {
             "endlinecolor": "#2a3f5f",
             "gridcolor": "#C8D4E3",
             "linecolor": "#C8D4E3",
             "minorgridcolor": "#C8D4E3",
             "startlinecolor": "#2a3f5f"
            },
            "baxis": {
             "endlinecolor": "#2a3f5f",
             "gridcolor": "#C8D4E3",
             "linecolor": "#C8D4E3",
             "minorgridcolor": "#C8D4E3",
             "startlinecolor": "#2a3f5f"
            },
            "type": "carpet"
           }
          ],
          "choropleth": [
           {
            "colorbar": {
             "outlinewidth": 0,
             "ticks": ""
            },
            "type": "choropleth"
           }
          ],
          "contour": [
           {
            "colorbar": {
             "outlinewidth": 0,
             "ticks": ""
            },
            "colorscale": [
             [
              0,
              "#0d0887"
             ],
             [
              0.1111111111111111,
              "#46039f"
             ],
             [
              0.2222222222222222,
              "#7201a8"
             ],
             [
              0.3333333333333333,
              "#9c179e"
             ],
             [
              0.4444444444444444,
              "#bd3786"
             ],
             [
              0.5555555555555556,
              "#d8576b"
             ],
             [
              0.6666666666666666,
              "#ed7953"
             ],
             [
              0.7777777777777778,
              "#fb9f3a"
             ],
             [
              0.8888888888888888,
              "#fdca26"
             ],
             [
              1,
              "#f0f921"
             ]
            ],
            "type": "contour"
           }
          ],
          "contourcarpet": [
           {
            "colorbar": {
             "outlinewidth": 0,
             "ticks": ""
            },
            "type": "contourcarpet"
           }
          ],
          "heatmap": [
           {
            "colorbar": {
             "outlinewidth": 0,
             "ticks": ""
            },
            "colorscale": [
             [
              0,
              "#0d0887"
             ],
             [
              0.1111111111111111,
              "#46039f"
             ],
             [
              0.2222222222222222,
              "#7201a8"
             ],
             [
              0.3333333333333333,
              "#9c179e"
             ],
             [
              0.4444444444444444,
              "#bd3786"
             ],
             [
              0.5555555555555556,
              "#d8576b"
             ],
             [
              0.6666666666666666,
              "#ed7953"
             ],
             [
              0.7777777777777778,
              "#fb9f3a"
             ],
             [
              0.8888888888888888,
              "#fdca26"
             ],
             [
              1,
              "#f0f921"
             ]
            ],
            "type": "heatmap"
           }
          ],
          "heatmapgl": [
           {
            "colorbar": {
             "outlinewidth": 0,
             "ticks": ""
            },
            "colorscale": [
             [
              0,
              "#0d0887"
             ],
             [
              0.1111111111111111,
              "#46039f"
             ],
             [
              0.2222222222222222,
              "#7201a8"
             ],
             [
              0.3333333333333333,
              "#9c179e"
             ],
             [
              0.4444444444444444,
              "#bd3786"
             ],
             [
              0.5555555555555556,
              "#d8576b"
             ],
             [
              0.6666666666666666,
              "#ed7953"
             ],
             [
              0.7777777777777778,
              "#fb9f3a"
             ],
             [
              0.8888888888888888,
              "#fdca26"
             ],
             [
              1,
              "#f0f921"
             ]
            ],
            "type": "heatmapgl"
           }
          ],
          "histogram": [
           {
            "marker": {
             "pattern": {
              "fillmode": "overlay",
              "size": 10,
              "solidity": 0.2
             }
            },
            "type": "histogram"
           }
          ],
          "histogram2d": [
           {
            "colorbar": {
             "outlinewidth": 0,
             "ticks": ""
            },
            "colorscale": [
             [
              0,
              "#0d0887"
             ],
             [
              0.1111111111111111,
              "#46039f"
             ],
             [
              0.2222222222222222,
              "#7201a8"
             ],
             [
              0.3333333333333333,
              "#9c179e"
             ],
             [
              0.4444444444444444,
              "#bd3786"
             ],
             [
              0.5555555555555556,
              "#d8576b"
             ],
             [
              0.6666666666666666,
              "#ed7953"
             ],
             [
              0.7777777777777778,
              "#fb9f3a"
             ],
             [
              0.8888888888888888,
              "#fdca26"
             ],
             [
              1,
              "#f0f921"
             ]
            ],
            "type": "histogram2d"
           }
          ],
          "histogram2dcontour": [
           {
            "colorbar": {
             "outlinewidth": 0,
             "ticks": ""
            },
            "colorscale": [
             [
              0,
              "#0d0887"
             ],
             [
              0.1111111111111111,
              "#46039f"
             ],
             [
              0.2222222222222222,
              "#7201a8"
             ],
             [
              0.3333333333333333,
              "#9c179e"
             ],
             [
              0.4444444444444444,
              "#bd3786"
             ],
             [
              0.5555555555555556,
              "#d8576b"
             ],
             [
              0.6666666666666666,
              "#ed7953"
             ],
             [
              0.7777777777777778,
              "#fb9f3a"
             ],
             [
              0.8888888888888888,
              "#fdca26"
             ],
             [
              1,
              "#f0f921"
             ]
            ],
            "type": "histogram2dcontour"
           }
          ],
          "mesh3d": [
           {
            "colorbar": {
             "outlinewidth": 0,
             "ticks": ""
            },
            "type": "mesh3d"
           }
          ],
          "parcoords": [
           {
            "line": {
             "colorbar": {
              "outlinewidth": 0,
              "ticks": ""
             }
            },
            "type": "parcoords"
           }
          ],
          "pie": [
           {
            "automargin": true,
            "type": "pie"
           }
          ],
          "scatter": [
           {
            "fillpattern": {
             "fillmode": "overlay",
             "size": 10,
             "solidity": 0.2
            },
            "type": "scatter"
           }
          ],
          "scatter3d": [
           {
            "line": {
             "colorbar": {
              "outlinewidth": 0,
              "ticks": ""
             }
            },
            "marker": {
             "colorbar": {
              "outlinewidth": 0,
              "ticks": ""
             }
            },
            "type": "scatter3d"
           }
          ],
          "scattercarpet": [
           {
            "marker": {
             "colorbar": {
              "outlinewidth": 0,
              "ticks": ""
             }
            },
            "type": "scattercarpet"
           }
          ],
          "scattergeo": [
           {
            "marker": {
             "colorbar": {
              "outlinewidth": 0,
              "ticks": ""
             }
            },
            "type": "scattergeo"
           }
          ],
          "scattergl": [
           {
            "marker": {
             "colorbar": {
              "outlinewidth": 0,
              "ticks": ""
             }
            },
            "type": "scattergl"
           }
          ],
          "scattermapbox": [
           {
            "marker": {
             "colorbar": {
              "outlinewidth": 0,
              "ticks": ""
             }
            },
            "type": "scattermapbox"
           }
          ],
          "scatterpolar": [
           {
            "marker": {
             "colorbar": {
              "outlinewidth": 0,
              "ticks": ""
             }
            },
            "type": "scatterpolar"
           }
          ],
          "scatterpolargl": [
           {
            "marker": {
             "colorbar": {
              "outlinewidth": 0,
              "ticks": ""
             }
            },
            "type": "scatterpolargl"
           }
          ],
          "scatterternary": [
           {
            "marker": {
             "colorbar": {
              "outlinewidth": 0,
              "ticks": ""
             }
            },
            "type": "scatterternary"
           }
          ],
          "surface": [
           {
            "colorbar": {
             "outlinewidth": 0,
             "ticks": ""
            },
            "colorscale": [
             [
              0,
              "#0d0887"
             ],
             [
              0.1111111111111111,
              "#46039f"
             ],
             [
              0.2222222222222222,
              "#7201a8"
             ],
             [
              0.3333333333333333,
              "#9c179e"
             ],
             [
              0.4444444444444444,
              "#bd3786"
             ],
             [
              0.5555555555555556,
              "#d8576b"
             ],
             [
              0.6666666666666666,
              "#ed7953"
             ],
             [
              0.7777777777777778,
              "#fb9f3a"
             ],
             [
              0.8888888888888888,
              "#fdca26"
             ],
             [
              1,
              "#f0f921"
             ]
            ],
            "type": "surface"
           }
          ],
          "table": [
           {
            "cells": {
             "fill": {
              "color": "#EBF0F8"
             },
             "line": {
              "color": "white"
             }
            },
            "header": {
             "fill": {
              "color": "#C8D4E3"
             },
             "line": {
              "color": "white"
             }
            },
            "type": "table"
           }
          ]
         },
         "layout": {
          "annotationdefaults": {
           "arrowcolor": "#2a3f5f",
           "arrowhead": 0,
           "arrowwidth": 1
          },
          "autotypenumbers": "strict",
          "coloraxis": {
           "colorbar": {
            "outlinewidth": 0,
            "ticks": ""
           }
          },
          "colorscale": {
           "diverging": [
            [
             0,
             "#8e0152"
            ],
            [
             0.1,
             "#c51b7d"
            ],
            [
             0.2,
             "#de77ae"
            ],
            [
             0.3,
             "#f1b6da"
            ],
            [
             0.4,
             "#fde0ef"
            ],
            [
             0.5,
             "#f7f7f7"
            ],
            [
             0.6,
             "#e6f5d0"
            ],
            [
             0.7,
             "#b8e186"
            ],
            [
             0.8,
             "#7fbc41"
            ],
            [
             0.9,
             "#4d9221"
            ],
            [
             1,
             "#276419"
            ]
           ],
           "sequential": [
            [
             0,
             "#0d0887"
            ],
            [
             0.1111111111111111,
             "#46039f"
            ],
            [
             0.2222222222222222,
             "#7201a8"
            ],
            [
             0.3333333333333333,
             "#9c179e"
            ],
            [
             0.4444444444444444,
             "#bd3786"
            ],
            [
             0.5555555555555556,
             "#d8576b"
            ],
            [
             0.6666666666666666,
             "#ed7953"
            ],
            [
             0.7777777777777778,
             "#fb9f3a"
            ],
            [
             0.8888888888888888,
             "#fdca26"
            ],
            [
             1,
             "#f0f921"
            ]
           ],
           "sequentialminus": [
            [
             0,
             "#0d0887"
            ],
            [
             0.1111111111111111,
             "#46039f"
            ],
            [
             0.2222222222222222,
             "#7201a8"
            ],
            [
             0.3333333333333333,
             "#9c179e"
            ],
            [
             0.4444444444444444,
             "#bd3786"
            ],
            [
             0.5555555555555556,
             "#d8576b"
            ],
            [
             0.6666666666666666,
             "#ed7953"
            ],
            [
             0.7777777777777778,
             "#fb9f3a"
            ],
            [
             0.8888888888888888,
             "#fdca26"
            ],
            [
             1,
             "#f0f921"
            ]
           ]
          },
          "colorway": [
           "#636efa",
           "#EF553B",
           "#00cc96",
           "#ab63fa",
           "#FFA15A",
           "#19d3f3",
           "#FF6692",
           "#B6E880",
           "#FF97FF",
           "#FECB52"
          ],
          "font": {
           "color": "#2a3f5f"
          },
          "geo": {
           "bgcolor": "white",
           "lakecolor": "white",
           "landcolor": "white",
           "showlakes": true,
           "showland": true,
           "subunitcolor": "#C8D4E3"
          },
          "hoverlabel": {
           "align": "left"
          },
          "hovermode": "closest",
          "mapbox": {
           "style": "light"
          },
          "paper_bgcolor": "white",
          "plot_bgcolor": "white",
          "polar": {
           "angularaxis": {
            "gridcolor": "#EBF0F8",
            "linecolor": "#EBF0F8",
            "ticks": ""
           },
           "bgcolor": "white",
           "radialaxis": {
            "gridcolor": "#EBF0F8",
            "linecolor": "#EBF0F8",
            "ticks": ""
           }
          },
          "scene": {
           "xaxis": {
            "backgroundcolor": "white",
            "gridcolor": "#DFE8F3",
            "gridwidth": 2,
            "linecolor": "#EBF0F8",
            "showbackground": true,
            "ticks": "",
            "zerolinecolor": "#EBF0F8"
           },
           "yaxis": {
            "backgroundcolor": "white",
            "gridcolor": "#DFE8F3",
            "gridwidth": 2,
            "linecolor": "#EBF0F8",
            "showbackground": true,
            "ticks": "",
            "zerolinecolor": "#EBF0F8"
           },
           "zaxis": {
            "backgroundcolor": "white",
            "gridcolor": "#DFE8F3",
            "gridwidth": 2,
            "linecolor": "#EBF0F8",
            "showbackground": true,
            "ticks": "",
            "zerolinecolor": "#EBF0F8"
           }
          },
          "shapedefaults": {
           "line": {
            "color": "#2a3f5f"
           }
          },
          "ternary": {
           "aaxis": {
            "gridcolor": "#DFE8F3",
            "linecolor": "#A2B1C6",
            "ticks": ""
           },
           "baxis": {
            "gridcolor": "#DFE8F3",
            "linecolor": "#A2B1C6",
            "ticks": ""
           },
           "bgcolor": "white",
           "caxis": {
            "gridcolor": "#DFE8F3",
            "linecolor": "#A2B1C6",
            "ticks": ""
           }
          },
          "title": {
           "x": 0.05
          },
          "xaxis": {
           "automargin": true,
           "gridcolor": "#EBF0F8",
           "linecolor": "#EBF0F8",
           "ticks": "",
           "title": {
            "standoff": 15
           },
           "zerolinecolor": "#EBF0F8",
           "zerolinewidth": 2
          },
          "yaxis": {
           "automargin": true,
           "gridcolor": "#EBF0F8",
           "linecolor": "#EBF0F8",
           "ticks": "",
           "title": {
            "standoff": 15
           },
           "zerolinecolor": "#EBF0F8",
           "zerolinewidth": 2
          }
         }
        },
        "title": {
         "text": "Alexandrium Cyst Population Through August, 2018 vs. 2019",
         "x": 0.5
        },
        "width": 800,
        "xaxis": {
         "anchor": "y",
         "autorange": true,
         "domain": [
          0,
          1
         ],
         "range": [
          5.5,
          30.5
         ],
         "title": {
          "text": "Day in August"
         },
         "type": "linear"
        },
        "yaxis": {
         "anchor": "x",
         "autorange": true,
         "domain": [
          0,
          1
         ],
         "range": [
          0,
          25241.052631578947
         ],
         "title": {
          "text": "Cyst Count"
         },
         "type": "linear"
        }
       }
      },
      "image/png": "[encoded data removed]",
      "text/html": [
       "<div>                            <div id=\"ac5f8d0e-edb1-4ed7-af9c-1ee903577427\" class=\"plotly-graph-div\" style=\"height:600px; width:800px;\"></div>            <script type=\"text/javascript\">                require([\"plotly\"], function(Plotly) {                    window.PLOTLYENV=window.PLOTLYENV || {};                                    if (document.getElementById(\"ac5f8d0e-edb1-4ed7-af9c-1ee903577427\")) {                    Plotly.newPlot(                        \"ac5f8d0e-edb1-4ed7-af9c-1ee903577427\",                        [{\"alignmentgroup\":\"True\",\"bingroup\":\"x\",\"histfunc\":\"sum\",\"hovertemplate\":\"year=2018\\u003cbr\\u003eday=%{x}\\u003cbr\\u003esum of ALEXANDRIUM_CYSTS_CC=%{y}\\u003cextra\\u003e\\u003c\\u002fextra\\u003e\",\"legendgroup\":\"2018\",\"marker\":{\"color\":\"#80cdc1\",\"pattern\":{\"shape\":\"\"}},\"name\":\"2018\",\"nbinsx\":40,\"offsetgroup\":\"2018\",\"orientation\":\"v\",\"showlegend\":true,\"x\":[17,9,17,17,17,17,15,15,15,15,15,15,11,11,10,10,10,10,10,10,8,9,17,8,17,17,9,9,20,23,23,23,22,22,14,17,14,13,13,13,13,12,14,14,12,17,13,9],\"xaxis\":\"x\",\"y\":[820,350,1927,1159,107,134,44,12,112,35,175,107,210,49,117,2684,1053,879,1233,1112,63,325,699,44,1432,126,99,92,68,2534,11313,1505,1733,7063,456,820,383,250,151,350,131,384,209,883,693,257,192,44],\"yaxis\":\"y\",\"type\":\"histogram\"},{\"alignmentgroup\":\"True\",\"bingroup\":\"x\",\"histfunc\":\"sum\",\"hovertemplate\":\"year=2019\\u003cbr\\u003eday=%{x}\\u003cbr\\u003esum of ALEXANDRIUM_CYSTS_CC=%{y}\\u003cextra\\u003e\\u003c\\u002fextra\\u003e\",\"legendgroup\":\"2019\",\"marker\":{\"color\":\"#7fbc41\",\"pattern\":{\"shape\":\"\"}},\"name\":\"2019\",\"nbinsx\":40,\"offsetgroup\":\"2019\",\"orientation\":\"v\",\"showlegend\":true,\"x\":[15,20,29,15,30,15,15,10,10,10,10,8,8,9,9,9,8,8,8,8,6,6,6,6,6,19,19,19,20,20,10,15,10,11,15,12,12,12,22,22,22,22,16,16,16,17,17,17,17,17,16,17,11,11,11,11,11,10,30],\"xaxis\":\"x\",\"y\":[24,1272,517,534,92,150,0,442,966,738,1830,0,0,34,238,359,63,267,354,777,0,0,29,41,34,7767,160,515,2433,14852,177,19,122,53,97,277,102,34,3340,17602,2112,925,155,95,437,618,503,422,534,519,353,621,82,163,0,14,251,82,58],\"yaxis\":\"y\",\"type\":\"histogram\"}],                        {\"template\":{\"data\":{\"barpolar\":[{\"marker\":{\"line\":{\"color\":\"white\",\"width\":0.5},\"pattern\":{\"fillmode\":\"overlay\",\"size\":10,\"solidity\":0.2}},\"type\":\"barpolar\"}],\"bar\":[{\"error_x\":{\"color\":\"#2a3f5f\"},\"error_y\":{\"color\":\"#2a3f5f\"},\"marker\":{\"line\":{\"color\":\"white\",\"width\":0.5},\"pattern\":{\"fillmode\":\"overlay\",\"size\":10,\"solidity\":0.2}},\"type\":\"bar\"}],\"carpet\":[{\"aaxis\":{\"endlinecolor\":\"#2a3f5f\",\"gridcolor\":\"#C8D4E3\",\"linecolor\":\"#C8D4E3\",\"minorgridcolor\":\"#C8D4E3\",\"startlinecolor\":\"#2a3f5f\"},\"baxis\":{\"endlinecolor\":\"#2a3f5f\",\"gridcolor\":\"#C8D4E3\",\"linecolor\":\"#C8D4E3\",\"minorgridcolor\":\"#C8D4E3\",\"startlinecolor\":\"#2a3f5f\"},\"type\":\"carpet\"}],\"choropleth\":[{\"colorbar\":{\"outlinewidth\":0,\"ticks\":\"\"},\"type\":\"choropleth\"}],\"contourcarpet\":[{\"colorbar\":{\"outlinewidth\":0,\"ticks\":\"\"},\"type\":\"contourcarpet\"}],\"contour\":[{\"colorbar\":{\"outlinewidth\":0,\"ticks\":\"\"},\"colorscale\":[[0.0,\"#0d0887\"],[0.1111111111111111,\"#46039f\"],[0.2222222222222222,\"#7201a8\"],[0.3333333333333333,\"#9c179e\"],[0.4444444444444444,\"#bd3786\"],[0.5555555555555556,\"#d8576b\"],[0.6666666666666666,\"#ed7953\"],[0.7777777777777778,\"#fb9f3a\"],[0.8888888888888888,\"#fdca26\"],[1.0,\"#f0f921\"]],\"type\":\"contour\"}],\"heatmapgl\":[{\"colorbar\":{\"outlinewidth\":0,\"ticks\":\"\"},\"colorscale\":[[0.0,\"#0d0887\"],[0.1111111111111111,\"#46039f\"],[0.2222222222222222,\"#7201a8\"],[0.3333333333333333,\"#9c179e\"],[0.4444444444444444,\"#bd3786\"],[0.5555555555555556,\"#d8576b\"],[0.6666666666666666,\"#ed7953\"],[0.7777777777777778,\"#fb9f3a\"],[0.8888888888888888,\"#fdca26\"],[1.0,\"#f0f921\"]],\"type\":\"heatmapgl\"}],\"heatmap\":[{\"colorbar\":{\"outlinewidth\":0,\"ticks\":\"\"},\"colorscale\":[[0.0,\"#0d0887\"],[0.1111111111111111,\"#46039f\"],[0.2222222222222222,\"#7201a8\"],[0.3333333333333333,\"#9c179e\"],[0.4444444444444444,\"#bd3786\"],[0.5555555555555556,\"#d8576b\"],[0.6666666666666666,\"#ed7953\"],[0.7777777777777778,\"#fb9f3a\"],[0.8888888888888888,\"#fdca26\"],[1.0,\"#f0f921\"]],\"type\":\"heatmap\"}],\"histogram2dcontour\":[{\"colorbar\":{\"outlinewidth\":0,\"ticks\":\"\"},\"colorscale\":[[0.0,\"#0d0887\"],[0.1111111111111111,\"#46039f\"],[0.2222222222222222,\"#7201a8\"],[0.3333333333333333,\"#9c179e\"],[0.4444444444444444,\"#bd3786\"],[0.5555555555555556,\"#d8576b\"],[0.6666666666666666,\"#ed7953\"],[0.7777777777777778,\"#fb9f3a\"],[0.8888888888888888,\"#fdca26\"],[1.0,\"#f0f921\"]],\"type\":\"histogram2dcontour\"}],\"histogram2d\":[{\"colorbar\":{\"outlinewidth\":0,\"ticks\":\"\"},\"colorscale\":[[0.0,\"#0d0887\"],[0.1111111111111111,\"#46039f\"],[0.2222222222222222,\"#7201a8\"],[0.3333333333333333,\"#9c179e\"],[0.4444444444444444,\"#bd3786\"],[0.5555555555555556,\"#d8576b\"],[0.6666666666666666,\"#ed7953\"],[0.7777777777777778,\"#fb9f3a\"],[0.8888888888888888,\"#fdca26\"],[1.0,\"#f0f921\"]],\"type\":\"histogram2d\"}],\"histogram\":[{\"marker\":{\"pattern\":{\"fillmode\":\"overlay\",\"size\":10,\"solidity\":0.2}},\"type\":\"histogram\"}],\"mesh3d\":[{\"colorbar\":{\"outlinewidth\":0,\"ticks\":\"\"},\"type\":\"mesh3d\"}],\"parcoords\":[{\"line\":{\"colorbar\":{\"outlinewidth\":0,\"ticks\":\"\"}},\"type\":\"parcoords\"}],\"pie\":[{\"automargin\":true,\"type\":\"pie\"}],\"scatter3d\":[{\"line\":{\"colorbar\":{\"outlinewidth\":0,\"ticks\":\"\"}},\"marker\":{\"colorbar\":{\"outlinewidth\":0,\"ticks\":\"\"}},\"type\":\"scatter3d\"}],\"scattercarpet\":[{\"marker\":{\"colorbar\":{\"outlinewidth\":0,\"ticks\":\"\"}},\"type\":\"scattercarpet\"}],\"scattergeo\":[{\"marker\":{\"colorbar\":{\"outlinewidth\":0,\"ticks\":\"\"}},\"type\":\"scattergeo\"}],\"scattergl\":[{\"marker\":{\"colorbar\":{\"outlinewidth\":0,\"ticks\":\"\"}},\"type\":\"scattergl\"}],\"scattermapbox\":[{\"marker\":{\"colorbar\":{\"outlinewidth\":0,\"ticks\":\"\"}},\"type\":\"scattermapbox\"}],\"scatterpolargl\":[{\"marker\":{\"colorbar\":{\"outlinewidth\":0,\"ticks\":\"\"}},\"type\":\"scatterpolargl\"}],\"scatterpolar\":[{\"marker\":{\"colorbar\":{\"outlinewidth\":0,\"ticks\":\"\"}},\"type\":\"scatterpolar\"}],\"scatter\":[{\"fillpattern\":{\"fillmode\":\"overlay\",\"size\":10,\"solidity\":0.2},\"type\":\"scatter\"}],\"scatterternary\":[{\"marker\":{\"colorbar\":{\"outlinewidth\":0,\"ticks\":\"\"}},\"type\":\"scatterternary\"}],\"surface\":[{\"colorbar\":{\"outlinewidth\":0,\"ticks\":\"\"},\"colorscale\":[[0.0,\"#0d0887\"],[0.1111111111111111,\"#46039f\"],[0.2222222222222222,\"#7201a8\"],[0.3333333333333333,\"#9c179e\"],[0.4444444444444444,\"#bd3786\"],[0.5555555555555556,\"#d8576b\"],[0.6666666666666666,\"#ed7953\"],[0.7777777777777778,\"#fb9f3a\"],[0.8888888888888888,\"#fdca26\"],[1.0,\"#f0f921\"]],\"type\":\"surface\"}],\"table\":[{\"cells\":{\"fill\":{\"color\":\"#EBF0F8\"},\"line\":{\"color\":\"white\"}},\"header\":{\"fill\":{\"color\":\"#C8D4E3\"},\"line\":{\"color\":\"white\"}},\"type\":\"table\"}]},\"layout\":{\"annotationdefaults\":{\"arrowcolor\":\"#2a3f5f\",\"arrowhead\":0,\"arrowwidth\":1},\"autotypenumbers\":\"strict\",\"coloraxis\":{\"colorbar\":{\"outlinewidth\":0,\"ticks\":\"\"}},\"colorscale\":{\"diverging\":[[0,\"#8e0152\"],[0.1,\"#c51b7d\"],[0.2,\"#de77ae\"],[0.3,\"#f1b6da\"],[0.4,\"#fde0ef\"],[0.5,\"#f7f7f7\"],[0.6,\"#e6f5d0\"],[0.7,\"#b8e186\"],[0.8,\"#7fbc41\"],[0.9,\"#4d9221\"],[1,\"#276419\"]],\"sequential\":[[0.0,\"#0d0887\"],[0.1111111111111111,\"#46039f\"],[0.2222222222222222,\"#7201a8\"],[0.3333333333333333,\"#9c179e\"],[0.4444444444444444,\"#bd3786\"],[0.5555555555555556,\"#d8576b\"],[0.6666666666666666,\"#ed7953\"],[0.7777777777777778,\"#fb9f3a\"],[0.8888888888888888,\"#fdca26\"],[1.0,\"#f0f921\"]],\"sequentialminus\":[[0.0,\"#0d0887\"],[0.1111111111111111,\"#46039f\"],[0.2222222222222222,\"#7201a8\"],[0.3333333333333333,\"#9c179e\"],[0.4444444444444444,\"#bd3786\"],[0.5555555555555556,\"#d8576b\"],[0.6666666666666666,\"#ed7953\"],[0.7777777777777778,\"#fb9f3a\"],[0.8888888888888888,\"#fdca26\"],[1.0,\"#f0f921\"]]},\"colorway\":[\"#636efa\",\"#EF553B\",\"#00cc96\",\"#ab63fa\",\"#FFA15A\",\"#19d3f3\",\"#FF6692\",\"#B6E880\",\"#FF97FF\",\"#FECB52\"],\"font\":{\"color\":\"#2a3f5f\"},\"geo\":{\"bgcolor\":\"white\",\"lakecolor\":\"white\",\"landcolor\":\"white\",\"showlakes\":true,\"showland\":true,\"subunitcolor\":\"#C8D4E3\"},\"hoverlabel\":{\"align\":\"left\"},\"hovermode\":\"closest\",\"mapbox\":{\"style\":\"light\"},\"paper_bgcolor\":\"white\",\"plot_bgcolor\":\"white\",\"polar\":{\"angularaxis\":{\"gridcolor\":\"#EBF0F8\",\"linecolor\":\"#EBF0F8\",\"ticks\":\"\"},\"bgcolor\":\"white\",\"radialaxis\":{\"gridcolor\":\"#EBF0F8\",\"linecolor\":\"#EBF0F8\",\"ticks\":\"\"}},\"scene\":{\"xaxis\":{\"backgroundcolor\":\"white\",\"gridcolor\":\"#DFE8F3\",\"gridwidth\":2,\"linecolor\":\"#EBF0F8\",\"showbackground\":true,\"ticks\":\"\",\"zerolinecolor\":\"#EBF0F8\"},\"yaxis\":{\"backgroundcolor\":\"white\",\"gridcolor\":\"#DFE8F3\",\"gridwidth\":2,\"linecolor\":\"#EBF0F8\",\"showbackground\":true,\"ticks\":\"\",\"zerolinecolor\":\"#EBF0F8\"},\"zaxis\":{\"backgroundcolor\":\"white\",\"gridcolor\":\"#DFE8F3\",\"gridwidth\":2,\"linecolor\":\"#EBF0F8\",\"showbackground\":true,\"ticks\":\"\",\"zerolinecolor\":\"#EBF0F8\"}},\"shapedefaults\":{\"line\":{\"color\":\"#2a3f5f\"}},\"ternary\":{\"aaxis\":{\"gridcolor\":\"#DFE8F3\",\"linecolor\":\"#A2B1C6\",\"ticks\":\"\"},\"baxis\":{\"gridcolor\":\"#DFE8F3\",\"linecolor\":\"#A2B1C6\",\"ticks\":\"\"},\"bgcolor\":\"white\",\"caxis\":{\"gridcolor\":\"#DFE8F3\",\"linecolor\":\"#A2B1C6\",\"ticks\":\"\"}},\"title\":{\"x\":0.05},\"xaxis\":{\"automargin\":true,\"gridcolor\":\"#EBF0F8\",\"linecolor\":\"#EBF0F8\",\"ticks\":\"\",\"title\":{\"standoff\":15},\"zerolinecolor\":\"#EBF0F8\",\"zerolinewidth\":2},\"yaxis\":{\"automargin\":true,\"gridcolor\":\"#EBF0F8\",\"linecolor\":\"#EBF0F8\",\"ticks\":\"\",\"title\":{\"standoff\":15},\"zerolinecolor\":\"#EBF0F8\",\"zerolinewidth\":2}}},\"xaxis\":{\"anchor\":\"y\",\"domain\":[0.0,1.0],\"title\":{\"text\":\"Day in August\"}},\"yaxis\":{\"anchor\":\"x\",\"domain\":[0.0,1.0],\"title\":{\"text\":\"Cyst Count\"}},\"legend\":{\"title\":{\"text\":\"Year\"},\"tracegroupgap\":0},\"margin\":{\"t\":60},\"barmode\":\"group\",\"height\":600,\"title\":{\"text\":\"Alexandrium Cyst Population Through August, 2018 vs. 2019\",\"x\":0.5},\"autosize\":false,\"width\":800},                        {\"responsive\": true}                    ).then(function(){\n",
       "                            \n",
       "var gd = document.getElementById('ac5f8d0e-edb1-4ed7-af9c-1ee903577427');\n",
       "var x = new MutationObserver(function (mutations, observer) {{\n",
       "        var display = window.getComputedStyle(gd).display;\n",
       "        if (!display || display === 'none') {{\n",
       "            console.log([gd, 'removed!']);\n",
       "            Plotly.purge(gd);\n",
       "            observer.disconnect();\n",
       "        }}\n",
       "}});\n",
       "\n",
       "// Listen for the removal of the full notebook cells\n",
       "var notebookContainer = gd.closest('#notebook-container');\n",
       "if (notebookContainer) {{\n",
       "    x.observe(notebookContainer, {childList: true});\n",
       "}}\n",
       "\n",
       "// Listen for the clearing of the current output cell\n",
       "var outputEl = gd.closest('.output');\n",
       "if (outputEl) {{\n",
       "    x.observe(outputEl, {childList: true});\n",
       "}}\n",
       "\n",
       "                        })                };                });            </script>        </div>"
      ]
     },
     "metadata": {},
     "output_type": "display_data"
    }
   ],
   "source": [
    "fig = px.histogram(DFAlexaugust, \n",
    "                   x=\"day\",\n",
    "                   y=\"ALEXANDRIUM_CYSTS_CC\",\n",
    "                   color='year',\n",
    "                   color_discrete_map={2018: '#80cdc1', \n",
    "                                       2019:'#7fbc41'},\n",
    "                   barmode = 'group',\n",
    "                   nbins = 40,\n",
    "             height=400)\n",
    "\n",
    "fig.update_layout(\n",
    "                  title='Alexandrium Cyst Population Through August, 2018 vs. 2019',\n",
    "                  title_x=0.5,\n",
    "                  yaxis_title=\"Cyst Count\",\n",
    "                  xaxis_title = 'Day in August',\n",
    "                  legend_title='Year',\n",
    "                  template = 'plotly_white',\n",
    "                autosize=False,\n",
    "                  width=800,\n",
    "                  height=600)\n",
    "fig.show()"
   ]
  },
  {
   "cell_type": "code",
   "execution_count": 865,
   "id": "6266d72a-be25-4b05-a03a-10de7c9fae64",
   "metadata": {},
   "outputs": [
    {
     "data": {
      "application/vnd.plotly.v1+json": {
       "config": {
        "plotlyServerURL": "https://plot.ly"
       },
       "data": [
        {
         "hovertemplate": "ALEXANDRIUM_CYSTS_CC=%{marker.color}<br>LAT=%{lat}<br>LON=%{lon}<extra></extra>",
         "lat": [
          71.5357,
          71.6498,
          71.7815,
          71.9082,
          72.1557,
          72.0308,
          62.0048,
          62.0442,
          62.392,
          62.5528,
          63.0345,
          64.6718,
          64.6718,
          64.68,
          64.6705,
          64.9598,
          64.9912,
          65.003,
          64.6728,
          64.6695,
          68.2462,
          68.1902,
          68.1357,
          68.0153,
          67.8968,
          67.7853,
          67.677,
          71.09,
          71.2238,
          71.3507,
          71.4805,
          71.6103,
          71.7755,
          71.2468,
          71.6262,
          71.2888,
          71.3262,
          71.3727,
          71.4095,
          71.4543,
          71.4953,
          71.5358,
          71.5835,
          69.9595,
          70.1705,
          69.584,
          69.785,
          73.137,
          72.898,
          73.0177,
          74.2867,
          74.1573,
          73.9707,
          73.7435,
          73.521,
          74.2202,
          64.6718,
          64.68,
          64.6705,
          64.9598,
          64.9912,
          68.3012,
          68.2462,
          68.1902,
          68.1357,
          68.0153,
          67.8968,
          67.7853,
          67.677,
          71.09,
          71.2238,
          71.3507,
          71.4805,
          71.6103,
          71.7755,
          71.2468,
          71.6262,
          71.2888,
          71.3262,
          71.3727,
          71.4095,
          71.4543,
          71.4953,
          71.5358,
          71.5835,
          71.8302,
          70.7172,
          70.58,
          71.7052,
          71.6005,
          71.4485,
          71.3367,
          71.195,
          71.0847,
          70.9725,
          70.849,
          70.0578,
          70.2598,
          69.4962,
          69.6832,
          69.879,
          72.422,
          66.417,
          67.1642,
          68.3012,
          68.0153,
          67.677,
          71.2468,
          71.3262,
          71.4095,
          71.4953,
          71.5835,
          71.1643,
          71.2483,
          71.3357,
          71.4203,
          70.2823,
          70.3712,
          70.555,
          69.8165,
          69.898,
          69.9393,
          69.9672,
          70.6915,
          70.7718,
          70.8975,
          71.0195,
          70.679,
          70.8157,
          70.9452,
          72.5013,
          72.7685,
          72.8968,
          71.0012,
          71.0008,
          71.0013,
          70.9993,
          70.0018,
          72.0012,
          71.0012,
          71.7542,
          71.7513,
          71.7552,
          71.7498,
          71.7513,
          71.751,
          71.7527,
          71.751,
          70.2527,
          70.2492,
          70.2483,
          70.2512,
          69.498,
          69.4998,
          69.4933,
          69.4988,
          68.762,
          68.7507,
          68.0038,
          68.0037,
          68.0032,
          67.626,
          67.2447,
          67.2512,
          67.2512,
          66.8738,
          66.4985,
          66.5017,
          61.0002,
          62.0012,
          62.0004,
          62.0009,
          63.0009,
          63.5008,
          62.5002,
          62.4996,
          64.0017,
          64.103,
          64.1001,
          64.1002,
          65.0024,
          65.3998,
          66.6004,
          66.5847,
          66.0985
         ],
         "legendgroup": "",
         "lon": [
          -154.0313,
          -153.8398,
          -153.63,
          -156.1932,
          -155.8478,
          -156.028,
          -175.0692,
          -175.2153,
          -174.5642,
          -173.5547,
          -173.4617,
          -170.646,
          -169.9258,
          -169.1002,
          -168.2342,
          -169.899,
          -169.146,
          -168.221,
          -166.9555,
          -167.597,
          -167.1255,
          -167.3027,
          -167.4915,
          -167.8798,
          -168.248,
          -168.601,
          -168.9568,
          -161.1928,
          -161.2893,
          -161.3958,
          -161.5048,
          -161.6152,
          -161.5865,
          -157.135,
          -157.9005,
          -157.2213,
          -157.3067,
          -157.3803,
          -157.4497,
          -157.5532,
          -157.6265,
          -157.7107,
          -157.8175,
          -167.2257,
          -168.1275,
          -165.7427,
          -166.452,
          -160.4497,
          -160.8428,
          -160.6458,
          -165.0048,
          -165.6782,
          -166.0023,
          -166.004,
          -166.0057,
          -165.3528,
          -169.9258,
          -169.1002,
          -168.2342,
          -169.899,
          -169.146,
          -166.9308,
          -167.1255,
          -167.3027,
          -167.4915,
          -167.8798,
          -168.248,
          -168.601,
          -168.9568,
          -161.1928,
          -161.2893,
          -161.3958,
          -161.5048,
          -161.6152,
          -161.5865,
          -157.135,
          -157.9005,
          -157.2213,
          -157.3067,
          -157.3803,
          -157.4497,
          -157.5532,
          -157.6265,
          -157.7107,
          -157.8175,
          -165.9698,
          -162.8565,
          -162.4912,
          -165.6028,
          -165.3038,
          -164.919,
          -164.6127,
          -164.2018,
          -163.8018,
          -163.5642,
          -163.1872,
          -167.6565,
          -168.5445,
          -165.3785,
          -166.0928,
          -166.8215,
          -156.5973,
          -168.6775,
          -168.6635,
          -166.9308,
          -167.8798,
          -168.9568,
          -157.135,
          -157.3067,
          -157.4497,
          -157.6265,
          -157.8175,
          -152.2553,
          -152.1717,
          -152.0955,
          -152.0388,
          -143.931,
          -143.7857,
          -143.6148,
          -139.61,
          -139.4923,
          -139.3863,
          -139.2998,
          -148.4433,
          -148.3257,
          -148.1432,
          -147.976,
          -148.9078,
          -148.8385,
          -148.7758,
          -161.9077,
          -159.6353,
          -159.3407,
          -157.8018,
          -159.293,
          -160.787,
          -162.3932,
          -163.9033,
          -165.4027,
          -167.0043,
          -168.4888,
          -166.8912,
          -165.3115,
          -163.6947,
          -161.9925,
          -160.4003,
          -158.7978,
          -157.201,
          -164.0913,
          -165.489,
          -166.9972,
          -168.4993,
          -168.4648,
          -167.0965,
          -165.7422,
          -164.2078,
          -167.0882,
          -168.4953,
          -168.531,
          -167.2093,
          -165.7928,
          -165.0023,
          -168.4968,
          -167.2085,
          -164.7093,
          -164.9963,
          -166.02,
          -167.2448,
          -168.0006,
          -166.9988,
          -170.0036,
          -170.999,
          -165.9978,
          -166.9964,
          -167.9981,
          -170.0007,
          -167.001,
          -162.5062,
          -163.5003,
          -164.5049,
          -167.501,
          -167.9989,
          -165.8325,
          -167.0013,
          -167.4204
         ],
         "marker": {
          "color": [
           1272,
           14852,
           2433,
           515,
           160,
           7767,
           34,
           41,
           29,
           0,
           0,
           777,
           354,
           267,
           63,
           359,
           238,
           34,
           0,
           0,
           1830,
           738,
           966,
           442,
           177,
           122,
           82,
           53,
           251,
           14,
           0,
           163,
           82,
           621,
           353,
           519,
           534,
           422,
           503,
           618,
           437,
           95,
           155,
           925,
           2112,
           17602,
           3340,
           34,
           102,
           277,
           97,
           0,
           19,
           150,
           534,
           24,
           350,
           44,
           44,
           325,
           63,
           1112,
           1233,
           879,
           1053,
           2684,
           117,
           49,
           210,
           107,
           175,
           35,
           112,
           12,
           44,
           134,
           107,
           1159,
           1927,
           820,
           699,
           1432,
           820,
           126,
           257,
           693,
           883,
           209,
           384,
           131,
           350,
           151,
           250,
           192,
           383,
           456,
           7063,
           1733,
           1505,
           11313,
           2534,
           68,
           92,
           99,
           712,
           447,
           122,
           297,
           238,
           680,
           405,
           500,
           27,
           34,
           48,
           48,
           0,
           0,
           5,
           0,
           0,
           0,
           0,
           0,
           5,
           5,
           0,
           0,
           0,
           5,
           517,
           92,
           58,
           211,
           291,
           24,
           350,
           502,
           257,
           670,
           2335,
           153,
           58,
           238,
           141,
           83,
           73,
           668,
           524,
           961,
           1262,
           299,
           6068,
           9806,
           9078,
           461,
           4951,
           5680,
           66,
           456,
           655,
           650,
           22,
           2301,
           218,
           961,
           41,
           313,
           0,
           36,
           36,
           7,
           0,
           7,
           10,
           5,
           240,
           0,
           0,
           0,
           5,
           29,
           19,
           248,
           36
          ],
          "coloraxis": "coloraxis",
          "size": [
           1272,
           14852,
           2433,
           515,
           160,
           7767,
           34,
           41,
           29,
           0,
           0,
           777,
           354,
           267,
           63,
           359,
           238,
           34,
           0,
           0,
           1830,
           738,
           966,
           442,
           177,
           122,
           82,
           53,
           251,
           14,
           0,
           163,
           82,
           621,
           353,
           519,
           534,
           422,
           503,
           618,
           437,
           95,
           155,
           925,
           2112,
           17602,
           3340,
           34,
           102,
           277,
           97,
           0,
           19,
           150,
           534,
           24,
           350,
           44,
           44,
           325,
           63,
           1112,
           1233,
           879,
           1053,
           2684,
           117,
           49,
           210,
           107,
           175,
           35,
           112,
           12,
           44,
           134,
           107,
           1159,
           1927,
           820,
           699,
           1432,
           820,
           126,
           257,
           693,
           883,
           209,
           384,
           131,
           350,
           151,
           250,
           192,
           383,
           456,
           7063,
           1733,
           1505,
           11313,
           2534,
           68,
           92,
           99,
           712,
           447,
           122,
           297,
           238,
           680,
           405,
           500,
           27,
           34,
           48,
           48,
           0,
           0,
           5,
           0,
           0,
           0,
           0,
           0,
           5,
           5,
           0,
           0,
           0,
           5,
           517,
           92,
           58,
           211,
           291,
           24,
           350,
           502,
           257,
           670,
           2335,
           153,
           58,
           238,
           141,
           83,
           73,
           668,
           524,
           961,
           1262,
           299,
           6068,
           9806,
           9078,
           461,
           4951,
           5680,
           66,
           456,
           655,
           650,
           22,
           2301,
           218,
           961,
           41,
           313,
           0,
           36,
           36,
           7,
           0,
           7,
           10,
           5,
           240,
           0,
           0,
           0,
           5,
           29,
           19,
           248,
           36
          ],
          "sizemode": "area",
          "sizeref": 78.2311111111111
         },
         "mode": "markers",
         "name": "",
         "showlegend": false,
         "subplot": "map",
         "type": "scattermap"
        }
       ],
       "layout": {
        "autosize": true,
        "coloraxis": {
         "cmax": 7000,
         "cmin": 100,
         "colorbar": {
          "title": {
           "text": "ALEXANDRIUM_CYSTS_CC"
          }
         },
         "colorscale": [
          [
           0,
           "rgb(254, 252, 205)"
          ],
          [
           0.09090909090909091,
           "rgb(239, 225, 156)"
          ],
          [
           0.18181818181818182,
           "rgb(221, 201, 106)"
          ],
          [
           0.2727272727272727,
           "rgb(194, 182, 59)"
          ],
          [
           0.36363636363636365,
           "rgb(157, 167, 21)"
          ],
          [
           0.45454545454545453,
           "rgb(116, 153, 5)"
          ],
          [
           0.5454545454545454,
           "rgb(75, 138, 20)"
          ],
          [
           0.6363636363636364,
           "rgb(35, 121, 36)"
          ],
          [
           0.7272727272727273,
           "rgb(11, 100, 44)"
          ],
          [
           0.8181818181818182,
           "rgb(18, 78, 43)"
          ],
          [
           0.9090909090909091,
           "rgb(25, 56, 34)"
          ],
          [
           1,
           "rgb(23, 35, 18)"
          ]
         ]
        },
        "legend": {
         "itemsizing": "constant",
         "tracegroupgap": 0
        },
        "map": {
         "center": {
          "lat": 69.26193135135135,
          "lon": -162
         },
         "domain": {
          "x": [
           0,
           1
          ],
          "y": [
           0,
           1
          ]
         },
         "style": "light",
         "zoom": 3.5
        },
        "mapbox": {
         "center": {
          "lat": 69.26193135135135,
          "lon": -162.5488664864865
         },
         "zoom": 3.5
        },
        "margin": {
         "t": 60
        },
        "template": {
         "data": {
          "bar": [
           {
            "error_x": {
             "color": "#2a3f5f"
            },
            "error_y": {
             "color": "#2a3f5f"
            },
            "marker": {
             "line": {
              "color": "#E5ECF6",
              "width": 0.5
             },
             "pattern": {
              "fillmode": "overlay",
              "size": 10,
              "solidity": 0.2
             }
            },
            "type": "bar"
           }
          ],
          "barpolar": [
           {
            "marker": {
             "line": {
              "color": "#E5ECF6",
              "width": 0.5
             },
             "pattern": {
              "fillmode": "overlay",
              "size": 10,
              "solidity": 0.2
             }
            },
            "type": "barpolar"
           }
          ],
          "carpet": [
           {
            "aaxis": {
             "endlinecolor": "#2a3f5f",
             "gridcolor": "white",
             "linecolor": "white",
             "minorgridcolor": "white",
             "startlinecolor": "#2a3f5f"
            },
            "baxis": {
             "endlinecolor": "#2a3f5f",
             "gridcolor": "white",
             "linecolor": "white",
             "minorgridcolor": "white",
             "startlinecolor": "#2a3f5f"
            },
            "type": "carpet"
           }
          ],
          "choropleth": [
           {
            "colorbar": {
             "outlinewidth": 0,
             "ticks": ""
            },
            "type": "choropleth"
           }
          ],
          "contour": [
           {
            "colorbar": {
             "outlinewidth": 0,
             "ticks": ""
            },
            "colorscale": [
             [
              0,
              "#0d0887"
             ],
             [
              0.1111111111111111,
              "#46039f"
             ],
             [
              0.2222222222222222,
              "#7201a8"
             ],
             [
              0.3333333333333333,
              "#9c179e"
             ],
             [
              0.4444444444444444,
              "#bd3786"
             ],
             [
              0.5555555555555556,
              "#d8576b"
             ],
             [
              0.6666666666666666,
              "#ed7953"
             ],
             [
              0.7777777777777778,
              "#fb9f3a"
             ],
             [
              0.8888888888888888,
              "#fdca26"
             ],
             [
              1,
              "#f0f921"
             ]
            ],
            "type": "contour"
           }
          ],
          "contourcarpet": [
           {
            "colorbar": {
             "outlinewidth": 0,
             "ticks": ""
            },
            "type": "contourcarpet"
           }
          ],
          "heatmap": [
           {
            "colorbar": {
             "outlinewidth": 0,
             "ticks": ""
            },
            "colorscale": [
             [
              0,
              "#0d0887"
             ],
             [
              0.1111111111111111,
              "#46039f"
             ],
             [
              0.2222222222222222,
              "#7201a8"
             ],
             [
              0.3333333333333333,
              "#9c179e"
             ],
             [
              0.4444444444444444,
              "#bd3786"
             ],
             [
              0.5555555555555556,
              "#d8576b"
             ],
             [
              0.6666666666666666,
              "#ed7953"
             ],
             [
              0.7777777777777778,
              "#fb9f3a"
             ],
             [
              0.8888888888888888,
              "#fdca26"
             ],
             [
              1,
              "#f0f921"
             ]
            ],
            "type": "heatmap"
           }
          ],
          "heatmapgl": [
           {
            "colorbar": {
             "outlinewidth": 0,
             "ticks": ""
            },
            "colorscale": [
             [
              0,
              "#0d0887"
             ],
             [
              0.1111111111111111,
              "#46039f"
             ],
             [
              0.2222222222222222,
              "#7201a8"
             ],
             [
              0.3333333333333333,
              "#9c179e"
             ],
             [
              0.4444444444444444,
              "#bd3786"
             ],
             [
              0.5555555555555556,
              "#d8576b"
             ],
             [
              0.6666666666666666,
              "#ed7953"
             ],
             [
              0.7777777777777778,
              "#fb9f3a"
             ],
             [
              0.8888888888888888,
              "#fdca26"
             ],
             [
              1,
              "#f0f921"
             ]
            ],
            "type": "heatmapgl"
           }
          ],
          "histogram": [
           {
            "marker": {
             "pattern": {
              "fillmode": "overlay",
              "size": 10,
              "solidity": 0.2
             }
            },
            "type": "histogram"
           }
          ],
          "histogram2d": [
           {
            "colorbar": {
             "outlinewidth": 0,
             "ticks": ""
            },
            "colorscale": [
             [
              0,
              "#0d0887"
             ],
             [
              0.1111111111111111,
              "#46039f"
             ],
             [
              0.2222222222222222,
              "#7201a8"
             ],
             [
              0.3333333333333333,
              "#9c179e"
             ],
             [
              0.4444444444444444,
              "#bd3786"
             ],
             [
              0.5555555555555556,
              "#d8576b"
             ],
             [
              0.6666666666666666,
              "#ed7953"
             ],
             [
              0.7777777777777778,
              "#fb9f3a"
             ],
             [
              0.8888888888888888,
              "#fdca26"
             ],
             [
              1,
              "#f0f921"
             ]
            ],
            "type": "histogram2d"
           }
          ],
          "histogram2dcontour": [
           {
            "colorbar": {
             "outlinewidth": 0,
             "ticks": ""
            },
            "colorscale": [
             [
              0,
              "#0d0887"
             ],
             [
              0.1111111111111111,
              "#46039f"
             ],
             [
              0.2222222222222222,
              "#7201a8"
             ],
             [
              0.3333333333333333,
              "#9c179e"
             ],
             [
              0.4444444444444444,
              "#bd3786"
             ],
             [
              0.5555555555555556,
              "#d8576b"
             ],
             [
              0.6666666666666666,
              "#ed7953"
             ],
             [
              0.7777777777777778,
              "#fb9f3a"
             ],
             [
              0.8888888888888888,
              "#fdca26"
             ],
             [
              1,
              "#f0f921"
             ]
            ],
            "type": "histogram2dcontour"
           }
          ],
          "mesh3d": [
           {
            "colorbar": {
             "outlinewidth": 0,
             "ticks": ""
            },
            "type": "mesh3d"
           }
          ],
          "parcoords": [
           {
            "line": {
             "colorbar": {
              "outlinewidth": 0,
              "ticks": ""
             }
            },
            "type": "parcoords"
           }
          ],
          "pie": [
           {
            "automargin": true,
            "type": "pie"
           }
          ],
          "scatter": [
           {
            "fillpattern": {
             "fillmode": "overlay",
             "size": 10,
             "solidity": 0.2
            },
            "type": "scatter"
           }
          ],
          "scatter3d": [
           {
            "line": {
             "colorbar": {
              "outlinewidth": 0,
              "ticks": ""
             }
            },
            "marker": {
             "colorbar": {
              "outlinewidth": 0,
              "ticks": ""
             }
            },
            "type": "scatter3d"
           }
          ],
          "scattercarpet": [
           {
            "marker": {
             "colorbar": {
              "outlinewidth": 0,
              "ticks": ""
             }
            },
            "type": "scattercarpet"
           }
          ],
          "scattergeo": [
           {
            "marker": {
             "colorbar": {
              "outlinewidth": 0,
              "ticks": ""
             }
            },
            "type": "scattergeo"
           }
          ],
          "scattergl": [
           {
            "marker": {
             "colorbar": {
              "outlinewidth": 0,
              "ticks": ""
             }
            },
            "type": "scattergl"
           }
          ],
          "scattermapbox": [
           {
            "marker": {
             "colorbar": {
              "outlinewidth": 0,
              "ticks": ""
             }
            },
            "type": "scattermapbox"
           }
          ],
          "scatterpolar": [
           {
            "marker": {
             "colorbar": {
              "outlinewidth": 0,
              "ticks": ""
             }
            },
            "type": "scatterpolar"
           }
          ],
          "scatterpolargl": [
           {
            "marker": {
             "colorbar": {
              "outlinewidth": 0,
              "ticks": ""
             }
            },
            "type": "scatterpolargl"
           }
          ],
          "scatterternary": [
           {
            "marker": {
             "colorbar": {
              "outlinewidth": 0,
              "ticks": ""
             }
            },
            "type": "scatterternary"
           }
          ],
          "surface": [
           {
            "colorbar": {
             "outlinewidth": 0,
             "ticks": ""
            },
            "colorscale": [
             [
              0,
              "#0d0887"
             ],
             [
              0.1111111111111111,
              "#46039f"
             ],
             [
              0.2222222222222222,
              "#7201a8"
             ],
             [
              0.3333333333333333,
              "#9c179e"
             ],
             [
              0.4444444444444444,
              "#bd3786"
             ],
             [
              0.5555555555555556,
              "#d8576b"
             ],
             [
              0.6666666666666666,
              "#ed7953"
             ],
             [
              0.7777777777777778,
              "#fb9f3a"
             ],
             [
              0.8888888888888888,
              "#fdca26"
             ],
             [
              1,
              "#f0f921"
             ]
            ],
            "type": "surface"
           }
          ],
          "table": [
           {
            "cells": {
             "fill": {
              "color": "#EBF0F8"
             },
             "line": {
              "color": "white"
             }
            },
            "header": {
             "fill": {
              "color": "#C8D4E3"
             },
             "line": {
              "color": "white"
             }
            },
            "type": "table"
           }
          ]
         },
         "layout": {
          "annotationdefaults": {
           "arrowcolor": "#2a3f5f",
           "arrowhead": 0,
           "arrowwidth": 1
          },
          "autotypenumbers": "strict",
          "coloraxis": {
           "colorbar": {
            "outlinewidth": 0,
            "ticks": ""
           }
          },
          "colorscale": {
           "diverging": [
            [
             0,
             "#8e0152"
            ],
            [
             0.1,
             "#c51b7d"
            ],
            [
             0.2,
             "#de77ae"
            ],
            [
             0.3,
             "#f1b6da"
            ],
            [
             0.4,
             "#fde0ef"
            ],
            [
             0.5,
             "#f7f7f7"
            ],
            [
             0.6,
             "#e6f5d0"
            ],
            [
             0.7,
             "#b8e186"
            ],
            [
             0.8,
             "#7fbc41"
            ],
            [
             0.9,
             "#4d9221"
            ],
            [
             1,
             "#276419"
            ]
           ],
           "sequential": [
            [
             0,
             "#0d0887"
            ],
            [
             0.1111111111111111,
             "#46039f"
            ],
            [
             0.2222222222222222,
             "#7201a8"
            ],
            [
             0.3333333333333333,
             "#9c179e"
            ],
            [
             0.4444444444444444,
             "#bd3786"
            ],
            [
             0.5555555555555556,
             "#d8576b"
            ],
            [
             0.6666666666666666,
             "#ed7953"
            ],
            [
             0.7777777777777778,
             "#fb9f3a"
            ],
            [
             0.8888888888888888,
             "#fdca26"
            ],
            [
             1,
             "#f0f921"
            ]
           ],
           "sequentialminus": [
            [
             0,
             "#0d0887"
            ],
            [
             0.1111111111111111,
             "#46039f"
            ],
            [
             0.2222222222222222,
             "#7201a8"
            ],
            [
             0.3333333333333333,
             "#9c179e"
            ],
            [
             0.4444444444444444,
             "#bd3786"
            ],
            [
             0.5555555555555556,
             "#d8576b"
            ],
            [
             0.6666666666666666,
             "#ed7953"
            ],
            [
             0.7777777777777778,
             "#fb9f3a"
            ],
            [
             0.8888888888888888,
             "#fdca26"
            ],
            [
             1,
             "#f0f921"
            ]
           ]
          },
          "colorway": [
           "#636efa",
           "#EF553B",
           "#00cc96",
           "#ab63fa",
           "#FFA15A",
           "#19d3f3",
           "#FF6692",
           "#B6E880",
           "#FF97FF",
           "#FECB52"
          ],
          "font": {
           "color": "#2a3f5f"
          },
          "geo": {
           "bgcolor": "white",
           "lakecolor": "white",
           "landcolor": "#E5ECF6",
           "showlakes": true,
           "showland": true,
           "subunitcolor": "white"
          },
          "hoverlabel": {
           "align": "left"
          },
          "hovermode": "closest",
          "mapbox": {
           "style": "light"
          },
          "paper_bgcolor": "white",
          "plot_bgcolor": "#E5ECF6",
          "polar": {
           "angularaxis": {
            "gridcolor": "white",
            "linecolor": "white",
            "ticks": ""
           },
           "bgcolor": "#E5ECF6",
           "radialaxis": {
            "gridcolor": "white",
            "linecolor": "white",
            "ticks": ""
           }
          },
          "scene": {
           "xaxis": {
            "backgroundcolor": "#E5ECF6",
            "gridcolor": "white",
            "gridwidth": 2,
            "linecolor": "white",
            "showbackground": true,
            "ticks": "",
            "zerolinecolor": "white"
           },
           "yaxis": {
            "backgroundcolor": "#E5ECF6",
            "gridcolor": "white",
            "gridwidth": 2,
            "linecolor": "white",
            "showbackground": true,
            "ticks": "",
            "zerolinecolor": "white"
           },
           "zaxis": {
            "backgroundcolor": "#E5ECF6",
            "gridcolor": "white",
            "gridwidth": 2,
            "linecolor": "white",
            "showbackground": true,
            "ticks": "",
            "zerolinecolor": "white"
           }
          },
          "shapedefaults": {
           "line": {
            "color": "#2a3f5f"
           }
          },
          "ternary": {
           "aaxis": {
            "gridcolor": "white",
            "linecolor": "white",
            "ticks": ""
           },
           "baxis": {
            "gridcolor": "white",
            "linecolor": "white",
            "ticks": ""
           },
           "bgcolor": "#E5ECF6",
           "caxis": {
            "gridcolor": "white",
            "linecolor": "white",
            "ticks": ""
           }
          },
          "title": {
           "x": 0.05
          },
          "xaxis": {
           "automargin": true,
           "gridcolor": "white",
           "linecolor": "white",
           "ticks": "",
           "title": {
            "standoff": 15
           },
           "zerolinecolor": "white",
           "zerolinewidth": 2
          },
          "yaxis": {
           "automargin": true,
           "gridcolor": "white",
           "linecolor": "white",
           "ticks": "",
           "title": {
            "standoff": 15
           },
           "zerolinecolor": "white",
           "zerolinewidth": 2
          }
         }
        },
        "title": {
         "text": "Concentration of Alexandrium Cysts (Cubic Cm) in Northwestern Alaska"
        }
       }
      },
      "image/png": "[encoded data removed]",
      "text/html": [
       "<div>                            <div id=\"77e8b5b2-f99f-427f-9a1a-42f9338dd1df\" class=\"plotly-graph-div\" style=\"height:500px; width:100%;\"></div>            <script type=\"text/javascript\">                require([\"plotly\"], function(Plotly) {                    window.PLOTLYENV=window.PLOTLYENV || {};                                    if (document.getElementById(\"77e8b5b2-f99f-427f-9a1a-42f9338dd1df\")) {                    Plotly.newPlot(                        \"77e8b5b2-f99f-427f-9a1a-42f9338dd1df\",                        [{\"hovertemplate\":\"ALEXANDRIUM_CYSTS_CC=%{marker.color}\\u003cbr\\u003eLAT=%{lat}\\u003cbr\\u003eLON=%{lon}\\u003cextra\\u003e\\u003c\\u002fextra\\u003e\",\"lat\":[71.5357,71.6498,71.7815,71.9082,72.1557,72.0308,62.0048,62.0442,62.392,62.5528,63.0345,64.6718,64.6718,64.68,64.6705,64.9598,64.9912,65.003,64.6728,64.6695,68.2462,68.1902,68.1357,68.0153,67.8968,67.7853,67.677,71.09,71.2238,71.3507,71.4805,71.6103,71.7755,71.2468,71.6262,71.2888,71.3262,71.3727,71.4095,71.4543,71.4953,71.5358,71.5835,69.9595,70.1705,69.584,69.785,73.137,72.898,73.0177,74.2867,74.1573,73.9707,73.7435,73.521,74.2202,64.6718,64.68,64.6705,64.9598,64.9912,68.3012,68.2462,68.1902,68.1357,68.0153,67.8968,67.7853,67.677,71.09,71.2238,71.3507,71.4805,71.6103,71.7755,71.2468,71.6262,71.2888,71.3262,71.3727,71.4095,71.4543,71.4953,71.5358,71.5835,71.8302,70.7172,70.58,71.7052,71.6005,71.4485,71.3367,71.195,71.0847,70.9725,70.849,70.0578,70.2598,69.4962,69.6832,69.879,72.422,66.417,67.1642,68.3012,68.0153,67.677,71.2468,71.3262,71.4095,71.4953,71.5835,71.1643,71.2483,71.3357,71.4203,70.2823,70.3712,70.555,69.8165,69.898,69.9393,69.9672,70.6915,70.7718,70.8975,71.0195,70.679,70.8157,70.9452,72.5013,72.7685,72.8968,71.0012,71.0008,71.0013,70.9993,70.0018,72.0012,71.0012,71.7542,71.7513,71.7552,71.7498,71.7513,71.751,71.7527,71.751,70.2527,70.2492,70.2483,70.2512,69.498,69.4998,69.4933,69.4988,68.762,68.7507,68.0038,68.0037,68.0032,67.626,67.2447,67.2512,67.2512,66.8738,66.4985,66.5017,61.0002,62.0012,62.0004,62.0009,63.0009,63.5008,62.5002,62.4996,64.0017,64.103,64.1001,64.1002,65.0024,65.3998,66.6004,66.5847,66.0985],\"legendgroup\":\"\",\"lon\":[-154.0313,-153.8398,-153.63,-156.1932,-155.8478,-156.028,-175.0692,-175.2153,-174.5642,-173.5547,-173.4617,-170.646,-169.9258,-169.1002,-168.2342,-169.899,-169.146,-168.221,-166.9555,-167.597,-167.1255,-167.3027,-167.4915,-167.8798,-168.248,-168.601,-168.9568,-161.1928,-161.2893,-161.3958,-161.5048,-161.6152,-161.5865,-157.135,-157.9005,-157.2213,-157.3067,-157.3803,-157.4497,-157.5532,-157.6265,-157.7107,-157.8175,-167.2257,-168.1275,-165.7427,-166.452,-160.4497,-160.8428,-160.6458,-165.0048,-165.6782,-166.0023,-166.004,-166.0057,-165.3528,-169.9258,-169.1002,-168.2342,-169.899,-169.146,-166.9308,-167.1255,-167.3027,-167.4915,-167.8798,-168.248,-168.601,-168.9568,-161.1928,-161.2893,-161.3958,-161.5048,-161.6152,-161.5865,-157.135,-157.9005,-157.2213,-157.3067,-157.3803,-157.4497,-157.5532,-157.6265,-157.7107,-157.8175,-165.9698,-162.8565,-162.4912,-165.6028,-165.3038,-164.919,-164.6127,-164.2018,-163.8018,-163.5642,-163.1872,-167.6565,-168.5445,-165.3785,-166.0928,-166.8215,-156.5973,-168.6775,-168.6635,-166.9308,-167.8798,-168.9568,-157.135,-157.3067,-157.4497,-157.6265,-157.8175,-152.2553,-152.1717,-152.0955,-152.0388,-143.931,-143.7857,-143.6148,-139.61,-139.4923,-139.3863,-139.2998,-148.4433,-148.3257,-148.1432,-147.976,-148.9078,-148.8385,-148.7758,-161.9077,-159.6353,-159.3407,-157.8018,-159.293,-160.787,-162.3932,-163.9033,-165.4027,-167.0043,-168.4888,-166.8912,-165.3115,-163.6947,-161.9925,-160.4003,-158.7978,-157.201,-164.0913,-165.489,-166.9972,-168.4993,-168.4648,-167.0965,-165.7422,-164.2078,-167.0882,-168.4953,-168.531,-167.2093,-165.7928,-165.0023,-168.4968,-167.2085,-164.7093,-164.9963,-166.02,-167.2448,-168.0006,-166.9988,-170.0036,-170.999,-165.9978,-166.9964,-167.9981,-170.0007,-167.001,-162.5062,-163.5003,-164.5049,-167.501,-167.9989,-165.8325,-167.0013,-167.4204],\"marker\":{\"color\":[1272,14852,2433,515,160,7767,34,41,29,0,0,777,354,267,63,359,238,34,0,0,1830,738,966,442,177,122,82,53,251,14,0,163,82,621,353,519,534,422,503,618,437,95,155,925,2112,17602,3340,34,102,277,97,0,19,150,534,24,350,44,44,325,63,1112,1233,879,1053,2684,117,49,210,107,175,35,112,12,44,134,107,1159,1927,820,699,1432,820,126,257,693,883,209,384,131,350,151,250,192,383,456,7063,1733,1505,11313,2534,68,92,99,712,447,122,297,238,680,405,500,27,34,48,48,0,0,5,0,0,0,0,0,5,5,0,0,0,5,517,92,58,211,291,24,350,502,257,670,2335,153,58,238,141,83,73,668,524,961,1262,299,6068,9806,9078,461,4951,5680,66,456,655,650,22,2301,218,961,41,313,0,36,36,7,0,7,10,5,240,0,0,0,5,29,19,248,36],\"coloraxis\":\"coloraxis\",\"size\":[1272,14852,2433,515,160,7767,34,41,29,0,0,777,354,267,63,359,238,34,0,0,1830,738,966,442,177,122,82,53,251,14,0,163,82,621,353,519,534,422,503,618,437,95,155,925,2112,17602,3340,34,102,277,97,0,19,150,534,24,350,44,44,325,63,1112,1233,879,1053,2684,117,49,210,107,175,35,112,12,44,134,107,1159,1927,820,699,1432,820,126,257,693,883,209,384,131,350,151,250,192,383,456,7063,1733,1505,11313,2534,68,92,99,712,447,122,297,238,680,405,500,27,34,48,48,0,0,5,0,0,0,0,0,5,5,0,0,0,5,517,92,58,211,291,24,350,502,257,670,2335,153,58,238,141,83,73,668,524,961,1262,299,6068,9806,9078,461,4951,5680,66,456,655,650,22,2301,218,961,41,313,0,36,36,7,0,7,10,5,240,0,0,0,5,29,19,248,36],\"sizemode\":\"area\",\"sizeref\":78.2311111111111},\"mode\":\"markers\",\"name\":\"\",\"showlegend\":false,\"subplot\":\"map\",\"type\":\"scattermap\"}],                        {\"template\":{\"data\":{\"histogram2dcontour\":[{\"type\":\"histogram2dcontour\",\"colorbar\":{\"outlinewidth\":0,\"ticks\":\"\"},\"colorscale\":[[0.0,\"#0d0887\"],[0.1111111111111111,\"#46039f\"],[0.2222222222222222,\"#7201a8\"],[0.3333333333333333,\"#9c179e\"],[0.4444444444444444,\"#bd3786\"],[0.5555555555555556,\"#d8576b\"],[0.6666666666666666,\"#ed7953\"],[0.7777777777777778,\"#fb9f3a\"],[0.8888888888888888,\"#fdca26\"],[1.0,\"#f0f921\"]]}],\"choropleth\":[{\"type\":\"choropleth\",\"colorbar\":{\"outlinewidth\":0,\"ticks\":\"\"}}],\"histogram2d\":[{\"type\":\"histogram2d\",\"colorbar\":{\"outlinewidth\":0,\"ticks\":\"\"},\"colorscale\":[[0.0,\"#0d0887\"],[0.1111111111111111,\"#46039f\"],[0.2222222222222222,\"#7201a8\"],[0.3333333333333333,\"#9c179e\"],[0.4444444444444444,\"#bd3786\"],[0.5555555555555556,\"#d8576b\"],[0.6666666666666666,\"#ed7953\"],[0.7777777777777778,\"#fb9f3a\"],[0.8888888888888888,\"#fdca26\"],[1.0,\"#f0f921\"]]}],\"heatmap\":[{\"type\":\"heatmap\",\"colorbar\":{\"outlinewidth\":0,\"ticks\":\"\"},\"colorscale\":[[0.0,\"#0d0887\"],[0.1111111111111111,\"#46039f\"],[0.2222222222222222,\"#7201a8\"],[0.3333333333333333,\"#9c179e\"],[0.4444444444444444,\"#bd3786\"],[0.5555555555555556,\"#d8576b\"],[0.6666666666666666,\"#ed7953\"],[0.7777777777777778,\"#fb9f3a\"],[0.8888888888888888,\"#fdca26\"],[1.0,\"#f0f921\"]]}],\"heatmapgl\":[{\"type\":\"heatmapgl\",\"colorbar\":{\"outlinewidth\":0,\"ticks\":\"\"},\"colorscale\":[[0.0,\"#0d0887\"],[0.1111111111111111,\"#46039f\"],[0.2222222222222222,\"#7201a8\"],[0.3333333333333333,\"#9c179e\"],[0.4444444444444444,\"#bd3786\"],[0.5555555555555556,\"#d8576b\"],[0.6666666666666666,\"#ed7953\"],[0.7777777777777778,\"#fb9f3a\"],[0.8888888888888888,\"#fdca26\"],[1.0,\"#f0f921\"]]}],\"contourcarpet\":[{\"type\":\"contourcarpet\",\"colorbar\":{\"outlinewidth\":0,\"ticks\":\"\"}}],\"contour\":[{\"type\":\"contour\",\"colorbar\":{\"outlinewidth\":0,\"ticks\":\"\"},\"colorscale\":[[0.0,\"#0d0887\"],[0.1111111111111111,\"#46039f\"],[0.2222222222222222,\"#7201a8\"],[0.3333333333333333,\"#9c179e\"],[0.4444444444444444,\"#bd3786\"],[0.5555555555555556,\"#d8576b\"],[0.6666666666666666,\"#ed7953\"],[0.7777777777777778,\"#fb9f3a\"],[0.8888888888888888,\"#fdca26\"],[1.0,\"#f0f921\"]]}],\"surface\":[{\"type\":\"surface\",\"colorbar\":{\"outlinewidth\":0,\"ticks\":\"\"},\"colorscale\":[[0.0,\"#0d0887\"],[0.1111111111111111,\"#46039f\"],[0.2222222222222222,\"#7201a8\"],[0.3333333333333333,\"#9c179e\"],[0.4444444444444444,\"#bd3786\"],[0.5555555555555556,\"#d8576b\"],[0.6666666666666666,\"#ed7953\"],[0.7777777777777778,\"#fb9f3a\"],[0.8888888888888888,\"#fdca26\"],[1.0,\"#f0f921\"]]}],\"mesh3d\":[{\"type\":\"mesh3d\",\"colorbar\":{\"outlinewidth\":0,\"ticks\":\"\"}}],\"scatter\":[{\"fillpattern\":{\"fillmode\":\"overlay\",\"size\":10,\"solidity\":0.2},\"type\":\"scatter\"}],\"parcoords\":[{\"type\":\"parcoords\",\"line\":{\"colorbar\":{\"outlinewidth\":0,\"ticks\":\"\"}}}],\"scatterpolargl\":[{\"type\":\"scatterpolargl\",\"marker\":{\"colorbar\":{\"outlinewidth\":0,\"ticks\":\"\"}}}],\"bar\":[{\"error_x\":{\"color\":\"#2a3f5f\"},\"error_y\":{\"color\":\"#2a3f5f\"},\"marker\":{\"line\":{\"color\":\"#E5ECF6\",\"width\":0.5},\"pattern\":{\"fillmode\":\"overlay\",\"size\":10,\"solidity\":0.2}},\"type\":\"bar\"}],\"scattergeo\":[{\"type\":\"scattergeo\",\"marker\":{\"colorbar\":{\"outlinewidth\":0,\"ticks\":\"\"}}}],\"scatterpolar\":[{\"type\":\"scatterpolar\",\"marker\":{\"colorbar\":{\"outlinewidth\":0,\"ticks\":\"\"}}}],\"histogram\":[{\"marker\":{\"pattern\":{\"fillmode\":\"overlay\",\"size\":10,\"solidity\":0.2}},\"type\":\"histogram\"}],\"scattergl\":[{\"type\":\"scattergl\",\"marker\":{\"colorbar\":{\"outlinewidth\":0,\"ticks\":\"\"}}}],\"scatter3d\":[{\"type\":\"scatter3d\",\"line\":{\"colorbar\":{\"outlinewidth\":0,\"ticks\":\"\"}},\"marker\":{\"colorbar\":{\"outlinewidth\":0,\"ticks\":\"\"}}}],\"scattermapbox\":[{\"type\":\"scattermapbox\",\"marker\":{\"colorbar\":{\"outlinewidth\":0,\"ticks\":\"\"}}}],\"scatterternary\":[{\"type\":\"scatterternary\",\"marker\":{\"colorbar\":{\"outlinewidth\":0,\"ticks\":\"\"}}}],\"scattercarpet\":[{\"type\":\"scattercarpet\",\"marker\":{\"colorbar\":{\"outlinewidth\":0,\"ticks\":\"\"}}}],\"carpet\":[{\"aaxis\":{\"endlinecolor\":\"#2a3f5f\",\"gridcolor\":\"white\",\"linecolor\":\"white\",\"minorgridcolor\":\"white\",\"startlinecolor\":\"#2a3f5f\"},\"baxis\":{\"endlinecolor\":\"#2a3f5f\",\"gridcolor\":\"white\",\"linecolor\":\"white\",\"minorgridcolor\":\"white\",\"startlinecolor\":\"#2a3f5f\"},\"type\":\"carpet\"}],\"table\":[{\"cells\":{\"fill\":{\"color\":\"#EBF0F8\"},\"line\":{\"color\":\"white\"}},\"header\":{\"fill\":{\"color\":\"#C8D4E3\"},\"line\":{\"color\":\"white\"}},\"type\":\"table\"}],\"barpolar\":[{\"marker\":{\"line\":{\"color\":\"#E5ECF6\",\"width\":0.5},\"pattern\":{\"fillmode\":\"overlay\",\"size\":10,\"solidity\":0.2}},\"type\":\"barpolar\"}],\"pie\":[{\"automargin\":true,\"type\":\"pie\"}]},\"layout\":{\"autotypenumbers\":\"strict\",\"colorway\":[\"#636efa\",\"#EF553B\",\"#00cc96\",\"#ab63fa\",\"#FFA15A\",\"#19d3f3\",\"#FF6692\",\"#B6E880\",\"#FF97FF\",\"#FECB52\"],\"font\":{\"color\":\"#2a3f5f\"},\"hovermode\":\"closest\",\"hoverlabel\":{\"align\":\"left\"},\"paper_bgcolor\":\"white\",\"plot_bgcolor\":\"#E5ECF6\",\"polar\":{\"bgcolor\":\"#E5ECF6\",\"angularaxis\":{\"gridcolor\":\"white\",\"linecolor\":\"white\",\"ticks\":\"\"},\"radialaxis\":{\"gridcolor\":\"white\",\"linecolor\":\"white\",\"ticks\":\"\"}},\"ternary\":{\"bgcolor\":\"#E5ECF6\",\"aaxis\":{\"gridcolor\":\"white\",\"linecolor\":\"white\",\"ticks\":\"\"},\"baxis\":{\"gridcolor\":\"white\",\"linecolor\":\"white\",\"ticks\":\"\"},\"caxis\":{\"gridcolor\":\"white\",\"linecolor\":\"white\",\"ticks\":\"\"}},\"coloraxis\":{\"colorbar\":{\"outlinewidth\":0,\"ticks\":\"\"}},\"colorscale\":{\"sequential\":[[0.0,\"#0d0887\"],[0.1111111111111111,\"#46039f\"],[0.2222222222222222,\"#7201a8\"],[0.3333333333333333,\"#9c179e\"],[0.4444444444444444,\"#bd3786\"],[0.5555555555555556,\"#d8576b\"],[0.6666666666666666,\"#ed7953\"],[0.7777777777777778,\"#fb9f3a\"],[0.8888888888888888,\"#fdca26\"],[1.0,\"#f0f921\"]],\"sequentialminus\":[[0.0,\"#0d0887\"],[0.1111111111111111,\"#46039f\"],[0.2222222222222222,\"#7201a8\"],[0.3333333333333333,\"#9c179e\"],[0.4444444444444444,\"#bd3786\"],[0.5555555555555556,\"#d8576b\"],[0.6666666666666666,\"#ed7953\"],[0.7777777777777778,\"#fb9f3a\"],[0.8888888888888888,\"#fdca26\"],[1.0,\"#f0f921\"]],\"diverging\":[[0,\"#8e0152\"],[0.1,\"#c51b7d\"],[0.2,\"#de77ae\"],[0.3,\"#f1b6da\"],[0.4,\"#fde0ef\"],[0.5,\"#f7f7f7\"],[0.6,\"#e6f5d0\"],[0.7,\"#b8e186\"],[0.8,\"#7fbc41\"],[0.9,\"#4d9221\"],[1,\"#276419\"]]},\"xaxis\":{\"gridcolor\":\"white\",\"linecolor\":\"white\",\"ticks\":\"\",\"title\":{\"standoff\":15},\"zerolinecolor\":\"white\",\"automargin\":true,\"zerolinewidth\":2},\"yaxis\":{\"gridcolor\":\"white\",\"linecolor\":\"white\",\"ticks\":\"\",\"title\":{\"standoff\":15},\"zerolinecolor\":\"white\",\"automargin\":true,\"zerolinewidth\":2},\"scene\":{\"xaxis\":{\"backgroundcolor\":\"#E5ECF6\",\"gridcolor\":\"white\",\"linecolor\":\"white\",\"showbackground\":true,\"ticks\":\"\",\"zerolinecolor\":\"white\",\"gridwidth\":2},\"yaxis\":{\"backgroundcolor\":\"#E5ECF6\",\"gridcolor\":\"white\",\"linecolor\":\"white\",\"showbackground\":true,\"ticks\":\"\",\"zerolinecolor\":\"white\",\"gridwidth\":2},\"zaxis\":{\"backgroundcolor\":\"#E5ECF6\",\"gridcolor\":\"white\",\"linecolor\":\"white\",\"showbackground\":true,\"ticks\":\"\",\"zerolinecolor\":\"white\",\"gridwidth\":2}},\"shapedefaults\":{\"line\":{\"color\":\"#2a3f5f\"}},\"annotationdefaults\":{\"arrowcolor\":\"#2a3f5f\",\"arrowhead\":0,\"arrowwidth\":1},\"geo\":{\"bgcolor\":\"white\",\"landcolor\":\"#E5ECF6\",\"subunitcolor\":\"white\",\"showland\":true,\"showlakes\":true,\"lakecolor\":\"white\"},\"title\":{\"x\":0.05},\"mapbox\":{\"style\":\"light\"}}},\"map\":{\"domain\":{\"x\":[0.0,1.0],\"y\":[0.0,1.0]},\"center\":{\"lat\":69.26193135135135,\"lon\":-162},\"zoom\":3.5,\"style\":\"light\"},\"coloraxis\":{\"colorbar\":{\"title\":{\"text\":\"ALEXANDRIUM_CYSTS_CC\"}},\"colorscale\":[[0.0,\"rgb(254, 252, 205)\"],[0.09090909090909091,\"rgb(239, 225, 156)\"],[0.18181818181818182,\"rgb(221, 201, 106)\"],[0.2727272727272727,\"rgb(194, 182, 59)\"],[0.36363636363636365,\"rgb(157, 167, 21)\"],[0.45454545454545453,\"rgb(116, 153, 5)\"],[0.5454545454545454,\"rgb(75, 138, 20)\"],[0.6363636363636364,\"rgb(35, 121, 36)\"],[0.7272727272727273,\"rgb(11, 100, 44)\"],[0.8181818181818182,\"rgb(18, 78, 43)\"],[0.9090909090909091,\"rgb(25, 56, 34)\"],[1.0,\"rgb(23, 35, 18)\"]],\"cmin\":100,\"cmax\":7000},\"legend\":{\"tracegroupgap\":0,\"itemsizing\":\"constant\"},\"margin\":{\"t\":60},\"height\":500,\"mapbox\":{\"center\":{\"lat\":69.26193135135135,\"lon\":-162.5488664864865},\"zoom\":3.5},\"title\":{\"text\":\"Concentration of Alexandrium Cysts (Cubic Cm) in Northwestern Alaska\"}},                        {\"responsive\": true}                    ).then(function(){\n",
       "                            \n",
       "var gd = document.getElementById('77e8b5b2-f99f-427f-9a1a-42f9338dd1df');\n",
       "var x = new MutationObserver(function (mutations, observer) {{\n",
       "        var display = window.getComputedStyle(gd).display;\n",
       "        if (!display || display === 'none') {{\n",
       "            console.log([gd, 'removed!']);\n",
       "            Plotly.purge(gd);\n",
       "            observer.disconnect();\n",
       "        }}\n",
       "}});\n",
       "\n",
       "// Listen for the removal of the full notebook cells\n",
       "var notebookContainer = gd.closest('#notebook-container');\n",
       "if (notebookContainer) {{\n",
       "    x.observe(notebookContainer, {childList: true});\n",
       "}}\n",
       "\n",
       "// Listen for the clearing of the current output cell\n",
       "var outputEl = gd.closest('.output');\n",
       "if (outputEl) {{\n",
       "    x.observe(outputEl, {childList: true});\n",
       "}}\n",
       "\n",
       "                        })                };                });            </script>        </div>"
      ]
     },
     "metadata": {},
     "output_type": "display_data"
    }
   ],
   "source": [
    "fig = px.scatter_map(DFAlex, \n",
    "                     lat=\"LAT\", \n",
    "                     lon=\"LON\",    \n",
    "                     color=\"ALEXANDRIUM_CYSTS_CC\", #colors based on the magnitude of number of cysts\n",
    "                     size=\"ALEXANDRIUM_CYSTS_CC\", #sets the size of a point based on the magnitude of number of cysts\n",
    "                  color_continuous_scale= 'speed', #sets the color scheme\n",
    "                     size_max=15, #sets the max size a point can get\n",
    "                     zoom=3.5, #sets how zoomed in the map is\n",
    "                     range_color=[100,7000], #anything below 100cc is light yellow, anything above 7000 is dark green, any values in between are a hue between light yellow and dark green\n",
    "                     height=500)\n",
    "fig.update_layout(map_style=\"light\",\n",
    "                 map_center_lon=-162, #sets the center of the map at longitude -162\n",
    "                 title='Concentration of Alexandrium Cysts (Cubic Cm) in Northwestern Alaska')\n",
    "fig.show()"
   ]
  },
  {
   "cell_type": "code",
   "execution_count": 616,
   "id": "509e604f-3254-4327-898c-1b5be653331a",
   "metadata": {},
   "outputs": [],
   "source": [
    "# Another dataset to highlight the possible threat it poses to life\n",
    "# marine life: find a dataset for animal population, shellfish abundance, salmon abundance\n",
    "# humans: find a dataset for fisheries, human/fishing activity, PSP cases, human population in these areas, etc."
   ]
  },
  {
   "cell_type": "code",
   "execution_count": null,
   "id": "9182f8e7-c40a-4d82-b49d-baabd3a15ca3",
   "metadata": {},
   "outputs": [],
   "source": []
  }
 ],
 "metadata": {
  "kernelspec": {
   "display_name": "Python 3 (ipykernel)",
   "language": "python",
   "name": "python3"
  },
  "language_info": {
   "codemirror_mode": {
    "name": "ipython",
    "version": 3
   },
   "file_extension": ".py",
   "mimetype": "text/x-python",
   "name": "python",
   "nbconvert_exporter": "python",
   "pygments_lexer": "ipython3",
   "version": "3.12.2"
  }
 },
 "nbformat": 4,
 "nbformat_minor": 5
}
