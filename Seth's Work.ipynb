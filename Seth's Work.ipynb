{
 "cells": [
  {
   "cell_type": "code",
   "execution_count": 1,
   "id": "28ca09b0-4159-4a8e-8676-b7b2b6603db1",
   "metadata": {},
   "outputs": [],
   "source": [
    "import numpy as np\n",
    "import pandas as pd\n",
    "\n",
    "import matplotlib.pyplot as plt\n",
    "import plotly.express as px\n",
    "from plotly.subplots import make_subplots\n",
    "import plotly.io as pio\n",
    "pio.renderers.defaule = 'colab'\n",
    "\n",
    "from itables import show"
   ]
  },
  {
   "cell_type": "code",
   "execution_count": 2,
   "id": "c0a13377-be96-4bf1-997e-07ceba753dc9",
   "metadata": {},
   "outputs": [
    {
     "data": {
      "text/html": [
       "<table id=\"itables_cea9a357_153c_4783_905a_c3a381fc6c29\" class=\"display nowrap\" data-quarto-disable-processing=\"true\" style=\"table-layout:auto;width:auto;margin:auto;caption-side:bottom\">\n",
       "<thead>\n",
       "    <tr style=\"text-align: right;\">\n",
       "      \n",
       "      <th>OrganizationIdentifier</th>\n",
       "      <th>OrganizationFormalName</th>\n",
       "      <th>ActivityIdentifier</th>\n",
       "      <th>ActivityTypeCode</th>\n",
       "      <th>ActivityMediaName</th>\n",
       "      <th>ActivityMediaSubdivisionName</th>\n",
       "      <th>ActivityStartDate</th>\n",
       "      <th>ActivityStartTime/Time</th>\n",
       "      <th>ActivityStartTime/TimeZoneCode</th>\n",
       "      <th>ActivityEndDate</th>\n",
       "      <th>ActivityEndTime/Time</th>\n",
       "      <th>ActivityEndTime/TimeZoneCode</th>\n",
       "      <th>ActivityRelativeDepthName</th>\n",
       "      <th>ActivityDepthHeightMeasure/MeasureValue</th>\n",
       "      <th>ActivityDepthHeightMeasure/MeasureUnitCode</th>\n",
       "      <th>ActivityDepthAltitudeReferencePointText</th>\n",
       "      <th>ActivityTopDepthHeightMeasure/MeasureValue</th>\n",
       "      <th>ActivityTopDepthHeightMeasure/MeasureUnitCode</th>\n",
       "      <th>ActivityBottomDepthHeightMeasure/MeasureValue</th>\n",
       "      <th>ActivityBottomDepthHeightMeasure/MeasureUnitCode</th>\n",
       "      <th>ProjectIdentifier</th>\n",
       "      <th>ProjectName</th>\n",
       "      <th>ActivityConductingOrganizationText</th>\n",
       "      <th>MonitoringLocationIdentifier</th>\n",
       "      <th>MonitoringLocationName</th>\n",
       "      <th>ActivityCommentText</th>\n",
       "      <th>SampleAquifer</th>\n",
       "      <th>HydrologicCondition</th>\n",
       "      <th>HydrologicEvent</th>\n",
       "      <th>ActivityLocation/LatitudeMeasure</th>\n",
       "      <th>ActivityLocation/LongitudeMeasure</th>\n",
       "      <th>SampleCollectionMethod/MethodIdentifier</th>\n",
       "      <th>SampleCollectionMethod/MethodIdentifierContext</th>\n",
       "      <th>SampleCollectionMethod/MethodName</th>\n",
       "      <th>SampleCollectionMethod/MethodDescriptionText</th>\n",
       "      <th>SampleCollectionEquipmentName</th>\n",
       "      <th>ResultIdentifier</th>\n",
       "      <th>ResultDetectionConditionText</th>\n",
       "      <th>MethodSpeciationName</th>\n",
       "      <th>CharacteristicName</th>\n",
       "      <th>ResultSampleFractionText</th>\n",
       "      <th>ResultMeasureValue</th>\n",
       "      <th>ResultMeasure/MeasureUnitCode</th>\n",
       "      <th>MeasureQualifierCode</th>\n",
       "      <th>ResultStatusIdentifier</th>\n",
       "      <th>StatisticalBaseCode</th>\n",
       "      <th>ResultValueTypeName</th>\n",
       "      <th>ResultWeightBasisText</th>\n",
       "      <th>ResultTimeBasisText</th>\n",
       "      <th>ResultTemperatureBasisText</th>\n",
       "      <th>ResultParticleSizeBasisText</th>\n",
       "      <th>DataQuality/PrecisionValue</th>\n",
       "      <th>DataQuality/BiasValue</th>\n",
       "      <th>DataQuality/ConfidenceIntervalValue</th>\n",
       "      <th>DataQuality/UpperConfidenceLimitValue</th>\n",
       "      <th>DataQuality/LowerConfidenceLimitValue</th>\n",
       "      <th>ResultCommentText</th>\n",
       "      <th>USGSPCode</th>\n",
       "      <th>ResultDepthHeightMeasure/MeasureValue</th>\n",
       "      <th>ResultDepthHeightMeasure/MeasureUnitCode</th>\n",
       "      <th>ResultDepthAltitudeReferencePointText</th>\n",
       "      <th>SubjectTaxonomicName</th>\n",
       "      <th>SampleTissueAnatomyName</th>\n",
       "      <th>BinaryObjectFileName</th>\n",
       "      <th>BinaryObjectFileTypeCode</th>\n",
       "      <th>ResultFileUrl</th>\n",
       "      <th>ResultAnalyticalMethod/MethodIdentifier</th>\n",
       "      <th>ResultAnalyticalMethod/MethodIdentifierContext</th>\n",
       "      <th>ResultAnalyticalMethod/MethodName</th>\n",
       "      <th>ResultAnalyticalMethod/MethodUrl</th>\n",
       "      <th>ResultAnalyticalMethod/MethodDescriptionText</th>\n",
       "      <th>LaboratoryName</th>\n",
       "      <th>AnalysisStartDate</th>\n",
       "      <th>ResultLaboratoryCommentText</th>\n",
       "      <th>ResultDetectionQuantitationLimitUrl</th>\n",
       "      <th>DetectionQuantitationLimitTypeName</th>\n",
       "      <th>DetectionQuantitationLimitMeasure/MeasureValue</th>\n",
       "      <th>DetectionQuantitationLimitMeasure/MeasureUnitCode</th>\n",
       "      <th>LabSamplePreparationUrl</th>\n",
       "      <th>LastUpdated</th>\n",
       "      <th>ProviderName</th>\n",
       "    </tr>\n",
       "  </thead><tbody><tr>\n",
       "<td style=\"vertical-align:middle; text-align:left\">\n",
       "<div style=\"float:left; margin-right: 10px;\">\n",
       "<a href=https://mwouts.github.io/itables/><svg class=\"main-svg\" xmlns=\"http://www.w3.org/2000/svg\" xmlns:xlink=\"http://www.w3.org/1999/xlink\"\n",
       "width=\"64\" viewBox=\"0 0 500 400\" style=\"font-family: 'Droid Sans', sans-serif;\">\n",
       "    <g style=\"fill:#d9d7fc\">\n",
       "        <path d=\"M100,400H500V357H100Z\" />\n",
       "        <path d=\"M100,300H400V257H100Z\" />\n",
       "        <path d=\"M0,200H400V157H0Z\" />\n",
       "        <path d=\"M100,100H500V57H100Z\" />\n",
       "        <path d=\"M100,350H500V307H100Z\" />\n",
       "        <path d=\"M100,250H400V207H100Z\" />\n",
       "        <path d=\"M0,150H400V107H0Z\" />\n",
       "        <path d=\"M100,50H500V7H100Z\" />\n",
       "    </g>\n",
       "    <g style=\"fill:#1a1366;stroke:#1a1366;\">\n",
       "   <rect x=\"100\" y=\"7\" width=\"400\" height=\"43\">\n",
       "    <animate\n",
       "      attributeName=\"width\"\n",
       "      values=\"0;400;0\"\n",
       "      dur=\"5s\"\n",
       "      repeatCount=\"indefinite\" />\n",
       "      <animate\n",
       "      attributeName=\"x\"\n",
       "      values=\"100;100;500\"\n",
       "      dur=\"5s\"\n",
       "      repeatCount=\"indefinite\" />\n",
       "  </rect>\n",
       "        <rect x=\"0\" y=\"107\" width=\"400\" height=\"43\">\n",
       "    <animate\n",
       "      attributeName=\"width\"\n",
       "      values=\"0;400;0\"\n",
       "      dur=\"3.5s\"\n",
       "      repeatCount=\"indefinite\" />\n",
       "    <animate\n",
       "      attributeName=\"x\"\n",
       "      values=\"0;0;400\"\n",
       "      dur=\"3.5s\"\n",
       "      repeatCount=\"indefinite\" />\n",
       "  </rect>\n",
       "        <rect x=\"100\" y=\"207\" width=\"300\" height=\"43\">\n",
       "    <animate\n",
       "      attributeName=\"width\"\n",
       "      values=\"0;300;0\"\n",
       "      dur=\"3s\"\n",
       "      repeatCount=\"indefinite\" />\n",
       "    <animate\n",
       "      attributeName=\"x\"\n",
       "      values=\"100;100;400\"\n",
       "      dur=\"3s\"\n",
       "      repeatCount=\"indefinite\" />\n",
       "  </rect>\n",
       "        <rect x=\"100\" y=\"307\" width=\"400\" height=\"43\">\n",
       "    <animate\n",
       "      attributeName=\"width\"\n",
       "      values=\"0;400;0\"\n",
       "      dur=\"4s\"\n",
       "      repeatCount=\"indefinite\" />\n",
       "      <animate\n",
       "      attributeName=\"x\"\n",
       "      values=\"100;100;500\"\n",
       "      dur=\"4s\"\n",
       "      repeatCount=\"indefinite\" />\n",
       "  </rect>\n",
       "        <g style=\"fill:transparent;stroke-width:8; stroke-linejoin:round\" rx=\"5\">\n",
       "            <g transform=\"translate(45 50) rotate(-45)\">\n",
       "                <circle r=\"33\" cx=\"0\" cy=\"0\" />\n",
       "                <rect x=\"-8\" y=\"32\" width=\"16\" height=\"30\" />\n",
       "            </g>\n",
       "\n",
       "            <g transform=\"translate(450 152)\">\n",
       "                <polyline points=\"-15,-20 -35,-20 -35,40 25,40 25,20\" />\n",
       "                <rect x=\"-15\" y=\"-40\" width=\"60\" height=\"60\" />\n",
       "            </g>\n",
       "\n",
       "            <g transform=\"translate(50 352)\">\n",
       "                <polygon points=\"-35,-5 0,-40 35,-5\" />\n",
       "                <polygon points=\"-35,10 0,45 35,10\" />\n",
       "            </g>\n",
       "\n",
       "            <g transform=\"translate(75 250)\">\n",
       "                <polyline points=\"-30,30 -60,0 -30,-30\" />\n",
       "                <polyline points=\"0,30 -30,0 0,-30\" />\n",
       "            </g>\n",
       "\n",
       "            <g transform=\"translate(425 250) rotate(180)\">\n",
       "                <polyline points=\"-30,30 -60,0 -30,-30\" />\n",
       "                <polyline points=\"0,30 -30,0 0,-30\" />\n",
       "            </g>\n",
       "        </g>\n",
       "    </g>\n",
       "</svg>\n",
       "</a>\n",
       "</div>\n",
       "<div>\n",
       "Loading ITables v2.1.4 from the internet...\n",
       "(need <a href=https://mwouts.github.io/itables/troubleshooting.html>help</a>?)</td>\n",
       "</div>\n",
       "</tr></tbody>\n",
       "\n",
       "</table>\n",
       "<link href=\"https://www.unpkg.com/dt_for_itables@2.0.11/dt_bundle.css\" rel=\"stylesheet\">\n",
       "<script type=\"module\">\n",
       "    import {DataTable, jQuery as $} from 'https://www.unpkg.com/dt_for_itables@2.0.11/dt_bundle.js';\n",
       "\n",
       "    document.querySelectorAll(\"#itables_cea9a357_153c_4783_905a_c3a381fc6c29:not(.dataTable)\").forEach(table => {\n",
       "        // Define the table data\n",
       "        const data = [[\"LADEQWPD_WQX\", \"LDEQ/Water Planning and Assessment (Louisiana)\", \"LADEQWPD_WQX-0962-07162020-1115-Lab\", \"Sample-Routine\", \"Water\", \"NaN\", \"2020-07-16\", \"11:15:00\", \"CST\", \"NaN\", \"NaN\", \"NaN\", \"NaN\", 1.0, \"m\", \"NaN\", NaN, \"NaN\", NaN, \"NaN\", \"WQ1958001\", \"Statewide Water Quality Monitoring Network\", \"NaN\", \"LADEQWPD_WQX-0962\", \"Gulf of Mexico South of Wine Island Pass, Louisiana\", NaN, NaN, NaN, NaN, 29.058571, -90.633424, \"LADEQ QAPP\", \"LADEQWPD_WQX\", \"Quality Assurance Project Plan for the Ambient Water Quality Monitoring Network\", \"NaN\", \"Water Bottle\", \"STORET-959667579\", \"Not Detected\", \"NaN\", \"p-Dichlorobenzene\", \"Total\", \"NaN\", \"NaN\", \"NaN\", \"Final\", NaN, \"Actual\", NaN, NaN, NaN, NaN, NaN, NaN, NaN, NaN, NaN, \"NaN\", NaN, NaN, \"NaN\", NaN, NaN, NaN, NaN, NaN, NaN, \"624\", \"USEPA\", \"Purgeable Organics in Wastewater\", NaN, \"https://www.nemi.gov/methods/method_summary/5249/\", \"NaN\", \"2020-07-18\", NaN, \"https://www.waterqualitydata.us/data/providers/STORET/organizations/LADEQWPD_WQX/activities/LADEQWPD_WQX-0962-07162020-1115-Lab/results/959667579/resdetectqntlmts\", \"Lower Reporting Limit\", 0.5, \"ug/L\", NaN, \"2022-12-19T11:39:26\", \"STORET\"], [\"LADEQWPD_WQX\", \"LDEQ/Water Planning and Assessment (Louisiana)\", \"LADEQWPD_WQX-0962-01302020-0945-Lab\", \"Sample-Routine\", \"Water\", \"NaN\", \"2020-01-30\", \"09:45:00\", \"CST\", \"NaN\", \"NaN\", \"NaN\", \"NaN\", NaN, \"NaN\", \"NaN\", NaN, \"NaN\", NaN, \"NaN\", \"WQ1958001\", \"Statewide Water Quality Monitoring Network\", \"NaN\", \"LADEQWPD_WQX-0962\", \"Gulf of Mexico South of Wine Island Pass, Louisiana\", NaN, NaN, NaN, NaN, 29.058571, -90.633424, \"LADEQ QAPP\", \"LADEQWPD_WQX\", \"Quality Assurance Project Plan for the Ambient Water Quality Monitoring Network\", \"NaN\", \"Water Bottle\", \"STORET-959687224\", \"Not Detected\", \"NaN\", \"1,1,2-Trichloroethane\", \"Total\", \"NaN\", \"NaN\", \"NaN\", \"Final\", NaN, \"Actual\", NaN, NaN, NaN, NaN, NaN, NaN, NaN, NaN, NaN, \"NaN\", NaN, NaN, \"NaN\", NaN, NaN, NaN, NaN, NaN, NaN, \"624\", \"USEPA\", \"Purgeable Organics in Wastewater\", NaN, \"https://www.nemi.gov/methods/method_summary/5249/\", \"NaN\", \"2020-02-05\", NaN, \"https://www.waterqualitydata.us/data/providers/STORET/organizations/LADEQWPD_WQX/activities/LADEQWPD_WQX-0962-01302020-0945-Lab/results/959687224/resdetectqntlmts\", \"Lower Reporting Limit\", 0.5, \"ug/L\", NaN, \"2022-12-19T11:43:18\", \"STORET\"], [\"21MSWQ_WQX\", \"MISSISSIPPI DEPARTMENT OF ENVIRONMENTAL QUALITY\", \"21MSWQ_WQX-157931-625\", \"Sample-Routine\", \"Water\", \"NaN\", \"2020-02-11\", \"10:40:00\", \"CDT\", \"NaN\", \"NaN\", \"NaN\", \"NaN\", 0.5, \"ft\", \"NaN\", NaN, \"NaN\", NaN, \"NaN\", \"BCH20;EPABEACH;MS356172\", \"BEACH MONITORING 2020;BEACH MONITORING 2024;BAY ST LOUIS BEACH\", \"MISSISSIPPI DEPARTMENT OF ENVIRONMENTAL QUALITY\", \"21MSWQ_WQX-640MSDB03\", \"BAY ST LOUIS BEACH\", NaN, NaN, NaN, NaN, 30.300222, -89.332639, \"Grab-DTSC\", \"21MSWQ_WQX\", \"Grab-Direct to Sample Container\", \"The collection of a sample utilizing no collection gear. The sample is collected directly into the sample container.\", \"Water Bottle\", \"STORET-882159955\", \"NaN\", \"NaN\", \"Organic carbon\", \"Total\", \"4\", \"mg/L\", \"NaN\", \"Accepted\", NaN, \"Actual\", NaN, NaN, NaN, NaN, NaN, NaN, NaN, NaN, NaN, \"NaN\", NaN, 0.5, \"ft\", NaN, NaN, NaN, NaN, NaN, NaN, \"5310-B\", \"APHA\", \"5310 B ~ Total Organic Carbon by Combustion-Infrared Method\", NaN, \"https://www.nemi.gov/methods/method_summary/5717/\", \"NaN\", \"NaN\", NaN, \"NaN\", \"NaN\", NaN, \"NaN\", NaN, \"2021-03-24T18:13:34\", \"STORET\"], [\"21FLFWC_WQX\", \"FLORIDA FISH AND WILDLIFE CONSERVATION COMMISSION\", \"21FLFWC_WQX-KEYS101_K500S_FS\", \"Sample-Routine\", \"Water\", \"Surface Water\", \"2020-09-11\", \"12:51:00\", \"EST\", \"NaN\", \"NaN\", \"NaN\", \"NaN\", 0.69, \"m\", \"NaN\", NaN, \"NaN\", NaN, \"NaN\", \"WQMP\", \"Water Quality Monitoring Program\", \"FLORIDA INTERNATIONAL UNIVERSITY\", \"21FLFWC_WQX-500-W\", \"Lake Largo Canal\", NaN, NaN, NaN, NaN, 25.08535, -80.43346, \"Direct Grab\", \"21FLFWC_WQX\", \"Direct Grab\", \"An individual sample collected at one time period, generally not exceeding 15 minutes.  Grab samples represent the conditions that exist at the moment the sample is collected.  Use sample container to directly collect the sample.  For Aqueous matrices, all sample containers for individual analytes or analyte groups must be filled from the sampling location or source within the 15-minute window.\", \"Water Bottle\", \"STORET-928952250\", \"NaN\", \"NaN\", \"Organic carbon\", \"Total\", \"1.549\", \"ppm\", \"NaN\", \"Final\", NaN, \"Actual\", NaN, NaN, NaN, NaN, NaN, NaN, NaN, NaN, NaN, \"NaN\", NaN, NaN, \"NaN\", NaN, NaN, NaN, NaN, NaN, NaN, \"FIU-TOC\", \"21FLFWC_WQX\", \"FIU-TOC\", NaN, \"NaN\", \"E76930\", \"2020-10-01\", NaN, \"https://www.waterqualitydata.us/data/providers/STORET/organizations/21FLFWC_WQX/activities/21FLFWC_WQX-KEYS101_K500S_FS/results/928952250/resdetectqntlmts\", \"Practical Quantitation Limit\", 0.5, \"ppm\", NaN, \"2022-01-27T11:34:46\", \"STORET\"], [\"21FLFWC_WQX\", \"FLORIDA FISH AND WILDLIFE CONSERVATION COMMISSION\", \"21FLFWC_WQX-KEYS102_K332B_FS\", \"Sample-Routine\", \"Water\", \"Surface Water\", \"2020-12-15\", \"10:59:00\", \"EST\", \"NaN\", \"NaN\", \"NaN\", \"NaN\", 9.56, \"m\", \"NaN\", NaN, \"NaN\", NaN, \"NaN\", \"WQMP\", \"Water Quality Monitoring Program\", \"FLORIDA INTERNATIONAL UNIVERSITY\", \"21FLFWC_WQX-332-W\", \"S Quicksands\", NaN, NaN, NaN, NaN, 24.5355, -82.36733, \"Direct Grab\", \"21FLFWC_WQX\", \"Direct Grab\", \"An individual sample collected at one time period, generally not exceeding 15 minutes.  Grab samples represent the conditions that exist at the moment the sample is collected.  Use sample container to directly collect the sample.  For Aqueous matrices, all sample containers for individual analytes or analyte groups must be filled from the sampling location or source within the 15-minute window.\", \"Water Bottle\", \"STORET-928954814\", \"NaN\", \"NaN\", \"Organic carbon\", \"Total\", \"1.185\", \"ppm\", \"NaN\", \"Final\", NaN, \"Actual\", NaN, NaN, NaN, NaN, NaN, NaN, NaN, NaN, NaN, \"**J**The analyte was detected at or above the method detection limit in an analytical laboratory blank other than the method blank (such as a calibration blank) and, the blank value is greater than 10% of the associated sample value\", NaN, NaN, \"NaN\", NaN, NaN, NaN, NaN, NaN, NaN, \"FIU-TOC\", \"21FLFWC_WQX\", \"FIU-TOC\", NaN, \"NaN\", \"E76930\", \"2020-12-30\", NaN, \"https://www.waterqualitydata.us/data/providers/STORET/organizations/21FLFWC_WQX/activities/21FLFWC_WQX-KEYS102_K332B_FS/results/928954814/resdetectqntlmts\", \"Practical Quantitation Limit\", 0.5, \"ppm\", NaN, \"2022-01-27T11:35:03\", \"STORET\"], [\"LADEQWPD_WQX\", \"LDEQ/Water Planning and Assessment (Louisiana)\", \"LADEQWPD_WQX-1204-06032020-1038-Field\", \"Field Msr/Obs\", \"Water\", \"NaN\", \"2020-06-03\", \"10:38:00\", \"CST\", \"NaN\", \"NaN\", \"NaN\", \"NaN\", 1.0, \"m\", \"NaN\", NaN, \"NaN\", NaN, \"NaN\", \"WQ1958001\", \"Statewide Water Quality Monitoring Network\", \"NaN\", \"LADEQWPD_WQX-1204\", \"Atchafalaya Bay Southwest of Burns, Louisiana\", NaN, NaN, NaN, NaN, 29.50184, -91.563639, \"LADEQ QAPP\", \"LADEQWPD_WQX\", \"Quality Assurance Project Plan for the Ambient Water Quality Monitoring Network\", \"NaN\", \"Water Bottle\", \"STORET-959735865\", \"NaN\", \"NaN\", \"Oil and Grease surface slick/sheen (Y/N) (choice list)\", \"NaN\", \"N\", \"NaN\", \"NaN\", \"Final\", NaN, \"Actual\", NaN, NaN, NaN, NaN, NaN, NaN, NaN, NaN, NaN, \"NaN\", NaN, NaN, \"NaN\", NaN, NaN, NaN, NaN, NaN, NaN, \"NaN\", \"NaN\", \"NaN\", NaN, \"NaN\", \"NaN\", \"NaN\", NaN, \"NaN\", \"NaN\", NaN, \"NaN\", NaN, \"2022-12-19T11:52:02\", \"STORET\"], [\"WTGHA\", \"Wompanoag Tribe of Gay Head Aquinnah (Tribal)\", \"WTGHA-P1:20200219:SR:B\", \"Sample-Routine\", \"Water\", \"NaN\", \"2020-02-19\", \"NaN\", \"NaN\", \"NaN\", \"NaN\", \"NaN\", \"NaN\", NaN, \"NaN\", \"NaN\", NaN, \"NaN\", NaN, \"NaN\", \"WTGHA\", \"The Wampanoag Tribe of Gay Head Aquinnah\", \"NaN\", \"WTGHA-P1\", \"P1 | Menemsha Perimenter | Lobsterville Beach\", NaN, NaN, NaN, NaN, 41.349306, -70.788056, \"NaN\", \"NaN\", \"NaN\", \"NaN\", \"Bucket\", \"STORET-1041358794\", \"NaN\", \"as P\", \"Phosphated pesticides\", \"Total\", \"0.13\", \"mg/L\", \"NaN\", \"Final\", NaN, \"Actual\", NaN, NaN, NaN, NaN, NaN, NaN, NaN, NaN, NaN, \"NaN\", NaN, NaN, \"NaN\", NaN, NaN, NaN, NaN, NaN, NaN, \"8048\", \"HACH\", \"Reactive Phosphorus in Water\", NaN, \"https://www.nemi.gov/methods/method_summary/4828/\", \"NaN\", \"NaN\", NaN, \"NaN\", \"NaN\", NaN, \"NaN\", NaN, \"2024-09-19T09:12:48\", \"STORET\"], [\"CEDEN\", \"California State Water Resources Control Board\", \"CEDEN--2144650495\", \"Sample-Routine\", \"Water\", \"NaN\", \"2020-07-30\", \"10:04:00\", \"PST\", \"NaN\", \"NaN\", \"NaN\", \"NaN\", NaN, \"NaN\", \"NaN\", NaN, \"NaN\", NaN, \"NaN\", \"BBM\", \"Beach Bacteria Monitoring\", \"NaN\", \"CEDEN-Main-B\", \"Main Beach Site B\", NaN, NaN, NaN, NaN, 36.9621, -122.022, \"Water_Grab\", \"CEDEN\", \"Water_Grab\", \"Method for generic water collection that was either grab or integrated\", \"Miscellaneous (Other)\", \"STORET-973286446\", \"NaN\", \"NaN\", \"2,3,3',4,5'-Pentachlorobiphenyl\", \"NaN\", \"30\", \"cfu/100mL\", \"NaN\", \"Final\", NaN, \"Actual\", NaN, NaN, NaN, NaN, NaN, NaN, NaN, NaN, NaN, \"1; AB15110\", NaN, NaN, \"NaN\", NaN, NaN, NaN, NaN, NaN, NaN, \"1343\", \"CEDEN\", \"SM 9230 C\", NaN, \"NaN\", \"NaN\", \"2020-07-30\", NaN, \"NaN\", \"NaN\", NaN, \"NaN\", NaN, \"2023-04-20T15:03:25\", \"STORET\"], [\"21FLFWC_WQX\", \"FLORIDA FISH AND WILDLIFE CONSERVATION COMMISSION\", \"21FLFWC_WQX-KEYS98_K250S_SS\", \"Sample-Routine\", \"Water\", \"Surface Water\", \"2020-01-07\", \"11:14:00\", \"EST\", \"NaN\", \"NaN\", \"NaN\", \"NaN\", 0.869, \"m\", \"NaN\", NaN, \"NaN\", NaN, \"NaN\", \"WQMP\", \"Water Quality Monitoring Program\", \"FLORIDA INTERNATIONAL UNIVERSITY\", \"21FLFWC_WQX-250-W\", \"Seven Mile Bridge\", NaN, NaN, NaN, NaN, 24.69193, -81.18245, \"Direct Grab\", \"21FLFWC_WQX\", \"Direct Grab\", \"An individual sample collected at one time period, generally not exceeding 15 minutes.  Grab samples represent the conditions that exist at the moment the sample is collected.  Use sample container to directly collect the sample.  For Aqueous matrices, all sample containers for individual analytes or analyte groups must be filled from the sampling location or source within the 15-minute window.\", \"Water Bottle\", \"STORET-963832232\", \"NaN\", \"NaN\", \"Organic carbon\", \"Total\", \"2.693\", \"ppm\", \"NaN\", \"Final\", NaN, \"Actual\", NaN, NaN, NaN, NaN, NaN, NaN, NaN, NaN, NaN, \"NaN\", NaN, NaN, \"NaN\", NaN, NaN, NaN, NaN, NaN, NaN, \"FIU-TOC\", \"21FLFWC_WQX\", \"FIU-TOC\", NaN, \"NaN\", \"E76930\", \"2020-02-01\", NaN, \"https://www.waterqualitydata.us/data/providers/STORET/organizations/21FLFWC_WQX/activities/21FLFWC_WQX-KEYS98_K250S_SS/results/963832232/resdetectqntlmts\", \"Practical Quantitation Limit\", 0.5, \"ppm\", NaN, \"2023-01-17T09:37:12\", \"STORET\"], [\"21FLFWC_WQX\", \"FLORIDA FISH AND WILDLIFE CONSERVATION COMMISSION\", \"21FLFWC_WQX-KEYS99_K243B_FS\", \"Sample-Routine\", \"Water\", \"Surface Water\", \"2020-03-30\", \"15:56:00\", \"EST\", \"NaN\", \"NaN\", \"NaN\", \"NaN\", 7.47, \"m\", \"NaN\", NaN, \"NaN\", NaN, \"NaN\", \"WQMP\", \"Water Quality Monitoring Program\", \"FLORIDA INTERNATIONAL UNIVERSITY\", \"21FLFWC_WQX-243-W\", \"Tennessee Reef\", NaN, NaN, NaN, NaN, 24.745, -80.78333, \"Direct Grab\", \"21FLFWC_WQX\", \"Direct Grab\", \"An individual sample collected at one time period, generally not exceeding 15 minutes.  Grab samples represent the conditions that exist at the moment the sample is collected.  Use sample container to directly collect the sample.  For Aqueous matrices, all sample containers for individual analytes or analyte groups must be filled from the sampling location or source within the 15-minute window.\", \"Water Bottle\", \"STORET-963860125\", \"NaN\", \"NaN\", \"Organic carbon\", \"Total\", \"0.9115\", \"ppm\", \"NaN\", \"Final\", NaN, \"Actual\", NaN, NaN, NaN, NaN, NaN, NaN, NaN, NaN, NaN, \"NaN\", NaN, NaN, \"NaN\", NaN, NaN, NaN, NaN, NaN, NaN, \"FIU-TOC\", \"21FLFWC_WQX\", \"FIU-TOC\", NaN, \"NaN\", \"E76930\", \"2020-04-14\", NaN, \"https://www.waterqualitydata.us/data/providers/STORET/organizations/21FLFWC_WQX/activities/21FLFWC_WQX-KEYS99_K243B_FS/results/963860125/resdetectqntlmts\", \"Practical Quantitation Limit\", 0.5, \"ppm\", NaN, \"2023-01-17T09:39:46\", \"STORET\"], [\"21FLFWC_WQX\", \"FLORIDA FISH AND WILDLIFE CONSERVATION COMMISSION\", \"21FLFWC_WQX-KEYS99_K244B_FS\", \"Sample-Routine\", \"Water\", \"Surface Water\", \"2020-03-30\", \"18:15:00\", \"EST\", \"NaN\", \"NaN\", \"NaN\", \"NaN\", 327.0, \"m\", \"NaN\", NaN, \"NaN\", NaN, \"NaN\", \"WQMP\", \"Water Quality Monitoring Program\", \"FLORIDA INTERNATIONAL UNIVERSITY\", \"21FLFWC_WQX-244-W\", \"Long Key Pass Inshore\", NaN, NaN, NaN, NaN, 24.79333, -80.86333, \"Direct Grab\", \"21FLFWC_WQX\", \"Direct Grab\", \"An individual sample collected at one time period, generally not exceeding 15 minutes.  Grab samples represent the conditions that exist at the moment the sample is collected.  Use sample container to directly collect the sample.  For Aqueous matrices, all sample containers for individual analytes or analyte groups must be filled from the sampling location or source within the 15-minute window.\", \"Water Bottle\", \"STORET-963841349\", \"NaN\", \"NaN\", \"Organic carbon\", \"Total\", \"1.036\", \"ppm\", \"NaN\", \"Final\", NaN, \"Actual\", NaN, NaN, NaN, NaN, NaN, NaN, NaN, NaN, NaN, \"NaN\", NaN, NaN, \"NaN\", NaN, NaN, NaN, NaN, NaN, NaN, \"FIU-TOC\", \"21FLFWC_WQX\", \"FIU-TOC\", NaN, \"NaN\", \"E76930\", \"2020-04-14\", NaN, \"https://www.waterqualitydata.us/data/providers/STORET/organizations/21FLFWC_WQX/activities/21FLFWC_WQX-KEYS99_K244B_FS/results/963841349/resdetectqntlmts\", \"Practical Quantitation Limit\", 0.5, \"ppm\", NaN, \"2023-01-17T09:38:05\", \"STORET\"], [\"21FLFWC_WQX\", \"FLORIDA FISH AND WILDLIFE CONSERVATION COMMISSION\", \"21FLFWC_WQX-KEYS100_K212B_FS\", \"Sample-Routine\", \"Water\", \"Surface Water\", \"2020-07-14\", \"11:33:00\", \"EST\", \"NaN\", \"NaN\", \"NaN\", \"NaN\", 5.22, \"m\", \"NaN\", NaN, \"NaN\", NaN, \"NaN\", \"WQMP\", \"Water Quality Monitoring Program\", \"FLORIDA INTERNATIONAL UNIVERSITY\", \"21FLFWC_WQX-212-W\", \"Turtle Harbor\", NaN, NaN, NaN, NaN, 25.29452, -80.24542, \"Direct Grab\", \"21FLFWC_WQX\", \"Direct Grab\", \"An individual sample collected at one time period, generally not exceeding 15 minutes.  Grab samples represent the conditions that exist at the moment the sample is collected.  Use sample container to directly collect the sample.  For Aqueous matrices, all sample containers for individual analytes or analyte groups must be filled from the sampling location or source within the 15-minute window.\", \"Water Bottle\", \"STORET-928938064\", \"NaN\", \"NaN\", \"Organic carbon\", \"Total\", \"1.234\", \"ppm\", \"NaN\", \"Final\", NaN, \"Actual\", NaN, NaN, NaN, NaN, NaN, NaN, NaN, NaN, NaN, \"NaN\", NaN, NaN, \"NaN\", NaN, NaN, NaN, NaN, NaN, NaN, \"FIU-TOC\", \"21FLFWC_WQX\", \"FIU-TOC\", NaN, \"NaN\", \"E76930\", \"2020-07-29\", NaN, \"https://www.waterqualitydata.us/data/providers/STORET/organizations/21FLFWC_WQX/activities/21FLFWC_WQX-KEYS100_K212B_FS/results/928938064/resdetectqntlmts\", \"Practical Quantitation Limit\", 0.5, \"ppm\", NaN, \"2022-01-27T11:33:04\", \"STORET\"], [\"21FLFWC_WQX\", \"FLORIDA FISH AND WILDLIFE CONSERVATION COMMISSION\", \"21FLFWC_WQX-KEYS100_K211S_FS\", \"Sample-Routine\", \"Water\", \"Surface Water\", \"2020-07-14\", \"11:43:00\", \"EST\", \"NaN\", \"NaN\", \"NaN\", \"NaN\", 0.79, \"m\", \"NaN\", NaN, \"NaN\", NaN, \"NaN\", \"WQMP\", \"Water Quality Monitoring Program\", \"FLORIDA INTERNATIONAL UNIVERSITY\", \"21FLFWC_WQX-211-W\", \"Pennikamp G27\", NaN, NaN, NaN, NaN, 25.30788, -80.26165, \"Direct Grab\", \"21FLFWC_WQX\", \"Direct Grab\", \"An individual sample collected at one time period, generally not exceeding 15 minutes.  Grab samples represent the conditions that exist at the moment the sample is collected.  Use sample container to directly collect the sample.  For Aqueous matrices, all sample containers for individual analytes or analyte groups must be filled from the sampling location or source within the 15-minute window.\", \"Water Bottle\", \"STORET-928947021\", \"NaN\", \"NaN\", \"Organic carbon\", \"Total\", \"1.507\", \"ppm\", \"NaN\", \"Final\", NaN, \"Actual\", NaN, NaN, NaN, NaN, NaN, NaN, NaN, NaN, NaN, \"NaN\", NaN, NaN, \"NaN\", NaN, NaN, NaN, NaN, NaN, NaN, \"FIU-TOC\", \"21FLFWC_WQX\", \"FIU-TOC\", NaN, \"NaN\", \"E76930\", \"2020-07-29\", NaN, \"https://www.waterqualitydata.us/data/providers/STORET/organizations/21FLFWC_WQX/activities/21FLFWC_WQX-KEYS100_K211S_FS/results/928947021/resdetectqntlmts\", \"Practical Quantitation Limit\", 0.5, \"ppm\", NaN, \"2022-01-27T11:34:11\", \"STORET\"], [\"21FLFWC_WQX\", \"FLORIDA FISH AND WILDLIFE CONSERVATION COMMISSION\", \"21FLFWC_WQX-KEYS100_K259B_DUP_FR\", \"Quality Control Sample-Field Replicate\", \"Water\", \"Surface Water\", \"2020-07-09\", \"13:01:00\", \"EST\", \"NaN\", \"NaN\", \"NaN\", \"NaN\", 8.78, \"m\", \"NaN\", NaN, \"NaN\", NaN, \"NaN\", \"WQMP\", \"Water Quality Monitoring Program\", \"FLORIDA INTERNATIONAL UNIVERSITY\", \"21FLFWC_WQX-259-W\", \"Big Pine Shoal\", NaN, NaN, NaN, NaN, 24.57037, -81.32167, \"Direct Grab\", \"21FLFWC_WQX\", \"Direct Grab\", \"An individual sample collected at one time period, generally not exceeding 15 minutes.  Grab samples represent the conditions that exist at the moment the sample is collected.  Use sample container to directly collect the sample.  For Aqueous matrices, all sample containers for individual analytes or analyte groups must be filled from the sampling location or source within the 15-minute window.\", \"Water Bottle\", \"STORET-928942271\", \"NaN\", \"NaN\", \"Organic carbon\", \"Total\", \"1.378\", \"ppm\", \"NaN\", \"Final\", NaN, \"Actual\", NaN, NaN, NaN, NaN, NaN, NaN, NaN, NaN, NaN, \"NaN\", NaN, NaN, \"NaN\", NaN, NaN, NaN, NaN, NaN, NaN, \"FIU-TOC\", \"21FLFWC_WQX\", \"FIU-TOC\", NaN, \"NaN\", \"E76930\", \"2020-07-25\", NaN, \"https://www.waterqualitydata.us/data/providers/STORET/organizations/21FLFWC_WQX/activities/21FLFWC_WQX-KEYS100_K259B_DUP_FR/results/928942271/resdetectqntlmts\", \"Practical Quantitation Limit\", 0.5, \"ppm\", NaN, \"2022-01-27T11:33:35\", \"STORET\"], [\"21MSWQ_WQX\", \"MISSISSIPPI DEPARTMENT OF ENVIRONMENTAL QUALITY\", \"21MSWQ_WQX-157935-625\", \"Sample-Routine\", \"Water\", \"NaN\", \"2020-02-11\", \"11:45:00\", \"CDT\", \"NaN\", \"NaN\", \"NaN\", \"NaN\", 0.5, \"ft\", \"NaN\", NaN, \"NaN\", NaN, \"NaN\", \"BCH20;EPABEACH;MS951039\", \"BEACH MONITORING 2020;BEACH MONITORING 2024;LONG BEACH\", \"MISSISSIPPI DEPARTMENT OF ENVIRONMENTAL QUALITY\", \"21MSWQ_WQX-640MSDB07\", \"LONG BEACH\", NaN, NaN, NaN, NaN, 30.339944, -89.159722, \"Grab-DTSC\", \"21MSWQ_WQX\", \"Grab-Direct to Sample Container\", \"The collection of a sample utilizing no collection gear. The sample is collected directly into the sample container.\", \"Water Bottle\", \"STORET-882161868\", \"NaN\", \"NaN\", \"Organic carbon\", \"Total\", \"5\", \"mg/L\", \"NaN\", \"Accepted\", NaN, \"Actual\", NaN, NaN, NaN, NaN, NaN, NaN, NaN, NaN, NaN, \"NaN\", NaN, 0.5, \"ft\", NaN, NaN, NaN, NaN, NaN, NaN, \"5310-B\", \"APHA\", \"5310 B ~ Total Organic Carbon by Combustion-Infrared Method\", NaN, \"https://www.nemi.gov/methods/method_summary/5717/\", \"NaN\", \"NaN\", NaN, \"NaN\", \"NaN\", NaN, \"NaN\", NaN, \"2021-03-24T18:13:55\", \"STORET\"], [\"21FLFWC_WQX\", \"FLORIDA FISH AND WILDLIFE CONSERVATION COMMISSION\", \"21FLFWC_WQX-KEYS100_K259S_FS\", \"Sample-Routine\", \"Water\", \"Surface Water\", \"2020-07-09\", \"13:01:00\", \"EST\", \"NaN\", \"NaN\", \"NaN\", \"NaN\", 0.87, \"m\", \"NaN\", NaN, \"NaN\", NaN, \"NaN\", \"WQMP\", \"Water Quality Monitoring Program\", \"FLORIDA INTERNATIONAL UNIVERSITY\", \"21FLFWC_WQX-259-W\", \"Big Pine Shoal\", NaN, NaN, NaN, NaN, 24.57037, -81.32167, \"Direct Grab\", \"21FLFWC_WQX\", \"Direct Grab\", \"An individual sample collected at one time period, generally not exceeding 15 minutes.  Grab samples represent the conditions that exist at the moment the sample is collected.  Use sample container to directly collect the sample.  For Aqueous matrices, all sample containers for individual analytes or analyte groups must be filled from the sampling location or source within the 15-minute window.\", \"Water Bottle\", \"STORET-928952273\", \"NaN\", \"NaN\", \"Organic carbon\", \"Total\", \"1.514\", \"ppm\", \"NaN\", \"Final\", NaN, \"Actual\", NaN, NaN, NaN, NaN, NaN, NaN, NaN, NaN, NaN, \"NaN\", NaN, NaN, \"NaN\", NaN, NaN, NaN, NaN, NaN, NaN, \"FIU-TOC\", \"21FLFWC_WQX\", \"FIU-TOC\", NaN, \"NaN\", \"E76930\", \"2020-07-25\", NaN, \"https://www.waterqualitydata.us/data/providers/STORET/organizations/21FLFWC_WQX/activities/21FLFWC_WQX-KEYS100_K259S_FS/results/928952273/resdetectqntlmts\", \"Practical Quantitation Limit\", 0.5, \"ppm\", NaN, \"2022-01-27T11:34:46\", \"STORET\"], [\"LADEQWPD_WQX\", \"LDEQ/Water Planning and Assessment (Louisiana)\", \"LADEQWPD_WQX-0962-06182020-0920-Field\", \"Field Msr/Obs\", \"Water\", \"NaN\", \"2020-06-18\", \"09:20:00\", \"CST\", \"NaN\", \"NaN\", \"NaN\", \"NaN\", 1.0, \"m\", \"NaN\", NaN, \"NaN\", NaN, \"NaN\", \"WQ1958001\", \"Statewide Water Quality Monitoring Network\", \"NaN\", \"LADEQWPD_WQX-0962\", \"Gulf of Mexico South of Wine Island Pass, Louisiana\", NaN, NaN, NaN, NaN, 29.058571, -90.633424, \"LADEQ QAPP\", \"LADEQWPD_WQX\", \"Quality Assurance Project Plan for the Ambient Water Quality Monitoring Network\", \"NaN\", \"Water Bottle\", \"STORET-959671298\", \"NaN\", \"NaN\", \"Oil and Grease surface slick/sheen (Y/N) (choice list)\", \"NaN\", \"N\", \"NaN\", \"NaN\", \"Final\", NaN, \"Actual\", NaN, NaN, NaN, NaN, NaN, NaN, NaN, NaN, NaN, \"NaN\", NaN, NaN, \"NaN\", NaN, NaN, NaN, NaN, NaN, NaN, \"NaN\", \"NaN\", \"NaN\", NaN, \"NaN\", \"NaN\", \"NaN\", NaN, \"NaN\", \"NaN\", NaN, \"NaN\", NaN, \"2022-12-19T11:40:06\", \"STORET\"], [\"21FLFWC_WQX\", \"FLORIDA FISH AND WILDLIFE CONSERVATION COMMISSION\", \"21FLFWC_WQX-KEYS100_K307S_FS\", \"Sample-Routine\", \"Water\", \"Surface Water\", \"2020-07-15\", \"13:35:00\", \"EST\", \"NaN\", \"NaN\", \"NaN\", \"NaN\", 0.74, \"m\", \"NaN\", NaN, \"NaN\", NaN, \"NaN\", \"WQMP\", \"Water Quality Monitoring Program\", \"FLORIDA INTERNATIONAL UNIVERSITY\", \"21FLFWC_WQX-307-W\", \"Tarpon Belly Keys\", NaN, NaN, NaN, NaN, 24.72503, -81.52052, \"Direct Grab\", \"21FLFWC_WQX\", \"Direct Grab\", \"An individual sample collected at one time period, generally not exceeding 15 minutes.  Grab samples represent the conditions that exist at the moment the sample is collected.  Use sample container to directly collect the sample.  For Aqueous matrices, all sample containers for individual analytes or analyte groups must be filled from the sampling location or source within the 15-minute window.\", \"Water Bottle\", \"STORET-928940014\", \"NaN\", \"NaN\", \"Organic carbon\", \"Total\", \"1.898\", \"ppm\", \"NaN\", \"Final\", NaN, \"Actual\", NaN, NaN, NaN, NaN, NaN, NaN, NaN, NaN, NaN, \"NaN\", NaN, NaN, \"NaN\", NaN, NaN, NaN, NaN, NaN, NaN, \"FIU-TOC\", \"21FLFWC_WQX\", \"FIU-TOC\", NaN, \"NaN\", \"E76930\", \"2020-07-30\", NaN, \"https://www.waterqualitydata.us/data/providers/STORET/organizations/21FLFWC_WQX/activities/21FLFWC_WQX-KEYS100_K307S_FS/results/928940014/resdetectqntlmts\", \"Practical Quantitation Limit\", 0.5, \"ppm\", NaN, \"2022-01-27T11:33:20\", \"STORET\"], [\"WTGHA\", \"Wompanoag Tribe of Gay Head Aquinnah (Tribal)\", \"WTGHA-P1:20200106:SR:B\", \"Sample-Routine\", \"Water\", \"NaN\", \"2020-01-06\", \"NaN\", \"NaN\", \"NaN\", \"NaN\", \"NaN\", \"NaN\", NaN, \"NaN\", \"NaN\", NaN, \"NaN\", NaN, \"NaN\", \"WTGHA\", \"The Wampanoag Tribe of Gay Head Aquinnah\", \"NaN\", \"WTGHA-P1\", \"P1 | Menemsha Perimenter | Lobsterville Beach\", NaN, NaN, NaN, NaN, 41.349306, -70.788056, \"NaN\", \"NaN\", \"NaN\", \"NaN\", \"Bucket\", \"STORET-1041358423\", \"NaN\", \"as P\", \"Phosphated pesticides\", \"Total\", \"0.09\", \"mg/L\", \"NaN\", \"Final\", NaN, \"Actual\", NaN, NaN, NaN, NaN, NaN, NaN, NaN, NaN, NaN, \"NaN\", NaN, NaN, \"NaN\", NaN, NaN, NaN, NaN, NaN, NaN, \"8048\", \"HACH\", \"Reactive Phosphorus in Water\", NaN, \"https://www.nemi.gov/methods/method_summary/4828/\", \"NaN\", \"NaN\", NaN, \"NaN\", \"NaN\", NaN, \"NaN\", NaN, \"2024-09-19T09:12:46\", \"STORET\"], [\"LADEQWPD_WQX\", \"LDEQ/Water Planning and Assessment (Louisiana)\", \"LADEQWPD_WQX-0962-01302020-0945-Lab\", \"Sample-Routine\", \"Water\", \"NaN\", \"2020-01-30\", \"09:45:00\", \"CST\", \"NaN\", \"NaN\", \"NaN\", \"NaN\", NaN, \"NaN\", \"NaN\", NaN, \"NaN\", NaN, \"NaN\", \"WQ1958001\", \"Statewide Water Quality Monitoring Network\", \"NaN\", \"LADEQWPD_WQX-0962\", \"Gulf of Mexico South of Wine Island Pass, Louisiana\", NaN, NaN, NaN, NaN, 29.058571, -90.633424, \"LADEQ QAPP\", \"LADEQWPD_WQX\", \"Quality Assurance Project Plan for the Ambient Water Quality Monitoring Network\", \"NaN\", \"Water Bottle\", \"STORET-959687213\", \"Not Detected\", \"NaN\", \"Tetrachloroethylene\", \"Total\", \"NaN\", \"NaN\", \"NaN\", \"Final\", NaN, \"Actual\", NaN, NaN, NaN, NaN, NaN, NaN, NaN, NaN, NaN, \"NaN\", NaN, NaN, \"NaN\", NaN, NaN, NaN, NaN, NaN, NaN, \"624\", \"USEPA\", \"Purgeable Organics in Wastewater\", NaN, \"https://www.nemi.gov/methods/method_summary/5249/\", \"NaN\", \"2020-02-05\", NaN, \"https://www.waterqualitydata.us/data/providers/STORET/organizations/LADEQWPD_WQX/activities/LADEQWPD_WQX-0962-01302020-0945-Lab/results/959687213/resdetectqntlmts\", \"Lower Reporting Limit\", 0.5, \"ug/L\", NaN, \"2022-12-19T11:43:18\", \"STORET\"], [\"WTGHA\", \"Wompanoag Tribe of Gay Head Aquinnah (Tribal)\", \"WTGHA-P1:20200114:SR:B\", \"Sample-Routine\", \"Water\", \"NaN\", \"2020-01-14\", \"NaN\", \"NaN\", \"NaN\", \"NaN\", \"NaN\", \"NaN\", NaN, \"NaN\", \"NaN\", NaN, \"NaN\", NaN, \"NaN\", \"WTGHA\", \"The Wampanoag Tribe of Gay Head Aquinnah\", \"NaN\", \"WTGHA-P1\", \"P1 | Menemsha Perimenter | Lobsterville Beach\", NaN, NaN, NaN, NaN, 41.349306, -70.788056, \"NaN\", \"NaN\", \"NaN\", \"NaN\", \"Bucket\", \"STORET-1041358486\", \"NaN\", \"as P\", \"Phosphated pesticides\", \"Total\", \"0.13\", \"mg/L\", \"NaN\", \"Final\", NaN, \"Actual\", NaN, NaN, NaN, NaN, NaN, NaN, NaN, NaN, NaN, \"NaN\", NaN, NaN, \"NaN\", NaN, NaN, NaN, NaN, NaN, NaN, \"8048\", \"HACH\", \"Reactive Phosphorus in Water\", NaN, \"https://www.nemi.gov/methods/method_summary/4828/\", \"NaN\", \"NaN\", NaN, \"NaN\", \"NaN\", NaN, \"NaN\", NaN, \"2024-09-19T09:12:47\", \"STORET\"], [\"21FLFWC_WQX\", \"FLORIDA FISH AND WILDLIFE CONSERVATION COMMISSION\", \"21FLFWC_WQX-KEYS100_K242B_FS\", \"Sample-Routine\", \"Water\", \"Surface Water\", \"2020-06-15\", \"12:29:00\", \"EST\", \"NaN\", \"NaN\", \"NaN\", \"NaN\", 4.69, \"m\", \"NaN\", NaN, \"NaN\", NaN, \"NaN\", \"WQMP\", \"Water Quality Monitoring Program\", \"FLORIDA INTERNATIONAL UNIVERSITY\", \"21FLFWC_WQX-242-W\", \"Long Key Channel\", NaN, NaN, NaN, NaN, 24.7915, -80.81225, \"Direct Grab\", \"21FLFWC_WQX\", \"Direct Grab\", \"An individual sample collected at one time period, generally not exceeding 15 minutes.  Grab samples represent the conditions that exist at the moment the sample is collected.  Use sample container to directly collect the sample.  For Aqueous matrices, all sample containers for individual analytes or analyte groups must be filled from the sampling location or source within the 15-minute window.\", \"Water Bottle\", \"STORET-928955519\", \"NaN\", \"NaN\", \"Organic carbon\", \"Total\", \"1.11\", \"ppm\", \"NaN\", \"Final\", NaN, \"Actual\", NaN, NaN, NaN, NaN, NaN, NaN, NaN, NaN, NaN, \"NaN\", NaN, NaN, \"NaN\", NaN, NaN, NaN, NaN, NaN, NaN, \"FIU-TOC\", \"21FLFWC_WQX\", \"FIU-TOC\", NaN, \"NaN\", \"E76930\", \"2020-07-01\", NaN, \"https://www.waterqualitydata.us/data/providers/STORET/organizations/21FLFWC_WQX/activities/21FLFWC_WQX-KEYS100_K242B_FS/results/928955519/resdetectqntlmts\", \"Practical Quantitation Limit\", 0.5, \"ppm\", NaN, \"2022-01-27T11:35:08\", \"STORET\"], [\"TCEQMAIN\", \"Texas Commission on Environmental Quality\", \"TCEQMAIN-14794388\", \"Field Msr/Obs\", \"Water\", \"NaN\", \"2020-02-05\", \"NaN\", \"NaN\", \"NaN\", \"NaN\", \"NaN\", \"NaN\", NaN, \"NaN\", \"NaN\", NaN, \"NaN\", NaN, \"NaN\", \"1469\", \"SWQM Routine Monitoring FY20\", \"NaN\", \"TCEQMAIN-13463\", \"GULF OF MEXICO AT COUNTY LINE\", NaN, NaN, NaN, NaN, 29.5583, -94.3542, \"NaN\", \"NaN\", \"NaN\", \"NaN\", \"NaN\", \"STORET-920454166\", \"NaN\", \"NaN\", \"Organic carbon\", \"Total\", \"2\", \"mg/L\", \"NaN\", \"Final\", NaN, \"Actual\", NaN, NaN, NaN, NaN, NaN, NaN, NaN, NaN, NaN, \"NaN\", NaN, NaN, \"NaN\", NaN, NaN, NaN, NaN, NaN, NaN, \"N/A Calculation\", \"TCEQMAIN\", \"N/A Calculation\", NaN, \"NaN\", \"NaN\", \"NaN\", NaN, \"NaN\", \"NaN\", NaN, \"NaN\", NaN, \"2021-12-02T11:16:39\", \"STORET\"], [\"21FLFWC_WQX\", \"FLORIDA FISH AND WILDLIFE CONSERVATION COMMISSION\", \"21FLFWC_WQX-KEYS102_K310S_DUP_FR\", \"Quality Control Sample-Field Replicate\", \"Water\", \"Surface Water\", \"2020-12-16\", \"13:35:00\", \"EST\", \"NaN\", \"NaN\", \"NaN\", \"NaN\", 0.69, \"m\", \"NaN\", NaN, \"NaN\", NaN, \"NaN\", \"WQMP\", \"Water Quality Monitoring Program\", \"FLORIDA INTERNATIONAL UNIVERSITY\", \"21FLFWC_WQX-310-W\", \"Snipe Keys\", NaN, NaN, NaN, NaN, 24.65752, -81.63265, \"Direct Grab\", \"21FLFWC_WQX\", \"Direct Grab\", \"An individual sample collected at one time period, generally not exceeding 15 minutes.  Grab samples represent the conditions that exist at the moment the sample is collected.  Use sample container to directly collect the sample.  For Aqueous matrices, all sample containers for individual analytes or analyte groups must be filled from the sampling location or source within the 15-minute window.\", \"Water Bottle\", \"STORET-928951726\", \"NaN\", \"NaN\", \"Organic carbon\", \"Total\", \"2.616\", \"ppm\", \"NaN\", \"Final\", NaN, \"Actual\", NaN, NaN, NaN, NaN, NaN, NaN, NaN, NaN, NaN, \"NaN\", NaN, NaN, \"NaN\", NaN, NaN, NaN, NaN, NaN, NaN, \"FIU-TOC\", \"21FLFWC_WQX\", \"FIU-TOC\", NaN, \"NaN\", \"E76930\", \"2020-12-29\", NaN, \"https://www.waterqualitydata.us/data/providers/STORET/organizations/21FLFWC_WQX/activities/21FLFWC_WQX-KEYS102_K310S_DUP_FR/results/928951726/resdetectqntlmts\", \"Practical Quantitation Limit\", 0.5, \"ppm\", NaN, \"2022-01-27T11:34:42\", \"STORET\"], [\"21FLCRCP_WQX\", \"CORAL REEF CONSERVATION PROGRAM\", \"21FLCRCP_WQX-HIL058 S 6/5/2020 13:00\", \"Sample-Routine\", \"Water\", \"Surface Water\", \"2020-06-05\", \"13:00:00\", \"EST\", \"NaN\", \"NaN\", \"NaN\", \"NaN\", 0.5, \"m\", \"NaN\", NaN, \"NaN\", NaN, \"NaN\", \"FRTWQA\", \"Florida Reef Tract Nutrient Water Quality Assessment\", \"CORAL REEF CONSERVATION PROGRAM\", \"21FLCRCP_WQX-HIL058\", \"HIL058\", NaN, NaN, NaN, NaN, 26.19612, -80.091, \"Intermediate Grab\", \"21FLCRCP_WQX\", \"Intermediate Grab\", \"An individual sample collected at one time period, generally not exceeding 15 minutes.  Grab samples represent the conditions that exist at the moment the sample is collected.  An intermediate device, vessel or another sample container is used to collect the intermediate grab sample. The sample is then transferred to the sample container and sent to the lab.\", \"Water Bottle\", \"STORET-968340318\", \"NaN\", \"NaN\", \"Organic carbon\", \"Total\", \"1.58\", \"mg/L\", \"NaN\", \"Final\", NaN, \"Actual\", NaN, NaN, NaN, NaN, NaN, NaN, NaN, NaN, NaN, \"**I**\", NaN, NaN, \"NaN\", NaN, NaN, NaN, NaN, NaN, NaN, \"5310-B\", \"APHA\", \"5310 B ~ Total Organic Carbon by Combustion-Infrared Method\", NaN, \"https://www.nemi.gov/methods/method_summary/5717/\", \"E56441\", \"2020-06-10\", NaN, \"https://www.waterqualitydata.us/data/providers/STORET/organizations/21FLCRCP_WQX/activities/21FLCRCP_WQX-HIL058%20S%206%2F5%2F2020%2013%3A00/results/968340318/resdetectqntlmts\", \"Practical Quantitation Limit\", 2.48, \"mg/L\", NaN, \"2023-02-24T11:33:48\", \"STORET\"], [\"21AWIC\", \"ALABAMA DEPT. OF ENVIRONMENTAL MANAGEMENT - WATER QUALITY DATA\", \"21AWIC-291705_154595_173\", \"Sample-Integrated Vertical Profile\", \"Water\", \"NaN\", \"2020-05-21\", \"07:05:00\", \"CST\", \"NaN\", \"NaN\", \"NaN\", \"NaN\", NaN, \"NaN\", \"SURFACE\", 0.1, \"ft\", 11.54, \"m\", \"863\", \"CY2020_COASTAL_WATERS_MONITORING_PROGRAM_MOBILE_BAY\", \"21AWIC\", \"21AWIC-1092\", \"MB-2A\", NaN, NaN, NaN, NaN, 30.1718, -88.04895, \"5\", \"21AWIC\", \"ADEM SOPs-2000 Series-Surface Water\", \"NaN\", \"Water Sampler (Other)\", \"STORET-859716901\", \"Not Detected\", \"NaN\", \"Organic carbon\", \"Dissolved\", \"NaN\", \"NaN\", \"NaN\", \"Final\", NaN, \"Actual\", NaN, NaN, NaN, NaN, NaN, NaN, NaN, NaN, NaN, \"NaN\", NaN, NaN, \"NaN\", NaN, NaN, NaN, NaN, NaN, NaN, \"5310-C\", \"APHA\", \"5310 C ~ Total Organic Carbon in Water- Ultraviolet Oxidation Method\", NaN, \"https://www.nemi.gov/methods/method_summary/5718/\", \"ADEM - CENTRAL LAB\", \"2020-06-03\", NaN, \"https://www.waterqualitydata.us/data/providers/STORET/organizations/21AWIC/activities/21AWIC-291705_154595_173/results/859716901/resdetectqntlmts\", \"Method Detection Level\", 458.0, \"mg/L\", NaN, \"2020-10-08T17:23:25\", \"STORET\"], [\"21FLCRCP_WQX\", \"CORAL REEF CONSERVATION PROGRAM\", \"21FLCRCP_WQX-BOC082 S 5/20/2020 10:25\", \"Sample-Routine\", \"Water\", \"Surface Water\", \"2020-05-20\", \"10:25:00\", \"EST\", \"NaN\", \"NaN\", \"NaN\", \"NaN\", 0.5, \"m\", \"NaN\", NaN, \"NaN\", NaN, \"NaN\", \"FRTWQA\", \"Florida Reef Tract Nutrient Water Quality Assessment\", \"CORAL REEF CONSERVATION PROGRAM\", \"21FLCRCP_WQX-BOC082\", \"BOC082\", NaN, NaN, NaN, NaN, 26.35451, -80.05444, \"Intermediate Grab\", \"21FLCRCP_WQX\", \"Intermediate Grab\", \"An individual sample collected at one time period, generally not exceeding 15 minutes.  Grab samples represent the conditions that exist at the moment the sample is collected.  An intermediate device, vessel or another sample container is used to collect the intermediate grab sample. The sample is then transferred to the sample container and sent to the lab.\", \"Water Bottle\", \"STORET-968394666\", \"NaN\", \"NaN\", \"Organic carbon\", \"Total\", \"1.01\", \"mg/L\", \"NaN\", \"Final\", NaN, \"Actual\", NaN, NaN, NaN, NaN, NaN, NaN, NaN, NaN, NaN, \"**I**\", NaN, NaN, \"NaN\", NaN, NaN, NaN, NaN, NaN, NaN, \"5310-B\", \"APHA\", \"5310 B ~ Total Organic Carbon by Combustion-Infrared Method\", NaN, \"https://www.nemi.gov/methods/method_summary/5717/\", \"E56441\", \"2020-05-28\", NaN, \"https://www.waterqualitydata.us/data/providers/STORET/organizations/21FLCRCP_WQX/activities/21FLCRCP_WQX-BOC082%20S%205%2F20%2F2020%2010%3A25/results/968394666/resdetectqntlmts\", \"Practical Quantitation Limit\", 2.48, \"mg/L\", NaN, \"2023-02-24T11:41:59\", \"STORET\"], [\"21FLCRCP_WQX\", \"CORAL REEF CONSERVATION PROGRAM\", \"21FLCRCP_WQX-BOY090 B 6/8/2020 10:55\", \"Sample-Routine\", \"Water\", \"Surface Water\", \"2020-06-08\", \"10:55:00\", \"EST\", \"NaN\", \"NaN\", \"NaN\", \"NaN\", 4.1, \"m\", \"NaN\", NaN, \"NaN\", NaN, \"NaN\", \"FRTWQA\", \"Florida Reef Tract Nutrient Water Quality Assessment\", \"CORAL REEF CONSERVATION PROGRAM\", \"21FLCRCP_WQX-BOY090\", \"BOY090\", NaN, NaN, NaN, NaN, 26.54417, -80.04057, \"Intermediate Grab\", \"21FLCRCP_WQX\", \"Intermediate Grab\", \"An individual sample collected at one time period, generally not exceeding 15 minutes.  Grab samples represent the conditions that exist at the moment the sample is collected.  An intermediate device, vessel or another sample container is used to collect the intermediate grab sample. The sample is then transferred to the sample container and sent to the lab.\", \"Niskin Bottle\", \"STORET-968337264\", \"NaN\", \"NaN\", \"Organic carbon\", \"Total\", \"1.08\", \"mg/L\", \"NaN\", \"Final\", NaN, \"Actual\", NaN, NaN, NaN, NaN, NaN, NaN, NaN, NaN, NaN, \"**I**\", NaN, NaN, \"NaN\", NaN, NaN, NaN, NaN, NaN, NaN, \"5310-B\", \"APHA\", \"5310 B ~ Total Organic Carbon by Combustion-Infrared Method\", NaN, \"https://www.nemi.gov/methods/method_summary/5717/\", \"E56441\", \"2020-06-10\", NaN, \"https://www.waterqualitydata.us/data/providers/STORET/organizations/21FLCRCP_WQX/activities/21FLCRCP_WQX-BOY090%20B%206%2F8%2F2020%2010%3A55/results/968337264/resdetectqntlmts\", \"Practical Quantitation Limit\", 2.48, \"mg/L\", NaN, \"2023-02-24T11:33:15\", \"STORET\"], [\"21FLCRCP_WQX\", \"CORAL REEF CONSERVATION PROGRAM\", \"21FLCRCP_WQX-PEV041 B 6/9/2020 15:10\", \"Sample-Routine\", \"Water\", \"Surface Water\", \"2020-06-09\", \"15:10:00\", \"EST\", \"NaN\", \"NaN\", \"NaN\", \"NaN\", 5.6, \"m\", \"NaN\", NaN, \"NaN\", NaN, \"NaN\", \"FRTWQA\", \"Florida Reef Tract Nutrient Water Quality Assessment\", \"CORAL REEF CONSERVATION PROGRAM\", \"21FLCRCP_WQX-PEV041\", \"PEV041\", NaN, NaN, NaN, NaN, 26.09752, -80.097333, \"Intermediate Grab\", \"21FLCRCP_WQX\", \"Intermediate Grab\", \"An individual sample collected at one time period, generally not exceeding 15 minutes.  Grab samples represent the conditions that exist at the moment the sample is collected.  An intermediate device, vessel or another sample container is used to collect the intermediate grab sample. The sample is then transferred to the sample container and sent to the lab.\", \"Niskin Bottle\", \"STORET-968394302\", \"NaN\", \"NaN\", \"Organic carbon\", \"Total\", \"1.13\", \"mg/L\", \"NaN\", \"Final\", NaN, \"Actual\", NaN, NaN, NaN, NaN, NaN, NaN, NaN, NaN, NaN, \"**I**\", NaN, NaN, \"NaN\", NaN, NaN, NaN, NaN, NaN, NaN, \"5310-B\", \"APHA\", \"5310 B ~ Total Organic Carbon by Combustion-Infrared Method\", NaN, \"https://www.nemi.gov/methods/method_summary/5717/\", \"E56441\", \"2020-06-15\", NaN, \"https://www.waterqualitydata.us/data/providers/STORET/organizations/21FLCRCP_WQX/activities/21FLCRCP_WQX-PEV041%20B%206%2F9%2F2020%2015%3A10/results/968394302/resdetectqntlmts\", \"Practical Quantitation Limit\", 2.48, \"mg/L\", NaN, \"2023-02-24T11:41:56\", \"STORET\"], [\"21FLFWC_WQX\", \"FLORIDA FISH AND WILDLIFE CONSERVATION COMMISSION\", \"21FLFWC_WQX-KEYS101_K259B_DUP_FR\", \"Quality Control Sample-Field Replicate\", \"Water\", \"Surface Water\", \"2020-10-11\", \"10:29:00\", \"EST\", \"NaN\", \"NaN\", \"NaN\", \"NaN\", 7.11, \"m\", \"NaN\", NaN, \"NaN\", NaN, \"NaN\", \"WQMP\", \"Water Quality Monitoring Program\", \"FLORIDA INTERNATIONAL UNIVERSITY\", \"21FLFWC_WQX-259-W\", \"Big Pine Shoal\", NaN, NaN, NaN, NaN, 24.57037, -81.32167, \"Direct Grab\", \"21FLFWC_WQX\", \"Direct Grab\", \"An individual sample collected at one time period, generally not exceeding 15 minutes.  Grab samples represent the conditions that exist at the moment the sample is collected.  Use sample container to directly collect the sample.  For Aqueous matrices, all sample containers for individual analytes or analyte groups must be filled from the sampling location or source within the 15-minute window.\", \"Water Bottle\", \"STORET-928946895\", \"NaN\", \"NaN\", \"Organic carbon\", \"Total\", \"0.8827\", \"ppm\", \"NaN\", \"Final\", NaN, \"Actual\", NaN, NaN, NaN, NaN, NaN, NaN, NaN, NaN, NaN, \"NaN\", NaN, NaN, \"NaN\", NaN, NaN, NaN, NaN, NaN, NaN, \"FIU-TOC\", \"21FLFWC_WQX\", \"FIU-TOC\", NaN, \"NaN\", \"E76930\", \"2020-10-22\", NaN, \"https://www.waterqualitydata.us/data/providers/STORET/organizations/21FLFWC_WQX/activities/21FLFWC_WQX-KEYS101_K259B_DUP_FR/results/928946895/resdetectqntlmts\", \"Practical Quantitation Limit\", 0.5, \"ppm\", NaN, \"2022-01-27T11:34:10\", \"STORET\"], [\"21FLCRCP_WQX\", \"CORAL REEF CONSERVATION PROGRAM\", \"21FLCRCP_WQX-PEV044 B 6/9/2020 15:55\", \"Sample-Routine\", \"Water\", \"Surface Water\", \"2020-06-09\", \"15:55:00\", \"EST\", \"NaN\", \"NaN\", \"NaN\", \"NaN\", 0.7, \"m\", \"NaN\", NaN, \"NaN\", NaN, \"NaN\", \"FRTWQA\", \"Florida Reef Tract Nutrient Water Quality Assessment\", \"CORAL REEF CONSERVATION PROGRAM\", \"21FLCRCP_WQX-PEV044\", \"PEV044\", NaN, NaN, NaN, NaN, 26.159983, -80.090283, \"Intermediate Grab\", \"21FLCRCP_WQX\", \"Intermediate Grab\", \"An individual sample collected at one time period, generally not exceeding 15 minutes.  Grab samples represent the conditions that exist at the moment the sample is collected.  An intermediate device, vessel or another sample container is used to collect the intermediate grab sample. The sample is then transferred to the sample container and sent to the lab.\", \"Niskin Bottle\", \"STORET-968345011\", \"NaN\", \"NaN\", \"Organic carbon\", \"Total\", \"1.33\", \"mg/L\", \"NaN\", \"Final\", NaN, \"Actual\", NaN, NaN, NaN, NaN, NaN, NaN, NaN, NaN, NaN, \"**I**\", NaN, NaN, \"NaN\", NaN, NaN, NaN, NaN, NaN, NaN, \"5310-B\", \"APHA\", \"5310 B ~ Total Organic Carbon by Combustion-Infrared Method\", NaN, \"https://www.nemi.gov/methods/method_summary/5717/\", \"E56441\", \"2020-06-15\", NaN, \"https://www.waterqualitydata.us/data/providers/STORET/organizations/21FLCRCP_WQX/activities/21FLCRCP_WQX-PEV044%20B%206%2F9%2F2020%2015%3A55/results/968345011/resdetectqntlmts\", \"Practical Quantitation Limit\", 2.48, \"mg/L\", NaN, \"2023-02-24T11:34:35\", \"STORET\"], [\"LADEQWPD_WQX\", \"LDEQ/Water Planning and Assessment (Louisiana)\", \"LADEQWPD_WQX-0962-05212020-0923-Lab\", \"Sample-Routine\", \"Water\", \"NaN\", \"2020-05-21\", \"09:23:00\", \"CST\", \"NaN\", \"NaN\", \"NaN\", \"NaN\", 1.0, \"m\", \"NaN\", NaN, \"NaN\", NaN, \"NaN\", \"WQ1958001\", \"Statewide Water Quality Monitoring Network\", \"NaN\", \"LADEQWPD_WQX-0962\", \"Gulf of Mexico South of Wine Island Pass, Louisiana\", NaN, NaN, NaN, NaN, 29.058571, -90.633424, \"LADEQ QAPP\", \"LADEQWPD_WQX\", \"Quality Assurance Project Plan for the Ambient Water Quality Monitoring Network\", \"NaN\", \"Water Bottle\", \"STORET-959660339\", \"Not Detected\", \"NaN\", \"Toluene\", \"Total\", \"NaN\", \"NaN\", \"NaN\", \"Final\", NaN, \"Actual\", NaN, NaN, NaN, NaN, NaN, NaN, NaN, NaN, NaN, \"NaN\", NaN, NaN, \"NaN\", NaN, NaN, NaN, NaN, NaN, NaN, \"624\", \"USEPA\", \"Purgeable Organics in Wastewater\", NaN, \"https://www.nemi.gov/methods/method_summary/5249/\", \"NaN\", \"2020-05-26\", NaN, \"https://www.waterqualitydata.us/data/providers/STORET/organizations/LADEQWPD_WQX/activities/LADEQWPD_WQX-0962-05212020-0923-Lab/results/959660339/resdetectqntlmts\", \"Lower Reporting Limit\", 0.5, \"ug/L\", NaN, \"2022-12-19T11:37:46\", \"STORET\"], [\"21FLCRCP_WQX\", \"CORAL REEF CONSERVATION PROGRAM\", \"21FLCRCP_WQX-BOC071 S 5/20/2020 11:05\", \"Sample-Routine\", \"Water\", \"Surface Water\", \"2020-05-20\", \"11:05:00\", \"EST\", \"NaN\", \"NaN\", \"NaN\", \"NaN\", 0.5, \"m\", \"NaN\", NaN, \"NaN\", NaN, \"NaN\", \"FRTWQA\", \"Florida Reef Tract Nutrient Water Quality Assessment\", \"CORAL REEF CONSERVATION PROGRAM\", \"21FLCRCP_WQX-BOC071\", \"BOC071\", NaN, NaN, NaN, NaN, 26.34027, -80.069389, \"Intermediate Grab\", \"21FLCRCP_WQX\", \"Intermediate Grab\", \"An individual sample collected at one time period, generally not exceeding 15 minutes.  Grab samples represent the conditions that exist at the moment the sample is collected.  An intermediate device, vessel or another sample container is used to collect the intermediate grab sample. The sample is then transferred to the sample container and sent to the lab.\", \"Water Bottle\", \"STORET-968388278\", \"NaN\", \"NaN\", \"Organic carbon\", \"Total\", \"0.994\", \"mg/L\", \"NaN\", \"Final\", NaN, \"Actual\", NaN, NaN, NaN, NaN, NaN, NaN, NaN, NaN, NaN, \"**I**\", NaN, NaN, \"NaN\", NaN, NaN, NaN, NaN, NaN, NaN, \"5310-B\", \"APHA\", \"5310 B ~ Total Organic Carbon by Combustion-Infrared Method\", NaN, \"https://www.nemi.gov/methods/method_summary/5717/\", \"E56441\", \"2020-05-28\", NaN, \"https://www.waterqualitydata.us/data/providers/STORET/organizations/21FLCRCP_WQX/activities/21FLCRCP_WQX-BOC071%20S%205%2F20%2F2020%2011%3A05/results/968388278/resdetectqntlmts\", \"Practical Quantitation Limit\", 2.48, \"mg/L\", NaN, \"2023-02-24T11:41:00\", \"STORET\"], [\"21FLCRCP_WQX\", \"CORAL REEF CONSERVATION PROGRAM\", \"21FLCRCP_WQX-BOC075 S 5/20/2020 12:45\", \"Sample-Routine\", \"Water\", \"Surface Water\", \"2020-05-20\", \"12:45:00\", \"EST\", \"NaN\", \"NaN\", \"NaN\", \"NaN\", 0.5, \"m\", \"NaN\", NaN, \"NaN\", NaN, \"NaN\", \"FRTWQA\", \"Florida Reef Tract Nutrient Water Quality Assessment\", \"CORAL REEF CONSERVATION PROGRAM\", \"21FLCRCP_WQX-BOC075\", \"BOC075\", NaN, NaN, NaN, NaN, 26.2986, -80.074683, \"Intermediate Grab\", \"21FLCRCP_WQX\", \"Intermediate Grab\", \"An individual sample collected at one time period, generally not exceeding 15 minutes.  Grab samples represent the conditions that exist at the moment the sample is collected.  An intermediate device, vessel or another sample container is used to collect the intermediate grab sample. The sample is then transferred to the sample container and sent to the lab.\", \"Water Bottle\", \"STORET-968394595\", \"NaN\", \"NaN\", \"Organic carbon\", \"Total\", \"1.06\", \"mg/L\", \"NaN\", \"Final\", NaN, \"Actual\", NaN, NaN, NaN, NaN, NaN, NaN, NaN, NaN, NaN, \"**I**\", NaN, NaN, \"NaN\", NaN, NaN, NaN, NaN, NaN, NaN, \"5310-B\", \"APHA\", \"5310 B ~ Total Organic Carbon by Combustion-Infrared Method\", NaN, \"https://www.nemi.gov/methods/method_summary/5717/\", \"E56441\", \"2020-05-28\", NaN, \"https://www.waterqualitydata.us/data/providers/STORET/organizations/21FLCRCP_WQX/activities/21FLCRCP_WQX-BOC075%20S%205%2F20%2F2020%2012%3A45/results/968394595/resdetectqntlmts\", \"Practical Quantitation Limit\", 2.48, \"mg/L\", NaN, \"2023-02-24T11:41:59\", \"STORET\"], [\"CEDEN\", \"California State Water Resources Control Board\", \"CEDEN--2144788955\", \"Sample-Routine\", \"Water\", \"NaN\", \"2020-01-06\", \"09:40:00\", \"PST\", \"NaN\", \"NaN\", \"NaN\", \"Surface\", NaN, \"NaN\", \"NaN\", NaN, \"NaN\", NaN, \"NaN\", \"BBM\", \"Beach Bacteria Monitoring\", \"NaN\", \"CEDEN-Wharf-East\", \"Santa Cruz Municipal Wharf-East at Cowell Beach\", NaN, NaN, NaN, NaN, 36.962, -122.022, \"Water_Grab\", \"CEDEN\", \"Water_Grab\", \"Method for generic water collection that was either grab or integrated\", \"Miscellaneous (Other)\", \"STORET-973291457\", \"NaN\", \"NaN\", \"2,3,3',4,5'-Pentachlorobiphenyl\", \"NaN\", \"10\", \"cfu/100mL\", \"NaN\", \"Final\", NaN, \"Actual\", NaN, NaN, NaN, NaN, NaN, NaN, NaN, NaN, NaN, \"1; AB08407\", NaN, NaN, \"NaN\", NaN, NaN, NaN, NaN, NaN, NaN, \"1343\", \"CEDEN\", \"SM 9230 C\", NaN, \"NaN\", \"NaN\", \"2020-01-06\", NaN, \"NaN\", \"NaN\", NaN, \"NaN\", NaN, \"2023-04-20T15:27:40\", \"STORET\"], [\"CEDEN\", \"California State Water Resources Control Board\", \"CEDEN--2144237809\", \"Sample-Routine\", \"Water\", \"NaN\", \"2020-10-06\", \"12:05:00\", \"PST\", \"NaN\", \"NaN\", \"NaN\", \"NaN\", NaN, \"NaN\", \"NaN\", NaN, \"NaN\", NaN, \"NaN\", \"CitySD_BacteriaTMDL\", \"City of San Diego Bacteria TMDL\", \"NaN\", \"CEDEN-CSD-031\", \"WindanSea at Palomar\", NaN, NaN, NaN, NaN, 32.8261, -117.28, \"Water_Grab\", \"CEDEN\", \"Water_Grab\", \"Method for generic water collection that was either grab or integrated\", \"Miscellaneous (Other)\", \"STORET-973130148\", \"NaN\", \"NaN\", \"2,3,3',4,5'-Pentachlorobiphenyl\", \"NaN\", \"4\", \"cfu/100mL\", \"J\", \"Final\", NaN, \"Actual\", NaN, NaN, NaN, NaN, NaN, NaN, NaN, NaN, NaN, \"1; CSD-031-RW-G-01\", NaN, NaN, \"NaN\", NaN, NaN, NaN, NaN, NaN, NaN, \"4069\", \"CEDEN\", \"EPA 1600\", NaN, \"NaN\", \"NaN\", \"2020-10-06\", NaN, \"NaN\", \"NaN\", NaN, \"NaN\", NaN, \"2023-04-13T14:46:25\", \"STORET\"], [\"21FLFWC_WQX\", \"FLORIDA FISH AND WILDLIFE CONSERVATION COMMISSION\", \"21FLFWC_WQX-KEYS102_K271B_FS\", \"Sample-Routine\", \"Water\", \"Surface Water\", \"2020-12-14\", \"13:35:00\", \"EST\", \"NaN\", \"NaN\", \"NaN\", \"NaN\", 7.69, \"m\", \"NaN\", NaN, \"NaN\", NaN, \"NaN\", \"WQMP\", \"Water Quality Monitoring Program\", \"FLORIDA INTERNATIONAL UNIVERSITY\", \"21FLFWC_WQX-271-W\", \"Boca Chica Key\", NaN, NaN, NaN, NaN, 24.55667, -81.66667, \"Direct Grab\", \"21FLFWC_WQX\", \"Direct Grab\", \"An individual sample collected at one time period, generally not exceeding 15 minutes.  Grab samples represent the conditions that exist at the moment the sample is collected.  Use sample container to directly collect the sample.  For Aqueous matrices, all sample containers for individual analytes or analyte groups must be filled from the sampling location or source within the 15-minute window.\", \"Water Bottle\", \"STORET-928945953\", \"NaN\", \"NaN\", \"Organic carbon\", \"Total\", \"2.323\", \"ppm\", \"NaN\", \"Final\", NaN, \"Actual\", NaN, NaN, NaN, NaN, NaN, NaN, NaN, NaN, NaN, \"NaN\", NaN, NaN, \"NaN\", NaN, NaN, NaN, NaN, NaN, NaN, \"FIU-TOC\", \"21FLFWC_WQX\", \"FIU-TOC\", NaN, \"NaN\", \"E76930\", \"2021-01-03\", NaN, \"https://www.waterqualitydata.us/data/providers/STORET/organizations/21FLFWC_WQX/activities/21FLFWC_WQX-KEYS102_K271B_FS/results/928945953/resdetectqntlmts\", \"Practical Quantitation Limit\", 0.5, \"ppm\", NaN, \"2022-01-27T11:34:04\", \"STORET\"], [\"USEPAREGION9\", \"USEPA Region 9\", \"USEPAREGION9-Tumon_GS-02:20200730:1201:SR:WB:\", \"Sample-Routine\", \"Water\", \"NaN\", \"2020-07-30\", \"12:01:00\", \"MST\", \"NaN\", \"NaN\", \"NaN\", \"NaN\", NaN, \"NaN\", \"NaN\", NaN, \"NaN\", NaN, \"NaN\", \"Tumon_Bay_TMDL_2020_2021\", \"Tumon Bay TMDL\", \"NaN\", \"USEPAREGION9-Tumon_GS-02\", \"Tumon_GS-02\", NaN, NaN, NaN, NaN, 13.52345, 144.802014, \"TumanQAPPGrab\", \"USEPAREGION9\", \"QAPP Standard Grab Sample Method\", \"Grab Sample\", \"Water Bottle\", \"STORET-883583848\", \"Not Detected\", \"NaN\", \"Tetrachloroethylene\", \"Total\", \"NaN\", \"NaN\", \"NaN\", \"Final\", NaN, \"Actual\", NaN, NaN, NaN, NaN, NaN, NaN, NaN, NaN, NaN, \"NaN\", NaN, NaN, \"NaN\", NaN, NaN, NaN, NaN, NaN, NaN, \"8260C\", \"USEPA\", \"8260 C ~ Volatile Organic Compounds by GC/MS\", NaN, \"NaN\", \"NaN\", \"2020-08-11\", NaN, \"https://www.waterqualitydata.us/data/providers/STORET/organizations/USEPAREGION9/activities/USEPAREGION9-Tumon_GS-02%3A20200730%3A1201%3ASR%3AWB%3A/results/883583848/resdetectqntlmts\", \"Method Detection Level\", 2.0, \"ug/L\", NaN, \"2021-03-31T18:27:17\", \"STORET\"], [\"LADEQWPD_WQX\", \"LDEQ/Water Planning and Assessment (Louisiana)\", \"LADEQWPD_WQX-0962-02192020-0140-Field\", \"Field Msr/Obs\", \"Water\", \"NaN\", \"2020-02-19\", \"01:40:00\", \"CST\", \"NaN\", \"NaN\", \"NaN\", \"NaN\", 1.0, \"m\", \"NaN\", NaN, \"NaN\", NaN, \"NaN\", \"WQ1958001\", \"Statewide Water Quality Monitoring Network\", \"NaN\", \"LADEQWPD_WQX-0962\", \"Gulf of Mexico South of Wine Island Pass, Louisiana\", NaN, NaN, NaN, NaN, 29.058571, -90.633424, \"LADEQ QAPP\", \"LADEQWPD_WQX\", \"Quality Assurance Project Plan for the Ambient Water Quality Monitoring Network\", \"NaN\", \"Water Bottle\", \"STORET-959671330\", \"NaN\", \"NaN\", \"Oil and Grease surface slick/sheen (Y/N) (choice list)\", \"NaN\", \"N\", \"NaN\", \"NaN\", \"Final\", NaN, \"Actual\", NaN, NaN, NaN, NaN, NaN, NaN, NaN, NaN, NaN, \"NaN\", NaN, NaN, \"NaN\", NaN, NaN, NaN, NaN, NaN, NaN, \"NaN\", \"NaN\", \"NaN\", NaN, \"NaN\", \"NaN\", \"NaN\", NaN, \"NaN\", \"NaN\", NaN, \"NaN\", NaN, \"2022-12-19T11:40:06\", \"STORET\"], [\"LADEQWPD_WQX\", \"LDEQ/Water Planning and Assessment (Louisiana)\", \"LADEQWPD_WQX-1204-01082020-1040-Lab\", \"Sample-Routine\", \"Water\", \"NaN\", \"2020-01-08\", \"10:40:00\", \"CST\", \"NaN\", \"NaN\", \"NaN\", \"NaN\", NaN, \"NaN\", \"NaN\", NaN, \"NaN\", NaN, \"NaN\", \"WQ1958001\", \"Statewide Water Quality Monitoring Network\", \"NaN\", \"LADEQWPD_WQX-1204\", \"Atchafalaya Bay Southwest of Burns, Louisiana\", NaN, NaN, NaN, NaN, 29.50184, -91.563639, \"LADEQ QAPP\", \"LADEQWPD_WQX\", \"Quality Assurance Project Plan for the Ambient Water Quality Monitoring Network\", \"NaN\", \"Water Bottle\", \"STORET-959650243\", \"Not Detected\", \"NaN\", \"Chlorobenzene\", \"Total\", \"NaN\", \"NaN\", \"NaN\", \"Final\", NaN, \"Actual\", NaN, NaN, NaN, NaN, NaN, NaN, NaN, NaN, NaN, \"NaN\", NaN, NaN, \"NaN\", NaN, NaN, NaN, NaN, NaN, NaN, \"624.1\", \"USEPA\", \"Purgeables by GC/MS\", NaN, \"NaN\", \"NaN\", \"2020-01-10\", NaN, \"https://www.waterqualitydata.us/data/providers/STORET/organizations/LADEQWPD_WQX/activities/LADEQWPD_WQX-1204-01082020-1040-Lab/results/959650243/resdetectqntlmts\", \"Lower Reporting Limit\", 0.5, \"ug/L\", NaN, \"2022-12-19T11:34:59\", \"STORET\"], [\"21FLFWC_WQX\", \"FLORIDA FISH AND WILDLIFE CONSERVATION COMMISSION\", \"21FLFWC_WQX-KEYS102_K211S_FS\", \"Sample-Routine\", \"Water\", \"Surface Water\", \"2020-11-13\", \"10:19:00\", \"EST\", \"NaN\", \"NaN\", \"NaN\", \"NaN\", 0.69, \"m\", \"NaN\", NaN, \"NaN\", NaN, \"NaN\", \"WQMP\", \"Water Quality Monitoring Program\", \"FLORIDA INTERNATIONAL UNIVERSITY\", \"21FLFWC_WQX-211-W\", \"Pennikamp G27\", NaN, NaN, NaN, NaN, 25.30788, -80.26165, \"Direct Grab\", \"21FLFWC_WQX\", \"Direct Grab\", \"An individual sample collected at one time period, generally not exceeding 15 minutes.  Grab samples represent the conditions that exist at the moment the sample is collected.  Use sample container to directly collect the sample.  For Aqueous matrices, all sample containers for individual analytes or analyte groups must be filled from the sampling location or source within the 15-minute window.\", \"Water Bottle\", \"STORET-928950449\", \"NaN\", \"NaN\", \"Organic carbon\", \"Total\", \"1.37\", \"ppm\", \"NaN\", \"Final\", NaN, \"Actual\", NaN, NaN, NaN, NaN, NaN, NaN, NaN, NaN, NaN, \"NaN\", NaN, NaN, \"NaN\", NaN, NaN, NaN, NaN, NaN, NaN, \"FIU-TOC\", \"21FLFWC_WQX\", \"FIU-TOC\", NaN, \"NaN\", \"E76930\", \"2020-12-04\", NaN, \"https://www.waterqualitydata.us/data/providers/STORET/organizations/21FLFWC_WQX/activities/21FLFWC_WQX-KEYS102_K211S_FS/results/928950449/resdetectqntlmts\", \"Practical Quantitation Limit\", 0.5, \"ppm\", NaN, \"2022-01-27T11:34:34\", \"STORET\"], [\"21FLCRCP_WQX\", \"CORAL REEF CONSERVATION PROGRAM\", \"21FLCRCP_WQX-HIL056 B 6/5/2020 12:35\", \"Sample-Routine\", \"Water\", \"Surface Water\", \"2020-06-05\", \"12:35:00\", \"EST\", \"NaN\", \"NaN\", \"NaN\", \"NaN\", 1.9, \"m\", \"NaN\", NaN, \"NaN\", NaN, \"NaN\", \"FRTWQA\", \"Florida Reef Tract Nutrient Water Quality Assessment\", \"CORAL REEF CONSERVATION PROGRAM\", \"21FLCRCP_WQX-HIL056\", \"HIL056\", NaN, NaN, NaN, NaN, 26.228683, -80.083817, \"Intermediate Grab\", \"21FLCRCP_WQX\", \"Intermediate Grab\", \"An individual sample collected at one time period, generally not exceeding 15 minutes.  Grab samples represent the conditions that exist at the moment the sample is collected.  An intermediate device, vessel or another sample container is used to collect the intermediate grab sample. The sample is then transferred to the sample container and sent to the lab.\", \"Niskin Bottle\", \"STORET-968430713\", \"NaN\", \"NaN\", \"Organic carbon\", \"Total\", \"1.16\", \"mg/L\", \"NaN\", \"Final\", NaN, \"Actual\", NaN, NaN, NaN, NaN, NaN, NaN, NaN, NaN, NaN, \"**I**\", NaN, NaN, \"NaN\", NaN, NaN, NaN, NaN, NaN, NaN, \"5310-B\", \"APHA\", \"5310 B ~ Total Organic Carbon by Combustion-Infrared Method\", NaN, \"https://www.nemi.gov/methods/method_summary/5717/\", \"E56441\", \"2020-06-10\", NaN, \"https://www.waterqualitydata.us/data/providers/STORET/organizations/21FLCRCP_WQX/activities/21FLCRCP_WQX-HIL056%20B%206%2F5%2F2020%2012%3A35/results/968430713/resdetectqntlmts\", \"Practical Quantitation Limit\", 2.48, \"mg/L\", NaN, \"2023-02-24T11:47:53\", \"STORET\"], [\"21FLCRCP_WQX\", \"CORAL REEF CONSERVATION PROGRAM\", \"21FLCRCP_WQX-HIL058 S 5/7/2020 12:35\", \"Sample-Routine\", \"Water\", \"Surface Water\", \"2020-05-07\", \"12:35:00\", \"EST\", \"NaN\", \"NaN\", \"NaN\", \"NaN\", 0.5, \"m\", \"NaN\", NaN, \"NaN\", NaN, \"NaN\", \"FRTWQA\", \"Florida Reef Tract Nutrient Water Quality Assessment\", \"CORAL REEF CONSERVATION PROGRAM\", \"21FLCRCP_WQX-HIL058\", \"HIL058\", NaN, NaN, NaN, NaN, 26.19612, -80.091, \"Intermediate Grab\", \"21FLCRCP_WQX\", \"Intermediate Grab\", \"An individual sample collected at one time period, generally not exceeding 15 minutes.  Grab samples represent the conditions that exist at the moment the sample is collected.  An intermediate device, vessel or another sample container is used to collect the intermediate grab sample. The sample is then transferred to the sample container and sent to the lab.\", \"Water Bottle\", \"STORET-968418605\", \"NaN\", \"NaN\", \"Organic carbon\", \"Total\", \"0.943\", \"mg/L\", \"NaN\", \"Final\", NaN, \"Actual\", NaN, NaN, NaN, NaN, NaN, NaN, NaN, NaN, NaN, \"**I**\", NaN, NaN, \"NaN\", NaN, NaN, NaN, NaN, NaN, NaN, \"5310-B\", \"APHA\", \"5310 B ~ Total Organic Carbon by Combustion-Infrared Method\", NaN, \"https://www.nemi.gov/methods/method_summary/5717/\", \"E56441\", \"2020-05-15\", NaN, \"https://www.waterqualitydata.us/data/providers/STORET/organizations/21FLCRCP_WQX/activities/21FLCRCP_WQX-HIL058%20S%205%2F7%2F2020%2012%3A35/results/968418605/resdetectqntlmts\", \"Practical Quantitation Limit\", 2.48, \"mg/L\", NaN, \"2023-02-24T11:46:02\", \"STORET\"], [\"21FLCRCP_WQX\", \"CORAL REEF CONSERVATION PROGRAM\", \"21FLCRCP_WQX-HIL061 S 6/5/2020 10:35\", \"Sample-Routine\", \"Water\", \"Surface Water\", \"2020-06-05\", \"10:35:00\", \"EST\", \"NaN\", \"NaN\", \"NaN\", \"NaN\", 0.5, \"m\", \"NaN\", NaN, \"NaN\", NaN, \"NaN\", \"FRTWQA\", \"Florida Reef Tract Nutrient Water Quality Assessment\", \"CORAL REEF CONSERVATION PROGRAM\", \"21FLCRCP_WQX-HIL061\", \"HIL061\", NaN, NaN, NaN, NaN, 26.25851, -80.0621, \"Intermediate Grab\", \"21FLCRCP_WQX\", \"Intermediate Grab\", \"An individual sample collected at one time period, generally not exceeding 15 minutes.  Grab samples represent the conditions that exist at the moment the sample is collected.  An intermediate device, vessel or another sample container is used to collect the intermediate grab sample. The sample is then transferred to the sample container and sent to the lab.\", \"Water Bottle\", \"STORET-968373693\", \"NaN\", \"NaN\", \"Organic carbon\", \"Total\", \"1.12\", \"mg/L\", \"NaN\", \"Final\", NaN, \"Actual\", NaN, NaN, NaN, NaN, NaN, NaN, NaN, NaN, NaN, \"**I**\", NaN, NaN, \"NaN\", NaN, NaN, NaN, NaN, NaN, NaN, \"5310-B\", \"APHA\", \"5310 B ~ Total Organic Carbon by Combustion-Infrared Method\", NaN, \"https://www.nemi.gov/methods/method_summary/5717/\", \"E56441\", \"2020-06-10\", NaN, \"https://www.waterqualitydata.us/data/providers/STORET/organizations/21FLCRCP_WQX/activities/21FLCRCP_WQX-HIL061%20S%206%2F5%2F2020%2010%3A35/results/968373693/resdetectqntlmts\", \"Practical Quantitation Limit\", 2.48, \"mg/L\", NaN, \"2023-02-24T11:39:02\", \"STORET\"], [\"LADEQWPD_WQX\", \"LDEQ/Water Planning and Assessment (Louisiana)\", \"LADEQWPD_WQX-1204-07152020-1030-Lab\", \"Sample-Routine\", \"Water\", \"NaN\", \"2020-07-15\", \"10:30:00\", \"CST\", \"NaN\", \"NaN\", \"NaN\", \"NaN\", NaN, \"NaN\", \"NaN\", NaN, \"NaN\", NaN, \"NaN\", \"WQ1958001\", \"Statewide Water Quality Monitoring Network\", \"NaN\", \"LADEQWPD_WQX-1204\", \"Atchafalaya Bay Southwest of Burns, Louisiana\", NaN, NaN, NaN, NaN, 29.50184, -91.563639, \"LADEQ QAPP\", \"LADEQWPD_WQX\", \"Quality Assurance Project Plan for the Ambient Water Quality Monitoring Network\", \"NaN\", \"Water Bottle\", \"STORET-959679321\", \"Not Detected\", \"NaN\", \"Chloromethane\", \"Total\", \"NaN\", \"NaN\", \"NaN\", \"Final\", NaN, \"Actual\", NaN, NaN, NaN, NaN, NaN, NaN, NaN, NaN, NaN, \"NaN\", NaN, NaN, \"NaN\", NaN, NaN, NaN, NaN, NaN, NaN, \"624.1\", \"USEPA\", \"Purgeables by GC/MS\", NaN, \"NaN\", \"NaN\", \"2020-07-16\", NaN, \"https://www.waterqualitydata.us/data/providers/STORET/organizations/LADEQWPD_WQX/activities/LADEQWPD_WQX-1204-07152020-1030-Lab/results/959679321/resdetectqntlmts\", \"Lower Reporting Limit\", 1.0, \"ug/L\", NaN, \"2022-12-19T11:41:35\", \"STORET\"], [\"21FLFWC_WQX\", \"FLORIDA FISH AND WILDLIFE CONSERVATION COMMISSION\", \"21FLFWC_WQX-KEYS101_K223B_FS\", \"Sample-Routine\", \"Water\", \"Surface Water\", \"2020-09-11\", \"13:00:00\", \"EST\", \"NaN\", \"NaN\", \"NaN\", \"NaN\", 3.6, \"m\", \"NaN\", NaN, \"NaN\", NaN, \"NaN\", \"WQMP\", \"Water Quality Monitoring Program\", \"FLORIDA INTERNATIONAL UNIVERSITY\", \"21FLFWC_WQX-223-W\", \"Mosquito Bank\", NaN, NaN, NaN, NaN, 25.06018, -80.42312, \"Direct Grab\", \"21FLFWC_WQX\", \"Direct Grab\", \"An individual sample collected at one time period, generally not exceeding 15 minutes.  Grab samples represent the conditions that exist at the moment the sample is collected.  Use sample container to directly collect the sample.  For Aqueous matrices, all sample containers for individual analytes or analyte groups must be filled from the sampling location or source within the 15-minute window.\", \"Water Bottle\", \"STORET-928937252\", \"NaN\", \"NaN\", \"Organic carbon\", \"Total\", \"1.04\", \"ppm\", \"NaN\", \"Final\", NaN, \"Actual\", NaN, NaN, NaN, NaN, NaN, NaN, NaN, NaN, NaN, \"NaN\", NaN, NaN, \"NaN\", NaN, NaN, NaN, NaN, NaN, NaN, \"FIU-TOC\", \"21FLFWC_WQX\", \"FIU-TOC\", NaN, \"NaN\", \"E76930\", \"2020-09-26\", NaN, \"https://www.waterqualitydata.us/data/providers/STORET/organizations/21FLFWC_WQX/activities/21FLFWC_WQX-KEYS101_K223B_FS/results/928937252/resdetectqntlmts\", \"Practical Quantitation Limit\", 0.5, \"ppm\", NaN, \"2022-01-27T11:32:57\", \"STORET\"], [\"21FLFWC_WQX\", \"FLORIDA FISH AND WILDLIFE CONSERVATION COMMISSION\", \"21FLFWC_WQX-KEYS100_K328B_FS\", \"Sample-Routine\", \"Water\", \"Surface Water\", \"2020-07-10\", \"18:14:00\", \"EST\", \"NaN\", \"NaN\", \"NaN\", \"NaN\", 14.56, \"m\", \"NaN\", NaN, \"NaN\", NaN, \"NaN\", \"WQMP\", \"Water Quality Monitoring Program\", \"FLORIDA INTERNATIONAL UNIVERSITY\", \"21FLFWC_WQX-328-W\", \"Marquesas Rock\", NaN, NaN, NaN, NaN, 24.454, -82.224, \"Direct Grab\", \"21FLFWC_WQX\", \"Direct Grab\", \"An individual sample collected at one time period, generally not exceeding 15 minutes.  Grab samples represent the conditions that exist at the moment the sample is collected.  Use sample container to directly collect the sample.  For Aqueous matrices, all sample containers for individual analytes or analyte groups must be filled from the sampling location or source within the 15-minute window.\", \"Water Bottle\", \"STORET-928938044\", \"NaN\", \"NaN\", \"Organic carbon\", \"Total\", \"0.8687\", \"ppm\", \"NaN\", \"Final\", NaN, \"Actual\", NaN, NaN, NaN, NaN, NaN, NaN, NaN, NaN, NaN, \"NaN\", NaN, NaN, \"NaN\", NaN, NaN, NaN, NaN, NaN, NaN, \"FIU-TOC\", \"21FLFWC_WQX\", \"FIU-TOC\", NaN, \"NaN\", \"E76930\", \"2020-07-29\", NaN, \"https://www.waterqualitydata.us/data/providers/STORET/organizations/21FLFWC_WQX/activities/21FLFWC_WQX-KEYS100_K328B_FS/results/928938044/resdetectqntlmts\", \"Practical Quantitation Limit\", 0.5, \"ppm\", NaN, \"2022-01-27T11:33:04\", \"STORET\"], [\"LADEQWPD_WQX\", \"LDEQ/Water Planning and Assessment (Louisiana)\", \"LADEQWPD_WQX-1204-07152020-1030-Lab\", \"Sample-Routine\", \"Water\", \"NaN\", \"2020-07-15\", \"10:30:00\", \"CST\", \"NaN\", \"NaN\", \"NaN\", \"NaN\", NaN, \"NaN\", \"NaN\", NaN, \"NaN\", NaN, \"NaN\", \"WQ1958001\", \"Statewide Water Quality Monitoring Network\", \"NaN\", \"LADEQWPD_WQX-1204\", \"Atchafalaya Bay Southwest of Burns, Louisiana\", NaN, NaN, NaN, NaN, 29.50184, -91.563639, \"LADEQ QAPP\", \"LADEQWPD_WQX\", \"Quality Assurance Project Plan for the Ambient Water Quality Monitoring Network\", \"NaN\", \"Water Bottle\", \"STORET-959679302\", \"Not Detected\", \"NaN\", \"Trichloroethylene\", \"Total\", \"NaN\", \"NaN\", \"NaN\", \"Final\", NaN, \"Actual\", NaN, NaN, NaN, NaN, NaN, NaN, NaN, NaN, NaN, \"NaN\", NaN, NaN, \"NaN\", NaN, NaN, NaN, NaN, NaN, NaN, \"624.1\", \"USEPA\", \"Purgeables by GC/MS\", NaN, \"NaN\", \"NaN\", \"2020-07-16\", NaN, \"https://www.waterqualitydata.us/data/providers/STORET/organizations/LADEQWPD_WQX/activities/LADEQWPD_WQX-1204-07152020-1030-Lab/results/959679302/resdetectqntlmts\", \"Lower Reporting Limit\", 0.5, \"ug/L\", NaN, \"2022-12-19T11:41:35\", \"STORET\"], [\"LADEQWPD_WQX\", \"LDEQ/Water Planning and Assessment (Louisiana)\", \"LADEQWPD_WQX-1204-07152020-1030-Lab\", \"Sample-Routine\", \"Water\", \"NaN\", \"2020-07-15\", \"10:30:00\", \"CST\", \"NaN\", \"NaN\", \"NaN\", \"NaN\", NaN, \"NaN\", \"NaN\", NaN, \"NaN\", NaN, \"NaN\", \"WQ1958001\", \"Statewide Water Quality Monitoring Network\", \"NaN\", \"LADEQWPD_WQX-1204\", \"Atchafalaya Bay Southwest of Burns, Louisiana\", NaN, NaN, NaN, NaN, 29.50184, -91.563639, \"LADEQ QAPP\", \"LADEQWPD_WQX\", \"Quality Assurance Project Plan for the Ambient Water Quality Monitoring Network\", \"NaN\", \"Water Bottle\", \"STORET-959679337\", \"Not Detected\", \"NaN\", \"trans-1,3-Dichloropropene\", \"Total\", \"NaN\", \"NaN\", \"NaN\", \"Final\", NaN, \"Actual\", NaN, NaN, NaN, NaN, NaN, NaN, NaN, NaN, NaN, \"NaN\", NaN, NaN, \"NaN\", NaN, NaN, NaN, NaN, NaN, NaN, \"624.1\", \"USEPA\", \"Purgeables by GC/MS\", NaN, \"NaN\", \"NaN\", \"2020-07-16\", NaN, \"https://www.waterqualitydata.us/data/providers/STORET/organizations/LADEQWPD_WQX/activities/LADEQWPD_WQX-1204-07152020-1030-Lab/results/959679337/resdetectqntlmts\", \"Lower Reporting Limit\", 1.0, \"ug/L\", NaN, \"2022-12-19T11:41:36\", \"STORET\"], [\"CEDEN\", \"California State Water Resources Control Board\", \"CEDEN--2144630949\", \"Sample-Routine\", \"Water\", \"NaN\", \"2020-09-21\", \"08:57:00\", \"PST\", \"NaN\", \"NaN\", \"NaN\", \"NaN\", NaN, \"NaN\", \"NaN\", NaN, \"NaN\", NaN, \"NaN\", \"BBM\", \"Beach Bacteria Monitoring\", \"NaN\", \"CEDEN-Wharf\", \"Santa Cruz Municipal Wharf-West at Cowell Beach\", NaN, NaN, NaN, NaN, 36.962, -122.023, \"Water_Grab\", \"CEDEN\", \"Water_Grab\", \"Method for generic water collection that was either grab or integrated\", \"Miscellaneous (Other)\", \"STORET-973278449\", \"NaN\", \"NaN\", \"2,3,3',4,5'-Pentachlorobiphenyl\", \"NaN\", \"62\", \"cfu/100mL\", \"NaN\", \"Final\", NaN, \"Actual\", NaN, NaN, NaN, NaN, NaN, NaN, NaN, NaN, NaN, \"2; AB16547\", NaN, NaN, \"NaN\", NaN, NaN, NaN, NaN, NaN, NaN, \"1343\", \"CEDEN\", \"SM 9230 C\", NaN, \"NaN\", \"NaN\", \"2020-09-21\", NaN, \"NaN\", \"NaN\", NaN, \"NaN\", NaN, \"2023-04-20T14:42:54\", \"STORET\"], [\"21FLCRCP_WQX\", \"CORAL REEF CONSERVATION PROGRAM\", \"21FLCRCP_WQX-BOY094 S 5/18/2020 10:30\", \"Sample-Routine\", \"Water\", \"Surface Water\", \"2020-05-18\", \"10:30:00\", \"EST\", \"NaN\", \"NaN\", \"NaN\", \"NaN\", 0.5, \"m\", \"NaN\", NaN, \"NaN\", NaN, \"NaN\", \"FRTWQA\", \"Florida Reef Tract Nutrient Water Quality Assessment\", \"CORAL REEF CONSERVATION PROGRAM\", \"21FLCRCP_WQX-BOY094\", \"BOY094\", NaN, NaN, NaN, NaN, 26.56462, -80.028333, \"Intermediate Grab\", \"21FLCRCP_WQX\", \"Intermediate Grab\", \"An individual sample collected at one time period, generally not exceeding 15 minutes.  Grab samples represent the conditions that exist at the moment the sample is collected.  An intermediate device, vessel or another sample container is used to collect the intermediate grab sample. The sample is then transferred to the sample container and sent to the lab.\", \"Water Bottle\", \"STORET-968370195\", \"NaN\", \"NaN\", \"Organic carbon\", \"Total\", \"1.09\", \"mg/L\", \"NaN\", \"Final\", NaN, \"Actual\", NaN, NaN, NaN, NaN, NaN, NaN, NaN, NaN, NaN, \"**I**\", NaN, NaN, \"NaN\", NaN, NaN, NaN, NaN, NaN, NaN, \"5310-B\", \"APHA\", \"5310 B ~ Total Organic Carbon by Combustion-Infrared Method\", NaN, \"https://www.nemi.gov/methods/method_summary/5717/\", \"E56441\", \"2020-05-27\", NaN, \"https://www.waterqualitydata.us/data/providers/STORET/organizations/21FLCRCP_WQX/activities/21FLCRCP_WQX-BOY094%20S%205%2F18%2F2020%2010%3A30/results/968370195/resdetectqntlmts\", \"Practical Quantitation Limit\", 2.48, \"mg/L\", NaN, \"2023-02-24T11:38:33\", \"STORET\"], [\"21MSWQ_WQX\", \"MISSISSIPPI DEPARTMENT OF ENVIRONMENTAL QUALITY\", \"21MSWQ_WQX-200908-625\", \"Sample-Routine\", \"Water\", \"NaN\", \"2024-06-11\", \"08:34:00\", \"CDT\", \"NaN\", \"NaN\", \"NaN\", \"NaN\", 0.5, \"ft\", \"NaN\", NaN, \"NaN\", NaN, \"NaN\", \"BCH24;EPABEACH;MS665298\", \"BEACH MONITORING 2024;BEACH MONITORING 2024;COURTHOUSE ROAD BEACH\", \"MISSISSIPPI DEPARTMENT OF ENVIRONMENTAL QUALITY\", \"21MSWQ_WQX-640MSDB10B\", \"COURTHOUSE ROAD BEACH\", NaN, NaN, NaN, NaN, 30.3772, -89.043308, \"Grab-DTSC\", \"21MSWQ_WQX\", \"Grab-Direct to Sample Container\", \"The collection of a sample utilizing no collection gear. The sample is collected directly into the sample container.\", \"Water Bottle\", \"STORET-1046371383\", \"NaN\", \"as C\", \"Organic carbon\", \"Total\", \"2.56\", \"mg/L\", \"NaN\", \"Accepted\", NaN, \"Actual\", NaN, NaN, NaN, NaN, NaN, NaN, NaN, NaN, NaN, \"NaN\", NaN, 0.5, \"ft\", NaN, NaN, NaN, NaN, NaN, NaN, \"5310-B\", \"APHA\", \"5310 B ~ Total Organic Carbon by Combustion-Infrared Method\", NaN, \"https://www.nemi.gov/methods/method_summary/5717/\", \"NaN\", \"NaN\", NaN, \"NaN\", \"NaN\", NaN, \"NaN\", NaN, \"2024-10-29T10:40:32\", \"STORET\"], [\"21FLNWFD_WQX\", \"Northwest  Florida Water Management District\", \"21FLNWFD_WQX-S4-061824\", \"Sample-Routine\", \"Water\", \"Surface Water\", \"2024-06-18\", \"12:10:00\", \"EST\", \"2024-06-18\", \"12:10:00\", \"EST\", \"NaN\", 1.64, \"ft\", \"NaN\", NaN, \"NaN\", NaN, \"NaN\", \"NWF-SJB2MSWQS\", \"SJB and Second Magnitude Springs Water Quality Sampling\", \"JIM STIDHAM AND ASSOCIATES, INC.\", \"21FLNWFD_WQX-SJB12\", \"St. Joseph Bay 12\", NaN, NaN, NaN, NaN, 29.679094, -85.364111, \"Intermediate Grab\", \"21FLNWFD_WQX\", \"Intermediate Grab\", \"An individual sample collected at one time period, generally not exceeding 15 minutes.  Grab samples represent the conditions that exist at the moment the sample is collected.  An intermediate device, vessel or another sample container is used to collect the intermediate grab sample. The sample is then transferred to the sample container and sent to the lab.\", \"Pump/Submersible\", \"STORET-1046448453\", \"NaN\", \"NaN\", \"Organic carbon\", \"Total\", \"5.7\", \"mg/L\", \"NaN\", \"Final\", NaN, \"Actual\", NaN, NaN, NaN, NaN, NaN, NaN, NaN, NaN, NaN, \"NaN\", NaN, NaN, \"NaN\", NaN, NaN, NaN, NaN, NaN, NaN, \"5310-B\", \"APHA\", \"5310 B ~ Total Organic Carbon by Combustion-Infrared Method\", NaN, \"https://www.nemi.gov/methods/method_summary/5717/\", \"E82001\", \"2024-06-24\", NaN, \"https://www.waterqualitydata.us/data/providers/STORET/organizations/21FLNWFD_WQX/activities/21FLNWFD_WQX-S4-061824/results/1046448453/resdetectqntlmts\", \"Practical Quantitation Limit\", 2.0, \"mg/L\", NaN, \"2024-10-30T13:32:14\", \"STORET\"], [\"21MSWQ_WQX\", \"MISSISSIPPI DEPARTMENT OF ENVIRONMENTAL QUALITY\", \"21MSWQ_WQX-200900-625\", \"Sample-Routine\", \"Water\", \"NaN\", \"2024-06-10\", \"09:55:00\", \"CDT\", \"NaN\", \"NaN\", \"NaN\", \"NaN\", 0.5, \"ft\", \"NaN\", NaN, \"NaN\", NaN, \"NaN\", \"BCH24;EPABEACH;MS356172\", \"BEACH MONITORING 2024;BEACH MONITORING 2024;BAY ST LOUIS BEACH\", \"MISSISSIPPI DEPARTMENT OF ENVIRONMENTAL QUALITY\", \"21MSWQ_WQX-640MSDB03\", \"BAY ST LOUIS BEACH\", NaN, NaN, NaN, NaN, 30.300222, -89.332639, \"Grab-DTSC\", \"21MSWQ_WQX\", \"Grab-Direct to Sample Container\", \"The collection of a sample utilizing no collection gear. The sample is collected directly into the sample container.\", \"Water Bottle\", \"STORET-1046374288\", \"NaN\", \"as C\", \"Organic carbon\", \"Total\", \"2.44\", \"mg/L\", \"NaN\", \"Accepted\", NaN, \"Actual\", NaN, NaN, NaN, NaN, NaN, NaN, NaN, NaN, NaN, \"NaN\", NaN, 0.5, \"ft\", NaN, NaN, NaN, NaN, NaN, NaN, \"5310-B\", \"APHA\", \"5310 B ~ Total Organic Carbon by Combustion-Infrared Method\", NaN, \"https://www.nemi.gov/methods/method_summary/5717/\", \"NaN\", \"NaN\", NaN, \"NaN\", \"NaN\", NaN, \"NaN\", NaN, \"2024-10-29T10:46:01\", \"STORET\"], [\"TCEQMAIN\", \"Texas Commission on Environmental Quality\", \"TCEQMAIN-15032356\", \"Field Msr/Obs\", \"Water\", \"NaN\", \"2024-05-15\", \"NaN\", \"NaN\", \"NaN\", \"NaN\", \"NaN\", \"NaN\", NaN, \"NaN\", \"NaN\", NaN, \"NaN\", NaN, \"NaN\", \"1786\", \"SWQM Routine Monitoring FY24\", \"NaN\", \"TCEQMAIN-13462\", \"GULF OF MEXICO AT SEARIM PARK\", NaN, NaN, NaN, NaN, 29.6667, -94.0708, \"NaN\", \"NaN\", \"NaN\", \"NaN\", \"NaN\", \"STORET-1040635630\", \"NaN\", \"NaN\", \"Organic carbon\", \"Total\", \"6\", \"mg/L\", \"NaN\", \"Final\", NaN, \"Actual\", NaN, NaN, NaN, NaN, NaN, NaN, NaN, NaN, NaN, \"NaN\", NaN, NaN, \"NaN\", NaN, NaN, NaN, NaN, NaN, NaN, \"N/A Calculation\", \"TCEQMAIN\", \"N/A Calculation\", NaN, \"NaN\", \"NaN\", \"NaN\", NaN, \"NaN\", \"NaN\", NaN, \"NaN\", NaN, \"2024-09-05T13:26:15\", \"STORET\"], [\"21MSWQ_WQX\", \"MISSISSIPPI DEPARTMENT OF ENVIRONMENTAL QUALITY\", \"21MSWQ_WQX-200764-625\", \"Sample-Routine\", \"Water\", \"NaN\", \"2024-05-14\", \"09:53:00\", \"CDT\", \"NaN\", \"NaN\", \"NaN\", \"NaN\", 0.5, \"ft\", \"NaN\", NaN, \"NaN\", NaN, \"NaN\", \"BCH24;EPABEACH;MS464589\", \"BEACH MONITORING 2024;BEACH MONITORING 2024;SHEARWATER BEACH\", \"MISSISSIPPI DEPARTMENT OF ENVIRONMENTAL QUALITY\", \"21MSWQ_WQX-640BBYB02\", \"SHEARWATER BEACH\", NaN, NaN, NaN, NaN, 30.393889, -88.810278, \"Grab-DTSC\", \"21MSWQ_WQX\", \"Grab-Direct to Sample Container\", \"The collection of a sample utilizing no collection gear. The sample is collected directly into the sample container.\", \"Water Bottle\", \"STORET-1046370681\", \"NaN\", \"as C\", \"Organic carbon\", \"Total\", \"2.92\", \"mg/L\", \"NaN\", \"Accepted\", NaN, \"Actual\", NaN, NaN, NaN, NaN, NaN, NaN, NaN, NaN, NaN, \"NaN\", NaN, 0.5, \"ft\", NaN, NaN, NaN, NaN, NaN, NaN, \"5310-B\", \"APHA\", \"5310 B ~ Total Organic Carbon by Combustion-Infrared Method\", NaN, \"https://www.nemi.gov/methods/method_summary/5717/\", \"NaN\", \"NaN\", NaN, \"NaN\", \"NaN\", NaN, \"NaN\", NaN, \"2024-10-29T10:39:18\", \"STORET\"], [\"21MSWQ_WQX\", \"MISSISSIPPI DEPARTMENT OF ENVIRONMENTAL QUALITY\", \"21MSWQ_WQX-200559-625\", \"Sample-Routine\", \"Water\", \"NaN\", \"2024-04-17\", \"10:12:00\", \"CDT\", \"NaN\", \"NaN\", \"NaN\", \"NaN\", 0.5, \"ft\", \"NaN\", NaN, \"NaN\", NaN, \"NaN\", \"BCH24;EPABEACH;MS501920\", \"BEACH MONITORING 2024;BEACH MONITORING 2024;GULFPORT EAST BEACH\", \"MISSISSIPPI DEPARTMENT OF ENVIRONMENTAL QUALITY\", \"21MSWQ_WQX-640MSDB11\", \"GULFPORT EAST BEACH\", NaN, NaN, NaN, NaN, 30.380917, -89.026639, \"Grab-DTSC\", \"21MSWQ_WQX\", \"Grab-Direct to Sample Container\", \"The collection of a sample utilizing no collection gear. The sample is collected directly into the sample container.\", \"Water Bottle\", \"STORET-1046377896\", \"NaN\", \"as C\", \"Organic carbon\", \"Total\", \"4.78\", \"mg/L\", \"NaN\", \"Accepted\", NaN, \"Actual\", NaN, NaN, NaN, NaN, NaN, NaN, NaN, NaN, NaN, \"NaN\", NaN, 0.5, \"ft\", NaN, NaN, NaN, NaN, NaN, NaN, \"5310-B\", \"APHA\", \"5310 B ~ Total Organic Carbon by Combustion-Infrared Method\", NaN, \"https://www.nemi.gov/methods/method_summary/5717/\", \"NaN\", \"NaN\", NaN, \"NaN\", \"NaN\", NaN, \"NaN\", NaN, \"2024-10-29T10:48:12\", \"STORET\"], [\"21MSWQ_WQX\", \"MISSISSIPPI DEPARTMENT OF ENVIRONMENTAL QUALITY\", \"21MSWQ_WQX-200564-625\", \"Sample-Routine\", \"Water\", \"NaN\", \"2024-04-17\", \"11:30:00\", \"CDT\", \"NaN\", \"NaN\", \"NaN\", \"NaN\", 0.5, \"ft\", \"NaN\", NaN, \"NaN\", NaN, \"NaN\", \"BCH24;EPABEACH;MS464589\", \"BEACH MONITORING 2024;BEACH MONITORING 2024;SHEARWATER BEACH\", \"MISSISSIPPI DEPARTMENT OF ENVIRONMENTAL QUALITY\", \"21MSWQ_WQX-640BBYB02\", \"SHEARWATER BEACH\", NaN, NaN, NaN, NaN, 30.393889, -88.810278, \"Grab-DTSC\", \"21MSWQ_WQX\", \"Grab-Direct to Sample Container\", \"The collection of a sample utilizing no collection gear. The sample is collected directly into the sample container.\", \"Water Bottle\", \"STORET-1046378959\", \"NaN\", \"as C\", \"Organic carbon\", \"Total\", \"3.75\", \"mg/L\", \"NaN\", \"Accepted\", NaN, \"Actual\", NaN, NaN, NaN, NaN, NaN, NaN, NaN, NaN, NaN, \"NaN\", NaN, 0.5, \"ft\", NaN, NaN, NaN, NaN, NaN, NaN, \"5310-B\", \"APHA\", \"5310 B ~ Total Organic Carbon by Combustion-Infrared Method\", NaN, \"https://www.nemi.gov/methods/method_summary/5717/\", \"NaN\", \"NaN\", NaN, \"NaN\", \"NaN\", NaN, \"NaN\", NaN, \"2024-10-29T10:49:34\", \"STORET\"], [\"21MSWQ_WQX\", \"MISSISSIPPI DEPARTMENT OF ENVIRONMENTAL QUALITY\", \"21MSWQ_WQX-200547-625\", \"Sample-Routine\", \"Water\", \"NaN\", \"2024-04-15\", \"11:07:00\", \"CDT\", \"NaN\", \"NaN\", \"NaN\", \"NaN\", 0.5, \"ft\", \"NaN\", NaN, \"NaN\", NaN, \"NaN\", \"BCH24;EPABEACH;MS315015\", \"BEACH MONITORING 2024;BEACH MONITORING 2024;GULFPORT WEST BEACH\", \"MISSISSIPPI DEPARTMENT OF ENVIRONMENTAL QUALITY\", \"21MSWQ_WQX-640MSDB08\", \"GULFPORT WEST BEACH\", NaN, NaN, NaN, NaN, 30.355167, -89.114583, \"Grab-DTSC\", \"21MSWQ_WQX\", \"Grab-Direct to Sample Container\", \"The collection of a sample utilizing no collection gear. The sample is collected directly into the sample container.\", \"Water Bottle\", \"STORET-1046380112\", \"NaN\", \"as C\", \"Organic carbon\", \"Total\", \"2.9\", \"mg/L\", \"NaN\", \"Accepted\", NaN, \"Actual\", NaN, NaN, NaN, NaN, NaN, NaN, NaN, NaN, NaN, \"NaN\", NaN, 0.5, \"ft\", NaN, NaN, NaN, NaN, NaN, NaN, \"5310-B\", \"APHA\", \"5310 B ~ Total Organic Carbon by Combustion-Infrared Method\", NaN, \"https://www.nemi.gov/methods/method_summary/5717/\", \"NaN\", \"NaN\", NaN, \"NaN\", \"NaN\", NaN, \"NaN\", NaN, \"2024-10-29T10:51:44\", \"STORET\"], [\"TCEQMAIN\", \"Texas Commission on Environmental Quality\", \"TCEQMAIN-15032338\", \"Field Msr/Obs\", \"Water\", \"NaN\", \"2024-05-16\", \"NaN\", \"NaN\", \"NaN\", \"NaN\", \"NaN\", \"NaN\", NaN, \"NaN\", \"NaN\", NaN, \"NaN\", NaN, \"NaN\", \"1786\", \"SWQM Routine Monitoring FY24\", \"NaN\", \"TCEQMAIN-13461\", \"GULF OF MEXICO SABINE PASS\", NaN, NaN, NaN, NaN, 29.6636, -93.8292, \"NaN\", \"NaN\", \"NaN\", \"NaN\", \"NaN\", \"STORET-1040635610\", \"NaN\", \"NaN\", \"Organic carbon\", \"Total\", \"14\", \"mg/L\", \"NaN\", \"Final\", NaN, \"Actual\", NaN, NaN, NaN, NaN, NaN, NaN, NaN, NaN, NaN, \"NaN\", NaN, NaN, \"NaN\", NaN, NaN, NaN, NaN, NaN, NaN, \"N/A Calculation\", \"TCEQMAIN\", \"N/A Calculation\", NaN, \"NaN\", \"NaN\", \"NaN\", NaN, \"NaN\", \"NaN\", NaN, \"NaN\", NaN, \"2024-09-05T13:26:13\", \"STORET\"], [\"21MSWQ_WQX\", \"MISSISSIPPI DEPARTMENT OF ENVIRONMENTAL QUALITY\", \"21MSWQ_WQX-200749-625\", \"Sample-Routine\", \"Water\", \"NaN\", \"2024-05-13\", \"11:06:00\", \"CDT\", \"NaN\", \"NaN\", \"NaN\", \"NaN\", 0.5, \"ft\", \"NaN\", NaN, \"NaN\", NaN, \"NaN\", \"BCH24;EPABEACH;MS268175\", \"BEACH MONITORING 2024;BEACH MONITORING 2024;PASS CHRISTIAN CENTRAL BEACH\", \"MISSISSIPPI DEPARTMENT OF ENVIRONMENTAL QUALITY\", \"21MSWQ_WQX-640MSDB05\", \"PASS CHRISTIAN CENTRAL BEACH\", NaN, NaN, NaN, NaN, 30.309, -89.254694, \"Grab-DTSC\", \"21MSWQ_WQX\", \"Grab-Direct to Sample Container\", \"The collection of a sample utilizing no collection gear. The sample is collected directly into the sample container.\", \"Water Bottle\", \"STORET-1046371327\", \"NaN\", \"as C\", \"Organic carbon\", \"Total\", \"2.85\", \"mg/L\", \"NaN\", \"Accepted\", NaN, \"Actual\", NaN, NaN, NaN, NaN, NaN, NaN, NaN, NaN, NaN, \"NaN\", NaN, 0.5, \"ft\", NaN, NaN, NaN, NaN, NaN, NaN, \"5310-B\", \"APHA\", \"5310 B ~ Total Organic Carbon by Combustion-Infrared Method\", NaN, \"https://www.nemi.gov/methods/method_summary/5717/\", \"NaN\", \"NaN\", NaN, \"NaN\", \"NaN\", NaN, \"NaN\", NaN, \"2024-10-29T10:40:26\", \"STORET\"], [\"21MSWQ_WQX\", \"MISSISSIPPI DEPARTMENT OF ENVIRONMENTAL QUALITY\", \"21MSWQ_WQX-200566-625\", \"Sample-Routine\", \"Water\", \"NaN\", \"2024-04-17\", \"12:29:00\", \"CDT\", \"NaN\", \"NaN\", \"NaN\", \"NaN\", 0.5, \"ft\", \"NaN\", NaN, \"NaN\", NaN, \"NaN\", \"BCH24;EPABEACH;MS743032\", \"BEACH MONITORING 2024;BEACH MONITORING 2024;PASCAGOULA BEACH EAST\", \"MISSISSIPPI DEPARTMENT OF ENVIRONMENTAL QUALITY\", \"21MSWQ_WQX-640MSDB18\", \"PASCAGOULA BEACH EAST\", NaN, NaN, NaN, NaN, 30.341778, -88.527778, \"Grab-DTSC\", \"21MSWQ_WQX\", \"Grab-Direct to Sample Container\", \"The collection of a sample utilizing no collection gear. The sample is collected directly into the sample container.\", \"Water Bottle\", \"STORET-1046372974\", \"NaN\", \"as C\", \"Organic carbon\", \"Total\", \"3.08\", \"mg/L\", \"NaN\", \"Accepted\", NaN, \"Actual\", NaN, NaN, NaN, NaN, NaN, NaN, NaN, NaN, NaN, \"NaN\", NaN, 0.5, \"ft\", NaN, NaN, NaN, NaN, NaN, NaN, \"5310-B\", \"APHA\", \"5310 B ~ Total Organic Carbon by Combustion-Infrared Method\", NaN, \"https://www.nemi.gov/methods/method_summary/5717/\", \"NaN\", \"NaN\", NaN, \"NaN\", \"NaN\", NaN, \"NaN\", NaN, \"2024-10-29T10:43:29\", \"STORET\"], [\"21MSWQ_WQX\", \"MISSISSIPPI DEPARTMENT OF ENVIRONMENTAL QUALITY\", \"21MSWQ_WQX-200918-625\", \"Sample-Routine\", \"Water\", \"NaN\", \"2024-06-11\", \"10:32:00\", \"CDT\", \"NaN\", \"NaN\", \"NaN\", \"NaN\", 0.5, \"ft\", \"NaN\", NaN, \"NaN\", NaN, \"NaN\", \"BCH24;EPABEACH;MS091756\", \"BEACH MONITORING 2024;BEACH MONITORING 2024;PASCAGOULA BEACH WEST\", \"MISSISSIPPI DEPARTMENT OF ENVIRONMENTAL QUALITY\", \"21MSWQ_WQX-640MSDB17\", \"PASCAGOULA BEACH WEST\", NaN, NaN, NaN, NaN, 30.342639, -88.535417, \"Grab-DTSC\", \"21MSWQ_WQX\", \"Grab-Direct to Sample Container\", \"The collection of a sample utilizing no collection gear. The sample is collected directly into the sample container.\", \"Water Bottle\", \"STORET-1046379680\", \"NaN\", \"as C\", \"Organic carbon\", \"Total\", \"2.72\", \"mg/L\", \"NaN\", \"Accepted\", NaN, \"Actual\", NaN, NaN, NaN, NaN, NaN, NaN, NaN, NaN, NaN, \"NaN\", NaN, 0.5, \"ft\", NaN, NaN, NaN, NaN, NaN, NaN, \"5310-B\", \"APHA\", \"5310 B ~ Total Organic Carbon by Combustion-Infrared Method\", NaN, \"https://www.nemi.gov/methods/method_summary/5717/\", \"NaN\", \"NaN\", NaN, \"NaN\", \"NaN\", NaN, \"NaN\", NaN, \"2024-10-29T10:50:51\", \"STORET\"], [\"21MSWQ_WQX\", \"MISSISSIPPI DEPARTMENT OF ENVIRONMENTAL QUALITY\", \"21MSWQ_WQX-200752-625\", \"Sample-Routine\", \"Water\", \"NaN\", \"2024-05-13\", \"11:35:00\", \"CDT\", \"NaN\", \"NaN\", \"NaN\", \"NaN\", 0.5, \"ft\", \"NaN\", NaN, \"NaN\", NaN, \"NaN\", \"BCH24;EPABEACH;MS315015\", \"BEACH MONITORING 2024;BEACH MONITORING 2024;GULFPORT WEST BEACH\", \"MISSISSIPPI DEPARTMENT OF ENVIRONMENTAL QUALITY\", \"21MSWQ_WQX-640MSDB08\", \"GULFPORT WEST BEACH\", NaN, NaN, NaN, NaN, 30.355167, -89.114583, \"Grab-DTSC\", \"21MSWQ_WQX\", \"Grab-Direct to Sample Container\", \"The collection of a sample utilizing no collection gear. The sample is collected directly into the sample container.\", \"Water Bottle\", \"STORET-1046374677\", \"NaN\", \"as C\", \"Organic carbon\", \"Total\", \"2.48\", \"mg/L\", \"NaN\", \"Accepted\", NaN, \"Actual\", NaN, NaN, NaN, NaN, NaN, NaN, NaN, NaN, NaN, \"NaN\", NaN, 0.5, \"ft\", NaN, NaN, NaN, NaN, NaN, NaN, \"5310-B\", \"APHA\", \"5310 B ~ Total Organic Carbon by Combustion-Infrared Method\", NaN, \"https://www.nemi.gov/methods/method_summary/5717/\", \"NaN\", \"NaN\", NaN, \"NaN\", \"NaN\", NaN, \"NaN\", NaN, \"2024-10-29T10:46:29\", \"STORET\"], [\"TCEQMAIN\", \"Texas Commission on Environmental Quality\", \"TCEQMAIN-15032290\", \"Field Msr/Obs\", \"Water\", \"NaN\", \"2024-05-07\", \"NaN\", \"NaN\", \"NaN\", \"NaN\", \"NaN\", \"NaN\", NaN, \"NaN\", \"NaN\", NaN, \"NaN\", NaN, \"NaN\", \"0\", \"TCEQ Data\", \"NaN\", \"TCEQMAIN-13463\", \"GULF OF MEXICO AT COUNTY LINE\", NaN, NaN, NaN, NaN, 29.5583, -94.3542, \"NaN\", \"NaN\", \"NaN\", \"NaN\", \"NaN\", \"STORET-1038282728\", \"NaN\", \"NaN\", \"Precipitation\", \"NaN\", \"2\", \"days\", \"NaN\", \"Final\", NaN, \"Actual\", NaN, NaN, NaN, NaN, NaN, NaN, NaN, NaN, NaN, \"NaN\", NaN, NaN, \"NaN\", NaN, NaN, NaN, NaN, NaN, NaN, \"N/A Calculation\", \"TCEQMAIN\", \"N/A Calculation\", NaN, \"NaN\", \"NaN\", \"NaN\", NaN, \"NaN\", \"NaN\", NaN, \"NaN\", NaN, \"2024-08-06T13:24:01\", \"STORET\"], [\"21MSWQ_WQX\", \"MISSISSIPPI DEPARTMENT OF ENVIRONMENTAL QUALITY\", \"21MSWQ_WQX-200745-625\", \"Sample-Routine\", \"Water\", \"NaN\", \"2024-05-13\", \"10:07:00\", \"CDT\", \"NaN\", \"NaN\", \"NaN\", \"NaN\", 0.5, \"ft\", \"NaN\", NaN, \"NaN\", NaN, \"NaN\", \"BCH24;EPABEACH;MS999656\", \"BEACH MONITORING 2024;BEACH MONITORING 2024;BUCCANEER STATE PARK BEACH\", \"MISSISSIPPI DEPARTMENT OF ENVIRONMENTAL QUALITY\", \"21MSWQ_WQX-640MSDB01\", \"BUCCANEER STATE PARK BEACH\", NaN, NaN, NaN, NaN, 30.259528, -89.4065, \"Grab-DTSC\", \"21MSWQ_WQX\", \"Grab-Direct to Sample Container\", \"The collection of a sample utilizing no collection gear. The sample is collected directly into the sample container.\", \"Water Bottle\", \"STORET-1046374667\", \"NaN\", \"as C\", \"Organic carbon\", \"Total\", \"2.69\", \"mg/L\", \"NaN\", \"Accepted\", NaN, \"Actual\", NaN, NaN, NaN, NaN, NaN, NaN, NaN, NaN, NaN, \"NaN\", NaN, 0.5, \"ft\", NaN, NaN, NaN, NaN, NaN, NaN, \"5310-B\", \"APHA\", \"5310 B ~ Total Organic Carbon by Combustion-Infrared Method\", NaN, \"https://www.nemi.gov/methods/method_summary/5717/\", \"NaN\", \"NaN\", NaN, \"NaN\", \"NaN\", NaN, \"NaN\", NaN, \"2024-10-29T10:46:28\", \"STORET\"], [\"21MSWQ_WQX\", \"MISSISSIPPI DEPARTMENT OF ENVIRONMENTAL QUALITY\", \"21MSWQ_WQX-200562-625\", \"Sample-Routine\", \"Water\", \"NaN\", \"2024-04-17\", \"11:01:00\", \"CDT\", \"NaN\", \"NaN\", \"NaN\", \"NaN\", 0.5, \"ft\", \"NaN\", NaN, \"NaN\", NaN, \"NaN\", \"BCH24;EPABEACH;MS335067\", \"BEACH MONITORING 2024;BEACH MONITORING 2024;BILOXI EAST BEACH\", \"MISSISSIPPI DEPARTMENT OF ENVIRONMENTAL QUALITY\", \"21MSWQ_WQX-640MSDB14\", \"BILOXI EAST BEACH\", NaN, NaN, NaN, NaN, 30.39225, -88.876361, \"Grab-DTSC\", \"21MSWQ_WQX\", \"Grab-Direct to Sample Container\", \"The collection of a sample utilizing no collection gear. The sample is collected directly into the sample container.\", \"Water Bottle\", \"STORET-1046373736\", \"NaN\", \"as C\", \"Organic carbon\", \"Total\", \"3.44\", \"mg/L\", \"NaN\", \"Accepted\", NaN, \"Actual\", NaN, NaN, NaN, NaN, NaN, NaN, NaN, NaN, NaN, \"NaN\", NaN, 0.5, \"ft\", NaN, NaN, NaN, NaN, NaN, NaN, \"5310-B\", \"APHA\", \"5310 B ~ Total Organic Carbon by Combustion-Infrared Method\", NaN, \"https://www.nemi.gov/methods/method_summary/5717/\", \"NaN\", \"NaN\", NaN, \"NaN\", \"NaN\", NaN, \"NaN\", NaN, \"2024-10-29T10:44:56\", \"STORET\"], [\"21FLNWFD_WQX\", \"Northwest  Florida Water Management District\", \"21FLNWFD_WQX-S2-061824\", \"Sample-Routine\", \"Water\", \"Surface Water\", \"2024-06-18\", \"11:00:00\", \"EST\", \"2024-06-18\", \"11:00:00\", \"EST\", \"NaN\", 1.64, \"ft\", \"NaN\", NaN, \"NaN\", NaN, \"NaN\", \"NWF-SJB2MSWQS\", \"SJB and Second Magnitude Springs Water Quality Sampling\", \"JIM STIDHAM AND ASSOCIATES, INC.\", \"21FLNWFD_WQX-SJB14\", \"St. Joseph Bay 14\", NaN, NaN, NaN, NaN, 29.728256, -85.387486, \"Intermediate Grab\", \"21FLNWFD_WQX\", \"Intermediate Grab\", \"An individual sample collected at one time period, generally not exceeding 15 minutes.  Grab samples represent the conditions that exist at the moment the sample is collected.  An intermediate device, vessel or another sample container is used to collect the intermediate grab sample. The sample is then transferred to the sample container and sent to the lab.\", \"Pump/Submersible\", \"STORET-1046447730\", \"NaN\", \"NaN\", \"Organic carbon\", \"Total\", \"7.1\", \"mg/L\", \"NaN\", \"Final\", NaN, \"Actual\", NaN, NaN, NaN, NaN, NaN, NaN, NaN, NaN, NaN, \"NaN\", NaN, NaN, \"NaN\", NaN, NaN, NaN, NaN, NaN, NaN, \"5310-B\", \"APHA\", \"5310 B ~ Total Organic Carbon by Combustion-Infrared Method\", NaN, \"https://www.nemi.gov/methods/method_summary/5717/\", \"E82001\", \"2024-06-24\", NaN, \"https://www.waterqualitydata.us/data/providers/STORET/organizations/21FLNWFD_WQX/activities/21FLNWFD_WQX-S2-061824/results/1046447730/resdetectqntlmts\", \"Practical Quantitation Limit\", 2.0, \"mg/L\", NaN, \"2024-10-30T13:32:01\", \"STORET\"], [\"21MSWQ_WQX\", \"MISSISSIPPI DEPARTMENT OF ENVIRONMENTAL QUALITY\", \"21MSWQ_WQX-200570-625\", \"Sample-Routine\", \"Water\", \"NaN\", \"2024-04-17\", \"10:24:00\", \"CDT\", \"NaN\", \"NaN\", \"NaN\", \"NaN\", 0.5, \"ft\", \"NaN\", NaN, \"NaN\", NaN, \"NaN\", \"BCH24;EPABEACH;MS424283\", \"BEACH MONITORING 2024;BEACH MONITORING 2024;EDGEWATER BEACH\", \"MISSISSIPPI DEPARTMENT OF ENVIRONMENTAL QUALITY\", \"21MSWQ_WQX-640MSDB11A\", \"EDGEWATER BEACH\", NaN, NaN, NaN, NaN, 30.388222, -88.991528, \"Grab-DTSC\", \"21MSWQ_WQX\", \"Grab-Direct to Sample Container\", \"The collection of a sample utilizing no collection gear. The sample is collected directly into the sample container.\", \"Water Bottle\", \"STORET-1046380119\", \"NaN\", \"as C\", \"Organic carbon\", \"Total\", \"2.62\", \"mg/L\", \"NaN\", \"Accepted\", NaN, \"Actual\", NaN, NaN, NaN, NaN, NaN, NaN, NaN, NaN, NaN, \"NaN\", NaN, 0.5, \"ft\", NaN, NaN, NaN, NaN, NaN, NaN, \"5310-B\", \"APHA\", \"5310 B ~ Total Organic Carbon by Combustion-Infrared Method\", NaN, \"https://www.nemi.gov/methods/method_summary/5717/\", \"NaN\", \"NaN\", NaN, \"NaN\", \"NaN\", NaN, \"NaN\", NaN, \"2024-10-29T10:51:44\", \"STORET\"], [\"21MSWQ_WQX\", \"MISSISSIPPI DEPARTMENT OF ENVIRONMENTAL QUALITY\", \"21MSWQ_WQX-200549-625\", \"Sample-Routine\", \"Water\", \"NaN\", \"2024-04-15\", \"11:33:00\", \"CDT\", \"NaN\", \"NaN\", \"NaN\", \"NaN\", 0.5, \"ft\", \"NaN\", NaN, \"NaN\", NaN, \"NaN\", \"BCH24;EPABEACH;MS984335\", \"BEACH MONITORING 2024;BEACH MONITORING 2024;GULFPORT CENTRAL BEACH\", \"MISSISSIPPI DEPARTMENT OF ENVIRONMENTAL QUALITY\", \"21MSWQ_WQX-640MSDB10\", \"GULFPORT CENTRAL BEACH\", NaN, NaN, NaN, NaN, 30.375, -89.053917, \"Grab-DTSC\", \"21MSWQ_WQX\", \"Grab-Direct to Sample Container\", \"The collection of a sample utilizing no collection gear. The sample is collected directly into the sample container.\", \"Water Bottle\", \"STORET-1046372863\", \"NaN\", \"as C\", \"Organic carbon\", \"Total\", \"3.1\", \"mg/L\", \"NaN\", \"Accepted\", NaN, \"Actual\", NaN, NaN, NaN, NaN, NaN, NaN, NaN, NaN, NaN, \"NaN\", NaN, 0.5, \"ft\", NaN, NaN, NaN, NaN, NaN, NaN, \"5310-B\", \"APHA\", \"5310 B ~ Total Organic Carbon by Combustion-Infrared Method\", NaN, \"https://www.nemi.gov/methods/method_summary/5717/\", \"NaN\", \"NaN\", NaN, \"NaN\", \"NaN\", NaN, \"NaN\", NaN, \"2024-10-29T10:43:14\", \"STORET\"], [\"21MSWQ_WQX\", \"MISSISSIPPI DEPARTMENT OF ENVIRONMENTAL QUALITY\", \"21MSWQ_WQX-200902-625\", \"Sample-Routine\", \"Water\", \"NaN\", \"2024-06-10\", \"10:14:00\", \"CDT\", \"NaN\", \"NaN\", \"NaN\", \"NaN\", 0.5, \"ft\", \"NaN\", NaN, \"NaN\", NaN, \"NaN\", \"BCH24;EPABEACH;MS268175\", \"BEACH MONITORING 2024;BEACH MONITORING 2024;PASS CHRISTIAN CENTRAL BEACH\", \"MISSISSIPPI DEPARTMENT OF ENVIRONMENTAL QUALITY\", \"21MSWQ_WQX-640MSDB05\", \"PASS CHRISTIAN CENTRAL BEACH\", NaN, NaN, NaN, NaN, 30.309, -89.254694, \"Grab-DTSC\", \"21MSWQ_WQX\", \"Grab-Direct to Sample Container\", \"The collection of a sample utilizing no collection gear. The sample is collected directly into the sample container.\", \"Water Bottle\", \"STORET-1046370700\", \"NaN\", \"as C\", \"Organic carbon\", \"Total\", \"3.26\", \"mg/L\", \"NaN\", \"Accepted\", NaN, \"Actual\", NaN, NaN, NaN, NaN, NaN, NaN, NaN, NaN, NaN, \"NaN\", NaN, 0.5, \"ft\", NaN, NaN, NaN, NaN, NaN, NaN, \"5310-B\", \"APHA\", \"5310 B ~ Total Organic Carbon by Combustion-Infrared Method\", NaN, \"https://www.nemi.gov/methods/method_summary/5717/\", \"NaN\", \"NaN\", NaN, \"NaN\", \"NaN\", NaN, \"NaN\", NaN, \"2024-10-29T10:39:23\", \"STORET\"], [\"21MSWQ_WQX\", \"MISSISSIPPI DEPARTMENT OF ENVIRONMENTAL QUALITY\", \"21MSWQ_WQX-200563-625\", \"Sample-Routine\", \"Water\", \"NaN\", \"2024-04-17\", \"11:15:00\", \"CDT\", \"NaN\", \"NaN\", \"NaN\", \"NaN\", 0.5, \"ft\", \"NaN\", NaN, \"NaN\", NaN, \"NaN\", \"BCH24;EPABEACH;MS334678\", \"BEACH MONITORING 2024;BEACH MONITORING 2024;FRONT BEACH\", \"MISSISSIPPI DEPARTMENT OF ENVIRONMENTAL QUALITY\", \"21MSWQ_WQX-640BBYB01\", \"FRONT BEACH\", NaN, NaN, NaN, NaN, 30.406389, -88.833333, \"Grab-DTSC\", \"21MSWQ_WQX\", \"Grab-Direct to Sample Container\", \"The collection of a sample utilizing no collection gear. The sample is collected directly into the sample container.\", \"Water Bottle\", \"STORET-1046370620\", \"NaN\", \"as C\", \"Organic carbon\", \"Total\", \"3.48\", \"mg/L\", \"NaN\", \"Accepted\", NaN, \"Actual\", NaN, NaN, NaN, NaN, NaN, NaN, NaN, NaN, NaN, \"NaN\", NaN, 0.5, \"ft\", NaN, NaN, NaN, NaN, NaN, NaN, \"5310-B\", \"APHA\", \"5310 B ~ Total Organic Carbon by Combustion-Infrared Method\", NaN, \"https://www.nemi.gov/methods/method_summary/5717/\", \"NaN\", \"NaN\", NaN, \"NaN\", \"NaN\", NaN, \"NaN\", NaN, \"2024-10-29T10:39:09\", \"STORET\"], [\"21MSWQ_WQX\", \"MISSISSIPPI DEPARTMENT OF ENVIRONMENTAL QUALITY\", \"21MSWQ_WQX-200901-625\", \"Sample-Routine\", \"Water\", \"NaN\", \"2024-06-10\", \"10:08:00\", \"CDT\", \"NaN\", \"NaN\", \"NaN\", \"NaN\", 0.5, \"ft\", \"NaN\", NaN, \"NaN\", NaN, \"NaN\", \"BCH24;EPABEACH;MS183900\", \"BEACH MONITORING 2024;BEACH MONITORING 2024;PASS CHRISTIAN WEST BEACH\", \"MISSISSIPPI DEPARTMENT OF ENVIRONMENTAL QUALITY\", \"21MSWQ_WQX-640MSDB04\", \"PASS CHRISTIAN WEST BEACH\", NaN, NaN, NaN, NaN, 30.3035, -89.281694, \"Grab-DTSC\", \"21MSWQ_WQX\", \"Grab-Direct to Sample Container\", \"The collection of a sample utilizing no collection gear. The sample is collected directly into the sample container.\", \"Water Bottle\", \"STORET-1046371367\", \"NaN\", \"as C\", \"Organic carbon\", \"Total\", \"3.1\", \"mg/L\", \"NaN\", \"Accepted\", NaN, \"Actual\", NaN, NaN, NaN, NaN, NaN, NaN, NaN, NaN, NaN, \"NaN\", NaN, 0.5, \"ft\", NaN, NaN, NaN, NaN, NaN, NaN, \"5310-B\", \"APHA\", \"5310 B ~ Total Organic Carbon by Combustion-Infrared Method\", NaN, \"https://www.nemi.gov/methods/method_summary/5717/\", \"NaN\", \"NaN\", NaN, \"NaN\", \"NaN\", NaN, \"NaN\", NaN, \"2024-10-29T10:40:32\", \"STORET\"], [\"21MSWQ_WQX\", \"MISSISSIPPI DEPARTMENT OF ENVIRONMENTAL QUALITY\", \"21MSWQ_WQX-200548-625\", \"Sample-Routine\", \"Water\", \"NaN\", \"2024-04-15\", \"11:20:00\", \"CDT\", \"NaN\", \"NaN\", \"NaN\", \"NaN\", 0.5, \"ft\", \"NaN\", NaN, \"NaN\", NaN, \"NaN\", \"BCH24;EPABEACH;MS837600\", \"BEACH MONITORING 2024;BEACH MONITORING 2024;GULFPORT HARBOR BEACH\", \"MISSISSIPPI DEPARTMENT OF ENVIRONMENTAL QUALITY\", \"21MSWQ_WQX-640MSDB09\", \"GULFPORT HARBOR BEACH\", NaN, NaN, NaN, NaN, 30.367361, -89.079722, \"Grab-DTSC\", \"21MSWQ_WQX\", \"Grab-Direct to Sample Container\", \"The collection of a sample utilizing no collection gear. The sample is collected directly into the sample container.\", \"Water Bottle\", \"STORET-1046372498\", \"NaN\", \"as C\", \"Organic carbon\", \"Total\", \"2.58\", \"mg/L\", \"NaN\", \"Accepted\", NaN, \"Actual\", NaN, NaN, NaN, NaN, NaN, NaN, NaN, NaN, NaN, \"NaN\", NaN, 0.5, \"ft\", NaN, NaN, NaN, NaN, NaN, NaN, \"5310-B\", \"APHA\", \"5310 B ~ Total Organic Carbon by Combustion-Infrared Method\", NaN, \"https://www.nemi.gov/methods/method_summary/5717/\", \"NaN\", \"NaN\", NaN, \"NaN\", \"NaN\", NaN, \"NaN\", NaN, \"2024-10-29T10:42:22\", \"STORET\"], [\"21MSWQ_WQX\", \"MISSISSIPPI DEPARTMENT OF ENVIRONMENTAL QUALITY\", \"21MSWQ_WQX-200754-625\", \"Sample-Routine\", \"Water\", \"NaN\", \"2024-05-13\", \"11:55:00\", \"CDT\", \"NaN\", \"NaN\", \"NaN\", \"NaN\", 0.5, \"ft\", \"NaN\", NaN, \"NaN\", NaN, \"NaN\", \"BCH24;EPABEACH;MS984335\", \"BEACH MONITORING 2024;BEACH MONITORING 2024;GULFPORT CENTRAL BEACH\", \"MISSISSIPPI DEPARTMENT OF ENVIRONMENTAL QUALITY\", \"21MSWQ_WQX-640MSDB10\", \"GULFPORT CENTRAL BEACH\", NaN, NaN, NaN, NaN, 30.375, -89.053917, \"Grab-DTSC\", \"21MSWQ_WQX\", \"Grab-Direct to Sample Container\", \"The collection of a sample utilizing no collection gear. The sample is collected directly into the sample container.\", \"Water Bottle\", \"STORET-1046370667\", \"NaN\", \"as C\", \"Organic carbon\", \"Total\", \"2.62\", \"mg/L\", \"NaN\", \"Accepted\", NaN, \"Actual\", NaN, NaN, NaN, NaN, NaN, NaN, NaN, NaN, NaN, \"NaN\", NaN, 0.5, \"ft\", NaN, NaN, NaN, NaN, NaN, NaN, \"5310-B\", \"APHA\", \"5310 B ~ Total Organic Carbon by Combustion-Infrared Method\", NaN, \"https://www.nemi.gov/methods/method_summary/5717/\", \"NaN\", \"NaN\", NaN, \"NaN\", \"NaN\", NaN, \"NaN\", NaN, \"2024-10-29T10:39:17\", \"STORET\"], [\"21FLTPA_WQX\", \"FL Dept. Environmental Protection, Southwest District\", \"21FLTPA_WQX-G5SW0061-06/17/24\", \"Sample-Routine\", \"Water\", \"Surface Water\", \"2024-06-17\", \"11:10:00\", \"EST\", \"2024-06-17\", \"11:10:00\", \"EST\", \"NaN\", 0.3, \"m\", \"NaN\", NaN, \"NaN\", NaN, \"NaN\", \"SMP\", \"Strategic Monitoring Plan\", \"FDEP SOUTHWEST REGIONAL OPERATIONS CENTER\", \"21FLTPA_WQX-G5SW0061\", \"Gulf of Mexico (Port Richey) SE\", NaN, NaN, NaN, NaN, 28.27, -82.75, \"Direct Grab\", \"21FLTPA_WQX\", \"Direct Grab\", \"An individual sample collected at one time period, generally not exceeding 15 minutes.  Grab samples represent the conditions that exist at the moment the sample is collected.  Use sample container to directly collect the sample.  For Aqueous matrices, all sample containers for individual analytes or analyte groups must be filled from the sampling location or source within the 15-minute window.\", \"Water Bottle\", \"STORET-1043713744\", \"NaN\", \"NaN\", \"Organic carbon\", \"Total\", \"6.9\", \"mg/L\", \"NaN\", \"Final\", NaN, \"Actual\", NaN, NaN, NaN, NaN, NaN, NaN, NaN, NaN, NaN, \"NaN\", NaN, NaN, \"NaN\", NaN, NaN, NaN, NaN, NaN, NaN, \"5310-B\", \"APHA\", \"5310 B ~ Total Organic Carbon by Combustion-Infrared Method\", NaN, \"https://www.nemi.gov/methods/method_summary/5717/\", \"E31780\", \"2024-06-25\", NaN, \"https://www.waterqualitydata.us/data/providers/STORET/organizations/21FLTPA_WQX/activities/21FLTPA_WQX-G5SW0061-06%2F17%2F24/results/1043713744/resdetectqntlmts\", \"Practical Quantitation Limit\", 4.0, \"mg/L\", NaN, \"2024-10-08T15:06:23\", \"STORET\"], [\"21MSWQ_WQX\", \"MISSISSIPPI DEPARTMENT OF ENVIRONMENTAL QUALITY\", \"21MSWQ_WQX-200763-625\", \"Sample-Routine\", \"Water\", \"NaN\", \"2024-05-14\", \"09:40:00\", \"CDT\", \"NaN\", \"NaN\", \"NaN\", \"NaN\", 0.5, \"ft\", \"NaN\", NaN, \"NaN\", NaN, \"NaN\", \"BCH24;EPABEACH;MS334678\", \"BEACH MONITORING 2024;BEACH MONITORING 2024;FRONT BEACH\", \"MISSISSIPPI DEPARTMENT OF ENVIRONMENTAL QUALITY\", \"21MSWQ_WQX-640BBYB01\", \"FRONT BEACH\", NaN, NaN, NaN, NaN, 30.406389, -88.833333, \"Grab-DTSC\", \"21MSWQ_WQX\", \"Grab-Direct to Sample Container\", \"The collection of a sample utilizing no collection gear. The sample is collected directly into the sample container.\", \"Water Bottle\", \"STORET-1046374695\", \"NaN\", \"as C\", \"Organic carbon\", \"Total\", \"3.02\", \"mg/L\", \"NaN\", \"Accepted\", NaN, \"Actual\", NaN, NaN, NaN, NaN, NaN, NaN, NaN, NaN, NaN, \"NaN\", NaN, 0.5, \"ft\", NaN, NaN, NaN, NaN, NaN, NaN, \"5310-B\", \"APHA\", \"5310 B ~ Total Organic Carbon by Combustion-Infrared Method\", NaN, \"https://www.nemi.gov/methods/method_summary/5717/\", \"NaN\", \"NaN\", NaN, \"NaN\", \"NaN\", NaN, \"NaN\", NaN, \"2024-10-29T10:46:30\", \"STORET\"], [\"21MSWQ_WQX\", \"MISSISSIPPI DEPARTMENT OF ENVIRONMENTAL QUALITY\", \"21MSWQ_WQX-200544-625\", \"Sample-Routine\", \"Water\", \"NaN\", \"2024-04-15\", \"10:31:00\", \"CDT\", \"NaN\", \"NaN\", \"NaN\", \"NaN\", 0.5, \"ft\", \"NaN\", NaN, \"NaN\", NaN, \"NaN\", \"BCH24;EPABEACH;MS268175\", \"BEACH MONITORING 2024;BEACH MONITORING 2024;PASS CHRISTIAN CENTRAL BEACH\", \"MISSISSIPPI DEPARTMENT OF ENVIRONMENTAL QUALITY\", \"21MSWQ_WQX-640MSDB05\", \"PASS CHRISTIAN CENTRAL BEACH\", NaN, NaN, NaN, NaN, 30.309, -89.254694, \"Grab-DTSC\", \"21MSWQ_WQX\", \"Grab-Direct to Sample Container\", \"The collection of a sample utilizing no collection gear. The sample is collected directly into the sample container.\", \"Water Bottle\", \"STORET-1046370611\", \"NaN\", \"as C\", \"Organic carbon\", \"Total\", \"4.39\", \"mg/L\", \"NaN\", \"Accepted\", NaN, \"Actual\", NaN, NaN, NaN, NaN, NaN, NaN, NaN, NaN, NaN, \"NaN\", NaN, 0.5, \"ft\", NaN, NaN, NaN, NaN, NaN, NaN, \"5310-B\", \"APHA\", \"5310 B ~ Total Organic Carbon by Combustion-Infrared Method\", NaN, \"https://www.nemi.gov/methods/method_summary/5717/\", \"NaN\", \"NaN\", NaN, \"NaN\", \"NaN\", NaN, \"NaN\", NaN, \"2024-10-29T10:39:08\", \"STORET\"], [\"21FLNWFD_WQX\", \"Northwest  Florida Water Management District\", \"21FLNWFD_WQX-S5-061324\", \"Sample-Routine\", \"Water\", \"Surface Water\", \"2024-06-13\", \"12:30:00\", \"EST\", \"2024-06-13\", \"12:30:00\", \"EST\", \"NaN\", 1.64, \"ft\", \"NaN\", NaN, \"NaN\", NaN, \"NaN\", \"NWF-SJB2MSWQS\", \"SJB and Second Magnitude Springs Water Quality Sampling\", \"JIM STIDHAM AND ASSOCIATES, INC.\", \"21FLNWFD_WQX-SJB7\", \"St. Joseph Bay 7\", NaN, NaN, NaN, NaN, 29.756329, -85.303458, \"Intermediate Grab\", \"21FLNWFD_WQX\", \"Intermediate Grab\", \"An individual sample collected at one time period, generally not exceeding 15 minutes.  Grab samples represent the conditions that exist at the moment the sample is collected.  An intermediate device, vessel or another sample container is used to collect the intermediate grab sample. The sample is then transferred to the sample container and sent to the lab.\", \"Pump/Submersible\", \"STORET-1046447753\", \"NaN\", \"NaN\", \"Organic carbon\", \"Total\", \"9.9\", \"mg/L\", \"NaN\", \"Final\", NaN, \"Actual\", NaN, NaN, NaN, NaN, NaN, NaN, NaN, NaN, NaN, \"NaN\", NaN, NaN, \"NaN\", NaN, NaN, NaN, NaN, NaN, NaN, \"5310-B\", \"APHA\", \"5310 B ~ Total Organic Carbon by Combustion-Infrared Method\", NaN, \"https://www.nemi.gov/methods/method_summary/5717/\", \"E82001\", \"2024-06-20\", NaN, \"https://www.waterqualitydata.us/data/providers/STORET/organizations/21FLNWFD_WQX/activities/21FLNWFD_WQX-S5-061324/results/1046447753/resdetectqntlmts\", \"Practical Quantitation Limit\", 2.0, \"mg/L\", NaN, \"2024-10-30T13:32:01\", \"STORET\"], [\"21MSWQ_WQX\", \"MISSISSIPPI DEPARTMENT OF ENVIRONMENTAL QUALITY\", \"21MSWQ_WQX-200917-625\", \"Sample-Routine\", \"Water\", \"NaN\", \"2024-06-11\", \"09:47:00\", \"CDT\", \"NaN\", \"NaN\", \"NaN\", \"NaN\", 0.5, \"ft\", \"NaN\", NaN, \"NaN\", NaN, \"NaN\", \"BCH24;EPABEACH;MS464589\", \"BEACH MONITORING 2024;BEACH MONITORING 2024;SHEARWATER BEACH\", \"MISSISSIPPI DEPARTMENT OF ENVIRONMENTAL QUALITY\", \"21MSWQ_WQX-640BBYB02\", \"SHEARWATER BEACH\", NaN, NaN, NaN, NaN, 30.393889, -88.810278, \"Grab-DTSC\", \"21MSWQ_WQX\", \"Grab-Direct to Sample Container\", \"The collection of a sample utilizing no collection gear. The sample is collected directly into the sample container.\", \"Water Bottle\", \"STORET-1046372774\", \"NaN\", \"as C\", \"Organic carbon\", \"Total\", \"3.46\", \"mg/L\", \"NaN\", \"Accepted\", NaN, \"Actual\", NaN, NaN, NaN, NaN, NaN, NaN, NaN, NaN, NaN, \"NaN\", NaN, 0.5, \"ft\", NaN, NaN, NaN, NaN, NaN, NaN, \"5310-B\", \"APHA\", \"5310 B ~ Total Organic Carbon by Combustion-Infrared Method\", NaN, \"https://www.nemi.gov/methods/method_summary/5717/\", \"NaN\", \"NaN\", NaN, \"NaN\", \"NaN\", NaN, \"NaN\", NaN, \"2024-10-29T10:43:02\", \"STORET\"], [\"21MSWQ_WQX\", \"MISSISSIPPI DEPARTMENT OF ENVIRONMENTAL QUALITY\", \"21MSWQ_WQX-200543-625\", \"Sample-Routine\", \"Water\", \"NaN\", \"2024-04-15\", \"10:20:00\", \"CDT\", \"NaN\", \"NaN\", \"NaN\", \"NaN\", 0.5, \"ft\", \"NaN\", NaN, \"NaN\", NaN, \"NaN\", \"BCH24;EPABEACH;MS183900\", \"BEACH MONITORING 2024;BEACH MONITORING 2024;PASS CHRISTIAN WEST BEACH\", \"MISSISSIPPI DEPARTMENT OF ENVIRONMENTAL QUALITY\", \"21MSWQ_WQX-640MSDB04\", \"PASS CHRISTIAN WEST BEACH\", NaN, NaN, NaN, NaN, 30.3035, -89.281694, \"Grab-DTSC\", \"21MSWQ_WQX\", \"Grab-Direct to Sample Container\", \"The collection of a sample utilizing no collection gear. The sample is collected directly into the sample container.\", \"Water Bottle\", \"STORET-1046372489\", \"NaN\", \"as C\", \"Organic carbon\", \"Total\", \"3.17\", \"mg/L\", \"NaN\", \"Accepted\", NaN, \"Actual\", NaN, NaN, NaN, NaN, NaN, NaN, NaN, NaN, NaN, \"NaN\", NaN, 0.5, \"ft\", NaN, NaN, NaN, NaN, NaN, NaN, \"5310-B\", \"APHA\", \"5310 B ~ Total Organic Carbon by Combustion-Infrared Method\", NaN, \"https://www.nemi.gov/methods/method_summary/5717/\", \"NaN\", \"NaN\", NaN, \"NaN\", \"NaN\", NaN, \"NaN\", NaN, \"2024-10-29T10:42:22\", \"STORET\"], [\"21MSWQ_WQX\", \"MISSISSIPPI DEPARTMENT OF ENVIRONMENTAL QUALITY\", \"21MSWQ_WQX-200904-625\", \"Sample-Routine\", \"Water\", \"NaN\", \"2024-06-10\", \"10:33:00\", \"CDT\", \"NaN\", \"NaN\", \"NaN\", \"NaN\", 0.5, \"ft\", \"NaN\", NaN, \"NaN\", NaN, \"NaN\", \"BCH24;EPABEACH;MS951039\", \"BEACH MONITORING 2024;BEACH MONITORING 2024;LONG BEACH\", \"MISSISSIPPI DEPARTMENT OF ENVIRONMENTAL QUALITY\", \"21MSWQ_WQX-640MSDB07\", \"LONG BEACH\", NaN, NaN, NaN, NaN, 30.339944, -89.159722, \"Grab-DTSC\", \"21MSWQ_WQX\", \"Grab-Direct to Sample Container\", \"The collection of a sample utilizing no collection gear. The sample is collected directly into the sample container.\", \"Water Bottle\", \"STORET-1046378116\", \"NaN\", \"as C\", \"Organic carbon\", \"Total\", \"3.05\", \"mg/L\", \"NaN\", \"Accepted\", NaN, \"Actual\", NaN, NaN, NaN, NaN, NaN, NaN, NaN, NaN, NaN, \"NaN\", NaN, 0.5, \"ft\", NaN, NaN, NaN, NaN, NaN, NaN, \"5310-B\", \"APHA\", \"5310 B ~ Total Organic Carbon by Combustion-Infrared Method\", NaN, \"https://www.nemi.gov/methods/method_summary/5717/\", \"NaN\", \"NaN\", NaN, \"NaN\", \"NaN\", NaN, \"NaN\", NaN, \"2024-10-29T10:48:16\", \"STORET\"], [\"21MSWQ_WQX\", \"MISSISSIPPI DEPARTMENT OF ENVIRONMENTAL QUALITY\", \"21MSWQ_WQX-200911-625\", \"Sample-Routine\", \"Water\", \"NaN\", \"2024-06-11\", \"08:46:00\", \"CDT\", \"NaN\", \"NaN\", \"NaN\", \"NaN\", 0.5, \"ft\", \"NaN\", NaN, \"NaN\", NaN, \"NaN\", \"BCH24;EPABEACH;MS501920\", \"BEACH MONITORING 2024;BEACH MONITORING 2024;GULFPORT EAST BEACH\", \"MISSISSIPPI DEPARTMENT OF ENVIRONMENTAL QUALITY\", \"21MSWQ_WQX-640MSDB11\", \"GULFPORT EAST BEACH\", NaN, NaN, NaN, NaN, 30.380917, -89.026639, \"Grab-DTSC\", \"21MSWQ_WQX\", \"Grab-Direct to Sample Container\", \"The collection of a sample utilizing no collection gear. The sample is collected directly into the sample container.\", \"Water Bottle\", \"STORET-1046372764\", \"NaN\", \"as C\", \"Organic carbon\", \"Total\", \"2.72\", \"mg/L\", \"NaN\", \"Accepted\", NaN, \"Actual\", NaN, NaN, NaN, NaN, NaN, NaN, NaN, NaN, NaN, \"NaN\", NaN, 0.5, \"ft\", NaN, NaN, NaN, NaN, NaN, NaN, \"5310-B\", \"APHA\", \"5310 B ~ Total Organic Carbon by Combustion-Infrared Method\", NaN, \"https://www.nemi.gov/methods/method_summary/5717/\", \"NaN\", \"NaN\", NaN, \"NaN\", \"NaN\", NaN, \"NaN\", NaN, \"2024-10-29T10:43:01\", \"STORET\"], [\"21MSWQ_WQX\", \"MISSISSIPPI DEPARTMENT OF ENVIRONMENTAL QUALITY\", \"21MSWQ_WQX-200542-625\", \"Sample-Routine\", \"Water\", \"NaN\", \"2024-04-15\", \"10:04:00\", \"CDT\", \"NaN\", \"NaN\", \"NaN\", \"NaN\", 0.5, \"ft\", \"NaN\", NaN, \"NaN\", NaN, \"NaN\", \"BCH24;EPABEACH;MS356172\", \"BEACH MONITORING 2024;BEACH MONITORING 2024;BAY ST LOUIS BEACH\", \"MISSISSIPPI DEPARTMENT OF ENVIRONMENTAL QUALITY\", \"21MSWQ_WQX-640MSDB03\", \"BAY ST LOUIS BEACH\", NaN, NaN, NaN, NaN, 30.300222, -89.332639, \"Grab-DTSC\", \"21MSWQ_WQX\", \"Grab-Direct to Sample Container\", \"The collection of a sample utilizing no collection gear. The sample is collected directly into the sample container.\", \"Water Bottle\", \"STORET-1046372855\", \"NaN\", \"as C\", \"Organic carbon\", \"Total\", \"3.35\", \"mg/L\", \"NaN\", \"Accepted\", NaN, \"Actual\", NaN, NaN, NaN, NaN, NaN, NaN, NaN, NaN, NaN, \"NaN\", NaN, 0.5, \"ft\", NaN, NaN, NaN, NaN, NaN, NaN, \"5310-B\", \"APHA\", \"5310 B ~ Total Organic Carbon by Combustion-Infrared Method\", NaN, \"https://www.nemi.gov/methods/method_summary/5717/\", \"NaN\", \"NaN\", NaN, \"NaN\", \"NaN\", NaN, \"NaN\", NaN, \"2024-10-29T10:43:13\", \"STORET\"], [\"21MSWQ_WQX\", \"MISSISSIPPI DEPARTMENT OF ENVIRONMENTAL QUALITY\", \"21MSWQ_WQX-200912-625\", \"Sample-Routine\", \"Water\", \"NaN\", \"2024-06-11\", \"08:53:00\", \"CDT\", \"NaN\", \"NaN\", \"NaN\", \"NaN\", 0.5, \"ft\", \"NaN\", NaN, \"NaN\", NaN, \"NaN\", \"BCH24;EPABEACH;MS424283\", \"BEACH MONITORING 2024;BEACH MONITORING 2024;EDGEWATER BEACH\", \"MISSISSIPPI DEPARTMENT OF ENVIRONMENTAL QUALITY\", \"21MSWQ_WQX-640MSDB11A\", \"EDGEWATER BEACH\", NaN, NaN, NaN, NaN, 30.388222, -88.991528, \"Grab-DTSC\", \"21MSWQ_WQX\", \"Grab-Direct to Sample Container\", \"The collection of a sample utilizing no collection gear. The sample is collected directly into the sample container.\", \"Water Bottle\", \"STORET-1046378173\", \"NaN\", \"as C\", \"Organic carbon\", \"Total\", \"2.97\", \"mg/L\", \"NaN\", \"Accepted\", NaN, \"Actual\", NaN, NaN, NaN, NaN, NaN, NaN, NaN, NaN, NaN, \"NaN\", NaN, 0.5, \"ft\", NaN, NaN, NaN, NaN, NaN, NaN, \"5310-B\", \"APHA\", \"5310 B ~ Total Organic Carbon by Combustion-Infrared Method\", NaN, \"https://www.nemi.gov/methods/method_summary/5717/\", \"NaN\", \"NaN\", NaN, \"NaN\", \"NaN\", NaN, \"NaN\", NaN, \"2024-10-29T10:48:17\", \"STORET\"], [\"21FLNWFD_WQX\", \"Northwest  Florida Water Management District\", \"21FLNWFD_WQX-S4-061324\", \"Sample-Routine\", \"Water\", \"Surface Water\", \"2024-06-13\", \"12:10:00\", \"EST\", \"2024-06-13\", \"12:10:00\", \"EST\", \"NaN\", 1.64, \"ft\", \"NaN\", NaN, \"NaN\", NaN, \"NaN\", \"NWF-SJB2MSWQS\", \"SJB and Second Magnitude Springs Water Quality Sampling\", \"JIM STIDHAM AND ASSOCIATES, INC.\", \"21FLNWFD_WQX-SJB10\", \"St. Joseph Bay 10\", NaN, NaN, NaN, NaN, 29.717877, -85.304622, \"Intermediate Grab\", \"21FLNWFD_WQX\", \"Intermediate Grab\", \"An individual sample collected at one time period, generally not exceeding 15 minutes.  Grab samples represent the conditions that exist at the moment the sample is collected.  An intermediate device, vessel or another sample container is used to collect the intermediate grab sample. The sample is then transferred to the sample container and sent to the lab.\", \"Pump/Submersible\", \"STORET-1046447563\", \"NaN\", \"NaN\", \"Organic carbon\", \"Total\", \"7.6\", \"mg/L\", \"NaN\", \"Final\", NaN, \"Actual\", NaN, NaN, NaN, NaN, NaN, NaN, NaN, NaN, NaN, \"NaN\", NaN, NaN, \"NaN\", NaN, NaN, NaN, NaN, NaN, NaN, \"5310-B\", \"APHA\", \"5310 B ~ Total Organic Carbon by Combustion-Infrared Method\", NaN, \"https://www.nemi.gov/methods/method_summary/5717/\", \"E82001\", \"2024-06-20\", NaN, \"https://www.waterqualitydata.us/data/providers/STORET/organizations/21FLNWFD_WQX/activities/21FLNWFD_WQX-S4-061324/results/1046447563/resdetectqntlmts\", \"Practical Quantitation Limit\", 2.0, \"mg/L\", NaN, \"2024-10-30T13:31:59\", \"STORET\"], [\"21MSWQ_WQX\", \"MISSISSIPPI DEPARTMENT OF ENVIRONMENTAL QUALITY\", \"21MSWQ_WQX-200751-625\", \"Sample-Routine\", \"Water\", \"NaN\", \"2024-05-13\", \"11:25:00\", \"CDT\", \"NaN\", \"NaN\", \"NaN\", \"NaN\", 0.5, \"ft\", \"NaN\", NaN, \"NaN\", NaN, \"NaN\", \"BCH24;EPABEACH;MS951039\", \"BEACH MONITORING 2024;BEACH MONITORING 2024;LONG BEACH\", \"MISSISSIPPI DEPARTMENT OF ENVIRONMENTAL QUALITY\", \"21MSWQ_WQX-640MSDB07\", \"LONG BEACH\", NaN, NaN, NaN, NaN, 30.339944, -89.159722, \"Grab-DTSC\", \"21MSWQ_WQX\", \"Grab-Direct to Sample Container\", \"The collection of a sample utilizing no collection gear. The sample is collected directly into the sample container.\", \"Water Bottle\", \"STORET-1046380421\", \"NaN\", \"as C\", \"Organic carbon\", \"Total\", \"2.58\", \"mg/L\", \"NaN\", \"Accepted\", NaN, \"Actual\", NaN, NaN, NaN, NaN, NaN, NaN, NaN, NaN, NaN, \"NaN\", NaN, 0.5, \"ft\", NaN, NaN, NaN, NaN, NaN, NaN, \"5310-B\", \"APHA\", \"5310 B ~ Total Organic Carbon by Combustion-Infrared Method\", NaN, \"https://www.nemi.gov/methods/method_summary/5717/\", \"NaN\", \"NaN\", NaN, \"NaN\", \"NaN\", NaN, \"NaN\", NaN, \"2024-10-29T10:52:21\", \"STORET\"], [\"21MSWQ_WQX\", \"MISSISSIPPI DEPARTMENT OF ENVIRONMENTAL QUALITY\", \"21MSWQ_WQX-200755-625\", \"Sample-Routine\", \"Water\", \"NaN\", \"2024-05-14\", \"08:38:00\", \"CDT\", \"NaN\", \"NaN\", \"NaN\", \"NaN\", 0.5, \"ft\", \"NaN\", NaN, \"NaN\", NaN, \"NaN\", \"BCH24;EPABEACH;MS665298\", \"BEACH MONITORING 2024;BEACH MONITORING 2024;COURTHOUSE ROAD BEACH\", \"MISSISSIPPI DEPARTMENT OF ENVIRONMENTAL QUALITY\", \"21MSWQ_WQX-640MSDB10B\", \"COURTHOUSE ROAD BEACH\", NaN, NaN, NaN, NaN, 30.3772, -89.043308, \"Grab-DTSC\", \"21MSWQ_WQX\", \"Grab-Direct to Sample Container\", \"The collection of a sample utilizing no collection gear. The sample is collected directly into the sample container.\", \"Water Bottle\", \"STORET-1046374688\", \"NaN\", \"as C\", \"Organic carbon\", \"Total\", \"2.41\", \"mg/L\", \"NaN\", \"Accepted\", NaN, \"Actual\", NaN, NaN, NaN, NaN, NaN, NaN, NaN, NaN, NaN, \"NaN\", NaN, 0.5, \"ft\", NaN, NaN, NaN, NaN, NaN, NaN, \"5310-B\", \"APHA\", \"5310 B ~ Total Organic Carbon by Combustion-Infrared Method\", NaN, \"https://www.nemi.gov/methods/method_summary/5717/\", \"NaN\", \"NaN\", NaN, \"NaN\", \"NaN\", NaN, \"NaN\", NaN, \"2024-10-29T10:46:29\", \"STORET\"], [\"21MSWQ_WQX\", \"MISSISSIPPI DEPARTMENT OF ENVIRONMENTAL QUALITY\", \"21MSWQ_WQX-200919-625\", \"Sample-Routine\", \"Water\", \"NaN\", \"2024-06-11\", \"10:39:00\", \"CDT\", \"NaN\", \"NaN\", \"NaN\", \"NaN\", 0.5, \"ft\", \"NaN\", NaN, \"NaN\", NaN, \"NaN\", \"BCH24;EPABEACH;MS743032\", \"BEACH MONITORING 2024;BEACH MONITORING 2024;PASCAGOULA BEACH EAST\", \"MISSISSIPPI DEPARTMENT OF ENVIRONMENTAL QUALITY\", \"21MSWQ_WQX-640MSDB18\", \"PASCAGOULA BEACH EAST\", NaN, NaN, NaN, NaN, 30.341778, -88.527778, \"Grab-DTSC\", \"21MSWQ_WQX\", \"Grab-Direct to Sample Container\", \"The collection of a sample utilizing no collection gear. The sample is collected directly into the sample container.\", \"Water Bottle\", \"STORET-1046374304\", \"NaN\", \"as C\", \"Organic carbon\", \"Total\", \"2.43\", \"mg/L\", \"NaN\", \"Accepted\", NaN, \"Actual\", NaN, NaN, NaN, NaN, NaN, NaN, NaN, NaN, NaN, \"NaN\", NaN, 0.5, \"ft\", NaN, NaN, NaN, NaN, NaN, NaN, \"5310-B\", \"APHA\", \"5310 B ~ Total Organic Carbon by Combustion-Infrared Method\", NaN, \"https://www.nemi.gov/methods/method_summary/5717/\", \"NaN\", \"NaN\", NaN, \"NaN\", \"NaN\", NaN, \"NaN\", NaN, \"2024-10-29T10:46:02\", \"STORET\"], [\"21MSWQ_WQX\", \"MISSISSIPPI DEPARTMENT OF ENVIRONMENTAL QUALITY\", \"21MSWQ_WQX-200914-625\", \"Sample-Routine\", \"Water\", \"NaN\", \"2024-06-11\", \"09:13:00\", \"CDT\", \"NaN\", \"NaN\", \"NaN\", \"NaN\", 0.5, \"ft\", \"NaN\", NaN, \"NaN\", NaN, \"NaN\", \"BCH24;EPABEACH;MS444095\", \"BEACH MONITORING 2024;BEACH MONITORING 2024;BILOXI EAST CENTRAL BEACH\", \"MISSISSIPPI DEPARTMENT OF ENVIRONMENTAL QUALITY\", \"21MSWQ_WQX-640MSDB20\", \"BILOXI EAST CENTRAL BEACH\", NaN, NaN, NaN, NaN, 30.393347, -88.901558, \"Grab-DTSC\", \"21MSWQ_WQX\", \"Grab-Direct to Sample Container\", \"The collection of a sample utilizing no collection gear. The sample is collected directly into the sample container.\", \"Water Bottle\", \"STORET-1046374296\", \"NaN\", \"as C\", \"Organic carbon\", \"Total\", \"2.64\", \"mg/L\", \"NaN\", \"Accepted\", NaN, \"Actual\", NaN, NaN, NaN, NaN, NaN, NaN, NaN, NaN, NaN, \"NaN\", NaN, 0.5, \"ft\", NaN, NaN, NaN, NaN, NaN, NaN, \"5310-B\", \"APHA\", \"5310 B ~ Total Organic Carbon by Combustion-Infrared Method\", NaN, \"https://www.nemi.gov/methods/method_summary/5717/\", \"NaN\", \"NaN\", NaN, \"NaN\", \"NaN\", NaN, \"NaN\", NaN, \"2024-10-29T10:46:01\", \"STORET\"], [\"TCEQMAIN\", \"Texas Commission on Environmental Quality\", \"TCEQMAIN-15032355\", \"Field Msr/Obs\", \"Water\", \"NaN\", \"2024-05-15\", \"NaN\", \"NaN\", \"NaN\", \"NaN\", \"NaN\", \"NaN\", NaN, \"NaN\", \"NaN\", NaN, \"NaN\", NaN, \"NaN\", \"0\", \"TCEQ Data\", \"NaN\", \"TCEQMAIN-13462\", \"GULF OF MEXICO AT SEARIM PARK\", NaN, NaN, NaN, NaN, 29.6667, -94.0708, \"NaN\", \"NaN\", \"NaN\", \"NaN\", \"NaN\", \"STORET-1038283017\", \"NaN\", \"NaN\", \"Precipitation\", \"NaN\", \"2\", \"days\", \"NaN\", \"Final\", NaN, \"Actual\", NaN, NaN, NaN, NaN, NaN, NaN, NaN, NaN, NaN, \"NaN\", NaN, NaN, \"NaN\", NaN, NaN, NaN, NaN, NaN, NaN, \"N/A Calculation\", \"TCEQMAIN\", \"N/A Calculation\", NaN, \"NaN\", \"NaN\", \"NaN\", NaN, \"NaN\", \"NaN\", NaN, \"NaN\", NaN, \"2024-08-06T13:24:53\", \"STORET\"], [\"21MSWQ_WQX\", \"MISSISSIPPI DEPARTMENT OF ENVIRONMENTAL QUALITY\", \"21MSWQ_WQX-200913-625\", \"Sample-Routine\", \"Water\", \"NaN\", \"2024-06-11\", \"09:04:00\", \"CDT\", \"NaN\", \"NaN\", \"NaN\", \"NaN\", 0.5, \"ft\", \"NaN\", NaN, \"NaN\", NaN, \"NaN\", \"BCH24;EPABEACH;MS589107\", \"BEACH MONITORING 2024;BEACH MONITORING 2024;BILOXI WEST CENTRAL BEACH\", \"MISSISSIPPI DEPARTMENT OF ENVIRONMENTAL QUALITY\", \"21MSWQ_WQX-640MSDB12A\", \"BILOXI WEST CENTRAL BEACH\", NaN, NaN, NaN, NaN, 30.392028, -88.938194, \"Grab-DTSC\", \"21MSWQ_WQX\", \"Grab-Direct to Sample Container\", \"The collection of a sample utilizing no collection gear. The sample is collected directly into the sample container.\", \"Water Bottle\", \"STORET-1046370708\", \"NaN\", \"as C\", \"Organic carbon\", \"Total\", \"2.83\", \"mg/L\", \"NaN\", \"Accepted\", NaN, \"Actual\", NaN, NaN, NaN, NaN, NaN, NaN, NaN, NaN, NaN, \"NaN\", NaN, 0.5, \"ft\", NaN, NaN, NaN, NaN, NaN, NaN, \"5310-B\", \"APHA\", \"5310 B ~ Total Organic Carbon by Combustion-Infrared Method\", NaN, \"https://www.nemi.gov/methods/method_summary/5717/\", \"NaN\", \"NaN\", NaN, \"NaN\", \"NaN\", NaN, \"NaN\", NaN, \"2024-10-29T10:39:24\", \"STORET\"], [\"21MSWQ_WQX\", \"MISSISSIPPI DEPARTMENT OF ENVIRONMENTAL QUALITY\", \"21MSWQ_WQX-200760-625\", \"Sample-Routine\", \"Water\", \"NaN\", \"2024-05-14\", \"09:08:00\", \"CDT\", \"NaN\", \"NaN\", \"NaN\", \"NaN\", 0.5, \"ft\", \"NaN\", NaN, \"NaN\", NaN, \"NaN\", \"BCH24;EPABEACH;MS589107\", \"BEACH MONITORING 2024;BEACH MONITORING 2024;BILOXI WEST CENTRAL BEACH\", \"MISSISSIPPI DEPARTMENT OF ENVIRONMENTAL QUALITY\", \"21MSWQ_WQX-640MSDB12A\", \"BILOXI WEST CENTRAL BEACH\", NaN, NaN, NaN, NaN, 30.392028, -88.938194, \"Grab-DTSC\", \"21MSWQ_WQX\", \"Grab-Direct to Sample Container\", \"The collection of a sample utilizing no collection gear. The sample is collected directly into the sample container.\", \"Water Bottle\", \"STORET-1046372626\", \"NaN\", \"as C\", \"Organic carbon\", \"Total\", \"2.4\", \"mg/L\", \"NaN\", \"Accepted\", NaN, \"Actual\", NaN, NaN, NaN, NaN, NaN, NaN, NaN, NaN, NaN, \"NaN\", NaN, 0.5, \"ft\", NaN, NaN, NaN, NaN, NaN, NaN, \"5310-B\", \"APHA\", \"5310 B ~ Total Organic Carbon by Combustion-Infrared Method\", NaN, \"https://www.nemi.gov/methods/method_summary/5717/\", \"NaN\", \"NaN\", NaN, \"NaN\", \"NaN\", NaN, \"NaN\", NaN, \"2024-10-29T10:42:41\", \"STORET\"], [\"21MSWQ_WQX\", \"MISSISSIPPI DEPARTMENT OF ENVIRONMENTAL QUALITY\", \"21MSWQ_WQX-200565-625\", \"Sample-Routine\", \"Water\", \"NaN\", \"2024-04-17\", \"12:18:00\", \"CDT\", \"NaN\", \"NaN\", \"NaN\", \"NaN\", 0.5, \"ft\", \"NaN\", NaN, \"NaN\", NaN, \"NaN\", \"BCH24;EPABEACH;MS091756\", \"BEACH MONITORING 2024;BEACH MONITORING 2024;PASCAGOULA BEACH WEST\", \"MISSISSIPPI DEPARTMENT OF ENVIRONMENTAL QUALITY\", \"21MSWQ_WQX-640MSDB17\", \"PASCAGOULA BEACH WEST\", NaN, NaN, NaN, NaN, 30.342639, -88.535417, \"Grab-DTSC\", \"21MSWQ_WQX\", \"Grab-Direct to Sample Container\", \"The collection of a sample utilizing no collection gear. The sample is collected directly into the sample container.\", \"Water Bottle\", \"STORET-1046378846\", \"NaN\", \"as C\", \"Organic carbon\", \"Total\", \"3.35\", \"mg/L\", \"NaN\", \"Accepted\", NaN, \"Actual\", NaN, NaN, NaN, NaN, NaN, NaN, NaN, NaN, NaN, \"NaN\", NaN, 0.5, \"ft\", NaN, NaN, NaN, NaN, NaN, NaN, \"5310-B\", \"APHA\", \"5310 B ~ Total Organic Carbon by Combustion-Infrared Method\", NaN, \"https://www.nemi.gov/methods/method_summary/5717/\", \"NaN\", \"NaN\", NaN, \"NaN\", \"NaN\", NaN, \"NaN\", NaN, \"2024-10-29T10:49:18\", \"STORET\"], [\"21MSWQ_WQX\", \"MISSISSIPPI DEPARTMENT OF ENVIRONMENTAL QUALITY\", \"21MSWQ_WQX-200561-625\", \"Sample-Routine\", \"Water\", \"NaN\", \"2024-04-17\", \"10:48:00\", \"CDT\", \"NaN\", \"NaN\", \"NaN\", \"NaN\", 0.5, \"ft\", \"NaN\", NaN, \"NaN\", NaN, \"NaN\", \"BCH24;EPABEACH;MS444095\", \"BEACH MONITORING 2024;BEACH MONITORING 2024;BILOXI EAST CENTRAL BEACH\", \"MISSISSIPPI DEPARTMENT OF ENVIRONMENTAL QUALITY\", \"21MSWQ_WQX-640MSDB20\", \"BILOXI EAST CENTRAL BEACH\", NaN, NaN, NaN, NaN, 30.393347, -88.901558, \"Grab-DTSC\", \"21MSWQ_WQX\", \"Grab-Direct to Sample Container\", \"The collection of a sample utilizing no collection gear. The sample is collected directly into the sample container.\", \"Water Bottle\", \"STORET-1046377917\", \"NaN\", \"as C\", \"Organic carbon\", \"Total\", \"3.05\", \"mg/L\", \"NaN\", \"Accepted\", NaN, \"Actual\", NaN, NaN, NaN, NaN, NaN, NaN, NaN, NaN, NaN, \"NaN\", NaN, 0.5, \"ft\", NaN, NaN, NaN, NaN, NaN, NaN, \"5310-B\", \"APHA\", \"5310 B ~ Total Organic Carbon by Combustion-Infrared Method\", NaN, \"https://www.nemi.gov/methods/method_summary/5717/\", \"NaN\", \"NaN\", NaN, \"NaN\", \"NaN\", NaN, \"NaN\", NaN, \"2024-10-29T10:48:12\", \"STORET\"], [\"21MSWQ_WQX\", \"MISSISSIPPI DEPARTMENT OF ENVIRONMENTAL QUALITY\", \"21MSWQ_WQX-200765-625\", \"Sample-Routine\", \"Water\", \"NaN\", \"2024-05-14\", \"10:34:00\", \"CDT\", \"NaN\", \"NaN\", \"NaN\", \"NaN\", 0.5, \"ft\", \"NaN\", NaN, \"NaN\", NaN, \"NaN\", \"BCH24;EPABEACH;MS091756\", \"BEACH MONITORING 2024;BEACH MONITORING 2024;PASCAGOULA BEACH WEST\", \"MISSISSIPPI DEPARTMENT OF ENVIRONMENTAL QUALITY\", \"21MSWQ_WQX-640MSDB17\", \"PASCAGOULA BEACH WEST\", NaN, NaN, NaN, NaN, 30.342639, -88.535417, \"Grab-DTSC\", \"21MSWQ_WQX\", \"Grab-Direct to Sample Container\", \"The collection of a sample utilizing no collection gear. The sample is collected directly into the sample container.\", \"Water Bottle\", \"STORET-1046378449\", \"NaN\", \"as C\", \"Organic carbon\", \"Total\", \"2.19\", \"mg/L\", \"NaN\", \"Accepted\", NaN, \"Actual\", NaN, NaN, NaN, NaN, NaN, NaN, NaN, NaN, NaN, \"NaN\", NaN, 0.5, \"ft\", NaN, NaN, NaN, NaN, NaN, NaN, \"5310-B\", \"APHA\", \"5310 B ~ Total Organic Carbon by Combustion-Infrared Method\", NaN, \"https://www.nemi.gov/methods/method_summary/5717/\", \"NaN\", \"NaN\", NaN, \"NaN\", \"NaN\", NaN, \"NaN\", NaN, \"2024-10-29T10:48:37\", \"STORET\"], [\"21MSWQ_WQX\", \"MISSISSIPPI DEPARTMENT OF ENVIRONMENTAL QUALITY\", \"21MSWQ_WQX-200541-625\", \"Sample-Routine\", \"Water\", \"NaN\", \"2024-04-15\", \"09:50:00\", \"CDT\", \"NaN\", \"NaN\", \"NaN\", \"NaN\", 0.5, \"ft\", \"NaN\", NaN, \"NaN\", NaN, \"NaN\", \"BCH24;EPABEACH;MS594393\", \"BEACH MONITORING 2024;BEACH MONITORING 2024;WAVELAND BEACH\", \"MISSISSIPPI DEPARTMENT OF ENVIRONMENTAL QUALITY\", \"21MSWQ_WQX-640MSDB02\", \"WAVELAND BEACH\", NaN, NaN, NaN, NaN, 30.276139, -89.373611, \"Grab-DTSC\", \"21MSWQ_WQX\", \"Grab-Direct to Sample Container\", \"The collection of a sample utilizing no collection gear. The sample is collected directly into the sample container.\", \"Water Bottle\", \"STORET-1046380104\", \"NaN\", \"as C\", \"Organic carbon\", \"Total\", \"3.5\", \"mg/L\", \"NaN\", \"Accepted\", NaN, \"Actual\", NaN, NaN, NaN, NaN, NaN, NaN, NaN, NaN, NaN, \"NaN\", NaN, 0.5, \"ft\", NaN, NaN, NaN, NaN, NaN, NaN, \"5310-B\", \"APHA\", \"5310 B ~ Total Organic Carbon by Combustion-Infrared Method\", NaN, \"https://www.nemi.gov/methods/method_summary/5717/\", \"NaN\", \"NaN\", NaN, \"NaN\", \"NaN\", NaN, \"NaN\", NaN, \"2024-10-29T10:51:43\", \"STORET\"], [\"21MSWQ_WQX\", \"MISSISSIPPI DEPARTMENT OF ENVIRONMENTAL QUALITY\", \"21MSWQ_WQX-200546-625\", \"Sample-Routine\", \"Water\", \"NaN\", \"2024-04-15\", \"10:56:00\", \"CDT\", \"NaN\", \"NaN\", \"NaN\", \"NaN\", 0.5, \"ft\", \"NaN\", NaN, \"NaN\", NaN, \"NaN\", \"BCH24;EPABEACH;MS951039\", \"BEACH MONITORING 2024;BEACH MONITORING 2024;LONG BEACH\", \"MISSISSIPPI DEPARTMENT OF ENVIRONMENTAL QUALITY\", \"21MSWQ_WQX-640MSDB07\", \"LONG BEACH\", NaN, NaN, NaN, NaN, 30.339944, -89.159722, \"Grab-DTSC\", \"21MSWQ_WQX\", \"Grab-Direct to Sample Container\", \"The collection of a sample utilizing no collection gear. The sample is collected directly into the sample container.\", \"Water Bottle\", \"STORET-1046373717\", \"NaN\", \"as C\", \"Organic carbon\", \"Total\", \"3.83\", \"mg/L\", \"NaN\", \"Accepted\", NaN, \"Actual\", NaN, NaN, NaN, NaN, NaN, NaN, NaN, NaN, NaN, \"NaN\", NaN, 0.5, \"ft\", NaN, NaN, NaN, NaN, NaN, NaN, \"5310-B\", \"APHA\", \"5310 B ~ Total Organic Carbon by Combustion-Infrared Method\", NaN, \"https://www.nemi.gov/methods/method_summary/5717/\", \"NaN\", \"NaN\", NaN, \"NaN\", \"NaN\", NaN, \"NaN\", NaN, \"2024-10-29T10:44:54\", \"STORET\"], [\"21MSWQ_WQX\", \"MISSISSIPPI DEPARTMENT OF ENVIRONMENTAL QUALITY\", \"21MSWQ_WQX-200746-625\", \"Sample-Routine\", \"Water\", \"NaN\", \"2024-05-13\", \"10:18:00\", \"CDT\", \"NaN\", \"NaN\", \"NaN\", \"NaN\", 0.5, \"ft\", \"NaN\", NaN, \"NaN\", NaN, \"NaN\", \"BCH24;EPABEACH;MS594393\", \"BEACH MONITORING 2024;BEACH MONITORING 2024;WAVELAND BEACH\", \"MISSISSIPPI DEPARTMENT OF ENVIRONMENTAL QUALITY\", \"21MSWQ_WQX-640MSDB02\", \"WAVELAND BEACH\", NaN, NaN, NaN, NaN, 30.276139, -89.373611, \"Grab-DTSC\", \"21MSWQ_WQX\", \"Grab-Direct to Sample Container\", \"The collection of a sample utilizing no collection gear. The sample is collected directly into the sample container.\", \"Water Bottle\", \"STORET-1046372617\", \"NaN\", \"as C\", \"Organic carbon\", \"Total\", \"2.59\", \"mg/L\", \"NaN\", \"Accepted\", NaN, \"Actual\", NaN, NaN, NaN, NaN, NaN, NaN, NaN, NaN, NaN, \"NaN\", NaN, 0.5, \"ft\", NaN, NaN, NaN, NaN, NaN, NaN, \"5310-B\", \"APHA\", \"5310 B ~ Total Organic Carbon by Combustion-Infrared Method\", NaN, \"https://www.nemi.gov/methods/method_summary/5717/\", \"NaN\", \"NaN\", NaN, \"NaN\", \"NaN\", NaN, \"NaN\", NaN, \"2024-10-29T10:42:41\", \"STORET\"], [\"21MSWQ_WQX\", \"MISSISSIPPI DEPARTMENT OF ENVIRONMENTAL QUALITY\", \"21MSWQ_WQX-200753-625\", \"Sample-Routine\", \"Water\", \"NaN\", \"2024-05-13\", \"11:47:00\", \"CDT\", \"NaN\", \"NaN\", \"NaN\", \"NaN\", 0.5, \"ft\", \"NaN\", NaN, \"NaN\", NaN, \"NaN\", \"BCH24;EPABEACH;MS837600\", \"BEACH MONITORING 2024;BEACH MONITORING 2024;GULFPORT HARBOR BEACH\", \"MISSISSIPPI DEPARTMENT OF ENVIRONMENTAL QUALITY\", \"21MSWQ_WQX-640MSDB09\", \"GULFPORT HARBOR BEACH\", NaN, NaN, NaN, NaN, 30.367361, -89.079722, \"Grab-DTSC\", \"21MSWQ_WQX\", \"Grab-Direct to Sample Container\", \"The collection of a sample utilizing no collection gear. The sample is collected directly into the sample container.\", \"Water Bottle\", \"STORET-1046371334\", \"NaN\", \"as C\", \"Organic carbon\", \"Total\", \"3.39\", \"mg/L\", \"NaN\", \"Accepted\", NaN, \"Actual\", NaN, NaN, NaN, NaN, NaN, NaN, NaN, NaN, NaN, \"NaN\", NaN, 0.5, \"ft\", NaN, NaN, NaN, NaN, NaN, NaN, \"5310-B\", \"APHA\", \"5310 B ~ Total Organic Carbon by Combustion-Infrared Method\", NaN, \"https://www.nemi.gov/methods/method_summary/5717/\", \"NaN\", \"NaN\", NaN, \"NaN\", \"NaN\", NaN, \"NaN\", NaN, \"2024-10-29T10:40:26\", \"STORET\"], [\"TCEQMAIN\", \"Texas Commission on Environmental Quality\", \"TCEQMAIN-15032325\", \"Field Msr/Obs\", \"Water\", \"NaN\", \"2024-05-16\", \"NaN\", \"NaN\", \"NaN\", \"NaN\", \"NaN\", \"NaN\", NaN, \"NaN\", \"NaN\", NaN, \"NaN\", NaN, \"NaN\", \"0\", \"TCEQ Data\", \"NaN\", \"TCEQMAIN-13461\", \"GULF OF MEXICO SABINE PASS\", NaN, NaN, NaN, NaN, 29.6636, -93.8292, \"NaN\", \"NaN\", \"NaN\", \"NaN\", \"NaN\", \"STORET-1038282879\", \"NaN\", \"NaN\", \"Precipitation\", \"NaN\", \"3\", \"days\", \"NaN\", \"Final\", NaN, \"Actual\", NaN, NaN, NaN, NaN, NaN, NaN, NaN, NaN, NaN, \"NaN\", NaN, NaN, \"NaN\", NaN, NaN, NaN, NaN, NaN, NaN, \"N/A Calculation\", \"TCEQMAIN\", \"N/A Calculation\", NaN, \"NaN\", \"NaN\", \"NaN\", NaN, \"NaN\", \"NaN\", NaN, \"NaN\", NaN, \"2024-08-06T13:24:28\", \"STORET\"]];\n",
       "\n",
       "        // Define the dt_args\n",
       "        let dt_args = {\"layout\": {\"topStart\": \"pageLength\", \"topEnd\": \"search\", \"bottomStart\": \"info\", \"bottomEnd\": \"paging\"}, \"order\": [], \"fnInfoCallback\": function (oSettings, iStart, iEnd, iMax, iTotal, sPre) { return sPre + ' (<a href=\"https://mwouts.github.io/itables/downsampling.html\">downsampled</a> from 5,901x81 to 101x81 as maxBytes=64KB)'; }};\n",
       "        dt_args[\"data\"] = data;\n",
       "\n",
       "        \n",
       "        new DataTable(table, dt_args);\n",
       "    });\n",
       "</script>\n"
      ],
      "text/plain": [
       "<IPython.core.display.HTML object>"
      ]
     },
     "metadata": {},
     "output_type": "display_data"
    }
   ],
   "source": [
    "DFproject = pd.read_csv('resultphyschem.csv')\n",
    "show(DFproject)"
   ]
  },
  {
   "cell_type": "code",
   "execution_count": 3,
   "id": "e837e2dd-9a9e-47bf-9492-069ad71cc932",
   "metadata": {},
   "outputs": [
    {
     "data": {
      "text/html": [
       "<table id=\"itables_4dd7a631_65f5_43c9_9c61_bb90c6f0dda8\" class=\"display nowrap\" data-quarto-disable-processing=\"true\" style=\"table-layout:auto;width:auto;margin:auto;caption-side:bottom\">\n",
       "<thead>\n",
       "    <tr style=\"text-align: right;\">\n",
       "      <th></th>\n",
       "      <th>count</th>\n",
       "    </tr>\n",
       "    <tr>\n",
       "      <th>CharacteristicName</th>\n",
       "      <th></th>\n",
       "    </tr>\n",
       "  </thead><tbody><tr>\n",
       "<td style=\"vertical-align:middle; text-align:left\">\n",
       "<div style=\"float:left; margin-right: 10px;\">\n",
       "<a href=https://mwouts.github.io/itables/><svg class=\"main-svg\" xmlns=\"http://www.w3.org/2000/svg\" xmlns:xlink=\"http://www.w3.org/1999/xlink\"\n",
       "width=\"64\" viewBox=\"0 0 500 400\" style=\"font-family: 'Droid Sans', sans-serif;\">\n",
       "    <g style=\"fill:#d9d7fc\">\n",
       "        <path d=\"M100,400H500V357H100Z\" />\n",
       "        <path d=\"M100,300H400V257H100Z\" />\n",
       "        <path d=\"M0,200H400V157H0Z\" />\n",
       "        <path d=\"M100,100H500V57H100Z\" />\n",
       "        <path d=\"M100,350H500V307H100Z\" />\n",
       "        <path d=\"M100,250H400V207H100Z\" />\n",
       "        <path d=\"M0,150H400V107H0Z\" />\n",
       "        <path d=\"M100,50H500V7H100Z\" />\n",
       "    </g>\n",
       "    <g style=\"fill:#1a1366;stroke:#1a1366;\">\n",
       "   <rect x=\"100\" y=\"7\" width=\"400\" height=\"43\">\n",
       "    <animate\n",
       "      attributeName=\"width\"\n",
       "      values=\"0;400;0\"\n",
       "      dur=\"5s\"\n",
       "      repeatCount=\"indefinite\" />\n",
       "      <animate\n",
       "      attributeName=\"x\"\n",
       "      values=\"100;100;500\"\n",
       "      dur=\"5s\"\n",
       "      repeatCount=\"indefinite\" />\n",
       "  </rect>\n",
       "        <rect x=\"0\" y=\"107\" width=\"400\" height=\"43\">\n",
       "    <animate\n",
       "      attributeName=\"width\"\n",
       "      values=\"0;400;0\"\n",
       "      dur=\"3.5s\"\n",
       "      repeatCount=\"indefinite\" />\n",
       "    <animate\n",
       "      attributeName=\"x\"\n",
       "      values=\"0;0;400\"\n",
       "      dur=\"3.5s\"\n",
       "      repeatCount=\"indefinite\" />\n",
       "  </rect>\n",
       "        <rect x=\"100\" y=\"207\" width=\"300\" height=\"43\">\n",
       "    <animate\n",
       "      attributeName=\"width\"\n",
       "      values=\"0;300;0\"\n",
       "      dur=\"3s\"\n",
       "      repeatCount=\"indefinite\" />\n",
       "    <animate\n",
       "      attributeName=\"x\"\n",
       "      values=\"100;100;400\"\n",
       "      dur=\"3s\"\n",
       "      repeatCount=\"indefinite\" />\n",
       "  </rect>\n",
       "        <rect x=\"100\" y=\"307\" width=\"400\" height=\"43\">\n",
       "    <animate\n",
       "      attributeName=\"width\"\n",
       "      values=\"0;400;0\"\n",
       "      dur=\"4s\"\n",
       "      repeatCount=\"indefinite\" />\n",
       "      <animate\n",
       "      attributeName=\"x\"\n",
       "      values=\"100;100;500\"\n",
       "      dur=\"4s\"\n",
       "      repeatCount=\"indefinite\" />\n",
       "  </rect>\n",
       "        <g style=\"fill:transparent;stroke-width:8; stroke-linejoin:round\" rx=\"5\">\n",
       "            <g transform=\"translate(45 50) rotate(-45)\">\n",
       "                <circle r=\"33\" cx=\"0\" cy=\"0\" />\n",
       "                <rect x=\"-8\" y=\"32\" width=\"16\" height=\"30\" />\n",
       "            </g>\n",
       "\n",
       "            <g transform=\"translate(450 152)\">\n",
       "                <polyline points=\"-15,-20 -35,-20 -35,40 25,40 25,20\" />\n",
       "                <rect x=\"-15\" y=\"-40\" width=\"60\" height=\"60\" />\n",
       "            </g>\n",
       "\n",
       "            <g transform=\"translate(50 352)\">\n",
       "                <polygon points=\"-35,-5 0,-40 35,-5\" />\n",
       "                <polygon points=\"-35,10 0,45 35,10\" />\n",
       "            </g>\n",
       "\n",
       "            <g transform=\"translate(75 250)\">\n",
       "                <polyline points=\"-30,30 -60,0 -30,-30\" />\n",
       "                <polyline points=\"0,30 -30,0 0,-30\" />\n",
       "            </g>\n",
       "\n",
       "            <g transform=\"translate(425 250) rotate(180)\">\n",
       "                <polyline points=\"-30,30 -60,0 -30,-30\" />\n",
       "                <polyline points=\"0,30 -30,0 0,-30\" />\n",
       "            </g>\n",
       "        </g>\n",
       "    </g>\n",
       "</svg>\n",
       "</a>\n",
       "</div>\n",
       "<div>\n",
       "Loading ITables v2.1.4 from the internet...\n",
       "(need <a href=https://mwouts.github.io/itables/troubleshooting.html>help</a>?)</td>\n",
       "</div>\n",
       "</tr></tbody>\n",
       "\n",
       "</table>\n",
       "<link href=\"https://www.unpkg.com/dt_for_itables@2.0.11/dt_bundle.css\" rel=\"stylesheet\">\n",
       "<script type=\"module\">\n",
       "    import {DataTable, jQuery as $} from 'https://www.unpkg.com/dt_for_itables@2.0.11/dt_bundle.js';\n",
       "\n",
       "    document.querySelectorAll(\"#itables_4dd7a631_65f5_43c9_9c61_bb90c6f0dda8:not(.dataTable)\").forEach(table => {\n",
       "        // Define the table data\n",
       "        const data = [[\"Organic carbon\", 4387], [\"2,3,3',4,5'-Pentachlorobiphenyl\", 402], [\"Phosphated pesticides\", 130], [\"Oil and Grease surface slick/sheen (Y/N) (choice list)\", 76], [\"Precipitation\", 42], [\"Tetrachloroethylene\", 34], [\"Trichloroethylene\", 34], [\"Decachlorobiphenyl\", 34], [\"Chlordane, technical\", 25], [\"Dieldrin\", 25], [\"Oil and Grease\", 24], [\"Toluene-d8\", 19], [\"1,2-Dichloroethane-d4\", 19], [\"Diesel range organics\", 14], [\"Methyl bromide\", 7], [\"CFC-11\", 7], [\"1,1,2,2-Tetrachloroethane\", 7], [\"1,2-Dichloropropane\", 7], [\"m-Dichlorobenzene\", 7], [\"cis-1,3-Dichloropropene\", 7], [\"Carbon tetrachloride\", 7], [\"trans-1,2-Dichloroethylene\", 7], [\"Methyl tert-butyl ether\", 7], [\"1,1-Dichloroethylene\", 7], [\"1,2-Dichloroethane\", 7], [\"Dichlorobromomethane\", 7], [\"Chloroform\", 7], [\"1,1,1-Trichloroethane\", 7], [\"Ethylbenzene\", 7], [\"Methylene chloride\", 7], [\"Tribromomethane\", 7], [\"Benzene\", 7], [\"Vinyl chloride\", 7], [\"Chloromethane\", 7], [\"Chlorobenzene\", 7], [\"Toluene\", 7], [\"Chloroethane\", 7], [\"1,1,2-Trichloroethane\", 7], [\"p-Dichlorobenzene\", 7], [\"1,1-Dichloroethane\", 7], [\"trans-1,3-Dichloropropene\", 7], [\"Fenbuconazole\", 5], [\"Ethion\", 5], [\"Terbuthylazine\", 5], [\"Sulfentrazone\", 5], [\"Phorate\", 5], [\"Oxyfluorfen\", 5], [\"BDE-099\", 5], [\"Fipronil Sulfone\", 5], [\"Cyprodinil\", 5], [\"Iprodione\", 5], [\"Fluazifop-P-butyl\", 5], [\"Myclobutanil\", 5], [\"Coumaphos\", 5], [\"Disulfoton\", 5], [\"Pyriproxyfen\", 5], [\"Ethoprop\", 5], [\"Propargite\", 5], [\"Difenoconazole\", 5], [\"Demeton\", 5], [\"Naled\", 5], [\"2,2',4,4'-tetrabrominated diphenyl ether\", 5], [\"Methyl parathion\", 5], [\"Flumioxazin\", 5], [\"Parathion\", 5], [\"Fipronil\", 5], [\"Oxadiazon\", 5], [\"Pyridaben\", 5], [\"Flutolanil\", 5], [\"Caffeine\", 5], [\"Pendimethalin\", 5], [\"Carfentrazone-ethyl\", 5], [\"Azinphos-methyl\", 5], [\"Metribuzin\", 5], [\"Chlorpyrifos-methyl\", 5], [\"Diazinon\", 5], [\"Terbufos\", 5], [\"Carbophenothion\", 5], [\"Ametryn\", 5], [\"2-Hydroxy-4-methoxybenzophenone\", 5], [\"Thiobencarb\", 5], [\"Fludioxonil\", 5], [\"Dimethomorph\", 5], [\"Pyraflufen-ethyl\", 5], [\"Phenytoin\", 5], [\"Butylate\", 5], [\"S-Ethyl dipropylthiocarbamate\", 5], [\"Prometryn\", 5], [\"Chlorfenapyr\", 5], [\"Fonofos\", 5], [\"Imazalil\", 5], [\"Loratadine\", 5], [\"Fenamiphos\", 5], [\"Fipronil Sulfide\", 5], [\"Propanil\", 5], [\"Triadimefon\", 5], [\"Norflurazon\", 5], [\"Fluxapyroxad\", 5], [\"Bromacil\", 5], [\"Prometon\", 5], [\"Etridiazole\", 5], [\"Cyanazine\", 5], [\"Acetochlor\", 5], [\"Napropamide\", 5], [\"2-Chloro-4-isopropylamino-6-amino-s-triazine\", 5], [\"Octinoxate\", 5], [\"Malathion\", 5], [\"Tebuconazole\", 5], [\"Atrazine\", 5], [\"Tetrachlorvinphos\", 5], [\"Simazine\", 5], [\"Chlorpyrifos\", 5], [\"Molinate\", 5], [\"Hexazinone\", 5], [\"Azoxystrobin\", 5], [\"Propiconazole\", 5], [\"Dimethenamid\", 5], [\"Alachlor\", 5], [\"Pronamide\", 5], [\"Fipronil Desulfinyl\", 5], [\"Metalaxyl\", 5], [\"Metolachlor\", 5], [\"Mevinphos\", 5], [\"1,2,3-Trichlorobenzene\", 4], [\"Carbamazepine\", 2], [\"Acetaminophen\", 2], [\"Naproxen\", 2], [\"Primidone\", 2], [\"Benzeneacetic acid, .alpha.-methyl-4-(2-methylpropyl)-\", 2], [\"Acesulfame\", 2], [\"Aminomethylphosphonic acid\", 1], [\"Acetamiprid\", 1], [\"Tolfenpyrad\", 1], [\"2,4-D\", 1], [\"Imazapyr\", 1], [\"Fluridone\", 1], [\"Endothall\", 1], [\"Mandestrobin\", 1], [\"Thiamethoxam\", 1], [\"Triclopyr\", 1], [\"Benzovindiflupyr\", 1], [\"Clothianidin\", 1], [\"Linuron\", 1], [\"Diuron\", 1], [\"Pyraclostrobin\", 1], [\"Glyphosate\", 1], [\"Fenuron\", 1], [\"Bentazon\", 1], [\"Mecoprop\", 1], [\"Imidacloprid\", 1], [\"Dinotefuran\", 1]];\n",
       "\n",
       "        // Define the dt_args\n",
       "        let dt_args = {\"layout\": {\"topStart\": \"pageLength\", \"topEnd\": \"search\", \"bottomStart\": \"info\", \"bottomEnd\": \"paging\"}, \"order\": []};\n",
       "        dt_args[\"data\"] = data;\n",
       "\n",
       "        \n",
       "        new DataTable(table, dt_args);\n",
       "    });\n",
       "</script>\n"
      ],
      "text/plain": [
       "<IPython.core.display.HTML object>"
      ]
     },
     "metadata": {},
     "output_type": "display_data"
    }
   ],
   "source": [
    "show(DFproject['CharacteristicName'].value_counts())"
   ]
  },
  {
   "cell_type": "markdown",
   "id": "175c0e23-ecb0-4bf2-b6b7-8ec5ba8930b3",
   "metadata": {},
   "source": [
    "- Each sample is tested for only one specific chemical\n",
    "- Most samples are taken from the Gulf of Mexico\n",
    "- Analyzing the three most tested chemicals in the dataset. Based on these concentrations, trying to dive deeper and think about how this affects marine life, and how this may impact humans like through bioaccumulation and recreational activities.\n",
    "- Should we do three separate analysis for each chemical, or go in depth with just one?\n",
    "\n",
    "- Organic carbon: Most samples tested for organic carbon. Compare ppm concentration across the Gulf of Mexico. High carbon levels can lead to ocean acidification. Based on this, see if it correlates with fish/animal populations, especially shellfish. Try to find pH data to see if the data agrees, if carbon ppm is low but pH is acidic, then maybe something else is causing the acidification.\n",
    "- 2,3,3',4,5'-Pentachlorobiphenyl: Samples of pentachlorobiphenyl were taken around San Diego/Mexico. It is a manmade chemical used as an oil additive and in building materials. So we could find something like fishing or recreational data to show the frequency of human activity in/near these sample sites. Or the abundance of wildlife in/near these sample sites. \n",
    "- Phosphated pesticides: These samples were collected along the coast in Massachusetts. Phosphorus can lead to algae blooms, so we could find algae data and compare it to the sites in Massachusetts. We could compare marine life population with other nearby sites, or see if this has an impact on fishing activity"
   ]
  },
  {
   "cell_type": "code",
   "execution_count": 5,
   "id": "482c7dc8-eb4e-4539-8d74-a3e3ad9dd1ac",
   "metadata": {},
   "outputs": [
    {
     "data": {
      "text/html": [
       "<table id=\"itables_fa1df3c1_ee69_469e_8186_316fcc1a4cfc\" class=\"display nowrap\" data-quarto-disable-processing=\"true\" style=\"table-layout:auto;width:auto;margin:auto;caption-side:bottom\">\n",
       "<thead>\n",
       "    <tr style=\"text-align: right;\">\n",
       "      <th></th>\n",
       "      <th>OrganizationIdentifier</th>\n",
       "      <th>OrganizationFormalName</th>\n",
       "      <th>ActivityIdentifier</th>\n",
       "      <th>ActivityTypeCode</th>\n",
       "      <th>ActivityMediaName</th>\n",
       "      <th>ActivityMediaSubdivisionName</th>\n",
       "      <th>ActivityStartDate</th>\n",
       "      <th>ActivityStartTime/Time</th>\n",
       "      <th>ActivityStartTime/TimeZoneCode</th>\n",
       "      <th>ActivityEndDate</th>\n",
       "      <th>ActivityEndTime/Time</th>\n",
       "      <th>ActivityEndTime/TimeZoneCode</th>\n",
       "      <th>ActivityRelativeDepthName</th>\n",
       "      <th>ActivityDepthHeightMeasure/MeasureValue</th>\n",
       "      <th>ActivityDepthHeightMeasure/MeasureUnitCode</th>\n",
       "      <th>ActivityDepthAltitudeReferencePointText</th>\n",
       "      <th>ActivityTopDepthHeightMeasure/MeasureValue</th>\n",
       "      <th>ActivityTopDepthHeightMeasure/MeasureUnitCode</th>\n",
       "      <th>ActivityBottomDepthHeightMeasure/MeasureValue</th>\n",
       "      <th>ActivityBottomDepthHeightMeasure/MeasureUnitCode</th>\n",
       "      <th>ProjectIdentifier</th>\n",
       "      <th>ProjectName</th>\n",
       "      <th>ActivityConductingOrganizationText</th>\n",
       "      <th>MonitoringLocationIdentifier</th>\n",
       "      <th>MonitoringLocationName</th>\n",
       "      <th>ActivityCommentText</th>\n",
       "      <th>SampleAquifer</th>\n",
       "      <th>HydrologicCondition</th>\n",
       "      <th>HydrologicEvent</th>\n",
       "      <th>ActivityLocation/LatitudeMeasure</th>\n",
       "      <th>ActivityLocation/LongitudeMeasure</th>\n",
       "      <th>SampleCollectionMethod/MethodIdentifier</th>\n",
       "      <th>SampleCollectionMethod/MethodIdentifierContext</th>\n",
       "      <th>SampleCollectionMethod/MethodName</th>\n",
       "      <th>SampleCollectionMethod/MethodDescriptionText</th>\n",
       "      <th>SampleCollectionEquipmentName</th>\n",
       "      <th>ResultIdentifier</th>\n",
       "      <th>ResultDetectionConditionText</th>\n",
       "      <th>MethodSpeciationName</th>\n",
       "      <th>CharacteristicName</th>\n",
       "      <th>ResultSampleFractionText</th>\n",
       "      <th>ResultMeasureValue</th>\n",
       "      <th>ResultMeasure/MeasureUnitCode</th>\n",
       "      <th>MeasureQualifierCode</th>\n",
       "      <th>ResultStatusIdentifier</th>\n",
       "      <th>StatisticalBaseCode</th>\n",
       "      <th>ResultValueTypeName</th>\n",
       "      <th>ResultWeightBasisText</th>\n",
       "      <th>ResultTimeBasisText</th>\n",
       "      <th>ResultTemperatureBasisText</th>\n",
       "      <th>ResultParticleSizeBasisText</th>\n",
       "      <th>DataQuality/PrecisionValue</th>\n",
       "      <th>DataQuality/BiasValue</th>\n",
       "      <th>DataQuality/ConfidenceIntervalValue</th>\n",
       "      <th>DataQuality/UpperConfidenceLimitValue</th>\n",
       "      <th>DataQuality/LowerConfidenceLimitValue</th>\n",
       "      <th>ResultCommentText</th>\n",
       "      <th>USGSPCode</th>\n",
       "      <th>ResultDepthHeightMeasure/MeasureValue</th>\n",
       "      <th>ResultDepthHeightMeasure/MeasureUnitCode</th>\n",
       "      <th>ResultDepthAltitudeReferencePointText</th>\n",
       "      <th>SubjectTaxonomicName</th>\n",
       "      <th>SampleTissueAnatomyName</th>\n",
       "      <th>BinaryObjectFileName</th>\n",
       "      <th>BinaryObjectFileTypeCode</th>\n",
       "      <th>ResultFileUrl</th>\n",
       "      <th>ResultAnalyticalMethod/MethodIdentifier</th>\n",
       "      <th>ResultAnalyticalMethod/MethodIdentifierContext</th>\n",
       "      <th>ResultAnalyticalMethod/MethodName</th>\n",
       "      <th>ResultAnalyticalMethod/MethodUrl</th>\n",
       "      <th>ResultAnalyticalMethod/MethodDescriptionText</th>\n",
       "      <th>LaboratoryName</th>\n",
       "      <th>AnalysisStartDate</th>\n",
       "      <th>ResultLaboratoryCommentText</th>\n",
       "      <th>ResultDetectionQuantitationLimitUrl</th>\n",
       "      <th>DetectionQuantitationLimitTypeName</th>\n",
       "      <th>DetectionQuantitationLimitMeasure/MeasureValue</th>\n",
       "      <th>DetectionQuantitationLimitMeasure/MeasureUnitCode</th>\n",
       "      <th>LabSamplePreparationUrl</th>\n",
       "      <th>LastUpdated</th>\n",
       "      <th>ProviderName</th>\n",
       "    </tr>\n",
       "  </thead><tbody><tr>\n",
       "<td style=\"vertical-align:middle; text-align:left\">\n",
       "<div style=\"float:left; margin-right: 10px;\">\n",
       "<a href=https://mwouts.github.io/itables/><svg class=\"main-svg\" xmlns=\"http://www.w3.org/2000/svg\" xmlns:xlink=\"http://www.w3.org/1999/xlink\"\n",
       "width=\"64\" viewBox=\"0 0 500 400\" style=\"font-family: 'Droid Sans', sans-serif;\">\n",
       "    <g style=\"fill:#d9d7fc\">\n",
       "        <path d=\"M100,400H500V357H100Z\" />\n",
       "        <path d=\"M100,300H400V257H100Z\" />\n",
       "        <path d=\"M0,200H400V157H0Z\" />\n",
       "        <path d=\"M100,100H500V57H100Z\" />\n",
       "        <path d=\"M100,350H500V307H100Z\" />\n",
       "        <path d=\"M100,250H400V207H100Z\" />\n",
       "        <path d=\"M0,150H400V107H0Z\" />\n",
       "        <path d=\"M100,50H500V7H100Z\" />\n",
       "    </g>\n",
       "    <g style=\"fill:#1a1366;stroke:#1a1366;\">\n",
       "   <rect x=\"100\" y=\"7\" width=\"400\" height=\"43\">\n",
       "    <animate\n",
       "      attributeName=\"width\"\n",
       "      values=\"0;400;0\"\n",
       "      dur=\"5s\"\n",
       "      repeatCount=\"indefinite\" />\n",
       "      <animate\n",
       "      attributeName=\"x\"\n",
       "      values=\"100;100;500\"\n",
       "      dur=\"5s\"\n",
       "      repeatCount=\"indefinite\" />\n",
       "  </rect>\n",
       "        <rect x=\"0\" y=\"107\" width=\"400\" height=\"43\">\n",
       "    <animate\n",
       "      attributeName=\"width\"\n",
       "      values=\"0;400;0\"\n",
       "      dur=\"3.5s\"\n",
       "      repeatCount=\"indefinite\" />\n",
       "    <animate\n",
       "      attributeName=\"x\"\n",
       "      values=\"0;0;400\"\n",
       "      dur=\"3.5s\"\n",
       "      repeatCount=\"indefinite\" />\n",
       "  </rect>\n",
       "        <rect x=\"100\" y=\"207\" width=\"300\" height=\"43\">\n",
       "    <animate\n",
       "      attributeName=\"width\"\n",
       "      values=\"0;300;0\"\n",
       "      dur=\"3s\"\n",
       "      repeatCount=\"indefinite\" />\n",
       "    <animate\n",
       "      attributeName=\"x\"\n",
       "      values=\"100;100;400\"\n",
       "      dur=\"3s\"\n",
       "      repeatCount=\"indefinite\" />\n",
       "  </rect>\n",
       "        <rect x=\"100\" y=\"307\" width=\"400\" height=\"43\">\n",
       "    <animate\n",
       "      attributeName=\"width\"\n",
       "      values=\"0;400;0\"\n",
       "      dur=\"4s\"\n",
       "      repeatCount=\"indefinite\" />\n",
       "      <animate\n",
       "      attributeName=\"x\"\n",
       "      values=\"100;100;500\"\n",
       "      dur=\"4s\"\n",
       "      repeatCount=\"indefinite\" />\n",
       "  </rect>\n",
       "        <g style=\"fill:transparent;stroke-width:8; stroke-linejoin:round\" rx=\"5\">\n",
       "            <g transform=\"translate(45 50) rotate(-45)\">\n",
       "                <circle r=\"33\" cx=\"0\" cy=\"0\" />\n",
       "                <rect x=\"-8\" y=\"32\" width=\"16\" height=\"30\" />\n",
       "            </g>\n",
       "\n",
       "            <g transform=\"translate(450 152)\">\n",
       "                <polyline points=\"-15,-20 -35,-20 -35,40 25,40 25,20\" />\n",
       "                <rect x=\"-15\" y=\"-40\" width=\"60\" height=\"60\" />\n",
       "            </g>\n",
       "\n",
       "            <g transform=\"translate(50 352)\">\n",
       "                <polygon points=\"-35,-5 0,-40 35,-5\" />\n",
       "                <polygon points=\"-35,10 0,45 35,10\" />\n",
       "            </g>\n",
       "\n",
       "            <g transform=\"translate(75 250)\">\n",
       "                <polyline points=\"-30,30 -60,0 -30,-30\" />\n",
       "                <polyline points=\"0,30 -30,0 0,-30\" />\n",
       "            </g>\n",
       "\n",
       "            <g transform=\"translate(425 250) rotate(180)\">\n",
       "                <polyline points=\"-30,30 -60,0 -30,-30\" />\n",
       "                <polyline points=\"0,30 -30,0 0,-30\" />\n",
       "            </g>\n",
       "        </g>\n",
       "    </g>\n",
       "</svg>\n",
       "</a>\n",
       "</div>\n",
       "<div>\n",
       "Loading ITables v2.1.4 from the internet...\n",
       "(need <a href=https://mwouts.github.io/itables/troubleshooting.html>help</a>?)</td>\n",
       "</div>\n",
       "</tr></tbody>\n",
       "\n",
       "</table>\n",
       "<link href=\"https://www.unpkg.com/dt_for_itables@2.0.11/dt_bundle.css\" rel=\"stylesheet\">\n",
       "<script type=\"module\">\n",
       "    import {DataTable, jQuery as $} from 'https://www.unpkg.com/dt_for_itables@2.0.11/dt_bundle.js';\n",
       "\n",
       "    document.querySelectorAll(\"#itables_fa1df3c1_ee69_469e_8186_316fcc1a4cfc:not(.dataTable)\").forEach(table => {\n",
       "        // Define the table data\n",
       "        const data = [[6, \"WTGHA\", \"Wompanoag Tribe of Gay Head Aquinnah (Tribal)\", \"WTGHA-P1:20200219:SR:B\", \"Sample-Routine\", \"Water\", \"NaN\", \"2020-02-19\", \"NaN\", \"NaN\", \"NaN\", \"NaN\", \"NaN\", \"NaN\", NaN, \"NaN\", \"NaN\", NaN, \"NaN\", NaN, \"NaN\", \"WTGHA\", \"The Wampanoag Tribe of Gay Head Aquinnah\", \"NaN\", \"WTGHA-P1\", \"P1 | Menemsha Perimenter | Lobsterville Beach\", NaN, NaN, NaN, NaN, 41.349306, -70.788056, \"NaN\", \"NaN\", \"NaN\", \"NaN\", \"Bucket\", \"STORET-1041358794\", \"NaN\", \"as P\", \"Phosphated pesticides\", \"Total\", \"0.13\", \"mg/L\", \"NaN\", \"Final\", NaN, \"Actual\", NaN, NaN, NaN, NaN, NaN, NaN, NaN, NaN, NaN, \"NaN\", NaN, NaN, \"NaN\", NaN, NaN, NaN, NaN, NaN, NaN, \"8048\", \"HACH\", \"Reactive Phosphorus in Water\", NaN, \"https://www.nemi.gov/methods/method_summary/4828/\", \"NaN\", \"NaN\", NaN, \"NaN\", \"NaN\", NaN, \"NaN\", NaN, \"2024-09-19T09:12:48\", \"STORET\"], [18, \"WTGHA\", \"Wompanoag Tribe of Gay Head Aquinnah (Tribal)\", \"WTGHA-P1:20200106:SR:B\", \"Sample-Routine\", \"Water\", \"NaN\", \"2020-01-06\", \"NaN\", \"NaN\", \"NaN\", \"NaN\", \"NaN\", \"NaN\", NaN, \"NaN\", \"NaN\", NaN, \"NaN\", NaN, \"NaN\", \"WTGHA\", \"The Wampanoag Tribe of Gay Head Aquinnah\", \"NaN\", \"WTGHA-P1\", \"P1 | Menemsha Perimenter | Lobsterville Beach\", NaN, NaN, NaN, NaN, 41.349306, -70.788056, \"NaN\", \"NaN\", \"NaN\", \"NaN\", \"Bucket\", \"STORET-1041358423\", \"NaN\", \"as P\", \"Phosphated pesticides\", \"Total\", \"0.09\", \"mg/L\", \"NaN\", \"Final\", NaN, \"Actual\", NaN, NaN, NaN, NaN, NaN, NaN, NaN, NaN, NaN, \"NaN\", NaN, NaN, \"NaN\", NaN, NaN, NaN, NaN, NaN, NaN, \"8048\", \"HACH\", \"Reactive Phosphorus in Water\", NaN, \"https://www.nemi.gov/methods/method_summary/4828/\", \"NaN\", \"NaN\", NaN, \"NaN\", \"NaN\", NaN, \"NaN\", NaN, \"2024-09-19T09:12:46\", \"STORET\"], [20, \"WTGHA\", \"Wompanoag Tribe of Gay Head Aquinnah (Tribal)\", \"WTGHA-P1:20200114:SR:B\", \"Sample-Routine\", \"Water\", \"NaN\", \"2020-01-14\", \"NaN\", \"NaN\", \"NaN\", \"NaN\", \"NaN\", \"NaN\", NaN, \"NaN\", \"NaN\", NaN, \"NaN\", NaN, \"NaN\", \"WTGHA\", \"The Wampanoag Tribe of Gay Head Aquinnah\", \"NaN\", \"WTGHA-P1\", \"P1 | Menemsha Perimenter | Lobsterville Beach\", NaN, NaN, NaN, NaN, 41.349306, -70.788056, \"NaN\", \"NaN\", \"NaN\", \"NaN\", \"Bucket\", \"STORET-1041358486\", \"NaN\", \"as P\", \"Phosphated pesticides\", \"Total\", \"0.13\", \"mg/L\", \"NaN\", \"Final\", NaN, \"Actual\", NaN, NaN, NaN, NaN, NaN, NaN, NaN, NaN, NaN, \"NaN\", NaN, NaN, \"NaN\", NaN, NaN, NaN, NaN, NaN, NaN, \"8048\", \"HACH\", \"Reactive Phosphorus in Water\", NaN, \"https://www.nemi.gov/methods/method_summary/4828/\", \"NaN\", \"NaN\", NaN, \"NaN\", \"NaN\", NaN, \"NaN\", NaN, \"2024-09-19T09:12:47\", \"STORET\"], [87, \"WTGHA\", \"Wompanoag Tribe of Gay Head Aquinnah (Tribal)\", \"WTGHA-P1:20200603:SR:B\", \"Sample-Routine\", \"Water\", \"NaN\", \"2020-06-03\", \"NaN\", \"NaN\", \"NaN\", \"NaN\", \"NaN\", \"NaN\", NaN, \"NaN\", \"NaN\", NaN, \"NaN\", NaN, \"NaN\", \"WTGHA\", \"The Wampanoag Tribe of Gay Head Aquinnah\", \"NaN\", \"WTGHA-P1\", \"P1 | Menemsha Perimenter | Lobsterville Beach\", NaN, NaN, NaN, NaN, 41.349306, -70.788056, \"NaN\", \"NaN\", \"NaN\", \"NaN\", \"Bucket\", \"STORET-1041359460\", \"NaN\", \"as P\", \"Phosphated pesticides\", \"Total\", \"0.09\", \"mg/L\", \"NaN\", \"Final\", NaN, \"Actual\", NaN, NaN, NaN, NaN, NaN, NaN, NaN, NaN, NaN, \"NaN\", NaN, NaN, \"NaN\", NaN, NaN, NaN, NaN, NaN, NaN, \"8048\", \"HACH\", \"Reactive Phosphorus in Water\", NaN, \"https://www.nemi.gov/methods/method_summary/4828/\", \"NaN\", \"NaN\", NaN, \"NaN\", \"NaN\", NaN, \"NaN\", NaN, \"2024-09-19T09:12:51\", \"STORET\"], [88, \"WTGHA\", \"Wompanoag Tribe of Gay Head Aquinnah (Tribal)\", \"WTGHA-P1:20201103:SR:B\", \"Sample-Routine\", \"Water\", \"NaN\", \"2020-11-03\", \"NaN\", \"NaN\", \"NaN\", \"NaN\", \"NaN\", \"NaN\", NaN, \"NaN\", \"NaN\", NaN, \"NaN\", NaN, \"NaN\", \"WTGHA\", \"The Wampanoag Tribe of Gay Head Aquinnah\", \"NaN\", \"WTGHA-P1\", \"P1 | Menemsha Perimenter | Lobsterville Beach\", NaN, NaN, NaN, NaN, 41.349306, -70.788056, \"NaN\", \"NaN\", \"NaN\", \"NaN\", \"Bucket\", \"STORET-1041360546\", \"NaN\", \"as P\", \"Phosphated pesticides\", \"Total\", \"0.17\", \"mg/L\", \"NaN\", \"Final\", NaN, \"Actual\", NaN, NaN, NaN, NaN, NaN, NaN, NaN, NaN, NaN, \"NaN\", NaN, NaN, \"NaN\", NaN, NaN, NaN, NaN, NaN, NaN, \"8048\", \"HACH\", \"Reactive Phosphorus in Water\", NaN, \"https://www.nemi.gov/methods/method_summary/4828/\", \"NaN\", \"NaN\", NaN, \"NaN\", \"NaN\", NaN, \"NaN\", NaN, \"2024-09-19T09:12:56\", \"STORET\"], [117, \"WTGHA\", \"Wompanoag Tribe of Gay Head Aquinnah (Tribal)\", \"WTGHA-P2:20201007:SR:B\", \"Sample-Routine\", \"Water\", \"NaN\", \"2020-10-07\", \"NaN\", \"NaN\", \"NaN\", \"NaN\", \"NaN\", \"NaN\", NaN, \"NaN\", \"NaN\", NaN, \"NaN\", NaN, \"NaN\", \"WTGHA\", \"The Wampanoag Tribe of Gay Head Aquinnah\", \"NaN\", \"WTGHA-P2\", \"P2 | Menemsha Perimenter | Menemsha Beach\", NaN, NaN, NaN, NaN, 41.355139, -70.767083, \"NaN\", \"NaN\", \"NaN\", \"NaN\", \"Bucket\", \"STORET-1041360390\", \"NaN\", \"as P\", \"Phosphated pesticides\", \"Total\", \"0.11\", \"mg/L\", \"NaN\", \"Final\", NaN, \"Actual\", NaN, NaN, NaN, NaN, NaN, NaN, NaN, NaN, NaN, \"NaN\", NaN, NaN, \"NaN\", NaN, NaN, NaN, NaN, NaN, NaN, \"8048\", \"HACH\", \"Reactive Phosphorus in Water\", NaN, \"https://www.nemi.gov/methods/method_summary/4828/\", \"NaN\", \"NaN\", NaN, \"NaN\", \"NaN\", NaN, \"NaN\", NaN, \"2024-09-19T09:12:55\", \"STORET\"], [126, \"WTGHA\", \"Wompanoag Tribe of Gay Head Aquinnah (Tribal)\", \"WTGHA-P1:20200528:SR:B\", \"Sample-Routine\", \"Water\", \"NaN\", \"2020-05-28\", \"NaN\", \"NaN\", \"NaN\", \"NaN\", \"NaN\", \"NaN\", NaN, \"NaN\", \"NaN\", NaN, \"NaN\", NaN, \"NaN\", \"WTGHA\", \"The Wampanoag Tribe of Gay Head Aquinnah\", \"NaN\", \"WTGHA-P1\", \"P1 | Menemsha Perimenter | Lobsterville Beach\", NaN, NaN, NaN, NaN, 41.349306, -70.788056, \"NaN\", \"NaN\", \"NaN\", \"NaN\", \"Bucket\", \"STORET-1041359400\", \"NaN\", \"as P\", \"Phosphated pesticides\", \"Total\", \"0.07\", \"mg/L\", \"NaN\", \"Final\", NaN, \"Actual\", NaN, NaN, NaN, NaN, NaN, NaN, NaN, NaN, NaN, \"NaN\", NaN, NaN, \"NaN\", NaN, NaN, NaN, NaN, NaN, NaN, \"8048\", \"HACH\", \"Reactive Phosphorus in Water\", NaN, \"https://www.nemi.gov/methods/method_summary/4828/\", \"NaN\", \"NaN\", NaN, \"NaN\", \"NaN\", NaN, \"NaN\", NaN, \"2024-09-19T09:12:51\", \"STORET\"], [140, \"WTGHA\", \"Wompanoag Tribe of Gay Head Aquinnah (Tribal)\", \"WTGHA-P1:20201015:SR:B\", \"Sample-Routine\", \"Water\", \"NaN\", \"2020-10-15\", \"NaN\", \"NaN\", \"NaN\", \"NaN\", \"NaN\", \"NaN\", NaN, \"NaN\", \"NaN\", NaN, \"NaN\", NaN, \"NaN\", \"WTGHA\", \"The Wampanoag Tribe of Gay Head Aquinnah\", \"NaN\", \"WTGHA-P1\", \"P1 | Menemsha Perimenter | Lobsterville Beach\", NaN, NaN, NaN, NaN, 41.349306, -70.788056, \"NaN\", \"NaN\", \"NaN\", \"NaN\", \"Bucket\", \"STORET-1041360444\", \"NaN\", \"as P\", \"Phosphated pesticides\", \"Total\", \"0.12\", \"mg/L\", \"NaN\", \"Final\", NaN, \"Actual\", NaN, NaN, NaN, NaN, NaN, NaN, NaN, NaN, NaN, \"NaN\", NaN, NaN, \"NaN\", NaN, NaN, NaN, NaN, NaN, NaN, \"8048\", \"HACH\", \"Reactive Phosphorus in Water\", NaN, \"https://www.nemi.gov/methods/method_summary/4828/\", \"NaN\", \"NaN\", NaN, \"NaN\", \"NaN\", NaN, \"NaN\", NaN, \"2024-09-19T09:12:55\", \"STORET\"], [144, \"WTGHA\", \"Wompanoag Tribe of Gay Head Aquinnah (Tribal)\", \"WTGHA-P2:20201109:SR:B\", \"Sample-Routine\", \"Water\", \"NaN\", \"2020-11-09\", \"NaN\", \"NaN\", \"NaN\", \"NaN\", \"NaN\", \"NaN\", NaN, \"NaN\", \"NaN\", NaN, \"NaN\", NaN, \"NaN\", \"WTGHA\", \"The Wampanoag Tribe of Gay Head Aquinnah\", \"NaN\", \"WTGHA-P2\", \"P2 | Menemsha Perimenter | Menemsha Beach\", NaN, NaN, NaN, NaN, 41.355139, -70.767083, \"NaN\", \"NaN\", \"NaN\", \"NaN\", \"Bucket\", \"STORET-1041360606\", \"NaN\", \"as P\", \"Phosphated pesticides\", \"Total\", \"0.14\", \"mg/L\", \"NaN\", \"Final\", NaN, \"Actual\", NaN, NaN, NaN, NaN, NaN, NaN, NaN, NaN, NaN, \"NaN\", NaN, NaN, \"NaN\", NaN, NaN, NaN, NaN, NaN, NaN, \"8048\", \"HACH\", \"Reactive Phosphorus in Water\", NaN, \"https://www.nemi.gov/methods/method_summary/4828/\", \"NaN\", \"NaN\", NaN, \"NaN\", \"NaN\", NaN, \"NaN\", NaN, \"2024-09-19T09:12:56\", \"STORET\"], [159, \"WTGHA\", \"Wompanoag Tribe of Gay Head Aquinnah (Tribal)\", \"WTGHA-P2:20200429:SR:B\", \"Sample-Routine\", \"Water\", \"NaN\", \"2020-04-29\", \"NaN\", \"NaN\", \"NaN\", \"NaN\", \"NaN\", \"NaN\", NaN, \"NaN\", \"NaN\", NaN, \"NaN\", NaN, \"NaN\", \"WTGHA\", \"The Wampanoag Tribe of Gay Head Aquinnah\", \"NaN\", \"WTGHA-P2\", \"P2 | Menemsha Perimenter | Menemsha Beach\", NaN, NaN, NaN, NaN, 41.355139, -70.767083, \"NaN\", \"NaN\", \"NaN\", \"NaN\", \"Bucket\", \"STORET-1041359190\", \"NaN\", \"as P\", \"Phosphated pesticides\", \"Total\", \"0.06\", \"mg/L\", \"NaN\", \"Final\", NaN, \"Actual\", NaN, NaN, NaN, NaN, NaN, NaN, NaN, NaN, NaN, \"NaN\", NaN, NaN, \"NaN\", NaN, NaN, NaN, NaN, NaN, NaN, \"8048\", \"HACH\", \"Reactive Phosphorus in Water\", NaN, \"https://www.nemi.gov/methods/method_summary/4828/\", \"NaN\", \"NaN\", NaN, \"NaN\", \"NaN\", NaN, \"NaN\", NaN, \"2024-09-19T09:12:50\", \"STORET\"], [160, \"WTGHA\", \"Wompanoag Tribe of Gay Head Aquinnah (Tribal)\", \"WTGHA-P1:20200204:SR:B\", \"Sample-Routine\", \"Water\", \"NaN\", \"2020-02-04\", \"NaN\", \"NaN\", \"NaN\", \"NaN\", \"NaN\", \"NaN\", NaN, \"NaN\", \"NaN\", NaN, \"NaN\", NaN, \"NaN\", \"WTGHA\", \"The Wampanoag Tribe of Gay Head Aquinnah\", \"NaN\", \"WTGHA-P1\", \"P1 | Menemsha Perimenter | Lobsterville Beach\", NaN, NaN, NaN, NaN, 41.349306, -70.788056, \"NaN\", \"NaN\", \"NaN\", \"NaN\", \"Bucket\", \"STORET-1041358675\", \"NaN\", \"as P\", \"Phosphated pesticides\", \"Total\", \"0.11\", \"mg/L\", \"NaN\", \"Final\", NaN, \"Actual\", NaN, NaN, NaN, NaN, NaN, NaN, NaN, NaN, NaN, \"NaN\", NaN, NaN, \"NaN\", NaN, NaN, NaN, NaN, NaN, NaN, \"8048\", \"HACH\", \"Reactive Phosphorus in Water\", NaN, \"https://www.nemi.gov/methods/method_summary/4828/\", \"NaN\", \"NaN\", NaN, \"NaN\", \"NaN\", NaN, \"NaN\", NaN, \"2024-09-19T09:12:47\", \"STORET\"], [165, \"WTGHA\", \"Wompanoag Tribe of Gay Head Aquinnah (Tribal)\", \"WTGHA-P2:20200709:SR:B\", \"Sample-Routine\", \"Water\", \"NaN\", \"2020-07-09\", \"NaN\", \"NaN\", \"NaN\", \"NaN\", \"NaN\", \"NaN\", NaN, \"NaN\", \"NaN\", NaN, \"NaN\", NaN, \"NaN\", \"WTGHA\", \"The Wampanoag Tribe of Gay Head Aquinnah\", \"NaN\", \"WTGHA-P2\", \"P2 | Menemsha Perimenter | Menemsha Beach\", NaN, NaN, NaN, NaN, 41.355139, -70.767083, \"NaN\", \"NaN\", \"NaN\", \"NaN\", \"Bucket\", \"STORET-1041359724\", \"NaN\", \"as P\", \"Phosphated pesticides\", \"Total\", \"0.61\", \"mg/L\", \"NaN\", \"Final\", NaN, \"Actual\", NaN, NaN, NaN, NaN, NaN, NaN, NaN, NaN, NaN, \"NaN\", NaN, NaN, \"NaN\", NaN, NaN, NaN, NaN, NaN, NaN, \"8048\", \"HACH\", \"Reactive Phosphorus in Water\", NaN, \"https://www.nemi.gov/methods/method_summary/4828/\", \"NaN\", \"NaN\", NaN, \"NaN\", \"NaN\", NaN, \"NaN\", NaN, \"2024-09-19T09:12:52\", \"STORET\"], [197, \"WTGHA\", \"Wompanoag Tribe of Gay Head Aquinnah (Tribal)\", \"WTGHA-P2:20200505:SR:B\", \"Sample-Routine\", \"Water\", \"NaN\", \"2020-05-05\", \"NaN\", \"NaN\", \"NaN\", \"NaN\", \"NaN\", \"NaN\", NaN, \"NaN\", \"NaN\", NaN, \"NaN\", NaN, \"NaN\", \"WTGHA\", \"The Wampanoag Tribe of Gay Head Aquinnah\", \"NaN\", \"WTGHA-P2\", \"P2 | Menemsha Perimenter | Menemsha Beach\", NaN, NaN, NaN, NaN, 41.355139, -70.767083, \"NaN\", \"NaN\", \"NaN\", \"NaN\", \"Bucket\", \"STORET-1041359244\", \"NaN\", \"as P\", \"Phosphated pesticides\", \"Total\", \"0.08\", \"mg/L\", \"NaN\", \"Final\", NaN, \"Actual\", NaN, NaN, NaN, NaN, NaN, NaN, NaN, NaN, NaN, \"NaN\", NaN, NaN, \"NaN\", NaN, NaN, NaN, NaN, NaN, NaN, \"8048\", \"HACH\", \"Reactive Phosphorus in Water\", NaN, \"https://www.nemi.gov/methods/method_summary/4828/\", \"NaN\", \"NaN\", NaN, \"NaN\", \"NaN\", NaN, \"NaN\", NaN, \"2024-09-19T09:12:50\", \"STORET\"], [244, \"WTGHA\", \"Wompanoag Tribe of Gay Head Aquinnah (Tribal)\", \"WTGHA-P2:20200406:SR:B\", \"Sample-Routine\", \"Water\", \"NaN\", \"2020-04-06\", \"NaN\", \"NaN\", \"NaN\", \"NaN\", \"NaN\", \"NaN\", NaN, \"NaN\", \"NaN\", NaN, \"NaN\", NaN, \"NaN\", \"WTGHA\", \"The Wampanoag Tribe of Gay Head Aquinnah\", \"NaN\", \"WTGHA-P2\", \"P2 | Menemsha Perimenter | Menemsha Beach\", NaN, NaN, NaN, NaN, 41.355139, -70.767083, \"NaN\", \"NaN\", \"NaN\", \"NaN\", \"Bucket\", \"STORET-1041359088\", \"NaN\", \"as P\", \"Phosphated pesticides\", \"Total\", \"0.09\", \"mg/L\", \"NaN\", \"Final\", NaN, \"Actual\", NaN, NaN, NaN, NaN, NaN, NaN, NaN, NaN, NaN, \"NaN\", NaN, NaN, \"NaN\", NaN, NaN, NaN, NaN, NaN, NaN, \"8048\", \"HACH\", \"Reactive Phosphorus in Water\", NaN, \"https://www.nemi.gov/methods/method_summary/4828/\", \"NaN\", \"NaN\", NaN, \"NaN\", \"NaN\", NaN, \"NaN\", NaN, \"2024-09-19T09:12:49\", \"STORET\"], [254, \"WTGHA\", \"Wompanoag Tribe of Gay Head Aquinnah (Tribal)\", \"WTGHA-P2:20200219:SR:B\", \"Sample-Routine\", \"Water\", \"NaN\", \"2020-02-19\", \"NaN\", \"NaN\", \"NaN\", \"NaN\", \"NaN\", \"NaN\", NaN, \"NaN\", \"NaN\", NaN, \"NaN\", NaN, \"NaN\", \"WTGHA\", \"The Wampanoag Tribe of Gay Head Aquinnah\", \"NaN\", \"WTGHA-P2\", \"P2 | Menemsha Perimenter | Menemsha Beach\", NaN, NaN, NaN, NaN, 41.355139, -70.767083, \"NaN\", \"NaN\", \"NaN\", \"NaN\", \"Bucket\", \"STORET-1041358800\", \"NaN\", \"as P\", \"Phosphated pesticides\", \"Total\", \"0.11\", \"mg/L\", \"NaN\", \"Final\", NaN, \"Actual\", NaN, NaN, NaN, NaN, NaN, NaN, NaN, NaN, NaN, \"NaN\", NaN, NaN, \"NaN\", NaN, NaN, NaN, NaN, NaN, NaN, \"8048\", \"HACH\", \"Reactive Phosphorus in Water\", NaN, \"https://www.nemi.gov/methods/method_summary/4828/\", \"NaN\", \"NaN\", NaN, \"NaN\", \"NaN\", NaN, \"NaN\", NaN, \"2024-09-19T09:12:48\", \"STORET\"], [267, \"WTGHA\", \"Wompanoag Tribe of Gay Head Aquinnah (Tribal)\", \"WTGHA-P1:20201203:SR:B\", \"Sample-Routine\", \"Water\", \"NaN\", \"2020-12-03\", \"NaN\", \"NaN\", \"NaN\", \"NaN\", \"NaN\", \"NaN\", NaN, \"NaN\", \"NaN\", NaN, \"NaN\", NaN, \"NaN\", \"WTGHA\", \"The Wampanoag Tribe of Gay Head Aquinnah\", \"NaN\", \"WTGHA-P1\", \"P1 | Menemsha Perimenter | Lobsterville Beach\", NaN, NaN, NaN, NaN, 41.349306, -70.788056, \"NaN\", \"NaN\", \"NaN\", \"NaN\", \"Bucket\", \"STORET-1041360702\", \"NaN\", \"as P\", \"Phosphated pesticides\", \"Total\", \"0.16\", \"mg/L\", \"NaN\", \"Final\", NaN, \"Actual\", NaN, NaN, NaN, NaN, NaN, NaN, NaN, NaN, NaN, \"NaN\", NaN, NaN, \"NaN\", NaN, NaN, NaN, NaN, NaN, NaN, \"8048\", \"HACH\", \"Reactive Phosphorus in Water\", NaN, \"https://www.nemi.gov/methods/method_summary/4828/\", \"NaN\", \"NaN\", NaN, \"NaN\", \"NaN\", NaN, \"NaN\", NaN, \"2024-09-19T09:12:56\", \"STORET\"], [311, \"WTGHA\", \"Wompanoag Tribe of Gay Head Aquinnah (Tribal)\", \"WTGHA-P2:20200727:SR:B\", \"Sample-Routine\", \"Water\", \"NaN\", \"2020-07-27\", \"NaN\", \"NaN\", \"NaN\", \"NaN\", \"NaN\", \"NaN\", NaN, \"NaN\", \"NaN\", NaN, \"NaN\", NaN, \"NaN\", \"WTGHA\", \"The Wampanoag Tribe of Gay Head Aquinnah\", \"NaN\", \"WTGHA-P2\", \"P2 | Menemsha Perimenter | Menemsha Beach\", NaN, NaN, NaN, NaN, 41.355139, -70.767083, \"NaN\", \"NaN\", \"NaN\", \"NaN\", \"Bucket\", \"STORET-1041359873\", \"NaN\", \"as P\", \"Phosphated pesticides\", \"Total\", \"0.54\", \"mg/L\", \"NaN\", \"Final\", NaN, \"Actual\", NaN, NaN, NaN, NaN, NaN, NaN, NaN, NaN, NaN, \"NaN\", NaN, NaN, \"NaN\", NaN, NaN, NaN, NaN, NaN, NaN, \"8048\", \"HACH\", \"Reactive Phosphorus in Water\", NaN, \"https://www.nemi.gov/methods/method_summary/4828/\", \"NaN\", \"NaN\", NaN, \"NaN\", \"NaN\", NaN, \"NaN\", NaN, \"2024-09-19T09:12:52\", \"STORET\"], [317, \"WTGHA\", \"Wompanoag Tribe of Gay Head Aquinnah (Tribal)\", \"WTGHA-P1:20200914:SR:B\", \"Sample-Routine\", \"Water\", \"NaN\", \"2020-09-14\", \"NaN\", \"NaN\", \"NaN\", \"NaN\", \"NaN\", \"NaN\", NaN, \"NaN\", \"NaN\", NaN, \"NaN\", NaN, \"NaN\", \"WTGHA\", \"The Wampanoag Tribe of Gay Head Aquinnah\", \"NaN\", \"WTGHA-P1\", \"P1 | Menemsha Perimenter | Lobsterville Beach\", NaN, NaN, NaN, NaN, 41.349306, -70.788056, \"NaN\", \"NaN\", \"NaN\", \"NaN\", \"Bucket\", \"STORET-1041360231\", \"NaN\", \"as P\", \"Phosphated pesticides\", \"Total\", \"0.1\", \"mg/L\", \"NaN\", \"Final\", NaN, \"Actual\", NaN, NaN, NaN, NaN, NaN, NaN, NaN, NaN, NaN, \"NaN\", NaN, NaN, \"NaN\", NaN, NaN, NaN, NaN, NaN, NaN, \"8048\", \"HACH\", \"Reactive Phosphorus in Water\", NaN, \"https://www.nemi.gov/methods/method_summary/4828/\", \"NaN\", \"NaN\", NaN, \"NaN\", \"NaN\", NaN, \"NaN\", NaN, \"2024-09-19T09:12:54\", \"STORET\"], [319, \"WTGHA\", \"Wompanoag Tribe of Gay Head Aquinnah (Tribal)\", \"WTGHA-P1:20200505:SR:B\", \"Sample-Routine\", \"Water\", \"NaN\", \"2020-05-05\", \"NaN\", \"NaN\", \"NaN\", \"NaN\", \"NaN\", \"NaN\", NaN, \"NaN\", \"NaN\", NaN, \"NaN\", NaN, \"NaN\", \"WTGHA\", \"The Wampanoag Tribe of Gay Head Aquinnah\", \"NaN\", \"WTGHA-P1\", \"P1 | Menemsha Perimenter | Lobsterville Beach\", NaN, NaN, NaN, NaN, 41.349306, -70.788056, \"NaN\", \"NaN\", \"NaN\", \"NaN\", \"Bucket\", \"STORET-1041359238\", \"NaN\", \"as P\", \"Phosphated pesticides\", \"Total\", \"0.12\", \"mg/L\", \"NaN\", \"Final\", NaN, \"Actual\", NaN, NaN, NaN, NaN, NaN, NaN, NaN, NaN, NaN, \"NaN\", NaN, NaN, \"NaN\", NaN, NaN, NaN, NaN, NaN, NaN, \"8048\", \"HACH\", \"Reactive Phosphorus in Water\", NaN, \"https://www.nemi.gov/methods/method_summary/4828/\", \"NaN\", \"NaN\", NaN, \"NaN\", \"NaN\", NaN, \"NaN\", NaN, \"2024-09-19T09:12:50\", \"STORET\"], [330, \"WTGHA\", \"Wompanoag Tribe of Gay Head Aquinnah (Tribal)\", \"WTGHA-P2:20200630:SR:B\", \"Sample-Routine\", \"Water\", \"NaN\", \"2020-06-30\", \"NaN\", \"NaN\", \"NaN\", \"NaN\", \"NaN\", \"NaN\", NaN, \"NaN\", \"NaN\", NaN, \"NaN\", NaN, \"NaN\", \"WTGHA\", \"The Wampanoag Tribe of Gay Head Aquinnah\", \"NaN\", \"WTGHA-P2\", \"P2 | Menemsha Perimenter | Menemsha Beach\", NaN, NaN, NaN, NaN, 41.355139, -70.767083, \"NaN\", \"NaN\", \"NaN\", \"NaN\", \"Bucket\", \"STORET-1041359670\", \"NaN\", \"as P\", \"Phosphated pesticides\", \"Total\", \"0.11\", \"mg/L\", \"NaN\", \"Final\", NaN, \"Actual\", NaN, NaN, NaN, NaN, NaN, NaN, NaN, NaN, NaN, \"NaN\", NaN, NaN, \"NaN\", NaN, NaN, NaN, NaN, NaN, NaN, \"8048\", \"HACH\", \"Reactive Phosphorus in Water\", NaN, \"https://www.nemi.gov/methods/method_summary/4828/\", \"NaN\", \"NaN\", NaN, \"NaN\", \"NaN\", NaN, \"NaN\", NaN, \"2024-09-19T09:12:52\", \"STORET\"], [332, \"WTGHA\", \"Wompanoag Tribe of Gay Head Aquinnah (Tribal)\", \"WTGHA-P2:20200825:SR:B\", \"Sample-Routine\", \"Water\", \"NaN\", \"2020-08-25\", \"NaN\", \"NaN\", \"NaN\", \"NaN\", \"NaN\", \"NaN\", NaN, \"NaN\", \"NaN\", NaN, \"NaN\", NaN, \"NaN\", \"WTGHA\", \"The Wampanoag Tribe of Gay Head Aquinnah\", \"NaN\", \"WTGHA-P2\", \"P2 | Menemsha Perimenter | Menemsha Beach\", NaN, NaN, NaN, NaN, 41.355139, -70.767083, \"NaN\", \"NaN\", \"NaN\", \"NaN\", \"Bucket\", \"STORET-1041360081\", \"NaN\", \"as P\", \"Phosphated pesticides\", \"Total\", \"0.07\", \"mg/L\", \"NaN\", \"Final\", NaN, \"Actual\", NaN, NaN, NaN, NaN, NaN, NaN, NaN, NaN, NaN, \"NaN\", NaN, NaN, \"NaN\", NaN, NaN, NaN, NaN, NaN, NaN, \"8048\", \"HACH\", \"Reactive Phosphorus in Water\", NaN, \"https://www.nemi.gov/methods/method_summary/4828/\", \"NaN\", \"NaN\", NaN, \"NaN\", \"NaN\", NaN, \"NaN\", NaN, \"2024-09-19T09:12:53\", \"STORET\"], [352, \"WTGHA\", \"Wompanoag Tribe of Gay Head Aquinnah (Tribal)\", \"WTGHA-P2:20200603:SR:B\", \"Sample-Routine\", \"Water\", \"NaN\", \"2020-06-03\", \"NaN\", \"NaN\", \"NaN\", \"NaN\", \"NaN\", \"NaN\", NaN, \"NaN\", \"NaN\", NaN, \"NaN\", NaN, \"NaN\", \"WTGHA\", \"The Wampanoag Tribe of Gay Head Aquinnah\", \"NaN\", \"WTGHA-P2\", \"P2 | Menemsha Perimenter | Menemsha Beach\", NaN, NaN, NaN, NaN, 41.355139, -70.767083, \"NaN\", \"NaN\", \"NaN\", \"NaN\", \"Bucket\", \"STORET-1041359466\", \"NaN\", \"as P\", \"Phosphated pesticides\", \"Total\", \"0.12\", \"mg/L\", \"NaN\", \"Final\", NaN, \"Actual\", NaN, NaN, NaN, NaN, NaN, NaN, NaN, NaN, NaN, \"NaN\", NaN, NaN, \"NaN\", NaN, NaN, NaN, NaN, NaN, NaN, \"8048\", \"HACH\", \"Reactive Phosphorus in Water\", NaN, \"https://www.nemi.gov/methods/method_summary/4828/\", \"NaN\", \"NaN\", NaN, \"NaN\", \"NaN\", NaN, \"NaN\", NaN, \"2024-09-19T09:12:51\", \"STORET\"], [360, \"WTGHA\", \"Wompanoag Tribe of Gay Head Aquinnah (Tribal)\", \"WTGHA-P2:20200226:SR:B\", \"Sample-Routine\", \"Water\", \"NaN\", \"2020-02-26\", \"NaN\", \"NaN\", \"NaN\", \"NaN\", \"NaN\", \"NaN\", NaN, \"NaN\", \"NaN\", NaN, \"NaN\", NaN, \"NaN\", \"WTGHA\", \"The Wampanoag Tribe of Gay Head Aquinnah\", \"NaN\", \"WTGHA-P2\", \"P2 | Menemsha Perimenter | Menemsha Beach\", NaN, NaN, NaN, NaN, 41.355139, -70.767083, \"NaN\", \"NaN\", \"NaN\", \"NaN\", \"Bucket\", \"STORET-1041358848\", \"NaN\", \"as P\", \"Phosphated pesticides\", \"Total\", \"0.1\", \"mg/L\", \"NaN\", \"Final\", NaN, \"Actual\", NaN, NaN, NaN, NaN, NaN, NaN, NaN, NaN, NaN, \"NaN\", NaN, NaN, \"NaN\", NaN, NaN, NaN, NaN, NaN, NaN, \"8048\", \"HACH\", \"Reactive Phosphorus in Water\", NaN, \"https://www.nemi.gov/methods/method_summary/4828/\", \"NaN\", \"NaN\", NaN, \"NaN\", \"NaN\", NaN, \"NaN\", NaN, \"2024-09-19T09:12:48\", \"STORET\"], [364, \"WTGHA\", \"Wompanoag Tribe of Gay Head Aquinnah (Tribal)\", \"WTGHA-P2:20201022:SR:B\", \"Sample-Routine\", \"Water\", \"NaN\", \"2020-10-22\", \"NaN\", \"NaN\", \"NaN\", \"NaN\", \"NaN\", \"NaN\", NaN, \"NaN\", \"NaN\", NaN, \"NaN\", NaN, \"NaN\", \"WTGHA\", \"The Wampanoag Tribe of Gay Head Aquinnah\", \"NaN\", \"WTGHA-P2\", \"P2 | Menemsha Perimenter | Menemsha Beach\", NaN, NaN, NaN, NaN, 41.355139, -70.767083, \"NaN\", \"NaN\", \"NaN\", \"NaN\", \"Bucket\", \"STORET-1041360498\", \"NaN\", \"as P\", \"Phosphated pesticides\", \"Total\", \"0.12\", \"mg/L\", \"NaN\", \"Final\", NaN, \"Actual\", NaN, NaN, NaN, NaN, NaN, NaN, NaN, NaN, NaN, \"NaN\", NaN, NaN, \"NaN\", NaN, NaN, NaN, NaN, NaN, NaN, \"8048\", \"HACH\", \"Reactive Phosphorus in Water\", NaN, \"https://www.nemi.gov/methods/method_summary/4828/\", \"NaN\", \"NaN\", NaN, \"NaN\", \"NaN\", NaN, \"NaN\", NaN, \"2024-09-19T09:12:55\", \"STORET\"], [371, \"WTGHA\", \"Wompanoag Tribe of Gay Head Aquinnah (Tribal)\", \"WTGHA-P2:20200312:SR:B\", \"Sample-Routine\", \"Water\", \"NaN\", \"2020-03-12\", \"NaN\", \"NaN\", \"NaN\", \"NaN\", \"NaN\", \"NaN\", NaN, \"NaN\", \"NaN\", NaN, \"NaN\", NaN, \"NaN\", \"WTGHA\", \"The Wampanoag Tribe of Gay Head Aquinnah\", \"NaN\", \"WTGHA-P2\", \"P2 | Menemsha Perimenter | Menemsha Beach\", NaN, NaN, NaN, NaN, 41.355139, -70.767083, \"NaN\", \"NaN\", \"NaN\", \"NaN\", \"Bucket\", \"STORET-1041358956\", \"NaN\", \"as P\", \"Phosphated pesticides\", \"Total\", \"0.1\", \"mg/L\", \"NaN\", \"Final\", NaN, \"Actual\", NaN, NaN, NaN, NaN, NaN, NaN, NaN, NaN, NaN, \"NaN\", NaN, NaN, \"NaN\", NaN, NaN, NaN, NaN, NaN, NaN, \"8048\", \"HACH\", \"Reactive Phosphorus in Water\", NaN, \"https://www.nemi.gov/methods/method_summary/4828/\", \"NaN\", \"NaN\", NaN, \"NaN\", \"NaN\", NaN, \"NaN\", NaN, \"2024-09-19T09:12:49\", \"STORET\"], [373, \"WTGHA\", \"Wompanoag Tribe of Gay Head Aquinnah (Tribal)\", \"WTGHA-P1:20201118:SR:B\", \"Sample-Routine\", \"Water\", \"NaN\", \"2020-11-18\", \"NaN\", \"NaN\", \"NaN\", \"NaN\", \"NaN\", \"NaN\", NaN, \"NaN\", \"NaN\", NaN, \"NaN\", NaN, \"NaN\", \"WTGHA\", \"The Wampanoag Tribe of Gay Head Aquinnah\", \"NaN\", \"WTGHA-P1\", \"P1 | Menemsha Perimenter | Lobsterville Beach\", NaN, NaN, NaN, NaN, 41.349306, -70.788056, \"NaN\", \"NaN\", \"NaN\", \"NaN\", \"Bucket\", \"STORET-1041360648\", \"NaN\", \"as P\", \"Phosphated pesticides\", \"Total\", \"0.16\", \"mg/L\", \"NaN\", \"Final\", NaN, \"Actual\", NaN, NaN, NaN, NaN, NaN, NaN, NaN, NaN, NaN, \"NaN\", NaN, NaN, \"NaN\", NaN, NaN, NaN, NaN, NaN, NaN, \"8048\", \"HACH\", \"Reactive Phosphorus in Water\", NaN, \"https://www.nemi.gov/methods/method_summary/4828/\", \"NaN\", \"NaN\", NaN, \"NaN\", \"NaN\", NaN, \"NaN\", NaN, \"2024-09-19T09:12:56\", \"STORET\"], [376, \"WTGHA\", \"Wompanoag Tribe of Gay Head Aquinnah (Tribal)\", \"WTGHA-P2:20200929:SR:B\", \"Sample-Routine\", \"Water\", \"NaN\", \"2020-09-29\", \"NaN\", \"NaN\", \"NaN\", \"NaN\", \"NaN\", \"NaN\", NaN, \"NaN\", \"NaN\", NaN, \"NaN\", NaN, \"NaN\", \"WTGHA\", \"The Wampanoag Tribe of Gay Head Aquinnah\", \"NaN\", \"WTGHA-P2\", \"P2 | Menemsha Perimenter | Menemsha Beach\", NaN, NaN, NaN, NaN, 41.355139, -70.767083, \"NaN\", \"NaN\", \"NaN\", \"NaN\", \"Bucket\", \"STORET-1041360336\", \"NaN\", \"as P\", \"Phosphated pesticides\", \"Total\", \"0.14\", \"mg/L\", \"NaN\", \"Final\", NaN, \"Actual\", NaN, NaN, NaN, NaN, NaN, NaN, NaN, NaN, NaN, \"NaN\", NaN, NaN, \"NaN\", NaN, NaN, NaN, NaN, NaN, NaN, \"8048\", \"HACH\", \"Reactive Phosphorus in Water\", NaN, \"https://www.nemi.gov/methods/method_summary/4828/\", \"NaN\", \"NaN\", NaN, \"NaN\", \"NaN\", NaN, \"NaN\", NaN, \"2024-09-19T09:12:55\", \"STORET\"], [381, \"WTGHA\", \"Wompanoag Tribe of Gay Head Aquinnah (Tribal)\", \"WTGHA-P1:20200615:SR:B\", \"Sample-Routine\", \"Water\", \"NaN\", \"2020-06-15\", \"NaN\", \"NaN\", \"NaN\", \"NaN\", \"NaN\", \"NaN\", NaN, \"NaN\", \"NaN\", NaN, \"NaN\", NaN, \"NaN\", \"WTGHA\", \"The Wampanoag Tribe of Gay Head Aquinnah\", \"NaN\", \"WTGHA-P1\", \"P1 | Menemsha Perimenter | Lobsterville Beach\", NaN, NaN, NaN, NaN, 41.349306, -70.788056, \"NaN\", \"NaN\", \"NaN\", \"NaN\", \"Bucket\", \"STORET-1041359562\", \"NaN\", \"as P\", \"Phosphated pesticides\", \"Total\", \"0.09\", \"mg/L\", \"NaN\", \"Final\", NaN, \"Actual\", NaN, NaN, NaN, NaN, NaN, NaN, NaN, NaN, NaN, \"NaN\", NaN, NaN, \"NaN\", NaN, NaN, NaN, NaN, NaN, NaN, \"8048\", \"HACH\", \"Reactive Phosphorus in Water\", NaN, \"https://www.nemi.gov/methods/method_summary/4828/\", \"NaN\", \"NaN\", NaN, \"NaN\", \"NaN\", NaN, \"NaN\", NaN, \"2024-09-19T09:12:51\", \"STORET\"], [441, \"WTGHA\", \"Wompanoag Tribe of Gay Head Aquinnah (Tribal)\", \"WTGHA-P1:20200121:SR:B\", \"Sample-Routine\", \"Water\", \"NaN\", \"2020-01-21\", \"NaN\", \"NaN\", \"NaN\", \"NaN\", \"NaN\", \"NaN\", NaN, \"NaN\", \"NaN\", NaN, \"NaN\", NaN, \"NaN\", \"WTGHA\", \"The Wampanoag Tribe of Gay Head Aquinnah\", \"NaN\", \"WTGHA-P1\", \"P1 | Menemsha Perimenter | Lobsterville Beach\", NaN, NaN, NaN, NaN, 41.349306, -70.788056, \"NaN\", \"NaN\", \"NaN\", \"NaN\", \"Bucket\", \"STORET-1041358549\", \"NaN\", \"as P\", \"Phosphated pesticides\", \"Total\", \"0.18\", \"mg/L\", \"NaN\", \"Final\", NaN, \"Actual\", NaN, NaN, NaN, NaN, NaN, NaN, NaN, NaN, NaN, \"NaN\", NaN, NaN, \"NaN\", NaN, NaN, NaN, NaN, NaN, NaN, \"8048\", \"HACH\", \"Reactive Phosphorus in Water\", NaN, \"https://www.nemi.gov/methods/method_summary/4828/\", \"NaN\", \"NaN\", NaN, \"NaN\", \"NaN\", NaN, \"NaN\", NaN, \"2024-09-19T09:12:47\", \"STORET\"], [472, \"WTGHA\", \"Wompanoag Tribe of Gay Head Aquinnah (Tribal)\", \"WTGHA-P1:20201022:SR:B\", \"Sample-Routine\", \"Water\", \"NaN\", \"2020-10-22\", \"NaN\", \"NaN\", \"NaN\", \"NaN\", \"NaN\", \"NaN\", NaN, \"NaN\", \"NaN\", NaN, \"NaN\", NaN, \"NaN\", \"WTGHA\", \"The Wampanoag Tribe of Gay Head Aquinnah\", \"NaN\", \"WTGHA-P1\", \"P1 | Menemsha Perimenter | Lobsterville Beach\", NaN, NaN, NaN, NaN, 41.349306, -70.788056, \"NaN\", \"NaN\", \"NaN\", \"NaN\", \"Bucket\", \"STORET-1041360492\", \"NaN\", \"as P\", \"Phosphated pesticides\", \"Total\", \"0.1\", \"mg/L\", \"NaN\", \"Final\", NaN, \"Actual\", NaN, NaN, NaN, NaN, NaN, NaN, NaN, NaN, NaN, \"NaN\", NaN, NaN, \"NaN\", NaN, NaN, NaN, NaN, NaN, NaN, \"8048\", \"HACH\", \"Reactive Phosphorus in Water\", NaN, \"https://www.nemi.gov/methods/method_summary/4828/\", \"NaN\", \"NaN\", NaN, \"NaN\", \"NaN\", NaN, \"NaN\", NaN, \"2024-09-19T09:12:55\", \"STORET\"], [473, \"WTGHA\", \"Wompanoag Tribe of Gay Head Aquinnah (Tribal)\", \"WTGHA-P1:20200402:SR:B\", \"Sample-Routine\", \"Water\", \"NaN\", \"2020-04-02\", \"NaN\", \"NaN\", \"NaN\", \"NaN\", \"NaN\", \"NaN\", NaN, \"NaN\", \"NaN\", NaN, \"NaN\", NaN, \"NaN\", \"WTGHA\", \"The Wampanoag Tribe of Gay Head Aquinnah\", \"NaN\", \"WTGHA-P1\", \"P1 | Menemsha Perimenter | Lobsterville Beach\", NaN, NaN, NaN, NaN, 41.349306, -70.788056, \"NaN\", \"NaN\", \"NaN\", \"NaN\", \"Bucket\", \"STORET-1041359052\", \"NaN\", \"as P\", \"Phosphated pesticides\", \"Total\", \"0.13\", \"mg/L\", \"NaN\", \"Final\", NaN, \"Actual\", NaN, NaN, NaN, NaN, NaN, NaN, NaN, NaN, NaN, \"NaN\", NaN, NaN, \"NaN\", NaN, NaN, NaN, NaN, NaN, NaN, \"8048\", \"HACH\", \"Reactive Phosphorus in Water\", NaN, \"https://www.nemi.gov/methods/method_summary/4828/\", \"NaN\", \"NaN\", NaN, \"NaN\", \"NaN\", NaN, \"NaN\", NaN, \"2024-09-19T09:12:49\", \"STORET\"], [491, \"WTGHA\", \"Wompanoag Tribe of Gay Head Aquinnah (Tribal)\", \"WTGHA-P1:20200810:SR:B\", \"Sample-Routine\", \"Water\", \"NaN\", \"2020-08-10\", \"NaN\", \"NaN\", \"NaN\", \"NaN\", \"NaN\", \"NaN\", NaN, \"NaN\", \"NaN\", NaN, \"NaN\", NaN, \"NaN\", \"WTGHA\", \"The Wampanoag Tribe of Gay Head Aquinnah\", \"NaN\", \"WTGHA-P1\", \"P1 | Menemsha Perimenter | Lobsterville Beach\", NaN, NaN, NaN, NaN, 41.349306, -70.788056, \"NaN\", \"NaN\", \"NaN\", \"NaN\", \"Bucket\", \"STORET-1041359967\", \"NaN\", \"as P\", \"Phosphated pesticides\", \"Total\", \"0.04\", \"mg/L\", \"NaN\", \"Final\", NaN, \"Actual\", NaN, NaN, NaN, NaN, NaN, NaN, NaN, NaN, NaN, \"NaN\", NaN, NaN, \"NaN\", NaN, NaN, NaN, NaN, NaN, NaN, \"8048\", \"HACH\", \"Reactive Phosphorus in Water\", NaN, \"https://www.nemi.gov/methods/method_summary/4828/\", \"NaN\", \"NaN\", NaN, \"NaN\", \"NaN\", NaN, \"NaN\", NaN, \"2024-09-19T09:12:53\", \"STORET\"], [523, \"WTGHA\", \"Wompanoag Tribe of Gay Head Aquinnah (Tribal)\", \"WTGHA-P2:20200608:SR:B\", \"Sample-Routine\", \"Water\", \"NaN\", \"2020-06-08\", \"NaN\", \"NaN\", \"NaN\", \"NaN\", \"NaN\", \"NaN\", NaN, \"NaN\", \"NaN\", NaN, \"NaN\", NaN, \"NaN\", \"WTGHA\", \"The Wampanoag Tribe of Gay Head Aquinnah\", \"NaN\", \"WTGHA-P2\", \"P2 | Menemsha Perimenter | Menemsha Beach\", NaN, NaN, NaN, NaN, 41.355139, -70.767083, \"NaN\", \"NaN\", \"NaN\", \"NaN\", \"Bucket\", \"STORET-1041359520\", \"NaN\", \"as P\", \"Phosphated pesticides\", \"Total\", \"0.07\", \"mg/L\", \"NaN\", \"Final\", NaN, \"Actual\", NaN, NaN, NaN, NaN, NaN, NaN, NaN, NaN, NaN, \"NaN\", NaN, NaN, \"NaN\", NaN, NaN, NaN, NaN, NaN, NaN, \"8048\", \"HACH\", \"Reactive Phosphorus in Water\", NaN, \"https://www.nemi.gov/methods/method_summary/4828/\", \"NaN\", \"NaN\", NaN, \"NaN\", \"NaN\", NaN, \"NaN\", NaN, \"2024-09-19T09:12:51\", \"STORET\"], [617, \"WTGHA\", \"Wompanoag Tribe of Gay Head Aquinnah (Tribal)\", \"WTGHA-P2:20200129:SR:B\", \"Sample-Routine\", \"Water\", \"NaN\", \"2020-01-29\", \"NaN\", \"NaN\", \"NaN\", \"NaN\", \"NaN\", \"NaN\", NaN, \"NaN\", \"NaN\", NaN, \"NaN\", NaN, \"NaN\", \"WTGHA\", \"The Wampanoag Tribe of Gay Head Aquinnah\", \"NaN\", \"WTGHA-P2\", \"P2 | Menemsha Perimenter | Menemsha Beach\", NaN, NaN, NaN, NaN, 41.355139, -70.767083, \"NaN\", \"NaN\", \"NaN\", \"NaN\", \"Bucket\", \"STORET-1041358619\", \"NaN\", \"as P\", \"Phosphated pesticides\", \"Total\", \"0.07\", \"mg/L\", \"NaN\", \"Final\", NaN, \"Actual\", NaN, NaN, NaN, NaN, NaN, NaN, NaN, NaN, NaN, \"NaN\", NaN, NaN, \"NaN\", NaN, NaN, NaN, NaN, NaN, NaN, \"8048\", \"HACH\", \"Reactive Phosphorus in Water\", NaN, \"https://www.nemi.gov/methods/method_summary/4828/\", \"NaN\", \"NaN\", NaN, \"NaN\", \"NaN\", NaN, \"NaN\", NaN, \"2024-09-19T09:12:47\", \"STORET\"], [624, \"WTGHA\", \"Wompanoag Tribe of Gay Head Aquinnah (Tribal)\", \"WTGHA-P2:20200908:SR:B\", \"Sample-Routine\", \"Water\", \"NaN\", \"2020-09-08\", \"NaN\", \"NaN\", \"NaN\", \"NaN\", \"NaN\", \"NaN\", NaN, \"NaN\", \"NaN\", NaN, \"NaN\", NaN, \"NaN\", \"WTGHA\", \"The Wampanoag Tribe of Gay Head Aquinnah\", \"NaN\", \"WTGHA-P2\", \"P2 | Menemsha Perimenter | Menemsha Beach\", NaN, NaN, NaN, NaN, 41.355139, -70.767083, \"NaN\", \"NaN\", \"NaN\", \"NaN\", \"Bucket\", \"STORET-1041360183\", \"NaN\", \"as P\", \"Phosphated pesticides\", \"Total\", \"0.13\", \"mg/L\", \"NaN\", \"Final\", NaN, \"Actual\", NaN, NaN, NaN, NaN, NaN, NaN, NaN, NaN, NaN, \"NaN\", NaN, NaN, \"NaN\", NaN, NaN, NaN, NaN, NaN, NaN, \"8048\", \"HACH\", \"Reactive Phosphorus in Water\", NaN, \"https://www.nemi.gov/methods/method_summary/4828/\", \"NaN\", \"NaN\", NaN, \"NaN\", \"NaN\", NaN, \"NaN\", NaN, \"2024-09-19T09:12:54\", \"STORET\"], [645, \"WTGHA\", \"Wompanoag Tribe of Gay Head Aquinnah (Tribal)\", \"WTGHA-P1:20201007:SR:B\", \"Sample-Routine\", \"Water\", \"NaN\", \"2020-10-07\", \"NaN\", \"NaN\", \"NaN\", \"NaN\", \"NaN\", \"NaN\", NaN, \"NaN\", \"NaN\", NaN, \"NaN\", NaN, \"NaN\", \"WTGHA\", \"The Wampanoag Tribe of Gay Head Aquinnah\", \"NaN\", \"WTGHA-P1\", \"P1 | Menemsha Perimenter | Lobsterville Beach\", NaN, NaN, NaN, NaN, 41.349306, -70.788056, \"NaN\", \"NaN\", \"NaN\", \"NaN\", \"Bucket\", \"STORET-1041360384\", \"NaN\", \"as P\", \"Phosphated pesticides\", \"Total\", \"0.11\", \"mg/L\", \"NaN\", \"Final\", NaN, \"Actual\", NaN, NaN, NaN, NaN, NaN, NaN, NaN, NaN, NaN, \"NaN\", NaN, NaN, \"NaN\", NaN, NaN, NaN, NaN, NaN, NaN, \"8048\", \"HACH\", \"Reactive Phosphorus in Water\", NaN, \"https://www.nemi.gov/methods/method_summary/4828/\", \"NaN\", \"NaN\", NaN, \"NaN\", \"NaN\", NaN, \"NaN\", NaN, \"2024-09-19T09:12:55\", \"STORET\"], [650, \"WTGHA\", \"Wompanoag Tribe of Gay Head Aquinnah (Tribal)\", \"WTGHA-P1:20200429:SR:B\", \"Sample-Routine\", \"Water\", \"NaN\", \"2020-04-29\", \"NaN\", \"NaN\", \"NaN\", \"NaN\", \"NaN\", \"NaN\", NaN, \"NaN\", \"NaN\", NaN, \"NaN\", NaN, \"NaN\", \"WTGHA\", \"The Wampanoag Tribe of Gay Head Aquinnah\", \"NaN\", \"WTGHA-P1\", \"P1 | Menemsha Perimenter | Lobsterville Beach\", NaN, NaN, NaN, NaN, 41.349306, -70.788056, \"NaN\", \"NaN\", \"NaN\", \"NaN\", \"Bucket\", \"STORET-1041359184\", \"NaN\", \"as P\", \"Phosphated pesticides\", \"Total\", \"0.08\", \"mg/L\", \"NaN\", \"Final\", NaN, \"Actual\", NaN, NaN, NaN, NaN, NaN, NaN, NaN, NaN, NaN, \"NaN\", NaN, NaN, \"NaN\", NaN, NaN, NaN, NaN, NaN, NaN, \"8048\", \"HACH\", \"Reactive Phosphorus in Water\", NaN, \"https://www.nemi.gov/methods/method_summary/4828/\", \"NaN\", \"NaN\", NaN, \"NaN\", \"NaN\", NaN, \"NaN\", NaN, \"2024-09-19T09:12:50\", \"STORET\"], [710, \"WTGHA\", \"Wompanoag Tribe of Gay Head Aquinnah (Tribal)\", \"WTGHA-P1:20200713:SR:B\", \"Sample-Routine\", \"Water\", \"NaN\", \"2020-07-13\", \"NaN\", \"NaN\", \"NaN\", \"NaN\", \"NaN\", \"NaN\", NaN, \"NaN\", \"NaN\", NaN, \"NaN\", NaN, \"NaN\", \"WTGHA\", \"The Wampanoag Tribe of Gay Head Aquinnah\", \"NaN\", \"WTGHA-P1\", \"P1 | Menemsha Perimenter | Lobsterville Beach\", NaN, NaN, NaN, NaN, 41.349306, -70.788056, \"NaN\", \"NaN\", \"NaN\", \"NaN\", \"Bucket\", \"STORET-1041359766\", \"NaN\", \"as P\", \"Phosphated pesticides\", \"Total\", \"0.1\", \"mg/L\", \"NaN\", \"Final\", NaN, \"Actual\", NaN, NaN, NaN, NaN, NaN, NaN, NaN, NaN, NaN, \"NaN\", NaN, NaN, \"NaN\", NaN, NaN, NaN, NaN, NaN, NaN, \"8048\", \"HACH\", \"Reactive Phosphorus in Water\", NaN, \"https://www.nemi.gov/methods/method_summary/4828/\", \"NaN\", \"NaN\", NaN, \"NaN\", \"NaN\", NaN, \"NaN\", NaN, \"2024-09-19T09:12:52\", \"STORET\"], [756, \"WTGHA\", \"Wompanoag Tribe of Gay Head Aquinnah (Tribal)\", \"WTGHA-P2:20200622:SR:B\", \"Sample-Routine\", \"Water\", \"NaN\", \"2020-06-22\", \"NaN\", \"NaN\", \"NaN\", \"NaN\", \"NaN\", \"NaN\", NaN, \"NaN\", \"NaN\", NaN, \"NaN\", NaN, \"NaN\", \"WTGHA\", \"The Wampanoag Tribe of Gay Head Aquinnah\", \"NaN\", \"WTGHA-P2\", \"P2 | Menemsha Perimenter | Menemsha Beach\", NaN, NaN, NaN, NaN, 41.355139, -70.767083, \"NaN\", \"NaN\", \"NaN\", \"NaN\", \"Bucket\", \"STORET-1041359622\", \"NaN\", \"as P\", \"Phosphated pesticides\", \"Total\", \"0.09\", \"mg/L\", \"NaN\", \"Final\", NaN, \"Actual\", NaN, NaN, NaN, NaN, NaN, NaN, NaN, NaN, NaN, \"NaN\", NaN, NaN, \"NaN\", NaN, NaN, NaN, NaN, NaN, NaN, \"8048\", \"HACH\", \"Reactive Phosphorus in Water\", NaN, \"https://www.nemi.gov/methods/method_summary/4828/\", \"NaN\", \"NaN\", NaN, \"NaN\", \"NaN\", NaN, \"NaN\", NaN, \"2024-09-19T09:12:51\", \"STORET\"], [795, \"WTGHA\", \"Wompanoag Tribe of Gay Head Aquinnah (Tribal)\", \"WTGHA-P1:20200226:SR:B\", \"Sample-Routine\", \"Water\", \"NaN\", \"2020-02-26\", \"NaN\", \"NaN\", \"NaN\", \"NaN\", \"NaN\", \"NaN\", NaN, \"NaN\", \"NaN\", NaN, \"NaN\", NaN, \"NaN\", \"WTGHA\", \"The Wampanoag Tribe of Gay Head Aquinnah\", \"NaN\", \"WTGHA-P1\", \"P1 | Menemsha Perimenter | Lobsterville Beach\", NaN, NaN, NaN, NaN, 41.349306, -70.788056, \"NaN\", \"NaN\", \"NaN\", \"NaN\", \"Bucket\", \"STORET-1041358842\", \"NaN\", \"as P\", \"Phosphated pesticides\", \"Total\", \"0.1\", \"mg/L\", \"NaN\", \"Final\", NaN, \"Actual\", NaN, NaN, NaN, NaN, NaN, NaN, NaN, NaN, NaN, \"NaN\", NaN, NaN, \"NaN\", NaN, NaN, NaN, NaN, NaN, NaN, \"8048\", \"HACH\", \"Reactive Phosphorus in Water\", NaN, \"https://www.nemi.gov/methods/method_summary/4828/\", \"NaN\", \"NaN\", NaN, \"NaN\", \"NaN\", NaN, \"NaN\", NaN, \"2024-09-19T09:12:48\", \"STORET\"], [816, \"WTGHA\", \"Wompanoag Tribe of Gay Head Aquinnah (Tribal)\", \"WTGHA-P1:20200316:SR:B\", \"Sample-Routine\", \"Water\", \"NaN\", \"2020-03-16\", \"NaN\", \"NaN\", \"NaN\", \"NaN\", \"NaN\", \"NaN\", NaN, \"NaN\", \"NaN\", NaN, \"NaN\", NaN, \"NaN\", \"WTGHA\", \"The Wampanoag Tribe of Gay Head Aquinnah\", \"NaN\", \"WTGHA-P1\", \"P1 | Menemsha Perimenter | Lobsterville Beach\", NaN, NaN, NaN, NaN, 41.349306, -70.788056, \"NaN\", \"NaN\", \"NaN\", \"NaN\", \"Bucket\", \"STORET-1041358998\", \"NaN\", \"as P\", \"Phosphated pesticides\", \"Total\", \"0.18\", \"mg/L\", \"NaN\", \"Final\", NaN, \"Actual\", NaN, NaN, NaN, NaN, NaN, NaN, NaN, NaN, NaN, \"NaN\", NaN, NaN, \"NaN\", NaN, NaN, NaN, NaN, NaN, NaN, \"8048\", \"HACH\", \"Reactive Phosphorus in Water\", NaN, \"https://www.nemi.gov/methods/method_summary/4828/\", \"NaN\", \"NaN\", NaN, \"NaN\", \"NaN\", NaN, \"NaN\", NaN, \"2024-09-19T09:12:49\", \"STORET\"], [817, \"WTGHA\", \"Wompanoag Tribe of Gay Head Aquinnah (Tribal)\", \"WTGHA-P1:20200415:SR:B\", \"Sample-Routine\", \"Water\", \"NaN\", \"2020-04-15\", \"NaN\", \"NaN\", \"NaN\", \"NaN\", \"NaN\", \"NaN\", NaN, \"NaN\", \"NaN\", NaN, \"NaN\", NaN, \"NaN\", \"WTGHA\", \"The Wampanoag Tribe of Gay Head Aquinnah\", \"NaN\", \"WTGHA-P1\", \"P1 | Menemsha Perimenter | Lobsterville Beach\", NaN, NaN, NaN, NaN, 41.349306, -70.788056, \"NaN\", \"NaN\", \"NaN\", \"NaN\", \"Bucket\", \"STORET-1041359130\", \"NaN\", \"as P\", \"Phosphated pesticides\", \"Total\", \"0.09\", \"mg/L\", \"NaN\", \"Final\", NaN, \"Actual\", NaN, NaN, NaN, NaN, NaN, NaN, NaN, NaN, NaN, \"NaN\", NaN, NaN, \"NaN\", NaN, NaN, NaN, NaN, NaN, NaN, \"8048\", \"HACH\", \"Reactive Phosphorus in Water\", NaN, \"https://www.nemi.gov/methods/method_summary/4828/\", \"NaN\", \"NaN\", NaN, \"NaN\", \"NaN\", NaN, \"NaN\", NaN, \"2024-09-19T09:12:49\", \"STORET\"], [818, \"WTGHA\", \"Wompanoag Tribe of Gay Head Aquinnah (Tribal)\", \"WTGHA-P1:20200520:SR:B\", \"Sample-Routine\", \"Water\", \"NaN\", \"2020-05-20\", \"NaN\", \"NaN\", \"NaN\", \"NaN\", \"NaN\", \"NaN\", NaN, \"NaN\", \"NaN\", NaN, \"NaN\", NaN, \"NaN\", \"WTGHA\", \"The Wampanoag Tribe of Gay Head Aquinnah\", \"NaN\", \"WTGHA-P1\", \"P1 | Menemsha Perimenter | Lobsterville Beach\", NaN, NaN, NaN, NaN, 41.349306, -70.788056, \"NaN\", \"NaN\", \"NaN\", \"NaN\", \"Bucket\", \"STORET-1041359346\", \"NaN\", \"as P\", \"Phosphated pesticides\", \"Total\", \"0.11\", \"mg/L\", \"NaN\", \"Final\", NaN, \"Actual\", NaN, NaN, NaN, NaN, NaN, NaN, NaN, NaN, NaN, \"NaN\", NaN, NaN, \"NaN\", NaN, NaN, NaN, NaN, NaN, NaN, \"8048\", \"HACH\", \"Reactive Phosphorus in Water\", NaN, \"https://www.nemi.gov/methods/method_summary/4828/\", \"NaN\", \"NaN\", NaN, \"NaN\", \"NaN\", NaN, \"NaN\", NaN, \"2024-09-19T09:12:50\", \"STORET\"], [827, \"WTGHA\", \"Wompanoag Tribe of Gay Head Aquinnah (Tribal)\", \"WTGHA-P2:20200806:SR:B\", \"Sample-Routine\", \"Water\", \"NaN\", \"2020-08-06\", \"NaN\", \"NaN\", \"NaN\", \"NaN\", \"NaN\", \"NaN\", NaN, \"NaN\", \"NaN\", NaN, \"NaN\", NaN, \"NaN\", \"WTGHA\", \"The Wampanoag Tribe of Gay Head Aquinnah\", \"NaN\", \"WTGHA-P2\", \"P2 | Menemsha Perimenter | Menemsha Beach\", NaN, NaN, NaN, NaN, 41.355139, -70.767083, \"NaN\", \"NaN\", \"NaN\", \"NaN\", \"Bucket\", \"STORET-1041359925\", \"NaN\", \"as P\", \"Phosphated pesticides\", \"Total\", \"0.09\", \"mg/L\", \"NaN\", \"Final\", NaN, \"Actual\", NaN, NaN, NaN, NaN, NaN, NaN, NaN, NaN, NaN, \"NaN\", NaN, NaN, \"NaN\", NaN, NaN, NaN, NaN, NaN, NaN, \"8048\", \"HACH\", \"Reactive Phosphorus in Water\", NaN, \"https://www.nemi.gov/methods/method_summary/4828/\", \"NaN\", \"NaN\", NaN, \"NaN\", \"NaN\", NaN, \"NaN\", NaN, \"2024-09-19T09:12:53\", \"STORET\"], [845, \"WTGHA\", \"Wompanoag Tribe of Gay Head Aquinnah (Tribal)\", \"WTGHA-P2:20200204:SR:B\", \"Sample-Routine\", \"Water\", \"NaN\", \"2020-02-04\", \"NaN\", \"NaN\", \"NaN\", \"NaN\", \"NaN\", \"NaN\", NaN, \"NaN\", \"NaN\", NaN, \"NaN\", NaN, \"NaN\", \"WTGHA\", \"The Wampanoag Tribe of Gay Head Aquinnah\", \"NaN\", \"WTGHA-P2\", \"P2 | Menemsha Perimenter | Menemsha Beach\", NaN, NaN, NaN, NaN, 41.355139, -70.767083, \"NaN\", \"NaN\", \"NaN\", \"NaN\", \"Bucket\", \"STORET-1041358682\", \"NaN\", \"as P\", \"Phosphated pesticides\", \"Total\", \"0.1\", \"mg/L\", \"NaN\", \"Final\", NaN, \"Actual\", NaN, NaN, NaN, NaN, NaN, NaN, NaN, NaN, NaN, \"NaN\", NaN, NaN, \"NaN\", NaN, NaN, NaN, NaN, NaN, NaN, \"8048\", \"HACH\", \"Reactive Phosphorus in Water\", NaN, \"https://www.nemi.gov/methods/method_summary/4828/\", \"NaN\", \"NaN\", NaN, \"NaN\", \"NaN\", NaN, \"NaN\", NaN, \"2024-09-19T09:12:47\", \"STORET\"], [892, \"WTGHA\", \"Wompanoag Tribe of Gay Head Aquinnah (Tribal)\", \"WTGHA-P1:20200210:SR:B\", \"Sample-Routine\", \"Water\", \"NaN\", \"2020-02-10\", \"NaN\", \"NaN\", \"NaN\", \"NaN\", \"NaN\", \"NaN\", NaN, \"NaN\", \"NaN\", NaN, \"NaN\", NaN, \"NaN\", \"WTGHA\", \"The Wampanoag Tribe of Gay Head Aquinnah\", \"NaN\", \"WTGHA-P1\", \"P1 | Menemsha Perimenter | Lobsterville Beach\", NaN, NaN, NaN, NaN, 41.349306, -70.788056, \"NaN\", \"NaN\", \"NaN\", \"NaN\", \"Bucket\", \"STORET-1041358738\", \"NaN\", \"as P\", \"Phosphated pesticides\", \"Total\", \"0.08\", \"mg/L\", \"NaN\", \"Final\", NaN, \"Actual\", NaN, NaN, NaN, NaN, NaN, NaN, NaN, NaN, NaN, \"NaN\", NaN, NaN, \"NaN\", NaN, NaN, NaN, NaN, NaN, NaN, \"8048\", \"HACH\", \"Reactive Phosphorus in Water\", NaN, \"https://www.nemi.gov/methods/method_summary/4828/\", \"NaN\", \"NaN\", NaN, \"NaN\", \"NaN\", NaN, \"NaN\", NaN, \"2024-09-19T09:12:48\", \"STORET\"], [899, \"WTGHA\", \"Wompanoag Tribe of Gay Head Aquinnah (Tribal)\", \"WTGHA-P1:20200901:SR:B\", \"Sample-Routine\", \"Water\", \"NaN\", \"2020-09-01\", \"NaN\", \"NaN\", \"NaN\", \"NaN\", \"NaN\", \"NaN\", NaN, \"NaN\", \"NaN\", NaN, \"NaN\", NaN, \"NaN\", \"WTGHA\", \"The Wampanoag Tribe of Gay Head Aquinnah\", \"NaN\", \"WTGHA-P1\", \"P1 | Menemsha Perimenter | Lobsterville Beach\", NaN, NaN, NaN, NaN, 41.349306, -70.788056, \"NaN\", \"NaN\", \"NaN\", \"NaN\", \"Bucket\", \"STORET-1041360123\", \"NaN\", \"as P\", \"Phosphated pesticides\", \"Total\", \"0.09\", \"mg/L\", \"NaN\", \"Final\", NaN, \"Actual\", NaN, NaN, NaN, NaN, NaN, NaN, NaN, NaN, NaN, \"NaN\", NaN, NaN, \"NaN\", NaN, NaN, NaN, NaN, NaN, NaN, \"8048\", \"HACH\", \"Reactive Phosphorus in Water\", NaN, \"https://www.nemi.gov/methods/method_summary/4828/\", \"NaN\", \"NaN\", NaN, \"NaN\", \"NaN\", NaN, \"NaN\", NaN, \"2024-09-19T09:12:54\", \"STORET\"], [975, \"WTGHA\", \"Wompanoag Tribe of Gay Head Aquinnah (Tribal)\", \"WTGHA-P1:20200806:SR:B\", \"Sample-Routine\", \"Water\", \"NaN\", \"2020-08-06\", \"NaN\", \"NaN\", \"NaN\", \"NaN\", \"NaN\", \"NaN\", NaN, \"NaN\", \"NaN\", NaN, \"NaN\", NaN, \"NaN\", \"WTGHA\", \"The Wampanoag Tribe of Gay Head Aquinnah\", \"NaN\", \"WTGHA-P1\", \"P1 | Menemsha Perimenter | Lobsterville Beach\", NaN, NaN, NaN, NaN, 41.349306, -70.788056, \"NaN\", \"NaN\", \"NaN\", \"NaN\", \"Bucket\", \"STORET-1041359913\", \"NaN\", \"as P\", \"Phosphated pesticides\", \"Total\", \"0.57\", \"mg/L\", \"NaN\", \"Final\", NaN, \"Actual\", NaN, NaN, NaN, NaN, NaN, NaN, NaN, NaN, NaN, \"NaN\", NaN, NaN, \"NaN\", NaN, NaN, NaN, NaN, NaN, NaN, \"8048\", \"HACH\", \"Reactive Phosphorus in Water\", NaN, \"https://www.nemi.gov/methods/method_summary/4828/\", \"NaN\", \"NaN\", NaN, \"NaN\", \"NaN\", NaN, \"NaN\", NaN, \"2024-09-19T09:12:53\", \"STORET\"], [996, \"WTGHA\", \"Wompanoag Tribe of Gay Head Aquinnah (Tribal)\", \"WTGHA-P2:20201015:SR:B\", \"Sample-Routine\", \"Water\", \"NaN\", \"2020-10-15\", \"NaN\", \"NaN\", \"NaN\", \"NaN\", \"NaN\", \"NaN\", NaN, \"NaN\", \"NaN\", NaN, \"NaN\", NaN, \"NaN\", \"WTGHA\", \"The Wampanoag Tribe of Gay Head Aquinnah\", \"NaN\", \"WTGHA-P2\", \"P2 | Menemsha Perimenter | Menemsha Beach\", NaN, NaN, NaN, NaN, 41.355139, -70.767083, \"NaN\", \"NaN\", \"NaN\", \"NaN\", \"Bucket\", \"STORET-1041360450\", \"NaN\", \"as P\", \"Phosphated pesticides\", \"Total\", \"0.1\", \"mg/L\", \"NaN\", \"Final\", NaN, \"Actual\", NaN, NaN, NaN, NaN, NaN, NaN, NaN, NaN, NaN, \"NaN\", NaN, NaN, \"NaN\", NaN, NaN, NaN, NaN, NaN, NaN, \"8048\", \"HACH\", \"Reactive Phosphorus in Water\", NaN, \"https://www.nemi.gov/methods/method_summary/4828/\", \"NaN\", \"NaN\", NaN, \"NaN\", \"NaN\", NaN, \"NaN\", NaN, \"2024-09-19T09:12:55\", \"STORET\"], [998, \"WTGHA\", \"Wompanoag Tribe of Gay Head Aquinnah (Tribal)\", \"WTGHA-P2:20201118:SR:B\", \"Sample-Routine\", \"Water\", \"NaN\", \"2020-11-18\", \"NaN\", \"NaN\", \"NaN\", \"NaN\", \"NaN\", \"NaN\", NaN, \"NaN\", \"NaN\", NaN, \"NaN\", NaN, \"NaN\", \"WTGHA\", \"The Wampanoag Tribe of Gay Head Aquinnah\", \"NaN\", \"WTGHA-P2\", \"P2 | Menemsha Perimenter | Menemsha Beach\", NaN, NaN, NaN, NaN, 41.355139, -70.767083, \"NaN\", \"NaN\", \"NaN\", \"NaN\", \"Bucket\", \"STORET-1041360654\", \"NaN\", \"as P\", \"Phosphated pesticides\", \"Total\", \"0.11\", \"mg/L\", \"NaN\", \"Final\", NaN, \"Actual\", NaN, NaN, NaN, NaN, NaN, NaN, NaN, NaN, NaN, \"NaN\", NaN, NaN, \"NaN\", NaN, NaN, NaN, NaN, NaN, NaN, \"8048\", \"HACH\", \"Reactive Phosphorus in Water\", NaN, \"https://www.nemi.gov/methods/method_summary/4828/\", \"NaN\", \"NaN\", NaN, \"NaN\", \"NaN\", NaN, \"NaN\", NaN, \"2024-09-19T09:12:56\", \"STORET\"], [1007, \"WTGHA\", \"Wompanoag Tribe of Gay Head Aquinnah (Tribal)\", \"WTGHA-P2:20200615:SR:B\", \"Sample-Routine\", \"Water\", \"NaN\", \"2020-06-15\", \"NaN\", \"NaN\", \"NaN\", \"NaN\", \"NaN\", \"NaN\", NaN, \"NaN\", \"NaN\", NaN, \"NaN\", NaN, \"NaN\", \"WTGHA\", \"The Wampanoag Tribe of Gay Head Aquinnah\", \"NaN\", \"WTGHA-P2\", \"P2 | Menemsha Perimenter | Menemsha Beach\", NaN, NaN, NaN, NaN, 41.355139, -70.767083, \"NaN\", \"NaN\", \"NaN\", \"NaN\", \"Bucket\", \"STORET-1041359568\", \"NaN\", \"as P\", \"Phosphated pesticides\", \"Total\", \"0.07\", \"mg/L\", \"NaN\", \"Final\", NaN, \"Actual\", NaN, NaN, NaN, NaN, NaN, NaN, NaN, NaN, NaN, \"NaN\", NaN, NaN, \"NaN\", NaN, NaN, NaN, NaN, NaN, NaN, \"8048\", \"HACH\", \"Reactive Phosphorus in Water\", NaN, \"https://www.nemi.gov/methods/method_summary/4828/\", \"NaN\", \"NaN\", NaN, \"NaN\", \"NaN\", NaN, \"NaN\", NaN, \"2024-09-19T09:12:51\", \"STORET\"], [1679, \"WTGHA\", \"Wompanoag Tribe of Gay Head Aquinnah (Tribal)\", \"WTGHA-P2:20200316:SR:B\", \"Sample-Routine\", \"Water\", \"NaN\", \"2020-03-16\", \"NaN\", \"NaN\", \"NaN\", \"NaN\", \"NaN\", \"NaN\", NaN, \"NaN\", \"NaN\", NaN, \"NaN\", NaN, \"NaN\", \"WTGHA\", \"The Wampanoag Tribe of Gay Head Aquinnah\", \"NaN\", \"WTGHA-P2\", \"P2 | Menemsha Perimenter | Menemsha Beach\", NaN, NaN, NaN, NaN, 41.355139, -70.767083, \"NaN\", \"NaN\", \"NaN\", \"NaN\", \"Bucket\", \"STORET-1041359004\", \"NaN\", \"as P\", \"Phosphated pesticides\", \"Total\", \"0.08\", \"mg/L\", \"NaN\", \"Final\", NaN, \"Actual\", NaN, NaN, NaN, NaN, NaN, NaN, NaN, NaN, NaN, \"NaN\", NaN, NaN, \"NaN\", NaN, NaN, NaN, NaN, NaN, NaN, \"8048\", \"HACH\", \"Reactive Phosphorus in Water\", NaN, \"https://www.nemi.gov/methods/method_summary/4828/\", \"NaN\", \"NaN\", NaN, \"NaN\", \"NaN\", NaN, \"NaN\", NaN, \"2024-09-19T09:12:49\", \"STORET\"], [1709, \"WTGHA\", \"Wompanoag Tribe of Gay Head Aquinnah (Tribal)\", \"WTGHA-P2:20200520:SR:B\", \"Sample-Routine\", \"Water\", \"NaN\", \"2020-05-20\", \"NaN\", \"NaN\", \"NaN\", \"NaN\", \"NaN\", \"NaN\", NaN, \"NaN\", \"NaN\", NaN, \"NaN\", NaN, \"NaN\", \"WTGHA\", \"The Wampanoag Tribe of Gay Head Aquinnah\", \"NaN\", \"WTGHA-P2\", \"P2 | Menemsha Perimenter | Menemsha Beach\", NaN, NaN, NaN, NaN, 41.355139, -70.767083, \"NaN\", \"NaN\", \"NaN\", \"NaN\", \"Bucket\", \"STORET-1041359352\", \"NaN\", \"as P\", \"Phosphated pesticides\", \"Total\", \"0.05\", \"mg/L\", \"NaN\", \"Final\", NaN, \"Actual\", NaN, NaN, NaN, NaN, NaN, NaN, NaN, NaN, NaN, \"NaN\", NaN, NaN, \"NaN\", NaN, NaN, NaN, NaN, NaN, NaN, \"8048\", \"HACH\", \"Reactive Phosphorus in Water\", NaN, \"https://www.nemi.gov/methods/method_summary/4828/\", \"NaN\", \"NaN\", NaN, \"NaN\", \"NaN\", NaN, \"NaN\", NaN, \"2024-09-19T09:12:50\", \"STORET\"], [1718, \"WTGHA\", \"Wompanoag Tribe of Gay Head Aquinnah (Tribal)\", \"WTGHA-P2:20200921:SR:B\", \"Sample-Routine\", \"Water\", \"NaN\", \"2020-09-21\", \"NaN\", \"NaN\", \"NaN\", \"NaN\", \"NaN\", \"NaN\", NaN, \"NaN\", \"NaN\", NaN, \"NaN\", NaN, \"NaN\", \"WTGHA\", \"The Wampanoag Tribe of Gay Head Aquinnah\", \"NaN\", \"WTGHA-P2\", \"P2 | Menemsha Perimenter | Menemsha Beach\", NaN, NaN, NaN, NaN, 41.355139, -70.767083, \"NaN\", \"NaN\", \"NaN\", \"NaN\", \"Bucket\", \"STORET-1041360290\", \"NaN\", \"as P\", \"Phosphated pesticides\", \"Total\", \"0.19\", \"mg/L\", \"NaN\", \"Final\", NaN, \"Actual\", NaN, NaN, NaN, NaN, NaN, NaN, NaN, NaN, NaN, \"NaN\", NaN, NaN, \"NaN\", NaN, NaN, NaN, NaN, NaN, NaN, \"8048\", \"HACH\", \"Reactive Phosphorus in Water\", NaN, \"https://www.nemi.gov/methods/method_summary/4828/\", \"NaN\", \"NaN\", NaN, \"NaN\", \"NaN\", NaN, \"NaN\", NaN, \"2024-09-19T09:12:54\", \"STORET\"], [1734, \"WTGHA\", \"Wompanoag Tribe of Gay Head Aquinnah (Tribal)\", \"WTGHA-P2:20200114:SR:B\", \"Sample-Routine\", \"Water\", \"NaN\", \"2020-01-14\", \"NaN\", \"NaN\", \"NaN\", \"NaN\", \"NaN\", \"NaN\", NaN, \"NaN\", \"NaN\", NaN, \"NaN\", NaN, \"NaN\", \"WTGHA\", \"The Wampanoag Tribe of Gay Head Aquinnah\", \"NaN\", \"WTGHA-P2\", \"P2 | Menemsha Perimenter | Menemsha Beach\", NaN, NaN, NaN, NaN, 41.355139, -70.767083, \"NaN\", \"NaN\", \"NaN\", \"NaN\", \"Bucket\", \"STORET-1041358493\", \"NaN\", \"as P\", \"Phosphated pesticides\", \"Total\", \"0.1\", \"mg/L\", \"NaN\", \"Final\", NaN, \"Actual\", NaN, NaN, NaN, NaN, NaN, NaN, NaN, NaN, NaN, \"NaN\", NaN, NaN, \"NaN\", NaN, NaN, NaN, NaN, NaN, NaN, \"8048\", \"HACH\", \"Reactive Phosphorus in Water\", NaN, \"https://www.nemi.gov/methods/method_summary/4828/\", \"NaN\", \"NaN\", NaN, \"NaN\", \"NaN\", NaN, \"NaN\", NaN, \"2024-09-19T09:12:47\", \"STORET\"], [1740, \"WTGHA\", \"Wompanoag Tribe of Gay Head Aquinnah (Tribal)\", \"WTGHA-P2:20201103:SR:B\", \"Sample-Routine\", \"Water\", \"NaN\", \"2020-11-03\", \"NaN\", \"NaN\", \"NaN\", \"NaN\", \"NaN\", \"NaN\", NaN, \"NaN\", \"NaN\", NaN, \"NaN\", NaN, \"NaN\", \"WTGHA\", \"The Wampanoag Tribe of Gay Head Aquinnah\", \"NaN\", \"WTGHA-P2\", \"P2 | Menemsha Perimenter | Menemsha Beach\", NaN, NaN, NaN, NaN, 41.355139, -70.767083, \"NaN\", \"NaN\", \"NaN\", \"NaN\", \"Bucket\", \"STORET-1041360552\", \"NaN\", \"as P\", \"Phosphated pesticides\", \"Total\", \"0.12\", \"mg/L\", \"NaN\", \"Final\", NaN, \"Actual\", NaN, NaN, NaN, NaN, NaN, NaN, NaN, NaN, NaN, \"NaN\", NaN, NaN, \"NaN\", NaN, NaN, NaN, NaN, NaN, NaN, \"8048\", \"HACH\", \"Reactive Phosphorus in Water\", NaN, \"https://www.nemi.gov/methods/method_summary/4828/\", \"NaN\", \"NaN\", NaN, \"NaN\", \"NaN\", NaN, \"NaN\", NaN, \"2024-09-19T09:12:56\", \"STORET\"], [1806, \"WTGHA\", \"Wompanoag Tribe of Gay Head Aquinnah (Tribal)\", \"WTGHA-P1:20200312:SR:B\", \"Sample-Routine\", \"Water\", \"NaN\", \"2020-03-12\", \"NaN\", \"NaN\", \"NaN\", \"NaN\", \"NaN\", \"NaN\", NaN, \"NaN\", \"NaN\", NaN, \"NaN\", NaN, \"NaN\", \"WTGHA\", \"The Wampanoag Tribe of Gay Head Aquinnah\", \"NaN\", \"WTGHA-P1\", \"P1 | Menemsha Perimenter | Lobsterville Beach\", NaN, NaN, NaN, NaN, 41.349306, -70.788056, \"NaN\", \"NaN\", \"NaN\", \"NaN\", \"Bucket\", \"STORET-1041358950\", \"NaN\", \"as P\", \"Phosphated pesticides\", \"Total\", \"0.1\", \"mg/L\", \"NaN\", \"Final\", NaN, \"Actual\", NaN, NaN, NaN, NaN, NaN, NaN, NaN, NaN, NaN, \"NaN\", NaN, NaN, \"NaN\", NaN, NaN, NaN, NaN, NaN, NaN, \"8048\", \"HACH\", \"Reactive Phosphorus in Water\", NaN, \"https://www.nemi.gov/methods/method_summary/4828/\", \"NaN\", \"NaN\", NaN, \"NaN\", \"NaN\", NaN, \"NaN\", NaN, \"2024-09-19T09:12:49\", \"STORET\"], [1808, \"WTGHA\", \"Wompanoag Tribe of Gay Head Aquinnah (Tribal)\", \"WTGHA-P2:20200713:SR:B\", \"Sample-Routine\", \"Water\", \"NaN\", \"2020-07-13\", \"NaN\", \"NaN\", \"NaN\", \"NaN\", \"NaN\", \"NaN\", NaN, \"NaN\", \"NaN\", NaN, \"NaN\", NaN, \"NaN\", \"WTGHA\", \"The Wampanoag Tribe of Gay Head Aquinnah\", \"NaN\", \"WTGHA-P2\", \"P2 | Menemsha Perimenter | Menemsha Beach\", NaN, NaN, NaN, NaN, 41.355139, -70.767083, \"NaN\", \"NaN\", \"NaN\", \"NaN\", \"Bucket\", \"STORET-1041359772\", \"NaN\", \"as P\", \"Phosphated pesticides\", \"Total\", \"0.07\", \"mg/L\", \"NaN\", \"Final\", NaN, \"Actual\", NaN, NaN, NaN, NaN, NaN, NaN, NaN, NaN, NaN, \"NaN\", NaN, NaN, \"NaN\", NaN, NaN, NaN, NaN, NaN, NaN, \"8048\", \"HACH\", \"Reactive Phosphorus in Water\", NaN, \"https://www.nemi.gov/methods/method_summary/4828/\", \"NaN\", \"NaN\", NaN, \"NaN\", \"NaN\", NaN, \"NaN\", NaN, \"2024-09-19T09:12:52\", \"STORET\"], [1813, \"WTGHA\", \"Wompanoag Tribe of Gay Head Aquinnah (Tribal)\", \"WTGHA-P1:20201109:SR:B\", \"Sample-Routine\", \"Water\", \"NaN\", \"2020-11-09\", \"NaN\", \"NaN\", \"NaN\", \"NaN\", \"NaN\", \"NaN\", NaN, \"NaN\", \"NaN\", NaN, \"NaN\", NaN, \"NaN\", \"WTGHA\", \"The Wampanoag Tribe of Gay Head Aquinnah\", \"NaN\", \"WTGHA-P1\", \"P1 | Menemsha Perimenter | Lobsterville Beach\", NaN, NaN, NaN, NaN, 41.349306, -70.788056, \"NaN\", \"NaN\", \"NaN\", \"NaN\", \"Bucket\", \"STORET-1041360600\", \"NaN\", \"as P\", \"Phosphated pesticides\", \"Total\", \"0.13\", \"mg/L\", \"NaN\", \"Final\", NaN, \"Actual\", NaN, NaN, NaN, NaN, NaN, NaN, NaN, NaN, NaN, \"NaN\", NaN, NaN, \"NaN\", NaN, NaN, NaN, NaN, NaN, NaN, \"8048\", \"HACH\", \"Reactive Phosphorus in Water\", NaN, \"https://www.nemi.gov/methods/method_summary/4828/\", \"NaN\", \"NaN\", NaN, \"NaN\", \"NaN\", NaN, \"NaN\", NaN, \"2024-09-19T09:12:56\", \"STORET\"], [1820, \"WTGHA\", \"Wompanoag Tribe of Gay Head Aquinnah (Tribal)\", \"WTGHA-P1:20200921:SR:B\", \"Sample-Routine\", \"Water\", \"NaN\", \"2020-09-21\", \"NaN\", \"NaN\", \"NaN\", \"NaN\", \"NaN\", \"NaN\", NaN, \"NaN\", \"NaN\", NaN, \"NaN\", NaN, \"NaN\", \"WTGHA\", \"The Wampanoag Tribe of Gay Head Aquinnah\", \"NaN\", \"WTGHA-P1\", \"P1 | Menemsha Perimenter | Lobsterville Beach\", NaN, NaN, NaN, NaN, 41.349306, -70.788056, \"NaN\", \"NaN\", \"NaN\", \"NaN\", \"Bucket\", \"STORET-1041360285\", \"NaN\", \"as P\", \"Phosphated pesticides\", \"Total\", \"0.03\", \"mg/L\", \"NaN\", \"Final\", NaN, \"Actual\", NaN, NaN, NaN, NaN, NaN, NaN, NaN, NaN, NaN, \"NaN\", NaN, NaN, \"NaN\", NaN, NaN, NaN, NaN, NaN, NaN, \"8048\", \"HACH\", \"Reactive Phosphorus in Water\", NaN, \"https://www.nemi.gov/methods/method_summary/4828/\", \"NaN\", \"NaN\", NaN, \"NaN\", \"NaN\", NaN, \"NaN\", NaN, \"2024-09-19T09:12:54\", \"STORET\"], [1854, \"WTGHA\", \"Wompanoag Tribe of Gay Head Aquinnah (Tribal)\", \"WTGHA-P2:20200528:SR:B\", \"Sample-Routine\", \"Water\", \"NaN\", \"2020-05-28\", \"NaN\", \"NaN\", \"NaN\", \"NaN\", \"NaN\", \"NaN\", NaN, \"NaN\", \"NaN\", NaN, \"NaN\", NaN, \"NaN\", \"WTGHA\", \"The Wampanoag Tribe of Gay Head Aquinnah\", \"NaN\", \"WTGHA-P2\", \"P2 | Menemsha Perimenter | Menemsha Beach\", NaN, NaN, NaN, NaN, 41.355139, -70.767083, \"NaN\", \"NaN\", \"NaN\", \"NaN\", \"Bucket\", \"STORET-1041359406\", \"NaN\", \"as P\", \"Phosphated pesticides\", \"Total\", \"0.06\", \"mg/L\", \"NaN\", \"Final\", NaN, \"Actual\", NaN, NaN, NaN, NaN, NaN, NaN, NaN, NaN, NaN, \"NaN\", NaN, NaN, \"NaN\", NaN, NaN, NaN, NaN, NaN, NaN, \"8048\", \"HACH\", \"Reactive Phosphorus in Water\", NaN, \"https://www.nemi.gov/methods/method_summary/4828/\", \"NaN\", \"NaN\", NaN, \"NaN\", \"NaN\", NaN, \"NaN\", NaN, \"2024-09-19T09:12:51\", \"STORET\"], [1891, \"WTGHA\", \"Wompanoag Tribe of Gay Head Aquinnah (Tribal)\", \"WTGHA-P2:20200901:SR:B\", \"Sample-Routine\", \"Water\", \"NaN\", \"2020-09-01\", \"NaN\", \"NaN\", \"NaN\", \"NaN\", \"NaN\", \"NaN\", NaN, \"NaN\", \"NaN\", NaN, \"NaN\", NaN, \"NaN\", \"WTGHA\", \"The Wampanoag Tribe of Gay Head Aquinnah\", \"NaN\", \"WTGHA-P2\", \"P2 | Menemsha Perimenter | Menemsha Beach\", NaN, NaN, NaN, NaN, 41.355139, -70.767083, \"NaN\", \"NaN\", \"NaN\", \"NaN\", \"Bucket\", \"STORET-1041360129\", \"NaN\", \"as P\", \"Phosphated pesticides\", \"Total\", \"0.08\", \"mg/L\", \"NaN\", \"Final\", NaN, \"Actual\", NaN, NaN, NaN, NaN, NaN, NaN, NaN, NaN, NaN, \"NaN\", NaN, NaN, \"NaN\", NaN, NaN, NaN, NaN, NaN, NaN, \"8048\", \"HACH\", \"Reactive Phosphorus in Water\", NaN, \"https://www.nemi.gov/methods/method_summary/4828/\", \"NaN\", \"NaN\", NaN, \"NaN\", \"NaN\", NaN, \"NaN\", NaN, \"2024-09-19T09:12:54\", \"STORET\"], [1917, \"WTGHA\", \"Wompanoag Tribe of Gay Head Aquinnah (Tribal)\", \"WTGHA-P1:20200129:SR:B\", \"Sample-Routine\", \"Water\", \"NaN\", \"2020-01-29\", \"NaN\", \"NaN\", \"NaN\", \"NaN\", \"NaN\", \"NaN\", NaN, \"NaN\", \"NaN\", NaN, \"NaN\", NaN, \"NaN\", \"WTGHA\", \"The Wampanoag Tribe of Gay Head Aquinnah\", \"NaN\", \"WTGHA-P1\", \"P1 | Menemsha Perimenter | Lobsterville Beach\", NaN, NaN, NaN, NaN, 41.349306, -70.788056, \"NaN\", \"NaN\", \"NaN\", \"NaN\", \"Bucket\", \"STORET-1041358612\", \"NaN\", \"as P\", \"Phosphated pesticides\", \"Total\", \"0.12\", \"mg/L\", \"NaN\", \"Final\", NaN, \"Actual\", NaN, NaN, NaN, NaN, NaN, NaN, NaN, NaN, NaN, \"NaN\", NaN, NaN, \"NaN\", NaN, NaN, NaN, NaN, NaN, NaN, \"8048\", \"HACH\", \"Reactive Phosphorus in Water\", NaN, \"https://www.nemi.gov/methods/method_summary/4828/\", \"NaN\", \"NaN\", NaN, \"NaN\", \"NaN\", NaN, \"NaN\", NaN, \"2024-09-19T09:12:47\", \"STORET\"], [2208, \"WTGHA\", \"Wompanoag Tribe of Gay Head Aquinnah (Tribal)\", \"WTGHA-P2:20210217:SR:B\", \"Sample-Routine\", \"Water\", \"NaN\", \"2021-02-17\", \"NaN\", \"NaN\", \"NaN\", \"NaN\", \"NaN\", \"NaN\", NaN, \"NaN\", \"NaN\", NaN, \"NaN\", NaN, \"NaN\", \"WTGHA\", \"The Wampanoag Tribe of Gay Head Aquinnah\", \"NaN\", \"WTGHA-P2\", \"P2 | Menemsha Perimenter | Menemsha Beach\", NaN, NaN, NaN, NaN, 41.355139, -70.767083, \"NaN\", \"NaN\", \"NaN\", \"NaN\", \"Bucket\", \"STORET-1041360816\", \"NaN\", \"as P\", \"Phosphated pesticides\", \"Total\", \"0.11\", \"mg/L\", \"NaN\", \"Final\", NaN, \"Actual\", NaN, NaN, NaN, NaN, NaN, NaN, NaN, NaN, NaN, \"NaN\", NaN, NaN, \"NaN\", NaN, NaN, NaN, NaN, NaN, NaN, \"8048\", \"HACH\", \"Reactive Phosphorus in Water\", NaN, \"https://www.nemi.gov/methods/method_summary/4828/\", \"NaN\", \"NaN\", NaN, \"NaN\", \"NaN\", NaN, \"NaN\", NaN, \"2024-09-19T09:12:57\", \"STORET\"], [2323, \"WTGHA\", \"Wompanoag Tribe of Gay Head Aquinnah (Tribal)\", \"WTGHA-P2:20210624:SR:B\", \"Sample-Routine\", \"Water\", \"NaN\", \"2021-06-24\", \"NaN\", \"NaN\", \"NaN\", \"NaN\", \"NaN\", \"NaN\", NaN, \"NaN\", \"NaN\", NaN, \"NaN\", NaN, \"NaN\", \"WTGHA\", \"The Wampanoag Tribe of Gay Head Aquinnah\", \"NaN\", \"WTGHA-P2\", \"P2 | Menemsha Perimenter | Menemsha Beach\", NaN, NaN, NaN, NaN, 41.355139, -70.767083, \"NaN\", \"NaN\", \"NaN\", \"NaN\", \"Bucket\", \"STORET-1041360994\", \"NaN\", \"as P\", \"Phosphated pesticides\", \"Total\", \"0.06\", \"mg/L\", \"NaN\", \"Final\", NaN, \"Actual\", NaN, NaN, NaN, NaN, NaN, NaN, NaN, NaN, NaN, \"NaN\", NaN, NaN, \"NaN\", NaN, NaN, NaN, NaN, NaN, NaN, \"8048\", \"HACH\", \"Reactive Phosphorus in Water\", NaN, \"https://www.nemi.gov/methods/method_summary/4828/\", \"NaN\", \"NaN\", NaN, \"NaN\", \"NaN\", NaN, \"NaN\", NaN, \"2024-09-19T09:12:58\", \"STORET\"], [2388, \"WTGHA\", \"Wompanoag Tribe of Gay Head Aquinnah (Tribal)\", \"WTGHA-P1:20210914:SR:B\", \"Sample-Routine\", \"Water\", \"NaN\", \"2021-09-14\", \"NaN\", \"NaN\", \"NaN\", \"NaN\", \"NaN\", \"NaN\", NaN, \"NaN\", \"NaN\", NaN, \"NaN\", NaN, \"NaN\", \"WTGHA\", \"The Wampanoag Tribe of Gay Head Aquinnah\", \"NaN\", \"WTGHA-P1\", \"P1 | Menemsha Perimenter | Lobsterville Beach\", NaN, NaN, NaN, NaN, 41.349306, -70.788056, \"NaN\", \"NaN\", \"NaN\", \"NaN\", \"Bucket\", \"STORET-1041361179\", \"NaN\", \"as P\", \"Phosphated pesticides\", \"Total\", \"0.1\", \"mg/L\", \"NaN\", \"Final\", NaN, \"Actual\", NaN, NaN, NaN, NaN, NaN, NaN, NaN, NaN, NaN, \"NaN\", NaN, NaN, \"NaN\", NaN, NaN, NaN, NaN, NaN, NaN, \"8048\", \"HACH\", \"Reactive Phosphorus in Water\", NaN, \"https://www.nemi.gov/methods/method_summary/4828/\", \"NaN\", \"NaN\", NaN, \"NaN\", \"NaN\", NaN, \"NaN\", NaN, \"2024-09-19T09:12:59\", \"STORET\"], [2396, \"WTGHA\", \"Wompanoag Tribe of Gay Head Aquinnah (Tribal)\", \"WTGHA-P2:20210914:SR:B\", \"Sample-Routine\", \"Water\", \"NaN\", \"2021-09-14\", \"NaN\", \"NaN\", \"NaN\", \"NaN\", \"NaN\", \"NaN\", NaN, \"NaN\", \"NaN\", NaN, \"NaN\", NaN, \"NaN\", \"WTGHA\", \"The Wampanoag Tribe of Gay Head Aquinnah\", \"NaN\", \"WTGHA-P2\", \"P2 | Menemsha Perimenter | Menemsha Beach\", NaN, NaN, NaN, NaN, 41.355139, -70.767083, \"NaN\", \"NaN\", \"NaN\", \"NaN\", \"Bucket\", \"STORET-1041361184\", \"NaN\", \"as P\", \"Phosphated pesticides\", \"Total\", \"0.11\", \"mg/L\", \"NaN\", \"Final\", NaN, \"Actual\", NaN, NaN, NaN, NaN, NaN, NaN, NaN, NaN, NaN, \"NaN\", NaN, NaN, \"NaN\", NaN, NaN, NaN, NaN, NaN, NaN, \"8048\", \"HACH\", \"Reactive Phosphorus in Water\", NaN, \"https://www.nemi.gov/methods/method_summary/4828/\", \"NaN\", \"NaN\", NaN, \"NaN\", \"NaN\", NaN, \"NaN\", NaN, \"2024-09-19T09:12:59\", \"STORET\"], [2462, \"WTGHA\", \"Wompanoag Tribe of Gay Head Aquinnah (Tribal)\", \"WTGHA-P1:20210624:SR:B\", \"Sample-Routine\", \"Water\", \"NaN\", \"2021-06-24\", \"NaN\", \"NaN\", \"NaN\", \"NaN\", \"NaN\", \"NaN\", NaN, \"NaN\", \"NaN\", NaN, \"NaN\", NaN, \"NaN\", \"WTGHA\", \"The Wampanoag Tribe of Gay Head Aquinnah\", \"NaN\", \"WTGHA-P1\", \"P1 | Menemsha Perimenter | Lobsterville Beach\", NaN, NaN, NaN, NaN, 41.349306, -70.788056, \"NaN\", \"NaN\", \"NaN\", \"NaN\", \"Bucket\", \"STORET-1041360989\", \"NaN\", \"as P\", \"Phosphated pesticides\", \"Total\", \"0.11\", \"mg/L\", \"NaN\", \"Final\", NaN, \"Actual\", NaN, NaN, NaN, NaN, NaN, NaN, NaN, NaN, NaN, \"NaN\", NaN, NaN, \"NaN\", NaN, NaN, NaN, NaN, NaN, NaN, \"8048\", \"HACH\", \"Reactive Phosphorus in Water\", NaN, \"https://www.nemi.gov/methods/method_summary/4828/\", \"NaN\", \"NaN\", NaN, \"NaN\", \"NaN\", NaN, \"NaN\", NaN, \"2024-09-19T09:12:58\", \"STORET\"], [2466, \"WTGHA\", \"Wompanoag Tribe of Gay Head Aquinnah (Tribal)\", \"WTGHA-P2:20210119:SR:B\", \"Sample-Routine\", \"Water\", \"NaN\", \"2021-01-19\", \"NaN\", \"NaN\", \"NaN\", \"NaN\", \"NaN\", \"NaN\", NaN, \"NaN\", \"NaN\", NaN, \"NaN\", NaN, \"NaN\", \"WTGHA\", \"The Wampanoag Tribe of Gay Head Aquinnah\", \"NaN\", \"WTGHA-P2\", \"P2 | Menemsha Perimenter | Menemsha Beach\", NaN, NaN, NaN, NaN, 41.355139, -70.767083, \"NaN\", \"NaN\", \"NaN\", \"NaN\", \"Bucket\", \"STORET-1041360762\", \"NaN\", \"as P\", \"Phosphated pesticides\", \"Total\", \"0.09\", \"mg/L\", \"NaN\", \"Final\", NaN, \"Actual\", NaN, NaN, NaN, NaN, NaN, NaN, NaN, NaN, NaN, \"NaN\", NaN, NaN, \"NaN\", NaN, NaN, NaN, NaN, NaN, NaN, \"8048\", \"HACH\", \"Reactive Phosphorus in Water\", NaN, \"https://www.nemi.gov/methods/method_summary/4828/\", \"NaN\", \"NaN\", NaN, \"NaN\", \"NaN\", NaN, \"NaN\", NaN, \"2024-09-19T09:12:57\", \"STORET\"], [2485, \"WTGHA\", \"Wompanoag Tribe of Gay Head Aquinnah (Tribal)\", \"WTGHA-P2:20210426:SR:B\", \"Sample-Routine\", \"Water\", \"NaN\", \"2021-04-26\", \"NaN\", \"NaN\", \"NaN\", \"NaN\", \"NaN\", \"NaN\", NaN, \"NaN\", \"NaN\", NaN, \"NaN\", NaN, \"NaN\", \"WTGHA\", \"The Wampanoag Tribe of Gay Head Aquinnah\", \"NaN\", \"WTGHA-P2\", \"P2 | Menemsha Perimenter | Menemsha Beach\", NaN, NaN, NaN, NaN, 41.355139, -70.767083, \"NaN\", \"NaN\", \"NaN\", \"NaN\", \"Bucket\", \"STORET-1041360897\", \"NaN\", \"as P\", \"Phosphated pesticides\", \"Total\", \"0.06\", \"mg/L\", \"NaN\", \"Final\", NaN, \"Actual\", NaN, NaN, NaN, NaN, NaN, NaN, NaN, NaN, NaN, \"NaN\", NaN, NaN, \"NaN\", NaN, NaN, NaN, NaN, NaN, NaN, \"8048\", \"HACH\", \"Reactive Phosphorus in Water\", NaN, \"https://www.nemi.gov/methods/method_summary/4828/\", \"NaN\", \"NaN\", NaN, \"NaN\", \"NaN\", NaN, \"NaN\", NaN, \"2024-09-19T09:12:57\", \"STORET\"], [2719, \"WTGHA\", \"Wompanoag Tribe of Gay Head Aquinnah (Tribal)\", \"WTGHA-P1:20210524:SR:B\", \"Sample-Routine\", \"Water\", \"NaN\", \"2021-05-24\", \"NaN\", \"NaN\", \"NaN\", \"NaN\", \"NaN\", \"NaN\", NaN, \"NaN\", \"NaN\", NaN, \"NaN\", NaN, \"NaN\", \"WTGHA\", \"The Wampanoag Tribe of Gay Head Aquinnah\", \"NaN\", \"WTGHA-P1\", \"P1 | Menemsha Perimenter | Lobsterville Beach\", NaN, NaN, NaN, NaN, 41.349306, -70.788056, \"NaN\", \"NaN\", \"NaN\", \"NaN\", \"Bucket\", \"STORET-1041360944\", \"NaN\", \"as P\", \"Phosphated pesticides\", \"Total\", \"0.22\", \"mg/L\", \"NaN\", \"Final\", NaN, \"Actual\", NaN, NaN, NaN, NaN, NaN, NaN, NaN, NaN, NaN, \"NaN\", NaN, NaN, \"NaN\", NaN, NaN, NaN, NaN, NaN, NaN, \"8048\", \"HACH\", \"Reactive Phosphorus in Water\", NaN, \"https://www.nemi.gov/methods/method_summary/4828/\", \"NaN\", \"NaN\", NaN, \"NaN\", \"NaN\", NaN, \"NaN\", NaN, \"2024-09-19T09:12:57\", \"STORET\"], [2872, \"WTGHA\", \"Wompanoag Tribe of Gay Head Aquinnah (Tribal)\", \"WTGHA-P1:20210809:SR:B\", \"Sample-Routine\", \"Water\", \"NaN\", \"2021-08-09\", \"NaN\", \"NaN\", \"NaN\", \"NaN\", \"NaN\", \"NaN\", NaN, \"NaN\", \"NaN\", NaN, \"NaN\", NaN, \"NaN\", \"WTGHA\", \"The Wampanoag Tribe of Gay Head Aquinnah\", \"NaN\", \"WTGHA-P1\", \"P1 | Menemsha Perimenter | Lobsterville Beach\", NaN, NaN, NaN, NaN, 41.349306, -70.788056, \"NaN\", \"NaN\", \"NaN\", \"NaN\", \"Bucket\", \"STORET-1041361134\", \"NaN\", \"as P\", \"Phosphated pesticides\", \"Total\", \"0.11\", \"mg/L\", \"NaN\", \"Final\", NaN, \"Actual\", NaN, NaN, NaN, NaN, NaN, NaN, NaN, NaN, NaN, \"NaN\", NaN, NaN, \"NaN\", NaN, NaN, NaN, NaN, NaN, NaN, \"8048\", \"HACH\", \"Reactive Phosphorus in Water\", NaN, \"https://www.nemi.gov/methods/method_summary/4828/\", \"NaN\", \"NaN\", NaN, \"NaN\", \"NaN\", NaN, \"NaN\", NaN, \"2024-09-19T09:12:58\", \"STORET\"], [3039, \"WTGHA\", \"Wompanoag Tribe of Gay Head Aquinnah (Tribal)\", \"WTGHA-P1:20210217:SR:B\", \"Sample-Routine\", \"Water\", \"NaN\", \"2021-02-17\", \"NaN\", \"NaN\", \"NaN\", \"NaN\", \"NaN\", \"NaN\", NaN, \"NaN\", \"NaN\", NaN, \"NaN\", NaN, \"NaN\", \"WTGHA\", \"The Wampanoag Tribe of Gay Head Aquinnah\", \"NaN\", \"WTGHA-P1\", \"P1 | Menemsha Perimenter | Lobsterville Beach\", NaN, NaN, NaN, NaN, 41.349306, -70.788056, \"NaN\", \"NaN\", \"NaN\", \"NaN\", \"Bucket\", \"STORET-1041360810\", \"NaN\", \"as P\", \"Phosphated pesticides\", \"Total\", \"0.13\", \"mg/L\", \"NaN\", \"Final\", NaN, \"Actual\", NaN, NaN, NaN, NaN, NaN, NaN, NaN, NaN, NaN, \"NaN\", NaN, NaN, \"NaN\", NaN, NaN, NaN, NaN, NaN, NaN, \"8048\", \"HACH\", \"Reactive Phosphorus in Water\", NaN, \"https://www.nemi.gov/methods/method_summary/4828/\", \"NaN\", \"NaN\", NaN, \"NaN\", \"NaN\", NaN, \"NaN\", NaN, \"2024-09-19T09:12:57\", \"STORET\"], [3063, \"WTGHA\", \"Wompanoag Tribe of Gay Head Aquinnah (Tribal)\", \"WTGHA-P1:20210426:SR:B\", \"Sample-Routine\", \"Water\", \"NaN\", \"2021-04-26\", \"NaN\", \"NaN\", \"NaN\", \"NaN\", \"NaN\", \"NaN\", NaN, \"NaN\", \"NaN\", NaN, \"NaN\", NaN, \"NaN\", \"WTGHA\", \"The Wampanoag Tribe of Gay Head Aquinnah\", \"NaN\", \"WTGHA-P1\", \"P1 | Menemsha Perimenter | Lobsterville Beach\", NaN, NaN, NaN, NaN, 41.349306, -70.788056, \"NaN\", \"NaN\", \"NaN\", \"NaN\", \"Bucket\", \"STORET-1041360891\", \"NaN\", \"as P\", \"Phosphated pesticides\", \"Total\", \"0.18\", \"mg/L\", \"NaN\", \"Final\", NaN, \"Actual\", NaN, NaN, NaN, NaN, NaN, NaN, NaN, NaN, NaN, \"NaN\", NaN, NaN, \"NaN\", NaN, NaN, NaN, NaN, NaN, NaN, \"8048\", \"HACH\", \"Reactive Phosphorus in Water\", NaN, \"https://www.nemi.gov/methods/method_summary/4828/\", \"NaN\", \"NaN\", NaN, \"NaN\", \"NaN\", NaN, \"NaN\", NaN, \"2024-09-19T09:12:57\", \"STORET\"], [3117, \"WTGHA\", \"Wompanoag Tribe of Gay Head Aquinnah (Tribal)\", \"WTGHA-P1:20210119:SR:B\", \"Sample-Routine\", \"Water\", \"NaN\", \"2021-01-19\", \"NaN\", \"NaN\", \"NaN\", \"NaN\", \"NaN\", \"NaN\", NaN, \"NaN\", \"NaN\", NaN, \"NaN\", NaN, \"NaN\", \"WTGHA\", \"The Wampanoag Tribe of Gay Head Aquinnah\", \"NaN\", \"WTGHA-P1\", \"P1 | Menemsha Perimenter | Lobsterville Beach\", NaN, NaN, NaN, NaN, 41.349306, -70.788056, \"NaN\", \"NaN\", \"NaN\", \"NaN\", \"Bucket\", \"STORET-1041360756\", \"NaN\", \"as P\", \"Phosphated pesticides\", \"Total\", \"0.22\", \"mg/L\", \"NaN\", \"Final\", NaN, \"Actual\", NaN, NaN, NaN, NaN, NaN, NaN, NaN, NaN, NaN, \"NaN\", NaN, NaN, \"NaN\", NaN, NaN, NaN, NaN, NaN, NaN, \"8048\", \"HACH\", \"Reactive Phosphorus in Water\", NaN, \"https://www.nemi.gov/methods/method_summary/4828/\", \"NaN\", \"NaN\", NaN, \"NaN\", \"NaN\", NaN, \"NaN\", NaN, \"2024-09-19T09:12:57\", \"STORET\"], [3297, \"WTGHA\", \"Wompanoag Tribe of Gay Head Aquinnah (Tribal)\", \"WTGHA-P2:20210524:SR:B\", \"Sample-Routine\", \"Water\", \"NaN\", \"2021-05-24\", \"NaN\", \"NaN\", \"NaN\", \"NaN\", \"NaN\", \"NaN\", NaN, \"NaN\", \"NaN\", NaN, \"NaN\", NaN, \"NaN\", \"WTGHA\", \"The Wampanoag Tribe of Gay Head Aquinnah\", \"NaN\", \"WTGHA-P2\", \"P2 | Menemsha Perimenter | Menemsha Beach\", NaN, NaN, NaN, NaN, 41.355139, -70.767083, \"NaN\", \"NaN\", \"NaN\", \"NaN\", \"Bucket\", \"STORET-1041360949\", \"NaN\", \"as P\", \"Phosphated pesticides\", \"Total\", \"0.07\", \"mg/L\", \"NaN\", \"Final\", NaN, \"Actual\", NaN, NaN, NaN, NaN, NaN, NaN, NaN, NaN, NaN, \"NaN\", NaN, NaN, \"NaN\", NaN, NaN, NaN, NaN, NaN, NaN, \"8048\", \"HACH\", \"Reactive Phosphorus in Water\", NaN, \"https://www.nemi.gov/methods/method_summary/4828/\", \"NaN\", \"NaN\", NaN, \"NaN\", \"NaN\", NaN, \"NaN\", NaN, \"2024-09-19T09:12:57\", \"STORET\"], [3326, \"WTGHA\", \"Wompanoag Tribe of Gay Head Aquinnah (Tribal)\", \"WTGHA-P2:20210809:SR:B\", \"Sample-Routine\", \"Water\", \"NaN\", \"2021-08-09\", \"NaN\", \"NaN\", \"NaN\", \"NaN\", \"NaN\", \"NaN\", NaN, \"NaN\", \"NaN\", NaN, \"NaN\", NaN, \"NaN\", \"WTGHA\", \"The Wampanoag Tribe of Gay Head Aquinnah\", \"NaN\", \"WTGHA-P2\", \"P2 | Menemsha Perimenter | Menemsha Beach\", NaN, NaN, NaN, NaN, 41.355139, -70.767083, \"NaN\", \"NaN\", \"NaN\", \"NaN\", \"Bucket\", \"STORET-1041361139\", \"NaN\", \"as P\", \"Phosphated pesticides\", \"Total\", \"0.12\", \"mg/L\", \"NaN\", \"Final\", NaN, \"Actual\", NaN, NaN, NaN, NaN, NaN, NaN, NaN, NaN, NaN, \"NaN\", NaN, NaN, \"NaN\", NaN, NaN, NaN, NaN, NaN, NaN, \"8048\", \"HACH\", \"Reactive Phosphorus in Water\", NaN, \"https://www.nemi.gov/methods/method_summary/4828/\", \"NaN\", \"NaN\", NaN, \"NaN\", \"NaN\", NaN, \"NaN\", NaN, \"2024-09-19T09:12:58\", \"STORET\"], [3466, \"WTGHA\", \"Wompanoag Tribe of Gay Head Aquinnah (Tribal)\", \"WTGHA-P2:20220222:SR:B\", \"Sample-Routine\", \"Water\", \"NaN\", \"2022-02-22\", \"NaN\", \"NaN\", \"NaN\", \"NaN\", \"NaN\", \"NaN\", NaN, \"NaN\", \"NaN\", NaN, \"NaN\", NaN, \"NaN\", \"WTGHA\", \"The Wampanoag Tribe of Gay Head Aquinnah\", \"NaN\", \"WTGHA-P2\", \"P2 | Menemsha Perimenter | Menemsha Beach\", NaN, NaN, NaN, NaN, 41.355139, -70.767083, \"NaN\", \"NaN\", \"NaN\", \"NaN\", \"Bucket\", \"STORET-1041361341\", \"NaN\", \"as P\", \"Phosphated pesticides\", \"Total\", \"0.13\", \"mg/L\", \"NaN\", \"Final\", NaN, \"Actual\", NaN, NaN, NaN, NaN, NaN, NaN, NaN, NaN, NaN, \"NaN\", NaN, NaN, \"NaN\", NaN, NaN, NaN, NaN, NaN, NaN, \"8048\", \"HACH\", \"Reactive Phosphorus in Water\", NaN, \"https://www.nemi.gov/methods/method_summary/4828/\", \"NaN\", \"NaN\", NaN, \"NaN\", \"NaN\", NaN, \"NaN\", NaN, \"2024-09-19T09:12:59\", \"STORET\"], [3477, \"WTGHA\", \"Wompanoag Tribe of Gay Head Aquinnah (Tribal)\", \"WTGHA-P1:20220613:SR:B\", \"Sample-Routine\", \"Water\", \"NaN\", \"2022-06-13\", \"NaN\", \"NaN\", \"NaN\", \"NaN\", \"NaN\", \"NaN\", NaN, \"NaN\", \"NaN\", NaN, \"NaN\", NaN, \"NaN\", \"WTGHA\", \"The Wampanoag Tribe of Gay Head Aquinnah\", \"NaN\", \"WTGHA-P1\", \"P1 | Menemsha Perimenter | Lobsterville Beach\", NaN, NaN, NaN, NaN, 41.349306, -70.788056, \"NaN\", \"NaN\", \"NaN\", \"NaN\", \"Bucket\", \"STORET-1041361426\", \"NaN\", \"as P\", \"Phosphated pesticides\", \"Total\", \"0.11\", \"mg/L\", \"NaN\", \"Final\", NaN, \"Actual\", NaN, NaN, NaN, NaN, NaN, NaN, NaN, NaN, NaN, \"NaN\", NaN, NaN, \"NaN\", NaN, NaN, NaN, NaN, NaN, NaN, \"8048\", \"HACH\", \"Reactive Phosphorus in Water\", NaN, \"https://www.nemi.gov/methods/method_summary/4828/\", \"NaN\", \"NaN\", NaN, \"NaN\", \"NaN\", NaN, \"NaN\", NaN, \"2024-09-19T09:13:00\", \"STORET\"], [3905, \"WTGHA\", \"Wompanoag Tribe of Gay Head Aquinnah (Tribal)\", \"WTGHA-P2:20220801:SR:B\", \"Sample-Routine\", \"Water\", \"NaN\", \"2022-08-01\", \"NaN\", \"NaN\", \"NaN\", \"NaN\", \"NaN\", \"NaN\", NaN, \"NaN\", \"NaN\", NaN, \"NaN\", NaN, \"NaN\", \"WTGHA\", \"The Wampanoag Tribe of Gay Head Aquinnah\", \"NaN\", \"WTGHA-P2\", \"P2 | Menemsha Perimenter | Menemsha Beach\", NaN, NaN, NaN, NaN, 41.355139, -70.767083, \"NaN\", \"NaN\", \"NaN\", \"NaN\", \"Bucket\", \"STORET-1041361662\", \"NaN\", \"as P\", \"Phosphated pesticides\", \"Total\", \"0.09\", \"mg/L\", \"NaN\", \"Final\", NaN, \"Actual\", NaN, NaN, NaN, NaN, NaN, NaN, NaN, NaN, NaN, \"NaN\", NaN, NaN, \"NaN\", NaN, NaN, NaN, NaN, NaN, NaN, \"8048\", \"HACH\", \"Reactive Phosphorus in Water\", NaN, \"https://www.nemi.gov/methods/method_summary/4828/\", \"NaN\", \"NaN\", NaN, \"NaN\", \"NaN\", NaN, \"NaN\", NaN, \"2024-09-19T09:13:01\", \"STORET\"], [4080, \"WTGHA\", \"Wompanoag Tribe of Gay Head Aquinnah (Tribal)\", \"WTGHA-P1:20220801:SR:B\", \"Sample-Routine\", \"Water\", \"NaN\", \"2022-08-01\", \"NaN\", \"NaN\", \"NaN\", \"NaN\", \"NaN\", \"NaN\", NaN, \"NaN\", \"NaN\", NaN, \"NaN\", NaN, \"NaN\", \"WTGHA\", \"The Wampanoag Tribe of Gay Head Aquinnah\", \"NaN\", \"WTGHA-P1\", \"P1 | Menemsha Perimenter | Lobsterville Beach\", NaN, NaN, NaN, NaN, 41.349306, -70.788056, \"NaN\", \"NaN\", \"NaN\", \"NaN\", \"Bucket\", \"STORET-1041361658\", \"NaN\", \"as P\", \"Phosphated pesticides\", \"Total\", \"0.1\", \"mg/L\", \"NaN\", \"Final\", NaN, \"Actual\", NaN, NaN, NaN, NaN, NaN, NaN, NaN, NaN, NaN, \"NaN\", NaN, NaN, \"NaN\", NaN, NaN, NaN, NaN, NaN, NaN, \"8048\", \"HACH\", \"Reactive Phosphorus in Water\", NaN, \"https://www.nemi.gov/methods/method_summary/4828/\", \"NaN\", \"NaN\", NaN, \"NaN\", \"NaN\", NaN, \"NaN\", NaN, \"2024-09-19T09:13:01\", \"STORET\"], [4234, \"WTGHA\", \"Wompanoag Tribe of Gay Head Aquinnah (Tribal)\", \"WTGHA-P2:20220613:SR:B\", \"Sample-Routine\", \"Water\", \"NaN\", \"2022-06-13\", \"NaN\", \"NaN\", \"NaN\", \"NaN\", \"NaN\", \"NaN\", NaN, \"NaN\", \"NaN\", NaN, \"NaN\", NaN, \"NaN\", \"WTGHA\", \"The Wampanoag Tribe of Gay Head Aquinnah\", \"NaN\", \"WTGHA-P2\", \"P2 | Menemsha Perimenter | Menemsha Beach\", NaN, NaN, NaN, NaN, 41.355139, -70.767083, \"NaN\", \"NaN\", \"NaN\", \"NaN\", \"Bucket\", \"STORET-1041361431\", \"NaN\", \"as P\", \"Phosphated pesticides\", \"Total\", \"0.18\", \"mg/L\", \"NaN\", \"Final\", NaN, \"Actual\", NaN, NaN, NaN, NaN, NaN, NaN, NaN, NaN, NaN, \"NaN\", NaN, NaN, \"NaN\", NaN, NaN, NaN, NaN, NaN, NaN, \"8048\", \"HACH\", \"Reactive Phosphorus in Water\", NaN, \"https://www.nemi.gov/methods/method_summary/4828/\", \"NaN\", \"NaN\", NaN, \"NaN\", \"NaN\", NaN, \"NaN\", NaN, \"2024-09-19T09:13:00\", \"STORET\"], [4247, \"WTGHA\", \"Wompanoag Tribe of Gay Head Aquinnah (Tribal)\", \"WTGHA-P2:20220705:SR:B\", \"Sample-Routine\", \"Water\", \"NaN\", \"2022-07-05\", \"NaN\", \"NaN\", \"NaN\", \"NaN\", \"NaN\", \"NaN\", NaN, \"NaN\", \"NaN\", NaN, \"NaN\", NaN, \"NaN\", \"WTGHA\", \"The Wampanoag Tribe of Gay Head Aquinnah\", \"NaN\", \"WTGHA-P2\", \"P2 | Menemsha Perimenter | Menemsha Beach\", NaN, NaN, NaN, NaN, 41.355139, -70.767083, \"NaN\", \"NaN\", \"NaN\", \"NaN\", \"Bucket\", \"STORET-1041361538\", \"NaN\", \"as P\", \"Phosphated pesticides\", \"Total\", \"0.07\", \"mg/L\", \"NaN\", \"Final\", NaN, \"Actual\", NaN, NaN, NaN, NaN, NaN, NaN, NaN, NaN, NaN, \"NaN\", NaN, NaN, \"NaN\", NaN, NaN, NaN, NaN, NaN, NaN, \"8048\", \"HACH\", \"Reactive Phosphorus in Water\", NaN, \"https://www.nemi.gov/methods/method_summary/4828/\", \"NaN\", \"NaN\", NaN, \"NaN\", \"NaN\", NaN, \"NaN\", NaN, \"2024-09-19T09:13:01\", \"STORET\"], [4293, \"WTGHA\", \"Wompanoag Tribe of Gay Head Aquinnah (Tribal)\", \"WTGHA-P1:20220105:SR:B\", \"Sample-Routine\", \"Water\", \"NaN\", \"2022-01-05\", \"NaN\", \"NaN\", \"NaN\", \"NaN\", \"NaN\", \"NaN\", NaN, \"NaN\", \"NaN\", NaN, \"NaN\", NaN, \"NaN\", \"WTGHA\", \"The Wampanoag Tribe of Gay Head Aquinnah\", \"NaN\", \"WTGHA-P1\", \"P1 | Menemsha Perimenter | Lobsterville Beach\", NaN, NaN, NaN, NaN, 41.349306, -70.788056, \"NaN\", \"NaN\", \"NaN\", \"NaN\", \"Bucket\", \"STORET-1041361294\", \"NaN\", \"as P\", \"Phosphated pesticides\", \"Total\", \"0.12\", \"mg/L\", \"NaN\", \"Final\", NaN, \"Actual\", NaN, NaN, NaN, NaN, NaN, NaN, NaN, NaN, NaN, \"NaN\", NaN, NaN, \"NaN\", NaN, NaN, NaN, NaN, NaN, NaN, \"8048\", \"HACH\", \"Reactive Phosphorus in Water\", NaN, \"https://www.nemi.gov/methods/method_summary/4828/\", \"NaN\", \"NaN\", NaN, \"NaN\", \"NaN\", NaN, \"NaN\", NaN, \"2024-09-19T09:12:59\", \"STORET\"], [4590, \"WTGHA\", \"Wompanoag Tribe of Gay Head Aquinnah (Tribal)\", \"WTGHA-P2:20220412:SR:B\", \"Sample-Routine\", \"Water\", \"NaN\", \"2022-04-12\", \"NaN\", \"NaN\", \"NaN\", \"NaN\", \"NaN\", \"NaN\", NaN, \"NaN\", \"NaN\", NaN, \"NaN\", NaN, \"NaN\", \"WTGHA\", \"The Wampanoag Tribe of Gay Head Aquinnah\", \"NaN\", \"WTGHA-P2\", \"P2 | Menemsha Perimenter | Menemsha Beach\", NaN, NaN, NaN, NaN, 41.355139, -70.767083, \"NaN\", \"NaN\", \"NaN\", \"NaN\", \"Bucket\", \"STORET-1041361394\", \"NaN\", \"as P\", \"Phosphated pesticides\", \"Total\", \"0.07\", \"mg/L\", \"NaN\", \"Final\", NaN, \"Actual\", NaN, NaN, NaN, NaN, NaN, NaN, NaN, NaN, NaN, \"NaN\", NaN, NaN, \"NaN\", NaN, NaN, NaN, NaN, NaN, NaN, \"8048\", \"HACH\", \"Reactive Phosphorus in Water\", NaN, \"https://www.nemi.gov/methods/method_summary/4828/\", \"NaN\", \"NaN\", NaN, \"NaN\", \"NaN\", NaN, \"NaN\", NaN, \"2024-09-19T09:13:00\", \"STORET\"], [4637, \"WTGHA\", \"Wompanoag Tribe of Gay Head Aquinnah (Tribal)\", \"WTGHA-P1:20220412:SR:B\", \"Sample-Routine\", \"Water\", \"NaN\", \"2022-04-12\", \"NaN\", \"NaN\", \"NaN\", \"NaN\", \"NaN\", \"NaN\", NaN, \"NaN\", \"NaN\", NaN, \"NaN\", NaN, \"NaN\", \"WTGHA\", \"The Wampanoag Tribe of Gay Head Aquinnah\", \"NaN\", \"WTGHA-P1\", \"P1 | Menemsha Perimenter | Lobsterville Beach\", NaN, NaN, NaN, NaN, 41.349306, -70.788056, \"NaN\", \"NaN\", \"NaN\", \"NaN\", \"Bucket\", \"STORET-1041361390\", \"NaN\", \"as P\", \"Phosphated pesticides\", \"Total\", \"0.08\", \"mg/L\", \"NaN\", \"Final\", NaN, \"Actual\", NaN, NaN, NaN, NaN, NaN, NaN, NaN, NaN, NaN, \"NaN\", NaN, NaN, \"NaN\", NaN, NaN, NaN, NaN, NaN, NaN, \"8048\", \"HACH\", \"Reactive Phosphorus in Water\", NaN, \"https://www.nemi.gov/methods/method_summary/4828/\", \"NaN\", \"NaN\", NaN, \"NaN\", \"NaN\", NaN, \"NaN\", NaN, \"2024-09-19T09:13:00\", \"STORET\"], [4777, \"WTGHA\", \"Wompanoag Tribe of Gay Head Aquinnah (Tribal)\", \"WTGHA-P1:20220705:SR:B\", \"Sample-Routine\", \"Water\", \"NaN\", \"2022-07-05\", \"NaN\", \"NaN\", \"NaN\", \"NaN\", \"NaN\", \"NaN\", NaN, \"NaN\", \"NaN\", NaN, \"NaN\", NaN, \"NaN\", \"WTGHA\", \"The Wampanoag Tribe of Gay Head Aquinnah\", \"NaN\", \"WTGHA-P1\", \"P1 | Menemsha Perimenter | Lobsterville Beach\", NaN, NaN, NaN, NaN, 41.349306, -70.788056, \"NaN\", \"NaN\", \"NaN\", \"NaN\", \"Bucket\", \"STORET-1041361534\", \"NaN\", \"as P\", \"Phosphated pesticides\", \"Total\", \"0.05\", \"mg/L\", \"NaN\", \"Final\", NaN, \"Actual\", NaN, NaN, NaN, NaN, NaN, NaN, NaN, NaN, NaN, \"NaN\", NaN, NaN, \"NaN\", NaN, NaN, NaN, NaN, NaN, NaN, \"8048\", \"HACH\", \"Reactive Phosphorus in Water\", NaN, \"https://www.nemi.gov/methods/method_summary/4828/\", \"NaN\", \"NaN\", NaN, \"NaN\", \"NaN\", NaN, \"NaN\", NaN, \"2024-09-19T09:13:01\", \"STORET\"], [4857, \"WTGHA\", \"Wompanoag Tribe of Gay Head Aquinnah (Tribal)\", \"WTGHA-P2:20220105:SR:B\", \"Sample-Routine\", \"Water\", \"NaN\", \"2022-01-05\", \"NaN\", \"NaN\", \"NaN\", \"NaN\", \"NaN\", \"NaN\", NaN, \"NaN\", \"NaN\", NaN, \"NaN\", NaN, \"NaN\", \"WTGHA\", \"The Wampanoag Tribe of Gay Head Aquinnah\", \"NaN\", \"WTGHA-P2\", \"P2 | Menemsha Perimenter | Menemsha Beach\", NaN, NaN, NaN, NaN, 41.355139, -70.767083, \"NaN\", \"NaN\", \"NaN\", \"NaN\", \"Bucket\", \"STORET-1041361299\", \"NaN\", \"as P\", \"Phosphated pesticides\", \"Total\", \"0.14\", \"mg/L\", \"NaN\", \"Final\", NaN, \"Actual\", NaN, NaN, NaN, NaN, NaN, NaN, NaN, NaN, NaN, \"NaN\", NaN, NaN, \"NaN\", NaN, NaN, NaN, NaN, NaN, NaN, \"8048\", \"HACH\", \"Reactive Phosphorus in Water\", NaN, \"https://www.nemi.gov/methods/method_summary/4828/\", \"NaN\", \"NaN\", NaN, \"NaN\", \"NaN\", NaN, \"NaN\", NaN, \"2024-09-19T09:12:59\", \"STORET\"], [4902, \"WTGHA\", \"Wompanoag Tribe of Gay Head Aquinnah (Tribal)\", \"WTGHA-P1:20220222:SR:B\", \"Sample-Routine\", \"Water\", \"NaN\", \"2022-02-22\", \"NaN\", \"NaN\", \"NaN\", \"NaN\", \"NaN\", \"NaN\", NaN, \"NaN\", \"NaN\", NaN, \"NaN\", NaN, \"NaN\", \"WTGHA\", \"The Wampanoag Tribe of Gay Head Aquinnah\", \"NaN\", \"WTGHA-P1\", \"P1 | Menemsha Perimenter | Lobsterville Beach\", NaN, NaN, NaN, NaN, 41.349306, -70.788056, \"NaN\", \"NaN\", \"NaN\", \"NaN\", \"Bucket\", \"STORET-1041361338\", \"NaN\", \"as P\", \"Phosphated pesticides\", \"Total\", \"0.08\", \"mg/L\", \"NaN\", \"Final\", NaN, \"Actual\", NaN, NaN, NaN, NaN, NaN, NaN, NaN, NaN, NaN, \"NaN\", NaN, NaN, \"NaN\", NaN, NaN, NaN, NaN, NaN, NaN, \"8048\", \"HACH\", \"Reactive Phosphorus in Water\", NaN, \"https://www.nemi.gov/methods/method_summary/4828/\", \"NaN\", \"NaN\", NaN, \"NaN\", \"NaN\", NaN, \"NaN\", NaN, \"2024-09-19T09:12:59\", \"STORET\"], [5198, \"WTGHA\", \"Wompanoag Tribe of Gay Head Aquinnah (Tribal)\", \"WTGHA-P1:20230110:SR:B\", \"Sample-Routine\", \"Water\", \"NaN\", \"2023-01-10\", \"NaN\", \"NaN\", \"NaN\", \"NaN\", \"NaN\", \"NaN\", NaN, \"NaN\", \"NaN\", NaN, \"NaN\", NaN, \"NaN\", \"WTGHA\", \"The Wampanoag Tribe of Gay Head Aquinnah\", \"NaN\", \"WTGHA-P1\", \"P1 | Menemsha Perimenter | Lobsterville Beach\", NaN, NaN, NaN, NaN, 41.349306, -70.788056, \"NaN\", \"NaN\", \"NaN\", \"NaN\", \"Bucket\", \"STORET-1041361690\", \"NaN\", \"as P\", \"Phosphated pesticides\", \"Total\", \"0.32\", \"mg/L\", \"NaN\", \"Final\", NaN, \"Actual\", NaN, NaN, NaN, NaN, NaN, NaN, NaN, NaN, NaN, \"NaN\", NaN, NaN, \"NaN\", NaN, NaN, NaN, NaN, NaN, NaN, \"8048\", \"HACH\", \"Reactive Phosphorus in Water\", NaN, \"https://www.nemi.gov/methods/method_summary/4828/\", \"NaN\", \"NaN\", NaN, \"NaN\", \"NaN\", NaN, \"NaN\", NaN, \"2024-09-19T09:13:01\", \"STORET\"], [5289, \"WTGHA\", \"Wompanoag Tribe of Gay Head Aquinnah (Tribal)\", \"WTGHA-P2:20230110:SR:B\", \"Sample-Routine\", \"Water\", \"NaN\", \"2023-01-10\", \"NaN\", \"NaN\", \"NaN\", \"NaN\", \"NaN\", \"NaN\", NaN, \"NaN\", \"NaN\", NaN, \"NaN\", NaN, \"NaN\", \"WTGHA\", \"The Wampanoag Tribe of Gay Head Aquinnah\", \"NaN\", \"WTGHA-P2\", \"P2 | Menemsha Perimenter | Menemsha Beach\", NaN, NaN, NaN, NaN, 41.355139, -70.767083, \"NaN\", \"NaN\", \"NaN\", \"NaN\", \"Bucket\", \"STORET-1041361695\", \"NaN\", \"as P\", \"Phosphated pesticides\", \"Total\", \"0.1\", \"mg/L\", \"NaN\", \"Final\", NaN, \"Actual\", NaN, NaN, NaN, NaN, NaN, NaN, NaN, NaN, NaN, \"NaN\", NaN, NaN, \"NaN\", NaN, NaN, NaN, NaN, NaN, NaN, \"8048\", \"HACH\", \"Reactive Phosphorus in Water\", NaN, \"https://www.nemi.gov/methods/method_summary/4828/\", \"NaN\", \"NaN\", NaN, \"NaN\", \"NaN\", NaN, \"NaN\", NaN, \"2024-09-19T09:13:01\", \"STORET\"], [5506, \"WTGHA\", \"Wompanoag Tribe of Gay Head Aquinnah (Tribal)\", \"WTGHA-P2:20230605:SR:B\", \"Sample-Routine\", \"Water\", \"NaN\", \"2023-06-05\", \"NaN\", \"NaN\", \"NaN\", \"NaN\", \"NaN\", \"NaN\", NaN, \"NaN\", \"NaN\", NaN, \"NaN\", NaN, \"NaN\", \"WTGHA\", \"The Wampanoag Tribe of Gay Head Aquinnah\", \"NaN\", \"WTGHA-P2\", \"P2 | Menemsha Perimenter | Menemsha Beach\", NaN, NaN, NaN, NaN, 41.355139, -70.767083, \"NaN\", \"NaN\", \"NaN\", \"NaN\", \"Bucket\", \"STORET-1041361735\", \"NaN\", \"as P\", \"Phosphated pesticides\", \"Total\", \"0.1\", \"mg/L\", \"NaN\", \"Final\", NaN, \"Actual\", NaN, NaN, NaN, NaN, NaN, NaN, NaN, NaN, NaN, \"NaN\", NaN, NaN, \"NaN\", NaN, NaN, NaN, NaN, NaN, NaN, \"8048\", \"HACH\", \"Reactive Phosphorus in Water\", NaN, \"https://www.nemi.gov/methods/method_summary/4828/\", \"NaN\", \"NaN\", NaN, \"NaN\", \"NaN\", NaN, \"NaN\", NaN, \"2024-09-19T09:13:02\", \"STORET\"], [5588, \"WTGHA\", \"Wompanoag Tribe of Gay Head Aquinnah (Tribal)\", \"WTGHA-P1:20230605:SR:B\", \"Sample-Routine\", \"Water\", \"NaN\", \"2023-06-05\", \"NaN\", \"NaN\", \"NaN\", \"NaN\", \"NaN\", \"NaN\", NaN, \"NaN\", \"NaN\", NaN, \"NaN\", NaN, \"NaN\", \"WTGHA\", \"The Wampanoag Tribe of Gay Head Aquinnah\", \"NaN\", \"WTGHA-P1\", \"P1 | Menemsha Perimenter | Lobsterville Beach\", NaN, NaN, NaN, NaN, 41.349306, -70.788056, \"NaN\", \"NaN\", \"NaN\", \"NaN\", \"Bucket\", \"STORET-1041361730\", \"NaN\", \"as P\", \"Phosphated pesticides\", \"Total\", \"0.97\", \"mg/L\", \"NaN\", \"Final\", NaN, \"Actual\", NaN, NaN, NaN, NaN, NaN, NaN, NaN, NaN, NaN, \"NaN\", NaN, NaN, \"NaN\", NaN, NaN, NaN, NaN, NaN, NaN, \"8048\", \"HACH\", \"Reactive Phosphorus in Water\", NaN, \"https://www.nemi.gov/methods/method_summary/4828/\", \"NaN\", \"NaN\", NaN, \"NaN\", \"NaN\", NaN, \"NaN\", NaN, \"2024-09-19T09:13:02\", \"STORET\"], [5656, \"WTGHA\", \"Wompanoag Tribe of Gay Head Aquinnah (Tribal)\", \"WTGHA-P2:20230705:SR:B\", \"Sample-Routine\", \"Water\", \"NaN\", \"2023-07-05\", \"NaN\", \"NaN\", \"NaN\", \"NaN\", \"NaN\", \"NaN\", NaN, \"NaN\", \"NaN\", NaN, \"NaN\", NaN, \"NaN\", \"WTGHA\", \"The Wampanoag Tribe of Gay Head Aquinnah\", \"NaN\", \"WTGHA-P2\", \"P2 | Menemsha Perimenter | Menemsha Beach\", NaN, NaN, NaN, NaN, 41.355139, -70.767083, \"NaN\", \"NaN\", \"NaN\", \"NaN\", \"Bucket\", \"STORET-1041361805\", \"NaN\", \"as P\", \"Phosphated pesticides\", \"Total\", \"0.07\", \"mg/L\", \"NaN\", \"Final\", NaN, \"Actual\", NaN, NaN, NaN, NaN, NaN, NaN, NaN, NaN, NaN, \"NaN\", NaN, NaN, \"NaN\", NaN, NaN, NaN, NaN, NaN, NaN, \"8048\", \"HACH\", \"Reactive Phosphorus in Water\", NaN, \"https://www.nemi.gov/methods/method_summary/4828/\", \"NaN\", \"NaN\", NaN, \"NaN\", \"NaN\", NaN, \"NaN\", NaN, \"2024-09-19T09:13:02\", \"STORET\"], [5668, \"WTGHA\", \"Wompanoag Tribe of Gay Head Aquinnah (Tribal)\", \"WTGHA-P2:20230731:SR:B\", \"Sample-Routine\", \"Water\", \"NaN\", \"2023-07-31\", \"NaN\", \"NaN\", \"NaN\", \"NaN\", \"NaN\", \"NaN\", NaN, \"NaN\", \"NaN\", NaN, \"NaN\", NaN, \"NaN\", \"WTGHA\", \"The Wampanoag Tribe of Gay Head Aquinnah\", \"NaN\", \"WTGHA-P2\", \"P2 | Menemsha Perimenter | Menemsha Beach\", NaN, NaN, NaN, NaN, 41.355139, -70.767083, \"NaN\", \"NaN\", \"NaN\", \"NaN\", \"Bucket\", \"STORET-1041361875\", \"NaN\", \"as P\", \"Phosphated pesticides\", \"Total\", \"0.19\", \"mg/L\", \"NaN\", \"Final\", NaN, \"Actual\", NaN, NaN, NaN, NaN, NaN, NaN, NaN, NaN, NaN, \"NaN\", NaN, NaN, \"NaN\", NaN, NaN, NaN, NaN, NaN, NaN, \"8048\", \"HACH\", \"Reactive Phosphorus in Water\", NaN, \"https://www.nemi.gov/methods/method_summary/4828/\", \"NaN\", \"NaN\", NaN, \"NaN\", \"NaN\", NaN, \"NaN\", NaN, \"2024-09-19T09:13:02\", \"STORET\"], [5676, \"WTGHA\", \"Wompanoag Tribe of Gay Head Aquinnah (Tribal)\", \"WTGHA-P2:20230905:SR:B\", \"Sample-Routine\", \"Water\", \"NaN\", \"2023-09-05\", \"NaN\", \"NaN\", \"NaN\", \"NaN\", \"NaN\", \"NaN\", NaN, \"NaN\", \"NaN\", NaN, \"NaN\", NaN, \"NaN\", \"WTGHA\", \"The Wampanoag Tribe of Gay Head Aquinnah\", \"NaN\", \"WTGHA-P2\", \"P2 | Menemsha Perimenter | Menemsha Beach\", NaN, NaN, NaN, NaN, 41.355139, -70.767083, \"NaN\", \"NaN\", \"NaN\", \"NaN\", \"Bucket\", \"STORET-1041361991\", \"NaN\", \"as P\", \"Phosphated pesticides\", \"Total\", \"0.15\", \"mg/L\", \"NaN\", \"Final\", NaN, \"Actual\", NaN, NaN, NaN, NaN, NaN, NaN, NaN, NaN, NaN, \"NaN\", NaN, NaN, \"NaN\", NaN, NaN, NaN, NaN, NaN, NaN, \"8048\", \"HACH\", \"Reactive Phosphorus in Water\", NaN, \"https://www.nemi.gov/methods/method_summary/4828/\", \"NaN\", \"NaN\", NaN, \"NaN\", \"NaN\", NaN, \"NaN\", NaN, \"2024-09-19T09:13:03\", \"STORET\"], [5677, \"WTGHA\", \"Wompanoag Tribe of Gay Head Aquinnah (Tribal)\", \"WTGHA-P1:20230705:SR:B\", \"Sample-Routine\", \"Water\", \"NaN\", \"2023-07-05\", \"NaN\", \"NaN\", \"NaN\", \"NaN\", \"NaN\", \"NaN\", NaN, \"NaN\", \"NaN\", NaN, \"NaN\", NaN, \"NaN\", \"WTGHA\", \"The Wampanoag Tribe of Gay Head Aquinnah\", \"NaN\", \"WTGHA-P1\", \"P1 | Menemsha Perimenter | Lobsterville Beach\", NaN, NaN, NaN, NaN, 41.349306, -70.788056, \"NaN\", \"NaN\", \"NaN\", \"NaN\", \"Bucket\", \"STORET-1041361800\", \"NaN\", \"as P\", \"Phosphated pesticides\", \"Total\", \"0.1\", \"mg/L\", \"NaN\", \"Final\", NaN, \"Actual\", NaN, NaN, NaN, NaN, NaN, NaN, NaN, NaN, NaN, \"NaN\", NaN, NaN, \"NaN\", NaN, NaN, NaN, NaN, NaN, NaN, \"8048\", \"HACH\", \"Reactive Phosphorus in Water\", NaN, \"https://www.nemi.gov/methods/method_summary/4828/\", \"NaN\", \"NaN\", NaN, \"NaN\", \"NaN\", NaN, \"NaN\", NaN, \"2024-09-19T09:13:02\", \"STORET\"], [5680, \"WTGHA\", \"Wompanoag Tribe of Gay Head Aquinnah (Tribal)\", \"WTGHA-P1:20230905:SR:B\", \"Sample-Routine\", \"Water\", \"NaN\", \"2023-09-05\", \"NaN\", \"NaN\", \"NaN\", \"NaN\", \"NaN\", \"NaN\", NaN, \"NaN\", \"NaN\", NaN, \"NaN\", NaN, \"NaN\", \"WTGHA\", \"The Wampanoag Tribe of Gay Head Aquinnah\", \"NaN\", \"WTGHA-P1\", \"P1 | Menemsha Perimenter | Lobsterville Beach\", NaN, NaN, NaN, NaN, 41.349306, -70.788056, \"NaN\", \"NaN\", \"NaN\", \"NaN\", \"Bucket\", \"STORET-1041361987\", \"NaN\", \"as P\", \"Phosphated pesticides\", \"Total\", \"0.13\", \"mg/L\", \"NaN\", \"Final\", NaN, \"Actual\", NaN, NaN, NaN, NaN, NaN, NaN, NaN, NaN, NaN, \"NaN\", NaN, NaN, \"NaN\", NaN, NaN, NaN, NaN, NaN, NaN, \"8048\", \"HACH\", \"Reactive Phosphorus in Water\", NaN, \"https://www.nemi.gov/methods/method_summary/4828/\", \"NaN\", \"NaN\", NaN, \"NaN\", \"NaN\", NaN, \"NaN\", NaN, \"2024-09-19T09:13:03\", \"STORET\"], [5698, \"WTGHA\", \"Wompanoag Tribe of Gay Head Aquinnah (Tribal)\", \"WTGHA-P1:20230731:SR:B\", \"Sample-Routine\", \"Water\", \"NaN\", \"2023-07-31\", \"NaN\", \"NaN\", \"NaN\", \"NaN\", \"NaN\", \"NaN\", NaN, \"NaN\", \"NaN\", NaN, \"NaN\", NaN, \"NaN\", \"WTGHA\", \"The Wampanoag Tribe of Gay Head Aquinnah\", \"NaN\", \"WTGHA-P1\", \"P1 | Menemsha Perimenter | Lobsterville Beach\", NaN, NaN, NaN, NaN, 41.349306, -70.788056, \"NaN\", \"NaN\", \"NaN\", \"NaN\", \"Bucket\", \"STORET-1041361870\", \"NaN\", \"as P\", \"Phosphated pesticides\", \"Total\", \"0.07\", \"mg/L\", \"NaN\", \"Final\", NaN, \"Actual\", NaN, NaN, NaN, NaN, NaN, NaN, NaN, NaN, NaN, \"NaN\", NaN, NaN, \"NaN\", NaN, NaN, NaN, NaN, NaN, NaN, \"8048\", \"HACH\", \"Reactive Phosphorus in Water\", NaN, \"https://www.nemi.gov/methods/method_summary/4828/\", \"NaN\", \"NaN\", NaN, \"NaN\", \"NaN\", NaN, \"NaN\", NaN, \"2024-09-19T09:13:02\", \"STORET\"], [5712, \"WTGHA\", \"Wompanoag Tribe of Gay Head Aquinnah (Tribal)\", \"WTGHA-P1:20231003:SR:B\", \"Sample-Routine\", \"Water\", \"NaN\", \"2023-10-03\", \"NaN\", \"NaN\", \"NaN\", \"NaN\", \"NaN\", \"NaN\", NaN, \"NaN\", \"NaN\", NaN, \"NaN\", NaN, \"NaN\", \"WTGHA\", \"The Wampanoag Tribe of Gay Head Aquinnah\", \"NaN\", \"WTGHA-P1\", \"P1 | Menemsha Perimenter | Lobsterville Beach\", NaN, NaN, NaN, NaN, 41.349306, -70.788056, \"NaN\", \"NaN\", \"NaN\", \"NaN\", \"Bucket\", \"STORET-1041362048\", \"NaN\", \"as P\", \"Phosphated pesticides\", \"Total\", \"0.11\", \"mg/L\", \"NaN\", \"Final\", NaN, \"Actual\", NaN, NaN, NaN, NaN, NaN, NaN, NaN, NaN, NaN, \"NaN\", NaN, NaN, \"NaN\", NaN, NaN, NaN, NaN, NaN, NaN, \"8048\", \"HACH\", \"Reactive Phosphorus in Water\", NaN, \"https://www.nemi.gov/methods/method_summary/4828/\", \"NaN\", \"NaN\", NaN, \"NaN\", \"NaN\", NaN, \"NaN\", NaN, \"2024-09-19T09:13:03\", \"STORET\"], [5743, \"WTGHA\", \"Wompanoag Tribe of Gay Head Aquinnah (Tribal)\", \"WTGHA-P2:20231003:SR:B\", \"Sample-Routine\", \"Water\", \"NaN\", \"2023-10-03\", \"NaN\", \"NaN\", \"NaN\", \"NaN\", \"NaN\", \"NaN\", NaN, \"NaN\", \"NaN\", NaN, \"NaN\", NaN, \"NaN\", \"WTGHA\", \"The Wampanoag Tribe of Gay Head Aquinnah\", \"NaN\", \"WTGHA-P2\", \"P2 | Menemsha Perimenter | Menemsha Beach\", NaN, NaN, NaN, NaN, 41.355139, -70.767083, \"NaN\", \"NaN\", \"NaN\", \"NaN\", \"Bucket\", \"STORET-1041362051\", \"NaN\", \"as P\", \"Phosphated pesticides\", \"Total\", \"0.11\", \"mg/L\", \"NaN\", \"Final\", NaN, \"Actual\", NaN, NaN, NaN, NaN, NaN, NaN, NaN, NaN, NaN, \"NaN\", NaN, NaN, \"NaN\", NaN, NaN, NaN, NaN, NaN, NaN, \"8048\", \"HACH\", \"Reactive Phosphorus in Water\", NaN, \"https://www.nemi.gov/methods/method_summary/4828/\", \"NaN\", \"NaN\", NaN, \"NaN\", \"NaN\", NaN, \"NaN\", NaN, \"2024-09-19T09:13:03\", \"STORET\"]];\n",
       "\n",
       "        // Define the dt_args\n",
       "        let dt_args = {\"layout\": {\"topStart\": \"pageLength\", \"topEnd\": \"search\", \"bottomStart\": \"info\", \"bottomEnd\": \"paging\"}, \"order\": [], \"fnInfoCallback\": function (oSettings, iStart, iEnd, iMax, iTotal, sPre) { return sPre + ' (<a href=\"https://mwouts.github.io/itables/downsampling.html\">downsampled</a> from 130x81 to 101x81 as maxBytes=64KB)'; }};\n",
       "        dt_args[\"data\"] = data;\n",
       "\n",
       "        \n",
       "        new DataTable(table, dt_args);\n",
       "    });\n",
       "</script>\n"
      ],
      "text/plain": [
       "<IPython.core.display.HTML object>"
      ]
     },
     "metadata": {},
     "output_type": "display_data"
    }
   ],
   "source": [
    "maskphos = (DFproject['CharacteristicName'] == 'Phosphated pesticides')\n",
    "DFphos = DFproject[maskphos]\n",
    "show(DFphos)"
   ]
  },
  {
   "cell_type": "code",
   "execution_count": 6,
   "id": "ba808f32-3421-469e-9eb1-3fb00fcc41ab",
   "metadata": {},
   "outputs": [
    {
     "data": {
      "text/html": [
       "<table id=\"itables_f6456017_c49e_4c8c_af98_0c1776d99f43\" class=\"display nowrap\" data-quarto-disable-processing=\"true\" style=\"table-layout:auto;width:auto;margin:auto;caption-side:bottom\">\n",
       "<thead>\n",
       "    <tr style=\"text-align: right;\">\n",
       "      <th></th>\n",
       "      <th>count</th>\n",
       "    </tr>\n",
       "    <tr>\n",
       "      <th>MonitoringLocationName</th>\n",
       "      <th></th>\n",
       "    </tr>\n",
       "  </thead><tbody><tr>\n",
       "<td style=\"vertical-align:middle; text-align:left\">\n",
       "<div style=\"float:left; margin-right: 10px;\">\n",
       "<a href=https://mwouts.github.io/itables/><svg class=\"main-svg\" xmlns=\"http://www.w3.org/2000/svg\" xmlns:xlink=\"http://www.w3.org/1999/xlink\"\n",
       "width=\"64\" viewBox=\"0 0 500 400\" style=\"font-family: 'Droid Sans', sans-serif;\">\n",
       "    <g style=\"fill:#d9d7fc\">\n",
       "        <path d=\"M100,400H500V357H100Z\" />\n",
       "        <path d=\"M100,300H400V257H100Z\" />\n",
       "        <path d=\"M0,200H400V157H0Z\" />\n",
       "        <path d=\"M100,100H500V57H100Z\" />\n",
       "        <path d=\"M100,350H500V307H100Z\" />\n",
       "        <path d=\"M100,250H400V207H100Z\" />\n",
       "        <path d=\"M0,150H400V107H0Z\" />\n",
       "        <path d=\"M100,50H500V7H100Z\" />\n",
       "    </g>\n",
       "    <g style=\"fill:#1a1366;stroke:#1a1366;\">\n",
       "   <rect x=\"100\" y=\"7\" width=\"400\" height=\"43\">\n",
       "    <animate\n",
       "      attributeName=\"width\"\n",
       "      values=\"0;400;0\"\n",
       "      dur=\"5s\"\n",
       "      repeatCount=\"indefinite\" />\n",
       "      <animate\n",
       "      attributeName=\"x\"\n",
       "      values=\"100;100;500\"\n",
       "      dur=\"5s\"\n",
       "      repeatCount=\"indefinite\" />\n",
       "  </rect>\n",
       "        <rect x=\"0\" y=\"107\" width=\"400\" height=\"43\">\n",
       "    <animate\n",
       "      attributeName=\"width\"\n",
       "      values=\"0;400;0\"\n",
       "      dur=\"3.5s\"\n",
       "      repeatCount=\"indefinite\" />\n",
       "    <animate\n",
       "      attributeName=\"x\"\n",
       "      values=\"0;0;400\"\n",
       "      dur=\"3.5s\"\n",
       "      repeatCount=\"indefinite\" />\n",
       "  </rect>\n",
       "        <rect x=\"100\" y=\"207\" width=\"300\" height=\"43\">\n",
       "    <animate\n",
       "      attributeName=\"width\"\n",
       "      values=\"0;300;0\"\n",
       "      dur=\"3s\"\n",
       "      repeatCount=\"indefinite\" />\n",
       "    <animate\n",
       "      attributeName=\"x\"\n",
       "      values=\"100;100;400\"\n",
       "      dur=\"3s\"\n",
       "      repeatCount=\"indefinite\" />\n",
       "  </rect>\n",
       "        <rect x=\"100\" y=\"307\" width=\"400\" height=\"43\">\n",
       "    <animate\n",
       "      attributeName=\"width\"\n",
       "      values=\"0;400;0\"\n",
       "      dur=\"4s\"\n",
       "      repeatCount=\"indefinite\" />\n",
       "      <animate\n",
       "      attributeName=\"x\"\n",
       "      values=\"100;100;500\"\n",
       "      dur=\"4s\"\n",
       "      repeatCount=\"indefinite\" />\n",
       "  </rect>\n",
       "        <g style=\"fill:transparent;stroke-width:8; stroke-linejoin:round\" rx=\"5\">\n",
       "            <g transform=\"translate(45 50) rotate(-45)\">\n",
       "                <circle r=\"33\" cx=\"0\" cy=\"0\" />\n",
       "                <rect x=\"-8\" y=\"32\" width=\"16\" height=\"30\" />\n",
       "            </g>\n",
       "\n",
       "            <g transform=\"translate(450 152)\">\n",
       "                <polyline points=\"-15,-20 -35,-20 -35,40 25,40 25,20\" />\n",
       "                <rect x=\"-15\" y=\"-40\" width=\"60\" height=\"60\" />\n",
       "            </g>\n",
       "\n",
       "            <g transform=\"translate(50 352)\">\n",
       "                <polygon points=\"-35,-5 0,-40 35,-5\" />\n",
       "                <polygon points=\"-35,10 0,45 35,10\" />\n",
       "            </g>\n",
       "\n",
       "            <g transform=\"translate(75 250)\">\n",
       "                <polyline points=\"-30,30 -60,0 -30,-30\" />\n",
       "                <polyline points=\"0,30 -30,0 0,-30\" />\n",
       "            </g>\n",
       "\n",
       "            <g transform=\"translate(425 250) rotate(180)\">\n",
       "                <polyline points=\"-30,30 -60,0 -30,-30\" />\n",
       "                <polyline points=\"0,30 -30,0 0,-30\" />\n",
       "            </g>\n",
       "        </g>\n",
       "    </g>\n",
       "</svg>\n",
       "</a>\n",
       "</div>\n",
       "<div>\n",
       "Loading ITables v2.1.4 from the internet...\n",
       "(need <a href=https://mwouts.github.io/itables/troubleshooting.html>help</a>?)</td>\n",
       "</div>\n",
       "</tr></tbody>\n",
       "\n",
       "</table>\n",
       "<link href=\"https://www.unpkg.com/dt_for_itables@2.0.11/dt_bundle.css\" rel=\"stylesheet\">\n",
       "<script type=\"module\">\n",
       "    import {DataTable, jQuery as $} from 'https://www.unpkg.com/dt_for_itables@2.0.11/dt_bundle.js';\n",
       "\n",
       "    document.querySelectorAll(\"#itables_f6456017_c49e_4c8c_af98_0c1776d99f43:not(.dataTable)\").forEach(table => {\n",
       "        // Define the table data\n",
       "        const data = [[\"P1 | Menemsha Perimenter | Lobsterville Beach\", 67], [\"P2 | Menemsha Perimenter | Menemsha Beach\", 63]];\n",
       "\n",
       "        // Define the dt_args\n",
       "        let dt_args = {\"layout\": {\"topStart\": null, \"topEnd\": null, \"bottomStart\": null, \"bottomEnd\": null}, \"order\": []};\n",
       "        dt_args[\"data\"] = data;\n",
       "\n",
       "        \n",
       "        new DataTable(table, dt_args);\n",
       "    });\n",
       "</script>\n"
      ],
      "text/plain": [
       "<IPython.core.display.HTML object>"
      ]
     },
     "metadata": {},
     "output_type": "display_data"
    }
   ],
   "source": [
    "show(DFphos['MonitoringLocationName'].value_counts())"
   ]
  },
  {
   "cell_type": "code",
   "execution_count": 7,
   "id": "b512bb1f-d162-4837-ac4c-0d096a79c32a",
   "metadata": {},
   "outputs": [
    {
     "data": {
      "text/html": [
       "<table id=\"itables_0a459dc6_b156_4a9e_a379_19018208e8cb\" class=\"display nowrap\" data-quarto-disable-processing=\"true\" style=\"table-layout:auto;width:auto;margin:auto;caption-side:bottom\">\n",
       "<thead>\n",
       "    <tr style=\"text-align: right;\">\n",
       "      \n",
       "      <th>CRUISE</th>\n",
       "      <th>STATION_ID</th>\n",
       "      <th>CAST</th>\n",
       "      <th>LAT</th>\n",
       "      <th>LON</th>\n",
       "      <th>DATE_TIME</th>\n",
       "      <th>TARGET_DEPTH</th>\n",
       "      <th>BOTTLE</th>\n",
       "      <th>CELLS_L</th>\n",
       "      <th>TEMP</th>\n",
       "      <th>SAL</th>\n",
       "      <th>PRESSURE</th>\n",
       "    </tr>\n",
       "  </thead><tbody><tr>\n",
       "<td style=\"vertical-align:middle; text-align:left\">\n",
       "<div style=\"float:left; margin-right: 10px;\">\n",
       "<a href=https://mwouts.github.io/itables/><svg class=\"main-svg\" xmlns=\"http://www.w3.org/2000/svg\" xmlns:xlink=\"http://www.w3.org/1999/xlink\"\n",
       "width=\"64\" viewBox=\"0 0 500 400\" style=\"font-family: 'Droid Sans', sans-serif;\">\n",
       "    <g style=\"fill:#d9d7fc\">\n",
       "        <path d=\"M100,400H500V357H100Z\" />\n",
       "        <path d=\"M100,300H400V257H100Z\" />\n",
       "        <path d=\"M0,200H400V157H0Z\" />\n",
       "        <path d=\"M100,100H500V57H100Z\" />\n",
       "        <path d=\"M100,350H500V307H100Z\" />\n",
       "        <path d=\"M100,250H400V207H100Z\" />\n",
       "        <path d=\"M0,150H400V107H0Z\" />\n",
       "        <path d=\"M100,50H500V7H100Z\" />\n",
       "    </g>\n",
       "    <g style=\"fill:#1a1366;stroke:#1a1366;\">\n",
       "   <rect x=\"100\" y=\"7\" width=\"400\" height=\"43\">\n",
       "    <animate\n",
       "      attributeName=\"width\"\n",
       "      values=\"0;400;0\"\n",
       "      dur=\"5s\"\n",
       "      repeatCount=\"indefinite\" />\n",
       "      <animate\n",
       "      attributeName=\"x\"\n",
       "      values=\"100;100;500\"\n",
       "      dur=\"5s\"\n",
       "      repeatCount=\"indefinite\" />\n",
       "  </rect>\n",
       "        <rect x=\"0\" y=\"107\" width=\"400\" height=\"43\">\n",
       "    <animate\n",
       "      attributeName=\"width\"\n",
       "      values=\"0;400;0\"\n",
       "      dur=\"3.5s\"\n",
       "      repeatCount=\"indefinite\" />\n",
       "    <animate\n",
       "      attributeName=\"x\"\n",
       "      values=\"0;0;400\"\n",
       "      dur=\"3.5s\"\n",
       "      repeatCount=\"indefinite\" />\n",
       "  </rect>\n",
       "        <rect x=\"100\" y=\"207\" width=\"300\" height=\"43\">\n",
       "    <animate\n",
       "      attributeName=\"width\"\n",
       "      values=\"0;300;0\"\n",
       "      dur=\"3s\"\n",
       "      repeatCount=\"indefinite\" />\n",
       "    <animate\n",
       "      attributeName=\"x\"\n",
       "      values=\"100;100;400\"\n",
       "      dur=\"3s\"\n",
       "      repeatCount=\"indefinite\" />\n",
       "  </rect>\n",
       "        <rect x=\"100\" y=\"307\" width=\"400\" height=\"43\">\n",
       "    <animate\n",
       "      attributeName=\"width\"\n",
       "      values=\"0;400;0\"\n",
       "      dur=\"4s\"\n",
       "      repeatCount=\"indefinite\" />\n",
       "      <animate\n",
       "      attributeName=\"x\"\n",
       "      values=\"100;100;500\"\n",
       "      dur=\"4s\"\n",
       "      repeatCount=\"indefinite\" />\n",
       "  </rect>\n",
       "        <g style=\"fill:transparent;stroke-width:8; stroke-linejoin:round\" rx=\"5\">\n",
       "            <g transform=\"translate(45 50) rotate(-45)\">\n",
       "                <circle r=\"33\" cx=\"0\" cy=\"0\" />\n",
       "                <rect x=\"-8\" y=\"32\" width=\"16\" height=\"30\" />\n",
       "            </g>\n",
       "\n",
       "            <g transform=\"translate(450 152)\">\n",
       "                <polyline points=\"-15,-20 -35,-20 -35,40 25,40 25,20\" />\n",
       "                <rect x=\"-15\" y=\"-40\" width=\"60\" height=\"60\" />\n",
       "            </g>\n",
       "\n",
       "            <g transform=\"translate(50 352)\">\n",
       "                <polygon points=\"-35,-5 0,-40 35,-5\" />\n",
       "                <polygon points=\"-35,10 0,45 35,10\" />\n",
       "            </g>\n",
       "\n",
       "            <g transform=\"translate(75 250)\">\n",
       "                <polyline points=\"-30,30 -60,0 -30,-30\" />\n",
       "                <polyline points=\"0,30 -30,0 0,-30\" />\n",
       "            </g>\n",
       "\n",
       "            <g transform=\"translate(425 250) rotate(180)\">\n",
       "                <polyline points=\"-30,30 -60,0 -30,-30\" />\n",
       "                <polyline points=\"0,30 -30,0 0,-30\" />\n",
       "            </g>\n",
       "        </g>\n",
       "    </g>\n",
       "</svg>\n",
       "</a>\n",
       "</div>\n",
       "<div>\n",
       "Loading ITables v2.1.4 from the internet...\n",
       "(need <a href=https://mwouts.github.io/itables/troubleshooting.html>help</a>?)</td>\n",
       "</div>\n",
       "</tr></tbody>\n",
       "\n",
       "</table>\n",
       "<link href=\"https://www.unpkg.com/dt_for_itables@2.0.11/dt_bundle.css\" rel=\"stylesheet\">\n",
       "<script type=\"module\">\n",
       "    import {DataTable, jQuery as $} from 'https://www.unpkg.com/dt_for_itables@2.0.11/dt_bundle.js';\n",
       "\n",
       "    document.querySelectorAll(\"#itables_0a459dc6_b156_4a9e_a379_19018208e8cb:not(.dataTable)\").forEach(table => {\n",
       "        // Define the table data\n",
       "        const data = [[\"HLY1801\", \"DBO2-3\", 1.0, 64.6705, -168.2342, \"2018-08-08 09:24\", \"Surface\", 14.0, 4, 10.07, 31.89, 1.3], [\"HLY1801\", \"DBO2-5\", 3.0, 64.9912, -169.146, \"2018-08-08 21:36\", \"Surface\", 16.0, 0, 11.44, 31.17, 4.0], [\"HLY1801\", \"DBO2-4\", 4.0, 64.9598, -169.899, \"2018-08-09 00:35\", \"Surface\", 16.0, 0, 11.14, 31.32, 2.6], [\"HLY1801\", \"DBO2-1\", 5.0, 64.6718, -169.9258, \"2018-08-09 03:29\", \"Surface\", 18.0, 0, 11.25, 31.53, 2.8], [\"HLY1801\", \"DBO2-2\", 6.0, 64.68, -169.1002, \"2018-08-09 06:52\", \"Surface\", 16.0, 0, 11.7, 31.38, 2.6], [\"HLY1801\", \"T-1\", 7.0, 66.417, -168.6775, \"2018-08-09 15:48\", \"Surface\", 18.0, 54, 11.39, 28.12, 3.8], [\"HLY1801\", \"T-2\", 8.0, 67.1642, -168.6635, \"2018-08-09 21:06\", \"Surface\", 16.0, 28, 10.94, 29.16, 3.1], [\"HLY1801\", \"DBO3-1\", 9.0, 68.3012, -166.9308, \"2018-08-10 04:33\", \"Surface\", 12.0, 51, 11.02, 29.32, 2.8], [\"HLY1801\", \"DBO3-2\", 10.0, 68.2462, -167.1255, \"2018-08-10 06:27\", \"Surface\", 14.0, 35, 10.69, 29.65, 2.7], [\"HLY1801\", \"DBO3-3\", 11.0, 68.1902, -167.3027, \"2018-08-10 08:10\", \"Surface\", 16.0, 165, 10.47, 29.2, 3.0], [\"HLY1801\", \"DBO3-4\", 12.0, 68.1357, -167.4915, \"2018-08-10 10:29\", \"Surface\", 14.0, 76, 9.89, 30.16, 2.6], [\"HLY1801\", \"DBO3-5\", 13.0, 68.0153, -167.8798, \"2018-08-10 13:54\", \"Surface\", 16.0, 29, 8.09, 31.88, 2.8], [\"HLY1801\", \"DBO3-6\", 14.0, 67.8968, -168.248, \"2018-08-10 18:04\", \"Surface\", 18.0, 382, 6.84, 32.83, 3.0], [\"HLY1801\", \"DBO3-7\", 15.0, 67.7853, -168.601, \"2018-08-11 01:12\", \"Surface\", 18.0, 260, 6.44, 32.79, 2.6], [\"HLY1801\", \"DBO3-8\", 16.0, 67.677, -168.9568, \"2018-08-11 05:04\", \"Surface\", 18.0, 107, 9.49, 31.35, 3.1], [\"HLY1801\", \"C-11\", 17.0, 70.0162, -166.855, \"2018-08-11 22:03\", \"Surface\", 16.0, 931, 7.07, 31.34, 4.9], [\"HLY1801\", \"C-10\", 18.0, 70.2197, -167.7935, \"2018-08-12 04:14\", \"Surface\", 16.0, 336, 8.85, 31.26, 3.1], [\"HLY1801\", \"IC-1\", 19.0, 71.8302, -165.9698, \"2018-08-12 13:22\", \"Surface\", 16.0, 144, 6.22, 30.66, 2.5], [\"HLY1801\", \"C-3\", 20.0, 71.8297, -166.0737, \"2018-08-12 17:54\", \"Surface\", 18.0, 154, 6.3, 30.57, 2.8], [\"HLY1801\", \"IC-2\", 22.0, 71.7052, -165.6028, \"2018-08-12 22:17\", \"Surface\", 14.0, 7, 6.31, 30.45, 2.9], [\"HLY1801\", \"IC-3\", 24.0, 71.6005, -165.3038, \"2018-08-13 01:00\", \"Surface\", 16.0, 3, 4.8, 29.54, 2.9], [\"HLY1801\", \"IC-4\", 26.0, 71.4485, -164.919, \"2018-08-13 04:20\", \"Surface\", 16.0, 2, 4.04, 28.95, 3.0], [\"HLY1801\", \"IC-5\", 28.0, 71.3367, -164.6127, \"2018-08-13 07:37\", \"Surface\", 14.0, 5, 4.04, 29.29, 3.0], [\"HLY1801\", \"IC-6\", 30.0, 71.195, -164.2018, \"2018-08-13 10:42\", \"Surface\", 14.0, 2, 4.99, 30.2, 3.2], [\"HLY1801\", \"IC-7\", 32.0, 71.0847, -163.8018, \"2018-08-13 13:19\", \"Surface\", 16.0, 10, 5.93, 30.58, 2.7], [\"HLY1801\", \"C-2\", 33.0, 71.2327, -164.2207, \"2018-08-13 17:51\", \"Surface\", 22.0, 4, 4.8, 30.26, 2.8], [\"HLY1801\", \"IC-8\", 35.0, 70.9725, -163.5642, \"2018-08-14 03:10\", \"Surface\", 14.0, 12, 6.18, 30.72, 3.9], [\"HLY1801\", \"IC-9\", 37.0, 70.849, -163.1872, \"2018-08-14 06:10\", \"Surface\", 14.0, 871, 7.86, 30.96, 4.2], [\"HLY1801\", \"IC-9.5\", 38.0, 70.7882, -163.0097, \"2018-08-14 07:50\", \"Surface\", 14.0, 558, 7.72, 30.92, 3.9], [\"HLY1801\", \"IC-10\", 39.0, 70.7172, -162.8565, \"2018-08-14 08:53\", \"Surface\", 16.0, 1828, 8.22, 31.0, 3.7], [\"HLY1801\", \"IC-10.5\", 40.0, 70.653, -162.6662, \"2018-08-14 10:42\", \"Surface\", 14.0, 151, 6.69, 30.52, 3.8], [\"HLY1801\", \"IC-11\", 41.0, 70.58, -162.4912, \"2018-08-14 11:54\", \"Surface\", 16.0, 530, 7.38, 30.87, 3.0], [\"HLY1801\", \"C-4\", 43.0, 71.0483, -160.4822, \"2018-08-15 07:16\", \"Surface\", 22.0, 7, 3.53, 29.8, 2.9], [\"HLY1801\", \"DBO4-1N\", 44.0, 71.09, -161.1928, \"2018-08-15 09:39\", \"Surface\", 18.0, 2, 2.2, 29.13, 3.3], [\"HLY1801\", \"DBO4-2N\", 45.0, 71.2238, -161.2893, \"2018-08-15 12:17\", \"Surface\", 18.0, 1, 2.48, 29.41, 4.0], [\"HLY1801\", \"DBO4-3N\", 46.0, 71.3507, -161.3958, \"2018-08-15 15:56\", \"Surface\", 18.0, 0, 2.02, 29.21, 4.1], [\"HLY1801\", \"DBO4-4N\", 47.0, 71.4805, -161.5048, \"2018-08-15 18:41\", \"Surface\", 18.0, 0, 1.61, 28.82, 3.4], [\"HLY1801\", \"DBO4-5N\", 49.0, 71.6103, -161.6152, \"2018-08-15 22:15\", \"Surface\", 18.0, 0, 0.51, 28.36, 3.4], [\"HLY1801\", \"DBO4-6N\", 50.0, 71.7755, -161.5865, \"2018-08-16 02:20\", \"Surface\", 16.0, 1, 0.22, 28.77, 2.8], [\"HLY1801\", \"DBO5-1\", 58.0, 71.2468, -157.135, \"2018-08-17 01:05\", \"Surface\", 14.0, 9, 3.93, 29.1, 2.5], [\"HLY1801\", \"DBO5-2\", 59.0, 71.2888, -157.2213, \"2018-08-17 02:55\", \"Surface\", 16.0, 30, 4.46, 29.29, 3.6], [\"HLY1801\", \"DBO5-3\", 60.0, 71.3262, -157.3067, \"2018-08-17 04:45\", \"Surface\", 20.0, 54, 5.51, 30.07, 4.0], [\"HLY1801\", \"DBO5-4\", 61.0, 71.3727, -157.3803, \"2018-08-17 06:36\", \"Surface\", 20.0, 17, 5.04, 30.59, 3.1], [\"HLY1801\", \"DBO5-5\", 62.0, 71.4095, -157.4497, \"2018-08-17 08:29\", \"Surface\", 22.0, 8, 6.22, 30.91, 4.9], [\"HLY1801\", \"DBO5-6\", 63.0, 71.4543, -157.5532, \"2018-08-17 10:29\", \"Surface\", 22.0, 4, 4.21, 30.36, 3.4], [\"HLY1801\", \"DBO5-7\", 64.0, 71.4953, -157.6265, \"2018-08-17 12:15\", \"Surface\", 20.0, 24, 4.62, 30.55, 3.4], [\"HLY1801\", \"DBO5-8\", 65.0, 71.5358, -157.7107, \"2018-08-17 13:48\", \"Surface\", 18.0, 11, 4.76, 30.44, 2.9], [\"HLY1801\", \"DBO5-9\", 66.0, 71.5835, -157.8175, \"2018-08-17 15:27\", \"Surface\", 18.0, 41, 4.81, 30.35, 3.5], [\"HLY1801\", \"DBO5-10\", 67.0, 71.6262, -157.9005, \"2018-08-17 17:42\", \"Surface\", 18.0, 11, 2.65, 29.33, 3.3], [\"HLY1801\", \"OS4-2\", 71.0, 71.95, -153.3597, \"2018-08-18 10:06\", \"Surface\", 24.0, 4, -0.93, 26.28, 2.2], [\"HLY1801\", \"OS3-4\", 79.0, 71.496, -154.4728, \"2018-08-18 22:07\", \"Surface\", 12.0, 29, 2.68, 28.17, 3.1], [\"HLY1801\", \"OS3-15\", 90.0, 72.2347, -154.6282, \"2018-08-19 15:45\", \"Surface\", 10.0, 12, 1.8, 28.21, 2.3], [\"HLY1801\", \"OS2-6\", 102.0, 72.1093, -155.54, \"2018-08-20 09:29\", \"Surface\", 10.0, 2, 1.12, 27.53, 2.6], [\"HLY1801\", \"OS1-12\", 117.0, 72.6198, -156.6018, \"2018-08-21 03:35\", \"Surface\", 12.0, 0, -0.8, 26.02, 2.7], [\"HLY1801\", \"LB-13\", 134.0, 70.2598, -168.5445, \"2018-08-22 19:31\", \"Surface\", 10.0, 5523, 7.57, 31.31, 4.4], [\"HLY1801\", \"LB-13\", 134.0, 70.2598, -168.5445, \"2018-08-22 19:31\", \"10m\", 8.0, 5110, 7.56, 31.31, 10.5], [\"HLY1801\", \"LB-13\", 134.0, 70.2598, -168.5445, \"2018-08-22 19:31\", \"30m\", 4.0, 3888, 2.84, 31.91, 30.2], [\"HLY1801\", \"LB-12\", 135.0, 70.1648, -168.1307, \"2018-08-22 21:52\", \"Surface\", 12.0, 1463, 8.21, 31.24, 4.2], [\"HLY1801\", \"LB-12\", 135.0, 70.1648, -168.1307, \"2018-08-22 21:52\", \"10m\", 10.0, 1750, 8.19, 31.24, 10.8], [\"HLY1801\", \"LB-12\", 135.0, 70.1648, -168.1307, \"2018-08-22 21:52\", \"20m\", 8.0, 1270, 7.23, 31.38, 20.9], [\"HLY1801\", \"LB-12\", 135.0, 70.1648, -168.1307, \"2018-08-22 21:52\", \"30m\", 6.0, 90, 3.06, 31.86, 29.9], [\"HLY1801\", \"LB-11\", 136.0, 70.0578, -167.6565, \"2018-08-22 23:18\", \"Surface\", 12.0, 5429, 9.0, 30.73, 4.0], [\"HLY1801\", \"LB-11\", 136.0, 70.0578, -167.6565, \"2018-08-22 23:18\", \"10m\", 10.0, 4763, 8.99, 30.74, 11.2], [\"HLY1801\", \"LB-11\", 136.0, 70.0578, -167.6565, \"2018-08-22 23:18\", \"20m\", 8.0, 3660, 8.83, 30.86, 20.4], [\"HLY1801\", \"LB-11\", 136.0, 70.0578, -167.6565, \"2018-08-22 23:18\", \"30m\", 6.0, 45, 2.19, 32.06, 29.6], [\"HLY1801\", \"LB-10\", 137.0, 69.9567, -167.2213, \"2018-08-23 01:18\", \"Surface\", 10.0, 1780, 9.19, 30.34, 4.0], [\"HLY1801\", \"LB-10\", 137.0, 69.9567, -167.2213, \"2018-08-23 01:18\", \"10m\", 8.0, 3666, 9.12, 30.38, 10.9], [\"HLY1801\", \"LB-10\", 137.0, 69.9567, -167.2213, \"2018-08-23 01:18\", \"20m\", 6.0, 3771, 8.56, 30.78, 21.1], [\"HLY1801\", \"LB-10\", 137.0, 69.9567, -167.2213, \"2018-08-23 01:18\", \"30m\", 4.0, 8, 4.94, 31.85, 30.9], [\"HLY1801\", \"LB-9\", 138.0, 69.879, -166.8215, \"2018-08-23 02:41\", \"Surface\", 10.0, 1268, 9.25, 30.33, 4.6], [\"HLY1801\", \"LB-9\", 138.0, 69.879, -166.8215, \"2018-08-23 02:41\", \"10m\", 8.0, 1562, 9.25, 30.32, 10.3], [\"HLY1801\", \"LB-9\", 138.0, 69.879, -166.8215, \"2018-08-23 02:41\", \"20m\", 6.0, 2017, 9.25, 30.31, 21.2], [\"HLY1801\", \"LB-9\", 138.0, 69.879, -166.8215, \"2018-08-23 02:41\", \"30m\", 4.0, 37, 5.39, 31.67, 30.3], [\"HLY1801\", \"LB-8\", 139.0, 69.7797, -166.44, \"2018-08-23 04:37\", \"Surface\", 10.0, 501, 9.4, 30.37, 5.2], [\"HLY1801\", \"LB-8\", 139.0, 69.7797, -166.44, \"2018-08-23 04:37\", \"10m\", 8.0, 390, 9.4, 30.37, 10.1], [\"HLY1801\", \"LB-8\", 139.0, 69.7797, -166.44, \"2018-08-23 04:37\", \"20m\", 6.0, 888, 9.14, 30.51, 20.4], [\"HLY1801\", \"LB-8\", 139.0, 69.7797, -166.44, \"2018-08-23 04:37\", \"30m\", 4.0, 565, 7.51, 31.33, 31.4], [\"HLY1801\", \"LB-7\", 140.0, 69.6832, -166.0928, \"2018-08-23 05:48\", \"Surface\", 10.0, 544, 9.2, 30.38, 3.9], [\"HLY1801\", \"LB-7\", 140.0, 69.6832, -166.0928, \"2018-08-23 05:48\", \"10m\", 8.0, 343, 9.2, 30.38, 10.6], [\"HLY1801\", \"LB-7\", 140.0, 69.6832, -166.0928, \"2018-08-23 05:48\", \"20m\", 6.0, 740, 9.2, 30.38, 20.7], [\"HLY1801\", \"LB-7\", 140.0, 69.6832, -166.0928, \"2018-08-23 05:48\", \"30m\", 4.0, 32, 6.64, 31.63, 31.2], [\"HLY1801\", \"LB-6\", 141.0, 69.5815, -165.7402, \"2018-08-23 07:29\", \"Surface\", 10.0, 2009, 9.33, 30.41, 3.6], [\"HLY1801\", \"LB-6\", 141.0, 69.5815, -165.7402, \"2018-08-23 07:29\", \"10m\", 8.0, 950, 9.33, 30.42, 10.9], [\"HLY1801\", \"LB-6\", 141.0, 69.5815, -165.7402, \"2018-08-23 07:29\", \"20m\", 6.0, 2668, 9.29, 30.48, 20.2], [\"HLY1801\", \"LB-6\", 141.0, 69.5815, -165.7402, \"2018-08-23 07:29\", \"30m\", 4.0, 4188, 9.14, 30.68, 31.2], [\"HLY1801\", \"LB-5\", 142.0, 69.4962, -165.3785, \"2018-08-23 08:51\", \"Surface\", 8.0, 1214, 8.68, 30.84, 4.1], [\"HLY1801\", \"LB-5\", 142.0, 69.4962, -165.3785, \"2018-08-23 08:51\", \"10m\", 6.0, 2133, 8.69, 30.84, 10.1], [\"HLY1801\", \"LB-5\", 142.0, 69.4962, -165.3785, \"2018-08-23 08:51\", \"20m\", 4.0, 2067, 8.69, 30.84, 20.4], [\"HLY1801\", \"LB-5\", 142.0, 69.4962, -165.3785, \"2018-08-23 08:51\", \"30m\", 2.0, 3010, 8.64, 30.89, 30.0], [\"OS19-01\", \"Underway 20:08\", NaN, 61.247833, -168.79133, \"2019-08-04 20:08\", \"Underway\", NaN, 4, NaN, NaN, NaN], [\"OS19-01\", \"Underway 20:09\", NaN, 61.233333, -168.78333, \"2019-08-04 20:09\", \"Underway\", NaN, 0, NaN, NaN, NaN], [\"OS19-01\", \"Underway 21:38\", NaN, 61.4145, -168.603, \"2019-08-04 21:38\", \"Underway\", NaN, 0, NaN, NaN, NaN], [\"OS19-01\", \"Underway 01:59\", NaN, 61.996017, -168.11087, \"2019-08-05 01:59\", \"Underway\", NaN, 1, NaN, NaN, NaN], [\"OS19-01\", \"Underway 16:49\", NaN, 63.83065, -166.19028, \"2019-08-05 16:09\", \"Underway\", NaN, 0, NaN, NaN, NaN], [\"OS19-01\", \"Underway 20:14\", NaN, 64.253717, -165.71275, \"2019-08-05 20:14\", \"Underway\", NaN, 0, NaN, NaN, NaN], [\"OS19-01\", \"Underway 02:02\", NaN, 63.371983, -168.71308, \"2019-08-06 02:02\", \"Underway\", NaN, 0, NaN, NaN, NaN], [\"OS19-01\", \"Underway 03:31\", NaN, 63.480617, -169.06645, \"2019-08-06 03:31\", \"Underway\", NaN, 0, NaN, NaN, NaN], [\"HLY1901\", \"DBO1-1\", 1.0, 62.0048, -175.0692, \"2019-08-06 04:44\", \"Surface\", 11.0, 0, 9.67, 32.19, 5.2], [\"HLY1901\", \"DBO1-2\", 2.0, 62.0442, -175.2153, \"2019-08-06 06:57\", \"Surface\", 12.0, 4, 9.63, 32.21, 2.8], [\"HLY1901\", \"DBO1-3\", 3.0, 62.2162, -174.8753, \"2019-08-06 12:06\", \"Underway\", NaN, 7, 9.51, 32.15, NaN], [\"HLY1901\", \"DBO1-4\", 4.0, 62.392, -174.5642, \"2019-08-06 13:29\", \"Surface\", 13.0, 77, 9.12, 32.11, 4.5], [\"HLY1901\", \"DBO1-5\", 5.0, 62.4692, -174.0843, \"2019-08-06 16:03\", \"Underway\", NaN, 7, 9.32, 32.14, NaN], [\"OS19-01\", \"N-1\", 1.0, 63.294, -168.424833, \"2019-08-06 16:13\", \"Surface\", 12.0, 1, 8.95, NaN, 2.0], [\"HLY1901\", \"DBO1-6\", 6.0, 62.5528, -173.5547, \"2019-08-06 17:37\", \"Surface\", 11.0, 1, 9.4, 32.13, 5.8], [\"HLY1901\", \"DBO1-7\", 7.0, 62.7885, -173.4988, \"2019-08-06 20:13\", \"Underway\", NaN, 7, 9.26, 32.18, NaN], [\"HLY1901\", \"DBO1-8\", 8.0, 63.0345, -173.4617, \"2019-08-06 21:36\", \"Surface\", 15.0, 9, 9.26, 32.2, 3.4], [\"HLY1901\", \"DBO1-9\", 9.0, 63.2768, -173.074, \"2019-08-07 02:30\", \"Underway\", NaN, 1, 9.06, 32.2, NaN], [\"HLY1901\", \"DBO1-10\", 10.0, 63.6023, -172.5865, \"2019-08-07 04:34\", \"Underway\", NaN, 4, 10.4, 31.83, NaN], [\"HLY1901\", \"Transit-1\", NaN, 63.8755, -171.8075, \"2019-08-07 06:30\", \"Underway\", NaN, 7, 9.8, 31.85, NaN], [\"HLY1901\", \"Transit-2\", NaN, 64.111667, -171.008333, \"2019-08-07 08:05\", \"Underway\", NaN, 13, 8.66, 30.01, NaN], [\"HLY1901\", \"Transit-3\", NaN, 64.209833, -169.481667, \"2019-08-07 10:30\", \"Underway\", NaN, 17, 7.04, 31.09, NaN], [\"HLY1901\", \"Transit-4\", NaN, 64.290833, -168.323667, \"2019-08-07 12:35\", \"Underway\", NaN, 5, 11.18, 30.86, NaN], [\"OS19-01\", \"N-2\", 2.0, 64.15833, -171.48183, \"2019-08-07 14:24\", \"Surface\", 12.0, 12, 9.92, 30.37, 3.0], [\"HLY1901\", \"Transit-5\", NaN, 64.364167, -167.096667, \"2019-08-07 14:34\", \"Underway\", NaN, 0, 10.17, 31.51, NaN], [\"HLY1901\", \"DBO2-B\", 12.0, 64.6728, -166.9555, \"2019-08-08 07:34\", \"Surface\", 6.0, 0, 12.94, 27.13, 3.1], [\"HLY1901\", \"DBO2-C\", 13.0, 64.6717, -167.2817, \"2019-08-08 09:14\", \"Underway\", NaN, 0, 12.91, 26.97, NaN], [\"HLY1901\", \"DBO2-D\", 14.0, 64.6695, -167.597, \"2019-08-08 10:14\", \"Surface\", 6.0, 0, 9.07, 31.62, 3.4], [\"HLY1901\", \"DBO2-E\", 15.0, 64.6705, -167.9062, \"2019-08-08 11:53\", \"Underway\", NaN, 0, 10.32, 31.27, NaN], [\"HLY1901\", \"DBO2-3\", 16.0, 64.6742, -168.2292, \"2019-08-08 13:06\", \"Surface\", 8.0, 0, 10.77, 30.73, 3.6], [\"HLY1901\", \"DBO2-F\", 17.0, 64.6722, -168.6845, \"2019-08-08 15:13\", \"Underway\", NaN, 5, 6.2, 32.25, NaN], [\"OS19-01\", \"N-3\", 5.0, 64.38917, -167.076, \"2019-08-08 16:16\", \"Surface\", 6.0, 1, 10.45, 31.53, 2.0], [\"HLY1901\", \"DBO2-2\", 18.0, 64.6815, -169.0872, \"2019-08-08 16:35\", \"Surface\", 8.0, 2, 5.33, 32.46, 3.5], [\"HLY1901\", \"DBO2-G\", 19.0, 64.6707, -169.4982, \"2019-08-08 18:42\", \"Underway\", NaN, 8, 7.95, 30.97, NaN], [\"HLY1901\", \"DBO2-1\", 20.0, 64.6723, -169.9172, \"2019-08-08 20:29\", \"Surface\", 8.0, 5, 5.64, 31.93, 3.0], [\"HLY1901\", \"DBO2-H\", 21.0, 64.6762, -170.2585, \"2019-08-08 22:34\", \"Underway\", NaN, 24, 2.73, 32.51, NaN], [\"HLY1901\", \"DBO2-0\", 22.0, 64.6718, -170.646, \"2019-08-08 23:42\", \"Surface\", 8.0, 3, 2.61, 32.85, 3.0], [\"HLY1901\", \"DBO2-4\", 23.0, 64.9623, -169.8977, \"2019-08-09 02:48\", \"Surface\", 8.0, 10, 5.02, 32.78, 3.1], [\"HLY1901\", \"DBO2-5\", 24.0, 64.993, -169.1325, \"2019-08-09 05:42\", \"Surface\", 8.0, 37, 4.25, 32.92, 2.9], [\"HLY1901\", \"DBO2-7\", 25.0, 65.003, -168.221, \"2019-08-09 08:36\", \"Surface\", 8.0, 6, 9.29, 31.07, 3.2], [\"HLY1901\", \"Transit-6\", NaN, 65.535, -168.4455, \"2019-08-09 12:00\", \"Underway\", NaN, 8, 9.77, 31.12, NaN], [\"HLY1901\", \"Transit-7\", NaN, 66.011667, -168.384333, \"2019-08-09 14:00\", \"Underway\", NaN, 20, 9.17, 31.1, NaN], [\"HLY1901\", \"Transit-8\", NaN, 66.541667, -168.405, \"2019-08-09 15:54\", \"Underway\", NaN, 29, 10.13, 30.62, NaN], [\"HLY1901\", \"Transit-9\", NaN, 66.852833, -168.492167, \"2019-08-09 17:08\", \"Underway\", NaN, 101, 10.13, 31.1, NaN], [\"HLY1901\", \"Transit-10\", NaN, 66.9365, -168.5175, \"2019-08-09 17:27\", \"Underway\", NaN, 1175, 10.08, 31.09, NaN], [\"HLY1901\", \"Transit-12\", NaN, 67.721667, -168.7421, \"2019-08-09 20:37\", \"Underway\", NaN, 8222, 6.41, 32.81, NaN], [\"HLY1901\", \"Mooring1\", 26.0, 68.0303, -168.8223, \"2019-08-09 22:14\", \"Surface\", 7.0, 615, 5.98, 32.93, 2.9], [\"HLY1901\", \"Transit-13\", NaN, 67.949, -168.868867, \"2019-08-10 01:02\", \"Underway\", NaN, 519, 5.84, 32.95, NaN], [\"HLY1901\", \"Transit-14\", NaN, 67.753733, -168.921867, \"2019-08-10 01:50\", \"Underway\", NaN, 957, 6.93, 32.83, NaN], [\"HLY1901\", \"DBO3-8\", 27.0, 67.6745, -168.939, \"2019-08-10 02:29\", \"Surface\", 12.0, 1528, 6.45, 32.86, 3.1], [\"HLY1901\", \"DBO3-7\", 28.0, 67.7812, -168.6063, \"2019-08-10 06:12\", \"Surface\", 8.0, 4225, 6.54, 32.76, 3.1], [\"HLY1901\", \"DBO3-6\", 29.0, 67.8933, -168.2302, \"2019-08-10 08:15\", \"Surface\", 11.0, 892, 6.58, 32.77, 2.8], [\"HLY1901\", \"DBO3-5\", 30.0, 68.0117, -167.8857, \"2019-08-10 12:04\", \"Surface\", 8.0, 41, 7.79, 32.45, 3.0], [\"HLY1901\", \"DBO3-4\", 31.0, 68.1297, -167.4898, \"2019-08-10 14:08\", \"Surface\", 8.0, 1354, 8.0, 32.27, 2.4], [\"HLY1901\", \"DBO3-3\", 32.0, 68.185, -167.3017, \"2019-08-10 15:36\", \"Surface\", 8.0, 1344, 8.9, 32.05, 3.6], [\"OS19-01\", \"N-5\", 8.0, 67.54083, -164.8945, \"2019-08-10 15:51\", \"Surface\", 12.0, 57, 11.35, 29.9, 2.0], [\"HLY1901\", \"DBO3-2\", 33.0, 68.2432, -167.1383, \"2019-08-10 17:04\", \"Surface\", 7.0, 153, 10.27, 31.15, 2.9], [\"HLY1901\", \"DBO3-1\", 34.0, 68.3028, -166.9432, \"2019-08-10 18:53\", \"Surface\", 6.0, 8, 12.64, 29.0, 3.3], [\"HLY1901\", \"Transit-15\", NaN, 68.501333, -167.141167, \"2019-08-10 20:39\", \"Underway\", NaN, 13, 12.77, 28.14, NaN], [\"HLY1901\", \"Transit-16\", NaN, 68.786367, -166.90265, \"2019-08-10 21:55\", \"Underway\", NaN, 1, 12.07, 28.58, NaN], [\"HLY1901\", \"Transit-17\", NaN, 69.081167, -166.647983, \"2019-08-10 23:11\", \"Underway\", NaN, 6, 12.28, 28.73, NaN], [\"HLY1901\", \"Transit-18\", NaN, 69.375833, -166.228833, \"2019-08-11 00:35\", \"Underway\", NaN, 0, 11.81, 29.12, NaN], [\"OS19-01\", \"CK-12\", 9.0, 67.910835, -168.19467, \"2019-08-11 01:00\", \"Surface\", 12.0, 507, 7.35, 32.74, 2.0], [\"HLY1901\", \"Transit-19\", NaN, 69.6705, -165.741367, \"2019-08-11 02:00\", \"Underway\", NaN, 13, 11.48, 29.39, NaN], [\"HLY1901\", \"Transit-20\", NaN, 69.911667, -165.340333, \"2019-08-11 03:08\", \"Underway\", NaN, 24, 10.58, 30.38, NaN], [\"HLY1901\", \"Transit-21\", NaN, 70.180333, -164.884833, \"2019-08-11 04:23\", \"Underway\", NaN, 110, 10.34, 30.44, NaN], [\"HLY1901\", \"Transit-22\", NaN, 70.459667, -164.040667, \"2019-08-11 06:00\", \"Underway\", NaN, 25, 10.83, 30.39, NaN], [\"HLY1901\", \"Transit-23\", NaN, 70.661667, -163.1225, \"2019-08-11 07:25\", \"Underway\", NaN, 221, 10.43, 31.0, NaN], [\"HLY1901\", \"Transit-24\", NaN, 70.916167, -161.988333, \"2019-08-11 09:15\", \"Underway\", NaN, 32, 8.57, 31.5, NaN], [\"HLY1901\", \"DBO4-1N\", 35.0, 71.0852, -161.2008, \"2019-08-11 10:41\", \"Surface\", 9.0, 4, 7.19, 29.21, 2.8], [\"HLY1901\", \"DBO4-2N\", 36.0, 71.2232, -161.2785, \"2019-08-11 12:46\", \"Surface\", 12.0, 2, 6.58, 29.35, 2.9], [\"OS19-01\", \"N-6\", 10.0, 68.6725, -167.74234, \"2019-08-11 14:04\", \"Surface\", 11.0, 73, 9.53, 31.9, 2.0], [\"HLY1901\", \"DBO4-3N\", 37.0, 71.3457, -161.3978, \"2019-08-11 16:03\", \"Surface\", 7.0, 0, 6.91, 29.63, 3.5], [\"HLY1901\", \"DBO4-4N\", 38.0, 71.4793, -161.4993, \"2019-08-11 18:32\", \"Surface\", 9.0, 0, 6.4, 29.67, 3.0], [\"OS19-01\", \"N-6\", 11.0, 68.673, -167.74733, \"2019-08-11 19:37\", \"Surface\", 12.0, 67, 9.46, 31.95, 2.0], [\"HLY1901\", \"DBO4-5N\", 39.0, 71.6047, -161.6253, \"2019-08-11 22:17\", \"Surface\", 8.0, 0, 6.5, 29.91, 3.4], [\"HLY1901\", \"DBO4-6N\", 40.0, 71.7375, -161.7335, \"2019-08-11 23:58\", \"Surface\", 8.0, 2, 6.23, 29.9, 4.7], [\"HLY1901\", \"NNE-7\", 41.0, 72.898, -160.8428, \"2019-08-12 07:55\", \"Surface\", 5.0, 8, 5.11, 29.1, 3.0], [\"HLY1901\", \"NNE-9\", 43.0, 73.0177, -160.6458, \"2019-08-12 10:00\", \"Surface\", 7.0, 6, 5.63, 28.91, 2.4], [\"HLY1901\", \"NNE-11\", 45.0, 73.137, -160.4497, \"2019-08-12 12:35\", \"Surface\", 12.0, 14, 4.69, 30.09, 2.8], [\"OS19-01\", \"CK-10\", 13.0, 70.218666, -167.79483, \"2019-08-12 14:05\", \"Surface\", 12.0, 12, 9.69, 30.5, 2.0], [\"HLY1901\", \"NNE-13\", 47.0, 73.2592, -160.2483, \"2019-08-12 16:15\", \"Surface\", 13.0, 29, 5.29, 28.79, 4.3], [\"OS19-01\", \"CK-11\", 14.0, 70.017166, -166.8655, \"2019-08-12 17:36\", \"Surface\", 12.0, 37, 11.27, 29.26, 2.0], [\"HLY1901\", \"NNE-15\", 49.0, 73.3805, -160.0643, \"2019-08-12 20:21\", \"Surface\", 14.0, 7, 3.56, 27.6, 3.3], [\"HLY1901\", \"NNE-19\", 53.0, 73.6775, -159.5202, \"2019-08-13 06:19\", \"Surface\", 13.0, 18, 3.05, 27.49, 2.7], [\"HLY1901\", \"NNE-20\", 54.0, 73.7988, -159.2962, \"2019-08-13 08:02\", \"Surface\", 24.0, 67, 4.29, 28.25, 2.4], [\"HLY1901\", \"BL-10\", 55.0, 73.9405, -159.7517, \"2019-08-13 11:56\", \"Surface\", 14.0, 7, 3.16, 28.31, 2.8], [\"OS19-01\", \"CK-03\", 15.0, 71.82716, -166.05, \"2019-08-13 14:10\", \"Surface\", 12.0, 6, 8.99, 30.05, 2.0], [\"HLY1901\", \"BL-7\", 58.0, 74.1757, -160.6078, \"2019-08-13 15:47\", \"Surface\", 13.0, 0, 3.97, 28.44, 3.1], [\"OS19-01\", \"IC-1\", 16.0, 71.82567, -165.98384, \"2019-08-13 16:36\", \"Surface\", 8.0, 0, 8.99, 30.11, 2.0], [\"OS19-01\", \"IC-10\", 17.0, 71.707, -165.60767, \"2019-08-13 19:02\", \"Surface\", 12.0, 3, 8.93, 30.48, 2.0], [\"OS19-01\", \"IC-9\", 18.0, 71.60603, -165.30513, \"2019-08-13 20:22\", \"Surface\", 12.0, 0, 8.82, 30.64, 2.0], [\"HLY1901\", \"BL-5\", 60.0, 74.3447, -161.1765, \"2019-08-13 21:54\", \"Surface\", 14.0, 1, 3.25, 28.03, 6.0], [\"OS19-01\", \"IC-8\", 19.0, 71.45153, -164.9233, \"2019-08-13 22:13\", \"Surface\", 8.0, 4, 8.53, 29.86, 2.0], [\"OS19-01\", \"IC-7\", 20.0, 71.342964, -164.61781, \"2019-08-13 23:43\", \"Surface\", 12.0, 5, 8.31, 29.58, 2.0], [\"OS19-01\", \"C-2\", 21.0, 71.2162, -164.25798, \"2019-08-14 01:32\", \"Surface\", 10.0, 0, 8.46, 30.26, 2.0], [\"HLY1901\", \"BL-1\", 64.0, 74.6742, -162.3463, \"2019-08-14 04:21\", \"Surface\", 13.0, 0, 3.9, 28.34, 3.9], [\"HLY1901\", \"W-3\", 67.0, 74.6147, -163.3185, \"2019-08-14 08:24\", \"Surface\", 13.0, 3, 4.74, 29.61, 3.1], [\"HLY1901\", \"W-7\", 71.0, 74.355, -164.6605, \"2019-08-14 13:06\", \"Surface\", 14.0, 131, 5.3, 29.35, 3.9], [\"OS19-01\", \"IC-6\", 23.0, 71.200165, -164.20967, \"2019-08-14 15:22\", \"Surface\", 10.0, 9, 8.65, 30.44, 4.0], [\"HLY1901\", \"W-9\", 73.0, 74.2202, -165.3528, \"2019-08-14 15:36\", \"Surface\", 13.0, 32, 4.78, 28.95, 4.3], [\"OS19-01\", \"IC-5\", 24.0, 71.089836, -163.79866, \"2019-08-14 17:06\", \"Surface\", 11.0, 6, 8.41, 30.43, 3.0], [\"OS19-01\", \"IC-4\", 25.0, 70.97483, -163.56366, \"2019-08-14 18:41\", \"Surface\", 12.0, 15, 8.36, 30.32, 3.0], [\"OS19-01\", \"IC-3\", 26.0, 70.853, -163.18317, \"2019-08-14 20:24\", \"Surface\", 12.0, 93, 9.05, 31.17, 3.0], [\"OS19-01\", \"IC-2\", 27.0, 70.7225, -162.85083, \"2019-08-14 22:17\", \"Surface\", 8.0, 181, 11.01, 30.1, 3.0], [\"OS19-01\", \"IC-1\", 28.0, 70.583336, -162.4861, \"2019-08-14 23:53\", \"Surface\", 12.0, 63, 10.64, 30.33, 3.0], [\"OS19-01\", \"CK-14\", 29.0, 70.706, -162.44687, \"2019-08-15 01:22\", \"Surface\", 8.0, 68, 10.96, 30.17, 3.0], [\"HLY1901\", \"W-11\", 78.0, 74.2867, -165.0048, \"2019-08-15 09:32\", \"Surface\", 10.0, 23, 5.79, 29.42, 3.0], [\"HLY1901\", \"W-13\", 80.0, 74.1573, -165.6782, \"2019-08-15 11:32\", \"Surface\", 8.0, 6, 3.86, 28.4, 3.0], [\"OS19-01\", \"IC-1\", 30.0, 70.84237, -163.12099, \"2019-08-15 14:11\", \"Surface\", 11.0, 202, 10.25, 30.45, 3.0], [\"HLY1901\", \"W-15\", 82.0, 73.9707, -166.0023, \"2019-08-15 15:10\", \"Surface\", 7.0, 1, 4.94, 29.1, 3.5], [\"HLY1901\", \"W-17\", 84.0, 73.7435, -166.004, \"2019-08-15 18:45\", \"Surface\", 9.0, 4, 4.4, 27.54, 3.1], [\"HLY1901\", \"W-19\", 86.0, 73.521, -166.0057, \"2019-08-15 22:38\", \"Surface\", 8.0, 6, 4.36, 26.95, 3.7], [\"HLY1901\", \"DBO5-10\", 87.0, 71.618, -157.9172, \"2019-08-16 17:56\", \"Surface\", 9.0, 1, 6.04, 29.82, 3.3], [\"HLY1901\", \"DBO5-9\", 88.0, 71.5742, -157.8047, \"2019-08-16 19:41\", \"Surface\", 10.0, 0, 6.37, 29.8, 3.2], [\"HLY1901\", \"DBO5-8\", 89.0, 71.5343, -157.7352, \"2019-08-16 21:31\", \"Surface\", 9.0, 5, 6.33, 29.68, 3.4], [\"HLY1901\", \"DBO5-7\", 90.0, 71.4938, -157.6458, \"2019-08-16 23:14\", \"Surface\", 10.0, 2, 6.69, 29.64, 4.5], [\"HLY1901\", \"DBO5-5\", 92.0, 71.4047, -157.4598, \"2019-08-17 02:38\", \"Surface\", 11.0, 3, 6.83, 29.51, 3.5], [\"HLY1901\", \"DBO5-4\", 93.0, 71.3717, -157.3893, \"2019-08-17 04:44\", \"Surface\", 10.0, 19, 6.61, 29.42, 4.6], [\"HLY1901\", \"DBO5-3\", 94.0, 71.3242, -157.3215, \"2019-08-17 06:40\", \"Surface\", 10.0, 585, 9.67, 32.2, 4.8], [\"HLY1901\", \"DBO5-2\", 95.0, 71.289, -157.2193, \"2019-08-17 08:36\", \"Surface\", 8.0, 713, 9.33, 31.01, 4.1], [\"HLY1901\", \"DBO5-1\", 96.0, 71.251, -157.1557, \"2019-08-17 09:48\", \"Surface\", 7.0, 610, 9.22, 31.06, 3.7], [\"HLY1901\", \"BCW-1\", 97.0, 72.4722, -155.4207, \"2019-08-18 01:01\", \"Surface\", 13.0, 112, 4.41, 28.3, 3.3], [\"OS19-01\", \"CK-1\", 31.0, 70.83567, -163.123, \"2019-08-18 15:26\", \"Surface\", 12.0, 822, 9.68, 30.93, 2.0], [\"OS19-01\", \"CK-2\", 32.0, 71.2145, -164.2575, \"2019-08-18 22:18\", \"Surface\", 12.0, 5, 8.81, 30.69, 2.0], [\"HLY1901\", \"BCW-10\", 99.0, 71.9082, -156.1932, \"2019-08-19 03:48\", \"Surface\", 9.0, 19, 6.19, 30.23, 3.3], [\"HLY1901\", \"BCW-8\", 101.0, 72.0308, -156.028, \"2019-08-19 05:55\", \"Surface\", 12.0, 27, 6.05, 30.35, 3.0], [\"HLY1901\", \"BCW-6\", 103.0, 72.1557, -155.8478, \"2019-08-19 08:25\", \"Surface\", 12.0, 13, 6.04, 30.32, 3.9], [\"HLY1901\", \"BCW-3\", 106.0, 72.3473, -155.6042, \"2019-08-19 12:47\", \"Surface\", 13.0, 133, 6.35, 29.51, 3.1], [\"OS19-01\", \"CEO\", 33.0, 71.6, -161.5155, \"2019-08-19 14:06\", \"Surface\", 12.0, 2, 6.56, 29.88, 2.0], [\"OS19-01\", \"CEO\", 34.0, 71.59634, -161.51534, \"2019-08-19 16:31\", \"Surface\", 12.0, 0, 6.49, 29.86, 2.0], [\"OS19-01\", \"CK-04\", 35.0, 71.04643, -160.49507, \"2019-08-19 21:17\", \"Surface\", 12.0, 2, 6.56, 29.4, 2.0], [\"HLY1901\", \"BCE-1\", 107.0, 71.5357, -154.0313, \"2019-08-20 02:34\", \"Surface\", 7.0, 730, 8.37, 30.5, 3.6], [\"HLY1901\", \"BCE-2\", 108.0, 71.5957, -153.9502, \"2019-08-20 03:48\", \"Surface\", 4.0, 1154, 8.41, 30.44, 3.2], [\"OS19-01\", \"CK-05\", 36.0, 71.20617, -158.01517, \"2019-08-20 04:02\", \"Surface\", 12.0, 200, 9.35, 30.78, 2.0], [\"HLY1901\", \"BCE-3\", 109.0, 71.6498, -153.8398, \"2019-08-20 04:30\", \"Surface\", 8.0, 990, 8.61, 30.47, 3.3], [\"HLY1901\", \"BCE-4\", 110.0, 71.7147, -153.7393, \"2019-08-20 05:43\", \"Surface\", 4.0, 259, 8.66, 30.54, 3.6], [\"HLY1901\", \"BCE-5\", 111.0, 71.7815, -153.63, \"2019-08-20 06:38\", \"Surface\", 11.0, 796, 8.35, 30.65, 3.0], [\"HLY1901\", \"BCE-6\", 112.0, 71.8387, -153.5562, \"2019-08-20 08:19\", \"Surface\", 6.0, 177, 7.3, 29.99, 2.9], [\"HLY1901\", \"BCE-7\", 113.0, 71.8928, -153.459, \"2019-08-20 09:08\", \"Surface\", 13.0, 28, 6.6, 30.3, 3.2], [\"HLY1901\", \"BCE-8\", 114.0, 71.9517, -153.3652, \"2019-08-20 10:13\", \"Surface\", 5.0, 7, 6.3, 30.4, 3.2], [\"HLY1901\", \"BCE-9\", 115.0, 72.0202, -153.2562, \"2019-08-20 11:08\", \"Surface\", 13.0, 21, 6.53, 30.25, 4.0], [\"OS19-01\", \"BFA-8\", 37.0, 71.87883, -153.58083, \"2019-08-20 17:40\", \"Surface\", 12.0, 76, 6.77, 29.67, 2.0], [\"OS19-01\", \"BFA-6\", 38.0, 71.7095, -153.7505, \"2019-08-20 20:25\", \"Surface\", 12.0, 163, 8.46, 30.58, 2.0], [\"HLY1901\", \"Helo-stop\", NaN, 71.860833, -153.9415, \"2019-08-20 22:30\", \"Underway\", NaN, 47, 6.85, 29.7, NaN], [\"OS19-01\", \"BFA-4\", 39.0, 71.50317, -154.10217, \"2019-08-20 23:35\", \"Surface\", 11.0, 146, 8.6, 30.58, 3.0], [\"OS19-01\", \"BFA-3\", 40.0, 71.4285, -154.23866, \"2019-08-21 00:33\", \"Surface\", 11.0, 539, 8.42, 30.49, 2.0], [\"HLY1901\", \"Transit-25\", NaN, 71.867667, -154.6635, \"2019-08-21 00:45\", \"Underway\", NaN, 50, 6.81, 29.79, NaN], [\"HLY1901\", \"Transit-26\", NaN, 71.897833, -156.295, \"2019-08-21 02:59\", \"Underway\", NaN, 45, 6.1, 30.03, NaN], [\"HLY1901\", \"Transit-27\", NaN, 71.8025, -157.653167, \"2019-08-21 04:50\", \"Underway\", NaN, 6, 5.56, 0.19, NaN], [\"HLY1901\", \"Transit-28\", NaN, 71.6535, -158.9925, \"2019-08-21 06:45\", \"Underway\", NaN, 1, 5.77, 29.41, NaN], [\"HLY1901\", \"Transit-29\", NaN, 71.461667, -160.708667, \"2019-08-21 08:50\", \"Underway\", NaN, 3, 6.01, 29.3, NaN], [\"HLY1901\", \"Transit-30\", NaN, 71.3075, -162.072667, \"2019-08-21 10:55\", \"Underway\", NaN, 5, 7.08, 29.4, NaN], [\"HLY1901\", \"Transit-31\", NaN, 71.149667, -163.467333, \"2019-08-21 13:03\", \"Underway\", NaN, 8, 7.97, 29.31, NaN], [\"HLY1901\", \"Transit-32\", NaN, 70.970667, -164.792167, \"2019-08-21 15:02\", \"Underway\", NaN, 55, 8.67, 31.1, NaN], [\"HLY1901\", \"Transit-33\", NaN, 70.776333, -166.0885, \"2019-08-21 17:02\", \"Underway\", NaN, 1130, 10.61, 29.61, NaN], [\"HLY1901\", \"Transit-34\", NaN, 70.666667, -166.817167, \"2019-08-21 18:09\", \"Underway\", NaN, 472, 10.89, 29.48, NaN], [\"HLY1901\", \"Transit-35\", NaN, 70.558333, -167.364167, \"2019-08-21 19:03\", \"Underway\", NaN, 375, 10.41, 29.88, NaN], [\"HLY1901\", \"Transit-36\", NaN, 70.41, -167.9495, \"2019-08-21 20:05\", \"Underway\", NaN, 555, 10.15, 30.31, NaN], [\"HLY1901\", \"LB-13\", 116.0, 70.2613, -168.5183, \"2019-08-21 21:16\", \"Surface\", 7.0, 154, 9.26, 31.65, 3.2], [\"HLY1901\", \"LB-13\", 116.0, 70.2613, -168.5183, \"2019-08-21 21:16\", \"10m\", 5.0, 26, 9.09, 31.9, 10.0], [\"HLY1901\", \"LB-13\", 116.0, 70.2613, -168.5183, \"2019-08-21 21:16\", \"20m\", 4.0, 16, 6.01, 32.35, 20.0], [\"HLY1901\", \"LB-13\", 116.0, 70.2613, -168.5183, \"2019-08-21 21:16\", \"Bottom\", 2.0, 1, 0.2, 32.37, 42.0], [\"HLY1901\", \"LB-12\", 117.0, 70.1705, -168.1275, \"2019-08-21 22:34\", \"Surface\", 8.0, 369, 9.82, 30.59, 3.0], [\"HLY1901\", \"LB-12\", 117.0, 70.1705, -168.1275, \"2019-08-21 22:34\", \"10m\", 6.0, 232, 9.35, 31.09, 10.0], [\"HLY1901\", \"LB-12\", 117.0, 70.1705, -168.1275, \"2019-08-21 22:34\", \"20m\", 5.0, 12, 5.77, 32.34, 20.2], [\"HLY1901\", \"LB-12\", 117.0, 70.1705, -168.1275, \"2019-08-21 22:34\", \"Bottom\", 2.0, 6, 1.46, 32.39, 45.8], [\"HLY1901\", \"LB-11\", 118.0, 70.0582, -167.6458, \"2019-08-22 00:39\", \"Surface\", 8.0, 25, 10.37, 30.49, 3.4], [\"HLY1901\", \"LB-11\", 118.0, 70.0582, -167.6458, \"2019-08-22 00:39\", \"10m\", 6.0, 53, 10.37, 30.5, 10.1], [\"HLY1901\", \"LB-11\", 118.0, 70.0582, -167.6458, \"2019-08-22 00:39\", \"20m\", 5.0, 2, 8.83, 31.54, 20.1], [\"HLY1901\", \"LB-11\", 118.0, 70.0582, -167.6458, \"2019-08-22 00:39\", \"Bottom\", 2.0, 0, 5.77, 32.42, 48.0], [\"HLY1901\", \"LB-10\", 119.0, 69.9595, -167.2257, \"2019-08-22 01:59\", \"Surface\", 7.0, 24, 10.15, 30.41, 3.0], [\"HLY1901\", \"LB-10\", 119.0, 69.9595, -167.2257, \"2019-08-22 01:59\", \"10m\", 5.0, 139, 9.31, 31.29, 10.1], [\"HLY1901\", \"LB-10\", 119.0, 69.9595, -167.2257, \"2019-08-22 01:59\", \"20m\", 4.0, 1, 8.17, 32.0, 20.3], [\"HLY1901\", \"LB-10\", 119.0, 69.9595, -167.2257, \"2019-08-22 01:59\", \"Bottom\", 2.0, 0, 5.64, 32.45, 46.4], [\"OS19-01\", \"Underway 02:37\", NaN, 70.192283, -164.51067, \"2019-08-22 02:37\", \"Underway\", NaN, 155, 10.98, 29.58, 0.0], [\"HLY1901\", \"LB-9\", 120.0, 69.883, -166.8177, \"2019-08-22 03:42\", \"Surface\", 7.0, 0, 10.94, 29.34, 3.2], [\"HLY1901\", \"LB-9\", 120.0, 69.883, -166.8177, \"2019-08-22 03:42\", \"10m\", 5.0, 16, 8.95, 31.73, 10.3], [\"HLY1901\", \"LB-9\", 120.0, 69.883, -166.8177, \"2019-08-22 03:42\", \"20m\", 4.0, 0, 7.76, 32.02, 20.3], [\"HLY1901\", \"LB-9\", 120.0, 69.883, -166.8177, \"2019-08-22 03:42\", \"Bottom\", 2.0, 3, 5.92, 32.43, 45.4], [\"HLY1901\", \"LB-8\", 121.0, 69.785, -166.452, \"2019-08-22 04:57\", \"Surface\", 7.0, 1, 11.47, 28.96, 3.2], [\"HLY1901\", \"LB-8\", 121.0, 69.785, -166.452, \"2019-08-22 04:57\", \"10m\", 5.0, 2, 11.42, 28.93, 10.2], [\"HLY1901\", \"LB-8\", 121.0, 69.785, -166.452, \"2019-08-22 04:57\", \"20m\", 4.0, 1, 9.91, 30.82, 20.3], [\"HLY1901\", \"LB-8\", 121.0, 69.785, -166.452, \"2019-08-22 04:57\", \"Bottom\", 2.0, 0, 6.42, 32.34, 43.9], [\"HLY1901\", \"LB-7\", 122.0, 69.6875, -166.094, \"2019-08-22 06:40\", \"Surface\", 7.0, 0, 11.48, 28.89, 3.2], [\"HLY1901\", \"LB-7\", 122.0, 69.6875, -166.094, \"2019-08-22 06:40\", \"10m\", 5.0, 1, 11.5, 28.9, 10.1], [\"HLY1901\", \"LB-7\", 122.0, 69.6875, -166.094, \"2019-08-22 06:40\", \"20m\", 4.0, 0, 11.49, 29.04, 20.4], [\"HLY1901\", \"LB-7\", 122.0, 69.6875, -166.094, \"2019-08-22 06:40\", \"Bottom\", 2.0, 0, 7.5, 32.05, 40.6], [\"HLY1901\", \"LB-6\", 123.0, 69.584, -165.7427, \"2019-08-22 07:51\", \"Surface\", 7.0, 1, 11.26, 29.0, 3.3], [\"HLY1901\", \"LB-6\", 123.0, 69.584, -165.7427, \"2019-08-22 07:51\", \"10m\", 5.0, 7, 11.27, 29.0, 10.4], [\"HLY1901\", \"LB-6\", 123.0, 69.584, -165.7427, \"2019-08-22 07:51\", \"20m\", 4.0, 2, 11.23, 29.93, 20.3], [\"HLY1901\", \"LB-6\", 123.0, 69.584, -165.7427, \"2019-08-22 07:51\", \"Bottom\", 2.0, 0, 8.28, 31.53, 36.6], [\"HLY1901\", \"LB-5\", 124.0, 69.5012, -165.3765, \"2019-08-22 09:25\", \"Surface\", 6.0, 4, 11.54, 28.85, 3.3], [\"HLY1901\", \"LB-5\", 124.0, 69.5012, -165.3765, \"2019-08-22 09:25\", \"10m\", 4.0, 1, 11.55, 28.85, 10.4], [\"HLY1901\", \"LB-5\", 124.0, 69.5012, -165.3765, \"2019-08-22 09:25\", \"20m\", 5.0, 1, NaN, NaN, NaN], [\"HLY1901\", \"LB-5\", 124.0, 69.5012, -165.3765, \"2019-08-22 09:25\", \"Bottom\", 2.0, 0, 9.02, 31.18, 32.6], [\"HLY1901\", \"Transit-37\", NaN, 69.359, -166.650667, \"2019-08-22 11:30\", \"Underway\", NaN, 1, 9.49, 31.17, NaN], [\"HLY1901\", \"Transit-38\", NaN, 69.071167, -167.263833, \"2019-08-22 13:20\", \"Underway\", NaN, 2, 9.49, 31.17, NaN], [\"HLY1901\", \"Transit-39\", NaN, 68.762333, -167.924167, \"2019-08-22 14:48\", \"Underway\", NaN, 1, 9.49, 31.17, NaN], [\"OS19-01\", \"Underway 15:57\", NaN, 68.487583, -167.48833, \"2019-08-22 15:57\", \"Underway\", NaN, 2, 10.95, 29.68, NaN], [\"HLY1901\", \"Transit-40\", NaN, 68.408, -168.3705, \"2019-08-22 16:24\", \"Underway\", NaN, 38, 9.49, 31.17, NaN], [\"HLY1901\", \"Transit-41\", NaN, 68.075, -168.785667, \"2019-08-22 17:53\", \"Underway\", NaN, 77, 9.49, 31.17, NaN], [\"OS19-01\", \"Underway 18:22\", NaN, 68.1726, -167.99145, \"2019-08-22 18:22\", \"Underway\", NaN, 15, 10.23, 30.79, NaN], [\"HLY1901\", \"Transit-42\", NaN, 67.883667, -168.929333, \"2019-08-22 19:22\", \"Underway\", NaN, 70, 9.49, 31.17, NaN], [\"HLY1901\", \"Transit-43\", NaN, 67.6295, -168.837333, \"2019-08-22 20:25\", \"Underway\", NaN, 33, 9.49, 31.17, NaN], [\"OS19-01\", \"Underway 21:06\", NaN, 67.82145, -168.52122, \"2019-08-22 21:06\", \"Underway\", NaN, 89, 6.65, 32.39, NaN], [\"OS19-01\", \"Underway 21:15\", NaN, 67.803467, -168.54508, \"2019-08-22 21:15\", \"Underway\", NaN, 58, 5.58, 32.75, NaN], [\"HLY1901\", \"Transit-44\", NaN, 67.2336, -168.70667, \"2019-08-22 22:02\", \"Underway\", NaN, 3, 9.49, 31.17, NaN], [\"OS19-01\", \"NN-6\", 41.0, 67.6695, -168.73816, \"2019-08-22 22:47\", \"Surface\", 12.0, 9, 5.78, 32.51, 3.0], [\"OS19-01\", \"Underway 02:08\", NaN, 67.3172, -168.64468, \"2019-08-23 02:08\", \"Underway\", NaN, 2, 9.18, 30.93, NaN], [\"OS19-01\", \"Underway 05:38\", NaN, 66.802917, -168.55442, \"2019-08-23 05:38\", \"Underway\", NaN, 0, 11.47, 28.72, NaN], [\"OS19-01\", \"Underway 15:23\", NaN, 65.082017, -167.50418, \"2019-08-23 15:23\", \"Underway\", NaN, 0, 11.24, 28.53, NaN], [\"OS19-01\", \"Underway 20:43\", NaN, 64.754067, -166.83743, \"2019-08-23 20:43\", \"Underway\", NaN, 0, 12.38, 26.77, NaN], [\"OS19-01\", \"Underway 18:52\", NaN, 69.714933, -166.94582, \"2019-08-26 18:52\", \"Underway\", NaN, 2, 10.24, 29.79, NaN], [\"OS19-01\", \"Underway 23:25\", NaN, 70.270333, -166.99018, \"2019-08-26 23:25\", \"Underway\", NaN, 1743, 9.99, 30.68, NaN], [\"OS19-01\", \"CHNO1\", 42.0, 72.499, -168.502167, \"2019-08-27 00:00\", \"Surface\", NaN, 85, NaN, NaN, NaN], [\"OS19-01\", \"CHNO2\", 43.0, 72.5005, -166.81583, \"2019-08-28 00:19\", \"Surface\", 12.0, 64, 6.96, 31.31, 2.0], [\"OS19-01\", \"CHNO3\", 44.0, 72.50017, -165.18433, \"2019-08-28 15:07\", \"Surface\", 12.0, 232, 6.17, 29.72, 3.0], [\"OS19-01\", \"CHNO4\", 45.0, 72.49983, -163.49817, \"2019-08-28 23:06\", \"Surface\", 12.0, 275, 5.25, 27.68, 3.0], [\"OS19-01\", \"CHN05\", 46.0, 72.501335, -161.90767, \"2019-08-29 15:00\", \"Surface\", 12.0, 635, 5.57, 29.36, 3.0], [\"OS19-01\", \"CHNO6\", 47.0, 72.49817, -160.20366, \"2019-08-29 22:03\", \"Surface\", 12.0, 12, 4.63, 29.56, 3.0], [\"OS19-01\", \"CHNO6.7\", 48.0, 72.7685, -159.63533, \"2019-08-30 14:59\", \"Surface\", 12.0, 5, 5.05, 29.06, 2.0], [\"OS19-01\", \"CHN06.5\", 49.0, 72.896835, -159.34067, \"2019-08-30 19:59\", \"Surface\", 12.0, 15, 4.68, 28.67, 2.0], [\"OS19-01\", \"CHO07\", 50.0, 73.104836, -158.9395, \"2019-08-31 01:38\", \"Surface\", 10.0, 27, 4.03, 28.15, 10.0], [\"OS19-01\", \"CHMO8.7\", 52.0, 72.3705, -157.16766, \"2019-08-31 19:37\", \"Surface\", 12.0, 57, 3.25, 27.15, 2.0], [\"OS19-01\", \"CHN08\", 53.0, 72.25362, -157.41747, \"2019-09-01 01:12\", \"Surface\", 12.0, 95, 4.88, 28.58, 3.0], [\"OS19-01\", \"CHM08.5\", 53.0, 72.25362, -157.41747, \"2019-09-01 01:12\", \"Surface\", 12.0, 42, 4.88, 28.58, 3.0], [\"OS19-01\", \"CHK08\", 54.0, 71.00117, -157.80183, \"2019-09-02 01:13\", \"Surface\", 10.0, 4, 7.51, 31.48, 2.0], [\"OS19-01\", \"CHK07\", 55.0, 71.00083, -159.293, \"2019-09-02 19:36\", \"Surface\", 12.0, 72, 7.73, 30.56, 3.0], [\"OS19-01\", \"CHK06\", 56.0, 71.001335, -160.787, \"2019-09-03 15:02\", \"Surface\", 12.0, 22, 7.25, 30.2, 2.0], [\"OS19-01\", \"CHK05\", 57.0, 70.99934, -162.39317, \"2019-09-03 21:05\", \"Surface\", 12.0, 2590, 9.09, 30.45, 3.0], [\"OS19-01\", \"CHK04\", 58.0, 71.00183, -163.90334, \"2019-09-04 15:05\", \"Surface\", 12.0, 333, 8.72, 30.23, 2.0], [\"OS19-01\", \"CHK03\", 59.0, 71.00117, -165.40266, \"2019-09-04 20:44\", \"Surface\", 12.0, 561, 9.54, 29.68, 2.0], [\"OS19-01\", \"CHK02\", 60.0, 71.00117, -167.00433, \"2019-09-05 15:01\", \"Surface\", 12.0, 73, 9.09, 30.69, 2.0], [\"OS19-01\", \"CHK01\", 61.0, 71.00217, -168.504, \"2019-09-05 20:19\", \"Surface\", 12.0, 1573, 8.73, 31.42, 2.0], [\"OS19-01\", \"CHLM01\", 62.0, 71.754166, -168.48883, \"2019-09-06 14:59\", \"Surface\", 12.0, 440, 8.26, 30.95, 2.0], [\"OS19-01\", \"CHLM02\", 63.0, 71.751335, -166.89116, \"2019-09-06 20:55\", \"Surface\", 12.0, 1106, 9.17, 30.15, 2.0], [\"OS19-01\", \"CHLM03\", 64.0, 71.755165, -165.3115, \"2019-09-07 15:00\", \"Surface\", 12.0, 301, 7.73, 31.05, 3.0], [\"OS19-01\", \"CHLM04\", 65.0, 71.74983, -163.69467, \"2019-09-07 21:19\", \"Surface\", 12.0, 1691, 7.05, 30.68, 2.0], [\"OS19-01\", \"CHLM05\", 66.0, 71.751335, -161.9925, \"2019-09-08 14:58\", \"Surface\", 12.0, 1, 6.02, 29.54, 2.0], [\"OS19-01\", \"CHLM06\", 67.0, 71.751, -160.40033, \"2019-09-08 20:41\", \"Surface\", 12.0, 0, 5.9, 29.63, 2.0], [\"OS19-01\", \"CHLM07\", 68.0, 71.75267, -158.79784, \"2019-09-09 14:56\", \"Surface\", 12.0, 1, 5.19, 29.71, 2.0], [\"OS19-01\", \"CHLM08\", 69.0, 71.751, -157.201, \"2019-09-09 19:22\", \"Surface\", 12.0, 7, 6.52, 29.66, 2.0], [\"OS19-01\", \"CHIJ04\", 70.0, 70.25267, -164.09134, \"2019-09-10 16:01\", \"Surface\", 12.0, 0, 10.7, 29.86, 2.0], [\"OS19-01\", \"CHIJ03\", 71.0, 70.24917, -165.489, \"2019-09-10 21:38\", \"Surface\", 12.0, 0, 10.66, 30.35, 2.0], [\"OS19-01\", \"CHIJ02\", 72.0, 70.24834, -166.99716, \"2019-09-11 14:57\", \"Surface\", 12.0, 0, 9.91, 30.69, 2.0], [\"OS19-01\", \"CHIJ01\", 73.0, 70.25117, -168.49933, \"2019-09-11 22:25\", \"Surface\", 12.0, 299, 8.97, 31.7, 2.0]];\n",
       "\n",
       "        // Define the dt_args\n",
       "        let dt_args = {\"layout\": {\"topStart\": \"pageLength\", \"topEnd\": \"search\", \"bottomStart\": \"info\", \"bottomEnd\": \"paging\"}, \"order\": []};\n",
       "        dt_args[\"data\"] = data;\n",
       "\n",
       "        \n",
       "        new DataTable(table, dt_args);\n",
       "    });\n",
       "</script>\n"
      ],
      "text/plain": [
       "<IPython.core.display.HTML object>"
      ]
     },
     "metadata": {},
     "output_type": "display_data"
    }
   ],
   "source": [
    "DFproject = pd.read_csv('AlexandriumAlaskanArctic_WholeCell_2018_2019.csv')\n",
    "show(DFproject)"
   ]
  },
  {
   "cell_type": "code",
   "execution_count": 8,
   "id": "a9abc2d3-8584-480a-9788-59353e808884",
   "metadata": {},
   "outputs": [
    {
     "data": {
      "text/plain": [
       "(336, 12)"
      ]
     },
     "execution_count": 8,
     "metadata": {},
     "output_type": "execute_result"
    }
   ],
   "source": [
    "DFproject.shape"
   ]
  },
  {
   "cell_type": "code",
   "execution_count": 9,
   "id": "a699df9a-0ad1-4476-b881-31610b567f2d",
   "metadata": {},
   "outputs": [
    {
     "data": {
      "text/plain": [
       "Index(['CRUISE', 'STATION_ID', 'CAST', 'LAT', 'LON', 'DATE_TIME',\n",
       "       'TARGET_DEPTH', 'BOTTLE', 'CELLS_L', 'TEMP', 'SAL', 'PRESSURE'],\n",
       "      dtype='object')"
      ]
     },
     "execution_count": 9,
     "metadata": {},
     "output_type": "execute_result"
    }
   ],
   "source": [
    "DFproject.keys()"
   ]
  },
  {
   "cell_type": "code",
   "execution_count": 10,
   "id": "2ef568a6-22a4-4f43-a110-a9e1940d8ff3",
   "metadata": {},
   "outputs": [
    {
     "data": {
      "text/plain": [
       "count     336.000000\n",
       "mean      372.529762\n",
       "std       970.218187\n",
       "min         0.000000\n",
       "25%         2.000000\n",
       "50%        15.500000\n",
       "75%       163.500000\n",
       "max      8222.000000\n",
       "Name: CELLS_L, dtype: float64"
      ]
     },
     "execution_count": 10,
     "metadata": {},
     "output_type": "execute_result"
    }
   ],
   "source": [
    "DFproject['CELLS_L'].describe()"
   ]
  },
  {
   "cell_type": "code",
   "execution_count": 11,
   "id": "537738ee-c09c-4ab1-a2b9-0940f4203147",
   "metadata": {},
   "outputs": [
    {
     "data": {
      "text/html": [
       "<table id=\"itables_72ed6475_d691_4496_ab6c_5c29a17b16bc\" class=\"display nowrap\" data-quarto-disable-processing=\"true\" style=\"table-layout:auto;width:auto;margin:auto;caption-side:bottom\">\n",
       "<thead>\n",
       "    <tr style=\"text-align: right;\">\n",
       "      <th></th>\n",
       "      <th>count</th>\n",
       "    </tr>\n",
       "    <tr>\n",
       "      <th>CELLS_L</th>\n",
       "      <th></th>\n",
       "    </tr>\n",
       "  </thead><tbody><tr>\n",
       "<td style=\"vertical-align:middle; text-align:left\">\n",
       "<div style=\"float:left; margin-right: 10px;\">\n",
       "<a href=https://mwouts.github.io/itables/><svg class=\"main-svg\" xmlns=\"http://www.w3.org/2000/svg\" xmlns:xlink=\"http://www.w3.org/1999/xlink\"\n",
       "width=\"64\" viewBox=\"0 0 500 400\" style=\"font-family: 'Droid Sans', sans-serif;\">\n",
       "    <g style=\"fill:#d9d7fc\">\n",
       "        <path d=\"M100,400H500V357H100Z\" />\n",
       "        <path d=\"M100,300H400V257H100Z\" />\n",
       "        <path d=\"M0,200H400V157H0Z\" />\n",
       "        <path d=\"M100,100H500V57H100Z\" />\n",
       "        <path d=\"M100,350H500V307H100Z\" />\n",
       "        <path d=\"M100,250H400V207H100Z\" />\n",
       "        <path d=\"M0,150H400V107H0Z\" />\n",
       "        <path d=\"M100,50H500V7H100Z\" />\n",
       "    </g>\n",
       "    <g style=\"fill:#1a1366;stroke:#1a1366;\">\n",
       "   <rect x=\"100\" y=\"7\" width=\"400\" height=\"43\">\n",
       "    <animate\n",
       "      attributeName=\"width\"\n",
       "      values=\"0;400;0\"\n",
       "      dur=\"5s\"\n",
       "      repeatCount=\"indefinite\" />\n",
       "      <animate\n",
       "      attributeName=\"x\"\n",
       "      values=\"100;100;500\"\n",
       "      dur=\"5s\"\n",
       "      repeatCount=\"indefinite\" />\n",
       "  </rect>\n",
       "        <rect x=\"0\" y=\"107\" width=\"400\" height=\"43\">\n",
       "    <animate\n",
       "      attributeName=\"width\"\n",
       "      values=\"0;400;0\"\n",
       "      dur=\"3.5s\"\n",
       "      repeatCount=\"indefinite\" />\n",
       "    <animate\n",
       "      attributeName=\"x\"\n",
       "      values=\"0;0;400\"\n",
       "      dur=\"3.5s\"\n",
       "      repeatCount=\"indefinite\" />\n",
       "  </rect>\n",
       "        <rect x=\"100\" y=\"207\" width=\"300\" height=\"43\">\n",
       "    <animate\n",
       "      attributeName=\"width\"\n",
       "      values=\"0;300;0\"\n",
       "      dur=\"3s\"\n",
       "      repeatCount=\"indefinite\" />\n",
       "    <animate\n",
       "      attributeName=\"x\"\n",
       "      values=\"100;100;400\"\n",
       "      dur=\"3s\"\n",
       "      repeatCount=\"indefinite\" />\n",
       "  </rect>\n",
       "        <rect x=\"100\" y=\"307\" width=\"400\" height=\"43\">\n",
       "    <animate\n",
       "      attributeName=\"width\"\n",
       "      values=\"0;400;0\"\n",
       "      dur=\"4s\"\n",
       "      repeatCount=\"indefinite\" />\n",
       "      <animate\n",
       "      attributeName=\"x\"\n",
       "      values=\"100;100;500\"\n",
       "      dur=\"4s\"\n",
       "      repeatCount=\"indefinite\" />\n",
       "  </rect>\n",
       "        <g style=\"fill:transparent;stroke-width:8; stroke-linejoin:round\" rx=\"5\">\n",
       "            <g transform=\"translate(45 50) rotate(-45)\">\n",
       "                <circle r=\"33\" cx=\"0\" cy=\"0\" />\n",
       "                <rect x=\"-8\" y=\"32\" width=\"16\" height=\"30\" />\n",
       "            </g>\n",
       "\n",
       "            <g transform=\"translate(450 152)\">\n",
       "                <polyline points=\"-15,-20 -35,-20 -35,40 25,40 25,20\" />\n",
       "                <rect x=\"-15\" y=\"-40\" width=\"60\" height=\"60\" />\n",
       "            </g>\n",
       "\n",
       "            <g transform=\"translate(50 352)\">\n",
       "                <polygon points=\"-35,-5 0,-40 35,-5\" />\n",
       "                <polygon points=\"-35,10 0,45 35,10\" />\n",
       "            </g>\n",
       "\n",
       "            <g transform=\"translate(75 250)\">\n",
       "                <polyline points=\"-30,30 -60,0 -30,-30\" />\n",
       "                <polyline points=\"0,30 -30,0 0,-30\" />\n",
       "            </g>\n",
       "\n",
       "            <g transform=\"translate(425 250) rotate(180)\">\n",
       "                <polyline points=\"-30,30 -60,0 -30,-30\" />\n",
       "                <polyline points=\"0,30 -30,0 0,-30\" />\n",
       "            </g>\n",
       "        </g>\n",
       "    </g>\n",
       "</svg>\n",
       "</a>\n",
       "</div>\n",
       "<div>\n",
       "Loading ITables v2.1.4 from the internet...\n",
       "(need <a href=https://mwouts.github.io/itables/troubleshooting.html>help</a>?)</td>\n",
       "</div>\n",
       "</tr></tbody>\n",
       "\n",
       "</table>\n",
       "<link href=\"https://www.unpkg.com/dt_for_itables@2.0.11/dt_bundle.css\" rel=\"stylesheet\">\n",
       "<script type=\"module\">\n",
       "    import {DataTable, jQuery as $} from 'https://www.unpkg.com/dt_for_itables@2.0.11/dt_bundle.js';\n",
       "\n",
       "    document.querySelectorAll(\"#itables_72ed6475_d691_4496_ab6c_5c29a17b16bc:not(.dataTable)\").forEach(table => {\n",
       "        // Define the table data\n",
       "        const data = [[0, 49], [1, 24], [2, 17], [4, 12], [7, 11], [6, 9], [5, 9], [3, 8], [8, 7], [12, 6], [29, 4], [24, 4], [9, 4], [13, 4], [37, 3], [15, 3], [32, 3], [28, 2], [154, 2], [57, 2], [10, 2], [54, 2], [25, 2], [73, 2], [77, 2], [67, 2], [19, 2], [27, 2], [16, 2], [45, 2], [17, 2], [232, 2], [76, 2], [11, 2], [41, 2], [5523, 1], [5110, 1], [3888, 1], [1463, 1], [1750, 1], [1270, 1], [90, 1], [5429, 1], [4763, 1], [3660, 1], [30, 1], [1780, 1], [3666, 1], [3771, 1], [1268, 1], [1562, 1], [2017, 1], [530, 1], [501, 1], [390, 1], [888, 1], [565, 1], [544, 1], [343, 1], [740, 1], [151, 1], [2009, 1], [950, 1], [2668, 1], [4188, 1], [1214, 1], [2133, 1], [2067, 1], [3010, 1], [1828, 1], [558, 1], [871, 1], [20, 1], [101, 1], [1175, 1], [8222, 1], [615, 1], [519, 1], [51, 1], [1528, 1], [4225, 1], [892, 1], [1354, 1], [1344, 1], [144, 1], [153, 1], [507, 1], [110, 1], [1691, 1], [221, 1], [301, 1], [1106, 1], [14, 1], [18, 1], [131, 1], [440, 1], [93, 1], [181, 1], [63, 1], [68, 1], [23, 1], [202, 1], [1573, 1], [585, 1], [713, 1], [610, 1], [112, 1], [822, 1], [561, 1], [133, 1], [730, 1], [1154, 1], [200, 1], [990, 1], [259, 1], [796, 1], [177, 1], [21, 1], [163, 1], [47, 1], [146, 1], [539, 1], [50, 1], [55, 1], [1130, 1], [472, 1], [375, 1], [555, 1], [26, 1], [333, 1], [369, 1], [299, 1], [53, 1], [139, 1], [155, 1], [38, 1], [70, 1], [33, 1], [89, 1], [58, 1], [1743, 1], [85, 1], [165, 1], [336, 1], [2590, 1], [382, 1], [260, 1], [107, 1], [931, 1], [35, 1], [64, 1], [275, 1], [635, 1], [95, 1], [42, 1], [72, 1], [22, 1], [957, 1]];\n",
       "\n",
       "        // Define the dt_args\n",
       "        let dt_args = {\"layout\": {\"topStart\": \"pageLength\", \"topEnd\": \"search\", \"bottomStart\": \"info\", \"bottomEnd\": \"paging\"}, \"order\": []};\n",
       "        dt_args[\"data\"] = data;\n",
       "\n",
       "        \n",
       "        new DataTable(table, dt_args);\n",
       "    });\n",
       "</script>\n"
      ],
      "text/plain": [
       "<IPython.core.display.HTML object>"
      ]
     },
     "metadata": {},
     "output_type": "display_data"
    }
   ],
   "source": [
    "show(DFproject['CELLS_L'].value_counts())"
   ]
  },
  {
   "cell_type": "code",
   "execution_count": 12,
   "id": "78cac054-85e0-4220-b343-3c50c4cc201a",
   "metadata": {},
   "outputs": [
    {
     "data": {
      "text/html": [
       "<table id=\"itables_8cebdd83_f7bd_4f4a_8b56_4ac3873d2629\" class=\"display nowrap\" data-quarto-disable-processing=\"true\" style=\"table-layout:auto;width:auto;margin:auto;caption-side:bottom\">\n",
       "<thead>\n",
       "    <tr style=\"text-align: right;\">\n",
       "      <th></th>\n",
       "      <th>CELLS_L</th>\n",
       "    </tr>\n",
       "  </thead><tbody><tr>\n",
       "<td style=\"vertical-align:middle; text-align:left\">\n",
       "<div style=\"float:left; margin-right: 10px;\">\n",
       "<a href=https://mwouts.github.io/itables/><svg class=\"main-svg\" xmlns=\"http://www.w3.org/2000/svg\" xmlns:xlink=\"http://www.w3.org/1999/xlink\"\n",
       "width=\"64\" viewBox=\"0 0 500 400\" style=\"font-family: 'Droid Sans', sans-serif;\">\n",
       "    <g style=\"fill:#d9d7fc\">\n",
       "        <path d=\"M100,400H500V357H100Z\" />\n",
       "        <path d=\"M100,300H400V257H100Z\" />\n",
       "        <path d=\"M0,200H400V157H0Z\" />\n",
       "        <path d=\"M100,100H500V57H100Z\" />\n",
       "        <path d=\"M100,350H500V307H100Z\" />\n",
       "        <path d=\"M100,250H400V207H100Z\" />\n",
       "        <path d=\"M0,150H400V107H0Z\" />\n",
       "        <path d=\"M100,50H500V7H100Z\" />\n",
       "    </g>\n",
       "    <g style=\"fill:#1a1366;stroke:#1a1366;\">\n",
       "   <rect x=\"100\" y=\"7\" width=\"400\" height=\"43\">\n",
       "    <animate\n",
       "      attributeName=\"width\"\n",
       "      values=\"0;400;0\"\n",
       "      dur=\"5s\"\n",
       "      repeatCount=\"indefinite\" />\n",
       "      <animate\n",
       "      attributeName=\"x\"\n",
       "      values=\"100;100;500\"\n",
       "      dur=\"5s\"\n",
       "      repeatCount=\"indefinite\" />\n",
       "  </rect>\n",
       "        <rect x=\"0\" y=\"107\" width=\"400\" height=\"43\">\n",
       "    <animate\n",
       "      attributeName=\"width\"\n",
       "      values=\"0;400;0\"\n",
       "      dur=\"3.5s\"\n",
       "      repeatCount=\"indefinite\" />\n",
       "    <animate\n",
       "      attributeName=\"x\"\n",
       "      values=\"0;0;400\"\n",
       "      dur=\"3.5s\"\n",
       "      repeatCount=\"indefinite\" />\n",
       "  </rect>\n",
       "        <rect x=\"100\" y=\"207\" width=\"300\" height=\"43\">\n",
       "    <animate\n",
       "      attributeName=\"width\"\n",
       "      values=\"0;300;0\"\n",
       "      dur=\"3s\"\n",
       "      repeatCount=\"indefinite\" />\n",
       "    <animate\n",
       "      attributeName=\"x\"\n",
       "      values=\"100;100;400\"\n",
       "      dur=\"3s\"\n",
       "      repeatCount=\"indefinite\" />\n",
       "  </rect>\n",
       "        <rect x=\"100\" y=\"307\" width=\"400\" height=\"43\">\n",
       "    <animate\n",
       "      attributeName=\"width\"\n",
       "      values=\"0;400;0\"\n",
       "      dur=\"4s\"\n",
       "      repeatCount=\"indefinite\" />\n",
       "      <animate\n",
       "      attributeName=\"x\"\n",
       "      values=\"100;100;500\"\n",
       "      dur=\"4s\"\n",
       "      repeatCount=\"indefinite\" />\n",
       "  </rect>\n",
       "        <g style=\"fill:transparent;stroke-width:8; stroke-linejoin:round\" rx=\"5\">\n",
       "            <g transform=\"translate(45 50) rotate(-45)\">\n",
       "                <circle r=\"33\" cx=\"0\" cy=\"0\" />\n",
       "                <rect x=\"-8\" y=\"32\" width=\"16\" height=\"30\" />\n",
       "            </g>\n",
       "\n",
       "            <g transform=\"translate(450 152)\">\n",
       "                <polyline points=\"-15,-20 -35,-20 -35,40 25,40 25,20\" />\n",
       "                <rect x=\"-15\" y=\"-40\" width=\"60\" height=\"60\" />\n",
       "            </g>\n",
       "\n",
       "            <g transform=\"translate(50 352)\">\n",
       "                <polygon points=\"-35,-5 0,-40 35,-5\" />\n",
       "                <polygon points=\"-35,10 0,45 35,10\" />\n",
       "            </g>\n",
       "\n",
       "            <g transform=\"translate(75 250)\">\n",
       "                <polyline points=\"-30,30 -60,0 -30,-30\" />\n",
       "                <polyline points=\"0,30 -30,0 0,-30\" />\n",
       "            </g>\n",
       "\n",
       "            <g transform=\"translate(425 250) rotate(180)\">\n",
       "                <polyline points=\"-30,30 -60,0 -30,-30\" />\n",
       "                <polyline points=\"0,30 -30,0 0,-30\" />\n",
       "            </g>\n",
       "        </g>\n",
       "    </g>\n",
       "</svg>\n",
       "</a>\n",
       "</div>\n",
       "<div>\n",
       "Loading ITables v2.1.4 from the internet...\n",
       "(need <a href=https://mwouts.github.io/itables/troubleshooting.html>help</a>?)</td>\n",
       "</div>\n",
       "</tr></tbody>\n",
       "\n",
       "</table>\n",
       "<link href=\"https://www.unpkg.com/dt_for_itables@2.0.11/dt_bundle.css\" rel=\"stylesheet\">\n",
       "<script type=\"module\">\n",
       "    import {DataTable, jQuery as $} from 'https://www.unpkg.com/dt_for_itables@2.0.11/dt_bundle.js';\n",
       "\n",
       "    document.querySelectorAll(\"#itables_8cebdd83_f7bd_4f4a_8b56_4ac3873d2629:not(.dataTable)\").forEach(table => {\n",
       "        // Define the table data\n",
       "        const data = [[\"count\", 336.0], [\"mean\", 372.529762], [\"std\", 970.218187], [\"min\", 0.0], [\"25%\", 2.0], [\"50%\", 15.5], [\"75%\", 163.5], [\"max\", 8222.0]];\n",
       "\n",
       "        // Define the dt_args\n",
       "        let dt_args = {\"layout\": {\"topStart\": null, \"topEnd\": null, \"bottomStart\": null, \"bottomEnd\": null}, \"order\": []};\n",
       "        dt_args[\"data\"] = data;\n",
       "\n",
       "        \n",
       "        new DataTable(table, dt_args);\n",
       "    });\n",
       "</script>\n"
      ],
      "text/plain": [
       "<IPython.core.display.HTML object>"
      ]
     },
     "metadata": {},
     "output_type": "display_data"
    }
   ],
   "source": [
    "show(DFproject['CELLS_L'].describe()) "
   ]
  },
  {
   "cell_type": "code",
   "execution_count": 13,
   "id": "71da0998-670a-4b06-91f5-2b0804854470",
   "metadata": {},
   "outputs": [
    {
     "data": {
      "text/html": [
       "<table id=\"itables_98ee76bb_5928_44f2_ae4a_27af9109af9f\" class=\"display nowrap\" data-quarto-disable-processing=\"true\" style=\"table-layout:auto;width:auto;margin:auto;caption-side:bottom\">\n",
       "<thead>\n",
       "    <tr style=\"text-align: right;\">\n",
       "      <th></th>\n",
       "      <th>count</th>\n",
       "    </tr>\n",
       "    <tr>\n",
       "      <th>SAL</th>\n",
       "      <th></th>\n",
       "    </tr>\n",
       "  </thead><tbody><tr>\n",
       "<td style=\"vertical-align:middle; text-align:left\">\n",
       "<div style=\"float:left; margin-right: 10px;\">\n",
       "<a href=https://mwouts.github.io/itables/><svg class=\"main-svg\" xmlns=\"http://www.w3.org/2000/svg\" xmlns:xlink=\"http://www.w3.org/1999/xlink\"\n",
       "width=\"64\" viewBox=\"0 0 500 400\" style=\"font-family: 'Droid Sans', sans-serif;\">\n",
       "    <g style=\"fill:#d9d7fc\">\n",
       "        <path d=\"M100,400H500V357H100Z\" />\n",
       "        <path d=\"M100,300H400V257H100Z\" />\n",
       "        <path d=\"M0,200H400V157H0Z\" />\n",
       "        <path d=\"M100,100H500V57H100Z\" />\n",
       "        <path d=\"M100,350H500V307H100Z\" />\n",
       "        <path d=\"M100,250H400V207H100Z\" />\n",
       "        <path d=\"M0,150H400V107H0Z\" />\n",
       "        <path d=\"M100,50H500V7H100Z\" />\n",
       "    </g>\n",
       "    <g style=\"fill:#1a1366;stroke:#1a1366;\">\n",
       "   <rect x=\"100\" y=\"7\" width=\"400\" height=\"43\">\n",
       "    <animate\n",
       "      attributeName=\"width\"\n",
       "      values=\"0;400;0\"\n",
       "      dur=\"5s\"\n",
       "      repeatCount=\"indefinite\" />\n",
       "      <animate\n",
       "      attributeName=\"x\"\n",
       "      values=\"100;100;500\"\n",
       "      dur=\"5s\"\n",
       "      repeatCount=\"indefinite\" />\n",
       "  </rect>\n",
       "        <rect x=\"0\" y=\"107\" width=\"400\" height=\"43\">\n",
       "    <animate\n",
       "      attributeName=\"width\"\n",
       "      values=\"0;400;0\"\n",
       "      dur=\"3.5s\"\n",
       "      repeatCount=\"indefinite\" />\n",
       "    <animate\n",
       "      attributeName=\"x\"\n",
       "      values=\"0;0;400\"\n",
       "      dur=\"3.5s\"\n",
       "      repeatCount=\"indefinite\" />\n",
       "  </rect>\n",
       "        <rect x=\"100\" y=\"207\" width=\"300\" height=\"43\">\n",
       "    <animate\n",
       "      attributeName=\"width\"\n",
       "      values=\"0;300;0\"\n",
       "      dur=\"3s\"\n",
       "      repeatCount=\"indefinite\" />\n",
       "    <animate\n",
       "      attributeName=\"x\"\n",
       "      values=\"100;100;400\"\n",
       "      dur=\"3s\"\n",
       "      repeatCount=\"indefinite\" />\n",
       "  </rect>\n",
       "        <rect x=\"100\" y=\"307\" width=\"400\" height=\"43\">\n",
       "    <animate\n",
       "      attributeName=\"width\"\n",
       "      values=\"0;400;0\"\n",
       "      dur=\"4s\"\n",
       "      repeatCount=\"indefinite\" />\n",
       "      <animate\n",
       "      attributeName=\"x\"\n",
       "      values=\"100;100;500\"\n",
       "      dur=\"4s\"\n",
       "      repeatCount=\"indefinite\" />\n",
       "  </rect>\n",
       "        <g style=\"fill:transparent;stroke-width:8; stroke-linejoin:round\" rx=\"5\">\n",
       "            <g transform=\"translate(45 50) rotate(-45)\">\n",
       "                <circle r=\"33\" cx=\"0\" cy=\"0\" />\n",
       "                <rect x=\"-8\" y=\"32\" width=\"16\" height=\"30\" />\n",
       "            </g>\n",
       "\n",
       "            <g transform=\"translate(450 152)\">\n",
       "                <polyline points=\"-15,-20 -35,-20 -35,40 25,40 25,20\" />\n",
       "                <rect x=\"-15\" y=\"-40\" width=\"60\" height=\"60\" />\n",
       "            </g>\n",
       "\n",
       "            <g transform=\"translate(50 352)\">\n",
       "                <polygon points=\"-35,-5 0,-40 35,-5\" />\n",
       "                <polygon points=\"-35,10 0,45 35,10\" />\n",
       "            </g>\n",
       "\n",
       "            <g transform=\"translate(75 250)\">\n",
       "                <polyline points=\"-30,30 -60,0 -30,-30\" />\n",
       "                <polyline points=\"0,30 -30,0 0,-30\" />\n",
       "            </g>\n",
       "\n",
       "            <g transform=\"translate(425 250) rotate(180)\">\n",
       "                <polyline points=\"-30,30 -60,0 -30,-30\" />\n",
       "                <polyline points=\"0,30 -30,0 0,-30\" />\n",
       "            </g>\n",
       "        </g>\n",
       "    </g>\n",
       "</svg>\n",
       "</a>\n",
       "</div>\n",
       "<div>\n",
       "Loading ITables v2.1.4 from the internet...\n",
       "(need <a href=https://mwouts.github.io/itables/troubleshooting.html>help</a>?)</td>\n",
       "</div>\n",
       "</tr></tbody>\n",
       "\n",
       "</table>\n",
       "<link href=\"https://www.unpkg.com/dt_for_itables@2.0.11/dt_bundle.css\" rel=\"stylesheet\">\n",
       "<script type=\"module\">\n",
       "    import {DataTable, jQuery as $} from 'https://www.unpkg.com/dt_for_itables@2.0.11/dt_bundle.js';\n",
       "\n",
       "    document.querySelectorAll(\"#itables_98ee76bb_5928_44f2_ae4a_27af9109af9f:not(.dataTable)\").forEach(table => {\n",
       "        // Define the table data\n",
       "        const data = [[31.17, 10], [30.38, 5], [30.44, 4], [31.53, 3], [30.32, 3], [30.37, 3], [31.31, 3], [30.68, 3], [30.84, 3], [32.2, 3], [31.09, 3], [30.35, 3], [30.69, 3], [31.1, 3], [29.1, 3], [29.68, 3], [29.0, 3], [28.58, 3], [30.5, 3], [30.45, 3], [29.86, 3], [30.58, 3], [29.29, 2], [30.2, 2], [28.95, 2], [30.26, 2], [29.54, 2], [29.58, 2], [29.67, 2], [31.0, 2], [29.63, 2], [31.9, 2], [29.8, 2], [29.35, 2], [29.41, 2], [29.21, 2], [29.61, 2], [29.42, 2], [29.9, 2], [29.51, 2], [32.05, 2], [30.59, 2], [32.45, 2], [30.93, 2], [32.51, 2], [30.23, 2], [29.88, 2], [29.4, 2], [30.49, 2], [29.79, 2], [32.34, 2], [30.48, 2], [30.41, 2], [32.39, 2], [32.83, 2], [31.24, 2], [30.31, 2], [30.73, 2], [28.85, 2], [30.86, 2], [30.33, 2], [31.85, 2], [31.38, 2], [30.78, 2], [30.34, 1], [32.06, 1], [30.74, 1], [31.86, 1], [31.67, 1], [31.91, 1], [30.51, 1], [31.33, 1], [31.63, 1], [26.02, 1], [30.42, 1], [27.53, 1], [28.21, 1], [28.17, 1], [30.89, 1], [32.19, 1], [32.21, 1], [32.15, 1], [32.11, 1], [32.14, 1], [32.13, 1], [32.18, 1], [26.28, 1], [31.83, 1], [30.01, 1], [29.33, 1], [31.51, 1], [27.13, 1], [26.97, 1], [31.62, 1], [31.27, 1], [32.25, 1], [32.46, 1], [30.97, 1], [31.93, 1], [30.55, 1], [32.85, 1], [32.78, 1], [32.92, 1], [31.07, 1], [31.12, 1], [30.36, 1], [30.62, 1], [32.81, 1], [32.93, 1], [32.95, 1], [32.86, 1], [32.76, 1], [32.77, 1], [30.91, 1], [31.32, 1], [30.07, 1], [28.77, 1], [31.15, 1], [28.36, 1], [28.14, 1], [28.82, 1], [28.73, 1], [29.12, 1], [32.74, 1], [29.39, 1], [30.39, 1], [31.5, 1], [29.13, 1], [30.87, 1], [30.52, 1], [30.92, 1], [31.95, 1], [29.91, 1], [28.91, 1], [30.09, 1], [30.96, 1], [28.79, 1], [29.26, 1], [27.6, 1], [27.49, 1], [28.25, 1], [28.31, 1], [30.05, 1], [28.44, 1], [30.11, 1], [30.64, 1], [28.03, 1], [30.72, 1], [30.57, 1], [28.34, 1], [30.66, 1], [30.43, 1], [30.1, 1], [30.17, 1], [31.26, 1], [28.4, 1], [27.54, 1], [26.95, 1], [29.82, 1], [31.34, 1], [29.64, 1], [31.35, 1], [31.01, 1], [31.06, 1], [28.3, 1], [32.79, 1], [31.89, 1], [29.66, 1], [29.71, 1], [31.05, 1], [30.47, 1], [30.54, 1], [30.65, 1], [29.99, 1], [30.3, 1], [30.4, 1], [30.25, 1], [29.7, 1], [30.15, 1], [30.95, 1], [30.03, 1], [0.19, 1], [29.3, 1], [29.31, 1], [29.48, 1], [31.65, 1], [32.35, 1], [32.37, 1], [31.42, 1], [30.56, 1], [31.54, 1], [32.42, 1], [31.29, 1], [32.0, 1], [29.34, 1], [31.73, 1], [32.02, 1], [32.43, 1], [28.96, 1], [28.93, 1], [30.82, 1], [28.89, 1], [28.9, 1], [29.04, 1], [29.93, 1], [31.48, 1], [31.18, 1], [30.79, 1], [32.75, 1], [28.72, 1], [28.53, 1], [26.77, 1], [29.72, 1], [28.12, 1], [29.16, 1], [29.32, 1], [29.65, 1], [29.2, 1], [30.16, 1], [31.88, 1], [31.7, 1], [27.68, 1], [29.36, 1], [29.56, 1], [29.06, 1], [28.67, 1], [28.15, 1], [27.15, 1], [32.27, 1]];\n",
       "\n",
       "        // Define the dt_args\n",
       "        let dt_args = {\"layout\": {\"topStart\": \"pageLength\", \"topEnd\": \"search\", \"bottomStart\": \"info\", \"bottomEnd\": \"paging\"}, \"order\": []};\n",
       "        dt_args[\"data\"] = data;\n",
       "\n",
       "        \n",
       "        new DataTable(table, dt_args);\n",
       "    });\n",
       "</script>\n"
      ],
      "text/plain": [
       "<IPython.core.display.HTML object>"
      ]
     },
     "metadata": {},
     "output_type": "display_data"
    }
   ],
   "source": [
    "show(DFproject['SAL'].value_counts())"
   ]
  },
  {
   "cell_type": "code",
   "execution_count": 14,
   "id": "060abb44-78dc-4b19-ae07-f67608aaae5d",
   "metadata": {},
   "outputs": [
    {
     "data": {
      "text/html": [
       "<table id=\"itables_c5246cfd_5d90_41a9_968d_37e73e92df33\" class=\"display nowrap\" data-quarto-disable-processing=\"true\" style=\"table-layout:auto;width:auto;margin:auto;caption-side:bottom\">\n",
       "<thead>\n",
       "    <tr style=\"text-align: right;\">\n",
       "      <th></th>\n",
       "      <th>count</th>\n",
       "    </tr>\n",
       "    <tr>\n",
       "      <th>SAL</th>\n",
       "      <th></th>\n",
       "    </tr>\n",
       "  </thead><tbody><tr>\n",
       "<td style=\"vertical-align:middle; text-align:left\">\n",
       "<div style=\"float:left; margin-right: 10px;\">\n",
       "<a href=https://mwouts.github.io/itables/><svg class=\"main-svg\" xmlns=\"http://www.w3.org/2000/svg\" xmlns:xlink=\"http://www.w3.org/1999/xlink\"\n",
       "width=\"64\" viewBox=\"0 0 500 400\" style=\"font-family: 'Droid Sans', sans-serif;\">\n",
       "    <g style=\"fill:#d9d7fc\">\n",
       "        <path d=\"M100,400H500V357H100Z\" />\n",
       "        <path d=\"M100,300H400V257H100Z\" />\n",
       "        <path d=\"M0,200H400V157H0Z\" />\n",
       "        <path d=\"M100,100H500V57H100Z\" />\n",
       "        <path d=\"M100,350H500V307H100Z\" />\n",
       "        <path d=\"M100,250H400V207H100Z\" />\n",
       "        <path d=\"M0,150H400V107H0Z\" />\n",
       "        <path d=\"M100,50H500V7H100Z\" />\n",
       "    </g>\n",
       "    <g style=\"fill:#1a1366;stroke:#1a1366;\">\n",
       "   <rect x=\"100\" y=\"7\" width=\"400\" height=\"43\">\n",
       "    <animate\n",
       "      attributeName=\"width\"\n",
       "      values=\"0;400;0\"\n",
       "      dur=\"5s\"\n",
       "      repeatCount=\"indefinite\" />\n",
       "      <animate\n",
       "      attributeName=\"x\"\n",
       "      values=\"100;100;500\"\n",
       "      dur=\"5s\"\n",
       "      repeatCount=\"indefinite\" />\n",
       "  </rect>\n",
       "        <rect x=\"0\" y=\"107\" width=\"400\" height=\"43\">\n",
       "    <animate\n",
       "      attributeName=\"width\"\n",
       "      values=\"0;400;0\"\n",
       "      dur=\"3.5s\"\n",
       "      repeatCount=\"indefinite\" />\n",
       "    <animate\n",
       "      attributeName=\"x\"\n",
       "      values=\"0;0;400\"\n",
       "      dur=\"3.5s\"\n",
       "      repeatCount=\"indefinite\" />\n",
       "  </rect>\n",
       "        <rect x=\"100\" y=\"207\" width=\"300\" height=\"43\">\n",
       "    <animate\n",
       "      attributeName=\"width\"\n",
       "      values=\"0;300;0\"\n",
       "      dur=\"3s\"\n",
       "      repeatCount=\"indefinite\" />\n",
       "    <animate\n",
       "      attributeName=\"x\"\n",
       "      values=\"100;100;400\"\n",
       "      dur=\"3s\"\n",
       "      repeatCount=\"indefinite\" />\n",
       "  </rect>\n",
       "        <rect x=\"100\" y=\"307\" width=\"400\" height=\"43\">\n",
       "    <animate\n",
       "      attributeName=\"width\"\n",
       "      values=\"0;400;0\"\n",
       "      dur=\"4s\"\n",
       "      repeatCount=\"indefinite\" />\n",
       "      <animate\n",
       "      attributeName=\"x\"\n",
       "      values=\"100;100;500\"\n",
       "      dur=\"4s\"\n",
       "      repeatCount=\"indefinite\" />\n",
       "  </rect>\n",
       "        <g style=\"fill:transparent;stroke-width:8; stroke-linejoin:round\" rx=\"5\">\n",
       "            <g transform=\"translate(45 50) rotate(-45)\">\n",
       "                <circle r=\"33\" cx=\"0\" cy=\"0\" />\n",
       "                <rect x=\"-8\" y=\"32\" width=\"16\" height=\"30\" />\n",
       "            </g>\n",
       "\n",
       "            <g transform=\"translate(450 152)\">\n",
       "                <polyline points=\"-15,-20 -35,-20 -35,40 25,40 25,20\" />\n",
       "                <rect x=\"-15\" y=\"-40\" width=\"60\" height=\"60\" />\n",
       "            </g>\n",
       "\n",
       "            <g transform=\"translate(50 352)\">\n",
       "                <polygon points=\"-35,-5 0,-40 35,-5\" />\n",
       "                <polygon points=\"-35,10 0,45 35,10\" />\n",
       "            </g>\n",
       "\n",
       "            <g transform=\"translate(75 250)\">\n",
       "                <polyline points=\"-30,30 -60,0 -30,-30\" />\n",
       "                <polyline points=\"0,30 -30,0 0,-30\" />\n",
       "            </g>\n",
       "\n",
       "            <g transform=\"translate(425 250) rotate(180)\">\n",
       "                <polyline points=\"-30,30 -60,0 -30,-30\" />\n",
       "                <polyline points=\"0,30 -30,0 0,-30\" />\n",
       "            </g>\n",
       "        </g>\n",
       "    </g>\n",
       "</svg>\n",
       "</a>\n",
       "</div>\n",
       "<div>\n",
       "Loading ITables v2.1.4 from the internet...\n",
       "(need <a href=https://mwouts.github.io/itables/troubleshooting.html>help</a>?)</td>\n",
       "</div>\n",
       "</tr></tbody>\n",
       "\n",
       "</table>\n",
       "<link href=\"https://www.unpkg.com/dt_for_itables@2.0.11/dt_bundle.css\" rel=\"stylesheet\">\n",
       "<script type=\"module\">\n",
       "    import {DataTable, jQuery as $} from 'https://www.unpkg.com/dt_for_itables@2.0.11/dt_bundle.js';\n",
       "\n",
       "    document.querySelectorAll(\"#itables_c5246cfd_5d90_41a9_968d_37e73e92df33:not(.dataTable)\").forEach(table => {\n",
       "        // Define the table data\n",
       "        const data = [[31.17, 10], [30.38, 5], [30.44, 4], [31.53, 3], [30.32, 3], [30.37, 3], [31.31, 3], [30.68, 3], [30.84, 3], [32.2, 3], [31.09, 3], [30.35, 3], [30.69, 3], [31.1, 3], [29.1, 3], [29.68, 3], [29.0, 3], [28.58, 3], [30.5, 3], [30.45, 3], [29.86, 3], [30.58, 3], [29.29, 2], [30.2, 2], [28.95, 2], [30.26, 2], [29.54, 2], [29.58, 2], [29.67, 2], [31.0, 2], [29.63, 2], [31.9, 2], [29.8, 2], [29.35, 2], [29.41, 2], [29.21, 2], [29.61, 2], [29.42, 2], [29.9, 2], [29.51, 2], [32.05, 2], [30.59, 2], [32.45, 2], [30.93, 2], [32.51, 2], [30.23, 2], [29.88, 2], [29.4, 2], [30.49, 2], [29.79, 2], [32.34, 2], [30.48, 2], [30.41, 2], [32.39, 2], [32.83, 2], [31.24, 2], [30.31, 2], [30.73, 2], [28.85, 2], [30.86, 2], [30.33, 2], [31.85, 2], [31.38, 2], [30.78, 2], [30.34, 1], [32.06, 1], [30.74, 1], [31.86, 1], [31.67, 1], [31.91, 1], [30.51, 1], [31.33, 1], [31.63, 1], [26.02, 1], [30.42, 1], [27.53, 1], [28.21, 1], [28.17, 1], [30.89, 1], [32.19, 1], [32.21, 1], [32.15, 1], [32.11, 1], [32.14, 1], [32.13, 1], [32.18, 1], [26.28, 1], [31.83, 1], [30.01, 1], [29.33, 1], [31.51, 1], [27.13, 1], [26.97, 1], [31.62, 1], [31.27, 1], [32.25, 1], [32.46, 1], [30.97, 1], [31.93, 1], [30.55, 1], [32.85, 1], [32.78, 1], [32.92, 1], [31.07, 1], [31.12, 1], [30.36, 1], [30.62, 1], [32.81, 1], [32.93, 1], [32.95, 1], [32.86, 1], [32.76, 1], [32.77, 1], [30.91, 1], [31.32, 1], [30.07, 1], [28.77, 1], [31.15, 1], [28.36, 1], [28.14, 1], [28.82, 1], [28.73, 1], [29.12, 1], [32.74, 1], [29.39, 1], [30.39, 1], [31.5, 1], [29.13, 1], [30.87, 1], [30.52, 1], [30.92, 1], [31.95, 1], [29.91, 1], [28.91, 1], [30.09, 1], [30.96, 1], [28.79, 1], [29.26, 1], [27.6, 1], [27.49, 1], [28.25, 1], [28.31, 1], [30.05, 1], [28.44, 1], [30.11, 1], [30.64, 1], [28.03, 1], [30.72, 1], [30.57, 1], [28.34, 1], [30.66, 1], [30.43, 1], [30.1, 1], [30.17, 1], [31.26, 1], [28.4, 1], [27.54, 1], [26.95, 1], [29.82, 1], [31.34, 1], [29.64, 1], [31.35, 1], [31.01, 1], [31.06, 1], [28.3, 1], [32.79, 1], [31.89, 1], [29.66, 1], [29.71, 1], [31.05, 1], [30.47, 1], [30.54, 1], [30.65, 1], [29.99, 1], [30.3, 1], [30.4, 1], [30.25, 1], [29.7, 1], [30.15, 1], [30.95, 1], [30.03, 1], [0.19, 1], [29.3, 1], [29.31, 1], [29.48, 1], [31.65, 1], [32.35, 1], [32.37, 1], [31.42, 1], [30.56, 1], [31.54, 1], [32.42, 1], [31.29, 1], [32.0, 1], [29.34, 1], [31.73, 1], [32.02, 1], [32.43, 1], [28.96, 1], [28.93, 1], [30.82, 1], [28.89, 1], [28.9, 1], [29.04, 1], [29.93, 1], [31.48, 1], [31.18, 1], [30.79, 1], [32.75, 1], [28.72, 1], [28.53, 1], [26.77, 1], [29.72, 1], [28.12, 1], [29.16, 1], [29.32, 1], [29.65, 1], [29.2, 1], [30.16, 1], [31.88, 1], [31.7, 1], [27.68, 1], [29.36, 1], [29.56, 1], [29.06, 1], [28.67, 1], [28.15, 1], [27.15, 1], [32.27, 1]];\n",
       "\n",
       "        // Define the dt_args\n",
       "        let dt_args = {\"layout\": {\"topStart\": \"pageLength\", \"topEnd\": \"search\", \"bottomStart\": \"info\", \"bottomEnd\": \"paging\"}, \"order\": []};\n",
       "        dt_args[\"data\"] = data;\n",
       "\n",
       "        \n",
       "        new DataTable(table, dt_args);\n",
       "    });\n",
       "</script>\n"
      ],
      "text/plain": [
       "<IPython.core.display.HTML object>"
      ]
     },
     "metadata": {},
     "output_type": "display_data"
    }
   ],
   "source": [
    "show(DFproject['SAL'].value_counts())"
   ]
  },
  {
   "cell_type": "code",
   "execution_count": 15,
   "id": "ad54f4b2-806e-4597-a9df-ab4c9a90d2fc",
   "metadata": {},
   "outputs": [
    {
     "data": {
      "text/html": [
       "<table id=\"itables_44b07582_0669_414d_b79d_701f4f11984b\" class=\"display nowrap\" data-quarto-disable-processing=\"true\" style=\"table-layout:auto;width:auto;margin:auto;caption-side:bottom\">\n",
       "<thead>\n",
       "    <tr style=\"text-align: right;\">\n",
       "      <th></th>\n",
       "      <th>count</th>\n",
       "    </tr>\n",
       "    <tr>\n",
       "      <th>TEMP</th>\n",
       "      <th></th>\n",
       "    </tr>\n",
       "  </thead><tbody><tr>\n",
       "<td style=\"vertical-align:middle; text-align:left\">\n",
       "<div style=\"float:left; margin-right: 10px;\">\n",
       "<a href=https://mwouts.github.io/itables/><svg class=\"main-svg\" xmlns=\"http://www.w3.org/2000/svg\" xmlns:xlink=\"http://www.w3.org/1999/xlink\"\n",
       "width=\"64\" viewBox=\"0 0 500 400\" style=\"font-family: 'Droid Sans', sans-serif;\">\n",
       "    <g style=\"fill:#d9d7fc\">\n",
       "        <path d=\"M100,400H500V357H100Z\" />\n",
       "        <path d=\"M100,300H400V257H100Z\" />\n",
       "        <path d=\"M0,200H400V157H0Z\" />\n",
       "        <path d=\"M100,100H500V57H100Z\" />\n",
       "        <path d=\"M100,350H500V307H100Z\" />\n",
       "        <path d=\"M100,250H400V207H100Z\" />\n",
       "        <path d=\"M0,150H400V107H0Z\" />\n",
       "        <path d=\"M100,50H500V7H100Z\" />\n",
       "    </g>\n",
       "    <g style=\"fill:#1a1366;stroke:#1a1366;\">\n",
       "   <rect x=\"100\" y=\"7\" width=\"400\" height=\"43\">\n",
       "    <animate\n",
       "      attributeName=\"width\"\n",
       "      values=\"0;400;0\"\n",
       "      dur=\"5s\"\n",
       "      repeatCount=\"indefinite\" />\n",
       "      <animate\n",
       "      attributeName=\"x\"\n",
       "      values=\"100;100;500\"\n",
       "      dur=\"5s\"\n",
       "      repeatCount=\"indefinite\" />\n",
       "  </rect>\n",
       "        <rect x=\"0\" y=\"107\" width=\"400\" height=\"43\">\n",
       "    <animate\n",
       "      attributeName=\"width\"\n",
       "      values=\"0;400;0\"\n",
       "      dur=\"3.5s\"\n",
       "      repeatCount=\"indefinite\" />\n",
       "    <animate\n",
       "      attributeName=\"x\"\n",
       "      values=\"0;0;400\"\n",
       "      dur=\"3.5s\"\n",
       "      repeatCount=\"indefinite\" />\n",
       "  </rect>\n",
       "        <rect x=\"100\" y=\"207\" width=\"300\" height=\"43\">\n",
       "    <animate\n",
       "      attributeName=\"width\"\n",
       "      values=\"0;300;0\"\n",
       "      dur=\"3s\"\n",
       "      repeatCount=\"indefinite\" />\n",
       "    <animate\n",
       "      attributeName=\"x\"\n",
       "      values=\"100;100;400\"\n",
       "      dur=\"3s\"\n",
       "      repeatCount=\"indefinite\" />\n",
       "  </rect>\n",
       "        <rect x=\"100\" y=\"307\" width=\"400\" height=\"43\">\n",
       "    <animate\n",
       "      attributeName=\"width\"\n",
       "      values=\"0;400;0\"\n",
       "      dur=\"4s\"\n",
       "      repeatCount=\"indefinite\" />\n",
       "      <animate\n",
       "      attributeName=\"x\"\n",
       "      values=\"100;100;500\"\n",
       "      dur=\"4s\"\n",
       "      repeatCount=\"indefinite\" />\n",
       "  </rect>\n",
       "        <g style=\"fill:transparent;stroke-width:8; stroke-linejoin:round\" rx=\"5\">\n",
       "            <g transform=\"translate(45 50) rotate(-45)\">\n",
       "                <circle r=\"33\" cx=\"0\" cy=\"0\" />\n",
       "                <rect x=\"-8\" y=\"32\" width=\"16\" height=\"30\" />\n",
       "            </g>\n",
       "\n",
       "            <g transform=\"translate(450 152)\">\n",
       "                <polyline points=\"-15,-20 -35,-20 -35,40 25,40 25,20\" />\n",
       "                <rect x=\"-15\" y=\"-40\" width=\"60\" height=\"60\" />\n",
       "            </g>\n",
       "\n",
       "            <g transform=\"translate(50 352)\">\n",
       "                <polygon points=\"-35,-5 0,-40 35,-5\" />\n",
       "                <polygon points=\"-35,10 0,45 35,10\" />\n",
       "            </g>\n",
       "\n",
       "            <g transform=\"translate(75 250)\">\n",
       "                <polyline points=\"-30,30 -60,0 -30,-30\" />\n",
       "                <polyline points=\"0,30 -30,0 0,-30\" />\n",
       "            </g>\n",
       "\n",
       "            <g transform=\"translate(425 250) rotate(180)\">\n",
       "                <polyline points=\"-30,30 -60,0 -30,-30\" />\n",
       "                <polyline points=\"0,30 -30,0 0,-30\" />\n",
       "            </g>\n",
       "        </g>\n",
       "    </g>\n",
       "</svg>\n",
       "</a>\n",
       "</div>\n",
       "<div>\n",
       "Loading ITables v2.1.4 from the internet...\n",
       "(need <a href=https://mwouts.github.io/itables/troubleshooting.html>help</a>?)</td>\n",
       "</div>\n",
       "</tr></tbody>\n",
       "\n",
       "</table>\n",
       "<link href=\"https://www.unpkg.com/dt_for_itables@2.0.11/dt_bundle.css\" rel=\"stylesheet\">\n",
       "<script type=\"module\">\n",
       "    import {DataTable, jQuery as $} from 'https://www.unpkg.com/dt_for_itables@2.0.11/dt_bundle.js';\n",
       "\n",
       "    document.querySelectorAll(\"#itables_44b07582_0669_414d_b79d_701f4f11984b:not(.dataTable)\").forEach(table => {\n",
       "        // Define the table data\n",
       "        const data = [[9.49, 9], [8.99, 3], [9.25, 3], [9.4, 3], [9.2, 3], [9.33, 3], [9.26, 3], [9.09, 3], [5.77, 3], [4.88, 2], [10.15, 2], [6.01, 2], [9.35, 2], [6.56, 2], [6.04, 2], [8.41, 2], [8.46, 2], [3.25, 2], [11.27, 2], [7.73, 2], [11.48, 2], [6.69, 2], [10.13, 2], [10.37, 2], [9.17, 2], [5.64, 2], [8.66, 2], [6.3, 2], [8.95, 2], [11.47, 2], [9.67, 2], [9.91, 2], [8.69, 2], [9.29, 2], [10.94, 2], [6.22, 2], [7.51, 2], [9.14, 2], [4.8, 2], [4.04, 2], [4.94, 2], [9.12, 2], [8.83, 2], [6.58, 2], [4.81, 1], [2.65, 1], [-0.93, 1], [2.68, 1], [1.8, 1], [1.12, 1], [-0.8, 1], [7.57, 1], [7.56, 1], [2.84, 1], [8.21, 1], [8.19, 1], [7.23, 1], [3.06, 1], [9.0, 1], [4.76, 1], [10.24, 1], [2.19, 1], [9.19, 1], [9.02, 1], [8.56, 1], [11.55, 1], [11.54, 1], [5.39, 1], [8.28, 1], [11.23, 1], [11.26, 1], [7.5, 1], [6.64, 1], [11.49, 1], [11.5, 1], [8.68, 1], [6.42, 1], [8.64, 1], [11.42, 1], [9.63, 1], [9.51, 1], [9.32, 1], [5.92, 1], [7.76, 1], [9.06, 1], [10.4, 1], [9.8, 1], [10.98, 1], [7.04, 1], [11.18, 1], [9.92, 1], [10.17, 1], [12.94, 1], [12.91, 1], [9.07, 1], [10.32, 1], [10.77, 1], [6.2, 1], [10.45, 1], [5.33, 1], [7.95, 1], [8.17, 1], [2.73, 1], [2.61, 1], [5.02, 1], [4.25, 1], [9.77, 1], [9.31, 1], [1.46, 1], [10.08, 1], [6.41, 1], [5.98, 1], [5.84, 1], [6.93, 1], [6.45, 1], [6.54, 1], [9.82, 1], [7.79, 1], [8.0, 1], [8.9, 1], [11.35, 1], [10.27, 1], [12.64, 1], [12.77, 1], [12.07, 1], [12.28, 1], [11.81, 1], [7.35, 1], [0.2, 1], [10.58, 1], [10.34, 1], [10.83, 1], [10.43, 1], [8.57, 1], [7.19, 1], [9.53, 1], [6.91, 1], [6.4, 1], [9.46, 1], [6.5, 1], [6.23, 1], [5.11, 1], [5.63, 1], [4.69, 1], [9.69, 1], [5.29, 1], [8.97, 1], [3.56, 1], [3.05, 1], [4.29, 1], [3.16, 1], [3.97, 1], [8.93, 1], [8.82, 1], [10.41, 1], [8.53, 1], [8.31, 1], [10.89, 1], [3.9, 1], [4.74, 1], [5.3, 1], [8.65, 1], [4.78, 1], [10.61, 1], [8.36, 1], [9.05, 1], [11.01, 1], [10.64, 1], [10.96, 1], [5.79, 1], [3.86, 1], [10.25, 1], [4.4, 1], [4.36, 1], [8.67, 1], [6.37, 1], [6.33, 1], [6.83, 1], [6.61, 1], [9.22, 1], [4.41, 1], [9.68, 1], [8.81, 1], [6.19, 1], [6.05, 1], [6.35, 1], [7.97, 1], [6.49, 1], [8.37, 1], [7.08, 1], [8.61, 1], [8.35, 1], [7.3, 1], [6.6, 1], [6.53, 1], [6.77, 1], [6.85, 1], [8.6, 1], [8.42, 1], [6.81, 1], [6.1, 1], [5.56, 1], [9.89, 1], [10.23, 1], [6.65, 1], [5.58, 1], [5.78, 1], [9.18, 1], [11.24, 1], [12.38, 1], [4.62, 1], [9.99, 1], [6.96, 1], [6.17, 1], [5.25, 1], [5.57, 1], [4.63, 1], [5.05, 1], [4.68, 1], [4.03, 1], [10.47, 1], [10.69, 1], [7.25, 1], [8.72, 1], [9.54, 1], [8.73, 1], [8.26, 1], [7.05, 1], [6.02, 1], [5.9, 1], [5.19, 1], [6.52, 1], [10.7, 1], [10.66, 1], [11.02, 1], [8.09, 1], [6.84, 1], [6.44, 1], [11.39, 1], [7.07, 1], [8.85, 1], [11.7, 1], [10.95, 1], [6.31, 1], [11.25, 1], [11.14, 1], [4.99, 1], [5.93, 1], [6.18, 1], [7.86, 1], [7.72, 1], [8.22, 1], [11.44, 1], [7.38, 1], [3.53, 1], [2.2, 1], [2.48, 1], [2.02, 1], [1.61, 1], [0.51, 1], [0.22, 1], [3.93, 1], [4.46, 1], [5.51, 1], [5.04, 1], [4.21, 1], [10.07, 1]];\n",
       "\n",
       "        // Define the dt_args\n",
       "        let dt_args = {\"layout\": {\"topStart\": \"pageLength\", \"topEnd\": \"search\", \"bottomStart\": \"info\", \"bottomEnd\": \"paging\"}, \"order\": []};\n",
       "        dt_args[\"data\"] = data;\n",
       "\n",
       "        \n",
       "        new DataTable(table, dt_args);\n",
       "    });\n",
       "</script>\n"
      ],
      "text/plain": [
       "<IPython.core.display.HTML object>"
      ]
     },
     "metadata": {},
     "output_type": "display_data"
    }
   ],
   "source": [
    "show(DFproject['TEMP'].value_counts())"
   ]
  },
  {
   "cell_type": "code",
   "execution_count": 16,
   "id": "3618df8c-f272-4359-ac2d-683ad9638ef6",
   "metadata": {},
   "outputs": [
    {
     "data": {
      "text/html": [
       "<table id=\"itables_8cd3efc5_4b8c_46a0_b020_44a236211957\" class=\"display nowrap\" data-quarto-disable-processing=\"true\" style=\"table-layout:auto;width:auto;margin:auto;caption-side:bottom\">\n",
       "<thead>\n",
       "    <tr style=\"text-align: right;\">\n",
       "      <th></th>\n",
       "      <th>count</th>\n",
       "    </tr>\n",
       "    <tr>\n",
       "      <th>PRESSURE</th>\n",
       "      <th></th>\n",
       "    </tr>\n",
       "  </thead><tbody><tr>\n",
       "<td style=\"vertical-align:middle; text-align:left\">\n",
       "<div style=\"float:left; margin-right: 10px;\">\n",
       "<a href=https://mwouts.github.io/itables/><svg class=\"main-svg\" xmlns=\"http://www.w3.org/2000/svg\" xmlns:xlink=\"http://www.w3.org/1999/xlink\"\n",
       "width=\"64\" viewBox=\"0 0 500 400\" style=\"font-family: 'Droid Sans', sans-serif;\">\n",
       "    <g style=\"fill:#d9d7fc\">\n",
       "        <path d=\"M100,400H500V357H100Z\" />\n",
       "        <path d=\"M100,300H400V257H100Z\" />\n",
       "        <path d=\"M0,200H400V157H0Z\" />\n",
       "        <path d=\"M100,100H500V57H100Z\" />\n",
       "        <path d=\"M100,350H500V307H100Z\" />\n",
       "        <path d=\"M100,250H400V207H100Z\" />\n",
       "        <path d=\"M0,150H400V107H0Z\" />\n",
       "        <path d=\"M100,50H500V7H100Z\" />\n",
       "    </g>\n",
       "    <g style=\"fill:#1a1366;stroke:#1a1366;\">\n",
       "   <rect x=\"100\" y=\"7\" width=\"400\" height=\"43\">\n",
       "    <animate\n",
       "      attributeName=\"width\"\n",
       "      values=\"0;400;0\"\n",
       "      dur=\"5s\"\n",
       "      repeatCount=\"indefinite\" />\n",
       "      <animate\n",
       "      attributeName=\"x\"\n",
       "      values=\"100;100;500\"\n",
       "      dur=\"5s\"\n",
       "      repeatCount=\"indefinite\" />\n",
       "  </rect>\n",
       "        <rect x=\"0\" y=\"107\" width=\"400\" height=\"43\">\n",
       "    <animate\n",
       "      attributeName=\"width\"\n",
       "      values=\"0;400;0\"\n",
       "      dur=\"3.5s\"\n",
       "      repeatCount=\"indefinite\" />\n",
       "    <animate\n",
       "      attributeName=\"x\"\n",
       "      values=\"0;0;400\"\n",
       "      dur=\"3.5s\"\n",
       "      repeatCount=\"indefinite\" />\n",
       "  </rect>\n",
       "        <rect x=\"100\" y=\"207\" width=\"300\" height=\"43\">\n",
       "    <animate\n",
       "      attributeName=\"width\"\n",
       "      values=\"0;300;0\"\n",
       "      dur=\"3s\"\n",
       "      repeatCount=\"indefinite\" />\n",
       "    <animate\n",
       "      attributeName=\"x\"\n",
       "      values=\"100;100;400\"\n",
       "      dur=\"3s\"\n",
       "      repeatCount=\"indefinite\" />\n",
       "  </rect>\n",
       "        <rect x=\"100\" y=\"307\" width=\"400\" height=\"43\">\n",
       "    <animate\n",
       "      attributeName=\"width\"\n",
       "      values=\"0;400;0\"\n",
       "      dur=\"4s\"\n",
       "      repeatCount=\"indefinite\" />\n",
       "      <animate\n",
       "      attributeName=\"x\"\n",
       "      values=\"100;100;500\"\n",
       "      dur=\"4s\"\n",
       "      repeatCount=\"indefinite\" />\n",
       "  </rect>\n",
       "        <g style=\"fill:transparent;stroke-width:8; stroke-linejoin:round\" rx=\"5\">\n",
       "            <g transform=\"translate(45 50) rotate(-45)\">\n",
       "                <circle r=\"33\" cx=\"0\" cy=\"0\" />\n",
       "                <rect x=\"-8\" y=\"32\" width=\"16\" height=\"30\" />\n",
       "            </g>\n",
       "\n",
       "            <g transform=\"translate(450 152)\">\n",
       "                <polyline points=\"-15,-20 -35,-20 -35,40 25,40 25,20\" />\n",
       "                <rect x=\"-15\" y=\"-40\" width=\"60\" height=\"60\" />\n",
       "            </g>\n",
       "\n",
       "            <g transform=\"translate(50 352)\">\n",
       "                <polygon points=\"-35,-5 0,-40 35,-5\" />\n",
       "                <polygon points=\"-35,10 0,45 35,10\" />\n",
       "            </g>\n",
       "\n",
       "            <g transform=\"translate(75 250)\">\n",
       "                <polyline points=\"-30,30 -60,0 -30,-30\" />\n",
       "                <polyline points=\"0,30 -30,0 0,-30\" />\n",
       "            </g>\n",
       "\n",
       "            <g transform=\"translate(425 250) rotate(180)\">\n",
       "                <polyline points=\"-30,30 -60,0 -30,-30\" />\n",
       "                <polyline points=\"0,30 -30,0 0,-30\" />\n",
       "            </g>\n",
       "        </g>\n",
       "    </g>\n",
       "</svg>\n",
       "</a>\n",
       "</div>\n",
       "<div>\n",
       "Loading ITables v2.1.4 from the internet...\n",
       "(need <a href=https://mwouts.github.io/itables/troubleshooting.html>help</a>?)</td>\n",
       "</div>\n",
       "</tr></tbody>\n",
       "\n",
       "</table>\n",
       "<link href=\"https://www.unpkg.com/dt_for_itables@2.0.11/dt_bundle.css\" rel=\"stylesheet\">\n",
       "<script type=\"module\">\n",
       "    import {DataTable, jQuery as $} from 'https://www.unpkg.com/dt_for_itables@2.0.11/dt_bundle.js';\n",
       "\n",
       "    document.querySelectorAll(\"#itables_8cd3efc5_4b8c_46a0_b020_44a236211957:not(.dataTable)\").forEach(table => {\n",
       "        // Define the table data\n",
       "        const data = [[2.0, 45], [3.0, 35], [3.1, 13], [2.8, 11], [3.3, 10], [3.2, 10], [2.9, 9], [3.4, 9], [4.0, 7], [3.6, 6], [3.9, 6], [3.5, 5], [10.1, 5], [2.6, 5], [2.7, 4], [20.3, 4], [20.4, 4], [3.7, 3], [10.0, 3], [2.4, 3], [4.1, 3], [4.2, 2], [4.9, 2], [4.3, 2], [10.4, 2], [2.5, 2], [4.5, 2], [20.2, 2], [31.2, 2], [10.9, 2], [5.2, 2], [10.3, 2], [4.6, 2], [3.8, 2], [1.3, 1], [0.0, 1], [45.4, 1], [10.2, 1], [43.9, 1], [20.0, 1], [42.0, 1], [45.8, 1], [21.2, 1], [30.3, 1], [31.4, 1], [10.6, 1], [20.9, 1], [29.9, 1], [11.2, 1], [29.6, 1], [21.1, 1], [30.9, 1], [20.7, 1], [30.0, 1], [5.8, 1], [2.2, 1], [2.3, 1], [4.4, 1], [10.5, 1], [30.2, 1], [10.8, 1], [40.6, 1], [36.6, 1], [4.7, 1], [6.0, 1], [4.8, 1], [20.1, 1], [48.0, 1], [32.6, 1], [46.4, 1]];\n",
       "\n",
       "        // Define the dt_args\n",
       "        let dt_args = {\"layout\": {\"topStart\": \"pageLength\", \"topEnd\": \"search\", \"bottomStart\": \"info\", \"bottomEnd\": \"paging\"}, \"order\": []};\n",
       "        dt_args[\"data\"] = data;\n",
       "\n",
       "        \n",
       "        new DataTable(table, dt_args);\n",
       "    });\n",
       "</script>\n"
      ],
      "text/plain": [
       "<IPython.core.display.HTML object>"
      ]
     },
     "metadata": {},
     "output_type": "display_data"
    }
   ],
   "source": [
    "show(DFproject['PRESSURE'].value_counts())"
   ]
  },
  {
   "cell_type": "code",
   "execution_count": null,
   "id": "a07b766e-6af3-45e1-aaad-04ff097fe5fb",
   "metadata": {},
   "outputs": [],
   "source": []
  },
  {
   "cell_type": "code",
   "execution_count": 17,
   "id": "6695ac7e-1963-42b8-9c54-bb13f1896c18",
   "metadata": {},
   "outputs": [
    {
     "data": {
      "text/html": [
       "<table id=\"itables_71446ec6_e9fc_498d_ad35_bff2806975f9\" class=\"display nowrap\" data-quarto-disable-processing=\"true\" style=\"table-layout:auto;width:auto;margin:auto;caption-side:bottom\">\n",
       "<thead>\n",
       "    <tr style=\"text-align: right;\">\n",
       "      \n",
       "      <th>CELLS_L</th>\n",
       "      <th>SAL</th>\n",
       "      <th>TEMP</th>\n",
       "      <th>PRESSURE</th>\n",
       "      <th>DATE_TIME</th>\n",
       "      <th>LON</th>\n",
       "      <th>LAT</th>\n",
       "    </tr>\n",
       "  </thead><tbody><tr>\n",
       "<td style=\"vertical-align:middle; text-align:left\">\n",
       "<div style=\"float:left; margin-right: 10px;\">\n",
       "<a href=https://mwouts.github.io/itables/><svg class=\"main-svg\" xmlns=\"http://www.w3.org/2000/svg\" xmlns:xlink=\"http://www.w3.org/1999/xlink\"\n",
       "width=\"64\" viewBox=\"0 0 500 400\" style=\"font-family: 'Droid Sans', sans-serif;\">\n",
       "    <g style=\"fill:#d9d7fc\">\n",
       "        <path d=\"M100,400H500V357H100Z\" />\n",
       "        <path d=\"M100,300H400V257H100Z\" />\n",
       "        <path d=\"M0,200H400V157H0Z\" />\n",
       "        <path d=\"M100,100H500V57H100Z\" />\n",
       "        <path d=\"M100,350H500V307H100Z\" />\n",
       "        <path d=\"M100,250H400V207H100Z\" />\n",
       "        <path d=\"M0,150H400V107H0Z\" />\n",
       "        <path d=\"M100,50H500V7H100Z\" />\n",
       "    </g>\n",
       "    <g style=\"fill:#1a1366;stroke:#1a1366;\">\n",
       "   <rect x=\"100\" y=\"7\" width=\"400\" height=\"43\">\n",
       "    <animate\n",
       "      attributeName=\"width\"\n",
       "      values=\"0;400;0\"\n",
       "      dur=\"5s\"\n",
       "      repeatCount=\"indefinite\" />\n",
       "      <animate\n",
       "      attributeName=\"x\"\n",
       "      values=\"100;100;500\"\n",
       "      dur=\"5s\"\n",
       "      repeatCount=\"indefinite\" />\n",
       "  </rect>\n",
       "        <rect x=\"0\" y=\"107\" width=\"400\" height=\"43\">\n",
       "    <animate\n",
       "      attributeName=\"width\"\n",
       "      values=\"0;400;0\"\n",
       "      dur=\"3.5s\"\n",
       "      repeatCount=\"indefinite\" />\n",
       "    <animate\n",
       "      attributeName=\"x\"\n",
       "      values=\"0;0;400\"\n",
       "      dur=\"3.5s\"\n",
       "      repeatCount=\"indefinite\" />\n",
       "  </rect>\n",
       "        <rect x=\"100\" y=\"207\" width=\"300\" height=\"43\">\n",
       "    <animate\n",
       "      attributeName=\"width\"\n",
       "      values=\"0;300;0\"\n",
       "      dur=\"3s\"\n",
       "      repeatCount=\"indefinite\" />\n",
       "    <animate\n",
       "      attributeName=\"x\"\n",
       "      values=\"100;100;400\"\n",
       "      dur=\"3s\"\n",
       "      repeatCount=\"indefinite\" />\n",
       "  </rect>\n",
       "        <rect x=\"100\" y=\"307\" width=\"400\" height=\"43\">\n",
       "    <animate\n",
       "      attributeName=\"width\"\n",
       "      values=\"0;400;0\"\n",
       "      dur=\"4s\"\n",
       "      repeatCount=\"indefinite\" />\n",
       "      <animate\n",
       "      attributeName=\"x\"\n",
       "      values=\"100;100;500\"\n",
       "      dur=\"4s\"\n",
       "      repeatCount=\"indefinite\" />\n",
       "  </rect>\n",
       "        <g style=\"fill:transparent;stroke-width:8; stroke-linejoin:round\" rx=\"5\">\n",
       "            <g transform=\"translate(45 50) rotate(-45)\">\n",
       "                <circle r=\"33\" cx=\"0\" cy=\"0\" />\n",
       "                <rect x=\"-8\" y=\"32\" width=\"16\" height=\"30\" />\n",
       "            </g>\n",
       "\n",
       "            <g transform=\"translate(450 152)\">\n",
       "                <polyline points=\"-15,-20 -35,-20 -35,40 25,40 25,20\" />\n",
       "                <rect x=\"-15\" y=\"-40\" width=\"60\" height=\"60\" />\n",
       "            </g>\n",
       "\n",
       "            <g transform=\"translate(50 352)\">\n",
       "                <polygon points=\"-35,-5 0,-40 35,-5\" />\n",
       "                <polygon points=\"-35,10 0,45 35,10\" />\n",
       "            </g>\n",
       "\n",
       "            <g transform=\"translate(75 250)\">\n",
       "                <polyline points=\"-30,30 -60,0 -30,-30\" />\n",
       "                <polyline points=\"0,30 -30,0 0,-30\" />\n",
       "            </g>\n",
       "\n",
       "            <g transform=\"translate(425 250) rotate(180)\">\n",
       "                <polyline points=\"-30,30 -60,0 -30,-30\" />\n",
       "                <polyline points=\"0,30 -30,0 0,-30\" />\n",
       "            </g>\n",
       "        </g>\n",
       "    </g>\n",
       "</svg>\n",
       "</a>\n",
       "</div>\n",
       "<div>\n",
       "Loading ITables v2.1.4 from the internet...\n",
       "(need <a href=https://mwouts.github.io/itables/troubleshooting.html>help</a>?)</td>\n",
       "</div>\n",
       "</tr></tbody>\n",
       "\n",
       "</table>\n",
       "<link href=\"https://www.unpkg.com/dt_for_itables@2.0.11/dt_bundle.css\" rel=\"stylesheet\">\n",
       "<script type=\"module\">\n",
       "    import {DataTable, jQuery as $} from 'https://www.unpkg.com/dt_for_itables@2.0.11/dt_bundle.js';\n",
       "\n",
       "    document.querySelectorAll(\"#itables_71446ec6_e9fc_498d_ad35_bff2806975f9:not(.dataTable)\").forEach(table => {\n",
       "        // Define the table data\n",
       "        const data = [[4, 31.89, 10.07, 1.3, \"2018-08-08 09:24\", -168.2342, 64.6705], [0, 31.17, 11.44, 4.0, \"2018-08-08 21:36\", -169.146, 64.9912], [0, 31.32, 11.14, 2.6, \"2018-08-09 00:35\", -169.899, 64.9598], [0, 31.53, 11.25, 2.8, \"2018-08-09 03:29\", -169.9258, 64.6718], [0, 31.38, 11.7, 2.6, \"2018-08-09 06:52\", -169.1002, 64.68], [54, 28.12, 11.39, 3.8, \"2018-08-09 15:48\", -168.6775, 66.417], [28, 29.16, 10.94, 3.1, \"2018-08-09 21:06\", -168.6635, 67.1642], [51, 29.32, 11.02, 2.8, \"2018-08-10 04:33\", -166.9308, 68.3012], [35, 29.65, 10.69, 2.7, \"2018-08-10 06:27\", -167.1255, 68.2462], [165, 29.2, 10.47, 3.0, \"2018-08-10 08:10\", -167.3027, 68.1902], [76, 30.16, 9.89, 2.6, \"2018-08-10 10:29\", -167.4915, 68.1357], [29, 31.88, 8.09, 2.8, \"2018-08-10 13:54\", -167.8798, 68.0153], [382, 32.83, 6.84, 3.0, \"2018-08-10 18:04\", -168.248, 67.8968], [260, 32.79, 6.44, 2.6, \"2018-08-11 01:12\", -168.601, 67.7853], [107, 31.35, 9.49, 3.1, \"2018-08-11 05:04\", -168.9568, 67.677], [931, 31.34, 7.07, 4.9, \"2018-08-11 22:03\", -166.855, 70.0162], [336, 31.26, 8.85, 3.1, \"2018-08-12 04:14\", -167.7935, 70.2197], [144, 30.66, 6.22, 2.5, \"2018-08-12 13:22\", -165.9698, 71.8302], [154, 30.57, 6.3, 2.8, \"2018-08-12 17:54\", -166.0737, 71.8297], [7, 30.45, 6.31, 2.9, \"2018-08-12 22:17\", -165.6028, 71.7052], [3, 29.54, 4.8, 2.9, \"2018-08-13 01:00\", -165.3038, 71.6005], [2, 28.95, 4.04, 3.0, \"2018-08-13 04:20\", -164.919, 71.4485], [5, 29.29, 4.04, 3.0, \"2018-08-13 07:37\", -164.6127, 71.3367], [2, 30.2, 4.99, 3.2, \"2018-08-13 10:42\", -164.2018, 71.195], [10, 30.58, 5.93, 2.7, \"2018-08-13 13:19\", -163.8018, 71.0847], [4, 30.26, 4.8, 2.8, \"2018-08-13 17:51\", -164.2207, 71.2327], [12, 30.72, 6.18, 3.9, \"2018-08-14 03:10\", -163.5642, 70.9725], [871, 30.96, 7.86, 4.2, \"2018-08-14 06:10\", -163.1872, 70.849], [558, 30.92, 7.72, 3.9, \"2018-08-14 07:50\", -163.0097, 70.7882], [1828, 31.0, 8.22, 3.7, \"2018-08-14 08:53\", -162.8565, 70.7172], [151, 30.52, 6.69, 3.8, \"2018-08-14 10:42\", -162.6662, 70.653], [530, 30.87, 7.38, 3.0, \"2018-08-14 11:54\", -162.4912, 70.58], [7, 29.8, 3.53, 2.9, \"2018-08-15 07:16\", -160.4822, 71.0483], [2, 29.13, 2.2, 3.3, \"2018-08-15 09:39\", -161.1928, 71.09], [1, 29.41, 2.48, 4.0, \"2018-08-15 12:17\", -161.2893, 71.2238], [0, 29.21, 2.02, 4.1, \"2018-08-15 15:56\", -161.3958, 71.3507], [0, 28.82, 1.61, 3.4, \"2018-08-15 18:41\", -161.5048, 71.4805], [0, 28.36, 0.51, 3.4, \"2018-08-15 22:15\", -161.6152, 71.6103], [1, 28.77, 0.22, 2.8, \"2018-08-16 02:20\", -161.5865, 71.7755], [9, 29.1, 3.93, 2.5, \"2018-08-17 01:05\", -157.135, 71.2468], [30, 29.29, 4.46, 3.6, \"2018-08-17 02:55\", -157.2213, 71.2888], [54, 30.07, 5.51, 4.0, \"2018-08-17 04:45\", -157.3067, 71.3262], [17, 30.59, 5.04, 3.1, \"2018-08-17 06:36\", -157.3803, 71.3727], [8, 30.91, 6.22, 4.9, \"2018-08-17 08:29\", -157.4497, 71.4095], [4, 30.36, 4.21, 3.4, \"2018-08-17 10:29\", -157.5532, 71.4543], [24, 30.55, 4.62, 3.4, \"2018-08-17 12:15\", -157.6265, 71.4953], [11, 30.44, 4.76, 2.9, \"2018-08-17 13:48\", -157.7107, 71.5358], [41, 30.35, 4.81, 3.5, \"2018-08-17 15:27\", -157.8175, 71.5835], [11, 29.33, 2.65, 3.3, \"2018-08-17 17:42\", -157.9005, 71.6262], [4, 26.28, -0.93, 2.2, \"2018-08-18 10:06\", -153.3597, 71.95], [29, 28.17, 2.68, 3.1, \"2018-08-18 22:07\", -154.4728, 71.496], [12, 28.21, 1.8, 2.3, \"2018-08-19 15:45\", -154.6282, 72.2347], [2, 27.53, 1.12, 2.6, \"2018-08-20 09:29\", -155.54, 72.1093], [0, 26.02, -0.8, 2.7, \"2018-08-21 03:35\", -156.6018, 72.6198], [5523, 31.31, 7.57, 4.4, \"2018-08-22 19:31\", -168.5445, 70.2598], [5110, 31.31, 7.56, 10.5, \"2018-08-22 19:31\", -168.5445, 70.2598], [3888, 31.91, 2.84, 30.2, \"2018-08-22 19:31\", -168.5445, 70.2598], [1463, 31.24, 8.21, 4.2, \"2018-08-22 21:52\", -168.1307, 70.1648], [1750, 31.24, 8.19, 10.8, \"2018-08-22 21:52\", -168.1307, 70.1648], [1270, 31.38, 7.23, 20.9, \"2018-08-22 21:52\", -168.1307, 70.1648], [90, 31.86, 3.06, 29.9, \"2018-08-22 21:52\", -168.1307, 70.1648], [5429, 30.73, 9.0, 4.0, \"2018-08-22 23:18\", -167.6565, 70.0578], [4763, 30.74, 8.99, 11.2, \"2018-08-22 23:18\", -167.6565, 70.0578], [3660, 30.86, 8.83, 20.4, \"2018-08-22 23:18\", -167.6565, 70.0578], [45, 32.06, 2.19, 29.6, \"2018-08-22 23:18\", -167.6565, 70.0578], [1780, 30.34, 9.19, 4.0, \"2018-08-23 01:18\", -167.2213, 69.9567], [3666, 30.38, 9.12, 10.9, \"2018-08-23 01:18\", -167.2213, 69.9567], [3771, 30.78, 8.56, 21.1, \"2018-08-23 01:18\", -167.2213, 69.9567], [8, 31.85, 4.94, 30.9, \"2018-08-23 01:18\", -167.2213, 69.9567], [1268, 30.33, 9.25, 4.6, \"2018-08-23 02:41\", -166.8215, 69.879], [1562, 30.32, 9.25, 10.3, \"2018-08-23 02:41\", -166.8215, 69.879], [2017, 30.31, 9.25, 21.2, \"2018-08-23 02:41\", -166.8215, 69.879], [37, 31.67, 5.39, 30.3, \"2018-08-23 02:41\", -166.8215, 69.879], [501, 30.37, 9.4, 5.2, \"2018-08-23 04:37\", -166.44, 69.7797], [390, 30.37, 9.4, 10.1, \"2018-08-23 04:37\", -166.44, 69.7797], [888, 30.51, 9.14, 20.4, \"2018-08-23 04:37\", -166.44, 69.7797], [565, 31.33, 7.51, 31.4, \"2018-08-23 04:37\", -166.44, 69.7797], [544, 30.38, 9.2, 3.9, \"2018-08-23 05:48\", -166.0928, 69.6832], [343, 30.38, 9.2, 10.6, \"2018-08-23 05:48\", -166.0928, 69.6832], [740, 30.38, 9.2, 20.7, \"2018-08-23 05:48\", -166.0928, 69.6832], [32, 31.63, 6.64, 31.2, \"2018-08-23 05:48\", -166.0928, 69.6832], [2009, 30.41, 9.33, 3.6, \"2018-08-23 07:29\", -165.7402, 69.5815], [950, 30.42, 9.33, 10.9, \"2018-08-23 07:29\", -165.7402, 69.5815], [2668, 30.48, 9.29, 20.2, \"2018-08-23 07:29\", -165.7402, 69.5815], [4188, 30.68, 9.14, 31.2, \"2018-08-23 07:29\", -165.7402, 69.5815], [1214, 30.84, 8.68, 4.1, \"2018-08-23 08:51\", -165.3785, 69.4962], [2133, 30.84, 8.69, 10.1, \"2018-08-23 08:51\", -165.3785, 69.4962], [2067, 30.84, 8.69, 20.4, \"2018-08-23 08:51\", -165.3785, 69.4962], [3010, 30.89, 8.64, 30.0, \"2018-08-23 08:51\", -165.3785, 69.4962], [4, NaN, NaN, NaN, \"2019-08-04 20:08\", -168.79133, 61.247833], [0, NaN, NaN, NaN, \"2019-08-04 20:09\", -168.78333, 61.233333], [0, NaN, NaN, NaN, \"2019-08-04 21:38\", -168.603, 61.4145], [1, NaN, NaN, NaN, \"2019-08-05 01:59\", -168.11087, 61.996017], [0, NaN, NaN, NaN, \"2019-08-05 16:09\", -166.19028, 63.83065], [0, NaN, NaN, NaN, \"2019-08-05 20:14\", -165.71275, 64.253717], [0, NaN, NaN, NaN, \"2019-08-06 02:02\", -168.71308, 63.371983], [0, NaN, NaN, NaN, \"2019-08-06 03:31\", -169.06645, 63.480617], [0, 32.19, 9.67, 5.2, \"2019-08-06 04:44\", -175.0692, 62.0048], [4, 32.21, 9.63, 2.8, \"2019-08-06 06:57\", -175.2153, 62.0442], [7, 32.15, 9.51, NaN, \"2019-08-06 12:06\", -174.8753, 62.2162], [77, 32.11, 9.12, 4.5, \"2019-08-06 13:29\", -174.5642, 62.392], [7, 32.14, 9.32, NaN, \"2019-08-06 16:03\", -174.0843, 62.4692], [1, NaN, 8.95, 2.0, \"2019-08-06 16:13\", -168.424833, 63.294], [1, 32.13, 9.4, 5.8, \"2019-08-06 17:37\", -173.5547, 62.5528], [7, 32.18, 9.26, NaN, \"2019-08-06 20:13\", -173.4988, 62.7885], [9, 32.2, 9.26, 3.4, \"2019-08-06 21:36\", -173.4617, 63.0345], [1, 32.2, 9.06, NaN, \"2019-08-07 02:30\", -173.074, 63.2768], [4, 31.83, 10.4, NaN, \"2019-08-07 04:34\", -172.5865, 63.6023], [7, 31.85, 9.8, NaN, \"2019-08-07 06:30\", -171.8075, 63.8755], [13, 30.01, 8.66, NaN, \"2019-08-07 08:05\", -171.008333, 64.111667], [17, 31.09, 7.04, NaN, \"2019-08-07 10:30\", -169.481667, 64.209833], [5, 30.86, 11.18, NaN, \"2019-08-07 12:35\", -168.323667, 64.290833], [12, 30.37, 9.92, 3.0, \"2019-08-07 14:24\", -171.48183, 64.15833], [0, 31.51, 10.17, NaN, \"2019-08-07 14:34\", -167.096667, 64.364167], [0, 27.13, 12.94, 3.1, \"2019-08-08 07:34\", -166.9555, 64.6728], [0, 26.97, 12.91, NaN, \"2019-08-08 09:14\", -167.2817, 64.6717], [0, 31.62, 9.07, 3.4, \"2019-08-08 10:14\", -167.597, 64.6695], [0, 31.27, 10.32, NaN, \"2019-08-08 11:53\", -167.9062, 64.6705], [0, 30.73, 10.77, 3.6, \"2019-08-08 13:06\", -168.2292, 64.6742], [5, 32.25, 6.2, NaN, \"2019-08-08 15:13\", -168.6845, 64.6722], [1, 31.53, 10.45, 2.0, \"2019-08-08 16:16\", -167.076, 64.38917], [2, 32.46, 5.33, 3.5, \"2019-08-08 16:35\", -169.0872, 64.6815], [8, 30.97, 7.95, NaN, \"2019-08-08 18:42\", -169.4982, 64.6707], [5, 31.93, 5.64, 3.0, \"2019-08-08 20:29\", -169.9172, 64.6723], [24, 32.51, 2.73, NaN, \"2019-08-08 22:34\", -170.2585, 64.6762], [3, 32.85, 2.61, 3.0, \"2019-08-08 23:42\", -170.646, 64.6718], [10, 32.78, 5.02, 3.1, \"2019-08-09 02:48\", -169.8977, 64.9623], [37, 32.92, 4.25, 2.9, \"2019-08-09 05:42\", -169.1325, 64.993], [6, 31.07, 9.29, 3.2, \"2019-08-09 08:36\", -168.221, 65.003], [8, 31.12, 9.77, NaN, \"2019-08-09 12:00\", -168.4455, 65.535], [20, 31.1, 9.17, NaN, \"2019-08-09 14:00\", -168.384333, 66.011667], [29, 30.62, 10.13, NaN, \"2019-08-09 15:54\", -168.405, 66.541667], [101, 31.1, 10.13, NaN, \"2019-08-09 17:08\", -168.492167, 66.852833], [1175, 31.09, 10.08, NaN, \"2019-08-09 17:27\", -168.5175, 66.9365], [8222, 32.81, 6.41, NaN, \"2019-08-09 20:37\", -168.7421, 67.721667], [615, 32.93, 5.98, 2.9, \"2019-08-09 22:14\", -168.8223, 68.0303], [519, 32.95, 5.84, NaN, \"2019-08-10 01:02\", -168.868867, 67.949], [957, 32.83, 6.93, NaN, \"2019-08-10 01:50\", -168.921867, 67.753733], [1528, 32.86, 6.45, 3.1, \"2019-08-10 02:29\", -168.939, 67.6745], [4225, 32.76, 6.54, 3.1, \"2019-08-10 06:12\", -168.6063, 67.7812], [892, 32.77, 6.58, 2.8, \"2019-08-10 08:15\", -168.2302, 67.8933], [41, 32.45, 7.79, 3.0, \"2019-08-10 12:04\", -167.8857, 68.0117], [1354, 32.27, 8.0, 2.4, \"2019-08-10 14:08\", -167.4898, 68.1297], [1344, 32.05, 8.9, 3.6, \"2019-08-10 15:36\", -167.3017, 68.185], [57, 29.9, 11.35, 2.0, \"2019-08-10 15:51\", -164.8945, 67.54083], [153, 31.15, 10.27, 2.9, \"2019-08-10 17:04\", -167.1383, 68.2432], [8, 29.0, 12.64, 3.3, \"2019-08-10 18:53\", -166.9432, 68.3028], [13, 28.14, 12.77, NaN, \"2019-08-10 20:39\", -167.141167, 68.501333], [1, 28.58, 12.07, NaN, \"2019-08-10 21:55\", -166.90265, 68.786367], [6, 28.73, 12.28, NaN, \"2019-08-10 23:11\", -166.647983, 69.081167], [0, 29.12, 11.81, NaN, \"2019-08-11 00:35\", -166.228833, 69.375833], [507, 32.74, 7.35, 2.0, \"2019-08-11 01:00\", -168.19467, 67.910835], [13, 29.39, 11.48, NaN, \"2019-08-11 02:00\", -165.741367, 69.6705], [24, 30.38, 10.58, NaN, \"2019-08-11 03:08\", -165.340333, 69.911667], [110, 30.44, 10.34, NaN, \"2019-08-11 04:23\", -164.884833, 70.180333], [25, 30.39, 10.83, NaN, \"2019-08-11 06:00\", -164.040667, 70.459667], [221, 31.0, 10.43, NaN, \"2019-08-11 07:25\", -163.1225, 70.661667], [32, 31.5, 8.57, NaN, \"2019-08-11 09:15\", -161.988333, 70.916167], [4, 29.21, 7.19, 2.8, \"2019-08-11 10:41\", -161.2008, 71.0852], [2, 29.35, 6.58, 2.9, \"2019-08-11 12:46\", -161.2785, 71.2232], [73, 31.9, 9.53, 2.0, \"2019-08-11 14:04\", -167.74234, 68.6725], [0, 29.63, 6.91, 3.5, \"2019-08-11 16:03\", -161.3978, 71.3457], [0, 29.67, 6.4, 3.0, \"2019-08-11 18:32\", -161.4993, 71.4793], [67, 31.95, 9.46, 2.0, \"2019-08-11 19:37\", -167.74733, 68.673], [0, 29.91, 6.5, 3.4, \"2019-08-11 22:17\", -161.6253, 71.6047], [2, 29.9, 6.23, 4.7, \"2019-08-11 23:58\", -161.7335, 71.7375], [8, 29.1, 5.11, 3.0, \"2019-08-12 07:55\", -160.8428, 72.898], [6, 28.91, 5.63, 2.4, \"2019-08-12 10:00\", -160.6458, 73.0177], [14, 30.09, 4.69, 2.8, \"2019-08-12 12:35\", -160.4497, 73.137], [12, 30.5, 9.69, 2.0, \"2019-08-12 14:05\", -167.79483, 70.218666], [29, 28.79, 5.29, 4.3, \"2019-08-12 16:15\", -160.2483, 73.2592], [37, 29.26, 11.27, 2.0, \"2019-08-12 17:36\", -166.8655, 70.017166], [7, 27.6, 3.56, 3.3, \"2019-08-12 20:21\", -160.0643, 73.3805], [18, 27.49, 3.05, 2.7, \"2019-08-13 06:19\", -159.5202, 73.6775], [67, 28.25, 4.29, 2.4, \"2019-08-13 08:02\", -159.2962, 73.7988], [7, 28.31, 3.16, 2.8, \"2019-08-13 11:56\", -159.7517, 73.9405], [6, 30.05, 8.99, 2.0, \"2019-08-13 14:10\", -166.05, 71.82716], [0, 28.44, 3.97, 3.1, \"2019-08-13 15:47\", -160.6078, 74.1757], [0, 30.11, 8.99, 2.0, \"2019-08-13 16:36\", -165.98384, 71.82567], [3, 30.48, 8.93, 2.0, \"2019-08-13 19:02\", -165.60767, 71.707], [0, 30.64, 8.82, 2.0, \"2019-08-13 20:22\", -165.30513, 71.60603], [1, 28.03, 3.25, 6.0, \"2019-08-13 21:54\", -161.1765, 74.3447], [4, 29.86, 8.53, 2.0, \"2019-08-13 22:13\", -164.9233, 71.45153], [5, 29.58, 8.31, 2.0, \"2019-08-13 23:43\", -164.61781, 71.342964], [0, 30.26, 8.46, 2.0, \"2019-08-14 01:32\", -164.25798, 71.2162], [0, 28.34, 3.9, 3.9, \"2019-08-14 04:21\", -162.3463, 74.6742], [3, 29.61, 4.74, 3.1, \"2019-08-14 08:24\", -163.3185, 74.6147], [131, 29.35, 5.3, 3.9, \"2019-08-14 13:06\", -164.6605, 74.355], [9, 30.44, 8.65, 4.0, \"2019-08-14 15:22\", -164.20967, 71.200165], [32, 28.95, 4.78, 4.3, \"2019-08-14 15:36\", -165.3528, 74.2202], [6, 30.43, 8.41, 3.0, \"2019-08-14 17:06\", -163.79866, 71.089836], [15, 30.32, 8.36, 3.0, \"2019-08-14 18:41\", -163.56366, 70.97483], [93, 31.17, 9.05, 3.0, \"2019-08-14 20:24\", -163.18317, 70.853], [181, 30.1, 11.01, 3.0, \"2019-08-14 22:17\", -162.85083, 70.7225], [63, 30.33, 10.64, 3.0, \"2019-08-14 23:53\", -162.4861, 70.583336], [68, 30.17, 10.96, 3.0, \"2019-08-15 01:22\", -162.44687, 70.706], [23, 29.42, 5.79, 3.0, \"2019-08-15 09:32\", -165.0048, 74.2867], [6, 28.4, 3.86, 3.0, \"2019-08-15 11:32\", -165.6782, 74.1573], [202, 30.45, 10.25, 3.0, \"2019-08-15 14:11\", -163.12099, 70.84237], [1, 29.1, 4.94, 3.5, \"2019-08-15 15:10\", -166.0023, 73.9707], [4, 27.54, 4.4, 3.1, \"2019-08-15 18:45\", -166.004, 73.7435], [6, 26.95, 4.36, 3.7, \"2019-08-15 22:38\", -166.0057, 73.521], [1, 29.82, 6.04, 3.3, \"2019-08-16 17:56\", -157.9172, 71.618], [0, 29.8, 6.37, 3.2, \"2019-08-16 19:41\", -157.8047, 71.5742], [5, 29.68, 6.33, 3.4, \"2019-08-16 21:31\", -157.7352, 71.5343], [2, 29.64, 6.69, 4.5, \"2019-08-16 23:14\", -157.6458, 71.4938], [3, 29.51, 6.83, 3.5, \"2019-08-17 02:38\", -157.4598, 71.4047], [19, 29.42, 6.61, 4.6, \"2019-08-17 04:44\", -157.3893, 71.3717], [585, 32.2, 9.67, 4.8, \"2019-08-17 06:40\", -157.3215, 71.3242], [713, 31.01, 9.33, 4.1, \"2019-08-17 08:36\", -157.2193, 71.289], [610, 31.06, 9.22, 3.7, \"2019-08-17 09:48\", -157.1557, 71.251], [112, 28.3, 4.41, 3.3, \"2019-08-18 01:01\", -155.4207, 72.4722], [822, 30.93, 9.68, 2.0, \"2019-08-18 15:26\", -163.123, 70.83567], [5, 30.69, 8.81, 2.0, \"2019-08-18 22:18\", -164.2575, 71.2145], [19, 30.23, 6.19, 3.3, \"2019-08-19 03:48\", -156.1932, 71.9082], [27, 30.35, 6.05, 3.0, \"2019-08-19 05:55\", -156.028, 72.0308], [13, 30.32, 6.04, 3.9, \"2019-08-19 08:25\", -155.8478, 72.1557], [133, 29.51, 6.35, 3.1, \"2019-08-19 12:47\", -155.6042, 72.3473], [2, 29.88, 6.56, 2.0, \"2019-08-19 14:06\", -161.5155, 71.6], [0, 29.86, 6.49, 2.0, \"2019-08-19 16:31\", -161.51534, 71.59634], [2, 29.4, 6.56, 2.0, \"2019-08-19 21:17\", -160.49507, 71.04643], [730, 30.5, 8.37, 3.6, \"2019-08-20 02:34\", -154.0313, 71.5357], [1154, 30.44, 8.41, 3.2, \"2019-08-20 03:48\", -153.9502, 71.5957], [200, 30.78, 9.35, 2.0, \"2019-08-20 04:02\", -158.01517, 71.20617], [990, 30.47, 8.61, 3.3, \"2019-08-20 04:30\", -153.8398, 71.6498], [259, 30.54, 8.66, 3.6, \"2019-08-20 05:43\", -153.7393, 71.7147], [796, 30.65, 8.35, 3.0, \"2019-08-20 06:38\", -153.63, 71.7815], [177, 29.99, 7.3, 2.9, \"2019-08-20 08:19\", -153.5562, 71.8387], [28, 30.3, 6.6, 3.2, \"2019-08-20 09:08\", -153.459, 71.8928], [7, 30.4, 6.3, 3.2, \"2019-08-20 10:13\", -153.3652, 71.9517], [21, 30.25, 6.53, 4.0, \"2019-08-20 11:08\", -153.2562, 72.0202], [76, 29.67, 6.77, 2.0, \"2019-08-20 17:40\", -153.58083, 71.87883], [163, 30.58, 8.46, 2.0, \"2019-08-20 20:25\", -153.7505, 71.7095], [47, 29.7, 6.85, NaN, \"2019-08-20 22:30\", -153.9415, 71.860833], [146, 30.58, 8.6, 3.0, \"2019-08-20 23:35\", -154.10217, 71.50317], [539, 30.49, 8.42, 2.0, \"2019-08-21 00:33\", -154.23866, 71.4285], [50, 29.79, 6.81, NaN, \"2019-08-21 00:45\", -154.6635, 71.867667], [45, 30.03, 6.1, NaN, \"2019-08-21 02:59\", -156.295, 71.897833], [6, 0.19, 5.56, NaN, \"2019-08-21 04:50\", -157.653167, 71.8025], [1, 29.41, 5.77, NaN, \"2019-08-21 06:45\", -158.9925, 71.6535], [3, 29.3, 6.01, NaN, \"2019-08-21 08:50\", -160.708667, 71.461667], [5, 29.4, 7.08, NaN, \"2019-08-21 10:55\", -162.072667, 71.3075], [8, 29.31, 7.97, NaN, \"2019-08-21 13:03\", -163.467333, 71.149667], [55, 31.1, 8.67, NaN, \"2019-08-21 15:02\", -164.792167, 70.970667], [1130, 29.61, 10.61, NaN, \"2019-08-21 17:02\", -166.0885, 70.776333], [472, 29.48, 10.89, NaN, \"2019-08-21 18:09\", -166.817167, 70.666667], [375, 29.88, 10.41, NaN, \"2019-08-21 19:03\", -167.364167, 70.558333], [555, 30.31, 10.15, NaN, \"2019-08-21 20:05\", -167.9495, 70.41], [154, 31.65, 9.26, 3.2, \"2019-08-21 21:16\", -168.5183, 70.2613], [26, 31.9, 9.09, 10.0, \"2019-08-21 21:16\", -168.5183, 70.2613], [16, 32.35, 6.01, 20.0, \"2019-08-21 21:16\", -168.5183, 70.2613], [1, 32.37, 0.2, 42.0, \"2019-08-21 21:16\", -168.5183, 70.2613], [369, 30.59, 9.82, 3.0, \"2019-08-21 22:34\", -168.1275, 70.1705], [232, 31.09, 9.35, 10.0, \"2019-08-21 22:34\", -168.1275, 70.1705], [12, 32.34, 5.77, 20.2, \"2019-08-21 22:34\", -168.1275, 70.1705], [6, 32.39, 1.46, 45.8, \"2019-08-21 22:34\", -168.1275, 70.1705], [25, 30.49, 10.37, 3.4, \"2019-08-22 00:39\", -167.6458, 70.0582], [53, 30.5, 10.37, 10.1, \"2019-08-22 00:39\", -167.6458, 70.0582], [2, 31.54, 8.83, 20.1, \"2019-08-22 00:39\", -167.6458, 70.0582], [0, 32.42, 5.77, 48.0, \"2019-08-22 00:39\", -167.6458, 70.0582], [24, 30.41, 10.15, 3.0, \"2019-08-22 01:59\", -167.2257, 69.9595], [139, 31.29, 9.31, 10.1, \"2019-08-22 01:59\", -167.2257, 69.9595], [1, 32.0, 8.17, 20.3, \"2019-08-22 01:59\", -167.2257, 69.9595], [0, 32.45, 5.64, 46.4, \"2019-08-22 01:59\", -167.2257, 69.9595], [155, 29.58, 10.98, 0.0, \"2019-08-22 02:37\", -164.51067, 70.192283], [0, 29.34, 10.94, 3.2, \"2019-08-22 03:42\", -166.8177, 69.883], [16, 31.73, 8.95, 10.3, \"2019-08-22 03:42\", -166.8177, 69.883], [0, 32.02, 7.76, 20.3, \"2019-08-22 03:42\", -166.8177, 69.883], [3, 32.43, 5.92, 45.4, \"2019-08-22 03:42\", -166.8177, 69.883], [1, 28.96, 11.47, 3.2, \"2019-08-22 04:57\", -166.452, 69.785], [2, 28.93, 11.42, 10.2, \"2019-08-22 04:57\", -166.452, 69.785], [1, 30.82, 9.91, 20.3, \"2019-08-22 04:57\", -166.452, 69.785], [0, 32.34, 6.42, 43.9, \"2019-08-22 04:57\", -166.452, 69.785], [0, 28.89, 11.48, 3.2, \"2019-08-22 06:40\", -166.094, 69.6875], [1, 28.9, 11.5, 10.1, \"2019-08-22 06:40\", -166.094, 69.6875], [0, 29.04, 11.49, 20.4, \"2019-08-22 06:40\", -166.094, 69.6875], [0, 32.05, 7.5, 40.6, \"2019-08-22 06:40\", -166.094, 69.6875], [1, 29.0, 11.26, 3.3, \"2019-08-22 07:51\", -165.7427, 69.584], [7, 29.0, 11.27, 10.4, \"2019-08-22 07:51\", -165.7427, 69.584], [2, 29.93, 11.23, 20.3, \"2019-08-22 07:51\", -165.7427, 69.584], [0, 31.53, 8.28, 36.6, \"2019-08-22 07:51\", -165.7427, 69.584], [4, 28.85, 11.54, 3.3, \"2019-08-22 09:25\", -165.3765, 69.5012], [1, 28.85, 11.55, 10.4, \"2019-08-22 09:25\", -165.3765, 69.5012], [1, NaN, NaN, NaN, \"2019-08-22 09:25\", -165.3765, 69.5012], [0, 31.18, 9.02, 32.6, \"2019-08-22 09:25\", -165.3765, 69.5012], [1, 31.17, 9.49, NaN, \"2019-08-22 11:30\", -166.650667, 69.359], [2, 31.17, 9.49, NaN, \"2019-08-22 13:20\", -167.263833, 69.071167], [1, 31.17, 9.49, NaN, \"2019-08-22 14:48\", -167.924167, 68.762333], [2, 29.68, 10.95, NaN, \"2019-08-22 15:57\", -167.48833, 68.487583], [38, 31.17, 9.49, NaN, \"2019-08-22 16:24\", -168.3705, 68.408], [77, 31.17, 9.49, NaN, \"2019-08-22 17:53\", -168.785667, 68.075], [15, 30.79, 10.23, NaN, \"2019-08-22 18:22\", -167.99145, 68.1726], [70, 31.17, 9.49, NaN, \"2019-08-22 19:22\", -168.929333, 67.883667], [33, 31.17, 9.49, NaN, \"2019-08-22 20:25\", -168.837333, 67.6295], [89, 32.39, 6.65, NaN, \"2019-08-22 21:06\", -168.52122, 67.82145], [58, 32.75, 5.58, NaN, \"2019-08-22 21:15\", -168.54508, 67.803467], [3, 31.17, 9.49, NaN, \"2019-08-22 22:02\", -168.70667, 67.2336], [9, 32.51, 5.78, 3.0, \"2019-08-22 22:47\", -168.73816, 67.6695], [2, 30.93, 9.18, NaN, \"2019-08-23 02:08\", -168.64468, 67.3172], [0, 28.72, 11.47, NaN, \"2019-08-23 05:38\", -168.55442, 66.802917], [0, 28.53, 11.24, NaN, \"2019-08-23 15:23\", -167.50418, 65.082017], [0, 26.77, 12.38, NaN, \"2019-08-23 20:43\", -166.83743, 64.754067], [2, 29.79, 10.24, NaN, \"2019-08-26 18:52\", -166.94582, 69.714933], [1743, 30.68, 9.99, NaN, \"2019-08-26 23:25\", -166.99018, 70.270333], [85, NaN, NaN, NaN, \"2019-08-27 00:00\", -168.502167, 72.499], [64, 31.31, 6.96, 2.0, \"2019-08-28 00:19\", -166.81583, 72.5005], [232, 29.72, 6.17, 3.0, \"2019-08-28 15:07\", -165.18433, 72.50017], [275, 27.68, 5.25, 3.0, \"2019-08-28 23:06\", -163.49817, 72.49983], [635, 29.36, 5.57, 3.0, \"2019-08-29 15:00\", -161.90767, 72.501335], [12, 29.56, 4.63, 3.0, \"2019-08-29 22:03\", -160.20366, 72.49817], [5, 29.06, 5.05, 2.0, \"2019-08-30 14:59\", -159.63533, 72.7685], [15, 28.67, 4.68, 2.0, \"2019-08-30 19:59\", -159.34067, 72.896835], [27, 28.15, 4.03, 10.0, \"2019-08-31 01:38\", -158.9395, 73.104836], [57, 27.15, 3.25, 2.0, \"2019-08-31 19:37\", -157.16766, 72.3705], [95, 28.58, 4.88, 3.0, \"2019-09-01 01:12\", -157.41747, 72.25362], [42, 28.58, 4.88, 3.0, \"2019-09-01 01:12\", -157.41747, 72.25362], [4, 31.48, 7.51, 2.0, \"2019-09-02 01:13\", -157.80183, 71.00117], [72, 30.56, 7.73, 3.0, \"2019-09-02 19:36\", -159.293, 71.00083], [22, 30.2, 7.25, 2.0, \"2019-09-03 15:02\", -160.787, 71.001335], [2590, 30.45, 9.09, 3.0, \"2019-09-03 21:05\", -162.39317, 70.99934], [333, 30.23, 8.72, 2.0, \"2019-09-04 15:05\", -163.90334, 71.00183], [561, 29.68, 9.54, 2.0, \"2019-09-04 20:44\", -165.40266, 71.00117], [73, 30.69, 9.09, 2.0, \"2019-09-05 15:01\", -167.00433, 71.00117], [1573, 31.42, 8.73, 2.0, \"2019-09-05 20:19\", -168.504, 71.00217], [440, 30.95, 8.26, 2.0, \"2019-09-06 14:59\", -168.48883, 71.754166], [1106, 30.15, 9.17, 2.0, \"2019-09-06 20:55\", -166.89116, 71.751335], [301, 31.05, 7.73, 3.0, \"2019-09-07 15:00\", -165.3115, 71.755165], [1691, 30.68, 7.05, 2.0, \"2019-09-07 21:19\", -163.69467, 71.74983], [1, 29.54, 6.02, 2.0, \"2019-09-08 14:58\", -161.9925, 71.751335], [0, 29.63, 5.9, 2.0, \"2019-09-08 20:41\", -160.40033, 71.751], [1, 29.71, 5.19, 2.0, \"2019-09-09 14:56\", -158.79784, 71.75267], [7, 29.66, 6.52, 2.0, \"2019-09-09 19:22\", -157.201, 71.751], [0, 29.86, 10.7, 2.0, \"2019-09-10 16:01\", -164.09134, 70.25267], [0, 30.35, 10.66, 2.0, \"2019-09-10 21:38\", -165.489, 70.24917], [0, 30.69, 9.91, 2.0, \"2019-09-11 14:57\", -166.99716, 70.24834], [299, 31.7, 8.97, 2.0, \"2019-09-11 22:25\", -168.49933, 70.25117]];\n",
       "\n",
       "        // Define the dt_args\n",
       "        let dt_args = {\"layout\": {\"topStart\": \"pageLength\", \"topEnd\": \"search\", \"bottomStart\": \"info\", \"bottomEnd\": \"paging\"}, \"order\": []};\n",
       "        dt_args[\"data\"] = data;\n",
       "\n",
       "        \n",
       "        new DataTable(table, dt_args);\n",
       "    });\n",
       "</script>\n"
      ],
      "text/plain": [
       "<IPython.core.display.HTML object>"
      ]
     },
     "metadata": {},
     "output_type": "display_data"
    }
   ],
   "source": [
    "mask = ['CELLS_L', 'SAL', 'TEMP', 'PRESSURE','DATE_TIME','LON','LAT']\n",
    "DFproject_mask = DFproject[mask]\n",
    "show(DFproject_mask)"
   ]
  },
  {
   "cell_type": "code",
   "execution_count": 18,
   "id": "2f54d809-2396-4f72-a640-a95797f81680",
   "metadata": {},
   "outputs": [
    {
     "name": "stderr",
     "output_type": "stream",
     "text": [
      "/var/folders/gk/h92vkc1n4mxdz8gjpgydk2zw0000gn/T/ipykernel_1338/703312956.py:1: SettingWithCopyWarning:\n",
      "\n",
      "\n",
      "A value is trying to be set on a copy of a slice from a DataFrame.\n",
      "Try using .loc[row_indexer,col_indexer] = value instead\n",
      "\n",
      "See the caveats in the documentation: https://pandas.pydata.org/pandas-docs/stable/user_guide/indexing.html#returning-a-view-versus-a-copy\n",
      "\n"
     ]
    }
   ],
   "source": [
    "DFproject_mask['years'] = DFproject_mask['DATE_TIME'].apply(lambda x: x.split('-')[0])"
   ]
  },
  {
   "cell_type": "code",
   "execution_count": 19,
   "id": "0608666e-a63b-429d-b4c9-999b6d73ceca",
   "metadata": {},
   "outputs": [
    {
     "data": {
      "text/html": [
       "<div>\n",
       "<style scoped>\n",
       "    .dataframe tbody tr th:only-of-type {\n",
       "        vertical-align: middle;\n",
       "    }\n",
       "\n",
       "    .dataframe tbody tr th {\n",
       "        vertical-align: top;\n",
       "    }\n",
       "\n",
       "    .dataframe thead th {\n",
       "        text-align: right;\n",
       "    }\n",
       "</style>\n",
       "<table border=\"1\" class=\"dataframe\">\n",
       "  <thead>\n",
       "    <tr style=\"text-align: right;\">\n",
       "      <th></th>\n",
       "      <th>CELLS_L</th>\n",
       "      <th>SAL</th>\n",
       "      <th>TEMP</th>\n",
       "      <th>PRESSURE</th>\n",
       "      <th>DATE_TIME</th>\n",
       "      <th>LON</th>\n",
       "      <th>LAT</th>\n",
       "      <th>years</th>\n",
       "    </tr>\n",
       "  </thead>\n",
       "  <tbody>\n",
       "    <tr>\n",
       "      <th>0</th>\n",
       "      <td>4</td>\n",
       "      <td>31.89</td>\n",
       "      <td>10.07</td>\n",
       "      <td>1.3</td>\n",
       "      <td>2018-08-08 09:24</td>\n",
       "      <td>-168.23420</td>\n",
       "      <td>64.67050</td>\n",
       "      <td>2018</td>\n",
       "    </tr>\n",
       "    <tr>\n",
       "      <th>1</th>\n",
       "      <td>0</td>\n",
       "      <td>31.17</td>\n",
       "      <td>11.44</td>\n",
       "      <td>4.0</td>\n",
       "      <td>2018-08-08 21:36</td>\n",
       "      <td>-169.14600</td>\n",
       "      <td>64.99120</td>\n",
       "      <td>2018</td>\n",
       "    </tr>\n",
       "    <tr>\n",
       "      <th>2</th>\n",
       "      <td>0</td>\n",
       "      <td>31.32</td>\n",
       "      <td>11.14</td>\n",
       "      <td>2.6</td>\n",
       "      <td>2018-08-09 00:35</td>\n",
       "      <td>-169.89900</td>\n",
       "      <td>64.95980</td>\n",
       "      <td>2018</td>\n",
       "    </tr>\n",
       "    <tr>\n",
       "      <th>3</th>\n",
       "      <td>0</td>\n",
       "      <td>31.53</td>\n",
       "      <td>11.25</td>\n",
       "      <td>2.8</td>\n",
       "      <td>2018-08-09 03:29</td>\n",
       "      <td>-169.92580</td>\n",
       "      <td>64.67180</td>\n",
       "      <td>2018</td>\n",
       "    </tr>\n",
       "    <tr>\n",
       "      <th>4</th>\n",
       "      <td>0</td>\n",
       "      <td>31.38</td>\n",
       "      <td>11.70</td>\n",
       "      <td>2.6</td>\n",
       "      <td>2018-08-09 06:52</td>\n",
       "      <td>-169.10020</td>\n",
       "      <td>64.68000</td>\n",
       "      <td>2018</td>\n",
       "    </tr>\n",
       "    <tr>\n",
       "      <th>...</th>\n",
       "      <td>...</td>\n",
       "      <td>...</td>\n",
       "      <td>...</td>\n",
       "      <td>...</td>\n",
       "      <td>...</td>\n",
       "      <td>...</td>\n",
       "      <td>...</td>\n",
       "      <td>...</td>\n",
       "    </tr>\n",
       "    <tr>\n",
       "      <th>331</th>\n",
       "      <td>7</td>\n",
       "      <td>29.66</td>\n",
       "      <td>6.52</td>\n",
       "      <td>2.0</td>\n",
       "      <td>2019-09-09 19:22</td>\n",
       "      <td>-157.20100</td>\n",
       "      <td>71.75100</td>\n",
       "      <td>2019</td>\n",
       "    </tr>\n",
       "    <tr>\n",
       "      <th>332</th>\n",
       "      <td>0</td>\n",
       "      <td>29.86</td>\n",
       "      <td>10.70</td>\n",
       "      <td>2.0</td>\n",
       "      <td>2019-09-10 16:01</td>\n",
       "      <td>-164.09134</td>\n",
       "      <td>70.25267</td>\n",
       "      <td>2019</td>\n",
       "    </tr>\n",
       "    <tr>\n",
       "      <th>333</th>\n",
       "      <td>0</td>\n",
       "      <td>30.35</td>\n",
       "      <td>10.66</td>\n",
       "      <td>2.0</td>\n",
       "      <td>2019-09-10 21:38</td>\n",
       "      <td>-165.48900</td>\n",
       "      <td>70.24917</td>\n",
       "      <td>2019</td>\n",
       "    </tr>\n",
       "    <tr>\n",
       "      <th>334</th>\n",
       "      <td>0</td>\n",
       "      <td>30.69</td>\n",
       "      <td>9.91</td>\n",
       "      <td>2.0</td>\n",
       "      <td>2019-09-11 14:57</td>\n",
       "      <td>-166.99716</td>\n",
       "      <td>70.24834</td>\n",
       "      <td>2019</td>\n",
       "    </tr>\n",
       "    <tr>\n",
       "      <th>335</th>\n",
       "      <td>299</td>\n",
       "      <td>31.70</td>\n",
       "      <td>8.97</td>\n",
       "      <td>2.0</td>\n",
       "      <td>2019-09-11 22:25</td>\n",
       "      <td>-168.49933</td>\n",
       "      <td>70.25117</td>\n",
       "      <td>2019</td>\n",
       "    </tr>\n",
       "  </tbody>\n",
       "</table>\n",
       "<p>336 rows × 8 columns</p>\n",
       "</div>"
      ],
      "text/plain": [
       "     CELLS_L    SAL   TEMP  PRESSURE         DATE_TIME        LON       LAT  \\\n",
       "0          4  31.89  10.07       1.3  2018-08-08 09:24 -168.23420  64.67050   \n",
       "1          0  31.17  11.44       4.0  2018-08-08 21:36 -169.14600  64.99120   \n",
       "2          0  31.32  11.14       2.6  2018-08-09 00:35 -169.89900  64.95980   \n",
       "3          0  31.53  11.25       2.8  2018-08-09 03:29 -169.92580  64.67180   \n",
       "4          0  31.38  11.70       2.6  2018-08-09 06:52 -169.10020  64.68000   \n",
       "..       ...    ...    ...       ...               ...        ...       ...   \n",
       "331        7  29.66   6.52       2.0  2019-09-09 19:22 -157.20100  71.75100   \n",
       "332        0  29.86  10.70       2.0  2019-09-10 16:01 -164.09134  70.25267   \n",
       "333        0  30.35  10.66       2.0  2019-09-10 21:38 -165.48900  70.24917   \n",
       "334        0  30.69   9.91       2.0  2019-09-11 14:57 -166.99716  70.24834   \n",
       "335      299  31.70   8.97       2.0  2019-09-11 22:25 -168.49933  70.25117   \n",
       "\n",
       "    years  \n",
       "0    2018  \n",
       "1    2018  \n",
       "2    2018  \n",
       "3    2018  \n",
       "4    2018  \n",
       "..    ...  \n",
       "331  2019  \n",
       "332  2019  \n",
       "333  2019  \n",
       "334  2019  \n",
       "335  2019  \n",
       "\n",
       "[336 rows x 8 columns]"
      ]
     },
     "execution_count": 19,
     "metadata": {},
     "output_type": "execute_result"
    }
   ],
   "source": [
    "DFproject_mask"
   ]
  },
  {
   "cell_type": "code",
   "execution_count": 20,
   "id": "c91472b2-2095-469d-94c6-6bc4c2498a0d",
   "metadata": {},
   "outputs": [
    {
     "name": "stderr",
     "output_type": "stream",
     "text": [
      "/var/folders/gk/h92vkc1n4mxdz8gjpgydk2zw0000gn/T/ipykernel_1338/847725560.py:1: SettingWithCopyWarning:\n",
      "\n",
      "\n",
      "A value is trying to be set on a copy of a slice from a DataFrame.\n",
      "Try using .loc[row_indexer,col_indexer] = value instead\n",
      "\n",
      "See the caveats in the documentation: https://pandas.pydata.org/pandas-docs/stable/user_guide/indexing.html#returning-a-view-versus-a-copy\n",
      "\n"
     ]
    },
    {
     "data": {
      "text/html": [
       "<div>\n",
       "<style scoped>\n",
       "    .dataframe tbody tr th:only-of-type {\n",
       "        vertical-align: middle;\n",
       "    }\n",
       "\n",
       "    .dataframe tbody tr th {\n",
       "        vertical-align: top;\n",
       "    }\n",
       "\n",
       "    .dataframe thead th {\n",
       "        text-align: right;\n",
       "    }\n",
       "</style>\n",
       "<table border=\"1\" class=\"dataframe\">\n",
       "  <thead>\n",
       "    <tr style=\"text-align: right;\">\n",
       "      <th></th>\n",
       "      <th>CELLS_L</th>\n",
       "      <th>SAL</th>\n",
       "      <th>TEMP</th>\n",
       "      <th>PRESSURE</th>\n",
       "      <th>DATE_TIME</th>\n",
       "      <th>LON</th>\n",
       "      <th>LAT</th>\n",
       "      <th>years</th>\n",
       "      <th>month</th>\n",
       "    </tr>\n",
       "  </thead>\n",
       "  <tbody>\n",
       "    <tr>\n",
       "      <th>0</th>\n",
       "      <td>4</td>\n",
       "      <td>31.89</td>\n",
       "      <td>10.07</td>\n",
       "      <td>1.3</td>\n",
       "      <td>2018-08-08 09:24</td>\n",
       "      <td>-168.23420</td>\n",
       "      <td>64.67050</td>\n",
       "      <td>2018</td>\n",
       "      <td>08</td>\n",
       "    </tr>\n",
       "    <tr>\n",
       "      <th>1</th>\n",
       "      <td>0</td>\n",
       "      <td>31.17</td>\n",
       "      <td>11.44</td>\n",
       "      <td>4.0</td>\n",
       "      <td>2018-08-08 21:36</td>\n",
       "      <td>-169.14600</td>\n",
       "      <td>64.99120</td>\n",
       "      <td>2018</td>\n",
       "      <td>08</td>\n",
       "    </tr>\n",
       "    <tr>\n",
       "      <th>2</th>\n",
       "      <td>0</td>\n",
       "      <td>31.32</td>\n",
       "      <td>11.14</td>\n",
       "      <td>2.6</td>\n",
       "      <td>2018-08-09 00:35</td>\n",
       "      <td>-169.89900</td>\n",
       "      <td>64.95980</td>\n",
       "      <td>2018</td>\n",
       "      <td>08</td>\n",
       "    </tr>\n",
       "    <tr>\n",
       "      <th>3</th>\n",
       "      <td>0</td>\n",
       "      <td>31.53</td>\n",
       "      <td>11.25</td>\n",
       "      <td>2.8</td>\n",
       "      <td>2018-08-09 03:29</td>\n",
       "      <td>-169.92580</td>\n",
       "      <td>64.67180</td>\n",
       "      <td>2018</td>\n",
       "      <td>08</td>\n",
       "    </tr>\n",
       "    <tr>\n",
       "      <th>4</th>\n",
       "      <td>0</td>\n",
       "      <td>31.38</td>\n",
       "      <td>11.70</td>\n",
       "      <td>2.6</td>\n",
       "      <td>2018-08-09 06:52</td>\n",
       "      <td>-169.10020</td>\n",
       "      <td>64.68000</td>\n",
       "      <td>2018</td>\n",
       "      <td>08</td>\n",
       "    </tr>\n",
       "    <tr>\n",
       "      <th>...</th>\n",
       "      <td>...</td>\n",
       "      <td>...</td>\n",
       "      <td>...</td>\n",
       "      <td>...</td>\n",
       "      <td>...</td>\n",
       "      <td>...</td>\n",
       "      <td>...</td>\n",
       "      <td>...</td>\n",
       "      <td>...</td>\n",
       "    </tr>\n",
       "    <tr>\n",
       "      <th>331</th>\n",
       "      <td>7</td>\n",
       "      <td>29.66</td>\n",
       "      <td>6.52</td>\n",
       "      <td>2.0</td>\n",
       "      <td>2019-09-09 19:22</td>\n",
       "      <td>-157.20100</td>\n",
       "      <td>71.75100</td>\n",
       "      <td>2019</td>\n",
       "      <td>09</td>\n",
       "    </tr>\n",
       "    <tr>\n",
       "      <th>332</th>\n",
       "      <td>0</td>\n",
       "      <td>29.86</td>\n",
       "      <td>10.70</td>\n",
       "      <td>2.0</td>\n",
       "      <td>2019-09-10 16:01</td>\n",
       "      <td>-164.09134</td>\n",
       "      <td>70.25267</td>\n",
       "      <td>2019</td>\n",
       "      <td>09</td>\n",
       "    </tr>\n",
       "    <tr>\n",
       "      <th>333</th>\n",
       "      <td>0</td>\n",
       "      <td>30.35</td>\n",
       "      <td>10.66</td>\n",
       "      <td>2.0</td>\n",
       "      <td>2019-09-10 21:38</td>\n",
       "      <td>-165.48900</td>\n",
       "      <td>70.24917</td>\n",
       "      <td>2019</td>\n",
       "      <td>09</td>\n",
       "    </tr>\n",
       "    <tr>\n",
       "      <th>334</th>\n",
       "      <td>0</td>\n",
       "      <td>30.69</td>\n",
       "      <td>9.91</td>\n",
       "      <td>2.0</td>\n",
       "      <td>2019-09-11 14:57</td>\n",
       "      <td>-166.99716</td>\n",
       "      <td>70.24834</td>\n",
       "      <td>2019</td>\n",
       "      <td>09</td>\n",
       "    </tr>\n",
       "    <tr>\n",
       "      <th>335</th>\n",
       "      <td>299</td>\n",
       "      <td>31.70</td>\n",
       "      <td>8.97</td>\n",
       "      <td>2.0</td>\n",
       "      <td>2019-09-11 22:25</td>\n",
       "      <td>-168.49933</td>\n",
       "      <td>70.25117</td>\n",
       "      <td>2019</td>\n",
       "      <td>09</td>\n",
       "    </tr>\n",
       "  </tbody>\n",
       "</table>\n",
       "<p>336 rows × 9 columns</p>\n",
       "</div>"
      ],
      "text/plain": [
       "     CELLS_L    SAL   TEMP  PRESSURE         DATE_TIME        LON       LAT  \\\n",
       "0          4  31.89  10.07       1.3  2018-08-08 09:24 -168.23420  64.67050   \n",
       "1          0  31.17  11.44       4.0  2018-08-08 21:36 -169.14600  64.99120   \n",
       "2          0  31.32  11.14       2.6  2018-08-09 00:35 -169.89900  64.95980   \n",
       "3          0  31.53  11.25       2.8  2018-08-09 03:29 -169.92580  64.67180   \n",
       "4          0  31.38  11.70       2.6  2018-08-09 06:52 -169.10020  64.68000   \n",
       "..       ...    ...    ...       ...               ...        ...       ...   \n",
       "331        7  29.66   6.52       2.0  2019-09-09 19:22 -157.20100  71.75100   \n",
       "332        0  29.86  10.70       2.0  2019-09-10 16:01 -164.09134  70.25267   \n",
       "333        0  30.35  10.66       2.0  2019-09-10 21:38 -165.48900  70.24917   \n",
       "334        0  30.69   9.91       2.0  2019-09-11 14:57 -166.99716  70.24834   \n",
       "335      299  31.70   8.97       2.0  2019-09-11 22:25 -168.49933  70.25117   \n",
       "\n",
       "    years month  \n",
       "0    2018    08  \n",
       "1    2018    08  \n",
       "2    2018    08  \n",
       "3    2018    08  \n",
       "4    2018    08  \n",
       "..    ...   ...  \n",
       "331  2019    09  \n",
       "332  2019    09  \n",
       "333  2019    09  \n",
       "334  2019    09  \n",
       "335  2019    09  \n",
       "\n",
       "[336 rows x 9 columns]"
      ]
     },
     "execution_count": 20,
     "metadata": {},
     "output_type": "execute_result"
    }
   ],
   "source": [
    "DFproject_mask['month'] = DFproject_mask['DATE_TIME'].apply(lambda x: x.split('-')[1])\n",
    "DFproject_mask"
   ]
  },
  {
   "cell_type": "code",
   "execution_count": 21,
   "id": "ca31f6ab-d6ad-4a30-9784-9993e2220f9c",
   "metadata": {},
   "outputs": [
    {
     "data": {
      "text/html": [
       "<table id=\"itables_becfb82f_7ebe_4f63_bd84_c6c1573cd1ed\" class=\"display nowrap\" data-quarto-disable-processing=\"true\" style=\"table-layout:auto;width:auto;margin:auto;caption-side:bottom\">\n",
       "<thead>\n",
       "    <tr style=\"text-align: right;\">\n",
       "      <th></th>\n",
       "      <th>CELLS_L</th>\n",
       "      <th>SAL</th>\n",
       "      <th>TEMP</th>\n",
       "      <th>PRESSURE</th>\n",
       "      <th>DATE_TIME</th>\n",
       "      <th>LON</th>\n",
       "      <th>LAT</th>\n",
       "      <th>years</th>\n",
       "      <th>month</th>\n",
       "    </tr>\n",
       "  </thead><tbody><tr>\n",
       "<td style=\"vertical-align:middle; text-align:left\">\n",
       "<div style=\"float:left; margin-right: 10px;\">\n",
       "<a href=https://mwouts.github.io/itables/><svg class=\"main-svg\" xmlns=\"http://www.w3.org/2000/svg\" xmlns:xlink=\"http://www.w3.org/1999/xlink\"\n",
       "width=\"64\" viewBox=\"0 0 500 400\" style=\"font-family: 'Droid Sans', sans-serif;\">\n",
       "    <g style=\"fill:#d9d7fc\">\n",
       "        <path d=\"M100,400H500V357H100Z\" />\n",
       "        <path d=\"M100,300H400V257H100Z\" />\n",
       "        <path d=\"M0,200H400V157H0Z\" />\n",
       "        <path d=\"M100,100H500V57H100Z\" />\n",
       "        <path d=\"M100,350H500V307H100Z\" />\n",
       "        <path d=\"M100,250H400V207H100Z\" />\n",
       "        <path d=\"M0,150H400V107H0Z\" />\n",
       "        <path d=\"M100,50H500V7H100Z\" />\n",
       "    </g>\n",
       "    <g style=\"fill:#1a1366;stroke:#1a1366;\">\n",
       "   <rect x=\"100\" y=\"7\" width=\"400\" height=\"43\">\n",
       "    <animate\n",
       "      attributeName=\"width\"\n",
       "      values=\"0;400;0\"\n",
       "      dur=\"5s\"\n",
       "      repeatCount=\"indefinite\" />\n",
       "      <animate\n",
       "      attributeName=\"x\"\n",
       "      values=\"100;100;500\"\n",
       "      dur=\"5s\"\n",
       "      repeatCount=\"indefinite\" />\n",
       "  </rect>\n",
       "        <rect x=\"0\" y=\"107\" width=\"400\" height=\"43\">\n",
       "    <animate\n",
       "      attributeName=\"width\"\n",
       "      values=\"0;400;0\"\n",
       "      dur=\"3.5s\"\n",
       "      repeatCount=\"indefinite\" />\n",
       "    <animate\n",
       "      attributeName=\"x\"\n",
       "      values=\"0;0;400\"\n",
       "      dur=\"3.5s\"\n",
       "      repeatCount=\"indefinite\" />\n",
       "  </rect>\n",
       "        <rect x=\"100\" y=\"207\" width=\"300\" height=\"43\">\n",
       "    <animate\n",
       "      attributeName=\"width\"\n",
       "      values=\"0;300;0\"\n",
       "      dur=\"3s\"\n",
       "      repeatCount=\"indefinite\" />\n",
       "    <animate\n",
       "      attributeName=\"x\"\n",
       "      values=\"100;100;400\"\n",
       "      dur=\"3s\"\n",
       "      repeatCount=\"indefinite\" />\n",
       "  </rect>\n",
       "        <rect x=\"100\" y=\"307\" width=\"400\" height=\"43\">\n",
       "    <animate\n",
       "      attributeName=\"width\"\n",
       "      values=\"0;400;0\"\n",
       "      dur=\"4s\"\n",
       "      repeatCount=\"indefinite\" />\n",
       "      <animate\n",
       "      attributeName=\"x\"\n",
       "      values=\"100;100;500\"\n",
       "      dur=\"4s\"\n",
       "      repeatCount=\"indefinite\" />\n",
       "  </rect>\n",
       "        <g style=\"fill:transparent;stroke-width:8; stroke-linejoin:round\" rx=\"5\">\n",
       "            <g transform=\"translate(45 50) rotate(-45)\">\n",
       "                <circle r=\"33\" cx=\"0\" cy=\"0\" />\n",
       "                <rect x=\"-8\" y=\"32\" width=\"16\" height=\"30\" />\n",
       "            </g>\n",
       "\n",
       "            <g transform=\"translate(450 152)\">\n",
       "                <polyline points=\"-15,-20 -35,-20 -35,40 25,40 25,20\" />\n",
       "                <rect x=\"-15\" y=\"-40\" width=\"60\" height=\"60\" />\n",
       "            </g>\n",
       "\n",
       "            <g transform=\"translate(50 352)\">\n",
       "                <polygon points=\"-35,-5 0,-40 35,-5\" />\n",
       "                <polygon points=\"-35,10 0,45 35,10\" />\n",
       "            </g>\n",
       "\n",
       "            <g transform=\"translate(75 250)\">\n",
       "                <polyline points=\"-30,30 -60,0 -30,-30\" />\n",
       "                <polyline points=\"0,30 -30,0 0,-30\" />\n",
       "            </g>\n",
       "\n",
       "            <g transform=\"translate(425 250) rotate(180)\">\n",
       "                <polyline points=\"-30,30 -60,0 -30,-30\" />\n",
       "                <polyline points=\"0,30 -30,0 0,-30\" />\n",
       "            </g>\n",
       "        </g>\n",
       "    </g>\n",
       "</svg>\n",
       "</a>\n",
       "</div>\n",
       "<div>\n",
       "Loading ITables v2.1.4 from the internet...\n",
       "(need <a href=https://mwouts.github.io/itables/troubleshooting.html>help</a>?)</td>\n",
       "</div>\n",
       "</tr></tbody>\n",
       "\n",
       "</table>\n",
       "<link href=\"https://www.unpkg.com/dt_for_itables@2.0.11/dt_bundle.css\" rel=\"stylesheet\">\n",
       "<script type=\"module\">\n",
       "    import {DataTable, jQuery as $} from 'https://www.unpkg.com/dt_for_itables@2.0.11/dt_bundle.js';\n",
       "\n",
       "    document.querySelectorAll(\"#itables_becfb82f_7ebe_4f63_bd84_c6c1573cd1ed:not(.dataTable)\").forEach(table => {\n",
       "        // Define the table data\n",
       "        const data = [[0, 4, 31.89, 10.07, 1.3, \"2018-08-08 09:24\", -168.2342, 64.6705, \"2018\", \"08\"], [1, 0, 31.17, 11.44, 4.0, \"2018-08-08 21:36\", -169.146, 64.9912, \"2018\", \"08\"], [2, 0, 31.32, 11.14, 2.6, \"2018-08-09 00:35\", -169.899, 64.9598, \"2018\", \"08\"], [3, 0, 31.53, 11.25, 2.8, \"2018-08-09 03:29\", -169.9258, 64.6718, \"2018\", \"08\"], [4, 0, 31.38, 11.7, 2.6, \"2018-08-09 06:52\", -169.1002, 64.68, \"2018\", \"08\"], [5, 54, 28.12, 11.39, 3.8, \"2018-08-09 15:48\", -168.6775, 66.417, \"2018\", \"08\"], [6, 28, 29.16, 10.94, 3.1, \"2018-08-09 21:06\", -168.6635, 67.1642, \"2018\", \"08\"], [7, 51, 29.32, 11.02, 2.8, \"2018-08-10 04:33\", -166.9308, 68.3012, \"2018\", \"08\"], [8, 35, 29.65, 10.69, 2.7, \"2018-08-10 06:27\", -167.1255, 68.2462, \"2018\", \"08\"], [9, 165, 29.2, 10.47, 3.0, \"2018-08-10 08:10\", -167.3027, 68.1902, \"2018\", \"08\"], [10, 76, 30.16, 9.89, 2.6, \"2018-08-10 10:29\", -167.4915, 68.1357, \"2018\", \"08\"], [11, 29, 31.88, 8.09, 2.8, \"2018-08-10 13:54\", -167.8798, 68.0153, \"2018\", \"08\"], [12, 382, 32.83, 6.84, 3.0, \"2018-08-10 18:04\", -168.248, 67.8968, \"2018\", \"08\"], [13, 260, 32.79, 6.44, 2.6, \"2018-08-11 01:12\", -168.601, 67.7853, \"2018\", \"08\"], [14, 107, 31.35, 9.49, 3.1, \"2018-08-11 05:04\", -168.9568, 67.677, \"2018\", \"08\"], [15, 931, 31.34, 7.07, 4.9, \"2018-08-11 22:03\", -166.855, 70.0162, \"2018\", \"08\"], [16, 336, 31.26, 8.85, 3.1, \"2018-08-12 04:14\", -167.7935, 70.2197, \"2018\", \"08\"], [17, 144, 30.66, 6.22, 2.5, \"2018-08-12 13:22\", -165.9698, 71.8302, \"2018\", \"08\"], [18, 154, 30.57, 6.3, 2.8, \"2018-08-12 17:54\", -166.0737, 71.8297, \"2018\", \"08\"], [19, 7, 30.45, 6.31, 2.9, \"2018-08-12 22:17\", -165.6028, 71.7052, \"2018\", \"08\"], [20, 3, 29.54, 4.8, 2.9, \"2018-08-13 01:00\", -165.3038, 71.6005, \"2018\", \"08\"], [21, 2, 28.95, 4.04, 3.0, \"2018-08-13 04:20\", -164.919, 71.4485, \"2018\", \"08\"], [22, 5, 29.29, 4.04, 3.0, \"2018-08-13 07:37\", -164.6127, 71.3367, \"2018\", \"08\"], [23, 2, 30.2, 4.99, 3.2, \"2018-08-13 10:42\", -164.2018, 71.195, \"2018\", \"08\"], [24, 10, 30.58, 5.93, 2.7, \"2018-08-13 13:19\", -163.8018, 71.0847, \"2018\", \"08\"], [25, 4, 30.26, 4.8, 2.8, \"2018-08-13 17:51\", -164.2207, 71.2327, \"2018\", \"08\"], [26, 12, 30.72, 6.18, 3.9, \"2018-08-14 03:10\", -163.5642, 70.9725, \"2018\", \"08\"], [27, 871, 30.96, 7.86, 4.2, \"2018-08-14 06:10\", -163.1872, 70.849, \"2018\", \"08\"], [28, 558, 30.92, 7.72, 3.9, \"2018-08-14 07:50\", -163.0097, 70.7882, \"2018\", \"08\"], [29, 1828, 31.0, 8.22, 3.7, \"2018-08-14 08:53\", -162.8565, 70.7172, \"2018\", \"08\"], [30, 151, 30.52, 6.69, 3.8, \"2018-08-14 10:42\", -162.6662, 70.653, \"2018\", \"08\"], [31, 530, 30.87, 7.38, 3.0, \"2018-08-14 11:54\", -162.4912, 70.58, \"2018\", \"08\"], [32, 7, 29.8, 3.53, 2.9, \"2018-08-15 07:16\", -160.4822, 71.0483, \"2018\", \"08\"], [33, 2, 29.13, 2.2, 3.3, \"2018-08-15 09:39\", -161.1928, 71.09, \"2018\", \"08\"], [34, 1, 29.41, 2.48, 4.0, \"2018-08-15 12:17\", -161.2893, 71.2238, \"2018\", \"08\"], [35, 0, 29.21, 2.02, 4.1, \"2018-08-15 15:56\", -161.3958, 71.3507, \"2018\", \"08\"], [36, 0, 28.82, 1.61, 3.4, \"2018-08-15 18:41\", -161.5048, 71.4805, \"2018\", \"08\"], [37, 0, 28.36, 0.51, 3.4, \"2018-08-15 22:15\", -161.6152, 71.6103, \"2018\", \"08\"], [38, 1, 28.77, 0.22, 2.8, \"2018-08-16 02:20\", -161.5865, 71.7755, \"2018\", \"08\"], [39, 9, 29.1, 3.93, 2.5, \"2018-08-17 01:05\", -157.135, 71.2468, \"2018\", \"08\"], [40, 30, 29.29, 4.46, 3.6, \"2018-08-17 02:55\", -157.2213, 71.2888, \"2018\", \"08\"], [41, 54, 30.07, 5.51, 4.0, \"2018-08-17 04:45\", -157.3067, 71.3262, \"2018\", \"08\"], [42, 17, 30.59, 5.04, 3.1, \"2018-08-17 06:36\", -157.3803, 71.3727, \"2018\", \"08\"], [43, 8, 30.91, 6.22, 4.9, \"2018-08-17 08:29\", -157.4497, 71.4095, \"2018\", \"08\"], [44, 4, 30.36, 4.21, 3.4, \"2018-08-17 10:29\", -157.5532, 71.4543, \"2018\", \"08\"], [45, 24, 30.55, 4.62, 3.4, \"2018-08-17 12:15\", -157.6265, 71.4953, \"2018\", \"08\"], [46, 11, 30.44, 4.76, 2.9, \"2018-08-17 13:48\", -157.7107, 71.5358, \"2018\", \"08\"], [47, 41, 30.35, 4.81, 3.5, \"2018-08-17 15:27\", -157.8175, 71.5835, \"2018\", \"08\"], [48, 11, 29.33, 2.65, 3.3, \"2018-08-17 17:42\", -157.9005, 71.6262, \"2018\", \"08\"], [49, 4, 26.28, -0.93, 2.2, \"2018-08-18 10:06\", -153.3597, 71.95, \"2018\", \"08\"], [50, 29, 28.17, 2.68, 3.1, \"2018-08-18 22:07\", -154.4728, 71.496, \"2018\", \"08\"], [51, 12, 28.21, 1.8, 2.3, \"2018-08-19 15:45\", -154.6282, 72.2347, \"2018\", \"08\"], [52, 2, 27.53, 1.12, 2.6, \"2018-08-20 09:29\", -155.54, 72.1093, \"2018\", \"08\"], [53, 0, 26.02, -0.8, 2.7, \"2018-08-21 03:35\", -156.6018, 72.6198, \"2018\", \"08\"], [54, 5523, 31.31, 7.57, 4.4, \"2018-08-22 19:31\", -168.5445, 70.2598, \"2018\", \"08\"], [55, 5110, 31.31, 7.56, 10.5, \"2018-08-22 19:31\", -168.5445, 70.2598, \"2018\", \"08\"], [56, 3888, 31.91, 2.84, 30.2, \"2018-08-22 19:31\", -168.5445, 70.2598, \"2018\", \"08\"], [57, 1463, 31.24, 8.21, 4.2, \"2018-08-22 21:52\", -168.1307, 70.1648, \"2018\", \"08\"], [58, 1750, 31.24, 8.19, 10.8, \"2018-08-22 21:52\", -168.1307, 70.1648, \"2018\", \"08\"], [59, 1270, 31.38, 7.23, 20.9, \"2018-08-22 21:52\", -168.1307, 70.1648, \"2018\", \"08\"], [60, 90, 31.86, 3.06, 29.9, \"2018-08-22 21:52\", -168.1307, 70.1648, \"2018\", \"08\"], [61, 5429, 30.73, 9.0, 4.0, \"2018-08-22 23:18\", -167.6565, 70.0578, \"2018\", \"08\"], [62, 4763, 30.74, 8.99, 11.2, \"2018-08-22 23:18\", -167.6565, 70.0578, \"2018\", \"08\"], [63, 3660, 30.86, 8.83, 20.4, \"2018-08-22 23:18\", -167.6565, 70.0578, \"2018\", \"08\"], [64, 45, 32.06, 2.19, 29.6, \"2018-08-22 23:18\", -167.6565, 70.0578, \"2018\", \"08\"], [65, 1780, 30.34, 9.19, 4.0, \"2018-08-23 01:18\", -167.2213, 69.9567, \"2018\", \"08\"], [66, 3666, 30.38, 9.12, 10.9, \"2018-08-23 01:18\", -167.2213, 69.9567, \"2018\", \"08\"], [67, 3771, 30.78, 8.56, 21.1, \"2018-08-23 01:18\", -167.2213, 69.9567, \"2018\", \"08\"], [68, 8, 31.85, 4.94, 30.9, \"2018-08-23 01:18\", -167.2213, 69.9567, \"2018\", \"08\"], [69, 1268, 30.33, 9.25, 4.6, \"2018-08-23 02:41\", -166.8215, 69.879, \"2018\", \"08\"], [70, 1562, 30.32, 9.25, 10.3, \"2018-08-23 02:41\", -166.8215, 69.879, \"2018\", \"08\"], [71, 2017, 30.31, 9.25, 21.2, \"2018-08-23 02:41\", -166.8215, 69.879, \"2018\", \"08\"], [72, 37, 31.67, 5.39, 30.3, \"2018-08-23 02:41\", -166.8215, 69.879, \"2018\", \"08\"], [73, 501, 30.37, 9.4, 5.2, \"2018-08-23 04:37\", -166.44, 69.7797, \"2018\", \"08\"], [74, 390, 30.37, 9.4, 10.1, \"2018-08-23 04:37\", -166.44, 69.7797, \"2018\", \"08\"], [75, 888, 30.51, 9.14, 20.4, \"2018-08-23 04:37\", -166.44, 69.7797, \"2018\", \"08\"], [76, 565, 31.33, 7.51, 31.4, \"2018-08-23 04:37\", -166.44, 69.7797, \"2018\", \"08\"], [77, 544, 30.38, 9.2, 3.9, \"2018-08-23 05:48\", -166.0928, 69.6832, \"2018\", \"08\"], [78, 343, 30.38, 9.2, 10.6, \"2018-08-23 05:48\", -166.0928, 69.6832, \"2018\", \"08\"], [79, 740, 30.38, 9.2, 20.7, \"2018-08-23 05:48\", -166.0928, 69.6832, \"2018\", \"08\"], [80, 32, 31.63, 6.64, 31.2, \"2018-08-23 05:48\", -166.0928, 69.6832, \"2018\", \"08\"], [81, 2009, 30.41, 9.33, 3.6, \"2018-08-23 07:29\", -165.7402, 69.5815, \"2018\", \"08\"], [82, 950, 30.42, 9.33, 10.9, \"2018-08-23 07:29\", -165.7402, 69.5815, \"2018\", \"08\"], [83, 2668, 30.48, 9.29, 20.2, \"2018-08-23 07:29\", -165.7402, 69.5815, \"2018\", \"08\"], [84, 4188, 30.68, 9.14, 31.2, \"2018-08-23 07:29\", -165.7402, 69.5815, \"2018\", \"08\"], [85, 1214, 30.84, 8.68, 4.1, \"2018-08-23 08:51\", -165.3785, 69.4962, \"2018\", \"08\"], [86, 2133, 30.84, 8.69, 10.1, \"2018-08-23 08:51\", -165.3785, 69.4962, \"2018\", \"08\"], [87, 2067, 30.84, 8.69, 20.4, \"2018-08-23 08:51\", -165.3785, 69.4962, \"2018\", \"08\"], [88, 3010, 30.89, 8.64, 30.0, \"2018-08-23 08:51\", -165.3785, 69.4962, \"2018\", \"08\"], [89, 4, NaN, NaN, NaN, \"2019-08-04 20:08\", -168.79133, 61.247833, \"2019\", \"08\"], [90, 0, NaN, NaN, NaN, \"2019-08-04 20:09\", -168.78333, 61.233333, \"2019\", \"08\"], [91, 0, NaN, NaN, NaN, \"2019-08-04 21:38\", -168.603, 61.4145, \"2019\", \"08\"], [92, 1, NaN, NaN, NaN, \"2019-08-05 01:59\", -168.11087, 61.996017, \"2019\", \"08\"], [93, 0, NaN, NaN, NaN, \"2019-08-05 16:09\", -166.19028, 63.83065, \"2019\", \"08\"], [94, 0, NaN, NaN, NaN, \"2019-08-05 20:14\", -165.71275, 64.253717, \"2019\", \"08\"], [95, 0, NaN, NaN, NaN, \"2019-08-06 02:02\", -168.71308, 63.371983, \"2019\", \"08\"], [96, 0, NaN, NaN, NaN, \"2019-08-06 03:31\", -169.06645, 63.480617, \"2019\", \"08\"], [97, 0, 32.19, 9.67, 5.2, \"2019-08-06 04:44\", -175.0692, 62.0048, \"2019\", \"08\"], [98, 4, 32.21, 9.63, 2.8, \"2019-08-06 06:57\", -175.2153, 62.0442, \"2019\", \"08\"], [99, 7, 32.15, 9.51, NaN, \"2019-08-06 12:06\", -174.8753, 62.2162, \"2019\", \"08\"], [100, 77, 32.11, 9.12, 4.5, \"2019-08-06 13:29\", -174.5642, 62.392, \"2019\", \"08\"], [101, 7, 32.14, 9.32, NaN, \"2019-08-06 16:03\", -174.0843, 62.4692, \"2019\", \"08\"], [102, 1, NaN, 8.95, 2.0, \"2019-08-06 16:13\", -168.424833, 63.294, \"2019\", \"08\"], [103, 1, 32.13, 9.4, 5.8, \"2019-08-06 17:37\", -173.5547, 62.5528, \"2019\", \"08\"], [104, 7, 32.18, 9.26, NaN, \"2019-08-06 20:13\", -173.4988, 62.7885, \"2019\", \"08\"], [105, 9, 32.2, 9.26, 3.4, \"2019-08-06 21:36\", -173.4617, 63.0345, \"2019\", \"08\"], [106, 1, 32.2, 9.06, NaN, \"2019-08-07 02:30\", -173.074, 63.2768, \"2019\", \"08\"], [107, 4, 31.83, 10.4, NaN, \"2019-08-07 04:34\", -172.5865, 63.6023, \"2019\", \"08\"], [108, 7, 31.85, 9.8, NaN, \"2019-08-07 06:30\", -171.8075, 63.8755, \"2019\", \"08\"], [109, 13, 30.01, 8.66, NaN, \"2019-08-07 08:05\", -171.008333, 64.111667, \"2019\", \"08\"], [110, 17, 31.09, 7.04, NaN, \"2019-08-07 10:30\", -169.481667, 64.209833, \"2019\", \"08\"], [111, 5, 30.86, 11.18, NaN, \"2019-08-07 12:35\", -168.323667, 64.290833, \"2019\", \"08\"], [112, 12, 30.37, 9.92, 3.0, \"2019-08-07 14:24\", -171.48183, 64.15833, \"2019\", \"08\"], [113, 0, 31.51, 10.17, NaN, \"2019-08-07 14:34\", -167.096667, 64.364167, \"2019\", \"08\"], [114, 0, 27.13, 12.94, 3.1, \"2019-08-08 07:34\", -166.9555, 64.6728, \"2019\", \"08\"], [115, 0, 26.97, 12.91, NaN, \"2019-08-08 09:14\", -167.2817, 64.6717, \"2019\", \"08\"], [116, 0, 31.62, 9.07, 3.4, \"2019-08-08 10:14\", -167.597, 64.6695, \"2019\", \"08\"], [117, 0, 31.27, 10.32, NaN, \"2019-08-08 11:53\", -167.9062, 64.6705, \"2019\", \"08\"], [118, 0, 30.73, 10.77, 3.6, \"2019-08-08 13:06\", -168.2292, 64.6742, \"2019\", \"08\"], [119, 5, 32.25, 6.2, NaN, \"2019-08-08 15:13\", -168.6845, 64.6722, \"2019\", \"08\"], [120, 1, 31.53, 10.45, 2.0, \"2019-08-08 16:16\", -167.076, 64.38917, \"2019\", \"08\"], [121, 2, 32.46, 5.33, 3.5, \"2019-08-08 16:35\", -169.0872, 64.6815, \"2019\", \"08\"], [122, 8, 30.97, 7.95, NaN, \"2019-08-08 18:42\", -169.4982, 64.6707, \"2019\", \"08\"], [123, 5, 31.93, 5.64, 3.0, \"2019-08-08 20:29\", -169.9172, 64.6723, \"2019\", \"08\"], [124, 24, 32.51, 2.73, NaN, \"2019-08-08 22:34\", -170.2585, 64.6762, \"2019\", \"08\"], [125, 3, 32.85, 2.61, 3.0, \"2019-08-08 23:42\", -170.646, 64.6718, \"2019\", \"08\"], [126, 10, 32.78, 5.02, 3.1, \"2019-08-09 02:48\", -169.8977, 64.9623, \"2019\", \"08\"], [127, 37, 32.92, 4.25, 2.9, \"2019-08-09 05:42\", -169.1325, 64.993, \"2019\", \"08\"], [128, 6, 31.07, 9.29, 3.2, \"2019-08-09 08:36\", -168.221, 65.003, \"2019\", \"08\"], [129, 8, 31.12, 9.77, NaN, \"2019-08-09 12:00\", -168.4455, 65.535, \"2019\", \"08\"], [130, 20, 31.1, 9.17, NaN, \"2019-08-09 14:00\", -168.384333, 66.011667, \"2019\", \"08\"], [131, 29, 30.62, 10.13, NaN, \"2019-08-09 15:54\", -168.405, 66.541667, \"2019\", \"08\"], [132, 101, 31.1, 10.13, NaN, \"2019-08-09 17:08\", -168.492167, 66.852833, \"2019\", \"08\"], [133, 1175, 31.09, 10.08, NaN, \"2019-08-09 17:27\", -168.5175, 66.9365, \"2019\", \"08\"], [134, 8222, 32.81, 6.41, NaN, \"2019-08-09 20:37\", -168.7421, 67.721667, \"2019\", \"08\"], [135, 615, 32.93, 5.98, 2.9, \"2019-08-09 22:14\", -168.8223, 68.0303, \"2019\", \"08\"], [136, 519, 32.95, 5.84, NaN, \"2019-08-10 01:02\", -168.868867, 67.949, \"2019\", \"08\"], [137, 957, 32.83, 6.93, NaN, \"2019-08-10 01:50\", -168.921867, 67.753733, \"2019\", \"08\"], [138, 1528, 32.86, 6.45, 3.1, \"2019-08-10 02:29\", -168.939, 67.6745, \"2019\", \"08\"], [139, 4225, 32.76, 6.54, 3.1, \"2019-08-10 06:12\", -168.6063, 67.7812, \"2019\", \"08\"], [140, 892, 32.77, 6.58, 2.8, \"2019-08-10 08:15\", -168.2302, 67.8933, \"2019\", \"08\"], [141, 41, 32.45, 7.79, 3.0, \"2019-08-10 12:04\", -167.8857, 68.0117, \"2019\", \"08\"], [142, 1354, 32.27, 8.0, 2.4, \"2019-08-10 14:08\", -167.4898, 68.1297, \"2019\", \"08\"], [143, 1344, 32.05, 8.9, 3.6, \"2019-08-10 15:36\", -167.3017, 68.185, \"2019\", \"08\"], [144, 57, 29.9, 11.35, 2.0, \"2019-08-10 15:51\", -164.8945, 67.54083, \"2019\", \"08\"], [145, 153, 31.15, 10.27, 2.9, \"2019-08-10 17:04\", -167.1383, 68.2432, \"2019\", \"08\"], [146, 8, 29.0, 12.64, 3.3, \"2019-08-10 18:53\", -166.9432, 68.3028, \"2019\", \"08\"], [147, 13, 28.14, 12.77, NaN, \"2019-08-10 20:39\", -167.141167, 68.501333, \"2019\", \"08\"], [148, 1, 28.58, 12.07, NaN, \"2019-08-10 21:55\", -166.90265, 68.786367, \"2019\", \"08\"], [149, 6, 28.73, 12.28, NaN, \"2019-08-10 23:11\", -166.647983, 69.081167, \"2019\", \"08\"], [150, 0, 29.12, 11.81, NaN, \"2019-08-11 00:35\", -166.228833, 69.375833, \"2019\", \"08\"], [151, 507, 32.74, 7.35, 2.0, \"2019-08-11 01:00\", -168.19467, 67.910835, \"2019\", \"08\"], [152, 13, 29.39, 11.48, NaN, \"2019-08-11 02:00\", -165.741367, 69.6705, \"2019\", \"08\"], [153, 24, 30.38, 10.58, NaN, \"2019-08-11 03:08\", -165.340333, 69.911667, \"2019\", \"08\"], [154, 110, 30.44, 10.34, NaN, \"2019-08-11 04:23\", -164.884833, 70.180333, \"2019\", \"08\"], [155, 25, 30.39, 10.83, NaN, \"2019-08-11 06:00\", -164.040667, 70.459667, \"2019\", \"08\"], [156, 221, 31.0, 10.43, NaN, \"2019-08-11 07:25\", -163.1225, 70.661667, \"2019\", \"08\"], [157, 32, 31.5, 8.57, NaN, \"2019-08-11 09:15\", -161.988333, 70.916167, \"2019\", \"08\"], [158, 4, 29.21, 7.19, 2.8, \"2019-08-11 10:41\", -161.2008, 71.0852, \"2019\", \"08\"], [159, 2, 29.35, 6.58, 2.9, \"2019-08-11 12:46\", -161.2785, 71.2232, \"2019\", \"08\"], [160, 73, 31.9, 9.53, 2.0, \"2019-08-11 14:04\", -167.74234, 68.6725, \"2019\", \"08\"], [161, 0, 29.63, 6.91, 3.5, \"2019-08-11 16:03\", -161.3978, 71.3457, \"2019\", \"08\"], [162, 0, 29.67, 6.4, 3.0, \"2019-08-11 18:32\", -161.4993, 71.4793, \"2019\", \"08\"], [163, 67, 31.95, 9.46, 2.0, \"2019-08-11 19:37\", -167.74733, 68.673, \"2019\", \"08\"], [164, 0, 29.91, 6.5, 3.4, \"2019-08-11 22:17\", -161.6253, 71.6047, \"2019\", \"08\"], [165, 2, 29.9, 6.23, 4.7, \"2019-08-11 23:58\", -161.7335, 71.7375, \"2019\", \"08\"], [166, 8, 29.1, 5.11, 3.0, \"2019-08-12 07:55\", -160.8428, 72.898, \"2019\", \"08\"], [167, 6, 28.91, 5.63, 2.4, \"2019-08-12 10:00\", -160.6458, 73.0177, \"2019\", \"08\"], [168, 14, 30.09, 4.69, 2.8, \"2019-08-12 12:35\", -160.4497, 73.137, \"2019\", \"08\"], [169, 12, 30.5, 9.69, 2.0, \"2019-08-12 14:05\", -167.79483, 70.218666, \"2019\", \"08\"], [170, 29, 28.79, 5.29, 4.3, \"2019-08-12 16:15\", -160.2483, 73.2592, \"2019\", \"08\"], [171, 37, 29.26, 11.27, 2.0, \"2019-08-12 17:36\", -166.8655, 70.017166, \"2019\", \"08\"], [172, 7, 27.6, 3.56, 3.3, \"2019-08-12 20:21\", -160.0643, 73.3805, \"2019\", \"08\"], [173, 18, 27.49, 3.05, 2.7, \"2019-08-13 06:19\", -159.5202, 73.6775, \"2019\", \"08\"], [174, 67, 28.25, 4.29, 2.4, \"2019-08-13 08:02\", -159.2962, 73.7988, \"2019\", \"08\"], [175, 7, 28.31, 3.16, 2.8, \"2019-08-13 11:56\", -159.7517, 73.9405, \"2019\", \"08\"], [176, 6, 30.05, 8.99, 2.0, \"2019-08-13 14:10\", -166.05, 71.82716, \"2019\", \"08\"], [177, 0, 28.44, 3.97, 3.1, \"2019-08-13 15:47\", -160.6078, 74.1757, \"2019\", \"08\"], [178, 0, 30.11, 8.99, 2.0, \"2019-08-13 16:36\", -165.98384, 71.82567, \"2019\", \"08\"], [179, 3, 30.48, 8.93, 2.0, \"2019-08-13 19:02\", -165.60767, 71.707, \"2019\", \"08\"], [180, 0, 30.64, 8.82, 2.0, \"2019-08-13 20:22\", -165.30513, 71.60603, \"2019\", \"08\"], [181, 1, 28.03, 3.25, 6.0, \"2019-08-13 21:54\", -161.1765, 74.3447, \"2019\", \"08\"], [182, 4, 29.86, 8.53, 2.0, \"2019-08-13 22:13\", -164.9233, 71.45153, \"2019\", \"08\"], [183, 5, 29.58, 8.31, 2.0, \"2019-08-13 23:43\", -164.61781, 71.342964, \"2019\", \"08\"], [184, 0, 30.26, 8.46, 2.0, \"2019-08-14 01:32\", -164.25798, 71.2162, \"2019\", \"08\"], [185, 0, 28.34, 3.9, 3.9, \"2019-08-14 04:21\", -162.3463, 74.6742, \"2019\", \"08\"], [186, 3, 29.61, 4.74, 3.1, \"2019-08-14 08:24\", -163.3185, 74.6147, \"2019\", \"08\"], [187, 131, 29.35, 5.3, 3.9, \"2019-08-14 13:06\", -164.6605, 74.355, \"2019\", \"08\"], [188, 9, 30.44, 8.65, 4.0, \"2019-08-14 15:22\", -164.20967, 71.200165, \"2019\", \"08\"], [189, 32, 28.95, 4.78, 4.3, \"2019-08-14 15:36\", -165.3528, 74.2202, \"2019\", \"08\"], [190, 6, 30.43, 8.41, 3.0, \"2019-08-14 17:06\", -163.79866, 71.089836, \"2019\", \"08\"], [191, 15, 30.32, 8.36, 3.0, \"2019-08-14 18:41\", -163.56366, 70.97483, \"2019\", \"08\"], [192, 93, 31.17, 9.05, 3.0, \"2019-08-14 20:24\", -163.18317, 70.853, \"2019\", \"08\"], [193, 181, 30.1, 11.01, 3.0, \"2019-08-14 22:17\", -162.85083, 70.7225, \"2019\", \"08\"], [194, 63, 30.33, 10.64, 3.0, \"2019-08-14 23:53\", -162.4861, 70.583336, \"2019\", \"08\"], [195, 68, 30.17, 10.96, 3.0, \"2019-08-15 01:22\", -162.44687, 70.706, \"2019\", \"08\"], [196, 23, 29.42, 5.79, 3.0, \"2019-08-15 09:32\", -165.0048, 74.2867, \"2019\", \"08\"], [197, 6, 28.4, 3.86, 3.0, \"2019-08-15 11:32\", -165.6782, 74.1573, \"2019\", \"08\"], [198, 202, 30.45, 10.25, 3.0, \"2019-08-15 14:11\", -163.12099, 70.84237, \"2019\", \"08\"], [199, 1, 29.1, 4.94, 3.5, \"2019-08-15 15:10\", -166.0023, 73.9707, \"2019\", \"08\"], [200, 4, 27.54, 4.4, 3.1, \"2019-08-15 18:45\", -166.004, 73.7435, \"2019\", \"08\"], [201, 6, 26.95, 4.36, 3.7, \"2019-08-15 22:38\", -166.0057, 73.521, \"2019\", \"08\"], [202, 1, 29.82, 6.04, 3.3, \"2019-08-16 17:56\", -157.9172, 71.618, \"2019\", \"08\"], [203, 0, 29.8, 6.37, 3.2, \"2019-08-16 19:41\", -157.8047, 71.5742, \"2019\", \"08\"], [204, 5, 29.68, 6.33, 3.4, \"2019-08-16 21:31\", -157.7352, 71.5343, \"2019\", \"08\"], [205, 2, 29.64, 6.69, 4.5, \"2019-08-16 23:14\", -157.6458, 71.4938, \"2019\", \"08\"], [206, 3, 29.51, 6.83, 3.5, \"2019-08-17 02:38\", -157.4598, 71.4047, \"2019\", \"08\"], [207, 19, 29.42, 6.61, 4.6, \"2019-08-17 04:44\", -157.3893, 71.3717, \"2019\", \"08\"], [208, 585, 32.2, 9.67, 4.8, \"2019-08-17 06:40\", -157.3215, 71.3242, \"2019\", \"08\"], [209, 713, 31.01, 9.33, 4.1, \"2019-08-17 08:36\", -157.2193, 71.289, \"2019\", \"08\"], [210, 610, 31.06, 9.22, 3.7, \"2019-08-17 09:48\", -157.1557, 71.251, \"2019\", \"08\"], [211, 112, 28.3, 4.41, 3.3, \"2019-08-18 01:01\", -155.4207, 72.4722, \"2019\", \"08\"], [212, 822, 30.93, 9.68, 2.0, \"2019-08-18 15:26\", -163.123, 70.83567, \"2019\", \"08\"], [213, 5, 30.69, 8.81, 2.0, \"2019-08-18 22:18\", -164.2575, 71.2145, \"2019\", \"08\"], [214, 19, 30.23, 6.19, 3.3, \"2019-08-19 03:48\", -156.1932, 71.9082, \"2019\", \"08\"], [215, 27, 30.35, 6.05, 3.0, \"2019-08-19 05:55\", -156.028, 72.0308, \"2019\", \"08\"], [216, 13, 30.32, 6.04, 3.9, \"2019-08-19 08:25\", -155.8478, 72.1557, \"2019\", \"08\"], [217, 133, 29.51, 6.35, 3.1, \"2019-08-19 12:47\", -155.6042, 72.3473, \"2019\", \"08\"], [218, 2, 29.88, 6.56, 2.0, \"2019-08-19 14:06\", -161.5155, 71.6, \"2019\", \"08\"], [219, 0, 29.86, 6.49, 2.0, \"2019-08-19 16:31\", -161.51534, 71.59634, \"2019\", \"08\"], [220, 2, 29.4, 6.56, 2.0, \"2019-08-19 21:17\", -160.49507, 71.04643, \"2019\", \"08\"], [221, 730, 30.5, 8.37, 3.6, \"2019-08-20 02:34\", -154.0313, 71.5357, \"2019\", \"08\"], [222, 1154, 30.44, 8.41, 3.2, \"2019-08-20 03:48\", -153.9502, 71.5957, \"2019\", \"08\"], [223, 200, 30.78, 9.35, 2.0, \"2019-08-20 04:02\", -158.01517, 71.20617, \"2019\", \"08\"], [224, 990, 30.47, 8.61, 3.3, \"2019-08-20 04:30\", -153.8398, 71.6498, \"2019\", \"08\"], [225, 259, 30.54, 8.66, 3.6, \"2019-08-20 05:43\", -153.7393, 71.7147, \"2019\", \"08\"], [226, 796, 30.65, 8.35, 3.0, \"2019-08-20 06:38\", -153.63, 71.7815, \"2019\", \"08\"], [227, 177, 29.99, 7.3, 2.9, \"2019-08-20 08:19\", -153.5562, 71.8387, \"2019\", \"08\"], [228, 28, 30.3, 6.6, 3.2, \"2019-08-20 09:08\", -153.459, 71.8928, \"2019\", \"08\"], [229, 7, 30.4, 6.3, 3.2, \"2019-08-20 10:13\", -153.3652, 71.9517, \"2019\", \"08\"], [230, 21, 30.25, 6.53, 4.0, \"2019-08-20 11:08\", -153.2562, 72.0202, \"2019\", \"08\"], [231, 76, 29.67, 6.77, 2.0, \"2019-08-20 17:40\", -153.58083, 71.87883, \"2019\", \"08\"], [232, 163, 30.58, 8.46, 2.0, \"2019-08-20 20:25\", -153.7505, 71.7095, \"2019\", \"08\"], [233, 47, 29.7, 6.85, NaN, \"2019-08-20 22:30\", -153.9415, 71.860833, \"2019\", \"08\"], [234, 146, 30.58, 8.6, 3.0, \"2019-08-20 23:35\", -154.10217, 71.50317, \"2019\", \"08\"], [235, 539, 30.49, 8.42, 2.0, \"2019-08-21 00:33\", -154.23866, 71.4285, \"2019\", \"08\"], [236, 50, 29.79, 6.81, NaN, \"2019-08-21 00:45\", -154.6635, 71.867667, \"2019\", \"08\"], [237, 45, 30.03, 6.1, NaN, \"2019-08-21 02:59\", -156.295, 71.897833, \"2019\", \"08\"], [238, 6, 0.19, 5.56, NaN, \"2019-08-21 04:50\", -157.653167, 71.8025, \"2019\", \"08\"], [239, 1, 29.41, 5.77, NaN, \"2019-08-21 06:45\", -158.9925, 71.6535, \"2019\", \"08\"], [240, 3, 29.3, 6.01, NaN, \"2019-08-21 08:50\", -160.708667, 71.461667, \"2019\", \"08\"], [241, 5, 29.4, 7.08, NaN, \"2019-08-21 10:55\", -162.072667, 71.3075, \"2019\", \"08\"], [242, 8, 29.31, 7.97, NaN, \"2019-08-21 13:03\", -163.467333, 71.149667, \"2019\", \"08\"], [243, 55, 31.1, 8.67, NaN, \"2019-08-21 15:02\", -164.792167, 70.970667, \"2019\", \"08\"], [244, 1130, 29.61, 10.61, NaN, \"2019-08-21 17:02\", -166.0885, 70.776333, \"2019\", \"08\"], [245, 472, 29.48, 10.89, NaN, \"2019-08-21 18:09\", -166.817167, 70.666667, \"2019\", \"08\"], [246, 375, 29.88, 10.41, NaN, \"2019-08-21 19:03\", -167.364167, 70.558333, \"2019\", \"08\"], [247, 555, 30.31, 10.15, NaN, \"2019-08-21 20:05\", -167.9495, 70.41, \"2019\", \"08\"], [248, 154, 31.65, 9.26, 3.2, \"2019-08-21 21:16\", -168.5183, 70.2613, \"2019\", \"08\"], [249, 26, 31.9, 9.09, 10.0, \"2019-08-21 21:16\", -168.5183, 70.2613, \"2019\", \"08\"], [250, 16, 32.35, 6.01, 20.0, \"2019-08-21 21:16\", -168.5183, 70.2613, \"2019\", \"08\"], [251, 1, 32.37, 0.2, 42.0, \"2019-08-21 21:16\", -168.5183, 70.2613, \"2019\", \"08\"], [252, 369, 30.59, 9.82, 3.0, \"2019-08-21 22:34\", -168.1275, 70.1705, \"2019\", \"08\"], [253, 232, 31.09, 9.35, 10.0, \"2019-08-21 22:34\", -168.1275, 70.1705, \"2019\", \"08\"], [254, 12, 32.34, 5.77, 20.2, \"2019-08-21 22:34\", -168.1275, 70.1705, \"2019\", \"08\"], [255, 6, 32.39, 1.46, 45.8, \"2019-08-21 22:34\", -168.1275, 70.1705, \"2019\", \"08\"], [256, 25, 30.49, 10.37, 3.4, \"2019-08-22 00:39\", -167.6458, 70.0582, \"2019\", \"08\"], [257, 53, 30.5, 10.37, 10.1, \"2019-08-22 00:39\", -167.6458, 70.0582, \"2019\", \"08\"], [258, 2, 31.54, 8.83, 20.1, \"2019-08-22 00:39\", -167.6458, 70.0582, \"2019\", \"08\"], [259, 0, 32.42, 5.77, 48.0, \"2019-08-22 00:39\", -167.6458, 70.0582, \"2019\", \"08\"], [260, 24, 30.41, 10.15, 3.0, \"2019-08-22 01:59\", -167.2257, 69.9595, \"2019\", \"08\"], [261, 139, 31.29, 9.31, 10.1, \"2019-08-22 01:59\", -167.2257, 69.9595, \"2019\", \"08\"], [262, 1, 32.0, 8.17, 20.3, \"2019-08-22 01:59\", -167.2257, 69.9595, \"2019\", \"08\"], [263, 0, 32.45, 5.64, 46.4, \"2019-08-22 01:59\", -167.2257, 69.9595, \"2019\", \"08\"], [264, 155, 29.58, 10.98, 0.0, \"2019-08-22 02:37\", -164.51067, 70.192283, \"2019\", \"08\"], [265, 0, 29.34, 10.94, 3.2, \"2019-08-22 03:42\", -166.8177, 69.883, \"2019\", \"08\"], [266, 16, 31.73, 8.95, 10.3, \"2019-08-22 03:42\", -166.8177, 69.883, \"2019\", \"08\"], [267, 0, 32.02, 7.76, 20.3, \"2019-08-22 03:42\", -166.8177, 69.883, \"2019\", \"08\"], [268, 3, 32.43, 5.92, 45.4, \"2019-08-22 03:42\", -166.8177, 69.883, \"2019\", \"08\"], [269, 1, 28.96, 11.47, 3.2, \"2019-08-22 04:57\", -166.452, 69.785, \"2019\", \"08\"], [270, 2, 28.93, 11.42, 10.2, \"2019-08-22 04:57\", -166.452, 69.785, \"2019\", \"08\"], [271, 1, 30.82, 9.91, 20.3, \"2019-08-22 04:57\", -166.452, 69.785, \"2019\", \"08\"], [272, 0, 32.34, 6.42, 43.9, \"2019-08-22 04:57\", -166.452, 69.785, \"2019\", \"08\"], [273, 0, 28.89, 11.48, 3.2, \"2019-08-22 06:40\", -166.094, 69.6875, \"2019\", \"08\"], [274, 1, 28.9, 11.5, 10.1, \"2019-08-22 06:40\", -166.094, 69.6875, \"2019\", \"08\"], [275, 0, 29.04, 11.49, 20.4, \"2019-08-22 06:40\", -166.094, 69.6875, \"2019\", \"08\"], [276, 0, 32.05, 7.5, 40.6, \"2019-08-22 06:40\", -166.094, 69.6875, \"2019\", \"08\"], [277, 1, 29.0, 11.26, 3.3, \"2019-08-22 07:51\", -165.7427, 69.584, \"2019\", \"08\"], [278, 7, 29.0, 11.27, 10.4, \"2019-08-22 07:51\", -165.7427, 69.584, \"2019\", \"08\"], [279, 2, 29.93, 11.23, 20.3, \"2019-08-22 07:51\", -165.7427, 69.584, \"2019\", \"08\"], [280, 0, 31.53, 8.28, 36.6, \"2019-08-22 07:51\", -165.7427, 69.584, \"2019\", \"08\"], [281, 4, 28.85, 11.54, 3.3, \"2019-08-22 09:25\", -165.3765, 69.5012, \"2019\", \"08\"], [282, 1, 28.85, 11.55, 10.4, \"2019-08-22 09:25\", -165.3765, 69.5012, \"2019\", \"08\"], [283, 1, NaN, NaN, NaN, \"2019-08-22 09:25\", -165.3765, 69.5012, \"2019\", \"08\"], [284, 0, 31.18, 9.02, 32.6, \"2019-08-22 09:25\", -165.3765, 69.5012, \"2019\", \"08\"], [285, 1, 31.17, 9.49, NaN, \"2019-08-22 11:30\", -166.650667, 69.359, \"2019\", \"08\"], [286, 2, 31.17, 9.49, NaN, \"2019-08-22 13:20\", -167.263833, 69.071167, \"2019\", \"08\"], [287, 1, 31.17, 9.49, NaN, \"2019-08-22 14:48\", -167.924167, 68.762333, \"2019\", \"08\"], [288, 2, 29.68, 10.95, NaN, \"2019-08-22 15:57\", -167.48833, 68.487583, \"2019\", \"08\"], [289, 38, 31.17, 9.49, NaN, \"2019-08-22 16:24\", -168.3705, 68.408, \"2019\", \"08\"], [290, 77, 31.17, 9.49, NaN, \"2019-08-22 17:53\", -168.785667, 68.075, \"2019\", \"08\"], [291, 15, 30.79, 10.23, NaN, \"2019-08-22 18:22\", -167.99145, 68.1726, \"2019\", \"08\"], [292, 70, 31.17, 9.49, NaN, \"2019-08-22 19:22\", -168.929333, 67.883667, \"2019\", \"08\"], [293, 33, 31.17, 9.49, NaN, \"2019-08-22 20:25\", -168.837333, 67.6295, \"2019\", \"08\"], [294, 89, 32.39, 6.65, NaN, \"2019-08-22 21:06\", -168.52122, 67.82145, \"2019\", \"08\"], [295, 58, 32.75, 5.58, NaN, \"2019-08-22 21:15\", -168.54508, 67.803467, \"2019\", \"08\"], [296, 3, 31.17, 9.49, NaN, \"2019-08-22 22:02\", -168.70667, 67.2336, \"2019\", \"08\"], [297, 9, 32.51, 5.78, 3.0, \"2019-08-22 22:47\", -168.73816, 67.6695, \"2019\", \"08\"], [298, 2, 30.93, 9.18, NaN, \"2019-08-23 02:08\", -168.64468, 67.3172, \"2019\", \"08\"], [299, 0, 28.72, 11.47, NaN, \"2019-08-23 05:38\", -168.55442, 66.802917, \"2019\", \"08\"], [300, 0, 28.53, 11.24, NaN, \"2019-08-23 15:23\", -167.50418, 65.082017, \"2019\", \"08\"], [301, 0, 26.77, 12.38, NaN, \"2019-08-23 20:43\", -166.83743, 64.754067, \"2019\", \"08\"], [302, 2, 29.79, 10.24, NaN, \"2019-08-26 18:52\", -166.94582, 69.714933, \"2019\", \"08\"], [303, 1743, 30.68, 9.99, NaN, \"2019-08-26 23:25\", -166.99018, 70.270333, \"2019\", \"08\"], [304, 85, NaN, NaN, NaN, \"2019-08-27 00:00\", -168.502167, 72.499, \"2019\", \"08\"], [305, 64, 31.31, 6.96, 2.0, \"2019-08-28 00:19\", -166.81583, 72.5005, \"2019\", \"08\"], [306, 232, 29.72, 6.17, 3.0, \"2019-08-28 15:07\", -165.18433, 72.50017, \"2019\", \"08\"], [307, 275, 27.68, 5.25, 3.0, \"2019-08-28 23:06\", -163.49817, 72.49983, \"2019\", \"08\"], [308, 635, 29.36, 5.57, 3.0, \"2019-08-29 15:00\", -161.90767, 72.501335, \"2019\", \"08\"], [309, 12, 29.56, 4.63, 3.0, \"2019-08-29 22:03\", -160.20366, 72.49817, \"2019\", \"08\"], [310, 5, 29.06, 5.05, 2.0, \"2019-08-30 14:59\", -159.63533, 72.7685, \"2019\", \"08\"], [311, 15, 28.67, 4.68, 2.0, \"2019-08-30 19:59\", -159.34067, 72.896835, \"2019\", \"08\"], [312, 27, 28.15, 4.03, 10.0, \"2019-08-31 01:38\", -158.9395, 73.104836, \"2019\", \"08\"], [313, 57, 27.15, 3.25, 2.0, \"2019-08-31 19:37\", -157.16766, 72.3705, \"2019\", \"08\"]];\n",
       "\n",
       "        // Define the dt_args\n",
       "        let dt_args = {\"layout\": {\"topStart\": \"pageLength\", \"topEnd\": \"search\", \"bottomStart\": \"info\", \"bottomEnd\": \"paging\"}, \"order\": []};\n",
       "        dt_args[\"data\"] = data;\n",
       "\n",
       "        \n",
       "        new DataTable(table, dt_args);\n",
       "    });\n",
       "</script>\n"
      ],
      "text/plain": [
       "<IPython.core.display.HTML object>"
      ]
     },
     "metadata": {},
     "output_type": "display_data"
    }
   ],
   "source": [
    "august_mask = (DFproject_mask['month'] == '08')\n",
    "DF_masked_august = DFproject_mask[august_mask]\n",
    "show(DF_masked_august)"
   ]
  },
  {
   "cell_type": "code",
   "execution_count": 22,
   "id": "33635f8a-6efc-470d-8a91-a05d5a7e0517",
   "metadata": {},
   "outputs": [
    {
     "data": {
      "text/plain": [
       "CELLS_L        int64\n",
       "SAL          float64\n",
       "TEMP         float64\n",
       "PRESSURE     float64\n",
       "DATE_TIME     object\n",
       "LON          float64\n",
       "LAT          float64\n",
       "years         object\n",
       "month         object\n",
       "dtype: object"
      ]
     },
     "execution_count": 22,
     "metadata": {},
     "output_type": "execute_result"
    }
   ],
   "source": [
    "DFproject_mask.dtypes"
   ]
  },
  {
   "cell_type": "code",
   "execution_count": 58,
   "id": "f2c6c144-8dc0-4490-b47f-c2230124903e",
   "metadata": {},
   "outputs": [
    {
     "data": {
      "application/vnd.plotly.v1+json": {
       "config": {
        "plotlyServerURL": "https://plot.ly"
       },
       "data": [
        {
         "alignmentgroup": "True",
         "bingroup": "x",
         "histfunc": "sum",
         "hovertemplate": "years=2018<br>TEMP=%{x}<br>sum of CELLS_L=%{y}<extra></extra>",
         "legendgroup": "2018",
         "marker": {
          "color": "#636efa",
          "pattern": {
           "shape": ""
          }
         },
         "name": "2018",
         "nbinsx": 20,
         "offsetgroup": "2018",
         "orientation": "v",
         "showlegend": true,
         "type": "histogram",
         "visible": "legendonly",
         "x": [
          10.07,
          11.44,
          11.14,
          11.25,
          11.7,
          11.39,
          10.94,
          11.02,
          10.69,
          10.47,
          9.89,
          8.09,
          6.84,
          6.44,
          9.49,
          7.07,
          8.85,
          6.22,
          6.3,
          6.31,
          4.8,
          4.04,
          4.04,
          4.99,
          5.93,
          4.8,
          6.18,
          7.86,
          7.72,
          8.22,
          6.69,
          7.38,
          3.53,
          2.2,
          2.48,
          2.02,
          1.61,
          0.51,
          0.22,
          3.93,
          4.46,
          5.51,
          5.04,
          6.22,
          4.21,
          4.62,
          4.76,
          4.81,
          2.65,
          -0.93,
          2.68,
          1.8,
          1.12,
          -0.8,
          7.57,
          7.56,
          2.84,
          8.21,
          8.19,
          7.23,
          3.06,
          9,
          8.99,
          8.83,
          2.19,
          9.19,
          9.12,
          8.56,
          4.94,
          9.25,
          9.25,
          9.25,
          5.39,
          9.4,
          9.4,
          9.14,
          7.51,
          9.2,
          9.2,
          9.2,
          6.64,
          9.33,
          9.33,
          9.29,
          9.14,
          8.68,
          8.69,
          8.69,
          8.64
         ],
         "xaxis": "x",
         "y": [
          4,
          0,
          0,
          0,
          0,
          54,
          28,
          51,
          35,
          165,
          76,
          29,
          382,
          260,
          107,
          931,
          336,
          144,
          154,
          7,
          3,
          2,
          5,
          2,
          10,
          4,
          12,
          871,
          558,
          1828,
          151,
          530,
          7,
          2,
          1,
          0,
          0,
          0,
          1,
          9,
          30,
          54,
          17,
          8,
          4,
          24,
          11,
          41,
          11,
          4,
          29,
          12,
          2,
          0,
          5523,
          5110,
          3888,
          1463,
          1750,
          1270,
          90,
          5429,
          4763,
          3660,
          45,
          1780,
          3666,
          3771,
          8,
          1268,
          1562,
          2017,
          37,
          501,
          390,
          888,
          565,
          544,
          343,
          740,
          32,
          2009,
          950,
          2668,
          4188,
          1214,
          2133,
          2067,
          3010
         ],
         "yaxis": "y"
        },
        {
         "alignmentgroup": "True",
         "bingroup": "x",
         "histfunc": "sum",
         "hovertemplate": "years=2019<br>TEMP=%{x}<br>sum of CELLS_L=%{y}<extra></extra>",
         "legendgroup": "2019",
         "marker": {
          "color": "#EF553B",
          "pattern": {
           "shape": ""
          }
         },
         "name": "2019",
         "nbinsx": 20,
         "offsetgroup": "2019",
         "orientation": "v",
         "showlegend": true,
         "type": "histogram",
         "visible": true,
         "x": [
          null,
          null,
          null,
          null,
          null,
          null,
          null,
          null,
          9.67,
          9.63,
          9.51,
          9.12,
          9.32,
          8.95,
          9.4,
          9.26,
          9.26,
          9.06,
          10.4,
          9.8,
          8.66,
          7.04,
          11.18,
          9.92,
          10.17,
          12.94,
          12.91,
          9.07,
          10.32,
          10.77,
          6.2,
          10.45,
          5.33,
          7.95,
          5.64,
          2.73,
          2.61,
          5.02,
          4.25,
          9.29,
          9.77,
          9.17,
          10.13,
          10.13,
          10.08,
          6.41,
          5.98,
          5.84,
          6.93,
          6.45,
          6.54,
          6.58,
          7.79,
          8,
          8.9,
          11.35,
          10.27,
          12.64,
          12.77,
          12.07,
          12.28,
          11.81,
          7.35,
          11.48,
          10.58,
          10.34,
          10.83,
          10.43,
          8.57,
          7.19,
          6.58,
          9.53,
          6.91,
          6.4,
          9.46,
          6.5,
          6.23,
          5.11,
          5.63,
          4.69,
          9.69,
          5.29,
          11.27,
          3.56,
          3.05,
          4.29,
          3.16,
          8.99,
          3.97,
          8.99,
          8.93,
          8.82,
          3.25,
          8.53,
          8.31,
          8.46,
          3.9,
          4.74,
          5.3,
          8.65,
          4.78,
          8.41,
          8.36,
          9.05,
          11.01,
          10.64,
          10.96,
          5.79,
          3.86,
          10.25,
          4.94,
          4.4,
          4.36,
          6.04,
          6.37,
          6.33,
          6.69,
          6.83,
          6.61,
          9.67,
          9.33,
          9.22,
          4.41,
          9.68,
          8.81,
          6.19,
          6.05,
          6.04,
          6.35,
          6.56,
          6.49,
          6.56,
          8.37,
          8.41,
          9.35,
          8.61,
          8.66,
          8.35,
          7.3,
          6.6,
          6.3,
          6.53,
          6.77,
          8.46,
          6.85,
          8.6,
          8.42,
          6.81,
          6.1,
          5.56,
          5.77,
          6.01,
          7.08,
          7.97,
          8.67,
          10.61,
          10.89,
          10.41,
          10.15,
          9.26,
          9.09,
          6.01,
          0.2,
          9.82,
          9.35,
          5.77,
          1.46,
          10.37,
          10.37,
          8.83,
          5.77,
          10.15,
          9.31,
          8.17,
          5.64,
          10.98,
          10.94,
          8.95,
          7.76,
          5.92,
          11.47,
          11.42,
          9.91,
          6.42,
          11.48,
          11.5,
          11.49,
          7.5,
          11.26,
          11.27,
          11.23,
          8.28,
          11.54,
          11.55,
          null,
          9.02,
          9.49,
          9.49,
          9.49,
          10.95,
          9.49,
          9.49,
          10.23,
          9.49,
          9.49,
          6.65,
          5.58,
          9.49,
          5.78,
          9.18,
          11.47,
          11.24,
          12.38,
          10.24,
          9.99,
          null,
          6.96,
          6.17,
          5.25,
          5.57,
          4.63,
          5.05,
          4.68,
          4.03,
          3.25,
          4.88,
          4.88,
          7.51,
          7.73,
          7.25,
          9.09,
          8.72,
          9.54,
          9.09,
          8.73,
          8.26,
          9.17,
          7.73,
          7.05,
          6.02,
          5.9,
          5.19,
          6.52,
          10.7,
          10.66,
          9.91,
          8.97
         ],
         "xaxis": "x",
         "y": [
          4,
          0,
          0,
          1,
          0,
          0,
          0,
          0,
          0,
          4,
          7,
          77,
          7,
          1,
          1,
          7,
          9,
          1,
          4,
          7,
          13,
          17,
          5,
          12,
          0,
          0,
          0,
          0,
          0,
          0,
          5,
          1,
          2,
          8,
          5,
          24,
          3,
          10,
          37,
          6,
          8,
          20,
          29,
          101,
          1175,
          8222,
          615,
          519,
          957,
          1528,
          4225,
          892,
          41,
          1354,
          1344,
          57,
          153,
          8,
          13,
          1,
          6,
          0,
          507,
          13,
          24,
          110,
          25,
          221,
          32,
          4,
          2,
          73,
          0,
          0,
          67,
          0,
          2,
          8,
          6,
          14,
          12,
          29,
          37,
          7,
          18,
          67,
          7,
          6,
          0,
          0,
          3,
          0,
          1,
          4,
          5,
          0,
          0,
          3,
          131,
          9,
          32,
          6,
          15,
          93,
          181,
          63,
          68,
          23,
          6,
          202,
          1,
          4,
          6,
          1,
          0,
          5,
          2,
          3,
          19,
          585,
          713,
          610,
          112,
          822,
          5,
          19,
          27,
          13,
          133,
          2,
          0,
          2,
          730,
          1154,
          200,
          990,
          259,
          796,
          177,
          28,
          7,
          21,
          76,
          163,
          47,
          146,
          539,
          50,
          45,
          6,
          1,
          3,
          5,
          8,
          55,
          1130,
          472,
          375,
          555,
          154,
          26,
          16,
          1,
          369,
          232,
          12,
          6,
          25,
          53,
          2,
          0,
          24,
          139,
          1,
          0,
          155,
          0,
          16,
          0,
          3,
          1,
          2,
          1,
          0,
          0,
          1,
          0,
          0,
          1,
          7,
          2,
          0,
          4,
          1,
          1,
          0,
          1,
          2,
          1,
          2,
          38,
          77,
          15,
          70,
          33,
          89,
          58,
          3,
          9,
          2,
          0,
          0,
          0,
          2,
          1743,
          85,
          64,
          232,
          275,
          635,
          12,
          5,
          15,
          27,
          57,
          95,
          42,
          4,
          72,
          22,
          2590,
          333,
          561,
          73,
          1573,
          440,
          1106,
          301,
          1691,
          1,
          0,
          1,
          7,
          0,
          0,
          0,
          299
         ],
         "yaxis": "y"
        }
       ],
       "layout": {
        "autosize": false,
        "barmode": "group",
        "height": 500,
        "legend": {
         "title": {
          "text": "years"
         },
         "tracegroupgap": 0
        },
        "margin": {
         "t": 60
        },
        "template": {
         "data": {
          "bar": [
           {
            "error_x": {
             "color": "#2a3f5f"
            },
            "error_y": {
             "color": "#2a3f5f"
            },
            "marker": {
             "line": {
              "color": "#E5ECF6",
              "width": 0.5
             },
             "pattern": {
              "fillmode": "overlay",
              "size": 10,
              "solidity": 0.2
             }
            },
            "type": "bar"
           }
          ],
          "barpolar": [
           {
            "marker": {
             "line": {
              "color": "#E5ECF6",
              "width": 0.5
             },
             "pattern": {
              "fillmode": "overlay",
              "size": 10,
              "solidity": 0.2
             }
            },
            "type": "barpolar"
           }
          ],
          "carpet": [
           {
            "aaxis": {
             "endlinecolor": "#2a3f5f",
             "gridcolor": "white",
             "linecolor": "white",
             "minorgridcolor": "white",
             "startlinecolor": "#2a3f5f"
            },
            "baxis": {
             "endlinecolor": "#2a3f5f",
             "gridcolor": "white",
             "linecolor": "white",
             "minorgridcolor": "white",
             "startlinecolor": "#2a3f5f"
            },
            "type": "carpet"
           }
          ],
          "choropleth": [
           {
            "colorbar": {
             "outlinewidth": 0,
             "ticks": ""
            },
            "type": "choropleth"
           }
          ],
          "contour": [
           {
            "colorbar": {
             "outlinewidth": 0,
             "ticks": ""
            },
            "colorscale": [
             [
              0,
              "#0d0887"
             ],
             [
              0.1111111111111111,
              "#46039f"
             ],
             [
              0.2222222222222222,
              "#7201a8"
             ],
             [
              0.3333333333333333,
              "#9c179e"
             ],
             [
              0.4444444444444444,
              "#bd3786"
             ],
             [
              0.5555555555555556,
              "#d8576b"
             ],
             [
              0.6666666666666666,
              "#ed7953"
             ],
             [
              0.7777777777777778,
              "#fb9f3a"
             ],
             [
              0.8888888888888888,
              "#fdca26"
             ],
             [
              1,
              "#f0f921"
             ]
            ],
            "type": "contour"
           }
          ],
          "contourcarpet": [
           {
            "colorbar": {
             "outlinewidth": 0,
             "ticks": ""
            },
            "type": "contourcarpet"
           }
          ],
          "heatmap": [
           {
            "colorbar": {
             "outlinewidth": 0,
             "ticks": ""
            },
            "colorscale": [
             [
              0,
              "#0d0887"
             ],
             [
              0.1111111111111111,
              "#46039f"
             ],
             [
              0.2222222222222222,
              "#7201a8"
             ],
             [
              0.3333333333333333,
              "#9c179e"
             ],
             [
              0.4444444444444444,
              "#bd3786"
             ],
             [
              0.5555555555555556,
              "#d8576b"
             ],
             [
              0.6666666666666666,
              "#ed7953"
             ],
             [
              0.7777777777777778,
              "#fb9f3a"
             ],
             [
              0.8888888888888888,
              "#fdca26"
             ],
             [
              1,
              "#f0f921"
             ]
            ],
            "type": "heatmap"
           }
          ],
          "heatmapgl": [
           {
            "colorbar": {
             "outlinewidth": 0,
             "ticks": ""
            },
            "colorscale": [
             [
              0,
              "#0d0887"
             ],
             [
              0.1111111111111111,
              "#46039f"
             ],
             [
              0.2222222222222222,
              "#7201a8"
             ],
             [
              0.3333333333333333,
              "#9c179e"
             ],
             [
              0.4444444444444444,
              "#bd3786"
             ],
             [
              0.5555555555555556,
              "#d8576b"
             ],
             [
              0.6666666666666666,
              "#ed7953"
             ],
             [
              0.7777777777777778,
              "#fb9f3a"
             ],
             [
              0.8888888888888888,
              "#fdca26"
             ],
             [
              1,
              "#f0f921"
             ]
            ],
            "type": "heatmapgl"
           }
          ],
          "histogram": [
           {
            "marker": {
             "pattern": {
              "fillmode": "overlay",
              "size": 10,
              "solidity": 0.2
             }
            },
            "type": "histogram"
           }
          ],
          "histogram2d": [
           {
            "colorbar": {
             "outlinewidth": 0,
             "ticks": ""
            },
            "colorscale": [
             [
              0,
              "#0d0887"
             ],
             [
              0.1111111111111111,
              "#46039f"
             ],
             [
              0.2222222222222222,
              "#7201a8"
             ],
             [
              0.3333333333333333,
              "#9c179e"
             ],
             [
              0.4444444444444444,
              "#bd3786"
             ],
             [
              0.5555555555555556,
              "#d8576b"
             ],
             [
              0.6666666666666666,
              "#ed7953"
             ],
             [
              0.7777777777777778,
              "#fb9f3a"
             ],
             [
              0.8888888888888888,
              "#fdca26"
             ],
             [
              1,
              "#f0f921"
             ]
            ],
            "type": "histogram2d"
           }
          ],
          "histogram2dcontour": [
           {
            "colorbar": {
             "outlinewidth": 0,
             "ticks": ""
            },
            "colorscale": [
             [
              0,
              "#0d0887"
             ],
             [
              0.1111111111111111,
              "#46039f"
             ],
             [
              0.2222222222222222,
              "#7201a8"
             ],
             [
              0.3333333333333333,
              "#9c179e"
             ],
             [
              0.4444444444444444,
              "#bd3786"
             ],
             [
              0.5555555555555556,
              "#d8576b"
             ],
             [
              0.6666666666666666,
              "#ed7953"
             ],
             [
              0.7777777777777778,
              "#fb9f3a"
             ],
             [
              0.8888888888888888,
              "#fdca26"
             ],
             [
              1,
              "#f0f921"
             ]
            ],
            "type": "histogram2dcontour"
           }
          ],
          "mesh3d": [
           {
            "colorbar": {
             "outlinewidth": 0,
             "ticks": ""
            },
            "type": "mesh3d"
           }
          ],
          "parcoords": [
           {
            "line": {
             "colorbar": {
              "outlinewidth": 0,
              "ticks": ""
             }
            },
            "type": "parcoords"
           }
          ],
          "pie": [
           {
            "automargin": true,
            "type": "pie"
           }
          ],
          "scatter": [
           {
            "fillpattern": {
             "fillmode": "overlay",
             "size": 10,
             "solidity": 0.2
            },
            "type": "scatter"
           }
          ],
          "scatter3d": [
           {
            "line": {
             "colorbar": {
              "outlinewidth": 0,
              "ticks": ""
             }
            },
            "marker": {
             "colorbar": {
              "outlinewidth": 0,
              "ticks": ""
             }
            },
            "type": "scatter3d"
           }
          ],
          "scattercarpet": [
           {
            "marker": {
             "colorbar": {
              "outlinewidth": 0,
              "ticks": ""
             }
            },
            "type": "scattercarpet"
           }
          ],
          "scattergeo": [
           {
            "marker": {
             "colorbar": {
              "outlinewidth": 0,
              "ticks": ""
             }
            },
            "type": "scattergeo"
           }
          ],
          "scattergl": [
           {
            "marker": {
             "colorbar": {
              "outlinewidth": 0,
              "ticks": ""
             }
            },
            "type": "scattergl"
           }
          ],
          "scattermapbox": [
           {
            "marker": {
             "colorbar": {
              "outlinewidth": 0,
              "ticks": ""
             }
            },
            "type": "scattermapbox"
           }
          ],
          "scatterpolar": [
           {
            "marker": {
             "colorbar": {
              "outlinewidth": 0,
              "ticks": ""
             }
            },
            "type": "scatterpolar"
           }
          ],
          "scatterpolargl": [
           {
            "marker": {
             "colorbar": {
              "outlinewidth": 0,
              "ticks": ""
             }
            },
            "type": "scatterpolargl"
           }
          ],
          "scatterternary": [
           {
            "marker": {
             "colorbar": {
              "outlinewidth": 0,
              "ticks": ""
             }
            },
            "type": "scatterternary"
           }
          ],
          "surface": [
           {
            "colorbar": {
             "outlinewidth": 0,
             "ticks": ""
            },
            "colorscale": [
             [
              0,
              "#0d0887"
             ],
             [
              0.1111111111111111,
              "#46039f"
             ],
             [
              0.2222222222222222,
              "#7201a8"
             ],
             [
              0.3333333333333333,
              "#9c179e"
             ],
             [
              0.4444444444444444,
              "#bd3786"
             ],
             [
              0.5555555555555556,
              "#d8576b"
             ],
             [
              0.6666666666666666,
              "#ed7953"
             ],
             [
              0.7777777777777778,
              "#fb9f3a"
             ],
             [
              0.8888888888888888,
              "#fdca26"
             ],
             [
              1,
              "#f0f921"
             ]
            ],
            "type": "surface"
           }
          ],
          "table": [
           {
            "cells": {
             "fill": {
              "color": "#EBF0F8"
             },
             "line": {
              "color": "white"
             }
            },
            "header": {
             "fill": {
              "color": "#C8D4E3"
             },
             "line": {
              "color": "white"
             }
            },
            "type": "table"
           }
          ]
         },
         "layout": {
          "annotationdefaults": {
           "arrowcolor": "#2a3f5f",
           "arrowhead": 0,
           "arrowwidth": 1
          },
          "autotypenumbers": "strict",
          "coloraxis": {
           "colorbar": {
            "outlinewidth": 0,
            "ticks": ""
           }
          },
          "colorscale": {
           "diverging": [
            [
             0,
             "#8e0152"
            ],
            [
             0.1,
             "#c51b7d"
            ],
            [
             0.2,
             "#de77ae"
            ],
            [
             0.3,
             "#f1b6da"
            ],
            [
             0.4,
             "#fde0ef"
            ],
            [
             0.5,
             "#f7f7f7"
            ],
            [
             0.6,
             "#e6f5d0"
            ],
            [
             0.7,
             "#b8e186"
            ],
            [
             0.8,
             "#7fbc41"
            ],
            [
             0.9,
             "#4d9221"
            ],
            [
             1,
             "#276419"
            ]
           ],
           "sequential": [
            [
             0,
             "#0d0887"
            ],
            [
             0.1111111111111111,
             "#46039f"
            ],
            [
             0.2222222222222222,
             "#7201a8"
            ],
            [
             0.3333333333333333,
             "#9c179e"
            ],
            [
             0.4444444444444444,
             "#bd3786"
            ],
            [
             0.5555555555555556,
             "#d8576b"
            ],
            [
             0.6666666666666666,
             "#ed7953"
            ],
            [
             0.7777777777777778,
             "#fb9f3a"
            ],
            [
             0.8888888888888888,
             "#fdca26"
            ],
            [
             1,
             "#f0f921"
            ]
           ],
           "sequentialminus": [
            [
             0,
             "#0d0887"
            ],
            [
             0.1111111111111111,
             "#46039f"
            ],
            [
             0.2222222222222222,
             "#7201a8"
            ],
            [
             0.3333333333333333,
             "#9c179e"
            ],
            [
             0.4444444444444444,
             "#bd3786"
            ],
            [
             0.5555555555555556,
             "#d8576b"
            ],
            [
             0.6666666666666666,
             "#ed7953"
            ],
            [
             0.7777777777777778,
             "#fb9f3a"
            ],
            [
             0.8888888888888888,
             "#fdca26"
            ],
            [
             1,
             "#f0f921"
            ]
           ]
          },
          "colorway": [
           "#636efa",
           "#EF553B",
           "#00cc96",
           "#ab63fa",
           "#FFA15A",
           "#19d3f3",
           "#FF6692",
           "#B6E880",
           "#FF97FF",
           "#FECB52"
          ],
          "font": {
           "color": "#2a3f5f"
          },
          "geo": {
           "bgcolor": "white",
           "lakecolor": "white",
           "landcolor": "#E5ECF6",
           "showlakes": true,
           "showland": true,
           "subunitcolor": "white"
          },
          "hoverlabel": {
           "align": "left"
          },
          "hovermode": "closest",
          "mapbox": {
           "style": "light"
          },
          "paper_bgcolor": "white",
          "plot_bgcolor": "#E5ECF6",
          "polar": {
           "angularaxis": {
            "gridcolor": "white",
            "linecolor": "white",
            "ticks": ""
           },
           "bgcolor": "#E5ECF6",
           "radialaxis": {
            "gridcolor": "white",
            "linecolor": "white",
            "ticks": ""
           }
          },
          "scene": {
           "xaxis": {
            "backgroundcolor": "#E5ECF6",
            "gridcolor": "white",
            "gridwidth": 2,
            "linecolor": "white",
            "showbackground": true,
            "ticks": "",
            "zerolinecolor": "white"
           },
           "yaxis": {
            "backgroundcolor": "#E5ECF6",
            "gridcolor": "white",
            "gridwidth": 2,
            "linecolor": "white",
            "showbackground": true,
            "ticks": "",
            "zerolinecolor": "white"
           },
           "zaxis": {
            "backgroundcolor": "#E5ECF6",
            "gridcolor": "white",
            "gridwidth": 2,
            "linecolor": "white",
            "showbackground": true,
            "ticks": "",
            "zerolinecolor": "white"
           }
          },
          "shapedefaults": {
           "line": {
            "color": "#2a3f5f"
           }
          },
          "ternary": {
           "aaxis": {
            "gridcolor": "white",
            "linecolor": "white",
            "ticks": ""
           },
           "baxis": {
            "gridcolor": "white",
            "linecolor": "white",
            "ticks": ""
           },
           "bgcolor": "#E5ECF6",
           "caxis": {
            "gridcolor": "white",
            "linecolor": "white",
            "ticks": ""
           }
          },
          "title": {
           "x": 0.05
          },
          "xaxis": {
           "automargin": true,
           "gridcolor": "white",
           "linecolor": "white",
           "ticks": "",
           "title": {
            "standoff": 15
           },
           "zerolinecolor": "white",
           "zerolinewidth": 2
          },
          "yaxis": {
           "automargin": true,
           "gridcolor": "white",
           "linecolor": "white",
           "ticks": "",
           "title": {
            "standoff": 15
           },
           "zerolinecolor": "white",
           "zerolinewidth": 2
          }
         }
        },
        "title": {
         "text": "Concentration of Alexandrium catenella based on Temperature",
         "x": 0.5
        },
        "width": 800,
        "xaxis": {
         "anchor": "y",
         "autorange": true,
         "domain": [
          0,
          1
         ],
         "range": [
          0,
          13
         ],
         "title": {
          "text": "Temperature"
         },
         "type": "linear"
        },
        "yaxis": {
         "anchor": "x",
         "autorange": true,
         "domain": [
          0,
          1
         ],
         "range": [
          0,
          17626.315789473683
         ],
         "title": {
          "text": "Concentration of Alexandrium catenella "
         },
         "type": "linear"
        }
       }
      },
      "image/png": "[encoded data removed]",
      "text/html": [
       "<div>                            <div id=\"0d3ed127-832f-478d-bf24-da8350d9f507\" class=\"plotly-graph-div\" style=\"height:500px; width:800px;\"></div>            <script type=\"text/javascript\">                require([\"plotly\"], function(Plotly) {                    window.PLOTLYENV=window.PLOTLYENV || {};                                    if (document.getElementById(\"0d3ed127-832f-478d-bf24-da8350d9f507\")) {                    Plotly.newPlot(                        \"0d3ed127-832f-478d-bf24-da8350d9f507\",                        [{\"alignmentgroup\":\"True\",\"bingroup\":\"x\",\"histfunc\":\"sum\",\"hovertemplate\":\"years=2018\\u003cbr\\u003eTEMP=%{x}\\u003cbr\\u003esum of CELLS_L=%{y}\\u003cextra\\u003e\\u003c\\u002fextra\\u003e\",\"legendgroup\":\"2018\",\"marker\":{\"color\":\"#636efa\",\"pattern\":{\"shape\":\"\"}},\"name\":\"2018\",\"nbinsx\":20,\"offsetgroup\":\"2018\",\"orientation\":\"v\",\"showlegend\":true,\"x\":[10.07,11.44,11.14,11.25,11.7,11.39,10.94,11.02,10.69,10.47,9.89,8.09,6.84,6.44,9.49,7.07,8.85,6.22,6.3,6.31,4.8,4.04,4.04,4.99,5.93,4.8,6.18,7.86,7.72,8.22,6.69,7.38,3.53,2.2,2.48,2.02,1.61,0.51,0.22,3.93,4.46,5.51,5.04,6.22,4.21,4.62,4.76,4.81,2.65,-0.93,2.68,1.8,1.12,-0.8,7.57,7.56,2.84,8.21,8.19,7.23,3.06,9.0,8.99,8.83,2.19,9.19,9.12,8.56,4.94,9.25,9.25,9.25,5.39,9.4,9.4,9.14,7.51,9.2,9.2,9.2,6.64,9.33,9.33,9.29,9.14,8.68,8.69,8.69,8.64],\"xaxis\":\"x\",\"y\":[4,0,0,0,0,54,28,51,35,165,76,29,382,260,107,931,336,144,154,7,3,2,5,2,10,4,12,871,558,1828,151,530,7,2,1,0,0,0,1,9,30,54,17,8,4,24,11,41,11,4,29,12,2,0,5523,5110,3888,1463,1750,1270,90,5429,4763,3660,45,1780,3666,3771,8,1268,1562,2017,37,501,390,888,565,544,343,740,32,2009,950,2668,4188,1214,2133,2067,3010],\"yaxis\":\"y\",\"type\":\"histogram\"},{\"alignmentgroup\":\"True\",\"bingroup\":\"x\",\"histfunc\":\"sum\",\"hovertemplate\":\"years=2019\\u003cbr\\u003eTEMP=%{x}\\u003cbr\\u003esum of CELLS_L=%{y}\\u003cextra\\u003e\\u003c\\u002fextra\\u003e\",\"legendgroup\":\"2019\",\"marker\":{\"color\":\"#EF553B\",\"pattern\":{\"shape\":\"\"}},\"name\":\"2019\",\"nbinsx\":20,\"offsetgroup\":\"2019\",\"orientation\":\"v\",\"showlegend\":true,\"x\":[null,null,null,null,null,null,null,null,9.67,9.63,9.51,9.12,9.32,8.95,9.4,9.26,9.26,9.06,10.4,9.8,8.66,7.04,11.18,9.92,10.17,12.94,12.91,9.07,10.32,10.77,6.2,10.45,5.33,7.95,5.64,2.73,2.61,5.02,4.25,9.29,9.77,9.17,10.13,10.13,10.08,6.41,5.98,5.84,6.93,6.45,6.54,6.58,7.79,8.0,8.9,11.35,10.27,12.64,12.77,12.07,12.28,11.81,7.35,11.48,10.58,10.34,10.83,10.43,8.57,7.19,6.58,9.53,6.91,6.4,9.46,6.5,6.23,5.11,5.63,4.69,9.69,5.29,11.27,3.56,3.05,4.29,3.16,8.99,3.97,8.99,8.93,8.82,3.25,8.53,8.31,8.46,3.9,4.74,5.3,8.65,4.78,8.41,8.36,9.05,11.01,10.64,10.96,5.79,3.86,10.25,4.94,4.4,4.36,6.04,6.37,6.33,6.69,6.83,6.61,9.67,9.33,9.22,4.41,9.68,8.81,6.19,6.05,6.04,6.35,6.56,6.49,6.56,8.37,8.41,9.35,8.61,8.66,8.35,7.3,6.6,6.3,6.53,6.77,8.46,6.85,8.6,8.42,6.81,6.1,5.56,5.77,6.01,7.08,7.97,8.67,10.61,10.89,10.41,10.15,9.26,9.09,6.01,0.2,9.82,9.35,5.77,1.46,10.37,10.37,8.83,5.77,10.15,9.31,8.17,5.64,10.98,10.94,8.95,7.76,5.92,11.47,11.42,9.91,6.42,11.48,11.5,11.49,7.5,11.26,11.27,11.23,8.28,11.54,11.55,null,9.02,9.49,9.49,9.49,10.95,9.49,9.49,10.23,9.49,9.49,6.65,5.58,9.49,5.78,9.18,11.47,11.24,12.38,10.24,9.99,null,6.96,6.17,5.25,5.57,4.63,5.05,4.68,4.03,3.25,4.88,4.88,7.51,7.73,7.25,9.09,8.72,9.54,9.09,8.73,8.26,9.17,7.73,7.05,6.02,5.9,5.19,6.52,10.7,10.66,9.91,8.97],\"xaxis\":\"x\",\"y\":[4,0,0,1,0,0,0,0,0,4,7,77,7,1,1,7,9,1,4,7,13,17,5,12,0,0,0,0,0,0,5,1,2,8,5,24,3,10,37,6,8,20,29,101,1175,8222,615,519,957,1528,4225,892,41,1354,1344,57,153,8,13,1,6,0,507,13,24,110,25,221,32,4,2,73,0,0,67,0,2,8,6,14,12,29,37,7,18,67,7,6,0,0,3,0,1,4,5,0,0,3,131,9,32,6,15,93,181,63,68,23,6,202,1,4,6,1,0,5,2,3,19,585,713,610,112,822,5,19,27,13,133,2,0,2,730,1154,200,990,259,796,177,28,7,21,76,163,47,146,539,50,45,6,1,3,5,8,55,1130,472,375,555,154,26,16,1,369,232,12,6,25,53,2,0,24,139,1,0,155,0,16,0,3,1,2,1,0,0,1,0,0,1,7,2,0,4,1,1,0,1,2,1,2,38,77,15,70,33,89,58,3,9,2,0,0,0,2,1743,85,64,232,275,635,12,5,15,27,57,95,42,4,72,22,2590,333,561,73,1573,440,1106,301,1691,1,0,1,7,0,0,0,299],\"yaxis\":\"y\",\"type\":\"histogram\"}],                        {\"template\":{\"data\":{\"histogram2dcontour\":[{\"type\":\"histogram2dcontour\",\"colorbar\":{\"outlinewidth\":0,\"ticks\":\"\"},\"colorscale\":[[0.0,\"#0d0887\"],[0.1111111111111111,\"#46039f\"],[0.2222222222222222,\"#7201a8\"],[0.3333333333333333,\"#9c179e\"],[0.4444444444444444,\"#bd3786\"],[0.5555555555555556,\"#d8576b\"],[0.6666666666666666,\"#ed7953\"],[0.7777777777777778,\"#fb9f3a\"],[0.8888888888888888,\"#fdca26\"],[1.0,\"#f0f921\"]]}],\"choropleth\":[{\"type\":\"choropleth\",\"colorbar\":{\"outlinewidth\":0,\"ticks\":\"\"}}],\"histogram2d\":[{\"type\":\"histogram2d\",\"colorbar\":{\"outlinewidth\":0,\"ticks\":\"\"},\"colorscale\":[[0.0,\"#0d0887\"],[0.1111111111111111,\"#46039f\"],[0.2222222222222222,\"#7201a8\"],[0.3333333333333333,\"#9c179e\"],[0.4444444444444444,\"#bd3786\"],[0.5555555555555556,\"#d8576b\"],[0.6666666666666666,\"#ed7953\"],[0.7777777777777778,\"#fb9f3a\"],[0.8888888888888888,\"#fdca26\"],[1.0,\"#f0f921\"]]}],\"heatmap\":[{\"type\":\"heatmap\",\"colorbar\":{\"outlinewidth\":0,\"ticks\":\"\"},\"colorscale\":[[0.0,\"#0d0887\"],[0.1111111111111111,\"#46039f\"],[0.2222222222222222,\"#7201a8\"],[0.3333333333333333,\"#9c179e\"],[0.4444444444444444,\"#bd3786\"],[0.5555555555555556,\"#d8576b\"],[0.6666666666666666,\"#ed7953\"],[0.7777777777777778,\"#fb9f3a\"],[0.8888888888888888,\"#fdca26\"],[1.0,\"#f0f921\"]]}],\"heatmapgl\":[{\"type\":\"heatmapgl\",\"colorbar\":{\"outlinewidth\":0,\"ticks\":\"\"},\"colorscale\":[[0.0,\"#0d0887\"],[0.1111111111111111,\"#46039f\"],[0.2222222222222222,\"#7201a8\"],[0.3333333333333333,\"#9c179e\"],[0.4444444444444444,\"#bd3786\"],[0.5555555555555556,\"#d8576b\"],[0.6666666666666666,\"#ed7953\"],[0.7777777777777778,\"#fb9f3a\"],[0.8888888888888888,\"#fdca26\"],[1.0,\"#f0f921\"]]}],\"contourcarpet\":[{\"type\":\"contourcarpet\",\"colorbar\":{\"outlinewidth\":0,\"ticks\":\"\"}}],\"contour\":[{\"type\":\"contour\",\"colorbar\":{\"outlinewidth\":0,\"ticks\":\"\"},\"colorscale\":[[0.0,\"#0d0887\"],[0.1111111111111111,\"#46039f\"],[0.2222222222222222,\"#7201a8\"],[0.3333333333333333,\"#9c179e\"],[0.4444444444444444,\"#bd3786\"],[0.5555555555555556,\"#d8576b\"],[0.6666666666666666,\"#ed7953\"],[0.7777777777777778,\"#fb9f3a\"],[0.8888888888888888,\"#fdca26\"],[1.0,\"#f0f921\"]]}],\"surface\":[{\"type\":\"surface\",\"colorbar\":{\"outlinewidth\":0,\"ticks\":\"\"},\"colorscale\":[[0.0,\"#0d0887\"],[0.1111111111111111,\"#46039f\"],[0.2222222222222222,\"#7201a8\"],[0.3333333333333333,\"#9c179e\"],[0.4444444444444444,\"#bd3786\"],[0.5555555555555556,\"#d8576b\"],[0.6666666666666666,\"#ed7953\"],[0.7777777777777778,\"#fb9f3a\"],[0.8888888888888888,\"#fdca26\"],[1.0,\"#f0f921\"]]}],\"mesh3d\":[{\"type\":\"mesh3d\",\"colorbar\":{\"outlinewidth\":0,\"ticks\":\"\"}}],\"scatter\":[{\"fillpattern\":{\"fillmode\":\"overlay\",\"size\":10,\"solidity\":0.2},\"type\":\"scatter\"}],\"parcoords\":[{\"type\":\"parcoords\",\"line\":{\"colorbar\":{\"outlinewidth\":0,\"ticks\":\"\"}}}],\"scatterpolargl\":[{\"type\":\"scatterpolargl\",\"marker\":{\"colorbar\":{\"outlinewidth\":0,\"ticks\":\"\"}}}],\"bar\":[{\"error_x\":{\"color\":\"#2a3f5f\"},\"error_y\":{\"color\":\"#2a3f5f\"},\"marker\":{\"line\":{\"color\":\"#E5ECF6\",\"width\":0.5},\"pattern\":{\"fillmode\":\"overlay\",\"size\":10,\"solidity\":0.2}},\"type\":\"bar\"}],\"scattergeo\":[{\"type\":\"scattergeo\",\"marker\":{\"colorbar\":{\"outlinewidth\":0,\"ticks\":\"\"}}}],\"scatterpolar\":[{\"type\":\"scatterpolar\",\"marker\":{\"colorbar\":{\"outlinewidth\":0,\"ticks\":\"\"}}}],\"histogram\":[{\"marker\":{\"pattern\":{\"fillmode\":\"overlay\",\"size\":10,\"solidity\":0.2}},\"type\":\"histogram\"}],\"scattergl\":[{\"type\":\"scattergl\",\"marker\":{\"colorbar\":{\"outlinewidth\":0,\"ticks\":\"\"}}}],\"scatter3d\":[{\"type\":\"scatter3d\",\"line\":{\"colorbar\":{\"outlinewidth\":0,\"ticks\":\"\"}},\"marker\":{\"colorbar\":{\"outlinewidth\":0,\"ticks\":\"\"}}}],\"scattermapbox\":[{\"type\":\"scattermapbox\",\"marker\":{\"colorbar\":{\"outlinewidth\":0,\"ticks\":\"\"}}}],\"scatterternary\":[{\"type\":\"scatterternary\",\"marker\":{\"colorbar\":{\"outlinewidth\":0,\"ticks\":\"\"}}}],\"scattercarpet\":[{\"type\":\"scattercarpet\",\"marker\":{\"colorbar\":{\"outlinewidth\":0,\"ticks\":\"\"}}}],\"carpet\":[{\"aaxis\":{\"endlinecolor\":\"#2a3f5f\",\"gridcolor\":\"white\",\"linecolor\":\"white\",\"minorgridcolor\":\"white\",\"startlinecolor\":\"#2a3f5f\"},\"baxis\":{\"endlinecolor\":\"#2a3f5f\",\"gridcolor\":\"white\",\"linecolor\":\"white\",\"minorgridcolor\":\"white\",\"startlinecolor\":\"#2a3f5f\"},\"type\":\"carpet\"}],\"table\":[{\"cells\":{\"fill\":{\"color\":\"#EBF0F8\"},\"line\":{\"color\":\"white\"}},\"header\":{\"fill\":{\"color\":\"#C8D4E3\"},\"line\":{\"color\":\"white\"}},\"type\":\"table\"}],\"barpolar\":[{\"marker\":{\"line\":{\"color\":\"#E5ECF6\",\"width\":0.5},\"pattern\":{\"fillmode\":\"overlay\",\"size\":10,\"solidity\":0.2}},\"type\":\"barpolar\"}],\"pie\":[{\"automargin\":true,\"type\":\"pie\"}]},\"layout\":{\"autotypenumbers\":\"strict\",\"colorway\":[\"#636efa\",\"#EF553B\",\"#00cc96\",\"#ab63fa\",\"#FFA15A\",\"#19d3f3\",\"#FF6692\",\"#B6E880\",\"#FF97FF\",\"#FECB52\"],\"font\":{\"color\":\"#2a3f5f\"},\"hovermode\":\"closest\",\"hoverlabel\":{\"align\":\"left\"},\"paper_bgcolor\":\"white\",\"plot_bgcolor\":\"#E5ECF6\",\"polar\":{\"bgcolor\":\"#E5ECF6\",\"angularaxis\":{\"gridcolor\":\"white\",\"linecolor\":\"white\",\"ticks\":\"\"},\"radialaxis\":{\"gridcolor\":\"white\",\"linecolor\":\"white\",\"ticks\":\"\"}},\"ternary\":{\"bgcolor\":\"#E5ECF6\",\"aaxis\":{\"gridcolor\":\"white\",\"linecolor\":\"white\",\"ticks\":\"\"},\"baxis\":{\"gridcolor\":\"white\",\"linecolor\":\"white\",\"ticks\":\"\"},\"caxis\":{\"gridcolor\":\"white\",\"linecolor\":\"white\",\"ticks\":\"\"}},\"coloraxis\":{\"colorbar\":{\"outlinewidth\":0,\"ticks\":\"\"}},\"colorscale\":{\"sequential\":[[0.0,\"#0d0887\"],[0.1111111111111111,\"#46039f\"],[0.2222222222222222,\"#7201a8\"],[0.3333333333333333,\"#9c179e\"],[0.4444444444444444,\"#bd3786\"],[0.5555555555555556,\"#d8576b\"],[0.6666666666666666,\"#ed7953\"],[0.7777777777777778,\"#fb9f3a\"],[0.8888888888888888,\"#fdca26\"],[1.0,\"#f0f921\"]],\"sequentialminus\":[[0.0,\"#0d0887\"],[0.1111111111111111,\"#46039f\"],[0.2222222222222222,\"#7201a8\"],[0.3333333333333333,\"#9c179e\"],[0.4444444444444444,\"#bd3786\"],[0.5555555555555556,\"#d8576b\"],[0.6666666666666666,\"#ed7953\"],[0.7777777777777778,\"#fb9f3a\"],[0.8888888888888888,\"#fdca26\"],[1.0,\"#f0f921\"]],\"diverging\":[[0,\"#8e0152\"],[0.1,\"#c51b7d\"],[0.2,\"#de77ae\"],[0.3,\"#f1b6da\"],[0.4,\"#fde0ef\"],[0.5,\"#f7f7f7\"],[0.6,\"#e6f5d0\"],[0.7,\"#b8e186\"],[0.8,\"#7fbc41\"],[0.9,\"#4d9221\"],[1,\"#276419\"]]},\"xaxis\":{\"gridcolor\":\"white\",\"linecolor\":\"white\",\"ticks\":\"\",\"title\":{\"standoff\":15},\"zerolinecolor\":\"white\",\"automargin\":true,\"zerolinewidth\":2},\"yaxis\":{\"gridcolor\":\"white\",\"linecolor\":\"white\",\"ticks\":\"\",\"title\":{\"standoff\":15},\"zerolinecolor\":\"white\",\"automargin\":true,\"zerolinewidth\":2},\"scene\":{\"xaxis\":{\"backgroundcolor\":\"#E5ECF6\",\"gridcolor\":\"white\",\"linecolor\":\"white\",\"showbackground\":true,\"ticks\":\"\",\"zerolinecolor\":\"white\",\"gridwidth\":2},\"yaxis\":{\"backgroundcolor\":\"#E5ECF6\",\"gridcolor\":\"white\",\"linecolor\":\"white\",\"showbackground\":true,\"ticks\":\"\",\"zerolinecolor\":\"white\",\"gridwidth\":2},\"zaxis\":{\"backgroundcolor\":\"#E5ECF6\",\"gridcolor\":\"white\",\"linecolor\":\"white\",\"showbackground\":true,\"ticks\":\"\",\"zerolinecolor\":\"white\",\"gridwidth\":2}},\"shapedefaults\":{\"line\":{\"color\":\"#2a3f5f\"}},\"annotationdefaults\":{\"arrowcolor\":\"#2a3f5f\",\"arrowhead\":0,\"arrowwidth\":1},\"geo\":{\"bgcolor\":\"white\",\"landcolor\":\"#E5ECF6\",\"subunitcolor\":\"white\",\"showland\":true,\"showlakes\":true,\"lakecolor\":\"white\"},\"title\":{\"x\":0.05},\"mapbox\":{\"style\":\"light\"}}},\"xaxis\":{\"anchor\":\"y\",\"domain\":[0.0,1.0],\"title\":{\"text\":\"Temperature\"}},\"yaxis\":{\"anchor\":\"x\",\"domain\":[0.0,1.0],\"title\":{\"text\":\"Concentration of Alexandrium catenella \"}},\"legend\":{\"title\":{\"text\":\"years\"},\"tracegroupgap\":0},\"margin\":{\"t\":60},\"barmode\":\"group\",\"title\":{\"text\":\"Concentration of Alexandrium catenella based on Temperature\",\"x\":0.5},\"autosize\":false,\"width\":800,\"height\":500},                        {\"responsive\": true}                    ).then(function(){\n",
       "                            \n",
       "var gd = document.getElementById('0d3ed127-832f-478d-bf24-da8350d9f507');\n",
       "var x = new MutationObserver(function (mutations, observer) {{\n",
       "        var display = window.getComputedStyle(gd).display;\n",
       "        if (!display || display === 'none') {{\n",
       "            console.log([gd, 'removed!']);\n",
       "            Plotly.purge(gd);\n",
       "            observer.disconnect();\n",
       "        }}\n",
       "}});\n",
       "\n",
       "// Listen for the removal of the full notebook cells\n",
       "var notebookContainer = gd.closest('#notebook-container');\n",
       "if (notebookContainer) {{\n",
       "    x.observe(notebookContainer, {childList: true});\n",
       "}}\n",
       "\n",
       "// Listen for the clearing of the current output cell\n",
       "var outputEl = gd.closest('.output');\n",
       "if (outputEl) {{\n",
       "    x.observe(outputEl, {childList: true});\n",
       "}}\n",
       "\n",
       "                        })                };                });            </script>        </div>"
      ]
     },
     "metadata": {},
     "output_type": "display_data"
    }
   ],
   "source": [
    "fig = px.histogram(DFproject_mask,\n",
    "                 x='TEMP',\n",
    "                 y='CELLS_L',\n",
    "                color = 'years',\n",
    "                nbins = 20,\n",
    "                   barmode = 'group'\n",
    "                )\n",
    "fig.update_layout(title='Concentration of Alexandrium catenella based on Temperature',\n",
    "                  title_x=0.5,\n",
    "                  xaxis_title='Temperature',\n",
    "                  yaxis_title='Concentration of Alexandrium catenella ',\n",
    "                 autosize = False,\n",
    "                width = 800,\n",
    "                 height = 500)\n",
    "\n",
    "fig.show()"
   ]
  },
  {
   "cell_type": "code",
   "execution_count": 24,
   "id": "59e12745-83f3-4c9b-96dd-d5cece20cdef",
   "metadata": {},
   "outputs": [
    {
     "data": {
      "application/vnd.plotly.v1+json": {
       "config": {
        "plotlyServerURL": "https://plot.ly"
       },
       "data": [
        {
         "hovertemplate": "years=2018<br>SAL=%{x}<br>CELLS_L=%{y}<extra></extra>",
         "legendgroup": "2018",
         "marker": {
          "color": "#636efa",
          "symbol": "circle"
         },
         "mode": "markers",
         "name": "2018",
         "orientation": "v",
         "showlegend": true,
         "type": "scatter",
         "x": [
          31.89,
          31.17,
          31.32,
          31.53,
          31.38,
          28.12,
          29.16,
          29.32,
          29.65,
          29.2,
          30.16,
          31.88,
          32.83,
          32.79,
          31.35,
          31.34,
          31.26,
          30.66,
          30.57,
          30.45,
          29.54,
          28.95,
          29.29,
          30.2,
          30.58,
          30.26,
          30.72,
          30.96,
          30.92,
          31,
          30.52,
          30.87,
          29.8,
          29.13,
          29.41,
          29.21,
          28.82,
          28.36,
          28.77,
          29.1,
          29.29,
          30.07,
          30.59,
          30.91,
          30.36,
          30.55,
          30.44,
          30.35,
          29.33,
          26.28,
          28.17,
          28.21,
          27.53,
          26.02,
          31.31,
          31.31,
          31.91,
          31.24,
          31.24,
          31.38,
          31.86,
          30.73,
          30.74,
          30.86,
          32.06,
          30.34,
          30.38,
          30.78,
          31.85,
          30.33,
          30.32,
          30.31,
          31.67,
          30.37,
          30.37,
          30.51,
          31.33,
          30.38,
          30.38,
          30.38,
          31.63,
          30.41,
          30.42,
          30.48,
          30.68,
          30.84,
          30.84,
          30.84,
          30.89
         ],
         "xaxis": "x",
         "y": [
          4,
          0,
          0,
          0,
          0,
          54,
          28,
          51,
          35,
          165,
          76,
          29,
          382,
          260,
          107,
          931,
          336,
          144,
          154,
          7,
          3,
          2,
          5,
          2,
          10,
          4,
          12,
          871,
          558,
          1828,
          151,
          530,
          7,
          2,
          1,
          0,
          0,
          0,
          1,
          9,
          30,
          54,
          17,
          8,
          4,
          24,
          11,
          41,
          11,
          4,
          29,
          12,
          2,
          0,
          5523,
          5110,
          3888,
          1463,
          1750,
          1270,
          90,
          5429,
          4763,
          3660,
          45,
          1780,
          3666,
          3771,
          8,
          1268,
          1562,
          2017,
          37,
          501,
          390,
          888,
          565,
          544,
          343,
          740,
          32,
          2009,
          950,
          2668,
          4188,
          1214,
          2133,
          2067,
          3010
         ],
         "yaxis": "y"
        },
        {
         "hovertemplate": "years=2019<br>SAL=%{x}<br>CELLS_L=%{y}<extra></extra>",
         "legendgroup": "2019",
         "marker": {
          "color": "#EF553B",
          "symbol": "circle"
         },
         "mode": "markers",
         "name": "2019",
         "orientation": "v",
         "showlegend": true,
         "type": "scatter",
         "x": [
          null,
          null,
          null,
          null,
          null,
          null,
          null,
          null,
          32.19,
          32.21,
          32.15,
          32.11,
          32.14,
          null,
          32.13,
          32.18,
          32.2,
          32.2,
          31.83,
          31.85,
          30.01,
          31.09,
          30.86,
          30.37,
          31.51,
          27.13,
          26.97,
          31.62,
          31.27,
          30.73,
          32.25,
          31.53,
          32.46,
          30.97,
          31.93,
          32.51,
          32.85,
          32.78,
          32.92,
          31.07,
          31.12,
          31.1,
          30.62,
          31.1,
          31.09,
          32.81,
          32.93,
          32.95,
          32.83,
          32.86,
          32.76,
          32.77,
          32.45,
          32.27,
          32.05,
          29.9,
          31.15,
          29,
          28.14,
          28.58,
          28.73,
          29.12,
          32.74,
          29.39,
          30.38,
          30.44,
          30.39,
          31,
          31.5,
          29.21,
          29.35,
          31.9,
          29.63,
          29.67,
          31.95,
          29.91,
          29.9,
          29.1,
          28.91,
          30.09,
          30.5,
          28.79,
          29.26,
          27.6,
          27.49,
          28.25,
          28.31,
          30.05,
          28.44,
          30.11,
          30.48,
          30.64,
          28.03,
          29.86,
          29.58,
          30.26,
          28.34,
          29.61,
          29.35,
          30.44,
          28.95,
          30.43,
          30.32,
          31.17,
          30.1,
          30.33,
          30.17,
          29.42,
          28.4,
          30.45,
          29.1,
          27.54,
          26.95,
          29.82,
          29.8,
          29.68,
          29.64,
          29.51,
          29.42,
          32.2,
          31.01,
          31.06,
          28.3,
          30.93,
          30.69,
          30.23,
          30.35,
          30.32,
          29.51,
          29.88,
          29.86,
          29.4,
          30.5,
          30.44,
          30.78,
          30.47,
          30.54,
          30.65,
          29.99,
          30.3,
          30.4,
          30.25,
          29.67,
          30.58,
          29.7,
          30.58,
          30.49,
          29.79,
          30.03,
          0.19,
          29.41,
          29.3,
          29.4,
          29.31,
          31.1,
          29.61,
          29.48,
          29.88,
          30.31,
          31.65,
          31.9,
          32.35,
          32.37,
          30.59,
          31.09,
          32.34,
          32.39,
          30.49,
          30.5,
          31.54,
          32.42,
          30.41,
          31.29,
          32,
          32.45,
          29.58,
          29.34,
          31.73,
          32.02,
          32.43,
          28.96,
          28.93,
          30.82,
          32.34,
          28.89,
          28.9,
          29.04,
          32.05,
          29,
          29,
          29.93,
          31.53,
          28.85,
          28.85,
          null,
          31.18,
          31.17,
          31.17,
          31.17,
          29.68,
          31.17,
          31.17,
          30.79,
          31.17,
          31.17,
          32.39,
          32.75,
          31.17,
          32.51,
          30.93,
          28.72,
          28.53,
          26.77,
          29.79,
          30.68,
          null,
          31.31,
          29.72,
          27.68,
          29.36,
          29.56,
          29.06,
          28.67,
          28.15,
          27.15,
          28.58,
          28.58,
          31.48,
          30.56,
          30.2,
          30.45,
          30.23,
          29.68,
          30.69,
          31.42,
          30.95,
          30.15,
          31.05,
          30.68,
          29.54,
          29.63,
          29.71,
          29.66,
          29.86,
          30.35,
          30.69,
          31.7
         ],
         "xaxis": "x",
         "y": [
          4,
          0,
          0,
          1,
          0,
          0,
          0,
          0,
          0,
          4,
          7,
          77,
          7,
          1,
          1,
          7,
          9,
          1,
          4,
          7,
          13,
          17,
          5,
          12,
          0,
          0,
          0,
          0,
          0,
          0,
          5,
          1,
          2,
          8,
          5,
          24,
          3,
          10,
          37,
          6,
          8,
          20,
          29,
          101,
          1175,
          8222,
          615,
          519,
          957,
          1528,
          4225,
          892,
          41,
          1354,
          1344,
          57,
          153,
          8,
          13,
          1,
          6,
          0,
          507,
          13,
          24,
          110,
          25,
          221,
          32,
          4,
          2,
          73,
          0,
          0,
          67,
          0,
          2,
          8,
          6,
          14,
          12,
          29,
          37,
          7,
          18,
          67,
          7,
          6,
          0,
          0,
          3,
          0,
          1,
          4,
          5,
          0,
          0,
          3,
          131,
          9,
          32,
          6,
          15,
          93,
          181,
          63,
          68,
          23,
          6,
          202,
          1,
          4,
          6,
          1,
          0,
          5,
          2,
          3,
          19,
          585,
          713,
          610,
          112,
          822,
          5,
          19,
          27,
          13,
          133,
          2,
          0,
          2,
          730,
          1154,
          200,
          990,
          259,
          796,
          177,
          28,
          7,
          21,
          76,
          163,
          47,
          146,
          539,
          50,
          45,
          6,
          1,
          3,
          5,
          8,
          55,
          1130,
          472,
          375,
          555,
          154,
          26,
          16,
          1,
          369,
          232,
          12,
          6,
          25,
          53,
          2,
          0,
          24,
          139,
          1,
          0,
          155,
          0,
          16,
          0,
          3,
          1,
          2,
          1,
          0,
          0,
          1,
          0,
          0,
          1,
          7,
          2,
          0,
          4,
          1,
          1,
          0,
          1,
          2,
          1,
          2,
          38,
          77,
          15,
          70,
          33,
          89,
          58,
          3,
          9,
          2,
          0,
          0,
          0,
          2,
          1743,
          85,
          64,
          232,
          275,
          635,
          12,
          5,
          15,
          27,
          57,
          95,
          42,
          4,
          72,
          22,
          2590,
          333,
          561,
          73,
          1573,
          440,
          1106,
          301,
          1691,
          1,
          0,
          1,
          7,
          0,
          0,
          0,
          299
         ],
         "yaxis": "y"
        }
       ],
       "layout": {
        "autosize": false,
        "height": 500,
        "legend": {
         "title": {
          "text": "years"
         },
         "tracegroupgap": 0
        },
        "margin": {
         "t": 60
        },
        "template": {
         "data": {
          "bar": [
           {
            "error_x": {
             "color": "#2a3f5f"
            },
            "error_y": {
             "color": "#2a3f5f"
            },
            "marker": {
             "line": {
              "color": "#E5ECF6",
              "width": 0.5
             },
             "pattern": {
              "fillmode": "overlay",
              "size": 10,
              "solidity": 0.2
             }
            },
            "type": "bar"
           }
          ],
          "barpolar": [
           {
            "marker": {
             "line": {
              "color": "#E5ECF6",
              "width": 0.5
             },
             "pattern": {
              "fillmode": "overlay",
              "size": 10,
              "solidity": 0.2
             }
            },
            "type": "barpolar"
           }
          ],
          "carpet": [
           {
            "aaxis": {
             "endlinecolor": "#2a3f5f",
             "gridcolor": "white",
             "linecolor": "white",
             "minorgridcolor": "white",
             "startlinecolor": "#2a3f5f"
            },
            "baxis": {
             "endlinecolor": "#2a3f5f",
             "gridcolor": "white",
             "linecolor": "white",
             "minorgridcolor": "white",
             "startlinecolor": "#2a3f5f"
            },
            "type": "carpet"
           }
          ],
          "choropleth": [
           {
            "colorbar": {
             "outlinewidth": 0,
             "ticks": ""
            },
            "type": "choropleth"
           }
          ],
          "contour": [
           {
            "colorbar": {
             "outlinewidth": 0,
             "ticks": ""
            },
            "colorscale": [
             [
              0,
              "#0d0887"
             ],
             [
              0.1111111111111111,
              "#46039f"
             ],
             [
              0.2222222222222222,
              "#7201a8"
             ],
             [
              0.3333333333333333,
              "#9c179e"
             ],
             [
              0.4444444444444444,
              "#bd3786"
             ],
             [
              0.5555555555555556,
              "#d8576b"
             ],
             [
              0.6666666666666666,
              "#ed7953"
             ],
             [
              0.7777777777777778,
              "#fb9f3a"
             ],
             [
              0.8888888888888888,
              "#fdca26"
             ],
             [
              1,
              "#f0f921"
             ]
            ],
            "type": "contour"
           }
          ],
          "contourcarpet": [
           {
            "colorbar": {
             "outlinewidth": 0,
             "ticks": ""
            },
            "type": "contourcarpet"
           }
          ],
          "heatmap": [
           {
            "colorbar": {
             "outlinewidth": 0,
             "ticks": ""
            },
            "colorscale": [
             [
              0,
              "#0d0887"
             ],
             [
              0.1111111111111111,
              "#46039f"
             ],
             [
              0.2222222222222222,
              "#7201a8"
             ],
             [
              0.3333333333333333,
              "#9c179e"
             ],
             [
              0.4444444444444444,
              "#bd3786"
             ],
             [
              0.5555555555555556,
              "#d8576b"
             ],
             [
              0.6666666666666666,
              "#ed7953"
             ],
             [
              0.7777777777777778,
              "#fb9f3a"
             ],
             [
              0.8888888888888888,
              "#fdca26"
             ],
             [
              1,
              "#f0f921"
             ]
            ],
            "type": "heatmap"
           }
          ],
          "heatmapgl": [
           {
            "colorbar": {
             "outlinewidth": 0,
             "ticks": ""
            },
            "colorscale": [
             [
              0,
              "#0d0887"
             ],
             [
              0.1111111111111111,
              "#46039f"
             ],
             [
              0.2222222222222222,
              "#7201a8"
             ],
             [
              0.3333333333333333,
              "#9c179e"
             ],
             [
              0.4444444444444444,
              "#bd3786"
             ],
             [
              0.5555555555555556,
              "#d8576b"
             ],
             [
              0.6666666666666666,
              "#ed7953"
             ],
             [
              0.7777777777777778,
              "#fb9f3a"
             ],
             [
              0.8888888888888888,
              "#fdca26"
             ],
             [
              1,
              "#f0f921"
             ]
            ],
            "type": "heatmapgl"
           }
          ],
          "histogram": [
           {
            "marker": {
             "pattern": {
              "fillmode": "overlay",
              "size": 10,
              "solidity": 0.2
             }
            },
            "type": "histogram"
           }
          ],
          "histogram2d": [
           {
            "colorbar": {
             "outlinewidth": 0,
             "ticks": ""
            },
            "colorscale": [
             [
              0,
              "#0d0887"
             ],
             [
              0.1111111111111111,
              "#46039f"
             ],
             [
              0.2222222222222222,
              "#7201a8"
             ],
             [
              0.3333333333333333,
              "#9c179e"
             ],
             [
              0.4444444444444444,
              "#bd3786"
             ],
             [
              0.5555555555555556,
              "#d8576b"
             ],
             [
              0.6666666666666666,
              "#ed7953"
             ],
             [
              0.7777777777777778,
              "#fb9f3a"
             ],
             [
              0.8888888888888888,
              "#fdca26"
             ],
             [
              1,
              "#f0f921"
             ]
            ],
            "type": "histogram2d"
           }
          ],
          "histogram2dcontour": [
           {
            "colorbar": {
             "outlinewidth": 0,
             "ticks": ""
            },
            "colorscale": [
             [
              0,
              "#0d0887"
             ],
             [
              0.1111111111111111,
              "#46039f"
             ],
             [
              0.2222222222222222,
              "#7201a8"
             ],
             [
              0.3333333333333333,
              "#9c179e"
             ],
             [
              0.4444444444444444,
              "#bd3786"
             ],
             [
              0.5555555555555556,
              "#d8576b"
             ],
             [
              0.6666666666666666,
              "#ed7953"
             ],
             [
              0.7777777777777778,
              "#fb9f3a"
             ],
             [
              0.8888888888888888,
              "#fdca26"
             ],
             [
              1,
              "#f0f921"
             ]
            ],
            "type": "histogram2dcontour"
           }
          ],
          "mesh3d": [
           {
            "colorbar": {
             "outlinewidth": 0,
             "ticks": ""
            },
            "type": "mesh3d"
           }
          ],
          "parcoords": [
           {
            "line": {
             "colorbar": {
              "outlinewidth": 0,
              "ticks": ""
             }
            },
            "type": "parcoords"
           }
          ],
          "pie": [
           {
            "automargin": true,
            "type": "pie"
           }
          ],
          "scatter": [
           {
            "fillpattern": {
             "fillmode": "overlay",
             "size": 10,
             "solidity": 0.2
            },
            "type": "scatter"
           }
          ],
          "scatter3d": [
           {
            "line": {
             "colorbar": {
              "outlinewidth": 0,
              "ticks": ""
             }
            },
            "marker": {
             "colorbar": {
              "outlinewidth": 0,
              "ticks": ""
             }
            },
            "type": "scatter3d"
           }
          ],
          "scattercarpet": [
           {
            "marker": {
             "colorbar": {
              "outlinewidth": 0,
              "ticks": ""
             }
            },
            "type": "scattercarpet"
           }
          ],
          "scattergeo": [
           {
            "marker": {
             "colorbar": {
              "outlinewidth": 0,
              "ticks": ""
             }
            },
            "type": "scattergeo"
           }
          ],
          "scattergl": [
           {
            "marker": {
             "colorbar": {
              "outlinewidth": 0,
              "ticks": ""
             }
            },
            "type": "scattergl"
           }
          ],
          "scattermapbox": [
           {
            "marker": {
             "colorbar": {
              "outlinewidth": 0,
              "ticks": ""
             }
            },
            "type": "scattermapbox"
           }
          ],
          "scatterpolar": [
           {
            "marker": {
             "colorbar": {
              "outlinewidth": 0,
              "ticks": ""
             }
            },
            "type": "scatterpolar"
           }
          ],
          "scatterpolargl": [
           {
            "marker": {
             "colorbar": {
              "outlinewidth": 0,
              "ticks": ""
             }
            },
            "type": "scatterpolargl"
           }
          ],
          "scatterternary": [
           {
            "marker": {
             "colorbar": {
              "outlinewidth": 0,
              "ticks": ""
             }
            },
            "type": "scatterternary"
           }
          ],
          "surface": [
           {
            "colorbar": {
             "outlinewidth": 0,
             "ticks": ""
            },
            "colorscale": [
             [
              0,
              "#0d0887"
             ],
             [
              0.1111111111111111,
              "#46039f"
             ],
             [
              0.2222222222222222,
              "#7201a8"
             ],
             [
              0.3333333333333333,
              "#9c179e"
             ],
             [
              0.4444444444444444,
              "#bd3786"
             ],
             [
              0.5555555555555556,
              "#d8576b"
             ],
             [
              0.6666666666666666,
              "#ed7953"
             ],
             [
              0.7777777777777778,
              "#fb9f3a"
             ],
             [
              0.8888888888888888,
              "#fdca26"
             ],
             [
              1,
              "#f0f921"
             ]
            ],
            "type": "surface"
           }
          ],
          "table": [
           {
            "cells": {
             "fill": {
              "color": "#EBF0F8"
             },
             "line": {
              "color": "white"
             }
            },
            "header": {
             "fill": {
              "color": "#C8D4E3"
             },
             "line": {
              "color": "white"
             }
            },
            "type": "table"
           }
          ]
         },
         "layout": {
          "annotationdefaults": {
           "arrowcolor": "#2a3f5f",
           "arrowhead": 0,
           "arrowwidth": 1
          },
          "autotypenumbers": "strict",
          "coloraxis": {
           "colorbar": {
            "outlinewidth": 0,
            "ticks": ""
           }
          },
          "colorscale": {
           "diverging": [
            [
             0,
             "#8e0152"
            ],
            [
             0.1,
             "#c51b7d"
            ],
            [
             0.2,
             "#de77ae"
            ],
            [
             0.3,
             "#f1b6da"
            ],
            [
             0.4,
             "#fde0ef"
            ],
            [
             0.5,
             "#f7f7f7"
            ],
            [
             0.6,
             "#e6f5d0"
            ],
            [
             0.7,
             "#b8e186"
            ],
            [
             0.8,
             "#7fbc41"
            ],
            [
             0.9,
             "#4d9221"
            ],
            [
             1,
             "#276419"
            ]
           ],
           "sequential": [
            [
             0,
             "#0d0887"
            ],
            [
             0.1111111111111111,
             "#46039f"
            ],
            [
             0.2222222222222222,
             "#7201a8"
            ],
            [
             0.3333333333333333,
             "#9c179e"
            ],
            [
             0.4444444444444444,
             "#bd3786"
            ],
            [
             0.5555555555555556,
             "#d8576b"
            ],
            [
             0.6666666666666666,
             "#ed7953"
            ],
            [
             0.7777777777777778,
             "#fb9f3a"
            ],
            [
             0.8888888888888888,
             "#fdca26"
            ],
            [
             1,
             "#f0f921"
            ]
           ],
           "sequentialminus": [
            [
             0,
             "#0d0887"
            ],
            [
             0.1111111111111111,
             "#46039f"
            ],
            [
             0.2222222222222222,
             "#7201a8"
            ],
            [
             0.3333333333333333,
             "#9c179e"
            ],
            [
             0.4444444444444444,
             "#bd3786"
            ],
            [
             0.5555555555555556,
             "#d8576b"
            ],
            [
             0.6666666666666666,
             "#ed7953"
            ],
            [
             0.7777777777777778,
             "#fb9f3a"
            ],
            [
             0.8888888888888888,
             "#fdca26"
            ],
            [
             1,
             "#f0f921"
            ]
           ]
          },
          "colorway": [
           "#636efa",
           "#EF553B",
           "#00cc96",
           "#ab63fa",
           "#FFA15A",
           "#19d3f3",
           "#FF6692",
           "#B6E880",
           "#FF97FF",
           "#FECB52"
          ],
          "font": {
           "color": "#2a3f5f"
          },
          "geo": {
           "bgcolor": "white",
           "lakecolor": "white",
           "landcolor": "#E5ECF6",
           "showlakes": true,
           "showland": true,
           "subunitcolor": "white"
          },
          "hoverlabel": {
           "align": "left"
          },
          "hovermode": "closest",
          "mapbox": {
           "style": "light"
          },
          "paper_bgcolor": "white",
          "plot_bgcolor": "#E5ECF6",
          "polar": {
           "angularaxis": {
            "gridcolor": "white",
            "linecolor": "white",
            "ticks": ""
           },
           "bgcolor": "#E5ECF6",
           "radialaxis": {
            "gridcolor": "white",
            "linecolor": "white",
            "ticks": ""
           }
          },
          "scene": {
           "xaxis": {
            "backgroundcolor": "#E5ECF6",
            "gridcolor": "white",
            "gridwidth": 2,
            "linecolor": "white",
            "showbackground": true,
            "ticks": "",
            "zerolinecolor": "white"
           },
           "yaxis": {
            "backgroundcolor": "#E5ECF6",
            "gridcolor": "white",
            "gridwidth": 2,
            "linecolor": "white",
            "showbackground": true,
            "ticks": "",
            "zerolinecolor": "white"
           },
           "zaxis": {
            "backgroundcolor": "#E5ECF6",
            "gridcolor": "white",
            "gridwidth": 2,
            "linecolor": "white",
            "showbackground": true,
            "ticks": "",
            "zerolinecolor": "white"
           }
          },
          "shapedefaults": {
           "line": {
            "color": "#2a3f5f"
           }
          },
          "ternary": {
           "aaxis": {
            "gridcolor": "white",
            "linecolor": "white",
            "ticks": ""
           },
           "baxis": {
            "gridcolor": "white",
            "linecolor": "white",
            "ticks": ""
           },
           "bgcolor": "#E5ECF6",
           "caxis": {
            "gridcolor": "white",
            "linecolor": "white",
            "ticks": ""
           }
          },
          "title": {
           "x": 0.05
          },
          "xaxis": {
           "automargin": true,
           "gridcolor": "white",
           "linecolor": "white",
           "ticks": "",
           "title": {
            "standoff": 15
           },
           "zerolinecolor": "white",
           "zerolinewidth": 2
          },
          "yaxis": {
           "automargin": true,
           "gridcolor": "white",
           "linecolor": "white",
           "ticks": "",
           "title": {
            "standoff": 15
           },
           "zerolinecolor": "white",
           "zerolinewidth": 2
          }
         }
        },
        "title": {
         "text": "Concentration of Alexandrium catenella based on Salinity ",
         "x": 0.5
        },
        "width": 800,
        "xaxis": {
         "anchor": "y",
         "autorange": true,
         "domain": [
          0,
          1
         ],
         "range": [
          -1.877956403269755,
          35.01795640326976
         ],
         "title": {
          "text": "Salinity levels"
         },
         "type": "linear"
        },
        "yaxis": {
         "anchor": "x",
         "autorange": true,
         "domain": [
          0,
          1
         ],
         "range": [
          -565.0189573459716,
          8787.018957345972
         ],
         "title": {
          "text": "Concentration of Alexandrium Catenella cells"
         },
         "type": "linear"
        }
       }
      },
      "image/png": "[encoded data removed]",
      "text/html": [
       "<div>                            <div id=\"6b197a85-5a13-4979-ab51-905b93b777da\" class=\"plotly-graph-div\" style=\"height:500px; width:800px;\"></div>            <script type=\"text/javascript\">                require([\"plotly\"], function(Plotly) {                    window.PLOTLYENV=window.PLOTLYENV || {};                                    if (document.getElementById(\"6b197a85-5a13-4979-ab51-905b93b777da\")) {                    Plotly.newPlot(                        \"6b197a85-5a13-4979-ab51-905b93b777da\",                        [{\"hovertemplate\":\"years=2018\\u003cbr\\u003eSAL=%{x}\\u003cbr\\u003eCELLS_L=%{y}\\u003cextra\\u003e\\u003c\\u002fextra\\u003e\",\"legendgroup\":\"2018\",\"marker\":{\"color\":\"#636efa\",\"symbol\":\"circle\"},\"mode\":\"markers\",\"name\":\"2018\",\"orientation\":\"v\",\"showlegend\":true,\"x\":[31.89,31.17,31.32,31.53,31.38,28.12,29.16,29.32,29.65,29.2,30.16,31.88,32.83,32.79,31.35,31.34,31.26,30.66,30.57,30.45,29.54,28.95,29.29,30.2,30.58,30.26,30.72,30.96,30.92,31.0,30.52,30.87,29.8,29.13,29.41,29.21,28.82,28.36,28.77,29.1,29.29,30.07,30.59,30.91,30.36,30.55,30.44,30.35,29.33,26.28,28.17,28.21,27.53,26.02,31.31,31.31,31.91,31.24,31.24,31.38,31.86,30.73,30.74,30.86,32.06,30.34,30.38,30.78,31.85,30.33,30.32,30.31,31.67,30.37,30.37,30.51,31.33,30.38,30.38,30.38,31.63,30.41,30.42,30.48,30.68,30.84,30.84,30.84,30.89],\"xaxis\":\"x\",\"y\":[4,0,0,0,0,54,28,51,35,165,76,29,382,260,107,931,336,144,154,7,3,2,5,2,10,4,12,871,558,1828,151,530,7,2,1,0,0,0,1,9,30,54,17,8,4,24,11,41,11,4,29,12,2,0,5523,5110,3888,1463,1750,1270,90,5429,4763,3660,45,1780,3666,3771,8,1268,1562,2017,37,501,390,888,565,544,343,740,32,2009,950,2668,4188,1214,2133,2067,3010],\"yaxis\":\"y\",\"type\":\"scatter\"},{\"hovertemplate\":\"years=2019\\u003cbr\\u003eSAL=%{x}\\u003cbr\\u003eCELLS_L=%{y}\\u003cextra\\u003e\\u003c\\u002fextra\\u003e\",\"legendgroup\":\"2019\",\"marker\":{\"color\":\"#EF553B\",\"symbol\":\"circle\"},\"mode\":\"markers\",\"name\":\"2019\",\"orientation\":\"v\",\"showlegend\":true,\"x\":[null,null,null,null,null,null,null,null,32.19,32.21,32.15,32.11,32.14,null,32.13,32.18,32.2,32.2,31.83,31.85,30.01,31.09,30.86,30.37,31.51,27.13,26.97,31.62,31.27,30.73,32.25,31.53,32.46,30.97,31.93,32.51,32.85,32.78,32.92,31.07,31.12,31.1,30.62,31.1,31.09,32.81,32.93,32.95,32.83,32.86,32.76,32.77,32.45,32.27,32.05,29.9,31.15,29.0,28.14,28.58,28.73,29.12,32.74,29.39,30.38,30.44,30.39,31.0,31.5,29.21,29.35,31.9,29.63,29.67,31.95,29.91,29.9,29.1,28.91,30.09,30.5,28.79,29.26,27.6,27.49,28.25,28.31,30.05,28.44,30.11,30.48,30.64,28.03,29.86,29.58,30.26,28.34,29.61,29.35,30.44,28.95,30.43,30.32,31.17,30.1,30.33,30.17,29.42,28.4,30.45,29.1,27.54,26.95,29.82,29.8,29.68,29.64,29.51,29.42,32.2,31.01,31.06,28.3,30.93,30.69,30.23,30.35,30.32,29.51,29.88,29.86,29.4,30.5,30.44,30.78,30.47,30.54,30.65,29.99,30.3,30.4,30.25,29.67,30.58,29.7,30.58,30.49,29.79,30.03,0.19,29.41,29.3,29.4,29.31,31.1,29.61,29.48,29.88,30.31,31.65,31.9,32.35,32.37,30.59,31.09,32.34,32.39,30.49,30.5,31.54,32.42,30.41,31.29,32.0,32.45,29.58,29.34,31.73,32.02,32.43,28.96,28.93,30.82,32.34,28.89,28.9,29.04,32.05,29.0,29.0,29.93,31.53,28.85,28.85,null,31.18,31.17,31.17,31.17,29.68,31.17,31.17,30.79,31.17,31.17,32.39,32.75,31.17,32.51,30.93,28.72,28.53,26.77,29.79,30.68,null,31.31,29.72,27.68,29.36,29.56,29.06,28.67,28.15,27.15,28.58,28.58,31.48,30.56,30.2,30.45,30.23,29.68,30.69,31.42,30.95,30.15,31.05,30.68,29.54,29.63,29.71,29.66,29.86,30.35,30.69,31.7],\"xaxis\":\"x\",\"y\":[4,0,0,1,0,0,0,0,0,4,7,77,7,1,1,7,9,1,4,7,13,17,5,12,0,0,0,0,0,0,5,1,2,8,5,24,3,10,37,6,8,20,29,101,1175,8222,615,519,957,1528,4225,892,41,1354,1344,57,153,8,13,1,6,0,507,13,24,110,25,221,32,4,2,73,0,0,67,0,2,8,6,14,12,29,37,7,18,67,7,6,0,0,3,0,1,4,5,0,0,3,131,9,32,6,15,93,181,63,68,23,6,202,1,4,6,1,0,5,2,3,19,585,713,610,112,822,5,19,27,13,133,2,0,2,730,1154,200,990,259,796,177,28,7,21,76,163,47,146,539,50,45,6,1,3,5,8,55,1130,472,375,555,154,26,16,1,369,232,12,6,25,53,2,0,24,139,1,0,155,0,16,0,3,1,2,1,0,0,1,0,0,1,7,2,0,4,1,1,0,1,2,1,2,38,77,15,70,33,89,58,3,9,2,0,0,0,2,1743,85,64,232,275,635,12,5,15,27,57,95,42,4,72,22,2590,333,561,73,1573,440,1106,301,1691,1,0,1,7,0,0,0,299],\"yaxis\":\"y\",\"type\":\"scatter\"}],                        {\"template\":{\"data\":{\"histogram2dcontour\":[{\"type\":\"histogram2dcontour\",\"colorbar\":{\"outlinewidth\":0,\"ticks\":\"\"},\"colorscale\":[[0.0,\"#0d0887\"],[0.1111111111111111,\"#46039f\"],[0.2222222222222222,\"#7201a8\"],[0.3333333333333333,\"#9c179e\"],[0.4444444444444444,\"#bd3786\"],[0.5555555555555556,\"#d8576b\"],[0.6666666666666666,\"#ed7953\"],[0.7777777777777778,\"#fb9f3a\"],[0.8888888888888888,\"#fdca26\"],[1.0,\"#f0f921\"]]}],\"choropleth\":[{\"type\":\"choropleth\",\"colorbar\":{\"outlinewidth\":0,\"ticks\":\"\"}}],\"histogram2d\":[{\"type\":\"histogram2d\",\"colorbar\":{\"outlinewidth\":0,\"ticks\":\"\"},\"colorscale\":[[0.0,\"#0d0887\"],[0.1111111111111111,\"#46039f\"],[0.2222222222222222,\"#7201a8\"],[0.3333333333333333,\"#9c179e\"],[0.4444444444444444,\"#bd3786\"],[0.5555555555555556,\"#d8576b\"],[0.6666666666666666,\"#ed7953\"],[0.7777777777777778,\"#fb9f3a\"],[0.8888888888888888,\"#fdca26\"],[1.0,\"#f0f921\"]]}],\"heatmap\":[{\"type\":\"heatmap\",\"colorbar\":{\"outlinewidth\":0,\"ticks\":\"\"},\"colorscale\":[[0.0,\"#0d0887\"],[0.1111111111111111,\"#46039f\"],[0.2222222222222222,\"#7201a8\"],[0.3333333333333333,\"#9c179e\"],[0.4444444444444444,\"#bd3786\"],[0.5555555555555556,\"#d8576b\"],[0.6666666666666666,\"#ed7953\"],[0.7777777777777778,\"#fb9f3a\"],[0.8888888888888888,\"#fdca26\"],[1.0,\"#f0f921\"]]}],\"heatmapgl\":[{\"type\":\"heatmapgl\",\"colorbar\":{\"outlinewidth\":0,\"ticks\":\"\"},\"colorscale\":[[0.0,\"#0d0887\"],[0.1111111111111111,\"#46039f\"],[0.2222222222222222,\"#7201a8\"],[0.3333333333333333,\"#9c179e\"],[0.4444444444444444,\"#bd3786\"],[0.5555555555555556,\"#d8576b\"],[0.6666666666666666,\"#ed7953\"],[0.7777777777777778,\"#fb9f3a\"],[0.8888888888888888,\"#fdca26\"],[1.0,\"#f0f921\"]]}],\"contourcarpet\":[{\"type\":\"contourcarpet\",\"colorbar\":{\"outlinewidth\":0,\"ticks\":\"\"}}],\"contour\":[{\"type\":\"contour\",\"colorbar\":{\"outlinewidth\":0,\"ticks\":\"\"},\"colorscale\":[[0.0,\"#0d0887\"],[0.1111111111111111,\"#46039f\"],[0.2222222222222222,\"#7201a8\"],[0.3333333333333333,\"#9c179e\"],[0.4444444444444444,\"#bd3786\"],[0.5555555555555556,\"#d8576b\"],[0.6666666666666666,\"#ed7953\"],[0.7777777777777778,\"#fb9f3a\"],[0.8888888888888888,\"#fdca26\"],[1.0,\"#f0f921\"]]}],\"surface\":[{\"type\":\"surface\",\"colorbar\":{\"outlinewidth\":0,\"ticks\":\"\"},\"colorscale\":[[0.0,\"#0d0887\"],[0.1111111111111111,\"#46039f\"],[0.2222222222222222,\"#7201a8\"],[0.3333333333333333,\"#9c179e\"],[0.4444444444444444,\"#bd3786\"],[0.5555555555555556,\"#d8576b\"],[0.6666666666666666,\"#ed7953\"],[0.7777777777777778,\"#fb9f3a\"],[0.8888888888888888,\"#fdca26\"],[1.0,\"#f0f921\"]]}],\"mesh3d\":[{\"type\":\"mesh3d\",\"colorbar\":{\"outlinewidth\":0,\"ticks\":\"\"}}],\"scatter\":[{\"fillpattern\":{\"fillmode\":\"overlay\",\"size\":10,\"solidity\":0.2},\"type\":\"scatter\"}],\"parcoords\":[{\"type\":\"parcoords\",\"line\":{\"colorbar\":{\"outlinewidth\":0,\"ticks\":\"\"}}}],\"scatterpolargl\":[{\"type\":\"scatterpolargl\",\"marker\":{\"colorbar\":{\"outlinewidth\":0,\"ticks\":\"\"}}}],\"bar\":[{\"error_x\":{\"color\":\"#2a3f5f\"},\"error_y\":{\"color\":\"#2a3f5f\"},\"marker\":{\"line\":{\"color\":\"#E5ECF6\",\"width\":0.5},\"pattern\":{\"fillmode\":\"overlay\",\"size\":10,\"solidity\":0.2}},\"type\":\"bar\"}],\"scattergeo\":[{\"type\":\"scattergeo\",\"marker\":{\"colorbar\":{\"outlinewidth\":0,\"ticks\":\"\"}}}],\"scatterpolar\":[{\"type\":\"scatterpolar\",\"marker\":{\"colorbar\":{\"outlinewidth\":0,\"ticks\":\"\"}}}],\"histogram\":[{\"marker\":{\"pattern\":{\"fillmode\":\"overlay\",\"size\":10,\"solidity\":0.2}},\"type\":\"histogram\"}],\"scattergl\":[{\"type\":\"scattergl\",\"marker\":{\"colorbar\":{\"outlinewidth\":0,\"ticks\":\"\"}}}],\"scatter3d\":[{\"type\":\"scatter3d\",\"line\":{\"colorbar\":{\"outlinewidth\":0,\"ticks\":\"\"}},\"marker\":{\"colorbar\":{\"outlinewidth\":0,\"ticks\":\"\"}}}],\"scattermapbox\":[{\"type\":\"scattermapbox\",\"marker\":{\"colorbar\":{\"outlinewidth\":0,\"ticks\":\"\"}}}],\"scatterternary\":[{\"type\":\"scatterternary\",\"marker\":{\"colorbar\":{\"outlinewidth\":0,\"ticks\":\"\"}}}],\"scattercarpet\":[{\"type\":\"scattercarpet\",\"marker\":{\"colorbar\":{\"outlinewidth\":0,\"ticks\":\"\"}}}],\"carpet\":[{\"aaxis\":{\"endlinecolor\":\"#2a3f5f\",\"gridcolor\":\"white\",\"linecolor\":\"white\",\"minorgridcolor\":\"white\",\"startlinecolor\":\"#2a3f5f\"},\"baxis\":{\"endlinecolor\":\"#2a3f5f\",\"gridcolor\":\"white\",\"linecolor\":\"white\",\"minorgridcolor\":\"white\",\"startlinecolor\":\"#2a3f5f\"},\"type\":\"carpet\"}],\"table\":[{\"cells\":{\"fill\":{\"color\":\"#EBF0F8\"},\"line\":{\"color\":\"white\"}},\"header\":{\"fill\":{\"color\":\"#C8D4E3\"},\"line\":{\"color\":\"white\"}},\"type\":\"table\"}],\"barpolar\":[{\"marker\":{\"line\":{\"color\":\"#E5ECF6\",\"width\":0.5},\"pattern\":{\"fillmode\":\"overlay\",\"size\":10,\"solidity\":0.2}},\"type\":\"barpolar\"}],\"pie\":[{\"automargin\":true,\"type\":\"pie\"}]},\"layout\":{\"autotypenumbers\":\"strict\",\"colorway\":[\"#636efa\",\"#EF553B\",\"#00cc96\",\"#ab63fa\",\"#FFA15A\",\"#19d3f3\",\"#FF6692\",\"#B6E880\",\"#FF97FF\",\"#FECB52\"],\"font\":{\"color\":\"#2a3f5f\"},\"hovermode\":\"closest\",\"hoverlabel\":{\"align\":\"left\"},\"paper_bgcolor\":\"white\",\"plot_bgcolor\":\"#E5ECF6\",\"polar\":{\"bgcolor\":\"#E5ECF6\",\"angularaxis\":{\"gridcolor\":\"white\",\"linecolor\":\"white\",\"ticks\":\"\"},\"radialaxis\":{\"gridcolor\":\"white\",\"linecolor\":\"white\",\"ticks\":\"\"}},\"ternary\":{\"bgcolor\":\"#E5ECF6\",\"aaxis\":{\"gridcolor\":\"white\",\"linecolor\":\"white\",\"ticks\":\"\"},\"baxis\":{\"gridcolor\":\"white\",\"linecolor\":\"white\",\"ticks\":\"\"},\"caxis\":{\"gridcolor\":\"white\",\"linecolor\":\"white\",\"ticks\":\"\"}},\"coloraxis\":{\"colorbar\":{\"outlinewidth\":0,\"ticks\":\"\"}},\"colorscale\":{\"sequential\":[[0.0,\"#0d0887\"],[0.1111111111111111,\"#46039f\"],[0.2222222222222222,\"#7201a8\"],[0.3333333333333333,\"#9c179e\"],[0.4444444444444444,\"#bd3786\"],[0.5555555555555556,\"#d8576b\"],[0.6666666666666666,\"#ed7953\"],[0.7777777777777778,\"#fb9f3a\"],[0.8888888888888888,\"#fdca26\"],[1.0,\"#f0f921\"]],\"sequentialminus\":[[0.0,\"#0d0887\"],[0.1111111111111111,\"#46039f\"],[0.2222222222222222,\"#7201a8\"],[0.3333333333333333,\"#9c179e\"],[0.4444444444444444,\"#bd3786\"],[0.5555555555555556,\"#d8576b\"],[0.6666666666666666,\"#ed7953\"],[0.7777777777777778,\"#fb9f3a\"],[0.8888888888888888,\"#fdca26\"],[1.0,\"#f0f921\"]],\"diverging\":[[0,\"#8e0152\"],[0.1,\"#c51b7d\"],[0.2,\"#de77ae\"],[0.3,\"#f1b6da\"],[0.4,\"#fde0ef\"],[0.5,\"#f7f7f7\"],[0.6,\"#e6f5d0\"],[0.7,\"#b8e186\"],[0.8,\"#7fbc41\"],[0.9,\"#4d9221\"],[1,\"#276419\"]]},\"xaxis\":{\"gridcolor\":\"white\",\"linecolor\":\"white\",\"ticks\":\"\",\"title\":{\"standoff\":15},\"zerolinecolor\":\"white\",\"automargin\":true,\"zerolinewidth\":2},\"yaxis\":{\"gridcolor\":\"white\",\"linecolor\":\"white\",\"ticks\":\"\",\"title\":{\"standoff\":15},\"zerolinecolor\":\"white\",\"automargin\":true,\"zerolinewidth\":2},\"scene\":{\"xaxis\":{\"backgroundcolor\":\"#E5ECF6\",\"gridcolor\":\"white\",\"linecolor\":\"white\",\"showbackground\":true,\"ticks\":\"\",\"zerolinecolor\":\"white\",\"gridwidth\":2},\"yaxis\":{\"backgroundcolor\":\"#E5ECF6\",\"gridcolor\":\"white\",\"linecolor\":\"white\",\"showbackground\":true,\"ticks\":\"\",\"zerolinecolor\":\"white\",\"gridwidth\":2},\"zaxis\":{\"backgroundcolor\":\"#E5ECF6\",\"gridcolor\":\"white\",\"linecolor\":\"white\",\"showbackground\":true,\"ticks\":\"\",\"zerolinecolor\":\"white\",\"gridwidth\":2}},\"shapedefaults\":{\"line\":{\"color\":\"#2a3f5f\"}},\"annotationdefaults\":{\"arrowcolor\":\"#2a3f5f\",\"arrowhead\":0,\"arrowwidth\":1},\"geo\":{\"bgcolor\":\"white\",\"landcolor\":\"#E5ECF6\",\"subunitcolor\":\"white\",\"showland\":true,\"showlakes\":true,\"lakecolor\":\"white\"},\"title\":{\"x\":0.05},\"mapbox\":{\"style\":\"light\"}}},\"xaxis\":{\"anchor\":\"y\",\"domain\":[0.0,1.0],\"title\":{\"text\":\"Salinity levels\"}},\"yaxis\":{\"anchor\":\"x\",\"domain\":[0.0,1.0],\"title\":{\"text\":\"Concentration of Alexandrium Catenella cells\"}},\"legend\":{\"title\":{\"text\":\"years\"},\"tracegroupgap\":0},\"margin\":{\"t\":60},\"title\":{\"text\":\"Concentration of Alexandrium catenella based on Salinity \",\"x\":0.5},\"autosize\":false,\"width\":800,\"height\":500},                        {\"responsive\": true}                    ).then(function(){\n",
       "                            \n",
       "var gd = document.getElementById('6b197a85-5a13-4979-ab51-905b93b777da');\n",
       "var x = new MutationObserver(function (mutations, observer) {{\n",
       "        var display = window.getComputedStyle(gd).display;\n",
       "        if (!display || display === 'none') {{\n",
       "            console.log([gd, 'removed!']);\n",
       "            Plotly.purge(gd);\n",
       "            observer.disconnect();\n",
       "        }}\n",
       "}});\n",
       "\n",
       "// Listen for the removal of the full notebook cells\n",
       "var notebookContainer = gd.closest('#notebook-container');\n",
       "if (notebookContainer) {{\n",
       "    x.observe(notebookContainer, {childList: true});\n",
       "}}\n",
       "\n",
       "// Listen for the clearing of the current output cell\n",
       "var outputEl = gd.closest('.output');\n",
       "if (outputEl) {{\n",
       "    x.observe(outputEl, {childList: true});\n",
       "}}\n",
       "\n",
       "                        })                };                });            </script>        </div>"
      ]
     },
     "metadata": {},
     "output_type": "display_data"
    }
   ],
   "source": [
    "fig = px.scatter(DFproject_mask,\n",
    "                 x='SAL',\n",
    "                 y='CELLS_L',\n",
    "                color = 'years',\n",
    "                 #color_discrete_sequence=['black'],\n",
    "                )\n",
    "fig.update_layout(title='Concentration of Alexandrium catenella based on Salinity ',\n",
    "                  title_x=0.5,\n",
    "                  xaxis_title='Salinity levels',\n",
    "                  yaxis_title='Concentration of Alexandrium Catenella cells',\n",
    "                 autosize = False,\n",
    "                 width = 800,\n",
    "                 height = 500)\n",
    "\n",
    "#fig.show()"
   ]
  },
  {
   "cell_type": "code",
   "execution_count": 25,
   "id": "465d5b41-f8fe-4f6a-a9be-ef6f359dc01b",
   "metadata": {},
   "outputs": [
    {
     "data": {
      "application/vnd.plotly.v1+json": {
       "config": {
        "plotlyServerURL": "https://plot.ly"
       },
       "data": [
        {
         "hovertemplate": "CELLS_L=%{marker.color}<br>LAT=%{lat}<br>LON=%{lon}<extra></extra>",
         "lat": [
          64.6705,
          64.9912,
          64.9598,
          64.6718,
          64.68,
          66.417,
          67.1642,
          68.3012,
          68.2462,
          68.1902,
          68.1357,
          68.0153,
          67.8968,
          67.7853,
          67.677,
          70.0162,
          70.2197,
          71.8302,
          71.8297,
          71.7052,
          71.6005,
          71.4485,
          71.3367,
          71.195,
          71.0847,
          71.2327,
          70.9725,
          70.849,
          70.7882,
          70.7172,
          70.653,
          70.58,
          71.0483,
          71.09,
          71.2238,
          71.3507,
          71.4805,
          71.6103,
          71.7755,
          71.2468,
          71.2888,
          71.3262,
          71.3727,
          71.4095,
          71.4543,
          71.4953,
          71.5358,
          71.5835,
          71.6262,
          71.95,
          71.496,
          72.2347,
          72.1093,
          72.6198,
          70.2598,
          70.2598,
          70.2598,
          70.1648,
          70.1648,
          70.1648,
          70.1648,
          70.0578,
          70.0578,
          70.0578,
          70.0578,
          69.9567,
          69.9567,
          69.9567,
          69.9567,
          69.879,
          69.879,
          69.879,
          69.879,
          69.7797,
          69.7797,
          69.7797,
          69.7797,
          69.6832,
          69.6832,
          69.6832,
          69.6832,
          69.5815,
          69.5815,
          69.5815,
          69.5815,
          69.4962,
          69.4962,
          69.4962,
          69.4962,
          61.2478333,
          61.2333333,
          61.4145,
          61.9960167,
          63.83065,
          64.2537167,
          63.3719833,
          63.4806167,
          62.0048,
          62.0442,
          62.2162,
          62.392,
          62.4692,
          63.294,
          62.5528,
          62.7885,
          63.0345,
          63.2768,
          63.6023,
          63.8755,
          64.11166667,
          64.20983333,
          64.29083333,
          64.15833,
          64.36416667,
          64.6728,
          64.6717,
          64.6695,
          64.6705,
          64.6742,
          64.6722,
          64.38917,
          64.6815,
          64.6707,
          64.6723,
          64.6762,
          64.6718,
          64.9623,
          64.993,
          65.003,
          65.535,
          66.01166667,
          66.54166667,
          66.85283333,
          66.9365,
          67.72166667,
          68.0303,
          67.949,
          67.75373333,
          67.6745,
          67.7812,
          67.8933,
          68.0117,
          68.1297,
          68.185,
          67.54083,
          68.2432,
          68.3028,
          68.50133333,
          68.78636667,
          69.08116667,
          69.37583333,
          67.910835,
          69.6705,
          69.91166667,
          70.18033333,
          70.45966667,
          70.66166667,
          70.91616667,
          71.0852,
          71.2232,
          68.6725,
          71.3457,
          71.4793,
          68.673,
          71.6047,
          71.7375,
          72.898,
          73.0177,
          73.137,
          70.218666,
          73.2592,
          70.017166,
          73.3805,
          73.6775,
          73.7988,
          73.9405,
          71.82716,
          74.1757,
          71.82567,
          71.707,
          71.60603,
          74.3447,
          71.45153,
          71.342964,
          71.2162,
          74.6742,
          74.6147,
          74.355,
          71.200165,
          74.2202,
          71.089836,
          70.97483,
          70.853,
          70.7225,
          70.583336,
          70.706,
          74.2867,
          74.1573,
          70.84237,
          73.9707,
          73.7435,
          73.521,
          71.618,
          71.5742,
          71.5343,
          71.4938,
          71.4047,
          71.3717,
          71.3242,
          71.289,
          71.251,
          72.4722,
          70.83567,
          71.2145,
          71.9082,
          72.0308,
          72.1557,
          72.3473,
          71.6,
          71.59634,
          71.04643,
          71.5357,
          71.5957,
          71.20617,
          71.6498,
          71.7147,
          71.7815,
          71.8387,
          71.8928,
          71.9517,
          72.0202,
          71.87883,
          71.7095,
          71.86083333,
          71.50317,
          71.4285,
          71.86766667,
          71.89783333,
          71.8025,
          71.6535,
          71.46166667,
          71.3075,
          71.14966667,
          70.97066667,
          70.77633333,
          70.66666667,
          70.55833333,
          70.41,
          70.2613,
          70.2613,
          70.2613,
          70.2613,
          70.1705,
          70.1705,
          70.1705,
          70.1705,
          70.0582,
          70.0582,
          70.0582,
          70.0582,
          69.9595,
          69.9595,
          69.9595,
          69.9595,
          70.1922833,
          69.883,
          69.883,
          69.883,
          69.883,
          69.785,
          69.785,
          69.785,
          69.785,
          69.6875,
          69.6875,
          69.6875,
          69.6875,
          69.584,
          69.584,
          69.584,
          69.584,
          69.5012,
          69.5012,
          69.5012,
          69.5012,
          69.359,
          69.07116667,
          68.76233333,
          68.4875833,
          68.408,
          68.075,
          68.1726,
          67.88366667,
          67.6295,
          67.82145,
          67.8034667,
          67.2336,
          67.6695,
          67.3172,
          66.8029167,
          65.0820167,
          64.7540667,
          69.7149333,
          70.2703333,
          72.499,
          72.5005,
          72.50017,
          72.49983,
          72.501335,
          72.49817,
          72.7685,
          72.896835,
          73.104836,
          72.3705,
          72.25362,
          72.25362,
          71.00117,
          71.00083,
          71.001335,
          70.99934,
          71.00183,
          71.00117,
          71.00117,
          71.00217,
          71.754166,
          71.751335,
          71.755165,
          71.74983,
          71.751335,
          71.751,
          71.75267,
          71.751,
          70.25267,
          70.24917,
          70.24834,
          70.25117
         ],
         "legendgroup": "",
         "lon": [
          -168.2342,
          -169.146,
          -169.899,
          -169.9258,
          -169.1002,
          -168.6775,
          -168.6635,
          -166.9308,
          -167.1255,
          -167.3027,
          -167.4915,
          -167.8798,
          -168.248,
          -168.601,
          -168.9568,
          -166.855,
          -167.7935,
          -165.9698,
          -166.0737,
          -165.6028,
          -165.3038,
          -164.919,
          -164.6127,
          -164.2018,
          -163.8018,
          -164.2207,
          -163.5642,
          -163.1872,
          -163.0097,
          -162.8565,
          -162.6662,
          -162.4912,
          -160.4822,
          -161.1928,
          -161.2893,
          -161.3958,
          -161.5048,
          -161.6152,
          -161.5865,
          -157.135,
          -157.2213,
          -157.3067,
          -157.3803,
          -157.4497,
          -157.5532,
          -157.6265,
          -157.7107,
          -157.8175,
          -157.9005,
          -153.3597,
          -154.4728,
          -154.6282,
          -155.54,
          -156.6018,
          -168.5445,
          -168.5445,
          -168.5445,
          -168.1307,
          -168.1307,
          -168.1307,
          -168.1307,
          -167.6565,
          -167.6565,
          -167.6565,
          -167.6565,
          -167.2213,
          -167.2213,
          -167.2213,
          -167.2213,
          -166.8215,
          -166.8215,
          -166.8215,
          -166.8215,
          -166.44,
          -166.44,
          -166.44,
          -166.44,
          -166.0928,
          -166.0928,
          -166.0928,
          -166.0928,
          -165.7402,
          -165.7402,
          -165.7402,
          -165.7402,
          -165.3785,
          -165.3785,
          -165.3785,
          -165.3785,
          -168.79133,
          -168.78333,
          -168.603,
          -168.11087,
          -166.19028,
          -165.71275,
          -168.71308,
          -169.06645,
          -175.0692,
          -175.2153,
          -174.8753,
          -174.5642,
          -174.0843,
          -168.4248333,
          -173.5547,
          -173.4988,
          -173.4617,
          -173.074,
          -172.5865,
          -171.8075,
          -171.0083333,
          -169.4816667,
          -168.3236667,
          -171.48183,
          -167.0966667,
          -166.9555,
          -167.2817,
          -167.597,
          -167.9062,
          -168.2292,
          -168.6845,
          -167.076,
          -169.0872,
          -169.4982,
          -169.9172,
          -170.2585,
          -170.646,
          -169.8977,
          -169.1325,
          -168.221,
          -168.4455,
          -168.3843333,
          -168.405,
          -168.4921667,
          -168.5175,
          -168.7421,
          -168.8223,
          -168.8688667,
          -168.9218667,
          -168.939,
          -168.6063,
          -168.2302,
          -167.8857,
          -167.4898,
          -167.3017,
          -164.8945,
          -167.1383,
          -166.9432,
          -167.1411667,
          -166.90265,
          -166.6479833,
          -166.2288333,
          -168.19467,
          -165.7413667,
          -165.3403333,
          -164.8848333,
          -164.0406667,
          -163.1225,
          -161.9883333,
          -161.2008,
          -161.2785,
          -167.74234,
          -161.3978,
          -161.4993,
          -167.74733,
          -161.6253,
          -161.7335,
          -160.8428,
          -160.6458,
          -160.4497,
          -167.79483,
          -160.2483,
          -166.8655,
          -160.0643,
          -159.5202,
          -159.2962,
          -159.7517,
          -166.05,
          -160.6078,
          -165.98384,
          -165.60767,
          -165.30513,
          -161.1765,
          -164.9233,
          -164.61781,
          -164.25798,
          -162.3463,
          -163.3185,
          -164.6605,
          -164.20967,
          -165.3528,
          -163.79866,
          -163.56366,
          -163.18317,
          -162.85083,
          -162.4861,
          -162.44687,
          -165.0048,
          -165.6782,
          -163.12099,
          -166.0023,
          -166.004,
          -166.0057,
          -157.9172,
          -157.8047,
          -157.7352,
          -157.6458,
          -157.4598,
          -157.3893,
          -157.3215,
          -157.2193,
          -157.1557,
          -155.4207,
          -163.123,
          -164.2575,
          -156.1932,
          -156.028,
          -155.8478,
          -155.6042,
          -161.5155,
          -161.51534,
          -160.49507,
          -154.0313,
          -153.9502,
          -158.01517,
          -153.8398,
          -153.7393,
          -153.63,
          -153.5562,
          -153.459,
          -153.3652,
          -153.2562,
          -153.58083,
          -153.7505,
          -153.9415,
          -154.10217,
          -154.23866,
          -154.6635,
          -156.295,
          -157.6531667,
          -158.9925,
          -160.7086667,
          -162.0726667,
          -163.4673333,
          -164.7921667,
          -166.0885,
          -166.8171667,
          -167.3641667,
          -167.9495,
          -168.5183,
          -168.5183,
          -168.5183,
          -168.5183,
          -168.1275,
          -168.1275,
          -168.1275,
          -168.1275,
          -167.6458,
          -167.6458,
          -167.6458,
          -167.6458,
          -167.2257,
          -167.2257,
          -167.2257,
          -167.2257,
          -164.51067,
          -166.8177,
          -166.8177,
          -166.8177,
          -166.8177,
          -166.452,
          -166.452,
          -166.452,
          -166.452,
          -166.094,
          -166.094,
          -166.094,
          -166.094,
          -165.7427,
          -165.7427,
          -165.7427,
          -165.7427,
          -165.3765,
          -165.3765,
          -165.3765,
          -165.3765,
          -166.6506667,
          -167.2638333,
          -167.9241667,
          -167.48833,
          -168.3705,
          -168.7856667,
          -167.99145,
          -168.9293333,
          -168.8373333,
          -168.52122,
          -168.54508,
          -168.70667,
          -168.73816,
          -168.64468,
          -168.55442,
          -167.50418,
          -166.83743,
          -166.94582,
          -166.99018,
          -168.5021667,
          -166.81583,
          -165.18433,
          -163.49817,
          -161.90767,
          -160.20366,
          -159.63533,
          -159.34067,
          -158.9395,
          -157.16766,
          -157.41747,
          -157.41747,
          -157.80183,
          -159.293,
          -160.787,
          -162.39317,
          -163.90334,
          -165.40266,
          -167.00433,
          -168.504,
          -168.48883,
          -166.89116,
          -165.3115,
          -163.69467,
          -161.9925,
          -160.40033,
          -158.79784,
          -157.201,
          -164.09134,
          -165.489,
          -166.99716,
          -168.49933
         ],
         "marker": {
          "color": [
           4,
           0,
           0,
           0,
           0,
           54,
           28,
           51,
           35,
           165,
           76,
           29,
           382,
           260,
           107,
           931,
           336,
           144,
           154,
           7,
           3,
           2,
           5,
           2,
           10,
           4,
           12,
           871,
           558,
           1828,
           151,
           530,
           7,
           2,
           1,
           0,
           0,
           0,
           1,
           9,
           30,
           54,
           17,
           8,
           4,
           24,
           11,
           41,
           11,
           4,
           29,
           12,
           2,
           0,
           5523,
           5110,
           3888,
           1463,
           1750,
           1270,
           90,
           5429,
           4763,
           3660,
           45,
           1780,
           3666,
           3771,
           8,
           1268,
           1562,
           2017,
           37,
           501,
           390,
           888,
           565,
           544,
           343,
           740,
           32,
           2009,
           950,
           2668,
           4188,
           1214,
           2133,
           2067,
           3010,
           4,
           0,
           0,
           1,
           0,
           0,
           0,
           0,
           0,
           4,
           7,
           77,
           7,
           1,
           1,
           7,
           9,
           1,
           4,
           7,
           13,
           17,
           5,
           12,
           0,
           0,
           0,
           0,
           0,
           0,
           5,
           1,
           2,
           8,
           5,
           24,
           3,
           10,
           37,
           6,
           8,
           20,
           29,
           101,
           1175,
           8222,
           615,
           519,
           957,
           1528,
           4225,
           892,
           41,
           1354,
           1344,
           57,
           153,
           8,
           13,
           1,
           6,
           0,
           507,
           13,
           24,
           110,
           25,
           221,
           32,
           4,
           2,
           73,
           0,
           0,
           67,
           0,
           2,
           8,
           6,
           14,
           12,
           29,
           37,
           7,
           18,
           67,
           7,
           6,
           0,
           0,
           3,
           0,
           1,
           4,
           5,
           0,
           0,
           3,
           131,
           9,
           32,
           6,
           15,
           93,
           181,
           63,
           68,
           23,
           6,
           202,
           1,
           4,
           6,
           1,
           0,
           5,
           2,
           3,
           19,
           585,
           713,
           610,
           112,
           822,
           5,
           19,
           27,
           13,
           133,
           2,
           0,
           2,
           730,
           1154,
           200,
           990,
           259,
           796,
           177,
           28,
           7,
           21,
           76,
           163,
           47,
           146,
           539,
           50,
           45,
           6,
           1,
           3,
           5,
           8,
           55,
           1130,
           472,
           375,
           555,
           154,
           26,
           16,
           1,
           369,
           232,
           12,
           6,
           25,
           53,
           2,
           0,
           24,
           139,
           1,
           0,
           155,
           0,
           16,
           0,
           3,
           1,
           2,
           1,
           0,
           0,
           1,
           0,
           0,
           1,
           7,
           2,
           0,
           4,
           1,
           1,
           0,
           1,
           2,
           1,
           2,
           38,
           77,
           15,
           70,
           33,
           89,
           58,
           3,
           9,
           2,
           0,
           0,
           0,
           2,
           1743,
           85,
           64,
           232,
           275,
           635,
           12,
           5,
           15,
           27,
           57,
           95,
           42,
           4,
           72,
           22,
           2590,
           333,
           561,
           73,
           1573,
           440,
           1106,
           301,
           1691,
           1,
           0,
           1,
           7,
           0,
           0,
           0,
           299
          ],
          "coloraxis": "coloraxis",
          "size": [
           4,
           0,
           0,
           0,
           0,
           54,
           28,
           51,
           35,
           165,
           76,
           29,
           382,
           260,
           107,
           931,
           336,
           144,
           154,
           7,
           3,
           2,
           5,
           2,
           10,
           4,
           12,
           871,
           558,
           1828,
           151,
           530,
           7,
           2,
           1,
           0,
           0,
           0,
           1,
           9,
           30,
           54,
           17,
           8,
           4,
           24,
           11,
           41,
           11,
           4,
           29,
           12,
           2,
           0,
           5523,
           5110,
           3888,
           1463,
           1750,
           1270,
           90,
           5429,
           4763,
           3660,
           45,
           1780,
           3666,
           3771,
           8,
           1268,
           1562,
           2017,
           37,
           501,
           390,
           888,
           565,
           544,
           343,
           740,
           32,
           2009,
           950,
           2668,
           4188,
           1214,
           2133,
           2067,
           3010,
           4,
           0,
           0,
           1,
           0,
           0,
           0,
           0,
           0,
           4,
           7,
           77,
           7,
           1,
           1,
           7,
           9,
           1,
           4,
           7,
           13,
           17,
           5,
           12,
           0,
           0,
           0,
           0,
           0,
           0,
           5,
           1,
           2,
           8,
           5,
           24,
           3,
           10,
           37,
           6,
           8,
           20,
           29,
           101,
           1175,
           8222,
           615,
           519,
           957,
           1528,
           4225,
           892,
           41,
           1354,
           1344,
           57,
           153,
           8,
           13,
           1,
           6,
           0,
           507,
           13,
           24,
           110,
           25,
           221,
           32,
           4,
           2,
           73,
           0,
           0,
           67,
           0,
           2,
           8,
           6,
           14,
           12,
           29,
           37,
           7,
           18,
           67,
           7,
           6,
           0,
           0,
           3,
           0,
           1,
           4,
           5,
           0,
           0,
           3,
           131,
           9,
           32,
           6,
           15,
           93,
           181,
           63,
           68,
           23,
           6,
           202,
           1,
           4,
           6,
           1,
           0,
           5,
           2,
           3,
           19,
           585,
           713,
           610,
           112,
           822,
           5,
           19,
           27,
           13,
           133,
           2,
           0,
           2,
           730,
           1154,
           200,
           990,
           259,
           796,
           177,
           28,
           7,
           21,
           76,
           163,
           47,
           146,
           539,
           50,
           45,
           6,
           1,
           3,
           5,
           8,
           55,
           1130,
           472,
           375,
           555,
           154,
           26,
           16,
           1,
           369,
           232,
           12,
           6,
           25,
           53,
           2,
           0,
           24,
           139,
           1,
           0,
           155,
           0,
           16,
           0,
           3,
           1,
           2,
           1,
           0,
           0,
           1,
           0,
           0,
           1,
           7,
           2,
           0,
           4,
           1,
           1,
           0,
           1,
           2,
           1,
           2,
           38,
           77,
           15,
           70,
           33,
           89,
           58,
           3,
           9,
           2,
           0,
           0,
           0,
           2,
           1743,
           85,
           64,
           232,
           275,
           635,
           12,
           5,
           15,
           27,
           57,
           95,
           42,
           4,
           72,
           22,
           2590,
           333,
           561,
           73,
           1573,
           440,
           1106,
           301,
           1691,
           1,
           0,
           1,
           7,
           0,
           0,
           0,
           299
          ],
          "sizemode": "area",
          "sizeref": 32.1171875
         },
         "mode": "markers",
         "name": "",
         "showlegend": false,
         "subplot": "map",
         "type": "scattermap"
        }
       ],
       "layout": {
        "autosize": true,
        "coloraxis": {
         "cmax": 7000,
         "cmin": 100,
         "colorbar": {
          "title": {
           "text": "CELLS_L"
          }
         },
         "colorscale": [
          [
           0,
           "rgb(254, 252, 205)"
          ],
          [
           0.09090909090909091,
           "rgb(239, 225, 156)"
          ],
          [
           0.18181818181818182,
           "rgb(221, 201, 106)"
          ],
          [
           0.2727272727272727,
           "rgb(194, 182, 59)"
          ],
          [
           0.36363636363636365,
           "rgb(157, 167, 21)"
          ],
          [
           0.45454545454545453,
           "rgb(116, 153, 5)"
          ],
          [
           0.5454545454545454,
           "rgb(75, 138, 20)"
          ],
          [
           0.6363636363636364,
           "rgb(35, 121, 36)"
          ],
          [
           0.7272727272727273,
           "rgb(11, 100, 44)"
          ],
          [
           0.8181818181818182,
           "rgb(18, 78, 43)"
          ],
          [
           0.9090909090909091,
           "rgb(25, 56, 34)"
          ],
          [
           1,
           "rgb(23, 35, 18)"
          ]
         ]
        },
        "legend": {
         "itemsizing": "constant",
         "tracegroupgap": 0
        },
        "map": {
         "center": {
          "lat": 69.62280142863095,
          "lon": -162
         },
         "domain": {
          "x": [
           0,
           1
          ],
          "y": [
           0,
           1
          ]
         },
         "style": "light",
         "zoom": 3.7
        },
        "mapbox": {
         "center": {
          "lat": 69.62280142863095,
          "lon": -164.6304241574405
         },
         "zoom": 3.7
        },
        "margin": {
         "t": 60
        },
        "template": {
         "data": {
          "bar": [
           {
            "error_x": {
             "color": "#2a3f5f"
            },
            "error_y": {
             "color": "#2a3f5f"
            },
            "marker": {
             "line": {
              "color": "#E5ECF6",
              "width": 0.5
             },
             "pattern": {
              "fillmode": "overlay",
              "size": 10,
              "solidity": 0.2
             }
            },
            "type": "bar"
           }
          ],
          "barpolar": [
           {
            "marker": {
             "line": {
              "color": "#E5ECF6",
              "width": 0.5
             },
             "pattern": {
              "fillmode": "overlay",
              "size": 10,
              "solidity": 0.2
             }
            },
            "type": "barpolar"
           }
          ],
          "carpet": [
           {
            "aaxis": {
             "endlinecolor": "#2a3f5f",
             "gridcolor": "white",
             "linecolor": "white",
             "minorgridcolor": "white",
             "startlinecolor": "#2a3f5f"
            },
            "baxis": {
             "endlinecolor": "#2a3f5f",
             "gridcolor": "white",
             "linecolor": "white",
             "minorgridcolor": "white",
             "startlinecolor": "#2a3f5f"
            },
            "type": "carpet"
           }
          ],
          "choropleth": [
           {
            "colorbar": {
             "outlinewidth": 0,
             "ticks": ""
            },
            "type": "choropleth"
           }
          ],
          "contour": [
           {
            "colorbar": {
             "outlinewidth": 0,
             "ticks": ""
            },
            "colorscale": [
             [
              0,
              "#0d0887"
             ],
             [
              0.1111111111111111,
              "#46039f"
             ],
             [
              0.2222222222222222,
              "#7201a8"
             ],
             [
              0.3333333333333333,
              "#9c179e"
             ],
             [
              0.4444444444444444,
              "#bd3786"
             ],
             [
              0.5555555555555556,
              "#d8576b"
             ],
             [
              0.6666666666666666,
              "#ed7953"
             ],
             [
              0.7777777777777778,
              "#fb9f3a"
             ],
             [
              0.8888888888888888,
              "#fdca26"
             ],
             [
              1,
              "#f0f921"
             ]
            ],
            "type": "contour"
           }
          ],
          "contourcarpet": [
           {
            "colorbar": {
             "outlinewidth": 0,
             "ticks": ""
            },
            "type": "contourcarpet"
           }
          ],
          "heatmap": [
           {
            "colorbar": {
             "outlinewidth": 0,
             "ticks": ""
            },
            "colorscale": [
             [
              0,
              "#0d0887"
             ],
             [
              0.1111111111111111,
              "#46039f"
             ],
             [
              0.2222222222222222,
              "#7201a8"
             ],
             [
              0.3333333333333333,
              "#9c179e"
             ],
             [
              0.4444444444444444,
              "#bd3786"
             ],
             [
              0.5555555555555556,
              "#d8576b"
             ],
             [
              0.6666666666666666,
              "#ed7953"
             ],
             [
              0.7777777777777778,
              "#fb9f3a"
             ],
             [
              0.8888888888888888,
              "#fdca26"
             ],
             [
              1,
              "#f0f921"
             ]
            ],
            "type": "heatmap"
           }
          ],
          "heatmapgl": [
           {
            "colorbar": {
             "outlinewidth": 0,
             "ticks": ""
            },
            "colorscale": [
             [
              0,
              "#0d0887"
             ],
             [
              0.1111111111111111,
              "#46039f"
             ],
             [
              0.2222222222222222,
              "#7201a8"
             ],
             [
              0.3333333333333333,
              "#9c179e"
             ],
             [
              0.4444444444444444,
              "#bd3786"
             ],
             [
              0.5555555555555556,
              "#d8576b"
             ],
             [
              0.6666666666666666,
              "#ed7953"
             ],
             [
              0.7777777777777778,
              "#fb9f3a"
             ],
             [
              0.8888888888888888,
              "#fdca26"
             ],
             [
              1,
              "#f0f921"
             ]
            ],
            "type": "heatmapgl"
           }
          ],
          "histogram": [
           {
            "marker": {
             "pattern": {
              "fillmode": "overlay",
              "size": 10,
              "solidity": 0.2
             }
            },
            "type": "histogram"
           }
          ],
          "histogram2d": [
           {
            "colorbar": {
             "outlinewidth": 0,
             "ticks": ""
            },
            "colorscale": [
             [
              0,
              "#0d0887"
             ],
             [
              0.1111111111111111,
              "#46039f"
             ],
             [
              0.2222222222222222,
              "#7201a8"
             ],
             [
              0.3333333333333333,
              "#9c179e"
             ],
             [
              0.4444444444444444,
              "#bd3786"
             ],
             [
              0.5555555555555556,
              "#d8576b"
             ],
             [
              0.6666666666666666,
              "#ed7953"
             ],
             [
              0.7777777777777778,
              "#fb9f3a"
             ],
             [
              0.8888888888888888,
              "#fdca26"
             ],
             [
              1,
              "#f0f921"
             ]
            ],
            "type": "histogram2d"
           }
          ],
          "histogram2dcontour": [
           {
            "colorbar": {
             "outlinewidth": 0,
             "ticks": ""
            },
            "colorscale": [
             [
              0,
              "#0d0887"
             ],
             [
              0.1111111111111111,
              "#46039f"
             ],
             [
              0.2222222222222222,
              "#7201a8"
             ],
             [
              0.3333333333333333,
              "#9c179e"
             ],
             [
              0.4444444444444444,
              "#bd3786"
             ],
             [
              0.5555555555555556,
              "#d8576b"
             ],
             [
              0.6666666666666666,
              "#ed7953"
             ],
             [
              0.7777777777777778,
              "#fb9f3a"
             ],
             [
              0.8888888888888888,
              "#fdca26"
             ],
             [
              1,
              "#f0f921"
             ]
            ],
            "type": "histogram2dcontour"
           }
          ],
          "mesh3d": [
           {
            "colorbar": {
             "outlinewidth": 0,
             "ticks": ""
            },
            "type": "mesh3d"
           }
          ],
          "parcoords": [
           {
            "line": {
             "colorbar": {
              "outlinewidth": 0,
              "ticks": ""
             }
            },
            "type": "parcoords"
           }
          ],
          "pie": [
           {
            "automargin": true,
            "type": "pie"
           }
          ],
          "scatter": [
           {
            "fillpattern": {
             "fillmode": "overlay",
             "size": 10,
             "solidity": 0.2
            },
            "type": "scatter"
           }
          ],
          "scatter3d": [
           {
            "line": {
             "colorbar": {
              "outlinewidth": 0,
              "ticks": ""
             }
            },
            "marker": {
             "colorbar": {
              "outlinewidth": 0,
              "ticks": ""
             }
            },
            "type": "scatter3d"
           }
          ],
          "scattercarpet": [
           {
            "marker": {
             "colorbar": {
              "outlinewidth": 0,
              "ticks": ""
             }
            },
            "type": "scattercarpet"
           }
          ],
          "scattergeo": [
           {
            "marker": {
             "colorbar": {
              "outlinewidth": 0,
              "ticks": ""
             }
            },
            "type": "scattergeo"
           }
          ],
          "scattergl": [
           {
            "marker": {
             "colorbar": {
              "outlinewidth": 0,
              "ticks": ""
             }
            },
            "type": "scattergl"
           }
          ],
          "scattermapbox": [
           {
            "marker": {
             "colorbar": {
              "outlinewidth": 0,
              "ticks": ""
             }
            },
            "type": "scattermapbox"
           }
          ],
          "scatterpolar": [
           {
            "marker": {
             "colorbar": {
              "outlinewidth": 0,
              "ticks": ""
             }
            },
            "type": "scatterpolar"
           }
          ],
          "scatterpolargl": [
           {
            "marker": {
             "colorbar": {
              "outlinewidth": 0,
              "ticks": ""
             }
            },
            "type": "scatterpolargl"
           }
          ],
          "scatterternary": [
           {
            "marker": {
             "colorbar": {
              "outlinewidth": 0,
              "ticks": ""
             }
            },
            "type": "scatterternary"
           }
          ],
          "surface": [
           {
            "colorbar": {
             "outlinewidth": 0,
             "ticks": ""
            },
            "colorscale": [
             [
              0,
              "#0d0887"
             ],
             [
              0.1111111111111111,
              "#46039f"
             ],
             [
              0.2222222222222222,
              "#7201a8"
             ],
             [
              0.3333333333333333,
              "#9c179e"
             ],
             [
              0.4444444444444444,
              "#bd3786"
             ],
             [
              0.5555555555555556,
              "#d8576b"
             ],
             [
              0.6666666666666666,
              "#ed7953"
             ],
             [
              0.7777777777777778,
              "#fb9f3a"
             ],
             [
              0.8888888888888888,
              "#fdca26"
             ],
             [
              1,
              "#f0f921"
             ]
            ],
            "type": "surface"
           }
          ],
          "table": [
           {
            "cells": {
             "fill": {
              "color": "#EBF0F8"
             },
             "line": {
              "color": "white"
             }
            },
            "header": {
             "fill": {
              "color": "#C8D4E3"
             },
             "line": {
              "color": "white"
             }
            },
            "type": "table"
           }
          ]
         },
         "layout": {
          "annotationdefaults": {
           "arrowcolor": "#2a3f5f",
           "arrowhead": 0,
           "arrowwidth": 1
          },
          "autotypenumbers": "strict",
          "coloraxis": {
           "colorbar": {
            "outlinewidth": 0,
            "ticks": ""
           }
          },
          "colorscale": {
           "diverging": [
            [
             0,
             "#8e0152"
            ],
            [
             0.1,
             "#c51b7d"
            ],
            [
             0.2,
             "#de77ae"
            ],
            [
             0.3,
             "#f1b6da"
            ],
            [
             0.4,
             "#fde0ef"
            ],
            [
             0.5,
             "#f7f7f7"
            ],
            [
             0.6,
             "#e6f5d0"
            ],
            [
             0.7,
             "#b8e186"
            ],
            [
             0.8,
             "#7fbc41"
            ],
            [
             0.9,
             "#4d9221"
            ],
            [
             1,
             "#276419"
            ]
           ],
           "sequential": [
            [
             0,
             "#0d0887"
            ],
            [
             0.1111111111111111,
             "#46039f"
            ],
            [
             0.2222222222222222,
             "#7201a8"
            ],
            [
             0.3333333333333333,
             "#9c179e"
            ],
            [
             0.4444444444444444,
             "#bd3786"
            ],
            [
             0.5555555555555556,
             "#d8576b"
            ],
            [
             0.6666666666666666,
             "#ed7953"
            ],
            [
             0.7777777777777778,
             "#fb9f3a"
            ],
            [
             0.8888888888888888,
             "#fdca26"
            ],
            [
             1,
             "#f0f921"
            ]
           ],
           "sequentialminus": [
            [
             0,
             "#0d0887"
            ],
            [
             0.1111111111111111,
             "#46039f"
            ],
            [
             0.2222222222222222,
             "#7201a8"
            ],
            [
             0.3333333333333333,
             "#9c179e"
            ],
            [
             0.4444444444444444,
             "#bd3786"
            ],
            [
             0.5555555555555556,
             "#d8576b"
            ],
            [
             0.6666666666666666,
             "#ed7953"
            ],
            [
             0.7777777777777778,
             "#fb9f3a"
            ],
            [
             0.8888888888888888,
             "#fdca26"
            ],
            [
             1,
             "#f0f921"
            ]
           ]
          },
          "colorway": [
           "#636efa",
           "#EF553B",
           "#00cc96",
           "#ab63fa",
           "#FFA15A",
           "#19d3f3",
           "#FF6692",
           "#B6E880",
           "#FF97FF",
           "#FECB52"
          ],
          "font": {
           "color": "#2a3f5f"
          },
          "geo": {
           "bgcolor": "white",
           "lakecolor": "white",
           "landcolor": "#E5ECF6",
           "showlakes": true,
           "showland": true,
           "subunitcolor": "white"
          },
          "hoverlabel": {
           "align": "left"
          },
          "hovermode": "closest",
          "mapbox": {
           "style": "light"
          },
          "paper_bgcolor": "white",
          "plot_bgcolor": "#E5ECF6",
          "polar": {
           "angularaxis": {
            "gridcolor": "white",
            "linecolor": "white",
            "ticks": ""
           },
           "bgcolor": "#E5ECF6",
           "radialaxis": {
            "gridcolor": "white",
            "linecolor": "white",
            "ticks": ""
           }
          },
          "scene": {
           "xaxis": {
            "backgroundcolor": "#E5ECF6",
            "gridcolor": "white",
            "gridwidth": 2,
            "linecolor": "white",
            "showbackground": true,
            "ticks": "",
            "zerolinecolor": "white"
           },
           "yaxis": {
            "backgroundcolor": "#E5ECF6",
            "gridcolor": "white",
            "gridwidth": 2,
            "linecolor": "white",
            "showbackground": true,
            "ticks": "",
            "zerolinecolor": "white"
           },
           "zaxis": {
            "backgroundcolor": "#E5ECF6",
            "gridcolor": "white",
            "gridwidth": 2,
            "linecolor": "white",
            "showbackground": true,
            "ticks": "",
            "zerolinecolor": "white"
           }
          },
          "shapedefaults": {
           "line": {
            "color": "#2a3f5f"
           }
          },
          "ternary": {
           "aaxis": {
            "gridcolor": "white",
            "linecolor": "white",
            "ticks": ""
           },
           "baxis": {
            "gridcolor": "white",
            "linecolor": "white",
            "ticks": ""
           },
           "bgcolor": "#E5ECF6",
           "caxis": {
            "gridcolor": "white",
            "linecolor": "white",
            "ticks": ""
           }
          },
          "title": {
           "x": 0.05
          },
          "xaxis": {
           "automargin": true,
           "gridcolor": "white",
           "linecolor": "white",
           "ticks": "",
           "title": {
            "standoff": 15
           },
           "zerolinecolor": "white",
           "zerolinewidth": 2
          },
          "yaxis": {
           "automargin": true,
           "gridcolor": "white",
           "linecolor": "white",
           "ticks": "",
           "title": {
            "standoff": 15
           },
           "zerolinecolor": "white",
           "zerolinewidth": 2
          }
         }
        },
        "title": {
         "text": "Concentration of Alexandrium Planktonic in Northwestern Alaska"
        }
       }
      },
      "image/png": "[encoded data removed]",
      "text/html": [
       "<div>                            <div id=\"8363c589-5f07-4a0e-bad7-5a4ab43a543d\" class=\"plotly-graph-div\" style=\"height:600px; width:100%;\"></div>            <script type=\"text/javascript\">                require([\"plotly\"], function(Plotly) {                    window.PLOTLYENV=window.PLOTLYENV || {};                                    if (document.getElementById(\"8363c589-5f07-4a0e-bad7-5a4ab43a543d\")) {                    Plotly.newPlot(                        \"8363c589-5f07-4a0e-bad7-5a4ab43a543d\",                        [{\"hovertemplate\":\"CELLS_L=%{marker.color}\\u003cbr\\u003eLAT=%{lat}\\u003cbr\\u003eLON=%{lon}\\u003cextra\\u003e\\u003c\\u002fextra\\u003e\",\"lat\":[64.6705,64.9912,64.9598,64.6718,64.68,66.417,67.1642,68.3012,68.2462,68.1902,68.1357,68.0153,67.8968,67.7853,67.677,70.0162,70.2197,71.8302,71.8297,71.7052,71.6005,71.4485,71.3367,71.195,71.0847,71.2327,70.9725,70.849,70.7882,70.7172,70.653,70.58,71.0483,71.09,71.2238,71.3507,71.4805,71.6103,71.7755,71.2468,71.2888,71.3262,71.3727,71.4095,71.4543,71.4953,71.5358,71.5835,71.6262,71.95,71.496,72.2347,72.1093,72.6198,70.2598,70.2598,70.2598,70.1648,70.1648,70.1648,70.1648,70.0578,70.0578,70.0578,70.0578,69.9567,69.9567,69.9567,69.9567,69.879,69.879,69.879,69.879,69.7797,69.7797,69.7797,69.7797,69.6832,69.6832,69.6832,69.6832,69.5815,69.5815,69.5815,69.5815,69.4962,69.4962,69.4962,69.4962,61.2478333,61.2333333,61.4145,61.9960167,63.83065,64.2537167,63.3719833,63.4806167,62.0048,62.0442,62.2162,62.392,62.4692,63.294,62.5528,62.7885,63.0345,63.2768,63.6023,63.8755,64.11166667,64.20983333,64.29083333,64.15833,64.36416667,64.6728,64.6717,64.6695,64.6705,64.6742,64.6722,64.38917,64.6815,64.6707,64.6723,64.6762,64.6718,64.9623,64.993,65.003,65.535,66.01166667,66.54166667,66.85283333,66.9365,67.72166667,68.0303,67.949,67.75373333,67.6745,67.7812,67.8933,68.0117,68.1297,68.185,67.54083,68.2432,68.3028,68.50133333,68.78636667,69.08116667,69.37583333,67.910835,69.6705,69.91166667,70.18033333,70.45966667,70.66166667,70.91616667,71.0852,71.2232,68.6725,71.3457,71.4793,68.673,71.6047,71.7375,72.898,73.0177,73.137,70.218666,73.2592,70.017166,73.3805,73.6775,73.7988,73.9405,71.82716,74.1757,71.82567,71.707,71.60603,74.3447,71.45153,71.342964,71.2162,74.6742,74.6147,74.355,71.200165,74.2202,71.089836,70.97483,70.853,70.7225,70.583336,70.706,74.2867,74.1573,70.84237,73.9707,73.7435,73.521,71.618,71.5742,71.5343,71.4938,71.4047,71.3717,71.3242,71.289,71.251,72.4722,70.83567,71.2145,71.9082,72.0308,72.1557,72.3473,71.6,71.59634,71.04643,71.5357,71.5957,71.20617,71.6498,71.7147,71.7815,71.8387,71.8928,71.9517,72.0202,71.87883,71.7095,71.86083333,71.50317,71.4285,71.86766667,71.89783333,71.8025,71.6535,71.46166667,71.3075,71.14966667,70.97066667,70.77633333,70.66666667,70.55833333,70.41,70.2613,70.2613,70.2613,70.2613,70.1705,70.1705,70.1705,70.1705,70.0582,70.0582,70.0582,70.0582,69.9595,69.9595,69.9595,69.9595,70.1922833,69.883,69.883,69.883,69.883,69.785,69.785,69.785,69.785,69.6875,69.6875,69.6875,69.6875,69.584,69.584,69.584,69.584,69.5012,69.5012,69.5012,69.5012,69.359,69.07116667,68.76233333,68.4875833,68.408,68.075,68.1726,67.88366667,67.6295,67.82145,67.8034667,67.2336,67.6695,67.3172,66.8029167,65.0820167,64.7540667,69.7149333,70.2703333,72.499,72.5005,72.50017,72.49983,72.501335,72.49817,72.7685,72.896835,73.104836,72.3705,72.25362,72.25362,71.00117,71.00083,71.001335,70.99934,71.00183,71.00117,71.00117,71.00217,71.754166,71.751335,71.755165,71.74983,71.751335,71.751,71.75267,71.751,70.25267,70.24917,70.24834,70.25117],\"legendgroup\":\"\",\"lon\":[-168.2342,-169.146,-169.899,-169.9258,-169.1002,-168.6775,-168.6635,-166.9308,-167.1255,-167.3027,-167.4915,-167.8798,-168.248,-168.601,-168.9568,-166.855,-167.7935,-165.9698,-166.0737,-165.6028,-165.3038,-164.919,-164.6127,-164.2018,-163.8018,-164.2207,-163.5642,-163.1872,-163.0097,-162.8565,-162.6662,-162.4912,-160.4822,-161.1928,-161.2893,-161.3958,-161.5048,-161.6152,-161.5865,-157.135,-157.2213,-157.3067,-157.3803,-157.4497,-157.5532,-157.6265,-157.7107,-157.8175,-157.9005,-153.3597,-154.4728,-154.6282,-155.54,-156.6018,-168.5445,-168.5445,-168.5445,-168.1307,-168.1307,-168.1307,-168.1307,-167.6565,-167.6565,-167.6565,-167.6565,-167.2213,-167.2213,-167.2213,-167.2213,-166.8215,-166.8215,-166.8215,-166.8215,-166.44,-166.44,-166.44,-166.44,-166.0928,-166.0928,-166.0928,-166.0928,-165.7402,-165.7402,-165.7402,-165.7402,-165.3785,-165.3785,-165.3785,-165.3785,-168.79133,-168.78333,-168.603,-168.11087,-166.19028,-165.71275,-168.71308,-169.06645,-175.0692,-175.2153,-174.8753,-174.5642,-174.0843,-168.4248333,-173.5547,-173.4988,-173.4617,-173.074,-172.5865,-171.8075,-171.0083333,-169.4816667,-168.3236667,-171.48183,-167.0966667,-166.9555,-167.2817,-167.597,-167.9062,-168.2292,-168.6845,-167.076,-169.0872,-169.4982,-169.9172,-170.2585,-170.646,-169.8977,-169.1325,-168.221,-168.4455,-168.3843333,-168.405,-168.4921667,-168.5175,-168.7421,-168.8223,-168.8688667,-168.9218667,-168.939,-168.6063,-168.2302,-167.8857,-167.4898,-167.3017,-164.8945,-167.1383,-166.9432,-167.1411667,-166.90265,-166.6479833,-166.2288333,-168.19467,-165.7413667,-165.3403333,-164.8848333,-164.0406667,-163.1225,-161.9883333,-161.2008,-161.2785,-167.74234,-161.3978,-161.4993,-167.74733,-161.6253,-161.7335,-160.8428,-160.6458,-160.4497,-167.79483,-160.2483,-166.8655,-160.0643,-159.5202,-159.2962,-159.7517,-166.05,-160.6078,-165.98384,-165.60767,-165.30513,-161.1765,-164.9233,-164.61781,-164.25798,-162.3463,-163.3185,-164.6605,-164.20967,-165.3528,-163.79866,-163.56366,-163.18317,-162.85083,-162.4861,-162.44687,-165.0048,-165.6782,-163.12099,-166.0023,-166.004,-166.0057,-157.9172,-157.8047,-157.7352,-157.6458,-157.4598,-157.3893,-157.3215,-157.2193,-157.1557,-155.4207,-163.123,-164.2575,-156.1932,-156.028,-155.8478,-155.6042,-161.5155,-161.51534,-160.49507,-154.0313,-153.9502,-158.01517,-153.8398,-153.7393,-153.63,-153.5562,-153.459,-153.3652,-153.2562,-153.58083,-153.7505,-153.9415,-154.10217,-154.23866,-154.6635,-156.295,-157.6531667,-158.9925,-160.7086667,-162.0726667,-163.4673333,-164.7921667,-166.0885,-166.8171667,-167.3641667,-167.9495,-168.5183,-168.5183,-168.5183,-168.5183,-168.1275,-168.1275,-168.1275,-168.1275,-167.6458,-167.6458,-167.6458,-167.6458,-167.2257,-167.2257,-167.2257,-167.2257,-164.51067,-166.8177,-166.8177,-166.8177,-166.8177,-166.452,-166.452,-166.452,-166.452,-166.094,-166.094,-166.094,-166.094,-165.7427,-165.7427,-165.7427,-165.7427,-165.3765,-165.3765,-165.3765,-165.3765,-166.6506667,-167.2638333,-167.9241667,-167.48833,-168.3705,-168.7856667,-167.99145,-168.9293333,-168.8373333,-168.52122,-168.54508,-168.70667,-168.73816,-168.64468,-168.55442,-167.50418,-166.83743,-166.94582,-166.99018,-168.5021667,-166.81583,-165.18433,-163.49817,-161.90767,-160.20366,-159.63533,-159.34067,-158.9395,-157.16766,-157.41747,-157.41747,-157.80183,-159.293,-160.787,-162.39317,-163.90334,-165.40266,-167.00433,-168.504,-168.48883,-166.89116,-165.3115,-163.69467,-161.9925,-160.40033,-158.79784,-157.201,-164.09134,-165.489,-166.99716,-168.49933],\"marker\":{\"color\":[4,0,0,0,0,54,28,51,35,165,76,29,382,260,107,931,336,144,154,7,3,2,5,2,10,4,12,871,558,1828,151,530,7,2,1,0,0,0,1,9,30,54,17,8,4,24,11,41,11,4,29,12,2,0,5523,5110,3888,1463,1750,1270,90,5429,4763,3660,45,1780,3666,3771,8,1268,1562,2017,37,501,390,888,565,544,343,740,32,2009,950,2668,4188,1214,2133,2067,3010,4,0,0,1,0,0,0,0,0,4,7,77,7,1,1,7,9,1,4,7,13,17,5,12,0,0,0,0,0,0,5,1,2,8,5,24,3,10,37,6,8,20,29,101,1175,8222,615,519,957,1528,4225,892,41,1354,1344,57,153,8,13,1,6,0,507,13,24,110,25,221,32,4,2,73,0,0,67,0,2,8,6,14,12,29,37,7,18,67,7,6,0,0,3,0,1,4,5,0,0,3,131,9,32,6,15,93,181,63,68,23,6,202,1,4,6,1,0,5,2,3,19,585,713,610,112,822,5,19,27,13,133,2,0,2,730,1154,200,990,259,796,177,28,7,21,76,163,47,146,539,50,45,6,1,3,5,8,55,1130,472,375,555,154,26,16,1,369,232,12,6,25,53,2,0,24,139,1,0,155,0,16,0,3,1,2,1,0,0,1,0,0,1,7,2,0,4,1,1,0,1,2,1,2,38,77,15,70,33,89,58,3,9,2,0,0,0,2,1743,85,64,232,275,635,12,5,15,27,57,95,42,4,72,22,2590,333,561,73,1573,440,1106,301,1691,1,0,1,7,0,0,0,299],\"coloraxis\":\"coloraxis\",\"size\":[4,0,0,0,0,54,28,51,35,165,76,29,382,260,107,931,336,144,154,7,3,2,5,2,10,4,12,871,558,1828,151,530,7,2,1,0,0,0,1,9,30,54,17,8,4,24,11,41,11,4,29,12,2,0,5523,5110,3888,1463,1750,1270,90,5429,4763,3660,45,1780,3666,3771,8,1268,1562,2017,37,501,390,888,565,544,343,740,32,2009,950,2668,4188,1214,2133,2067,3010,4,0,0,1,0,0,0,0,0,4,7,77,7,1,1,7,9,1,4,7,13,17,5,12,0,0,0,0,0,0,5,1,2,8,5,24,3,10,37,6,8,20,29,101,1175,8222,615,519,957,1528,4225,892,41,1354,1344,57,153,8,13,1,6,0,507,13,24,110,25,221,32,4,2,73,0,0,67,0,2,8,6,14,12,29,37,7,18,67,7,6,0,0,3,0,1,4,5,0,0,3,131,9,32,6,15,93,181,63,68,23,6,202,1,4,6,1,0,5,2,3,19,585,713,610,112,822,5,19,27,13,133,2,0,2,730,1154,200,990,259,796,177,28,7,21,76,163,47,146,539,50,45,6,1,3,5,8,55,1130,472,375,555,154,26,16,1,369,232,12,6,25,53,2,0,24,139,1,0,155,0,16,0,3,1,2,1,0,0,1,0,0,1,7,2,0,4,1,1,0,1,2,1,2,38,77,15,70,33,89,58,3,9,2,0,0,0,2,1743,85,64,232,275,635,12,5,15,27,57,95,42,4,72,22,2590,333,561,73,1573,440,1106,301,1691,1,0,1,7,0,0,0,299],\"sizemode\":\"area\",\"sizeref\":32.1171875},\"mode\":\"markers\",\"name\":\"\",\"showlegend\":false,\"subplot\":\"map\",\"type\":\"scattermap\"}],                        {\"template\":{\"data\":{\"histogram2dcontour\":[{\"type\":\"histogram2dcontour\",\"colorbar\":{\"outlinewidth\":0,\"ticks\":\"\"},\"colorscale\":[[0.0,\"#0d0887\"],[0.1111111111111111,\"#46039f\"],[0.2222222222222222,\"#7201a8\"],[0.3333333333333333,\"#9c179e\"],[0.4444444444444444,\"#bd3786\"],[0.5555555555555556,\"#d8576b\"],[0.6666666666666666,\"#ed7953\"],[0.7777777777777778,\"#fb9f3a\"],[0.8888888888888888,\"#fdca26\"],[1.0,\"#f0f921\"]]}],\"choropleth\":[{\"type\":\"choropleth\",\"colorbar\":{\"outlinewidth\":0,\"ticks\":\"\"}}],\"histogram2d\":[{\"type\":\"histogram2d\",\"colorbar\":{\"outlinewidth\":0,\"ticks\":\"\"},\"colorscale\":[[0.0,\"#0d0887\"],[0.1111111111111111,\"#46039f\"],[0.2222222222222222,\"#7201a8\"],[0.3333333333333333,\"#9c179e\"],[0.4444444444444444,\"#bd3786\"],[0.5555555555555556,\"#d8576b\"],[0.6666666666666666,\"#ed7953\"],[0.7777777777777778,\"#fb9f3a\"],[0.8888888888888888,\"#fdca26\"],[1.0,\"#f0f921\"]]}],\"heatmap\":[{\"type\":\"heatmap\",\"colorbar\":{\"outlinewidth\":0,\"ticks\":\"\"},\"colorscale\":[[0.0,\"#0d0887\"],[0.1111111111111111,\"#46039f\"],[0.2222222222222222,\"#7201a8\"],[0.3333333333333333,\"#9c179e\"],[0.4444444444444444,\"#bd3786\"],[0.5555555555555556,\"#d8576b\"],[0.6666666666666666,\"#ed7953\"],[0.7777777777777778,\"#fb9f3a\"],[0.8888888888888888,\"#fdca26\"],[1.0,\"#f0f921\"]]}],\"heatmapgl\":[{\"type\":\"heatmapgl\",\"colorbar\":{\"outlinewidth\":0,\"ticks\":\"\"},\"colorscale\":[[0.0,\"#0d0887\"],[0.1111111111111111,\"#46039f\"],[0.2222222222222222,\"#7201a8\"],[0.3333333333333333,\"#9c179e\"],[0.4444444444444444,\"#bd3786\"],[0.5555555555555556,\"#d8576b\"],[0.6666666666666666,\"#ed7953\"],[0.7777777777777778,\"#fb9f3a\"],[0.8888888888888888,\"#fdca26\"],[1.0,\"#f0f921\"]]}],\"contourcarpet\":[{\"type\":\"contourcarpet\",\"colorbar\":{\"outlinewidth\":0,\"ticks\":\"\"}}],\"contour\":[{\"type\":\"contour\",\"colorbar\":{\"outlinewidth\":0,\"ticks\":\"\"},\"colorscale\":[[0.0,\"#0d0887\"],[0.1111111111111111,\"#46039f\"],[0.2222222222222222,\"#7201a8\"],[0.3333333333333333,\"#9c179e\"],[0.4444444444444444,\"#bd3786\"],[0.5555555555555556,\"#d8576b\"],[0.6666666666666666,\"#ed7953\"],[0.7777777777777778,\"#fb9f3a\"],[0.8888888888888888,\"#fdca26\"],[1.0,\"#f0f921\"]]}],\"surface\":[{\"type\":\"surface\",\"colorbar\":{\"outlinewidth\":0,\"ticks\":\"\"},\"colorscale\":[[0.0,\"#0d0887\"],[0.1111111111111111,\"#46039f\"],[0.2222222222222222,\"#7201a8\"],[0.3333333333333333,\"#9c179e\"],[0.4444444444444444,\"#bd3786\"],[0.5555555555555556,\"#d8576b\"],[0.6666666666666666,\"#ed7953\"],[0.7777777777777778,\"#fb9f3a\"],[0.8888888888888888,\"#fdca26\"],[1.0,\"#f0f921\"]]}],\"mesh3d\":[{\"type\":\"mesh3d\",\"colorbar\":{\"outlinewidth\":0,\"ticks\":\"\"}}],\"scatter\":[{\"fillpattern\":{\"fillmode\":\"overlay\",\"size\":10,\"solidity\":0.2},\"type\":\"scatter\"}],\"parcoords\":[{\"type\":\"parcoords\",\"line\":{\"colorbar\":{\"outlinewidth\":0,\"ticks\":\"\"}}}],\"scatterpolargl\":[{\"type\":\"scatterpolargl\",\"marker\":{\"colorbar\":{\"outlinewidth\":0,\"ticks\":\"\"}}}],\"bar\":[{\"error_x\":{\"color\":\"#2a3f5f\"},\"error_y\":{\"color\":\"#2a3f5f\"},\"marker\":{\"line\":{\"color\":\"#E5ECF6\",\"width\":0.5},\"pattern\":{\"fillmode\":\"overlay\",\"size\":10,\"solidity\":0.2}},\"type\":\"bar\"}],\"scattergeo\":[{\"type\":\"scattergeo\",\"marker\":{\"colorbar\":{\"outlinewidth\":0,\"ticks\":\"\"}}}],\"scatterpolar\":[{\"type\":\"scatterpolar\",\"marker\":{\"colorbar\":{\"outlinewidth\":0,\"ticks\":\"\"}}}],\"histogram\":[{\"marker\":{\"pattern\":{\"fillmode\":\"overlay\",\"size\":10,\"solidity\":0.2}},\"type\":\"histogram\"}],\"scattergl\":[{\"type\":\"scattergl\",\"marker\":{\"colorbar\":{\"outlinewidth\":0,\"ticks\":\"\"}}}],\"scatter3d\":[{\"type\":\"scatter3d\",\"line\":{\"colorbar\":{\"outlinewidth\":0,\"ticks\":\"\"}},\"marker\":{\"colorbar\":{\"outlinewidth\":0,\"ticks\":\"\"}}}],\"scattermapbox\":[{\"type\":\"scattermapbox\",\"marker\":{\"colorbar\":{\"outlinewidth\":0,\"ticks\":\"\"}}}],\"scatterternary\":[{\"type\":\"scatterternary\",\"marker\":{\"colorbar\":{\"outlinewidth\":0,\"ticks\":\"\"}}}],\"scattercarpet\":[{\"type\":\"scattercarpet\",\"marker\":{\"colorbar\":{\"outlinewidth\":0,\"ticks\":\"\"}}}],\"carpet\":[{\"aaxis\":{\"endlinecolor\":\"#2a3f5f\",\"gridcolor\":\"white\",\"linecolor\":\"white\",\"minorgridcolor\":\"white\",\"startlinecolor\":\"#2a3f5f\"},\"baxis\":{\"endlinecolor\":\"#2a3f5f\",\"gridcolor\":\"white\",\"linecolor\":\"white\",\"minorgridcolor\":\"white\",\"startlinecolor\":\"#2a3f5f\"},\"type\":\"carpet\"}],\"table\":[{\"cells\":{\"fill\":{\"color\":\"#EBF0F8\"},\"line\":{\"color\":\"white\"}},\"header\":{\"fill\":{\"color\":\"#C8D4E3\"},\"line\":{\"color\":\"white\"}},\"type\":\"table\"}],\"barpolar\":[{\"marker\":{\"line\":{\"color\":\"#E5ECF6\",\"width\":0.5},\"pattern\":{\"fillmode\":\"overlay\",\"size\":10,\"solidity\":0.2}},\"type\":\"barpolar\"}],\"pie\":[{\"automargin\":true,\"type\":\"pie\"}]},\"layout\":{\"autotypenumbers\":\"strict\",\"colorway\":[\"#636efa\",\"#EF553B\",\"#00cc96\",\"#ab63fa\",\"#FFA15A\",\"#19d3f3\",\"#FF6692\",\"#B6E880\",\"#FF97FF\",\"#FECB52\"],\"font\":{\"color\":\"#2a3f5f\"},\"hovermode\":\"closest\",\"hoverlabel\":{\"align\":\"left\"},\"paper_bgcolor\":\"white\",\"plot_bgcolor\":\"#E5ECF6\",\"polar\":{\"bgcolor\":\"#E5ECF6\",\"angularaxis\":{\"gridcolor\":\"white\",\"linecolor\":\"white\",\"ticks\":\"\"},\"radialaxis\":{\"gridcolor\":\"white\",\"linecolor\":\"white\",\"ticks\":\"\"}},\"ternary\":{\"bgcolor\":\"#E5ECF6\",\"aaxis\":{\"gridcolor\":\"white\",\"linecolor\":\"white\",\"ticks\":\"\"},\"baxis\":{\"gridcolor\":\"white\",\"linecolor\":\"white\",\"ticks\":\"\"},\"caxis\":{\"gridcolor\":\"white\",\"linecolor\":\"white\",\"ticks\":\"\"}},\"coloraxis\":{\"colorbar\":{\"outlinewidth\":0,\"ticks\":\"\"}},\"colorscale\":{\"sequential\":[[0.0,\"#0d0887\"],[0.1111111111111111,\"#46039f\"],[0.2222222222222222,\"#7201a8\"],[0.3333333333333333,\"#9c179e\"],[0.4444444444444444,\"#bd3786\"],[0.5555555555555556,\"#d8576b\"],[0.6666666666666666,\"#ed7953\"],[0.7777777777777778,\"#fb9f3a\"],[0.8888888888888888,\"#fdca26\"],[1.0,\"#f0f921\"]],\"sequentialminus\":[[0.0,\"#0d0887\"],[0.1111111111111111,\"#46039f\"],[0.2222222222222222,\"#7201a8\"],[0.3333333333333333,\"#9c179e\"],[0.4444444444444444,\"#bd3786\"],[0.5555555555555556,\"#d8576b\"],[0.6666666666666666,\"#ed7953\"],[0.7777777777777778,\"#fb9f3a\"],[0.8888888888888888,\"#fdca26\"],[1.0,\"#f0f921\"]],\"diverging\":[[0,\"#8e0152\"],[0.1,\"#c51b7d\"],[0.2,\"#de77ae\"],[0.3,\"#f1b6da\"],[0.4,\"#fde0ef\"],[0.5,\"#f7f7f7\"],[0.6,\"#e6f5d0\"],[0.7,\"#b8e186\"],[0.8,\"#7fbc41\"],[0.9,\"#4d9221\"],[1,\"#276419\"]]},\"xaxis\":{\"gridcolor\":\"white\",\"linecolor\":\"white\",\"ticks\":\"\",\"title\":{\"standoff\":15},\"zerolinecolor\":\"white\",\"automargin\":true,\"zerolinewidth\":2},\"yaxis\":{\"gridcolor\":\"white\",\"linecolor\":\"white\",\"ticks\":\"\",\"title\":{\"standoff\":15},\"zerolinecolor\":\"white\",\"automargin\":true,\"zerolinewidth\":2},\"scene\":{\"xaxis\":{\"backgroundcolor\":\"#E5ECF6\",\"gridcolor\":\"white\",\"linecolor\":\"white\",\"showbackground\":true,\"ticks\":\"\",\"zerolinecolor\":\"white\",\"gridwidth\":2},\"yaxis\":{\"backgroundcolor\":\"#E5ECF6\",\"gridcolor\":\"white\",\"linecolor\":\"white\",\"showbackground\":true,\"ticks\":\"\",\"zerolinecolor\":\"white\",\"gridwidth\":2},\"zaxis\":{\"backgroundcolor\":\"#E5ECF6\",\"gridcolor\":\"white\",\"linecolor\":\"white\",\"showbackground\":true,\"ticks\":\"\",\"zerolinecolor\":\"white\",\"gridwidth\":2}},\"shapedefaults\":{\"line\":{\"color\":\"#2a3f5f\"}},\"annotationdefaults\":{\"arrowcolor\":\"#2a3f5f\",\"arrowhead\":0,\"arrowwidth\":1},\"geo\":{\"bgcolor\":\"white\",\"landcolor\":\"#E5ECF6\",\"subunitcolor\":\"white\",\"showland\":true,\"showlakes\":true,\"lakecolor\":\"white\"},\"title\":{\"x\":0.05},\"mapbox\":{\"style\":\"light\"}}},\"map\":{\"domain\":{\"x\":[0.0,1.0],\"y\":[0.0,1.0]},\"center\":{\"lat\":69.62280142863095,\"lon\":-162},\"zoom\":3.7,\"style\":\"light\"},\"coloraxis\":{\"colorbar\":{\"title\":{\"text\":\"CELLS_L\"}},\"colorscale\":[[0.0,\"rgb(254, 252, 205)\"],[0.09090909090909091,\"rgb(239, 225, 156)\"],[0.18181818181818182,\"rgb(221, 201, 106)\"],[0.2727272727272727,\"rgb(194, 182, 59)\"],[0.36363636363636365,\"rgb(157, 167, 21)\"],[0.45454545454545453,\"rgb(116, 153, 5)\"],[0.5454545454545454,\"rgb(75, 138, 20)\"],[0.6363636363636364,\"rgb(35, 121, 36)\"],[0.7272727272727273,\"rgb(11, 100, 44)\"],[0.8181818181818182,\"rgb(18, 78, 43)\"],[0.9090909090909091,\"rgb(25, 56, 34)\"],[1.0,\"rgb(23, 35, 18)\"]],\"cmin\":100,\"cmax\":7000},\"legend\":{\"tracegroupgap\":0,\"itemsizing\":\"constant\"},\"margin\":{\"t\":60},\"height\":600,\"mapbox\":{\"center\":{\"lat\":69.62280142863095,\"lon\":-164.6304241574405},\"zoom\":3.7},\"title\":{\"text\":\"Concentration of Alexandrium Planktonic in Northwestern Alaska\"}},                        {\"responsive\": true}                    ).then(function(){\n",
       "                            \n",
       "var gd = document.getElementById('8363c589-5f07-4a0e-bad7-5a4ab43a543d');\n",
       "var x = new MutationObserver(function (mutations, observer) {{\n",
       "        var display = window.getComputedStyle(gd).display;\n",
       "        if (!display || display === 'none') {{\n",
       "            console.log([gd, 'removed!']);\n",
       "            Plotly.purge(gd);\n",
       "            observer.disconnect();\n",
       "        }}\n",
       "}});\n",
       "\n",
       "// Listen for the removal of the full notebook cells\n",
       "var notebookContainer = gd.closest('#notebook-container');\n",
       "if (notebookContainer) {{\n",
       "    x.observe(notebookContainer, {childList: true});\n",
       "}}\n",
       "\n",
       "// Listen for the clearing of the current output cell\n",
       "var outputEl = gd.closest('.output');\n",
       "if (outputEl) {{\n",
       "    x.observe(outputEl, {childList: true});\n",
       "}}\n",
       "\n",
       "                        })                };                });            </script>        </div>"
      ]
     },
     "metadata": {},
     "output_type": "display_data"
    }
   ],
   "source": [
    "fig = px.scatter_map(DFproject_mask,\n",
    "                 lat='LAT',\n",
    "                 lon='LON',\n",
    "                color = 'CELLS_L',\n",
    "                size = 'CELLS_L',\n",
    "                color_continuous_scale ='speed',\n",
    "                size_max = 16,\n",
    "                zoom = 3.7,\n",
    "                range_color = [100,7000],\n",
    "                height = 600)\n",
    "fig.update_layout(map_style = 'light',\n",
    "                  map_center_lon = -162, \n",
    "                   title = 'Concentration of Alexandrium Planktonic in Northwestern Alaska')\n",
    "fig.show()"
   ]
  },
  {
   "cell_type": "code",
   "execution_count": null,
   "id": "26d2e186-6851-417a-82bb-745876ec5d75",
   "metadata": {},
   "outputs": [],
   "source": []
  }
 ],
 "metadata": {
  "kernelspec": {
   "display_name": "Python 3 (ipykernel)",
   "language": "python",
   "name": "python3"
  },
  "language_info": {
   "codemirror_mode": {
    "name": "ipython",
    "version": 3
   },
   "file_extension": ".py",
   "mimetype": "text/x-python",
   "name": "python",
   "nbconvert_exporter": "python",
   "pygments_lexer": "ipython3",
   "version": "3.12.2"
  }
 },
 "nbformat": 4,
 "nbformat_minor": 5
}
